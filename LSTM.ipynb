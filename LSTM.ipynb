{
 "cells": [
  {
   "cell_type": "code",
   "execution_count": null,
   "metadata": {
    "id": "3Xg-5mVEV_dZ"
   },
   "outputs": [],
   "source": [
    "%reset"
   ]
  },
  {
   "cell_type": "code",
   "execution_count": null,
   "metadata": {
    "id": "1KpAoaflH-9T",
    "scrolled": true
   },
   "outputs": [],
   "source": [
    "pip install pyts matplotlib "
   ]
  },
  {
   "cell_type": "code",
   "execution_count": 2,
   "metadata": {
    "colab": {
     "base_uri": "https://localhost:8080/"
    },
    "id": "wCRML9qSD98m",
    "outputId": "5f3d33b7-a5f6-4a31-de41-e73cdc6a2a92"
   },
   "outputs": [
    {
     "name": "stdout",
     "output_type": "stream",
     "text": [
      "2.5.0\n",
      "Num GPUs Available:  1\n"
     ]
    }
   ],
   "source": [
    "import h5py\n",
    "import numpy as np\n",
    "from sklearn.model_selection import train_test_split\n",
    "from sklearn.metrics import classification_report, confusion_matrix\n",
    "from sklearn.model_selection import train_test_split, KFold,StratifiedKFold\n",
    "from sklearn.metrics import precision_recall_fscore_support as score\n",
    "\n",
    "import matplotlib.pyplot as plt\n",
    "import itertools \n",
    "import pyts\n",
    "from pyts.approximation import PiecewiseAggregateApproximation\n",
    "import os \n",
    "\n",
    "import tensorflow as tf\n",
    "from tensorflow import keras\n",
    "from tensorflow.keras import layers\n",
    "from tensorflow.keras import optimizers\n",
    "from tensorflow.keras.layers import Convolution2D,Conv2D, Dense,Dropout, Flatten, Activation, MaxPooling2D, Input, Conv1D, GlobalAveragePooling1D, TimeDistributed, GRU, LSTM\n",
    "from tensorflow.keras.models import Model\n",
    "\n",
    "\n",
    "import random\n",
    "print(tf.__version__)\n",
    "print(\"Num GPUs Available: \", len(tf.config.list_physical_devices('GPU')))"
   ]
  },
  {
   "cell_type": "code",
   "execution_count": 3,
   "metadata": {
    "id": "Ymx0QM6fV_dh",
    "outputId": "a9ba9dc8-da89-4d31-94f6-c189415c6b84"
   },
   "outputs": [
    {
     "data": {
      "text/plain": [
       "[PhysicalDevice(name='/physical_device:GPU:0', device_type='GPU')]"
      ]
     },
     "execution_count": 3,
     "metadata": {},
     "output_type": "execute_result"
    }
   ],
   "source": [
    "tf.config.list_physical_devices('GPU')"
   ]
  },
  {
   "cell_type": "code",
   "execution_count": 4,
   "metadata": {
    "colab": {
     "base_uri": "https://localhost:8080/"
    },
    "id": "B4VjnDDrERBF",
    "outputId": "806762c8-2e9c-42c4-db22-9234b05b13b4"
   },
   "outputs": [
    {
     "name": "stdout",
     "output_type": "stream",
     "text": [
      "reading from HDD\n",
      "file exists, reading it...\n"
     ]
    }
   ],
   "source": [
    "#M - months A - appliances N - num of imgs \n",
    "\n",
    "#file_name =\"UKDALE_GAF_1h_18M9A1000N\"\n",
    "#file_name= \"UKDALE_GAF_1h_12M10A300N\"\n",
    "#file_name = \"UKDALE_GAF_1h_12M10A500N\"\n",
    "#file_name = \"UK-DALE_GADF_60m_300S0X_9A5000N_NmB\" # x is n of paralel imgs\n",
    "\n",
    "\n",
    "#file_name = \"test_REFIT+ECO+UKDALE+IAWE_GASF_13m100S10X\"\n",
    "file_name = \"ALL_13m_100S5X\"\n",
    "\n",
    "dir_path =os.path.abspath(os.getcwd())\n",
    "\n",
    "#check if we are in cloud or in PC<\n",
    "\n",
    "try:\n",
    "    from google.colab import drive\n",
    "    drive.mount('/content/drive')\n",
    "\n",
    "    print(\"reading from cloud...\")\n",
    "    path = \"/content/drive/MyDrive/Colab Notebooks/NILM/GAF_DS_UNZIPPED/\"f\"{file_name}\"\n",
    "    #path = \"/content/drive/MyDrive/Colab Notebooks/NILM/GAF_DS/old2/\"\n",
    "except:\n",
    "    print(\"reading from HDD\")\n",
    "    path = dir_path+\"/data\"\n",
    "\n",
    "#check if file exists\n",
    "try:\n",
    "    file = h5py.File(f\"{path}\"\"/\"f\"{file_name}\"\"/\"f\"{file_name}\"\".hdf5\",\"r+\")\n",
    "    print(\"file exists, reading it...\")\n",
    "except:\n",
    "    print(\"error reading the file!\")\n",
    "\n",
    "\n",
    "# function to make reading easier\n",
    "def read_many_hdf5(group_name,image_set_name):\n",
    "    \"\"\" \n",
    "    Reads image from HDF5.\n",
    "    \"\"\"\n",
    "    images = []\n",
    "\n",
    "    # Open the HDF5 file\n",
    "    file = h5py.File(f\"{path}\"\"/\"f\"{file_name}\"\".hdf5\", \"r+\")\n",
    "\n",
    "    images = np.array(file[f\"{group_name}\"\"/\"f\"{image_set_name}\"])\n",
    "\n",
    "    return images"
   ]
  },
  {
   "cell_type": "code",
   "execution_count": 5,
   "metadata": {
    "id": "f_vWWqtmD98t"
   },
   "outputs": [],
   "source": [
    "def plot_confusion_matrix_norm(cm, classes, normalize=False, title='Confusion matrix', cmap=plt.cm.Blues):\n",
    "\n",
    "    \"\"\"\n",
    "\n",
    "    This function prints and plots the confusion matrix.\n",
    "\n",
    "    Normalization can be applied by setting `normalize=True`.\n",
    "\n",
    "    \"\"\"\n",
    "\n",
    "    plt.figure(figsize=(10,10))\n",
    "\n",
    "\n",
    "\n",
    "    \n",
    "\n",
    "    plt.title(title)\n",
    "\n",
    "\n",
    "\n",
    "    tick_marks = np.arange(len(classes))\n",
    "\n",
    "    plt.xticks(tick_marks, classes, rotation=45)\n",
    "\n",
    "    plt.yticks(tick_marks, classes)\n",
    "\n",
    "\n",
    "\n",
    "    if normalize:\n",
    "\n",
    "        cm = cm.astype('float') / cm.sum(axis=1)[:, np.newaxis]\n",
    "\n",
    "        cm = np.around(cm, decimals=2)\n",
    "\n",
    "        cm[np.isnan(cm)] = 0.0\n",
    "\n",
    "        print(\"Normalized confusion matrix\")\n",
    "\n",
    "    else:\n",
    "\n",
    "        print('Confusion matrix, without normalization')\n",
    "\n",
    "    thresh = cm.max() / 2.\n",
    "\n",
    "    for i, j in itertools.product(range(cm.shape[0]), range(cm.shape[1])):\n",
    "\n",
    "        plt.text(j, i, cm[i, j],\n",
    "\n",
    "                 horizontalalignment=\"center\",\n",
    "\n",
    "                 color=\"white\" if cm[i, j] > thresh else \"black\")\n",
    "\n",
    "    plt.imshow(cm, interpolation='nearest', cmap=cmap)\n",
    "    plt.tight_layout()\n",
    "\n",
    "    plt.ylabel('True label')\n",
    "\n",
    "    plt.xlabel('Predicted label')\n",
    "    plt.colorbar()"
   ]
  },
  {
   "cell_type": "code",
   "execution_count": 6,
   "metadata": {
    "id": "LIP8pC0sD98x"
   },
   "outputs": [],
   "source": [
    "def LSTM_3D(X_train, num_classes, lr = 0.0001):\n",
    "\n",
    "    input_a = Input(shape = X_train.shape[1: ])\n",
    "\n",
    "    x = TimeDistributed(Convolution2D(16, (7, 7), activation='relu', padding='same'))(input_a)\n",
    "    \n",
    " \n",
    "    x = TimeDistributed(Convolution2D(16, (7, 7), activation='relu', padding='same'))(x)\n",
    "    \n",
    "    x = TimeDistributed(MaxPooling2D(pool_size=(2, 2), padding='same'))(x)\n",
    "   \n",
    "    x = TimeDistributed(Convolution2D(16, (3, 3), activation='relu', padding='same'))(x)\n",
    "   \n",
    "    x = TimeDistributed(Convolution2D(16, (3, 3), activation='relu', padding='same'))(x)\n",
    "    x = TimeDistributed(MaxPooling2D(pool_size=(2, 2), padding='same'))(x)\n",
    "    x = TimeDistributed(Convolution2D(16, (3, 3), activation='relu', padding='same'))(x)\n",
    "    x = TimeDistributed(Convolution2D(16, (3, 3), activation='relu', padding='same'))(x)\n",
    "    x = TimeDistributed(MaxPooling2D(pool_size=(2, 2), padding='same'))(x)\n",
    "    x = Dropout(0.10)(x)\n",
    "    \n",
    "    out = TimeDistributed(Convolution2D(16, (3, 3), activation='relu', padding='same'))(x)\n",
    "    out = TimeDistributed(Convolution2D(16, (3, 3), activation='relu', padding='same'))(out)\n",
    "        # out = TimeDistributed(MaxPooling2D(pool_size=(2, 2), padding='same'))(out)\n",
    "        # out = Dropout(0.60)(out)\n",
    "    out = TimeDistributed(Flatten())(out)\n",
    "    out = LSTM(16, return_sequences=False, unroll=False, dropout=0.2)(out)  # dropout=0.6\n",
    "    prediction = Dense(num_classes, activation='softmax')(out)\n",
    "    model = keras.models.Model(inputs=input_a, outputs=prediction)\n",
    "    adam = optimizers.Adam(lr = lr)\n",
    "    model.compile(loss = 'categorical_crossentropy', optimizer = adam, metrics = ['accuracy'])\n",
    "\n",
    "    return model"
   ]
  },
  {
   "cell_type": "code",
   "execution_count": 7,
   "metadata": {},
   "outputs": [],
   "source": [
    "def LSTM_3D_32(X_train, num_classes, lr = 0.0001):\n",
    "\n",
    "    input_a = Input(shape = X_train.shape[1: ])\n",
    "\n",
    "    x = TimeDistributed(Convolution2D(32, (7, 7), activation='relu', padding='same'))(input_a)\n",
    "    \n",
    "    x = TimeDistributed(Convolution2D(32, (7, 7), activation='relu', padding='same'))(x)\n",
    "    \n",
    "    x = TimeDistributed(MaxPooling2D(pool_size=(2, 2), padding='same'))(x)\n",
    "   \n",
    "    x = TimeDistributed(Convolution2D(32, (3, 3), activation='relu', padding='same'))(x)\n",
    "   \n",
    "    x = TimeDistributed(Convolution2D(32, (3, 3), activation='relu', padding='same'))(x)\n",
    "    x = TimeDistributed(MaxPooling2D(pool_size=(2, 2), padding='same'))(x)\n",
    "    x = TimeDistributed(Convolution2D(32, (3, 3), activation='relu', padding='same'))(x)\n",
    "    x = TimeDistributed(Convolution2D(32, (3, 3), activation='relu', padding='same'))(x)\n",
    "    x = TimeDistributed(MaxPooling2D(pool_size=(2, 2), padding='same'))(x)\n",
    "    x = Dropout(0.10)(x)\n",
    "    \n",
    "    out = TimeDistributed(Convolution2D(16, (3, 3), activation='relu', padding='same'))(x)\n",
    "    out = TimeDistributed(Convolution2D(16, (3, 3), activation='relu', padding='same'))(out)\n",
    "        # out = TimeDistributed(MaxPooling2D(pool_size=(2, 2), padding='same'))(out)\n",
    "        # out = Dropout(0.60)(out)\n",
    "    out = TimeDistributed(Flatten())(out)\n",
    "    out = LSTM(16, return_sequences=False, unroll=False, dropout=0.2)(out)  # dropout=0.6\n",
    "    prediction = Dense(num_classes, activation='softmax')(out)\n",
    "    model = keras.models.Model(inputs=input_a, outputs=prediction)\n",
    "    adam = optimizers.Adam(learning_rate = lr)\n",
    "    model.compile(loss = 'categorical_crossentropy', optimizer = adam, metrics = ['accuracy'])\n",
    "\n",
    "    return model"
   ]
  },
  {
   "cell_type": "code",
   "execution_count": 8,
   "metadata": {},
   "outputs": [],
   "source": [
    "def LSTM_3D_32_7(X_train, num_classes, lr = 0.0001):\n",
    "\n",
    "    input_a = Input(shape = X_train.shape[1: ])\n",
    "\n",
    "    x = TimeDistributed(Convolution2D(32, (7, 7), activation='relu', padding='same'))(input_a)\n",
    "    \n",
    "    x = TimeDistributed(Convolution2D(32, (7, 7), activation='relu', padding='same'))(x)\n",
    "    \n",
    "    x = TimeDistributed(MaxPooling2D(pool_size=(2, 2), padding='same'))(x)\n",
    "   \n",
    "    x = TimeDistributed(Convolution2D(32, (7, 7), activation='relu', padding='same'))(x)\n",
    "   \n",
    "    x = TimeDistributed(Convolution2D(32, (7, 7), activation='relu', padding='same'))(x)\n",
    "    x = TimeDistributed(MaxPooling2D(pool_size=(2, 2), padding='same'))(x)\n",
    "    x = TimeDistributed(Convolution2D(32, (7, 7), activation='relu', padding='same'))(x)\n",
    "    x = TimeDistributed(Convolution2D(32, (7, 7), activation='relu', padding='same'))(x)\n",
    "    x = TimeDistributed(MaxPooling2D(pool_size=(2, 2), padding='same'))(x)\n",
    "    x = Dropout(0.10)(x)\n",
    "    \n",
    "    out = TimeDistributed(Convolution2D(16, (3, 3), activation='relu', padding='same'))(x)\n",
    "    out = TimeDistributed(Convolution2D(16, (3, 3), activation='relu', padding='same'))(out)\n",
    "        # out = TimeDistributed(MaxPooling2D(pool_size=(2, 2), padding='same'))(out)\n",
    "        # out = Dropout(0.60)(out)\n",
    "    out = TimeDistributed(Flatten())(out)\n",
    "    out = LSTM(16, return_sequences=False, unroll=False, dropout=0.2)(out)  # dropout=0.6\n",
    "    prediction = Dense(num_classes, activation='softmax')(out)\n",
    "    model = keras.models.Model(inputs=input_a, outputs=prediction)\n",
    "    adam = optimizers.Adam(learning_rate = lr)\n",
    "    model.compile(loss = 'categorical_crossentropy', optimizer = adam, metrics = ['accuracy'])\n",
    "\n",
    "    return model"
   ]
  },
  {
   "cell_type": "code",
   "execution_count": 9,
   "metadata": {},
   "outputs": [],
   "source": [
    "def LSTM_3D_extra_LSTM(X_train, num_classes, lr = 0.0001):\n",
    "\n",
    "    input_a = Input(shape = X_train.shape[1: ])\n",
    "\n",
    "    x = TimeDistributed(Convolution2D(16, (7, 7), activation='relu', padding='same'))(input_a)\n",
    "    \n",
    "    x = TimeDistributed(Convolution2D(16, (7, 7), activation='relu', padding='same'))(x)\n",
    "    \n",
    "    x = TimeDistributed(MaxPooling2D(pool_size=(2, 2), padding='same'))(x)\n",
    "   \n",
    "    x = TimeDistributed(Convolution2D(16, (3, 3), activation='relu', padding='same'))(x)\n",
    "   \n",
    "    x = TimeDistributed(Convolution2D(16, (3, 3), activation='relu', padding='same'))(x)\n",
    "    x = TimeDistributed(MaxPooling2D(pool_size=(2, 2), padding='same'))(x)\n",
    "    x = TimeDistributed(Convolution2D(16, (3, 3), activation='relu', padding='same'))(x)\n",
    "    x = TimeDistributed(Convolution2D(16, (3, 3), activation='relu', padding='same'))(x)\n",
    "    x = TimeDistributed(MaxPooling2D(pool_size=(2, 2), padding='same'))(x)\n",
    "    x = Dropout(0.10)(x)\n",
    "    \n",
    "    out = TimeDistributed(Convolution2D(16, (3, 3), activation='relu', padding='same'))(x)\n",
    "    out = TimeDistributed(Convolution2D(16, (3, 3), activation='relu', padding='same'))(out)\n",
    "        # out = TimeDistributed(MaxPooling2D(pool_size=(2, 2), padding='same'))(out)\n",
    "        # out = Dropout(0.60)(out)\n",
    "    out = TimeDistributed(Flatten())(out)\n",
    "    out = LSTM(16, return_sequences=True, unroll=False, dropout=0.2)(out)  # dropout=0.6\n",
    "    out = LSTM(16, return_sequences=False, unroll=False, dropout=0.2)(out)\n",
    "    \n",
    "    prediction = Dense(num_classes, activation='softmax')(out)\n",
    "    model = keras.models.Model(inputs=input_a, outputs=prediction)\n",
    "    adam = optimizers.Adam(learning_rate = lr)\n",
    "    model.compile(loss = 'categorical_crossentropy', optimizer = adam, metrics = ['accuracy'])\n",
    "\n",
    "    return model"
   ]
  },
  {
   "cell_type": "code",
   "execution_count": 10,
   "metadata": {},
   "outputs": [],
   "source": [
    "def LSTM_3D_extra_dense(X_train, num_classes, lr = 0.0001):\n",
    "\n",
    "    input_a = Input(shape = X_train.shape[1: ])\n",
    "\n",
    "    x = TimeDistributed(Convolution2D(16, (7, 7), activation='relu', padding='same'))(input_a)\n",
    "    \n",
    "    x = TimeDistributed(Convolution2D(16, (7, 7), activation='relu', padding='same'))(x)\n",
    "    \n",
    "    x = TimeDistributed(MaxPooling2D(pool_size=(2, 2), padding='same'))(x)\n",
    "   \n",
    "    x = TimeDistributed(Convolution2D(16, (3, 3), activation='relu', padding='same'))(x)\n",
    "   \n",
    "    x = TimeDistributed(Convolution2D(16, (3, 3), activation='relu', padding='same'))(x)\n",
    "    x = TimeDistributed(MaxPooling2D(pool_size=(2, 2), padding='same'))(x)\n",
    "    x = TimeDistributed(Convolution2D(16, (3, 3), activation='relu', padding='same'))(x)\n",
    "    x = TimeDistributed(Convolution2D(16, (3, 3), activation='relu', padding='same'))(x)\n",
    "    x = TimeDistributed(MaxPooling2D(pool_size=(2, 2), padding='same'))(x)\n",
    "    x = Dropout(0.10)(x)\n",
    "    \n",
    "    out = TimeDistributed(Convolution2D(16, (3, 3), activation='relu', padding='same'))(x)\n",
    "    out = TimeDistributed(Convolution2D(16, (3, 3), activation='relu', padding='same'))(out)\n",
    "        # out = TimeDistributed(MaxPooling2D(pool_size=(2, 2), padding='same'))(out)\n",
    "        # out = Dropout(0.60)(out)\n",
    "    out = TimeDistributed(Flatten())(out)\n",
    "    out = LSTM(16, return_sequences=False, unroll=False, dropout=0.2)(out)  # dropout=0.6\n",
    "    out = Dense(32, activation='softmax')(out)\n",
    "    prediction = Dense(num_classes, activation='softmax')(out)\n",
    "    model = keras.models.Model(inputs=input_a, outputs=prediction)\n",
    "    adam = optimizers.Adam(learning_rate = lr)\n",
    "    model.compile(loss = 'categorical_crossentropy', optimizer = adam, metrics = ['accuracy'])\n",
    "\n",
    "    return model"
   ]
  },
  {
   "cell_type": "code",
   "execution_count": 11,
   "metadata": {
    "id": "jb5DmCYBV_dt"
   },
   "outputs": [],
   "source": [
    "def LSTM_3D_base_layers(X_train, num_classes, lr = 0.0001):\n",
    "\n",
    "    input_a = Input(shape = X_train.shape[1: ])\n",
    "\n",
    "    x = TimeDistributed(Convolution2D(16, (7, 7), activation='relu', padding='same'))(input_a)\n",
    "    \n",
    "    x.trainable = False\n",
    "    x = TimeDistributed(Convolution2D(16, (7, 7), activation='relu', padding='same'))(x)\n",
    "    x.trainable = False\n",
    "    x = TimeDistributed(MaxPooling2D(pool_size=(2, 2), padding='same'))(x)\n",
    "    x.trainable = False\n",
    "    x = TimeDistributed(Convolution2D(16, (3, 3), activation='relu', padding='same'))(x)\n",
    "    x.trainable = False\n",
    "    x = TimeDistributed(Convolution2D(16, (3, 3), activation='relu', padding='same'))(x)\n",
    "    x = TimeDistributed(MaxPooling2D(pool_size=(2, 2), padding='same'))(x)\n",
    "    x = TimeDistributed(Convolution2D(16, (3, 3), activation='relu', padding='same'))(x)\n",
    "    x = TimeDistributed(Convolution2D(16, (3, 3), activation='relu', padding='same'))(x)\n",
    "    x = TimeDistributed(MaxPooling2D(pool_size=(2, 2), padding='same'))(x)\n",
    "    x = Dropout(0.10)(x)\n",
    "    \n",
    "    out = TimeDistributed(Convolution2D(16, (3, 3), activation='relu', padding='same'))(x)\n",
    "    out = TimeDistributed(Convolution2D(16, (3, 3), activation='relu', padding='same'))(out)\n",
    "        # out = TimeDistributed(MaxPooling2D(pool_size=(2, 2), padding='same'))(out)\n",
    "        # out = Dropout(0.60)(out)\n",
    "    out = TimeDistributed(Flatten())(out)\n",
    "    base_layers = LSTM(16, return_sequences=False, unroll=False, dropout=0.2)(out)  # dropout=0.6\n",
    "    \n",
    "    return base_layers"
   ]
  },
  {
   "cell_type": "code",
   "execution_count": 12,
   "metadata": {
    "id": "addpfCXkD98y"
   },
   "outputs": [],
   "source": [
    "def LSTM_Dense2(X_train, num_classes, lr = 0.0001):\n",
    "\n",
    "    input_a = Input(shape = X_train.shape[1: ])\n",
    "\n",
    "    x = TimeDistributed(Convolution2D(8, (7, 7), activation='relu', padding='same'))(input_a)\n",
    "    x = TimeDistributed(Convolution2D(8, (7, 7), activation='relu', padding='same'))(x)\n",
    "    x = TimeDistributed(MaxPooling2D(pool_size=(2, 2), padding='same'))(x)\n",
    "    x = TimeDistributed(Convolution2D(16, (3, 3), activation='relu', padding='same'))(x)\n",
    "    x = TimeDistributed(Convolution2D(16, (3, 3), activation='relu', padding='same'))(x)\n",
    "    x = TimeDistributed(MaxPooling2D(pool_size=(2, 2), padding='same'))(x)\n",
    "    x = TimeDistributed(Convolution2D(32, (3, 3), activation='relu', padding='same'))(x)\n",
    "    x = TimeDistributed(Convolution2D(32, (3, 3), activation='relu', padding='same'))(x)\n",
    "    x = TimeDistributed(MaxPooling2D(pool_size=(2, 2), padding='same'))(x)\n",
    "    x = Dropout(0.10)(x)\n",
    "\n",
    "    out = TimeDistributed(Convolution2D(32, (3, 3), activation='relu', padding='same'))(x)\n",
    "    out = TimeDistributed(Convolution2D(32, (3, 3), activation='relu', padding='same'))(out)\n",
    "        # out = TimeDistributed(MaxPooling2D(pool_size=(2, 2), padding='same'))(out)\n",
    "        # out = Dropout(0.60)(out)\n",
    "    out = TimeDistributed(Flatten())(out)\n",
    "    out = LSTM(16, return_sequences=False, unroll=False, dropout=0.2)(out)\n",
    "    #out = Dense(16, activation = 'relu')(out)\n",
    "    prediction = Dense(num_classes, activation='softmax')(out)\n",
    "    model = keras.models.Model(inputs=input_a, outputs=prediction)\n",
    "    adam = optimizers.Adam(lr = lr)\n",
    "    model.compile(loss = 'categorical_crossentropy', optimizer = adam, metrics = ['accuracy'])\n",
    "\n",
    "    return model"
   ]
  },
  {
   "cell_type": "code",
   "execution_count": 13,
   "metadata": {
    "id": "ioc9o0B9D98z"
   },
   "outputs": [],
   "source": [
    "def basic_cnn_functional(X_train, num_classes, lr = 0.0001):\n",
    "    \n",
    "    input_a = Input(shape = X_train.shape[1: ])\n",
    "    \n",
    "    x = Convolution2D(16, (7, 7), activation='relu', padding='same')(input_a)\n",
    "    x = Convolution2D(16, (7, 7), activation='relu', padding='same')(x)\n",
    "    x = MaxPooling2D(pool_size=(2, 2), padding='same')(x)\n",
    "    x = Convolution2D(16, (3, 3), activation='relu', padding='same')(x)\n",
    "    x = Convolution2D(16, (3, 3), activation='relu', padding='same')(x)\n",
    "    x = MaxPooling2D(pool_size=(2, 2), padding='same')(x)\n",
    "    x = Convolution2D(16, (3, 3), activation='relu', padding='same')(x)\n",
    "    x = Convolution2D(16, (3, 3), activation='relu', padding='same')(x)\n",
    "    x = MaxPooling2D(pool_size=(2, 2), padding='same')(x)\n",
    "    x = Dropout(0.10)(x)\n",
    "    \n",
    "    \n",
    "    \n",
    "    out = Convolution2D(16, (3, 3), activation='relu', padding='same')(x)\n",
    "    out = Convolution2D(16, (3, 3), activation='relu', padding='same')(out)\n",
    "        # out = TimeDistributed(MaxPooling2D(pool_size=(2, 2), padding='same'))(out)\n",
    "        # out = Dropout(0.60)(out)\n",
    "    out = Flatten()(out)\n",
    "    # dense layer with 50 neurons\n",
    "    dense = Dense(64, activation = 'relu')(out)\n",
    "    # final layer with 10 neurons to classify the instances\n",
    "    output = Dense(num_classes, activation = 'softmax')(dense)\n",
    "    \n",
    "    adam = optimizers.Adam(lr = lr)\n",
    "    model = keras.models.Model(inputs=input_a, outputs=output)\n",
    "    model.compile(loss = 'categorical_crossentropy', optimizer = adam, metrics = ['accuracy'])\n",
    "    \n",
    "    return model"
   ]
  },
  {
   "cell_type": "code",
   "execution_count": 14,
   "metadata": {
    "id": "1v0t1HtkWNMZ",
    "scrolled": true
   },
   "outputs": [
    {
     "name": "stdout",
     "output_type": "stream",
     "text": [
      "['broadband router', 'fridge freezer', 'audio system', 'washing machine', 'dish washer', 'microwave', 'electric space heater', 'dehumidifier', 'games console', 'breadmaker', 'fan', 'tumble dryer', 'computer', 'unknown', 'appliance', 'kettle', 'television', 'food processor', 'toaster', 'washer dryer', 'pond pump', 'fridge']\n"
     ]
    }
   ],
   "source": [
    "appliance_set = set()\n",
    "appliance_instances = []\n",
    "datasets = [\"refit\"]\n",
    "for dataset in datasets:\n",
    "      \n",
    "    for appliance in file[dataset].keys():\n",
    "\n",
    "        for building in file[f\"{dataset}\"\"/\"f\"{appliance}\"\"/\"].keys():\n",
    "            appliance_instances.append(appliance)\n",
    "            appliance_set.add(appliance)\n",
    "\n",
    "available_appliances = list(appliance_set)\n",
    "print(available_appliances)"
   ]
  },
  {
   "cell_type": "code",
   "execution_count": 15,
   "metadata": {},
   "outputs": [],
   "source": [
    "#refit\n",
    "available_appliances.remove(\"fridge freezer\")\n",
    "available_appliances.remove(\"fan\")\n",
    "available_appliances.remove(\"toaster\")"
   ]
  },
  {
   "cell_type": "code",
   "execution_count": 16,
   "metadata": {},
   "outputs": [
    {
     "ename": "ValueError",
     "evalue": "list.remove(x): x not in list",
     "output_type": "error",
     "traceback": [
      "\u001b[0;31m---------------------------------------------------------------------------\u001b[0m",
      "\u001b[0;31mValueError\u001b[0m                                Traceback (most recent call last)",
      "\u001b[0;32m/tmp/ipykernel_12996/2937432073.py\u001b[0m in \u001b[0;36m<module>\u001b[0;34m\u001b[0m\n\u001b[1;32m      1\u001b[0m \u001b[0;31m#redd\u001b[0m\u001b[0;34m\u001b[0m\u001b[0;34m\u001b[0m\u001b[0;34m\u001b[0m\u001b[0m\n\u001b[0;32m----> 2\u001b[0;31m \u001b[0mavailable_appliances\u001b[0m\u001b[0;34m.\u001b[0m\u001b[0mremove\u001b[0m\u001b[0;34m(\u001b[0m\u001b[0;34m\"electric stove\"\u001b[0m\u001b[0;34m)\u001b[0m\u001b[0;34m\u001b[0m\u001b[0;34m\u001b[0m\u001b[0m\n\u001b[0m\u001b[1;32m      3\u001b[0m \u001b[0mavailable_appliances\u001b[0m\u001b[0;34m.\u001b[0m\u001b[0mremove\u001b[0m\u001b[0;34m(\u001b[0m\u001b[0;34m\"washer dryer\"\u001b[0m\u001b[0;34m)\u001b[0m\u001b[0;34m\u001b[0m\u001b[0;34m\u001b[0m\u001b[0m\n\u001b[1;32m      4\u001b[0m \u001b[0mavailable_appliances\u001b[0m\u001b[0;34m.\u001b[0m\u001b[0mremove\u001b[0m\u001b[0;34m(\u001b[0m\u001b[0;34m\"dish washer\"\u001b[0m\u001b[0;34m)\u001b[0m\u001b[0;34m\u001b[0m\u001b[0;34m\u001b[0m\u001b[0m\n\u001b[1;32m      5\u001b[0m \u001b[0mavailable_appliances\u001b[0m\u001b[0;34m.\u001b[0m\u001b[0mremove\u001b[0m\u001b[0;34m(\u001b[0m\u001b[0;34m\"electric oven\"\u001b[0m\u001b[0;34m)\u001b[0m\u001b[0;34m\u001b[0m\u001b[0;34m\u001b[0m\u001b[0m\n",
      "\u001b[0;31mValueError\u001b[0m: list.remove(x): x not in list"
     ]
    }
   ],
   "source": [
    "#redd\n",
    "available_appliances.remove(\"electric stove\")\n",
    "available_appliances.remove(\"washer dryer\")\n",
    "available_appliances.remove(\"dish washer\")\n",
    "available_appliances.remove(\"electric oven\")\n",
    "available_appliances.remove(\"air conditioner\")\n",
    "available_appliances.remove(\"air handling unit\")\n",
    "available_appliances.remove(\"electric space heater\")\n",
    "available_appliances.remove(\"sockets\")"
   ]
  },
  {
   "cell_type": "code",
   "execution_count": 18,
   "metadata": {
    "colab": {
     "base_uri": "https://localhost:8080/"
    },
    "id": "ZadWV9ziwwx7",
    "outputId": "2b5ecedb-4a77-4662-dcec-14021e80e250",
    "scrolled": false
   },
   "outputs": [
    {
     "name": "stdout",
     "output_type": "stream",
     "text": [
      "dataset ukdale app boiler bui 1 shape (500, 5, 100, 100, 1) labels (500,) dsshape (500,)\n",
      "dataset ukdale app boiler bui 4 shape (1000, 5, 100, 100, 1) labels (1000,) dsshape (1000,)\n",
      "dataset ukdale app computer monitor bui 1 shape (1500, 5, 100, 100, 1) labels (1500,) dsshape (1500,)\n",
      "dataset ukdale app computer monitor bui 2 shape (2000, 5, 100, 100, 1) labels (2000,) dsshape (2000,)\n",
      "dataset ukdale app computer monitor bui 5 shape (2456, 5, 100, 100, 1) labels (2456,) dsshape (2456,)\n",
      "dataset ukdale app desktop computer bui 1 shape (2802, 5, 100, 100, 1) labels (2802,) dsshape (2802,)\n",
      "dataset ukdale app desktop computer bui 5 shape (3302, 5, 100, 100, 1) labels (3302,) dsshape (3302,)\n",
      "dataset ukdale app dish washer bui 1 shape (3802, 5, 100, 100, 1) labels (3802,) dsshape (3802,)\n",
      "dataset ukdale app dish washer bui 2 shape (3847, 5, 100, 100, 1) labels (3847,) dsshape (3847,)\n",
      "dataset ukdale app dish washer bui 5 shape (3900, 5, 100, 100, 1) labels (3900,) dsshape (3900,)\n",
      "dataset ukdale app laptop computer bui 1 shape (4400, 5, 100, 100, 1) labels (4400,) dsshape (4400,)\n",
      "dataset ukdale app laptop computer bui 2 shape (4900, 5, 100, 100, 1) labels (4900,) dsshape (4900,)\n",
      "dataset ukdale app laptop computer bui 3 shape (5026, 5, 100, 100, 1) labels (5026,) dsshape (5026,)\n",
      "dataset ukdale app light bui 1 shape (5526, 5, 100, 100, 1) labels (5526,) dsshape (5526,)\n",
      "dataset ukdale app television bui 1 shape (6026, 5, 100, 100, 1) labels (6026,) dsshape (6026,)\n",
      "dataset ukdale app television bui 4 shape (6526, 5, 100, 100, 1) labels (6526,) dsshape (6526,)\n",
      "dataset ukdale app television bui 5 shape (6696, 5, 100, 100, 1) labels (6696,) dsshape (6696,)\n",
      "[0. 1. 2. 3. 4. 5. 6.]\n",
      "dataset:  [0.]\n",
      "(6696, 5, 100, 100, 1)\n",
      "(6696,)\n",
      "(6696,)\n",
      "appliances ['light', 'laptop computer', 'computer monitor', 'desktop computer', 'television', 'dish washer', 'boiler']\n"
     ]
    }
   ],
   "source": [
    "##load datastset for normal use\n",
    "data = np.empty([0,5,100,100,1])\n",
    "\n",
    "labels = np.empty(0)\n",
    "labels_ds = np.empty(0)\n",
    "\n",
    "datasets = [\"refit\"]\n",
    "#datasets = [\"eco\",\"refit\",\"ukdale\", \"iawe\",\"redd\"]\n",
    "#datasets = [\"refit\",\"ukdale\"]\n",
    "appliances = []\n",
    "\n",
    "num_of_buildings_arr = []\n",
    "#for refit and eco\n",
    "#appliances =  ['dish washer', 'fridge', 'fridge freezer', 'kettle',\n",
    "#'microwave', 'television', 'toaster', 'washing machine', 'coffee maker',\n",
    "#'computer', 'freezer', 'lamp', 'laptop computer']\n",
    "\n",
    "#appliances = ['coffee maker', 'computer', 'freezer', 'fridge', 'lamp', 'laptop computer', 'dish washer', 'fridge freezer', 'kettle', 'microwave', 'television', 'toaster', 'washing machine', 'boiler', 'computer monitor', 'washer dryer']\n",
    "\n",
    "\n",
    "#refit to train on \n",
    "#appliances = [\"television\",\"fridge\",\"dish washer\",\"kettle\",\"toaster\",\"microwave\",\"computer\"]\n",
    "#datasets = [\"eco\",\"iawe\",\"ukdale\",\"redd\"]\n",
    "\n",
    "#eco to TL on\n",
    "#datasets = [\"eco\"]\n",
    "#appliances =[\"fridge\",\"HTPC\",\"kettle\",\"laptop computer\",\"coffee maker\",\"lamp\",\"computer\",\"microwave\"]\n",
    "\n",
    "\n",
    " #iawe to TL on\n",
    "#datasets = [\"iawe\"]\n",
    "#appliances = [\"air conditioner\",\"computer\",\"fridge\",\"television\"]\n",
    "\n",
    "\n",
    "# #redd to TL on \n",
    "#datasets = [\"redd\"]\n",
    "#appliances = [\"light\",\"electric furnace\",\"fridge\",\"microwave\"]\n",
    "\n",
    "\n",
    "datasets = [\"ukdale\"]\n",
    "appliances = [\"light\",\"laptop computer\",\"computer monitor\",\"desktop computer\",\"television\",\"dish washer\",\"boiler\"]\n",
    "#'desktop computer',,, 'air conditioner', washer, dryer\n",
    "# #appliances = [\n",
    "#  'fridge',\n",
    "#  'light',\n",
    "#  'microwave']\n",
    "\n",
    "faulty_redd_appliances = []#[\"air conditioner\",\"washer dryer\"]\n",
    "\n",
    "#appliances = available_appliances \n",
    "\n",
    "\n",
    "\n",
    "for dataset in datasets:\n",
    "  #check last len so that number of appliances is balanced\n",
    "  \n",
    "    for appliance in file[dataset].keys():\n",
    "    \n",
    "        #train on all available appliances from refit change for test\n",
    "        if appliance in appliances:\n",
    "\n",
    "            last_length = len(np.where(labels == appliances.index(appliance))[0])\n",
    "            #num_of_buildings = 0\n",
    "            for building in file[f\"{dataset}\"\"/\"f\"{appliance}\"\"/\"].keys():\n",
    "              #num_of_buidlings += 1\n",
    "\n",
    "                if (len(np.where(labels == appliances.index(appliance))[0]) - last_length) < 4000:      \n",
    "\n",
    "                    if dataset == \"redd\" and appliance in faulty_redd_appliances:\n",
    "                            continue        \n",
    "                    else:\n",
    "\n",
    "                        N  = 1000\n",
    "                        if appliance == \"computer\":\n",
    "                            N = 500\n",
    "                          #   N = 250 #for training\n",
    "                         #N = -1\n",
    "                        if appliance == \"fridge\":\n",
    "                            N = 300 #for traingig\n",
    "                         # N = -1\n",
    "\n",
    "                        if appliance == \"television\":\n",
    "                        #    N = 70 #for training\n",
    "                            #N = 130\n",
    "                            N = 300\n",
    "                        if appliance == \"washing machine\":\n",
    "                            #N = 70 #for training\n",
    "    #                         N = 600\n",
    "                            N = 300\n",
    "                        if appliance == \"washer dryer\":\n",
    "                            #N = 40\n",
    "                             N = -1\n",
    "                        if appliance == \"microwave\":\n",
    "                            N = 250\n",
    "                            #N = 90\n",
    "                        if appliance == \"toaster\":\n",
    "                            N = -1\n",
    "                            N = 200\n",
    "                        if appliance == \"kettle\":\n",
    "                            N = 200\n",
    "                            #N = 90\n",
    "                        \n",
    "                        N = 500\n",
    "                        \n",
    "\n",
    "                        #images = np.array()\n",
    "\n",
    "                        images = file[f\"{dataset}\"\"/\"f\"{appliance}\"\"/\"f\"{building}\"]['gaf'][0:N,...]\n",
    "                        #images = images[N+1:-1,...]\n",
    "\n",
    "                        data = np.append(data,images,axis=0)\n",
    "\n",
    "                        array_of_labels = np.ones(images.shape[0])*appliances.index(appliance)\n",
    "                        labels = np.append(labels,array_of_labels)\n",
    "\n",
    "                        array_of_labels_ds =  np.ones(images.shape[0])*datasets.index(dataset)\n",
    "                        labels_ds = np.append(labels_ds,array_of_labels_ds)\n",
    "\n",
    "                        #array_of_labels_buildings = np.ones(images.shape[0])*datasets.index(dataset)\n",
    "                        #labels_buildings = \n",
    "\n",
    "                        print(\"dataset\",dataset,\"app\",appliance,\"bui\",building,\"shape\",data.shape,\"labels\",labels.shape,\"dsshape\",labels_ds.shape)\n",
    "                else:\n",
    "                    print(\"skipped appl: \",appliance,\" and dataset:\",dataset,\" due to len: \",(len(np.where(labels == appliances.index(appliance))[0]) - last_length))\n",
    "        \n",
    "\n",
    "print(np.unique(labels))\n",
    "print(\"dataset: \",np.unique(labels_ds))\n",
    "\n",
    "print(data.shape)\n",
    "print(labels.shape)\n",
    "print(labels_ds.shape)\n",
    "\n",
    "print(\"appliances\", appliances)\n",
    "#print(labels)\n",
    "#print([key for key in file[\"data\"].keys()])"
   ]
  },
  {
   "cell_type": "code",
   "execution_count": 19,
   "metadata": {},
   "outputs": [
    {
     "name": "stdout",
     "output_type": "stream",
     "text": [
      "light 500\n",
      "laptop computer 1126\n",
      "computer monitor 1456\n",
      "desktop computer 846\n",
      "television 1170\n",
      "dish washer 598\n",
      "boiler 1000\n"
     ]
    }
   ],
   "source": [
    "for i in range(len(appliances)):\n",
    "  print(appliances[i],len(np.where(labels == i)[0]) )"
   ]
  },
  {
   "cell_type": "code",
   "execution_count": null,
   "metadata": {
    "id": "1PDde-CUV_d-"
   },
   "outputs": [],
   "source": [
    "#backup#if (skip_refit == int(building) and dataset == \"refit\") or (skip_redd == int(building) and appliance == \"light\" and dataset == \"redd\") or (skip_eco == int(building) and appliance == \"HTPC\" and dataset == \"eco\"):"
   ]
  },
  {
   "cell_type": "code",
   "execution_count": null,
   "metadata": {
    "colab": {
     "base_uri": "https://localhost:8080/"
    },
    "id": "z_aSNSL5d-jk",
    "outputId": "fcf2a42a-ac66-47a3-9004-ee841290360a"
   },
   "outputs": [],
   "source": [
    "##load dataset hierar for trasfer learnng \n",
    "##script to read hierarchical format (used in colab)\n",
    "data = np.empty([0,10,100,100,1])\n",
    "\n",
    "labels = np.empty(0)\n",
    "labels_ds = np.empty(0)\n",
    "\n",
    "#datasets = [\"iawe\"]\n",
    "datasets = [\"eco\",\"iawe\",\"ukdale\",\"refit\",\"redd\"]\n",
    "appliances = [\"computer\",\"television\",\"freezer\",\"light\",\"washing machine\",\"HTPC\",\"dish washer\",\"coffee maker\",\"computer monitor\"]#,\"microwave\",\"kettle\",\"toaster\"]\n",
    "\n",
    "#to train on refit and TL on all others\n",
    "datasets = [\"refit\"]\n",
    "datasets = [\"eco\",\"iawe\",\"ukdale\",\"redd\"]\n",
    "appliances = [\"television\",\"fridge\",\"dish washer\",\"kettle\",\"toaster\",\"microwave\",\"computer\",\"washing machine\"]\n",
    "\n",
    "class selection:\n",
    "  def __init__(self,dataset, building, appliance):\n",
    "    self.dataset = dataset\n",
    "    self.building = building\n",
    "    self.appliance = appliance\n",
    "    \n",
    "slct = []\n",
    "slct.append(selection(\"refit\",19,\"computer\"))\n",
    "slct.append(selection(\"refit\",19,\"freezer\"))\n",
    "slct.append(selection(\"refit\",19,\"washing machine\"))\n",
    "slct.append(selection(\"refit\",19,\"television\"))\n",
    "slct.append(selection(\"refit\",5,\"microwave\")) #was 12\n",
    "slct.append(selection(\"refit\",10,\"dish washer\"))#was 7 10\n",
    "slct.append(selection(\"refit\",11,\"kettle\")) # was 9 11\n",
    "slct.append(selection(\"refit\",2,\"toaster\")) # was 9 11\n",
    "slct.append(selection(\"redd\",4,\"light\"))\n",
    "slct.append(selection(\"eco\",5,\"HTPC\"))\n",
    "slct.append(selection(\"eco\",1,\"coffee maker\")) \n",
    "slct.append(selection(\"ukdale\",1,\"computer monitor\")) \n",
    "i = 0\n",
    "\n",
    "#loop through datasets\n",
    "for dataset in datasets:\n",
    "\n",
    "    #loop through appliances in dataset\n",
    "    for appliance in file[dataset].keys():\n",
    "        \n",
    "        #in case it matches selected appliance\n",
    "        if appliance in appliances:\n",
    "            \n",
    "            #loop through building for this dataset and this appliance\n",
    "            for building in file[f\"{dataset}\"\"/\"f\"{appliance}\"\"/\"].keys():\n",
    "                \n",
    "                #check if appliance should be skipped and saved for later\n",
    "                continue_flag = 0\n",
    "                for e in slct:\n",
    "                    if(e.dataset == dataset and e.building == int(building) and e.appliance == appliance):\n",
    "                        print(dataset,building,appliance)\n",
    "                        continue_flag = 1\n",
    "                    \n",
    "                if continue_flag == 1:\n",
    "                    print(\"skipped buil \",building,\"and dataset \",dataset,\" with appl\",appliance,\" to save it for later\")\n",
    "                #    continue\n",
    "                \n",
    "                #else:\n",
    "\n",
    "                    N = -1\n",
    "                    if appliance == \"computer\":\n",
    "                        N = 250 #for training\n",
    "                     #N = -1\n",
    "                    if appliance == \"fridge\":\n",
    "                        N = 150 #for traingig\n",
    "                     # N = -1\n",
    "                    if appliance == \"freezer\":\n",
    "                        N = 150 #for traingig\n",
    "                     # N = -1\n",
    "                    if appliance == \"television\":\n",
    "                    #    N = 70 #for training\n",
    "                        N = 130\n",
    "#                     if appliance == \"washing machine\":\n",
    "#                     #    N = 70 #for training\n",
    "#                         N = 600\n",
    "                    if appliance == \"microwave\":\n",
    "                        N = 250\n",
    "                        #N = 90\n",
    "                    if appliance == \"toaster\":\n",
    "                        N = 250\n",
    "                        #N = 80\n",
    "                    if appliance == \"kettle\":\n",
    "                        N = 250\n",
    "                        #N = 90\n",
    "\n",
    "                    #N = 100\n",
    "\n",
    "                    N = -1\n",
    "\n",
    "\n",
    "                    images = np.array(file[f\"{dataset}\"\"/\"f\"{appliance}\"\"/\"f\"{building}\"]['gaf'])\n",
    "                    images = images[0:N,...]\n",
    "                    data = np.append(data,images,axis=0)\n",
    "\n",
    "                    array_of_labels = np.ones(images.shape[0])*appliances.index(appliance)\n",
    "                    labels = np.append(labels,array_of_labels)\n",
    "\n",
    "                    array_of_labels_ds =  np.ones(images.shape[0])*datasets.index(dataset)\n",
    "                    labels_ds = np.append(labels_ds,array_of_labels_ds)\n",
    "\n",
    "\n",
    "                    print(\"dataset\",dataset,\"app\",appliance,\"bui\",building,\"shape\",data.shape,\"labels\",labels.shape,\"dsshape\",labels_ds.shape)\n",
    "\n",
    "\n",
    "\n",
    "print(np.unique(labels))\n",
    "print(\"dataset: \",np.unique(labels_ds))\n",
    "\n",
    "print(data.shape)\n",
    "print(labels.shape)\n",
    "print(labels_ds.shape)\n",
    "\n",
    "print(\"appliances\", appliances)\n",
    "#print(labels)\n",
    "#print([key for key in file[\"data\"].keys()])"
   ]
  },
  {
   "cell_type": "code",
   "execution_count": null,
   "metadata": {
    "colab": {
     "base_uri": "https://localhost:8080/",
     "height": 558
    },
    "id": "IlILxvchD981",
    "outputId": "ebf0f0ac-e7e5-4119-c68d-ddfa3e1896c6",
    "scrolled": false
   },
   "outputs": [],
   "source": [
    "#LOAD DATASET\n",
    "\n",
    "#reading h5 file example\n",
    "# file_name = \"UKDALE_GAF_10m_100S10X_9A900N\"\n",
    "#file_name = \"UK-DALE_13m_100S10X_9A5000N\"\n",
    "#file_name = \"REDD_13m_100S10X_8A1500N\"\n",
    "# file_name = 'UK-DALE_RECU_10m_100S10X_9A150N'\n",
    "# file_name = 'UK-DALE_GADF_13m_100S10X_9A5000N_YmB'\n",
    "#file_name = 'UK-DALE_GASF_13m_100S10X_9A5000N_YmB'\n",
    "#file_name=\"iAWE_GASF_13m_100S10X_5A5000N_Y-B_N-O_Y-S\"\n",
    "\n",
    "#read the file\n",
    "#file = h5py.File(f\"{file_name}\"\".hdf5\",\"r+\")\n",
    "#fetch array of appliances\n",
    "enc_appliances = np.array(file[\"classes/appliances\"])\n",
    "appliances = [n.decode(\"utf-8\") for n in enc_appliances]\n",
    "#manualy_selected_appliances.remove(\"microwave\")\n",
    "\n",
    "#fetch array of weights\n",
    "class_weights = np.array(file[\"classes/weights\"])\n",
    "#class_weights = np.delete(class_weights,5)\n",
    "print(appliances)\n",
    "\n",
    "print(class_weights)\n",
    "\n",
    "#read train and label data\n",
    "X = data = np.array(file['data']['gasf'])\n",
    "labels = np.array(file['labels']['gaf'])\n",
    "labels_buildings = np.array(file[\"labels/building\"])\n",
    "\n",
    "#data = np.delete(X,np.where(labels == 5)[0][0],0)\n",
    "\n",
    "#labels = np.delete(labels,np.where(labels == 5)[0][0],0)\n",
    "\n",
    "#labels[np.where(labels == 6)] = 5\n",
    "print(np.unique(labels))\n",
    "\n",
    "print(data.shape)\n",
    "print(labels.shape)\n",
    "#print(labels)\n",
    "print([key for key in file[\"data\"].keys()])"
   ]
  },
  {
   "cell_type": "code",
   "execution_count": null,
   "metadata": {
    "id": "KmtKFx4fV_eF"
   },
   "outputs": [],
   "source": [
    "X_train = 0\n",
    "X_test = 0\n",
    "y_train = 0\n",
    "y_test = 0\n"
   ]
  },
  {
   "cell_type": "code",
   "execution_count": null,
   "metadata": {
    "id": "Yz2peQqPV_eG"
   },
   "outputs": [],
   "source": [
    "del images\n",
    "del array_of_labels_ds\n",
    "del data"
   ]
  },
  {
   "cell_type": "code",
   "execution_count": null,
   "metadata": {
    "colab": {
     "base_uri": "https://localhost:8080/"
    },
    "id": "hEVfTAXWD982",
    "outputId": "c0daff37-a229-4ad6-98c3-1c8f580ff8e5",
    "scrolled": true
   },
   "outputs": [],
   "source": [
    "#Convert classes to onehot encoding\n",
    "\n",
    "# manualy_selected_appliances= [\"computer monitor\", \"laptop computer\", \"television\", \"washer dryer\", \"microwave\",\"boiler\",\"toaster\",\"kettle\",\"fridge\"]\n",
    "num_of_classes = len(appliances)  # \n",
    "print(appliances)\n",
    "print(num_of_classes)\n",
    "\n",
    "y_anomF = tf.keras.utils.to_categorical(labels, num_classes=num_of_classes)"
   ]
  },
  {
   "cell_type": "code",
   "execution_count": null,
   "metadata": {
    "colab": {
     "base_uri": "https://localhost:8080/"
    },
    "id": "RGtWqkUKD984",
    "outputId": "d24ad266-4e48-47ab-e236-b29621fcfddd",
    "scrolled": false
   },
   "outputs": [],
   "source": [
    "#Split data on training and testing datasets\n",
    "\n",
    "X_train, X_test, y_train, y_test = train_test_split(data, y_anomF, test_size=.2, random_state=12, stratify=y_anomF)\n",
    "print(X_train.shape)\n",
    "print(y_train.shape)\n",
    "print(X_test.shape)\n",
    "print(y_test.shape)\n",
    "y_train[0]\n",
    "data = 0;"
   ]
  },
  {
   "cell_type": "code",
   "execution_count": null,
   "metadata": {
    "id": "kKZSyJTOV_eL",
    "outputId": "1902151a-4358-4a52-ad32-3c33dce57a10",
    "scrolled": true
   },
   "outputs": [],
   "source": [
    "#copy model for refrence later \n",
    "model_copy= keras.models.clone_model(model)\n",
    "model_copy.build((None, X_train.shape[1: ])) # replace 10 with number of variables in input layer\n",
    "lr = 0.00002\n",
    "adam = optimizers.Adam(lr = lr)\n",
    "model_copy.compile(loss = 'categorical_crossentropy', optimizer = adam, metrics = ['accuracy'])\n",
    "model_copy.set_weights(model.get_weights())"
   ]
  },
  {
   "cell_type": "code",
   "execution_count": 20,
   "metadata": {},
   "outputs": [
    {
     "name": "stderr",
     "output_type": "stream",
     "text": [
      "2021-10-22 05:52:36.828887: I tensorflow/core/common_runtime/gpu/gpu_device.cc:1734] Found device 0 with properties: \n",
      "pciBusID: 0000:21:00.0 name: NVIDIA GeForce RTX 2080 Ti computeCapability: 7.5\n",
      "coreClock: 1.545GHz coreCount: 68 deviceMemorySize: 10.76GiB deviceMemoryBandwidth: 573.69GiB/s\n",
      "2021-10-22 05:52:36.829695: I tensorflow/core/common_runtime/gpu/gpu_device.cc:1872] Adding visible gpu devices: 0\n",
      "2021-10-22 05:52:36.830057: I tensorflow/stream_executor/platform/default/dso_loader.cc:54] Successfully opened dynamic library libcudart.so.11.0\n",
      "2021-10-22 05:52:37.675226: I tensorflow/core/common_runtime/gpu/gpu_device.cc:1258] Device interconnect StreamExecutor with strength 1 edge matrix:\n",
      "2021-10-22 05:52:37.675259: I tensorflow/core/common_runtime/gpu/gpu_device.cc:1264]      0 \n",
      "2021-10-22 05:52:37.675284: I tensorflow/core/common_runtime/gpu/gpu_device.cc:1277] 0:   N \n",
      "2021-10-22 05:52:37.676483: I tensorflow/core/common_runtime/gpu/gpu_device.cc:1418] Created TensorFlow device (/job:localhost/replica:0/task:0/device:GPU:0 with 9650 MB memory) -> physical GPU (device: 0, name: NVIDIA GeForce RTX 2080 Ti, pci bus id: 0000:21:00.0, compute capability: 7.5)\n",
      "2021-10-22 05:52:37.677694: I tensorflow/core/common_runtime/process_util.cc:146] Creating new thread pool with default inter op setting: 20. Tune using inter_op_parallelism_threads for best performance.\n"
     ]
    }
   ],
   "source": [
    "#path_model = dir_path+\"/models/auto_classic/model_0\"\n",
    "path_model = dir_path+\"/models/model_classic3\"\n",
    "#path_model = dir_path+\"/models/gen/model_gen\"\n",
    "model = keras.models.load_model(path_model)"
   ]
  },
  {
   "cell_type": "code",
   "execution_count": null,
   "metadata": {},
   "outputs": [],
   "source": [
    "model_used = model2"
   ]
  },
  {
   "cell_type": "code",
   "execution_count": null,
   "metadata": {
    "id": "aZ1UEGPSV_eP",
    "outputId": "5e16eb75-ec6a-4e11-a2a3-5fb05b258066"
   },
   "outputs": [],
   "source": [
    "#create trasfer learning model \n",
    "model.trainable = False\n",
    "base_output = model.layers[-2].output\n",
    "#hidden4 = Dense(64, activation='softmax')(base_output)\n",
    "hidden3 = Dense(32, activation='softmax')(base_output)\n",
    "hidden2 = Dense(16, activation='softmax')(hidden3)\n",
    "hidden = Dense(num_of_classes, activation='softmax')(hidden2)\n",
    "\n",
    "model2 = keras.models.Model(model.inputs, hidden)\n",
    "lr = 0.002\n",
    "adam = optimizers.Adam(lr = lr)\n",
    "model2.compile(loss = 'categorical_crossentropy', optimizer = adam, metrics = ['accuracy'])"
   ]
  },
  {
   "cell_type": "code",
   "execution_count": null,
   "metadata": {
    "id": "szXEZFJjV_eR",
    "outputId": "c3533e45-3972-4503-e158-0e0da507174b",
    "scrolled": false
   },
   "outputs": [],
   "source": [
    "## Load model (LSTM_3D is the one that worked the best), set learning rate and number of classes (final layer length), then train the data (change epoch for more training cycles)\n",
    "model = LSTM_3D(X_train,num_of_classes,lr = 0.00002) #00"
   ]
  },
  {
   "cell_type": "code",
   "execution_count": null,
   "metadata": {
    "colab": {
     "base_uri": "https://localhost:8080/"
    },
    "id": "PZaxveAVD985",
    "outputId": "455098bc-d985-4abd-b56a-90247f4b04cc",
    "scrolled": false
   },
   "outputs": [],
   "source": [
    "model_used = model2\n",
    "\n",
    "model_used.fit(X_train, y_train, batch_size = 8, validation_split = 0.2, epochs = 30, verbose = 2)\n",
    "results = model_used.evaluate(X_test, y_test, verbose = 2)\n",
    "print('Test accuracy: ', results[1])"
   ]
  },
  {
   "cell_type": "code",
   "execution_count": null,
   "metadata": {},
   "outputs": [],
   "source": []
  },
  {
   "cell_type": "code",
   "execution_count": null,
   "metadata": {
    "scrolled": true
   },
   "outputs": [],
   "source": [
    "# path_model_classic = dir_path+\"/models/model_classic3\"\n",
    "# model_used.save(path_model_classic)"
   ]
  },
  {
   "cell_type": "code",
   "execution_count": null,
   "metadata": {},
   "outputs": [],
   "source": [
    "model_used.summary()"
   ]
  },
  {
   "cell_type": "code",
   "execution_count": null,
   "metadata": {
    "id": "mY4eKohdV_eT",
    "outputId": "ab529b94-1236-4418-c346-91e2f1ae4e60"
   },
   "outputs": [],
   "source": [
    "precision,recall,fscore,support=score(Y_test, y_pred,average='macro')\n",
    "    \n",
    "#f1_per_fold.append(round(fscore,4))\n"
   ]
  },
  {
   "cell_type": "code",
   "execution_count": 67,
   "metadata": {
    "colab": {
     "base_uri": "https://localhost:8080/",
     "height": 1000
    },
    "id": "8sz5Y9qvD986",
    "outputId": "318c8ee4-890c-4eab-c167-5aeb189ea7ce",
    "scrolled": false
   },
   "outputs": [
    {
     "name": "stdout",
     "output_type": "stream",
     "text": [
      "42/42 - 0s\n",
      "[[  0   1   1  34  19  30  15]\n",
      " [  0 178  15   2  14   1  15]\n",
      " [  0   8 251   0  19   0  14]\n",
      " [  0   0   0 150  16   1   2]\n",
      " [  0   3  44  17 152   0  18]\n",
      " [  0   0   0   0   1 118   1]\n",
      " [  0   2  18   1  29   0 150]]\n",
      "F1 SCORE 0.6702064250699945\n",
      "Normalized confusion matrix\n",
      "                  precision    recall  f1-score   support\n",
      "\n",
      "           light       0.00      0.00      0.00       100\n",
      " laptop computer       0.93      0.79      0.85       225\n",
      "computer monitor       0.76      0.86      0.81       292\n",
      "desktop computer       0.74      0.89      0.80       169\n",
      "      television       0.61      0.65      0.63       234\n",
      "     dish washer       0.79      0.98      0.87       120\n",
      "          boiler       0.70      0.75      0.72       200\n",
      "\n",
      "        accuracy                           0.75      1340\n",
      "       macro avg       0.65      0.70      0.67      1340\n",
      "    weighted avg       0.70      0.75      0.72      1340\n",
      "\n"
     ]
    },
    {
     "name": "stderr",
     "output_type": "stream",
     "text": [
      "/usr/local/lib/python3.8/dist-packages/sklearn/metrics/_classification.py:1308: UndefinedMetricWarning: Precision and F-score are ill-defined and being set to 0.0 in labels with no predicted samples. Use `zero_division` parameter to control this behavior.\n",
      "  _warn_prf(average, modifier, msg_start, len(result))\n",
      "/usr/local/lib/python3.8/dist-packages/sklearn/metrics/_classification.py:1308: UndefinedMetricWarning: Precision and F-score are ill-defined and being set to 0.0 in labels with no predicted samples. Use `zero_division` parameter to control this behavior.\n",
      "  _warn_prf(average, modifier, msg_start, len(result))\n",
      "/usr/local/lib/python3.8/dist-packages/sklearn/metrics/_classification.py:1308: UndefinedMetricWarning: Precision and F-score are ill-defined and being set to 0.0 in labels with no predicted samples. Use `zero_division` parameter to control this behavior.\n",
      "  _warn_prf(average, modifier, msg_start, len(result))\n",
      "/usr/local/lib/python3.8/dist-packages/sklearn/metrics/_classification.py:1308: UndefinedMetricWarning: Precision and F-score are ill-defined and being set to 0.0 in labels with no predicted samples. Use `zero_division` parameter to control this behavior.\n",
      "  _warn_prf(average, modifier, msg_start, len(result))\n"
     ]
    },
    {
     "data": {
      "image/png": "[encoded data removed]",
      "text/plain": [
       "<Figure size 720x720 with 2 Axes>"
      ]
     },
     "metadata": {
      "needs_background": "light"
     },
     "output_type": "display_data"
    }
   ],
   "source": [
    "#Print results and plot confusion matrix\n",
    "\n",
    "#print('Test accuracy: ', results[1])\n",
    "#print(\"Loss: \"f\"{results[0]}\")\n",
    "Y_pred = model_used.predict(X_test, verbose = 2)\n",
    "y_pred = np.argmax(Y_pred, axis=1)\n",
    "Y_test = np.argmax(y_test, axis=-1)\n",
    "C = confusion_matrix(Y_test, y_pred)\n",
    "# B =np.around((C / C.astype(np.float).sum(axis=1))*100,2)\n",
    "print(confusion_matrix(Y_test, y_pred))\n",
    "precision,recall,fscore,support=score(Y_test, y_pred,average='macro')\n",
    "print(\"F1 SCORE\",fscore)\n",
    "plot_confusion_matrix_norm(C, appliances, normalize=True)\n",
    "print(classification_report(Y_test, y_pred, target_names=appliances))"
   ]
  },
  {
   "cell_type": "code",
   "execution_count": null,
   "metadata": {
    "id": "mZfMchBLV_eY",
    "outputId": "52855d6e-3598-4778-ba67-97fe1ef6eeee"
   },
   "outputs": [],
   "source": [
    "#kfold with random seed\n",
    "acc_per_fold = []\n",
    "loss_per_fold = []\n",
    "f1_per_fold = []\n",
    "precision_per_fold = []\n",
    "recall_per_fold = []\n",
    "seed_per_fold = []\n",
    "\n",
    "for seed in range(10,500,5):\n",
    "    #print(\"TRAIN:\", train_index, \"TEST:\", test_index)\n",
    "        \n",
    "    X_train, X_test, y_train, y_test = train_test_split(data, y_anomF, test_size=.2, random_state=seed, stratify=y_anomF)\n",
    "    \n",
    "    #Load model (LSTM_3D is the one that worked the best), set learning rate and number of classes (final layer length), then train the data (change epoch for more training cycles)\n",
    "    #model = LSTM_3D(X_train,num_of_classes,lr = 0.00002)\n",
    "    \n",
    "    model.trainable = False\n",
    "    base_output = model.layers[-2].output\n",
    "    hidden = Dense(num_of_classes, activation='softmax')(base_output)\n",
    "\n",
    "    model2 = keras.models.Model(model.inputs, hidden)\n",
    "    lr = 0.02\n",
    "    adam = optimizers.Adam(lr = lr)\n",
    "    model2.compile(loss = 'categorical_crossentropy', optimizer = adam, metrics = ['accuracy'])\n",
    "    \n",
    "    \n",
    "    #print(model.summary())\n",
    "    # model.fit(X_train, y_train, batch_size = 8, validation_split = 0.2, epochs = 15, verbose = 2)\n",
    "    model2.fit(X_train, y_train, batch_size = 8, validation_split = 0.2, epochs = 40, verbose = 0)\n",
    "    results = model2.evaluate(X_test, y_test, verbose = 2)\n",
    "    \n",
    "    Y_pred = model_used.predict(X_test, verbose = 2)\n",
    "    y_pred = np.argmax(Y_pred, axis=1)\n",
    "    Y_test = np.argmax(y_test, axis=-1)\n",
    "    \n",
    "    precision,recall,fscore,support=score(Y_test, y_pred,average='macro')\n",
    "    \n",
    "    f1_per_fold.append(round(fscore,4))\n",
    "    acc_per_fold.append(round(results[1] * 100,4))\n",
    "    loss_per_fold.append(round(results[0],4))\n",
    "    precision_per_fold.append(round(precision,4))\n",
    "    recall_per_fold.append(round(recall,4))\n",
    "    seed_per_fold.append(seed)\n",
    "\n",
    "\n",
    "    \n",
    "    print('Test accuracy: ',acc_per_fold[-1])\n",
    "    print('Test loss: ',loss_per_fold[-1])\n",
    "    print('test f1: ',f1_per_fold[-1])"
   ]
  },
  {
   "cell_type": "code",
   "execution_count": null,
   "metadata": {},
   "outputs": [],
   "source": [
    "X_train, X_test, y_train, y_test = train_test_split(data, labels, test_size=.2, random_state=12)\n",
    "data = 0;\n",
    "labels = 0\n",
    "X_train_2, _, y_train_2, _ = train_test_split(X_train, y_train, test_size=.2, random_state=12, stratify=y_train)"
   ]
  },
  {
   "cell_type": "code",
   "execution_count": null,
   "metadata": {},
   "outputs": [],
   "source": [
    "num_of_classes = len(appliances)  \n",
    "print(appliances)\n",
    "print(num_of_classes)\n",
    "\n",
    "#y_anomF = tf.keras.utils.to_categorical(labels, num_classes=num_of_classes)"
   ]
  },
  {
   "cell_type": "code",
   "execution_count": null,
   "metadata": {},
   "outputs": [],
   "source": [
    "#counts_arr = []\n",
    "\n",
    "counts_arr.append(counts)\n",
    "print(counts_arr[1])"
   ]
  },
  {
   "cell_type": "code",
   "execution_count": null,
   "metadata": {
    "scrolled": true
   },
   "outputs": [],
   "source": [
    "percent_arr = [0.01,0.02,0.03,0.04,0.05,0.07,0.10,0.20, 0.30, 0.50]\n",
    "counts_arr = []\n",
    "\n",
    "values, counts = np.unique(y_train_not_hot, return_counts=True)\n",
    "print(len(values),counts_arr.append(counts))\n",
    "\n",
    "for percent in percent_arr:\n",
    "    X_train_2, _, y_train_2, _ = train_test_split(X_train, y_train_not_hot, train_size=percent, random_state=12, stratify=y_train_not_hot)\n",
    "    values, counts = np.unique(y_train_2, return_counts=True)\n",
    "    print(len(values),counts_arr.append(counts))\n",
    "    X_train_2 = 0\n",
    "    y_train_2 = 0"
   ]
  },
  {
   "cell_type": "code",
   "execution_count": null,
   "metadata": {},
   "outputs": [],
   "source": [
    "X_train[train_rand_inx].shape"
   ]
  },
  {
   "cell_type": "code",
   "execution_count": null,
   "metadata": {},
   "outputs": [],
   "source": [
    "train_rand_inx = []\n",
    "while len(train_rand_inx) < 100 :\n",
    "    choice = random.choice(np.where(y_train_not_hot == 0)[0])\n",
    "    if choice in train_rand_inx:\n",
    "        continue\n",
    "    else:\n",
    "        train_rand_inx.append(choice)"
   ]
  },
  {
   "cell_type": "code",
   "execution_count": null,
   "metadata": {},
   "outputs": [],
   "source": [
    "np.array(train_rand_inx).shape"
   ]
  },
  {
   "cell_type": "code",
   "execution_count": null,
   "metadata": {},
   "outputs": [],
   "source": [
    "X_train.shape"
   ]
  },
  {
   "cell_type": "code",
   "execution_count": null,
   "metadata": {
    "scrolled": true
   },
   "outputs": [],
   "source": [
    "np.where(y_train_not_hot != 1)[0].shape"
   ]
  },
  {
   "cell_type": "code",
   "execution_count": null,
   "metadata": {},
   "outputs": [],
   "source": [
    "train_2_indexes = np.append(np.where(y_train_not_hot != 1)[0],np.array(train_rand_inx))"
   ]
  },
  {
   "cell_type": "code",
   "execution_count": null,
   "metadata": {},
   "outputs": [],
   "source": [
    "a = np.random.randint(0,np.where(y_train_not_hot == 1)[0])\n",
    "a = np.array(train_rand_inx)\n",
    "print(a.shape)\n",
    "print(np.unique(a).shape)"
   ]
  },
  {
   "cell_type": "code",
   "execution_count": 55,
   "metadata": {},
   "outputs": [
    {
     "data": {
      "text/plain": [
       "(array([0.]), array([400]))"
      ]
     },
     "execution_count": 55,
     "metadata": {},
     "output_type": "execute_result"
    }
   ],
   "source": [
    "np.unique(y_train_not_hot[index_selected_appl],return_counts=True)"
   ]
  },
  {
   "cell_type": "code",
   "execution_count": 71,
   "metadata": {},
   "outputs": [
    {
     "ename": "AttributeError",
     "evalue": "type object 'numpy.ndarray' has no attribute 'meta'",
     "output_type": "error",
     "traceback": [
      "\u001b[0;31m---------------------------------------------------------------------------\u001b[0m",
      "\u001b[0;31mAttributeError\u001b[0m                            Traceback (most recent call last)",
      "\u001b[0;32m/tmp/ipykernel_12996/2891925404.py\u001b[0m in \u001b[0;36m<module>\u001b[0;34m\u001b[0m\n\u001b[0;32m----> 1\u001b[0;31m \u001b[0mtype\u001b[0m\u001b[0;34m(\u001b[0m\u001b[0mX_train_2\u001b[0m\u001b[0;34m)\u001b[0m\u001b[0;34m.\u001b[0m\u001b[0mmeta\u001b[0m\u001b[0;34m\u001b[0m\u001b[0;34m\u001b[0m\u001b[0m\n\u001b[0m",
      "\u001b[0;31mAttributeError\u001b[0m: type object 'numpy.ndarray' has no attribute 'meta'"
     ]
    }
   ],
   "source": [
    "type(X_train_2).meta"
   ]
  },
  {
   "cell_type": "code",
   "execution_count": 61,
   "metadata": {
    "scrolled": true
   },
   "outputs": [
    {
     "data": {
      "text/plain": [
       "(5356, 5, 100, 100, 1)"
      ]
     },
     "execution_count": 61,
     "metadata": {},
     "output_type": "execute_result"
    }
   ],
   "source": [
    "X_train.shape"
   ]
  },
  {
   "cell_type": "code",
   "execution_count": 65,
   "metadata": {},
   "outputs": [
    {
     "data": {
      "text/plain": [
       "(5356, 5, 100, 100, 1)"
      ]
     },
     "execution_count": 65,
     "metadata": {},
     "output_type": "execute_result"
    }
   ],
   "source": [
    "X_train[index_merged].shape"
   ]
  },
  {
   "cell_type": "code",
   "execution_count": 59,
   "metadata": {},
   "outputs": [
    {
     "data": {
      "text/plain": [
       "(array([0., 1., 2., 3., 4., 5., 6.]),\n",
       " array([ 400,  901, 1164,  677,  936,  478,  800]))"
      ]
     },
     "execution_count": 59,
     "metadata": {},
     "output_type": "execute_result"
    }
   ],
   "source": [
    "np.unique(y_train_not_hot[index_merged],return_counts=True)"
   ]
  },
  {
   "cell_type": "code",
   "execution_count": 83,
   "metadata": {
    "scrolled": true
   },
   "outputs": [
    {
     "data": {
      "text/plain": [
       "(array([0., 1., 2., 3., 4., 5., 6.]),\n",
       " array([ 400,  901, 1164,  677,  936,  478,  800]))"
      ]
     },
     "execution_count": 83,
     "metadata": {},
     "output_type": "execute_result"
    }
   ],
   "source": [
    "np.unique(y_train_not_hot[:],return_counts=True)"
   ]
  },
  {
   "cell_type": "code",
   "execution_count": 81,
   "metadata": {
    "scrolled": true
   },
   "outputs": [
    {
     "data": {
      "text/plain": [
       "array([3., 2., 4.])"
      ]
     },
     "execution_count": 81,
     "metadata": {},
     "output_type": "execute_result"
    }
   ],
   "source": [
    "y_train_not_hot[[200,250,300]]"
   ]
  },
  {
   "cell_type": "code",
   "execution_count": 82,
   "metadata": {},
   "outputs": [
    {
     "data": {
      "text/plain": [
       "array([[0., 0., 0., 1., 0., 0., 0.],\n",
       "       [0., 0., 1., 0., 0., 0., 0.],\n",
       "       [0., 0., 0., 0., 1., 0., 0.]], dtype=float32)"
      ]
     },
     "execution_count": 82,
     "metadata": {},
     "output_type": "execute_result"
    }
   ],
   "source": [
    "y_train[[200,250,300]]"
   ]
  },
  {
   "cell_type": "code",
   "execution_count": 91,
   "metadata": {
    "scrolled": true
   },
   "outputs": [
    {
     "name": "stdout",
     "output_type": "stream",
     "text": [
      "4.0\n",
      "3.0\n"
     ]
    }
   ],
   "source": [
    "n = 700\n",
    "\n",
    "print(y_train_not_hot[index_merged][n])\n",
    "print(y_train_not_hot[:][n])"
   ]
  },
  {
   "cell_type": "code",
   "execution_count": null,
   "metadata": {},
   "outputs": [],
   "source": [
    "appliance_index = 0\n",
    "index_selected_appl = []\n",
    "\n",
    "    while len(index_selected_appl) < percent :\n",
    "        choice = random.choice(np.where(y_train_not_hot == appliance_index)[0])\n",
    "        if choice in index_selected_appl:\n",
    "            continue\n",
    "        else:\n",
    "            index_selected_appl.append(choice)\n",
    "\n",
    "index_selected_appl = np.where(labels == appliance_index)[0]    \n",
    "a = np.array(index_selected_appl)\n",
    "print(\"instances in array\",a.shape)\n",
    "print(\"unique instances\",np.unique(a).shape)\n",
    "#get indexes from appliances that is not selected\n",
    "index_all_other_appl = np.where(labels != appliance_index)[0]\n",
    "#append all appliances and n selected indexes\n",
    "index_merged = np.append(index_all_other_appl,np.array(index_selected_appl))\n",
    "#use indexes to select data\n",
    "X_train_2 =X_train[:]#index_merged]\n",
    "y_train_2 = y_train[:]#index_merged]\n",
    "values, counts = np.unique(y_train_not_hot[index_merged], return_counts=True)#[index_merged]"
   ]
  },
  {
   "cell_type": "code",
   "execution_count": 92,
   "metadata": {},
   "outputs": [
    {
     "name": "stdout",
     "output_type": "stream",
     "text": [
      "splitting train size % 400\n",
      "instances in array (400,)\n",
      "unique instances (400,)\n",
      "appending counts : [ 400  901 1164  677  936  478  800]\n",
      "xt2 (5356, 5, 100, 100, 1)\n",
      "yt2 (5356, 7)\n"
     ]
    },
    {
     "name": "stderr",
     "output_type": "stream",
     "text": [
      "/usr/local/lib/python3.8/dist-packages/tensorflow/python/keras/optimizer_v2/optimizer_v2.py:374: UserWarning: The `lr` argument is deprecated, use `learning_rate` instead.\n",
      "  warnings.warn(\n"
     ]
    },
    {
     "name": "stdout",
     "output_type": "stream",
     "text": [
      "Epoch 1/15\n",
      "536/536 - 6s - loss: 1.8072 - accuracy: 0.3198 - val_loss: 1.5743 - val_accuracy: 0.4580\n",
      "Epoch 2/15\n",
      "536/536 - 4s - loss: 1.3642 - accuracy: 0.4762 - val_loss: 1.2211 - val_accuracy: 0.4804\n",
      "Epoch 3/15\n",
      "536/536 - 4s - loss: 1.1344 - accuracy: 0.5796 - val_loss: 1.0464 - val_accuracy: 0.6157\n",
      "Epoch 4/15\n",
      "536/536 - 4s - loss: 1.0054 - accuracy: 0.6102 - val_loss: 0.9623 - val_accuracy: 0.6147\n",
      "Epoch 5/15\n",
      "536/536 - 4s - loss: 0.9379 - accuracy: 0.6408 - val_loss: 0.9113 - val_accuracy: 0.6465\n",
      "Epoch 6/15\n",
      "536/536 - 4s - loss: 0.8806 - accuracy: 0.6683 - val_loss: 0.8743 - val_accuracy: 0.6642\n",
      "Epoch 7/15\n",
      "536/536 - 4s - loss: 0.8523 - accuracy: 0.6720 - val_loss: 0.8529 - val_accuracy: 0.6782\n",
      "Epoch 8/15\n",
      "536/536 - 4s - loss: 0.8321 - accuracy: 0.6851 - val_loss: 0.8243 - val_accuracy: 0.7062\n",
      "Epoch 9/15\n",
      "536/536 - 4s - loss: 0.7864 - accuracy: 0.7106 - val_loss: 0.7987 - val_accuracy: 0.7155\n",
      "Epoch 10/15\n",
      "536/536 - 4s - loss: 0.7736 - accuracy: 0.7213 - val_loss: 0.7854 - val_accuracy: 0.7211\n",
      "Epoch 11/15\n",
      "536/536 - 4s - loss: 0.7641 - accuracy: 0.7225 - val_loss: 0.7706 - val_accuracy: 0.7229\n",
      "Epoch 12/15\n",
      "536/536 - 4s - loss: 0.7450 - accuracy: 0.7323 - val_loss: 0.7665 - val_accuracy: 0.7267\n",
      "Epoch 13/15\n",
      "536/536 - 4s - loss: 0.7417 - accuracy: 0.7285 - val_loss: 0.7537 - val_accuracy: 0.7369\n",
      "Epoch 14/15\n",
      "536/536 - 4s - loss: 0.7227 - accuracy: 0.7400 - val_loss: 0.7489 - val_accuracy: 0.7435\n",
      "Epoch 15/15\n",
      "536/536 - 4s - loss: 0.7191 - accuracy: 0.7472 - val_loss: 0.7426 - val_accuracy: 0.7388\n",
      "42/42 - 1s - loss: 0.7397 - accuracy: 0.7328\n",
      "Test accuracy:  0.7328358292579651\n",
      "42/42 - 1s\n"
     ]
    },
    {
     "name": "stderr",
     "output_type": "stream",
     "text": [
      "/usr/local/lib/python3.8/dist-packages/sklearn/metrics/_classification.py:1308: UndefinedMetricWarning: Precision and F-score are ill-defined and being set to 0.0 in labels with no predicted samples. Use `zero_division` parameter to control this behavior.\n",
      "  _warn_prf(average, modifier, msg_start, len(result))\n",
      "/usr/local/lib/python3.8/dist-packages/sklearn/metrics/_classification.py:1308: UndefinedMetricWarning: Recall and F-score are ill-defined and being set to 0.0 in labels with no true samples. Use `zero_division` parameter to control this behavior.\n",
      "  _warn_prf(average, modifier, msg_start, len(result))\n"
     ]
    }
   ],
   "source": [
    "## test dependecy of number of samples to performace \n",
    "\n",
    "#define prec, recall and F1 for each class\n",
    "prec0, prec1, prec2, prec3, prec4, prec5, prec6 = ([] for i in range(7))\n",
    "precission = [prec0, prec1, prec2, prec3, prec4, prec5, prec6]\n",
    "rec0, rec1, rec2, rec3, rec4, rec5, rec6 = ([] for i in range(7))\n",
    "recall = [rec0, rec1, rec2, rec3, rec4, rec5, rec6]\n",
    "F1_0, F1_1, F1_2, F1_3, F1_4, F1_5, F1_6 = ([] for i in range(7))\n",
    "F1 = [F1_0, F1_1, F1_2, F1_3, F1_4, F1_5, F1_6]\n",
    "\n",
    "#counts arr\n",
    "counts_arr = []\n",
    "\n",
    "#main split\n",
    "\n",
    "num_of_classes = len(appliances)\n",
    "#data = 0;\n",
    "#labels = 0\n",
    "\n",
    "#one hot encoding\n",
    "y_train = tf.keras.utils.to_categorical(y_train_not_hot, num_classes=num_of_classes)\n",
    "y_test = tf.keras.utils.to_categorical(y_test_not_hot, num_classes=num_of_classes)\n",
    "\n",
    "\n",
    "#percent_arr = [0.01,0.02,0.03,0.04,0.05,0.07,0.10,0.20, 0.30, 0.50,0.99]\n",
    "#percent_arr = [0.20, 0.30, 0.50]\n",
    "\n",
    "percent_arr = range(10,5000,50)\n",
    "percent_arr = [400]\n",
    "appliance_index = 0\n",
    "\n",
    "for percent in percent_arr:\n",
    "    \n",
    "    #split all\n",
    "    print(\"splitting train size %\",percent)\n",
    "    #X_train_2, _, y_train_2, _ = train_test_split(X_train, y_train_not_hot, train_size=percent, random_state=12, stratify=y_train_not_hot)\n",
    "    #values, counts = np.unique(y_train_2, return_counts=True)\n",
    "    \n",
    "    #split for only one appliance\n",
    "    \n",
    "    #get N random images for one aplliance\n",
    "    index_selected_appl = []\n",
    "#     while len(index_selected_appl) < percent :\n",
    "#         choice = random.choice(np.where(y_train_not_hot == appliance_index)[0])\n",
    "#         if choice in index_selected_appl:\n",
    "#             continue\n",
    "#         else:\n",
    "#             index_selected_appl.append(choice)\n",
    "    \n",
    "    index_selected_appl = np.where(y_train_not_hot == appliance_index)[0]    \n",
    "    a = np.array(index_selected_appl)\n",
    "    print(\"instances in array\",a.shape)\n",
    "    print(\"unique instances\",np.unique(a).shape)\n",
    "    #get indexes from appliances that is not selected\n",
    "    index_all_other_appl = np.where(y_train_not_hot != appliance_index)[0]\n",
    "    #append all appliances and n selected indexes\n",
    "    index_merged = np.append(index_all_other_appl,np.array(index_selected_appl))\n",
    "    #use indexes to select data\n",
    "    X_train_2 =X_train[:]#index_merged]\n",
    "    y_train_2 = y_train[:]#index_merged]\n",
    "    values, counts = np.unique(y_train_not_hot[index_merged], return_counts=True)#[index_merged]\n",
    "        \n",
    "    print(\"appending counts :\",counts)\n",
    "    counts_arr.append(counts)\n",
    "    \n",
    "    X_train, X_test, y_train, y_tes = train_test_split(data, labels, test_size=.2, random_state=42,stratify=labels)\n",
    "   \n",
    "    #reset model and compile it again\n",
    "    model.trainable = False\n",
    "    base_output = model.layers[-2].output\n",
    "    #hidden4 = Dense(64, activation='softmax')(base_output)\n",
    "    hidden3 = Dense(32, activation='softmax')(base_output)\n",
    "    hidden2 = Dense(16, activation='softmax')(hidden3)\n",
    "    hidden = Dense(num_of_classes, activation='softmax')(hidden2)\n",
    "\n",
    "    model2 = keras.models.Model(model.inputs, hidden)\n",
    "    lr = 0.002\n",
    "    adam = optimizers.Adam(lr = lr)\n",
    "    model2.compile(loss = 'categorical_crossentropy', optimizer = adam, metrics = ['accuracy'])\n",
    "    print(\"xt2\",X_train_2.shape)\n",
    "    print(\"yt2\",y_train_2.shape)\n",
    "    model_used = model2\n",
    "    model_used.fit(X_train_2, y_train_2, batch_size = 8, validation_split = 0.2, epochs = 15, verbose = 2)\n",
    "    results = model_used.evaluate(X_test, y_test, verbose = 2)\n",
    "    print('Test accuracy: ', results[1])\n",
    "    \n",
    "    Y_pred = model_used.predict(X_test, verbose = 2)\n",
    "    y_pred = np.argmax(Y_pred, axis=1)\n",
    "    Y_test = np.argmax(y_test, axis=-1)\n",
    "    \n",
    "    #Calculate metrics. IMPORTANT use labels that the scores will be correct for each class\n",
    "    metrics = score(Y_test, y_pred, labels=[0, 1, 2, 3, 4, 5, 6, 7])\n",
    "    \n",
    "    #del model_used\n",
    "    #del model2\n",
    "    \n",
    "    #append prec, rec and F1 for each individual class\n",
    "    for k,j in enumerate(precission):\n",
    "        j.append(metrics[0][k])\n",
    "\n",
    "    for k,j in enumerate(recall):\n",
    "        j.append(metrics[1][k])\n",
    "\n",
    "    for k,j in enumerate(F1):\n",
    "        j.append(metrics[2][k])"
   ]
  },
  {
   "cell_type": "code",
   "execution_count": null,
   "metadata": {},
   "outputs": [],
   "source": [
    "np.array(counts_arr)[:,0]"
   ]
  },
  {
   "cell_type": "code",
   "execution_count": null,
   "metadata": {
    "scrolled": false
   },
   "outputs": [],
   "source": [
    "for i,e in enumerate(appliances):\n",
    "    print(i,e)\n",
    "    plt.plot(np.array(counts_arr)[:,i], precission[i], '-o')\n",
    "    plt.ylabel(\"F1\")\n",
    "    plt.xlabel(\"samples\")\n",
    "    plt.show()"
   ]
  },
  {
   "cell_type": "code",
   "execution_count": null,
   "metadata": {},
   "outputs": [],
   "source": [
    "#automating model generation for various types of models \n",
    "i = 0\n",
    "model_names = [LSTM_3D_32(X_train,num_of_classes,lr = 0.00002),LSTM_3D_extra_dense(X_train,num_of_classes,lr = 0.00002),LSTM_3D_extra_LSTM(X_train,num_of_classes,lr = 0.00002),LSTM_3D_32_7(X_train,num_of_classes,lr = 0.00002)]\n",
    "\n",
    "for model in model_names:\n",
    "      \n",
    "    model_used = model\n",
    "    model_used.fit(X_train, y_train, batch_size = 8, validation_split = 0.2, epochs = 150, verbose = 2)\n",
    "    results = model_used.evaluate(X_test, y_test, verbose = 2)\n",
    "    print('Test accuracy: ', results[1])\n",
    "    \n",
    "    path_model_classic = dir_path+\"/models/auto_classic/model_\"+str(i)\n",
    "    model_used.save(path_model_classic)\n",
    "    i += 1\n",
    "    \n",
    "    print(\"removing model from ram\")\n",
    "    del model_used\n",
    "    del model\n",
    "    print(\"new model\")"
   ]
  },
  {
   "cell_type": "code",
   "execution_count": null,
   "metadata": {},
   "outputs": [],
   "source": [
    "import gc\n",
    "\n",
    "gc.collect()"
   ]
  },
  {
   "cell_type": "code",
   "execution_count": null,
   "metadata": {},
   "outputs": [],
   "source": [
    "mode_used"
   ]
  },
  {
   "cell_type": "code",
   "execution_count": null,
   "metadata": {},
   "outputs": [],
   "source": [
    "import sys\n",
    "\n",
    "local_vars = list(locals().items())\n",
    "for var, obj in local_vars:\n",
    "    print(var, sys.getsizeof(obj))"
   ]
  },
  {
   "cell_type": "markdown",
   "metadata": {
    "id": "xBDtSMVHV_eZ"
   },
   "source": [
    "# KFOLD"
   ]
  },
  {
   "cell_type": "code",
   "execution_count": null,
   "metadata": {
    "id": "dmm5fpS8V_ec",
    "outputId": "714fe77d-38a0-4cba-90cc-6980a40f91da"
   },
   "outputs": [],
   "source": [
    "acc_per_fold = []\n",
    "loss_per_fold = []\n",
    "f1_per_fold = []\n",
    "\n",
    "# X_train, X_test, y_train, y_test = train_test_split(data, y_anomF, test_size=.2, random_state=42)\n",
    "# print(X_train.shape)\n",
    "# print(y_train.shape)\n",
    "# print(X_test.shape)\n",
    "# print(y_test.shape)\n",
    "# y_train[0]\n",
    "\n",
    "#y_anomF = tf.keras.utils.to_categorical(labels, num_classes=num_of_classes)\n",
    "\n",
    "skf = StratifiedKFold(n_splits=5,shuffle=False)\n",
    "print(\"num of splits:\",skf.get_n_splits(data))\n",
    "\n",
    "for train_index, test_index in skf.split(data, labels):\n",
    "    #print(\"TRAIN:\", train_index, \"TEST:\", test_index)\n",
    "    \n",
    "    X_train, X_test = data[train_index], data[test_index]\n",
    "    y_train, y_test = labels[train_index], labels[test_index]\n",
    "    \n",
    "#     train_l = []\n",
    "#     test_l = []\n",
    "    \n",
    "#     for n in range(num_of_classes):\n",
    "#         train_l.append(len(y_train[y_train==n]))\n",
    "#         test_l.append(len(y_test[y_test==n]))\n",
    "    \n",
    "#     print('>Train:', (train_l),\"all\",sum(train_l))\n",
    "#     print('>test:', (test_l),\"all\",sum(test_l))\n",
    "\n",
    "\n",
    "    y_train = tf.keras.utils.to_categorical(y_train, num_classes=num_of_classes)\n",
    "    y_test = tf.keras.utils.to_categorical(y_test, num_classes=num_of_classes)\n",
    "    \n",
    "    \n",
    "    \n",
    "    #Load model (LSTM_3D is the one that worked the best), set learning rate and number of classes (final layer length), then train the data (change epoch for more training cycles)\n",
    "    #model = LSTM_3D(X_train,num_of_classes,lr = 0.00002)\n",
    "    \n",
    "    model.trainable = False\n",
    "    base_output = model.layers[-2].output\n",
    "    hidden = Dense(num_of_classes, activation='softmax')(base_output)\n",
    "\n",
    "    model2 = keras.models.Model(model.inputs, hidden)\n",
    "    lr = 0.02\n",
    "    adam = optimizers.Adam(lr = lr)\n",
    "    model2.compile(loss = 'categorical_crossentropy', optimizer = adam, metrics = ['accuracy'])\n",
    "    \n",
    "    \n",
    "    #print(model.summary())\n",
    "    # model.fit(X_train, y_train, batch_size = 8, validation_split = 0.2, epochs = 15, verbose = 2)\n",
    "    model2.fit(X_train, y_train, batch_size = 8, validation_split = 0.2, epochs = 40, verbose = 1)\n",
    "    results = model2.evaluate(X_test, y_test, verbose = 2)\n",
    "    \n",
    "    precision,recall,fscore,support=score(Y_test, y_pred,average='macro')\n",
    "    \n",
    "    f1_per_fold.append(round(fscore,4))\n",
    "    acc_per_fold.append(round(results[1] * 100,4))\n",
    "    loss_per_fold.append(round(results[0],4))\n",
    "    \n",
    "    \n",
    "    print('Test accuracy: ',acc_per_fold[-1])\n",
    "    print('Test loss: ',loss_per_fold[-1])\n",
    "    "
   ]
  },
  {
   "cell_type": "code",
   "execution_count": null,
   "metadata": {
    "id": "LJHe1D5qV_eg",
    "outputId": "1b319344-4b50-4ac0-b523-ffe7b55ed386"
   },
   "outputs": [],
   "source": [
    "model2.summary()"
   ]
  },
  {
   "cell_type": "code",
   "execution_count": null,
   "metadata": {
    "id": "3N08D1T3V_eh"
   },
   "outputs": [],
   "source": [
    "acc_stat = f1_per_fold"
   ]
  },
  {
   "cell_type": "code",
   "execution_count": null,
   "metadata": {
    "id": "ClLlU4NUV_ei",
    "outputId": "83028959-353a-45ff-cf14-b45023d0111e",
    "scrolled": true
   },
   "outputs": [],
   "source": [
    "len(acc_stat)"
   ]
  },
  {
   "cell_type": "code",
   "execution_count": null,
   "metadata": {
    "id": "p9UowrhyV_ek",
    "outputId": "6f97f3d6-2350-4ad6-a796-ad5a12b1583f"
   },
   "outputs": [],
   "source": [
    "count = 0\n",
    "for i in range(10,500,5):\n",
    "    count +=1\n",
    "    if count == 36:\n",
    "        print(i)"
   ]
  },
  {
   "cell_type": "code",
   "execution_count": null,
   "metadata": {
    "id": "hVdqgJsvV_em",
    "outputId": "d7971ea2-7225-43a1-c555-2b7a31239483"
   },
   "outputs": [],
   "source": [
    "np.std(acc_stat)"
   ]
  },
  {
   "cell_type": "code",
   "execution_count": null,
   "metadata": {
    "id": "7N18eI2SV_er",
    "scrolled": true
   },
   "outputs": [],
   "source": [
    "acc_stat.sort()"
   ]
  },
  {
   "cell_type": "code",
   "execution_count": null,
   "metadata": {
    "id": "J1BbepwYV_ex",
    "outputId": "af79d8bb-a63a-4952-f909-180b26263e37"
   },
   "outputs": [],
   "source": [
    "for element in acc_stat:\n",
    "    print(element*100)"
   ]
  },
  {
   "cell_type": "code",
   "execution_count": null,
   "metadata": {
    "id": "l2slZbfTV_e1",
    "outputId": "ffc2c832-fc4b-4fd4-9d89-baee1573d5fc"
   },
   "outputs": [],
   "source": [
    "f1_per_fold"
   ]
  },
  {
   "cell_type": "code",
   "execution_count": null,
   "metadata": {
    "id": "8A04TlqhV_e3",
    "outputId": "891bc6a8-bc64-487c-9e7d-992c8db31653",
    "scrolled": true
   },
   "outputs": [],
   "source": [
    "#print(np.mean(acc_per_fold))\n",
    "print(np.mean(recall_per_fold))"
   ]
  },
  {
   "cell_type": "code",
   "execution_count": null,
   "metadata": {
    "id": "CWTQhpQAV_e6",
    "outputId": "d36e00ef-6ba6-4683-891d-cec5a0aaaf49"
   },
   "outputs": [],
   "source": [
    "y_train[0]"
   ]
  },
  {
   "cell_type": "markdown",
   "metadata": {
    "id": "hqLjbuyrD987"
   },
   "source": [
    "# Testing LSTM"
   ]
  },
  {
   "cell_type": "code",
   "execution_count": null,
   "metadata": {
    "id": "JmVrr2mCD987"
   },
   "outputs": [],
   "source": [
    "#User LSTM_Dense2 to change parameters of different models so that you live lstm34 intact. Otherwise the same as upper training method\n",
    "\n",
    "model = LSTM_Dense2(X_train,num_of_classes,lr = 0.001)\n",
    "print(model.summary())\n",
    "model.fit(X_train, y_train, batch_size = 8, validation_split = 0.2, epochs = 20, verbose = 2)\n",
    "results = model.evaluate(X_test, y_test, verbose = 2)\n",
    "print('Test accuracy: ', results[1])"
   ]
  },
  {
   "cell_type": "code",
   "execution_count": null,
   "metadata": {
    "id": "-Ue4wd7kD988"
   },
   "outputs": [],
   "source": [
    "print('Test accuracy: ', results[1])\n",
    "print(\"Loss: \"f\"{results[0]}\")\n",
    "Y_pred = model.predict(X_test, verbose = 2)\n",
    "y_pred = np.argmax(Y_pred, axis=1)\n",
    "Y_test = np.argmax(y_test, axis=-1)\n",
    "print(confusion_matrix(Y_test, y_pred))\n",
    "print(classification_report(Y_test, y_pred, target_names=appliances))"
   ]
  },
  {
   "cell_type": "code",
   "execution_count": null,
   "metadata": {
    "id": "eWD-iGIsD989"
   },
   "outputs": [],
   "source": []
  }
 ],
 "metadata": {
  "accelerator": "GPU",
  "colab": {
   "collapsed_sections": [],
   "name": "Copy of LSTM.ipynb",
   "provenance": []
  },
  "kernelspec": {
   "display_name": "Python 3 (ipykernel)",
   "language": "python",
   "name": "python3"
  },
  "language_info": {
   "codemirror_mode": {
    "name": "ipython",
    "version": 3
   },
   "file_extension": ".py",
   "mimetype": "text/x-python",
   "name": "python",
   "nbconvert_exporter": "python",
   "pygments_lexer": "ipython3",
   "version": "3.8.10"
  }
 },
 "nbformat": 4,
 "nbformat_minor": 1
}
