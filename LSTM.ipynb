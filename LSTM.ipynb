{
  "nbformat": 4,
  "nbformat_minor": 0,
  "metadata": {
    "accelerator": "GPU",
    "colab": {
      "name": "Copy of LSTM.ipynb",
      "provenance": [],
      "collapsed_sections": []
    },
    "kernelspec": {
      "display_name": "Python 3 (ipykernel)",
      "language": "python",
      "name": "python3"
    },
    "language_info": {
      "codemirror_mode": {
        "name": "ipython",
        "version": 3
      },
      "file_extension": ".py",
      "mimetype": "text/x-python",
      "name": "python",
      "nbconvert_exporter": "python",
      "pygments_lexer": "ipython3",
      "version": "3.8.10"
    }
  },
  "cells": [
    {
      "cell_type": "code",
      "metadata": {
        "id": "3Xg-5mVEV_dZ"
      },
      "source": [
        "%reset"
      ],
      "execution_count": null,
      "outputs": []
    },
    {
      "cell_type": "code",
      "metadata": {
        "id": "1KpAoaflH-9T",
        "scrolled": true
      },
      "source": [
        "pip install pyts matplotlib "
      ],
      "execution_count": null,
      "outputs": []
    },
    {
      "cell_type": "code",
      "metadata": {
        "colab": {
          "base_uri": "https://localhost:8080/"
        },
        "id": "wCRML9qSD98m",
        "outputId": "5f3d33b7-a5f6-4a31-de41-e73cdc6a2a92"
      },
      "source": [
        "import h5py\n",
        "import numpy as np\n",
        "from sklearn.model_selection import train_test_split\n",
        "from sklearn.metrics import classification_report, confusion_matrix\n",
        "from sklearn.model_selection import train_test_split, KFold,StratifiedKFold\n",
        "from sklearn.metrics import precision_recall_fscore_support as score\n",
        "\n",
        "import matplotlib.pyplot as plt\n",
        "import itertools \n",
        "import pyts\n",
        "from pyts.approximation import PiecewiseAggregateApproximation\n",
        "import os \n",
        "\n",
        "import tensorflow as tf\n",
        "from tensorflow import keras\n",
        "from tensorflow.keras import layers\n",
        "from tensorflow.keras import optimizers\n",
        "from tensorflow.keras.layers import Convolution2D,Conv2D, Dense,Dropout, Flatten, Activation, MaxPooling2D, Input, Conv1D, GlobalAveragePooling1D, TimeDistributed, GRU, LSTM\n",
        "from tensorflow.keras.models import Model\n",
        "\n",
        "\n",
        "\n",
        "print(tf.__version__)\n",
        "print(\"Num GPUs Available: \", len(tf.config.list_physical_devices('GPU')))"
      ],
      "execution_count": null,
      "outputs": [
        {
          "name": "stderr",
          "output_type": "stream",
          "text": [
            "2021-10-08 05:47:47.655510: I tensorflow/stream_executor/platform/default/dso_loader.cc:54] Successfully opened dynamic library libcudart.so.11.0\n"
          ]
        },
        {
          "name": "stdout",
          "output_type": "stream",
          "text": [
            "2.5.0\n",
            "Num GPUs Available:  1\n"
          ]
        },
        {
          "name": "stderr",
          "output_type": "stream",
          "text": [
            "2021-10-08 05:47:48.975556: I tensorflow/stream_executor/platform/default/dso_loader.cc:54] Successfully opened dynamic library libcuda.so.1\n",
            "2021-10-08 05:47:49.741900: I tensorflow/core/common_runtime/gpu/gpu_device.cc:1734] Found device 0 with properties: \n",
            "pciBusID: 0000:21:00.0 name: NVIDIA GeForce RTX 2080 Ti computeCapability: 7.5\n",
            "coreClock: 1.545GHz coreCount: 68 deviceMemorySize: 10.76GiB deviceMemoryBandwidth: 573.69GiB/s\n",
            "2021-10-08 05:47:49.741965: I tensorflow/stream_executor/platform/default/dso_loader.cc:54] Successfully opened dynamic library libcudart.so.11.0\n",
            "2021-10-08 05:47:49.755176: I tensorflow/stream_executor/platform/default/dso_loader.cc:54] Successfully opened dynamic library libcublas.so.11\n",
            "2021-10-08 05:47:49.755247: I tensorflow/stream_executor/platform/default/dso_loader.cc:54] Successfully opened dynamic library libcublasLt.so.11\n",
            "2021-10-08 05:47:49.762280: I tensorflow/stream_executor/platform/default/dso_loader.cc:54] Successfully opened dynamic library libcufft.so.10\n",
            "2021-10-08 05:47:49.764245: I tensorflow/stream_executor/platform/default/dso_loader.cc:54] Successfully opened dynamic library libcurand.so.10\n",
            "2021-10-08 05:47:49.782799: I tensorflow/stream_executor/platform/default/dso_loader.cc:54] Successfully opened dynamic library libcutensor.so.1\n",
            "2021-10-08 05:47:49.785247: I tensorflow/stream_executor/platform/default/dso_loader.cc:54] Successfully opened dynamic library libcusolver.so.11\n",
            "2021-10-08 05:47:49.789645: I tensorflow/stream_executor/platform/default/dso_loader.cc:54] Successfully opened dynamic library libcusparse.so.11\n",
            "2021-10-08 05:47:49.790498: I tensorflow/stream_executor/platform/default/dso_loader.cc:54] Successfully opened dynamic library libcudnn.so.8\n",
            "2021-10-08 05:47:49.791890: I tensorflow/core/common_runtime/gpu/gpu_device.cc:1872] Adding visible gpu devices: 0\n"
          ]
        }
      ]
    },
    {
      "cell_type": "code",
      "metadata": {
        "id": "Ymx0QM6fV_dh",
        "outputId": "a9ba9dc8-da89-4d31-94f6-c189415c6b84"
      },
      "source": [
        "tf.config.list_physical_devices('GPU')"
      ],
      "execution_count": null,
      "outputs": [
        {
          "data": {
            "text/plain": [
              "[PhysicalDevice(name='/physical_device:GPU:0', device_type='GPU')]"
            ]
          },
          "execution_count": 2,
          "metadata": {},
          "output_type": "execute_result"
        }
      ]
    },
    {
      "cell_type": "code",
      "metadata": {
        "colab": {
          "base_uri": "https://localhost:8080/"
        },
        "id": "B4VjnDDrERBF",
        "outputId": "806762c8-2e9c-42c4-db22-9234b05b13b4"
      },
      "source": [
        "#M - months A - appliances N - num of imgs \n",
        "\n",
        "#file_name =\"UKDALE_GAF_1h_18M9A1000N\"\n",
        "#file_name= \"UKDALE_GAF_1h_12M10A300N\"\n",
        "#file_name = \"UKDALE_GAF_1h_12M10A500N\"\n",
        "#file_name = \"UK-DALE_GADF_60m_300S0X_9A5000N_NmB\" # x is n of paralel imgs\n",
        "\n",
        "\n",
        "#file_name = \"test_REFIT+ECO+UKDALE+IAWE_GASF_13m100S10X\"\n",
        "file_name = \"ALL3_incl_short_13m_100S10X_Y-S_AVG-Y\"\n",
        "\n",
        "dir_path =os.path.abspath(os.getcwd())\n",
        "\n",
        "#check if we are in cloud or in PC\n",
        "try:\n",
        "    from google.colab import drive\n",
        "    drive.mount('/content/drive')\n",
        "\n",
        "    print(\"reading from cloud...\")\n",
        "    path = \"/content/drive/MyDrive/Colab Notebooks/NILM/GAF_DS_UNZIPPED/\"f\"{file_name}\"\n",
        "    #path = \"/content/drive/MyDrive/Colab Notebooks/NILM/GAF_DS/old2/\"\n",
        "except:\n",
        "    print(\"reading from HDD\")\n",
        "    path = dir_path+\"/data\"\n",
        "\n",
        "#check if file exists\n",
        "try:\n",
        "    file = h5py.File(f\"{path}\"\"/\"f\"{file_name}\"\"/\"f\"{file_name}\"\".hdf5\",\"r+\")\n",
        "    print(\"file exists, reading it...\")\n",
        "except:\n",
        "    print(\"error reading the file!\")\n",
        "\n",
        "\n",
        "# function to make reading easier\n",
        "def read_many_hdf5(group_name,image_set_name):\n",
        "    \"\"\" \n",
        "    Reads image from HDF5.\n",
        "    \"\"\"\n",
        "    images = []\n",
        "\n",
        "    # Open the HDF5 file\n",
        "    file = h5py.File(f\"{path}\"\"/\"f\"{file_name}\"\".hdf5\", \"r+\")\n",
        "\n",
        "    images = np.array(file[f\"{group_name}\"\"/\"f\"{image_set_name}\"])\n",
        "\n",
        "    return images"
      ],
      "execution_count": null,
      "outputs": [
        {
          "name": "stdout",
          "output_type": "stream",
          "text": [
            "reading from HDD\n",
            "file exists, reading it...\n"
          ]
        }
      ]
    },
    {
      "cell_type": "code",
      "metadata": {
        "id": "f_vWWqtmD98t"
      },
      "source": [
        "def plot_confusion_matrix_norm(cm, classes, normalize=False, title='Confusion matrix', cmap=plt.cm.Blues):\n",
        "\n",
        "    \"\"\"\n",
        "\n",
        "    This function prints and plots the confusion matrix.\n",
        "\n",
        "    Normalization can be applied by setting `normalize=True`.\n",
        "\n",
        "    \"\"\"\n",
        "\n",
        "    plt.figure(figsize=(10,10))\n",
        "\n",
        "\n",
        "\n",
        "    \n",
        "\n",
        "    plt.title(title)\n",
        "\n",
        "\n",
        "\n",
        "    tick_marks = np.arange(len(classes))\n",
        "\n",
        "    plt.xticks(tick_marks, classes, rotation=45)\n",
        "\n",
        "    plt.yticks(tick_marks, classes)\n",
        "\n",
        "\n",
        "\n",
        "    if normalize:\n",
        "\n",
        "        cm = cm.astype('float') / cm.sum(axis=1)[:, np.newaxis]\n",
        "\n",
        "        cm = np.around(cm, decimals=2)\n",
        "\n",
        "        cm[np.isnan(cm)] = 0.0\n",
        "\n",
        "        print(\"Normalized confusion matrix\")\n",
        "\n",
        "    else:\n",
        "\n",
        "        print('Confusion matrix, without normalization')\n",
        "\n",
        "    thresh = cm.max() / 2.\n",
        "\n",
        "    for i, j in itertools.product(range(cm.shape[0]), range(cm.shape[1])):\n",
        "\n",
        "        plt.text(j, i, cm[i, j],\n",
        "\n",
        "                 horizontalalignment=\"center\",\n",
        "\n",
        "                 color=\"white\" if cm[i, j] > thresh else \"black\")\n",
        "\n",
        "    plt.imshow(cm, interpolation='nearest', cmap=cmap)\n",
        "    plt.tight_layout()\n",
        "\n",
        "    plt.ylabel('True label')\n",
        "\n",
        "    plt.xlabel('Predicted label')\n",
        "    plt.colorbar()"
      ],
      "execution_count": null,
      "outputs": []
    },
    {
      "cell_type": "code",
      "metadata": {
        "id": "LIP8pC0sD98x"
      },
      "source": [
        "def LSTM_3D(X_train, num_classes, lr = 0.0001):\n",
        "\n",
        "    input_a = Input(shape = X_train.shape[1: ])\n",
        "\n",
        "    x = TimeDistributed(Convolution2D(16, (7, 7), activation='relu', padding='same'))(input_a)\n",
        "    \n",
        " \n",
        "    x = TimeDistributed(Convolution2D(16, (7, 7), activation='relu', padding='same'))(x)\n",
        "    \n",
        "    x = TimeDistributed(MaxPooling2D(pool_size=(2, 2), padding='same'))(x)\n",
        "   \n",
        "    x = TimeDistributed(Convolution2D(16, (3, 3), activation='relu', padding='same'))(x)\n",
        "   \n",
        "    x = TimeDistributed(Convolution2D(16, (3, 3), activation='relu', padding='same'))(x)\n",
        "    x = TimeDistributed(MaxPooling2D(pool_size=(2, 2), padding='same'))(x)\n",
        "    x = TimeDistributed(Convolution2D(16, (3, 3), activation='relu', padding='same'))(x)\n",
        "    x = TimeDistributed(Convolution2D(16, (3, 3), activation='relu', padding='same'))(x)\n",
        "    x = TimeDistributed(MaxPooling2D(pool_size=(2, 2), padding='same'))(x)\n",
        "    x = Dropout(0.10)(x)\n",
        "    \n",
        "    out = TimeDistributed(Convolution2D(16, (3, 3), activation='relu', padding='same'))(x)\n",
        "    out = TimeDistributed(Convolution2D(16, (3, 3), activation='relu', padding='same'))(out)\n",
        "        # out = TimeDistributed(MaxPooling2D(pool_size=(2, 2), padding='same'))(out)\n",
        "        # out = Dropout(0.60)(out)\n",
        "    out = TimeDistributed(Flatten())(out)\n",
        "    out = LSTM(16, return_sequences=False, unroll=False, dropout=0.2)(out)  # dropout=0.6\n",
        "    prediction = Dense(num_classes, activation='softmax')(out)\n",
        "    model = keras.models.Model(inputs=input_a, outputs=prediction)\n",
        "    adam = optimizers.Adam(lr = lr)\n",
        "    model.compile(loss = 'categorical_crossentropy', optimizer = adam, metrics = ['accuracy'])\n",
        "\n",
        "    return model"
      ],
      "execution_count": null,
      "outputs": []
    },
    {
      "cell_type": "code",
      "metadata": {
        "id": "jb5DmCYBV_dt"
      },
      "source": [
        "def LSTM_3D_base_layers(X_train, num_classes, lr = 0.0001):\n",
        "\n",
        "    input_a = Input(shape = X_train.shape[1: ])\n",
        "\n",
        "    x = TimeDistributed(Convolution2D(16, (7, 7), activation='relu', padding='same'))(input_a)\n",
        "    \n",
        "    x.trainable = False\n",
        "    x = TimeDistributed(Convolution2D(16, (7, 7), activation='relu', padding='same'))(x)\n",
        "    x.trainable = False\n",
        "    x = TimeDistributed(MaxPooling2D(pool_size=(2, 2), padding='same'))(x)\n",
        "    x.trainable = False\n",
        "    x = TimeDistributed(Convolution2D(16, (3, 3), activation='relu', padding='same'))(x)\n",
        "    x.trainable = False\n",
        "    x = TimeDistributed(Convolution2D(16, (3, 3), activation='relu', padding='same'))(x)\n",
        "    x = TimeDistributed(MaxPooling2D(pool_size=(2, 2), padding='same'))(x)\n",
        "    x = TimeDistributed(Convolution2D(16, (3, 3), activation='relu', padding='same'))(x)\n",
        "    x = TimeDistributed(Convolution2D(16, (3, 3), activation='relu', padding='same'))(x)\n",
        "    x = TimeDistributed(MaxPooling2D(pool_size=(2, 2), padding='same'))(x)\n",
        "    x = Dropout(0.10)(x)\n",
        "    \n",
        "    out = TimeDistributed(Convolution2D(16, (3, 3), activation='relu', padding='same'))(x)\n",
        "    out = TimeDistributed(Convolution2D(16, (3, 3), activation='relu', padding='same'))(out)\n",
        "        # out = TimeDistributed(MaxPooling2D(pool_size=(2, 2), padding='same'))(out)\n",
        "        # out = Dropout(0.60)(out)\n",
        "    out = TimeDistributed(Flatten())(out)\n",
        "    base_layers = LSTM(16, return_sequences=False, unroll=False, dropout=0.2)(out)  # dropout=0.6\n",
        "    \n",
        "    return base_layers"
      ],
      "execution_count": null,
      "outputs": []
    },
    {
      "cell_type": "code",
      "metadata": {
        "id": "addpfCXkD98y"
      },
      "source": [
        "def LSTM_Dense2(X_train, num_classes, lr = 0.0001):\n",
        "\n",
        "    input_a = Input(shape = X_train.shape[1: ])\n",
        "\n",
        "    x = TimeDistributed(Convolution2D(8, (7, 7), activation='relu', padding='same'))(input_a)\n",
        "    x = TimeDistributed(Convolution2D(8, (7, 7), activation='relu', padding='same'))(x)\n",
        "    x = TimeDistributed(MaxPooling2D(pool_size=(2, 2), padding='same'))(x)\n",
        "    x = TimeDistributed(Convolution2D(16, (3, 3), activation='relu', padding='same'))(x)\n",
        "    x = TimeDistributed(Convolution2D(16, (3, 3), activation='relu', padding='same'))(x)\n",
        "    x = TimeDistributed(MaxPooling2D(pool_size=(2, 2), padding='same'))(x)\n",
        "    x = TimeDistributed(Convolution2D(32, (3, 3), activation='relu', padding='same'))(x)\n",
        "    x = TimeDistributed(Convolution2D(32, (3, 3), activation='relu', padding='same'))(x)\n",
        "    x = TimeDistributed(MaxPooling2D(pool_size=(2, 2), padding='same'))(x)\n",
        "    x = Dropout(0.10)(x)\n",
        "\n",
        "    out = TimeDistributed(Convolution2D(32, (3, 3), activation='relu', padding='same'))(x)\n",
        "    out = TimeDistributed(Convolution2D(32, (3, 3), activation='relu', padding='same'))(out)\n",
        "        # out = TimeDistributed(MaxPooling2D(pool_size=(2, 2), padding='same'))(out)\n",
        "        # out = Dropout(0.60)(out)\n",
        "    out = TimeDistributed(Flatten())(out)\n",
        "    out = LSTM(16, return_sequences=False, unroll=False, dropout=0.2)(out)\n",
        "    #out = Dense(16, activation = 'relu')(out)\n",
        "    prediction = Dense(num_classes, activation='softmax')(out)\n",
        "    model = keras.models.Model(inputs=input_a, outputs=prediction)\n",
        "    adam = optimizers.Adam(lr = lr)\n",
        "    model.compile(loss = 'categorical_crossentropy', optimizer = adam, metrics = ['accuracy'])\n",
        "\n",
        "    return model"
      ],
      "execution_count": null,
      "outputs": []
    },
    {
      "cell_type": "code",
      "metadata": {
        "id": "ioc9o0B9D98z"
      },
      "source": [
        "def basic_cnn_functional(X_train, num_classes, lr = 0.0001):\n",
        "    \n",
        "    input_a = Input(shape = X_train.shape[1: ])\n",
        "    \n",
        "    x = Convolution2D(16, (7, 7), activation='relu', padding='same')(input_a)\n",
        "    x = Convolution2D(16, (7, 7), activation='relu', padding='same')(x)\n",
        "    x = MaxPooling2D(pool_size=(2, 2), padding='same')(x)\n",
        "    x = Convolution2D(16, (3, 3), activation='relu', padding='same')(x)\n",
        "    x = Convolution2D(16, (3, 3), activation='relu', padding='same')(x)\n",
        "    x = MaxPooling2D(pool_size=(2, 2), padding='same')(x)\n",
        "    x = Convolution2D(16, (3, 3), activation='relu', padding='same')(x)\n",
        "    x = Convolution2D(16, (3, 3), activation='relu', padding='same')(x)\n",
        "    x = MaxPooling2D(pool_size=(2, 2), padding='same')(x)\n",
        "    x = Dropout(0.10)(x)\n",
        "    \n",
        "    \n",
        "    \n",
        "    out = Convolution2D(16, (3, 3), activation='relu', padding='same')(x)\n",
        "    out = Convolution2D(16, (3, 3), activation='relu', padding='same')(out)\n",
        "        # out = TimeDistributed(MaxPooling2D(pool_size=(2, 2), padding='same'))(out)\n",
        "        # out = Dropout(0.60)(out)\n",
        "    out = Flatten()(out)\n",
        "    # dense layer with 50 neurons\n",
        "    dense = Dense(64, activation = 'relu')(out)\n",
        "    # final layer with 10 neurons to classify the instances\n",
        "    output = Dense(num_classes, activation = 'softmax')(dense)\n",
        "    \n",
        "    adam = optimizers.Adam(lr = lr)\n",
        "    model = keras.models.Model(inputs=input_a, outputs=output)\n",
        "    model.compile(loss = 'categorical_crossentropy', optimizer = adam, metrics = ['accuracy'])\n",
        "    \n",
        "    return model"
      ],
      "execution_count": null,
      "outputs": []
    },
    {
      "cell_type": "code",
      "metadata": {
        "id": "1v0t1HtkWNMZ"
      },
      "source": [
        "appliance_set = set()\n",
        "\n",
        "datasets = [\"refit\"]\n",
        "for dataset in datasets:\n",
        "      \n",
        "     for appliance in file[dataset].keys():\n",
        "\n",
        "        for building in file[f\"{dataset}\"\"/\"f\"{appliance}\"\"/\"].keys():\n",
        "            appliance_set.add(appliance)\n",
        "\n",
        "available_appliances = list(appliance_set)\n",
        "print(available_appliances)"
      ],
      "execution_count": null,
      "outputs": []
    },
    {
      "cell_type": "code",
      "metadata": {
        "colab": {
          "base_uri": "https://localhost:8080/"
        },
        "id": "ZadWV9ziwwx7",
        "outputId": "2b5ecedb-4a77-4662-dcec-14021e80e250"
      },
      "source": [
        "##load datastset for normal use\n",
        "data = np.empty([0,10,100,100,1])\n",
        "\n",
        "labels = np.empty(0)\n",
        "labels_ds = np.empty(0)\n",
        "\n",
        "datasets = [\"refit\"]\n",
        "#datasets = [\"eco\",\"refit\",\"ukdale\", \"iawe\",\"redd\"]\n",
        "#datasets = [\"refit\",\"ukdale\"]\n",
        "appliances = []\n",
        "\n",
        "num_of_buildings_arr = []\n",
        "#for refit and eco\n",
        "#appliances =  ['dish washer', 'fridge', 'fridge freezer', 'kettle',\n",
        "#'microwave', 'television', 'toaster', 'washing machine', 'coffee maker',\n",
        "#'computer', 'freezer', 'lamp', 'laptop computer']\n",
        "\n",
        "appliances = ['coffee maker', 'computer', 'freezer', 'fridge', 'lamp', 'laptop computer', 'dish washer', 'fridge freezer', 'kettle', 'microwave', 'television', 'toaster', 'washing machine', 'boiler', 'computer monitor', 'washer dryer']\n",
        "#refit to train on \n",
        "\n",
        "#appliances = [\"television\",\"fridge\",\"dish washer\",\"kettle\",\"toaster\",\"microwave\",\"computer\"]\n",
        "#datasets = [\"eco\",\"iawe\",\"ukdale\",\"redd\"]\n",
        "\n",
        "#eco to TL on\n",
        "# datasets = [\"eco\"]\n",
        "# appliances =[\"fridge\",\"HTPC\",\"kettle\",\"laptop computer\",\"coffee maker\",\"lamp\",\"computer\",\"microwave\"]\n",
        "\n",
        "# #iawe to TL on\n",
        "# datasets = [\"iawe\"]\n",
        "# appliances = [\"air conditioner\",\"computer\",\"fridge\",\"television\"]\n",
        "\n",
        "# #redd to TL on \n",
        "# datasets = [\"redd\"]\n",
        "# appliances = [\"light\",\"dish washer\",\"fridge\",\"microwave\"]\n",
        "\n",
        "# datasets = [\"ukdale\"]\n",
        "# appliances = [\"light\",\"kettle\",\"laptop computer\",\"computer monitor\",\"desktop computer\",\"television\",\"microwave\",\"dish washer\",\"toaster\",\"boiler\"]\n",
        "#'desktop computer',,, 'air conditioner', washer, dryer\n",
        "# #appliances = [\n",
        "#  'fridge',\n",
        "#  'light',\n",
        "#  'microwave']\n",
        "\n",
        "faulty_redd_appliances = [\"air conditioner\",\"washer dryer\"]\n",
        "\n",
        "for dataset in datasets:\n",
        "  #check last len so that number of appliances is balanced\n",
        "  \n",
        "    for appliance in file[dataset].keys():\n",
        "      \n",
        "      if appliance in available_appliances:\n",
        "\n",
        "        last_length = len(np.where(labels == appliances.index(appliance))[0])\n",
        "        #num_of_buildings = 0\n",
        "        for building in file[f\"{dataset}\"\"/\"f\"{appliance}\"\"/\"].keys():\n",
        "          #num_of_buidlings += 1\n",
        "\n",
        "            if (len(np.where(labels == appliances.index(appliance))[0]) - last_length) < 4000:\n",
        "                  \n",
        "                \n",
        "                if dataset == \"redd\" and appliance in faulty_redd_appliances:\n",
        "                        continue        \n",
        "                else:\n",
        "                    \n",
        "                    N  = 50\n",
        "                    if appliance == \"computer\":\n",
        "                        N = 390\n",
        "                      #   N = 250 #for training\n",
        "                     #N = -1\n",
        "                    if appliance == \"fridge\":\n",
        "                        N = 190 #for traingig\n",
        "                     # N = -1\n",
        "                \n",
        "                    if appliance == \"television\":\n",
        "                    #    N = 70 #for training\n",
        "                        #N = 130\n",
        "                        N = 220\n",
        "                    if appliance == \"washing machine\":\n",
        "                        #N = 70 #for training\n",
        "#                         N = 600\n",
        "                        N =-1\n",
        "                    if appliance == \"washer dryer\":\n",
        "                        #N = 40\n",
        "                         N = -1\n",
        "                    if appliance == \"microwave\":\n",
        "                        N = 230\n",
        "                        #N = 90\n",
        "                    if appliance == \"toaster\":\n",
        "                        #N = -1\n",
        "                        #N = 80\n",
        "                    if appliance == \"kettle\":\n",
        "                        N = 250\n",
        "                        #N = 90\n",
        "                    \n",
        "                    #N = -1\n",
        "\n",
        "                    images = np.array(file[f\"{dataset}\"\"/\"f\"{appliance}\"\"/\"f\"{building}\"]['gaf'])\n",
        "                    \n",
        "                    images = images[0:N,...]\n",
        "                    #images = images[N+1:-1,...]\n",
        "                    \n",
        "                    data = np.append(data,images,axis=0)\n",
        "\n",
        "                    array_of_labels = np.ones(images.shape[0])*appliances.index(appliance)\n",
        "                    labels = np.append(labels,array_of_labels)\n",
        "\n",
        "                    array_of_labels_ds =  np.ones(images.shape[0])*datasets.index(dataset)\n",
        "                    labels_ds = np.append(labels_ds,array_of_labels_ds)\n",
        "\n",
        "                    #array_of_labels_buildings = np.ones(images.shape[0])*datasets.index(dataset)\n",
        "                    #labels_buildings = \n",
        "\n",
        "                    print(\"dataset\",dataset,\"app\",appliance,\"bui\",building,\"shape\",data.shape,\"labels\",labels.shape,\"dsshape\",labels_ds.shape)\n",
        "            else:\n",
        "                print(\"skipped appl: \",appliance,\" and dataset:\",dataset,\" due to len: \",(len(np.where(labels == appliances.index(appliance))[0]) - last_length))\n",
        "        \n",
        "\n",
        "print(np.unique(labels))\n",
        "print(\"dataset: \",np.unique(labels_ds))\n",
        "\n",
        "print(data.shape)\n",
        "print(labels.shape)\n",
        "print(labels_ds.shape)\n",
        "\n",
        "print(\"appliances\", appliances)\n",
        "#print(labels)\n",
        "#print([key for key in file[\"data\"].keys()])"
      ],
      "execution_count": null,
      "outputs": [
        {
          "name": "stdout",
          "output_type": "stream",
          "text": [
            "dataset refit app computer bui 1 shape (221, 10, 100, 100, 1) labels (221,) dsshape (221,)\n",
            "dataset refit app computer bui 11 shape (252, 10, 100, 100, 1) labels (252,) dsshape (252,)\n",
            "dataset refit app computer bui 12 shape (254, 10, 100, 100, 1) labels (254,) dsshape (254,)\n",
            "dataset refit app computer bui 14 shape (284, 10, 100, 100, 1) labels (284,) dsshape (284,)\n",
            "dataset refit app computer bui 15 shape (674, 10, 100, 100, 1) labels (674,) dsshape (674,)\n",
            "dataset refit app computer bui 16 shape (1064, 10, 100, 100, 1) labels (1064,) dsshape (1064,)\n",
            "dataset refit app computer bui 17 shape (1212, 10, 100, 100, 1) labels (1212,) dsshape (1212,)\n",
            "dataset refit app computer bui 19 shape (1316, 10, 100, 100, 1) labels (1316,) dsshape (1316,)\n",
            "dataset refit app computer bui 5 shape (1706, 10, 100, 100, 1) labels (1706,) dsshape (1706,)\n",
            "dataset refit app computer bui 6 shape (2096, 10, 100, 100, 1) labels (2096,) dsshape (2096,)\n",
            "dataset refit app computer bui 8 shape (2145, 10, 100, 100, 1) labels (2145,) dsshape (2145,)\n",
            "dataset refit app dish washer bui 1 shape (2151, 10, 100, 100, 1) labels (2151,) dsshape (2151,)\n",
            "dataset refit app dish washer bui 10 shape (2164, 10, 100, 100, 1) labels (2164,) dsshape (2164,)\n",
            "dataset refit app dish washer bui 11 shape (2165, 10, 100, 100, 1) labels (2165,) dsshape (2165,)\n",
            "dataset refit app dish washer bui 13 shape (2166, 10, 100, 100, 1) labels (2166,) dsshape (2166,)\n",
            "dataset refit app dish washer bui 14 shape (2167, 10, 100, 100, 1) labels (2167,) dsshape (2167,)\n",
            "dataset refit app dish washer bui 15 shape (2168, 10, 100, 100, 1) labels (2168,) dsshape (2168,)\n",
            "dataset refit app dish washer bui 17 shape (2169, 10, 100, 100, 1) labels (2169,) dsshape (2169,)\n",
            "dataset refit app dish washer bui 19 shape (2170, 10, 100, 100, 1) labels (2170,) dsshape (2170,)\n",
            "dataset refit app dish washer bui 2 shape (2220, 10, 100, 100, 1) labels (2220,) dsshape (2220,)\n",
            "dataset refit app dish washer bui 20 shape (2227, 10, 100, 100, 1) labels (2227,) dsshape (2227,)\n",
            "dataset refit app dish washer bui 3 shape (2235, 10, 100, 100, 1) labels (2235,) dsshape (2235,)\n",
            "dataset refit app dish washer bui 5 shape (2271, 10, 100, 100, 1) labels (2271,) dsshape (2271,)\n",
            "dataset refit app dish washer bui 6 shape (2280, 10, 100, 100, 1) labels (2280,) dsshape (2280,)\n",
            "dataset refit app dish washer bui 7 shape (2319, 10, 100, 100, 1) labels (2319,) dsshape (2319,)\n",
            "dataset refit app dish washer bui 9 shape (2369, 10, 100, 100, 1) labels (2369,) dsshape (2369,)\n",
            "dataset refit app fridge bui 1 shape (2559, 10, 100, 100, 1) labels (2559,) dsshape (2559,)\n",
            "dataset refit app fridge bui 11 shape (2749, 10, 100, 100, 1) labels (2749,) dsshape (2749,)\n",
            "dataset refit app fridge bui 17 shape (2939, 10, 100, 100, 1) labels (2939,) dsshape (2939,)\n",
            "dataset refit app fridge bui 19 shape (3129, 10, 100, 100, 1) labels (3129,) dsshape (3129,)\n",
            "dataset refit app fridge bui 4 shape (3319, 10, 100, 100, 1) labels (3319,) dsshape (3319,)\n",
            "dataset refit app fridge bui 7 shape (3509, 10, 100, 100, 1) labels (3509,) dsshape (3509,)\n",
            "dataset refit app fridge bui 8 shape (3699, 10, 100, 100, 1) labels (3699,) dsshape (3699,)\n",
            "dataset refit app kettle bui 11 shape (3949, 10, 100, 100, 1) labels (3949,) dsshape (3949,)\n",
            "dataset refit app kettle bui 12 shape (3964, 10, 100, 100, 1) labels (3964,) dsshape (3964,)\n",
            "dataset refit app kettle bui 13 shape (4214, 10, 100, 100, 1) labels (4214,) dsshape (4214,)\n",
            "dataset refit app kettle bui 16 shape (4464, 10, 100, 100, 1) labels (4464,) dsshape (4464,)\n",
            "dataset refit app kettle bui 18 shape (4714, 10, 100, 100, 1) labels (4714,) dsshape (4714,)\n",
            "dataset refit app kettle bui 19 shape (4964, 10, 100, 100, 1) labels (4964,) dsshape (4964,)\n",
            "dataset refit app kettle bui 2 shape (5214, 10, 100, 100, 1) labels (5214,) dsshape (5214,)\n",
            "dataset refit app kettle bui 3 shape (5464, 10, 100, 100, 1) labels (5464,) dsshape (5464,)\n",
            "dataset refit app kettle bui 4 shape (5714, 10, 100, 100, 1) labels (5714,) dsshape (5714,)\n",
            "dataset refit app kettle bui 5 shape (5964, 10, 100, 100, 1) labels (5964,) dsshape (5964,)\n",
            "dataset refit app kettle bui 6 shape (6214, 10, 100, 100, 1) labels (6214,) dsshape (6214,)\n",
            "dataset refit app kettle bui 7 shape (6464, 10, 100, 100, 1) labels (6464,) dsshape (6464,)\n",
            "dataset refit app kettle bui 8 shape (6714, 10, 100, 100, 1) labels (6714,) dsshape (6714,)\n",
            "dataset refit app kettle bui 9 shape (6964, 10, 100, 100, 1) labels (6964,) dsshape (6964,)\n",
            "dataset refit app microwave bui 10 shape (7194, 10, 100, 100, 1) labels (7194,) dsshape (7194,)\n",
            "dataset refit app microwave bui 11 shape (7424, 10, 100, 100, 1) labels (7424,) dsshape (7424,)\n",
            "dataset refit app microwave bui 12 shape (7654, 10, 100, 100, 1) labels (7654,) dsshape (7654,)\n",
            "dataset refit app microwave bui 13 shape (7884, 10, 100, 100, 1) labels (7884,) dsshape (7884,)\n",
            "dataset refit app microwave bui 14 shape (8111, 10, 100, 100, 1) labels (8111,) dsshape (8111,)\n",
            "dataset refit app microwave bui 16 shape (8341, 10, 100, 100, 1) labels (8341,) dsshape (8341,)\n",
            "dataset refit app microwave bui 17 shape (8546, 10, 100, 100, 1) labels (8546,) dsshape (8546,)\n",
            "dataset refit app microwave bui 18 shape (8776, 10, 100, 100, 1) labels (8776,) dsshape (8776,)\n",
            "dataset refit app microwave bui 19 shape (9006, 10, 100, 100, 1) labels (9006,) dsshape (9006,)\n",
            "dataset refit app microwave bui 2 shape (9236, 10, 100, 100, 1) labels (9236,) dsshape (9236,)\n",
            "dataset refit app microwave bui 3 shape (9466, 10, 100, 100, 1) labels (9466,) dsshape (9466,)\n",
            "dataset refit app microwave bui 4 shape (9696, 10, 100, 100, 1) labels (9696,) dsshape (9696,)\n",
            "dataset refit app microwave bui 5 shape (9926, 10, 100, 100, 1) labels (9926,) dsshape (9926,)\n",
            "dataset refit app microwave bui 6 shape (10156, 10, 100, 100, 1) labels (10156,) dsshape (10156,)\n",
            "dataset refit app microwave bui 8 shape (10386, 10, 100, 100, 1) labels (10386,) dsshape (10386,)\n",
            "dataset refit app microwave bui 9 shape (10616, 10, 100, 100, 1) labels (10616,) dsshape (10616,)\n",
            "dataset refit app television bui 1 shape (10836, 10, 100, 100, 1) labels (10836,) dsshape (10836,)\n",
            "dataset refit app television bui 10 shape (11056, 10, 100, 100, 1) labels (11056,) dsshape (11056,)\n",
            "dataset refit app television bui 13 shape (11145, 10, 100, 100, 1) labels (11145,) dsshape (11145,)\n",
            "dataset refit app television bui 14 shape (11365, 10, 100, 100, 1) labels (11365,) dsshape (11365,)\n",
            "dataset refit app television bui 15 shape (11585, 10, 100, 100, 1) labels (11585,) dsshape (11585,)\n",
            "dataset refit app television bui 16 shape (11800, 10, 100, 100, 1) labels (11800,) dsshape (11800,)\n",
            "dataset refit app television bui 17 shape (12020, 10, 100, 100, 1) labels (12020,) dsshape (12020,)\n",
            "dataset refit app television bui 18 shape (12240, 10, 100, 100, 1) labels (12240,) dsshape (12240,)\n",
            "dataset refit app television bui 19 shape (12460, 10, 100, 100, 1) labels (12460,) dsshape (12460,)\n",
            "dataset refit app television bui 2 shape (12584, 10, 100, 100, 1) labels (12584,) dsshape (12584,)\n",
            "dataset refit app television bui 20 shape (12804, 10, 100, 100, 1) labels (12804,) dsshape (12804,)\n",
            "dataset refit app television bui 3 shape (13024, 10, 100, 100, 1) labels (13024,) dsshape (13024,)\n",
            "dataset refit app television bui 4 shape (13244, 10, 100, 100, 1) labels (13244,) dsshape (13244,)\n",
            "dataset refit app television bui 5 shape (13464, 10, 100, 100, 1) labels (13464,) dsshape (13464,)\n",
            "dataset refit app television bui 6 shape (13684, 10, 100, 100, 1) labels (13684,) dsshape (13684,)\n",
            "dataset refit app television bui 7 shape (13904, 10, 100, 100, 1) labels (13904,) dsshape (13904,)\n",
            "dataset refit app television bui 8 shape (14124, 10, 100, 100, 1) labels (14124,) dsshape (14124,)\n",
            "dataset refit app television bui 9 shape (14344, 10, 100, 100, 1) labels (14344,) dsshape (14344,)\n",
            "dataset refit app toaster bui 10 shape (14702, 10, 100, 100, 1) labels (14702,) dsshape (14702,)\n",
            "dataset refit app toaster bui 14 shape (14775, 10, 100, 100, 1) labels (14775,) dsshape (14775,)\n",
            "dataset refit app toaster bui 18 shape (15284, 10, 100, 100, 1) labels (15284,) dsshape (15284,)\n",
            "dataset refit app toaster bui 2 shape (15617, 10, 100, 100, 1) labels (15617,) dsshape (15617,)\n",
            "dataset refit app toaster bui 3 shape (16043, 10, 100, 100, 1) labels (16043,) dsshape (16043,)\n"
          ]
        },
        {
          "name": "stdout",
          "output_type": "stream",
          "text": [
            "dataset refit app toaster bui 5 shape (16742, 10, 100, 100, 1) labels (16742,) dsshape (16742,)\n",
            "dataset refit app toaster bui 6 shape (17217, 10, 100, 100, 1) labels (17217,) dsshape (17217,)\n",
            "dataset refit app toaster bui 7 shape (17885, 10, 100, 100, 1) labels (17885,) dsshape (17885,)\n",
            "dataset refit app toaster bui 8 shape (18337, 10, 100, 100, 1) labels (18337,) dsshape (18337,)\n",
            "[0. 1. 2. 3. 4. 5. 6.]\n",
            "dataset:  [0.]\n",
            "(18337, 10, 100, 100, 1)\n",
            "(18337,)\n",
            "(18337,)\n",
            "appliances ['television', 'fridge', 'dish washer', 'kettle', 'toaster', 'microwave', 'computer']\n"
          ]
        }
      ]
    },
    {
      "cell_type": "code",
      "metadata": {
        "colab": {
          "base_uri": "https://localhost:8080/"
        },
        "id": "ayaLY2YWzfJJ",
        "scrolled": true,
        "outputId": "6fd4c3e6-0293-4fd9-c2c2-046aa1e2d1c3"
      },
      "source": [
        "for i in range(len(appliances)):\n",
        "  print(appliances[i],len(np.where(labels == i)[0]) )"
      ],
      "execution_count": null,
      "outputs": [
        {
          "name": "stdout",
          "output_type": "stream",
          "text": [
            "television 3728\n",
            "fridge 1330\n",
            "dish washer 224\n",
            "kettle 3265\n",
            "toaster 3993\n",
            "microwave 3652\n",
            "computer 2145\n"
          ]
        }
      ]
    },
    {
      "cell_type": "code",
      "metadata": {
        "id": "1PDde-CUV_d-"
      },
      "source": [
        "#backup#if (skip_refit == int(building) and dataset == \"refit\") or (skip_redd == int(building) and appliance == \"light\" and dataset == \"redd\") or (skip_eco == int(building) and appliance == \"HTPC\" and dataset == \"eco\"):"
      ],
      "execution_count": null,
      "outputs": []
    },
    {
      "cell_type": "code",
      "metadata": {
        "colab": {
          "base_uri": "https://localhost:8080/"
        },
        "id": "z_aSNSL5d-jk",
        "outputId": "fcf2a42a-ac66-47a3-9004-ee841290360a"
      },
      "source": [
        "##load dataset hierar for trasfer learnng \n",
        "##script to read hierarchical format (used in colab)\n",
        "data = np.empty([0,10,100,100,1])\n",
        "\n",
        "labels = np.empty(0)\n",
        "labels_ds = np.empty(0)\n",
        "\n",
        "#datasets = [\"iawe\"]\n",
        "datasets = [\"eco\",\"iawe\",\"ukdale\",\"refit\",\"redd\"]\n",
        "appliances = [\"computer\",\"television\",\"freezer\",\"light\",\"washing machine\",\"HTPC\",\"dish washer\",\"coffee maker\",\"computer monitor\"]#,\"microwave\",\"kettle\",\"toaster\"]\n",
        "\n",
        "#to train on refit and TL on all others\n",
        "datasets = [\"refit\"]\n",
        "datasets = [\"eco\",\"iawe\",\"ukdale\",\"redd\"]\n",
        "appliances = [\"television\",\"fridge\",\"dish washer\",\"kettle\",\"toaster\",\"microwave\",\"computer\",\"washing machine\"]\n",
        "\n",
        "class selection:\n",
        "  def __init__(self,dataset, building, appliance):\n",
        "    self.dataset = dataset\n",
        "    self.building = building\n",
        "    self.appliance = appliance\n",
        "    \n",
        "slct = []\n",
        "slct.append(selection(\"refit\",19,\"computer\"))\n",
        "slct.append(selection(\"refit\",19,\"freezer\"))\n",
        "slct.append(selection(\"refit\",19,\"washing machine\"))\n",
        "slct.append(selection(\"refit\",19,\"television\"))\n",
        "slct.append(selection(\"refit\",5,\"microwave\")) #was 12\n",
        "slct.append(selection(\"refit\",10,\"dish washer\"))#was 7 10\n",
        "slct.append(selection(\"refit\",11,\"kettle\")) # was 9 11\n",
        "slct.append(selection(\"refit\",2,\"toaster\")) # was 9 11\n",
        "slct.append(selection(\"redd\",4,\"light\"))\n",
        "slct.append(selection(\"eco\",5,\"HTPC\"))\n",
        "slct.append(selection(\"eco\",1,\"coffee maker\")) \n",
        "slct.append(selection(\"ukdale\",1,\"computer monitor\")) \n",
        "i = 0\n",
        "\n",
        "#loop through datasets\n",
        "for dataset in datasets:\n",
        "\n",
        "    #loop through appliances in dataset\n",
        "    for appliance in file[dataset].keys():\n",
        "        \n",
        "        #in case it matches selected appliance\n",
        "        if appliance in appliances:\n",
        "            \n",
        "            #loop through building for this dataset and this appliance\n",
        "            for building in file[f\"{dataset}\"\"/\"f\"{appliance}\"\"/\"].keys():\n",
        "                \n",
        "                #check if appliance should be skipped and saved for later\n",
        "                continue_flag = 0\n",
        "                for e in slct:\n",
        "                    if(e.dataset == dataset and e.building == int(building) and e.appliance == appliance):\n",
        "                        print(dataset,building,appliance)\n",
        "                        continue_flag = 1\n",
        "                    \n",
        "                if continue_flag == 1:\n",
        "                    print(\"skipped buil \",building,\"and dataset \",dataset,\" with appl\",appliance,\" to save it for later\")\n",
        "                #    continue\n",
        "                \n",
        "                #else:\n",
        "\n",
        "                    N = -1\n",
        "                    if appliance == \"computer\":\n",
        "                        N = 250 #for training\n",
        "                     #N = -1\n",
        "                    if appliance == \"fridge\":\n",
        "                        N = 150 #for traingig\n",
        "                     # N = -1\n",
        "                    if appliance == \"freezer\":\n",
        "                        N = 150 #for traingig\n",
        "                     # N = -1\n",
        "                    if appliance == \"television\":\n",
        "                    #    N = 70 #for training\n",
        "                        N = 130\n",
        "#                     if appliance == \"washing machine\":\n",
        "#                     #    N = 70 #for training\n",
        "#                         N = 600\n",
        "                    if appliance == \"microwave\":\n",
        "                        N = 250\n",
        "                        #N = 90\n",
        "                    if appliance == \"toaster\":\n",
        "                        N = 250\n",
        "                        #N = 80\n",
        "                    if appliance == \"kettle\":\n",
        "                        N = 250\n",
        "                        #N = 90\n",
        "\n",
        "                    #N = 100\n",
        "\n",
        "                    N = -1\n",
        "\n",
        "\n",
        "                    images = np.array(file[f\"{dataset}\"\"/\"f\"{appliance}\"\"/\"f\"{building}\"]['gaf'])\n",
        "                    images = images[0:N,...]\n",
        "                    data = np.append(data,images,axis=0)\n",
        "\n",
        "                    array_of_labels = np.ones(images.shape[0])*appliances.index(appliance)\n",
        "                    labels = np.append(labels,array_of_labels)\n",
        "\n",
        "                    array_of_labels_ds =  np.ones(images.shape[0])*datasets.index(dataset)\n",
        "                    labels_ds = np.append(labels_ds,array_of_labels_ds)\n",
        "\n",
        "\n",
        "                    print(\"dataset\",dataset,\"app\",appliance,\"bui\",building,\"shape\",data.shape,\"labels\",labels.shape,\"dsshape\",labels_ds.shape)\n",
        "\n",
        "\n",
        "\n",
        "print(np.unique(labels))\n",
        "print(\"dataset: \",np.unique(labels_ds))\n",
        "\n",
        "print(data.shape)\n",
        "print(labels.shape)\n",
        "print(labels_ds.shape)\n",
        "\n",
        "print(\"appliances\", appliances)\n",
        "#print(labels)\n",
        "#print([key for key in file[\"data\"].keys()])"
      ],
      "execution_count": null,
      "outputs": [
        {
          "name": "stdout",
          "output_type": "stream",
          "text": [
            "[]\n",
            "dataset:  []\n",
            "(0, 10, 100, 100, 1)\n",
            "(0,)\n",
            "(0,)\n",
            "appliances ['television', 'fridge', 'dish washer', 'kettle', 'toaster', 'microwave', 'computer', 'washing machine']\n"
          ]
        }
      ]
    },
    {
      "cell_type": "code",
      "metadata": {
        "colab": {
          "base_uri": "https://localhost:8080/",
          "height": 558
        },
        "id": "IlILxvchD981",
        "scrolled": false,
        "outputId": "ebf0f0ac-e7e5-4119-c68d-ddfa3e1896c6"
      },
      "source": [
        "#LOAD DATASET\n",
        "\n",
        "#reading h5 file example\n",
        "# file_name = \"UKDALE_GAF_10m_100S10X_9A900N\"\n",
        "#file_name = \"UK-DALE_13m_100S10X_9A5000N\"\n",
        "#file_name = \"REDD_13m_100S10X_8A1500N\"\n",
        "# file_name = 'UK-DALE_RECU_10m_100S10X_9A150N'\n",
        "# file_name = 'UK-DALE_GADF_13m_100S10X_9A5000N_YmB'\n",
        "#file_name = 'UK-DALE_GASF_13m_100S10X_9A5000N_YmB'\n",
        "#file_name=\"iAWE_GASF_13m_100S10X_5A5000N_Y-B_N-O_Y-S\"\n",
        "\n",
        "#read the file\n",
        "#file = h5py.File(f\"{file_name}\"\".hdf5\",\"r+\")\n",
        "#fetch array of appliances\n",
        "enc_appliances = np.array(file[\"classes/appliances\"])\n",
        "appliances = [n.decode(\"utf-8\") for n in enc_appliances]\n",
        "#manualy_selected_appliances.remove(\"microwave\")\n",
        "\n",
        "#fetch array of weights\n",
        "class_weights = np.array(file[\"classes/weights\"])\n",
        "#class_weights = np.delete(class_weights,5)\n",
        "print(appliances)\n",
        "\n",
        "print(class_weights)\n",
        "\n",
        "#read train and label data\n",
        "X = data = np.array(file['data']['gasf'])\n",
        "labels = np.array(file['labels']['gaf'])\n",
        "labels_buildings = np.array(file[\"labels/building\"])\n",
        "\n",
        "#data = np.delete(X,np.where(labels == 5)[0][0],0)\n",
        "\n",
        "#labels = np.delete(labels,np.where(labels == 5)[0][0],0)\n",
        "\n",
        "#labels[np.where(labels == 6)] = 5\n",
        "print(np.unique(labels))\n",
        "\n",
        "print(data.shape)\n",
        "print(labels.shape)\n",
        "#print(labels)\n",
        "print([key for key in file[\"data\"].keys()])"
      ],
      "execution_count": null,
      "outputs": [
        {
          "ename": "KeyError",
          "evalue": "\"Unable to open object (object 'appliances' doesn't exist)\"",
          "output_type": "error",
          "traceback": [
            "\u001b[0;31m---------------------------------------------------------------------------\u001b[0m",
            "\u001b[0;31mKeyError\u001b[0m                                  Traceback (most recent call last)",
            "\u001b[0;32m/tmp/ipykernel_26323/2861793474.py\u001b[0m in \u001b[0;36m<module>\u001b[0;34m\u001b[0m\n\u001b[1;32m     13\u001b[0m \u001b[0;31m#file = h5py.File(f\"{file_name}\"\".hdf5\",\"r+\")\u001b[0m\u001b[0;34m\u001b[0m\u001b[0;34m\u001b[0m\u001b[0;34m\u001b[0m\u001b[0m\n\u001b[1;32m     14\u001b[0m \u001b[0;31m#fetch array of appliances\u001b[0m\u001b[0;34m\u001b[0m\u001b[0;34m\u001b[0m\u001b[0;34m\u001b[0m\u001b[0m\n\u001b[0;32m---> 15\u001b[0;31m \u001b[0menc_appliances\u001b[0m \u001b[0;34m=\u001b[0m \u001b[0mnp\u001b[0m\u001b[0;34m.\u001b[0m\u001b[0marray\u001b[0m\u001b[0;34m(\u001b[0m\u001b[0mfile\u001b[0m\u001b[0;34m[\u001b[0m\u001b[0;34m\"classes/appliances\"\u001b[0m\u001b[0;34m]\u001b[0m\u001b[0;34m)\u001b[0m\u001b[0;34m\u001b[0m\u001b[0;34m\u001b[0m\u001b[0m\n\u001b[0m\u001b[1;32m     16\u001b[0m \u001b[0mappliances\u001b[0m \u001b[0;34m=\u001b[0m \u001b[0;34m[\u001b[0m\u001b[0mn\u001b[0m\u001b[0;34m.\u001b[0m\u001b[0mdecode\u001b[0m\u001b[0;34m(\u001b[0m\u001b[0;34m\"utf-8\"\u001b[0m\u001b[0;34m)\u001b[0m \u001b[0;32mfor\u001b[0m \u001b[0mn\u001b[0m \u001b[0;32min\u001b[0m \u001b[0menc_appliances\u001b[0m\u001b[0;34m]\u001b[0m\u001b[0;34m\u001b[0m\u001b[0;34m\u001b[0m\u001b[0m\n\u001b[1;32m     17\u001b[0m \u001b[0;31m#manualy_selected_appliances.remove(\"microwave\")\u001b[0m\u001b[0;34m\u001b[0m\u001b[0;34m\u001b[0m\u001b[0;34m\u001b[0m\u001b[0m\n",
            "\u001b[0;32mh5py/_objects.pyx\u001b[0m in \u001b[0;36mh5py._objects.with_phil.wrapper\u001b[0;34m()\u001b[0m\n",
            "\u001b[0;32mh5py/_objects.pyx\u001b[0m in \u001b[0;36mh5py._objects.with_phil.wrapper\u001b[0;34m()\u001b[0m\n",
            "\u001b[0;32m/usr/local/lib/python3.8/dist-packages/h5py/_hl/group.py\u001b[0m in \u001b[0;36m__getitem__\u001b[0;34m(self, name)\u001b[0m\n\u001b[1;32m    286\u001b[0m                 \u001b[0;32mraise\u001b[0m \u001b[0mValueError\u001b[0m\u001b[0;34m(\u001b[0m\u001b[0;34m\"Invalid HDF5 object reference\"\u001b[0m\u001b[0;34m)\u001b[0m\u001b[0;34m\u001b[0m\u001b[0;34m\u001b[0m\u001b[0m\n\u001b[1;32m    287\u001b[0m         \u001b[0;32melse\u001b[0m\u001b[0;34m:\u001b[0m\u001b[0;34m\u001b[0m\u001b[0;34m\u001b[0m\u001b[0m\n\u001b[0;32m--> 288\u001b[0;31m             \u001b[0moid\u001b[0m \u001b[0;34m=\u001b[0m \u001b[0mh5o\u001b[0m\u001b[0;34m.\u001b[0m\u001b[0mopen\u001b[0m\u001b[0;34m(\u001b[0m\u001b[0mself\u001b[0m\u001b[0;34m.\u001b[0m\u001b[0mid\u001b[0m\u001b[0;34m,\u001b[0m \u001b[0mself\u001b[0m\u001b[0;34m.\u001b[0m\u001b[0m_e\u001b[0m\u001b[0;34m(\u001b[0m\u001b[0mname\u001b[0m\u001b[0;34m)\u001b[0m\u001b[0;34m,\u001b[0m \u001b[0mlapl\u001b[0m\u001b[0;34m=\u001b[0m\u001b[0mself\u001b[0m\u001b[0;34m.\u001b[0m\u001b[0m_lapl\u001b[0m\u001b[0;34m)\u001b[0m\u001b[0;34m\u001b[0m\u001b[0;34m\u001b[0m\u001b[0m\n\u001b[0m\u001b[1;32m    289\u001b[0m \u001b[0;34m\u001b[0m\u001b[0m\n\u001b[1;32m    290\u001b[0m         \u001b[0motype\u001b[0m \u001b[0;34m=\u001b[0m \u001b[0mh5i\u001b[0m\u001b[0;34m.\u001b[0m\u001b[0mget_type\u001b[0m\u001b[0;34m(\u001b[0m\u001b[0moid\u001b[0m\u001b[0;34m)\u001b[0m\u001b[0;34m\u001b[0m\u001b[0;34m\u001b[0m\u001b[0m\n",
            "\u001b[0;32mh5py/_objects.pyx\u001b[0m in \u001b[0;36mh5py._objects.with_phil.wrapper\u001b[0;34m()\u001b[0m\n",
            "\u001b[0;32mh5py/_objects.pyx\u001b[0m in \u001b[0;36mh5py._objects.with_phil.wrapper\u001b[0;34m()\u001b[0m\n",
            "\u001b[0;32mh5py/h5o.pyx\u001b[0m in \u001b[0;36mh5py.h5o.open\u001b[0;34m()\u001b[0m\n",
            "\u001b[0;31mKeyError\u001b[0m: \"Unable to open object (object 'appliances' doesn't exist)\""
          ]
        }
      ]
    },
    {
      "cell_type": "code",
      "metadata": {
        "id": "KmtKFx4fV_eF"
      },
      "source": [
        "X_train = 0\n",
        "X_test = 0\n",
        "y_train = 0\n",
        "y_test = 0\n"
      ],
      "execution_count": null,
      "outputs": []
    },
    {
      "cell_type": "code",
      "metadata": {
        "id": "Yz2peQqPV_eG"
      },
      "source": [
        "data = 0"
      ],
      "execution_count": null,
      "outputs": []
    },
    {
      "cell_type": "code",
      "metadata": {
        "colab": {
          "base_uri": "https://localhost:8080/"
        },
        "id": "hEVfTAXWD982",
        "scrolled": true,
        "outputId": "c0daff37-a229-4ad6-98c3-1c8f580ff8e5"
      },
      "source": [
        "#Convert classes to onehot encoding\n",
        "\n",
        "# manualy_selected_appliances= [\"computer monitor\", \"laptop computer\", \"television\", \"washer dryer\", \"microwave\",\"boiler\",\"toaster\",\"kettle\",\"fridge\"]\n",
        "num_of_classes = len(appliances)  # \n",
        "print(appliances)\n",
        "print(num_of_classes)\n",
        "\n",
        "y_anomF = tf.keras.utils.to_categorical(labels, num_classes=num_of_classes)"
      ],
      "execution_count": null,
      "outputs": [
        {
          "name": "stdout",
          "output_type": "stream",
          "text": [
            "['television', 'fridge', 'dish washer', 'kettle', 'toaster', 'microwave', 'computer']\n",
            "7\n"
          ]
        }
      ]
    },
    {
      "cell_type": "code",
      "metadata": {
        "colab": {
          "base_uri": "https://localhost:8080/"
        },
        "id": "RGtWqkUKD984",
        "scrolled": false,
        "outputId": "d24ad266-4e48-47ab-e236-b29621fcfddd"
      },
      "source": [
        "#Split data on training and testing datasets\n",
        "\n",
        "X_train, X_test, y_train, y_test = train_test_split(data, y_anomF, test_size=.2, random_state=12, stratify=y_anomF)\n",
        "print(X_train.shape)\n",
        "print(y_train.shape)\n",
        "print(X_test.shape)\n",
        "print(y_test.shape)\n",
        "y_train[0]\n",
        "data = 0;"
      ],
      "execution_count": null,
      "outputs": [
        {
          "name": "stdout",
          "output_type": "stream",
          "text": [
            "(14669, 10, 100, 100, 1)\n",
            "(14669, 7)\n",
            "(3668, 10, 100, 100, 1)\n",
            "(3668, 7)\n"
          ]
        }
      ]
    },
    {
      "cell_type": "code",
      "metadata": {
        "id": "kKZSyJTOV_eL",
        "outputId": "1902151a-4358-4a52-ad32-3c33dce57a10"
      },
      "source": [
        "#copy model for refrence later \n",
        "model_copy= keras.models.clone_model(model)\n",
        "model_copy.build((None, X_train.shape[1: ])) # replace 10 with number of variables in input layer\n",
        "lr = 0.00002\n",
        "adam = optimizers.Adam(lr = lr)\n",
        "model_copy.compile(loss = 'categorical_crossentropy', optimizer = adam, metrics = ['accuracy'])\n",
        "model_copy.set_weights(model.get_weights())"
      ],
      "execution_count": null,
      "outputs": [
        {
          "name": "stderr",
          "output_type": "stream",
          "text": [
            "/usr/local/lib/python3.8/dist-packages/tensorflow/python/keras/optimizer_v2/optimizer_v2.py:374: UserWarning: The `lr` argument is deprecated, use `learning_rate` instead.\n",
            "  warnings.warn(\n"
          ]
        }
      ]
    },
    {
      "cell_type": "code",
      "metadata": {
        "id": "aZ1UEGPSV_eP",
        "outputId": "5e16eb75-ec6a-4e11-a2a3-5fb05b258066"
      },
      "source": [
        "#create trasfer learning model \n",
        "model.trainable = False\n",
        "base_output = model.layers[-2].output\n",
        "hidden = Dense(num_of_classes, activation='softmax')(base_output)\n",
        "\n",
        "model2 = keras.models.Model(model.inputs, hidden)\n",
        "lr = 0.002\n",
        "adam = optimizers.Adam(lr = lr)\n",
        "model2.compile(loss = 'categorical_crossentropy', optimizer = adam, metrics = ['accuracy'])"
      ],
      "execution_count": null,
      "outputs": [
        {
          "name": "stderr",
          "output_type": "stream",
          "text": [
            "/usr/local/lib/python3.8/dist-packages/tensorflow/python/keras/optimizer_v2/optimizer_v2.py:374: UserWarning: The `lr` argument is deprecated, use `learning_rate` instead.\n",
            "  warnings.warn(\n"
          ]
        }
      ]
    },
    {
      "cell_type": "code",
      "metadata": {
        "scrolled": false,
        "id": "szXEZFJjV_eR",
        "outputId": "c3533e45-3972-4503-e158-0e0da507174b"
      },
      "source": [
        "## Load model (LSTM_3D is the one that worked the best), set learning rate and number of classes (final layer length), then train the data (change epoch for more training cycles)\n",
        "model = LSTM_3D(X_train,num_of_classes,lr = 0.00002) #00"
      ],
      "execution_count": null,
      "outputs": [
        {
          "name": "stderr",
          "output_type": "stream",
          "text": [
            "2021-10-08 05:52:05.019835: I tensorflow/core/common_runtime/gpu/gpu_device.cc:1734] Found device 0 with properties: \n",
            "pciBusID: 0000:21:00.0 name: NVIDIA GeForce RTX 2080 Ti computeCapability: 7.5\n",
            "coreClock: 1.545GHz coreCount: 68 deviceMemorySize: 10.76GiB deviceMemoryBandwidth: 573.69GiB/s\n",
            "2021-10-08 05:52:05.021197: I tensorflow/core/common_runtime/gpu/gpu_device.cc:1872] Adding visible gpu devices: 0\n",
            "2021-10-08 05:52:05.024504: I tensorflow/stream_executor/platform/default/dso_loader.cc:54] Successfully opened dynamic library libcudart.so.11.0\n",
            "2021-10-08 05:52:05.815249: I tensorflow/core/common_runtime/gpu/gpu_device.cc:1258] Device interconnect StreamExecutor with strength 1 edge matrix:\n",
            "2021-10-08 05:52:05.815309: I tensorflow/core/common_runtime/gpu/gpu_device.cc:1264]      0 \n",
            "2021-10-08 05:52:05.815570: I tensorflow/core/common_runtime/gpu/gpu_device.cc:1277] 0:   N \n",
            "2021-10-08 05:52:05.817042: I tensorflow/core/common_runtime/gpu/gpu_device.cc:1418] Created TensorFlow device (/job:localhost/replica:0/task:0/device:GPU:0 with 9665 MB memory) -> physical GPU (device: 0, name: NVIDIA GeForce RTX 2080 Ti, pci bus id: 0000:21:00.0, compute capability: 7.5)\n",
            "2021-10-08 05:52:05.818957: I tensorflow/core/common_runtime/process_util.cc:146] Creating new thread pool with default inter op setting: 20. Tune using inter_op_parallelism_threads for best performance.\n",
            "/usr/local/lib/python3.8/dist-packages/tensorflow/python/keras/optimizer_v2/optimizer_v2.py:374: UserWarning: The `lr` argument is deprecated, use `learning_rate` instead.\n",
            "  warnings.warn(\n"
          ]
        }
      ]
    },
    {
      "cell_type": "code",
      "metadata": {
        "colab": {
          "base_uri": "https://localhost:8080/"
        },
        "id": "PZaxveAVD985",
        "scrolled": false,
        "outputId": "455098bc-d985-4abd-b56a-90247f4b04cc"
      },
      "source": [
        "model_used = model\n",
        "\n",
        "model_used.fit(X_train, y_train, batch_size = 8, validation_split = 0.2, epochs = 140, verbose = 2)\n",
        "results = model_used.evaluate(X_test, y_test, verbose = 2)\n",
        "print('Test accuracy: ', results[1])"
      ],
      "execution_count": null,
      "outputs": [
        {
          "name": "stderr",
          "output_type": "stream",
          "text": [
            "2021-10-08 05:52:22.172869: I tensorflow/compiler/mlir/mlir_graph_optimization_pass.cc:176] None of the MLIR Optimization Passes are enabled (registered 2)\n",
            "2021-10-08 05:52:22.196540: I tensorflow/core/platform/profile_utils/cpu_utils.cc:114] CPU Frequency: 3299990000 Hz\n"
          ]
        },
        {
          "name": "stdout",
          "output_type": "stream",
          "text": [
            "Epoch 1/140\n"
          ]
        },
        {
          "name": "stderr",
          "output_type": "stream",
          "text": [
            "2021-10-08 05:52:23.555816: I tensorflow/stream_executor/platform/default/dso_loader.cc:54] Successfully opened dynamic library libcudnn.so.8\n",
            "2021-10-08 05:52:24.319631: I tensorflow/stream_executor/cuda/cuda_dnn.cc:380] Loaded cuDNN version 8202\n",
            "2021-10-08 05:52:25.201088: I tensorflow/stream_executor/platform/default/dso_loader.cc:54] Successfully opened dynamic library libcublas.so.11\n",
            "2021-10-08 05:52:25.913775: I tensorflow/stream_executor/platform/default/dso_loader.cc:54] Successfully opened dynamic library libcublasLt.so.11\n"
          ]
        },
        {
          "name": "stdout",
          "output_type": "stream",
          "text": [
            "1467/1467 - 32s - loss: 1.3516 - accuracy: 0.3911 - val_loss: 1.0247 - val_accuracy: 0.4847\n",
            "Epoch 2/140\n",
            "1467/1467 - 27s - loss: 1.0081 - accuracy: 0.5025 - val_loss: 0.9419 - val_accuracy: 0.5273\n",
            "Epoch 3/140\n",
            "1467/1467 - 27s - loss: 0.9532 - accuracy: 0.5213 - val_loss: 0.9245 - val_accuracy: 0.5331\n",
            "Epoch 4/140\n",
            "1467/1467 - 27s - loss: 0.9251 - accuracy: 0.5333 - val_loss: 0.8939 - val_accuracy: 0.5440\n",
            "Epoch 5/140\n",
            "1467/1467 - 27s - loss: 0.9078 - accuracy: 0.5400 - val_loss: 0.8958 - val_accuracy: 0.5419\n",
            "Epoch 6/140\n",
            "1467/1467 - 27s - loss: 0.8921 - accuracy: 0.5440 - val_loss: 0.8703 - val_accuracy: 0.5511\n",
            "Epoch 7/140\n",
            "1467/1467 - 27s - loss: 0.8772 - accuracy: 0.5503 - val_loss: 0.8516 - val_accuracy: 0.5641\n",
            "Epoch 8/140\n",
            "1467/1467 - 27s - loss: 0.8651 - accuracy: 0.5563 - val_loss: 0.8456 - val_accuracy: 0.5740\n",
            "Epoch 9/140\n",
            "1467/1467 - 27s - loss: 0.8567 - accuracy: 0.5646 - val_loss: 0.8278 - val_accuracy: 0.5781\n",
            "Epoch 10/140\n",
            "1467/1467 - 27s - loss: 0.8452 - accuracy: 0.5709 - val_loss: 0.8173 - val_accuracy: 0.5852\n",
            "Epoch 11/140\n",
            "1467/1467 - 27s - loss: 0.8382 - accuracy: 0.5764 - val_loss: 0.8097 - val_accuracy: 0.5859\n",
            "Epoch 12/140\n",
            "1467/1467 - 27s - loss: 0.8275 - accuracy: 0.5865 - val_loss: 0.8056 - val_accuracy: 0.5920\n",
            "Epoch 13/140\n",
            "1467/1467 - 27s - loss: 0.8227 - accuracy: 0.5899 - val_loss: 0.7960 - val_accuracy: 0.5975\n",
            "Epoch 14/140\n",
            "1467/1467 - 27s - loss: 0.8134 - accuracy: 0.5904 - val_loss: 0.7933 - val_accuracy: 0.5961\n",
            "Epoch 15/140\n",
            "1467/1467 - 27s - loss: 0.8043 - accuracy: 0.5969 - val_loss: 0.7800 - val_accuracy: 0.6135\n",
            "Epoch 16/140\n",
            "1467/1467 - 27s - loss: 0.7973 - accuracy: 0.6062 - val_loss: 0.7731 - val_accuracy: 0.6186\n",
            "Epoch 17/140\n",
            "1467/1467 - 27s - loss: 0.7903 - accuracy: 0.6114 - val_loss: 0.7625 - val_accuracy: 0.6357\n",
            "Epoch 18/140\n",
            "1467/1467 - 27s - loss: 0.7814 - accuracy: 0.6176 - val_loss: 0.7547 - val_accuracy: 0.6312\n",
            "Epoch 19/140\n",
            "1467/1467 - 27s - loss: 0.7729 - accuracy: 0.6226 - val_loss: 0.7461 - val_accuracy: 0.6329\n",
            "Epoch 20/140\n",
            "1467/1467 - 27s - loss: 0.7676 - accuracy: 0.6227 - val_loss: 0.7404 - val_accuracy: 0.6479\n",
            "Epoch 21/140\n",
            "1467/1467 - 27s - loss: 0.7607 - accuracy: 0.6262 - val_loss: 0.7392 - val_accuracy: 0.6333\n",
            "Epoch 22/140\n",
            "1467/1467 - 27s - loss: 0.7527 - accuracy: 0.6401 - val_loss: 0.7292 - val_accuracy: 0.6459\n",
            "Epoch 23/140\n",
            "1467/1467 - 27s - loss: 0.7468 - accuracy: 0.6333 - val_loss: 0.7252 - val_accuracy: 0.6435\n",
            "Epoch 24/140\n",
            "1467/1467 - 27s - loss: 0.7395 - accuracy: 0.6393 - val_loss: 0.7291 - val_accuracy: 0.6397\n",
            "Epoch 25/140\n",
            "1467/1467 - 27s - loss: 0.7379 - accuracy: 0.6418 - val_loss: 0.7165 - val_accuracy: 0.6524\n",
            "Epoch 26/140\n",
            "1467/1467 - 27s - loss: 0.7241 - accuracy: 0.6540 - val_loss: 0.6979 - val_accuracy: 0.6568\n",
            "Epoch 27/140\n",
            "1467/1467 - 27s - loss: 0.7213 - accuracy: 0.6521 - val_loss: 0.6944 - val_accuracy: 0.6680\n",
            "Epoch 28/140\n",
            "1467/1467 - 27s - loss: 0.7156 - accuracy: 0.6540 - val_loss: 0.6945 - val_accuracy: 0.6646\n",
            "Epoch 29/140\n",
            "1467/1467 - 27s - loss: 0.7087 - accuracy: 0.6594 - val_loss: 0.6827 - val_accuracy: 0.6813\n",
            "Epoch 30/140\n",
            "1467/1467 - 27s - loss: 0.7018 - accuracy: 0.6585 - val_loss: 0.6942 - val_accuracy: 0.6772\n",
            "Epoch 31/140\n"
          ]
        }
      ]
    },
    {
      "cell_type": "code",
      "metadata": {
        "id": "mY4eKohdV_eT",
        "outputId": "ab529b94-1236-4418-c346-91e2f1ae4e60"
      },
      "source": [
        "precision,recall,fscore,support=score(Y_test, y_pred,average='macro')\n",
        "    \n",
        "#f1_per_fold.append(round(fscore,4))\n"
      ],
      "execution_count": null,
      "outputs": [
        {
          "name": "stderr",
          "output_type": "stream",
          "text": [
            "/usr/local/lib/python3.8/dist-packages/sklearn/metrics/_classification.py:1248: UndefinedMetricWarning: Precision and F-score are ill-defined and being set to 0.0 in labels with no predicted samples. Use `zero_division` parameter to control this behavior.\n",
            "  _warn_prf(average, modifier, msg_start, len(result))\n"
          ]
        }
      ]
    },
    {
      "cell_type": "code",
      "metadata": {
        "colab": {
          "base_uri": "https://localhost:8080/",
          "height": 1000
        },
        "id": "8sz5Y9qvD986",
        "scrolled": false,
        "outputId": "318c8ee4-890c-4eab-c167-5aeb189ea7ce"
      },
      "source": [
        "#Print results and plot confusion matrix\n",
        "\n",
        "#print('Test accuracy: ', results[1])\n",
        "#print(\"Loss: \"f\"{results[0]}\")\n",
        "Y_pred = model_used.predict(X_test, verbose = 2)\n",
        "y_pred = np.argmax(Y_pred, axis=1)\n",
        "Y_test = np.argmax(y_test, axis=-1)\n",
        "C = confusion_matrix(Y_test, y_pred)\n",
        "# B =np.around((C / C.astype(np.float).sum(axis=1))*100,2)\n",
        "print(confusion_matrix(Y_test, y_pred))\n",
        "precision,recall,fscore,support=score(Y_test, y_pred,average='macro')\n",
        "print(\"F1 SCORE\",fscore)\n",
        "plot_confusion_matrix_norm(C, appliances, normalize=True)\n",
        "print(classification_report(Y_test, y_pred, target_names=appliances))"
      ],
      "execution_count": null,
      "outputs": [
        {
          "name": "stdout",
          "output_type": "stream",
          "text": [
            "96/96 - 2s\n",
            "[[725   4   0   0   0   0  47]\n",
            " [  6 260   0   0   0   0   0]\n",
            " [  0   0  44   0   0   0   1]\n",
            " [  0   0   0 513   0 140   0]\n",
            " [  0   0   0  85   0  58   0]\n",
            " [  0   0   0 149   0 581   0]\n",
            " [ 49   2   0   0   0   0 386]]\n",
            "F1 SCORE 0.7553321906997047\n",
            "Normalized confusion matrix\n",
            "              precision    recall  f1-score   support\n",
            "\n",
            "  television       0.93      0.93      0.93       776\n",
            "      fridge       0.98      0.98      0.98       266\n",
            " dish washer       1.00      0.98      0.99        45\n",
            "      kettle       0.69      0.79      0.73       653\n",
            "     toaster       0.00      0.00      0.00       143\n",
            "   microwave       0.75      0.80      0.77       730\n",
            "    computer       0.89      0.88      0.89       437\n",
            "\n",
            "    accuracy                           0.82      3050\n",
            "   macro avg       0.75      0.76      0.76      3050\n",
            "weighted avg       0.79      0.82      0.81      3050\n",
            "\n"
          ]
        },
        {
          "name": "stderr",
          "output_type": "stream",
          "text": [
            "/usr/local/lib/python3.8/dist-packages/sklearn/metrics/_classification.py:1248: UndefinedMetricWarning: Precision and F-score are ill-defined and being set to 0.0 in labels with no predicted samples. Use `zero_division` parameter to control this behavior.\n",
            "  _warn_prf(average, modifier, msg_start, len(result))\n",
            "/usr/local/lib/python3.8/dist-packages/sklearn/metrics/_classification.py:1248: UndefinedMetricWarning: Precision and F-score are ill-defined and being set to 0.0 in labels with no predicted samples. Use `zero_division` parameter to control this behavior.\n",
            "  _warn_prf(average, modifier, msg_start, len(result))\n",
            "/usr/local/lib/python3.8/dist-packages/sklearn/metrics/_classification.py:1248: UndefinedMetricWarning: Precision and F-score are ill-defined and being set to 0.0 in labels with no predicted samples. Use `zero_division` parameter to control this behavior.\n",
            "  _warn_prf(average, modifier, msg_start, len(result))\n",
            "/usr/local/lib/python3.8/dist-packages/sklearn/metrics/_classification.py:1248: UndefinedMetricWarning: Precision and F-score are ill-defined and being set to 0.0 in labels with no predicted samples. Use `zero_division` parameter to control this behavior.\n",
            "  _warn_prf(average, modifier, msg_start, len(result))\n"
          ]
        },
        {
          "data": {
            "image/png": "[encoded data removed]",
            "text/plain": [
              "<Figure size 720x720 with 2 Axes>"
            ]
          },
          "metadata": {
            "needs_background": "light"
          },
          "output_type": "display_data"
        }
      ]
    },
    {
      "cell_type": "code",
      "metadata": {
        "collapsed": true,
        "id": "mZfMchBLV_eY",
        "outputId": "52855d6e-3598-4778-ba67-97fe1ef6eeee"
      },
      "source": [
        "#kfold with random seed\n",
        "acc_per_fold = []\n",
        "loss_per_fold = []\n",
        "f1_per_fold = []\n",
        "precision_per_fold = []\n",
        "recall_per_fold = []\n",
        "seed_per_fold = []\n",
        "\n",
        "for seed in range(10,500,5):\n",
        "    #print(\"TRAIN:\", train_index, \"TEST:\", test_index)\n",
        "        \n",
        "    X_train, X_test, y_train, y_test = train_test_split(data, y_anomF, test_size=.2, random_state=seed, stratify=y_anomF)\n",
        "    \n",
        "    #Load model (LSTM_3D is the one that worked the best), set learning rate and number of classes (final layer length), then train the data (change epoch for more training cycles)\n",
        "    #model = LSTM_3D(X_train,num_of_classes,lr = 0.00002)\n",
        "    \n",
        "    model.trainable = False\n",
        "    base_output = model.layers[-2].output\n",
        "    hidden = Dense(num_of_classes, activation='softmax')(base_output)\n",
        "\n",
        "    model2 = keras.models.Model(model.inputs, hidden)\n",
        "    lr = 0.02\n",
        "    adam = optimizers.Adam(lr = lr)\n",
        "    model2.compile(loss = 'categorical_crossentropy', optimizer = adam, metrics = ['accuracy'])\n",
        "    \n",
        "    \n",
        "    #print(model.summary())\n",
        "    # model.fit(X_train, y_train, batch_size = 8, validation_split = 0.2, epochs = 15, verbose = 2)\n",
        "    model2.fit(X_train, y_train, batch_size = 8, validation_split = 0.2, epochs = 40, verbose = 0)\n",
        "    results = model2.evaluate(X_test, y_test, verbose = 2)\n",
        "    \n",
        "    Y_pred = model_used.predict(X_test, verbose = 2)\n",
        "    y_pred = np.argmax(Y_pred, axis=1)\n",
        "    Y_test = np.argmax(y_test, axis=-1)\n",
        "    \n",
        "    precision,recall,fscore,support=score(Y_test, y_pred,average='macro')\n",
        "    \n",
        "    f1_per_fold.append(round(fscore,4))\n",
        "    acc_per_fold.append(round(results[1] * 100,4))\n",
        "    loss_per_fold.append(round(results[0],4))\n",
        "    precision_per_fold.append(round(precision,4))\n",
        "    recall_per_fold.append(round(recall,4))\n",
        "    seed_per_fold.append(seed)\n",
        "\n",
        "\n",
        "    \n",
        "    print('Test accuracy: ',acc_per_fold[-1])\n",
        "    print('Test loss: ',loss_per_fold[-1])\n",
        "    print('test f1: ',f1_per_fold[-1])"
      ],
      "execution_count": null,
      "outputs": [
        {
          "name": "stderr",
          "output_type": "stream",
          "text": [
            "/usr/local/lib/python3.8/dist-packages/tensorflow/python/keras/optimizer_v2/optimizer_v2.py:374: UserWarning: The `lr` argument is deprecated, use `learning_rate` instead.\n",
            "  warnings.warn(\n"
          ]
        },
        {
          "name": "stdout",
          "output_type": "stream",
          "text": [
            "8/8 - 0s - loss: 0.3244 - accuracy: 0.8761\n",
            "8/8 - 0s\n",
            "Test accuracy:  87.6106\n",
            "Test loss:  0.3244\n",
            "test f1:  0.9252\n"
          ]
        },
        {
          "name": "stderr",
          "output_type": "stream",
          "text": [
            "/usr/local/lib/python3.8/dist-packages/tensorflow/python/keras/optimizer_v2/optimizer_v2.py:374: UserWarning: The `lr` argument is deprecated, use `learning_rate` instead.\n",
            "  warnings.warn(\n"
          ]
        },
        {
          "name": "stdout",
          "output_type": "stream",
          "text": [
            "8/8 - 0s - loss: 0.3726 - accuracy: 0.8540\n",
            "8/8 - 0s\n",
            "Test accuracy:  85.3982\n",
            "Test loss:  0.3726\n",
            "test f1:  0.8753\n"
          ]
        },
        {
          "name": "stderr",
          "output_type": "stream",
          "text": [
            "/usr/local/lib/python3.8/dist-packages/tensorflow/python/keras/optimizer_v2/optimizer_v2.py:374: UserWarning: The `lr` argument is deprecated, use `learning_rate` instead.\n",
            "  warnings.warn(\n"
          ]
        },
        {
          "name": "stdout",
          "output_type": "stream",
          "text": [
            "8/8 - 0s - loss: 0.3881 - accuracy: 0.8363\n",
            "8/8 - 0s\n",
            "Test accuracy:  83.6283\n",
            "Test loss:  0.3881\n",
            "test f1:  0.8715\n"
          ]
        },
        {
          "name": "stderr",
          "output_type": "stream",
          "text": [
            "/usr/local/lib/python3.8/dist-packages/tensorflow/python/keras/optimizer_v2/optimizer_v2.py:374: UserWarning: The `lr` argument is deprecated, use `learning_rate` instead.\n",
            "  warnings.warn(\n"
          ]
        },
        {
          "name": "stdout",
          "output_type": "stream",
          "text": [
            "8/8 - 0s - loss: 0.4074 - accuracy: 0.8274\n",
            "8/8 - 0s\n",
            "Test accuracy:  82.7434\n",
            "Test loss:  0.4074\n",
            "test f1:  0.8868\n"
          ]
        },
        {
          "name": "stderr",
          "output_type": "stream",
          "text": [
            "/usr/local/lib/python3.8/dist-packages/tensorflow/python/keras/optimizer_v2/optimizer_v2.py:374: UserWarning: The `lr` argument is deprecated, use `learning_rate` instead.\n",
            "  warnings.warn(\n"
          ]
        },
        {
          "name": "stdout",
          "output_type": "stream",
          "text": [
            "8/8 - 0s - loss: 0.3575 - accuracy: 0.8761\n",
            "8/8 - 0s\n",
            "Test accuracy:  87.6106\n",
            "Test loss:  0.3575\n",
            "test f1:  0.8942\n"
          ]
        },
        {
          "name": "stderr",
          "output_type": "stream",
          "text": [
            "/usr/local/lib/python3.8/dist-packages/tensorflow/python/keras/optimizer_v2/optimizer_v2.py:374: UserWarning: The `lr` argument is deprecated, use `learning_rate` instead.\n",
            "  warnings.warn(\n"
          ]
        },
        {
          "name": "stdout",
          "output_type": "stream",
          "text": [
            "8/8 - 0s - loss: 0.3325 - accuracy: 0.8673\n",
            "8/8 - 0s\n",
            "Test accuracy:  86.7257\n",
            "Test loss:  0.3325\n",
            "test f1:  0.917\n"
          ]
        },
        {
          "name": "stderr",
          "output_type": "stream",
          "text": [
            "/usr/local/lib/python3.8/dist-packages/tensorflow/python/keras/optimizer_v2/optimizer_v2.py:374: UserWarning: The `lr` argument is deprecated, use `learning_rate` instead.\n",
            "  warnings.warn(\n"
          ]
        },
        {
          "name": "stdout",
          "output_type": "stream",
          "text": [
            "8/8 - 0s - loss: 0.3734 - accuracy: 0.8363\n",
            "8/8 - 0s\n",
            "Test accuracy:  83.6283\n",
            "Test loss:  0.3734\n",
            "test f1:  0.8958\n"
          ]
        },
        {
          "name": "stderr",
          "output_type": "stream",
          "text": [
            "/usr/local/lib/python3.8/dist-packages/tensorflow/python/keras/optimizer_v2/optimizer_v2.py:374: UserWarning: The `lr` argument is deprecated, use `learning_rate` instead.\n",
            "  warnings.warn(\n"
          ]
        },
        {
          "name": "stdout",
          "output_type": "stream",
          "text": [
            "8/8 - 0s - loss: 0.3522 - accuracy: 0.8584\n",
            "8/8 - 0s\n",
            "Test accuracy:  85.8407\n",
            "Test loss:  0.3522\n",
            "test f1:  0.8737\n"
          ]
        },
        {
          "name": "stderr",
          "output_type": "stream",
          "text": [
            "/usr/local/lib/python3.8/dist-packages/tensorflow/python/keras/optimizer_v2/optimizer_v2.py:374: UserWarning: The `lr` argument is deprecated, use `learning_rate` instead.\n",
            "  warnings.warn(\n"
          ]
        },
        {
          "name": "stdout",
          "output_type": "stream",
          "text": [
            "8/8 - 0s - loss: 0.3498 - accuracy: 0.8761\n",
            "8/8 - 0s\n",
            "Test accuracy:  87.6106\n",
            "Test loss:  0.3498\n",
            "test f1:  0.9285\n"
          ]
        },
        {
          "name": "stderr",
          "output_type": "stream",
          "text": [
            "/usr/local/lib/python3.8/dist-packages/tensorflow/python/keras/optimizer_v2/optimizer_v2.py:374: UserWarning: The `lr` argument is deprecated, use `learning_rate` instead.\n",
            "  warnings.warn(\n"
          ]
        },
        {
          "name": "stdout",
          "output_type": "stream",
          "text": [
            "8/8 - 0s - loss: 0.4160 - accuracy: 0.8407\n",
            "8/8 - 0s\n",
            "Test accuracy:  84.0708\n",
            "Test loss:  0.416\n",
            "test f1:  0.8758\n"
          ]
        },
        {
          "name": "stderr",
          "output_type": "stream",
          "text": [
            "/usr/local/lib/python3.8/dist-packages/tensorflow/python/keras/optimizer_v2/optimizer_v2.py:374: UserWarning: The `lr` argument is deprecated, use `learning_rate` instead.\n",
            "  warnings.warn(\n"
          ]
        },
        {
          "name": "stdout",
          "output_type": "stream",
          "text": [
            "8/8 - 0s - loss: 0.3747 - accuracy: 0.8673\n",
            "8/8 - 0s\n",
            "Test accuracy:  86.7257\n",
            "Test loss:  0.3747\n",
            "test f1:  0.9198\n"
          ]
        },
        {
          "name": "stderr",
          "output_type": "stream",
          "text": [
            "/usr/local/lib/python3.8/dist-packages/tensorflow/python/keras/optimizer_v2/optimizer_v2.py:374: UserWarning: The `lr` argument is deprecated, use `learning_rate` instead.\n",
            "  warnings.warn(\n"
          ]
        },
        {
          "name": "stdout",
          "output_type": "stream",
          "text": [
            "8/8 - 0s - loss: 0.3587 - accuracy: 0.8496\n",
            "8/8 - 0s\n",
            "Test accuracy:  84.9558\n",
            "Test loss:  0.3587\n",
            "test f1:  0.912\n"
          ]
        },
        {
          "name": "stderr",
          "output_type": "stream",
          "text": [
            "/usr/local/lib/python3.8/dist-packages/tensorflow/python/keras/optimizer_v2/optimizer_v2.py:374: UserWarning: The `lr` argument is deprecated, use `learning_rate` instead.\n",
            "  warnings.warn(\n"
          ]
        },
        {
          "name": "stdout",
          "output_type": "stream",
          "text": [
            "8/8 - 0s - loss: 0.4960 - accuracy: 0.8319\n",
            "8/8 - 0s\n",
            "Test accuracy:  83.1858\n",
            "Test loss:  0.496\n",
            "test f1:  0.8992\n"
          ]
        },
        {
          "name": "stderr",
          "output_type": "stream",
          "text": [
            "/usr/local/lib/python3.8/dist-packages/tensorflow/python/keras/optimizer_v2/optimizer_v2.py:374: UserWarning: The `lr` argument is deprecated, use `learning_rate` instead.\n",
            "  warnings.warn(\n"
          ]
        },
        {
          "name": "stdout",
          "output_type": "stream",
          "text": [
            "8/8 - 0s - loss: 0.4358 - accuracy: 0.8407\n",
            "8/8 - 0s\n",
            "Test accuracy:  84.0708\n",
            "Test loss:  0.4358\n",
            "test f1:  0.8619\n"
          ]
        },
        {
          "name": "stderr",
          "output_type": "stream",
          "text": [
            "/usr/local/lib/python3.8/dist-packages/tensorflow/python/keras/optimizer_v2/optimizer_v2.py:374: UserWarning: The `lr` argument is deprecated, use `learning_rate` instead.\n",
            "  warnings.warn(\n"
          ]
        },
        {
          "name": "stdout",
          "output_type": "stream",
          "text": [
            "8/8 - 0s - loss: 0.3225 - accuracy: 0.8938\n",
            "8/8 - 0s\n",
            "Test accuracy:  89.3805\n",
            "Test loss:  0.3225\n",
            "test f1:  0.9144\n"
          ]
        },
        {
          "name": "stderr",
          "output_type": "stream",
          "text": [
            "/usr/local/lib/python3.8/dist-packages/tensorflow/python/keras/optimizer_v2/optimizer_v2.py:374: UserWarning: The `lr` argument is deprecated, use `learning_rate` instead.\n",
            "  warnings.warn(\n"
          ]
        },
        {
          "name": "stdout",
          "output_type": "stream",
          "text": [
            "8/8 - 0s - loss: 0.3075 - accuracy: 0.8850\n",
            "8/8 - 0s\n",
            "Test accuracy:  88.4956\n",
            "Test loss:  0.3075\n",
            "test f1:  0.8781\n"
          ]
        },
        {
          "name": "stderr",
          "output_type": "stream",
          "text": [
            "/usr/local/lib/python3.8/dist-packages/tensorflow/python/keras/optimizer_v2/optimizer_v2.py:374: UserWarning: The `lr` argument is deprecated, use `learning_rate` instead.\n",
            "  warnings.warn(\n"
          ]
        },
        {
          "name": "stdout",
          "output_type": "stream",
          "text": [
            "8/8 - 0s - loss: 0.4854 - accuracy: 0.8407\n",
            "8/8 - 0s\n",
            "Test accuracy:  84.0708\n",
            "Test loss:  0.4854\n",
            "test f1:  0.866\n"
          ]
        },
        {
          "name": "stderr",
          "output_type": "stream",
          "text": [
            "/usr/local/lib/python3.8/dist-packages/tensorflow/python/keras/optimizer_v2/optimizer_v2.py:374: UserWarning: The `lr` argument is deprecated, use `learning_rate` instead.\n",
            "  warnings.warn(\n"
          ]
        },
        {
          "name": "stdout",
          "output_type": "stream",
          "text": [
            "8/8 - 0s - loss: 0.4537 - accuracy: 0.8761\n",
            "8/8 - 0s\n",
            "Test accuracy:  87.6106\n",
            "Test loss:  0.4537\n",
            "test f1:  0.8502\n"
          ]
        },
        {
          "name": "stderr",
          "output_type": "stream",
          "text": [
            "/usr/local/lib/python3.8/dist-packages/tensorflow/python/keras/optimizer_v2/optimizer_v2.py:374: UserWarning: The `lr` argument is deprecated, use `learning_rate` instead.\n",
            "  warnings.warn(\n"
          ]
        },
        {
          "name": "stdout",
          "output_type": "stream",
          "text": [
            "8/8 - 0s - loss: 0.3266 - accuracy: 0.8761\n",
            "8/8 - 0s\n",
            "Test accuracy:  87.6106\n",
            "Test loss:  0.3266\n",
            "test f1:  0.9113\n"
          ]
        },
        {
          "name": "stderr",
          "output_type": "stream",
          "text": [
            "/usr/local/lib/python3.8/dist-packages/tensorflow/python/keras/optimizer_v2/optimizer_v2.py:374: UserWarning: The `lr` argument is deprecated, use `learning_rate` instead.\n",
            "  warnings.warn(\n"
          ]
        },
        {
          "name": "stdout",
          "output_type": "stream",
          "text": [
            "8/8 - 0s - loss: 0.4008 - accuracy: 0.8717\n",
            "8/8 - 0s\n",
            "Test accuracy:  87.1681\n",
            "Test loss:  0.4008\n",
            "test f1:  0.8757\n"
          ]
        },
        {
          "name": "stderr",
          "output_type": "stream",
          "text": [
            "/usr/local/lib/python3.8/dist-packages/tensorflow/python/keras/optimizer_v2/optimizer_v2.py:374: UserWarning: The `lr` argument is deprecated, use `learning_rate` instead.\n",
            "  warnings.warn(\n"
          ]
        },
        {
          "name": "stdout",
          "output_type": "stream",
          "text": [
            "8/8 - 0s - loss: 0.3010 - accuracy: 0.9027\n",
            "8/8 - 0s\n",
            "Test accuracy:  90.2655\n",
            "Test loss:  0.301\n",
            "test f1:  0.9249\n"
          ]
        },
        {
          "name": "stderr",
          "output_type": "stream",
          "text": [
            "/usr/local/lib/python3.8/dist-packages/tensorflow/python/keras/optimizer_v2/optimizer_v2.py:374: UserWarning: The `lr` argument is deprecated, use `learning_rate` instead.\n",
            "  warnings.warn(\n"
          ]
        },
        {
          "name": "stdout",
          "output_type": "stream",
          "text": [
            "8/8 - 0s - loss: 0.4053 - accuracy: 0.8628\n",
            "8/8 - 0s\n",
            "Test accuracy:  86.2832\n",
            "Test loss:  0.4053\n",
            "test f1:  0.9058\n"
          ]
        },
        {
          "name": "stderr",
          "output_type": "stream",
          "text": [
            "/usr/local/lib/python3.8/dist-packages/tensorflow/python/keras/optimizer_v2/optimizer_v2.py:374: UserWarning: The `lr` argument is deprecated, use `learning_rate` instead.\n",
            "  warnings.warn(\n"
          ]
        },
        {
          "name": "stdout",
          "output_type": "stream",
          "text": [
            "8/8 - 0s - loss: 0.4115 - accuracy: 0.8540\n",
            "8/8 - 0s\n",
            "Test accuracy:  85.3982\n",
            "Test loss:  0.4115\n",
            "test f1:  0.8992\n"
          ]
        },
        {
          "name": "stderr",
          "output_type": "stream",
          "text": [
            "/usr/local/lib/python3.8/dist-packages/tensorflow/python/keras/optimizer_v2/optimizer_v2.py:374: UserWarning: The `lr` argument is deprecated, use `learning_rate` instead.\n",
            "  warnings.warn(\n"
          ]
        },
        {
          "name": "stdout",
          "output_type": "stream",
          "text": [
            "8/8 - 0s - loss: 0.4531 - accuracy: 0.8363\n",
            "8/8 - 0s\n",
            "Test accuracy:  83.6283\n",
            "Test loss:  0.4531\n",
            "test f1:  0.8656\n"
          ]
        },
        {
          "name": "stderr",
          "output_type": "stream",
          "text": [
            "/usr/local/lib/python3.8/dist-packages/tensorflow/python/keras/optimizer_v2/optimizer_v2.py:374: UserWarning: The `lr` argument is deprecated, use `learning_rate` instead.\n",
            "  warnings.warn(\n"
          ]
        },
        {
          "name": "stdout",
          "output_type": "stream",
          "text": [
            "8/8 - 0s - loss: 0.3066 - accuracy: 0.8805\n",
            "8/8 - 0s\n",
            "Test accuracy:  88.0531\n",
            "Test loss:  0.3066\n",
            "test f1:  0.9124\n"
          ]
        },
        {
          "name": "stderr",
          "output_type": "stream",
          "text": [
            "/usr/local/lib/python3.8/dist-packages/tensorflow/python/keras/optimizer_v2/optimizer_v2.py:374: UserWarning: The `lr` argument is deprecated, use `learning_rate` instead.\n",
            "  warnings.warn(\n"
          ]
        },
        {
          "name": "stdout",
          "output_type": "stream",
          "text": [
            "8/8 - 0s - loss: 0.3858 - accuracy: 0.8628\n",
            "8/8 - 0s\n",
            "Test accuracy:  86.2832\n",
            "Test loss:  0.3858\n",
            "test f1:  0.9006\n"
          ]
        },
        {
          "name": "stderr",
          "output_type": "stream",
          "text": [
            "/usr/local/lib/python3.8/dist-packages/tensorflow/python/keras/optimizer_v2/optimizer_v2.py:374: UserWarning: The `lr` argument is deprecated, use `learning_rate` instead.\n",
            "  warnings.warn(\n"
          ]
        },
        {
          "name": "stdout",
          "output_type": "stream",
          "text": [
            "8/8 - 0s - loss: 0.3049 - accuracy: 0.8805\n",
            "8/8 - 0s\n",
            "Test accuracy:  88.0531\n",
            "Test loss:  0.3049\n",
            "test f1:  0.9204\n"
          ]
        },
        {
          "name": "stderr",
          "output_type": "stream",
          "text": [
            "/usr/local/lib/python3.8/dist-packages/tensorflow/python/keras/optimizer_v2/optimizer_v2.py:374: UserWarning: The `lr` argument is deprecated, use `learning_rate` instead.\n",
            "  warnings.warn(\n"
          ]
        },
        {
          "name": "stdout",
          "output_type": "stream",
          "text": [
            "8/8 - 0s - loss: 0.3803 - accuracy: 0.8451\n",
            "8/8 - 0s\n",
            "Test accuracy:  84.5133\n",
            "Test loss:  0.3803\n",
            "test f1:  0.8989\n"
          ]
        },
        {
          "name": "stderr",
          "output_type": "stream",
          "text": [
            "/usr/local/lib/python3.8/dist-packages/tensorflow/python/keras/optimizer_v2/optimizer_v2.py:374: UserWarning: The `lr` argument is deprecated, use `learning_rate` instead.\n",
            "  warnings.warn(\n"
          ]
        },
        {
          "name": "stdout",
          "output_type": "stream",
          "text": [
            "8/8 - 0s - loss: 0.3397 - accuracy: 0.9027\n",
            "8/8 - 0s\n",
            "Test accuracy:  90.2655\n",
            "Test loss:  0.3397\n",
            "test f1:  0.8881\n"
          ]
        },
        {
          "name": "stderr",
          "output_type": "stream",
          "text": [
            "/usr/local/lib/python3.8/dist-packages/tensorflow/python/keras/optimizer_v2/optimizer_v2.py:374: UserWarning: The `lr` argument is deprecated, use `learning_rate` instead.\n",
            "  warnings.warn(\n"
          ]
        },
        {
          "name": "stdout",
          "output_type": "stream",
          "text": [
            "8/8 - 0s - loss: 0.3332 - accuracy: 0.8805\n",
            "8/8 - 0s\n",
            "Test accuracy:  88.0531\n",
            "Test loss:  0.3332\n",
            "test f1:  0.9438\n"
          ]
        },
        {
          "name": "stderr",
          "output_type": "stream",
          "text": [
            "/usr/local/lib/python3.8/dist-packages/tensorflow/python/keras/optimizer_v2/optimizer_v2.py:374: UserWarning: The `lr` argument is deprecated, use `learning_rate` instead.\n",
            "  warnings.warn(\n"
          ]
        },
        {
          "name": "stdout",
          "output_type": "stream",
          "text": [
            "8/8 - 0s - loss: 0.3126 - accuracy: 0.8717\n",
            "8/8 - 0s\n",
            "Test accuracy:  87.1681\n",
            "Test loss:  0.3126\n",
            "test f1:  0.9437\n"
          ]
        },
        {
          "name": "stderr",
          "output_type": "stream",
          "text": [
            "/usr/local/lib/python3.8/dist-packages/tensorflow/python/keras/optimizer_v2/optimizer_v2.py:374: UserWarning: The `lr` argument is deprecated, use `learning_rate` instead.\n",
            "  warnings.warn(\n"
          ]
        },
        {
          "name": "stdout",
          "output_type": "stream",
          "text": [
            "8/8 - 0s - loss: 0.3705 - accuracy: 0.8496\n",
            "8/8 - 0s\n",
            "Test accuracy:  84.9558\n",
            "Test loss:  0.3705\n",
            "test f1:  0.8937\n"
          ]
        },
        {
          "name": "stderr",
          "output_type": "stream",
          "text": [
            "/usr/local/lib/python3.8/dist-packages/tensorflow/python/keras/optimizer_v2/optimizer_v2.py:374: UserWarning: The `lr` argument is deprecated, use `learning_rate` instead.\n",
            "  warnings.warn(\n"
          ]
        },
        {
          "name": "stdout",
          "output_type": "stream",
          "text": [
            "8/8 - 0s - loss: 0.4381 - accuracy: 0.8230\n",
            "8/8 - 0s\n",
            "Test accuracy:  82.3009\n",
            "Test loss:  0.4381\n",
            "test f1:  0.8935\n"
          ]
        },
        {
          "name": "stderr",
          "output_type": "stream",
          "text": [
            "/usr/local/lib/python3.8/dist-packages/tensorflow/python/keras/optimizer_v2/optimizer_v2.py:374: UserWarning: The `lr` argument is deprecated, use `learning_rate` instead.\n",
            "  warnings.warn(\n"
          ]
        },
        {
          "name": "stdout",
          "output_type": "stream",
          "text": [
            "8/8 - 0s - loss: 0.3663 - accuracy: 0.8673\n",
            "8/8 - 0s\n",
            "Test accuracy:  86.7257\n",
            "Test loss:  0.3663\n",
            "test f1:  0.8981\n"
          ]
        },
        {
          "name": "stderr",
          "output_type": "stream",
          "text": [
            "/usr/local/lib/python3.8/dist-packages/tensorflow/python/keras/optimizer_v2/optimizer_v2.py:374: UserWarning: The `lr` argument is deprecated, use `learning_rate` instead.\n",
            "  warnings.warn(\n"
          ]
        },
        {
          "name": "stdout",
          "output_type": "stream",
          "text": [
            "8/8 - 0s - loss: 0.3785 - accuracy: 0.8761\n",
            "8/8 - 0s\n",
            "Test accuracy:  87.6106\n",
            "Test loss:  0.3785\n",
            "test f1:  0.8936\n"
          ]
        },
        {
          "name": "stderr",
          "output_type": "stream",
          "text": [
            "/usr/local/lib/python3.8/dist-packages/tensorflow/python/keras/optimizer_v2/optimizer_v2.py:374: UserWarning: The `lr` argument is deprecated, use `learning_rate` instead.\n",
            "  warnings.warn(\n"
          ]
        },
        {
          "name": "stdout",
          "output_type": "stream",
          "text": [
            "8/8 - 0s - loss: 0.4723 - accuracy: 0.8540\n",
            "8/8 - 0s\n",
            "Test accuracy:  85.3982\n",
            "Test loss:  0.4723\n",
            "test f1:  0.9124\n"
          ]
        },
        {
          "name": "stderr",
          "output_type": "stream",
          "text": [
            "/usr/local/lib/python3.8/dist-packages/tensorflow/python/keras/optimizer_v2/optimizer_v2.py:374: UserWarning: The `lr` argument is deprecated, use `learning_rate` instead.\n",
            "  warnings.warn(\n"
          ]
        },
        {
          "name": "stdout",
          "output_type": "stream",
          "text": [
            "8/8 - 0s - loss: 0.5994 - accuracy: 0.7920\n",
            "8/8 - 0s\n",
            "Test accuracy:  79.2035\n",
            "Test loss:  0.5994\n",
            "test f1:  0.8145\n"
          ]
        },
        {
          "name": "stderr",
          "output_type": "stream",
          "text": [
            "/usr/local/lib/python3.8/dist-packages/tensorflow/python/keras/optimizer_v2/optimizer_v2.py:374: UserWarning: The `lr` argument is deprecated, use `learning_rate` instead.\n",
            "  warnings.warn(\n"
          ]
        },
        {
          "name": "stdout",
          "output_type": "stream",
          "text": [
            "8/8 - 0s - loss: 0.3870 - accuracy: 0.8761\n",
            "8/8 - 0s\n",
            "Test accuracy:  87.6106\n",
            "Test loss:  0.387\n",
            "test f1:  0.8897\n"
          ]
        },
        {
          "name": "stderr",
          "output_type": "stream",
          "text": [
            "/usr/local/lib/python3.8/dist-packages/tensorflow/python/keras/optimizer_v2/optimizer_v2.py:374: UserWarning: The `lr` argument is deprecated, use `learning_rate` instead.\n",
            "  warnings.warn(\n"
          ]
        },
        {
          "name": "stdout",
          "output_type": "stream",
          "text": [
            "8/8 - 0s - loss: 0.3091 - accuracy: 0.8938\n",
            "8/8 - 0s\n",
            "Test accuracy:  89.3805\n",
            "Test loss:  0.3091\n",
            "test f1:  0.9275\n"
          ]
        },
        {
          "name": "stderr",
          "output_type": "stream",
          "text": [
            "/usr/local/lib/python3.8/dist-packages/tensorflow/python/keras/optimizer_v2/optimizer_v2.py:374: UserWarning: The `lr` argument is deprecated, use `learning_rate` instead.\n",
            "  warnings.warn(\n"
          ]
        },
        {
          "name": "stdout",
          "output_type": "stream",
          "text": [
            "8/8 - 0s - loss: 0.4430 - accuracy: 0.8407\n",
            "8/8 - 0s\n",
            "Test accuracy:  84.0708\n",
            "Test loss:  0.443\n",
            "test f1:  0.8737\n"
          ]
        },
        {
          "name": "stderr",
          "output_type": "stream",
          "text": [
            "/usr/local/lib/python3.8/dist-packages/tensorflow/python/keras/optimizer_v2/optimizer_v2.py:374: UserWarning: The `lr` argument is deprecated, use `learning_rate` instead.\n",
            "  warnings.warn(\n"
          ]
        },
        {
          "name": "stdout",
          "output_type": "stream",
          "text": [
            "8/8 - 0s - loss: 0.3906 - accuracy: 0.8496\n",
            "8/8 - 0s\n",
            "Test accuracy:  84.9558\n",
            "Test loss:  0.3906\n",
            "test f1:  0.8913\n"
          ]
        },
        {
          "name": "stderr",
          "output_type": "stream",
          "text": [
            "/usr/local/lib/python3.8/dist-packages/tensorflow/python/keras/optimizer_v2/optimizer_v2.py:374: UserWarning: The `lr` argument is deprecated, use `learning_rate` instead.\n",
            "  warnings.warn(\n"
          ]
        },
        {
          "name": "stdout",
          "output_type": "stream",
          "text": [
            "8/8 - 0s - loss: 0.2970 - accuracy: 0.8761\n",
            "8/8 - 0s\n",
            "Test accuracy:  87.6106\n",
            "Test loss:  0.297\n",
            "test f1:  0.9054\n"
          ]
        },
        {
          "name": "stderr",
          "output_type": "stream",
          "text": [
            "/usr/local/lib/python3.8/dist-packages/tensorflow/python/keras/optimizer_v2/optimizer_v2.py:374: UserWarning: The `lr` argument is deprecated, use `learning_rate` instead.\n",
            "  warnings.warn(\n"
          ]
        },
        {
          "name": "stdout",
          "output_type": "stream",
          "text": [
            "8/8 - 0s - loss: 0.3081 - accuracy: 0.8850\n",
            "8/8 - 0s\n",
            "Test accuracy:  88.4956\n",
            "Test loss:  0.3081\n",
            "test f1:  0.9368\n"
          ]
        },
        {
          "name": "stderr",
          "output_type": "stream",
          "text": [
            "/usr/local/lib/python3.8/dist-packages/tensorflow/python/keras/optimizer_v2/optimizer_v2.py:374: UserWarning: The `lr` argument is deprecated, use `learning_rate` instead.\n",
            "  warnings.warn(\n"
          ]
        },
        {
          "name": "stdout",
          "output_type": "stream",
          "text": [
            "8/8 - 0s - loss: 0.4079 - accuracy: 0.8628\n",
            "8/8 - 0s\n",
            "Test accuracy:  86.2832\n",
            "Test loss:  0.4079\n",
            "test f1:  0.9261\n"
          ]
        },
        {
          "name": "stderr",
          "output_type": "stream",
          "text": [
            "/usr/local/lib/python3.8/dist-packages/tensorflow/python/keras/optimizer_v2/optimizer_v2.py:374: UserWarning: The `lr` argument is deprecated, use `learning_rate` instead.\n",
            "  warnings.warn(\n"
          ]
        },
        {
          "name": "stdout",
          "output_type": "stream",
          "text": [
            "8/8 - 0s - loss: 0.5069 - accuracy: 0.8053\n",
            "8/8 - 0s\n",
            "Test accuracy:  80.531\n",
            "Test loss:  0.5069\n",
            "test f1:  0.8814\n"
          ]
        },
        {
          "name": "stderr",
          "output_type": "stream",
          "text": [
            "/usr/local/lib/python3.8/dist-packages/tensorflow/python/keras/optimizer_v2/optimizer_v2.py:374: UserWarning: The `lr` argument is deprecated, use `learning_rate` instead.\n",
            "  warnings.warn(\n"
          ]
        },
        {
          "name": "stdout",
          "output_type": "stream",
          "text": [
            "8/8 - 0s - loss: 0.3219 - accuracy: 0.8938\n",
            "8/8 - 0s\n",
            "Test accuracy:  89.3805\n",
            "Test loss:  0.3219\n",
            "test f1:  0.9303\n"
          ]
        },
        {
          "name": "stderr",
          "output_type": "stream",
          "text": [
            "/usr/local/lib/python3.8/dist-packages/tensorflow/python/keras/optimizer_v2/optimizer_v2.py:374: UserWarning: The `lr` argument is deprecated, use `learning_rate` instead.\n",
            "  warnings.warn(\n"
          ]
        },
        {
          "name": "stdout",
          "output_type": "stream",
          "text": [
            "8/8 - 0s - loss: 0.3682 - accuracy: 0.8717\n",
            "8/8 - 0s\n",
            "Test accuracy:  87.1681\n",
            "Test loss:  0.3682\n",
            "test f1:  0.9231\n"
          ]
        },
        {
          "name": "stderr",
          "output_type": "stream",
          "text": [
            "/usr/local/lib/python3.8/dist-packages/tensorflow/python/keras/optimizer_v2/optimizer_v2.py:374: UserWarning: The `lr` argument is deprecated, use `learning_rate` instead.\n",
            "  warnings.warn(\n"
          ]
        },
        {
          "name": "stdout",
          "output_type": "stream",
          "text": [
            "8/8 - 0s - loss: 0.3590 - accuracy: 0.8319\n",
            "8/8 - 0s\n",
            "Test accuracy:  83.1858\n",
            "Test loss:  0.359\n",
            "test f1:  0.9008\n"
          ]
        },
        {
          "name": "stderr",
          "output_type": "stream",
          "text": [
            "/usr/local/lib/python3.8/dist-packages/tensorflow/python/keras/optimizer_v2/optimizer_v2.py:374: UserWarning: The `lr` argument is deprecated, use `learning_rate` instead.\n",
            "  warnings.warn(\n"
          ]
        },
        {
          "name": "stdout",
          "output_type": "stream",
          "text": [
            "8/8 - 0s - loss: 0.3478 - accuracy: 0.8850\n",
            "8/8 - 0s\n",
            "Test accuracy:  88.4956\n",
            "Test loss:  0.3478\n",
            "test f1:  0.919\n"
          ]
        },
        {
          "name": "stderr",
          "output_type": "stream",
          "text": [
            "/usr/local/lib/python3.8/dist-packages/tensorflow/python/keras/optimizer_v2/optimizer_v2.py:374: UserWarning: The `lr` argument is deprecated, use `learning_rate` instead.\n",
            "  warnings.warn(\n"
          ]
        },
        {
          "name": "stdout",
          "output_type": "stream",
          "text": [
            "8/8 - 0s - loss: 0.3631 - accuracy: 0.8850\n",
            "8/8 - 0s\n",
            "Test accuracy:  88.4956\n",
            "Test loss:  0.3631\n",
            "test f1:  0.9146\n"
          ]
        },
        {
          "name": "stderr",
          "output_type": "stream",
          "text": [
            "/usr/local/lib/python3.8/dist-packages/tensorflow/python/keras/optimizer_v2/optimizer_v2.py:374: UserWarning: The `lr` argument is deprecated, use `learning_rate` instead.\n",
            "  warnings.warn(\n"
          ]
        },
        {
          "name": "stdout",
          "output_type": "stream",
          "text": [
            "8/8 - 0s - loss: 0.3176 - accuracy: 0.8761\n",
            "8/8 - 0s\n",
            "Test accuracy:  87.6106\n",
            "Test loss:  0.3176\n",
            "test f1:  0.9275\n"
          ]
        },
        {
          "name": "stderr",
          "output_type": "stream",
          "text": [
            "/usr/local/lib/python3.8/dist-packages/tensorflow/python/keras/optimizer_v2/optimizer_v2.py:374: UserWarning: The `lr` argument is deprecated, use `learning_rate` instead.\n",
            "  warnings.warn(\n"
          ]
        },
        {
          "name": "stdout",
          "output_type": "stream",
          "text": [
            "8/8 - 0s - loss: 0.4010 - accuracy: 0.8496\n",
            "8/8 - 0s\n",
            "Test accuracy:  84.9558\n",
            "Test loss:  0.401\n",
            "test f1:  0.9113\n"
          ]
        },
        {
          "name": "stderr",
          "output_type": "stream",
          "text": [
            "/usr/local/lib/python3.8/dist-packages/tensorflow/python/keras/optimizer_v2/optimizer_v2.py:374: UserWarning: The `lr` argument is deprecated, use `learning_rate` instead.\n",
            "  warnings.warn(\n"
          ]
        },
        {
          "name": "stdout",
          "output_type": "stream",
          "text": [
            "8/8 - 0s - loss: 0.4054 - accuracy: 0.8496\n",
            "8/8 - 0s\n",
            "Test accuracy:  84.9558\n",
            "Test loss:  0.4054\n",
            "test f1:  0.8627\n"
          ]
        },
        {
          "name": "stderr",
          "output_type": "stream",
          "text": [
            "/usr/local/lib/python3.8/dist-packages/tensorflow/python/keras/optimizer_v2/optimizer_v2.py:374: UserWarning: The `lr` argument is deprecated, use `learning_rate` instead.\n",
            "  warnings.warn(\n"
          ]
        },
        {
          "name": "stdout",
          "output_type": "stream",
          "text": [
            "8/8 - 0s - loss: 0.3348 - accuracy: 0.8850\n",
            "8/8 - 0s\n",
            "Test accuracy:  88.4956\n",
            "Test loss:  0.3348\n",
            "test f1:  0.9197\n"
          ]
        },
        {
          "name": "stderr",
          "output_type": "stream",
          "text": [
            "/usr/local/lib/python3.8/dist-packages/tensorflow/python/keras/optimizer_v2/optimizer_v2.py:374: UserWarning: The `lr` argument is deprecated, use `learning_rate` instead.\n",
            "  warnings.warn(\n"
          ]
        },
        {
          "name": "stdout",
          "output_type": "stream",
          "text": [
            "8/8 - 0s - loss: 0.3638 - accuracy: 0.8628\n",
            "8/8 - 0s\n",
            "Test accuracy:  86.2832\n",
            "Test loss:  0.3638\n",
            "test f1:  0.9076\n"
          ]
        },
        {
          "name": "stderr",
          "output_type": "stream",
          "text": [
            "/usr/local/lib/python3.8/dist-packages/tensorflow/python/keras/optimizer_v2/optimizer_v2.py:374: UserWarning: The `lr` argument is deprecated, use `learning_rate` instead.\n",
            "  warnings.warn(\n"
          ]
        },
        {
          "name": "stdout",
          "output_type": "stream",
          "text": [
            "8/8 - 0s - loss: 0.4446 - accuracy: 0.8363\n",
            "8/8 - 0s\n",
            "Test accuracy:  83.6283\n",
            "Test loss:  0.4446\n",
            "test f1:  0.8879\n"
          ]
        },
        {
          "name": "stderr",
          "output_type": "stream",
          "text": [
            "/usr/local/lib/python3.8/dist-packages/tensorflow/python/keras/optimizer_v2/optimizer_v2.py:374: UserWarning: The `lr` argument is deprecated, use `learning_rate` instead.\n",
            "  warnings.warn(\n"
          ]
        },
        {
          "name": "stdout",
          "output_type": "stream",
          "text": [
            "8/8 - 0s - loss: 0.3630 - accuracy: 0.8717\n",
            "8/8 - 0s\n",
            "Test accuracy:  87.1681\n",
            "Test loss:  0.363\n",
            "test f1:  0.8946\n"
          ]
        },
        {
          "name": "stderr",
          "output_type": "stream",
          "text": [
            "/usr/local/lib/python3.8/dist-packages/tensorflow/python/keras/optimizer_v2/optimizer_v2.py:374: UserWarning: The `lr` argument is deprecated, use `learning_rate` instead.\n",
            "  warnings.warn(\n"
          ]
        },
        {
          "name": "stdout",
          "output_type": "stream",
          "text": [
            "8/8 - 0s - loss: 0.4382 - accuracy: 0.8496\n",
            "8/8 - 0s\n",
            "Test accuracy:  84.9558\n",
            "Test loss:  0.4382\n",
            "test f1:  0.8922\n"
          ]
        },
        {
          "name": "stderr",
          "output_type": "stream",
          "text": [
            "/usr/local/lib/python3.8/dist-packages/tensorflow/python/keras/optimizer_v2/optimizer_v2.py:374: UserWarning: The `lr` argument is deprecated, use `learning_rate` instead.\n",
            "  warnings.warn(\n"
          ]
        },
        {
          "name": "stdout",
          "output_type": "stream",
          "text": [
            "8/8 - 0s - loss: 0.4160 - accuracy: 0.8097\n",
            "8/8 - 0s\n",
            "Test accuracy:  80.9735\n",
            "Test loss:  0.416\n",
            "test f1:  0.8721\n"
          ]
        },
        {
          "name": "stderr",
          "output_type": "stream",
          "text": [
            "/usr/local/lib/python3.8/dist-packages/tensorflow/python/keras/optimizer_v2/optimizer_v2.py:374: UserWarning: The `lr` argument is deprecated, use `learning_rate` instead.\n",
            "  warnings.warn(\n"
          ]
        },
        {
          "name": "stdout",
          "output_type": "stream",
          "text": [
            "8/8 - 0s - loss: 0.3597 - accuracy: 0.8717\n",
            "8/8 - 0s\n",
            "Test accuracy:  87.1681\n",
            "Test loss:  0.3597\n",
            "test f1:  0.8994\n"
          ]
        },
        {
          "name": "stderr",
          "output_type": "stream",
          "text": [
            "/usr/local/lib/python3.8/dist-packages/tensorflow/python/keras/optimizer_v2/optimizer_v2.py:374: UserWarning: The `lr` argument is deprecated, use `learning_rate` instead.\n",
            "  warnings.warn(\n"
          ]
        },
        {
          "name": "stdout",
          "output_type": "stream",
          "text": [
            "8/8 - 0s - loss: 0.4537 - accuracy: 0.8274\n",
            "8/8 - 0s\n",
            "Test accuracy:  82.7434\n",
            "Test loss:  0.4537\n",
            "test f1:  0.8805\n"
          ]
        },
        {
          "name": "stderr",
          "output_type": "stream",
          "text": [
            "/usr/local/lib/python3.8/dist-packages/tensorflow/python/keras/optimizer_v2/optimizer_v2.py:374: UserWarning: The `lr` argument is deprecated, use `learning_rate` instead.\n",
            "  warnings.warn(\n"
          ]
        },
        {
          "name": "stdout",
          "output_type": "stream",
          "text": [
            "8/8 - 0s - loss: 0.3878 - accuracy: 0.8451\n",
            "8/8 - 0s\n",
            "Test accuracy:  84.5133\n",
            "Test loss:  0.3878\n",
            "test f1:  0.9194\n"
          ]
        },
        {
          "name": "stderr",
          "output_type": "stream",
          "text": [
            "/usr/local/lib/python3.8/dist-packages/tensorflow/python/keras/optimizer_v2/optimizer_v2.py:374: UserWarning: The `lr` argument is deprecated, use `learning_rate` instead.\n",
            "  warnings.warn(\n"
          ]
        },
        {
          "name": "stdout",
          "output_type": "stream",
          "text": [
            "8/8 - 0s - loss: 0.3703 - accuracy: 0.8628\n",
            "8/8 - 0s\n",
            "Test accuracy:  86.2832\n",
            "Test loss:  0.3703\n",
            "test f1:  0.9138\n"
          ]
        },
        {
          "name": "stderr",
          "output_type": "stream",
          "text": [
            "/usr/local/lib/python3.8/dist-packages/tensorflow/python/keras/optimizer_v2/optimizer_v2.py:374: UserWarning: The `lr` argument is deprecated, use `learning_rate` instead.\n",
            "  warnings.warn(\n"
          ]
        },
        {
          "name": "stdout",
          "output_type": "stream",
          "text": [
            "8/8 - 0s - loss: 0.3418 - accuracy: 0.8761\n",
            "8/8 - 0s\n",
            "Test accuracy:  87.6106\n",
            "Test loss:  0.3418\n",
            "test f1:  0.9202\n"
          ]
        },
        {
          "name": "stderr",
          "output_type": "stream",
          "text": [
            "/usr/local/lib/python3.8/dist-packages/tensorflow/python/keras/optimizer_v2/optimizer_v2.py:374: UserWarning: The `lr` argument is deprecated, use `learning_rate` instead.\n",
            "  warnings.warn(\n"
          ]
        },
        {
          "name": "stdout",
          "output_type": "stream",
          "text": [
            "8/8 - 0s - loss: 0.4525 - accuracy: 0.8496\n",
            "8/8 - 0s\n",
            "Test accuracy:  84.9558\n",
            "Test loss:  0.4525\n",
            "test f1:  0.9004\n"
          ]
        },
        {
          "name": "stderr",
          "output_type": "stream",
          "text": [
            "/usr/local/lib/python3.8/dist-packages/tensorflow/python/keras/optimizer_v2/optimizer_v2.py:374: UserWarning: The `lr` argument is deprecated, use `learning_rate` instead.\n",
            "  warnings.warn(\n"
          ]
        },
        {
          "name": "stdout",
          "output_type": "stream",
          "text": [
            "8/8 - 0s - loss: 0.5116 - accuracy: 0.8363\n",
            "8/8 - 0s\n",
            "Test accuracy:  83.6283\n",
            "Test loss:  0.5116\n",
            "test f1:  0.8709\n"
          ]
        },
        {
          "name": "stderr",
          "output_type": "stream",
          "text": [
            "/usr/local/lib/python3.8/dist-packages/tensorflow/python/keras/optimizer_v2/optimizer_v2.py:374: UserWarning: The `lr` argument is deprecated, use `learning_rate` instead.\n",
            "  warnings.warn(\n"
          ]
        },
        {
          "name": "stdout",
          "output_type": "stream",
          "text": [
            "8/8 - 0s - loss: 0.3787 - accuracy: 0.8540\n",
            "8/8 - 0s\n",
            "Test accuracy:  85.3982\n",
            "Test loss:  0.3787\n",
            "test f1:  0.9093\n"
          ]
        },
        {
          "name": "stderr",
          "output_type": "stream",
          "text": [
            "/usr/local/lib/python3.8/dist-packages/tensorflow/python/keras/optimizer_v2/optimizer_v2.py:374: UserWarning: The `lr` argument is deprecated, use `learning_rate` instead.\n",
            "  warnings.warn(\n"
          ]
        },
        {
          "name": "stdout",
          "output_type": "stream",
          "text": [
            "8/8 - 0s - loss: 0.4816 - accuracy: 0.8319\n",
            "8/8 - 0s\n",
            "Test accuracy:  83.1858\n",
            "Test loss:  0.4816\n",
            "test f1:  0.8786\n"
          ]
        },
        {
          "name": "stderr",
          "output_type": "stream",
          "text": [
            "/usr/local/lib/python3.8/dist-packages/tensorflow/python/keras/optimizer_v2/optimizer_v2.py:374: UserWarning: The `lr` argument is deprecated, use `learning_rate` instead.\n",
            "  warnings.warn(\n"
          ]
        },
        {
          "name": "stdout",
          "output_type": "stream",
          "text": [
            "8/8 - 0s - loss: 0.3306 - accuracy: 0.8761\n",
            "8/8 - 0s\n",
            "Test accuracy:  87.6106\n",
            "Test loss:  0.3306\n",
            "test f1:  0.9079\n"
          ]
        },
        {
          "name": "stderr",
          "output_type": "stream",
          "text": [
            "/usr/local/lib/python3.8/dist-packages/tensorflow/python/keras/optimizer_v2/optimizer_v2.py:374: UserWarning: The `lr` argument is deprecated, use `learning_rate` instead.\n",
            "  warnings.warn(\n"
          ]
        },
        {
          "name": "stdout",
          "output_type": "stream",
          "text": [
            "8/8 - 0s - loss: 0.3796 - accuracy: 0.8894\n",
            "8/8 - 0s\n",
            "Test accuracy:  88.9381\n",
            "Test loss:  0.3796\n",
            "test f1:  0.8856\n"
          ]
        },
        {
          "name": "stderr",
          "output_type": "stream",
          "text": [
            "/usr/local/lib/python3.8/dist-packages/tensorflow/python/keras/optimizer_v2/optimizer_v2.py:374: UserWarning: The `lr` argument is deprecated, use `learning_rate` instead.\n",
            "  warnings.warn(\n"
          ]
        },
        {
          "name": "stdout",
          "output_type": "stream",
          "text": [
            "8/8 - 0s - loss: 0.3825 - accuracy: 0.8496\n",
            "8/8 - 0s\n",
            "Test accuracy:  84.9558\n",
            "Test loss:  0.3825\n",
            "test f1:  0.9088\n"
          ]
        },
        {
          "name": "stderr",
          "output_type": "stream",
          "text": [
            "/usr/local/lib/python3.8/dist-packages/tensorflow/python/keras/optimizer_v2/optimizer_v2.py:374: UserWarning: The `lr` argument is deprecated, use `learning_rate` instead.\n",
            "  warnings.warn(\n"
          ]
        },
        {
          "name": "stdout",
          "output_type": "stream",
          "text": [
            "8/8 - 0s - loss: 0.3348 - accuracy: 0.8761\n",
            "8/8 - 0s\n",
            "Test accuracy:  87.6106\n",
            "Test loss:  0.3348\n",
            "test f1:  0.9141\n"
          ]
        },
        {
          "name": "stderr",
          "output_type": "stream",
          "text": [
            "/usr/local/lib/python3.8/dist-packages/tensorflow/python/keras/optimizer_v2/optimizer_v2.py:374: UserWarning: The `lr` argument is deprecated, use `learning_rate` instead.\n",
            "  warnings.warn(\n"
          ]
        },
        {
          "name": "stdout",
          "output_type": "stream",
          "text": [
            "8/8 - 0s - loss: 0.3658 - accuracy: 0.8496\n",
            "8/8 - 0s\n",
            "Test accuracy:  84.9558\n",
            "Test loss:  0.3658\n",
            "test f1:  0.897\n"
          ]
        },
        {
          "name": "stderr",
          "output_type": "stream",
          "text": [
            "/usr/local/lib/python3.8/dist-packages/tensorflow/python/keras/optimizer_v2/optimizer_v2.py:374: UserWarning: The `lr` argument is deprecated, use `learning_rate` instead.\n",
            "  warnings.warn(\n"
          ]
        },
        {
          "name": "stdout",
          "output_type": "stream",
          "text": [
            "8/8 - 0s - loss: 0.4443 - accuracy: 0.8496\n",
            "8/8 - 0s\n",
            "Test accuracy:  84.9558\n",
            "Test loss:  0.4443\n",
            "test f1:  0.8955\n"
          ]
        },
        {
          "name": "stderr",
          "output_type": "stream",
          "text": [
            "/usr/local/lib/python3.8/dist-packages/tensorflow/python/keras/optimizer_v2/optimizer_v2.py:374: UserWarning: The `lr` argument is deprecated, use `learning_rate` instead.\n",
            "  warnings.warn(\n"
          ]
        },
        {
          "name": "stdout",
          "output_type": "stream",
          "text": [
            "8/8 - 0s - loss: 0.3961 - accuracy: 0.8496\n",
            "8/8 - 0s\n",
            "Test accuracy:  84.9558\n",
            "Test loss:  0.3961\n",
            "test f1:  0.8707\n"
          ]
        },
        {
          "name": "stderr",
          "output_type": "stream",
          "text": [
            "/usr/local/lib/python3.8/dist-packages/tensorflow/python/keras/optimizer_v2/optimizer_v2.py:374: UserWarning: The `lr` argument is deprecated, use `learning_rate` instead.\n",
            "  warnings.warn(\n"
          ]
        },
        {
          "name": "stdout",
          "output_type": "stream",
          "text": [
            "8/8 - 0s - loss: 0.3806 - accuracy: 0.9071\n",
            "8/8 - 0s\n",
            "Test accuracy:  90.708\n",
            "Test loss:  0.3806\n",
            "test f1:  0.9313\n"
          ]
        },
        {
          "name": "stderr",
          "output_type": "stream",
          "text": [
            "/usr/local/lib/python3.8/dist-packages/tensorflow/python/keras/optimizer_v2/optimizer_v2.py:374: UserWarning: The `lr` argument is deprecated, use `learning_rate` instead.\n",
            "  warnings.warn(\n"
          ]
        },
        {
          "name": "stdout",
          "output_type": "stream",
          "text": [
            "8/8 - 0s - loss: 0.3854 - accuracy: 0.8584\n",
            "8/8 - 0s\n",
            "Test accuracy:  85.8407\n",
            "Test loss:  0.3854\n",
            "test f1:  0.8754\n"
          ]
        },
        {
          "name": "stderr",
          "output_type": "stream",
          "text": [
            "/usr/local/lib/python3.8/dist-packages/tensorflow/python/keras/optimizer_v2/optimizer_v2.py:374: UserWarning: The `lr` argument is deprecated, use `learning_rate` instead.\n",
            "  warnings.warn(\n"
          ]
        },
        {
          "name": "stdout",
          "output_type": "stream",
          "text": [
            "8/8 - 0s - loss: 0.3449 - accuracy: 0.8540\n",
            "8/8 - 0s\n",
            "Test accuracy:  85.3982\n",
            "Test loss:  0.3449\n",
            "test f1:  0.8581\n"
          ]
        },
        {
          "name": "stderr",
          "output_type": "stream",
          "text": [
            "/usr/local/lib/python3.8/dist-packages/tensorflow/python/keras/optimizer_v2/optimizer_v2.py:374: UserWarning: The `lr` argument is deprecated, use `learning_rate` instead.\n",
            "  warnings.warn(\n"
          ]
        },
        {
          "name": "stdout",
          "output_type": "stream",
          "text": [
            "8/8 - 0s - loss: 0.3163 - accuracy: 0.8805\n",
            "8/8 - 0s\n",
            "Test accuracy:  88.0531\n",
            "Test loss:  0.3163\n",
            "test f1:  0.918\n"
          ]
        },
        {
          "name": "stderr",
          "output_type": "stream",
          "text": [
            "/usr/local/lib/python3.8/dist-packages/tensorflow/python/keras/optimizer_v2/optimizer_v2.py:374: UserWarning: The `lr` argument is deprecated, use `learning_rate` instead.\n",
            "  warnings.warn(\n"
          ]
        },
        {
          "name": "stdout",
          "output_type": "stream",
          "text": [
            "8/8 - 0s - loss: 0.3808 - accuracy: 0.8673\n",
            "8/8 - 0s\n",
            "Test accuracy:  86.7257\n",
            "Test loss:  0.3808\n",
            "test f1:  0.9257\n"
          ]
        },
        {
          "name": "stderr",
          "output_type": "stream",
          "text": [
            "/usr/local/lib/python3.8/dist-packages/tensorflow/python/keras/optimizer_v2/optimizer_v2.py:374: UserWarning: The `lr` argument is deprecated, use `learning_rate` instead.\n",
            "  warnings.warn(\n"
          ]
        },
        {
          "name": "stdout",
          "output_type": "stream",
          "text": [
            "8/8 - 0s - loss: 0.3789 - accuracy: 0.8761\n",
            "8/8 - 0s\n",
            "Test accuracy:  87.6106\n",
            "Test loss:  0.3789\n",
            "test f1:  0.9246\n"
          ]
        },
        {
          "name": "stderr",
          "output_type": "stream",
          "text": [
            "/usr/local/lib/python3.8/dist-packages/tensorflow/python/keras/optimizer_v2/optimizer_v2.py:374: UserWarning: The `lr` argument is deprecated, use `learning_rate` instead.\n",
            "  warnings.warn(\n"
          ]
        },
        {
          "name": "stdout",
          "output_type": "stream",
          "text": [
            "8/8 - 0s - loss: 0.4822 - accuracy: 0.8407\n",
            "8/8 - 0s\n",
            "Test accuracy:  84.0708\n",
            "Test loss:  0.4822\n",
            "test f1:  0.8912\n"
          ]
        },
        {
          "name": "stderr",
          "output_type": "stream",
          "text": [
            "/usr/local/lib/python3.8/dist-packages/tensorflow/python/keras/optimizer_v2/optimizer_v2.py:374: UserWarning: The `lr` argument is deprecated, use `learning_rate` instead.\n",
            "  warnings.warn(\n"
          ]
        },
        {
          "name": "stdout",
          "output_type": "stream",
          "text": [
            "8/8 - 0s - loss: 0.3429 - accuracy: 0.8717\n",
            "8/8 - 0s\n",
            "Test accuracy:  87.1681\n",
            "Test loss:  0.3429\n",
            "test f1:  0.9067\n"
          ]
        },
        {
          "name": "stderr",
          "output_type": "stream",
          "text": [
            "/usr/local/lib/python3.8/dist-packages/tensorflow/python/keras/optimizer_v2/optimizer_v2.py:374: UserWarning: The `lr` argument is deprecated, use `learning_rate` instead.\n",
            "  warnings.warn(\n"
          ]
        },
        {
          "name": "stdout",
          "output_type": "stream",
          "text": [
            "8/8 - 0s - loss: 0.4747 - accuracy: 0.8496\n",
            "8/8 - 0s\n",
            "Test accuracy:  84.9558\n",
            "Test loss:  0.4747\n",
            "test f1:  0.8629\n"
          ]
        },
        {
          "name": "stderr",
          "output_type": "stream",
          "text": [
            "/usr/local/lib/python3.8/dist-packages/tensorflow/python/keras/optimizer_v2/optimizer_v2.py:374: UserWarning: The `lr` argument is deprecated, use `learning_rate` instead.\n",
            "  warnings.warn(\n"
          ]
        },
        {
          "name": "stdout",
          "output_type": "stream",
          "text": [
            "8/8 - 0s - loss: 0.4802 - accuracy: 0.8363\n",
            "8/8 - 0s\n",
            "Test accuracy:  83.6283\n",
            "Test loss:  0.4802\n",
            "test f1:  0.8829\n"
          ]
        },
        {
          "name": "stderr",
          "output_type": "stream",
          "text": [
            "/usr/local/lib/python3.8/dist-packages/tensorflow/python/keras/optimizer_v2/optimizer_v2.py:374: UserWarning: The `lr` argument is deprecated, use `learning_rate` instead.\n",
            "  warnings.warn(\n"
          ]
        },
        {
          "name": "stdout",
          "output_type": "stream",
          "text": [
            "8/8 - 0s - loss: 0.4445 - accuracy: 0.8363\n",
            "8/8 - 0s\n",
            "Test accuracy:  83.6283\n",
            "Test loss:  0.4445\n",
            "test f1:  0.8405\n"
          ]
        },
        {
          "name": "stderr",
          "output_type": "stream",
          "text": [
            "/usr/local/lib/python3.8/dist-packages/tensorflow/python/keras/optimizer_v2/optimizer_v2.py:374: UserWarning: The `lr` argument is deprecated, use `learning_rate` instead.\n",
            "  warnings.warn(\n"
          ]
        },
        {
          "name": "stdout",
          "output_type": "stream",
          "text": [
            "8/8 - 0s - loss: 0.3864 - accuracy: 0.8407\n",
            "8/8 - 0s\n",
            "Test accuracy:  84.0708\n",
            "Test loss:  0.3864\n",
            "test f1:  0.9054\n"
          ]
        },
        {
          "name": "stderr",
          "output_type": "stream",
          "text": [
            "/usr/local/lib/python3.8/dist-packages/tensorflow/python/keras/optimizer_v2/optimizer_v2.py:374: UserWarning: The `lr` argument is deprecated, use `learning_rate` instead.\n",
            "  warnings.warn(\n"
          ]
        },
        {
          "name": "stdout",
          "output_type": "stream",
          "text": [
            "8/8 - 0s - loss: 0.4132 - accuracy: 0.8407\n",
            "8/8 - 0s\n",
            "Test accuracy:  84.0708\n",
            "Test loss:  0.4132\n",
            "test f1:  0.8887\n"
          ]
        },
        {
          "name": "stderr",
          "output_type": "stream",
          "text": [
            "/usr/local/lib/python3.8/dist-packages/tensorflow/python/keras/optimizer_v2/optimizer_v2.py:374: UserWarning: The `lr` argument is deprecated, use `learning_rate` instead.\n",
            "  warnings.warn(\n"
          ]
        },
        {
          "name": "stdout",
          "output_type": "stream",
          "text": [
            "8/8 - 0s - loss: 0.3742 - accuracy: 0.8805\n",
            "8/8 - 0s\n",
            "Test accuracy:  88.0531\n",
            "Test loss:  0.3742\n",
            "test f1:  0.907\n"
          ]
        },
        {
          "name": "stderr",
          "output_type": "stream",
          "text": [
            "/usr/local/lib/python3.8/dist-packages/tensorflow/python/keras/optimizer_v2/optimizer_v2.py:374: UserWarning: The `lr` argument is deprecated, use `learning_rate` instead.\n",
            "  warnings.warn(\n"
          ]
        },
        {
          "name": "stdout",
          "output_type": "stream",
          "text": [
            "8/8 - 0s - loss: 0.5006 - accuracy: 0.8540\n",
            "8/8 - 0s\n",
            "Test accuracy:  85.3982\n",
            "Test loss:  0.5006\n",
            "test f1:  0.9047\n"
          ]
        },
        {
          "name": "stderr",
          "output_type": "stream",
          "text": [
            "/usr/local/lib/python3.8/dist-packages/tensorflow/python/keras/optimizer_v2/optimizer_v2.py:374: UserWarning: The `lr` argument is deprecated, use `learning_rate` instead.\n",
            "  warnings.warn(\n"
          ]
        },
        {
          "name": "stdout",
          "output_type": "stream",
          "text": [
            "8/8 - 0s - loss: 0.3651 - accuracy: 0.8496\n",
            "8/8 - 0s\n",
            "Test accuracy:  84.9558\n",
            "Test loss:  0.3651\n",
            "test f1:  0.9171\n"
          ]
        },
        {
          "name": "stderr",
          "output_type": "stream",
          "text": [
            "/usr/local/lib/python3.8/dist-packages/tensorflow/python/keras/optimizer_v2/optimizer_v2.py:374: UserWarning: The `lr` argument is deprecated, use `learning_rate` instead.\n",
            "  warnings.warn(\n"
          ]
        },
        {
          "name": "stdout",
          "output_type": "stream",
          "text": [
            "8/8 - 0s - loss: 0.4230 - accuracy: 0.8496\n",
            "8/8 - 0s\n",
            "Test accuracy:  84.9558\n",
            "Test loss:  0.423\n",
            "test f1:  0.9043\n"
          ]
        },
        {
          "name": "stderr",
          "output_type": "stream",
          "text": [
            "/usr/local/lib/python3.8/dist-packages/tensorflow/python/keras/optimizer_v2/optimizer_v2.py:374: UserWarning: The `lr` argument is deprecated, use `learning_rate` instead.\n",
            "  warnings.warn(\n"
          ]
        },
        {
          "name": "stdout",
          "output_type": "stream",
          "text": [
            "8/8 - 0s - loss: 0.3712 - accuracy: 0.8673\n",
            "8/8 - 0s\n",
            "Test accuracy:  86.7257\n",
            "Test loss:  0.3712\n",
            "test f1:  0.9016\n"
          ]
        },
        {
          "name": "stderr",
          "output_type": "stream",
          "text": [
            "/usr/local/lib/python3.8/dist-packages/tensorflow/python/keras/optimizer_v2/optimizer_v2.py:374: UserWarning: The `lr` argument is deprecated, use `learning_rate` instead.\n",
            "  warnings.warn(\n"
          ]
        },
        {
          "name": "stdout",
          "output_type": "stream",
          "text": [
            "8/8 - 0s - loss: 0.2858 - accuracy: 0.8938\n",
            "8/8 - 0s\n",
            "Test accuracy:  89.3805\n",
            "Test loss:  0.2858\n",
            "test f1:  0.9375\n"
          ]
        },
        {
          "name": "stderr",
          "output_type": "stream",
          "text": [
            "/usr/local/lib/python3.8/dist-packages/tensorflow/python/keras/optimizer_v2/optimizer_v2.py:374: UserWarning: The `lr` argument is deprecated, use `learning_rate` instead.\n",
            "  warnings.warn(\n"
          ]
        },
        {
          "name": "stdout",
          "output_type": "stream",
          "text": [
            "8/8 - 0s - loss: 0.3961 - accuracy: 0.8496\n",
            "8/8 - 0s\n",
            "Test accuracy:  84.9558\n",
            "Test loss:  0.3961\n",
            "test f1:  0.9059\n"
          ]
        },
        {
          "name": "stderr",
          "output_type": "stream",
          "text": [
            "/usr/local/lib/python3.8/dist-packages/tensorflow/python/keras/optimizer_v2/optimizer_v2.py:374: UserWarning: The `lr` argument is deprecated, use `learning_rate` instead.\n",
            "  warnings.warn(\n"
          ]
        },
        {
          "name": "stdout",
          "output_type": "stream",
          "text": [
            "8/8 - 0s - loss: 0.4768 - accuracy: 0.8363\n",
            "8/8 - 0s\n",
            "Test accuracy:  83.6283\n",
            "Test loss:  0.4768\n",
            "test f1:  0.8966\n"
          ]
        },
        {
          "name": "stderr",
          "output_type": "stream",
          "text": [
            "/usr/local/lib/python3.8/dist-packages/tensorflow/python/keras/optimizer_v2/optimizer_v2.py:374: UserWarning: The `lr` argument is deprecated, use `learning_rate` instead.\n",
            "  warnings.warn(\n"
          ]
        },
        {
          "name": "stdout",
          "output_type": "stream",
          "text": [
            "8/8 - 0s - loss: 0.3143 - accuracy: 0.8850\n",
            "8/8 - 0s\n",
            "Test accuracy:  88.4956\n",
            "Test loss:  0.3143\n",
            "test f1:  0.9144\n"
          ]
        },
        {
          "name": "stderr",
          "output_type": "stream",
          "text": [
            "/usr/local/lib/python3.8/dist-packages/tensorflow/python/keras/optimizer_v2/optimizer_v2.py:374: UserWarning: The `lr` argument is deprecated, use `learning_rate` instead.\n",
            "  warnings.warn(\n"
          ]
        },
        {
          "name": "stdout",
          "output_type": "stream",
          "text": [
            "8/8 - 0s - loss: 0.4076 - accuracy: 0.8628\n",
            "8/8 - 0s\n",
            "Test accuracy:  86.2832\n",
            "Test loss:  0.4076\n",
            "test f1:  0.9226\n"
          ]
        }
      ]
    },
    {
      "cell_type": "markdown",
      "metadata": {
        "id": "xBDtSMVHV_eZ"
      },
      "source": [
        "# KFOLD"
      ]
    },
    {
      "cell_type": "code",
      "metadata": {
        "collapsed": true,
        "id": "dmm5fpS8V_ec",
        "outputId": "714fe77d-38a0-4cba-90cc-6980a40f91da"
      },
      "source": [
        "acc_per_fold = []\n",
        "loss_per_fold = []\n",
        "f1_per_fold = []\n",
        "\n",
        "# X_train, X_test, y_train, y_test = train_test_split(data, y_anomF, test_size=.2, random_state=42)\n",
        "# print(X_train.shape)\n",
        "# print(y_train.shape)\n",
        "# print(X_test.shape)\n",
        "# print(y_test.shape)\n",
        "# y_train[0]\n",
        "\n",
        "#y_anomF = tf.keras.utils.to_categorical(labels, num_classes=num_of_classes)\n",
        "\n",
        "skf = StratifiedKFold(n_splits=5,shuffle=False)\n",
        "print(\"num of splits:\",skf.get_n_splits(data))\n",
        "\n",
        "for train_index, test_index in skf.split(data, labels):\n",
        "    #print(\"TRAIN:\", train_index, \"TEST:\", test_index)\n",
        "    \n",
        "    X_train, X_test = data[train_index], data[test_index]\n",
        "    y_train, y_test = labels[train_index], labels[test_index]\n",
        "    \n",
        "#     train_l = []\n",
        "#     test_l = []\n",
        "    \n",
        "#     for n in range(num_of_classes):\n",
        "#         train_l.append(len(y_train[y_train==n]))\n",
        "#         test_l.append(len(y_test[y_test==n]))\n",
        "    \n",
        "#     print('>Train:', (train_l),\"all\",sum(train_l))\n",
        "#     print('>test:', (test_l),\"all\",sum(test_l))\n",
        "\n",
        "\n",
        "    y_train = tf.keras.utils.to_categorical(y_train, num_classes=num_of_classes)\n",
        "    y_test = tf.keras.utils.to_categorical(y_test, num_classes=num_of_classes)\n",
        "    \n",
        "    \n",
        "    \n",
        "    #Load model (LSTM_3D is the one that worked the best), set learning rate and number of classes (final layer length), then train the data (change epoch for more training cycles)\n",
        "    #model = LSTM_3D(X_train,num_of_classes,lr = 0.00002)\n",
        "    \n",
        "    model.trainable = False\n",
        "    base_output = model.layers[-2].output\n",
        "    hidden = Dense(num_of_classes, activation='softmax')(base_output)\n",
        "\n",
        "    model2 = keras.models.Model(model.inputs, hidden)\n",
        "    lr = 0.02\n",
        "    adam = optimizers.Adam(lr = lr)\n",
        "    model2.compile(loss = 'categorical_crossentropy', optimizer = adam, metrics = ['accuracy'])\n",
        "    \n",
        "    \n",
        "    #print(model.summary())\n",
        "    # model.fit(X_train, y_train, batch_size = 8, validation_split = 0.2, epochs = 15, verbose = 2)\n",
        "    model2.fit(X_train, y_train, batch_size = 8, validation_split = 0.2, epochs = 40, verbose = 1)\n",
        "    results = model2.evaluate(X_test, y_test, verbose = 2)\n",
        "    \n",
        "    precision,recall,fscore,support=score(Y_test, y_pred,average='macro')\n",
        "    \n",
        "    f1_per_fold.append(round(fscore,4))\n",
        "    acc_per_fold.append(round(results[1] * 100,4))\n",
        "    loss_per_fold.append(round(results[0],4))\n",
        "    \n",
        "    \n",
        "    print('Test accuracy: ',acc_per_fold[-1])\n",
        "    print('Test loss: ',loss_per_fold[-1])\n",
        "    "
      ],
      "execution_count": null,
      "outputs": [
        {
          "name": "stdout",
          "output_type": "stream",
          "text": [
            "num of splits: 5\n"
          ]
        },
        {
          "name": "stderr",
          "output_type": "stream",
          "text": [
            "/usr/local/lib/python3.8/dist-packages/tensorflow/python/keras/optimizer_v2/optimizer_v2.py:374: UserWarning: The `lr` argument is deprecated, use `learning_rate` instead.\n",
            "  warnings.warn(\n"
          ]
        },
        {
          "name": "stdout",
          "output_type": "stream",
          "text": [
            "Epoch 1/40\n",
            "90/90 [==============================] - 2s 14ms/step - loss: 0.6109 - accuracy: 0.8139 - val_loss: 7.0851 - val_accuracy: 0.0497\n",
            "Epoch 2/40\n",
            "90/90 [==============================] - 1s 10ms/step - loss: 0.2853 - accuracy: 0.9125 - val_loss: 8.0047 - val_accuracy: 0.0387\n",
            "Epoch 3/40\n",
            "90/90 [==============================] - 1s 10ms/step - loss: 0.2319 - accuracy: 0.9347 - val_loss: 8.5519 - val_accuracy: 0.0442\n",
            "Epoch 4/40\n",
            "90/90 [==============================] - 1s 10ms/step - loss: 0.2291 - accuracy: 0.9250 - val_loss: 9.0033 - val_accuracy: 0.0442\n",
            "Epoch 5/40\n",
            "90/90 [==============================] - 1s 10ms/step - loss: 0.2197 - accuracy: 0.9347 - val_loss: 9.1938 - val_accuracy: 0.0442\n",
            "Epoch 6/40\n",
            "90/90 [==============================] - 1s 10ms/step - loss: 0.2030 - accuracy: 0.9347 - val_loss: 9.5593 - val_accuracy: 0.0442\n",
            "Epoch 7/40\n",
            "90/90 [==============================] - 1s 10ms/step - loss: 0.2226 - accuracy: 0.9306 - val_loss: 10.3020 - val_accuracy: 0.0552\n",
            "Epoch 8/40\n",
            "90/90 [==============================] - 1s 10ms/step - loss: 0.1938 - accuracy: 0.9417 - val_loss: 10.5991 - val_accuracy: 0.0387\n",
            "Epoch 9/40\n",
            "90/90 [==============================] - 1s 10ms/step - loss: 0.2048 - accuracy: 0.9333 - val_loss: 10.4758 - val_accuracy: 0.0442\n",
            "Epoch 10/40\n",
            "90/90 [==============================] - 1s 10ms/step - loss: 0.2102 - accuracy: 0.9431 - val_loss: 10.8106 - val_accuracy: 0.0387\n",
            "Epoch 11/40\n",
            "90/90 [==============================] - 1s 10ms/step - loss: 0.1924 - accuracy: 0.9361 - val_loss: 10.8300 - val_accuracy: 0.0442\n",
            "Epoch 12/40\n",
            "90/90 [==============================] - 1s 10ms/step - loss: 0.1848 - accuracy: 0.9431 - val_loss: 10.8289 - val_accuracy: 0.0442\n",
            "Epoch 13/40\n",
            "90/90 [==============================] - 1s 10ms/step - loss: 0.1931 - accuracy: 0.9361 - val_loss: 11.9851 - val_accuracy: 0.0552\n",
            "Epoch 14/40\n",
            "90/90 [==============================] - 1s 10ms/step - loss: 0.1874 - accuracy: 0.9403 - val_loss: 11.5362 - val_accuracy: 0.0552\n",
            "Epoch 15/40\n",
            "90/90 [==============================] - 1s 10ms/step - loss: 0.2033 - accuracy: 0.9292 - val_loss: 12.1101 - val_accuracy: 0.0608\n",
            "Epoch 16/40\n",
            "90/90 [==============================] - 1s 10ms/step - loss: 0.1833 - accuracy: 0.9389 - val_loss: 11.4308 - val_accuracy: 0.0608\n",
            "Epoch 17/40\n",
            "90/90 [==============================] - 1s 10ms/step - loss: 0.1971 - accuracy: 0.9375 - val_loss: 12.2630 - val_accuracy: 0.0387\n",
            "Epoch 18/40\n",
            "90/90 [==============================] - 1s 10ms/step - loss: 0.2076 - accuracy: 0.9375 - val_loss: 12.4028 - val_accuracy: 0.0387\n",
            "Epoch 19/40\n",
            "90/90 [==============================] - 1s 10ms/step - loss: 0.2162 - accuracy: 0.9222 - val_loss: 12.3387 - val_accuracy: 0.0442\n",
            "Epoch 20/40\n",
            "90/90 [==============================] - 1s 10ms/step - loss: 0.1707 - accuracy: 0.9458 - val_loss: 12.5950 - val_accuracy: 0.0442\n",
            "Epoch 21/40\n",
            "90/90 [==============================] - 1s 10ms/step - loss: 0.1927 - accuracy: 0.9389 - val_loss: 12.5312 - val_accuracy: 0.0552\n",
            "Epoch 22/40\n",
            "90/90 [==============================] - 1s 10ms/step - loss: 0.1825 - accuracy: 0.9417 - val_loss: 12.7668 - val_accuracy: 0.0608\n",
            "Epoch 23/40\n",
            "90/90 [==============================] - 1s 10ms/step - loss: 0.1920 - accuracy: 0.9431 - val_loss: 12.8411 - val_accuracy: 0.0608\n",
            "Epoch 24/40\n",
            "90/90 [==============================] - 1s 10ms/step - loss: 0.1921 - accuracy: 0.9389 - val_loss: 12.7505 - val_accuracy: 0.0608\n",
            "Epoch 25/40\n",
            "90/90 [==============================] - 1s 10ms/step - loss: 0.1802 - accuracy: 0.9458 - val_loss: 13.2773 - val_accuracy: 0.0442\n",
            "Epoch 26/40\n",
            "90/90 [==============================] - 1s 10ms/step - loss: 0.1909 - accuracy: 0.9431 - val_loss: 12.8095 - val_accuracy: 0.0387\n",
            "Epoch 27/40\n",
            "90/90 [==============================] - 1s 10ms/step - loss: 0.1676 - accuracy: 0.9528 - val_loss: 13.4843 - val_accuracy: 0.0442\n",
            "Epoch 28/40\n",
            "90/90 [==============================] - 1s 10ms/step - loss: 0.1867 - accuracy: 0.9431 - val_loss: 12.9122 - val_accuracy: 0.0442\n",
            "Epoch 29/40\n",
            "90/90 [==============================] - 1s 10ms/step - loss: 0.1917 - accuracy: 0.9417 - val_loss: 13.2915 - val_accuracy: 0.0442\n",
            "Epoch 30/40\n",
            "90/90 [==============================] - 1s 10ms/step - loss: 0.1680 - accuracy: 0.9458 - val_loss: 13.3909 - val_accuracy: 0.0552\n",
            "Epoch 31/40\n",
            "90/90 [==============================] - 1s 10ms/step - loss: 0.1623 - accuracy: 0.9486 - val_loss: 13.6721 - val_accuracy: 0.0442\n",
            "Epoch 32/40\n",
            "90/90 [==============================] - 1s 10ms/step - loss: 0.1685 - accuracy: 0.9458 - val_loss: 13.7950 - val_accuracy: 0.0442\n",
            "Epoch 33/40\n",
            "90/90 [==============================] - 1s 10ms/step - loss: 0.1848 - accuracy: 0.9361 - val_loss: 13.5499 - val_accuracy: 0.0442\n",
            "Epoch 34/40\n",
            "90/90 [==============================] - 1s 10ms/step - loss: 0.1709 - accuracy: 0.9458 - val_loss: 13.7816 - val_accuracy: 0.0608\n",
            "Epoch 35/40\n",
            "90/90 [==============================] - 1s 10ms/step - loss: 0.2054 - accuracy: 0.9361 - val_loss: 13.7102 - val_accuracy: 0.0442\n",
            "Epoch 36/40\n",
            "90/90 [==============================] - 1s 10ms/step - loss: 0.1943 - accuracy: 0.9361 - val_loss: 14.4584 - val_accuracy: 0.0442\n",
            "Epoch 37/40\n",
            "90/90 [==============================] - 1s 10ms/step - loss: 0.2059 - accuracy: 0.9347 - val_loss: 14.1439 - val_accuracy: 0.0442\n",
            "Epoch 38/40\n",
            "90/90 [==============================] - 1s 10ms/step - loss: 0.1860 - accuracy: 0.9333 - val_loss: 14.5993 - val_accuracy: 0.0442\n",
            "Epoch 39/40\n",
            "90/90 [==============================] - 1s 10ms/step - loss: 0.1684 - accuracy: 0.9458 - val_loss: 14.0208 - val_accuracy: 0.0608\n",
            "Epoch 40/40\n",
            "90/90 [==============================] - 1s 10ms/step - loss: 0.1775 - accuracy: 0.9389 - val_loss: 13.4951 - val_accuracy: 0.0552\n",
            "8/8 - 0s - loss: 3.4830 - accuracy: 0.7168\n",
            "Test accuracy:  71.6814\n",
            "Test loss:  3.483\n"
          ]
        },
        {
          "name": "stderr",
          "output_type": "stream",
          "text": [
            "/usr/local/lib/python3.8/dist-packages/sklearn/metrics/_classification.py:1248: UndefinedMetricWarning: Precision and F-score are ill-defined and being set to 0.0 in labels with no predicted samples. Use `zero_division` parameter to control this behavior.\n",
            "  _warn_prf(average, modifier, msg_start, len(result))\n",
            "/usr/local/lib/python3.8/dist-packages/tensorflow/python/keras/optimizer_v2/optimizer_v2.py:374: UserWarning: The `lr` argument is deprecated, use `learning_rate` instead.\n",
            "  warnings.warn(\n"
          ]
        },
        {
          "name": "stdout",
          "output_type": "stream",
          "text": [
            "Epoch 1/40\n",
            "90/90 [==============================] - 2s 13ms/step - loss: 0.6690 - accuracy: 0.7958 - val_loss: 6.5573 - val_accuracy: 0.0442\n",
            "Epoch 2/40\n",
            "90/90 [==============================] - 1s 10ms/step - loss: 0.2408 - accuracy: 0.9333 - val_loss: 7.6292 - val_accuracy: 0.0387\n",
            "Epoch 3/40\n",
            "90/90 [==============================] - 1s 10ms/step - loss: 0.1906 - accuracy: 0.9431 - val_loss: 8.6077 - val_accuracy: 0.0497\n",
            "Epoch 4/40\n",
            "90/90 [==============================] - 1s 10ms/step - loss: 0.1697 - accuracy: 0.9472 - val_loss: 8.9187 - val_accuracy: 0.0442\n",
            "Epoch 5/40\n",
            "90/90 [==============================] - 1s 10ms/step - loss: 0.1652 - accuracy: 0.9472 - val_loss: 9.3793 - val_accuracy: 0.0442\n",
            "Epoch 6/40\n",
            "90/90 [==============================] - 1s 10ms/step - loss: 0.1600 - accuracy: 0.9486 - val_loss: 10.1919 - val_accuracy: 0.0442\n",
            "Epoch 7/40\n",
            "90/90 [==============================] - 1s 10ms/step - loss: 0.1747 - accuracy: 0.9361 - val_loss: 10.0330 - val_accuracy: 0.0497\n",
            "Epoch 8/40\n",
            "90/90 [==============================] - 1s 10ms/step - loss: 0.1509 - accuracy: 0.9500 - val_loss: 10.2923 - val_accuracy: 0.0497\n",
            "Epoch 9/40\n",
            "90/90 [==============================] - 1s 10ms/step - loss: 0.1347 - accuracy: 0.9486 - val_loss: 10.8425 - val_accuracy: 0.0387\n",
            "Epoch 10/40\n",
            "90/90 [==============================] - 1s 10ms/step - loss: 0.1669 - accuracy: 0.9389 - val_loss: 10.8071 - val_accuracy: 0.0387\n",
            "Epoch 11/40\n",
            "90/90 [==============================] - 1s 10ms/step - loss: 0.1334 - accuracy: 0.9472 - val_loss: 11.1887 - val_accuracy: 0.0387\n",
            "Epoch 12/40\n",
            "90/90 [==============================] - 1s 10ms/step - loss: 0.1398 - accuracy: 0.9472 - val_loss: 11.0717 - val_accuracy: 0.0387\n",
            "Epoch 13/40\n",
            "90/90 [==============================] - 1s 10ms/step - loss: 0.1352 - accuracy: 0.9444 - val_loss: 11.7627 - val_accuracy: 0.0442\n",
            "Epoch 14/40\n",
            "90/90 [==============================] - 1s 10ms/step - loss: 0.1305 - accuracy: 0.9500 - val_loss: 11.9380 - val_accuracy: 0.0387\n",
            "Epoch 15/40\n",
            "90/90 [==============================] - 1s 10ms/step - loss: 0.1325 - accuracy: 0.9528 - val_loss: 11.8923 - val_accuracy: 0.0387\n",
            "Epoch 16/40\n",
            "90/90 [==============================] - 1s 10ms/step - loss: 0.1127 - accuracy: 0.9611 - val_loss: 11.7819 - val_accuracy: 0.0387\n",
            "Epoch 17/40\n",
            "90/90 [==============================] - 1s 10ms/step - loss: 0.1236 - accuracy: 0.9542 - val_loss: 12.6115 - val_accuracy: 0.0387\n",
            "Epoch 18/40\n",
            "90/90 [==============================] - 1s 10ms/step - loss: 0.1417 - accuracy: 0.9444 - val_loss: 12.1136 - val_accuracy: 0.0387\n",
            "Epoch 19/40\n",
            "90/90 [==============================] - 1s 10ms/step - loss: 0.1300 - accuracy: 0.9528 - val_loss: 12.6824 - val_accuracy: 0.0497\n",
            "Epoch 20/40\n",
            "90/90 [==============================] - 1s 10ms/step - loss: 0.1361 - accuracy: 0.9431 - val_loss: 12.6306 - val_accuracy: 0.0497\n",
            "Epoch 21/40\n",
            "90/90 [==============================] - 1s 10ms/step - loss: 0.1298 - accuracy: 0.9500 - val_loss: 12.2662 - val_accuracy: 0.0387\n",
            "Epoch 22/40\n",
            "90/90 [==============================] - 1s 10ms/step - loss: 0.1314 - accuracy: 0.9542 - val_loss: 12.7960 - val_accuracy: 0.0387\n",
            "Epoch 23/40\n",
            "90/90 [==============================] - 1s 10ms/step - loss: 0.1245 - accuracy: 0.9542 - val_loss: 13.0707 - val_accuracy: 0.0387\n",
            "Epoch 24/40\n",
            "90/90 [==============================] - 1s 10ms/step - loss: 0.1432 - accuracy: 0.9444 - val_loss: 13.0291 - val_accuracy: 0.0387\n",
            "Epoch 25/40\n",
            "90/90 [==============================] - 1s 10ms/step - loss: 0.1349 - accuracy: 0.9444 - val_loss: 13.1509 - val_accuracy: 0.0387\n",
            "Epoch 26/40\n",
            "90/90 [==============================] - 1s 10ms/step - loss: 0.1450 - accuracy: 0.9417 - val_loss: 13.3400 - val_accuracy: 0.0387\n",
            "Epoch 27/40\n",
            "90/90 [==============================] - 1s 10ms/step - loss: 0.1198 - accuracy: 0.9583 - val_loss: 13.6165 - val_accuracy: 0.0387\n",
            "Epoch 28/40\n",
            "90/90 [==============================] - 1s 10ms/step - loss: 0.1317 - accuracy: 0.9528 - val_loss: 13.5603 - val_accuracy: 0.0387\n",
            "Epoch 29/40\n",
            "90/90 [==============================] - 1s 10ms/step - loss: 0.1174 - accuracy: 0.9486 - val_loss: 13.7682 - val_accuracy: 0.0387\n",
            "Epoch 30/40\n",
            "90/90 [==============================] - 1s 10ms/step - loss: 0.1294 - accuracy: 0.9514 - val_loss: 13.3899 - val_accuracy: 0.0387\n",
            "Epoch 31/40\n",
            "90/90 [==============================] - 1s 10ms/step - loss: 0.1193 - accuracy: 0.9528 - val_loss: 13.8928 - val_accuracy: 0.0387\n",
            "Epoch 32/40\n",
            "90/90 [==============================] - 1s 10ms/step - loss: 0.1320 - accuracy: 0.9542 - val_loss: 13.9599 - val_accuracy: 0.0387\n",
            "Epoch 33/40\n",
            "90/90 [==============================] - 1s 10ms/step - loss: 0.1254 - accuracy: 0.9458 - val_loss: 13.6554 - val_accuracy: 0.0387\n",
            "Epoch 34/40\n",
            "90/90 [==============================] - 1s 10ms/step - loss: 0.1339 - accuracy: 0.9556 - val_loss: 13.5109 - val_accuracy: 0.0387\n",
            "Epoch 35/40\n",
            "90/90 [==============================] - 1s 10ms/step - loss: 0.1183 - accuracy: 0.9486 - val_loss: 13.8955 - val_accuracy: 0.0387\n",
            "Epoch 36/40\n",
            "90/90 [==============================] - 1s 10ms/step - loss: 0.1329 - accuracy: 0.9472 - val_loss: 14.3134 - val_accuracy: 0.0387\n",
            "Epoch 37/40\n",
            "90/90 [==============================] - 1s 10ms/step - loss: 0.1250 - accuracy: 0.9514 - val_loss: 13.8574 - val_accuracy: 0.0387\n",
            "Epoch 38/40\n",
            "90/90 [==============================] - 1s 10ms/step - loss: 0.1231 - accuracy: 0.9542 - val_loss: 14.5349 - val_accuracy: 0.0497\n",
            "Epoch 39/40\n",
            "85/90 [===========================>..] - ETA: 0s - loss: 0.1120 - accuracy: 0.9618"
          ]
        },
        {
          "ename": "KeyboardInterrupt",
          "evalue": "",
          "output_type": "error",
          "traceback": [
            "\u001b[0;31m---------------------------------------------------------------------------\u001b[0m",
            "\u001b[0;31mKeyboardInterrupt\u001b[0m                         Traceback (most recent call last)",
            "\u001b[0;32m/tmp/ipykernel_30653/3852773692.py\u001b[0m in \u001b[0;36m<module>\u001b[0;34m\u001b[0m\n\u001b[1;32m     52\u001b[0m     \u001b[0;31m#print(model.summary())\u001b[0m\u001b[0;34m\u001b[0m\u001b[0;34m\u001b[0m\u001b[0;34m\u001b[0m\u001b[0m\n\u001b[1;32m     53\u001b[0m     \u001b[0;31m# model.fit(X_train, y_train, batch_size = 8, validation_split = 0.2, epochs = 15, verbose = 2)\u001b[0m\u001b[0;34m\u001b[0m\u001b[0;34m\u001b[0m\u001b[0;34m\u001b[0m\u001b[0m\n\u001b[0;32m---> 54\u001b[0;31m     \u001b[0mmodel2\u001b[0m\u001b[0;34m.\u001b[0m\u001b[0mfit\u001b[0m\u001b[0;34m(\u001b[0m\u001b[0mX_train\u001b[0m\u001b[0;34m,\u001b[0m \u001b[0my_train\u001b[0m\u001b[0;34m,\u001b[0m \u001b[0mbatch_size\u001b[0m \u001b[0;34m=\u001b[0m \u001b[0;36m8\u001b[0m\u001b[0;34m,\u001b[0m \u001b[0mvalidation_split\u001b[0m \u001b[0;34m=\u001b[0m \u001b[0;36m0.2\u001b[0m\u001b[0;34m,\u001b[0m \u001b[0mepochs\u001b[0m \u001b[0;34m=\u001b[0m \u001b[0;36m40\u001b[0m\u001b[0;34m,\u001b[0m \u001b[0mverbose\u001b[0m \u001b[0;34m=\u001b[0m \u001b[0;36m1\u001b[0m\u001b[0;34m)\u001b[0m\u001b[0;34m\u001b[0m\u001b[0;34m\u001b[0m\u001b[0m\n\u001b[0m\u001b[1;32m     55\u001b[0m     \u001b[0mresults\u001b[0m \u001b[0;34m=\u001b[0m \u001b[0mmodel2\u001b[0m\u001b[0;34m.\u001b[0m\u001b[0mevaluate\u001b[0m\u001b[0;34m(\u001b[0m\u001b[0mX_test\u001b[0m\u001b[0;34m,\u001b[0m \u001b[0my_test\u001b[0m\u001b[0;34m,\u001b[0m \u001b[0mverbose\u001b[0m \u001b[0;34m=\u001b[0m \u001b[0;36m2\u001b[0m\u001b[0;34m)\u001b[0m\u001b[0;34m\u001b[0m\u001b[0;34m\u001b[0m\u001b[0m\n\u001b[1;32m     56\u001b[0m \u001b[0;34m\u001b[0m\u001b[0m\n",
            "\u001b[0;32m/usr/local/lib/python3.8/dist-packages/tensorflow/python/keras/engine/training.py\u001b[0m in \u001b[0;36mfit\u001b[0;34m(self, x, y, batch_size, epochs, verbose, callbacks, validation_split, validation_data, shuffle, class_weight, sample_weight, initial_epoch, steps_per_epoch, validation_steps, validation_batch_size, validation_freq, max_queue_size, workers, use_multiprocessing)\u001b[0m\n\u001b[1;32m   1212\u001b[0m                 \u001b[0mmodel\u001b[0m\u001b[0;34m=\u001b[0m\u001b[0mself\u001b[0m\u001b[0;34m,\u001b[0m\u001b[0;34m\u001b[0m\u001b[0;34m\u001b[0m\u001b[0m\n\u001b[1;32m   1213\u001b[0m                 steps_per_execution=self._steps_per_execution)\n\u001b[0;32m-> 1214\u001b[0;31m           val_logs = self.evaluate(\n\u001b[0m\u001b[1;32m   1215\u001b[0m               \u001b[0mx\u001b[0m\u001b[0;34m=\u001b[0m\u001b[0mval_x\u001b[0m\u001b[0;34m,\u001b[0m\u001b[0;34m\u001b[0m\u001b[0;34m\u001b[0m\u001b[0m\n\u001b[1;32m   1216\u001b[0m               \u001b[0my\u001b[0m\u001b[0;34m=\u001b[0m\u001b[0mval_y\u001b[0m\u001b[0;34m,\u001b[0m\u001b[0;34m\u001b[0m\u001b[0;34m\u001b[0m\u001b[0m\n",
            "\u001b[0;32m/usr/local/lib/python3.8/dist-packages/tensorflow/python/keras/engine/training.py\u001b[0m in \u001b[0;36mevaluate\u001b[0;34m(self, x, y, batch_size, verbose, sample_weight, steps, callbacks, max_queue_size, workers, use_multiprocessing, return_dict, **kwargs)\u001b[0m\n\u001b[1;32m   1487\u001b[0m             \u001b[0;32mwith\u001b[0m \u001b[0mtrace\u001b[0m\u001b[0;34m.\u001b[0m\u001b[0mTrace\u001b[0m\u001b[0;34m(\u001b[0m\u001b[0;34m'test'\u001b[0m\u001b[0;34m,\u001b[0m \u001b[0mstep_num\u001b[0m\u001b[0;34m=\u001b[0m\u001b[0mstep\u001b[0m\u001b[0;34m,\u001b[0m \u001b[0m_r\u001b[0m\u001b[0;34m=\u001b[0m\u001b[0;36m1\u001b[0m\u001b[0;34m)\u001b[0m\u001b[0;34m:\u001b[0m\u001b[0;34m\u001b[0m\u001b[0;34m\u001b[0m\u001b[0m\n\u001b[1;32m   1488\u001b[0m               \u001b[0mcallbacks\u001b[0m\u001b[0;34m.\u001b[0m\u001b[0mon_test_batch_begin\u001b[0m\u001b[0;34m(\u001b[0m\u001b[0mstep\u001b[0m\u001b[0;34m)\u001b[0m\u001b[0;34m\u001b[0m\u001b[0;34m\u001b[0m\u001b[0m\n\u001b[0;32m-> 1489\u001b[0;31m               \u001b[0mtmp_logs\u001b[0m \u001b[0;34m=\u001b[0m \u001b[0mself\u001b[0m\u001b[0;34m.\u001b[0m\u001b[0mtest_function\u001b[0m\u001b[0;34m(\u001b[0m\u001b[0miterator\u001b[0m\u001b[0;34m)\u001b[0m\u001b[0;34m\u001b[0m\u001b[0;34m\u001b[0m\u001b[0m\n\u001b[0m\u001b[1;32m   1490\u001b[0m               \u001b[0;32mif\u001b[0m \u001b[0mdata_handler\u001b[0m\u001b[0;34m.\u001b[0m\u001b[0mshould_sync\u001b[0m\u001b[0;34m:\u001b[0m\u001b[0;34m\u001b[0m\u001b[0;34m\u001b[0m\u001b[0m\n\u001b[1;32m   1491\u001b[0m                 \u001b[0mcontext\u001b[0m\u001b[0;34m.\u001b[0m\u001b[0masync_wait\u001b[0m\u001b[0;34m(\u001b[0m\u001b[0;34m)\u001b[0m\u001b[0;34m\u001b[0m\u001b[0;34m\u001b[0m\u001b[0m\n",
            "\u001b[0;32m/usr/local/lib/python3.8/dist-packages/tensorflow/python/eager/def_function.py\u001b[0m in \u001b[0;36m__call__\u001b[0;34m(self, *args, **kwds)\u001b[0m\n\u001b[1;32m    887\u001b[0m \u001b[0;34m\u001b[0m\u001b[0m\n\u001b[1;32m    888\u001b[0m       \u001b[0;32mwith\u001b[0m \u001b[0mOptionalXlaContext\u001b[0m\u001b[0;34m(\u001b[0m\u001b[0mself\u001b[0m\u001b[0;34m.\u001b[0m\u001b[0m_jit_compile\u001b[0m\u001b[0;34m)\u001b[0m\u001b[0;34m:\u001b[0m\u001b[0;34m\u001b[0m\u001b[0;34m\u001b[0m\u001b[0m\n\u001b[0;32m--> 889\u001b[0;31m         \u001b[0mresult\u001b[0m \u001b[0;34m=\u001b[0m \u001b[0mself\u001b[0m\u001b[0;34m.\u001b[0m\u001b[0m_call\u001b[0m\u001b[0;34m(\u001b[0m\u001b[0;34m*\u001b[0m\u001b[0margs\u001b[0m\u001b[0;34m,\u001b[0m \u001b[0;34m**\u001b[0m\u001b[0mkwds\u001b[0m\u001b[0;34m)\u001b[0m\u001b[0;34m\u001b[0m\u001b[0;34m\u001b[0m\u001b[0m\n\u001b[0m\u001b[1;32m    890\u001b[0m \u001b[0;34m\u001b[0m\u001b[0m\n\u001b[1;32m    891\u001b[0m       \u001b[0mnew_tracing_count\u001b[0m \u001b[0;34m=\u001b[0m \u001b[0mself\u001b[0m\u001b[0;34m.\u001b[0m\u001b[0mexperimental_get_tracing_count\u001b[0m\u001b[0;34m(\u001b[0m\u001b[0;34m)\u001b[0m\u001b[0;34m\u001b[0m\u001b[0;34m\u001b[0m\u001b[0m\n",
            "\u001b[0;32m/usr/local/lib/python3.8/dist-packages/tensorflow/python/eager/def_function.py\u001b[0m in \u001b[0;36m_call\u001b[0;34m(self, *args, **kwds)\u001b[0m\n\u001b[1;32m    922\u001b[0m       \u001b[0;31m# In this case we have not created variables on the first call. So we can\u001b[0m\u001b[0;34m\u001b[0m\u001b[0;34m\u001b[0m\u001b[0;34m\u001b[0m\u001b[0m\n\u001b[1;32m    923\u001b[0m       \u001b[0;31m# run the first trace but we should fail if variables are created.\u001b[0m\u001b[0;34m\u001b[0m\u001b[0;34m\u001b[0m\u001b[0;34m\u001b[0m\u001b[0m\n\u001b[0;32m--> 924\u001b[0;31m       \u001b[0mresults\u001b[0m \u001b[0;34m=\u001b[0m \u001b[0mself\u001b[0m\u001b[0;34m.\u001b[0m\u001b[0m_stateful_fn\u001b[0m\u001b[0;34m(\u001b[0m\u001b[0;34m*\u001b[0m\u001b[0margs\u001b[0m\u001b[0;34m,\u001b[0m \u001b[0;34m**\u001b[0m\u001b[0mkwds\u001b[0m\u001b[0;34m)\u001b[0m\u001b[0;34m\u001b[0m\u001b[0;34m\u001b[0m\u001b[0m\n\u001b[0m\u001b[1;32m    925\u001b[0m       \u001b[0;32mif\u001b[0m \u001b[0mself\u001b[0m\u001b[0;34m.\u001b[0m\u001b[0m_created_variables\u001b[0m\u001b[0;34m:\u001b[0m\u001b[0;34m\u001b[0m\u001b[0;34m\u001b[0m\u001b[0m\n\u001b[1;32m    926\u001b[0m         raise ValueError(\"Creating variables on a non-first call to a function\"\n",
            "\u001b[0;32m/usr/local/lib/python3.8/dist-packages/tensorflow/python/eager/function.py\u001b[0m in \u001b[0;36m__call__\u001b[0;34m(self, *args, **kwargs)\u001b[0m\n\u001b[1;32m   3021\u001b[0m       (graph_function,\n\u001b[1;32m   3022\u001b[0m        filtered_flat_args) = self._maybe_define_function(args, kwargs)\n\u001b[0;32m-> 3023\u001b[0;31m     return graph_function._call_flat(\n\u001b[0m\u001b[1;32m   3024\u001b[0m         filtered_flat_args, captured_inputs=graph_function.captured_inputs)  # pylint: disable=protected-access\n\u001b[1;32m   3025\u001b[0m \u001b[0;34m\u001b[0m\u001b[0m\n",
            "\u001b[0;32m/usr/local/lib/python3.8/dist-packages/tensorflow/python/eager/function.py\u001b[0m in \u001b[0;36m_call_flat\u001b[0;34m(self, args, captured_inputs, cancellation_manager)\u001b[0m\n\u001b[1;32m   1958\u001b[0m         and executing_eagerly):\n\u001b[1;32m   1959\u001b[0m       \u001b[0;31m# No tape is watching; skip to running the function.\u001b[0m\u001b[0;34m\u001b[0m\u001b[0;34m\u001b[0m\u001b[0;34m\u001b[0m\u001b[0m\n\u001b[0;32m-> 1960\u001b[0;31m       return self._build_call_outputs(self._inference_function.call(\n\u001b[0m\u001b[1;32m   1961\u001b[0m           ctx, args, cancellation_manager=cancellation_manager))\n\u001b[1;32m   1962\u001b[0m     forward_backward = self._select_forward_and_backward_functions(\n",
            "\u001b[0;32m/usr/local/lib/python3.8/dist-packages/tensorflow/python/eager/function.py\u001b[0m in \u001b[0;36mcall\u001b[0;34m(self, ctx, args, cancellation_manager)\u001b[0m\n\u001b[1;32m    589\u001b[0m       \u001b[0;32mwith\u001b[0m \u001b[0m_InterpolateFunctionError\u001b[0m\u001b[0;34m(\u001b[0m\u001b[0mself\u001b[0m\u001b[0;34m)\u001b[0m\u001b[0;34m:\u001b[0m\u001b[0;34m\u001b[0m\u001b[0;34m\u001b[0m\u001b[0m\n\u001b[1;32m    590\u001b[0m         \u001b[0;32mif\u001b[0m \u001b[0mcancellation_manager\u001b[0m \u001b[0;32mis\u001b[0m \u001b[0;32mNone\u001b[0m\u001b[0;34m:\u001b[0m\u001b[0;34m\u001b[0m\u001b[0;34m\u001b[0m\u001b[0m\n\u001b[0;32m--> 591\u001b[0;31m           outputs = execute.execute(\n\u001b[0m\u001b[1;32m    592\u001b[0m               \u001b[0mstr\u001b[0m\u001b[0;34m(\u001b[0m\u001b[0mself\u001b[0m\u001b[0;34m.\u001b[0m\u001b[0msignature\u001b[0m\u001b[0;34m.\u001b[0m\u001b[0mname\u001b[0m\u001b[0;34m)\u001b[0m\u001b[0;34m,\u001b[0m\u001b[0;34m\u001b[0m\u001b[0;34m\u001b[0m\u001b[0m\n\u001b[1;32m    593\u001b[0m               \u001b[0mnum_outputs\u001b[0m\u001b[0;34m=\u001b[0m\u001b[0mself\u001b[0m\u001b[0;34m.\u001b[0m\u001b[0m_num_outputs\u001b[0m\u001b[0;34m,\u001b[0m\u001b[0;34m\u001b[0m\u001b[0;34m\u001b[0m\u001b[0m\n",
            "\u001b[0;32m/usr/local/lib/python3.8/dist-packages/tensorflow/python/eager/execute.py\u001b[0m in \u001b[0;36mquick_execute\u001b[0;34m(op_name, num_outputs, inputs, attrs, ctx, name)\u001b[0m\n\u001b[1;32m     57\u001b[0m   \u001b[0;32mtry\u001b[0m\u001b[0;34m:\u001b[0m\u001b[0;34m\u001b[0m\u001b[0;34m\u001b[0m\u001b[0m\n\u001b[1;32m     58\u001b[0m     \u001b[0mctx\u001b[0m\u001b[0;34m.\u001b[0m\u001b[0mensure_initialized\u001b[0m\u001b[0;34m(\u001b[0m\u001b[0;34m)\u001b[0m\u001b[0;34m\u001b[0m\u001b[0;34m\u001b[0m\u001b[0m\n\u001b[0;32m---> 59\u001b[0;31m     tensors = pywrap_tfe.TFE_Py_Execute(ctx._handle, device_name, op_name,\n\u001b[0m\u001b[1;32m     60\u001b[0m                                         inputs, attrs, num_outputs)\n\u001b[1;32m     61\u001b[0m   \u001b[0;32mexcept\u001b[0m \u001b[0mcore\u001b[0m\u001b[0;34m.\u001b[0m\u001b[0m_NotOkStatusException\u001b[0m \u001b[0;32mas\u001b[0m \u001b[0me\u001b[0m\u001b[0;34m:\u001b[0m\u001b[0;34m\u001b[0m\u001b[0;34m\u001b[0m\u001b[0m\n",
            "\u001b[0;31mKeyboardInterrupt\u001b[0m: "
          ]
        }
      ]
    },
    {
      "cell_type": "code",
      "metadata": {
        "id": "LJHe1D5qV_eg",
        "outputId": "1b319344-4b50-4ac0-b523-ffe7b55ed386"
      },
      "source": [
        "model2.summary()"
      ],
      "execution_count": null,
      "outputs": [
        {
          "name": "stdout",
          "output_type": "stream",
          "text": [
            "Model: \"model_8\"\n",
            "_________________________________________________________________\n",
            "Layer (type)                 Output Shape              Param #   \n",
            "=================================================================\n",
            "input_1 (InputLayer)         [(None, 10, 100, 100, 1)] 0         \n",
            "_________________________________________________________________\n",
            "time_distributed (TimeDistri (None, 10, 100, 100, 16)  800       \n",
            "_________________________________________________________________\n",
            "time_distributed_1 (TimeDist (None, 10, 100, 100, 16)  12560     \n",
            "_________________________________________________________________\n",
            "time_distributed_2 (TimeDist (None, 10, 50, 50, 16)    0         \n",
            "_________________________________________________________________\n",
            "time_distributed_3 (TimeDist (None, 10, 50, 50, 16)    2320      \n",
            "_________________________________________________________________\n",
            "time_distributed_4 (TimeDist (None, 10, 50, 50, 16)    2320      \n",
            "_________________________________________________________________\n",
            "time_distributed_5 (TimeDist (None, 10, 25, 25, 16)    0         \n",
            "_________________________________________________________________\n",
            "time_distributed_6 (TimeDist (None, 10, 25, 25, 16)    2320      \n",
            "_________________________________________________________________\n",
            "time_distributed_7 (TimeDist (None, 10, 25, 25, 16)    2320      \n",
            "_________________________________________________________________\n",
            "time_distributed_8 (TimeDist (None, 10, 13, 13, 16)    0         \n",
            "_________________________________________________________________\n",
            "dropout (Dropout)            (None, 10, 13, 13, 16)    0         \n",
            "_________________________________________________________________\n",
            "time_distributed_9 (TimeDist (None, 10, 13, 13, 16)    2320      \n",
            "_________________________________________________________________\n",
            "time_distributed_10 (TimeDis (None, 10, 13, 13, 16)    2320      \n",
            "_________________________________________________________________\n",
            "time_distributed_11 (TimeDis (None, 10, 2704)          0         \n",
            "_________________________________________________________________\n",
            "lstm (LSTM)                  (None, 16)                174144    \n",
            "_________________________________________________________________\n",
            "dense_8 (Dense)              (None, 7)                 119       \n",
            "=================================================================\n",
            "Total params: 201,543\n",
            "Trainable params: 119\n",
            "Non-trainable params: 201,424\n",
            "_________________________________________________________________\n"
          ]
        }
      ]
    },
    {
      "cell_type": "code",
      "metadata": {
        "id": "3N08D1T3V_eh"
      },
      "source": [
        "acc_stat = f1_per_fold"
      ],
      "execution_count": null,
      "outputs": []
    },
    {
      "cell_type": "code",
      "metadata": {
        "scrolled": true,
        "id": "ClLlU4NUV_ei",
        "outputId": "83028959-353a-45ff-cf14-b45023d0111e"
      },
      "source": [
        "len(acc_stat)"
      ],
      "execution_count": null,
      "outputs": [
        {
          "data": {
            "text/plain": [
              "98"
            ]
          },
          "execution_count": 233,
          "metadata": {},
          "output_type": "execute_result"
        }
      ]
    },
    {
      "cell_type": "code",
      "metadata": {
        "id": "p9UowrhyV_ek",
        "outputId": "6f97f3d6-2350-4ad6-a796-ad5a12b1583f"
      },
      "source": [
        "count = 0\n",
        "for i in range(10,500,5):\n",
        "    count +=1\n",
        "    if count == 36:\n",
        "        print(i)"
      ],
      "execution_count": null,
      "outputs": [
        {
          "name": "stdout",
          "output_type": "stream",
          "text": [
            "185\n"
          ]
        }
      ]
    },
    {
      "cell_type": "code",
      "metadata": {
        "id": "hVdqgJsvV_em",
        "outputId": "d7971ea2-7225-43a1-c555-2b7a31239483"
      },
      "source": [
        "np.std(acc_stat)"
      ],
      "execution_count": null,
      "outputs": [
        {
          "data": {
            "text/plain": [
              "0.023160990470872278"
            ]
          },
          "execution_count": 235,
          "metadata": {},
          "output_type": "execute_result"
        }
      ]
    },
    {
      "cell_type": "code",
      "metadata": {
        "scrolled": true,
        "id": "7N18eI2SV_er"
      },
      "source": [
        "acc_stat.sort()"
      ],
      "execution_count": null,
      "outputs": []
    },
    {
      "cell_type": "code",
      "metadata": {
        "collapsed": true,
        "id": "J1BbepwYV_ex",
        "outputId": "af79d8bb-a63a-4952-f909-180b26263e37"
      },
      "source": [
        "for element in acc_stat:\n",
        "    print(element*100)"
      ],
      "execution_count": null,
      "outputs": [
        {
          "name": "stdout",
          "output_type": "stream",
          "text": [
            "81.45\n",
            "84.05\n",
            "85.02\n",
            "85.81\n",
            "86.19\n",
            "86.27\n",
            "86.29\n",
            "86.56\n",
            "86.6\n",
            "87.07000000000001\n",
            "87.09\n",
            "87.15\n",
            "87.21\n",
            "87.37\n",
            "87.37\n",
            "87.53\n",
            "87.53999999999999\n",
            "87.57000000000001\n",
            "87.58\n",
            "87.81\n",
            "87.86\n",
            "88.05\n",
            "88.14\n",
            "88.29\n",
            "88.56\n",
            "88.68\n",
            "88.79\n",
            "88.81\n",
            "88.87\n",
            "88.97\n",
            "89.12\n",
            "89.13\n",
            "89.22\n",
            "89.35\n",
            "89.36\n",
            "89.37\n",
            "89.42\n",
            "89.46\n",
            "89.55\n",
            "89.58\n",
            "89.66\n",
            "89.7\n",
            "89.81\n",
            "89.89\n",
            "89.92\n",
            "89.92\n",
            "89.94\n",
            "90.03999999999999\n",
            "90.06\n",
            "90.08\n",
            "90.16\n",
            "90.42999999999999\n",
            "90.47\n",
            "90.53999999999999\n",
            "90.53999999999999\n",
            "90.58\n",
            "90.59\n",
            "90.67\n",
            "90.7\n",
            "90.75999999999999\n",
            "90.79\n",
            "90.88000000000001\n",
            "90.93\n",
            "91.13\n",
            "91.13\n",
            "91.2\n",
            "91.24\n",
            "91.24\n",
            "91.38\n",
            "91.41\n",
            "91.44\n",
            "91.44\n",
            "91.46\n",
            "91.7\n",
            "91.71000000000001\n",
            "91.8\n",
            "91.9\n",
            "91.94\n",
            "91.97\n",
            "91.97999999999999\n",
            "92.02\n",
            "92.04\n",
            "92.25999999999999\n",
            "92.31\n",
            "92.46\n",
            "92.49000000000001\n",
            "92.52\n",
            "92.57\n",
            "92.61\n",
            "92.75\n",
            "92.75\n",
            "92.85\n",
            "93.03\n",
            "93.13\n",
            "93.67999999999999\n",
            "93.75\n",
            "94.37\n",
            "94.38\n"
          ]
        }
      ]
    },
    {
      "cell_type": "code",
      "metadata": {
        "collapsed": true,
        "id": "l2slZbfTV_e1",
        "outputId": "ffc2c832-fc4b-4fd4-9d89-baee1573d5fc"
      },
      "source": [
        "f1_per_fold"
      ],
      "execution_count": null,
      "outputs": [
        {
          "data": {
            "text/plain": [
              "[0.8714,\n",
              " 0.8714,\n",
              " 0.8714,\n",
              " 0.8714,\n",
              " 0.8714,\n",
              " 0.8714,\n",
              " 0.8714,\n",
              " 0.8714,\n",
              " 0.8714,\n",
              " 0.8714,\n",
              " 0.8714,\n",
              " 0.8714,\n",
              " 0.8714,\n",
              " 0.8714,\n",
              " 0.8714,\n",
              " 0.8714,\n",
              " 0.8714,\n",
              " 0.8714,\n",
              " 0.8714,\n",
              " 0.8714,\n",
              " 0.8714,\n",
              " 0.8714,\n",
              " 0.8714,\n",
              " 0.8714,\n",
              " 0.8714,\n",
              " 0.8714,\n",
              " 0.8714,\n",
              " 0.8714,\n",
              " 0.8714,\n",
              " 0.8714,\n",
              " 0.8714,\n",
              " 0.8714,\n",
              " 0.8714,\n",
              " 0.8714,\n",
              " 0.8714,\n",
              " 0.8714,\n",
              " 0.8714,\n",
              " 0.8714,\n",
              " 0.8714,\n",
              " 0.8714,\n",
              " 0.8714,\n",
              " 0.8714,\n",
              " 0.8714,\n",
              " 0.8714,\n",
              " 0.8714,\n",
              " 0.8714,\n",
              " 0.8714,\n",
              " 0.8714,\n",
              " 0.8714,\n",
              " 0.8714,\n",
              " 0.8714,\n",
              " 0.8714,\n",
              " 0.8714,\n",
              " 0.8714,\n",
              " 0.8714,\n",
              " 0.8714,\n",
              " 0.8714,\n",
              " 0.8714,\n",
              " 0.8714,\n",
              " 0.8714,\n",
              " 0.8714,\n",
              " 0.8714,\n",
              " 0.8714,\n",
              " 0.8714,\n",
              " 0.8714,\n",
              " 0.8714,\n",
              " 0.8714,\n",
              " 0.8714,\n",
              " 0.8714,\n",
              " 0.8714,\n",
              " 0.8714,\n",
              " 0.8714,\n",
              " 0.8714,\n",
              " 0.8714,\n",
              " 0.8714,\n",
              " 0.8714,\n",
              " 0.8714,\n",
              " 0.8714,\n",
              " 0.8714,\n",
              " 0.8714,\n",
              " 0.8714,\n",
              " 0.8714,\n",
              " 0.8714,\n",
              " 0.8714,\n",
              " 0.8714,\n",
              " 0.8714,\n",
              " 0.8714,\n",
              " 0.8714,\n",
              " 0.8714,\n",
              " 0.8714,\n",
              " 0.8714,\n",
              " 0.8714,\n",
              " 0.8714,\n",
              " 0.8714,\n",
              " 0.8714,\n",
              " 0.8714,\n",
              " 0.8714,\n",
              " 0.8714]"
            ]
          },
          "execution_count": 159,
          "metadata": {},
          "output_type": "execute_result"
        }
      ]
    },
    {
      "cell_type": "code",
      "metadata": {
        "scrolled": true,
        "id": "8A04TlqhV_e3",
        "outputId": "891bc6a8-bc64-487c-9e7d-992c8db31653"
      },
      "source": [
        "#print(np.mean(acc_per_fold))\n",
        "print(np.mean(recall_per_fold))"
      ],
      "execution_count": null,
      "outputs": [
        {
          "name": "stdout",
          "output_type": "stream",
          "text": [
            "0.9080571428571427\n"
          ]
        }
      ]
    },
    {
      "cell_type": "code",
      "metadata": {
        "id": "CWTQhpQAV_e6",
        "outputId": "d36e00ef-6ba6-4683-891d-cec5a0aaaf49"
      },
      "source": [
        "y_train[0]"
      ],
      "execution_count": null,
      "outputs": [
        {
          "data": {
            "text/plain": [
              "array([0., 0., 0., 0., 0., 1., 0., 0., 0.], dtype=float32)"
            ]
          },
          "execution_count": 85,
          "metadata": {},
          "output_type": "execute_result"
        }
      ]
    },
    {
      "cell_type": "markdown",
      "metadata": {
        "id": "hqLjbuyrD987"
      },
      "source": [
        "# Testing LSTM"
      ]
    },
    {
      "cell_type": "code",
      "metadata": {
        "id": "JmVrr2mCD987"
      },
      "source": [
        "#User LSTM_Dense2 to change parameters of different models so that you live lstm34 intact. Otherwise the same as upper training method\n",
        "\n",
        "model = LSTM_Dense2(X_train,num_of_classes,lr = 0.001)\n",
        "print(model.summary())\n",
        "model.fit(X_train, y_train, batch_size = 8, validation_split = 0.2, epochs = 20, verbose = 2)\n",
        "results = model.evaluate(X_test, y_test, verbose = 2)\n",
        "print('Test accuracy: ', results[1])"
      ],
      "execution_count": null,
      "outputs": []
    },
    {
      "cell_type": "code",
      "metadata": {
        "id": "-Ue4wd7kD988"
      },
      "source": [
        "print('Test accuracy: ', results[1])\n",
        "print(\"Loss: \"f\"{results[0]}\")\n",
        "Y_pred = model.predict(X_test, verbose = 2)\n",
        "y_pred = np.argmax(Y_pred, axis=1)\n",
        "Y_test = np.argmax(y_test, axis=-1)\n",
        "print(confusion_matrix(Y_test, y_pred))\n",
        "print(classification_report(Y_test, y_pred, target_names=appliances))"
      ],
      "execution_count": null,
      "outputs": []
    },
    {
      "cell_type": "code",
      "metadata": {
        "id": "eWD-iGIsD989"
      },
      "source": [
        ""
      ],
      "execution_count": null,
      "outputs": []
    }
  ]
}