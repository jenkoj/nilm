{
 "cells": [
  {
   "cell_type": "code",
   "execution_count": 1,
   "metadata": {
    "execution": {
     "iopub.execute_input": "2022-02-04T11:17:46.176887Z",
     "iopub.status.busy": "2022-02-04T11:17:46.175297Z",
     "iopub.status.idle": "2022-02-04T11:17:47.876537Z",
     "shell.execute_reply": "2022-02-04T11:17:47.875203Z"
    },
    "id": "WqUfHWgtJxtu",
    "scrolled": true,
    "tags": []
   },
   "outputs": [
    {
     "name": "stderr",
     "output_type": "stream",
     "text": [
      "2022-02-04 11:17:47.010813: I tensorflow/stream_executor/platform/default/dso_loader.cc:54] Successfully opened dynamic library libcudart.so.11.0\n"
     ]
    },
    {
     "name": "stdout",
     "output_type": "stream",
     "text": [
      "2.5.0\n",
      "Num GPUs Available:  1\n"
     ]
    },
    {
     "name": "stderr",
     "output_type": "stream",
     "text": [
      "2022-02-04 11:17:47.809370: I tensorflow/stream_executor/platform/default/dso_loader.cc:54] Successfully opened dynamic library libcuda.so.1\n",
      "2022-02-04 11:17:47.857033: I tensorflow/core/common_runtime/gpu/gpu_device.cc:1734] Found device 0 with properties: \n",
      "pciBusID: 0000:21:00.0 name: NVIDIA GeForce RTX 2080 Ti computeCapability: 7.5\n",
      "coreClock: 1.545GHz coreCount: 68 deviceMemorySize: 10.76GiB deviceMemoryBandwidth: 573.69GiB/s\n",
      "2022-02-04 11:17:47.857082: I tensorflow/stream_executor/platform/default/dso_loader.cc:54] Successfully opened dynamic library libcudart.so.11.0\n",
      "2022-02-04 11:17:47.861202: I tensorflow/stream_executor/platform/default/dso_loader.cc:54] Successfully opened dynamic library libcublas.so.11\n",
      "2022-02-04 11:17:47.861267: I tensorflow/stream_executor/platform/default/dso_loader.cc:54] Successfully opened dynamic library libcublasLt.so.11\n",
      "2022-02-04 11:17:47.863224: I tensorflow/stream_executor/platform/default/dso_loader.cc:54] Successfully opened dynamic library libcufft.so.10\n",
      "2022-02-04 11:17:47.863561: I tensorflow/stream_executor/platform/default/dso_loader.cc:54] Successfully opened dynamic library "
     ]
    }
   ],
   "source": [
    "import h5py\n",
    "import numpy as np\n",
    "\n",
    "from sklearn.model_selection import train_test_split\n",
    "from sklearn.metrics import classification_report, confusion_matrix\n",
    "import matplotlib.pyplot as plt\n",
    "import itertools \n",
    "import pyts\n",
    "from pyts.approximation import PiecewiseAggregateApproximation\n",
    "\n",
    "from sklearn.utils import class_weight\n",
    "\n",
    "import pathlib\n",
    "import tensorflow as tf\n",
    "from tensorflow import keras\n",
    "from tensorflow.keras import layers, optimizers\n",
    "from tensorflow.keras.layers import Convolution2D,Conv2D, Dense,Dropout, Flatten, Activation, MaxPooling2D, Input, Conv1D, GlobalAveragePooling1D, TimeDistributed, GRU, LSTM\n",
    "\n",
    "print(tf.__version__)\n",
    "print(\"Num GPUs Available: \", len(tf.config.list_physical_devices('GPU')))\n",
    "gpus = tf.config.experimental.list_physical_devices('GPU')\n",
    "\n",
    "try:\n",
    "    for gpu in gpus:\n",
    "        tf.config.experimental.set_memory_growth(gpu, True)\n",
    "except RuntimeError as e:\n",
    "    print(e)"
   ]
  },
  {
   "cell_type": "code",
   "execution_count": 2,
   "metadata": {
    "execution": {
     "iopub.execute_input": "2022-02-04T11:17:47.882974Z",
     "iopub.status.busy": "2022-02-04T11:17:47.881691Z",
     "iopub.status.idle": "2022-02-04T11:17:47.888296Z",
     "shell.execute_reply": "2022-02-04T11:17:47.885935Z"
    }
   },
   "outputs": [
    {
     "name": "stdout",
     "output_type": "stream",
     "text": [
      "iawe_gen_GASF_60m_300S0X_R42_80-20\n"
     ]
    },
    {
     "name": "stderr",
     "output_type": "stream",
     "text": [
      "libcurand.so.10\n",
      "2022-02-04 11:17:47.864422: I tensorflow/stream_executor/platform/default/dso_loader.cc:54] Successfully opened dynamic library libcutensor.so.1\n",
      "2022-02-04 11:17:47.864999: I tensorflow/stream_executor/platform/default/dso_loader.cc:54] Successfully opened dynamic library libcusolver.so.11\n",
      "2022-02-04 11:17:47.865849: I tensorflow/stream_executor/platform/default/dso_loader.cc:54] Successfully opened dynamic library libcusparse.so.11\n",
      "2022-02-04 11:17:47.865984: I tensorflow/stream_executor/platform/default/dso_loader.cc:54] Successfully opened dynamic library libcudnn.so.8\n",
      "2022-02-04 11:17:47.866368: I tensorflow/core/common_runtime/gpu/gpu_device.cc:1872] Adding visible gpu devices: 0\n"
     ]
    }
   ],
   "source": [
    "from os import environ\n",
    "dataset = environ['dataset']\n",
    "print(dataset)"
   ]
  },
  {
   "cell_type": "code",
   "execution_count": 3,
   "metadata": {
    "execution": {
     "iopub.execute_input": "2022-02-04T11:17:47.894510Z",
     "iopub.status.busy": "2022-02-04T11:17:47.893402Z",
     "iopub.status.idle": "2022-02-04T11:17:47.898079Z",
     "shell.execute_reply": "2022-02-04T11:17:47.898897Z"
    }
   },
   "outputs": [],
   "source": [
    "#my defs \n",
    "from modules.models import  LSTM_3D_V56, CNN_V56,LSTM_BI_V56\n",
    "from modules.tools import my_print, plot_confusion_matrix_norm, get_data,get_data_split, evaluate_model, create_tl_model\n",
    "from modules.HDF5ImageGenerator import HDF5ImageGenerator"
   ]
  },
  {
   "cell_type": "code",
   "execution_count": 4,
   "metadata": {
    "execution": {
     "iopub.execute_input": "2022-02-04T11:17:47.909004Z",
     "iopub.status.busy": "2022-02-04T11:17:47.907655Z",
     "iopub.status.idle": "2022-02-04T11:17:47.910634Z",
     "shell.execute_reply": "2022-02-04T11:17:47.911674Z"
    },
    "id": "RT1vwq7-KOtB"
   },
   "outputs": [],
   "source": [
    "#LOAD DATASET\n",
    "#file_name = \"ukdale_gen_GASF_13m_100S5X12A54480\"\n",
    "#file_name = \"refit_gen_GASF_13m_100S5X_15A166006\"\n",
    "file_name = \"refit_gen_GASF_13m_100S5X_15A166006_R42-80-20\"\n",
    "#file_name = \"refit_gen_GASF_13m_100S5X_15A166006_R42_80-20\"\n",
    "file_name = \"refit_gen_GASF_60m_300S0X_15A157030N_R12_80-20-V1\"\n",
    "file_name = environ[\"dataset\"]\n",
    "#read the file\n",
    "path = str(pathlib.Path().resolve())\n",
    "\n",
    "path_data = f\"{path}\"\"/data/\"f\"{file_name}\"\"/\"f\"{file_name}\"\".hdf5\"\n",
    "\n",
    "file = h5py.File(path_data,\"r+\")"
   ]
  },
  {
   "cell_type": "code",
   "execution_count": 5,
   "metadata": {
    "execution": {
     "iopub.execute_input": "2022-02-04T11:17:47.920365Z",
     "iopub.status.busy": "2022-02-04T11:17:47.919167Z",
     "iopub.status.idle": "2022-02-04T11:17:48.050242Z",
     "shell.execute_reply": "2022-02-04T11:17:48.050555Z"
    },
    "scrolled": true
   },
   "outputs": [
    {
     "name": "stdout",
     "output_type": "stream",
     "text": [
      "['air conditioner', 'computer', 'fridge', 'television']\n",
      "{0: 4.76595744680851, 1: 0.8265682656826568, 2: 0.43118383060635224, 3: 3.8290598290598292}\n",
      " \n",
      "Tests \n",
      "air conditioner test: 23 train: 94\n",
      "computer test: 136 train: 542\n",
      "fridge test: 260 train: 1039\n",
      "television test: 30 train: 117\n"
     ]
    }
   ],
   "source": [
    "x_test,y_test,d_class_weights,num_of_classes,appliances = get_data(file)"
   ]
  },
  {
   "cell_type": "code",
   "execution_count": 6,
   "metadata": {
    "execution": {
     "iopub.execute_input": "2022-02-04T11:17:48.061612Z",
     "iopub.status.busy": "2022-02-04T11:17:48.061083Z",
     "iopub.status.idle": "2022-02-04T11:17:48.064292Z",
     "shell.execute_reply": "2022-02-04T11:17:48.064707Z"
    }
   },
   "outputs": [],
   "source": [
    "def select_model(learn_type):\n",
    "    \n",
    "    if learn_type == \"CNN\":\n",
    "        model = CNN_V56(file[\"data/train/gaf\"][0:10],num_of_classes,lr= 0.00002)\n",
    "\n",
    "    if learn_type == \"LSTM\":\n",
    "        model = LSTM_3D_V56(file[\"data/train/gaf\"][0:10],num_of_classes,lr= 0.00002)\n",
    "\n",
    "    if learn_type == \"BI_LSTM\":\n",
    "        model = LSTM_BI_V56(file[\"data/train/gaf\"][0:10],num_of_classes,lr= 0.00002)\n",
    "\n",
    "    return model\n",
    "              "
   ]
  },
  {
   "cell_type": "code",
   "execution_count": 7,
   "metadata": {
    "execution": {
     "iopub.execute_input": "2022-02-04T11:17:48.074024Z",
     "iopub.status.busy": "2022-02-04T11:17:48.073303Z",
     "iopub.status.idle": "2022-02-04T11:17:48.076430Z",
     "shell.execute_reply": "2022-02-04T11:17:48.077093Z"
    }
   },
   "outputs": [],
   "source": [
    "path_save = path+'/experiment_automation/output/'+environ['learn_type']+'/'+dataset.split(\"_\")[0]+\"/\"+environ['train_type']+\"/\"+dataset.split(\"_\")[0]+\"_\"+environ['seed']+\"_\"+environ['tl_datasets']\n",
    "path_save_nb = path_save+\"_out.ipynb\"\n",
    "path_save_log = path_save+\"_out_log2.txt\""
   ]
  },
  {
   "cell_type": "code",
   "execution_count": 8,
   "metadata": {
    "execution": {
     "iopub.execute_input": "2022-02-04T11:17:48.087458Z",
     "iopub.status.busy": "2022-02-04T11:17:48.086319Z",
     "iopub.status.idle": "2022-02-04T11:17:48.180413Z",
     "shell.execute_reply": "2022-02-04T11:17:48.179363Z"
    }
   },
   "outputs": [],
   "source": [
    "from keras.callbacks import LambdaCallback\n",
    "#path_log= path+'/experiment_automation/output/'+environ['learn_type']+'/'+dataset.split(\"_\")[0]+\"/\"+environ['train_type']+\"/\"+dataset.split(\"_\")[0]+\"_\"+environ['seed']+\"_\"+environ['tl_datasets']+\"_log.txt\"\n",
    "txt_log = open(path_save+\"_log.txt\", mode='wt', buffering=1)\n",
    "txt_log.write(\"file created! \\n\")\n",
    "\n",
    "save_op_callback = LambdaCallback(\n",
    "  on_epoch_end = lambda epoch, logs: txt_log.write(\n",
    "    str({'epoch': epoch, 'loss': logs['loss'],'acc': logs['accuracy']}) + '\\n'),\n",
    "                                                           \n",
    ")"
   ]
  },
  {
   "cell_type": "code",
   "execution_count": 9,
   "metadata": {
    "execution": {
     "iopub.execute_input": "2022-02-04T11:17:48.187431Z",
     "iopub.status.busy": "2022-02-04T11:17:48.186264Z",
     "iopub.status.idle": "2022-02-04T11:17:48.190232Z",
     "shell.execute_reply": "2022-02-04T11:17:48.191216Z"
    }
   },
   "outputs": [
    {
     "name": "stdout",
     "output_type": "stream",
     "text": [
      "/workspace/notebooks/experiment_automation/output/CNN/iawe/TL/iawe_42_refit, eco, redd, ukdale_out.ipynb\n"
     ]
    }
   ],
   "source": [
    "print(path_save_nb)"
   ]
  },
  {
   "cell_type": "code",
   "execution_count": 10,
   "metadata": {
    "execution": {
     "iopub.execute_input": "2022-02-04T11:17:48.198137Z",
     "iopub.status.busy": "2022-02-04T11:17:48.196967Z",
     "iopub.status.idle": "2022-02-04T11:17:48.201037Z",
     "shell.execute_reply": "2022-02-04T11:17:48.199995Z"
    }
   },
   "outputs": [],
   "source": [
    "# rm $path_save_log"
   ]
  },
  {
   "cell_type": "code",
   "execution_count": 11,
   "metadata": {
    "execution": {
     "iopub.execute_input": "2022-02-04T11:17:48.208322Z",
     "iopub.status.busy": "2022-02-04T11:17:48.207123Z",
     "iopub.status.idle": "2022-02-04T11:17:48.210983Z",
     "shell.execute_reply": "2022-02-04T11:17:48.209955Z"
    }
   },
   "outputs": [],
   "source": [
    "# %%capture cap \n",
    "\n",
    "# with open(path_save_log,\"wt\") as f:\n",
    "#     f.write(cap.stdout)\n",
    "    \n",
    "# print(\"out capture..\")"
   ]
  },
  {
   "cell_type": "code",
   "execution_count": 12,
   "metadata": {
    "execution": {
     "iopub.execute_input": "2022-02-04T11:17:48.230263Z",
     "iopub.status.busy": "2022-02-04T11:17:48.220344Z",
     "iopub.status.idle": "2022-02-04T11:17:48.232851Z",
     "shell.execute_reply": "2022-02-04T11:17:48.233866Z"
    },
    "id": "vqA9NwOqKrb5",
    "jupyter": {
     "outputs_hidden": true
    },
    "tags": []
   },
   "outputs": [],
   "source": [
    "# %%capture cap --no-stderr\n",
    "\n",
    "\n",
    "if environ['train_type'] == \"BB\":\n",
    "\n",
    "    #define generator\n",
    "    train_gen = HDF5ImageGenerator(\n",
    "        src= path_data,\n",
    "        X_key=\"data/train/gaf\",\n",
    "        y_key=\"labels/train/gaf\",\n",
    "        classes_key=\"appliances/classes\",\n",
    "        labels_encoding=\"hot\",\n",
    "        shuffle=True,\n",
    "        batch_size=int(environ['batch_size']),\n",
    "        num_classes=num_of_classes,\n",
    "        mode=\"train\",\n",
    "        )\n",
    "    \n",
    "    model = select_model(environ['learn_type'])\n",
    "    \n",
    "    txt_log.write(\"fitting BB model: \\n\")\n",
    "    \n",
    "    model.fit(\n",
    "        train_gen,\n",
    "        verbose=2,\n",
    "        epochs=int(environ['epochs']),\n",
    "        class_weight=d_class_weights,\n",
    "        callbacks = [save_op_callback],\n",
    "    )\n",
    "    \n",
    "    txt_log.write(\"finished fitting BB model: \\n\")\n",
    "\n",
    "    evaluate_model(model,x_test,y_test,appliances)\n",
    "    \n",
    "    if environ['save_model']==\"True\":\n",
    "\n",
    "        path_model_save = path+\"/models/\"+environ['learn_type']+\"/\"+dataset.split(\"_\")[0]+\"_\"+dataset.split(\"_R\")[1][0:2]\n",
    "        model.save(path_model_save)\n",
    "        txt_log.write(\"model saved to:\"+\"/models/\"+environ['learn_type']+\"/\"+dataset.split(\"_\")[0]+\"_\"+dataset.split(\"_R\")[1][0:2]+\" \\n\")\n",
    "        \n",
    "        \n",
    "# with open(path_save+\"_out_log.txt\" as f:\n",
    "#     f.write(cap.stdout)\n"
   ]
  },
  {
   "cell_type": "code",
   "execution_count": 13,
   "metadata": {
    "collapsed": true,
    "execution": {
     "iopub.execute_input": "2022-02-04T11:17:48.239986Z",
     "iopub.status.busy": "2022-02-04T11:17:48.238713Z",
     "iopub.status.idle": "2022-02-04T11:17:48.241348Z",
     "shell.execute_reply": "2022-02-04T11:17:48.242218Z"
    }
   },
   "outputs": [],
   "source": [
    "#model = keras.models.load_model(path_model1)\n",
    "# model_used = model"
   ]
  },
  {
   "cell_type": "code",
   "execution_count": 14,
   "metadata": {
    "collapsed": true,
    "execution": {
     "iopub.execute_input": "2022-02-04T11:17:48.247734Z",
     "iopub.status.busy": "2022-02-04T11:17:48.246428Z",
     "iopub.status.idle": "2022-02-04T11:17:48.251273Z",
     "shell.execute_reply": "2022-02-04T11:17:48.252170Z"
    },
    "jupyter": {
     "outputs_hidden": true
    },
    "tags": []
   },
   "outputs": [],
   "source": [
    "# evaluate_model(model,x_test,y_test,appliances)"
   ]
  },
  {
   "cell_type": "code",
   "execution_count": 15,
   "metadata": {
    "collapsed": true,
    "execution": {
     "iopub.execute_input": "2022-02-04T11:17:48.267423Z",
     "iopub.status.busy": "2022-02-04T11:17:48.256685Z",
     "iopub.status.idle": "2022-02-04T11:30:22.070748Z",
     "shell.execute_reply": "2022-02-04T11:30:22.071738Z"
    }
   },
   "outputs": [
    {
     "name": "stdout",
     "output_type": "stream",
     "text": [
      "using dataset data iawe training on model refit seed 42\n",
      "reading data, printing stats: \n",
      "['air conditioner', 'computer', 'fridge', 'television']\n",
      "{0: 4.76595744680851, 1: 0.8265682656826568, 2: 0.43118383060635224, 3: 3.8290598290598292}\n",
      " \n",
      "Tests \n",
      "air conditioner test: 23 train: 94\n",
      "computer test: 136 train: 542\n",
      "fridge test: 260 train: 1039\n",
      "television test: 30 train: 117\n",
      "loading model\n",
      "compling TL model..\n"
     ]
    },
    {
     "name": "stderr",
     "output_type": "stream",
     "text": [
      "2022-02-04 11:17:48.393646: I tensorflow/core/common_runtime/gpu/gpu_device.cc:1734] Found device 0 with properties: \n",
      "pciBusID: 0000:21:00.0 name: NVIDIA GeForce RTX 2080 Ti computeCapability: 7.5\n",
      "coreClock: 1.545GHz coreCount: 68 deviceMemorySize: 10.76GiB deviceMemoryBandwidth: 573.69GiB/s\n",
      "2022-02-04 11:17:48.393976: I tensorflow/core/common_runtime/gpu/gpu_device.cc:1872] Adding visible gpu devices: 0\n",
      "2022-02-04 11:17:48.394031: I tensorflow/stream_executor/platform/default/dso_loader.cc:54] Successfully opened dynamic library libcudart.so.11.0\n",
      "2022-02-04 11:17:48.766499: I tensorflow/core/common_runtime/gpu/gpu_device.cc:1258] Device interconnect StreamExecutor with strength 1 edge matrix:\n",
      "2022-02-04 11:17:48.766529: I tensorflow/core/common_runtime/gpu/gpu_device.cc:1264]      0 \n",
      "2022-02-04 11:17:48.766536: I tensorflow/core/common_runtime/gpu/gpu_device.cc:1277] 0:   N \n",
      "2022-02-04 11:17:48.767106: I tensorflow/core/common_runtime/gpu/gpu_device.cc:1418] Created TensorFlow device (/job:localhost/replica:0/task:0/device:GPU:0 with 9649 MB memory) -> physical GPU (device: 0, name: NVIDIA GeForce RTX 2080 Ti, pci bus id: 0000:21:00.0, compute capability: 7.5)\n",
      "2022-02-04 11:17:48.767434: I tensorflow/core/common_runtime/process_util.cc:146] Creating new thread pool with default inter op setting: 20. Tune using inter_op_parallelism_threads for best performance.\n"
     ]
    },
    {
     "name": "stdout",
     "output_type": "stream",
     "text": [
      "Normal way\n",
      "[0 1 2 3 4 5 6 7 8 9]\n",
      "WARNING:tensorflow:From /usr/local/lib/python3.8/dist-packages/tensorflow/python/ops/array_ops.py:5043: calling gather (from tensorflow.python.ops.array_ops) with validate_indices is deprecated and will be removed in a future version.\n",
      "Instructions for updating:\n",
      "The `validate_indices` argument has no effect. Indices are always validated on CPU and never validated on GPU.\n"
     ]
    },
    {
     "name": "stderr",
     "output_type": "stream",
     "text": [
      "/usr/local/lib/python3.8/dist-packages/tensorflow/python/keras/optimizer_v2/optimizer_v2.py:374: UserWarning: The `lr` argument is deprecated, use `learning_rate` instead.\n",
      "  warnings.warn(\n",
      "2022-02-04 11:17:49.327514: I tensorflow/compiler/mlir/mlir_graph_optimization_pass.cc:176] None of the MLIR Optimization Passes are enabled (registered 2)\n",
      "2022-02-04 11:17:49.344431: I tensorflow/core/platform/profile_utils/cpu_utils.cc:114] CPU Frequency: 3299990000 Hz\n"
     ]
    },
    {
     "name": "stdout",
     "output_type": "stream",
     "text": [
      "Epoch 1/50\n"
     ]
    },
    {
     "name": "stderr",
     "output_type": "stream",
     "text": [
      "2022-02-04 11:17:49.826016: I tensorflow/stream_executor/platform/default/dso_loader.cc:54] Successfully opened dynamic library libcudnn.so.8\n",
      "2022-02-04 11:17:50.281861: I tensorflow/stream_executor/cuda/cuda_dnn.cc:380] Loaded cuDNN version 8202\n",
      "2022-02-04 11:17:50.756488: I tensorflow/stream_executor/platform/default/dso_loader.cc:54] Successfully opened dynamic library libcublas.so.11\n",
      "2022-02-04 11:17:51.163630: I tensorflow/stream_executor/platform/default/dso_loader.cc:54] Successfully opened dynamic library libcublasLt.so.11\n"
     ]
    },
    {
     "name": "stdout",
     "output_type": "stream",
     "text": [
      "224/224 - 5s - loss: 0.8888 - accuracy: 0.7506\n",
      "Epoch 2/50\n",
      "224/224 - 4s - loss: 0.3963 - accuracy: 0.8281\n",
      "Epoch 3/50\n",
      "224/224 - 4s - loss: 0.2018 - accuracy: 0.8968\n",
      "Epoch 4/50\n",
      "224/224 - 4s - loss: 0.2051 - accuracy: 0.8901\n",
      "Epoch 5/50\n",
      "224/224 - 4s - loss: 0.1519 - accuracy: 0.9241\n",
      "Epoch 6/50\n",
      "224/224 - 3s - loss: 0.1237 - accuracy: 0.9342\n",
      "Epoch 7/50\n",
      "224/224 - 3s - loss: 0.1131 - accuracy: 0.9397\n",
      "Epoch 8/50\n",
      "224/224 - 4s - loss: 0.2054 - accuracy: 0.9235\n",
      "Epoch 9/50\n",
      "224/224 - 3s - loss: 0.2160 - accuracy: 0.9325\n",
      "Epoch 10/50\n",
      "224/224 - 3s - loss: 0.1339 - accuracy: 0.9196\n",
      "Epoch 11/50\n",
      "224/224 - 4s - loss: 0.0536 - accuracy: 0.9671\n",
      "Epoch 12/50\n",
      "224/224 - 4s - loss: 0.0668 - accuracy: 0.9704\n",
      "Epoch 13/50\n",
      "224/224 - 4s - loss: 0.0591 - accuracy: 0.9704\n",
      "Epoch 14/50\n",
      "224/224 - 4s - loss: 0.0901 - accuracy: 0.9554\n",
      "Epoch 15/50\n",
      "224/224 - 4s - loss: 0.0349 - accuracy: 0.9816\n",
      "Epoch 16/50\n",
      "224/224 - 4s - loss: 0.0163 - accuracy: 0.9916\n",
      "Epoch 17/50\n",
      "224/224 - 4s - loss: 0.0519 - accuracy: 0.9743\n",
      "Epoch 18/50\n",
      "224/224 - 4s - loss: 0.0386 - accuracy: 0.9799\n",
      "Epoch 19/50\n",
      "224/224 - 4s - loss: 0.0339 - accuracy: 0.9833\n",
      "Epoch 20/50\n",
      "224/224 - 4s - loss: 0.0475 - accuracy: 0.9766\n",
      "Epoch 21/50\n",
      "224/224 - 4s - loss: 0.0155 - accuracy: 0.9927\n",
      "Epoch 22/50\n",
      "224/224 - 3s - loss: 0.0113 - accuracy: 0.9950\n",
      "Epoch 23/50\n",
      "224/224 - 3s - loss: 0.0227 - accuracy: 0.9844\n",
      "Epoch 24/50\n",
      "224/224 - 4s - loss: 0.0264 - accuracy: 0.9860\n",
      "Epoch 25/50\n",
      "224/224 - 3s - loss: 0.0081 - accuracy: 0.9961\n",
      "Epoch 26/50\n",
      "224/224 - 4s - loss: 0.0276 - accuracy: 0.9849\n",
      "Epoch 27/50\n",
      "224/224 - 4s - loss: 0.1487 - accuracy: 0.9570\n",
      "Epoch 28/50\n",
      "224/224 - 4s - loss: 0.1177 - accuracy: 0.9459\n",
      "Epoch 29/50\n",
      "224/224 - 4s - loss: 0.0754 - accuracy: 0.9699\n",
      "Epoch 30/50\n",
      "224/224 - 4s - loss: 0.0282 - accuracy: 0.9833\n",
      "Epoch 31/50\n",
      "224/224 - 4s - loss: 0.0081 - accuracy: 0.9944\n",
      "Epoch 32/50\n",
      "224/224 - 4s - loss: 0.0179 - accuracy: 0.9922\n",
      "Epoch 33/50\n",
      "224/224 - 4s - loss: 0.0335 - accuracy: 0.9810\n",
      "Epoch 34/50\n",
      "224/224 - 4s - loss: 0.1833 - accuracy: 0.9475\n",
      "Epoch 35/50\n",
      "224/224 - 4s - loss: 0.1580 - accuracy: 0.9358\n",
      "Epoch 36/50\n",
      "224/224 - 4s - loss: 0.0691 - accuracy: 0.9682\n",
      "Epoch 37/50\n",
      "224/224 - 4s - loss: 0.0410 - accuracy: 0.9838\n",
      "Epoch 38/50\n",
      "224/224 - 4s - loss: 0.4864 - accuracy: 0.9743\n",
      "Epoch 39/50\n",
      "224/224 - 4s - loss: 0.0238 - accuracy: 0.9894\n",
      "Epoch 40/50\n",
      "224/224 - 4s - loss: 0.0179 - accuracy: 0.9894\n",
      "Epoch 41/50\n",
      "224/224 - 4s - loss: 0.0079 - accuracy: 0.9967\n",
      "Epoch 42/50\n",
      "224/224 - 3s - loss: 0.0128 - accuracy: 0.9933\n",
      "Epoch 43/50\n",
      "224/224 - 4s - loss: 0.0062 - accuracy: 0.9972\n",
      "Epoch 44/50\n",
      "224/224 - 4s - loss: 0.0056 - accuracy: 0.9967\n",
      "Epoch 45/50\n",
      "224/224 - 4s - loss: 0.0223 - accuracy: 0.9883\n",
      "Epoch 46/50\n",
      "224/224 - 4s - loss: 0.0065 - accuracy: 0.9955\n",
      "Epoch 47/50\n",
      "224/224 - 4s - loss: 0.0045 - accuracy: 0.9972\n",
      "Epoch 48/50\n",
      "224/224 - 4s - loss: 0.0044 - accuracy: 0.9961\n",
      "Epoch 49/50\n",
      "224/224 - 4s - loss: 0.0102 - accuracy: 0.9939\n",
      "Epoch 50/50\n",
      "224/224 - 4s - loss: 0.0058 - accuracy: 0.9961\n",
      "15/15 - 1s\n",
      "Normalized confusion matrix\n",
      "                 precision    recall  f1-score   support\n",
      "\n",
      "air conditioner       0.95      0.91      0.93        23\n",
      "       computer       0.92      0.96      0.94       136\n",
      "         fridge       0.95      0.93      0.94       260\n",
      "     television       0.79      0.77      0.78        30\n",
      "\n",
      "       accuracy                           0.93       449\n",
      "      macro avg       0.90      0.89      0.90       449\n",
      "   weighted avg       0.93      0.93      0.93       449\n",
      "\n",
      "using dataset data iawe training on model eco seed 42\n",
      "reading data, printing stats: \n",
      "['air conditioner', 'computer', 'fridge', 'television']\n",
      "{0: 4.76595744680851, 1: 0.8265682656826568, 2: 0.43118383060635224, 3: 3.8290598290598292}\n",
      " \n",
      "Tests \n",
      "air conditioner test: 23 train: 94\n",
      "computer test: 136 train: 542\n",
      "fridge test: 260 train: 1039\n",
      "television test: 30 train: 117\n",
      "loading model\n",
      "compling TL model..\n"
     ]
    },
    {
     "name": "stderr",
     "output_type": "stream",
     "text": [
      "/usr/local/lib/python3.8/dist-packages/tensorflow/python/keras/optimizer_v2/optimizer_v2.py:374: UserWarning: The `lr` argument is deprecated, use `learning_rate` instead.\n",
      "  warnings.warn(\n"
     ]
    },
    {
     "name": "stdout",
     "output_type": "stream",
     "text": [
      "Normal way\n",
      "[0 1 2 3 4 5 6 7 8 9]\n",
      "Epoch 1/50\n",
      "224/224 - 4s - loss: 0.9091 - accuracy: 0.6551\n",
      "Epoch 2/50\n",
      "224/224 - 4s - loss: 1.0169 - accuracy: 0.7266\n",
      "Epoch 3/50\n",
      "224/224 - 4s - loss: 1.0398 - accuracy: 0.7863\n",
      "Epoch 4/50\n",
      "224/224 - 4s - loss: 0.3877 - accuracy: 0.8622\n",
      "Epoch 5/50\n",
      "224/224 - 4s - loss: 0.2735 - accuracy: 0.8962\n",
      "Epoch 6/50\n",
      "224/224 - 4s - loss: 0.2087 - accuracy: 0.9102\n",
      "Epoch 7/50\n",
      "224/224 - 4s - loss: 0.1702 - accuracy: 0.9258\n",
      "Epoch 8/50\n",
      "224/224 - 4s - loss: 0.2983 - accuracy: 0.9157\n",
      "Epoch 9/50\n",
      "224/224 - 4s - loss: 0.1318 - accuracy: 0.9453\n",
      "Epoch 10/50\n",
      "224/224 - 4s - loss: 0.1025 - accuracy: 0.9570\n",
      "Epoch 11/50\n",
      "224/224 - 3s - loss: 0.1320 - accuracy: 0.9358\n",
      "Epoch 12/50\n",
      "224/224 - 4s - loss: 0.1013 - accuracy: 0.9487\n",
      "Epoch 13/50\n",
      "224/224 - 3s - loss: 0.4483 - accuracy: 0.9180\n",
      "Epoch 14/50\n",
      "224/224 - 4s - loss: 0.7433 - accuracy: 0.8694\n",
      "Epoch 15/50\n",
      "224/224 - 4s - loss: 0.1796 - accuracy: 0.9247\n",
      "Epoch 16/50\n",
      "224/224 - 4s - loss: 0.1764 - accuracy: 0.9347\n",
      "Epoch 17/50\n",
      "224/224 - 4s - loss: 0.2546 - accuracy: 0.9074\n",
      "Epoch 18/50\n",
      "224/224 - 4s - loss: 0.2967 - accuracy: 0.9325\n",
      "Epoch 19/50\n",
      "224/224 - 4s - loss: 0.3841 - accuracy: 0.9090\n",
      "Epoch 20/50\n",
      "224/224 - 4s - loss: 0.1651 - accuracy: 0.9369\n",
      "Epoch 21/50\n",
      "224/224 - 4s - loss: 0.0627 - accuracy: 0.9632\n",
      "Epoch 22/50\n",
      "224/224 - 4s - loss: 0.0470 - accuracy: 0.9738\n",
      "Epoch 23/50\n",
      "224/224 - 4s - loss: 0.0418 - accuracy: 0.9777\n",
      "Epoch 24/50\n",
      "224/224 - 4s - loss: 0.0742 - accuracy: 0.9671\n",
      "Epoch 25/50\n",
      "224/224 - 4s - loss: 0.0552 - accuracy: 0.9749\n",
      "Epoch 26/50\n",
      "224/224 - 3s - loss: 0.0883 - accuracy: 0.9632\n",
      "Epoch 27/50\n",
      "224/224 - 4s - loss: 0.2124 - accuracy: 0.9515\n",
      "Epoch 28/50\n",
      "224/224 - 4s - loss: 0.0882 - accuracy: 0.9654\n",
      "Epoch 29/50\n",
      "224/224 - 3s - loss: 0.0446 - accuracy: 0.9754\n",
      "Epoch 30/50\n",
      "224/224 - 4s - loss: 0.0217 - accuracy: 0.9894\n",
      "Epoch 31/50\n",
      "224/224 - 4s - loss: 0.0723 - accuracy: 0.9660\n",
      "Epoch 32/50\n",
      "224/224 - 4s - loss: 0.0791 - accuracy: 0.9637\n",
      "Epoch 33/50\n",
      "224/224 - 4s - loss: 0.0891 - accuracy: 0.9593\n",
      "Epoch 34/50\n",
      "224/224 - 4s - loss: 0.0559 - accuracy: 0.9727\n",
      "Epoch 35/50\n",
      "224/224 - 4s - loss: 0.0703 - accuracy: 0.9682\n",
      "Epoch 36/50\n",
      "224/224 - 4s - loss: 0.0462 - accuracy: 0.9743\n",
      "Epoch 37/50\n",
      "224/224 - 3s - loss: 0.0733 - accuracy: 0.9704\n",
      "Epoch 38/50\n",
      "224/224 - 3s - loss: 0.0180 - accuracy: 0.9894\n",
      "Epoch 39/50\n",
      "224/224 - 4s - loss: 0.0115 - accuracy: 0.9944\n",
      "Epoch 40/50\n",
      "224/224 - 4s - loss: 0.0180 - accuracy: 0.9900\n",
      "Epoch 41/50\n",
      "224/224 - 4s - loss: 0.2732 - accuracy: 0.9710\n",
      "Epoch 42/50\n",
      "224/224 - 4s - loss: 0.0869 - accuracy: 0.9699\n",
      "Epoch 43/50\n",
      "224/224 - 4s - loss: 0.1557 - accuracy: 0.9738\n",
      "Epoch 44/50\n",
      "224/224 - 4s - loss: 0.2137 - accuracy: 0.9559\n",
      "Epoch 45/50\n",
      "224/224 - 4s - loss: 0.0903 - accuracy: 0.9632\n",
      "Epoch 46/50\n",
      "224/224 - 4s - loss: 0.0308 - accuracy: 0.9872\n",
      "Epoch 47/50\n",
      "224/224 - 4s - loss: 0.0243 - accuracy: 0.9894\n",
      "Epoch 48/50\n",
      "224/224 - 4s - loss: 0.0701 - accuracy: 0.9888\n",
      "Epoch 49/50\n",
      "224/224 - 4s - loss: 0.0174 - accuracy: 0.9911\n",
      "Epoch 50/50\n",
      "224/224 - 4s - loss: 0.0051 - accuracy: 0.9978\n",
      "15/15 - 1s\n",
      "Normalized confusion matrix\n",
      "                 precision    recall  f1-score   support\n",
      "\n",
      "air conditioner       1.00      0.91      0.95        23\n",
      "       computer       0.90      0.97      0.94       136\n",
      "         fridge       0.96      0.93      0.95       260\n",
      "     television       0.82      0.77      0.79        30\n",
      "\n",
      "       accuracy                           0.93       449\n",
      "      macro avg       0.92      0.90      0.91       449\n",
      "   weighted avg       0.93      0.93      0.93       449\n",
      "\n",
      "using dataset data iawe training on model redd seed 42\n",
      "reading data, printing stats: \n",
      "['air conditioner', 'computer', 'fridge', 'television']\n",
      "{0: 4.76595744680851, 1: 0.8265682656826568, 2: 0.43118383060635224, 3: 3.8290598290598292}\n",
      " \n",
      "Tests \n",
      "air conditioner test: 23 train: 94\n",
      "computer test: 136 train: 542\n",
      "fridge test: 260 train: 1039\n",
      "television test: 30 train: 117\n",
      "loading model\n",
      "compling TL model..\n"
     ]
    },
    {
     "name": "stderr",
     "output_type": "stream",
     "text": [
      "/usr/local/lib/python3.8/dist-packages/tensorflow/python/keras/optimizer_v2/optimizer_v2.py:374: UserWarning: The `lr` argument is deprecated, use `learning_rate` instead.\n",
      "  warnings.warn(\n"
     ]
    },
    {
     "name": "stdout",
     "output_type": "stream",
     "text": [
      "Normal way\n",
      "[0 1 2 3 4 5 6 7 8 9]\n",
      "Epoch 1/50\n",
      "224/224 - 4s - loss: 4.4435 - accuracy: 0.3298\n",
      "Epoch 2/50\n",
      "224/224 - 4s - loss: 1.0915 - accuracy: 0.5301\n",
      "Epoch 3/50\n",
      "224/224 - 4s - loss: 0.7599 - accuracy: 0.5848\n",
      "Epoch 4/50\n",
      "224/224 - 4s - loss: 0.7290 - accuracy: 0.6350\n",
      "Epoch 5/50\n",
      "224/224 - 4s - loss: 0.6578 - accuracy: 0.6652\n",
      "Epoch 6/50\n",
      "224/224 - 4s - loss: 0.7262 - accuracy: 0.7472\n",
      "Epoch 7/50\n",
      "224/224 - 4s - loss: 1.3840 - accuracy: 0.6657\n",
      "Epoch 8/50\n",
      "224/224 - 4s - loss: 0.7420 - accuracy: 0.6730\n",
      "Epoch 9/50\n",
      "224/224 - 4s - loss: 0.6599 - accuracy: 0.4743\n",
      "Epoch 10/50\n",
      "224/224 - 4s - loss: 0.6906 - accuracy: 0.4939\n",
      "Epoch 11/50\n",
      "224/224 - 4s - loss: 0.6698 - accuracy: 0.4866\n",
      "Epoch 12/50\n",
      "224/224 - 4s - loss: 0.6301 - accuracy: 0.4989\n",
      "Epoch 13/50\n",
      "224/224 - 4s - loss: 0.6286 - accuracy: 0.5140\n",
      "Epoch 14/50\n",
      "224/224 - 4s - loss: 0.5929 - accuracy: 0.5876\n",
      "Epoch 15/50\n",
      "224/224 - 4s - loss: 0.6033 - accuracy: 0.5290\n",
      "Epoch 16/50\n",
      "224/224 - 4s - loss: 0.6379 - accuracy: 0.5497\n",
      "Epoch 17/50\n",
      "224/224 - 3s - loss: 0.4533 - accuracy: 0.6769\n",
      "Epoch 18/50\n",
      "224/224 - 4s - loss: 0.3886 - accuracy: 0.7416\n",
      "Epoch 19/50\n",
      "224/224 - 4s - loss: 0.3358 - accuracy: 0.8209\n",
      "Epoch 20/50\n",
      "224/224 - 4s - loss: 0.5709 - accuracy: 0.6864\n",
      "Epoch 21/50\n",
      "224/224 - 4s - loss: 0.3713 - accuracy: 0.6953\n",
      "Epoch 22/50\n",
      "224/224 - 4s - loss: 0.3444 - accuracy: 0.7907\n",
      "Epoch 23/50\n",
      "224/224 - 4s - loss: 0.6512 - accuracy: 0.6568\n",
      "Epoch 24/50\n",
      "224/224 - 4s - loss: 0.7408 - accuracy: 0.6016\n",
      "Epoch 25/50\n",
      "224/224 - 4s - loss: 0.5071 - accuracy: 0.7868\n",
      "Epoch 26/50\n",
      "224/224 - 4s - loss: 0.4144 - accuracy: 0.8371\n",
      "Epoch 27/50\n",
      "224/224 - 4s - loss: 0.3818 - accuracy: 0.8817\n",
      "Epoch 28/50\n",
      "224/224 - 4s - loss: 0.3615 - accuracy: 0.8811\n",
      "Epoch 29/50\n",
      "224/224 - 4s - loss: 0.3458 - accuracy: 0.8934\n",
      "Epoch 30/50\n",
      "224/224 - 4s - loss: 0.3316 - accuracy: 0.9068\n",
      "Epoch 31/50\n",
      "224/224 - 3s - loss: 0.3251 - accuracy: 0.9102\n",
      "Epoch 32/50\n",
      "224/224 - 4s - loss: 0.3019 - accuracy: 0.9213\n",
      "Epoch 33/50\n",
      "224/224 - 4s - loss: 0.3420 - accuracy: 0.9230\n",
      "Epoch 34/50\n",
      "224/224 - 4s - loss: 0.3143 - accuracy: 0.9219\n",
      "Epoch 35/50\n",
      "224/224 - 4s - loss: 0.3120 - accuracy: 0.9258\n",
      "Epoch 36/50\n",
      "224/224 - 3s - loss: 0.3003 - accuracy: 0.9258\n",
      "Epoch 37/50\n",
      "224/224 - 4s - loss: 0.3657 - accuracy: 0.8979\n",
      "Epoch 38/50\n",
      "224/224 - 4s - loss: 0.2868 - accuracy: 0.9358\n",
      "Epoch 39/50\n",
      "224/224 - 4s - loss: 0.2813 - accuracy: 0.9325\n",
      "Epoch 40/50\n",
      "224/224 - 4s - loss: 0.3239 - accuracy: 0.9208\n",
      "Epoch 41/50\n",
      "224/224 - 4s - loss: 0.2822 - accuracy: 0.9375\n",
      "Epoch 42/50\n",
      "224/224 - 4s - loss: 0.2561 - accuracy: 0.9392\n",
      "Epoch 43/50\n",
      "224/224 - 4s - loss: 0.2847 - accuracy: 0.9386\n",
      "Epoch 44/50\n",
      "224/224 - 4s - loss: 0.3464 - accuracy: 0.9057\n",
      "Epoch 45/50\n",
      "224/224 - 4s - loss: 0.2717 - accuracy: 0.9347\n",
      "Epoch 46/50\n",
      "224/224 - 4s - loss: 0.2746 - accuracy: 0.9414\n",
      "Epoch 47/50\n",
      "224/224 - 4s - loss: 0.2394 - accuracy: 0.9503\n",
      "Epoch 48/50\n",
      "224/224 - 4s - loss: 0.2353 - accuracy: 0.9481\n",
      "Epoch 49/50\n",
      "224/224 - 4s - loss: 0.2329 - accuracy: 0.9475\n",
      "Epoch 50/50\n",
      "224/224 - 4s - loss: 0.3375 - accuracy: 0.9169\n",
      "15/15 - 1s\n",
      "Normalized confusion matrix\n",
      "                 precision    recall  f1-score   support\n",
      "\n",
      "air conditioner       1.00      0.91      0.95        23\n",
      "       computer       0.90      0.88      0.89       136\n",
      "         fridge       0.92      0.89      0.90       260\n",
      "     television       0.51      0.77      0.61        30\n",
      "\n",
      "       accuracy                           0.88       449\n",
      "      macro avg       0.83      0.86      0.84       449\n",
      "   weighted avg       0.89      0.88      0.88       449\n",
      "\n",
      "using dataset data iawe training on model ukdale seed 42\n",
      "reading data, printing stats: \n",
      "['air conditioner', 'computer', 'fridge', 'television']\n",
      "{0: 4.76595744680851, 1: 0.8265682656826568, 2: 0.43118383060635224, 3: 3.8290598290598292}\n",
      " \n",
      "Tests \n",
      "air conditioner test: 23 train: 94\n",
      "computer test: 136 train: 542\n",
      "fridge test: 260 train: 1039\n",
      "television test: 30 train: 117\n",
      "loading model\n",
      "compling TL model..\n"
     ]
    },
    {
     "name": "stderr",
     "output_type": "stream",
     "text": [
      "/usr/local/lib/python3.8/dist-packages/tensorflow/python/keras/optimizer_v2/optimizer_v2.py:374: UserWarning: The `lr` argument is deprecated, use `learning_rate` instead.\n",
      "  warnings.warn(\n"
     ]
    },
    {
     "name": "stdout",
     "output_type": "stream",
     "text": [
      "Normal way\n",
      "[0 1 2 3 4 5 6 7 8 9]\n",
      "Epoch 1/50\n",
      "224/224 - 4s - loss: 1.4795 - accuracy: 0.7863\n",
      "Epoch 2/50\n",
      "224/224 - 4s - loss: 0.4473 - accuracy: 0.8677\n",
      "Epoch 3/50\n",
      "224/224 - 4s - loss: 0.1770 - accuracy: 0.9191\n",
      "Epoch 4/50\n",
      "224/224 - 4s - loss: 0.1188 - accuracy: 0.9515\n",
      "Epoch 5/50\n",
      "224/224 - 4s - loss: 0.0974 - accuracy: 0.9643\n",
      "Epoch 6/50\n",
      "224/224 - 4s - loss: 0.0928 - accuracy: 0.9648\n",
      "Epoch 7/50\n",
      "224/224 - 4s - loss: 0.0756 - accuracy: 0.9654\n",
      "Epoch 8/50\n",
      "224/224 - 4s - loss: 0.0528 - accuracy: 0.9799\n",
      "Epoch 9/50\n",
      "224/224 - 4s - loss: 0.0754 - accuracy: 0.9637\n",
      "Epoch 10/50\n",
      "224/224 - 4s - loss: 0.0877 - accuracy: 0.9654\n",
      "Epoch 11/50\n",
      "224/224 - 4s - loss: 0.3978 - accuracy: 0.9224\n",
      "Epoch 12/50\n",
      "224/224 - 4s - loss: 0.1355 - accuracy: 0.9648\n",
      "Epoch 13/50\n",
      "224/224 - 4s - loss: 0.0522 - accuracy: 0.9743\n",
      "Epoch 14/50\n",
      "224/224 - 4s - loss: 0.1673 - accuracy: 0.9693\n",
      "Epoch 15/50\n",
      "224/224 - 4s - loss: 0.0680 - accuracy: 0.9816\n",
      "Epoch 16/50\n",
      "224/224 - 4s - loss: 0.0284 - accuracy: 0.9833\n",
      "Epoch 17/50\n",
      "224/224 - 3s - loss: 0.0196 - accuracy: 0.9916\n",
      "Epoch 18/50\n",
      "224/224 - 3s - loss: 0.0105 - accuracy: 0.9944\n",
      "Epoch 19/50\n",
      "224/224 - 4s - loss: 0.0111 - accuracy: 0.9927\n",
      "Epoch 20/50\n",
      "224/224 - 3s - loss: 0.0166 - accuracy: 0.9922\n",
      "Epoch 21/50\n",
      "224/224 - 4s - loss: 0.0084 - accuracy: 0.9961\n",
      "Epoch 22/50\n",
      "224/224 - 4s - loss: 0.0157 - accuracy: 0.9933\n",
      "Epoch 23/50\n",
      "224/224 - 4s - loss: 0.0144 - accuracy: 0.9905\n",
      "Epoch 24/50\n",
      "224/224 - 4s - loss: 0.0932 - accuracy: 0.9715\n",
      "Epoch 25/50\n",
      "224/224 - 3s - loss: 0.1047 - accuracy: 0.9743\n",
      "Epoch 26/50\n",
      "224/224 - 4s - loss: 0.0392 - accuracy: 0.9788\n",
      "Epoch 27/50\n",
      "224/224 - 3s - loss: 0.0692 - accuracy: 0.9754\n",
      "Epoch 28/50\n",
      "224/224 - 4s - loss: 0.0294 - accuracy: 0.9883\n",
      "Epoch 29/50\n",
      "224/224 - 4s - loss: 0.0179 - accuracy: 0.9900\n",
      "Epoch 30/50\n",
      "224/224 - 4s - loss: 0.0073 - accuracy: 0.9950\n",
      "Epoch 31/50\n",
      "224/224 - 3s - loss: 0.0061 - accuracy: 0.9961\n",
      "Epoch 32/50\n",
      "224/224 - 4s - loss: 0.0061 - accuracy: 0.9961\n",
      "Epoch 33/50\n",
      "224/224 - 4s - loss: 0.0039 - accuracy: 0.9978\n",
      "Epoch 34/50\n",
      "224/224 - 4s - loss: 0.0047 - accuracy: 0.9972\n",
      "Epoch 35/50\n",
      "224/224 - 4s - loss: 0.1680 - accuracy: 0.9660\n",
      "Epoch 36/50\n",
      "224/224 - 4s - loss: 0.2995 - accuracy: 0.9570\n",
      "Epoch 37/50\n",
      "224/224 - 4s - loss: 0.0284 - accuracy: 0.9905\n",
      "Epoch 38/50\n",
      "224/224 - 4s - loss: 0.0529 - accuracy: 0.9810\n",
      "Epoch 39/50\n",
      "224/224 - 4s - loss: 0.0276 - accuracy: 0.9905\n",
      "Epoch 40/50\n",
      "224/224 - 4s - loss: 0.0625 - accuracy: 0.9888\n",
      "Epoch 41/50\n",
      "224/224 - 3s - loss: 0.1088 - accuracy: 0.9771\n",
      "Epoch 42/50\n",
      "224/224 - 4s - loss: 0.0331 - accuracy: 0.9922\n",
      "Epoch 43/50\n",
      "224/224 - 3s - loss: 0.0086 - accuracy: 0.9967\n",
      "Epoch 44/50\n",
      "224/224 - 4s - loss: 0.0344 - accuracy: 0.9927\n",
      "Epoch 45/50\n",
      "224/224 - 4s - loss: 0.1676 - accuracy: 0.9743\n",
      "Epoch 46/50\n",
      "224/224 - 4s - loss: 0.0280 - accuracy: 0.9905\n",
      "Epoch 47/50\n",
      "224/224 - 4s - loss: 0.0151 - accuracy: 0.9950\n",
      "Epoch 48/50\n",
      "224/224 - 4s - loss: 0.0122 - accuracy: 0.9933\n",
      "Epoch 49/50\n",
      "224/224 - 4s - loss: 0.0051 - accuracy: 0.9978\n",
      "Epoch 50/50\n",
      "224/224 - 4s - loss: 0.0042 - accuracy: 0.9967\n",
      "15/15 - 1s\n",
      "Normalized confusion matrix\n",
      "                 precision    recall  f1-score   support\n",
      "\n",
      "air conditioner       1.00      0.91      0.95        23\n",
      "       computer       0.96      0.96      0.96       136\n",
      "         fridge       0.96      0.96      0.96       260\n",
      "     television       0.73      0.80      0.76        30\n",
      "\n",
      "       accuracy                           0.95       449\n",
      "      macro avg       0.91      0.91      0.91       449\n",
      "   weighted avg       0.95      0.95      0.95       449\n",
      "\n"
     ]
    },
    {
     "data": {
      "image/png": "[encoded data removed]",
      "text/plain": [
       "<Figure size 720x720 with 2 Axes>"
      ]
     },
     "metadata": {
      "needs_background": "light"
     },
     "output_type": "display_data"
    },
    {
     "data": {
      "image/png": "[encoded data removed]",
      "text/plain": [
       "<Figure size 720x720 with 2 Axes>"
      ]
     },
     "metadata": {
      "needs_background": "light"
     },
     "output_type": "display_data"
    },
    {
     "data": {
      "image/png": "[encoded data removed]",
      "text/plain": [
       "<Figure size 720x720 with 2 Axes>"
      ]
     },
     "metadata": {
      "needs_background": "light"
     },
     "output_type": "display_data"
    },
    {
     "data": {
      "image/png": "[encoded data removed]",
      "text/plain": [
       "<Figure size 720x720 with 2 Axes>"
      ]
     },
     "metadata": {
      "needs_background": "light"
     },
     "output_type": "display_data"
    }
   ],
   "source": [
    "# datasets =[\n",
    "#     \"ukdale_gen_GASF_13m_100S5X12A54480_R82_80-20\"\n",
    "# ]\n",
    "\n",
    "if environ['train_type'] == \"TL\": \n",
    "    models = environ['tl_datasets'].replace(\" \",\"\").split(\",\")\n",
    "    #model = [\"base\"]\n",
    "    \n",
    "    for model in models:\n",
    "    \n",
    "        file_name = dataset\n",
    "        \n",
    "        datasetTL = model\n",
    "        \n",
    "        seed = dataset.split(\"_R\")[1][0:2]\n",
    "        \n",
    "        print(\"using dataset data\",dataset.split(\"_\")[0],\"training on model\",model,\"seed\",environ['seed'])\n",
    "        txt_log.write(\"starting \"+dataset.split(\"_\")[0]+\" training on model \"+model+\" seed \"+environ['seed']+\"\\n\")\n",
    "\n",
    "\n",
    "        tf.keras.backend.clear_session()\n",
    "\n",
    "\n",
    "        #read the file\n",
    "        path = str(pathlib.Path().resolve())\n",
    "        path_data = f\"{path}\"\"/data/\"f\"{file_name}\"\"/\"f\"{file_name}\"\".hdf5\"\n",
    "        file = h5py.File(path_data,\"r+\")\n",
    "\n",
    "\n",
    "        print(\"reading data, printing stats: \")\n",
    "        x_test,y_test,d_class_weights,num_of_classes,appliances = get_data(file)\n",
    "        print(\"loading model\")\n",
    "        \n",
    "        model_seed = 42\n",
    "        model_used = create_tl_model(model,environ['learn_type'],model_seed,path,num_of_classes)\n",
    "                \n",
    "        train_gen = HDF5ImageGenerator(\n",
    "            src= path_data,\n",
    "            X_key=\"data/train/gaf\",\n",
    "            y_key=\"labels/train/gaf\",\n",
    "            classes_key=\"appliances/classes\",\n",
    "            labels_encoding=\"hot\",\n",
    "            shuffle=True,\n",
    "            batch_size=int(environ['batch_size']),\n",
    "            num_classes=num_of_classes,\n",
    "            mode=\"train\",\n",
    "            )\n",
    "\n",
    "        model_used.fit(\n",
    "            train_gen,\n",
    "            verbose=2,\n",
    "            epochs=int(environ['epochs']),\n",
    "            class_weight=d_class_weights,\n",
    "            callbacks = [save_op_callback]\n",
    "            #workers = 6,\n",
    "        )\n",
    "        \n",
    "        txt_log.write(\"finished \"+dataset.split(\"_\")[0]+\" training on model \"+model+\" seed \"+environ['seed']+\"\\n\")\n",
    "\n",
    "\n",
    "        evaluate_model(model_used,x_test,y_test,appliances)\n",
    "        \n",
    "\n",
    "\n",
    "\n",
    "        #del model_used\n",
    "\n"
   ]
  },
  {
   "cell_type": "code",
   "execution_count": 16,
   "metadata": {
    "execution": {
     "iopub.execute_input": "2022-02-04T11:30:22.078907Z",
     "iopub.status.busy": "2022-02-04T11:30:22.077735Z",
     "iopub.status.idle": "2022-02-04T11:30:22.080567Z",
     "shell.execute_reply": "2022-02-04T11:30:22.081543Z"
    }
   },
   "outputs": [],
   "source": [
    "txt_log.close()"
   ]
  },
  {
   "cell_type": "code",
   "execution_count": null,
   "metadata": {},
   "outputs": [],
   "source": []
  }
 ],
 "metadata": {
  "colab": {
   "authorship_tag": "ABX9TyMej4PvP65qsLng7TnQKWA4",
   "name": "LSTM-gen",
   "provenance": []
  },
  "kernelspec": {
   "display_name": "Python 3 (ipykernel)",
   "language": "python",
   "name": "python3"
  },
  "language_info": {
   "codemirror_mode": {
    "name": "ipython",
    "version": 3
   },
   "file_extension": ".py",
   "mimetype": "text/x-python",
   "name": "python",
   "nbconvert_exporter": "python",
   "pygments_lexer": "ipython3",
   "version": "3.8.10"
  }
 },
 "nbformat": 4,
 "nbformat_minor": 4
}
