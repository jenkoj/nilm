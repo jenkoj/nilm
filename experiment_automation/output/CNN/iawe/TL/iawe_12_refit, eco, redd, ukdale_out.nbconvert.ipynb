{
 "cells": [
  {
   "cell_type": "code",
   "execution_count": 1,
   "metadata": {
    "execution": {
     "iopub.execute_input": "2022-02-04T11:05:07.907553Z",
     "iopub.status.busy": "2022-02-04T11:05:07.904458Z",
     "iopub.status.idle": "2022-02-04T11:05:09.611069Z",
     "shell.execute_reply": "2022-02-04T11:05:09.609862Z"
    },
    "id": "WqUfHWgtJxtu",
    "scrolled": true,
    "tags": []
   },
   "outputs": [
    {
     "name": "stderr",
     "output_type": "stream",
     "text": [
      "2022-02-04 11:05:08.731652: I tensorflow/stream_executor/platform/default/dso_loader.cc:54] Successfully opened dynamic library libcudart.so.11.0\n"
     ]
    },
    {
     "name": "stdout",
     "output_type": "stream",
     "text": [
      "2.5.0\n",
      "Num GPUs Available:  1\n"
     ]
    },
    {
     "name": "stderr",
     "output_type": "stream",
     "text": [
      "2022-02-04 11:05:09.549794: I tensorflow/stream_executor/platform/default/dso_loader.cc:54] Successfully opened dynamic library libcuda.so.1\n",
      "2022-02-04 11:05:09.589652: I tensorflow/core/common_runtime/gpu/gpu_device.cc:1734] Found device 0 with properties: \n",
      "pciBusID: 0000:21:00.0 name: NVIDIA GeForce RTX 2080 Ti computeCapability: 7.5\n",
      "coreClock: 1.545GHz coreCount: 68 deviceMemorySize: 10.76GiB deviceMemoryBandwidth: 573.69GiB/s\n",
      "2022-02-04 11:05:09.589716: I tensorflow/stream_executor/platform/default/dso_loader.cc:54] Successfully opened dynamic library libcudart.so.11.0\n",
      "2022-02-04 11:05:09.595633: I tensorflow/stream_executor/platform/default/dso_loader.cc:54] Successfully opened dynamic library libcublas.so.11\n",
      "2022-02-04 11:05:09.595708: I tensorflow/stream_executor/platform/default/dso_loader.cc:54] Successfully opened dynamic library libcublasLt.so.11\n",
      "2022-02-04 11:05:09.597708: I tensorflow/stream_executor/platform/default/dso_loader.cc:54] Successfully opened dynamic library libcufft.so.10\n",
      "2022-02-04 11:05:09.598061: I tensorflow/stream_executor/platform/default/dso_loader.cc:54] Successfully opened dynamic library libcurand.so.10\n",
      "2022-02-04 11:05:09.598955: I tensorflow/stream_executor/platform/default/dso_loader.cc:54] Successfully opened dynamic library libcutensor.so.1\n",
      "2022-02-04 11:05:09.599589: I tensorflow/stream_executor/platform/default/dso_loader.cc:54] Successfully opened dynamic library libcusolver.so.11\n",
      "2022-02-04 11:05:09.600604: I tensorflow/stream_executor/platform/default/dso_loader.cc:54] Successfully opened dynamic library libcusparse.so.11\n",
      "2022-02-04 11:05:09.600792: I tensorflow/stream_executor/platform/default/dso_loader.cc:54] Successfully opened dynamic library libcudnn.so.8\n",
      "2022-02-04 11:05:09.601240: I tensorflow/core/common_runtime/gpu/gpu_device.cc:1872] Adding visible gpu devices: 0\n"
     ]
    }
   ],
   "source": [
    "import h5py\n",
    "import numpy as np\n",
    "\n",
    "from sklearn.model_selection import train_test_split\n",
    "from sklearn.metrics import classification_report, confusion_matrix\n",
    "import matplotlib.pyplot as plt\n",
    "import itertools \n",
    "import pyts\n",
    "from pyts.approximation import PiecewiseAggregateApproximation\n",
    "\n",
    "from sklearn.utils import class_weight\n",
    "\n",
    "import pathlib\n",
    "import tensorflow as tf\n",
    "from tensorflow import keras\n",
    "from tensorflow.keras import layers, optimizers\n",
    "from tensorflow.keras.layers import Convolution2D,Conv2D, Dense,Dropout, Flatten, Activation, MaxPooling2D, Input, Conv1D, GlobalAveragePooling1D, TimeDistributed, GRU, LSTM\n",
    "\n",
    "print(tf.__version__)\n",
    "print(\"Num GPUs Available: \", len(tf.config.list_physical_devices('GPU')))\n",
    "gpus = tf.config.experimental.list_physical_devices('GPU')\n",
    "\n",
    "try:\n",
    "    for gpu in gpus:\n",
    "        tf.config.experimental.set_memory_growth(gpu, True)\n",
    "except RuntimeError as e:\n",
    "    print(e)"
   ]
  },
  {
   "cell_type": "code",
   "execution_count": 2,
   "metadata": {
    "execution": {
     "iopub.execute_input": "2022-02-04T11:05:09.618821Z",
     "iopub.status.busy": "2022-02-04T11:05:09.617721Z",
     "iopub.status.idle": "2022-02-04T11:05:09.621398Z",
     "shell.execute_reply": "2022-02-04T11:05:09.622296Z"
    }
   },
   "outputs": [
    {
     "name": "stdout",
     "output_type": "stream",
     "text": [
      "iawe_gen_GASF_60m_300S0X_R12_80-20\n"
     ]
    }
   ],
   "source": [
    "from os import environ\n",
    "dataset = environ['dataset']\n",
    "print(dataset)"
   ]
  },
  {
   "cell_type": "code",
   "execution_count": 3,
   "metadata": {
    "execution": {
     "iopub.execute_input": "2022-02-04T11:05:09.628306Z",
     "iopub.status.busy": "2022-02-04T11:05:09.627254Z",
     "iopub.status.idle": "2022-02-04T11:05:09.633728Z",
     "shell.execute_reply": "2022-02-04T11:05:09.634537Z"
    }
   },
   "outputs": [],
   "source": [
    "#my defs \n",
    "from modules.models import  LSTM_3D_V56, CNN_V56,LSTM_BI_V56\n",
    "from modules.tools import my_print, plot_confusion_matrix_norm, get_data,get_data_split, evaluate_model, create_tl_model\n",
    "from modules.HDF5ImageGenerator import HDF5ImageGenerator"
   ]
  },
  {
   "cell_type": "code",
   "execution_count": 4,
   "metadata": {
    "execution": {
     "iopub.execute_input": "2022-02-04T11:05:09.642200Z",
     "iopub.status.busy": "2022-02-04T11:05:09.640982Z",
     "iopub.status.idle": "2022-02-04T11:05:09.643465Z",
     "shell.execute_reply": "2022-02-04T11:05:09.644442Z"
    },
    "id": "RT1vwq7-KOtB"
   },
   "outputs": [],
   "source": [
    "#LOAD DATASET\n",
    "#file_name = \"ukdale_gen_GASF_13m_100S5X12A54480\"\n",
    "#file_name = \"refit_gen_GASF_13m_100S5X_15A166006\"\n",
    "file_name = \"refit_gen_GASF_13m_100S5X_15A166006_R42-80-20\"\n",
    "#file_name = \"refit_gen_GASF_13m_100S5X_15A166006_R42_80-20\"\n",
    "file_name = \"refit_gen_GASF_60m_300S0X_15A157030N_R12_80-20-V1\"\n",
    "file_name = environ[\"dataset\"]\n",
    "#read the file\n",
    "path = str(pathlib.Path().resolve())\n",
    "\n",
    "path_data = f\"{path}\"\"/data/\"f\"{file_name}\"\"/\"f\"{file_name}\"\".hdf5\"\n",
    "\n",
    "file = h5py.File(path_data,\"r+\")"
   ]
  },
  {
   "cell_type": "code",
   "execution_count": 5,
   "metadata": {
    "execution": {
     "iopub.execute_input": "2022-02-04T11:05:09.651465Z",
     "iopub.status.busy": "2022-02-04T11:05:09.650163Z",
     "iopub.status.idle": "2022-02-04T11:05:09.780156Z",
     "shell.execute_reply": "2022-02-04T11:05:09.781219Z"
    },
    "scrolled": true
   },
   "outputs": [
    {
     "name": "stdout",
     "output_type": "stream",
     "text": [
      "['air conditioner', 'computer', 'fridge', 'television']\n",
      "{0: 4.76595744680851, 1: 0.8265682656826568, 2: 0.43118383060635224, 3: 3.8290598290598292}\n",
      " \n",
      "Tests \n",
      "air conditioner test: 23 train: 94\n",
      "computer test: 136 train: 542\n",
      "fridge test: 260 train: 1039\n",
      "television test: 30 train: 117\n"
     ]
    }
   ],
   "source": [
    "x_test,y_test,d_class_weights,num_of_classes,appliances = get_data(file)"
   ]
  },
  {
   "cell_type": "code",
   "execution_count": 6,
   "metadata": {
    "execution": {
     "iopub.execute_input": "2022-02-04T11:05:09.788491Z",
     "iopub.status.busy": "2022-02-04T11:05:09.787186Z",
     "iopub.status.idle": "2022-02-04T11:05:09.789855Z",
     "shell.execute_reply": "2022-02-04T11:05:09.790896Z"
    }
   },
   "outputs": [],
   "source": [
    "def select_model(learn_type):\n",
    "    \n",
    "    if learn_type == \"CNN\":\n",
    "        model = CNN_V56(file[\"data/train/gaf\"][0:10],num_of_classes,lr= 0.00002)\n",
    "\n",
    "    if learn_type == \"LSTM\":\n",
    "        model = LSTM_3D_V56(file[\"data/train/gaf\"][0:10],num_of_classes,lr= 0.00002)\n",
    "\n",
    "    if learn_type == \"BI_LSTM\":\n",
    "        model = LSTM_BI_V56(file[\"data/train/gaf\"][0:10],num_of_classes,lr= 0.00002)\n",
    "\n",
    "    return model\n",
    "              "
   ]
  },
  {
   "cell_type": "code",
   "execution_count": 7,
   "metadata": {
    "execution": {
     "iopub.execute_input": "2022-02-04T11:05:09.798044Z",
     "iopub.status.busy": "2022-02-04T11:05:09.796656Z",
     "iopub.status.idle": "2022-02-04T11:05:09.800408Z",
     "shell.execute_reply": "2022-02-04T11:05:09.799341Z"
    }
   },
   "outputs": [],
   "source": [
    "path_save = path+'/experiment_automation/output/'+environ['learn_type']+'/'+dataset.split(\"_\")[0]+\"/\"+environ['train_type']+\"/\"+dataset.split(\"_\")[0]+\"_\"+environ['seed']+\"_\"+environ['tl_datasets']\n",
    "path_save_nb = path_save+\"_out.ipynb\"\n",
    "path_save_log = path_save+\"_out_log2.txt\""
   ]
  },
  {
   "cell_type": "code",
   "execution_count": 8,
   "metadata": {
    "execution": {
     "iopub.execute_input": "2022-02-04T11:05:09.808865Z",
     "iopub.status.busy": "2022-02-04T11:05:09.807537Z",
     "iopub.status.idle": "2022-02-04T11:05:09.896731Z",
     "shell.execute_reply": "2022-02-04T11:05:09.895595Z"
    }
   },
   "outputs": [],
   "source": [
    "from keras.callbacks import LambdaCallback\n",
    "#path_log= path+'/experiment_automation/output/'+environ['learn_type']+'/'+dataset.split(\"_\")[0]+\"/\"+environ['train_type']+\"/\"+dataset.split(\"_\")[0]+\"_\"+environ['seed']+\"_\"+environ['tl_datasets']+\"_log.txt\"\n",
    "txt_log = open(path_save+\"_log.txt\", mode='wt', buffering=1)\n",
    "txt_log.write(\"file created! \\n\")\n",
    "\n",
    "save_op_callback = LambdaCallback(\n",
    "  on_epoch_end = lambda epoch, logs: txt_log.write(\n",
    "    str({'epoch': epoch, 'loss': logs['loss'],'acc': logs['accuracy']}) + '\\n'),\n",
    "                                                           \n",
    ")"
   ]
  },
  {
   "cell_type": "code",
   "execution_count": 9,
   "metadata": {
    "execution": {
     "iopub.execute_input": "2022-02-04T11:05:09.902517Z",
     "iopub.status.busy": "2022-02-04T11:05:09.901263Z",
     "iopub.status.idle": "2022-02-04T11:05:09.906627Z",
     "shell.execute_reply": "2022-02-04T11:05:09.905509Z"
    }
   },
   "outputs": [
    {
     "name": "stdout",
     "output_type": "stream",
     "text": [
      "/workspace/notebooks/experiment_automation/output/CNN/iawe/TL/iawe_12_refit, eco, redd, ukdale_out.ipynb\n"
     ]
    }
   ],
   "source": [
    "print(path_save_nb)"
   ]
  },
  {
   "cell_type": "code",
   "execution_count": 10,
   "metadata": {
    "execution": {
     "iopub.execute_input": "2022-02-04T11:05:09.911897Z",
     "iopub.status.busy": "2022-02-04T11:05:09.910823Z",
     "iopub.status.idle": "2022-02-04T11:05:09.913076Z",
     "shell.execute_reply": "2022-02-04T11:05:09.913964Z"
    }
   },
   "outputs": [],
   "source": [
    "# rm $path_save_log"
   ]
  },
  {
   "cell_type": "code",
   "execution_count": 11,
   "metadata": {
    "execution": {
     "iopub.execute_input": "2022-02-04T11:05:09.918967Z",
     "iopub.status.busy": "2022-02-04T11:05:09.917869Z",
     "iopub.status.idle": "2022-02-04T11:05:09.920193Z",
     "shell.execute_reply": "2022-02-04T11:05:09.921329Z"
    }
   },
   "outputs": [],
   "source": [
    "# %%capture cap \n",
    "\n",
    "# with open(path_save_log,\"wt\") as f:\n",
    "#     f.write(cap.stdout)\n",
    "    \n",
    "# print(\"out capture..\")"
   ]
  },
  {
   "cell_type": "code",
   "execution_count": 12,
   "metadata": {
    "execution": {
     "iopub.execute_input": "2022-02-04T11:05:09.936270Z",
     "iopub.status.busy": "2022-02-04T11:05:09.934834Z",
     "iopub.status.idle": "2022-02-04T11:05:09.937686Z",
     "shell.execute_reply": "2022-02-04T11:05:09.938736Z"
    },
    "id": "vqA9NwOqKrb5",
    "jupyter": {
     "outputs_hidden": true
    },
    "tags": []
   },
   "outputs": [],
   "source": [
    "# %%capture cap --no-stderr\n",
    "\n",
    "\n",
    "if environ['train_type'] == \"BB\":\n",
    "\n",
    "    #define generator\n",
    "    train_gen = HDF5ImageGenerator(\n",
    "        src= path_data,\n",
    "        X_key=\"data/train/gaf\",\n",
    "        y_key=\"labels/train/gaf\",\n",
    "        classes_key=\"appliances/classes\",\n",
    "        labels_encoding=\"hot\",\n",
    "        shuffle=True,\n",
    "        batch_size=int(environ['batch_size']),\n",
    "        num_classes=num_of_classes,\n",
    "        mode=\"train\",\n",
    "        )\n",
    "    \n",
    "    model = select_model(environ['learn_type'])\n",
    "    \n",
    "    txt_log.write(\"fitting BB model: \\n\")\n",
    "    \n",
    "    model.fit(\n",
    "        train_gen,\n",
    "        verbose=2,\n",
    "        epochs=int(environ['epochs']),\n",
    "        class_weight=d_class_weights,\n",
    "        callbacks = [save_op_callback],\n",
    "    )\n",
    "    \n",
    "    txt_log.write(\"finished fitting BB model: \\n\")\n",
    "\n",
    "    evaluate_model(model,x_test,y_test,appliances)\n",
    "    \n",
    "    if environ['save_model']==\"True\":\n",
    "\n",
    "        path_model_save = path+\"/models/\"+environ['learn_type']+\"/\"+dataset.split(\"_\")[0]+\"_\"+dataset.split(\"_R\")[1][0:2]\n",
    "        model.save(path_model_save)\n",
    "        txt_log.write(\"model saved to:\"+\"/models/\"+environ['learn_type']+\"/\"+dataset.split(\"_\")[0]+\"_\"+dataset.split(\"_R\")[1][0:2]+\" \\n\")\n",
    "        \n",
    "        \n",
    "# with open(path_save+\"_out_log.txt\" as f:\n",
    "#     f.write(cap.stdout)\n"
   ]
  },
  {
   "cell_type": "code",
   "execution_count": 13,
   "metadata": {
    "collapsed": true,
    "execution": {
     "iopub.execute_input": "2022-02-04T11:05:09.944897Z",
     "iopub.status.busy": "2022-02-04T11:05:09.943546Z",
     "iopub.status.idle": "2022-02-04T11:05:09.946319Z",
     "shell.execute_reply": "2022-02-04T11:05:09.947368Z"
    }
   },
   "outputs": [],
   "source": [
    "#model = keras.models.load_model(path_model1)\n",
    "# model_used = model"
   ]
  },
  {
   "cell_type": "code",
   "execution_count": 14,
   "metadata": {
    "collapsed": true,
    "execution": {
     "iopub.execute_input": "2022-02-04T11:05:09.954230Z",
     "iopub.status.busy": "2022-02-04T11:05:09.953065Z",
     "iopub.status.idle": "2022-02-04T11:05:09.956190Z",
     "shell.execute_reply": "2022-02-04T11:05:09.957169Z"
    },
    "jupyter": {
     "outputs_hidden": true
    },
    "tags": []
   },
   "outputs": [],
   "source": [
    "# evaluate_model(model,x_test,y_test,appliances)"
   ]
  },
  {
   "cell_type": "code",
   "execution_count": 15,
   "metadata": {
    "collapsed": true,
    "execution": {
     "iopub.execute_input": "2022-02-04T11:05:09.982294Z",
     "iopub.status.busy": "2022-02-04T11:05:09.961762Z",
     "iopub.status.idle": "2022-02-04T11:17:36.739936Z",
     "shell.execute_reply": "2022-02-04T11:17:36.740283Z"
    }
   },
   "outputs": [
    {
     "name": "stdout",
     "output_type": "stream",
     "text": [
      "using dataset data iawe training on model refit seed 12\n",
      "reading data, printing stats: \n",
      "['air conditioner', 'computer', 'fridge', 'television']\n",
      "{0: 4.76595744680851, 1: 0.8265682656826568, 2: 0.43118383060635224, 3: 3.8290598290598292}\n",
      " \n",
      "Tests \n",
      "air conditioner test: 23 train: 94\n",
      "computer test: 136 train: 542\n",
      "fridge test: 260 train: 1039\n",
      "television test: 30 train: 117\n",
      "loading model\n",
      "compling TL model..\n"
     ]
    },
    {
     "name": "stderr",
     "output_type": "stream",
     "text": [
      "2022-02-04 11:05:10.092084: I tensorflow/core/common_runtime/gpu/gpu_device.cc:1734] Found device 0 with properties: \n",
      "pciBusID: 0000:21:00.0 name: NVIDIA GeForce RTX 2080 Ti computeCapability: 7.5\n",
      "coreClock: 1.545GHz coreCount: 68 deviceMemorySize: 10.76GiB deviceMemoryBandwidth: 573.69GiB/s\n",
      "2022-02-04 11:05:10.092435: I tensorflow/core/common_runtime/gpu/gpu_device.cc:1872] Adding visible gpu devices: 0\n",
      "2022-02-04 11:05:10.092490: I tensorflow/stream_executor/platform/default/dso_loader.cc:54] Successfully opened dynamic library libcudart.so.11.0\n",
      "2022-02-04 11:05:10.459514: I tensorflow/core/common_runtime/gpu/gpu_device.cc:1258] Device interconnect StreamExecutor with strength 1 edge matrix:\n",
      "2022-02-04 11:05:10.459549: I tensorflow/core/common_runtime/gpu/gpu_device.cc:1264]      0 \n",
      "2022-02-04 11:05:10.459555: I tensorflow/core/common_runtime/gpu/gpu_device.cc:1277] 0:   N \n",
      "2022-02-04 11:05:10.460146: I tensorflow/core/common_runtime/gpu/gpu_device.cc:1418] Created TensorFlow device (/job:localhost/replica:0/task:0/device:GPU:0 with 9649 MB memory) -> physical GPU (device: 0, name: NVIDIA GeForce RTX 2080 Ti, pci bus id: 0000:21:00.0, compute capability: 7.5)\n",
      "2022-02-04 11:05:10.460443: I tensorflow/core/common_runtime/process_util.cc:146] Creating new thread pool with default inter op setting: 20. Tune using inter_op_parallelism_threads for best performance.\n"
     ]
    },
    {
     "name": "stdout",
     "output_type": "stream",
     "text": [
      "Normal way\n",
      "[0 1 2 3 4 5 6 7 8 9]\n",
      "WARNING:tensorflow:From /usr/local/lib/python3.8/dist-packages/tensorflow/python/ops/array_ops.py:5043: calling gather (from tensorflow.python.ops.array_ops) with validate_indices is deprecated and will be removed in a future version.\n",
      "Instructions for updating:\n",
      "The `validate_indices` argument has no effect. Indices are always validated on CPU and never validated on GPU.\n"
     ]
    },
    {
     "name": "stderr",
     "output_type": "stream",
     "text": [
      "/usr/local/lib/python3.8/dist-packages/tensorflow/python/keras/optimizer_v2/optimizer_v2.py:374: UserWarning: The `lr` argument is deprecated, use `learning_rate` instead.\n",
      "  warnings.warn(\n",
      "2022-02-04 11:05:11.015427: I tensorflow/compiler/mlir/mlir_graph_optimization_pass.cc:176] None of the MLIR Optimization Passes are enabled (registered 2)\n",
      "2022-02-04 11:05:11.032464: I tensorflow/core/platform/profile_utils/cpu_utils.cc:114] CPU Frequency: 3299990000 Hz\n"
     ]
    },
    {
     "name": "stdout",
     "output_type": "stream",
     "text": [
      "Epoch 1/50\n"
     ]
    },
    {
     "name": "stderr",
     "output_type": "stream",
     "text": [
      "2022-02-04 11:05:11.502229: I tensorflow/stream_executor/platform/default/dso_loader.cc:54] Successfully opened dynamic library libcudnn.so.8\n",
      "2022-02-04 11:05:11.962385: I tensorflow/stream_executor/cuda/cuda_dnn.cc:380] Loaded cuDNN version 8202\n",
      "2022-02-04 11:05:12.449737: I tensorflow/stream_executor/platform/default/dso_loader.cc:54] Successfully opened dynamic library libcublas.so.11\n",
      "2022-02-04 11:05:12.875370: I tensorflow/stream_executor/platform/default/dso_loader.cc:54] Successfully opened dynamic library libcublasLt.so.11\n"
     ]
    },
    {
     "name": "stdout",
     "output_type": "stream",
     "text": [
      "224/224 - 5s - loss: 0.7506 - accuracy: 0.7673\n",
      "Epoch 2/50\n",
      "224/224 - 4s - loss: 0.3711 - accuracy: 0.8510\n",
      "Epoch 3/50\n",
      "224/224 - 3s - loss: 0.2568 - accuracy: 0.8806\n",
      "Epoch 4/50\n",
      "224/224 - 4s - loss: 0.2155 - accuracy: 0.8811\n",
      "Epoch 5/50\n",
      "224/224 - 4s - loss: 0.1619 - accuracy: 0.9135\n",
      "Epoch 6/50\n",
      "224/224 - 4s - loss: 0.1488 - accuracy: 0.9224\n",
      "Epoch 7/50\n",
      "224/224 - 4s - loss: 0.1216 - accuracy: 0.9347\n",
      "Epoch 8/50\n",
      "224/224 - 4s - loss: 0.2116 - accuracy: 0.9090\n",
      "Epoch 9/50\n",
      "224/224 - 4s - loss: 0.1329 - accuracy: 0.9297\n",
      "Epoch 10/50\n",
      "224/224 - 4s - loss: 0.0669 - accuracy: 0.9559\n",
      "Epoch 11/50\n",
      "224/224 - 4s - loss: 0.0778 - accuracy: 0.9487\n",
      "Epoch 12/50\n",
      "224/224 - 4s - loss: 0.0553 - accuracy: 0.9581\n",
      "Epoch 13/50\n",
      "224/224 - 4s - loss: 0.1220 - accuracy: 0.9386\n",
      "Epoch 14/50\n",
      "224/224 - 3s - loss: 0.0915 - accuracy: 0.9442\n",
      "Epoch 15/50\n",
      "224/224 - 3s - loss: 0.0987 - accuracy: 0.9565\n",
      "Epoch 16/50\n",
      "224/224 - 4s - loss: 0.1044 - accuracy: 0.9386\n",
      "Epoch 17/50\n",
      "224/224 - 4s - loss: 0.0440 - accuracy: 0.9671\n",
      "Epoch 18/50\n",
      "224/224 - 4s - loss: 0.0452 - accuracy: 0.9732\n",
      "Epoch 19/50\n",
      "224/224 - 4s - loss: 0.0434 - accuracy: 0.9704\n",
      "Epoch 20/50\n",
      "224/224 - 4s - loss: 0.0242 - accuracy: 0.9816\n",
      "Epoch 21/50\n",
      "224/224 - 4s - loss: 0.0191 - accuracy: 0.9877\n",
      "Epoch 22/50\n",
      "224/224 - 3s - loss: 0.0351 - accuracy: 0.9771\n",
      "Epoch 23/50\n",
      "224/224 - 3s - loss: 0.3193 - accuracy: 0.8951\n",
      "Epoch 24/50\n",
      "224/224 - 4s - loss: 0.1160 - accuracy: 0.9314\n",
      "Epoch 25/50\n",
      "224/224 - 3s - loss: 0.0434 - accuracy: 0.9727\n",
      "Epoch 26/50\n",
      "224/224 - 4s - loss: 0.0331 - accuracy: 0.9833\n",
      "Epoch 27/50\n",
      "224/224 - 4s - loss: 0.0254 - accuracy: 0.9827\n",
      "Epoch 28/50\n",
      "224/224 - 3s - loss: 0.0141 - accuracy: 0.9911\n",
      "Epoch 29/50\n",
      "224/224 - 4s - loss: 0.0125 - accuracy: 0.9900\n",
      "Epoch 30/50\n",
      "224/224 - 4s - loss: 0.0156 - accuracy: 0.9877\n",
      "Epoch 31/50\n",
      "224/224 - 4s - loss: 0.0264 - accuracy: 0.9855\n",
      "Epoch 32/50\n",
      "224/224 - 4s - loss: 0.1261 - accuracy: 0.9470\n",
      "Epoch 33/50\n",
      "224/224 - 4s - loss: 0.0350 - accuracy: 0.9799\n",
      "Epoch 34/50\n",
      "224/224 - 4s - loss: 0.0594 - accuracy: 0.9794\n",
      "Epoch 35/50\n",
      "224/224 - 3s - loss: 0.0553 - accuracy: 0.9788\n",
      "Epoch 36/50\n",
      "224/224 - 3s - loss: 0.0099 - accuracy: 0.9933\n",
      "Epoch 37/50\n",
      "224/224 - 4s - loss: 0.0064 - accuracy: 0.9967\n",
      "Epoch 38/50\n",
      "224/224 - 4s - loss: 0.1077 - accuracy: 0.9660\n",
      "Epoch 39/50\n",
      "224/224 - 4s - loss: 0.2076 - accuracy: 0.9503\n",
      "Epoch 40/50\n",
      "224/224 - 4s - loss: 0.0504 - accuracy: 0.9732\n",
      "Epoch 41/50\n",
      "224/224 - 4s - loss: 0.0252 - accuracy: 0.9833\n",
      "Epoch 42/50\n",
      "224/224 - 4s - loss: 0.0128 - accuracy: 0.9922\n",
      "Epoch 43/50\n",
      "224/224 - 4s - loss: 0.0155 - accuracy: 0.9905\n",
      "Epoch 44/50\n",
      "224/224 - 3s - loss: 0.0334 - accuracy: 0.9827\n",
      "Epoch 45/50\n",
      "224/224 - 4s - loss: 0.0240 - accuracy: 0.9844\n",
      "Epoch 46/50\n",
      "224/224 - 4s - loss: 0.0062 - accuracy: 0.9967\n",
      "Epoch 47/50\n",
      "224/224 - 4s - loss: 0.0057 - accuracy: 0.9961\n",
      "Epoch 48/50\n",
      "224/224 - 4s - loss: 0.0094 - accuracy: 0.9927\n",
      "Epoch 49/50\n",
      "224/224 - 4s - loss: 0.0074 - accuracy: 0.9950\n",
      "Epoch 50/50\n",
      "224/224 - 4s - loss: 0.0636 - accuracy: 0.9732\n",
      "15/15 - 1s\n",
      "Normalized confusion matrix\n",
      "                 precision    recall  f1-score   support\n",
      "\n",
      "air conditioner       0.95      0.91      0.93        23\n",
      "       computer       0.85      0.99      0.91       136\n",
      "         fridge       0.97      0.87      0.92       260\n",
      "     television       0.69      0.83      0.76        30\n",
      "\n",
      "       accuracy                           0.91       449\n",
      "      macro avg       0.87      0.90      0.88       449\n",
      "   weighted avg       0.92      0.91      0.91       449\n",
      "\n",
      "using dataset data iawe training on model eco seed 12\n",
      "reading data, printing stats: \n",
      "['air conditioner', 'computer', 'fridge', 'television']\n",
      "{0: 4.76595744680851, 1: 0.8265682656826568, 2: 0.43118383060635224, 3: 3.8290598290598292}\n",
      " \n",
      "Tests \n",
      "air conditioner test: 23 train: 94\n",
      "computer test: 136 train: 542\n",
      "fridge test: 260 train: 1039\n",
      "television test: 30 train: 117\n",
      "loading model\n",
      "compling TL model..\n"
     ]
    },
    {
     "name": "stderr",
     "output_type": "stream",
     "text": [
      "/usr/local/lib/python3.8/dist-packages/tensorflow/python/keras/optimizer_v2/optimizer_v2.py:374: UserWarning: The `lr` argument is deprecated, use `learning_rate` instead.\n",
      "  warnings.warn(\n"
     ]
    },
    {
     "name": "stdout",
     "output_type": "stream",
     "text": [
      "Normal way\n",
      "[0 1 2 3 4 5 6 7 8 9]\n",
      "Epoch 1/50\n",
      "224/224 - 4s - loss: 1.4597 - accuracy: 0.6417\n",
      "Epoch 2/50\n",
      "224/224 - 3s - loss: 0.5708 - accuracy: 0.7762\n",
      "Epoch 3/50\n",
      "224/224 - 4s - loss: 0.4089 - accuracy: 0.8025\n",
      "Epoch 4/50\n",
      "224/224 - 3s - loss: 0.6001 - accuracy: 0.7963\n",
      "Epoch 5/50\n",
      "224/224 - 4s - loss: 0.3527 - accuracy: 0.7963\n",
      "Epoch 6/50\n",
      "224/224 - 4s - loss: 0.3896 - accuracy: 0.8192\n",
      "Epoch 7/50\n",
      "224/224 - 4s - loss: 0.3910 - accuracy: 0.8270\n",
      "Epoch 8/50\n",
      "224/224 - 4s - loss: 0.2167 - accuracy: 0.8850\n",
      "Epoch 9/50\n",
      "224/224 - 4s - loss: 0.2176 - accuracy: 0.8906\n",
      "Epoch 10/50\n",
      "224/224 - 4s - loss: 0.5879 - accuracy: 0.8499\n",
      "Epoch 11/50\n",
      "224/224 - 4s - loss: 0.2472 - accuracy: 0.8862\n",
      "Epoch 12/50\n",
      "224/224 - 4s - loss: 0.1747 - accuracy: 0.9074\n",
      "Epoch 13/50\n",
      "224/224 - 4s - loss: 0.1745 - accuracy: 0.9129\n",
      "Epoch 14/50\n",
      "224/224 - 4s - loss: 0.4194 - accuracy: 0.8482\n",
      "Epoch 15/50\n",
      "224/224 - 4s - loss: 0.2105 - accuracy: 0.8968\n",
      "Epoch 16/50\n",
      "224/224 - 4s - loss: 0.2460 - accuracy: 0.9096\n",
      "Epoch 17/50\n",
      "224/224 - 3s - loss: 0.2236 - accuracy: 0.9074\n",
      "Epoch 18/50\n",
      "224/224 - 4s - loss: 0.1572 - accuracy: 0.9258\n",
      "Epoch 19/50\n",
      "224/224 - 3s - loss: 0.0967 - accuracy: 0.9397\n",
      "Epoch 20/50\n",
      "224/224 - 4s - loss: 0.0794 - accuracy: 0.9554\n",
      "Epoch 21/50\n",
      "224/224 - 4s - loss: 0.0777 - accuracy: 0.9464\n",
      "Epoch 22/50\n",
      "224/224 - 4s - loss: 0.0676 - accuracy: 0.9581\n",
      "Epoch 23/50\n",
      "224/224 - 3s - loss: 0.1430 - accuracy: 0.9403\n",
      "Epoch 24/50\n",
      "224/224 - 3s - loss: 0.1053 - accuracy: 0.9442\n",
      "Epoch 25/50\n",
      "224/224 - 4s - loss: 0.0646 - accuracy: 0.9587\n",
      "Epoch 26/50\n",
      "224/224 - 4s - loss: 0.0569 - accuracy: 0.9604\n",
      "Epoch 27/50\n",
      "224/224 - 4s - loss: 0.0519 - accuracy: 0.9604\n",
      "Epoch 28/50\n",
      "224/224 - 4s - loss: 0.0473 - accuracy: 0.9727\n",
      "Epoch 29/50\n",
      "224/224 - 3s - loss: 0.1198 - accuracy: 0.9498\n",
      "Epoch 30/50\n",
      "224/224 - 4s - loss: 0.1221 - accuracy: 0.9425\n",
      "Epoch 31/50\n",
      "224/224 - 4s - loss: 0.2652 - accuracy: 0.9085\n",
      "Epoch 32/50\n",
      "224/224 - 4s - loss: 0.1089 - accuracy: 0.9548\n",
      "Epoch 33/50\n",
      "224/224 - 4s - loss: 0.0529 - accuracy: 0.9699\n",
      "Epoch 34/50\n",
      "224/224 - 4s - loss: 0.0313 - accuracy: 0.9799\n",
      "Epoch 35/50\n",
      "224/224 - 4s - loss: 0.0246 - accuracy: 0.9821\n",
      "Epoch 36/50\n",
      "224/224 - 3s - loss: 0.0238 - accuracy: 0.9849\n",
      "Epoch 37/50\n",
      "224/224 - 4s - loss: 0.0284 - accuracy: 0.9838\n",
      "Epoch 38/50\n",
      "224/224 - 4s - loss: 0.0207 - accuracy: 0.9872\n",
      "Epoch 39/50\n",
      "224/224 - 3s - loss: 0.0195 - accuracy: 0.9877\n",
      "Epoch 40/50\n",
      "224/224 - 4s - loss: 0.0319 - accuracy: 0.9810\n",
      "Epoch 41/50\n",
      "224/224 - 4s - loss: 0.0162 - accuracy: 0.9888\n",
      "Epoch 42/50\n",
      "224/224 - 4s - loss: 0.1100 - accuracy: 0.9693\n",
      "Epoch 43/50\n",
      "224/224 - 4s - loss: 0.4734 - accuracy: 0.9336\n",
      "Epoch 44/50\n",
      "224/224 - 4s - loss: 0.2968 - accuracy: 0.9252\n",
      "Epoch 45/50\n",
      "224/224 - 4s - loss: 0.0990 - accuracy: 0.9615\n",
      "Epoch 46/50\n",
      "224/224 - 4s - loss: 0.0568 - accuracy: 0.9727\n",
      "Epoch 47/50\n",
      "224/224 - 3s - loss: 0.0383 - accuracy: 0.9855\n",
      "Epoch 48/50\n",
      "224/224 - 4s - loss: 0.0336 - accuracy: 0.9821\n",
      "Epoch 49/50\n",
      "224/224 - 3s - loss: 0.0490 - accuracy: 0.9905\n",
      "Epoch 50/50\n",
      "224/224 - 4s - loss: 0.0245 - accuracy: 0.9911\n",
      "15/15 - 1s\n",
      "Normalized confusion matrix\n",
      "                 precision    recall  f1-score   support\n",
      "\n",
      "air conditioner       0.96      0.96      0.96        23\n",
      "       computer       0.91      0.86      0.89       136\n",
      "         fridge       0.91      0.95      0.93       260\n",
      "     television       0.86      0.83      0.85        30\n",
      "\n",
      "       accuracy                           0.91       449\n",
      "      macro avg       0.91      0.90      0.91       449\n",
      "   weighted avg       0.91      0.91      0.91       449\n",
      "\n",
      "using dataset data iawe training on model redd seed 12\n",
      "reading data, printing stats: \n",
      "['air conditioner', 'computer', 'fridge', 'television']\n",
      "{0: 4.76595744680851, 1: 0.8265682656826568, 2: 0.43118383060635224, 3: 3.8290598290598292}\n",
      " \n",
      "Tests \n",
      "air conditioner test: 23 train: 94\n",
      "computer test: 136 train: 542\n",
      "fridge test: 260 train: 1039\n",
      "television test: 30 train: 117\n",
      "loading model\n",
      "compling TL model..\n"
     ]
    },
    {
     "name": "stderr",
     "output_type": "stream",
     "text": [
      "/usr/local/lib/python3.8/dist-packages/tensorflow/python/keras/optimizer_v2/optimizer_v2.py:374: UserWarning: The `lr` argument is deprecated, use `learning_rate` instead.\n",
      "  warnings.warn(\n"
     ]
    },
    {
     "name": "stdout",
     "output_type": "stream",
     "text": [
      "Normal way\n",
      "[0 1 2 3 4 5 6 7 8 9]\n",
      "Epoch 1/50\n",
      "224/224 - 4s - loss: 3.7219 - accuracy: 0.2885\n",
      "Epoch 2/50\n",
      "224/224 - 4s - loss: 2.1980 - accuracy: 0.4230\n",
      "Epoch 3/50\n",
      "224/224 - 4s - loss: 1.4827 - accuracy: 0.5123\n",
      "Epoch 4/50\n",
      "224/224 - 4s - loss: 0.9061 - accuracy: 0.6579\n",
      "Epoch 5/50\n",
      "224/224 - 4s - loss: 0.7672 - accuracy: 0.7617\n",
      "Epoch 6/50\n",
      "224/224 - 4s - loss: 0.6949 - accuracy: 0.7963\n",
      "Epoch 7/50\n",
      "224/224 - 4s - loss: 0.6030 - accuracy: 0.8064\n",
      "Epoch 8/50\n",
      "224/224 - 4s - loss: 0.7817 - accuracy: 0.7427\n",
      "Epoch 9/50\n",
      "224/224 - 4s - loss: 0.8948 - accuracy: 0.7969\n",
      "Epoch 10/50\n",
      "224/224 - 4s - loss: 0.4813 - accuracy: 0.8465\n",
      "Epoch 11/50\n",
      "224/224 - 4s - loss: 0.3929 - accuracy: 0.8683\n",
      "Epoch 12/50\n",
      "224/224 - 4s - loss: 0.4977 - accuracy: 0.8471\n",
      "Epoch 13/50\n",
      "224/224 - 4s - loss: 0.4383 - accuracy: 0.8426\n",
      "Epoch 14/50\n",
      "224/224 - 4s - loss: 2.3110 - accuracy: 0.8237\n",
      "Epoch 15/50\n",
      "224/224 - 4s - loss: 5.9314 - accuracy: 0.3516\n",
      "Epoch 16/50\n",
      "224/224 - 3s - loss: 0.8971 - accuracy: 0.3650\n",
      "Epoch 17/50\n",
      "224/224 - 4s - loss: 0.7127 - accuracy: 0.7015\n",
      "Epoch 18/50\n",
      "224/224 - 3s - loss: 0.5422 - accuracy: 0.8186\n",
      "Epoch 19/50\n",
      "224/224 - 3s - loss: 0.4811 - accuracy: 0.8471\n",
      "Epoch 20/50\n",
      "224/224 - 3s - loss: 0.4009 - accuracy: 0.8717\n",
      "Epoch 21/50\n",
      "224/224 - 4s - loss: 0.5135 - accuracy: 0.8426\n",
      "Epoch 22/50\n",
      "224/224 - 4s - loss: 0.3576 - accuracy: 0.8839\n",
      "Epoch 23/50\n",
      "224/224 - 4s - loss: 0.3105 - accuracy: 0.9029\n",
      "Epoch 24/50\n",
      "224/224 - 4s - loss: 0.2867 - accuracy: 0.9129\n",
      "Epoch 25/50\n",
      "224/224 - 4s - loss: 0.2573 - accuracy: 0.9191\n",
      "Epoch 26/50\n",
      "224/224 - 4s - loss: 0.2307 - accuracy: 0.9258\n",
      "Epoch 27/50\n",
      "224/224 - 4s - loss: 0.2249 - accuracy: 0.9241\n",
      "Epoch 28/50\n",
      "224/224 - 4s - loss: 0.2084 - accuracy: 0.9448\n",
      "Epoch 29/50\n",
      "224/224 - 4s - loss: 0.1996 - accuracy: 0.9386\n",
      "Epoch 30/50\n",
      "224/224 - 4s - loss: 0.2035 - accuracy: 0.9252\n",
      "Epoch 31/50\n",
      "224/224 - 4s - loss: 0.1956 - accuracy: 0.9425\n",
      "Epoch 32/50\n",
      "224/224 - 4s - loss: 0.2712 - accuracy: 0.9074\n",
      "Epoch 33/50\n",
      "224/224 - 3s - loss: 0.1835 - accuracy: 0.9498\n",
      "Epoch 34/50\n",
      "224/224 - 4s - loss: 0.1727 - accuracy: 0.9520\n",
      "Epoch 35/50\n",
      "224/224 - 4s - loss: 0.1637 - accuracy: 0.9576\n",
      "Epoch 36/50\n",
      "224/224 - 4s - loss: 0.1685 - accuracy: 0.9470\n",
      "Epoch 37/50\n",
      "224/224 - 4s - loss: 0.1560 - accuracy: 0.9526\n",
      "Epoch 38/50\n",
      "224/224 - 4s - loss: 0.1689 - accuracy: 0.9576\n",
      "Epoch 39/50\n",
      "224/224 - 3s - loss: 0.1544 - accuracy: 0.9531\n",
      "Epoch 40/50\n",
      "224/224 - 4s - loss: 0.1401 - accuracy: 0.9637\n",
      "Epoch 41/50\n",
      "224/224 - 4s - loss: 0.1176 - accuracy: 0.9671\n",
      "Epoch 42/50\n",
      "224/224 - 4s - loss: 0.1660 - accuracy: 0.9542\n",
      "Epoch 43/50\n",
      "224/224 - 3s - loss: 0.1848 - accuracy: 0.9381\n",
      "Epoch 44/50\n",
      "224/224 - 4s - loss: 0.2484 - accuracy: 0.9079\n",
      "Epoch 45/50\n",
      "224/224 - 3s - loss: 0.2211 - accuracy: 0.9208\n",
      "Epoch 46/50\n",
      "224/224 - 4s - loss: 0.1388 - accuracy: 0.9509\n",
      "Epoch 47/50\n",
      "224/224 - 4s - loss: 0.0995 - accuracy: 0.9682\n",
      "Epoch 48/50\n",
      "224/224 - 4s - loss: 0.0922 - accuracy: 0.9710\n",
      "Epoch 49/50\n",
      "224/224 - 4s - loss: 0.1078 - accuracy: 0.9654\n",
      "Epoch 50/50\n",
      "224/224 - 4s - loss: 0.0833 - accuracy: 0.9732\n",
      "15/15 - 1s\n",
      "Normalized confusion matrix\n",
      "                 precision    recall  f1-score   support\n",
      "\n",
      "air conditioner       0.95      0.91      0.93        23\n",
      "       computer       0.87      0.94      0.90       136\n",
      "         fridge       0.94      0.91      0.93       260\n",
      "     television       0.70      0.70      0.70        30\n",
      "\n",
      "       accuracy                           0.90       449\n",
      "      macro avg       0.87      0.87      0.87       449\n",
      "   weighted avg       0.91      0.90      0.90       449\n",
      "\n",
      "using dataset data iawe training on model ukdale seed 12\n",
      "reading data, printing stats: \n",
      "['air conditioner', 'computer', 'fridge', 'television']\n",
      "{0: 4.76595744680851, 1: 0.8265682656826568, 2: 0.43118383060635224, 3: 3.8290598290598292}\n",
      " \n",
      "Tests \n",
      "air conditioner test: 23 train: 94\n",
      "computer test: 136 train: 542\n",
      "fridge test: 260 train: 1039\n",
      "television test: 30 train: 117\n",
      "loading model\n",
      "compling TL model..\n"
     ]
    },
    {
     "name": "stderr",
     "output_type": "stream",
     "text": [
      "/usr/local/lib/python3.8/dist-packages/tensorflow/python/keras/optimizer_v2/optimizer_v2.py:374: UserWarning: The `lr` argument is deprecated, use `learning_rate` instead.\n",
      "  warnings.warn(\n"
     ]
    },
    {
     "name": "stdout",
     "output_type": "stream",
     "text": [
      "Normal way\n",
      "[0 1 2 3 4 5 6 7 8 9]\n",
      "Epoch 1/50\n",
      "224/224 - 4s - loss: 0.7102 - accuracy: 0.7868\n",
      "Epoch 2/50\n",
      "224/224 - 3s - loss: 0.4386 - accuracy: 0.8538\n",
      "Epoch 3/50\n",
      "224/224 - 4s - loss: 0.2384 - accuracy: 0.8895\n",
      "Epoch 4/50\n",
      "224/224 - 4s - loss: 0.2312 - accuracy: 0.9191\n",
      "Epoch 5/50\n",
      "224/224 - 4s - loss: 0.1395 - accuracy: 0.9157\n",
      "Epoch 6/50\n",
      "224/224 - 3s - loss: 0.1854 - accuracy: 0.9224\n",
      "Epoch 7/50\n",
      "224/224 - 3s - loss: 0.0987 - accuracy: 0.9587\n",
      "Epoch 8/50\n",
      "224/224 - 4s - loss: 0.0599 - accuracy: 0.9682\n",
      "Epoch 9/50\n",
      "224/224 - 3s - loss: 0.1373 - accuracy: 0.9492\n",
      "Epoch 10/50\n",
      "224/224 - 3s - loss: 0.0983 - accuracy: 0.9492\n",
      "Epoch 11/50\n",
      "224/224 - 4s - loss: 0.1019 - accuracy: 0.9626\n",
      "Epoch 12/50\n",
      "224/224 - 3s - loss: 0.1488 - accuracy: 0.9448\n",
      "Epoch 13/50\n",
      "224/224 - 4s - loss: 0.1013 - accuracy: 0.9676\n",
      "Epoch 14/50\n",
      "224/224 - 4s - loss: 0.0518 - accuracy: 0.9749\n",
      "Epoch 15/50\n",
      "224/224 - 4s - loss: 0.0452 - accuracy: 0.9794\n",
      "Epoch 16/50\n",
      "224/224 - 4s - loss: 0.0339 - accuracy: 0.9838\n",
      "Epoch 17/50\n",
      "224/224 - 4s - loss: 0.0976 - accuracy: 0.9576\n",
      "Epoch 18/50\n",
      "224/224 - 4s - loss: 0.0749 - accuracy: 0.9498\n",
      "Epoch 19/50\n",
      "224/224 - 4s - loss: 0.0824 - accuracy: 0.9654\n",
      "Epoch 20/50\n",
      "224/224 - 4s - loss: 0.1023 - accuracy: 0.9515\n",
      "Epoch 21/50\n",
      "224/224 - 4s - loss: 0.0571 - accuracy: 0.9688\n",
      "Epoch 22/50\n",
      "224/224 - 3s - loss: 0.0457 - accuracy: 0.9821\n",
      "Epoch 23/50\n",
      "224/224 - 4s - loss: 0.1046 - accuracy: 0.9587\n",
      "Epoch 24/50\n",
      "224/224 - 4s - loss: 0.0254 - accuracy: 0.9877\n",
      "Epoch 25/50\n",
      "224/224 - 4s - loss: 0.0243 - accuracy: 0.9872\n",
      "Epoch 26/50\n",
      "224/224 - 4s - loss: 0.0382 - accuracy: 0.9900\n",
      "Epoch 27/50\n",
      "224/224 - 4s - loss: 0.0523 - accuracy: 0.9794\n",
      "Epoch 28/50\n",
      "224/224 - 4s - loss: 0.2242 - accuracy: 0.9224\n",
      "Epoch 29/50\n",
      "224/224 - 4s - loss: 0.3573 - accuracy: 0.7773\n",
      "Epoch 30/50\n",
      "224/224 - 3s - loss: 0.1309 - accuracy: 0.9693\n",
      "Epoch 31/50\n",
      "224/224 - 3s - loss: 0.0556 - accuracy: 0.9799\n",
      "Epoch 32/50\n",
      "224/224 - 4s - loss: 0.0352 - accuracy: 0.9844\n",
      "Epoch 33/50\n",
      "224/224 - 4s - loss: 0.0279 - accuracy: 0.9877\n",
      "Epoch 34/50\n",
      "224/224 - 4s - loss: 0.0272 - accuracy: 0.9894\n",
      "Epoch 35/50\n",
      "224/224 - 4s - loss: 0.0209 - accuracy: 0.9922\n",
      "Epoch 36/50\n",
      "224/224 - 4s - loss: 0.0210 - accuracy: 0.9911\n",
      "Epoch 37/50\n",
      "224/224 - 3s - loss: 0.0187 - accuracy: 0.9950\n",
      "Epoch 38/50\n",
      "224/224 - 4s - loss: 0.0163 - accuracy: 0.9961\n",
      "Epoch 39/50\n",
      "224/224 - 4s - loss: 0.0146 - accuracy: 0.9967\n",
      "Epoch 40/50\n",
      "224/224 - 3s - loss: 0.0134 - accuracy: 0.9978\n",
      "Epoch 41/50\n",
      "224/224 - 4s - loss: 0.0178 - accuracy: 0.9944\n",
      "Epoch 42/50\n",
      "224/224 - 4s - loss: 0.0155 - accuracy: 0.9950\n",
      "Epoch 43/50\n",
      "224/224 - 4s - loss: 0.0648 - accuracy: 0.9704\n",
      "Epoch 44/50\n",
      "224/224 - 4s - loss: 0.2289 - accuracy: 0.9414\n",
      "Epoch 45/50\n",
      "224/224 - 3s - loss: 0.1315 - accuracy: 0.9542\n",
      "Epoch 46/50\n",
      "224/224 - 4s - loss: 0.0255 - accuracy: 0.9855\n",
      "Epoch 47/50\n",
      "224/224 - 3s - loss: 0.0146 - accuracy: 0.9922\n",
      "Epoch 48/50\n",
      "224/224 - 4s - loss: 0.0134 - accuracy: 0.9961\n",
      "Epoch 49/50\n",
      "224/224 - 4s - loss: 0.0104 - accuracy: 0.9967\n",
      "Epoch 50/50\n",
      "224/224 - 4s - loss: 0.0093 - accuracy: 0.9972\n",
      "15/15 - 1s\n",
      "Normalized confusion matrix\n",
      "                 precision    recall  f1-score   support\n",
      "\n",
      "air conditioner       1.00      0.83      0.90        23\n",
      "       computer       0.91      0.99      0.95       136\n",
      "         fridge       0.95      0.94      0.95       260\n",
      "     television       0.70      0.63      0.67        30\n",
      "\n",
      "       accuracy                           0.93       449\n",
      "      macro avg       0.89      0.85      0.87       449\n",
      "   weighted avg       0.93      0.93      0.93       449\n",
      "\n"
     ]
    },
    {
     "data": {
      "image/png": "[encoded data removed]",
      "text/plain": [
       "<Figure size 720x720 with 2 Axes>"
      ]
     },
     "metadata": {
      "needs_background": "light"
     },
     "output_type": "display_data"
    },
    {
     "data": {
      "image/png": "[encoded data removed]",
      "text/plain": [
       "<Figure size 720x720 with 2 Axes>"
      ]
     },
     "metadata": {
      "needs_background": "light"
     },
     "output_type": "display_data"
    },
    {
     "data": {
      "image/png": "[encoded data removed]",
      "text/plain": [
       "<Figure size 720x720 with 2 Axes>"
      ]
     },
     "metadata": {
      "needs_background": "light"
     },
     "output_type": "display_data"
    },
    {
     "data": {
      "image/png": "[encoded data removed]",
      "text/plain": [
       "<Figure size 720x720 with 2 Axes>"
      ]
     },
     "metadata": {
      "needs_background": "light"
     },
     "output_type": "display_data"
    }
   ],
   "source": [
    "# datasets =[\n",
    "#     \"ukdale_gen_GASF_13m_100S5X12A54480_R82_80-20\"\n",
    "# ]\n",
    "\n",
    "if environ['train_type'] == \"TL\": \n",
    "    models = environ['tl_datasets'].replace(\" \",\"\").split(\",\")\n",
    "    #model = [\"base\"]\n",
    "    \n",
    "    for model in models:\n",
    "    \n",
    "        file_name = dataset\n",
    "        \n",
    "        datasetTL = model\n",
    "        \n",
    "        seed = dataset.split(\"_R\")[1][0:2]\n",
    "        \n",
    "        print(\"using dataset data\",dataset.split(\"_\")[0],\"training on model\",model,\"seed\",environ['seed'])\n",
    "        txt_log.write(\"starting \"+dataset.split(\"_\")[0]+\" training on model \"+model+\" seed \"+environ['seed']+\"\\n\")\n",
    "\n",
    "\n",
    "        tf.keras.backend.clear_session()\n",
    "\n",
    "\n",
    "        #read the file\n",
    "        path = str(pathlib.Path().resolve())\n",
    "        path_data = f\"{path}\"\"/data/\"f\"{file_name}\"\"/\"f\"{file_name}\"\".hdf5\"\n",
    "        file = h5py.File(path_data,\"r+\")\n",
    "\n",
    "\n",
    "        print(\"reading data, printing stats: \")\n",
    "        x_test,y_test,d_class_weights,num_of_classes,appliances = get_data(file)\n",
    "        print(\"loading model\")\n",
    "        \n",
    "        model_seed = 42\n",
    "        model_used = create_tl_model(model,environ['learn_type'],model_seed,path,num_of_classes)\n",
    "                \n",
    "        train_gen = HDF5ImageGenerator(\n",
    "            src= path_data,\n",
    "            X_key=\"data/train/gaf\",\n",
    "            y_key=\"labels/train/gaf\",\n",
    "            classes_key=\"appliances/classes\",\n",
    "            labels_encoding=\"hot\",\n",
    "            shuffle=True,\n",
    "            batch_size=int(environ['batch_size']),\n",
    "            num_classes=num_of_classes,\n",
    "            mode=\"train\",\n",
    "            )\n",
    "\n",
    "        model_used.fit(\n",
    "            train_gen,\n",
    "            verbose=2,\n",
    "            epochs=int(environ['epochs']),\n",
    "            class_weight=d_class_weights,\n",
    "            callbacks = [save_op_callback]\n",
    "            #workers = 6,\n",
    "        )\n",
    "        \n",
    "        txt_log.write(\"finished \"+dataset.split(\"_\")[0]+\" training on model \"+model+\" seed \"+environ['seed']+\"\\n\")\n",
    "\n",
    "\n",
    "        evaluate_model(model_used,x_test,y_test,appliances)\n",
    "        \n",
    "\n",
    "\n",
    "\n",
    "        #del model_used\n",
    "\n"
   ]
  },
  {
   "cell_type": "code",
   "execution_count": 16,
   "metadata": {
    "execution": {
     "iopub.execute_input": "2022-02-04T11:17:36.745816Z",
     "iopub.status.busy": "2022-02-04T11:17:36.745411Z",
     "iopub.status.idle": "2022-02-04T11:17:36.748287Z",
     "shell.execute_reply": "2022-02-04T11:17:36.748718Z"
    }
   },
   "outputs": [],
   "source": [
    "txt_log.close()"
   ]
  },
  {
   "cell_type": "code",
   "execution_count": null,
   "metadata": {},
   "outputs": [],
   "source": []
  }
 ],
 "metadata": {
  "colab": {
   "authorship_tag": "ABX9TyMej4PvP65qsLng7TnQKWA4",
   "name": "LSTM-gen",
   "provenance": []
  },
  "kernelspec": {
   "display_name": "Python 3 (ipykernel)",
   "language": "python",
   "name": "python3"
  },
  "language_info": {
   "codemirror_mode": {
    "name": "ipython",
    "version": 3
   },
   "file_extension": ".py",
   "mimetype": "text/x-python",
   "name": "python",
   "nbconvert_exporter": "python",
   "pygments_lexer": "ipython3",
   "version": "3.8.10"
  }
 },
 "nbformat": 4,
 "nbformat_minor": 4
}
