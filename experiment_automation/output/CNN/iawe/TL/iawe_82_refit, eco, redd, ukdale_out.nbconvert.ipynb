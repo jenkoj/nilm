{
 "cells": [
  {
   "cell_type": "code",
   "execution_count": 1,
   "metadata": {
    "execution": {
     "iopub.execute_input": "2022-02-04T11:30:31.798477Z",
     "iopub.status.busy": "2022-02-04T11:30:31.797034Z",
     "iopub.status.idle": "2022-02-04T11:30:33.479667Z",
     "shell.execute_reply": "2022-02-04T11:30:33.478378Z"
    },
    "id": "WqUfHWgtJxtu",
    "scrolled": true,
    "tags": []
   },
   "outputs": [
    {
     "name": "stderr",
     "output_type": "stream",
     "text": [
      "2022-02-04 11:30:32.614833: I tensorflow/stream_executor/platform/default/dso_loader.cc:54] Successfully opened dynamic library libcudart.so.11.0\n"
     ]
    },
    {
     "name": "stdout",
     "output_type": "stream",
     "text": [
      "2.5.0\n",
      "Num GPUs Available:  1\n"
     ]
    },
    {
     "name": "stderr",
     "output_type": "stream",
     "text": [
      "2022-02-04 11:30:33.412003: I tensorflow/stream_executor/platform/default/dso_loader.cc:54] Successfully opened dynamic library libcuda.so.1\n",
      "2022-02-04 11:30:33.460189: I tensorflow/core/common_runtime/gpu/gpu_device.cc:1734] Found device 0 with properties: \n",
      "pciBusID: 0000:21:00.0 name: NVIDIA GeForce RTX 2080 Ti computeCapability: 7.5\n",
      "coreClock: 1.545GHz coreCount: 68 deviceMemorySize: 10.76GiB deviceMemoryBandwidth: 573.69GiB/s\n",
      "2022-02-04 11:30:33.460236: I tensorflow/stream_executor/platform/default/dso_loader.cc:54] Successfully opened dynamic library libcudart.so.11.0\n",
      "2022-02-04 11:30:33.464727: I tensorflow/stream_executor/platform/default/dso_loader.cc:54] Successfully opened dynamic library libcublas.so.11\n",
      "2022-02-04 11:30:33.464790: I tensorflow/stream_executor/platform/default/dso_loader.cc:54] Successfully opened dynamic library libcublasLt.so.11\n",
      "2022-02-04 11:30:33.466792: I tensorflow/stream_executor/platform/default/dso_loader.cc:54] Successfully opened dynamic library libcufft.so.10\n",
      "2022-02-04 11:30:33.467136: I tensorflow/stream_executor/platform/default/dso_loader.cc:54] Successfully opened dynamic library libcurand.so.10\n",
      "2022-02-04 11:30:33.467810: I tensorflow/stream_executor/platform/default/dso_loader.cc:54] Successfully opened dynamic library libcutensor.so.1\n",
      "2022-02-04 11:30:33.468320: I tensorflow/stream_executor/platform/default/dso_loader.cc:54] Successfully opened dynamic library libcusolver.so.11\n",
      "2022-02-04 11:30:33.469086: I tensorflow/stream_executor/platform/default/dso_loader.cc:54] Successfully opened dynamic library libcusparse.so.11\n",
      "2022-02-04 11:30:33.469208: I tensorflow/stream_executor/platform/default/dso_loader.cc:54] Successfully opened dynamic library libcudnn.so.8\n",
      "2022-02-04 11:30:33.469562: I tensorflow/core/common_runtime/gpu/gpu_device.cc:1872] Adding visible gpu devices: 0\n"
     ]
    }
   ],
   "source": [
    "import h5py\n",
    "import numpy as np\n",
    "\n",
    "from sklearn.model_selection import train_test_split\n",
    "from sklearn.metrics import classification_report, confusion_matrix\n",
    "import matplotlib.pyplot as plt\n",
    "import itertools \n",
    "import pyts\n",
    "from pyts.approximation import PiecewiseAggregateApproximation\n",
    "\n",
    "from sklearn.utils import class_weight\n",
    "\n",
    "import pathlib\n",
    "import tensorflow as tf\n",
    "from tensorflow import keras\n",
    "from tensorflow.keras import layers, optimizers\n",
    "from tensorflow.keras.layers import Convolution2D,Conv2D, Dense,Dropout, Flatten, Activation, MaxPooling2D, Input, Conv1D, GlobalAveragePooling1D, TimeDistributed, GRU, LSTM\n",
    "\n",
    "print(tf.__version__)\n",
    "print(\"Num GPUs Available: \", len(tf.config.list_physical_devices('GPU')))\n",
    "gpus = tf.config.experimental.list_physical_devices('GPU')\n",
    "\n",
    "try:\n",
    "    for gpu in gpus:\n",
    "        tf.config.experimental.set_memory_growth(gpu, True)\n",
    "except RuntimeError as e:\n",
    "    print(e)"
   ]
  },
  {
   "cell_type": "code",
   "execution_count": 2,
   "metadata": {
    "execution": {
     "iopub.execute_input": "2022-02-04T11:30:33.486151Z",
     "iopub.status.busy": "2022-02-04T11:30:33.484874Z",
     "iopub.status.idle": "2022-02-04T11:30:33.490322Z",
     "shell.execute_reply": "2022-02-04T11:30:33.489237Z"
    }
   },
   "outputs": [
    {
     "name": "stdout",
     "output_type": "stream",
     "text": [
      "iawe_gen_GASF_60m_300S0X_R82_80-20\n"
     ]
    }
   ],
   "source": [
    "from os import environ\n",
    "dataset = environ['dataset']\n",
    "print(dataset)"
   ]
  },
  {
   "cell_type": "code",
   "execution_count": 3,
   "metadata": {
    "execution": {
     "iopub.execute_input": "2022-02-04T11:30:33.496731Z",
     "iopub.status.busy": "2022-02-04T11:30:33.495520Z",
     "iopub.status.idle": "2022-02-04T11:30:33.500293Z",
     "shell.execute_reply": "2022-02-04T11:30:33.501228Z"
    }
   },
   "outputs": [],
   "source": [
    "#my defs \n",
    "from modules.models import  LSTM_3D_V56, CNN_V56,LSTM_BI_V56\n",
    "from modules.tools import my_print, plot_confusion_matrix_norm, get_data,get_data_split, evaluate_model, create_tl_model\n",
    "from modules.HDF5ImageGenerator import HDF5ImageGenerator"
   ]
  },
  {
   "cell_type": "code",
   "execution_count": 4,
   "metadata": {
    "execution": {
     "iopub.execute_input": "2022-02-04T11:30:33.511135Z",
     "iopub.status.busy": "2022-02-04T11:30:33.509925Z",
     "iopub.status.idle": "2022-02-04T11:30:33.512950Z",
     "shell.execute_reply": "2022-02-04T11:30:33.513911Z"
    },
    "id": "RT1vwq7-KOtB"
   },
   "outputs": [],
   "source": [
    "#LOAD DATASET\n",
    "#file_name = \"ukdale_gen_GASF_13m_100S5X12A54480\"\n",
    "#file_name = \"refit_gen_GASF_13m_100S5X_15A166006\"\n",
    "file_name = \"refit_gen_GASF_13m_100S5X_15A166006_R42-80-20\"\n",
    "#file_name = \"refit_gen_GASF_13m_100S5X_15A166006_R42_80-20\"\n",
    "file_name = \"refit_gen_GASF_60m_300S0X_15A157030N_R12_80-20-V1\"\n",
    "file_name = environ[\"dataset\"]\n",
    "#read the file\n",
    "path = str(pathlib.Path().resolve())\n",
    "\n",
    "path_data = f\"{path}\"\"/data/\"f\"{file_name}\"\"/\"f\"{file_name}\"\".hdf5\"\n",
    "\n",
    "file = h5py.File(path_data,\"r+\")"
   ]
  },
  {
   "cell_type": "code",
   "execution_count": 5,
   "metadata": {
    "execution": {
     "iopub.execute_input": "2022-02-04T11:30:33.521886Z",
     "iopub.status.busy": "2022-02-04T11:30:33.520711Z",
     "iopub.status.idle": "2022-02-04T11:30:33.642284Z",
     "shell.execute_reply": "2022-02-04T11:30:33.643254Z"
    },
    "scrolled": true
   },
   "outputs": [
    {
     "name": "stdout",
     "output_type": "stream",
     "text": [
      "['air conditioner', 'computer', 'fridge', 'television']\n",
      "{0: 4.76595744680851, 1: 0.8265682656826568, 2: 0.43118383060635224, 3: 3.8290598290598292}\n",
      " \n",
      "Tests \n",
      "air conditioner test: 23 train: 94\n",
      "computer test: 136 train: 542\n",
      "fridge test: 260 train: 1039\n",
      "television test: 30 train: 117\n"
     ]
    }
   ],
   "source": [
    "x_test,y_test,d_class_weights,num_of_classes,appliances = get_data(file)"
   ]
  },
  {
   "cell_type": "code",
   "execution_count": 6,
   "metadata": {
    "execution": {
     "iopub.execute_input": "2022-02-04T11:30:33.650177Z",
     "iopub.status.busy": "2022-02-04T11:30:33.648996Z",
     "iopub.status.idle": "2022-02-04T11:30:33.652040Z",
     "shell.execute_reply": "2022-02-04T11:30:33.653021Z"
    }
   },
   "outputs": [],
   "source": [
    "def select_model(learn_type):\n",
    "    \n",
    "    if learn_type == \"CNN\":\n",
    "        model = CNN_V56(file[\"data/train/gaf\"][0:10],num_of_classes,lr= 0.00002)\n",
    "\n",
    "    if learn_type == \"LSTM\":\n",
    "        model = LSTM_3D_V56(file[\"data/train/gaf\"][0:10],num_of_classes,lr= 0.00002)\n",
    "\n",
    "    if learn_type == \"BI_LSTM\":\n",
    "        model = LSTM_BI_V56(file[\"data/train/gaf\"][0:10],num_of_classes,lr= 0.00002)\n",
    "\n",
    "    return model\n",
    "              "
   ]
  },
  {
   "cell_type": "code",
   "execution_count": 7,
   "metadata": {
    "execution": {
     "iopub.execute_input": "2022-02-04T11:30:33.663526Z",
     "iopub.status.busy": "2022-02-04T11:30:33.662332Z",
     "iopub.status.idle": "2022-02-04T11:30:33.665383Z",
     "shell.execute_reply": "2022-02-04T11:30:33.666340Z"
    }
   },
   "outputs": [],
   "source": [
    "path_save = path+'/experiment_automation/output/'+environ['learn_type']+'/'+dataset.split(\"_\")[0]+\"/\"+environ['train_type']+\"/\"+dataset.split(\"_\")[0]+\"_\"+environ['seed']+\"_\"+environ['tl_datasets']\n",
    "path_save_nb = path_save+\"_out.ipynb\"\n",
    "path_save_log = path_save+\"_out_log2.txt\""
   ]
  },
  {
   "cell_type": "code",
   "execution_count": 8,
   "metadata": {
    "execution": {
     "iopub.execute_input": "2022-02-04T11:30:33.675607Z",
     "iopub.status.busy": "2022-02-04T11:30:33.674406Z",
     "iopub.status.idle": "2022-02-04T11:30:33.778684Z",
     "shell.execute_reply": "2022-02-04T11:30:33.779630Z"
    }
   },
   "outputs": [],
   "source": [
    "from keras.callbacks import LambdaCallback\n",
    "#path_log= path+'/experiment_automation/output/'+environ['learn_type']+'/'+dataset.split(\"_\")[0]+\"/\"+environ['train_type']+\"/\"+dataset.split(\"_\")[0]+\"_\"+environ['seed']+\"_\"+environ['tl_datasets']+\"_log.txt\"\n",
    "txt_log = open(path_save+\"_log.txt\", mode='wt', buffering=1)\n",
    "txt_log.write(\"file created! \\n\")\n",
    "\n",
    "save_op_callback = LambdaCallback(\n",
    "  on_epoch_end = lambda epoch, logs: txt_log.write(\n",
    "    str({'epoch': epoch, 'loss': logs['loss'],'acc': logs['accuracy']}) + '\\n'),\n",
    "                                                           \n",
    ")"
   ]
  },
  {
   "cell_type": "code",
   "execution_count": 9,
   "metadata": {
    "execution": {
     "iopub.execute_input": "2022-02-04T11:30:33.785220Z",
     "iopub.status.busy": "2022-02-04T11:30:33.784041Z",
     "iopub.status.idle": "2022-02-04T11:30:33.790012Z",
     "shell.execute_reply": "2022-02-04T11:30:33.788975Z"
    }
   },
   "outputs": [
    {
     "name": "stdout",
     "output_type": "stream",
     "text": [
      "/workspace/notebooks/experiment_automation/output/CNN/iawe/TL/iawe_82_refit, eco, redd, ukdale_out.ipynb\n"
     ]
    }
   ],
   "source": [
    "print(path_save_nb)"
   ]
  },
  {
   "cell_type": "code",
   "execution_count": 10,
   "metadata": {
    "execution": {
     "iopub.execute_input": "2022-02-04T11:30:33.795698Z",
     "iopub.status.busy": "2022-02-04T11:30:33.794444Z",
     "iopub.status.idle": "2022-02-04T11:30:33.799166Z",
     "shell.execute_reply": "2022-02-04T11:30:33.798120Z"
    }
   },
   "outputs": [],
   "source": [
    "# rm $path_save_log"
   ]
  },
  {
   "cell_type": "code",
   "execution_count": 11,
   "metadata": {
    "execution": {
     "iopub.execute_input": "2022-02-04T11:30:33.805966Z",
     "iopub.status.busy": "2022-02-04T11:30:33.804704Z",
     "iopub.status.idle": "2022-02-04T11:30:33.807315Z",
     "shell.execute_reply": "2022-02-04T11:30:33.808357Z"
    }
   },
   "outputs": [],
   "source": [
    "# %%capture cap \n",
    "\n",
    "# with open(path_save_log,\"wt\") as f:\n",
    "#     f.write(cap.stdout)\n",
    "    \n",
    "# print(\"out capture..\")"
   ]
  },
  {
   "cell_type": "code",
   "execution_count": 12,
   "metadata": {
    "execution": {
     "iopub.execute_input": "2022-02-04T11:30:33.829101Z",
     "iopub.status.busy": "2022-02-04T11:30:33.827725Z",
     "iopub.status.idle": "2022-02-04T11:30:33.830670Z",
     "shell.execute_reply": "2022-02-04T11:30:33.831408Z"
    },
    "id": "vqA9NwOqKrb5",
    "jupyter": {
     "outputs_hidden": true
    },
    "tags": []
   },
   "outputs": [],
   "source": [
    "# %%capture cap --no-stderr\n",
    "\n",
    "\n",
    "if environ['train_type'] == \"BB\":\n",
    "\n",
    "    #define generator\n",
    "    train_gen = HDF5ImageGenerator(\n",
    "        src= path_data,\n",
    "        X_key=\"data/train/gaf\",\n",
    "        y_key=\"labels/train/gaf\",\n",
    "        classes_key=\"appliances/classes\",\n",
    "        labels_encoding=\"hot\",\n",
    "        shuffle=True,\n",
    "        batch_size=int(environ['batch_size']),\n",
    "        num_classes=num_of_classes,\n",
    "        mode=\"train\",\n",
    "        )\n",
    "    \n",
    "    model = select_model(environ['learn_type'])\n",
    "    \n",
    "    txt_log.write(\"fitting BB model: \\n\")\n",
    "    \n",
    "    model.fit(\n",
    "        train_gen,\n",
    "        verbose=2,\n",
    "        epochs=int(environ['epochs']),\n",
    "        class_weight=d_class_weights,\n",
    "        callbacks = [save_op_callback],\n",
    "    )\n",
    "    \n",
    "    txt_log.write(\"finished fitting BB model: \\n\")\n",
    "\n",
    "    evaluate_model(model,x_test,y_test,appliances)\n",
    "    \n",
    "    if environ['save_model']==\"True\":\n",
    "\n",
    "        path_model_save = path+\"/models/\"+environ['learn_type']+\"/\"+dataset.split(\"_\")[0]+\"_\"+dataset.split(\"_R\")[1][0:2]\n",
    "        model.save(path_model_save)\n",
    "        txt_log.write(\"model saved to:\"+\"/models/\"+environ['learn_type']+\"/\"+dataset.split(\"_\")[0]+\"_\"+dataset.split(\"_R\")[1][0:2]+\" \\n\")\n",
    "        \n",
    "        \n",
    "# with open(path_save+\"_out_log.txt\" as f:\n",
    "#     f.write(cap.stdout)\n"
   ]
  },
  {
   "cell_type": "code",
   "execution_count": 13,
   "metadata": {
    "collapsed": true,
    "execution": {
     "iopub.execute_input": "2022-02-04T11:30:33.838272Z",
     "iopub.status.busy": "2022-02-04T11:30:33.837040Z",
     "iopub.status.idle": "2022-02-04T11:30:33.839794Z",
     "shell.execute_reply": "2022-02-04T11:30:33.840780Z"
    }
   },
   "outputs": [],
   "source": [
    "#model = keras.models.load_model(path_model1)\n",
    "# model_used = model"
   ]
  },
  {
   "cell_type": "code",
   "execution_count": 14,
   "metadata": {
    "collapsed": true,
    "execution": {
     "iopub.execute_input": "2022-02-04T11:30:33.847753Z",
     "iopub.status.busy": "2022-02-04T11:30:33.846556Z",
     "iopub.status.idle": "2022-02-04T11:30:33.849475Z",
     "shell.execute_reply": "2022-02-04T11:30:33.850448Z"
    },
    "jupyter": {
     "outputs_hidden": true
    },
    "tags": []
   },
   "outputs": [],
   "source": [
    "# evaluate_model(model,x_test,y_test,appliances)"
   ]
  },
  {
   "cell_type": "code",
   "execution_count": 15,
   "metadata": {
    "collapsed": true,
    "execution": {
     "iopub.execute_input": "2022-02-04T11:30:33.876303Z",
     "iopub.status.busy": "2022-02-04T11:30:33.874864Z",
     "iopub.status.idle": "2022-02-04T11:43:07.522068Z",
     "shell.execute_reply": "2022-02-04T11:43:07.523125Z"
    }
   },
   "outputs": [
    {
     "name": "stdout",
     "output_type": "stream",
     "text": [
      "using dataset data iawe training on model refit seed 82\n",
      "reading data, printing stats: \n",
      "['air conditioner', 'computer', 'fridge', 'television']\n",
      "{0: 4.76595744680851, 1: 0.8265682656826568, 2: 0.43118383060635224, 3: 3.8290598290598292}\n",
      " \n",
      "Tests \n",
      "air conditioner test: 23 train: 94\n",
      "computer test: 136 train: 542\n",
      "fridge test: 260 train: 1039\n",
      "television test: 30 train: 117\n",
      "loading model\n",
      "compling TL model..\n"
     ]
    },
    {
     "name": "stderr",
     "output_type": "stream",
     "text": [
      "2022-02-04 11:30:33.986195: I tensorflow/core/common_runtime/gpu/gpu_device.cc:1734] Found device 0 with properties: \n",
      "pciBusID: 0000:21:00.0 name: NVIDIA GeForce RTX 2080 Ti computeCapability: 7.5\n",
      "coreClock: 1.545GHz coreCount: 68 deviceMemorySize: 10.76GiB deviceMemoryBandwidth: 573.69GiB/s\n",
      "2022-02-04 11:30:33.986525: I tensorflow/core/common_runtime/gpu/gpu_device.cc:1872] Adding visible gpu devices: 0\n",
      "2022-02-04 11:30:33.986576: I tensorflow/stream_executor/platform/default/dso_loader.cc:54] Successfully opened dynamic library libcudart.so.11.0\n",
      "2022-02-04 11:30:34.350236: I tensorflow/core/common_runtime/gpu/gpu_device.cc:1258] Device interconnect StreamExecutor with strength 1 edge matrix:\n",
      "2022-02-04 11:30:34.350272: I tensorflow/core/common_runtime/gpu/gpu_device.cc:1264]      0 \n",
      "2022-02-04 11:30:34.350279: I tensorflow/core/common_runtime/gpu/gpu_device.cc:1277] 0:   N \n",
      "2022-02-04 11:30:34.350824: I tensorflow/core/common_runtime/gpu/gpu_device.cc:1418] Created TensorFlow device (/job:localhost/replica:0/task:0/device:GPU:0 with 9649 MB memory) -> physical GPU (device: 0, name: NVIDIA GeForce RTX 2080 Ti, pci bus id: 0000:21:00.0, compute capability: 7.5)\n",
      "2022-02-04 11:30:34.351186: I tensorflow/core/common_runtime/process_util.cc:146] Creating new thread pool with default inter op setting: 20. Tune using inter_op_parallelism_threads for best performance.\n"
     ]
    },
    {
     "name": "stdout",
     "output_type": "stream",
     "text": [
      "Normal way\n",
      "[0 1 2 3 4 5 6 7 8 9]\n",
      "WARNING:tensorflow:From /usr/local/lib/python3.8/dist-packages/tensorflow/python/ops/array_ops.py:5043: calling gather (from tensorflow.python.ops.array_ops) with validate_indices is deprecated and will be removed in a future version.\n",
      "Instructions for updating:\n",
      "The `validate_indices` argument has no effect. Indices are always validated on CPU and never validated on GPU.\n"
     ]
    },
    {
     "name": "stderr",
     "output_type": "stream",
     "text": [
      "/usr/local/lib/python3.8/dist-packages/tensorflow/python/keras/optimizer_v2/optimizer_v2.py:374: UserWarning: The `lr` argument is deprecated, use `learning_rate` instead.\n",
      "  warnings.warn(\n",
      "2022-02-04 11:30:34.961886: I tensorflow/compiler/mlir/mlir_graph_optimization_pass.cc:176] None of the MLIR Optimization Passes are enabled (registered 2)\n",
      "2022-02-04 11:30:34.980604: I tensorflow/core/platform/profile_utils/cpu_utils.cc:114] CPU Frequency: 3299990000 Hz\n"
     ]
    },
    {
     "name": "stdout",
     "output_type": "stream",
     "text": [
      "Epoch 1/50\n"
     ]
    },
    {
     "name": "stderr",
     "output_type": "stream",
     "text": [
      "2022-02-04 11:30:35.466476: I tensorflow/stream_executor/platform/default/dso_loader.cc:54] Successfully opened dynamic library libcudnn.so.8\n",
      "2022-02-04 11:30:35.924078: I tensorflow/stream_executor/cuda/cuda_dnn.cc:380] Loaded cuDNN version 8202\n",
      "2022-02-04 11:30:36.380862: I tensorflow/stream_executor/platform/default/dso_loader.cc:54] Successfully opened dynamic library libcublas.so.11\n",
      "2022-02-04 11:30:36.789160: I tensorflow/stream_executor/platform/default/dso_loader.cc:54] Successfully opened dynamic library libcublasLt.so.11\n"
     ]
    },
    {
     "name": "stdout",
     "output_type": "stream",
     "text": [
      "224/224 - 5s - loss: 0.8586 - accuracy: 0.8008\n",
      "Epoch 2/50\n",
      "224/224 - 4s - loss: 0.3740 - accuracy: 0.8599\n",
      "Epoch 3/50\n",
      "224/224 - 4s - loss: 0.2264 - accuracy: 0.9001\n",
      "Epoch 4/50\n",
      "224/224 - 4s - loss: 0.1787 - accuracy: 0.9035\n",
      "Epoch 5/50\n",
      "224/224 - 4s - loss: 0.1364 - accuracy: 0.9297\n",
      "Epoch 6/50\n",
      "224/224 - 4s - loss: 0.1406 - accuracy: 0.9241\n",
      "Epoch 7/50\n",
      "224/224 - 4s - loss: 0.1056 - accuracy: 0.9442\n",
      "Epoch 8/50\n",
      "224/224 - 4s - loss: 0.0963 - accuracy: 0.9570\n",
      "Epoch 9/50\n",
      "224/224 - 4s - loss: 0.0715 - accuracy: 0.9637\n",
      "Epoch 10/50\n",
      "224/224 - 4s - loss: 0.0774 - accuracy: 0.9643\n",
      "Epoch 11/50\n",
      "224/224 - 4s - loss: 0.2027 - accuracy: 0.9308\n",
      "Epoch 12/50\n",
      "224/224 - 4s - loss: 0.2217 - accuracy: 0.9336\n",
      "Epoch 13/50\n",
      "224/224 - 4s - loss: 0.0584 - accuracy: 0.9760\n",
      "Epoch 14/50\n",
      "224/224 - 4s - loss: 0.0349 - accuracy: 0.9782\n",
      "Epoch 15/50\n",
      "224/224 - 4s - loss: 0.0608 - accuracy: 0.9643\n",
      "Epoch 16/50\n",
      "224/224 - 4s - loss: 0.0355 - accuracy: 0.9777\n",
      "Epoch 17/50\n",
      "224/224 - 4s - loss: 0.0274 - accuracy: 0.9838\n",
      "Epoch 18/50\n",
      "224/224 - 4s - loss: 0.0413 - accuracy: 0.9782\n",
      "Epoch 19/50\n",
      "224/224 - 4s - loss: 0.0251 - accuracy: 0.9855\n",
      "Epoch 20/50\n",
      "224/224 - 4s - loss: 0.0144 - accuracy: 0.9900\n",
      "Epoch 21/50\n",
      "224/224 - 4s - loss: 0.0186 - accuracy: 0.9900\n",
      "Epoch 22/50\n",
      "224/224 - 4s - loss: 0.0167 - accuracy: 0.9855\n",
      "Epoch 23/50\n",
      "224/224 - 4s - loss: 0.0176 - accuracy: 0.9877\n",
      "Epoch 24/50\n",
      "224/224 - 3s - loss: 0.0089 - accuracy: 0.9939\n",
      "Epoch 25/50\n",
      "224/224 - 4s - loss: 0.0179 - accuracy: 0.9894\n",
      "Epoch 26/50\n",
      "224/224 - 4s - loss: 0.2058 - accuracy: 0.9431\n",
      "Epoch 27/50\n",
      "224/224 - 4s - loss: 0.1027 - accuracy: 0.9626\n",
      "Epoch 28/50\n",
      "224/224 - 4s - loss: 0.0623 - accuracy: 0.9849\n",
      "Epoch 29/50\n",
      "224/224 - 4s - loss: 0.0320 - accuracy: 0.9810\n",
      "Epoch 30/50\n",
      "224/224 - 4s - loss: 0.0102 - accuracy: 0.9950\n",
      "Epoch 31/50\n",
      "224/224 - 4s - loss: 0.0074 - accuracy: 0.9967\n",
      "Epoch 32/50\n",
      "224/224 - 4s - loss: 0.0077 - accuracy: 0.9950\n",
      "Epoch 33/50\n",
      "224/224 - 4s - loss: 0.0105 - accuracy: 0.9939\n",
      "Epoch 34/50\n",
      "224/224 - 4s - loss: 0.0250 - accuracy: 0.9883\n",
      "Epoch 35/50\n",
      "224/224 - 3s - loss: 0.0122 - accuracy: 0.9916\n",
      "Epoch 36/50\n",
      "224/224 - 4s - loss: 0.0930 - accuracy: 0.9665\n",
      "Epoch 37/50\n",
      "224/224 - 4s - loss: 0.0364 - accuracy: 0.9833\n",
      "Epoch 38/50\n",
      "224/224 - 4s - loss: 0.0214 - accuracy: 0.9894\n",
      "Epoch 39/50\n",
      "224/224 - 4s - loss: 0.0067 - accuracy: 0.9944\n",
      "Epoch 40/50\n",
      "224/224 - 4s - loss: 0.0180 - accuracy: 0.9900\n",
      "Epoch 41/50\n",
      "224/224 - 4s - loss: 0.0642 - accuracy: 0.9721\n",
      "Epoch 42/50\n",
      "224/224 - 4s - loss: 0.0236 - accuracy: 0.9877\n",
      "Epoch 43/50\n",
      "224/224 - 4s - loss: 0.0048 - accuracy: 0.9978\n",
      "Epoch 44/50\n",
      "224/224 - 4s - loss: 0.0054 - accuracy: 0.9972\n",
      "Epoch 45/50\n",
      "224/224 - 4s - loss: 0.0022 - accuracy: 0.9989\n",
      "Epoch 46/50\n",
      "224/224 - 4s - loss: 0.0046 - accuracy: 0.9972\n",
      "Epoch 47/50\n",
      "224/224 - 4s - loss: 0.0044 - accuracy: 0.9967\n",
      "Epoch 48/50\n",
      "224/224 - 4s - loss: 0.0113 - accuracy: 0.9950\n",
      "Epoch 49/50\n",
      "224/224 - 4s - loss: 0.1641 - accuracy: 0.9503\n",
      "Epoch 50/50\n",
      "224/224 - 4s - loss: 0.0548 - accuracy: 0.9788\n",
      "15/15 - 1s\n",
      "Normalized confusion matrix\n",
      "                 precision    recall  f1-score   support\n",
      "\n",
      "air conditioner       1.00      0.96      0.98        23\n",
      "       computer       0.96      0.94      0.95       136\n",
      "         fridge       0.95      0.96      0.95       260\n",
      "     television       0.81      0.83      0.82        30\n",
      "\n",
      "       accuracy                           0.94       449\n",
      "      macro avg       0.93      0.92      0.93       449\n",
      "   weighted avg       0.94      0.94      0.94       449\n",
      "\n",
      "using dataset data iawe training on model eco seed 82\n",
      "reading data, printing stats: \n",
      "['air conditioner', 'computer', 'fridge', 'television']\n",
      "{0: 4.76595744680851, 1: 0.8265682656826568, 2: 0.43118383060635224, 3: 3.8290598290598292}\n",
      " \n",
      "Tests \n",
      "air conditioner test: 23 train: 94\n",
      "computer test: 136 train: 542\n",
      "fridge test: 260 train: 1039\n",
      "television test: 30 train: 117\n",
      "loading model\n",
      "compling TL model..\n"
     ]
    },
    {
     "name": "stderr",
     "output_type": "stream",
     "text": [
      "/usr/local/lib/python3.8/dist-packages/tensorflow/python/keras/optimizer_v2/optimizer_v2.py:374: UserWarning: The `lr` argument is deprecated, use `learning_rate` instead.\n",
      "  warnings.warn(\n"
     ]
    },
    {
     "name": "stdout",
     "output_type": "stream",
     "text": [
      "Normal way\n",
      "[0 1 2 3 4 5 6 7 8 9]\n",
      "Epoch 1/50\n",
      "224/224 - 4s - loss: 1.9550 - accuracy: 0.6585\n",
      "Epoch 2/50\n",
      "224/224 - 4s - loss: 0.5694 - accuracy: 0.7561\n",
      "Epoch 3/50\n",
      "224/224 - 4s - loss: 0.6003 - accuracy: 0.7059\n",
      "Epoch 4/50\n",
      "224/224 - 4s - loss: 0.4292 - accuracy: 0.7952\n",
      "Epoch 5/50\n",
      "224/224 - 4s - loss: 0.3244 - accuracy: 0.8320\n",
      "Epoch 6/50\n",
      "224/224 - 4s - loss: 0.4486 - accuracy: 0.8549\n",
      "Epoch 7/50\n",
      "224/224 - 4s - loss: 0.2558 - accuracy: 0.8823\n",
      "Epoch 8/50\n",
      "224/224 - 4s - loss: 0.4318 - accuracy: 0.8594\n",
      "Epoch 9/50\n",
      "224/224 - 4s - loss: 0.5329 - accuracy: 0.8588\n",
      "Epoch 10/50\n",
      "224/224 - 4s - loss: 0.3969 - accuracy: 0.8683\n",
      "Epoch 11/50\n",
      "224/224 - 4s - loss: 0.2014 - accuracy: 0.8990\n",
      "Epoch 12/50\n",
      "224/224 - 4s - loss: 0.2118 - accuracy: 0.9191\n",
      "Epoch 13/50\n",
      "224/224 - 4s - loss: 0.2861 - accuracy: 0.8560\n",
      "Epoch 14/50\n",
      "224/224 - 4s - loss: 0.3234 - accuracy: 0.8856\n",
      "Epoch 15/50\n",
      "224/224 - 4s - loss: 0.2191 - accuracy: 0.8934\n",
      "Epoch 16/50\n",
      "224/224 - 4s - loss: 0.1903 - accuracy: 0.9397\n",
      "Epoch 17/50\n",
      "224/224 - 4s - loss: 0.1620 - accuracy: 0.9275\n",
      "Epoch 18/50\n",
      "224/224 - 4s - loss: 0.1943 - accuracy: 0.9336\n",
      "Epoch 19/50\n",
      "224/224 - 4s - loss: 0.0893 - accuracy: 0.9481\n",
      "Epoch 20/50\n",
      "224/224 - 4s - loss: 0.0785 - accuracy: 0.9615\n",
      "Epoch 21/50\n",
      "224/224 - 4s - loss: 0.0975 - accuracy: 0.9570\n",
      "Epoch 22/50\n",
      "224/224 - 4s - loss: 0.4867 - accuracy: 0.9152\n",
      "Epoch 23/50\n",
      "224/224 - 4s - loss: 0.3135 - accuracy: 0.9152\n",
      "Epoch 24/50\n",
      "224/224 - 3s - loss: 0.1680 - accuracy: 0.9314\n",
      "Epoch 25/50\n",
      "224/224 - 3s - loss: 0.1308 - accuracy: 0.9358\n",
      "Epoch 26/50\n",
      "224/224 - 4s - loss: 0.1437 - accuracy: 0.9308\n",
      "Epoch 27/50\n",
      "224/224 - 4s - loss: 0.0698 - accuracy: 0.9693\n",
      "Epoch 28/50\n",
      "224/224 - 4s - loss: 0.5495 - accuracy: 0.9230\n",
      "Epoch 29/50\n",
      "224/224 - 4s - loss: 0.4516 - accuracy: 0.8984\n",
      "Epoch 30/50\n",
      "224/224 - 4s - loss: 0.5260 - accuracy: 0.9275\n",
      "Epoch 31/50\n",
      "224/224 - 4s - loss: 0.2840 - accuracy: 0.9414\n",
      "Epoch 32/50\n",
      "224/224 - 4s - loss: 0.1504 - accuracy: 0.9637\n",
      "Epoch 33/50\n",
      "224/224 - 4s - loss: 0.1036 - accuracy: 0.9676\n",
      "Epoch 34/50\n",
      "224/224 - 4s - loss: 0.0579 - accuracy: 0.9766\n",
      "Epoch 35/50\n",
      "224/224 - 4s - loss: 0.0754 - accuracy: 0.9749\n",
      "Epoch 36/50\n",
      "224/224 - 4s - loss: 0.0930 - accuracy: 0.9593\n",
      "Epoch 37/50\n",
      "224/224 - 4s - loss: 0.0501 - accuracy: 0.9766\n",
      "Epoch 38/50\n",
      "224/224 - 4s - loss: 0.0498 - accuracy: 0.9788\n",
      "Epoch 39/50\n",
      "224/224 - 3s - loss: 0.0509 - accuracy: 0.9732\n",
      "Epoch 40/50\n",
      "224/224 - 4s - loss: 0.0345 - accuracy: 0.9838\n",
      "Epoch 41/50\n",
      "224/224 - 3s - loss: 0.0238 - accuracy: 0.9883\n",
      "Epoch 42/50\n",
      "224/224 - 4s - loss: 0.0528 - accuracy: 0.9782\n",
      "Epoch 43/50\n",
      "224/224 - 4s - loss: 0.0626 - accuracy: 0.9749\n",
      "Epoch 44/50\n",
      "224/224 - 4s - loss: 0.2682 - accuracy: 0.9760\n",
      "Epoch 45/50\n",
      "224/224 - 4s - loss: 0.6163 - accuracy: 0.9196\n",
      "Epoch 46/50\n",
      "224/224 - 4s - loss: 0.1459 - accuracy: 0.9732\n",
      "Epoch 47/50\n",
      "224/224 - 4s - loss: 0.3731 - accuracy: 0.9531\n",
      "Epoch 48/50\n",
      "224/224 - 4s - loss: 0.2549 - accuracy: 0.9191\n",
      "Epoch 49/50\n",
      "224/224 - 4s - loss: 0.0722 - accuracy: 0.9626\n",
      "Epoch 50/50\n",
      "224/224 - 4s - loss: 0.0350 - accuracy: 0.9833\n",
      "15/15 - 1s\n",
      "Normalized confusion matrix\n",
      "                 precision    recall  f1-score   support\n",
      "\n",
      "air conditioner       0.91      0.87      0.89        23\n",
      "       computer       0.88      0.93      0.90       136\n",
      "         fridge       0.95      0.91      0.93       260\n",
      "     television       0.71      0.80      0.75        30\n",
      "\n",
      "       accuracy                           0.90       449\n",
      "      macro avg       0.86      0.88      0.87       449\n",
      "   weighted avg       0.91      0.90      0.91       449\n",
      "\n",
      "using dataset data iawe training on model redd seed 82\n",
      "reading data, printing stats: \n",
      "['air conditioner', 'computer', 'fridge', 'television']\n",
      "{0: 4.76595744680851, 1: 0.8265682656826568, 2: 0.43118383060635224, 3: 3.8290598290598292}\n",
      " \n",
      "Tests \n",
      "air conditioner test: 23 train: 94\n",
      "computer test: 136 train: 542\n",
      "fridge test: 260 train: 1039\n",
      "television test: 30 train: 117\n",
      "loading model\n",
      "compling TL model..\n"
     ]
    },
    {
     "name": "stderr",
     "output_type": "stream",
     "text": [
      "/usr/local/lib/python3.8/dist-packages/tensorflow/python/keras/optimizer_v2/optimizer_v2.py:374: UserWarning: The `lr` argument is deprecated, use `learning_rate` instead.\n",
      "  warnings.warn(\n"
     ]
    },
    {
     "name": "stdout",
     "output_type": "stream",
     "text": [
      "Normal way\n",
      "[0 1 2 3 4 5 6 7 8 9]\n",
      "Epoch 1/50\n",
      "224/224 - 4s - loss: 6.1470 - accuracy: 0.2941\n",
      "Epoch 2/50\n",
      "224/224 - 4s - loss: 1.7349 - accuracy: 0.5530\n",
      "Epoch 3/50\n",
      "224/224 - 4s - loss: 0.8272 - accuracy: 0.4833\n",
      "Epoch 4/50\n",
      "224/224 - 4s - loss: 0.6946 - accuracy: 0.5128\n",
      "Epoch 5/50\n",
      "224/224 - 3s - loss: 0.6386 - accuracy: 0.6908\n",
      "Epoch 6/50\n",
      "224/224 - 4s - loss: 0.6035 - accuracy: 0.6110\n",
      "Epoch 7/50\n",
      "224/224 - 4s - loss: 0.5743 - accuracy: 0.5413\n",
      "Epoch 8/50\n",
      "224/224 - 3s - loss: 0.5832 - accuracy: 0.5329\n",
      "Epoch 9/50\n",
      "224/224 - 4s - loss: 0.5818 - accuracy: 0.5558\n",
      "Epoch 10/50\n",
      "224/224 - 4s - loss: 0.5345 - accuracy: 0.5547\n",
      "Epoch 11/50\n",
      "224/224 - 4s - loss: 0.5192 - accuracy: 0.5525\n",
      "Epoch 12/50\n",
      "224/224 - 4s - loss: 0.5059 - accuracy: 0.5564\n",
      "Epoch 13/50\n",
      "224/224 - 4s - loss: 0.4720 - accuracy: 0.5564\n",
      "Epoch 14/50\n",
      "224/224 - 4s - loss: 0.4693 - accuracy: 0.5647\n",
      "Epoch 15/50\n",
      "224/224 - 3s - loss: 0.4940 - accuracy: 0.6362\n",
      "Epoch 16/50\n",
      "224/224 - 4s - loss: 0.4533 - accuracy: 0.6920\n",
      "Epoch 17/50\n",
      "224/224 - 4s - loss: 0.3850 - accuracy: 0.7511\n",
      "Epoch 18/50\n",
      "224/224 - 4s - loss: 0.3835 - accuracy: 0.8198\n",
      "Epoch 19/50\n",
      "224/224 - 4s - loss: 0.4807 - accuracy: 0.7812\n",
      "Epoch 20/50\n",
      "224/224 - 3s - loss: 0.7377 - accuracy: 0.7695\n",
      "Epoch 21/50\n",
      "224/224 - 4s - loss: 1.6671 - accuracy: 0.5463\n",
      "Epoch 22/50\n",
      "224/224 - 4s - loss: 0.8276 - accuracy: 0.5352\n",
      "Epoch 23/50\n",
      "224/224 - 4s - loss: 0.5671 - accuracy: 0.6518\n",
      "Epoch 24/50\n",
      "224/224 - 4s - loss: 0.4221 - accuracy: 0.8354\n",
      "Epoch 25/50\n",
      "224/224 - 3s - loss: 0.5877 - accuracy: 0.7952\n",
      "Epoch 26/50\n",
      "224/224 - 3s - loss: 0.4908 - accuracy: 0.8343\n",
      "Epoch 27/50\n",
      "224/224 - 4s - loss: 0.3888 - accuracy: 0.8555\n",
      "Epoch 28/50\n",
      "224/224 - 4s - loss: 0.3240 - accuracy: 0.8845\n",
      "Epoch 29/50\n",
      "224/224 - 4s - loss: 0.2963 - accuracy: 0.8951\n",
      "Epoch 30/50\n",
      "224/224 - 4s - loss: 0.2684 - accuracy: 0.9012\n",
      "Epoch 31/50\n",
      "224/224 - 4s - loss: 0.2652 - accuracy: 0.9107\n",
      "Epoch 32/50\n",
      "224/224 - 4s - loss: 0.2946 - accuracy: 0.8862\n",
      "Epoch 33/50\n",
      "224/224 - 4s - loss: 0.2311 - accuracy: 0.9113\n",
      "Epoch 34/50\n",
      "224/224 - 4s - loss: 0.2896 - accuracy: 0.8823\n",
      "Epoch 35/50\n",
      "224/224 - 4s - loss: 0.2185 - accuracy: 0.9163\n",
      "Epoch 36/50\n",
      "224/224 - 4s - loss: 0.2211 - accuracy: 0.9297\n",
      "Epoch 37/50\n",
      "224/224 - 4s - loss: 0.1913 - accuracy: 0.9342\n",
      "Epoch 38/50\n",
      "224/224 - 4s - loss: 0.5577 - accuracy: 0.8616\n",
      "Epoch 39/50\n",
      "224/224 - 4s - loss: 0.3706 - accuracy: 0.9018\n",
      "Epoch 40/50\n",
      "224/224 - 3s - loss: 0.2238 - accuracy: 0.9369\n",
      "Epoch 41/50\n",
      "224/224 - 4s - loss: 0.1880 - accuracy: 0.9515\n",
      "Epoch 42/50\n",
      "224/224 - 4s - loss: 0.5486 - accuracy: 0.8772\n",
      "Epoch 43/50\n",
      "224/224 - 4s - loss: 0.2820 - accuracy: 0.9241\n",
      "Epoch 44/50\n",
      "224/224 - 4s - loss: 0.1838 - accuracy: 0.9542\n",
      "Epoch 45/50\n",
      "224/224 - 4s - loss: 0.1651 - accuracy: 0.9626\n",
      "Epoch 46/50\n",
      "224/224 - 4s - loss: 0.1524 - accuracy: 0.9587\n",
      "Epoch 47/50\n",
      "224/224 - 4s - loss: 0.1280 - accuracy: 0.9682\n",
      "Epoch 48/50\n",
      "224/224 - 4s - loss: 0.1601 - accuracy: 0.9581\n",
      "Epoch 49/50\n",
      "224/224 - 4s - loss: 0.2991 - accuracy: 0.9074\n",
      "Epoch 50/50\n",
      "224/224 - 4s - loss: 0.1817 - accuracy: 0.9487\n",
      "15/15 - 1s\n",
      "Normalized confusion matrix\n",
      "                 precision    recall  f1-score   support\n",
      "\n",
      "air conditioner       1.00      0.96      0.98        23\n",
      "       computer       0.91      0.85      0.88       136\n",
      "         fridge       0.93      0.81      0.86       260\n",
      "     television       0.38      0.90      0.53        30\n",
      "\n",
      "       accuracy                           0.84       449\n",
      "      macro avg       0.80      0.88      0.81       449\n",
      "   weighted avg       0.89      0.84      0.85       449\n",
      "\n",
      "using dataset data iawe training on model ukdale seed 82\n",
      "reading data, printing stats: \n",
      "['air conditioner', 'computer', 'fridge', 'television']\n",
      "{0: 4.76595744680851, 1: 0.8265682656826568, 2: 0.43118383060635224, 3: 3.8290598290598292}\n",
      " \n",
      "Tests \n",
      "air conditioner test: 23 train: 94\n",
      "computer test: 136 train: 542\n",
      "fridge test: 260 train: 1039\n",
      "television test: 30 train: 117\n",
      "loading model\n",
      "compling TL model..\n"
     ]
    },
    {
     "name": "stderr",
     "output_type": "stream",
     "text": [
      "/usr/local/lib/python3.8/dist-packages/tensorflow/python/keras/optimizer_v2/optimizer_v2.py:374: UserWarning: The `lr` argument is deprecated, use `learning_rate` instead.\n",
      "  warnings.warn(\n"
     ]
    },
    {
     "name": "stdout",
     "output_type": "stream",
     "text": [
      "Normal way\n",
      "[0 1 2 3 4 5 6 7 8 9]\n",
      "Epoch 1/50\n",
      "224/224 - 4s - loss: 1.2456 - accuracy: 0.7533\n",
      "Epoch 2/50\n",
      "224/224 - 3s - loss: 0.3136 - accuracy: 0.8800\n",
      "Epoch 3/50\n",
      "224/224 - 3s - loss: 0.7640 - accuracy: 0.8186\n",
      "Epoch 4/50\n",
      "224/224 - 3s - loss: 0.2566 - accuracy: 0.8901\n",
      "Epoch 5/50\n",
      "224/224 - 4s - loss: 0.1435 - accuracy: 0.9353\n",
      "Epoch 6/50\n",
      "224/224 - 4s - loss: 0.0776 - accuracy: 0.9665\n",
      "Epoch 7/50\n",
      "224/224 - 4s - loss: 0.0618 - accuracy: 0.9743\n",
      "Epoch 8/50\n",
      "224/224 - 4s - loss: 0.0874 - accuracy: 0.9581\n",
      "Epoch 9/50\n",
      "224/224 - 4s - loss: 0.1706 - accuracy: 0.9336\n",
      "Epoch 10/50\n",
      "224/224 - 3s - loss: 0.1071 - accuracy: 0.9542\n",
      "Epoch 11/50\n",
      "224/224 - 4s - loss: 0.0902 - accuracy: 0.9587\n",
      "Epoch 12/50\n",
      "224/224 - 4s - loss: 0.0630 - accuracy: 0.9721\n",
      "Epoch 13/50\n",
      "224/224 - 3s - loss: 0.0378 - accuracy: 0.9799\n",
      "Epoch 14/50\n",
      "224/224 - 4s - loss: 0.3301 - accuracy: 0.9453\n",
      "Epoch 15/50\n",
      "224/224 - 4s - loss: 0.1541 - accuracy: 0.9436\n",
      "Epoch 16/50\n",
      "224/224 - 4s - loss: 0.0692 - accuracy: 0.9766\n",
      "Epoch 17/50\n",
      "224/224 - 4s - loss: 0.0406 - accuracy: 0.9805\n",
      "Epoch 18/50\n",
      "224/224 - 4s - loss: 0.0281 - accuracy: 0.9877\n",
      "Epoch 19/50\n",
      "224/224 - 4s - loss: 0.0117 - accuracy: 0.9939\n",
      "Epoch 20/50\n",
      "224/224 - 4s - loss: 0.0115 - accuracy: 0.9922\n",
      "Epoch 21/50\n",
      "224/224 - 4s - loss: 0.0070 - accuracy: 0.9950\n",
      "Epoch 22/50\n",
      "224/224 - 4s - loss: 0.0090 - accuracy: 0.9933\n",
      "Epoch 23/50\n",
      "224/224 - 4s - loss: 0.0096 - accuracy: 0.9933\n",
      "Epoch 24/50\n",
      "224/224 - 4s - loss: 0.0107 - accuracy: 0.9927\n",
      "Epoch 25/50\n",
      "224/224 - 4s - loss: 0.0183 - accuracy: 0.9905\n",
      "Epoch 26/50\n",
      "224/224 - 4s - loss: 0.1132 - accuracy: 0.9576\n",
      "Epoch 27/50\n",
      "224/224 - 4s - loss: 0.1015 - accuracy: 0.9609\n",
      "Epoch 28/50\n",
      "224/224 - 4s - loss: 0.0733 - accuracy: 0.9743\n",
      "Epoch 29/50\n",
      "224/224 - 4s - loss: 0.2588 - accuracy: 0.9420\n",
      "Epoch 30/50\n",
      "224/224 - 4s - loss: 0.1920 - accuracy: 0.9542\n",
      "Epoch 31/50\n",
      "224/224 - 4s - loss: 0.0699 - accuracy: 0.9766\n",
      "Epoch 32/50\n",
      "224/224 - 4s - loss: 0.0114 - accuracy: 0.9961\n",
      "Epoch 33/50\n",
      "224/224 - 4s - loss: 0.0065 - accuracy: 0.9978\n",
      "Epoch 34/50\n",
      "224/224 - 3s - loss: 0.0038 - accuracy: 0.9978\n",
      "Epoch 35/50\n",
      "224/224 - 4s - loss: 0.0072 - accuracy: 0.9961\n",
      "Epoch 36/50\n",
      "224/224 - 4s - loss: 0.0053 - accuracy: 0.9972\n",
      "Epoch 37/50\n",
      "224/224 - 4s - loss: 0.0033 - accuracy: 0.9983\n",
      "Epoch 38/50\n",
      "224/224 - 4s - loss: 0.0036 - accuracy: 0.9978\n",
      "Epoch 39/50\n",
      "224/224 - 4s - loss: 0.0051 - accuracy: 0.9961\n",
      "Epoch 40/50\n",
      "224/224 - 3s - loss: 0.0034 - accuracy: 0.9978\n",
      "Epoch 41/50\n",
      "224/224 - 4s - loss: 0.0027 - accuracy: 0.9978\n",
      "Epoch 42/50\n",
      "224/224 - 4s - loss: 0.0152 - accuracy: 0.9911\n",
      "Epoch 43/50\n",
      "224/224 - 4s - loss: 0.0530 - accuracy: 0.9844\n",
      "Epoch 44/50\n",
      "224/224 - 4s - loss: 0.2895 - accuracy: 0.9464\n",
      "Epoch 45/50\n",
      "224/224 - 4s - loss: 0.0587 - accuracy: 0.9788\n",
      "Epoch 46/50\n",
      "224/224 - 4s - loss: 0.0257 - accuracy: 0.9810\n",
      "Epoch 47/50\n",
      "224/224 - 3s - loss: 0.0129 - accuracy: 0.9939\n",
      "Epoch 48/50\n",
      "224/224 - 4s - loss: 0.0053 - accuracy: 0.9961\n",
      "Epoch 49/50\n",
      "224/224 - 4s - loss: 0.0041 - accuracy: 0.9983\n",
      "Epoch 50/50\n",
      "224/224 - 4s - loss: 0.0046 - accuracy: 0.9967\n",
      "15/15 - 1s\n",
      "Normalized confusion matrix\n",
      "                 precision    recall  f1-score   support\n",
      "\n",
      "air conditioner       1.00      0.96      0.98        23\n",
      "       computer       0.94      0.93      0.93       136\n",
      "         fridge       0.95      0.95      0.95       260\n",
      "     television       0.76      0.87      0.81        30\n",
      "\n",
      "       accuracy                           0.94       449\n",
      "      macro avg       0.91      0.92      0.92       449\n",
      "   weighted avg       0.94      0.94      0.94       449\n",
      "\n"
     ]
    },
    {
     "data": {
      "image/png": "[encoded data removed]",
      "text/plain": [
       "<Figure size 720x720 with 2 Axes>"
      ]
     },
     "metadata": {
      "needs_background": "light"
     },
     "output_type": "display_data"
    },
    {
     "data": {
      "image/png": "[encoded data removed]",
      "text/plain": [
       "<Figure size 720x720 with 2 Axes>"
      ]
     },
     "metadata": {
      "needs_background": "light"
     },
     "output_type": "display_data"
    },
    {
     "data": {
      "image/png": "[encoded data removed]",
      "text/plain": [
       "<Figure size 720x720 with 2 Axes>"
      ]
     },
     "metadata": {
      "needs_background": "light"
     },
     "output_type": "display_data"
    },
    {
     "data": {
      "image/png": "[encoded data removed]",
      "text/plain": [
       "<Figure size 720x720 with 2 Axes>"
      ]
     },
     "metadata": {
      "needs_background": "light"
     },
     "output_type": "display_data"
    }
   ],
   "source": [
    "# datasets =[\n",
    "#     \"ukdale_gen_GASF_13m_100S5X12A54480_R82_80-20\"\n",
    "# ]\n",
    "\n",
    "if environ['train_type'] == \"TL\": \n",
    "    models = environ['tl_datasets'].replace(\" \",\"\").split(\",\")\n",
    "    #model = [\"base\"]\n",
    "    \n",
    "    for model in models:\n",
    "    \n",
    "        file_name = dataset\n",
    "        \n",
    "        datasetTL = model\n",
    "        \n",
    "        seed = dataset.split(\"_R\")[1][0:2]\n",
    "        \n",
    "        print(\"using dataset data\",dataset.split(\"_\")[0],\"training on model\",model,\"seed\",environ['seed'])\n",
    "        txt_log.write(\"starting \"+dataset.split(\"_\")[0]+\" training on model \"+model+\" seed \"+environ['seed']+\"\\n\")\n",
    "\n",
    "\n",
    "        tf.keras.backend.clear_session()\n",
    "\n",
    "\n",
    "        #read the file\n",
    "        path = str(pathlib.Path().resolve())\n",
    "        path_data = f\"{path}\"\"/data/\"f\"{file_name}\"\"/\"f\"{file_name}\"\".hdf5\"\n",
    "        file = h5py.File(path_data,\"r+\")\n",
    "\n",
    "\n",
    "        print(\"reading data, printing stats: \")\n",
    "        x_test,y_test,d_class_weights,num_of_classes,appliances = get_data(file)\n",
    "        print(\"loading model\")\n",
    "        \n",
    "        model_seed = 42\n",
    "        model_used = create_tl_model(model,environ['learn_type'],model_seed,path,num_of_classes)\n",
    "                \n",
    "        train_gen = HDF5ImageGenerator(\n",
    "            src= path_data,\n",
    "            X_key=\"data/train/gaf\",\n",
    "            y_key=\"labels/train/gaf\",\n",
    "            classes_key=\"appliances/classes\",\n",
    "            labels_encoding=\"hot\",\n",
    "            shuffle=True,\n",
    "            batch_size=int(environ['batch_size']),\n",
    "            num_classes=num_of_classes,\n",
    "            mode=\"train\",\n",
    "            )\n",
    "\n",
    "        model_used.fit(\n",
    "            train_gen,\n",
    "            verbose=2,\n",
    "            epochs=int(environ['epochs']),\n",
    "            class_weight=d_class_weights,\n",
    "            callbacks = [save_op_callback]\n",
    "            #workers = 6,\n",
    "        )\n",
    "        \n",
    "        txt_log.write(\"finished \"+dataset.split(\"_\")[0]+\" training on model \"+model+\" seed \"+environ['seed']+\"\\n\")\n",
    "\n",
    "\n",
    "        evaluate_model(model_used,x_test,y_test,appliances)\n",
    "        \n",
    "\n",
    "\n",
    "\n",
    "        #del model_used\n",
    "\n"
   ]
  },
  {
   "cell_type": "code",
   "execution_count": 16,
   "metadata": {
    "execution": {
     "iopub.execute_input": "2022-02-04T11:43:07.529470Z",
     "iopub.status.busy": "2022-02-04T11:43:07.527892Z",
     "iopub.status.idle": "2022-02-04T11:43:07.531699Z",
     "shell.execute_reply": "2022-02-04T11:43:07.530673Z"
    }
   },
   "outputs": [],
   "source": [
    "txt_log.close()"
   ]
  },
  {
   "cell_type": "code",
   "execution_count": null,
   "metadata": {},
   "outputs": [],
   "source": []
  }
 ],
 "metadata": {
  "colab": {
   "authorship_tag": "ABX9TyMej4PvP65qsLng7TnQKWA4",
   "name": "LSTM-gen",
   "provenance": []
  },
  "kernelspec": {
   "display_name": "Python 3 (ipykernel)",
   "language": "python",
   "name": "python3"
  },
  "language_info": {
   "codemirror_mode": {
    "name": "ipython",
    "version": 3
   },
   "file_extension": ".py",
   "mimetype": "text/x-python",
   "name": "python",
   "nbconvert_exporter": "python",
   "pygments_lexer": "ipython3",
   "version": "3.8.10"
  }
 },
 "nbformat": 4,
 "nbformat_minor": 4
}
