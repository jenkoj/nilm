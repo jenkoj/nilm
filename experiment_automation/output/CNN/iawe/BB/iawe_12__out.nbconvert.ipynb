{
 "cells": [
  {
   "cell_type": "code",
   "execution_count": 1,
   "metadata": {
    "execution": {
     "iopub.execute_input": "2022-02-02T19:15:56.555493Z",
     "iopub.status.busy": "2022-02-02T19:15:56.553951Z",
     "iopub.status.idle": "2022-02-02T19:15:58.832159Z",
     "shell.execute_reply": "2022-02-02T19:15:58.830861Z"
    },
    "id": "WqUfHWgtJxtu",
    "scrolled": true,
    "tags": []
   },
   "outputs": [
    {
     "name": "stderr",
     "output_type": "stream",
     "text": [
      "2022-02-02 19:15:57.617217: I tensorflow/stream_executor/platform/default/dso_loader.cc:54] Successfully opened dynamic library libcudart.so.11.0\n"
     ]
    },
    {
     "name": "stdout",
     "output_type": "stream",
     "text": [
      "2.5.0\n",
      "Num GPUs Available:  1\n"
     ]
    },
    {
     "name": "stderr",
     "output_type": "stream",
     "text": [
      "2022-02-02 19:15:58.765035: I tensorflow/stream_executor/platform/default/dso_loader.cc:54] Successfully opened dynamic library libcuda.so.1\n",
      "2022-02-02 19:15:58.810278: I tensorflow/core/common_runtime/gpu/gpu_device.cc:1734] Found device 0 with properties: \n",
      "pciBusID: 0000:21:00.0 name: NVIDIA GeForce RTX 2080 Ti computeCapability: 7.5\n",
      "coreClock: 1.545GHz coreCount: 68 deviceMemorySize: 10.76GiB deviceMemoryBandwidth: 573.69GiB/s\n",
      "2022-02-02 19:15:58.810327: I tensorflow/stream_executor/platform/default/dso_loader.cc:54] Successfully opened dynamic library libcudart.so.11.0\n",
      "2022-02-02 19:15:58.815982: I tensorflow/stream_executor/platform/default/dso_loader.cc:54] Successfully opened dynamic library libcublas.so.11\n",
      "2022-02-02 19:15:58.816041: I tensorflow/stream_executor/platform/default/dso_loader.cc:54] Successfully opened dynamic library libcublasLt.so.11\n",
      "2022-02-02 19:15:58.818124: I tensorflow/stream_executor/platform/default/dso_loader.cc:54] Successfully opened dynamic library libcufft.so.10\n",
      "2022-02-02 19:15:58.819322: I tensorflow/stream_executor/platform/default/dso_loader.cc:54] Successfully opened dynamic library libcurand.so.10\n",
      "2022-02-02 19:15:58.820931: I tensorflow/stream_executor/platform/default/dso_loader.cc:54] Successfully opened dynamic library libcutensor.so.1\n",
      "2022-02-02 19:15:58.821620: I tensorflow/stream_executor/platform/default/dso_loader.cc:54] Successfully opened dynamic library libcusolver.so.11\n",
      "2022-02-02 19:15:58.822878: I tensorflow/stream_executor/platform/default/dso_loader.cc:54] Successfully opened dynamic library libcusparse.so.11\n",
      "2022-02-02 19:15:58.823208: I tensorflow/stream_executor/platform/default/dso_loader.cc:54] Successfully opened dynamic library libcudnn.so.8\n",
      "2022-02-02 19:15:58.823583: I tensorflow/core/common_runtime/gpu/gpu_device.cc:1872] Adding visible gpu devices: 0\n"
     ]
    }
   ],
   "source": [
    "import h5py\n",
    "import numpy as np\n",
    "\n",
    "from sklearn.model_selection import train_test_split\n",
    "from sklearn.metrics import classification_report, confusion_matrix\n",
    "import matplotlib.pyplot as plt\n",
    "import itertools \n",
    "import pyts\n",
    "from pyts.approximation import PiecewiseAggregateApproximation\n",
    "\n",
    "from sklearn.utils import class_weight\n",
    "\n",
    "import pathlib\n",
    "import tensorflow as tf\n",
    "from tensorflow import keras\n",
    "from tensorflow.keras import layers, optimizers\n",
    "from tensorflow.keras.layers import Convolution2D,Conv2D, Dense,Dropout, Flatten, Activation, MaxPooling2D, Input, Conv1D, GlobalAveragePooling1D, TimeDistributed, GRU, LSTM\n",
    "\n",
    "print(tf.__version__)\n",
    "print(\"Num GPUs Available: \", len(tf.config.list_physical_devices('GPU')))\n",
    "gpus = tf.config.experimental.list_physical_devices('GPU')\n",
    "\n",
    "try:\n",
    "    for gpu in gpus:\n",
    "        tf.config.experimental.set_memory_growth(gpu, True)\n",
    "except RuntimeError as e:\n",
    "    print(e)"
   ]
  },
  {
   "cell_type": "code",
   "execution_count": 2,
   "metadata": {
    "execution": {
     "iopub.execute_input": "2022-02-02T19:15:58.838413Z",
     "iopub.status.busy": "2022-02-02T19:15:58.837134Z",
     "iopub.status.idle": "2022-02-02T19:15:58.842268Z",
     "shell.execute_reply": "2022-02-02T19:15:58.841285Z"
    }
   },
   "outputs": [
    {
     "name": "stdout",
     "output_type": "stream",
     "text": [
      "iawe_gen_GASF_60m_300S0X_R12_80-20\n"
     ]
    }
   ],
   "source": [
    "from os import environ\n",
    "dataset = environ['dataset']\n",
    "print(dataset)"
   ]
  },
  {
   "cell_type": "code",
   "execution_count": 3,
   "metadata": {
    "execution": {
     "iopub.execute_input": "2022-02-02T19:15:58.849072Z",
     "iopub.status.busy": "2022-02-02T19:15:58.847668Z",
     "iopub.status.idle": "2022-02-02T19:15:58.852743Z",
     "shell.execute_reply": "2022-02-02T19:15:58.851657Z"
    }
   },
   "outputs": [],
   "source": [
    "#my defs \n",
    "from modules.models import  LSTM_3D_V56, CNN_V56,LSTM_BI_V56\n",
    "from modules.tools import my_print, plot_confusion_matrix_norm, get_data,get_data_split, evaluate_model, create_tl_model\n",
    "from modules.HDF5ImageGenerator import HDF5ImageGenerator"
   ]
  },
  {
   "cell_type": "code",
   "execution_count": 4,
   "metadata": {
    "execution": {
     "iopub.execute_input": "2022-02-02T19:15:58.859638Z",
     "iopub.status.busy": "2022-02-02T19:15:58.858311Z",
     "iopub.status.idle": "2022-02-02T19:15:58.861056Z",
     "shell.execute_reply": "2022-02-02T19:15:58.862110Z"
    },
    "id": "RT1vwq7-KOtB"
   },
   "outputs": [],
   "source": [
    "#LOAD DATASET\n",
    "#file_name = \"ukdale_gen_GASF_13m_100S5X12A54480\"\n",
    "#file_name = \"refit_gen_GASF_13m_100S5X_15A166006\"\n",
    "file_name = \"refit_gen_GASF_13m_100S5X_15A166006_R42-80-20\"\n",
    "#file_name = \"refit_gen_GASF_13m_100S5X_15A166006_R42_80-20\"\n",
    "file_name = \"refit_gen_GASF_60m_300S0X_15A157030N_R12_80-20-V1\"\n",
    "file_name = environ[\"dataset\"]\n",
    "#read the file\n",
    "path = str(pathlib.Path().resolve())\n",
    "\n",
    "path_data = f\"{path}\"\"/data/\"f\"{file_name}\"\"/\"f\"{file_name}\"\".hdf5\"\n",
    "\n",
    "file = h5py.File(path_data,\"r+\")"
   ]
  },
  {
   "cell_type": "code",
   "execution_count": 5,
   "metadata": {
    "execution": {
     "iopub.execute_input": "2022-02-02T19:15:58.869432Z",
     "iopub.status.busy": "2022-02-02T19:15:58.867955Z",
     "iopub.status.idle": "2022-02-02T19:15:58.992594Z",
     "shell.execute_reply": "2022-02-02T19:15:58.993622Z"
    },
    "scrolled": true
   },
   "outputs": [
    {
     "name": "stdout",
     "output_type": "stream",
     "text": [
      "['air conditioner', 'computer', 'fridge', 'television']\n",
      "{0: 4.76595744680851, 1: 0.8265682656826568, 2: 0.43118383060635224, 3: 3.8290598290598292}\n",
      " \n",
      "Tests \n",
      "air conditioner test: 23 train: 94\n",
      "computer test: 136 train: 542\n",
      "fridge test: 260 train: 1039\n",
      "television test: 30 train: 117\n"
     ]
    }
   ],
   "source": [
    "x_test,y_test,d_class_weights,num_of_classes,appliances = get_data(file)"
   ]
  },
  {
   "cell_type": "code",
   "execution_count": 6,
   "metadata": {
    "execution": {
     "iopub.execute_input": "2022-02-02T19:15:59.005252Z",
     "iopub.status.busy": "2022-02-02T19:15:59.003498Z",
     "iopub.status.idle": "2022-02-02T19:15:59.007722Z",
     "shell.execute_reply": "2022-02-02T19:15:59.008495Z"
    }
   },
   "outputs": [],
   "source": [
    "def select_model(learn_type):\n",
    "    \n",
    "    if learn_type == \"CNN\":\n",
    "        model = CNN_V56(file[\"data/train/gaf\"][0:10],num_of_classes,lr= 0.00002)\n",
    "\n",
    "    if learn_type == \"LSTM\":\n",
    "        model = LSTM_3D_V56(file[\"data/train/gaf\"][0:10],num_of_classes,lr= 0.00002)\n",
    "\n",
    "    if learn_type == \"BI_LSTM\":\n",
    "        model = LSTM_BI_V56(file[\"data/train/gaf\"][0:10],num_of_classes,lr= 0.00002)\n",
    "\n",
    "    return model\n",
    "              "
   ]
  },
  {
   "cell_type": "code",
   "execution_count": 7,
   "metadata": {
    "execution": {
     "iopub.execute_input": "2022-02-02T19:15:59.018676Z",
     "iopub.status.busy": "2022-02-02T19:15:59.017382Z",
     "iopub.status.idle": "2022-02-02T19:15:59.024842Z",
     "shell.execute_reply": "2022-02-02T19:15:59.023638Z"
    }
   },
   "outputs": [],
   "source": [
    "path_save = path+'/experiment_automation/output/'+environ['learn_type']+'/'+dataset.split(\"_\")[0]+\"/\"+environ['train_type']+\"/\"+dataset.split(\"_\")[0]+\"_\"+environ['seed']+\"_\"+environ['tl_datasets']\n",
    "path_save_nb = path_save+\"_out.ipynb\"\n",
    "path_save_log = path_save+\"_out_log2.txt\""
   ]
  },
  {
   "cell_type": "code",
   "execution_count": 8,
   "metadata": {
    "execution": {
     "iopub.execute_input": "2022-02-02T19:15:59.035985Z",
     "iopub.status.busy": "2022-02-02T19:15:59.034693Z",
     "iopub.status.idle": "2022-02-02T19:15:59.127526Z",
     "shell.execute_reply": "2022-02-02T19:15:59.128584Z"
    }
   },
   "outputs": [],
   "source": [
    "from keras.callbacks import LambdaCallback\n",
    "#path_log= path+'/experiment_automation/output/'+environ['learn_type']+'/'+dataset.split(\"_\")[0]+\"/\"+environ['train_type']+\"/\"+dataset.split(\"_\")[0]+\"_\"+environ['seed']+\"_\"+environ['tl_datasets']+\"_log.txt\"\n",
    "txt_log = open(path_save+\"_log.txt\", mode='wt', buffering=1)\n",
    "txt_log.write(\"file created! \\n\")\n",
    "\n",
    "save_op_callback = LambdaCallback(\n",
    "  on_epoch_end = lambda epoch, logs: txt_log.write(\n",
    "    str({'epoch': epoch, 'loss': logs['loss'],'acc': logs['accuracy']}) + '\\n'),\n",
    "                                                           \n",
    ")"
   ]
  },
  {
   "cell_type": "code",
   "execution_count": 9,
   "metadata": {
    "execution": {
     "iopub.execute_input": "2022-02-02T19:15:59.134176Z",
     "iopub.status.busy": "2022-02-02T19:15:59.133005Z",
     "iopub.status.idle": "2022-02-02T19:15:59.137976Z",
     "shell.execute_reply": "2022-02-02T19:15:59.136931Z"
    }
   },
   "outputs": [
    {
     "name": "stdout",
     "output_type": "stream",
     "text": [
      "/workspace/notebooks/experiment_automation/output/CNN/iawe/BB/iawe_12__out.ipynb\n"
     ]
    }
   ],
   "source": [
    "print(path_save_nb)"
   ]
  },
  {
   "cell_type": "code",
   "execution_count": 10,
   "metadata": {
    "execution": {
     "iopub.execute_input": "2022-02-02T19:15:59.142976Z",
     "iopub.status.busy": "2022-02-02T19:15:59.141962Z",
     "iopub.status.idle": "2022-02-02T19:15:59.144063Z",
     "shell.execute_reply": "2022-02-02T19:15:59.144917Z"
    }
   },
   "outputs": [],
   "source": [
    "# rm $path_save_log"
   ]
  },
  {
   "cell_type": "code",
   "execution_count": 11,
   "metadata": {
    "execution": {
     "iopub.execute_input": "2022-02-02T19:15:59.150140Z",
     "iopub.status.busy": "2022-02-02T19:15:59.149118Z",
     "iopub.status.idle": "2022-02-02T19:15:59.151227Z",
     "shell.execute_reply": "2022-02-02T19:15:59.152012Z"
    }
   },
   "outputs": [],
   "source": [
    "# %%capture cap \n",
    "\n",
    "# with open(path_save_log,\"wt\") as f:\n",
    "#     f.write(cap.stdout)\n",
    "    \n",
    "# print(\"out capture..\")"
   ]
  },
  {
   "cell_type": "code",
   "execution_count": 12,
   "metadata": {
    "execution": {
     "iopub.execute_input": "2022-02-02T19:15:59.166994Z",
     "iopub.status.busy": "2022-02-02T19:15:59.165733Z",
     "iopub.status.idle": "2022-02-02T19:22:38.280125Z",
     "shell.execute_reply": "2022-02-02T19:22:38.281124Z"
    },
    "id": "vqA9NwOqKrb5",
    "jupyter": {
     "outputs_hidden": true
    },
    "tags": []
   },
   "outputs": [
    {
     "name": "stdout",
     "output_type": "stream",
     "text": [
      "Normal way\n",
      "[0 1 2 3 4 5 6 7 8 9]\n",
      "WARNING:tensorflow:From /usr/local/lib/python3.8/dist-packages/tensorflow/python/ops/array_ops.py:5043: calling gather (from tensorflow.python.ops.array_ops) with validate_indices is deprecated and will be removed in a future version.\n",
      "Instructions for updating:\n",
      "The `validate_indices` argument has no effect. Indices are always validated on CPU and never validated on GPU.\n"
     ]
    },
    {
     "name": "stderr",
     "output_type": "stream",
     "text": [
      "2022-02-02 19:15:59.179944: I tensorflow/core/common_runtime/gpu/gpu_device.cc:1734] Found device 0 with properties: \n",
      "pciBusID: 0000:21:00.0 name: NVIDIA GeForce RTX 2080 Ti computeCapability: 7.5\n",
      "coreClock: 1.545GHz coreCount: 68 deviceMemorySize: 10.76GiB deviceMemoryBandwidth: 573.69GiB/s\n",
      "2022-02-02 19:15:59.180345: I tensorflow/core/common_runtime/gpu/gpu_device.cc:1872] Adding visible gpu devices: 0\n",
      "2022-02-02 19:15:59.180403: I tensorflow/stream_executor/platform/default/dso_loader.cc:54] Successfully opened dynamic library libcudart.so.11.0\n",
      "2022-02-02 19:15:59.547489: I tensorflow/core/common_runtime/gpu/gpu_device.cc:1258] Device interconnect StreamExecutor with strength 1 edge matrix:\n",
      "2022-02-02 19:15:59.547524: I tensorflow/core/common_runtime/gpu/gpu_device.cc:1264]      0 \n",
      "2022-02-02 19:15:59.547533: I tensorflow/core/common_runtime/gpu/gpu_device.cc:1277] 0:   N \n",
      "2022-02-02 19:15:59.548083: I tensorflow/core/common_runtime/gpu/gpu_device.cc:1418] Created TensorFlow device (/job:localhost/replica:0/task:0/device:GPU:0 with 9649 MB memory) -> physical GPU (device: 0, name: NVIDIA GeForce RTX 2080 Ti, pci bus id: 0000:21:00.0, compute capability: 7.5)\n",
      "2022-02-02 19:15:59.548436: I tensorflow/core/common_runtime/process_util.cc:146] Creating new thread pool with default inter op setting: 20. Tune using inter_op_parallelism_threads for best performance.\n",
      "2022-02-02 19:15:59.654423: I tensorflow/compiler/mlir/mlir_graph_optimization_pass.cc:176] None of the MLIR Optimization Passes are enabled (registered 2)\n",
      "2022-02-02 19:15:59.655060: I tensorflow/core/platform/profile_utils/cpu_utils.cc:114] CPU Frequency: 3299990000 Hz\n"
     ]
    },
    {
     "name": "stdout",
     "output_type": "stream",
     "text": [
      "Epoch 1/50\n"
     ]
    },
    {
     "name": "stderr",
     "output_type": "stream",
     "text": [
      "2022-02-02 19:16:00.250385: I tensorflow/stream_executor/platform/default/dso_loader.cc:54] Successfully opened dynamic library libcudnn.so.8\n",
      "2022-02-02 19:16:00.707623: I tensorflow/stream_executor/cuda/cuda_dnn.cc:380] Loaded cuDNN version 8202\n",
      "2022-02-02 19:16:01.195040: I tensorflow/stream_executor/platform/default/dso_loader.cc:54] Successfully opened dynamic library libcublas.so.11\n",
      "2022-02-02 19:16:01.617192: I tensorflow/stream_executor/platform/default/dso_loader.cc:54] Successfully opened dynamic library libcublasLt.so.11\n"
     ]
    },
    {
     "name": "stdout",
     "output_type": "stream",
     "text": [
      "224/224 - 10s - loss: 2.5065 - accuracy: 0.0949\n",
      "Epoch 2/50\n",
      "224/224 - 7s - loss: 1.3601 - accuracy: 0.0748\n",
      "Epoch 3/50\n",
      "224/224 - 7s - loss: 1.2543 - accuracy: 0.1071\n",
      "Epoch 4/50\n",
      "224/224 - 7s - loss: 1.1661 - accuracy: 0.1256\n",
      "Epoch 5/50\n",
      "224/224 - 7s - loss: 1.1564 - accuracy: 0.1445\n",
      "Epoch 6/50\n",
      "224/224 - 7s - loss: 1.1214 - accuracy: 0.1964\n",
      "Epoch 7/50\n",
      "224/224 - 7s - loss: 1.0829 - accuracy: 0.2818\n",
      "Epoch 8/50\n",
      "224/224 - 8s - loss: 1.0377 - accuracy: 0.4029\n",
      "Epoch 9/50\n",
      "224/224 - 8s - loss: 1.0556 - accuracy: 0.3203\n",
      "Epoch 10/50\n",
      "224/224 - 8s - loss: 0.9830 - accuracy: 0.4676\n",
      "Epoch 11/50\n",
      "224/224 - 8s - loss: 0.9098 - accuracy: 0.6350\n",
      "Epoch 12/50\n",
      "224/224 - 8s - loss: 0.8667 - accuracy: 0.6077\n",
      "Epoch 13/50\n",
      "224/224 - 8s - loss: 0.8293 - accuracy: 0.6669\n",
      "Epoch 14/50\n",
      "224/224 - 8s - loss: 0.7785 - accuracy: 0.6886\n",
      "Epoch 15/50\n",
      "224/224 - 8s - loss: 0.6909 - accuracy: 0.7907\n",
      "Epoch 16/50\n",
      "224/224 - 8s - loss: 0.5982 - accuracy: 0.8125\n",
      "Epoch 17/50\n",
      "224/224 - 8s - loss: 0.6040 - accuracy: 0.8103\n",
      "Epoch 18/50\n",
      "224/224 - 8s - loss: 0.5107 - accuracy: 0.8331\n",
      "Epoch 19/50\n",
      "224/224 - 8s - loss: 0.5997 - accuracy: 0.7215\n",
      "Epoch 20/50\n",
      "224/224 - 8s - loss: 0.4816 - accuracy: 0.8320\n",
      "Epoch 21/50\n",
      "224/224 - 8s - loss: 0.5736 - accuracy: 0.7695\n",
      "Epoch 22/50\n",
      "224/224 - 8s - loss: 0.6139 - accuracy: 0.6696\n",
      "Epoch 23/50\n",
      "224/224 - 8s - loss: 0.5522 - accuracy: 0.7600\n",
      "Epoch 24/50\n",
      "224/224 - 8s - loss: 0.4641 - accuracy: 0.8421\n",
      "Epoch 25/50\n",
      "224/224 - 8s - loss: 0.4204 - accuracy: 0.8460\n",
      "Epoch 26/50\n",
      "224/224 - 8s - loss: 0.3709 - accuracy: 0.8677\n",
      "Epoch 27/50\n",
      "224/224 - 8s - loss: 0.3792 - accuracy: 0.8438\n",
      "Epoch 28/50\n",
      "224/224 - 8s - loss: 0.3379 - accuracy: 0.8806\n",
      "Epoch 29/50\n",
      "224/224 - 8s - loss: 0.4427 - accuracy: 0.8549\n",
      "Epoch 30/50\n",
      "224/224 - 8s - loss: 0.4363 - accuracy: 0.8549\n",
      "Epoch 31/50\n",
      "224/224 - 8s - loss: 0.3440 - accuracy: 0.8878\n",
      "Epoch 32/50\n",
      "224/224 - 8s - loss: 0.3110 - accuracy: 0.8867\n",
      "Epoch 33/50\n",
      "224/224 - 8s - loss: 0.2970 - accuracy: 0.8901\n",
      "Epoch 34/50\n",
      "224/224 - 8s - loss: 0.3311 - accuracy: 0.8571\n",
      "Epoch 35/50\n",
      "224/224 - 8s - loss: 0.2902 - accuracy: 0.8912\n",
      "Epoch 36/50\n",
      "224/224 - 8s - loss: 0.2904 - accuracy: 0.8850\n",
      "Epoch 37/50\n",
      "224/224 - 8s - loss: 0.2760 - accuracy: 0.8906\n",
      "Epoch 38/50\n",
      "224/224 - 8s - loss: 0.3201 - accuracy: 0.8856\n",
      "Epoch 39/50\n",
      "224/224 - 8s - loss: 0.2631 - accuracy: 0.8990\n",
      "Epoch 40/50\n",
      "224/224 - 8s - loss: 0.3799 - accuracy: 0.8142\n",
      "Epoch 41/50\n",
      "224/224 - 8s - loss: 0.2665 - accuracy: 0.8923\n",
      "Epoch 42/50\n",
      "224/224 - 8s - loss: 0.2563 - accuracy: 0.9029\n",
      "Epoch 43/50\n",
      "224/224 - 8s - loss: 0.2640 - accuracy: 0.8984\n",
      "Epoch 44/50\n",
      "224/224 - 8s - loss: 0.2593 - accuracy: 0.9046\n",
      "Epoch 45/50\n",
      "224/224 - 8s - loss: 0.2304 - accuracy: 0.9090\n",
      "Epoch 46/50\n",
      "224/224 - 8s - loss: 0.2169 - accuracy: 0.9152\n",
      "Epoch 47/50\n",
      "224/224 - 8s - loss: 0.2951 - accuracy: 0.8694\n",
      "Epoch 48/50\n",
      "224/224 - 8s - loss: 0.2252 - accuracy: 0.9174\n",
      "Epoch 49/50\n",
      "224/224 - 8s - loss: 0.2141 - accuracy: 0.9124\n",
      "Epoch 50/50\n",
      "224/224 - 8s - loss: 0.1999 - accuracy: 0.9252\n",
      "15/15 - 1s\n",
      "Normalized confusion matrix\n",
      "                 precision    recall  f1-score   support\n",
      "\n",
      "air conditioner       1.00      0.96      0.98        23\n",
      "       computer       0.87      0.97      0.92       136\n",
      "         fridge       0.99      0.85      0.91       260\n",
      "     television       0.54      0.93      0.68        30\n",
      "\n",
      "       accuracy                           0.90       449\n",
      "      macro avg       0.85      0.93      0.87       449\n",
      "   weighted avg       0.92      0.90      0.90       449\n",
      "\n"
     ]
    },
    {
     "name": "stderr",
     "output_type": "stream",
     "text": [
      "2022-02-02 19:22:37.388067: W tensorflow/python/util/util.cc:348] Sets are not currently considered sequences, but this may change in the future, so consider avoiding using them.\n"
     ]
    },
    {
     "name": "stdout",
     "output_type": "stream",
     "text": [
      "INFO:tensorflow:Assets written to: /workspace/notebooks/models/CNN/iawe_12/assets\n"
     ]
    },
    {
     "data": {
      "image/png": "[encoded data removed]",
      "text/plain": [
       "<Figure size 720x720 with 2 Axes>"
      ]
     },
     "metadata": {
      "needs_background": "light"
     },
     "output_type": "display_data"
    }
   ],
   "source": [
    "# %%capture cap --no-stderr\n",
    "\n",
    "\n",
    "if environ['train_type'] == \"BB\":\n",
    "\n",
    "    #define generator\n",
    "    train_gen = HDF5ImageGenerator(\n",
    "        src= path_data,\n",
    "        X_key=\"data/train/gaf\",\n",
    "        y_key=\"labels/train/gaf\",\n",
    "        classes_key=\"appliances/classes\",\n",
    "        labels_encoding=\"hot\",\n",
    "        shuffle=True,\n",
    "        batch_size=int(environ['batch_size']),\n",
    "        num_classes=num_of_classes,\n",
    "        mode=\"train\",\n",
    "        )\n",
    "    \n",
    "    model = select_model(environ['learn_type'])\n",
    "    \n",
    "    txt_log.write(\"fitting BB model: \\n\")\n",
    "    \n",
    "    model.fit(\n",
    "        train_gen,\n",
    "        verbose=2,\n",
    "        epochs=int(environ['epochs']),\n",
    "        class_weight=d_class_weights,\n",
    "        callbacks = [save_op_callback],\n",
    "    )\n",
    "    \n",
    "    txt_log.write(\"finished fitting BB model: \\n\")\n",
    "\n",
    "    evaluate_model(model,x_test,y_test,appliances)\n",
    "    \n",
    "    if environ['save_model']==\"True\":\n",
    "\n",
    "        path_model_save = path+\"/models/\"+environ['learn_type']+\"/\"+dataset.split(\"_\")[0]+\"_\"+dataset.split(\"_R\")[1][0:2]\n",
    "        model.save(path_model_save)\n",
    "        txt_log.write(\"model saved to:\"+\"/models/\"+environ['learn_type']+\"/\"+dataset.split(\"_\")[0]+\"_\"+dataset.split(\"_R\")[1][0:2]+\" \\n\")\n",
    "        \n",
    "        \n",
    "# with open(path_save+\"_out_log.txt\" as f:\n",
    "#     f.write(cap.stdout)\n"
   ]
  },
  {
   "cell_type": "code",
   "execution_count": 13,
   "metadata": {
    "collapsed": true,
    "execution": {
     "iopub.execute_input": "2022-02-02T19:22:38.286603Z",
     "iopub.status.busy": "2022-02-02T19:22:38.285304Z",
     "iopub.status.idle": "2022-02-02T19:22:38.288598Z",
     "shell.execute_reply": "2022-02-02T19:22:38.287685Z"
    }
   },
   "outputs": [],
   "source": [
    "#model = keras.models.load_model(path_model1)\n",
    "# model_used = model"
   ]
  },
  {
   "cell_type": "code",
   "execution_count": 14,
   "metadata": {
    "collapsed": true,
    "execution": {
     "iopub.execute_input": "2022-02-02T19:22:38.293618Z",
     "iopub.status.busy": "2022-02-02T19:22:38.292597Z",
     "iopub.status.idle": "2022-02-02T19:22:38.294719Z",
     "shell.execute_reply": "2022-02-02T19:22:38.295564Z"
    },
    "jupyter": {
     "outputs_hidden": true
    },
    "tags": []
   },
   "outputs": [],
   "source": [
    "# evaluate_model(model,x_test,y_test,appliances)"
   ]
  },
  {
   "cell_type": "code",
   "execution_count": 15,
   "metadata": {
    "collapsed": true,
    "execution": {
     "iopub.execute_input": "2022-02-02T19:22:38.311840Z",
     "iopub.status.busy": "2022-02-02T19:22:38.310567Z",
     "iopub.status.idle": "2022-02-02T19:22:38.313151Z",
     "shell.execute_reply": "2022-02-02T19:22:38.314125Z"
    }
   },
   "outputs": [],
   "source": [
    "# datasets =[\n",
    "#     \"ukdale_gen_GASF_13m_100S5X12A54480_R82_80-20\"\n",
    "# ]\n",
    "\n",
    "if environ['train_type'] == \"TL\": \n",
    "    models = environ['tl_datasets'].split(\",\")\n",
    "    #model = [\"base\"]\n",
    "    \n",
    "    for model in models:\n",
    "    \n",
    "        file_name = dataset\n",
    "        \n",
    "        datasetTL = model\n",
    "        \n",
    "        seed = dataset.split(\"_R\")[1][0:2]\n",
    "        \n",
    "        print(\"using dataset data\",dataset.split(\"_\")[0],\"training on model\",model,\"seed\",environ['seed'])\n",
    "        txt_log.write(\"starting \"+dataset.split(\"_\")[0]+\" training on model \"+model+\" seed \"+environ['seed']+\"\\n\")\n",
    "\n",
    "\n",
    "        tf.keras.backend.clear_session()\n",
    "\n",
    "\n",
    "        #read the file\n",
    "        path = str(pathlib.Path().resolve())\n",
    "        path_data = f\"{path}\"\"/data/\"f\"{file_name}\"\"/\"f\"{file_name}\"\".hdf5\"\n",
    "        file = h5py.File(path_data,\"r+\")\n",
    "\n",
    "\n",
    "        print(\"reading data, printing stats: \")\n",
    "        x_test,y_test,d_class_weights,num_of_classes,appliances = get_data(file)\n",
    "        print(\"loading model\")\n",
    "        \n",
    "        model_seed = 42\n",
    "        model_used = create_tl_model(model,environ['learn_type'],model_seed,path,num_of_classes)\n",
    "                \n",
    "        train_gen = HDF5ImageGenerator(\n",
    "            src= path_data,\n",
    "            X_key=\"data/train/gaf\",\n",
    "            y_key=\"labels/train/gaf\",\n",
    "            classes_key=\"appliances/classes\",\n",
    "            labels_encoding=\"hot\",\n",
    "            shuffle=True,\n",
    "            batch_size=int(environ['batch_size']),\n",
    "            num_classes=num_of_classes,\n",
    "            mode=\"train\",\n",
    "            )\n",
    "\n",
    "        model_used.fit(\n",
    "            train_gen,\n",
    "            verbose=2,\n",
    "            epochs=int(environ['epochs']),\n",
    "            class_weight=d_class_weights,\n",
    "            callbacks = [save_op_callback]\n",
    "            #workers = 6,\n",
    "        )\n",
    "        \n",
    "        txt_log.write(\"finished \"+dataset.split(\"_\")[0]+\" training on model \"+model+\" seed \"+environ['seed']+\"\\n\")\n",
    "\n",
    "\n",
    "        evaluate_model(model_used,x_test,y_test,appliances)\n",
    "        \n",
    "\n",
    "\n",
    "\n",
    "        #del model_used\n",
    "\n"
   ]
  },
  {
   "cell_type": "code",
   "execution_count": 16,
   "metadata": {
    "execution": {
     "iopub.execute_input": "2022-02-02T19:22:38.319498Z",
     "iopub.status.busy": "2022-02-02T19:22:38.318326Z",
     "iopub.status.idle": "2022-02-02T19:22:38.320787Z",
     "shell.execute_reply": "2022-02-02T19:22:38.321758Z"
    }
   },
   "outputs": [],
   "source": [
    "txt_log.close()"
   ]
  },
  {
   "cell_type": "code",
   "execution_count": null,
   "metadata": {},
   "outputs": [],
   "source": []
  }
 ],
 "metadata": {
  "colab": {
   "authorship_tag": "ABX9TyMej4PvP65qsLng7TnQKWA4",
   "name": "LSTM-gen",
   "provenance": []
  },
  "kernelspec": {
   "display_name": "Python 3 (ipykernel)",
   "language": "python",
   "name": "python3"
  },
  "language_info": {
   "codemirror_mode": {
    "name": "ipython",
    "version": 3
   },
   "file_extension": ".py",
   "mimetype": "text/x-python",
   "name": "python",
   "nbconvert_exporter": "python",
   "pygments_lexer": "ipython3",
   "version": "3.8.10"
  }
 },
 "nbformat": 4,
 "nbformat_minor": 4
}
