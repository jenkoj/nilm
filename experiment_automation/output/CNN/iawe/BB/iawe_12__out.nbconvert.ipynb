{
 "cells": [
  {
   "cell_type": "code",
   "execution_count": 1,
   "metadata": {
    "execution": {
     "iopub.execute_input": "2022-02-11T14:37:16.074874Z",
     "iopub.status.busy": "2022-02-11T14:37:16.073408Z",
     "iopub.status.idle": "2022-02-11T14:37:18.908945Z",
     "shell.execute_reply": "2022-02-11T14:37:18.910039Z"
    },
    "id": "WqUfHWgtJxtu",
    "scrolled": true,
    "tags": []
   },
   "outputs": [
    {
     "name": "stderr",
     "output_type": "stream",
     "text": [
      "2022-02-11 14:37:17.435473: I tensorflow/stream_executor/platform/default/dso_loader.cc:54] Successfully opened dynamic library libcudart.so.11.0\n"
     ]
    },
    {
     "name": "stdout",
     "output_type": "stream",
     "text": [
      "2.5.0\n",
      "Num GPUs Available:  1\n"
     ]
    },
    {
     "name": "stderr",
     "output_type": "stream",
     "text": [
      "2022-02-11 14:37:18.807726: I tensorflow/stream_executor/platform/default/dso_loader.cc:54] Successfully opened dynamic library libcuda.so.1\n",
      "2022-02-11 14:37:18.852202: I tensorflow/core/common_runtime/gpu/gpu_device.cc:1734] Found device 0 with properties: \n",
      "pciBusID: 0000:21:00.0 name: NVIDIA GeForce RTX 2080 Ti computeCapability: 7.5\n",
      "coreClock: 1.545GHz coreCount: 68 deviceMemorySize: 10.76GiB deviceMemoryBandwidth: 573.69GiB/s\n",
      "2022-02-11 14:37:18.852247: I tensorflow/stream_executor/platform/default/dso_loader.cc:54] Successfully opened dynamic library libcudart.so.11.0\n",
      "2022-02-11 14:37:18.865890: I tensorflow/stream_executor/platform/default/dso_loader.cc:54] Successfully opened dynamic library libcublas.so.11\n",
      "2022-02-11 14:37:18.865961: I tensorflow/stream_executor/platform/default/dso_loader.cc:54] Successfully opened dynamic library libcublasLt.so.11\n",
      "2022-02-11 14:37:18.874558: I tensorflow/stream_executor/platform/default/dso_loader.cc:54] Successfully opened dynamic library libcufft.so.10\n",
      "2022-02-11 14:37:18.876510: I tensorflow/stream_executor/platform/default/dso_loader.cc:54] Successfully opened dynamic library libcurand.so.10\n",
      "2022-02-11 14:37:18.893986: I tensorflow/stream_executor/platform/default/dso_loader.cc:54] Successfully opened dynamic library libcutensor.so.1\n",
      "2022-02-11 14:37:18.896024: I tensorflow/stream_executor/platform/default/dso_loader.cc:54] Successfully opened dynamic library libcusolver.so.11\n",
      "2022-02-11 14:37:18.900842: I tensorflow/stream_executor/platform/default/dso_loader.cc:54] Successfully opened dynamic library libcusparse.so.11\n",
      "2022-02-11 14:37:18.901156: I tensorflow/stream_executor/platform/default/dso_loader.cc:54] Successfully opened dynamic library libcudnn.so.8\n",
      "2022-02-11 14:37:18.901535: I tensorflow/core/common_runtime/gpu/gpu_device.cc:1872] Adding visible gpu devices: 0\n"
     ]
    }
   ],
   "source": [
    "import h5py\n",
    "import numpy as np\n",
    "\n",
    "from sklearn.model_selection import train_test_split\n",
    "from sklearn.metrics import classification_report, confusion_matrix\n",
    "import matplotlib.pyplot as plt\n",
    "import itertools \n",
    "import pyts\n",
    "from pyts.approximation import PiecewiseAggregateApproximation\n",
    "\n",
    "from sklearn.utils import class_weight\n",
    "\n",
    "import pathlib\n",
    "import tensorflow as tf\n",
    "from tensorflow import keras\n",
    "from tensorflow.keras import layers, optimizers\n",
    "from tensorflow.keras.layers import Convolution2D,Conv2D, Dense,Dropout, Flatten, Activation, MaxPooling2D, Input, Conv1D, GlobalAveragePooling1D, TimeDistributed, GRU, LSTM\n",
    "\n",
    "print(tf.__version__)\n",
    "print(\"Num GPUs Available: \", len(tf.config.list_physical_devices('GPU')))\n",
    "gpus = tf.config.experimental.list_physical_devices('GPU')\n",
    "\n",
    "try:\n",
    "    for gpu in gpus:\n",
    "        tf.config.experimental.set_memory_growth(gpu, True)\n",
    "except RuntimeError as e:\n",
    "    print(e)"
   ]
  },
  {
   "cell_type": "code",
   "execution_count": 2,
   "metadata": {
    "execution": {
     "iopub.execute_input": "2022-02-11T14:37:18.918680Z",
     "iopub.status.busy": "2022-02-11T14:37:18.917401Z",
     "iopub.status.idle": "2022-02-11T14:37:18.921676Z",
     "shell.execute_reply": "2022-02-11T14:37:18.922738Z"
    }
   },
   "outputs": [
    {
     "name": "stdout",
     "output_type": "stream",
     "text": [
      "iawe_gen_GASF_60m_300S0X_R12_80-20\n"
     ]
    }
   ],
   "source": [
    "from os import environ\n",
    "dataset = environ['dataset']\n",
    "print(dataset)"
   ]
  },
  {
   "cell_type": "code",
   "execution_count": 3,
   "metadata": {
    "execution": {
     "iopub.execute_input": "2022-02-11T14:37:18.930746Z",
     "iopub.status.busy": "2022-02-11T14:37:18.929641Z",
     "iopub.status.idle": "2022-02-11T14:37:18.935873Z",
     "shell.execute_reply": "2022-02-11T14:37:18.936911Z"
    }
   },
   "outputs": [],
   "source": [
    "#my defs \n",
    "from modules.models import  LSTM_3D_V56, CNN_V56,LSTM_BI_V56\n",
    "from modules.tools import my_print, plot_confusion_matrix_norm, get_data,get_data_split, evaluate_model, create_tl_model\n",
    "from modules.HDF5ImageGenerator import HDF5ImageGenerator"
   ]
  },
  {
   "cell_type": "code",
   "execution_count": 4,
   "metadata": {
    "execution": {
     "iopub.execute_input": "2022-02-11T14:37:18.948077Z",
     "iopub.status.busy": "2022-02-11T14:37:18.946741Z",
     "iopub.status.idle": "2022-02-11T14:37:18.949667Z",
     "shell.execute_reply": "2022-02-11T14:37:18.950712Z"
    },
    "id": "RT1vwq7-KOtB"
   },
   "outputs": [],
   "source": [
    "#LOAD DATASET\n",
    "#file_name = \"ukdale_gen_GASF_13m_100S5X12A54480\"\n",
    "#file_name = \"refit_gen_GASF_13m_100S5X_15A166006\"\n",
    "file_name = \"refit_gen_GASF_13m_100S5X_15A166006_R42-80-20\"\n",
    "#file_name = \"refit_gen_GASF_13m_100S5X_15A166006_R42_80-20\"\n",
    "file_name = \"refit_gen_GASF_60m_300S0X_15A157030N_R12_80-20-V1\"\n",
    "file_name = environ[\"dataset\"]\n",
    "#read the file\n",
    "path = str(pathlib.Path().resolve())\n",
    "\n",
    "path_data = f\"{path}\"\"/data/\"f\"{file_name}\"\"/\"f\"{file_name}\"\".hdf5\"\n",
    "\n",
    "file = h5py.File(path_data,\"r+\")"
   ]
  },
  {
   "cell_type": "code",
   "execution_count": 5,
   "metadata": {
    "execution": {
     "iopub.execute_input": "2022-02-11T14:37:18.958831Z",
     "iopub.status.busy": "2022-02-11T14:37:18.957551Z",
     "iopub.status.idle": "2022-02-11T14:37:19.070102Z",
     "shell.execute_reply": "2022-02-11T14:37:19.071161Z"
    },
    "scrolled": true
   },
   "outputs": [
    {
     "name": "stdout",
     "output_type": "stream",
     "text": [
      "['air conditioner', 'computer', 'fridge', 'television']\n",
      "{0: 4.76595744680851, 1: 0.8265682656826568, 2: 0.43118383060635224, 3: 3.8290598290598292}\n",
      " \n",
      "Tests \n",
      "air conditioner test: 23 train: 94\n",
      "computer test: 136 train: 542\n",
      "fridge test: 260 train: 1039\n",
      "television test: 30 train: 117\n"
     ]
    }
   ],
   "source": [
    "x_test,y_test,d_class_weights,num_of_classes,appliances = get_data(file)"
   ]
  },
  {
   "cell_type": "code",
   "execution_count": 6,
   "metadata": {
    "execution": {
     "iopub.execute_input": "2022-02-11T14:37:19.078260Z",
     "iopub.status.busy": "2022-02-11T14:37:19.076991Z",
     "iopub.status.idle": "2022-02-11T14:37:19.079527Z",
     "shell.execute_reply": "2022-02-11T14:37:19.080509Z"
    }
   },
   "outputs": [],
   "source": [
    "def select_model(learn_type):\n",
    "    \n",
    "    if learn_type == \"CNN\":\n",
    "        model = CNN_V56(file[\"data/train/gaf\"][0:10],num_of_classes,lr= 0.00002)\n",
    "\n",
    "    if learn_type == \"LSTM\":\n",
    "        model = LSTM_3D_V56(file[\"data/train/gaf\"][0:10],num_of_classes,lr= 0.00002)\n",
    "\n",
    "    if learn_type == \"BI_LSTM\":\n",
    "        model = LSTM_BI_V56(file[\"data/train/gaf\"][0:10],num_of_classes,lr= 0.00002)\n",
    "\n",
    "    return model\n",
    "              "
   ]
  },
  {
   "cell_type": "code",
   "execution_count": 7,
   "metadata": {
    "execution": {
     "iopub.execute_input": "2022-02-11T14:37:19.087125Z",
     "iopub.status.busy": "2022-02-11T14:37:19.085939Z",
     "iopub.status.idle": "2022-02-11T14:37:19.088398Z",
     "shell.execute_reply": "2022-02-11T14:37:19.089383Z"
    }
   },
   "outputs": [],
   "source": [
    "path_save = path+'/experiment_automation/output/'+environ['learn_type']+'/'+dataset.split(\"_\")[0]+\"/\"+environ['train_type']+\"/\"+dataset.split(\"_\")[0]+\"_\"+environ['seed']+\"_\"+environ['tl_datasets']\n",
    "path_save_nb = path_save+\"_out.ipynb\"\n",
    "path_save_log = path_save+\"_out_log2.txt\""
   ]
  },
  {
   "cell_type": "code",
   "execution_count": 8,
   "metadata": {
    "execution": {
     "iopub.execute_input": "2022-02-11T14:37:19.097814Z",
     "iopub.status.busy": "2022-02-11T14:37:19.096602Z",
     "iopub.status.idle": "2022-02-11T14:37:19.205803Z",
     "shell.execute_reply": "2022-02-11T14:37:19.204773Z"
    }
   },
   "outputs": [],
   "source": [
    "from keras.callbacks import LambdaCallback\n",
    "#path_log= path+'/experiment_automation/output/'+environ['learn_type']+'/'+dataset.split(\"_\")[0]+\"/\"+environ['train_type']+\"/\"+dataset.split(\"_\")[0]+\"_\"+environ['seed']+\"_\"+environ['tl_datasets']+\"_log.txt\"\n",
    "txt_log = open(path_save+\"_log.txt\", mode='wt', buffering=1)\n",
    "txt_log.write(\"file created! \\n\")\n",
    "\n",
    "save_op_callback = LambdaCallback(\n",
    "  on_epoch_end = lambda epoch, logs: txt_log.write(\n",
    "    str({'epoch': epoch, 'loss': logs['loss'],'acc': logs['accuracy']}) + '\\n'),\n",
    "                                                           \n",
    ")"
   ]
  },
  {
   "cell_type": "code",
   "execution_count": 9,
   "metadata": {
    "execution": {
     "iopub.execute_input": "2022-02-11T14:37:19.211524Z",
     "iopub.status.busy": "2022-02-11T14:37:19.210361Z",
     "iopub.status.idle": "2022-02-11T14:37:19.215310Z",
     "shell.execute_reply": "2022-02-11T14:37:19.214287Z"
    }
   },
   "outputs": [
    {
     "name": "stdout",
     "output_type": "stream",
     "text": [
      "/workspace/notebooks/experiment_automation/output/CNN/iawe/BB/iawe_12__out.ipynb\n"
     ]
    }
   ],
   "source": [
    "print(path_save_nb)"
   ]
  },
  {
   "cell_type": "code",
   "execution_count": 10,
   "metadata": {
    "execution": {
     "iopub.execute_input": "2022-02-11T14:37:19.220344Z",
     "iopub.status.busy": "2022-02-11T14:37:19.219249Z",
     "iopub.status.idle": "2022-02-11T14:37:19.221776Z",
     "shell.execute_reply": "2022-02-11T14:37:19.222663Z"
    }
   },
   "outputs": [],
   "source": [
    "# rm $path_save_log"
   ]
  },
  {
   "cell_type": "code",
   "execution_count": 11,
   "metadata": {
    "execution": {
     "iopub.execute_input": "2022-02-11T14:37:19.228050Z",
     "iopub.status.busy": "2022-02-11T14:37:19.226961Z",
     "iopub.status.idle": "2022-02-11T14:37:19.229311Z",
     "shell.execute_reply": "2022-02-11T14:37:19.230147Z"
    }
   },
   "outputs": [],
   "source": [
    "# %%capture cap \n",
    "\n",
    "# with open(path_save_log,\"wt\") as f:\n",
    "#     f.write(cap.stdout)\n",
    "    \n",
    "# print(\"out capture..\")"
   ]
  },
  {
   "cell_type": "code",
   "execution_count": 12,
   "metadata": {
    "execution": {
     "iopub.execute_input": "2022-02-11T14:37:19.247128Z",
     "iopub.status.busy": "2022-02-11T14:37:19.245902Z",
     "iopub.status.idle": "2022-02-11T14:43:08.276266Z",
     "shell.execute_reply": "2022-02-11T14:43:08.277268Z"
    },
    "id": "vqA9NwOqKrb5",
    "jupyter": {
     "outputs_hidden": true
    },
    "tags": []
   },
   "outputs": [
    {
     "name": "stdout",
     "output_type": "stream",
     "text": [
      "Normal way\n",
      "[0 1 2 3 4 5 6 7 8 9]\n",
      "WARNING:tensorflow:From /usr/local/lib/python3.8/dist-packages/tensorflow/python/ops/array_ops.py:5043: calling gather (from tensorflow.python.ops.array_ops) with validate_indices is deprecated and will be removed in a future version.\n",
      "Instructions for updating:\n",
      "The `validate_indices` argument has no effect. Indices are always validated on CPU and never validated on GPU.\n"
     ]
    },
    {
     "name": "stderr",
     "output_type": "stream",
     "text": [
      "2022-02-11 14:37:19.262685: I tensorflow/core/common_runtime/gpu/gpu_device.cc:1734] Found device 0 with properties: \n",
      "pciBusID: 0000:21:00.0 name: NVIDIA GeForce RTX 2080 Ti computeCapability: 7.5\n",
      "coreClock: 1.545GHz coreCount: 68 deviceMemorySize: 10.76GiB deviceMemoryBandwidth: 573.69GiB/s\n",
      "2022-02-11 14:37:19.263077: I tensorflow/core/common_runtime/gpu/gpu_device.cc:1872] Adding visible gpu devices: 0\n",
      "2022-02-11 14:37:19.263384: I tensorflow/stream_executor/platform/default/dso_loader.cc:54] Successfully opened dynamic library libcudart.so.11.0\n",
      "2022-02-11 14:37:20.138104: I tensorflow/core/common_runtime/gpu/gpu_device.cc:1258] Device interconnect StreamExecutor with strength 1 edge matrix:\n",
      "2022-02-11 14:37:20.138140: I tensorflow/core/common_runtime/gpu/gpu_device.cc:1264]      0 \n",
      "2022-02-11 14:37:20.138147: I tensorflow/core/common_runtime/gpu/gpu_device.cc:1277] 0:   N \n",
      "2022-02-11 14:37:20.138733: I tensorflow/core/common_runtime/gpu/gpu_device.cc:1418] Created TensorFlow device (/job:localhost/replica:0/task:0/device:GPU:0 with 9649 MB memory) -> physical GPU (device: 0, name: NVIDIA GeForce RTX 2080 Ti, pci bus id: 0000:21:00.0, compute capability: 7.5)\n",
      "2022-02-11 14:37:20.139078: I tensorflow/core/common_runtime/process_util.cc:146] Creating new thread pool with default inter op setting: 20. Tune using inter_op_parallelism_threads for best performance.\n",
      "2022-02-11 14:37:20.273335: I tensorflow/compiler/mlir/mlir_graph_optimization_pass.cc:176] None of the MLIR Optimization Passes are enabled (registered 2)\n",
      "2022-02-11 14:37:20.292497: I tensorflow/core/platform/profile_utils/cpu_utils.cc:114] CPU Frequency: 3299990000 Hz\n"
     ]
    },
    {
     "name": "stdout",
     "output_type": "stream",
     "text": [
      "Epoch 1/50\n"
     ]
    },
    {
     "name": "stderr",
     "output_type": "stream",
     "text": [
      "2022-02-11 14:37:20.920590: I tensorflow/stream_executor/platform/default/dso_loader.cc:54] Successfully opened dynamic library libcudnn.so.8\n",
      "2022-02-11 14:37:21.647748: I tensorflow/stream_executor/cuda/cuda_dnn.cc:380] Loaded cuDNN version 8202\n",
      "2022-02-11 14:37:22.485598: I tensorflow/stream_executor/platform/default/dso_loader.cc:54] Successfully opened dynamic library libcublas.so.11\n",
      "2022-02-11 14:37:23.274894: I tensorflow/stream_executor/platform/default/dso_loader.cc:54] Successfully opened dynamic library libcublasLt.so.11\n"
     ]
    },
    {
     "name": "stdout",
     "output_type": "stream",
     "text": [
      "56/56 - 10s - loss: 1.1950 - accuracy: 0.0586\n",
      "Epoch 2/50\n",
      "56/56 - 6s - loss: 1.1314 - accuracy: 0.0871\n",
      "Epoch 3/50\n",
      "56/56 - 6s - loss: 1.1120 - accuracy: 0.0670\n",
      "Epoch 4/50\n",
      "56/56 - 6s - loss: 1.0957 - accuracy: 0.0837\n",
      "Epoch 5/50\n",
      "56/56 - 6s - loss: 1.0771 - accuracy: 0.0910\n",
      "Epoch 6/50\n",
      "56/56 - 7s - loss: 1.0764 - accuracy: 0.1083\n",
      "Epoch 7/50\n",
      "56/56 - 7s - loss: 1.0627 - accuracy: 0.0977\n",
      "Epoch 8/50\n",
      "56/56 - 7s - loss: 1.0562 - accuracy: 0.1289\n",
      "Epoch 9/50\n",
      "56/56 - 7s - loss: 1.0427 - accuracy: 0.1802\n",
      "Epoch 10/50\n",
      "56/56 - 7s - loss: 1.0276 - accuracy: 0.2394\n",
      "Epoch 11/50\n",
      "56/56 - 7s - loss: 1.0163 - accuracy: 0.2924\n",
      "Epoch 12/50\n",
      "56/56 - 7s - loss: 1.0576 - accuracy: 0.2109\n",
      "Epoch 13/50\n",
      "56/56 - 7s - loss: 1.0222 - accuracy: 0.3080\n",
      "Epoch 14/50\n",
      "56/56 - 7s - loss: 0.9880 - accuracy: 0.4364\n",
      "Epoch 15/50\n",
      "56/56 - 7s - loss: 0.9884 - accuracy: 0.4185\n",
      "Epoch 16/50\n",
      "56/56 - 7s - loss: 0.9625 - accuracy: 0.5000\n",
      "Epoch 17/50\n",
      "56/56 - 7s - loss: 0.9250 - accuracy: 0.7215\n",
      "Epoch 18/50\n",
      "56/56 - 7s - loss: 0.9169 - accuracy: 0.6429\n",
      "Epoch 19/50\n",
      "56/56 - 7s - loss: 0.8526 - accuracy: 0.6975\n",
      "Epoch 20/50\n",
      "56/56 - 7s - loss: 0.8518 - accuracy: 0.5753\n",
      "Epoch 21/50\n",
      "56/56 - 7s - loss: 0.7993 - accuracy: 0.6842\n",
      "Epoch 22/50\n",
      "56/56 - 7s - loss: 0.7597 - accuracy: 0.6970\n",
      "Epoch 23/50\n",
      "56/56 - 7s - loss: 0.7553 - accuracy: 0.7121\n",
      "Epoch 24/50\n",
      "56/56 - 7s - loss: 0.6783 - accuracy: 0.7645\n",
      "Epoch 25/50\n",
      "56/56 - 7s - loss: 0.6430 - accuracy: 0.8008\n",
      "Epoch 26/50\n",
      "56/56 - 7s - loss: 0.6149 - accuracy: 0.8186\n",
      "Epoch 27/50\n",
      "56/56 - 7s - loss: 0.5885 - accuracy: 0.8287\n",
      "Epoch 28/50\n",
      "56/56 - 7s - loss: 0.5636 - accuracy: 0.7896\n",
      "Epoch 29/50\n",
      "56/56 - 7s - loss: 0.5414 - accuracy: 0.8432\n",
      "Epoch 30/50\n",
      "56/56 - 7s - loss: 0.5262 - accuracy: 0.8398\n",
      "Epoch 31/50\n",
      "56/56 - 7s - loss: 0.5837 - accuracy: 0.6881\n",
      "Epoch 32/50\n",
      "56/56 - 7s - loss: 0.4699 - accuracy: 0.8415\n",
      "Epoch 33/50\n",
      "56/56 - 7s - loss: 0.4876 - accuracy: 0.8387\n",
      "Epoch 34/50\n",
      "56/56 - 7s - loss: 0.4862 - accuracy: 0.8097\n",
      "Epoch 35/50\n",
      "56/56 - 7s - loss: 0.4307 - accuracy: 0.8488\n",
      "Epoch 36/50\n",
      "56/56 - 7s - loss: 0.4133 - accuracy: 0.8638\n",
      "Epoch 37/50\n",
      "56/56 - 7s - loss: 0.3952 - accuracy: 0.8694\n",
      "Epoch 38/50\n",
      "56/56 - 7s - loss: 0.3989 - accuracy: 0.8655\n",
      "Epoch 39/50\n",
      "56/56 - 7s - loss: 0.3738 - accuracy: 0.8756\n",
      "Epoch 40/50\n",
      "56/56 - 7s - loss: 0.4073 - accuracy: 0.8544\n",
      "Epoch 41/50\n",
      "56/56 - 7s - loss: 0.3748 - accuracy: 0.8650\n",
      "Epoch 42/50\n",
      "56/56 - 7s - loss: 0.3563 - accuracy: 0.8783\n",
      "Epoch 43/50\n",
      "56/56 - 7s - loss: 0.3578 - accuracy: 0.8839\n",
      "Epoch 44/50\n",
      "56/56 - 7s - loss: 0.3481 - accuracy: 0.8817\n",
      "Epoch 45/50\n",
      "56/56 - 7s - loss: 0.3352 - accuracy: 0.8823\n",
      "Epoch 46/50\n",
      "56/56 - 7s - loss: 0.3347 - accuracy: 0.8878\n",
      "Epoch 47/50\n",
      "56/56 - 7s - loss: 0.3315 - accuracy: 0.8884\n",
      "Epoch 48/50\n",
      "56/56 - 7s - loss: 0.3263 - accuracy: 0.8834\n",
      "Epoch 49/50\n",
      "56/56 - 7s - loss: 0.3882 - accuracy: 0.8348\n",
      "Epoch 50/50\n",
      "56/56 - 7s - loss: 0.3448 - accuracy: 0.8795\n",
      "15/15 - 1s\n",
      "Normalized confusion matrix\n",
      "                 precision    recall  f1-score   support\n",
      "\n",
      "air conditioner       1.00      0.91      0.95        23\n",
      "       computer       0.81      0.99      0.89       136\n",
      "         fridge       0.98      0.81      0.88       260\n",
      "     television       0.50      0.80      0.62        30\n",
      "\n",
      "       accuracy                           0.87       449\n",
      "      macro avg       0.82      0.88      0.84       449\n",
      "   weighted avg       0.90      0.87      0.87       449\n",
      "\n"
     ]
    },
    {
     "name": "stderr",
     "output_type": "stream",
     "text": [
      "2022-02-11 14:43:07.406005: W tensorflow/python/util/util.cc:348] Sets are not currently considered sequences, but this may change in the future, so consider avoiding using them.\n"
     ]
    },
    {
     "name": "stdout",
     "output_type": "stream",
     "text": [
      "INFO:tensorflow:Assets written to: /workspace/notebooks/models/CNN/iawe_12/assets\n"
     ]
    },
    {
     "data": {
      "image/png": "[encoded data removed]",
      "text/plain": [
       "<Figure size 720x720 with 2 Axes>"
      ]
     },
     "metadata": {
      "needs_background": "light"
     },
     "output_type": "display_data"
    }
   ],
   "source": [
    "# %%capture cap --no-stderr\n",
    "\n",
    "\n",
    "if environ['train_type'] == \"BB\":\n",
    "\n",
    "    #define generator\n",
    "    train_gen = HDF5ImageGenerator(\n",
    "        src= path_data,\n",
    "        X_key=\"data/train/gaf\",\n",
    "        y_key=\"labels/train/gaf\",\n",
    "        classes_key=\"appliances/classes\",\n",
    "        labels_encoding=\"hot\",\n",
    "        shuffle=True,\n",
    "        batch_size=int(environ['batch_size']),\n",
    "        num_classes=num_of_classes,\n",
    "        mode=\"train\",\n",
    "        )\n",
    "    \n",
    "    model = select_model(environ['learn_type'])\n",
    "    \n",
    "    txt_log.write(\"fitting BB model: \\n\")\n",
    "    \n",
    "    model.fit(\n",
    "        train_gen,\n",
    "        verbose=2,\n",
    "        epochs=int(environ['epochs']),\n",
    "        class_weight=d_class_weights,\n",
    "        callbacks = [save_op_callback],\n",
    "    )\n",
    "    \n",
    "    txt_log.write(\"finished fitting BB model: \\n\")\n",
    "\n",
    "    evaluate_model(model,x_test,y_test,appliances)\n",
    "    \n",
    "    if environ['save_model']==\"True\":\n",
    "\n",
    "        path_model_save = path+\"/models/\"+environ['learn_type']+\"/\"+dataset.split(\"_\")[0]+\"_\"+dataset.split(\"_R\")[1][0:2]\n",
    "        model.save(path_model_save)\n",
    "        txt_log.write(\"model saved to:\"+\"/models/\"+environ['learn_type']+\"/\"+dataset.split(\"_\")[0]+\"_\"+dataset.split(\"_R\")[1][0:2]+\" \\n\")\n",
    "        \n",
    "        \n",
    "# with open(path_save+\"_out_log.txt\" as f:\n",
    "#     f.write(cap.stdout)\n"
   ]
  },
  {
   "cell_type": "code",
   "execution_count": 13,
   "metadata": {
    "collapsed": true,
    "execution": {
     "iopub.execute_input": "2022-02-11T14:43:08.282565Z",
     "iopub.status.busy": "2022-02-11T14:43:08.281390Z",
     "iopub.status.idle": "2022-02-11T14:43:08.283780Z",
     "shell.execute_reply": "2022-02-11T14:43:08.284663Z"
    }
   },
   "outputs": [],
   "source": [
    "#model = keras.models.load_model(path_model1)\n",
    "# model_used = model"
   ]
  },
  {
   "cell_type": "code",
   "execution_count": 14,
   "metadata": {
    "collapsed": true,
    "execution": {
     "iopub.execute_input": "2022-02-11T14:43:08.289611Z",
     "iopub.status.busy": "2022-02-11T14:43:08.288591Z",
     "iopub.status.idle": "2022-02-11T14:43:08.290710Z",
     "shell.execute_reply": "2022-02-11T14:43:08.291562Z"
    },
    "jupyter": {
     "outputs_hidden": true
    },
    "tags": []
   },
   "outputs": [],
   "source": [
    "# evaluate_model(model,x_test,y_test,appliances)"
   ]
  },
  {
   "cell_type": "code",
   "execution_count": 15,
   "metadata": {
    "collapsed": true,
    "execution": {
     "iopub.execute_input": "2022-02-11T14:43:08.307826Z",
     "iopub.status.busy": "2022-02-11T14:43:08.306549Z",
     "iopub.status.idle": "2022-02-11T14:43:08.309134Z",
     "shell.execute_reply": "2022-02-11T14:43:08.310117Z"
    }
   },
   "outputs": [],
   "source": [
    "# datasets =[\n",
    "#     \"ukdale_gen_GASF_13m_100S5X12A54480_R82_80-20\"\n",
    "# ]\n",
    "\n",
    "if environ['train_type'] == \"TL\": \n",
    "    models = environ['tl_datasets'].replace(\" \",\"\").split(\",\")\n",
    "    #model = [\"base\"]\n",
    "    \n",
    "    for model in models:\n",
    "    \n",
    "        file_name = dataset\n",
    "        \n",
    "        datasetTL = model\n",
    "        \n",
    "        seed = dataset.split(\"_R\")[1][0:2]\n",
    "        \n",
    "        print(\"using dataset data\",dataset.split(\"_\")[0],\"training on model\",model,\"seed\",environ['seed'])\n",
    "        txt_log.write(\"starting \"+dataset.split(\"_\")[0]+\" training on model \"+model+\" seed \"+environ['seed']+\"\\n\")\n",
    "\n",
    "\n",
    "        tf.keras.backend.clear_session()\n",
    "\n",
    "\n",
    "        #read the file\n",
    "        path = str(pathlib.Path().resolve())\n",
    "        path_data = f\"{path}\"\"/data/\"f\"{file_name}\"\"/\"f\"{file_name}\"\".hdf5\"\n",
    "        file = h5py.File(path_data,\"r+\")\n",
    "\n",
    "\n",
    "        print(\"reading data, printing stats: \")\n",
    "        x_test,y_test,d_class_weights,num_of_classes,appliances = get_data(file)\n",
    "        print(\"loading model\")\n",
    "        \n",
    "        model_seed = 42\n",
    "        model_used = create_tl_model(model,environ['learn_type'],model_seed,path,num_of_classes)\n",
    "                \n",
    "        train_gen = HDF5ImageGenerator(\n",
    "            src= path_data,\n",
    "            X_key=\"data/train/gaf\",\n",
    "            y_key=\"labels/train/gaf\",\n",
    "            classes_key=\"appliances/classes\",\n",
    "            labels_encoding=\"hot\",\n",
    "            shuffle=True,\n",
    "            batch_size=int(environ['batch_size']),\n",
    "            num_classes=num_of_classes,\n",
    "            mode=\"train\",\n",
    "            )\n",
    "\n",
    "        model_used.fit(\n",
    "            train_gen,\n",
    "            verbose=2,\n",
    "            epochs=int(environ['epochs']),\n",
    "            class_weight=d_class_weights,\n",
    "            callbacks = [save_op_callback]\n",
    "            #workers = 6,\n",
    "        )\n",
    "        \n",
    "        txt_log.write(\"finished \"+dataset.split(\"_\")[0]+\" training on model \"+model+\" seed \"+environ['seed']+\"\\n\")\n",
    "\n",
    "\n",
    "        evaluate_model(model_used,x_test,y_test,appliances)\n",
    "        \n",
    "\n",
    "\n",
    "\n",
    "        #del model_used\n",
    "\n"
   ]
  },
  {
   "cell_type": "code",
   "execution_count": 16,
   "metadata": {
    "execution": {
     "iopub.execute_input": "2022-02-11T14:43:08.315550Z",
     "iopub.status.busy": "2022-02-11T14:43:08.314354Z",
     "iopub.status.idle": "2022-02-11T14:43:08.316836Z",
     "shell.execute_reply": "2022-02-11T14:43:08.317812Z"
    }
   },
   "outputs": [],
   "source": [
    "txt_log.close()"
   ]
  },
  {
   "cell_type": "code",
   "execution_count": null,
   "metadata": {},
   "outputs": [],
   "source": []
  }
 ],
 "metadata": {
  "colab": {
   "authorship_tag": "ABX9TyMej4PvP65qsLng7TnQKWA4",
   "name": "LSTM-gen",
   "provenance": []
  },
  "kernelspec": {
   "display_name": "Python 3 (ipykernel)",
   "language": "python",
   "name": "python3"
  },
  "language_info": {
   "codemirror_mode": {
    "name": "ipython",
    "version": 3
   },
   "file_extension": ".py",
   "mimetype": "text/x-python",
   "name": "python",
   "nbconvert_exporter": "python",
   "pygments_lexer": "ipython3",
   "version": "3.8.10"
  }
 },
 "nbformat": 4,
 "nbformat_minor": 4
}
