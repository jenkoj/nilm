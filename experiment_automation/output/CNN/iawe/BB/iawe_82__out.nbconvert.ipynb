{
 "cells": [
  {
   "cell_type": "code",
   "execution_count": 1,
   "metadata": {
    "execution": {
     "iopub.execute_input": "2022-02-11T14:49:21.350396Z",
     "iopub.status.busy": "2022-02-11T14:49:21.335242Z",
     "iopub.status.idle": "2022-02-11T14:49:23.061166Z",
     "shell.execute_reply": "2022-02-11T14:49:23.059930Z"
    },
    "id": "WqUfHWgtJxtu",
    "scrolled": true,
    "tags": []
   },
   "outputs": [
    {
     "name": "stderr",
     "output_type": "stream",
     "text": [
      "2022-02-11 14:49:22.194820: I tensorflow/stream_executor/platform/default/dso_loader.cc:54] Successfully opened dynamic library libcudart.so.11.0\n"
     ]
    },
    {
     "name": "stdout",
     "output_type": "stream",
     "text": [
      "2.5.0\n",
      "Num GPUs Available:  1\n"
     ]
    },
    {
     "name": "stderr",
     "output_type": "stream",
     "text": [
      "2022-02-11 14:49:22.995432: I tensorflow/stream_executor/platform/default/dso_loader.cc:54] Successfully opened dynamic library libcuda.so.1\n",
      "2022-02-11 14:49:23.042663: I tensorflow/core/common_runtime/gpu/gpu_device.cc:1734] Found device 0 with properties: \n",
      "pciBusID: 0000:21:00.0 name: NVIDIA GeForce RTX 2080 Ti computeCapability: 7.5\n",
      "coreClock: 1.545GHz coreCount: 68 deviceMemorySize: 10.76GiB deviceMemoryBandwidth: 573.69GiB/s\n",
      "2022-02-11 14:49:23.042719: I tensorflow/stream_executor/platform/default/dso_loader.cc:54] Successfully opened dynamic library libcudart.so.11.0\n",
      "2022-02-11 14:49:23.046826: I tensorflow/stream_executor/platform/default/dso_loader.cc:54] Successfully opened dynamic library libcublas.so.11\n",
      "2022-02-11 14:49:23.046898: I tensorflow/stream_executor/platform/default/dso_loader.cc:54] Successfully opened dynamic library libcublasLt.so.11\n",
      "2022-02-11 14:49:23.048871: I tensorflow/stream_executor/platform/default/dso_loader.cc:54] Successfully opened dynamic library libcufft.so.10\n",
      "2022-02-11 14:49:23.049217: I tensorflow/stream_executor/platform/default/dso_loader.cc:54] Successfully opened dynamic library libcurand.so.10\n",
      "2022-02-11 14:49:23.049989: I tensorflow/stream_executor/platform/default/dso_loader.cc:54] Successfully opened dynamic library libcutensor.so.1\n",
      "2022-02-11 14:49:23.050470: I tensorflow/stream_executor/platform/default/dso_loader.cc:54] Successfully opened dynamic library libcusolver.so.11\n",
      "2022-02-11 14:49:23.051191: I tensorflow/stream_executor/platform/default/dso_loader.cc:54] Successfully opened dynamic library libcusparse.so.11\n",
      "2022-02-11 14:49:23.051332: I tensorflow/stream_executor/platform/default/dso_loader.cc:54] Successfully opened dynamic library libcudnn.so.8\n",
      "2022-02-11 14:49:23.051687: I tensorflow/core/common_runtime/gpu/gpu_device.cc:1872] Adding visible gpu devices: 0\n"
     ]
    }
   ],
   "source": [
    "import h5py\n",
    "import numpy as np\n",
    "\n",
    "from sklearn.model_selection import train_test_split\n",
    "from sklearn.metrics import classification_report, confusion_matrix\n",
    "import matplotlib.pyplot as plt\n",
    "import itertools \n",
    "import pyts\n",
    "from pyts.approximation import PiecewiseAggregateApproximation\n",
    "\n",
    "from sklearn.utils import class_weight\n",
    "\n",
    "import pathlib\n",
    "import tensorflow as tf\n",
    "from tensorflow import keras\n",
    "from tensorflow.keras import layers, optimizers\n",
    "from tensorflow.keras.layers import Convolution2D,Conv2D, Dense,Dropout, Flatten, Activation, MaxPooling2D, Input, Conv1D, GlobalAveragePooling1D, TimeDistributed, GRU, LSTM\n",
    "\n",
    "print(tf.__version__)\n",
    "print(\"Num GPUs Available: \", len(tf.config.list_physical_devices('GPU')))\n",
    "gpus = tf.config.experimental.list_physical_devices('GPU')\n",
    "\n",
    "try:\n",
    "    for gpu in gpus:\n",
    "        tf.config.experimental.set_memory_growth(gpu, True)\n",
    "except RuntimeError as e:\n",
    "    print(e)"
   ]
  },
  {
   "cell_type": "code",
   "execution_count": 2,
   "metadata": {
    "execution": {
     "iopub.execute_input": "2022-02-11T14:49:23.067219Z",
     "iopub.status.busy": "2022-02-11T14:49:23.066041Z",
     "iopub.status.idle": "2022-02-11T14:49:23.070853Z",
     "shell.execute_reply": "2022-02-11T14:49:23.069950Z"
    }
   },
   "outputs": [
    {
     "name": "stdout",
     "output_type": "stream",
     "text": [
      "iawe_gen_GASF_60m_300S0X_R82_80-20\n"
     ]
    }
   ],
   "source": [
    "from os import environ\n",
    "dataset = environ['dataset']\n",
    "print(dataset)"
   ]
  },
  {
   "cell_type": "code",
   "execution_count": 3,
   "metadata": {
    "execution": {
     "iopub.execute_input": "2022-02-11T14:49:23.077237Z",
     "iopub.status.busy": "2022-02-11T14:49:23.076196Z",
     "iopub.status.idle": "2022-02-11T14:49:23.080579Z",
     "shell.execute_reply": "2022-02-11T14:49:23.081515Z"
    }
   },
   "outputs": [],
   "source": [
    "#my defs \n",
    "from modules.models import  LSTM_3D_V56, CNN_V56,LSTM_BI_V56\n",
    "from modules.tools import my_print, plot_confusion_matrix_norm, get_data,get_data_split, evaluate_model, create_tl_model\n",
    "from modules.HDF5ImageGenerator import HDF5ImageGenerator"
   ]
  },
  {
   "cell_type": "code",
   "execution_count": 4,
   "metadata": {
    "execution": {
     "iopub.execute_input": "2022-02-11T14:49:23.091157Z",
     "iopub.status.busy": "2022-02-11T14:49:23.089955Z",
     "iopub.status.idle": "2022-02-11T14:49:23.092629Z",
     "shell.execute_reply": "2022-02-11T14:49:23.093598Z"
    },
    "id": "RT1vwq7-KOtB"
   },
   "outputs": [],
   "source": [
    "#LOAD DATASET\n",
    "#file_name = \"ukdale_gen_GASF_13m_100S5X12A54480\"\n",
    "#file_name = \"refit_gen_GASF_13m_100S5X_15A166006\"\n",
    "file_name = \"refit_gen_GASF_13m_100S5X_15A166006_R42-80-20\"\n",
    "#file_name = \"refit_gen_GASF_13m_100S5X_15A166006_R42_80-20\"\n",
    "file_name = \"refit_gen_GASF_60m_300S0X_15A157030N_R12_80-20-V1\"\n",
    "file_name = environ[\"dataset\"]\n",
    "#read the file\n",
    "path = str(pathlib.Path().resolve())\n",
    "\n",
    "path_data = f\"{path}\"\"/data/\"f\"{file_name}\"\"/\"f\"{file_name}\"\".hdf5\"\n",
    "\n",
    "file = h5py.File(path_data,\"r+\")"
   ]
  },
  {
   "cell_type": "code",
   "execution_count": 5,
   "metadata": {
    "execution": {
     "iopub.execute_input": "2022-02-11T14:49:23.101154Z",
     "iopub.status.busy": "2022-02-11T14:49:23.099953Z",
     "iopub.status.idle": "2022-02-11T14:49:23.218899Z",
     "shell.execute_reply": "2022-02-11T14:49:23.219870Z"
    },
    "scrolled": true
   },
   "outputs": [
    {
     "name": "stdout",
     "output_type": "stream",
     "text": [
      "['air conditioner', 'computer', 'fridge', 'television']\n",
      "{0: 4.76595744680851, 1: 0.8265682656826568, 2: 0.43118383060635224, 3: 3.8290598290598292}\n",
      " \n",
      "Tests \n",
      "air conditioner test: 23 train: 94\n",
      "computer test: 136 train: 542\n",
      "fridge test: 260 train: 1039\n",
      "television test: 30 train: 117\n"
     ]
    }
   ],
   "source": [
    "x_test,y_test,d_class_weights,num_of_classes,appliances = get_data(file)"
   ]
  },
  {
   "cell_type": "code",
   "execution_count": 6,
   "metadata": {
    "execution": {
     "iopub.execute_input": "2022-02-11T14:49:23.227345Z",
     "iopub.status.busy": "2022-02-11T14:49:23.226161Z",
     "iopub.status.idle": "2022-02-11T14:49:23.228623Z",
     "shell.execute_reply": "2022-02-11T14:49:23.229586Z"
    }
   },
   "outputs": [],
   "source": [
    "def select_model(learn_type):\n",
    "    \n",
    "    if learn_type == \"CNN\":\n",
    "        model = CNN_V56(file[\"data/train/gaf\"][0:10],num_of_classes,lr= 0.00002)\n",
    "\n",
    "    if learn_type == \"LSTM\":\n",
    "        model = LSTM_3D_V56(file[\"data/train/gaf\"][0:10],num_of_classes,lr= 0.00002)\n",
    "\n",
    "    if learn_type == \"BI_LSTM\":\n",
    "        model = LSTM_BI_V56(file[\"data/train/gaf\"][0:10],num_of_classes,lr= 0.00002)\n",
    "\n",
    "    return model\n",
    "              "
   ]
  },
  {
   "cell_type": "code",
   "execution_count": 7,
   "metadata": {
    "execution": {
     "iopub.execute_input": "2022-02-11T14:49:23.236959Z",
     "iopub.status.busy": "2022-02-11T14:49:23.235744Z",
     "iopub.status.idle": "2022-02-11T14:49:23.238221Z",
     "shell.execute_reply": "2022-02-11T14:49:23.239179Z"
    }
   },
   "outputs": [],
   "source": [
    "path_save = path+'/experiment_automation/output/'+environ['learn_type']+'/'+dataset.split(\"_\")[0]+\"/\"+environ['train_type']+\"/\"+dataset.split(\"_\")[0]+\"_\"+environ['seed']+\"_\"+environ['tl_datasets']\n",
    "path_save_nb = path_save+\"_out.ipynb\"\n",
    "path_save_log = path_save+\"_out_log2.txt\""
   ]
  },
  {
   "cell_type": "code",
   "execution_count": 8,
   "metadata": {
    "execution": {
     "iopub.execute_input": "2022-02-11T14:49:23.247462Z",
     "iopub.status.busy": "2022-02-11T14:49:23.246254Z",
     "iopub.status.idle": "2022-02-11T14:49:23.330593Z",
     "shell.execute_reply": "2022-02-11T14:49:23.329511Z"
    }
   },
   "outputs": [],
   "source": [
    "from keras.callbacks import LambdaCallback\n",
    "#path_log= path+'/experiment_automation/output/'+environ['learn_type']+'/'+dataset.split(\"_\")[0]+\"/\"+environ['train_type']+\"/\"+dataset.split(\"_\")[0]+\"_\"+environ['seed']+\"_\"+environ['tl_datasets']+\"_log.txt\"\n",
    "txt_log = open(path_save+\"_log.txt\", mode='wt', buffering=1)\n",
    "txt_log.write(\"file created! \\n\")\n",
    "\n",
    "save_op_callback = LambdaCallback(\n",
    "  on_epoch_end = lambda epoch, logs: txt_log.write(\n",
    "    str({'epoch': epoch, 'loss': logs['loss'],'acc': logs['accuracy']}) + '\\n'),\n",
    "                                                           \n",
    ")"
   ]
  },
  {
   "cell_type": "code",
   "execution_count": 9,
   "metadata": {
    "execution": {
     "iopub.execute_input": "2022-02-11T14:49:23.335877Z",
     "iopub.status.busy": "2022-02-11T14:49:23.334711Z",
     "iopub.status.idle": "2022-02-11T14:49:23.338656Z",
     "shell.execute_reply": "2022-02-11T14:49:23.339623Z"
    }
   },
   "outputs": [
    {
     "name": "stdout",
     "output_type": "stream",
     "text": [
      "/workspace/notebooks/experiment_automation/output/CNN/iawe/BB/iawe_82__out.ipynb\n"
     ]
    }
   ],
   "source": [
    "print(path_save_nb)"
   ]
  },
  {
   "cell_type": "code",
   "execution_count": 10,
   "metadata": {
    "execution": {
     "iopub.execute_input": "2022-02-11T14:49:23.346168Z",
     "iopub.status.busy": "2022-02-11T14:49:23.345087Z",
     "iopub.status.idle": "2022-02-11T14:49:23.349755Z",
     "shell.execute_reply": "2022-02-11T14:49:23.348628Z"
    }
   },
   "outputs": [],
   "source": [
    "# rm $path_save_log"
   ]
  },
  {
   "cell_type": "code",
   "execution_count": 11,
   "metadata": {
    "execution": {
     "iopub.execute_input": "2022-02-11T14:49:23.356493Z",
     "iopub.status.busy": "2022-02-11T14:49:23.355209Z",
     "iopub.status.idle": "2022-02-11T14:49:23.358439Z",
     "shell.execute_reply": "2022-02-11T14:49:23.359475Z"
    }
   },
   "outputs": [],
   "source": [
    "# %%capture cap \n",
    "\n",
    "# with open(path_save_log,\"wt\") as f:\n",
    "#     f.write(cap.stdout)\n",
    "    \n",
    "# print(\"out capture..\")"
   ]
  },
  {
   "cell_type": "code",
   "execution_count": 12,
   "metadata": {
    "execution": {
     "iopub.execute_input": "2022-02-11T14:49:23.377730Z",
     "iopub.status.busy": "2022-02-11T14:49:23.368829Z",
     "iopub.status.idle": "2022-02-11T14:55:17.214207Z",
     "shell.execute_reply": "2022-02-11T14:55:17.215203Z"
    },
    "id": "vqA9NwOqKrb5",
    "jupyter": {
     "outputs_hidden": true
    },
    "tags": []
   },
   "outputs": [
    {
     "name": "stdout",
     "output_type": "stream",
     "text": [
      "Normal way\n",
      "[0 1 2 3 4 5 6 7 8 9]\n",
      "WARNING:tensorflow:From /usr/local/lib/python3.8/dist-packages/tensorflow/python/ops/array_ops.py:5043: calling gather (from tensorflow.python.ops.array_ops) with validate_indices is deprecated and will be removed in a future version.\n",
      "Instructions for updating:\n",
      "The `validate_indices` argument has no effect. Indices are always validated on CPU and never validated on GPU.\n"
     ]
    },
    {
     "name": "stderr",
     "output_type": "stream",
     "text": [
      "2022-02-11 14:49:23.400214: I tensorflow/core/common_runtime/gpu/gpu_device.cc:1734] Found device 0 with properties: \n",
      "pciBusID: 0000:21:00.0 name: NVIDIA GeForce RTX 2080 Ti computeCapability: 7.5\n",
      "coreClock: 1.545GHz coreCount: 68 deviceMemorySize: 10.76GiB deviceMemoryBandwidth: 573.69GiB/s\n",
      "2022-02-11 14:49:23.400757: I tensorflow/core/common_runtime/gpu/gpu_device.cc:1872] Adding visible gpu devices: 0\n",
      "2022-02-11 14:49:23.400835: I tensorflow/stream_executor/platform/default/dso_loader.cc:54] Successfully opened dynamic library libcudart.so.11.0\n",
      "2022-02-11 14:49:23.776545: I tensorflow/core/common_runtime/gpu/gpu_device.cc:1258] Device interconnect StreamExecutor with strength 1 edge matrix:\n",
      "2022-02-11 14:49:23.776582: I tensorflow/core/common_runtime/gpu/gpu_device.cc:1264]      0 \n",
      "2022-02-11 14:49:23.776589: I tensorflow/core/common_runtime/gpu/gpu_device.cc:1277] 0:   N \n",
      "2022-02-11 14:49:23.777147: I tensorflow/core/common_runtime/gpu/gpu_device.cc:1418] Created TensorFlow device (/job:localhost/replica:0/task:0/device:GPU:0 with 9649 MB memory) -> physical GPU (device: 0, name: NVIDIA GeForce RTX 2080 Ti, pci bus id: 0000:21:00.0, compute capability: 7.5)\n",
      "2022-02-11 14:49:23.777489: I tensorflow/core/common_runtime/process_util.cc:146] Creating new thread pool with default inter op setting: 20. Tune using inter_op_parallelism_threads for best performance.\n",
      "2022-02-11 14:49:23.892055: I tensorflow/compiler/mlir/mlir_graph_optimization_pass.cc:176] None of the MLIR Optimization Passes are enabled (registered 2)\n",
      "2022-02-11 14:49:23.892642: I tensorflow/core/platform/profile_utils/cpu_utils.cc:114] CPU Frequency: 3299990000 Hz\n"
     ]
    },
    {
     "name": "stdout",
     "output_type": "stream",
     "text": [
      "Epoch 1/50\n"
     ]
    },
    {
     "name": "stderr",
     "output_type": "stream",
     "text": [
      "2022-02-11 14:49:24.504206: I tensorflow/stream_executor/platform/default/dso_loader.cc:54] Successfully opened dynamic library libcudnn.so.8\n",
      "2022-02-11 14:49:25.021960: I tensorflow/stream_executor/cuda/cuda_dnn.cc:380] Loaded cuDNN version 8202\n",
      "2022-02-11 14:49:25.491681: I tensorflow/stream_executor/platform/default/dso_loader.cc:54] Successfully opened dynamic library libcublas.so.11\n",
      "2022-02-11 14:49:25.900351: I tensorflow/stream_executor/platform/default/dso_loader.cc:54] Successfully opened dynamic library libcublasLt.so.11\n"
     ]
    },
    {
     "name": "stdout",
     "output_type": "stream",
     "text": [
      "56/56 - 9s - loss: 4.0449 - accuracy: 0.0921\n",
      "Epoch 2/50\n",
      "56/56 - 7s - loss: 1.3770 - accuracy: 0.1021\n",
      "Epoch 3/50\n",
      "56/56 - 7s - loss: 1.3745 - accuracy: 0.1099\n",
      "Epoch 4/50\n",
      "56/56 - 7s - loss: 1.2685 - accuracy: 0.1032\n",
      "Epoch 5/50\n",
      "56/56 - 7s - loss: 1.1623 - accuracy: 0.1390\n",
      "Epoch 6/50\n",
      "56/56 - 7s - loss: 1.2210 - accuracy: 0.1702\n",
      "Epoch 7/50\n",
      "56/56 - 7s - loss: 1.1399 - accuracy: 0.1395\n",
      "Epoch 8/50\n",
      "56/56 - 7s - loss: 1.1011 - accuracy: 0.1892\n",
      "Epoch 9/50\n",
      "56/56 - 7s - loss: 1.1141 - accuracy: 0.1741\n",
      "Epoch 10/50\n",
      "56/56 - 7s - loss: 1.1056 - accuracy: 0.1814\n",
      "Epoch 11/50\n",
      "56/56 - 7s - loss: 1.0835 - accuracy: 0.2974\n",
      "Epoch 12/50\n",
      "56/56 - 7s - loss: 1.0690 - accuracy: 0.3309\n",
      "Epoch 13/50\n",
      "56/56 - 7s - loss: 1.0825 - accuracy: 0.2121\n",
      "Epoch 14/50\n",
      "56/56 - 7s - loss: 1.0485 - accuracy: 0.3242\n",
      "Epoch 15/50\n",
      "56/56 - 7s - loss: 1.0275 - accuracy: 0.4135\n",
      "Epoch 16/50\n",
      "56/56 - 7s - loss: 1.0022 - accuracy: 0.4794\n",
      "Epoch 17/50\n",
      "56/56 - 7s - loss: 1.0068 - accuracy: 0.3845\n",
      "Epoch 18/50\n",
      "56/56 - 7s - loss: 1.0062 - accuracy: 0.4877\n",
      "Epoch 19/50\n",
      "56/56 - 7s - loss: 0.9910 - accuracy: 0.4933\n",
      "Epoch 20/50\n",
      "56/56 - 7s - loss: 0.9718 - accuracy: 0.5145\n",
      "Epoch 21/50\n",
      "56/56 - 7s - loss: 0.9878 - accuracy: 0.4554\n",
      "Epoch 22/50\n",
      "56/56 - 7s - loss: 0.9833 - accuracy: 0.5586\n",
      "Epoch 23/50\n",
      "56/56 - 7s - loss: 0.9436 - accuracy: 0.5491\n",
      "Epoch 24/50\n",
      "56/56 - 7s - loss: 0.9102 - accuracy: 0.6004\n",
      "Epoch 25/50\n",
      "56/56 - 7s - loss: 0.9111 - accuracy: 0.6010\n",
      "Epoch 26/50\n",
      "56/56 - 7s - loss: 0.9298 - accuracy: 0.5865\n",
      "Epoch 27/50\n",
      "56/56 - 7s - loss: 0.8703 - accuracy: 0.6283\n",
      "Epoch 28/50\n",
      "56/56 - 7s - loss: 0.9720 - accuracy: 0.5965\n",
      "Epoch 29/50\n",
      "56/56 - 7s - loss: 0.8601 - accuracy: 0.6602\n",
      "Epoch 30/50\n",
      "56/56 - 7s - loss: 0.8928 - accuracy: 0.5982\n",
      "Epoch 31/50\n",
      "56/56 - 7s - loss: 0.8003 - accuracy: 0.7109\n",
      "Epoch 32/50\n",
      "56/56 - 7s - loss: 0.8352 - accuracy: 0.7132\n",
      "Epoch 33/50\n",
      "56/56 - 7s - loss: 0.7911 - accuracy: 0.7723\n",
      "Epoch 34/50\n",
      "56/56 - 7s - loss: 0.8280 - accuracy: 0.6819\n",
      "Epoch 35/50\n",
      "56/56 - 7s - loss: 0.7653 - accuracy: 0.7338\n",
      "Epoch 36/50\n",
      "56/56 - 7s - loss: 0.7591 - accuracy: 0.7054\n",
      "Epoch 37/50\n",
      "56/56 - 7s - loss: 0.7103 - accuracy: 0.7662\n",
      "Epoch 38/50\n",
      "56/56 - 7s - loss: 0.6937 - accuracy: 0.7472\n",
      "Epoch 39/50\n",
      "56/56 - 7s - loss: 0.6985 - accuracy: 0.7679\n",
      "Epoch 40/50\n",
      "56/56 - 7s - loss: 0.6499 - accuracy: 0.8147\n",
      "Epoch 41/50\n",
      "56/56 - 7s - loss: 0.6345 - accuracy: 0.8114\n",
      "Epoch 42/50\n",
      "56/56 - 7s - loss: 0.6178 - accuracy: 0.8225\n",
      "Epoch 43/50\n",
      "56/56 - 7s - loss: 0.5904 - accuracy: 0.8203\n",
      "Epoch 44/50\n",
      "56/56 - 7s - loss: 0.6038 - accuracy: 0.8175\n",
      "Epoch 45/50\n",
      "56/56 - 7s - loss: 0.5933 - accuracy: 0.8281\n",
      "Epoch 46/50\n",
      "56/56 - 7s - loss: 0.5307 - accuracy: 0.8493\n",
      "Epoch 47/50\n",
      "56/56 - 7s - loss: 0.5159 - accuracy: 0.8538\n",
      "Epoch 48/50\n",
      "56/56 - 7s - loss: 0.6027 - accuracy: 0.8181\n",
      "Epoch 49/50\n",
      "56/56 - 7s - loss: 0.5715 - accuracy: 0.7958\n",
      "Epoch 50/50\n",
      "56/56 - 7s - loss: 0.4858 - accuracy: 0.8666\n",
      "15/15 - 1s\n",
      "Normalized confusion matrix\n",
      "                 precision    recall  f1-score   support\n",
      "\n",
      "air conditioner       0.83      0.87      0.85        23\n",
      "       computer       0.85      0.88      0.86       136\n",
      "         fridge       0.95      0.67      0.79       260\n",
      "     television       0.25      0.83      0.39        30\n",
      "\n",
      "       accuracy                           0.76       449\n",
      "      macro avg       0.72      0.81      0.72       449\n",
      "   weighted avg       0.87      0.76      0.79       449\n",
      "\n"
     ]
    },
    {
     "name": "stderr",
     "output_type": "stream",
     "text": [
      "2022-02-11 14:55:16.331428: W tensorflow/python/util/util.cc:348] Sets are not currently considered sequences, but this may change in the future, so consider avoiding using them.\n"
     ]
    },
    {
     "name": "stdout",
     "output_type": "stream",
     "text": [
      "INFO:tensorflow:Assets written to: /workspace/notebooks/models/CNN/iawe_82/assets\n"
     ]
    },
    {
     "data": {
      "image/png": "[encoded data removed]",
      "text/plain": [
       "<Figure size 720x720 with 2 Axes>"
      ]
     },
     "metadata": {
      "needs_background": "light"
     },
     "output_type": "display_data"
    }
   ],
   "source": [
    "# %%capture cap --no-stderr\n",
    "\n",
    "\n",
    "if environ['train_type'] == \"BB\":\n",
    "\n",
    "    #define generator\n",
    "    train_gen = HDF5ImageGenerator(\n",
    "        src= path_data,\n",
    "        X_key=\"data/train/gaf\",\n",
    "        y_key=\"labels/train/gaf\",\n",
    "        classes_key=\"appliances/classes\",\n",
    "        labels_encoding=\"hot\",\n",
    "        shuffle=True,\n",
    "        batch_size=int(environ['batch_size']),\n",
    "        num_classes=num_of_classes,\n",
    "        mode=\"train\",\n",
    "        )\n",
    "    \n",
    "    model = select_model(environ['learn_type'])\n",
    "    \n",
    "    txt_log.write(\"fitting BB model: \\n\")\n",
    "    \n",
    "    model.fit(\n",
    "        train_gen,\n",
    "        verbose=2,\n",
    "        epochs=int(environ['epochs']),\n",
    "        class_weight=d_class_weights,\n",
    "        callbacks = [save_op_callback],\n",
    "    )\n",
    "    \n",
    "    txt_log.write(\"finished fitting BB model: \\n\")\n",
    "\n",
    "    evaluate_model(model,x_test,y_test,appliances)\n",
    "    \n",
    "    if environ['save_model']==\"True\":\n",
    "\n",
    "        path_model_save = path+\"/models/\"+environ['learn_type']+\"/\"+dataset.split(\"_\")[0]+\"_\"+dataset.split(\"_R\")[1][0:2]\n",
    "        model.save(path_model_save)\n",
    "        txt_log.write(\"model saved to:\"+\"/models/\"+environ['learn_type']+\"/\"+dataset.split(\"_\")[0]+\"_\"+dataset.split(\"_R\")[1][0:2]+\" \\n\")\n",
    "        \n",
    "        \n",
    "# with open(path_save+\"_out_log.txt\" as f:\n",
    "#     f.write(cap.stdout)\n"
   ]
  },
  {
   "cell_type": "code",
   "execution_count": 13,
   "metadata": {
    "collapsed": true,
    "execution": {
     "iopub.execute_input": "2022-02-11T14:55:17.220523Z",
     "iopub.status.busy": "2022-02-11T14:55:17.219325Z",
     "iopub.status.idle": "2022-02-11T14:55:17.221785Z",
     "shell.execute_reply": "2022-02-11T14:55:17.222754Z"
    }
   },
   "outputs": [],
   "source": [
    "#model = keras.models.load_model(path_model1)\n",
    "# model_used = model"
   ]
  },
  {
   "cell_type": "code",
   "execution_count": 14,
   "metadata": {
    "collapsed": true,
    "execution": {
     "iopub.execute_input": "2022-02-11T14:55:17.227710Z",
     "iopub.status.busy": "2022-02-11T14:55:17.226695Z",
     "iopub.status.idle": "2022-02-11T14:55:17.228825Z",
     "shell.execute_reply": "2022-02-11T14:55:17.229673Z"
    },
    "jupyter": {
     "outputs_hidden": true
    },
    "tags": []
   },
   "outputs": [],
   "source": [
    "# evaluate_model(model,x_test,y_test,appliances)"
   ]
  },
  {
   "cell_type": "code",
   "execution_count": 15,
   "metadata": {
    "collapsed": true,
    "execution": {
     "iopub.execute_input": "2022-02-11T14:55:17.246128Z",
     "iopub.status.busy": "2022-02-11T14:55:17.244807Z",
     "iopub.status.idle": "2022-02-11T14:55:17.247419Z",
     "shell.execute_reply": "2022-02-11T14:55:17.248408Z"
    }
   },
   "outputs": [],
   "source": [
    "# datasets =[\n",
    "#     \"ukdale_gen_GASF_13m_100S5X12A54480_R82_80-20\"\n",
    "# ]\n",
    "\n",
    "if environ['train_type'] == \"TL\": \n",
    "    models = environ['tl_datasets'].replace(\" \",\"\").split(\",\")\n",
    "    #model = [\"base\"]\n",
    "    \n",
    "    for model in models:\n",
    "    \n",
    "        file_name = dataset\n",
    "        \n",
    "        datasetTL = model\n",
    "        \n",
    "        seed = dataset.split(\"_R\")[1][0:2]\n",
    "        \n",
    "        print(\"using dataset data\",dataset.split(\"_\")[0],\"training on model\",model,\"seed\",environ['seed'])\n",
    "        txt_log.write(\"starting \"+dataset.split(\"_\")[0]+\" training on model \"+model+\" seed \"+environ['seed']+\"\\n\")\n",
    "\n",
    "\n",
    "        tf.keras.backend.clear_session()\n",
    "\n",
    "\n",
    "        #read the file\n",
    "        path = str(pathlib.Path().resolve())\n",
    "        path_data = f\"{path}\"\"/data/\"f\"{file_name}\"\"/\"f\"{file_name}\"\".hdf5\"\n",
    "        file = h5py.File(path_data,\"r+\")\n",
    "\n",
    "\n",
    "        print(\"reading data, printing stats: \")\n",
    "        x_test,y_test,d_class_weights,num_of_classes,appliances = get_data(file)\n",
    "        print(\"loading model\")\n",
    "        \n",
    "        model_seed = 42\n",
    "        model_used = create_tl_model(model,environ['learn_type'],model_seed,path,num_of_classes)\n",
    "                \n",
    "        train_gen = HDF5ImageGenerator(\n",
    "            src= path_data,\n",
    "            X_key=\"data/train/gaf\",\n",
    "            y_key=\"labels/train/gaf\",\n",
    "            classes_key=\"appliances/classes\",\n",
    "            labels_encoding=\"hot\",\n",
    "            shuffle=True,\n",
    "            batch_size=int(environ['batch_size']),\n",
    "            num_classes=num_of_classes,\n",
    "            mode=\"train\",\n",
    "            )\n",
    "\n",
    "        model_used.fit(\n",
    "            train_gen,\n",
    "            verbose=2,\n",
    "            epochs=int(environ['epochs']),\n",
    "            class_weight=d_class_weights,\n",
    "            callbacks = [save_op_callback]\n",
    "            #workers = 6,\n",
    "        )\n",
    "        \n",
    "        txt_log.write(\"finished \"+dataset.split(\"_\")[0]+\" training on model \"+model+\" seed \"+environ['seed']+\"\\n\")\n",
    "\n",
    "\n",
    "        evaluate_model(model_used,x_test,y_test,appliances)\n",
    "        \n",
    "\n",
    "\n",
    "\n",
    "        #del model_used\n",
    "\n"
   ]
  },
  {
   "cell_type": "code",
   "execution_count": 16,
   "metadata": {
    "execution": {
     "iopub.execute_input": "2022-02-11T14:55:17.253727Z",
     "iopub.status.busy": "2022-02-11T14:55:17.252553Z",
     "iopub.status.idle": "2022-02-11T14:55:17.254987Z",
     "shell.execute_reply": "2022-02-11T14:55:17.255951Z"
    }
   },
   "outputs": [],
   "source": [
    "txt_log.close()"
   ]
  },
  {
   "cell_type": "code",
   "execution_count": null,
   "metadata": {},
   "outputs": [],
   "source": []
  }
 ],
 "metadata": {
  "colab": {
   "authorship_tag": "ABX9TyMej4PvP65qsLng7TnQKWA4",
   "name": "LSTM-gen",
   "provenance": []
  },
  "kernelspec": {
   "display_name": "Python 3 (ipykernel)",
   "language": "python",
   "name": "python3"
  },
  "language_info": {
   "codemirror_mode": {
    "name": "ipython",
    "version": 3
   },
   "file_extension": ".py",
   "mimetype": "text/x-python",
   "name": "python",
   "nbconvert_exporter": "python",
   "pygments_lexer": "ipython3",
   "version": "3.8.10"
  }
 },
 "nbformat": 4,
 "nbformat_minor": 4
}
