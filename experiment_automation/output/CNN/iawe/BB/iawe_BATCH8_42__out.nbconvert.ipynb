{
 "cells": [
  {
   "cell_type": "code",
   "execution_count": 1,
   "metadata": {
    "execution": {
     "iopub.execute_input": "2022-02-02T19:22:47.836741Z",
     "iopub.status.busy": "2022-02-02T19:22:47.818318Z",
     "iopub.status.idle": "2022-02-02T19:22:49.555560Z",
     "shell.execute_reply": "2022-02-02T19:22:49.555897Z"
    },
    "id": "WqUfHWgtJxtu",
    "scrolled": true,
    "tags": []
   },
   "outputs": [
    {
     "name": "stderr",
     "output_type": "stream",
     "text": [
      "2022-02-02 19:22:48.692942: I tensorflow/stream_executor/platform/default/dso_loader.cc:54] Successfully opened dynamic library libcudart.so.11.0\n"
     ]
    },
    {
     "name": "stdout",
     "output_type": "stream",
     "text": [
      "2.5.0\n",
      "Num GPUs Available:  1\n"
     ]
    },
    {
     "name": "stderr",
     "output_type": "stream",
     "text": [
      "2022-02-02 19:22:49.493985: I tensorflow/stream_executor/platform/default/dso_loader.cc:54] Successfully opened dynamic library libcuda.so.1\n",
      "2022-02-02 19:22:49.539713: I tensorflow/core/common_runtime/gpu/gpu_device.cc:1734] Found device 0 with properties: \n",
      "pciBusID: 0000:21:00.0 name: NVIDIA GeForce RTX 2080 Ti computeCapability: 7.5\n",
      "coreClock: 1.545GHz coreCount: 68 deviceMemorySize: 10.76GiB deviceMemoryBandwidth: 573.69GiB/s\n",
      "2022-02-02 19:22:49.539767: I tensorflow/stream_executor/platform/default/dso_loader.cc:54] Successfully opened dynamic library libcudart.so.11.0\n",
      "2022-02-02 19:22:49.543966: I tensorflow/stream_executor/platform/default/dso_loader.cc:54] Successfully opened dynamic library libcublas.so.11\n",
      "2022-02-02 19:22:49.544031: I tensorflow/stream_executor/platform/default/dso_loader.cc:54] Successfully opened dynamic library libcublasLt.so.11\n",
      "2022-02-02 19:22:49.545999: I tensorflow/stream_executor/platform/default/dso_loader.cc:54] Successfully opened dynamic library libcufft.so.10\n",
      "2022-02-02 19:22:49.546328: I tensorflow/stream_executor/platform/default/dso_loader.cc:54] Successfully opened dynamic library libcurand.so.10\n",
      "2022-02-02 19:22:49.547044: I tensorflow/stream_executor/platform/default/dso_loader.cc:54] Successfully opened dynamic library libcutensor.so.1\n",
      "2022-02-02 19:22:49.547488: I tensorflow/stream_executor/platform/default/dso_loader.cc:54] Successfully opened dynamic library libcusolver.so.11\n",
      "2022-02-02 19:22:49.548178: I tensorflow/stream_executor/platform/default/dso_loader.cc:54] Successfully opened dynamic library libcusparse.so.11\n",
      "2022-02-02 19:22:49.548315: I tensorflow/stream_executor/platform/default/dso_loader.cc:54] Successfully opened dynamic library libcudnn.so.8\n",
      "2022-02-02 19:22:49.548688: I tensorflow/core/common_runtime/gpu/gpu_device.cc:1872] Adding visible gpu devices: 0\n"
     ]
    }
   ],
   "source": [
    "import h5py\n",
    "import numpy as np\n",
    "\n",
    "from sklearn.model_selection import train_test_split\n",
    "from sklearn.metrics import classification_report, confusion_matrix\n",
    "import matplotlib.pyplot as plt\n",
    "import itertools \n",
    "import pyts\n",
    "from pyts.approximation import PiecewiseAggregateApproximation\n",
    "\n",
    "from sklearn.utils import class_weight\n",
    "\n",
    "import pathlib\n",
    "import tensorflow as tf\n",
    "from tensorflow import keras\n",
    "from tensorflow.keras import layers, optimizers\n",
    "from tensorflow.keras.layers import Convolution2D,Conv2D, Dense,Dropout, Flatten, Activation, MaxPooling2D, Input, Conv1D, GlobalAveragePooling1D, TimeDistributed, GRU, LSTM\n",
    "\n",
    "print(tf.__version__)\n",
    "print(\"Num GPUs Available: \", len(tf.config.list_physical_devices('GPU')))\n",
    "gpus = tf.config.experimental.list_physical_devices('GPU')\n",
    "\n",
    "try:\n",
    "    for gpu in gpus:\n",
    "        tf.config.experimental.set_memory_growth(gpu, True)\n",
    "except RuntimeError as e:\n",
    "    print(e)"
   ]
  },
  {
   "cell_type": "code",
   "execution_count": 2,
   "metadata": {
    "execution": {
     "iopub.execute_input": "2022-02-02T19:22:49.561884Z",
     "iopub.status.busy": "2022-02-02T19:22:49.561472Z",
     "iopub.status.idle": "2022-02-02T19:22:49.565272Z",
     "shell.execute_reply": "2022-02-02T19:22:49.565599Z"
    }
   },
   "outputs": [
    {
     "name": "stdout",
     "output_type": "stream",
     "text": [
      "iawe_gen_GASF_60m_300S0X_R42_80-20\n"
     ]
    }
   ],
   "source": [
    "from os import environ\n",
    "dataset = environ['dataset']\n",
    "print(dataset)"
   ]
  },
  {
   "cell_type": "code",
   "execution_count": 3,
   "metadata": {
    "execution": {
     "iopub.execute_input": "2022-02-02T19:22:49.572679Z",
     "iopub.status.busy": "2022-02-02T19:22:49.572138Z",
     "iopub.status.idle": "2022-02-02T19:22:49.577768Z",
     "shell.execute_reply": "2022-02-02T19:22:49.578341Z"
    }
   },
   "outputs": [],
   "source": [
    "#my defs \n",
    "from modules.models import  LSTM_3D_V56, CNN_V56,LSTM_BI_V56\n",
    "from modules.tools import my_print, plot_confusion_matrix_norm, get_data,get_data_split, evaluate_model, create_tl_model\n",
    "from modules.HDF5ImageGenerator import HDF5ImageGenerator"
   ]
  },
  {
   "cell_type": "code",
   "execution_count": 4,
   "metadata": {
    "execution": {
     "iopub.execute_input": "2022-02-02T19:22:49.588788Z",
     "iopub.status.busy": "2022-02-02T19:22:49.587781Z",
     "iopub.status.idle": "2022-02-02T19:22:49.591829Z",
     "shell.execute_reply": "2022-02-02T19:22:49.591010Z"
    },
    "id": "RT1vwq7-KOtB"
   },
   "outputs": [],
   "source": [
    "#LOAD DATASET\n",
    "#file_name = \"ukdale_gen_GASF_13m_100S5X12A54480\"\n",
    "#file_name = \"refit_gen_GASF_13m_100S5X_15A166006\"\n",
    "file_name = \"refit_gen_GASF_13m_100S5X_15A166006_R42-80-20\"\n",
    "#file_name = \"refit_gen_GASF_13m_100S5X_15A166006_R42_80-20\"\n",
    "file_name = \"refit_gen_GASF_60m_300S0X_15A157030N_R12_80-20-V1\"\n",
    "file_name = environ[\"dataset\"]\n",
    "#read the file\n",
    "path = str(pathlib.Path().resolve())\n",
    "\n",
    "path_data = f\"{path}\"\"/data/\"f\"{file_name}\"\"/\"f\"{file_name}\"\".hdf5\"\n",
    "\n",
    "file = h5py.File(path_data,\"r+\")"
   ]
  },
  {
   "cell_type": "code",
   "execution_count": 5,
   "metadata": {
    "execution": {
     "iopub.execute_input": "2022-02-02T19:22:49.599750Z",
     "iopub.status.busy": "2022-02-02T19:22:49.598581Z",
     "iopub.status.idle": "2022-02-02T19:22:49.717460Z",
     "shell.execute_reply": "2022-02-02T19:22:49.718431Z"
    },
    "scrolled": true
   },
   "outputs": [
    {
     "name": "stdout",
     "output_type": "stream",
     "text": [
      "['air conditioner', 'computer', 'fridge', 'television']\n",
      "{0: 4.76595744680851, 1: 0.8265682656826568, 2: 0.43118383060635224, 3: 3.8290598290598292}\n",
      " \n",
      "Tests \n",
      "air conditioner test: 23 train: 94\n",
      "computer test: 136 train: 542\n",
      "fridge test: 260 train: 1039\n",
      "television test: 30 train: 117\n"
     ]
    }
   ],
   "source": [
    "x_test,y_test,d_class_weights,num_of_classes,appliances = get_data(file)"
   ]
  },
  {
   "cell_type": "code",
   "execution_count": 6,
   "metadata": {
    "execution": {
     "iopub.execute_input": "2022-02-02T19:22:49.725608Z",
     "iopub.status.busy": "2022-02-02T19:22:49.724351Z",
     "iopub.status.idle": "2022-02-02T19:22:49.727772Z",
     "shell.execute_reply": "2022-02-02T19:22:49.726782Z"
    }
   },
   "outputs": [],
   "source": [
    "def select_model(learn_type):\n",
    "    \n",
    "    if learn_type == \"CNN\":\n",
    "        model = CNN_V56(file[\"data/train/gaf\"][0:10],num_of_classes,lr= 0.00002)\n",
    "\n",
    "    if learn_type == \"LSTM\":\n",
    "        model = LSTM_3D_V56(file[\"data/train/gaf\"][0:10],num_of_classes,lr= 0.00002)\n",
    "\n",
    "    if learn_type == \"BI_LSTM\":\n",
    "        model = LSTM_BI_V56(file[\"data/train/gaf\"][0:10],num_of_classes,lr= 0.00002)\n",
    "\n",
    "    return model\n",
    "              "
   ]
  },
  {
   "cell_type": "code",
   "execution_count": 7,
   "metadata": {
    "execution": {
     "iopub.execute_input": "2022-02-02T19:22:49.734507Z",
     "iopub.status.busy": "2022-02-02T19:22:49.733333Z",
     "iopub.status.idle": "2022-02-02T19:22:49.735760Z",
     "shell.execute_reply": "2022-02-02T19:22:49.736735Z"
    }
   },
   "outputs": [],
   "source": [
    "path_save = path+'/experiment_automation/output/'+environ['learn_type']+'/'+dataset.split(\"_\")[0]+\"/\"+environ['train_type']+\"/\"+dataset.split(\"_\")[0]+\"_\"+environ['seed']+\"_\"+environ['tl_datasets']\n",
    "path_save_nb = path_save+\"_out.ipynb\"\n",
    "path_save_log = path_save+\"_out_log2.txt\""
   ]
  },
  {
   "cell_type": "code",
   "execution_count": 8,
   "metadata": {
    "execution": {
     "iopub.execute_input": "2022-02-02T19:22:49.744634Z",
     "iopub.status.busy": "2022-02-02T19:22:49.743512Z",
     "iopub.status.idle": "2022-02-02T19:22:49.828147Z",
     "shell.execute_reply": "2022-02-02T19:22:49.827109Z"
    }
   },
   "outputs": [],
   "source": [
    "from keras.callbacks import LambdaCallback\n",
    "#path_log= path+'/experiment_automation/output/'+environ['learn_type']+'/'+dataset.split(\"_\")[0]+\"/\"+environ['train_type']+\"/\"+dataset.split(\"_\")[0]+\"_\"+environ['seed']+\"_\"+environ['tl_datasets']+\"_log.txt\"\n",
    "txt_log = open(path_save+\"_log.txt\", mode='wt', buffering=1)\n",
    "txt_log.write(\"file created! \\n\")\n",
    "\n",
    "save_op_callback = LambdaCallback(\n",
    "  on_epoch_end = lambda epoch, logs: txt_log.write(\n",
    "    str({'epoch': epoch, 'loss': logs['loss'],'acc': logs['accuracy']}) + '\\n'),\n",
    "                                                           \n",
    ")"
   ]
  },
  {
   "cell_type": "code",
   "execution_count": 9,
   "metadata": {
    "execution": {
     "iopub.execute_input": "2022-02-02T19:22:49.833781Z",
     "iopub.status.busy": "2022-02-02T19:22:49.832616Z",
     "iopub.status.idle": "2022-02-02T19:22:49.837550Z",
     "shell.execute_reply": "2022-02-02T19:22:49.836518Z"
    }
   },
   "outputs": [
    {
     "name": "stdout",
     "output_type": "stream",
     "text": [
      "/workspace/notebooks/experiment_automation/output/CNN/iawe/BB/iawe_42__out.ipynb\n"
     ]
    }
   ],
   "source": [
    "print(path_save_nb)"
   ]
  },
  {
   "cell_type": "code",
   "execution_count": 10,
   "metadata": {
    "execution": {
     "iopub.execute_input": "2022-02-02T19:22:49.842445Z",
     "iopub.status.busy": "2022-02-02T19:22:49.841439Z",
     "iopub.status.idle": "2022-02-02T19:22:49.843522Z",
     "shell.execute_reply": "2022-02-02T19:22:49.844368Z"
    }
   },
   "outputs": [],
   "source": [
    "# rm $path_save_log"
   ]
  },
  {
   "cell_type": "code",
   "execution_count": 11,
   "metadata": {
    "execution": {
     "iopub.execute_input": "2022-02-02T19:22:49.849213Z",
     "iopub.status.busy": "2022-02-02T19:22:49.848198Z",
     "iopub.status.idle": "2022-02-02T19:22:49.850293Z",
     "shell.execute_reply": "2022-02-02T19:22:49.851133Z"
    }
   },
   "outputs": [],
   "source": [
    "# %%capture cap \n",
    "\n",
    "# with open(path_save_log,\"wt\") as f:\n",
    "#     f.write(cap.stdout)\n",
    "    \n",
    "# print(\"out capture..\")"
   ]
  },
  {
   "cell_type": "code",
   "execution_count": 12,
   "metadata": {
    "execution": {
     "iopub.execute_input": "2022-02-02T19:22:49.865215Z",
     "iopub.status.busy": "2022-02-02T19:22:49.863976Z",
     "iopub.status.idle": "2022-02-02T19:29:32.940146Z",
     "shell.execute_reply": "2022-02-02T19:29:32.940620Z"
    },
    "id": "vqA9NwOqKrb5",
    "jupyter": {
     "outputs_hidden": true
    },
    "tags": []
   },
   "outputs": [
    {
     "name": "stdout",
     "output_type": "stream",
     "text": [
      "Normal way\n",
      "[0 1 2 3 4 5 6 7 8 9]\n",
      "WARNING:tensorflow:From /usr/local/lib/python3.8/dist-packages/tensorflow/python/ops/array_ops.py:5043: calling gather (from tensorflow.python.ops.array_ops) with validate_indices is deprecated and will be removed in a future version.\n",
      "Instructions for updating:\n",
      "The `validate_indices` argument has no effect. Indices are always validated on CPU and never validated on GPU.\n"
     ]
    },
    {
     "name": "stderr",
     "output_type": "stream",
     "text": [
      "2022-02-02 19:22:49.878345: I tensorflow/core/common_runtime/gpu/gpu_device.cc:1734] Found device 0 with properties: \n",
      "pciBusID: 0000:21:00.0 name: NVIDIA GeForce RTX 2080 Ti computeCapability: 7.5\n",
      "coreClock: 1.545GHz coreCount: 68 deviceMemorySize: 10.76GiB deviceMemoryBandwidth: 573.69GiB/s\n",
      "2022-02-02 19:22:49.878747: I tensorflow/core/common_runtime/gpu/gpu_device.cc:1872] Adding visible gpu devices: 0\n",
      "2022-02-02 19:22:49.878797: I tensorflow/stream_executor/platform/default/dso_loader.cc:54] Successfully opened dynamic library libcudart.so.11.0\n",
      "2022-02-02 19:22:50.249538: I tensorflow/core/common_runtime/gpu/gpu_device.cc:1258] Device interconnect StreamExecutor with strength 1 edge matrix:\n",
      "2022-02-02 19:22:50.249574: I tensorflow/core/common_runtime/gpu/gpu_device.cc:1264]      0 \n",
      "2022-02-02 19:22:50.249581: I tensorflow/core/common_runtime/gpu/gpu_device.cc:1277] 0:   N \n",
      "2022-02-02 19:22:50.250128: I tensorflow/core/common_runtime/gpu/gpu_device.cc:1418] Created TensorFlow device (/job:localhost/replica:0/task:0/device:GPU:0 with 9649 MB memory) -> physical GPU (device: 0, name: NVIDIA GeForce RTX 2080 Ti, pci bus id: 0000:21:00.0, compute capability: 7.5)\n",
      "2022-02-02 19:22:50.250445: I tensorflow/core/common_runtime/process_util.cc:146] Creating new thread pool with default inter op setting: 20. Tune using inter_op_parallelism_threads for best performance.\n",
      "2022-02-02 19:22:50.357844: I tensorflow/compiler/mlir/mlir_graph_optimization_pass.cc:176] None of the MLIR Optimization Passes are enabled (registered 2)\n",
      "2022-02-02 19:22:50.358464: I tensorflow/core/platform/profile_utils/cpu_utils.cc:114] CPU Frequency: 3299990000 Hz\n"
     ]
    },
    {
     "name": "stdout",
     "output_type": "stream",
     "text": [
      "Epoch 1/50\n"
     ]
    },
    {
     "name": "stderr",
     "output_type": "stream",
     "text": [
      "2022-02-02 19:22:50.954478: I tensorflow/stream_executor/platform/default/dso_loader.cc:54] Successfully opened dynamic library libcudnn.so.8\n",
      "2022-02-02 19:22:51.410464: I tensorflow/stream_executor/cuda/cuda_dnn.cc:380] Loaded cuDNN version 8202\n",
      "2022-02-02 19:22:51.894729: I tensorflow/stream_executor/platform/default/dso_loader.cc:54] Successfully opened dynamic library libcublas.so.11\n",
      "2022-02-02 19:22:52.304901: I tensorflow/stream_executor/platform/default/dso_loader.cc:54] Successfully opened dynamic library libcublasLt.so.11\n"
     ]
    },
    {
     "name": "stdout",
     "output_type": "stream",
     "text": [
      "224/224 - 10s - loss: 2.1550 - accuracy: 0.0781\n",
      "Epoch 2/50\n",
      "224/224 - 8s - loss: 1.2384 - accuracy: 0.0564\n",
      "Epoch 3/50\n",
      "224/224 - 8s - loss: 1.1121 - accuracy: 0.1272\n",
      "Epoch 4/50\n",
      "224/224 - 8s - loss: 1.0987 - accuracy: 0.1406\n",
      "Epoch 5/50\n",
      "224/224 - 8s - loss: 1.0747 - accuracy: 0.1551\n",
      "Epoch 6/50\n",
      "224/224 - 8s - loss: 1.0658 - accuracy: 0.2093\n",
      "Epoch 7/50\n",
      "224/224 - 8s - loss: 1.0136 - accuracy: 0.5022\n",
      "Epoch 8/50\n",
      "224/224 - 8s - loss: 0.9212 - accuracy: 0.7003\n",
      "Epoch 9/50\n",
      "224/224 - 8s - loss: 0.8376 - accuracy: 0.7316\n",
      "Epoch 10/50\n",
      "224/224 - 8s - loss: 0.8452 - accuracy: 0.5943\n",
      "Epoch 11/50\n",
      "224/224 - 8s - loss: 0.7209 - accuracy: 0.7706\n",
      "Epoch 12/50\n",
      "224/224 - 8s - loss: 0.6733 - accuracy: 0.7199\n",
      "Epoch 13/50\n",
      "224/224 - 8s - loss: 0.6151 - accuracy: 0.8114\n",
      "Epoch 14/50\n",
      "224/224 - 8s - loss: 0.5581 - accuracy: 0.8326\n",
      "Epoch 15/50\n",
      "224/224 - 8s - loss: 0.5685 - accuracy: 0.6964\n",
      "Epoch 16/50\n",
      "224/224 - 8s - loss: 0.5156 - accuracy: 0.8114\n",
      "Epoch 17/50\n",
      "224/224 - 8s - loss: 0.5311 - accuracy: 0.8242\n",
      "Epoch 18/50\n",
      "224/224 - 8s - loss: 0.4720 - accuracy: 0.8376\n",
      "Epoch 19/50\n",
      "224/224 - 8s - loss: 0.4544 - accuracy: 0.8354\n",
      "Epoch 20/50\n",
      "224/224 - 8s - loss: 0.4385 - accuracy: 0.8415\n",
      "Epoch 21/50\n",
      "224/224 - 8s - loss: 0.4701 - accuracy: 0.8499\n",
      "Epoch 22/50\n",
      "224/224 - 8s - loss: 0.4263 - accuracy: 0.8488\n",
      "Epoch 23/50\n",
      "224/224 - 8s - loss: 0.3939 - accuracy: 0.8583\n",
      "Epoch 24/50\n",
      "224/224 - 8s - loss: 0.3787 - accuracy: 0.8588\n",
      "Epoch 25/50\n",
      "224/224 - 8s - loss: 0.3586 - accuracy: 0.8571\n",
      "Epoch 26/50\n",
      "224/224 - 8s - loss: 0.3468 - accuracy: 0.8650\n",
      "Epoch 27/50\n",
      "224/224 - 8s - loss: 0.3247 - accuracy: 0.8772\n",
      "Epoch 28/50\n",
      "224/224 - 8s - loss: 0.4291 - accuracy: 0.8488\n",
      "Epoch 29/50\n",
      "224/224 - 8s - loss: 0.3424 - accuracy: 0.8605\n",
      "Epoch 30/50\n",
      "224/224 - 8s - loss: 0.3120 - accuracy: 0.8806\n",
      "Epoch 31/50\n",
      "224/224 - 8s - loss: 0.3016 - accuracy: 0.8811\n",
      "Epoch 32/50\n",
      "224/224 - 8s - loss: 0.2841 - accuracy: 0.8878\n",
      "Epoch 33/50\n",
      "224/224 - 8s - loss: 0.2893 - accuracy: 0.8845\n",
      "Epoch 34/50\n",
      "224/224 - 8s - loss: 0.2723 - accuracy: 0.8979\n",
      "Epoch 35/50\n",
      "224/224 - 8s - loss: 0.2558 - accuracy: 0.9085\n",
      "Epoch 36/50\n",
      "224/224 - 8s - loss: 0.3862 - accuracy: 0.8058\n",
      "Epoch 37/50\n",
      "224/224 - 8s - loss: 0.3513 - accuracy: 0.8599\n",
      "Epoch 38/50\n",
      "224/224 - 8s - loss: 0.3193 - accuracy: 0.8862\n",
      "Epoch 39/50\n",
      "224/224 - 8s - loss: 0.2778 - accuracy: 0.8912\n",
      "Epoch 40/50\n",
      "224/224 - 8s - loss: 0.2569 - accuracy: 0.9018\n",
      "Epoch 41/50\n",
      "224/224 - 8s - loss: 0.2514 - accuracy: 0.9007\n",
      "Epoch 42/50\n",
      "224/224 - 8s - loss: 0.2334 - accuracy: 0.9113\n",
      "Epoch 43/50\n",
      "224/224 - 8s - loss: 0.2275 - accuracy: 0.9152\n",
      "Epoch 44/50\n",
      "224/224 - 8s - loss: 0.2228 - accuracy: 0.9163\n",
      "Epoch 45/50\n",
      "224/224 - 8s - loss: 0.2301 - accuracy: 0.9096\n",
      "Epoch 46/50\n",
      "224/224 - 8s - loss: 0.2220 - accuracy: 0.9152\n",
      "Epoch 47/50\n",
      "224/224 - 8s - loss: 0.2351 - accuracy: 0.9113\n",
      "Epoch 48/50\n",
      "224/224 - 8s - loss: 0.2808 - accuracy: 0.9001\n",
      "Epoch 49/50\n",
      "224/224 - 8s - loss: 0.2325 - accuracy: 0.9180\n",
      "Epoch 50/50\n",
      "224/224 - 8s - loss: 0.2348 - accuracy: 0.9196\n",
      "15/15 - 1s\n",
      "Normalized confusion matrix\n",
      "                 precision    recall  f1-score   support\n",
      "\n",
      "air conditioner       0.95      0.91      0.93        23\n",
      "       computer       0.83      0.93      0.88       136\n",
      "         fridge       0.95      0.87      0.91       260\n",
      "     television       0.65      0.80      0.72        30\n",
      "\n",
      "       accuracy                           0.88       449\n",
      "      macro avg       0.85      0.88      0.86       449\n",
      "   weighted avg       0.89      0.88      0.89       449\n",
      "\n"
     ]
    },
    {
     "name": "stderr",
     "output_type": "stream",
     "text": [
      "2022-02-02 19:29:32.064412: W tensorflow/python/util/util.cc:348] Sets are not currently considered sequences, but this may change in the future, so consider avoiding using them.\n"
     ]
    },
    {
     "name": "stdout",
     "output_type": "stream",
     "text": [
      "INFO:tensorflow:Assets written to: /workspace/notebooks/models/CNN/iawe_42/assets\n"
     ]
    },
    {
     "data": {
      "image/png": "[encoded data removed]",
      "text/plain": [
       "<Figure size 720x720 with 2 Axes>"
      ]
     },
     "metadata": {
      "needs_background": "light"
     },
     "output_type": "display_data"
    }
   ],
   "source": [
    "# %%capture cap --no-stderr\n",
    "\n",
    "\n",
    "if environ['train_type'] == \"BB\":\n",
    "\n",
    "    #define generator\n",
    "    train_gen = HDF5ImageGenerator(\n",
    "        src= path_data,\n",
    "        X_key=\"data/train/gaf\",\n",
    "        y_key=\"labels/train/gaf\",\n",
    "        classes_key=\"appliances/classes\",\n",
    "        labels_encoding=\"hot\",\n",
    "        shuffle=True,\n",
    "        batch_size=int(environ['batch_size']),\n",
    "        num_classes=num_of_classes,\n",
    "        mode=\"train\",\n",
    "        )\n",
    "    \n",
    "    model = select_model(environ['learn_type'])\n",
    "    \n",
    "    txt_log.write(\"fitting BB model: \\n\")\n",
    "    \n",
    "    model.fit(\n",
    "        train_gen,\n",
    "        verbose=2,\n",
    "        epochs=int(environ['epochs']),\n",
    "        class_weight=d_class_weights,\n",
    "        callbacks = [save_op_callback],\n",
    "    )\n",
    "    \n",
    "    txt_log.write(\"finished fitting BB model: \\n\")\n",
    "\n",
    "    evaluate_model(model,x_test,y_test,appliances)\n",
    "    \n",
    "    if environ['save_model']==\"True\":\n",
    "\n",
    "        path_model_save = path+\"/models/\"+environ['learn_type']+\"/\"+dataset.split(\"_\")[0]+\"_\"+dataset.split(\"_R\")[1][0:2]\n",
    "        model.save(path_model_save)\n",
    "        txt_log.write(\"model saved to:\"+\"/models/\"+environ['learn_type']+\"/\"+dataset.split(\"_\")[0]+\"_\"+dataset.split(\"_R\")[1][0:2]+\" \\n\")\n",
    "        \n",
    "        \n",
    "# with open(path_save+\"_out_log.txt\" as f:\n",
    "#     f.write(cap.stdout)\n"
   ]
  },
  {
   "cell_type": "code",
   "execution_count": 13,
   "metadata": {
    "collapsed": true,
    "execution": {
     "iopub.execute_input": "2022-02-02T19:29:32.945851Z",
     "iopub.status.busy": "2022-02-02T19:29:32.944458Z",
     "iopub.status.idle": "2022-02-02T19:29:32.948276Z",
     "shell.execute_reply": "2022-02-02T19:29:32.947157Z"
    }
   },
   "outputs": [],
   "source": [
    "#model = keras.models.load_model(path_model1)\n",
    "# model_used = model"
   ]
  },
  {
   "cell_type": "code",
   "execution_count": 14,
   "metadata": {
    "collapsed": true,
    "execution": {
     "iopub.execute_input": "2022-02-02T19:29:32.953813Z",
     "iopub.status.busy": "2022-02-02T19:29:32.952545Z",
     "iopub.status.idle": "2022-02-02T19:29:32.955181Z",
     "shell.execute_reply": "2022-02-02T19:29:32.956243Z"
    },
    "jupyter": {
     "outputs_hidden": true
    },
    "tags": []
   },
   "outputs": [],
   "source": [
    "# evaluate_model(model,x_test,y_test,appliances)"
   ]
  },
  {
   "cell_type": "code",
   "execution_count": 15,
   "metadata": {
    "collapsed": true,
    "execution": {
     "iopub.execute_input": "2022-02-02T19:29:32.972721Z",
     "iopub.status.busy": "2022-02-02T19:29:32.971745Z",
     "iopub.status.idle": "2022-02-02T19:29:32.973869Z",
     "shell.execute_reply": "2022-02-02T19:29:32.974399Z"
    }
   },
   "outputs": [],
   "source": [
    "# datasets =[\n",
    "#     \"ukdale_gen_GASF_13m_100S5X12A54480_R82_80-20\"\n",
    "# ]\n",
    "\n",
    "if environ['train_type'] == \"TL\": \n",
    "    models = environ['tl_datasets'].split(\",\")\n",
    "    #model = [\"base\"]\n",
    "    \n",
    "    for model in models:\n",
    "    \n",
    "        file_name = dataset\n",
    "        \n",
    "        datasetTL = model\n",
    "        \n",
    "        seed = dataset.split(\"_R\")[1][0:2]\n",
    "        \n",
    "        print(\"using dataset data\",dataset.split(\"_\")[0],\"training on model\",model,\"seed\",environ['seed'])\n",
    "        txt_log.write(\"starting \"+dataset.split(\"_\")[0]+\" training on model \"+model+\" seed \"+environ['seed']+\"\\n\")\n",
    "\n",
    "\n",
    "        tf.keras.backend.clear_session()\n",
    "\n",
    "\n",
    "        #read the file\n",
    "        path = str(pathlib.Path().resolve())\n",
    "        path_data = f\"{path}\"\"/data/\"f\"{file_name}\"\"/\"f\"{file_name}\"\".hdf5\"\n",
    "        file = h5py.File(path_data,\"r+\")\n",
    "\n",
    "\n",
    "        print(\"reading data, printing stats: \")\n",
    "        x_test,y_test,d_class_weights,num_of_classes,appliances = get_data(file)\n",
    "        print(\"loading model\")\n",
    "        \n",
    "        model_seed = 42\n",
    "        model_used = create_tl_model(model,environ['learn_type'],model_seed,path,num_of_classes)\n",
    "                \n",
    "        train_gen = HDF5ImageGenerator(\n",
    "            src= path_data,\n",
    "            X_key=\"data/train/gaf\",\n",
    "            y_key=\"labels/train/gaf\",\n",
    "            classes_key=\"appliances/classes\",\n",
    "            labels_encoding=\"hot\",\n",
    "            shuffle=True,\n",
    "            batch_size=int(environ['batch_size']),\n",
    "            num_classes=num_of_classes,\n",
    "            mode=\"train\",\n",
    "            )\n",
    "\n",
    "        model_used.fit(\n",
    "            train_gen,\n",
    "            verbose=2,\n",
    "            epochs=int(environ['epochs']),\n",
    "            class_weight=d_class_weights,\n",
    "            callbacks = [save_op_callback]\n",
    "            #workers = 6,\n",
    "        )\n",
    "        \n",
    "        txt_log.write(\"finished \"+dataset.split(\"_\")[0]+\" training on model \"+model+\" seed \"+environ['seed']+\"\\n\")\n",
    "\n",
    "\n",
    "        evaluate_model(model_used,x_test,y_test,appliances)\n",
    "        \n",
    "\n",
    "\n",
    "\n",
    "        #del model_used\n",
    "\n"
   ]
  },
  {
   "cell_type": "code",
   "execution_count": 16,
   "metadata": {
    "execution": {
     "iopub.execute_input": "2022-02-02T19:29:32.980133Z",
     "iopub.status.busy": "2022-02-02T19:29:32.979547Z",
     "iopub.status.idle": "2022-02-02T19:29:32.982618Z",
     "shell.execute_reply": "2022-02-02T19:29:32.983079Z"
    }
   },
   "outputs": [],
   "source": [
    "txt_log.close()"
   ]
  },
  {
   "cell_type": "code",
   "execution_count": null,
   "metadata": {},
   "outputs": [],
   "source": []
  }
 ],
 "metadata": {
  "colab": {
   "authorship_tag": "ABX9TyMej4PvP65qsLng7TnQKWA4",
   "name": "LSTM-gen",
   "provenance": []
  },
  "kernelspec": {
   "display_name": "Python 3 (ipykernel)",
   "language": "python",
   "name": "python3"
  },
  "language_info": {
   "codemirror_mode": {
    "name": "ipython",
    "version": 3
   },
   "file_extension": ".py",
   "mimetype": "text/x-python",
   "name": "python",
   "nbconvert_exporter": "python",
   "pygments_lexer": "ipython3",
   "version": "3.8.10"
  }
 },
 "nbformat": 4,
 "nbformat_minor": 4
}
