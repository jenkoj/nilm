{
 "cells": [
  {
   "cell_type": "code",
   "execution_count": 1,
   "metadata": {
    "execution": {
     "iopub.execute_input": "2022-02-14T21:28:55.835558Z",
     "iopub.status.busy": "2022-02-14T21:28:55.834149Z",
     "iopub.status.idle": "2022-02-14T21:28:58.669007Z",
     "shell.execute_reply": "2022-02-14T21:28:58.668556Z"
    },
    "id": "WqUfHWgtJxtu",
    "scrolled": true,
    "tags": []
   },
   "outputs": [
    {
     "name": "stderr",
     "output_type": "stream",
     "text": [
      "2022-02-14 21:28:57.203628: I tensorflow/stream_executor/platform/default/dso_loader.cc:54] Successfully opened dynamic library libcudart.so.11.0\n"
     ]
    },
    {
     "name": "stdout",
     "output_type": "stream",
     "text": [
      "2.5.0\n",
      "Num GPUs Available:  1\n"
     ]
    },
    {
     "name": "stderr",
     "output_type": "stream",
     "text": [
      "2022-02-14 21:28:58.567683: I tensorflow/stream_executor/platform/default/dso_loader.cc:54] Successfully opened dynamic library libcuda.so.1\n",
      "2022-02-14 21:28:58.611697: I tensorflow/core/common_runtime/gpu/gpu_device.cc:1734] Found device 0 with properties: \n",
      "pciBusID: 0000:21:00.0 name: NVIDIA GeForce RTX 2080 Ti computeCapability: 7.5\n",
      "coreClock: 1.545GHz coreCount: 68 deviceMemorySize: 10.76GiB deviceMemoryBandwidth: 573.69GiB/s\n",
      "2022-02-14 21:28:58.611746: I tensorflow/stream_executor/platform/default/dso_loader.cc:54] Successfully opened dynamic library libcudart.so.11.0\n",
      "2022-02-14 21:28:58.629662: I tensorflow/stream_executor/platform/default/dso_loader.cc:54] Successfully opened dynamic library libcublas.so.11\n",
      "2022-02-14 21:28:58.629734: I tensorflow/stream_executor/platform/default/dso_loader.cc:54] Successfully opened dynamic library libcublasLt.so.11\n",
      "2022-02-14 21:28:58.635259: I tensorflow/stream_executor/platform/default/dso_loader.cc:54] Successfully opened dynamic library libcufft.so.10\n",
      "2022-02-14 21:28:58.637507: I tensorflow/stream_executor/platform/default/dso_loader.cc:54] Successfully opened dynamic library libcurand.so.10\n",
      "2022-02-14 21:28:58.654983: I tensorflow/stream_executor/platform/default/dso_loader.cc:54] Successfully opened dynamic library libcutensor.so.1\n",
      "2022-02-14 21:28:58.657318: I tensorflow/stream_executor/platform/default/dso_loader.cc:54] Successfully opened dynamic library libcusolver.so.11\n",
      "2022-02-14 21:28:58.661287: I tensorflow/stream_executor/platform/default/dso_loader.cc:54] Successfully opened dynamic library libcusparse.so.11\n",
      "2022-02-14 21:28:58.661793: I tensorflow/stream_executor/platform/default/dso_loader.cc:54] Successfully opened dynamic library libcudnn.so.8\n",
      "2022-02-14 21:28:58.662188: I tensorflow/core/common_runtime/gpu/gpu_device.cc:1872] Adding visible gpu devices: 0\n"
     ]
    }
   ],
   "source": [
    "import h5py\n",
    "import numpy as np\n",
    "\n",
    "from sklearn.model_selection import train_test_split\n",
    "from sklearn.metrics import classification_report, confusion_matrix\n",
    "import matplotlib.pyplot as plt\n",
    "import itertools \n",
    "import pyts\n",
    "from pyts.approximation import PiecewiseAggregateApproximation\n",
    "\n",
    "from sklearn.utils import class_weight\n",
    "\n",
    "import pathlib\n",
    "import tensorflow as tf\n",
    "from tensorflow import keras\n",
    "from tensorflow.keras import layers, optimizers\n",
    "from tensorflow.keras.layers import Convolution2D,Conv2D, Dense,Dropout, Flatten, Activation, MaxPooling2D, Input, Conv1D, GlobalAveragePooling1D, TimeDistributed, GRU, LSTM\n",
    "\n",
    "print(tf.__version__)\n",
    "print(\"Num GPUs Available: \", len(tf.config.list_physical_devices('GPU')))\n",
    "gpus = tf.config.experimental.list_physical_devices('GPU')\n",
    "\n",
    "try:\n",
    "    for gpu in gpus:\n",
    "        tf.config.experimental.set_memory_growth(gpu, True)\n",
    "except RuntimeError as e:\n",
    "    print(e)"
   ]
  },
  {
   "cell_type": "code",
   "execution_count": 2,
   "metadata": {
    "execution": {
     "iopub.execute_input": "2022-02-14T21:28:58.672764Z",
     "iopub.status.busy": "2022-02-14T21:28:58.672344Z",
     "iopub.status.idle": "2022-02-14T21:28:58.676179Z",
     "shell.execute_reply": "2022-02-14T21:28:58.676512Z"
    }
   },
   "outputs": [
    {
     "name": "stdout",
     "output_type": "stream",
     "text": [
      "eco_gen_GASF_60m_300S0X_2_R82_80-20\n"
     ]
    }
   ],
   "source": [
    "from os import environ\n",
    "dataset = environ['dataset']\n",
    "print(dataset)"
   ]
  },
  {
   "cell_type": "code",
   "execution_count": 3,
   "metadata": {
    "execution": {
     "iopub.execute_input": "2022-02-14T21:28:58.683311Z",
     "iopub.status.busy": "2022-02-14T21:28:58.682830Z",
     "iopub.status.idle": "2022-02-14T21:28:58.689765Z",
     "shell.execute_reply": "2022-02-14T21:28:58.689166Z"
    }
   },
   "outputs": [],
   "source": [
    "#my defs \n",
    "from modules.models import  LSTM_3D_V56, CNN_V56,LSTM_BI_V56\n",
    "from modules.tools import my_print, plot_confusion_matrix_norm, get_data,get_data_split, evaluate_model, create_tl_model\n",
    "from modules.HDF5ImageGenerator import HDF5ImageGenerator"
   ]
  },
  {
   "cell_type": "code",
   "execution_count": 4,
   "metadata": {
    "execution": {
     "iopub.execute_input": "2022-02-14T21:28:58.695904Z",
     "iopub.status.busy": "2022-02-14T21:28:58.695221Z",
     "iopub.status.idle": "2022-02-14T21:28:58.699306Z",
     "shell.execute_reply": "2022-02-14T21:28:58.699683Z"
    },
    "id": "RT1vwq7-KOtB"
   },
   "outputs": [],
   "source": [
    "#LOAD DATASET\n",
    "#file_name = \"ukdale_gen_GASF_13m_100S5X12A54480\"\n",
    "#file_name = \"refit_gen_GASF_13m_100S5X_15A166006\"\n",
    "file_name = \"refit_gen_GASF_13m_100S5X_15A166006_R42-80-20\"\n",
    "#file_name = \"refit_gen_GASF_13m_100S5X_15A166006_R42_80-20\"\n",
    "file_name = \"refit_gen_GASF_60m_300S0X_15A157030N_R12_80-20-V1\"\n",
    "file_name = environ[\"dataset\"]\n",
    "#read the file\n",
    "path = str(pathlib.Path().resolve())\n",
    "\n",
    "path_data = f\"{path}\"\"/data/\"f\"{file_name}\"\"/\"f\"{file_name}\"\".hdf5\"\n",
    "\n",
    "file = h5py.File(path_data,\"r+\")"
   ]
  },
  {
   "cell_type": "code",
   "execution_count": 5,
   "metadata": {
    "execution": {
     "iopub.execute_input": "2022-02-14T21:28:58.706515Z",
     "iopub.status.busy": "2022-02-14T21:28:58.705182Z",
     "iopub.status.idle": "2022-02-14T21:29:00.714317Z",
     "shell.execute_reply": "2022-02-14T21:29:00.714731Z"
    },
    "scrolled": true
   },
   "outputs": [
    {
     "name": "stdout",
     "output_type": "stream",
     "text": [
      "['HEKA', 'fridge/freezer', 'HTPC', 'audio system', 'broadband router', 'coffee maker', 'computer', 'lamp', 'laptop computer', 'microwave', 'washing machine']\n",
      "{0: 8.877756286266925, 1: 0.15678009523354078, 2: 0.6806762568589648, 3: 2.9301583248212464, 4: 3.202260517686458, 5: 4.176722176722177, 6: 1.1790182126435305, 7: 2.295129512951295, 8: 1.5334602920049447, 9: 8.934786840568425, 10: 10.103015628439357}\n",
      " \n",
      "Tests \n",
      "HEKA test: 117 train: 470\n",
      "fridge/freezer test: 6654 train: 26614\n",
      "HTPC test: 1533 train: 6130\n",
      "audio system test: 356 train: 1424\n",
      "broadband router test: 326 train: 1303\n",
      "coffee maker test: 249 train: 999\n",
      "computer test: 885 train: 3539\n",
      "lamp test: 455 train: 1818\n",
      "laptop computer test: 680 train: 2721\n",
      "microwave test: 117 train: 467\n",
      "washing machine test: 103 train: 413\n"
     ]
    }
   ],
   "source": [
    "x_test,y_test,d_class_weights,num_of_classes,appliances = get_data(file)"
   ]
  },
  {
   "cell_type": "code",
   "execution_count": 6,
   "metadata": {
    "execution": {
     "iopub.execute_input": "2022-02-14T21:29:00.722872Z",
     "iopub.status.busy": "2022-02-14T21:29:00.722160Z",
     "iopub.status.idle": "2022-02-14T21:29:00.724922Z",
     "shell.execute_reply": "2022-02-14T21:29:00.725480Z"
    }
   },
   "outputs": [],
   "source": [
    "def select_model(learn_type):\n",
    "    \n",
    "    if learn_type == \"CNN\":\n",
    "        model = CNN_V56(file[\"data/train/gaf\"][0:10],num_of_classes,lr= 0.00002)\n",
    "\n",
    "    if learn_type == \"LSTM\":\n",
    "        model = LSTM_3D_V56(file[\"data/train/gaf\"][0:10],num_of_classes,lr= 0.00002)\n",
    "\n",
    "    if learn_type == \"BI_LSTM\":\n",
    "        model = LSTM_BI_V56(file[\"data/train/gaf\"][0:10],num_of_classes,lr= 0.00002)\n",
    "\n",
    "    return model\n",
    "              "
   ]
  },
  {
   "cell_type": "code",
   "execution_count": 7,
   "metadata": {
    "execution": {
     "iopub.execute_input": "2022-02-14T21:29:00.732351Z",
     "iopub.status.busy": "2022-02-14T21:29:00.731458Z",
     "iopub.status.idle": "2022-02-14T21:29:00.734457Z",
     "shell.execute_reply": "2022-02-14T21:29:00.735216Z"
    }
   },
   "outputs": [],
   "source": [
    "path_save = path+'/experiment_automation/output/'+environ['learn_type']+'/'+dataset.split(\"_\")[0]+\"/\"+environ['train_type']+\"/\"+dataset.split(\"_\")[0]+\"_\"+environ['seed']+\"_\"+environ['tl_datasets']\n",
    "path_save_nb = path_save+\"_out.ipynb\"\n",
    "path_save_log = path_save+\"_out_log2.txt\""
   ]
  },
  {
   "cell_type": "code",
   "execution_count": 8,
   "metadata": {
    "execution": {
     "iopub.execute_input": "2022-02-14T21:29:00.744241Z",
     "iopub.status.busy": "2022-02-14T21:29:00.743012Z",
     "iopub.status.idle": "2022-02-14T21:29:00.858776Z",
     "shell.execute_reply": "2022-02-14T21:29:00.859832Z"
    }
   },
   "outputs": [],
   "source": [
    "from keras.callbacks import LambdaCallback\n",
    "#path_log= path+'/experiment_automation/output/'+environ['learn_type']+'/'+dataset.split(\"_\")[0]+\"/\"+environ['train_type']+\"/\"+dataset.split(\"_\")[0]+\"_\"+environ['seed']+\"_\"+environ['tl_datasets']+\"_log.txt\"\n",
    "txt_log = open(path_save+\"_log.txt\", mode='wt', buffering=1)\n",
    "txt_log.write(\"file created! \\n\")\n",
    "\n",
    "save_op_callback = LambdaCallback(\n",
    "  on_epoch_end = lambda epoch, logs: txt_log.write(\n",
    "    str({'epoch': epoch, 'loss': logs['loss'],'acc': logs['accuracy']}) + '\\n'),\n",
    "                                                           \n",
    ")"
   ]
  },
  {
   "cell_type": "code",
   "execution_count": 9,
   "metadata": {
    "execution": {
     "iopub.execute_input": "2022-02-14T21:29:00.867354Z",
     "iopub.status.busy": "2022-02-14T21:29:00.866078Z",
     "iopub.status.idle": "2022-02-14T21:29:00.870355Z",
     "shell.execute_reply": "2022-02-14T21:29:00.871394Z"
    }
   },
   "outputs": [
    {
     "name": "stdout",
     "output_type": "stream",
     "text": [
      "/workspace/notebooks/experiment_automation/output/CNN/eco/TL/eco_82_iawe,redd_out.ipynb\n"
     ]
    }
   ],
   "source": [
    "print(path_save_nb)"
   ]
  },
  {
   "cell_type": "code",
   "execution_count": 10,
   "metadata": {
    "execution": {
     "iopub.execute_input": "2022-02-14T21:29:00.878446Z",
     "iopub.status.busy": "2022-02-14T21:29:00.877290Z",
     "iopub.status.idle": "2022-02-14T21:29:00.879979Z",
     "shell.execute_reply": "2022-02-14T21:29:00.880957Z"
    }
   },
   "outputs": [],
   "source": [
    "# rm $path_save_log"
   ]
  },
  {
   "cell_type": "code",
   "execution_count": 11,
   "metadata": {
    "execution": {
     "iopub.execute_input": "2022-02-14T21:29:00.888380Z",
     "iopub.status.busy": "2022-02-14T21:29:00.887095Z",
     "iopub.status.idle": "2022-02-14T21:29:00.891028Z",
     "shell.execute_reply": "2022-02-14T21:29:00.889930Z"
    }
   },
   "outputs": [],
   "source": [
    "# %%capture cap \n",
    "\n",
    "# with open(path_save_log,\"wt\") as f:\n",
    "#     f.write(cap.stdout)\n",
    "    \n",
    "# print(\"out capture..\")"
   ]
  },
  {
   "cell_type": "code",
   "execution_count": 12,
   "metadata": {
    "execution": {
     "iopub.execute_input": "2022-02-14T21:29:00.909875Z",
     "iopub.status.busy": "2022-02-14T21:29:00.908544Z",
     "iopub.status.idle": "2022-02-14T21:29:00.911245Z",
     "shell.execute_reply": "2022-02-14T21:29:00.912358Z"
    },
    "id": "vqA9NwOqKrb5",
    "jupyter": {
     "outputs_hidden": true
    },
    "tags": []
   },
   "outputs": [],
   "source": [
    "# %%capture cap --no-stderr\n",
    "\n",
    "\n",
    "if environ['train_type'] == \"BB\":\n",
    "\n",
    "    #define generator\n",
    "    train_gen = HDF5ImageGenerator(\n",
    "        src= path_data,\n",
    "        X_key=\"data/train/gaf\",\n",
    "        y_key=\"labels/train/gaf\",\n",
    "        classes_key=\"appliances/classes\",\n",
    "        labels_encoding=\"hot\",\n",
    "        shuffle=True,\n",
    "        batch_size=int(environ['batch_size']),\n",
    "        num_classes=num_of_classes,\n",
    "        mode=\"train\",\n",
    "        )\n",
    "    \n",
    "    model = select_model(environ['learn_type'])\n",
    "    \n",
    "    txt_log.write(\"fitting BB model: \\n\")\n",
    "    \n",
    "    model.fit(\n",
    "        train_gen,\n",
    "        verbose=2,\n",
    "        epochs=int(environ['epochs']),\n",
    "        class_weight=d_class_weights,\n",
    "        callbacks = [save_op_callback],\n",
    "    )\n",
    "    \n",
    "    txt_log.write(\"finished fitting BB model: \\n\")\n",
    "\n",
    "    evaluate_model(model,x_test,y_test,appliances)\n",
    "    \n",
    "    if environ['save_model']==\"True\":\n",
    "\n",
    "        path_model_save = path+\"/models/\"+environ['learn_type']+\"/\"+dataset.split(\"_\")[0]+\"_\"+dataset.split(\"_R\")[1][0:2]\n",
    "        model.save(path_model_save)\n",
    "        txt_log.write(\"model saved to:\"+\"/models/\"+environ['learn_type']+\"/\"+dataset.split(\"_\")[0]+\"_\"+dataset.split(\"_R\")[1][0:2]+\" \\n\")\n",
    "        \n",
    "        \n",
    "# with open(path_save+\"_out_log.txt\" as f:\n",
    "#     f.write(cap.stdout)\n"
   ]
  },
  {
   "cell_type": "code",
   "execution_count": 13,
   "metadata": {
    "collapsed": true,
    "execution": {
     "iopub.execute_input": "2022-02-14T21:29:00.917927Z",
     "iopub.status.busy": "2022-02-14T21:29:00.917077Z",
     "iopub.status.idle": "2022-02-14T21:29:00.920551Z",
     "shell.execute_reply": "2022-02-14T21:29:00.921228Z"
    }
   },
   "outputs": [],
   "source": [
    "#model = keras.models.load_model(path_model1)\n",
    "# model_used = model"
   ]
  },
  {
   "cell_type": "code",
   "execution_count": 14,
   "metadata": {
    "collapsed": true,
    "execution": {
     "iopub.execute_input": "2022-02-14T21:29:00.928172Z",
     "iopub.status.busy": "2022-02-14T21:29:00.926985Z",
     "iopub.status.idle": "2022-02-14T21:29:00.929818Z",
     "shell.execute_reply": "2022-02-14T21:29:00.930791Z"
    },
    "jupyter": {
     "outputs_hidden": true
    },
    "tags": []
   },
   "outputs": [],
   "source": [
    "# evaluate_model(model,x_test,y_test,appliances)"
   ]
  },
  {
   "cell_type": "code",
   "execution_count": 15,
   "metadata": {
    "collapsed": true,
    "execution": {
     "iopub.execute_input": "2022-02-14T21:29:00.954149Z",
     "iopub.status.busy": "2022-02-14T21:29:00.940526Z",
     "iopub.status.idle": "2022-02-14T22:29:08.616849Z",
     "shell.execute_reply": "2022-02-14T22:29:08.617759Z"
    }
   },
   "outputs": [
    {
     "name": "stdout",
     "output_type": "stream",
     "text": [
      "using dataset data eco training on model iawe seed 82\n",
      "reading data, printing stats: \n",
      "['HEKA', 'fridge/freezer', 'HTPC', 'audio system', 'broadband router', 'coffee maker', 'computer', 'lamp', 'laptop computer', 'microwave', 'washing machine']\n",
      "{0: 8.877756286266925, 1: 0.15678009523354078, 2: 0.6806762568589648, 3: 2.9301583248212464, 4: 3.202260517686458, 5: 4.176722176722177, 6: 1.1790182126435305, 7: 2.295129512951295, 8: 1.5334602920049447, 9: 8.934786840568425, 10: 10.103015628439357}\n",
      " \n",
      "Tests \n",
      "HEKA test: 117 train: 470\n",
      "fridge/freezer test: 6654 train: 26614\n",
      "HTPC test: 1533 train: 6130\n",
      "audio system test: 356 train: 1424\n",
      "broadband router test: 326 train: 1303\n",
      "coffee maker test: 249 train: 999\n",
      "computer test: 885 train: 3539\n",
      "lamp test: 455 train: 1818\n",
      "laptop computer test: 680 train: 2721\n",
      "microwave test: 117 train: 467\n",
      "washing machine test: 103 train: 413\n",
      "loading model\n",
      "compling TL model..\n"
     ]
    },
    {
     "name": "stderr",
     "output_type": "stream",
     "text": [
      "2022-02-14 21:29:04.303857: I tensorflow/core/common_runtime/gpu/gpu_device.cc:1734] Found device 0 with properties: \n",
      "pciBusID: 0000:21:00.0 name: NVIDIA GeForce RTX 2080 Ti computeCapability: 7.5\n",
      "coreClock: 1.545GHz coreCount: 68 deviceMemorySize: 10.76GiB deviceMemoryBandwidth: 573.69GiB/s\n",
      "2022-02-14 21:29:04.305477: I tensorflow/core/common_runtime/gpu/gpu_device.cc:1872] Adding visible gpu devices: 0\n",
      "2022-02-14 21:29:04.305746: I tensorflow/stream_executor/platform/default/dso_loader.cc:54] Successfully opened dynamic library libcudart.so.11.0\n",
      "2022-02-14 21:29:05.183316: I tensorflow/core/common_runtime/gpu/gpu_device.cc:1258] Device interconnect StreamExecutor with strength 1 edge matrix:\n",
      "2022-02-14 21:29:05.183379: I tensorflow/core/common_runtime/gpu/gpu_device.cc:1264]      0 \n",
      "2022-02-14 21:29:05.183458: I tensorflow/core/common_runtime/gpu/gpu_device.cc:1277] 0:   N \n",
      "2022-02-14 21:29:05.184477: I tensorflow/core/common_runtime/gpu/gpu_device.cc:1418] Created TensorFlow device (/job:localhost/replica:0/task:0/device:GPU:0 with 9649 MB memory) -> physical GPU (device: 0, name: NVIDIA GeForce RTX 2080 Ti, pci bus id: 0000:21:00.0, compute capability: 7.5)\n",
      "2022-02-14 21:29:05.185084: I tensorflow/core/common_runtime/process_util.cc:146] Creating new thread pool with default inter op setting: 20. Tune using inter_op_parallelism_threads for best performance.\n"
     ]
    },
    {
     "name": "stdout",
     "output_type": "stream",
     "text": [
      "Normal way\n",
      "[0 1 2 3 4 5 6 7 8 9]\n",
      "WARNING:tensorflow:From /usr/local/lib/python3.8/dist-packages/tensorflow/python/ops/array_ops.py:5043: calling gather (from tensorflow.python.ops.array_ops) with validate_indices is deprecated and will be removed in a future version.\n",
      "Instructions for updating:\n",
      "The `validate_indices` argument has no effect. Indices are always validated on CPU and never validated on GPU.\n"
     ]
    },
    {
     "name": "stderr",
     "output_type": "stream",
     "text": [
      "/usr/local/lib/python3.8/dist-packages/tensorflow/python/keras/optimizer_v2/optimizer_v2.py:374: UserWarning: The `lr` argument is deprecated, use `learning_rate` instead.\n",
      "  warnings.warn(\n",
      "2022-02-14 21:29:05.759534: I tensorflow/compiler/mlir/mlir_graph_optimization_pass.cc:176] None of the MLIR Optimization Passes are enabled (registered 2)\n",
      "2022-02-14 21:29:05.780516: I tensorflow/core/platform/profile_utils/cpu_utils.cc:114] CPU Frequency: 3299990000 Hz\n"
     ]
    },
    {
     "name": "stdout",
     "output_type": "stream",
     "text": [
      "Epoch 1/25\n"
     ]
    },
    {
     "name": "stderr",
     "output_type": "stream",
     "text": [
      "2022-02-14 21:29:06.274958: I tensorflow/stream_executor/platform/default/dso_loader.cc:54] Successfully opened dynamic library libcudnn.so.8\n",
      "2022-02-14 21:29:06.985124: I tensorflow/stream_executor/cuda/cuda_dnn.cc:380] Loaded cuDNN version 8202\n",
      "2022-02-14 21:29:07.839995: I tensorflow/stream_executor/platform/default/dso_loader.cc:54] Successfully opened dynamic library libcublas.so.11\n",
      "2022-02-14 21:29:08.596809: I tensorflow/stream_executor/platform/default/dso_loader.cc:54] Successfully opened dynamic library libcublasLt.so.11\n"
     ]
    },
    {
     "name": "stdout",
     "output_type": "stream",
     "text": [
      "1435/1435 - 75s - loss: 2.3075 - accuracy: 0.4454\n",
      "Epoch 2/25\n",
      "1435/1435 - 72s - loss: 1.8593 - accuracy: 0.1779\n",
      "Epoch 3/25\n",
      "1435/1435 - 72s - loss: 1.7080 - accuracy: 0.1921\n",
      "Epoch 4/25\n",
      "1435/1435 - 71s - loss: 1.5568 - accuracy: 0.3104\n",
      "Epoch 5/25\n",
      "1435/1435 - 71s - loss: 1.6884 - accuracy: 0.1977\n",
      "Epoch 6/25\n",
      "1435/1435 - 71s - loss: 1.5229 - accuracy: 0.2941\n",
      "Epoch 7/25\n",
      "1435/1435 - 71s - loss: 1.6301 - accuracy: 0.2685\n",
      "Epoch 8/25\n",
      "1435/1435 - 71s - loss: 1.4180 - accuracy: 0.3543\n",
      "Epoch 9/25\n",
      "1435/1435 - 71s - loss: 1.4029 - accuracy: 0.4309\n",
      "Epoch 10/25\n",
      "1435/1435 - 71s - loss: 1.4491 - accuracy: 0.3610\n",
      "Epoch 11/25\n",
      "1435/1435 - 71s - loss: 1.3969 - accuracy: 0.3774\n",
      "Epoch 12/25\n",
      "1435/1435 - 72s - loss: 1.2495 - accuracy: 0.4454\n",
      "Epoch 13/25\n",
      "1435/1435 - 71s - loss: 1.4616 - accuracy: 0.4485\n",
      "Epoch 14/25\n",
      "1435/1435 - 71s - loss: 1.4035 - accuracy: 0.3935\n",
      "Epoch 15/25\n",
      "1435/1435 - 70s - loss: 1.3352 - accuracy: 0.4151\n",
      "Epoch 16/25\n",
      "1435/1435 - 70s - loss: 1.2531 - accuracy: 0.5193\n",
      "Epoch 17/25\n",
      "1435/1435 - 70s - loss: 1.2799 - accuracy: 0.5145\n",
      "Epoch 18/25\n",
      "1435/1435 - 71s - loss: 1.3113 - accuracy: 0.4822\n",
      "Epoch 19/25\n",
      "1435/1435 - 71s - loss: 1.3561 - accuracy: 0.4743\n",
      "Epoch 20/25\n",
      "1435/1435 - 71s - loss: 1.2754 - accuracy: 0.4629\n",
      "Epoch 21/25\n",
      "1435/1435 - 71s - loss: 1.2697 - accuracy: 0.5600\n",
      "Epoch 22/25\n",
      "1435/1435 - 71s - loss: 1.1292 - accuracy: 0.5724\n",
      "Epoch 23/25\n",
      "1435/1435 - 70s - loss: 1.2723 - accuracy: 0.5724\n",
      "Epoch 24/25\n",
      "1435/1435 - 71s - loss: 1.0559 - accuracy: 0.6001\n",
      "Epoch 25/25\n",
      "1435/1435 - 71s - loss: 1.1812 - accuracy: 0.5213\n",
      "359/359 - 16s\n",
      "Normalized confusion matrix\n",
      "                  precision    recall  f1-score   support\n",
      "\n",
      "            HEKA       0.05      1.00      0.09       117\n",
      "  fridge/freezer       0.96      0.40      0.56      6654\n",
      "            HTPC       0.49      0.26      0.34      1533\n",
      "    audio system       0.29      0.34      0.31       356\n",
      "broadband router       0.98      0.42      0.59       326\n",
      "    coffee maker       0.06      0.11      0.08       249\n",
      "        computer       0.77      0.79      0.78       885\n",
      "            lamp       0.13      0.25      0.17       455\n",
      " laptop computer       0.46      0.76      0.57       680\n",
      "       microwave       0.06      0.44      0.10       117\n",
      " washing machine       0.01      0.06      0.02       103\n",
      "\n",
      "        accuracy                           0.42     11475\n",
      "       macro avg       0.39      0.44      0.33     11475\n",
      "    weighted avg       0.75      0.42      0.50     11475\n",
      "\n",
      "using dataset data eco training on model redd seed 82\n",
      "reading data, printing stats: \n",
      "['HEKA', 'fridge/freezer', 'HTPC', 'audio system', 'broadband router', 'coffee maker', 'computer', 'lamp', 'laptop computer', 'microwave', 'washing machine']\n",
      "{0: 8.877756286266925, 1: 0.15678009523354078, 2: 0.6806762568589648, 3: 2.9301583248212464, 4: 3.202260517686458, 5: 4.176722176722177, 6: 1.1790182126435305, 7: 2.295129512951295, 8: 1.5334602920049447, 9: 8.934786840568425, 10: 10.103015628439357}\n",
      " \n",
      "Tests \n",
      "HEKA test: 117 train: 470\n",
      "fridge/freezer test: 6654 train: 26614\n",
      "HTPC test: 1533 train: 6130\n",
      "audio system test: 356 train: 1424\n",
      "broadband router test: 326 train: 1303\n",
      "coffee maker test: 249 train: 999\n",
      "computer test: 885 train: 3539\n",
      "lamp test: 455 train: 1818\n",
      "laptop computer test: 680 train: 2721\n",
      "microwave test: 117 train: 467\n",
      "washing machine test: 103 train: 413\n",
      "loading model\n",
      "compling TL model..\n"
     ]
    },
    {
     "name": "stderr",
     "output_type": "stream",
     "text": [
      "/usr/local/lib/python3.8/dist-packages/tensorflow/python/keras/optimizer_v2/optimizer_v2.py:374: UserWarning: The `lr` argument is deprecated, use `learning_rate` instead.\n",
      "  warnings.warn(\n"
     ]
    },
    {
     "name": "stdout",
     "output_type": "stream",
     "text": [
      "Normal way\n",
      "[0 1 2 3 4 5 6 7 8 9]\n",
      "Epoch 1/25\n",
      "1435/1435 - 73s - loss: 2.4169 - accuracy: 0.0480\n",
      "Epoch 2/25\n",
      "1435/1435 - 71s - loss: 2.3987 - accuracy: 0.0592\n",
      "Epoch 3/25\n",
      "1435/1435 - 71s - loss: 2.3986 - accuracy: 0.0492\n",
      "Epoch 4/25\n",
      "1435/1435 - 71s - loss: 2.3985 - accuracy: 0.1655\n",
      "Epoch 5/25\n",
      "1435/1435 - 71s - loss: 2.3987 - accuracy: 0.0471\n",
      "Epoch 6/25\n",
      "1435/1435 - 71s - loss: 2.3985 - accuracy: 0.0807\n",
      "Epoch 7/25\n",
      "1435/1435 - 71s - loss: 2.3988 - accuracy: 0.0305\n",
      "Epoch 8/25\n",
      "1435/1435 - 71s - loss: 2.3988 - accuracy: 0.0599\n",
      "Epoch 9/25\n",
      "1435/1435 - 71s - loss: 2.3987 - accuracy: 0.0744\n",
      "Epoch 10/25\n",
      "1435/1435 - 71s - loss: 2.3987 - accuracy: 0.0939\n",
      "Epoch 11/25\n",
      "1435/1435 - 71s - loss: 2.3986 - accuracy: 0.0245\n",
      "Epoch 12/25\n",
      "1435/1435 - 71s - loss: 2.3987 - accuracy: 0.0614\n",
      "Epoch 13/25\n",
      "1435/1435 - 71s - loss: 2.3986 - accuracy: 0.0297\n",
      "Epoch 14/25\n",
      "1435/1435 - 71s - loss: 2.3988 - accuracy: 0.0845\n",
      "Epoch 15/25\n",
      "1435/1435 - 71s - loss: 2.3987 - accuracy: 0.0242\n",
      "Epoch 16/25\n",
      "1435/1435 - 71s - loss: 2.3987 - accuracy: 0.0304\n",
      "Epoch 17/25\n",
      "1435/1435 - 71s - loss: 2.3987 - accuracy: 0.0330\n",
      "Epoch 18/25\n",
      "1435/1435 - 71s - loss: 2.3987 - accuracy: 0.0463\n",
      "Epoch 19/25\n",
      "1435/1435 - 71s - loss: 2.3987 - accuracy: 0.0308\n",
      "Epoch 20/25\n",
      "1435/1435 - 71s - loss: 2.3986 - accuracy: 0.0636\n",
      "Epoch 21/25\n",
      "1435/1435 - 71s - loss: 2.3987 - accuracy: 0.0427\n",
      "Epoch 22/25\n",
      "1435/1435 - 71s - loss: 2.3987 - accuracy: 0.0553\n",
      "Epoch 23/25\n",
      "1435/1435 - 71s - loss: 2.3988 - accuracy: 0.0238\n",
      "Epoch 24/25\n",
      "1435/1435 - 72s - loss: 2.3986 - accuracy: 0.0428\n",
      "Epoch 25/25\n",
      "1435/1435 - 71s - loss: 2.3987 - accuracy: 0.0651\n",
      "359/359 - 16s\n",
      "Normalized confusion matrix\n",
      "                  precision    recall  f1-score   support\n",
      "\n",
      "            HEKA       0.00      0.00      0.00       117\n",
      "  fridge/freezer       0.00      0.00      0.00      6654\n",
      "            HTPC       0.00      0.00      0.00      1533\n",
      "    audio system       0.00      0.00      0.00       356\n",
      "broadband router       0.00      0.00      0.00       326\n",
      "    coffee maker       0.02      1.00      0.04       249\n",
      "        computer       0.00      0.00      0.00       885\n",
      "            lamp       0.00      0.00      0.00       455\n",
      " laptop computer       0.00      0.00      0.00       680\n",
      "       microwave       0.00      0.00      0.00       117\n",
      " washing machine       0.00      0.00      0.00       103\n",
      "\n",
      "        accuracy                           0.02     11475\n",
      "       macro avg       0.00      0.09      0.00     11475\n",
      "    weighted avg       0.00      0.02      0.00     11475\n",
      "\n"
     ]
    },
    {
     "name": "stderr",
     "output_type": "stream",
     "text": [
      "/usr/local/lib/python3.8/dist-packages/sklearn/metrics/_classification.py:1308: UndefinedMetricWarning: Precision and F-score are ill-defined and being set to 0.0 in labels with no predicted samples. Use `zero_division` parameter to control this behavior.\n",
      "  _warn_prf(average, modifier, msg_start, len(result))\n",
      "/usr/local/lib/python3.8/dist-packages/sklearn/metrics/_classification.py:1308: UndefinedMetricWarning: Precision and F-score are ill-defined and being set to 0.0 in labels with no predicted samples. Use `zero_division` parameter to control this behavior.\n",
      "  _warn_prf(average, modifier, msg_start, len(result))\n",
      "/usr/local/lib/python3.8/dist-packages/sklearn/metrics/_classification.py:1308: UndefinedMetricWarning: Precision and F-score are ill-defined and being set to 0.0 in labels with no predicted samples. Use `zero_division` parameter to control this behavior.\n",
      "  _warn_prf(average, modifier, msg_start, len(result))\n"
     ]
    },
    {
     "data": {
      "image/png": "[encoded data removed]",
      "text/plain": [
       "<Figure size 720x720 with 2 Axes>"
      ]
     },
     "metadata": {
      "needs_background": "light"
     },
     "output_type": "display_data"
    },
    {
     "data": {
      "image/png": "[encoded data removed]",
      "text/plain": [
       "<Figure size 720x720 with 2 Axes>"
      ]
     },
     "metadata": {
      "needs_background": "light"
     },
     "output_type": "display_data"
    }
   ],
   "source": [
    "# datasets =[\n",
    "#     \"ukdale_gen_GASF_13m_100S5X12A54480_R82_80-20\"\n",
    "# ]\n",
    "\n",
    "if environ['train_type'] == \"TL\": \n",
    "    models = environ['tl_datasets'].replace(\" \",\"\").split(\",\")\n",
    "    #model = [\"base\"]\n",
    "    \n",
    "    for model in models:\n",
    "    \n",
    "        file_name = dataset\n",
    "        \n",
    "        datasetTL = model\n",
    "        \n",
    "        seed = dataset.split(\"_R\")[1][0:2]\n",
    "        \n",
    "        print(\"using dataset data\",dataset.split(\"_\")[0],\"training on model\",model,\"seed\",environ['seed'])\n",
    "        txt_log.write(\"starting \"+dataset.split(\"_\")[0]+\" training on model \"+model+\" seed \"+environ['seed']+\"\\n\")\n",
    "\n",
    "\n",
    "        tf.keras.backend.clear_session()\n",
    "\n",
    "\n",
    "        #read the file\n",
    "        path = str(pathlib.Path().resolve())\n",
    "        path_data = f\"{path}\"\"/data/\"f\"{file_name}\"\"/\"f\"{file_name}\"\".hdf5\"\n",
    "        file = h5py.File(path_data,\"r+\")\n",
    "\n",
    "\n",
    "        print(\"reading data, printing stats: \")\n",
    "        x_test,y_test,d_class_weights,num_of_classes,appliances = get_data(file)\n",
    "        print(\"loading model\")\n",
    "        \n",
    "        model_seed = 42\n",
    "        model_used = create_tl_model(model,environ['learn_type'],model_seed,path,num_of_classes)\n",
    "                \n",
    "        train_gen = HDF5ImageGenerator(\n",
    "            src= path_data,\n",
    "            X_key=\"data/train/gaf\",\n",
    "            y_key=\"labels/train/gaf\",\n",
    "            classes_key=\"appliances/classes\",\n",
    "            labels_encoding=\"hot\",\n",
    "            shuffle=True,\n",
    "            batch_size=int(environ['batch_size']),\n",
    "            num_classes=num_of_classes,\n",
    "            mode=\"train\",\n",
    "            )\n",
    "\n",
    "        model_used.fit(\n",
    "            train_gen,\n",
    "            verbose=2,\n",
    "            epochs=int(environ['epochs']),\n",
    "            class_weight=d_class_weights,\n",
    "            callbacks = [save_op_callback]\n",
    "            #workers = 6,\n",
    "        )\n",
    "        \n",
    "        txt_log.write(\"finished \"+dataset.split(\"_\")[0]+\" training on model \"+model+\" seed \"+environ['seed']+\"\\n\")\n",
    "\n",
    "\n",
    "        evaluate_model(model_used,x_test,y_test,appliances)\n",
    "        \n",
    "\n",
    "\n",
    "\n",
    "        #del model_used\n",
    "\n"
   ]
  },
  {
   "cell_type": "code",
   "execution_count": 16,
   "metadata": {
    "execution": {
     "iopub.execute_input": "2022-02-14T22:29:08.621731Z",
     "iopub.status.busy": "2022-02-14T22:29:08.621324Z",
     "iopub.status.idle": "2022-02-14T22:29:08.624180Z",
     "shell.execute_reply": "2022-02-14T22:29:08.624508Z"
    }
   },
   "outputs": [],
   "source": [
    "txt_log.close()"
   ]
  },
  {
   "cell_type": "code",
   "execution_count": null,
   "metadata": {},
   "outputs": [],
   "source": []
  }
 ],
 "metadata": {
  "colab": {
   "authorship_tag": "ABX9TyMej4PvP65qsLng7TnQKWA4",
   "name": "LSTM-gen",
   "provenance": []
  },
  "kernelspec": {
   "display_name": "Python 3 (ipykernel)",
   "language": "python",
   "name": "python3"
  },
  "language_info": {
   "codemirror_mode": {
    "name": "ipython",
    "version": 3
   },
   "file_extension": ".py",
   "mimetype": "text/x-python",
   "name": "python",
   "nbconvert_exporter": "python",
   "pygments_lexer": "ipython3",
   "version": "3.8.10"
  }
 },
 "nbformat": 4,
 "nbformat_minor": 4
}
