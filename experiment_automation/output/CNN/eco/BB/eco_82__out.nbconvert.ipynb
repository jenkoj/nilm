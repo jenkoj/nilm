{
 "cells": [
  {
   "cell_type": "code",
   "execution_count": 1,
   "metadata": {
    "execution": {
     "iopub.execute_input": "2022-02-03T01:10:40.661891Z",
     "iopub.status.busy": "2022-02-03T01:10:40.660463Z",
     "iopub.status.idle": "2022-02-03T01:10:42.891245Z",
     "shell.execute_reply": "2022-02-03T01:10:42.889921Z"
    },
    "id": "WqUfHWgtJxtu",
    "scrolled": true,
    "tags": []
   },
   "outputs": [
    {
     "name": "stderr",
     "output_type": "stream",
     "text": [
      "2022-02-03 01:10:41.694156: I tensorflow/stream_executor/platform/default/dso_loader.cc:54] Successfully opened dynamic library libcudart.so.11.0\n"
     ]
    },
    {
     "name": "stdout",
     "output_type": "stream",
     "text": [
      "2.5.0\n",
      "Num GPUs Available:  1\n"
     ]
    },
    {
     "name": "stderr",
     "output_type": "stream",
     "text": [
      "2022-02-03 01:10:42.824303: I tensorflow/stream_executor/platform/default/dso_loader.cc:54] Successfully opened dynamic library libcuda.so.1\n",
      "2022-02-03 01:10:42.871759: I tensorflow/core/common_runtime/gpu/gpu_device.cc:1734] Found device 0 with properties: \n",
      "pciBusID: 0000:21:00.0 name: NVIDIA GeForce RTX 2080 Ti computeCapability: 7.5\n",
      "coreClock: 1.545GHz coreCount: 68 deviceMemorySize: 10.76GiB deviceMemoryBandwidth: 573.69GiB/s\n",
      "2022-02-03 01:10:42.871808: I tensorflow/stream_executor/platform/default/dso_loader.cc:54] Successfully opened dynamic library libcudart.so.11.0\n",
      "2022-02-03 01:10:42.876226: I tensorflow/stream_executor/platform/default/dso_loader.cc:54] Successfully opened dynamic library libcublas.so.11\n",
      "2022-02-03 01:10:42.876293: I tensorflow/stream_executor/platform/default/dso_loader.cc:54] Successfully opened dynamic library libcublasLt.so.11\n",
      "2022-02-03 01:10:42.878056: I tensorflow/stream_executor/platform/default/dso_loader.cc:54] Successfully opened dynamic library libcufft.so.10\n",
      "2022-02-03 01:10:42.878337: I tensorflow/stream_executor/platform/default/dso_loader.cc:54] Successfully opened dynamic library libcurand.so.10\n",
      "2022-02-03 01:10:42.878987: I tensorflow/stream_executor/platform/default/dso_loader.cc:54] Successfully opened dynamic library libcutensor.so.1\n",
      "2022-02-03 01:10:42.879451: I tensorflow/stream_executor/platform/default/dso_loader.cc:54] Successfully opened dynamic library libcusolver.so.11\n",
      "2022-02-03 01:10:42.880145: I tensorflow/stream_executor/platform/default/dso_loader.cc:54] Successfully opened dynamic library libcusparse.so.11\n",
      "2022-02-03 01:10:42.880316: I tensorflow/stream_executor/platform/default/dso_loader.cc:54] Successfully opened dynamic library libcudnn.so.8\n",
      "2022-02-03 01:10:42.880687: I tensorflow/core/common_runtime/gpu/gpu_device.cc:1872] Adding visible gpu devices: 0\n"
     ]
    }
   ],
   "source": [
    "import h5py\n",
    "import numpy as np\n",
    "\n",
    "from sklearn.model_selection import train_test_split\n",
    "from sklearn.metrics import classification_report, confusion_matrix\n",
    "import matplotlib.pyplot as plt\n",
    "import itertools \n",
    "import pyts\n",
    "from pyts.approximation import PiecewiseAggregateApproximation\n",
    "\n",
    "from sklearn.utils import class_weight\n",
    "\n",
    "import pathlib\n",
    "import tensorflow as tf\n",
    "from tensorflow import keras\n",
    "from tensorflow.keras import layers, optimizers\n",
    "from tensorflow.keras.layers import Convolution2D,Conv2D, Dense,Dropout, Flatten, Activation, MaxPooling2D, Input, Conv1D, GlobalAveragePooling1D, TimeDistributed, GRU, LSTM\n",
    "\n",
    "print(tf.__version__)\n",
    "print(\"Num GPUs Available: \", len(tf.config.list_physical_devices('GPU')))\n",
    "gpus = tf.config.experimental.list_physical_devices('GPU')\n",
    "\n",
    "try:\n",
    "    for gpu in gpus:\n",
    "        tf.config.experimental.set_memory_growth(gpu, True)\n",
    "except RuntimeError as e:\n",
    "    print(e)"
   ]
  },
  {
   "cell_type": "code",
   "execution_count": 2,
   "metadata": {
    "execution": {
     "iopub.execute_input": "2022-02-03T01:10:42.896910Z",
     "iopub.status.busy": "2022-02-03T01:10:42.895620Z",
     "iopub.status.idle": "2022-02-03T01:10:42.900307Z",
     "shell.execute_reply": "2022-02-03T01:10:42.899395Z"
    }
   },
   "outputs": [
    {
     "name": "stdout",
     "output_type": "stream",
     "text": [
      "eco_gen_GASF_60m_300S0X_2_R82_80-20\n"
     ]
    }
   ],
   "source": [
    "from os import environ\n",
    "dataset = environ['dataset']\n",
    "print(dataset)"
   ]
  },
  {
   "cell_type": "code",
   "execution_count": 3,
   "metadata": {
    "execution": {
     "iopub.execute_input": "2022-02-03T01:10:42.905899Z",
     "iopub.status.busy": "2022-02-03T01:10:42.904878Z",
     "iopub.status.idle": "2022-02-03T01:10:42.910454Z",
     "shell.execute_reply": "2022-02-03T01:10:42.909394Z"
    }
   },
   "outputs": [],
   "source": [
    "#my defs \n",
    "from modules.models import  LSTM_3D_V56, CNN_V56,LSTM_BI_V56\n",
    "from modules.tools import my_print, plot_confusion_matrix_norm, get_data,get_data_split, evaluate_model, create_tl_model\n",
    "from modules.HDF5ImageGenerator import HDF5ImageGenerator"
   ]
  },
  {
   "cell_type": "code",
   "execution_count": 4,
   "metadata": {
    "execution": {
     "iopub.execute_input": "2022-02-03T01:10:42.917659Z",
     "iopub.status.busy": "2022-02-03T01:10:42.916341Z",
     "iopub.status.idle": "2022-02-03T01:10:42.919031Z",
     "shell.execute_reply": "2022-02-03T01:10:42.920079Z"
    },
    "id": "RT1vwq7-KOtB"
   },
   "outputs": [],
   "source": [
    "#LOAD DATASET\n",
    "#file_name = \"ukdale_gen_GASF_13m_100S5X12A54480\"\n",
    "#file_name = \"refit_gen_GASF_13m_100S5X_15A166006\"\n",
    "file_name = \"refit_gen_GASF_13m_100S5X_15A166006_R42-80-20\"\n",
    "#file_name = \"refit_gen_GASF_13m_100S5X_15A166006_R42_80-20\"\n",
    "file_name = \"refit_gen_GASF_60m_300S0X_15A157030N_R12_80-20-V1\"\n",
    "file_name = environ[\"dataset\"]\n",
    "#read the file\n",
    "path = str(pathlib.Path().resolve())\n",
    "\n",
    "path_data = f\"{path}\"\"/data/\"f\"{file_name}\"\"/\"f\"{file_name}\"\".hdf5\"\n",
    "\n",
    "file = h5py.File(path_data,\"r+\")"
   ]
  },
  {
   "cell_type": "code",
   "execution_count": 5,
   "metadata": {
    "execution": {
     "iopub.execute_input": "2022-02-03T01:10:42.926669Z",
     "iopub.status.busy": "2022-02-03T01:10:42.925406Z",
     "iopub.status.idle": "2022-02-03T01:10:45.682708Z",
     "shell.execute_reply": "2022-02-03T01:10:45.683696Z"
    },
    "scrolled": true
   },
   "outputs": [
    {
     "name": "stdout",
     "output_type": "stream",
     "text": [
      "['HEKA', 'fridge/freezer', 'HTPC', 'audio system', 'broadband router', 'coffee maker', 'computer', 'lamp', 'laptop computer', 'microwave', 'washing machine']\n",
      "{0: 8.877756286266925, 1: 0.15678009523354078, 2: 0.6806762568589648, 3: 2.9301583248212464, 4: 3.202260517686458, 5: 4.176722176722177, 6: 1.1790182126435305, 7: 2.295129512951295, 8: 1.5334602920049447, 9: 8.934786840568425, 10: 10.103015628439357}\n",
      " \n",
      "Tests \n",
      "HEKA test: 117 train: 470\n",
      "fridge/freezer test: 6654 train: 26614\n",
      "HTPC test: 1533 train: 6130\n",
      "audio system test: 356 train: 1424\n",
      "broadband router test: 326 train: 1303\n",
      "coffee maker test: 249 train: 999\n",
      "computer test: 885 train: 3539\n",
      "lamp test: 455 train: 1818\n",
      "laptop computer test: 680 train: 2721\n",
      "microwave test: 117 train: 467\n",
      "washing machine test: 103 train: 413\n"
     ]
    }
   ],
   "source": [
    "x_test,y_test,d_class_weights,num_of_classes,appliances = get_data(file)"
   ]
  },
  {
   "cell_type": "code",
   "execution_count": 6,
   "metadata": {
    "execution": {
     "iopub.execute_input": "2022-02-03T01:10:45.690556Z",
     "iopub.status.busy": "2022-02-03T01:10:45.689352Z",
     "iopub.status.idle": "2022-02-03T01:10:45.691818Z",
     "shell.execute_reply": "2022-02-03T01:10:45.692803Z"
    }
   },
   "outputs": [],
   "source": [
    "def select_model(learn_type):\n",
    "    \n",
    "    if learn_type == \"CNN\":\n",
    "        model = CNN_V56(file[\"data/train/gaf\"][0:10],num_of_classes,lr= 0.00002)\n",
    "\n",
    "    if learn_type == \"LSTM\":\n",
    "        model = LSTM_3D_V56(file[\"data/train/gaf\"][0:10],num_of_classes,lr= 0.00002)\n",
    "\n",
    "    if learn_type == \"BI_LSTM\":\n",
    "        model = LSTM_BI_V56(file[\"data/train/gaf\"][0:10],num_of_classes,lr= 0.00002)\n",
    "\n",
    "    return model\n",
    "              "
   ]
  },
  {
   "cell_type": "code",
   "execution_count": 7,
   "metadata": {
    "execution": {
     "iopub.execute_input": "2022-02-03T01:10:45.699221Z",
     "iopub.status.busy": "2022-02-03T01:10:45.698023Z",
     "iopub.status.idle": "2022-02-03T01:10:45.700498Z",
     "shell.execute_reply": "2022-02-03T01:10:45.701461Z"
    }
   },
   "outputs": [],
   "source": [
    "path_save = path+'/experiment_automation/output/'+environ['learn_type']+'/'+dataset.split(\"_\")[0]+\"/\"+environ['train_type']+\"/\"+dataset.split(\"_\")[0]+\"_\"+environ['seed']+\"_\"+environ['tl_datasets']\n",
    "path_save_nb = path_save+\"_out.ipynb\"\n",
    "path_save_log = path_save+\"_out_log2.txt\""
   ]
  },
  {
   "cell_type": "code",
   "execution_count": 8,
   "metadata": {
    "execution": {
     "iopub.execute_input": "2022-02-03T01:10:45.709285Z",
     "iopub.status.busy": "2022-02-03T01:10:45.708053Z",
     "iopub.status.idle": "2022-02-03T01:10:45.846979Z",
     "shell.execute_reply": "2022-02-03T01:10:45.845897Z"
    }
   },
   "outputs": [],
   "source": [
    "from keras.callbacks import LambdaCallback\n",
    "#path_log= path+'/experiment_automation/output/'+environ['learn_type']+'/'+dataset.split(\"_\")[0]+\"/\"+environ['train_type']+\"/\"+dataset.split(\"_\")[0]+\"_\"+environ['seed']+\"_\"+environ['tl_datasets']+\"_log.txt\"\n",
    "txt_log = open(path_save+\"_log.txt\", mode='wt', buffering=1)\n",
    "txt_log.write(\"file created! \\n\")\n",
    "\n",
    "save_op_callback = LambdaCallback(\n",
    "  on_epoch_end = lambda epoch, logs: txt_log.write(\n",
    "    str({'epoch': epoch, 'loss': logs['loss'],'acc': logs['accuracy']}) + '\\n'),\n",
    "                                                           \n",
    ")"
   ]
  },
  {
   "cell_type": "code",
   "execution_count": 9,
   "metadata": {
    "execution": {
     "iopub.execute_input": "2022-02-03T01:10:45.852472Z",
     "iopub.status.busy": "2022-02-03T01:10:45.851291Z",
     "iopub.status.idle": "2022-02-03T01:10:45.856290Z",
     "shell.execute_reply": "2022-02-03T01:10:45.855190Z"
    }
   },
   "outputs": [
    {
     "name": "stdout",
     "output_type": "stream",
     "text": [
      "/workspace/notebooks/experiment_automation/output/CNN/eco/BB/eco_82__out.ipynb\n"
     ]
    }
   ],
   "source": [
    "print(path_save_nb)"
   ]
  },
  {
   "cell_type": "code",
   "execution_count": 10,
   "metadata": {
    "execution": {
     "iopub.execute_input": "2022-02-03T01:10:45.861428Z",
     "iopub.status.busy": "2022-02-03T01:10:45.860348Z",
     "iopub.status.idle": "2022-02-03T01:10:45.862600Z",
     "shell.execute_reply": "2022-02-03T01:10:45.863488Z"
    }
   },
   "outputs": [],
   "source": [
    "# rm $path_save_log"
   ]
  },
  {
   "cell_type": "code",
   "execution_count": 11,
   "metadata": {
    "execution": {
     "iopub.execute_input": "2022-02-03T01:10:45.868856Z",
     "iopub.status.busy": "2022-02-03T01:10:45.867745Z",
     "iopub.status.idle": "2022-02-03T01:10:45.869965Z",
     "shell.execute_reply": "2022-02-03T01:10:45.870741Z"
    }
   },
   "outputs": [],
   "source": [
    "# %%capture cap \n",
    "\n",
    "# with open(path_save_log,\"wt\") as f:\n",
    "#     f.write(cap.stdout)\n",
    "    \n",
    "# print(\"out capture..\")"
   ]
  },
  {
   "cell_type": "code",
   "execution_count": 12,
   "metadata": {
    "execution": {
     "iopub.execute_input": "2022-02-03T01:10:45.887856Z",
     "iopub.status.busy": "2022-02-03T01:10:45.886627Z",
     "iopub.status.idle": "2022-02-03T03:56:16.974800Z",
     "shell.execute_reply": "2022-02-03T03:56:16.975871Z"
    },
    "id": "vqA9NwOqKrb5",
    "jupyter": {
     "outputs_hidden": true
    },
    "tags": []
   },
   "outputs": [
    {
     "name": "stdout",
     "output_type": "stream",
     "text": [
      "Normal way\n",
      "[0 1 2 3 4 5 6 7 8 9]\n",
      "WARNING:tensorflow:From /usr/local/lib/python3.8/dist-packages/tensorflow/python/ops/array_ops.py:5043: calling gather (from tensorflow.python.ops.array_ops) with validate_indices is deprecated and will be removed in a future version.\n",
      "Instructions for updating:\n",
      "The `validate_indices` argument has no effect. Indices are always validated on CPU and never validated on GPU.\n"
     ]
    },
    {
     "name": "stderr",
     "output_type": "stream",
     "text": [
      "2022-02-03 01:10:45.904795: I tensorflow/core/common_runtime/gpu/gpu_device.cc:1734] Found device 0 with properties: \n",
      "pciBusID: 0000:21:00.0 name: NVIDIA GeForce RTX 2080 Ti computeCapability: 7.5\n",
      "coreClock: 1.545GHz coreCount: 68 deviceMemorySize: 10.76GiB deviceMemoryBandwidth: 573.69GiB/s\n",
      "2022-02-03 01:10:45.905307: I tensorflow/core/common_runtime/gpu/gpu_device.cc:1872] Adding visible gpu devices: 0\n",
      "2022-02-03 01:10:45.905364: I tensorflow/stream_executor/platform/default/dso_loader.cc:54] Successfully opened dynamic library libcudart.so.11.0\n",
      "2022-02-03 01:10:46.273329: I tensorflow/core/common_runtime/gpu/gpu_device.cc:1258] Device interconnect StreamExecutor with strength 1 edge matrix:\n",
      "2022-02-03 01:10:46.273365: I tensorflow/core/common_runtime/gpu/gpu_device.cc:1264]      0 \n",
      "2022-02-03 01:10:46.273372: I tensorflow/core/common_runtime/gpu/gpu_device.cc:1277] 0:   N \n",
      "2022-02-03 01:10:46.273931: I tensorflow/core/common_runtime/gpu/gpu_device.cc:1418] Created TensorFlow device (/job:localhost/replica:0/task:0/device:GPU:0 with 9649 MB memory) -> physical GPU (device: 0, name: NVIDIA GeForce RTX 2080 Ti, pci bus id: 0000:21:00.0, compute capability: 7.5)\n",
      "2022-02-03 01:10:46.274250: I tensorflow/core/common_runtime/process_util.cc:146] Creating new thread pool with default inter op setting: 20. Tune using inter_op_parallelism_threads for best performance.\n",
      "2022-02-03 01:10:46.395255: I tensorflow/compiler/mlir/mlir_graph_optimization_pass.cc:176] None of the MLIR Optimization Passes are enabled (registered 2)\n",
      "2022-02-03 01:10:46.412607: I tensorflow/core/platform/profile_utils/cpu_utils.cc:114] CPU Frequency: 3299990000 Hz\n"
     ]
    },
    {
     "name": "stdout",
     "output_type": "stream",
     "text": [
      "Epoch 1/50\n"
     ]
    },
    {
     "name": "stderr",
     "output_type": "stream",
     "text": [
      "2022-02-03 01:10:47.045293: I tensorflow/stream_executor/platform/default/dso_loader.cc:54] Successfully opened dynamic library libcudnn.so.8\n",
      "2022-02-03 01:10:47.774833: I tensorflow/stream_executor/cuda/cuda_dnn.cc:380] Loaded cuDNN version 8202\n",
      "2022-02-03 01:10:48.622409: I tensorflow/stream_executor/platform/default/dso_loader.cc:54] Successfully opened dynamic library libcublas.so.11\n",
      "2022-02-03 01:10:49.058661: I tensorflow/stream_executor/platform/default/dso_loader.cc:54] Successfully opened dynamic library libcublasLt.so.11\n"
     ]
    },
    {
     "name": "stdout",
     "output_type": "stream",
     "text": [
      "5738/5738 - 204s - loss: 1.8059 - accuracy: 0.2377\n",
      "Epoch 2/50\n",
      "5738/5738 - 200s - loss: 1.4222 - accuracy: 0.4306\n",
      "Epoch 3/50\n",
      "5738/5738 - 199s - loss: 1.2292 - accuracy: 0.5761\n",
      "Epoch 4/50\n",
      "5738/5738 - 198s - loss: 1.0664 - accuracy: 0.6697\n",
      "Epoch 5/50\n",
      "5738/5738 - 198s - loss: 0.9671 - accuracy: 0.7094\n",
      "Epoch 6/50\n",
      "5738/5738 - 198s - loss: 0.8957 - accuracy: 0.7307\n",
      "Epoch 7/50\n",
      "5738/5738 - 198s - loss: 0.8518 - accuracy: 0.7462\n",
      "Epoch 8/50\n",
      "5738/5738 - 198s - loss: 0.8200 - accuracy: 0.7464\n",
      "Epoch 9/50\n",
      "5738/5738 - 198s - loss: 0.7621 - accuracy: 0.7595\n",
      "Epoch 10/50\n",
      "5738/5738 - 197s - loss: 0.7368 - accuracy: 0.7672\n",
      "Epoch 11/50\n",
      "5738/5738 - 198s - loss: 0.7235 - accuracy: 0.7733\n",
      "Epoch 12/50\n",
      "5738/5738 - 198s - loss: 0.6851 - accuracy: 0.7801\n",
      "Epoch 13/50\n",
      "5738/5738 - 198s - loss: 0.6631 - accuracy: 0.7858\n",
      "Epoch 14/50\n",
      "5738/5738 - 198s - loss: 0.6291 - accuracy: 0.7932\n",
      "Epoch 15/50\n",
      "5738/5738 - 198s - loss: 0.6318 - accuracy: 0.7983\n",
      "Epoch 16/50\n",
      "5738/5738 - 198s - loss: 0.6083 - accuracy: 0.7987\n",
      "Epoch 17/50\n",
      "5738/5738 - 198s - loss: 0.5727 - accuracy: 0.8104\n",
      "Epoch 18/50\n",
      "5738/5738 - 197s - loss: 0.5680 - accuracy: 0.8101\n",
      "Epoch 19/50\n",
      "5738/5738 - 198s - loss: 0.5470 - accuracy: 0.8149\n",
      "Epoch 20/50\n",
      "5738/5738 - 198s - loss: 0.5464 - accuracy: 0.8174\n",
      "Epoch 21/50\n",
      "5738/5738 - 198s - loss: 0.5291 - accuracy: 0.8203\n",
      "Epoch 22/50\n",
      "5738/5738 - 198s - loss: 0.5152 - accuracy: 0.8226\n",
      "Epoch 23/50\n",
      "5738/5738 - 199s - loss: 0.4956 - accuracy: 0.8280\n",
      "Epoch 24/50\n",
      "5738/5738 - 198s - loss: 0.4957 - accuracy: 0.8250\n",
      "Epoch 25/50\n",
      "5738/5738 - 198s - loss: 0.4762 - accuracy: 0.8298\n",
      "Epoch 26/50\n",
      "5738/5738 - 198s - loss: 0.4712 - accuracy: 0.8346\n",
      "Epoch 27/50\n",
      "5738/5738 - 199s - loss: 0.4720 - accuracy: 0.8350\n",
      "Epoch 28/50\n",
      "5738/5738 - 198s - loss: 0.4504 - accuracy: 0.8408\n",
      "Epoch 29/50\n",
      "5738/5738 - 198s - loss: 0.4623 - accuracy: 0.8366\n",
      "Epoch 30/50\n",
      "5738/5738 - 198s - loss: 0.4272 - accuracy: 0.8430\n",
      "Epoch 31/50\n",
      "5738/5738 - 198s - loss: 0.4387 - accuracy: 0.8380\n",
      "Epoch 32/50\n",
      "5738/5738 - 198s - loss: 0.4254 - accuracy: 0.8462\n",
      "Epoch 33/50\n",
      "5738/5738 - 198s - loss: 0.4231 - accuracy: 0.8466\n",
      "Epoch 34/50\n",
      "5738/5738 - 197s - loss: 0.4121 - accuracy: 0.8481\n",
      "Epoch 35/50\n",
      "5738/5738 - 197s - loss: 0.4033 - accuracy: 0.8539\n",
      "Epoch 36/50\n",
      "5738/5738 - 198s - loss: 0.4056 - accuracy: 0.8523\n",
      "Epoch 37/50\n",
      "5738/5738 - 198s - loss: 0.3882 - accuracy: 0.8529\n",
      "Epoch 38/50\n",
      "5738/5738 - 198s - loss: 0.3817 - accuracy: 0.8531\n",
      "Epoch 39/50\n",
      "5738/5738 - 199s - loss: 0.3814 - accuracy: 0.8575\n",
      "Epoch 40/50\n",
      "5738/5738 - 199s - loss: 0.3905 - accuracy: 0.8561\n",
      "Epoch 41/50\n",
      "5738/5738 - 198s - loss: 0.3737 - accuracy: 0.8588\n",
      "Epoch 42/50\n",
      "5738/5738 - 198s - loss: 0.3637 - accuracy: 0.8597\n",
      "Epoch 43/50\n",
      "5738/5738 - 198s - loss: 0.3550 - accuracy: 0.8647\n",
      "Epoch 44/50\n",
      "5738/5738 - 198s - loss: 0.3538 - accuracy: 0.8616\n",
      "Epoch 45/50\n",
      "5738/5738 - 198s - loss: 0.3543 - accuracy: 0.8650\n",
      "Epoch 46/50\n",
      "5738/5738 - 198s - loss: 0.3408 - accuracy: 0.8667\n",
      "Epoch 47/50\n",
      "5738/5738 - 198s - loss: 0.3380 - accuracy: 0.8677\n",
      "Epoch 48/50\n",
      "5738/5738 - 198s - loss: 0.3396 - accuracy: 0.8701\n",
      "Epoch 49/50\n",
      "5738/5738 - 198s - loss: 0.3392 - accuracy: 0.8689\n",
      "Epoch 50/50\n",
      "5738/5738 - 197s - loss: 0.3236 - accuracy: 0.8726\n",
      "359/359 - 16s\n",
      "Normalized confusion matrix\n",
      "                  precision    recall  f1-score   support\n",
      "\n",
      "            HEKA       0.90      0.97      0.93       117\n",
      "  fridge/freezer       0.98      0.90      0.94      6654\n",
      "            HTPC       0.83      0.59      0.69      1533\n",
      "    audio system       0.40      0.79      0.53       356\n",
      "broadband router       0.94      0.99      0.97       326\n",
      "    coffee maker       0.86      0.83      0.85       249\n",
      "        computer       0.88      0.92      0.90       885\n",
      "            lamp       0.53      0.66      0.59       455\n",
      " laptop computer       0.73      0.80      0.76       680\n",
      "       microwave       0.38      0.72      0.50       117\n",
      " washing machine       0.21      0.87      0.34       103\n",
      "\n",
      "        accuracy                           0.84     11475\n",
      "       macro avg       0.69      0.82      0.73     11475\n",
      "    weighted avg       0.89      0.84      0.85     11475\n",
      "\n"
     ]
    },
    {
     "name": "stderr",
     "output_type": "stream",
     "text": [
      "2022-02-03 03:56:15.794466: W tensorflow/python/util/util.cc:348] Sets are not currently considered sequences, but this may change in the future, so consider avoiding using them.\n"
     ]
    },
    {
     "name": "stdout",
     "output_type": "stream",
     "text": [
      "INFO:tensorflow:Assets written to: /workspace/notebooks/models/CNN/eco_82/assets\n"
     ]
    },
    {
     "data": {
      "image/png": "[encoded data removed]",
      "text/plain": [
       "<Figure size 720x720 with 2 Axes>"
      ]
     },
     "metadata": {
      "needs_background": "light"
     },
     "output_type": "display_data"
    }
   ],
   "source": [
    "# %%capture cap --no-stderr\n",
    "\n",
    "\n",
    "if environ['train_type'] == \"BB\":\n",
    "\n",
    "    #define generator\n",
    "    train_gen = HDF5ImageGenerator(\n",
    "        src= path_data,\n",
    "        X_key=\"data/train/gaf\",\n",
    "        y_key=\"labels/train/gaf\",\n",
    "        classes_key=\"appliances/classes\",\n",
    "        labels_encoding=\"hot\",\n",
    "        shuffle=True,\n",
    "        batch_size=int(environ['batch_size']),\n",
    "        num_classes=num_of_classes,\n",
    "        mode=\"train\",\n",
    "        )\n",
    "    \n",
    "    model = select_model(environ['learn_type'])\n",
    "    \n",
    "    txt_log.write(\"fitting BB model: \\n\")\n",
    "    \n",
    "    model.fit(\n",
    "        train_gen,\n",
    "        verbose=2,\n",
    "        epochs=int(environ['epochs']),\n",
    "        class_weight=d_class_weights,\n",
    "        callbacks = [save_op_callback],\n",
    "    )\n",
    "    \n",
    "    txt_log.write(\"finished fitting BB model: \\n\")\n",
    "\n",
    "    evaluate_model(model,x_test,y_test,appliances)\n",
    "    \n",
    "    if environ['save_model']==\"True\":\n",
    "\n",
    "        path_model_save = path+\"/models/\"+environ['learn_type']+\"/\"+dataset.split(\"_\")[0]+\"_\"+dataset.split(\"_R\")[1][0:2]\n",
    "        model.save(path_model_save)\n",
    "        txt_log.write(\"model saved to:\"+\"/models/\"+environ['learn_type']+\"/\"+dataset.split(\"_\")[0]+\"_\"+dataset.split(\"_R\")[1][0:2]+\" \\n\")\n",
    "        \n",
    "        \n",
    "# with open(path_save+\"_out_log.txt\" as f:\n",
    "#     f.write(cap.stdout)\n"
   ]
  },
  {
   "cell_type": "code",
   "execution_count": 13,
   "metadata": {
    "collapsed": true,
    "execution": {
     "iopub.execute_input": "2022-02-03T03:56:16.981209Z",
     "iopub.status.busy": "2022-02-03T03:56:16.980067Z",
     "iopub.status.idle": "2022-02-03T03:56:16.982382Z",
     "shell.execute_reply": "2022-02-03T03:56:16.983279Z"
    }
   },
   "outputs": [],
   "source": [
    "#model = keras.models.load_model(path_model1)\n",
    "# model_used = model"
   ]
  },
  {
   "cell_type": "code",
   "execution_count": 14,
   "metadata": {
    "collapsed": true,
    "execution": {
     "iopub.execute_input": "2022-02-03T03:56:16.988402Z",
     "iopub.status.busy": "2022-02-03T03:56:16.987268Z",
     "iopub.status.idle": "2022-02-03T03:56:16.989608Z",
     "shell.execute_reply": "2022-02-03T03:56:16.990311Z"
    },
    "jupyter": {
     "outputs_hidden": true
    },
    "tags": []
   },
   "outputs": [],
   "source": [
    "# evaluate_model(model,x_test,y_test,appliances)"
   ]
  },
  {
   "cell_type": "code",
   "execution_count": 15,
   "metadata": {
    "collapsed": true,
    "execution": {
     "iopub.execute_input": "2022-02-03T03:56:17.006613Z",
     "iopub.status.busy": "2022-02-03T03:56:17.005320Z",
     "iopub.status.idle": "2022-02-03T03:56:17.007898Z",
     "shell.execute_reply": "2022-02-03T03:56:17.008920Z"
    }
   },
   "outputs": [],
   "source": [
    "# datasets =[\n",
    "#     \"ukdale_gen_GASF_13m_100S5X12A54480_R82_80-20\"\n",
    "# ]\n",
    "\n",
    "if environ['train_type'] == \"TL\": \n",
    "    models = environ['tl_datasets'].split(\",\")\n",
    "    #model = [\"base\"]\n",
    "    \n",
    "    for model in models:\n",
    "    \n",
    "        file_name = dataset\n",
    "        \n",
    "        datasetTL = model\n",
    "        \n",
    "        seed = dataset.split(\"_R\")[1][0:2]\n",
    "        \n",
    "        print(\"using dataset data\",dataset.split(\"_\")[0],\"training on model\",model,\"seed\",environ['seed'])\n",
    "        txt_log.write(\"starting \"+dataset.split(\"_\")[0]+\" training on model \"+model+\" seed \"+environ['seed']+\"\\n\")\n",
    "\n",
    "\n",
    "        tf.keras.backend.clear_session()\n",
    "\n",
    "\n",
    "        #read the file\n",
    "        path = str(pathlib.Path().resolve())\n",
    "        path_data = f\"{path}\"\"/data/\"f\"{file_name}\"\"/\"f\"{file_name}\"\".hdf5\"\n",
    "        file = h5py.File(path_data,\"r+\")\n",
    "\n",
    "\n",
    "        print(\"reading data, printing stats: \")\n",
    "        x_test,y_test,d_class_weights,num_of_classes,appliances = get_data(file)\n",
    "        print(\"loading model\")\n",
    "        \n",
    "        model_seed = 42\n",
    "        model_used = create_tl_model(model,environ['learn_type'],model_seed,path,num_of_classes)\n",
    "                \n",
    "        train_gen = HDF5ImageGenerator(\n",
    "            src= path_data,\n",
    "            X_key=\"data/train/gaf\",\n",
    "            y_key=\"labels/train/gaf\",\n",
    "            classes_key=\"appliances/classes\",\n",
    "            labels_encoding=\"hot\",\n",
    "            shuffle=True,\n",
    "            batch_size=int(environ['batch_size']),\n",
    "            num_classes=num_of_classes,\n",
    "            mode=\"train\",\n",
    "            )\n",
    "\n",
    "        model_used.fit(\n",
    "            train_gen,\n",
    "            verbose=2,\n",
    "            epochs=int(environ['epochs']),\n",
    "            class_weight=d_class_weights,\n",
    "            callbacks = [save_op_callback]\n",
    "            #workers = 6,\n",
    "        )\n",
    "        \n",
    "        txt_log.write(\"finished \"+dataset.split(\"_\")[0]+\" training on model \"+model+\" seed \"+environ['seed']+\"\\n\")\n",
    "\n",
    "\n",
    "        evaluate_model(model_used,x_test,y_test,appliances)\n",
    "        \n",
    "\n",
    "\n",
    "\n",
    "        #del model_used\n",
    "\n"
   ]
  },
  {
   "cell_type": "code",
   "execution_count": 16,
   "metadata": {
    "execution": {
     "iopub.execute_input": "2022-02-03T03:56:17.015158Z",
     "iopub.status.busy": "2022-02-03T03:56:17.013867Z",
     "iopub.status.idle": "2022-02-03T03:56:17.016709Z",
     "shell.execute_reply": "2022-02-03T03:56:17.017757Z"
    }
   },
   "outputs": [],
   "source": [
    "txt_log.close()"
   ]
  },
  {
   "cell_type": "code",
   "execution_count": null,
   "metadata": {},
   "outputs": [],
   "source": []
  }
 ],
 "metadata": {
  "colab": {
   "authorship_tag": "ABX9TyMej4PvP65qsLng7TnQKWA4",
   "name": "LSTM-gen",
   "provenance": []
  },
  "kernelspec": {
   "display_name": "Python 3 (ipykernel)",
   "language": "python",
   "name": "python3"
  },
  "language_info": {
   "codemirror_mode": {
    "name": "ipython",
    "version": 3
   },
   "file_extension": ".py",
   "mimetype": "text/x-python",
   "name": "python",
   "nbconvert_exporter": "python",
   "pygments_lexer": "ipython3",
   "version": "3.8.10"
  }
 },
 "nbformat": 4,
 "nbformat_minor": 4
}
