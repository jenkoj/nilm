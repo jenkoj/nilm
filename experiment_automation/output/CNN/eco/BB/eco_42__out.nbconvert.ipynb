{
 "cells": [
  {
   "cell_type": "code",
   "execution_count": 1,
   "metadata": {
    "execution": {
     "iopub.execute_input": "2022-02-02T22:23:29.296002Z",
     "iopub.status.busy": "2022-02-02T22:23:29.294596Z",
     "iopub.status.idle": "2022-02-02T22:23:31.409256Z",
     "shell.execute_reply": "2022-02-02T22:23:31.407937Z"
    },
    "id": "WqUfHWgtJxtu",
    "scrolled": true,
    "tags": []
   },
   "outputs": [
    {
     "name": "stderr",
     "output_type": "stream",
     "text": [
      "2022-02-02 22:23:30.319031: I tensorflow/stream_executor/platform/default/dso_loader.cc:54] Successfully opened dynamic library libcudart.so.11.0\n"
     ]
    },
    {
     "name": "stdout",
     "output_type": "stream",
     "text": [
      "2.5.0\n",
      "Num GPUs Available:  1\n"
     ]
    },
    {
     "name": "stderr",
     "output_type": "stream",
     "text": [
      "2022-02-02 22:23:31.339126: I tensorflow/stream_executor/platform/default/dso_loader.cc:54] Successfully opened dynamic library libcuda.so.1\n",
      "2022-02-02 22:23:31.384586: I tensorflow/core/common_runtime/gpu/gpu_device.cc:1734] Found device 0 with properties: \n",
      "pciBusID: 0000:21:00.0 name: NVIDIA GeForce RTX 2080 Ti computeCapability: 7.5\n",
      "coreClock: 1.545GHz coreCount: 68 deviceMemorySize: 10.76GiB deviceMemoryBandwidth: 573.69GiB/s\n",
      "2022-02-02 22:23:31.384635: I tensorflow/stream_executor/platform/default/dso_loader.cc:54] Successfully opened dynamic library libcudart.so.11.0\n",
      "2022-02-02 22:23:31.391212: I tensorflow/stream_executor/platform/default/dso_loader.cc:54] Successfully opened dynamic library libcublas.so.11\n",
      "2022-02-02 22:23:31.391269: I tensorflow/stream_executor/platform/default/dso_loader.cc:54] Successfully opened dynamic library libcublasLt.so.11\n",
      "2022-02-02 22:23:31.393343: I tensorflow/stream_executor/platform/default/dso_loader.cc:54] Successfully opened dynamic library libcufft.so.10\n",
      "2022-02-02 22:23:31.394679: I tensorflow/stream_executor/platform/default/dso_loader.cc:54] Successfully opened dynamic library libcurand.so.10\n",
      "2022-02-02 22:23:31.395978: I tensorflow/stream_executor/platform/default/dso_loader.cc:54] Successfully opened dynamic library libcutensor.so.1\n",
      "2022-02-02 22:23:31.396997: I tensorflow/stream_executor/platform/default/dso_loader.cc:54] Successfully opened dynamic library libcusolver.so.11\n",
      "2022-02-02 22:23:31.398399: I tensorflow/stream_executor/platform/default/dso_loader.cc:54] Successfully opened dynamic library libcusparse.so.11\n",
      "2022-02-02 22:23:31.398703: I tensorflow/stream_executor/platform/default/dso_loader.cc:54] Successfully opened dynamic library libcudnn.so.8\n",
      "2022-02-02 22:23:31.399073: I tensorflow/core/common_runtime/gpu/gpu_device.cc:1872] Adding visible gpu devices: 0\n"
     ]
    }
   ],
   "source": [
    "import h5py\n",
    "import numpy as np\n",
    "\n",
    "from sklearn.model_selection import train_test_split\n",
    "from sklearn.metrics import classification_report, confusion_matrix\n",
    "import matplotlib.pyplot as plt\n",
    "import itertools \n",
    "import pyts\n",
    "from pyts.approximation import PiecewiseAggregateApproximation\n",
    "\n",
    "from sklearn.utils import class_weight\n",
    "\n",
    "import pathlib\n",
    "import tensorflow as tf\n",
    "from tensorflow import keras\n",
    "from tensorflow.keras import layers, optimizers\n",
    "from tensorflow.keras.layers import Convolution2D,Conv2D, Dense,Dropout, Flatten, Activation, MaxPooling2D, Input, Conv1D, GlobalAveragePooling1D, TimeDistributed, GRU, LSTM\n",
    "\n",
    "print(tf.__version__)\n",
    "print(\"Num GPUs Available: \", len(tf.config.list_physical_devices('GPU')))\n",
    "gpus = tf.config.experimental.list_physical_devices('GPU')\n",
    "\n",
    "try:\n",
    "    for gpu in gpus:\n",
    "        tf.config.experimental.set_memory_growth(gpu, True)\n",
    "except RuntimeError as e:\n",
    "    print(e)"
   ]
  },
  {
   "cell_type": "code",
   "execution_count": 2,
   "metadata": {
    "execution": {
     "iopub.execute_input": "2022-02-02T22:23:31.414935Z",
     "iopub.status.busy": "2022-02-02T22:23:31.413837Z",
     "iopub.status.idle": "2022-02-02T22:23:31.418452Z",
     "shell.execute_reply": "2022-02-02T22:23:31.417480Z"
    }
   },
   "outputs": [
    {
     "name": "stdout",
     "output_type": "stream",
     "text": [
      "eco_gen_GASF_60m_300S0X_2_R42_80-20\n"
     ]
    }
   ],
   "source": [
    "from os import environ\n",
    "dataset = environ['dataset']\n",
    "print(dataset)"
   ]
  },
  {
   "cell_type": "code",
   "execution_count": 3,
   "metadata": {
    "execution": {
     "iopub.execute_input": "2022-02-02T22:23:31.424361Z",
     "iopub.status.busy": "2022-02-02T22:23:31.423305Z",
     "iopub.status.idle": "2022-02-02T22:23:31.428255Z",
     "shell.execute_reply": "2022-02-02T22:23:31.427285Z"
    }
   },
   "outputs": [],
   "source": [
    "#my defs \n",
    "from modules.models import  LSTM_3D_V56, CNN_V56,LSTM_BI_V56\n",
    "from modules.tools import my_print, plot_confusion_matrix_norm, get_data,get_data_split, evaluate_model, create_tl_model\n",
    "from modules.HDF5ImageGenerator import HDF5ImageGenerator"
   ]
  },
  {
   "cell_type": "code",
   "execution_count": 4,
   "metadata": {
    "execution": {
     "iopub.execute_input": "2022-02-02T22:23:31.434999Z",
     "iopub.status.busy": "2022-02-02T22:23:31.433781Z",
     "iopub.status.idle": "2022-02-02T22:23:31.436287Z",
     "shell.execute_reply": "2022-02-02T22:23:31.437253Z"
    },
    "id": "RT1vwq7-KOtB"
   },
   "outputs": [],
   "source": [
    "#LOAD DATASET\n",
    "#file_name = \"ukdale_gen_GASF_13m_100S5X12A54480\"\n",
    "#file_name = \"refit_gen_GASF_13m_100S5X_15A166006\"\n",
    "file_name = \"refit_gen_GASF_13m_100S5X_15A166006_R42-80-20\"\n",
    "#file_name = \"refit_gen_GASF_13m_100S5X_15A166006_R42_80-20\"\n",
    "file_name = \"refit_gen_GASF_60m_300S0X_15A157030N_R12_80-20-V1\"\n",
    "file_name = environ[\"dataset\"]\n",
    "#read the file\n",
    "path = str(pathlib.Path().resolve())\n",
    "\n",
    "path_data = f\"{path}\"\"/data/\"f\"{file_name}\"\"/\"f\"{file_name}\"\".hdf5\"\n",
    "\n",
    "file = h5py.File(path_data,\"r+\")"
   ]
  },
  {
   "cell_type": "code",
   "execution_count": 5,
   "metadata": {
    "execution": {
     "iopub.execute_input": "2022-02-02T22:23:31.443063Z",
     "iopub.status.busy": "2022-02-02T22:23:31.441876Z",
     "iopub.status.idle": "2022-02-02T22:23:34.476997Z",
     "shell.execute_reply": "2022-02-02T22:23:34.478101Z"
    },
    "scrolled": true
   },
   "outputs": [
    {
     "name": "stdout",
     "output_type": "stream",
     "text": [
      "['HEKA', 'fridge/freezer', 'HTPC', 'audio system', 'broadband router', 'coffee maker', 'computer', 'lamp', 'laptop computer', 'microwave', 'washing machine']\n",
      "{0: 8.877756286266925, 1: 0.15678009523354078, 2: 0.6806762568589648, 3: 2.9301583248212464, 4: 3.202260517686458, 5: 4.176722176722177, 6: 1.1790182126435305, 7: 2.295129512951295, 8: 1.5334602920049447, 9: 8.934786840568425, 10: 10.103015628439357}\n",
      " \n",
      "Tests \n",
      "HEKA test: 117 train: 470\n",
      "fridge/freezer test: 6654 train: 26614\n",
      "HTPC test: 1533 train: 6130\n",
      "audio system test: 356 train: 1424\n",
      "broadband router test: 326 train: 1303\n",
      "coffee maker test: 249 train: 999\n",
      "computer test: 885 train: 3539\n",
      "lamp test: 455 train: 1818\n",
      "laptop computer test: 680 train: 2721\n",
      "microwave test: 117 train: 467\n",
      "washing machine test: 103 train: 413\n"
     ]
    }
   ],
   "source": [
    "x_test,y_test,d_class_weights,num_of_classes,appliances = get_data(file)"
   ]
  },
  {
   "cell_type": "code",
   "execution_count": 6,
   "metadata": {
    "execution": {
     "iopub.execute_input": "2022-02-02T22:23:34.492818Z",
     "iopub.status.busy": "2022-02-02T22:23:34.492270Z",
     "iopub.status.idle": "2022-02-02T22:23:34.495285Z",
     "shell.execute_reply": "2022-02-02T22:23:34.495724Z"
    }
   },
   "outputs": [],
   "source": [
    "def select_model(learn_type):\n",
    "    \n",
    "    if learn_type == \"CNN\":\n",
    "        model = CNN_V56(file[\"data/train/gaf\"][0:10],num_of_classes,lr= 0.00002)\n",
    "\n",
    "    if learn_type == \"LSTM\":\n",
    "        model = LSTM_3D_V56(file[\"data/train/gaf\"][0:10],num_of_classes,lr= 0.00002)\n",
    "\n",
    "    if learn_type == \"BI_LSTM\":\n",
    "        model = LSTM_BI_V56(file[\"data/train/gaf\"][0:10],num_of_classes,lr= 0.00002)\n",
    "\n",
    "    return model\n",
    "              "
   ]
  },
  {
   "cell_type": "code",
   "execution_count": 7,
   "metadata": {
    "execution": {
     "iopub.execute_input": "2022-02-02T22:23:34.503732Z",
     "iopub.status.busy": "2022-02-02T22:23:34.503003Z",
     "iopub.status.idle": "2022-02-02T22:23:34.506304Z",
     "shell.execute_reply": "2022-02-02T22:23:34.506930Z"
    }
   },
   "outputs": [],
   "source": [
    "path_save = path+'/experiment_automation/output/'+environ['learn_type']+'/'+dataset.split(\"_\")[0]+\"/\"+environ['train_type']+\"/\"+dataset.split(\"_\")[0]+\"_\"+environ['seed']+\"_\"+environ['tl_datasets']\n",
    "path_save_nb = path_save+\"_out.ipynb\"\n",
    "path_save_log = path_save+\"_out_log2.txt\""
   ]
  },
  {
   "cell_type": "code",
   "execution_count": 8,
   "metadata": {
    "execution": {
     "iopub.execute_input": "2022-02-02T22:23:34.517795Z",
     "iopub.status.busy": "2022-02-02T22:23:34.516682Z",
     "iopub.status.idle": "2022-02-02T22:23:34.660229Z",
     "shell.execute_reply": "2022-02-02T22:23:34.659132Z"
    }
   },
   "outputs": [],
   "source": [
    "from keras.callbacks import LambdaCallback\n",
    "#path_log= path+'/experiment_automation/output/'+environ['learn_type']+'/'+dataset.split(\"_\")[0]+\"/\"+environ['train_type']+\"/\"+dataset.split(\"_\")[0]+\"_\"+environ['seed']+\"_\"+environ['tl_datasets']+\"_log.txt\"\n",
    "txt_log = open(path_save+\"_log.txt\", mode='wt', buffering=1)\n",
    "txt_log.write(\"file created! \\n\")\n",
    "\n",
    "save_op_callback = LambdaCallback(\n",
    "  on_epoch_end = lambda epoch, logs: txt_log.write(\n",
    "    str({'epoch': epoch, 'loss': logs['loss'],'acc': logs['accuracy']}) + '\\n'),\n",
    "                                                           \n",
    ")"
   ]
  },
  {
   "cell_type": "code",
   "execution_count": 9,
   "metadata": {
    "execution": {
     "iopub.execute_input": "2022-02-02T22:23:34.665916Z",
     "iopub.status.busy": "2022-02-02T22:23:34.664687Z",
     "iopub.status.idle": "2022-02-02T22:23:34.669651Z",
     "shell.execute_reply": "2022-02-02T22:23:34.668679Z"
    }
   },
   "outputs": [
    {
     "name": "stdout",
     "output_type": "stream",
     "text": [
      "/workspace/notebooks/experiment_automation/output/CNN/eco/BB/eco_42__out.ipynb\n"
     ]
    }
   ],
   "source": [
    "print(path_save_nb)"
   ]
  },
  {
   "cell_type": "code",
   "execution_count": 10,
   "metadata": {
    "execution": {
     "iopub.execute_input": "2022-02-02T22:23:34.674850Z",
     "iopub.status.busy": "2022-02-02T22:23:34.673720Z",
     "iopub.status.idle": "2022-02-02T22:23:34.676031Z",
     "shell.execute_reply": "2022-02-02T22:23:34.676946Z"
    }
   },
   "outputs": [],
   "source": [
    "# rm $path_save_log"
   ]
  },
  {
   "cell_type": "code",
   "execution_count": 11,
   "metadata": {
    "execution": {
     "iopub.execute_input": "2022-02-02T22:23:34.681754Z",
     "iopub.status.busy": "2022-02-02T22:23:34.680850Z",
     "iopub.status.idle": "2022-02-02T22:23:34.683172Z",
     "shell.execute_reply": "2022-02-02T22:23:34.683913Z"
    }
   },
   "outputs": [],
   "source": [
    "# %%capture cap \n",
    "\n",
    "# with open(path_save_log,\"wt\") as f:\n",
    "#     f.write(cap.stdout)\n",
    "    \n",
    "# print(\"out capture..\")"
   ]
  },
  {
   "cell_type": "code",
   "execution_count": 12,
   "metadata": {
    "execution": {
     "iopub.execute_input": "2022-02-02T22:23:34.698758Z",
     "iopub.status.busy": "2022-02-02T22:23:34.697549Z",
     "iopub.status.idle": "2022-02-03T01:10:00.356280Z",
     "shell.execute_reply": "2022-02-03T01:10:00.357278Z"
    },
    "id": "vqA9NwOqKrb5",
    "jupyter": {
     "outputs_hidden": true
    },
    "tags": []
   },
   "outputs": [
    {
     "name": "stdout",
     "output_type": "stream",
     "text": [
      "Normal way\n",
      "[0 1 2 3 4 5 6 7 8 9]\n",
      "WARNING:tensorflow:From /usr/local/lib/python3.8/dist-packages/tensorflow/python/ops/array_ops.py:5043: calling gather (from tensorflow.python.ops.array_ops) with validate_indices is deprecated and will be removed in a future version.\n",
      "Instructions for updating:\n",
      "The `validate_indices` argument has no effect. Indices are always validated on CPU and never validated on GPU.\n"
     ]
    },
    {
     "name": "stderr",
     "output_type": "stream",
     "text": [
      "2022-02-02 22:23:34.716581: I tensorflow/core/common_runtime/gpu/gpu_device.cc:1734] Found device 0 with properties: \n",
      "pciBusID: 0000:21:00.0 name: NVIDIA GeForce RTX 2080 Ti computeCapability: 7.5\n",
      "coreClock: 1.545GHz coreCount: 68 deviceMemorySize: 10.76GiB deviceMemoryBandwidth: 573.69GiB/s\n",
      "2022-02-02 22:23:34.718754: I tensorflow/core/common_runtime/gpu/gpu_device.cc:1872] Adding visible gpu devices: 0\n",
      "2022-02-02 22:23:34.718819: I tensorflow/stream_executor/platform/default/dso_loader.cc:54] Successfully opened dynamic library libcudart.so.11.0\n",
      "2022-02-02 22:23:35.099227: I tensorflow/core/common_runtime/gpu/gpu_device.cc:1258] Device interconnect StreamExecutor with strength 1 edge matrix:\n",
      "2022-02-02 22:23:35.099262: I tensorflow/core/common_runtime/gpu/gpu_device.cc:1264]      0 \n",
      "2022-02-02 22:23:35.099269: I tensorflow/core/common_runtime/gpu/gpu_device.cc:1277] 0:   N \n",
      "2022-02-02 22:23:35.099829: I tensorflow/core/common_runtime/gpu/gpu_device.cc:1418] Created TensorFlow device (/job:localhost/replica:0/task:0/device:GPU:0 with 9649 MB memory) -> physical GPU (device: 0, name: NVIDIA GeForce RTX 2080 Ti, pci bus id: 0000:21:00.0, compute capability: 7.5)\n",
      "2022-02-02 22:23:35.100154: I tensorflow/core/common_runtime/process_util.cc:146] Creating new thread pool with default inter op setting: 20. Tune using inter_op_parallelism_threads for best performance.\n",
      "2022-02-02 22:23:35.230749: I tensorflow/compiler/mlir/mlir_graph_optimization_pass.cc:176] None of the MLIR Optimization Passes are enabled (registered 2)\n",
      "2022-02-02 22:23:35.248587: I tensorflow/core/platform/profile_utils/cpu_utils.cc:114] CPU Frequency: 3299990000 Hz\n"
     ]
    },
    {
     "name": "stdout",
     "output_type": "stream",
     "text": [
      "Epoch 1/50\n"
     ]
    },
    {
     "name": "stderr",
     "output_type": "stream",
     "text": [
      "2022-02-02 22:23:35.881862: I tensorflow/stream_executor/platform/default/dso_loader.cc:54] Successfully opened dynamic library libcudnn.so.8\n",
      "2022-02-02 22:23:36.594095: I tensorflow/stream_executor/cuda/cuda_dnn.cc:380] Loaded cuDNN version 8202\n",
      "2022-02-02 22:23:37.427272: I tensorflow/stream_executor/platform/default/dso_loader.cc:54] Successfully opened dynamic library libcublas.so.11\n",
      "2022-02-02 22:23:37.851784: I tensorflow/stream_executor/platform/default/dso_loader.cc:54] Successfully opened dynamic library libcublasLt.so.11\n"
     ]
    },
    {
     "name": "stdout",
     "output_type": "stream",
     "text": [
      "5738/5738 - 203s - loss: 2.0152 - accuracy: 0.2912\n",
      "Epoch 2/50\n",
      "5738/5738 - 200s - loss: 1.4216 - accuracy: 0.4785\n",
      "Epoch 3/50\n",
      "5738/5738 - 199s - loss: 1.1160 - accuracy: 0.6727\n",
      "Epoch 4/50\n",
      "5738/5738 - 199s - loss: 0.9726 - accuracy: 0.7052\n",
      "Epoch 5/50\n",
      "5738/5738 - 199s - loss: 0.8764 - accuracy: 0.7302\n",
      "Epoch 6/50\n",
      "5738/5738 - 200s - loss: 0.8189 - accuracy: 0.7407\n",
      "Epoch 7/50\n",
      "5738/5738 - 199s - loss: 0.7657 - accuracy: 0.7565\n",
      "Epoch 8/50\n",
      "5738/5738 - 199s - loss: 0.7504 - accuracy: 0.7645\n",
      "Epoch 9/50\n",
      "5738/5738 - 199s - loss: 0.6984 - accuracy: 0.7840\n",
      "Epoch 10/50\n",
      "5738/5738 - 199s - loss: 0.6734 - accuracy: 0.7903\n",
      "Epoch 11/50\n",
      "5738/5738 - 200s - loss: 0.6429 - accuracy: 0.7983\n",
      "Epoch 12/50\n",
      "5738/5738 - 201s - loss: 0.6222 - accuracy: 0.8055\n",
      "Epoch 13/50\n",
      "5738/5738 - 199s - loss: 0.5989 - accuracy: 0.8119\n",
      "Epoch 14/50\n",
      "5738/5738 - 198s - loss: 0.5855 - accuracy: 0.8158\n",
      "Epoch 15/50\n",
      "5738/5738 - 198s - loss: 0.5634 - accuracy: 0.8182\n",
      "Epoch 16/50\n",
      "5738/5738 - 199s - loss: 0.5495 - accuracy: 0.8220\n",
      "Epoch 17/50\n",
      "5738/5738 - 200s - loss: 0.5320 - accuracy: 0.8297\n",
      "Epoch 18/50\n",
      "5738/5738 - 200s - loss: 0.5289 - accuracy: 0.8252\n",
      "Epoch 19/50\n",
      "5738/5738 - 199s - loss: 0.5224 - accuracy: 0.8277\n",
      "Epoch 20/50\n",
      "5738/5738 - 199s - loss: 0.4970 - accuracy: 0.8307\n",
      "Epoch 21/50\n",
      "5738/5738 - 199s - loss: 0.4807 - accuracy: 0.8406\n",
      "Epoch 22/50\n",
      "5738/5738 - 199s - loss: 0.4756 - accuracy: 0.8360\n",
      "Epoch 23/50\n",
      "5738/5738 - 200s - loss: 0.4612 - accuracy: 0.8405\n",
      "Epoch 24/50\n",
      "5738/5738 - 200s - loss: 0.4538 - accuracy: 0.8461\n",
      "Epoch 25/50\n",
      "5738/5738 - 200s - loss: 0.4368 - accuracy: 0.8477\n",
      "Epoch 26/50\n",
      "5738/5738 - 200s - loss: 0.4337 - accuracy: 0.8498\n",
      "Epoch 27/50\n",
      "5738/5738 - 200s - loss: 0.4159 - accuracy: 0.8522\n",
      "Epoch 28/50\n",
      "5738/5738 - 200s - loss: 0.4203 - accuracy: 0.8499\n",
      "Epoch 29/50\n",
      "5738/5738 - 199s - loss: 0.4177 - accuracy: 0.8493\n",
      "Epoch 30/50\n",
      "5738/5738 - 199s - loss: 0.3951 - accuracy: 0.8539\n",
      "Epoch 31/50\n",
      "5738/5738 - 199s - loss: 0.3960 - accuracy: 0.8567\n",
      "Epoch 32/50\n",
      "5738/5738 - 199s - loss: 0.4053 - accuracy: 0.8549\n",
      "Epoch 33/50\n",
      "5738/5738 - 199s - loss: 0.3835 - accuracy: 0.8568\n",
      "Epoch 34/50\n",
      "5738/5738 - 199s - loss: 0.3855 - accuracy: 0.8597\n",
      "Epoch 35/50\n",
      "5738/5738 - 200s - loss: 0.3766 - accuracy: 0.8614\n",
      "Epoch 36/50\n",
      "5738/5738 - 200s - loss: 0.3762 - accuracy: 0.8612\n",
      "Epoch 37/50\n",
      "5738/5738 - 199s - loss: 0.3613 - accuracy: 0.8628\n",
      "Epoch 38/50\n",
      "5738/5738 - 199s - loss: 0.3642 - accuracy: 0.8655\n",
      "Epoch 39/50\n",
      "5738/5738 - 199s - loss: 0.3647 - accuracy: 0.8617\n",
      "Epoch 40/50\n",
      "5738/5738 - 199s - loss: 0.3458 - accuracy: 0.8683\n",
      "Epoch 41/50\n",
      "5738/5738 - 199s - loss: 0.3566 - accuracy: 0.8630\n",
      "Epoch 42/50\n",
      "5738/5738 - 198s - loss: 0.3357 - accuracy: 0.8705\n",
      "Epoch 43/50\n",
      "5738/5738 - 198s - loss: 0.3504 - accuracy: 0.8691\n",
      "Epoch 44/50\n",
      "5738/5738 - 198s - loss: 0.3287 - accuracy: 0.8736\n",
      "Epoch 45/50\n",
      "5738/5738 - 198s - loss: 0.3229 - accuracy: 0.8744\n",
      "Epoch 46/50\n",
      "5738/5738 - 199s - loss: 0.3225 - accuracy: 0.8740\n",
      "Epoch 47/50\n",
      "5738/5738 - 200s - loss: 0.3123 - accuracy: 0.8795\n",
      "Epoch 48/50\n",
      "5738/5738 - 200s - loss: 0.3242 - accuracy: 0.8736\n",
      "Epoch 49/50\n",
      "5738/5738 - 199s - loss: 0.3204 - accuracy: 0.8747\n",
      "Epoch 50/50\n",
      "5738/5738 - 198s - loss: 0.3193 - accuracy: 0.8775\n",
      "359/359 - 16s\n",
      "Normalized confusion matrix\n",
      "                  precision    recall  f1-score   support\n",
      "\n",
      "            HEKA       0.96      0.95      0.95       117\n",
      "  fridge/freezer       0.99      0.92      0.95      6654\n",
      "            HTPC       0.75      0.83      0.79      1533\n",
      "    audio system       0.55      0.77      0.64       356\n",
      "broadband router       0.98      1.00      0.99       326\n",
      "    coffee maker       0.79      0.89      0.84       249\n",
      "        computer       0.89      0.94      0.92       885\n",
      "            lamp       0.71      0.62      0.66       455\n",
      " laptop computer       0.79      0.64      0.71       680\n",
      "       microwave       0.42      0.79      0.55       117\n",
      " washing machine       0.35      0.83      0.49       103\n",
      "\n",
      "        accuracy                           0.88     11475\n",
      "       macro avg       0.74      0.84      0.77     11475\n",
      "    weighted avg       0.90      0.88      0.88     11475\n",
      "\n"
     ]
    },
    {
     "name": "stderr",
     "output_type": "stream",
     "text": [
      "2022-02-03 01:09:59.173914: W tensorflow/python/util/util.cc:348] Sets are not currently considered sequences, but this may change in the future, so consider avoiding using them.\n"
     ]
    },
    {
     "name": "stdout",
     "output_type": "stream",
     "text": [
      "INFO:tensorflow:Assets written to: /workspace/notebooks/models/CNN/eco_42/assets\n"
     ]
    },
    {
     "data": {
      "image/png": "[encoded data removed]",
      "text/plain": [
       "<Figure size 720x720 with 2 Axes>"
      ]
     },
     "metadata": {
      "needs_background": "light"
     },
     "output_type": "display_data"
    }
   ],
   "source": [
    "# %%capture cap --no-stderr\n",
    "\n",
    "\n",
    "if environ['train_type'] == \"BB\":\n",
    "\n",
    "    #define generator\n",
    "    train_gen = HDF5ImageGenerator(\n",
    "        src= path_data,\n",
    "        X_key=\"data/train/gaf\",\n",
    "        y_key=\"labels/train/gaf\",\n",
    "        classes_key=\"appliances/classes\",\n",
    "        labels_encoding=\"hot\",\n",
    "        shuffle=True,\n",
    "        batch_size=int(environ['batch_size']),\n",
    "        num_classes=num_of_classes,\n",
    "        mode=\"train\",\n",
    "        )\n",
    "    \n",
    "    model = select_model(environ['learn_type'])\n",
    "    \n",
    "    txt_log.write(\"fitting BB model: \\n\")\n",
    "    \n",
    "    model.fit(\n",
    "        train_gen,\n",
    "        verbose=2,\n",
    "        epochs=int(environ['epochs']),\n",
    "        class_weight=d_class_weights,\n",
    "        callbacks = [save_op_callback],\n",
    "    )\n",
    "    \n",
    "    txt_log.write(\"finished fitting BB model: \\n\")\n",
    "\n",
    "    evaluate_model(model,x_test,y_test,appliances)\n",
    "    \n",
    "    if environ['save_model']==\"True\":\n",
    "\n",
    "        path_model_save = path+\"/models/\"+environ['learn_type']+\"/\"+dataset.split(\"_\")[0]+\"_\"+dataset.split(\"_R\")[1][0:2]\n",
    "        model.save(path_model_save)\n",
    "        txt_log.write(\"model saved to:\"+\"/models/\"+environ['learn_type']+\"/\"+dataset.split(\"_\")[0]+\"_\"+dataset.split(\"_R\")[1][0:2]+\" \\n\")\n",
    "        \n",
    "        \n",
    "# with open(path_save+\"_out_log.txt\" as f:\n",
    "#     f.write(cap.stdout)\n"
   ]
  },
  {
   "cell_type": "code",
   "execution_count": 13,
   "metadata": {
    "collapsed": true,
    "execution": {
     "iopub.execute_input": "2022-02-03T01:10:00.362887Z",
     "iopub.status.busy": "2022-02-03T01:10:00.361585Z",
     "iopub.status.idle": "2022-02-03T01:10:00.364312Z",
     "shell.execute_reply": "2022-02-03T01:10:00.365404Z"
    }
   },
   "outputs": [],
   "source": [
    "#model = keras.models.load_model(path_model1)\n",
    "# model_used = model"
   ]
  },
  {
   "cell_type": "code",
   "execution_count": 14,
   "metadata": {
    "collapsed": true,
    "execution": {
     "iopub.execute_input": "2022-02-03T01:10:00.370807Z",
     "iopub.status.busy": "2022-02-03T01:10:00.369542Z",
     "iopub.status.idle": "2022-02-03T01:10:00.372192Z",
     "shell.execute_reply": "2022-02-03T01:10:00.373276Z"
    },
    "jupyter": {
     "outputs_hidden": true
    },
    "tags": []
   },
   "outputs": [],
   "source": [
    "# evaluate_model(model,x_test,y_test,appliances)"
   ]
  },
  {
   "cell_type": "code",
   "execution_count": 15,
   "metadata": {
    "collapsed": true,
    "execution": {
     "iopub.execute_input": "2022-02-03T01:10:00.391426Z",
     "iopub.status.busy": "2022-02-03T01:10:00.382174Z",
     "iopub.status.idle": "2022-02-03T01:10:00.394660Z",
     "shell.execute_reply": "2022-02-03T01:10:00.393555Z"
    }
   },
   "outputs": [],
   "source": [
    "# datasets =[\n",
    "#     \"ukdale_gen_GASF_13m_100S5X12A54480_R82_80-20\"\n",
    "# ]\n",
    "\n",
    "if environ['train_type'] == \"TL\": \n",
    "    models = environ['tl_datasets'].split(\",\")\n",
    "    #model = [\"base\"]\n",
    "    \n",
    "    for model in models:\n",
    "    \n",
    "        file_name = dataset\n",
    "        \n",
    "        datasetTL = model\n",
    "        \n",
    "        seed = dataset.split(\"_R\")[1][0:2]\n",
    "        \n",
    "        print(\"using dataset data\",dataset.split(\"_\")[0],\"training on model\",model,\"seed\",environ['seed'])\n",
    "        txt_log.write(\"starting \"+dataset.split(\"_\")[0]+\" training on model \"+model+\" seed \"+environ['seed']+\"\\n\")\n",
    "\n",
    "\n",
    "        tf.keras.backend.clear_session()\n",
    "\n",
    "\n",
    "        #read the file\n",
    "        path = str(pathlib.Path().resolve())\n",
    "        path_data = f\"{path}\"\"/data/\"f\"{file_name}\"\"/\"f\"{file_name}\"\".hdf5\"\n",
    "        file = h5py.File(path_data,\"r+\")\n",
    "\n",
    "\n",
    "        print(\"reading data, printing stats: \")\n",
    "        x_test,y_test,d_class_weights,num_of_classes,appliances = get_data(file)\n",
    "        print(\"loading model\")\n",
    "        \n",
    "        model_seed = 42\n",
    "        model_used = create_tl_model(model,environ['learn_type'],model_seed,path,num_of_classes)\n",
    "                \n",
    "        train_gen = HDF5ImageGenerator(\n",
    "            src= path_data,\n",
    "            X_key=\"data/train/gaf\",\n",
    "            y_key=\"labels/train/gaf\",\n",
    "            classes_key=\"appliances/classes\",\n",
    "            labels_encoding=\"hot\",\n",
    "            shuffle=True,\n",
    "            batch_size=int(environ['batch_size']),\n",
    "            num_classes=num_of_classes,\n",
    "            mode=\"train\",\n",
    "            )\n",
    "\n",
    "        model_used.fit(\n",
    "            train_gen,\n",
    "            verbose=2,\n",
    "            epochs=int(environ['epochs']),\n",
    "            class_weight=d_class_weights,\n",
    "            callbacks = [save_op_callback]\n",
    "            #workers = 6,\n",
    "        )\n",
    "        \n",
    "        txt_log.write(\"finished \"+dataset.split(\"_\")[0]+\" training on model \"+model+\" seed \"+environ['seed']+\"\\n\")\n",
    "\n",
    "\n",
    "        evaluate_model(model_used,x_test,y_test,appliances)\n",
    "        \n",
    "\n",
    "\n",
    "\n",
    "        #del model_used\n",
    "\n"
   ]
  },
  {
   "cell_type": "code",
   "execution_count": 16,
   "metadata": {
    "execution": {
     "iopub.execute_input": "2022-02-03T01:10:00.400356Z",
     "iopub.status.busy": "2022-02-03T01:10:00.399065Z",
     "iopub.status.idle": "2022-02-03T01:10:00.401735Z",
     "shell.execute_reply": "2022-02-03T01:10:00.402788Z"
    }
   },
   "outputs": [],
   "source": [
    "txt_log.close()"
   ]
  },
  {
   "cell_type": "code",
   "execution_count": null,
   "metadata": {},
   "outputs": [],
   "source": []
  }
 ],
 "metadata": {
  "colab": {
   "authorship_tag": "ABX9TyMej4PvP65qsLng7TnQKWA4",
   "name": "LSTM-gen",
   "provenance": []
  },
  "kernelspec": {
   "display_name": "Python 3 (ipykernel)",
   "language": "python",
   "name": "python3"
  },
  "language_info": {
   "codemirror_mode": {
    "name": "ipython",
    "version": 3
   },
   "file_extension": ".py",
   "mimetype": "text/x-python",
   "name": "python",
   "nbconvert_exporter": "python",
   "pygments_lexer": "ipython3",
   "version": "3.8.10"
  }
 },
 "nbformat": 4,
 "nbformat_minor": 4
}
