{
 "cells": [
  {
   "cell_type": "code",
   "execution_count": 1,
   "metadata": {
    "execution": {
     "iopub.execute_input": "2022-02-09T00:59:32.916433Z",
     "iopub.status.busy": "2022-02-09T00:59:32.914858Z",
     "iopub.status.idle": "2022-02-09T00:59:35.688467Z",
     "shell.execute_reply": "2022-02-09T00:59:35.685915Z"
    },
    "id": "WqUfHWgtJxtu",
    "scrolled": true,
    "tags": []
   },
   "outputs": [
    {
     "name": "stderr",
     "output_type": "stream",
     "text": [
      "2022-02-09 00:59:34.239416: I tensorflow/stream_executor/platform/default/dso_loader.cc:54] Successfully opened dynamic library libcudart.so.11.0\n"
     ]
    },
    {
     "name": "stdout",
     "output_type": "stream",
     "text": [
      "2.5.0\n",
      "Num GPUs Available:  1\n"
     ]
    },
    {
     "name": "stderr",
     "output_type": "stream",
     "text": [
      "2022-02-09 00:59:35.589799: I tensorflow/stream_executor/platform/default/dso_loader.cc:54] Successfully opened dynamic library libcuda.so.1\n",
      "2022-02-09 00:59:35.630956: I tensorflow/core/common_runtime/gpu/gpu_device.cc:1734] Found device 0 with properties: \n",
      "pciBusID: 0000:21:00.0 name: NVIDIA GeForce RTX 2080 Ti computeCapability: 7.5\n",
      "coreClock: 1.545GHz coreCount: 68 deviceMemorySize: 10.76GiB deviceMemoryBandwidth: 573.69GiB/s\n",
      "2022-02-09 00:59:35.631045: I tensorflow/stream_executor/platform/default/dso_loader.cc:54] Successfully opened dynamic library libcudart.so.11.0\n",
      "2022-02-09 00:59:35.644235: I tensorflow/stream_executor/platform/default/dso_loader.cc:54] Successfully opened dynamic library libcublas.so.11\n",
      "2022-02-09 00:59:35.644307: I tensorflow/stream_executor/platform/default/dso_loader.cc:54] Successfully opened dynamic library libcublasLt.so.11\n",
      "2022-02-09 00:59:35.651290: I tensorflow/stream_executor/platform/default/dso_loader.cc:54] Successfully opened dynamic library libcufft.so.10\n",
      "2022-02-09 00:59:35.653198: I tensorflow/stream_executor/platform/default/dso_loader.cc:54] Successfully opened dynamic library libcurand.so.10\n",
      "2022-02-09 00:59:35.670444: I tensorflow/stream_executor/platform/default/dso_loader.cc:54] Successfully opened dynamic library libcutensor.so.1\n",
      "2022-02-09 00:59:35.672152: I tensorflow/stream_executor/platform/default/dso_loader.cc:54] Successfully opened dynamic library libcusolver.so.11\n",
      "2022-02-09 00:59:35.676643: I tensorflow/stream_executor/platform/default/dso_loader.cc:54] Successfully opened dynamic library libcusparse.so.11\n",
      "2022-02-09 00:59:35.677275: I tensorflow/stream_executor/platform/default/dso_loader.cc:54] Successfully opened dynamic library libcudnn.so.8\n",
      "2022-02-09 00:59:35.678143: I tensorflow/core/common_runtime/gpu/gpu_device.cc:1872] Adding visible gpu devices: 0\n"
     ]
    }
   ],
   "source": [
    "import h5py\n",
    "import numpy as np\n",
    "\n",
    "from sklearn.model_selection import train_test_split\n",
    "from sklearn.metrics import classification_report, confusion_matrix\n",
    "import matplotlib.pyplot as plt\n",
    "import itertools \n",
    "import pyts\n",
    "from pyts.approximation import PiecewiseAggregateApproximation\n",
    "\n",
    "from sklearn.utils import class_weight\n",
    "\n",
    "import pathlib\n",
    "import tensorflow as tf\n",
    "from tensorflow import keras\n",
    "from tensorflow.keras import layers, optimizers\n",
    "from tensorflow.keras.layers import Convolution2D,Conv2D, Dense,Dropout, Flatten, Activation, MaxPooling2D, Input, Conv1D, GlobalAveragePooling1D, TimeDistributed, GRU, LSTM\n",
    "\n",
    "print(tf.__version__)\n",
    "print(\"Num GPUs Available: \", len(tf.config.list_physical_devices('GPU')))\n",
    "gpus = tf.config.experimental.list_physical_devices('GPU')\n",
    "\n",
    "try:\n",
    "    for gpu in gpus:\n",
    "        tf.config.experimental.set_memory_growth(gpu, True)\n",
    "except RuntimeError as e:\n",
    "    print(e)"
   ]
  },
  {
   "cell_type": "code",
   "execution_count": 2,
   "metadata": {
    "execution": {
     "iopub.execute_input": "2022-02-09T00:59:35.693193Z",
     "iopub.status.busy": "2022-02-09T00:59:35.692518Z",
     "iopub.status.idle": "2022-02-09T00:59:35.697062Z",
     "shell.execute_reply": "2022-02-09T00:59:35.696434Z"
    }
   },
   "outputs": [
    {
     "name": "stdout",
     "output_type": "stream",
     "text": [
      "refit_gen_GASF_60m_300S0X_15A157030N_R12_80-20-V1\n"
     ]
    }
   ],
   "source": [
    "from os import environ\n",
    "dataset = environ['dataset']\n",
    "print(dataset)"
   ]
  },
  {
   "cell_type": "code",
   "execution_count": 3,
   "metadata": {
    "execution": {
     "iopub.execute_input": "2022-02-09T00:59:35.705166Z",
     "iopub.status.busy": "2022-02-09T00:59:35.704175Z",
     "iopub.status.idle": "2022-02-09T00:59:35.708715Z",
     "shell.execute_reply": "2022-02-09T00:59:35.709473Z"
    }
   },
   "outputs": [],
   "source": [
    "#my defs \n",
    "from modules.models import  LSTM_3D_V56, CNN_V56,LSTM_BI_V56\n",
    "from modules.tools import my_print, plot_confusion_matrix_norm, get_data,get_data_split, evaluate_model, create_tl_model\n",
    "from modules.HDF5ImageGenerator import HDF5ImageGenerator"
   ]
  },
  {
   "cell_type": "code",
   "execution_count": 4,
   "metadata": {
    "execution": {
     "iopub.execute_input": "2022-02-09T00:59:35.717900Z",
     "iopub.status.busy": "2022-02-09T00:59:35.716682Z",
     "iopub.status.idle": "2022-02-09T00:59:35.719165Z",
     "shell.execute_reply": "2022-02-09T00:59:35.720140Z"
    },
    "id": "RT1vwq7-KOtB"
   },
   "outputs": [],
   "source": [
    "#LOAD DATASET\n",
    "#file_name = \"ukdale_gen_GASF_13m_100S5X12A54480\"\n",
    "#file_name = \"refit_gen_GASF_13m_100S5X_15A166006\"\n",
    "file_name = \"refit_gen_GASF_13m_100S5X_15A166006_R42-80-20\"\n",
    "#file_name = \"refit_gen_GASF_13m_100S5X_15A166006_R42_80-20\"\n",
    "file_name = \"refit_gen_GASF_60m_300S0X_15A157030N_R12_80-20-V1\"\n",
    "file_name = environ[\"dataset\"]\n",
    "#read the file\n",
    "path = str(pathlib.Path().resolve())\n",
    "\n",
    "path_data = f\"{path}\"\"/data/\"f\"{file_name}\"\"/\"f\"{file_name}\"\".hdf5\"\n",
    "\n",
    "file = h5py.File(path_data,\"r+\")"
   ]
  },
  {
   "cell_type": "code",
   "execution_count": 5,
   "metadata": {
    "execution": {
     "iopub.execute_input": "2022-02-09T00:59:35.726190Z",
     "iopub.status.busy": "2022-02-09T00:59:35.725222Z",
     "iopub.status.idle": "2022-02-09T00:59:46.631457Z",
     "shell.execute_reply": "2022-02-09T00:59:46.632372Z"
    },
    "scrolled": true
   },
   "outputs": [
    {
     "name": "stdout",
     "output_type": "stream",
     "text": [
      "['HEKA', 'fridge/freezer', 'audio system', 'breadmaker', 'broadband router', 'computer', 'dehumidifier', 'dish washer', 'electric space heater', 'food processor', 'pond pump', 'television', 'tumble dryer', 'washer dryer', 'washing machine']\n",
      "{0: 0.2602198297365584, 1: 0.40103670634920635, 2: 2.4953395061728396, 3: 8.651578384162654, 4: 8.369461697722567, 5: 0.8347426565484487, 6: 8.421770833333333, 7: 0.863218022635063, 8: 4.254091028676664, 9: 8.10516290726817, 10: 8.421770833333333, 11: 0.4771541548630784, 12: 1.9194919278252611, 13: 4.587177304964539, 14: 0.4462973696558196}\n",
      " \n",
      "Tests \n",
      "HEKA test: 5178 train: 20713\n",
      "fridge/freezer test: 3360 train: 13440\n",
      "audio system test: 540 train: 2160\n",
      "breadmaker test: 156 train: 623\n",
      "broadband router test: 161 train: 644\n",
      "computer test: 1614 train: 6457\n",
      "dehumidifier test: 160 train: 640\n",
      "dish washer test: 1561 train: 6244\n",
      "electric space heater test: 317 train: 1267\n",
      "food processor test: 166 train: 665\n",
      "pond pump test: 160 train: 640\n",
      "television test: 2824 train: 11296\n",
      "tumble dryer test: 702 train: 2808\n",
      "washer dryer test: 294 train: 1175\n",
      "washing machine test: 3020 train: 12077\n"
     ]
    }
   ],
   "source": [
    "x_test,y_test,d_class_weights,num_of_classes,appliances = get_data(file)"
   ]
  },
  {
   "cell_type": "code",
   "execution_count": 6,
   "metadata": {
    "execution": {
     "iopub.execute_input": "2022-02-09T00:59:46.637545Z",
     "iopub.status.busy": "2022-02-09T00:59:46.637063Z",
     "iopub.status.idle": "2022-02-09T00:59:46.646799Z",
     "shell.execute_reply": "2022-02-09T00:59:46.646275Z"
    }
   },
   "outputs": [],
   "source": [
    "def select_model(learn_type):\n",
    "    \n",
    "    if learn_type == \"CNN\":\n",
    "        model = CNN_V56(file[\"data/train/gaf\"][0:10],num_of_classes,lr= 0.00002)\n",
    "\n",
    "    if learn_type == \"LSTM\":\n",
    "        model = LSTM_3D_V56(file[\"data/train/gaf\"][0:10],num_of_classes,lr= 0.00002)\n",
    "\n",
    "    if learn_type == \"BI_LSTM\":\n",
    "        model = LSTM_BI_V56(file[\"data/train/gaf\"][0:10],num_of_classes,lr= 0.00002)\n",
    "\n",
    "    return model\n",
    "              "
   ]
  },
  {
   "cell_type": "code",
   "execution_count": 7,
   "metadata": {
    "execution": {
     "iopub.execute_input": "2022-02-09T00:59:46.655820Z",
     "iopub.status.busy": "2022-02-09T00:59:46.655198Z",
     "iopub.status.idle": "2022-02-09T00:59:46.658849Z",
     "shell.execute_reply": "2022-02-09T00:59:46.659844Z"
    }
   },
   "outputs": [],
   "source": [
    "path_save = path+'/experiment_automation/output/'+environ['learn_type']+'/'+dataset.split(\"_\")[0]+\"/\"+environ['train_type']+\"/\"+dataset.split(\"_\")[0]+\"_\"+environ['seed']+\"_\"+environ['tl_datasets']\n",
    "path_save_nb = path_save+\"_out.ipynb\"\n",
    "path_save_log = path_save+\"_out_log2.txt\""
   ]
  },
  {
   "cell_type": "code",
   "execution_count": 8,
   "metadata": {
    "execution": {
     "iopub.execute_input": "2022-02-09T00:59:46.668700Z",
     "iopub.status.busy": "2022-02-09T00:59:46.667371Z",
     "iopub.status.idle": "2022-02-09T00:59:46.827184Z",
     "shell.execute_reply": "2022-02-09T00:59:46.826075Z"
    }
   },
   "outputs": [],
   "source": [
    "from keras.callbacks import LambdaCallback\n",
    "#path_log= path+'/experiment_automation/output/'+environ['learn_type']+'/'+dataset.split(\"_\")[0]+\"/\"+environ['train_type']+\"/\"+dataset.split(\"_\")[0]+\"_\"+environ['seed']+\"_\"+environ['tl_datasets']+\"_log.txt\"\n",
    "txt_log = open(path_save+\"_log.txt\", mode='wt', buffering=1)\n",
    "txt_log.write(\"file created! \\n\")\n",
    "\n",
    "save_op_callback = LambdaCallback(\n",
    "  on_epoch_end = lambda epoch, logs: txt_log.write(\n",
    "    str({'epoch': epoch, 'loss': logs['loss'],'acc': logs['accuracy']}) + '\\n'),\n",
    "                                                           \n",
    ")"
   ]
  },
  {
   "cell_type": "code",
   "execution_count": 9,
   "metadata": {
    "execution": {
     "iopub.execute_input": "2022-02-09T00:59:46.833216Z",
     "iopub.status.busy": "2022-02-09T00:59:46.831935Z",
     "iopub.status.idle": "2022-02-09T00:59:46.837277Z",
     "shell.execute_reply": "2022-02-09T00:59:46.836173Z"
    }
   },
   "outputs": [
    {
     "name": "stdout",
     "output_type": "stream",
     "text": [
      "/workspace/notebooks/experiment_automation/output/CNN/refit/TL/refit_12_ukdale_out.ipynb\n"
     ]
    }
   ],
   "source": [
    "print(path_save_nb)"
   ]
  },
  {
   "cell_type": "code",
   "execution_count": 10,
   "metadata": {
    "execution": {
     "iopub.execute_input": "2022-02-09T00:59:46.842701Z",
     "iopub.status.busy": "2022-02-09T00:59:46.841626Z",
     "iopub.status.idle": "2022-02-09T00:59:46.843858Z",
     "shell.execute_reply": "2022-02-09T00:59:46.844756Z"
    }
   },
   "outputs": [],
   "source": [
    "# rm $path_save_log"
   ]
  },
  {
   "cell_type": "code",
   "execution_count": 11,
   "metadata": {
    "execution": {
     "iopub.execute_input": "2022-02-09T00:59:46.849941Z",
     "iopub.status.busy": "2022-02-09T00:59:46.848929Z",
     "iopub.status.idle": "2022-02-09T00:59:46.851185Z",
     "shell.execute_reply": "2022-02-09T00:59:46.852008Z"
    }
   },
   "outputs": [],
   "source": [
    "# %%capture cap \n",
    "\n",
    "# with open(path_save_log,\"wt\") as f:\n",
    "#     f.write(cap.stdout)\n",
    "    \n",
    "# print(\"out capture..\")"
   ]
  },
  {
   "cell_type": "code",
   "execution_count": 12,
   "metadata": {
    "execution": {
     "iopub.execute_input": "2022-02-09T00:59:46.868857Z",
     "iopub.status.busy": "2022-02-09T00:59:46.867754Z",
     "iopub.status.idle": "2022-02-09T00:59:46.870284Z",
     "shell.execute_reply": "2022-02-09T00:59:46.870916Z"
    },
    "id": "vqA9NwOqKrb5",
    "jupyter": {
     "outputs_hidden": true
    },
    "tags": []
   },
   "outputs": [],
   "source": [
    "# %%capture cap --no-stderr\n",
    "\n",
    "\n",
    "if environ['train_type'] == \"BB\":\n",
    "\n",
    "    #define generator\n",
    "    train_gen = HDF5ImageGenerator(\n",
    "        src= path_data,\n",
    "        X_key=\"data/train/gaf\",\n",
    "        y_key=\"labels/train/gaf\",\n",
    "        classes_key=\"appliances/classes\",\n",
    "        labels_encoding=\"hot\",\n",
    "        shuffle=True,\n",
    "        batch_size=int(environ['batch_size']),\n",
    "        num_classes=num_of_classes,\n",
    "        mode=\"train\",\n",
    "        )\n",
    "    \n",
    "    model = select_model(environ['learn_type'])\n",
    "    \n",
    "    txt_log.write(\"fitting BB model: \\n\")\n",
    "    \n",
    "    model.fit(\n",
    "        train_gen,\n",
    "        verbose=2,\n",
    "        epochs=int(environ['epochs']),\n",
    "        class_weight=d_class_weights,\n",
    "        callbacks = [save_op_callback],\n",
    "    )\n",
    "    \n",
    "    txt_log.write(\"finished fitting BB model: \\n\")\n",
    "\n",
    "    evaluate_model(model,x_test,y_test,appliances)\n",
    "    \n",
    "    if environ['save_model']==\"True\":\n",
    "\n",
    "        path_model_save = path+\"/models/\"+environ['learn_type']+\"/\"+dataset.split(\"_\")[0]+\"_\"+dataset.split(\"_R\")[1][0:2]\n",
    "        model.save(path_model_save)\n",
    "        txt_log.write(\"model saved to:\"+\"/models/\"+environ['learn_type']+\"/\"+dataset.split(\"_\")[0]+\"_\"+dataset.split(\"_R\")[1][0:2]+\" \\n\")\n",
    "        \n",
    "        \n",
    "# with open(path_save+\"_out_log.txt\" as f:\n",
    "#     f.write(cap.stdout)\n"
   ]
  },
  {
   "cell_type": "code",
   "execution_count": 13,
   "metadata": {
    "collapsed": true,
    "execution": {
     "iopub.execute_input": "2022-02-09T00:59:46.876616Z",
     "iopub.status.busy": "2022-02-09T00:59:46.875834Z",
     "iopub.status.idle": "2022-02-09T00:59:46.879869Z",
     "shell.execute_reply": "2022-02-09T00:59:46.879125Z"
    }
   },
   "outputs": [],
   "source": [
    "#model = keras.models.load_model(path_model1)\n",
    "# model_used = model"
   ]
  },
  {
   "cell_type": "code",
   "execution_count": 14,
   "metadata": {
    "collapsed": true,
    "execution": {
     "iopub.execute_input": "2022-02-09T00:59:46.885770Z",
     "iopub.status.busy": "2022-02-09T00:59:46.884878Z",
     "iopub.status.idle": "2022-02-09T00:59:46.887729Z",
     "shell.execute_reply": "2022-02-09T00:59:46.888646Z"
    },
    "jupyter": {
     "outputs_hidden": true
    },
    "tags": []
   },
   "outputs": [],
   "source": [
    "# evaluate_model(model,x_test,y_test,appliances)"
   ]
  },
  {
   "cell_type": "code",
   "execution_count": 15,
   "metadata": {
    "collapsed": true,
    "execution": {
     "iopub.execute_input": "2022-02-09T00:59:46.912829Z",
     "iopub.status.busy": "2022-02-09T00:59:46.911548Z",
     "iopub.status.idle": "2022-02-09T02:45:06.637715Z",
     "shell.execute_reply": "2022-02-09T02:45:06.638453Z"
    }
   },
   "outputs": [
    {
     "name": "stdout",
     "output_type": "stream",
     "text": [
      "using dataset data refit training on model ukdale seed 12\n",
      "reading data, printing stats: \n",
      "['HEKA', 'fridge/freezer', 'audio system', 'breadmaker', 'broadband router', 'computer', 'dehumidifier', 'dish washer', 'electric space heater', 'food processor', 'pond pump', 'television', 'tumble dryer', 'washer dryer', 'washing machine']\n",
      "{0: 0.2602198297365584, 1: 0.40103670634920635, 2: 2.4953395061728396, 3: 8.651578384162654, 4: 8.369461697722567, 5: 0.8347426565484487, 6: 8.421770833333333, 7: 0.863218022635063, 8: 4.254091028676664, 9: 8.10516290726817, 10: 8.421770833333333, 11: 0.4771541548630784, 12: 1.9194919278252611, 13: 4.587177304964539, 14: 0.4462973696558196}\n",
      " \n",
      "Tests \n",
      "HEKA test: 5178 train: 20713\n",
      "fridge/freezer test: 3360 train: 13440\n",
      "audio system test: 540 train: 2160\n",
      "breadmaker test: 156 train: 623\n",
      "broadband router test: 161 train: 644\n",
      "computer test: 1614 train: 6457\n",
      "dehumidifier test: 160 train: 640\n",
      "dish washer test: 1561 train: 6244\n",
      "electric space heater test: 317 train: 1267\n",
      "food processor test: 166 train: 665\n",
      "pond pump test: 160 train: 640\n",
      "television test: 2824 train: 11296\n",
      "tumble dryer test: 702 train: 2808\n",
      "washer dryer test: 294 train: 1175\n",
      "washing machine test: 3020 train: 12077\n",
      "loading model\n",
      "compling TL model..\n"
     ]
    },
    {
     "name": "stderr",
     "output_type": "stream",
     "text": [
      "2022-02-09 00:59:55.540688: I tensorflow/core/common_runtime/gpu/gpu_device.cc:1734] Found device 0 with properties: \n",
      "pciBusID: 0000:21:00.0 name: NVIDIA GeForce RTX 2080 Ti computeCapability: 7.5\n",
      "coreClock: 1.545GHz coreCount: 68 deviceMemorySize: 10.76GiB deviceMemoryBandwidth: 573.69GiB/s\n",
      "2022-02-09 00:59:55.548292: I tensorflow/core/common_runtime/gpu/gpu_device.cc:1872] Adding visible gpu devices: 0\n",
      "2022-02-09 00:59:55.554155: I tensorflow/stream_executor/platform/default/dso_loader.cc:54] Successfully opened dynamic library libcudart.so.11.0\n",
      "2022-02-09 00:59:56.431289: I tensorflow/core/common_runtime/gpu/gpu_device.cc:1258] Device interconnect StreamExecutor with strength 1 edge matrix:\n",
      "2022-02-09 00:59:56.431326: I tensorflow/core/common_runtime/gpu/gpu_device.cc:1264]      0 \n",
      "2022-02-09 00:59:56.431497: I tensorflow/core/common_runtime/gpu/gpu_device.cc:1277] 0:   N \n",
      "2022-02-09 00:59:56.432112: I tensorflow/core/common_runtime/gpu/gpu_device.cc:1418] Created TensorFlow device (/job:localhost/replica:0/task:0/device:GPU:0 with 9649 MB memory) -> physical GPU (device: 0, name: NVIDIA GeForce RTX 2080 Ti, pci bus id: 0000:21:00.0, compute capability: 7.5)\n",
      "2022-02-09 00:59:56.434216: I tensorflow/core/common_runtime/process_util.cc:146] Creating new thread pool with default inter op setting: 20. Tune using inter_op_parallelism_threads for best performance.\n"
     ]
    },
    {
     "name": "stdout",
     "output_type": "stream",
     "text": [
      "Normal way\n",
      "[0 1 2 3 4 5 6 7 8 9]\n",
      "WARNING:tensorflow:From /usr/local/lib/python3.8/dist-packages/tensorflow/python/ops/array_ops.py:5043: calling gather (from tensorflow.python.ops.array_ops) with validate_indices is deprecated and will be removed in a future version.\n",
      "Instructions for updating:\n",
      "The `validate_indices` argument has no effect. Indices are always validated on CPU and never validated on GPU.\n"
     ]
    },
    {
     "name": "stderr",
     "output_type": "stream",
     "text": [
      "/usr/local/lib/python3.8/dist-packages/tensorflow/python/keras/optimizer_v2/optimizer_v2.py:374: UserWarning: The `lr` argument is deprecated, use `learning_rate` instead.\n",
      "  warnings.warn(\n",
      "2022-02-09 00:59:57.069688: I tensorflow/compiler/mlir/mlir_graph_optimization_pass.cc:176] None of the MLIR Optimization Passes are enabled (registered 2)\n",
      "2022-02-09 00:59:57.088755: I tensorflow/core/platform/profile_utils/cpu_utils.cc:114] CPU Frequency: 3299990000 Hz\n"
     ]
    },
    {
     "name": "stdout",
     "output_type": "stream",
     "text": [
      "Epoch 1/50\n"
     ]
    },
    {
     "name": "stderr",
     "output_type": "stream",
     "text": [
      "2022-02-09 00:59:57.602024: I tensorflow/stream_executor/platform/default/dso_loader.cc:54] Successfully opened dynamic library libcudnn.so.8\n",
      "2022-02-09 00:59:58.357045: I tensorflow/stream_executor/cuda/cuda_dnn.cc:380] Loaded cuDNN version 8202\n",
      "2022-02-09 00:59:59.230898: I tensorflow/stream_executor/platform/default/dso_loader.cc:54] Successfully opened dynamic library libcublas.so.11\n",
      "2022-02-09 01:00:00.007829: I tensorflow/stream_executor/platform/default/dso_loader.cc:54] Successfully opened dynamic library libcublasLt.so.11\n"
     ]
    },
    {
     "name": "stdout",
     "output_type": "stream",
     "text": [
      "2527/2527 - 131s - loss: 2.2201 - accuracy: 0.2913\n",
      "Epoch 2/50\n",
      "2527/2527 - 128s - loss: 1.9252 - accuracy: 0.2666\n",
      "Epoch 3/50\n",
      "2527/2527 - 125s - loss: 1.7965 - accuracy: 0.4551\n",
      "Epoch 4/50\n",
      "2527/2527 - 126s - loss: 1.7063 - accuracy: 0.4683\n",
      "Epoch 5/50\n",
      "2527/2527 - 126s - loss: 1.6524 - accuracy: 0.4764\n",
      "Epoch 6/50\n",
      "2527/2527 - 124s - loss: 1.5972 - accuracy: 0.4954\n",
      "Epoch 7/50\n",
      "2527/2527 - 126s - loss: 1.5675 - accuracy: 0.5014\n",
      "Epoch 8/50\n",
      "2527/2527 - 127s - loss: 1.5717 - accuracy: 0.4998\n",
      "Epoch 9/50\n",
      "2527/2527 - 125s - loss: 1.5398 - accuracy: 0.4948\n",
      "Epoch 10/50\n",
      "2527/2527 - 125s - loss: 1.5443 - accuracy: 0.5073\n",
      "Epoch 11/50\n",
      "2527/2527 - 126s - loss: 1.5065 - accuracy: 0.5022\n",
      "Epoch 12/50\n",
      "2527/2527 - 126s - loss: 1.4754 - accuracy: 0.5126\n",
      "Epoch 13/50\n",
      "2527/2527 - 126s - loss: 1.4685 - accuracy: 0.5204\n",
      "Epoch 14/50\n",
      "2527/2527 - 126s - loss: 1.4534 - accuracy: 0.5189\n",
      "Epoch 15/50\n",
      "2527/2527 - 125s - loss: 1.4438 - accuracy: 0.5187\n",
      "Epoch 16/50\n",
      "2527/2527 - 125s - loss: 1.4196 - accuracy: 0.5259\n",
      "Epoch 17/50\n",
      "2527/2527 - 125s - loss: 1.4095 - accuracy: 0.5277\n",
      "Epoch 18/50\n",
      "2527/2527 - 125s - loss: 1.4066 - accuracy: 0.5256\n",
      "Epoch 19/50\n",
      "2527/2527 - 124s - loss: 1.4060 - accuracy: 0.5317\n",
      "Epoch 20/50\n",
      "2527/2527 - 125s - loss: 1.3783 - accuracy: 0.5392\n",
      "Epoch 21/50\n",
      "2527/2527 - 124s - loss: 1.3787 - accuracy: 0.5360\n",
      "Epoch 22/50\n",
      "2527/2527 - 124s - loss: 1.3692 - accuracy: 0.5381\n",
      "Epoch 23/50\n",
      "2527/2527 - 123s - loss: 1.3495 - accuracy: 0.5375\n",
      "Epoch 24/50\n",
      "2527/2527 - 126s - loss: 1.3531 - accuracy: 0.5474\n",
      "Epoch 25/50\n",
      "2527/2527 - 124s - loss: 1.3529 - accuracy: 0.5464\n",
      "Epoch 26/50\n",
      "2527/2527 - 125s - loss: 1.3536 - accuracy: 0.5497\n",
      "Epoch 27/50\n",
      "2527/2527 - 126s - loss: 1.3199 - accuracy: 0.5542\n",
      "Epoch 28/50\n",
      "2527/2527 - 126s - loss: 1.3556 - accuracy: 0.5465\n",
      "Epoch 29/50\n",
      "2527/2527 - 125s - loss: 1.3073 - accuracy: 0.5568\n",
      "Epoch 30/50\n",
      "2527/2527 - 124s - loss: 1.3100 - accuracy: 0.5634\n",
      "Epoch 31/50\n",
      "2527/2527 - 124s - loss: 1.2958 - accuracy: 0.5685\n",
      "Epoch 32/50\n",
      "2527/2527 - 125s - loss: 1.2880 - accuracy: 0.5742\n",
      "Epoch 33/50\n",
      "2527/2527 - 125s - loss: 1.2732 - accuracy: 0.5726\n",
      "Epoch 34/50\n",
      "2527/2527 - 124s - loss: 1.2640 - accuracy: 0.5795\n",
      "Epoch 35/50\n",
      "2527/2527 - 124s - loss: 1.2216 - accuracy: 0.6020\n",
      "Epoch 36/50\n",
      "2527/2527 - 125s - loss: 1.2052 - accuracy: 0.6145\n",
      "Epoch 37/50\n",
      "2527/2527 - 124s - loss: 1.1693 - accuracy: 0.6201\n",
      "Epoch 38/50\n",
      "2527/2527 - 124s - loss: 1.1464 - accuracy: 0.6325\n",
      "Epoch 39/50\n",
      "2527/2527 - 125s - loss: 1.1340 - accuracy: 0.6392\n",
      "Epoch 40/50\n",
      "2527/2527 - 125s - loss: 1.0988 - accuracy: 0.6442\n",
      "Epoch 41/50\n",
      "2527/2527 - 124s - loss: 1.1015 - accuracy: 0.6429\n",
      "Epoch 42/50\n",
      "2527/2527 - 125s - loss: 1.0937 - accuracy: 0.6418\n",
      "Epoch 43/50\n",
      "2527/2527 - 124s - loss: 1.0808 - accuracy: 0.6443\n",
      "Epoch 44/50\n",
      "2527/2527 - 124s - loss: 1.0633 - accuracy: 0.6518\n",
      "Epoch 45/50\n",
      "2527/2527 - 125s - loss: 1.0771 - accuracy: 0.6508\n",
      "Epoch 46/50\n",
      "2527/2527 - 124s - loss: 1.0583 - accuracy: 0.6538\n",
      "Epoch 47/50\n",
      "2527/2527 - 124s - loss: 1.0441 - accuracy: 0.6549\n",
      "Epoch 48/50\n",
      "2527/2527 - 125s - loss: 1.0381 - accuracy: 0.6550\n",
      "Epoch 49/50\n",
      "2527/2527 - 125s - loss: 1.0425 - accuracy: 0.6561\n",
      "Epoch 50/50\n",
      "2527/2527 - 125s - loss: 1.0348 - accuracy: 0.6576\n",
      "632/632 - 28s\n",
      "Normalized confusion matrix\n",
      "                       precision    recall  f1-score   support\n",
      "\n",
      "                 HEKA       0.89      0.85      0.87      5178\n",
      "       fridge/freezer       0.86      0.84      0.85      3360\n",
      "         audio system       0.35      0.41      0.38       540\n",
      "           breadmaker       0.36      0.52      0.43       156\n",
      "     broadband router       0.23      0.52      0.32       161\n",
      "             computer       0.39      0.37      0.38      1614\n",
      "         dehumidifier       0.32      0.60      0.42       160\n",
      "          dish washer       0.79      0.62      0.69      1561\n",
      "electric space heater       0.13      0.29      0.18       317\n",
      "       food processor       0.43      0.58      0.49       166\n",
      "            pond pump       0.50      0.85      0.63       160\n",
      "           television       0.54      0.40      0.46      2824\n",
      "         tumble dryer       0.37      0.60      0.46       702\n",
      "         washer dryer       0.06      0.29      0.09       294\n",
      "      washing machine       0.88      0.51      0.65      3020\n",
      "\n",
      "             accuracy                           0.63     20213\n",
      "            macro avg       0.47      0.55      0.49     20213\n",
      "         weighted avg       0.71      0.63      0.66     20213\n",
      "\n"
     ]
    },
    {
     "data": {
      "image/png": "[encoded data removed]",
      "text/plain": [
       "<Figure size 720x720 with 2 Axes>"
      ]
     },
     "metadata": {
      "needs_background": "light"
     },
     "output_type": "display_data"
    }
   ],
   "source": [
    "# datasets =[\n",
    "#     \"ukdale_gen_GASF_13m_100S5X12A54480_R82_80-20\"\n",
    "# ]\n",
    "\n",
    "if environ['train_type'] == \"TL\": \n",
    "    models = environ['tl_datasets'].replace(\" \",\"\").split(\",\")\n",
    "    #model = [\"base\"]\n",
    "    \n",
    "    for model in models:\n",
    "    \n",
    "        file_name = dataset\n",
    "        \n",
    "        datasetTL = model\n",
    "        \n",
    "        seed = dataset.split(\"_R\")[1][0:2]\n",
    "        \n",
    "        print(\"using dataset data\",dataset.split(\"_\")[0],\"training on model\",model,\"seed\",environ['seed'])\n",
    "        txt_log.write(\"starting \"+dataset.split(\"_\")[0]+\" training on model \"+model+\" seed \"+environ['seed']+\"\\n\")\n",
    "\n",
    "\n",
    "        tf.keras.backend.clear_session()\n",
    "\n",
    "\n",
    "        #read the file\n",
    "        path = str(pathlib.Path().resolve())\n",
    "        path_data = f\"{path}\"\"/data/\"f\"{file_name}\"\"/\"f\"{file_name}\"\".hdf5\"\n",
    "        file = h5py.File(path_data,\"r+\")\n",
    "\n",
    "\n",
    "        print(\"reading data, printing stats: \")\n",
    "        x_test,y_test,d_class_weights,num_of_classes,appliances = get_data(file)\n",
    "        print(\"loading model\")\n",
    "        \n",
    "        model_seed = 42\n",
    "        model_used = create_tl_model(model,environ['learn_type'],model_seed,path,num_of_classes)\n",
    "                \n",
    "        train_gen = HDF5ImageGenerator(\n",
    "            src= path_data,\n",
    "            X_key=\"data/train/gaf\",\n",
    "            y_key=\"labels/train/gaf\",\n",
    "            classes_key=\"appliances/classes\",\n",
    "            labels_encoding=\"hot\",\n",
    "            shuffle=True,\n",
    "            batch_size=int(environ['batch_size']),\n",
    "            num_classes=num_of_classes,\n",
    "            mode=\"train\",\n",
    "            )\n",
    "\n",
    "        model_used.fit(\n",
    "            train_gen,\n",
    "            verbose=2,\n",
    "            epochs=int(environ['epochs']),\n",
    "            class_weight=d_class_weights,\n",
    "            callbacks = [save_op_callback]\n",
    "            #workers = 6,\n",
    "        )\n",
    "        \n",
    "        txt_log.write(\"finished \"+dataset.split(\"_\")[0]+\" training on model \"+model+\" seed \"+environ['seed']+\"\\n\")\n",
    "\n",
    "\n",
    "        evaluate_model(model_used,x_test,y_test,appliances)\n",
    "        \n",
    "\n",
    "\n",
    "\n",
    "        #del model_used\n",
    "\n"
   ]
  },
  {
   "cell_type": "code",
   "execution_count": 16,
   "metadata": {
    "execution": {
     "iopub.execute_input": "2022-02-09T02:45:06.644300Z",
     "iopub.status.busy": "2022-02-09T02:45:06.643879Z",
     "iopub.status.idle": "2022-02-09T02:45:06.645690Z",
     "shell.execute_reply": "2022-02-09T02:45:06.645249Z"
    }
   },
   "outputs": [],
   "source": [
    "txt_log.close()"
   ]
  },
  {
   "cell_type": "code",
   "execution_count": null,
   "metadata": {},
   "outputs": [],
   "source": []
  }
 ],
 "metadata": {
  "colab": {
   "authorship_tag": "ABX9TyMej4PvP65qsLng7TnQKWA4",
   "name": "LSTM-gen",
   "provenance": []
  },
  "kernelspec": {
   "display_name": "Python 3 (ipykernel)",
   "language": "python",
   "name": "python3"
  },
  "language_info": {
   "codemirror_mode": {
    "name": "ipython",
    "version": 3
   },
   "file_extension": ".py",
   "mimetype": "text/x-python",
   "name": "python",
   "nbconvert_exporter": "python",
   "pygments_lexer": "ipython3",
   "version": "3.8.10"
  }
 },
 "nbformat": 4,
 "nbformat_minor": 4
}
