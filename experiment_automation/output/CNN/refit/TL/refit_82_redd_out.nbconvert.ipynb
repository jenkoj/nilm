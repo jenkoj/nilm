{
 "cells": [
  {
   "cell_type": "code",
   "execution_count": 1,
   "metadata": {
    "execution": {
     "iopub.execute_input": "2022-02-08T12:41:27.996149Z",
     "iopub.status.busy": "2022-02-08T12:41:27.981217Z",
     "iopub.status.idle": "2022-02-08T12:41:30.795788Z",
     "shell.execute_reply": "2022-02-08T12:41:30.795234Z"
    },
    "id": "WqUfHWgtJxtu",
    "scrolled": true,
    "tags": []
   },
   "outputs": [
    {
     "name": "stderr",
     "output_type": "stream",
     "text": [
      "2022-02-08 12:41:29.343939: I tensorflow/stream_executor/platform/default/dso_loader.cc:54] Successfully opened dynamic library libcudart.so.11.0\n"
     ]
    },
    {
     "name": "stdout",
     "output_type": "stream",
     "text": [
      "2.5.0\n",
      "Num GPUs Available:  1\n"
     ]
    },
    {
     "name": "stderr",
     "output_type": "stream",
     "text": [
      "2022-02-08 12:41:30.695234: I tensorflow/stream_executor/platform/default/dso_loader.cc:54] Successfully opened dynamic library libcuda.so.1\n",
      "2022-02-08 12:41:30.739677: I tensorflow/core/common_runtime/gpu/gpu_device.cc:1734] Found device 0 with properties: \n",
      "pciBusID: 0000:21:00.0 name: NVIDIA GeForce RTX 2080 Ti computeCapability: 7.5\n",
      "coreClock: 1.545GHz coreCount: 68 deviceMemorySize: 10.76GiB deviceMemoryBandwidth: 573.69GiB/s\n",
      "2022-02-08 12:41:30.739727: I tensorflow/stream_executor/platform/default/dso_loader.cc:54] Successfully opened dynamic library libcudart.so.11.0\n",
      "2022-02-08 12:41:30.754640: I tensorflow/stream_executor/platform/default/dso_loader.cc:54] Successfully opened dynamic library libcublas.so.11\n",
      "2022-02-08 12:41:30.754705: I tensorflow/stream_executor/platform/default/dso_loader.cc:54] Successfully opened dynamic library libcublasLt.so.11\n",
      "2022-02-08 12:41:30.761650: I tensorflow/stream_executor/platform/default/dso_loader.cc:54] Successfully opened dynamic library libcufft.so.10\n",
      "2022-02-08 12:41:30.763509: I tensorflow/stream_executor/platform/default/dso_loader.cc:54] Successfully opened dynamic library libcurand.so.10\n",
      "2022-02-08 12:41:30.781506: I tensorflow/stream_executor/platform/default/dso_loader.cc:54] Successfully opened dynamic library libcutensor.so.1\n",
      "2022-02-08 12:41:30.783474: I tensorflow/stream_executor/platform/default/dso_loader.cc:54] Successfully opened dynamic library libcusolver.so.11\n",
      "2022-02-08 12:41:30.787906: I tensorflow/stream_executor/platform/default/dso_loader.cc:54] Successfully opened dynamic library libcusparse.so.11\n",
      "2022-02-08 12:41:30.788431: I tensorflow/stream_executor/platform/default/dso_loader.cc:54] Successfully opened dynamic library libcudnn.so.8\n",
      "2022-02-08 12:41:30.788829: I tensorflow/core/common_runtime/gpu/gpu_device.cc:1872] Adding visible gpu devices: 0\n"
     ]
    }
   ],
   "source": [
    "import h5py\n",
    "import numpy as np\n",
    "\n",
    "from sklearn.model_selection import train_test_split\n",
    "from sklearn.metrics import classification_report, confusion_matrix\n",
    "import matplotlib.pyplot as plt\n",
    "import itertools \n",
    "import pyts\n",
    "from pyts.approximation import PiecewiseAggregateApproximation\n",
    "\n",
    "from sklearn.utils import class_weight\n",
    "\n",
    "import pathlib\n",
    "import tensorflow as tf\n",
    "from tensorflow import keras\n",
    "from tensorflow.keras import layers, optimizers\n",
    "from tensorflow.keras.layers import Convolution2D,Conv2D, Dense,Dropout, Flatten, Activation, MaxPooling2D, Input, Conv1D, GlobalAveragePooling1D, TimeDistributed, GRU, LSTM\n",
    "\n",
    "print(tf.__version__)\n",
    "print(\"Num GPUs Available: \", len(tf.config.list_physical_devices('GPU')))\n",
    "gpus = tf.config.experimental.list_physical_devices('GPU')\n",
    "\n",
    "try:\n",
    "    for gpu in gpus:\n",
    "        tf.config.experimental.set_memory_growth(gpu, True)\n",
    "except RuntimeError as e:\n",
    "    print(e)"
   ]
  },
  {
   "cell_type": "code",
   "execution_count": 2,
   "metadata": {
    "execution": {
     "iopub.execute_input": "2022-02-08T12:41:30.800477Z",
     "iopub.status.busy": "2022-02-08T12:41:30.799982Z",
     "iopub.status.idle": "2022-02-08T12:41:30.802747Z",
     "shell.execute_reply": "2022-02-08T12:41:30.803292Z"
    }
   },
   "outputs": [
    {
     "name": "stdout",
     "output_type": "stream",
     "text": [
      "refit_gen_GASF_60m_300S0X_15A157030N_R82_80-20-V1\n"
     ]
    }
   ],
   "source": [
    "from os import environ\n",
    "dataset = environ['dataset']\n",
    "print(dataset)"
   ]
  },
  {
   "cell_type": "code",
   "execution_count": 3,
   "metadata": {
    "execution": {
     "iopub.execute_input": "2022-02-08T12:41:30.809379Z",
     "iopub.status.busy": "2022-02-08T12:41:30.808553Z",
     "iopub.status.idle": "2022-02-08T12:41:30.814247Z",
     "shell.execute_reply": "2022-02-08T12:41:30.813341Z"
    }
   },
   "outputs": [],
   "source": [
    "#my defs \n",
    "from modules.models import  LSTM_3D_V56, CNN_V56,LSTM_BI_V56\n",
    "from modules.tools import my_print, plot_confusion_matrix_norm, get_data,get_data_split, evaluate_model, create_tl_model\n",
    "from modules.HDF5ImageGenerator import HDF5ImageGenerator"
   ]
  },
  {
   "cell_type": "code",
   "execution_count": 4,
   "metadata": {
    "execution": {
     "iopub.execute_input": "2022-02-08T12:41:30.821143Z",
     "iopub.status.busy": "2022-02-08T12:41:30.819982Z",
     "iopub.status.idle": "2022-02-08T12:41:30.822326Z",
     "shell.execute_reply": "2022-02-08T12:41:30.823228Z"
    },
    "id": "RT1vwq7-KOtB"
   },
   "outputs": [],
   "source": [
    "#LOAD DATASET\n",
    "#file_name = \"ukdale_gen_GASF_13m_100S5X12A54480\"\n",
    "#file_name = \"refit_gen_GASF_13m_100S5X_15A166006\"\n",
    "file_name = \"refit_gen_GASF_13m_100S5X_15A166006_R42-80-20\"\n",
    "#file_name = \"refit_gen_GASF_13m_100S5X_15A166006_R42_80-20\"\n",
    "file_name = \"refit_gen_GASF_60m_300S0X_15A157030N_R12_80-20-V1\"\n",
    "file_name = environ[\"dataset\"]\n",
    "#read the file\n",
    "path = str(pathlib.Path().resolve())\n",
    "\n",
    "path_data = f\"{path}\"\"/data/\"f\"{file_name}\"\"/\"f\"{file_name}\"\".hdf5\"\n",
    "\n",
    "file = h5py.File(path_data,\"r+\")"
   ]
  },
  {
   "cell_type": "code",
   "execution_count": 5,
   "metadata": {
    "execution": {
     "iopub.execute_input": "2022-02-08T12:41:30.829457Z",
     "iopub.status.busy": "2022-02-08T12:41:30.828358Z",
     "iopub.status.idle": "2022-02-08T12:41:41.343386Z",
     "shell.execute_reply": "2022-02-08T12:41:41.344484Z"
    },
    "scrolled": true
   },
   "outputs": [
    {
     "name": "stdout",
     "output_type": "stream",
     "text": [
      "['HEKA', 'fridge/freezer', 'audio system', 'breadmaker', 'broadband router', 'computer', 'dehumidifier', 'dish washer', 'electric space heater', 'food processor', 'pond pump', 'television', 'tumble dryer', 'washer dryer', 'washing machine']\n",
      "{0: 0.2602198297365584, 1: 0.40103670634920635, 2: 2.4953395061728396, 3: 8.651578384162654, 4: 8.369461697722567, 5: 0.8347426565484487, 6: 8.421770833333333, 7: 0.863218022635063, 8: 4.254091028676664, 9: 8.10516290726817, 10: 8.421770833333333, 11: 0.4771541548630784, 12: 1.9194919278252611, 13: 4.587177304964539, 14: 0.4462973696558196}\n",
      " \n",
      "Tests \n",
      "HEKA test: 5178 train: 20713\n",
      "fridge/freezer test: 3360 train: 13440\n",
      "audio system test: 540 train: 2160\n",
      "breadmaker test: 156 train: 623\n",
      "broadband router test: 161 train: 644\n",
      "computer test: 1614 train: 6457\n",
      "dehumidifier test: 160 train: 640\n",
      "dish washer test: 1561 train: 6244\n",
      "electric space heater test: 317 train: 1267\n",
      "food processor test: 166 train: 665\n",
      "pond pump test: 160 train: 640\n",
      "television test: 2824 train: 11296\n",
      "tumble dryer test: 702 train: 2808\n",
      "washer dryer test: 294 train: 1175\n",
      "washing machine test: 3020 train: 12077\n"
     ]
    }
   ],
   "source": [
    "x_test,y_test,d_class_weights,num_of_classes,appliances = get_data(file)"
   ]
  },
  {
   "cell_type": "code",
   "execution_count": 6,
   "metadata": {
    "execution": {
     "iopub.execute_input": "2022-02-08T12:41:41.352041Z",
     "iopub.status.busy": "2022-02-08T12:41:41.350753Z",
     "iopub.status.idle": "2022-02-08T12:41:41.353443Z",
     "shell.execute_reply": "2022-02-08T12:41:41.354493Z"
    }
   },
   "outputs": [],
   "source": [
    "def select_model(learn_type):\n",
    "    \n",
    "    if learn_type == \"CNN\":\n",
    "        model = CNN_V56(file[\"data/train/gaf\"][0:10],num_of_classes,lr= 0.00002)\n",
    "\n",
    "    if learn_type == \"LSTM\":\n",
    "        model = LSTM_3D_V56(file[\"data/train/gaf\"][0:10],num_of_classes,lr= 0.00002)\n",
    "\n",
    "    if learn_type == \"BI_LSTM\":\n",
    "        model = LSTM_BI_V56(file[\"data/train/gaf\"][0:10],num_of_classes,lr= 0.00002)\n",
    "\n",
    "    return model\n",
    "              "
   ]
  },
  {
   "cell_type": "code",
   "execution_count": 7,
   "metadata": {
    "execution": {
     "iopub.execute_input": "2022-02-08T12:41:41.362733Z",
     "iopub.status.busy": "2022-02-08T12:41:41.361418Z",
     "iopub.status.idle": "2022-02-08T12:41:41.364924Z",
     "shell.execute_reply": "2022-02-08T12:41:41.363840Z"
    }
   },
   "outputs": [],
   "source": [
    "path_save = path+'/experiment_automation/output/'+environ['learn_type']+'/'+dataset.split(\"_\")[0]+\"/\"+environ['train_type']+\"/\"+dataset.split(\"_\")[0]+\"_\"+environ['seed']+\"_\"+environ['tl_datasets']\n",
    "path_save_nb = path_save+\"_out.ipynb\"\n",
    "path_save_log = path_save+\"_out_log2.txt\""
   ]
  },
  {
   "cell_type": "code",
   "execution_count": 8,
   "metadata": {
    "execution": {
     "iopub.execute_input": "2022-02-08T12:41:41.372881Z",
     "iopub.status.busy": "2022-02-08T12:41:41.371664Z",
     "iopub.status.idle": "2022-02-08T12:41:41.543112Z",
     "shell.execute_reply": "2022-02-08T12:41:41.541942Z"
    }
   },
   "outputs": [],
   "source": [
    "from keras.callbacks import LambdaCallback\n",
    "#path_log= path+'/experiment_automation/output/'+environ['learn_type']+'/'+dataset.split(\"_\")[0]+\"/\"+environ['train_type']+\"/\"+dataset.split(\"_\")[0]+\"_\"+environ['seed']+\"_\"+environ['tl_datasets']+\"_log.txt\"\n",
    "txt_log = open(path_save+\"_log.txt\", mode='wt', buffering=1)\n",
    "txt_log.write(\"file created! \\n\")\n",
    "\n",
    "save_op_callback = LambdaCallback(\n",
    "  on_epoch_end = lambda epoch, logs: txt_log.write(\n",
    "    str({'epoch': epoch, 'loss': logs['loss'],'acc': logs['accuracy']}) + '\\n'),\n",
    "                                                           \n",
    ")"
   ]
  },
  {
   "cell_type": "code",
   "execution_count": 9,
   "metadata": {
    "execution": {
     "iopub.execute_input": "2022-02-08T12:41:41.549027Z",
     "iopub.status.busy": "2022-02-08T12:41:41.547722Z",
     "iopub.status.idle": "2022-02-08T12:41:41.553132Z",
     "shell.execute_reply": "2022-02-08T12:41:41.551989Z"
    }
   },
   "outputs": [
    {
     "name": "stdout",
     "output_type": "stream",
     "text": [
      "/workspace/notebooks/experiment_automation/output/CNN/refit/TL/refit_82_redd_out.ipynb\n"
     ]
    }
   ],
   "source": [
    "print(path_save_nb)"
   ]
  },
  {
   "cell_type": "code",
   "execution_count": 10,
   "metadata": {
    "execution": {
     "iopub.execute_input": "2022-02-08T12:41:41.558390Z",
     "iopub.status.busy": "2022-02-08T12:41:41.557299Z",
     "iopub.status.idle": "2022-02-08T12:41:41.559554Z",
     "shell.execute_reply": "2022-02-08T12:41:41.560664Z"
    }
   },
   "outputs": [],
   "source": [
    "# rm $path_save_log"
   ]
  },
  {
   "cell_type": "code",
   "execution_count": 11,
   "metadata": {
    "execution": {
     "iopub.execute_input": "2022-02-08T12:41:41.565331Z",
     "iopub.status.busy": "2022-02-08T12:41:41.564511Z",
     "iopub.status.idle": "2022-02-08T12:41:41.567514Z",
     "shell.execute_reply": "2022-02-08T12:41:41.568133Z"
    }
   },
   "outputs": [],
   "source": [
    "# %%capture cap \n",
    "\n",
    "# with open(path_save_log,\"wt\") as f:\n",
    "#     f.write(cap.stdout)\n",
    "    \n",
    "# print(\"out capture..\")"
   ]
  },
  {
   "cell_type": "code",
   "execution_count": 12,
   "metadata": {
    "execution": {
     "iopub.execute_input": "2022-02-08T12:41:41.585243Z",
     "iopub.status.busy": "2022-02-08T12:41:41.577566Z",
     "iopub.status.idle": "2022-02-08T12:41:41.587649Z",
     "shell.execute_reply": "2022-02-08T12:41:41.588680Z"
    },
    "id": "vqA9NwOqKrb5",
    "jupyter": {
     "outputs_hidden": true
    },
    "tags": []
   },
   "outputs": [],
   "source": [
    "# %%capture cap --no-stderr\n",
    "\n",
    "\n",
    "if environ['train_type'] == \"BB\":\n",
    "\n",
    "    #define generator\n",
    "    train_gen = HDF5ImageGenerator(\n",
    "        src= path_data,\n",
    "        X_key=\"data/train/gaf\",\n",
    "        y_key=\"labels/train/gaf\",\n",
    "        classes_key=\"appliances/classes\",\n",
    "        labels_encoding=\"hot\",\n",
    "        shuffle=True,\n",
    "        batch_size=int(environ['batch_size']),\n",
    "        num_classes=num_of_classes,\n",
    "        mode=\"train\",\n",
    "        )\n",
    "    \n",
    "    model = select_model(environ['learn_type'])\n",
    "    \n",
    "    txt_log.write(\"fitting BB model: \\n\")\n",
    "    \n",
    "    model.fit(\n",
    "        train_gen,\n",
    "        verbose=2,\n",
    "        epochs=int(environ['epochs']),\n",
    "        class_weight=d_class_weights,\n",
    "        callbacks = [save_op_callback],\n",
    "    )\n",
    "    \n",
    "    txt_log.write(\"finished fitting BB model: \\n\")\n",
    "\n",
    "    evaluate_model(model,x_test,y_test,appliances)\n",
    "    \n",
    "    if environ['save_model']==\"True\":\n",
    "\n",
    "        path_model_save = path+\"/models/\"+environ['learn_type']+\"/\"+dataset.split(\"_\")[0]+\"_\"+dataset.split(\"_R\")[1][0:2]\n",
    "        model.save(path_model_save)\n",
    "        txt_log.write(\"model saved to:\"+\"/models/\"+environ['learn_type']+\"/\"+dataset.split(\"_\")[0]+\"_\"+dataset.split(\"_R\")[1][0:2]+\" \\n\")\n",
    "        \n",
    "        \n",
    "# with open(path_save+\"_out_log.txt\" as f:\n",
    "#     f.write(cap.stdout)\n"
   ]
  },
  {
   "cell_type": "code",
   "execution_count": 13,
   "metadata": {
    "collapsed": true,
    "execution": {
     "iopub.execute_input": "2022-02-08T12:41:41.594553Z",
     "iopub.status.busy": "2022-02-08T12:41:41.593282Z",
     "iopub.status.idle": "2022-02-08T12:41:41.595935Z",
     "shell.execute_reply": "2022-02-08T12:41:41.596993Z"
    }
   },
   "outputs": [],
   "source": [
    "#model = keras.models.load_model(path_model1)\n",
    "# model_used = model"
   ]
  },
  {
   "cell_type": "code",
   "execution_count": 14,
   "metadata": {
    "collapsed": true,
    "execution": {
     "iopub.execute_input": "2022-02-08T12:41:41.603106Z",
     "iopub.status.busy": "2022-02-08T12:41:41.601835Z",
     "iopub.status.idle": "2022-02-08T12:41:41.604325Z",
     "shell.execute_reply": "2022-02-08T12:41:41.605229Z"
    },
    "jupyter": {
     "outputs_hidden": true
    },
    "tags": []
   },
   "outputs": [],
   "source": [
    "# evaluate_model(model,x_test,y_test,appliances)"
   ]
  },
  {
   "cell_type": "code",
   "execution_count": 15,
   "metadata": {
    "collapsed": true,
    "execution": {
     "iopub.execute_input": "2022-02-08T12:41:41.628253Z",
     "iopub.status.busy": "2022-02-08T12:41:41.609555Z",
     "iopub.status.idle": "2022-02-08T14:26:44.973656Z",
     "shell.execute_reply": "2022-02-08T14:26:44.974351Z"
    }
   },
   "outputs": [
    {
     "name": "stdout",
     "output_type": "stream",
     "text": [
      "using dataset data refit training on model redd seed 82\n",
      "reading data, printing stats: \n",
      "['HEKA', 'fridge/freezer', 'audio system', 'breadmaker', 'broadband router', 'computer', 'dehumidifier', 'dish washer', 'electric space heater', 'food processor', 'pond pump', 'television', 'tumble dryer', 'washer dryer', 'washing machine']\n",
      "{0: 0.2602198297365584, 1: 0.40103670634920635, 2: 2.4953395061728396, 3: 8.651578384162654, 4: 8.369461697722567, 5: 0.8347426565484487, 6: 8.421770833333333, 7: 0.863218022635063, 8: 4.254091028676664, 9: 8.10516290726817, 10: 8.421770833333333, 11: 0.4771541548630784, 12: 1.9194919278252611, 13: 4.587177304964539, 14: 0.4462973696558196}\n",
      " \n",
      "Tests \n",
      "HEKA test: 5178 train: 20713\n",
      "fridge/freezer test: 3360 train: 13440\n",
      "audio system test: 540 train: 2160\n",
      "breadmaker test: 156 train: 623\n",
      "broadband router test: 161 train: 644\n",
      "computer test: 1614 train: 6457\n",
      "dehumidifier test: 160 train: 640\n",
      "dish washer test: 1561 train: 6244\n",
      "electric space heater test: 317 train: 1267\n",
      "food processor test: 166 train: 665\n",
      "pond pump test: 160 train: 640\n",
      "television test: 2824 train: 11296\n",
      "tumble dryer test: 702 train: 2808\n",
      "washer dryer test: 294 train: 1175\n",
      "washing machine test: 3020 train: 12077\n",
      "loading model\n",
      "compling TL model..\n"
     ]
    },
    {
     "name": "stderr",
     "output_type": "stream",
     "text": [
      "2022-02-08 12:41:49.942386: I tensorflow/core/common_runtime/gpu/gpu_device.cc:1734] Found device 0 with properties: \n",
      "pciBusID: 0000:21:00.0 name: NVIDIA GeForce RTX 2080 Ti computeCapability: 7.5\n",
      "coreClock: 1.545GHz coreCount: 68 deviceMemorySize: 10.76GiB deviceMemoryBandwidth: 573.69GiB/s\n",
      "2022-02-08 12:41:49.951094: I tensorflow/core/common_runtime/gpu/gpu_device.cc:1872] Adding visible gpu devices: 0\n",
      "2022-02-08 12:41:49.957459: I tensorflow/stream_executor/platform/default/dso_loader.cc:54] Successfully opened dynamic library libcudart.so.11.0\n",
      "2022-02-08 12:41:50.833714: I tensorflow/core/common_runtime/gpu/gpu_device.cc:1258] Device interconnect StreamExecutor with strength 1 edge matrix:\n",
      "2022-02-08 12:41:50.833749: I tensorflow/core/common_runtime/gpu/gpu_device.cc:1264]      0 \n",
      "2022-02-08 12:41:50.833933: I tensorflow/core/common_runtime/gpu/gpu_device.cc:1277] 0:   N \n",
      "2022-02-08 12:41:50.834551: I tensorflow/core/common_runtime/gpu/gpu_device.cc:1418] Created TensorFlow device (/job:localhost/replica:0/task:0/device:GPU:0 with 9649 MB memory) -> physical GPU (device: 0, name: NVIDIA GeForce RTX 2080 Ti, pci bus id: 0000:21:00.0, compute capability: 7.5)\n",
      "2022-02-08 12:41:50.835834: I tensorflow/core/common_runtime/process_util.cc:146] Creating new thread pool with default inter op setting: 20. Tune using inter_op_parallelism_threads for best performance.\n"
     ]
    },
    {
     "name": "stdout",
     "output_type": "stream",
     "text": [
      "Normal way\n",
      "[0 1 2 3 4 5 6 7 8 9]\n",
      "WARNING:tensorflow:From /usr/local/lib/python3.8/dist-packages/tensorflow/python/ops/array_ops.py:5043: calling gather (from tensorflow.python.ops.array_ops) with validate_indices is deprecated and will be removed in a future version.\n",
      "Instructions for updating:\n",
      "The `validate_indices` argument has no effect. Indices are always validated on CPU and never validated on GPU.\n"
     ]
    },
    {
     "name": "stderr",
     "output_type": "stream",
     "text": [
      "/usr/local/lib/python3.8/dist-packages/tensorflow/python/keras/optimizer_v2/optimizer_v2.py:374: UserWarning: The `lr` argument is deprecated, use `learning_rate` instead.\n",
      "  warnings.warn(\n",
      "2022-02-08 12:41:51.473503: I tensorflow/compiler/mlir/mlir_graph_optimization_pass.cc:176] None of the MLIR Optimization Passes are enabled (registered 2)\n",
      "2022-02-08 12:41:51.492609: I tensorflow/core/platform/profile_utils/cpu_utils.cc:114] CPU Frequency: 3299990000 Hz\n"
     ]
    },
    {
     "name": "stdout",
     "output_type": "stream",
     "text": [
      "Epoch 1/50\n"
     ]
    },
    {
     "name": "stderr",
     "output_type": "stream",
     "text": [
      "2022-02-08 12:41:52.048202: I tensorflow/stream_executor/platform/default/dso_loader.cc:54] Successfully opened dynamic library libcudnn.so.8\n",
      "2022-02-08 12:41:52.826468: I tensorflow/stream_executor/cuda/cuda_dnn.cc:380] Loaded cuDNN version 8202\n",
      "2022-02-08 12:41:53.701854: I tensorflow/stream_executor/platform/default/dso_loader.cc:54] Successfully opened dynamic library libcublas.so.11\n",
      "2022-02-08 12:41:54.473778: I tensorflow/stream_executor/platform/default/dso_loader.cc:54] Successfully opened dynamic library libcublasLt.so.11\n"
     ]
    },
    {
     "name": "stdout",
     "output_type": "stream",
     "text": [
      "2527/2527 - 131s - loss: 3.1011 - accuracy: 0.1087\n",
      "Epoch 2/50\n",
      "2527/2527 - 128s - loss: 2.2894 - accuracy: 0.2560\n",
      "Epoch 3/50\n",
      "2527/2527 - 126s - loss: 2.1246 - accuracy: 0.2671\n",
      "Epoch 4/50\n",
      "2527/2527 - 127s - loss: 2.0407 - accuracy: 0.3288\n",
      "Epoch 5/50\n",
      "2527/2527 - 126s - loss: 1.9854 - accuracy: 0.3158\n",
      "Epoch 6/50\n",
      "2527/2527 - 126s - loss: 1.9208 - accuracy: 0.3265\n",
      "Epoch 7/50\n",
      "2527/2527 - 126s - loss: 1.8983 - accuracy: 0.3238\n",
      "Epoch 8/50\n",
      "2527/2527 - 126s - loss: 1.8794 - accuracy: 0.3362\n",
      "Epoch 9/50\n",
      "2527/2527 - 124s - loss: 1.8257 - accuracy: 0.3584\n",
      "Epoch 10/50\n",
      "2527/2527 - 126s - loss: 1.8399 - accuracy: 0.3592\n",
      "Epoch 11/50\n",
      "2527/2527 - 126s - loss: 1.7993 - accuracy: 0.3646\n",
      "Epoch 12/50\n",
      "2527/2527 - 125s - loss: 1.7812 - accuracy: 0.3704\n",
      "Epoch 13/50\n",
      "2527/2527 - 126s - loss: 1.7799 - accuracy: 0.3611\n",
      "Epoch 14/50\n",
      "2527/2527 - 124s - loss: 1.7454 - accuracy: 0.3751\n",
      "Epoch 15/50\n",
      "2527/2527 - 125s - loss: 1.7464 - accuracy: 0.3792\n",
      "Epoch 16/50\n",
      "2527/2527 - 124s - loss: 1.7357 - accuracy: 0.3744\n",
      "Epoch 17/50\n",
      "2527/2527 - 125s - loss: 1.7290 - accuracy: 0.3778\n",
      "Epoch 18/50\n",
      "2527/2527 - 124s - loss: 1.7223 - accuracy: 0.3722\n",
      "Epoch 19/50\n",
      "2527/2527 - 124s - loss: 1.7043 - accuracy: 0.3868\n",
      "Epoch 20/50\n",
      "2527/2527 - 124s - loss: 1.7880 - accuracy: 0.3620\n",
      "Epoch 21/50\n",
      "2527/2527 - 124s - loss: 1.7099 - accuracy: 0.3858\n",
      "Epoch 22/50\n",
      "2527/2527 - 125s - loss: 1.7068 - accuracy: 0.3883\n",
      "Epoch 23/50\n",
      "2527/2527 - 124s - loss: 1.6938 - accuracy: 0.3869\n",
      "Epoch 24/50\n",
      "2527/2527 - 124s - loss: 1.6780 - accuracy: 0.3890\n",
      "Epoch 25/50\n",
      "2527/2527 - 124s - loss: 1.7451 - accuracy: 0.3754\n",
      "Epoch 26/50\n",
      "2527/2527 - 124s - loss: 1.6825 - accuracy: 0.3897\n",
      "Epoch 27/50\n",
      "2527/2527 - 125s - loss: 1.6888 - accuracy: 0.3934\n",
      "Epoch 28/50\n",
      "2527/2527 - 125s - loss: 1.6854 - accuracy: 0.3951\n",
      "Epoch 29/50\n",
      "2527/2527 - 124s - loss: 1.6725 - accuracy: 0.3974\n",
      "Epoch 30/50\n",
      "2527/2527 - 125s - loss: 1.6719 - accuracy: 0.3972\n",
      "Epoch 31/50\n",
      "2527/2527 - 125s - loss: 1.6779 - accuracy: 0.3992\n",
      "Epoch 32/50\n",
      "2527/2527 - 126s - loss: 1.6721 - accuracy: 0.4002\n",
      "Epoch 33/50\n",
      "2527/2527 - 125s - loss: 1.6877 - accuracy: 0.3955\n",
      "Epoch 34/50\n",
      "2527/2527 - 125s - loss: 1.6684 - accuracy: 0.3834\n",
      "Epoch 35/50\n",
      "2527/2527 - 124s - loss: 1.6720 - accuracy: 0.3977\n",
      "Epoch 36/50\n",
      "2527/2527 - 124s - loss: 1.6491 - accuracy: 0.3995\n",
      "Epoch 37/50\n",
      "2527/2527 - 125s - loss: 1.6793 - accuracy: 0.4041\n",
      "Epoch 38/50\n",
      "2527/2527 - 125s - loss: 1.6618 - accuracy: 0.4041\n",
      "Epoch 39/50\n",
      "2527/2527 - 125s - loss: 1.6678 - accuracy: 0.3955\n",
      "Epoch 40/50\n",
      "2527/2527 - 125s - loss: 1.6617 - accuracy: 0.4023\n",
      "Epoch 41/50\n",
      "2527/2527 - 124s - loss: 1.6720 - accuracy: 0.3975\n",
      "Epoch 42/50\n",
      "2527/2527 - 124s - loss: 1.6448 - accuracy: 0.4018\n",
      "Epoch 43/50\n",
      "2527/2527 - 124s - loss: 1.6495 - accuracy: 0.4002\n",
      "Epoch 44/50\n",
      "2527/2527 - 124s - loss: 1.6455 - accuracy: 0.4020\n",
      "Epoch 45/50\n",
      "2527/2527 - 124s - loss: 1.6500 - accuracy: 0.3941\n",
      "Epoch 46/50\n",
      "2527/2527 - 124s - loss: 1.6337 - accuracy: 0.4005\n",
      "Epoch 47/50\n",
      "2527/2527 - 124s - loss: 1.6520 - accuracy: 0.3964\n",
      "Epoch 48/50\n",
      "2527/2527 - 123s - loss: 1.6394 - accuracy: 0.4017\n",
      "Epoch 49/50\n",
      "2527/2527 - 123s - loss: 1.6107 - accuracy: 0.4088\n",
      "Epoch 50/50\n",
      "2527/2527 - 124s - loss: 1.6166 - accuracy: 0.4091\n",
      "632/632 - 28s\n",
      "Normalized confusion matrix\n",
      "                       precision    recall  f1-score   support\n",
      "\n",
      "                 HEKA       0.91      0.79      0.85      5178\n",
      "       fridge/freezer       0.51      0.37      0.42      3360\n",
      "         audio system       0.16      0.33      0.22       540\n",
      "           breadmaker       0.06      0.59      0.11       156\n",
      "     broadband router       0.05      0.43      0.10       161\n",
      "             computer       0.39      0.19      0.26      1614\n",
      "         dehumidifier       0.08      0.63      0.15       160\n",
      "          dish washer       0.63      0.43      0.51      1561\n",
      "electric space heater       0.27      0.07      0.11       317\n",
      "       food processor       0.06      0.60      0.11       166\n",
      "            pond pump       0.15      0.90      0.25       160\n",
      "           television       0.44      0.10      0.17      2824\n",
      "         tumble dryer       0.67      0.48      0.56       702\n",
      "         washer dryer       0.07      0.46      0.12       294\n",
      "      washing machine       0.54      0.06      0.11      3020\n",
      "\n",
      "             accuracy                           0.39     20213\n",
      "            macro avg       0.33      0.43      0.27     20213\n",
      "         weighted avg       0.57      0.39      0.42     20213\n",
      "\n"
     ]
    },
    {
     "data": {
      "image/png": "[encoded data removed]",
      "text/plain": [
       "<Figure size 720x720 with 2 Axes>"
      ]
     },
     "metadata": {
      "needs_background": "light"
     },
     "output_type": "display_data"
    }
   ],
   "source": [
    "# datasets =[\n",
    "#     \"ukdale_gen_GASF_13m_100S5X12A54480_R82_80-20\"\n",
    "# ]\n",
    "\n",
    "if environ['train_type'] == \"TL\": \n",
    "    models = environ['tl_datasets'].replace(\" \",\"\").split(\",\")\n",
    "    #model = [\"base\"]\n",
    "    \n",
    "    for model in models:\n",
    "    \n",
    "        file_name = dataset\n",
    "        \n",
    "        datasetTL = model\n",
    "        \n",
    "        seed = dataset.split(\"_R\")[1][0:2]\n",
    "        \n",
    "        print(\"using dataset data\",dataset.split(\"_\")[0],\"training on model\",model,\"seed\",environ['seed'])\n",
    "        txt_log.write(\"starting \"+dataset.split(\"_\")[0]+\" training on model \"+model+\" seed \"+environ['seed']+\"\\n\")\n",
    "\n",
    "\n",
    "        tf.keras.backend.clear_session()\n",
    "\n",
    "\n",
    "        #read the file\n",
    "        path = str(pathlib.Path().resolve())\n",
    "        path_data = f\"{path}\"\"/data/\"f\"{file_name}\"\"/\"f\"{file_name}\"\".hdf5\"\n",
    "        file = h5py.File(path_data,\"r+\")\n",
    "\n",
    "\n",
    "        print(\"reading data, printing stats: \")\n",
    "        x_test,y_test,d_class_weights,num_of_classes,appliances = get_data(file)\n",
    "        print(\"loading model\")\n",
    "        \n",
    "        model_seed = 42\n",
    "        model_used = create_tl_model(model,environ['learn_type'],model_seed,path,num_of_classes)\n",
    "                \n",
    "        train_gen = HDF5ImageGenerator(\n",
    "            src= path_data,\n",
    "            X_key=\"data/train/gaf\",\n",
    "            y_key=\"labels/train/gaf\",\n",
    "            classes_key=\"appliances/classes\",\n",
    "            labels_encoding=\"hot\",\n",
    "            shuffle=True,\n",
    "            batch_size=int(environ['batch_size']),\n",
    "            num_classes=num_of_classes,\n",
    "            mode=\"train\",\n",
    "            )\n",
    "\n",
    "        model_used.fit(\n",
    "            train_gen,\n",
    "            verbose=2,\n",
    "            epochs=int(environ['epochs']),\n",
    "            class_weight=d_class_weights,\n",
    "            callbacks = [save_op_callback]\n",
    "            #workers = 6,\n",
    "        )\n",
    "        \n",
    "        txt_log.write(\"finished \"+dataset.split(\"_\")[0]+\" training on model \"+model+\" seed \"+environ['seed']+\"\\n\")\n",
    "\n",
    "\n",
    "        evaluate_model(model_used,x_test,y_test,appliances)\n",
    "        \n",
    "\n",
    "\n",
    "\n",
    "        #del model_used\n",
    "\n"
   ]
  },
  {
   "cell_type": "code",
   "execution_count": 16,
   "metadata": {
    "execution": {
     "iopub.execute_input": "2022-02-08T14:26:44.979574Z",
     "iopub.status.busy": "2022-02-08T14:26:44.979189Z",
     "iopub.status.idle": "2022-02-08T14:26:44.980819Z",
     "shell.execute_reply": "2022-02-08T14:26:44.981248Z"
    }
   },
   "outputs": [],
   "source": [
    "txt_log.close()"
   ]
  },
  {
   "cell_type": "code",
   "execution_count": null,
   "metadata": {},
   "outputs": [],
   "source": []
  }
 ],
 "metadata": {
  "colab": {
   "authorship_tag": "ABX9TyMej4PvP65qsLng7TnQKWA4",
   "name": "LSTM-gen",
   "provenance": []
  },
  "kernelspec": {
   "display_name": "Python 3 (ipykernel)",
   "language": "python",
   "name": "python3"
  },
  "language_info": {
   "codemirror_mode": {
    "name": "ipython",
    "version": 3
   },
   "file_extension": ".py",
   "mimetype": "text/x-python",
   "name": "python",
   "nbconvert_exporter": "python",
   "pygments_lexer": "ipython3",
   "version": "3.8.10"
  }
 },
 "nbformat": 4,
 "nbformat_minor": 4
}
