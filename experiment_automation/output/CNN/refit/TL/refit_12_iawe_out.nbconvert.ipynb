{
 "cells": [
  {
   "cell_type": "code",
   "execution_count": 1,
   "metadata": {
    "execution": {
     "iopub.execute_input": "2022-02-08T19:43:57.655237Z",
     "iopub.status.busy": "2022-02-08T19:43:57.650644Z",
     "iopub.status.idle": "2022-02-08T19:44:00.441378Z",
     "shell.execute_reply": "2022-02-08T19:44:00.440130Z"
    },
    "id": "WqUfHWgtJxtu",
    "scrolled": true,
    "tags": []
   },
   "outputs": [
    {
     "name": "stderr",
     "output_type": "stream",
     "text": [
      "2022-02-08 19:43:58.994613: I tensorflow/stream_executor/platform/default/dso_loader.cc:54] Successfully opened dynamic library libcudart.so.11.0\n"
     ]
    },
    {
     "name": "stdout",
     "output_type": "stream",
     "text": [
      "2.5.0\n",
      "Num GPUs Available:  1\n"
     ]
    },
    {
     "name": "stderr",
     "output_type": "stream",
     "text": [
      "2022-02-08 19:44:00.340068: I tensorflow/stream_executor/platform/default/dso_loader.cc:54] Successfully opened dynamic library libcuda.so.1\n",
      "2022-02-08 19:44:00.383207: I tensorflow/core/common_runtime/gpu/gpu_device.cc:1734] Found device 0 with properties: \n",
      "pciBusID: 0000:21:00.0 name: NVIDIA GeForce RTX 2080 Ti computeCapability: 7.5\n",
      "coreClock: 1.545GHz coreCount: 68 deviceMemorySize: 10.76GiB deviceMemoryBandwidth: 573.69GiB/s\n",
      "2022-02-08 19:44:00.383259: I tensorflow/stream_executor/platform/default/dso_loader.cc:54] Successfully opened dynamic library libcudart.so.11.0\n",
      "2022-02-08 19:44:00.397931: I tensorflow/stream_executor/platform/default/dso_loader.cc:54] Successfully opened dynamic library libcublas.so.11\n",
      "2022-02-08 19:44:00.398000: I tensorflow/stream_executor/platform/default/dso_loader.cc:54] Successfully opened dynamic library libcublasLt.so.11\n",
      "2022-02-08 19:44:00.404452: I tensorflow/stream_executor/platform/default/dso_loader.cc:54] Successfully opened dynamic library libcufft.so.10\n",
      "2022-02-08 19:44:00.406585: I tensorflow/stream_executor/platform/default/dso_loader.cc:54] Successfully opened dynamic library libcurand.so.10\n",
      "2022-02-08 19:44:00.423802: I tensorflow/stream_executor/platform/default/dso_loader.cc:54] Successfully opened dynamic library libcutensor.so.1\n",
      "2022-02-08 19:44:00.426253: I tensorflow/stream_executor/platform/default/dso_loader.cc:54] Successfully opened dynamic library libcusolver.so.11\n",
      "2022-02-08 19:44:00.430337: I tensorflow/stream_executor/platform/default/dso_loader.cc:54] Successfully opened dynamic library libcusparse.so.11\n",
      "2022-02-08 19:44:00.430838: I tensorflow/stream_executor/platform/default/dso_loader.cc:54] Successfully opened dynamic library libcudnn.so.8\n",
      "2022-02-08 19:44:00.431217: I tensorflow/core/common_runtime/gpu/gpu_device.cc:1872] Adding visible gpu devices: 0\n"
     ]
    }
   ],
   "source": [
    "import h5py\n",
    "import numpy as np\n",
    "\n",
    "from sklearn.model_selection import train_test_split\n",
    "from sklearn.metrics import classification_report, confusion_matrix\n",
    "import matplotlib.pyplot as plt\n",
    "import itertools \n",
    "import pyts\n",
    "from pyts.approximation import PiecewiseAggregateApproximation\n",
    "\n",
    "from sklearn.utils import class_weight\n",
    "\n",
    "import pathlib\n",
    "import tensorflow as tf\n",
    "from tensorflow import keras\n",
    "from tensorflow.keras import layers, optimizers\n",
    "from tensorflow.keras.layers import Convolution2D,Conv2D, Dense,Dropout, Flatten, Activation, MaxPooling2D, Input, Conv1D, GlobalAveragePooling1D, TimeDistributed, GRU, LSTM\n",
    "\n",
    "print(tf.__version__)\n",
    "print(\"Num GPUs Available: \", len(tf.config.list_physical_devices('GPU')))\n",
    "gpus = tf.config.experimental.list_physical_devices('GPU')\n",
    "\n",
    "try:\n",
    "    for gpu in gpus:\n",
    "        tf.config.experimental.set_memory_growth(gpu, True)\n",
    "except RuntimeError as e:\n",
    "    print(e)"
   ]
  },
  {
   "cell_type": "code",
   "execution_count": 2,
   "metadata": {
    "execution": {
     "iopub.execute_input": "2022-02-08T19:44:00.449441Z",
     "iopub.status.busy": "2022-02-08T19:44:00.448238Z",
     "iopub.status.idle": "2022-02-08T19:44:00.452233Z",
     "shell.execute_reply": "2022-02-08T19:44:00.453222Z"
    }
   },
   "outputs": [
    {
     "name": "stdout",
     "output_type": "stream",
     "text": [
      "refit_gen_GASF_60m_300S0X_15A157030N_R12_80-20-V1\n"
     ]
    }
   ],
   "source": [
    "from os import environ\n",
    "dataset = environ['dataset']\n",
    "print(dataset)"
   ]
  },
  {
   "cell_type": "code",
   "execution_count": 3,
   "metadata": {
    "execution": {
     "iopub.execute_input": "2022-02-08T19:44:00.461730Z",
     "iopub.status.busy": "2022-02-08T19:44:00.460617Z",
     "iopub.status.idle": "2022-02-08T19:44:00.465970Z",
     "shell.execute_reply": "2022-02-08T19:44:00.465039Z"
    }
   },
   "outputs": [],
   "source": [
    "#my defs \n",
    "from modules.models import  LSTM_3D_V56, CNN_V56,LSTM_BI_V56\n",
    "from modules.tools import my_print, plot_confusion_matrix_norm, get_data,get_data_split, evaluate_model, create_tl_model\n",
    "from modules.HDF5ImageGenerator import HDF5ImageGenerator"
   ]
  },
  {
   "cell_type": "code",
   "execution_count": 4,
   "metadata": {
    "execution": {
     "iopub.execute_input": "2022-02-08T19:44:00.473423Z",
     "iopub.status.busy": "2022-02-08T19:44:00.472186Z",
     "iopub.status.idle": "2022-02-08T19:44:00.474701Z",
     "shell.execute_reply": "2022-02-08T19:44:00.475674Z"
    },
    "id": "RT1vwq7-KOtB"
   },
   "outputs": [],
   "source": [
    "#LOAD DATASET\n",
    "#file_name = \"ukdale_gen_GASF_13m_100S5X12A54480\"\n",
    "#file_name = \"refit_gen_GASF_13m_100S5X_15A166006\"\n",
    "file_name = \"refit_gen_GASF_13m_100S5X_15A166006_R42-80-20\"\n",
    "#file_name = \"refit_gen_GASF_13m_100S5X_15A166006_R42_80-20\"\n",
    "file_name = \"refit_gen_GASF_60m_300S0X_15A157030N_R12_80-20-V1\"\n",
    "file_name = environ[\"dataset\"]\n",
    "#read the file\n",
    "path = str(pathlib.Path().resolve())\n",
    "\n",
    "path_data = f\"{path}\"\"/data/\"f\"{file_name}\"\"/\"f\"{file_name}\"\".hdf5\"\n",
    "\n",
    "file = h5py.File(path_data,\"r+\")"
   ]
  },
  {
   "cell_type": "code",
   "execution_count": 5,
   "metadata": {
    "execution": {
     "iopub.execute_input": "2022-02-08T19:44:00.482471Z",
     "iopub.status.busy": "2022-02-08T19:44:00.481292Z",
     "iopub.status.idle": "2022-02-08T19:44:10.650245Z",
     "shell.execute_reply": "2022-02-08T19:44:10.651323Z"
    },
    "scrolled": true
   },
   "outputs": [
    {
     "name": "stdout",
     "output_type": "stream",
     "text": [
      "['HEKA', 'fridge/freezer', 'audio system', 'breadmaker', 'broadband router', 'computer', 'dehumidifier', 'dish washer', 'electric space heater', 'food processor', 'pond pump', 'television', 'tumble dryer', 'washer dryer', 'washing machine']\n",
      "{0: 0.2602198297365584, 1: 0.40103670634920635, 2: 2.4953395061728396, 3: 8.651578384162654, 4: 8.369461697722567, 5: 0.8347426565484487, 6: 8.421770833333333, 7: 0.863218022635063, 8: 4.254091028676664, 9: 8.10516290726817, 10: 8.421770833333333, 11: 0.4771541548630784, 12: 1.9194919278252611, 13: 4.587177304964539, 14: 0.4462973696558196}\n",
      " \n",
      "Tests \n",
      "HEKA test: 5178 train: 20713\n",
      "fridge/freezer test: 3360 train: 13440\n",
      "audio system test: 540 train: 2160\n",
      "breadmaker test: 156 train: 623\n",
      "broadband router test: 161 train: 644\n",
      "computer test: 1614 train: 6457\n",
      "dehumidifier test: 160 train: 640\n",
      "dish washer test: 1561 train: 6244\n",
      "electric space heater test: 317 train: 1267\n",
      "food processor test: 166 train: 665\n",
      "pond pump test: 160 train: 640\n",
      "television test: 2824 train: 11296\n",
      "tumble dryer test: 702 train: 2808\n",
      "washer dryer test: 294 train: 1175\n",
      "washing machine test: 3020 train: 12077\n"
     ]
    }
   ],
   "source": [
    "x_test,y_test,d_class_weights,num_of_classes,appliances = get_data(file)"
   ]
  },
  {
   "cell_type": "code",
   "execution_count": 6,
   "metadata": {
    "execution": {
     "iopub.execute_input": "2022-02-08T19:44:10.659428Z",
     "iopub.status.busy": "2022-02-08T19:44:10.658287Z",
     "iopub.status.idle": "2022-02-08T19:44:10.660657Z",
     "shell.execute_reply": "2022-02-08T19:44:10.661593Z"
    }
   },
   "outputs": [],
   "source": [
    "def select_model(learn_type):\n",
    "    \n",
    "    if learn_type == \"CNN\":\n",
    "        model = CNN_V56(file[\"data/train/gaf\"][0:10],num_of_classes,lr= 0.00002)\n",
    "\n",
    "    if learn_type == \"LSTM\":\n",
    "        model = LSTM_3D_V56(file[\"data/train/gaf\"][0:10],num_of_classes,lr= 0.00002)\n",
    "\n",
    "    if learn_type == \"BI_LSTM\":\n",
    "        model = LSTM_BI_V56(file[\"data/train/gaf\"][0:10],num_of_classes,lr= 0.00002)\n",
    "\n",
    "    return model\n",
    "              "
   ]
  },
  {
   "cell_type": "code",
   "execution_count": 7,
   "metadata": {
    "execution": {
     "iopub.execute_input": "2022-02-08T19:44:10.669394Z",
     "iopub.status.busy": "2022-02-08T19:44:10.668185Z",
     "iopub.status.idle": "2022-02-08T19:44:10.670892Z",
     "shell.execute_reply": "2022-02-08T19:44:10.671864Z"
    }
   },
   "outputs": [],
   "source": [
    "path_save = path+'/experiment_automation/output/'+environ['learn_type']+'/'+dataset.split(\"_\")[0]+\"/\"+environ['train_type']+\"/\"+dataset.split(\"_\")[0]+\"_\"+environ['seed']+\"_\"+environ['tl_datasets']\n",
    "path_save_nb = path_save+\"_out.ipynb\"\n",
    "path_save_log = path_save+\"_out_log2.txt\""
   ]
  },
  {
   "cell_type": "code",
   "execution_count": 8,
   "metadata": {
    "execution": {
     "iopub.execute_input": "2022-02-08T19:44:10.681076Z",
     "iopub.status.busy": "2022-02-08T19:44:10.679837Z",
     "iopub.status.idle": "2022-02-08T19:44:10.841609Z",
     "shell.execute_reply": "2022-02-08T19:44:10.840460Z"
    }
   },
   "outputs": [],
   "source": [
    "from keras.callbacks import LambdaCallback\n",
    "#path_log= path+'/experiment_automation/output/'+environ['learn_type']+'/'+dataset.split(\"_\")[0]+\"/\"+environ['train_type']+\"/\"+dataset.split(\"_\")[0]+\"_\"+environ['seed']+\"_\"+environ['tl_datasets']+\"_log.txt\"\n",
    "txt_log = open(path_save+\"_log.txt\", mode='wt', buffering=1)\n",
    "txt_log.write(\"file created! \\n\")\n",
    "\n",
    "save_op_callback = LambdaCallback(\n",
    "  on_epoch_end = lambda epoch, logs: txt_log.write(\n",
    "    str({'epoch': epoch, 'loss': logs['loss'],'acc': logs['accuracy']}) + '\\n'),\n",
    "                                                           \n",
    ")"
   ]
  },
  {
   "cell_type": "code",
   "execution_count": 9,
   "metadata": {
    "execution": {
     "iopub.execute_input": "2022-02-08T19:44:10.847562Z",
     "iopub.status.busy": "2022-02-08T19:44:10.846293Z",
     "iopub.status.idle": "2022-02-08T19:44:10.851698Z",
     "shell.execute_reply": "2022-02-08T19:44:10.850556Z"
    }
   },
   "outputs": [
    {
     "name": "stdout",
     "output_type": "stream",
     "text": [
      "/workspace/notebooks/experiment_automation/output/CNN/refit/TL/refit_12_iawe_out.ipynb\n"
     ]
    }
   ],
   "source": [
    "print(path_save_nb)"
   ]
  },
  {
   "cell_type": "code",
   "execution_count": 10,
   "metadata": {
    "execution": {
     "iopub.execute_input": "2022-02-08T19:44:10.857185Z",
     "iopub.status.busy": "2022-02-08T19:44:10.856056Z",
     "iopub.status.idle": "2022-02-08T19:44:10.858350Z",
     "shell.execute_reply": "2022-02-08T19:44:10.859243Z"
    }
   },
   "outputs": [],
   "source": [
    "# rm $path_save_log"
   ]
  },
  {
   "cell_type": "code",
   "execution_count": 11,
   "metadata": {
    "execution": {
     "iopub.execute_input": "2022-02-08T19:44:10.864725Z",
     "iopub.status.busy": "2022-02-08T19:44:10.863609Z",
     "iopub.status.idle": "2022-02-08T19:44:10.865901Z",
     "shell.execute_reply": "2022-02-08T19:44:10.866807Z"
    }
   },
   "outputs": [],
   "source": [
    "# %%capture cap \n",
    "\n",
    "# with open(path_save_log,\"wt\") as f:\n",
    "#     f.write(cap.stdout)\n",
    "    \n",
    "# print(\"out capture..\")"
   ]
  },
  {
   "cell_type": "code",
   "execution_count": 12,
   "metadata": {
    "execution": {
     "iopub.execute_input": "2022-02-08T19:44:10.883813Z",
     "iopub.status.busy": "2022-02-08T19:44:10.882471Z",
     "iopub.status.idle": "2022-02-08T19:44:10.885068Z",
     "shell.execute_reply": "2022-02-08T19:44:10.885758Z"
    },
    "id": "vqA9NwOqKrb5",
    "jupyter": {
     "outputs_hidden": true
    },
    "tags": []
   },
   "outputs": [],
   "source": [
    "# %%capture cap --no-stderr\n",
    "\n",
    "\n",
    "if environ['train_type'] == \"BB\":\n",
    "\n",
    "    #define generator\n",
    "    train_gen = HDF5ImageGenerator(\n",
    "        src= path_data,\n",
    "        X_key=\"data/train/gaf\",\n",
    "        y_key=\"labels/train/gaf\",\n",
    "        classes_key=\"appliances/classes\",\n",
    "        labels_encoding=\"hot\",\n",
    "        shuffle=True,\n",
    "        batch_size=int(environ['batch_size']),\n",
    "        num_classes=num_of_classes,\n",
    "        mode=\"train\",\n",
    "        )\n",
    "    \n",
    "    model = select_model(environ['learn_type'])\n",
    "    \n",
    "    txt_log.write(\"fitting BB model: \\n\")\n",
    "    \n",
    "    model.fit(\n",
    "        train_gen,\n",
    "        verbose=2,\n",
    "        epochs=int(environ['epochs']),\n",
    "        class_weight=d_class_weights,\n",
    "        callbacks = [save_op_callback],\n",
    "    )\n",
    "    \n",
    "    txt_log.write(\"finished fitting BB model: \\n\")\n",
    "\n",
    "    evaluate_model(model,x_test,y_test,appliances)\n",
    "    \n",
    "    if environ['save_model']==\"True\":\n",
    "\n",
    "        path_model_save = path+\"/models/\"+environ['learn_type']+\"/\"+dataset.split(\"_\")[0]+\"_\"+dataset.split(\"_R\")[1][0:2]\n",
    "        model.save(path_model_save)\n",
    "        txt_log.write(\"model saved to:\"+\"/models/\"+environ['learn_type']+\"/\"+dataset.split(\"_\")[0]+\"_\"+dataset.split(\"_R\")[1][0:2]+\" \\n\")\n",
    "        \n",
    "        \n",
    "# with open(path_save+\"_out_log.txt\" as f:\n",
    "#     f.write(cap.stdout)\n"
   ]
  },
  {
   "cell_type": "code",
   "execution_count": 13,
   "metadata": {
    "collapsed": true,
    "execution": {
     "iopub.execute_input": "2022-02-08T19:44:10.891207Z",
     "iopub.status.busy": "2022-02-08T19:44:10.889443Z",
     "iopub.status.idle": "2022-02-08T19:44:10.894208Z",
     "shell.execute_reply": "2022-02-08T19:44:10.894923Z"
    }
   },
   "outputs": [],
   "source": [
    "#model = keras.models.load_model(path_model1)\n",
    "# model_used = model"
   ]
  },
  {
   "cell_type": "code",
   "execution_count": 14,
   "metadata": {
    "collapsed": true,
    "execution": {
     "iopub.execute_input": "2022-02-08T19:44:10.901038Z",
     "iopub.status.busy": "2022-02-08T19:44:10.900055Z",
     "iopub.status.idle": "2022-02-08T19:44:10.903369Z",
     "shell.execute_reply": "2022-02-08T19:44:10.904153Z"
    },
    "jupyter": {
     "outputs_hidden": true
    },
    "tags": []
   },
   "outputs": [],
   "source": [
    "# evaluate_model(model,x_test,y_test,appliances)"
   ]
  },
  {
   "cell_type": "code",
   "execution_count": 15,
   "metadata": {
    "collapsed": true,
    "execution": {
     "iopub.execute_input": "2022-02-08T19:44:10.929588Z",
     "iopub.status.busy": "2022-02-08T19:44:10.908731Z",
     "iopub.status.idle": "2022-02-08T21:29:08.957039Z",
     "shell.execute_reply": "2022-02-08T21:29:08.957828Z"
    }
   },
   "outputs": [
    {
     "name": "stdout",
     "output_type": "stream",
     "text": [
      "using dataset data refit training on model iawe seed 12\n",
      "reading data, printing stats: \n",
      "['HEKA', 'fridge/freezer', 'audio system', 'breadmaker', 'broadband router', 'computer', 'dehumidifier', 'dish washer', 'electric space heater', 'food processor', 'pond pump', 'television', 'tumble dryer', 'washer dryer', 'washing machine']\n",
      "{0: 0.2602198297365584, 1: 0.40103670634920635, 2: 2.4953395061728396, 3: 8.651578384162654, 4: 8.369461697722567, 5: 0.8347426565484487, 6: 8.421770833333333, 7: 0.863218022635063, 8: 4.254091028676664, 9: 8.10516290726817, 10: 8.421770833333333, 11: 0.4771541548630784, 12: 1.9194919278252611, 13: 4.587177304964539, 14: 0.4462973696558196}\n",
      " \n",
      "Tests \n",
      "HEKA test: 5178 train: 20713\n",
      "fridge/freezer test: 3360 train: 13440\n",
      "audio system test: 540 train: 2160\n",
      "breadmaker test: 156 train: 623\n",
      "broadband router test: 161 train: 644\n",
      "computer test: 1614 train: 6457\n",
      "dehumidifier test: 160 train: 640\n",
      "dish washer test: 1561 train: 6244\n",
      "electric space heater test: 317 train: 1267\n",
      "food processor test: 166 train: 665\n",
      "pond pump test: 160 train: 640\n",
      "television test: 2824 train: 11296\n",
      "tumble dryer test: 702 train: 2808\n",
      "washer dryer test: 294 train: 1175\n",
      "washing machine test: 3020 train: 12077\n",
      "loading model\n",
      "compling TL model..\n"
     ]
    },
    {
     "name": "stderr",
     "output_type": "stream",
     "text": [
      "2022-02-08 19:44:19.398164: I tensorflow/core/common_runtime/gpu/gpu_device.cc:1734] Found device 0 with properties: \n",
      "pciBusID: 0000:21:00.0 name: NVIDIA GeForce RTX 2080 Ti computeCapability: 7.5\n",
      "coreClock: 1.545GHz coreCount: 68 deviceMemorySize: 10.76GiB deviceMemoryBandwidth: 573.69GiB/s\n",
      "2022-02-08 19:44:19.406109: I tensorflow/core/common_runtime/gpu/gpu_device.cc:1872] Adding visible gpu devices: 0\n",
      "2022-02-08 19:44:19.411721: I tensorflow/stream_executor/platform/default/dso_loader.cc:54] Successfully opened dynamic library libcudart.so.11.0\n",
      "2022-02-08 19:44:20.304682: I tensorflow/core/common_runtime/gpu/gpu_device.cc:1258] Device interconnect StreamExecutor with strength 1 edge matrix:\n",
      "2022-02-08 19:44:20.304721: I tensorflow/core/common_runtime/gpu/gpu_device.cc:1264]      0 \n",
      "2022-02-08 19:44:20.304930: I tensorflow/core/common_runtime/gpu/gpu_device.cc:1277] 0:   N \n",
      "2022-02-08 19:44:20.305552: I tensorflow/core/common_runtime/gpu/gpu_device.cc:1418] Created TensorFlow device (/job:localhost/replica:0/task:0/device:GPU:0 with 9649 MB memory) -> physical GPU (device: 0, name: NVIDIA GeForce RTX 2080 Ti, pci bus id: 0000:21:00.0, compute capability: 7.5)\n",
      "2022-02-08 19:44:20.307658: I tensorflow/core/common_runtime/process_util.cc:146] Creating new thread pool with default inter op setting: 20. Tune using inter_op_parallelism_threads for best performance.\n"
     ]
    },
    {
     "name": "stdout",
     "output_type": "stream",
     "text": [
      "Normal way\n",
      "[0 1 2 3 4 5 6 7 8 9]\n",
      "WARNING:tensorflow:From /usr/local/lib/python3.8/dist-packages/tensorflow/python/ops/array_ops.py:5043: calling gather (from tensorflow.python.ops.array_ops) with validate_indices is deprecated and will be removed in a future version.\n",
      "Instructions for updating:\n",
      "The `validate_indices` argument has no effect. Indices are always validated on CPU and never validated on GPU.\n"
     ]
    },
    {
     "name": "stderr",
     "output_type": "stream",
     "text": [
      "/usr/local/lib/python3.8/dist-packages/tensorflow/python/keras/optimizer_v2/optimizer_v2.py:374: UserWarning: The `lr` argument is deprecated, use `learning_rate` instead.\n",
      "  warnings.warn(\n",
      "2022-02-08 19:44:20.946749: I tensorflow/compiler/mlir/mlir_graph_optimization_pass.cc:176] None of the MLIR Optimization Passes are enabled (registered 2)\n",
      "2022-02-08 19:44:20.964645: I tensorflow/core/platform/profile_utils/cpu_utils.cc:114] CPU Frequency: 3299990000 Hz\n"
     ]
    },
    {
     "name": "stdout",
     "output_type": "stream",
     "text": [
      "Epoch 1/50\n"
     ]
    },
    {
     "name": "stderr",
     "output_type": "stream",
     "text": [
      "2022-02-08 19:44:21.495902: I tensorflow/stream_executor/platform/default/dso_loader.cc:54] Successfully opened dynamic library libcudnn.so.8\n",
      "2022-02-08 19:44:22.246695: I tensorflow/stream_executor/cuda/cuda_dnn.cc:380] Loaded cuDNN version 8202\n",
      "2022-02-08 19:44:23.095503: I tensorflow/stream_executor/platform/default/dso_loader.cc:54] Successfully opened dynamic library libcublas.so.11\n",
      "2022-02-08 19:44:23.878140: I tensorflow/stream_executor/platform/default/dso_loader.cc:54] Successfully opened dynamic library libcublasLt.so.11\n"
     ]
    },
    {
     "name": "stdout",
     "output_type": "stream",
     "text": [
      "2527/2527 - 130s - loss: 2.7259 - accuracy: 0.1841\n",
      "Epoch 2/50\n",
      "2527/2527 - 126s - loss: 2.1886 - accuracy: 0.3141\n",
      "Epoch 3/50\n",
      "2527/2527 - 125s - loss: 2.1040 - accuracy: 0.2591\n",
      "Epoch 4/50\n",
      "2527/2527 - 125s - loss: 2.0328 - accuracy: 0.3101\n",
      "Epoch 5/50\n",
      "2527/2527 - 127s - loss: 2.0092 - accuracy: 0.2977\n",
      "Epoch 6/50\n",
      "2527/2527 - 126s - loss: 1.9559 - accuracy: 0.2812\n",
      "Epoch 7/50\n",
      "2527/2527 - 127s - loss: 1.9461 - accuracy: 0.2630\n",
      "Epoch 8/50\n",
      "2527/2527 - 125s - loss: 1.9448 - accuracy: 0.2652\n",
      "Epoch 9/50\n",
      "2527/2527 - 126s - loss: 1.8930 - accuracy: 0.3699\n",
      "Epoch 10/50\n",
      "2527/2527 - 125s - loss: 1.8865 - accuracy: 0.3581\n",
      "Epoch 11/50\n",
      "2527/2527 - 125s - loss: 1.8719 - accuracy: 0.3498\n",
      "Epoch 12/50\n",
      "2527/2527 - 125s - loss: 1.8577 - accuracy: 0.3250\n",
      "Epoch 13/50\n",
      "2527/2527 - 126s - loss: 1.8684 - accuracy: 0.3429\n",
      "Epoch 14/50\n",
      "2527/2527 - 126s - loss: 1.8556 - accuracy: 0.3617\n",
      "Epoch 15/50\n",
      "2527/2527 - 125s - loss: 1.8369 - accuracy: 0.3821\n",
      "Epoch 16/50\n",
      "2527/2527 - 123s - loss: 1.8242 - accuracy: 0.3932\n",
      "Epoch 17/50\n",
      "2527/2527 - 123s - loss: 1.8187 - accuracy: 0.3850\n",
      "Epoch 18/50\n",
      "2527/2527 - 124s - loss: 1.8189 - accuracy: 0.3528\n",
      "Epoch 19/50\n",
      "2527/2527 - 125s - loss: 1.8089 - accuracy: 0.3873\n",
      "Epoch 20/50\n",
      "2527/2527 - 124s - loss: 1.7942 - accuracy: 0.4080\n",
      "Epoch 21/50\n",
      "2527/2527 - 124s - loss: 1.7954 - accuracy: 0.4063\n",
      "Epoch 22/50\n",
      "2527/2527 - 125s - loss: 1.8026 - accuracy: 0.3937\n",
      "Epoch 23/50\n",
      "2527/2527 - 124s - loss: 1.8010 - accuracy: 0.3932\n",
      "Epoch 24/50\n",
      "2527/2527 - 124s - loss: 1.7742 - accuracy: 0.3944\n",
      "Epoch 25/50\n",
      "2527/2527 - 124s - loss: 1.7945 - accuracy: 0.4047\n",
      "Epoch 26/50\n",
      "2527/2527 - 124s - loss: 1.7644 - accuracy: 0.4099\n",
      "Epoch 27/50\n",
      "2527/2527 - 125s - loss: 1.7771 - accuracy: 0.3993\n",
      "Epoch 28/50\n",
      "2527/2527 - 124s - loss: 1.7767 - accuracy: 0.4152\n",
      "Epoch 29/50\n",
      "2527/2527 - 125s - loss: 1.7713 - accuracy: 0.4157\n",
      "Epoch 30/50\n",
      "2527/2527 - 126s - loss: 1.7693 - accuracy: 0.4175\n",
      "Epoch 31/50\n",
      "2527/2527 - 124s - loss: 1.7468 - accuracy: 0.4170\n",
      "Epoch 32/50\n",
      "2527/2527 - 124s - loss: 1.7469 - accuracy: 0.4198\n",
      "Epoch 33/50\n",
      "2527/2527 - 125s - loss: 1.7516 - accuracy: 0.4146\n",
      "Epoch 34/50\n",
      "2527/2527 - 125s - loss: 1.7666 - accuracy: 0.4220\n",
      "Epoch 35/50\n",
      "2527/2527 - 124s - loss: 1.7386 - accuracy: 0.4213\n",
      "Epoch 36/50\n",
      "2527/2527 - 124s - loss: 1.7573 - accuracy: 0.4237\n",
      "Epoch 37/50\n",
      "2527/2527 - 124s - loss: 1.7588 - accuracy: 0.4211\n",
      "Epoch 38/50\n",
      "2527/2527 - 124s - loss: 1.7396 - accuracy: 0.4224\n",
      "Epoch 39/50\n",
      "2527/2527 - 124s - loss: 1.7275 - accuracy: 0.4246\n",
      "Epoch 40/50\n",
      "2527/2527 - 124s - loss: 1.7192 - accuracy: 0.4273\n",
      "Epoch 41/50\n",
      "2527/2527 - 125s - loss: 1.7413 - accuracy: 0.4207\n",
      "Epoch 42/50\n",
      "2527/2527 - 125s - loss: 1.7391 - accuracy: 0.4201\n",
      "Epoch 43/50\n",
      "2527/2527 - 124s - loss: 1.7195 - accuracy: 0.4245\n",
      "Epoch 44/50\n",
      "2527/2527 - 125s - loss: 1.7378 - accuracy: 0.4222\n",
      "Epoch 45/50\n",
      "2527/2527 - 124s - loss: 1.6992 - accuracy: 0.4141\n",
      "Epoch 46/50\n",
      "2527/2527 - 124s - loss: 1.6671 - accuracy: 0.4045\n",
      "Epoch 47/50\n",
      "2527/2527 - 125s - loss: 1.6548 - accuracy: 0.3992\n",
      "Epoch 48/50\n",
      "2527/2527 - 125s - loss: 1.6586 - accuracy: 0.3966\n",
      "Epoch 49/50\n",
      "2527/2527 - 124s - loss: 1.6411 - accuracy: 0.3984\n",
      "Epoch 50/50\n",
      "2527/2527 - 124s - loss: 1.6874 - accuracy: 0.3804\n",
      "632/632 - 28s\n",
      "Normalized confusion matrix\n",
      "                       precision    recall  f1-score   support\n",
      "\n",
      "                 HEKA       0.78      0.71      0.74      5178\n",
      "       fridge/freezer       0.82      0.33      0.48      3360\n",
      "         audio system       0.17      0.57      0.26       540\n",
      "           breadmaker       0.06      0.44      0.10       156\n",
      "     broadband router       0.08      0.71      0.14       161\n",
      "             computer       0.31      0.07      0.12      1614\n",
      "         dehumidifier       0.05      0.66      0.09       160\n",
      "          dish washer       0.20      0.21      0.20      1561\n",
      "electric space heater       0.06      0.06      0.06       317\n",
      "       food processor       0.06      0.75      0.11       166\n",
      "            pond pump       0.30      0.91      0.45       160\n",
      "           television       0.43      0.17      0.24      2824\n",
      "         tumble dryer       0.11      0.14      0.12       702\n",
      "         washer dryer       0.03      0.02      0.03       294\n",
      "      washing machine       0.34      0.04      0.08      3020\n",
      "\n",
      "             accuracy                           0.34     20213\n",
      "            macro avg       0.25      0.39      0.22     20213\n",
      "         weighted avg       0.50      0.34      0.36     20213\n",
      "\n"
     ]
    },
    {
     "data": {
      "image/png": "[encoded data removed]",
      "text/plain": [
       "<Figure size 720x720 with 2 Axes>"
      ]
     },
     "metadata": {
      "needs_background": "light"
     },
     "output_type": "display_data"
    }
   ],
   "source": [
    "# datasets =[\n",
    "#     \"ukdale_gen_GASF_13m_100S5X12A54480_R82_80-20\"\n",
    "# ]\n",
    "\n",
    "if environ['train_type'] == \"TL\": \n",
    "    models = environ['tl_datasets'].replace(\" \",\"\").split(\",\")\n",
    "    #model = [\"base\"]\n",
    "    \n",
    "    for model in models:\n",
    "    \n",
    "        file_name = dataset\n",
    "        \n",
    "        datasetTL = model\n",
    "        \n",
    "        seed = dataset.split(\"_R\")[1][0:2]\n",
    "        \n",
    "        print(\"using dataset data\",dataset.split(\"_\")[0],\"training on model\",model,\"seed\",environ['seed'])\n",
    "        txt_log.write(\"starting \"+dataset.split(\"_\")[0]+\" training on model \"+model+\" seed \"+environ['seed']+\"\\n\")\n",
    "\n",
    "\n",
    "        tf.keras.backend.clear_session()\n",
    "\n",
    "\n",
    "        #read the file\n",
    "        path = str(pathlib.Path().resolve())\n",
    "        path_data = f\"{path}\"\"/data/\"f\"{file_name}\"\"/\"f\"{file_name}\"\".hdf5\"\n",
    "        file = h5py.File(path_data,\"r+\")\n",
    "\n",
    "\n",
    "        print(\"reading data, printing stats: \")\n",
    "        x_test,y_test,d_class_weights,num_of_classes,appliances = get_data(file)\n",
    "        print(\"loading model\")\n",
    "        \n",
    "        model_seed = 42\n",
    "        model_used = create_tl_model(model,environ['learn_type'],model_seed,path,num_of_classes)\n",
    "                \n",
    "        train_gen = HDF5ImageGenerator(\n",
    "            src= path_data,\n",
    "            X_key=\"data/train/gaf\",\n",
    "            y_key=\"labels/train/gaf\",\n",
    "            classes_key=\"appliances/classes\",\n",
    "            labels_encoding=\"hot\",\n",
    "            shuffle=True,\n",
    "            batch_size=int(environ['batch_size']),\n",
    "            num_classes=num_of_classes,\n",
    "            mode=\"train\",\n",
    "            )\n",
    "\n",
    "        model_used.fit(\n",
    "            train_gen,\n",
    "            verbose=2,\n",
    "            epochs=int(environ['epochs']),\n",
    "            class_weight=d_class_weights,\n",
    "            callbacks = [save_op_callback]\n",
    "            #workers = 6,\n",
    "        )\n",
    "        \n",
    "        txt_log.write(\"finished \"+dataset.split(\"_\")[0]+\" training on model \"+model+\" seed \"+environ['seed']+\"\\n\")\n",
    "\n",
    "\n",
    "        evaluate_model(model_used,x_test,y_test,appliances)\n",
    "        \n",
    "\n",
    "\n",
    "\n",
    "        #del model_used\n",
    "\n"
   ]
  },
  {
   "cell_type": "code",
   "execution_count": 16,
   "metadata": {
    "execution": {
     "iopub.execute_input": "2022-02-08T21:29:08.962544Z",
     "iopub.status.busy": "2022-02-08T21:29:08.962143Z",
     "iopub.status.idle": "2022-02-08T21:29:08.964269Z",
     "shell.execute_reply": "2022-02-08T21:29:08.963910Z"
    }
   },
   "outputs": [],
   "source": [
    "txt_log.close()"
   ]
  },
  {
   "cell_type": "code",
   "execution_count": null,
   "metadata": {},
   "outputs": [],
   "source": []
  }
 ],
 "metadata": {
  "colab": {
   "authorship_tag": "ABX9TyMej4PvP65qsLng7TnQKWA4",
   "name": "LSTM-gen",
   "provenance": []
  },
  "kernelspec": {
   "display_name": "Python 3 (ipykernel)",
   "language": "python",
   "name": "python3"
  },
  "language_info": {
   "codemirror_mode": {
    "name": "ipython",
    "version": 3
   },
   "file_extension": ".py",
   "mimetype": "text/x-python",
   "name": "python",
   "nbconvert_exporter": "python",
   "pygments_lexer": "ipython3",
   "version": "3.8.10"
  }
 },
 "nbformat": 4,
 "nbformat_minor": 4
}
