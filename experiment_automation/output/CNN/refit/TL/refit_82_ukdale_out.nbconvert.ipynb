{
 "cells": [
  {
   "cell_type": "code",
   "execution_count": 1,
   "metadata": {
    "execution": {
     "iopub.execute_input": "2022-02-08T16:12:13.183700Z",
     "iopub.status.busy": "2022-02-08T16:12:13.182247Z",
     "iopub.status.idle": "2022-02-08T16:12:16.031003Z",
     "shell.execute_reply": "2022-02-08T16:12:16.029781Z"
    },
    "id": "WqUfHWgtJxtu",
    "scrolled": true,
    "tags": []
   },
   "outputs": [
    {
     "name": "stderr",
     "output_type": "stream",
     "text": [
      "2022-02-08 16:12:14.531414: I tensorflow/stream_executor/platform/default/dso_loader.cc:54] Successfully opened dynamic library libcudart.so.11.0\n"
     ]
    },
    {
     "name": "stdout",
     "output_type": "stream",
     "text": [
      "2.5.0\n",
      "Num GPUs Available:  1\n"
     ]
    },
    {
     "name": "stderr",
     "output_type": "stream",
     "text": [
      "2022-02-08 16:12:15.929561: I tensorflow/stream_executor/platform/default/dso_loader.cc:54] Successfully opened dynamic library libcuda.so.1\n",
      "2022-02-08 16:12:15.970096: I tensorflow/core/common_runtime/gpu/gpu_device.cc:1734] Found device 0 with properties: \n",
      "pciBusID: 0000:21:00.0 name: NVIDIA GeForce RTX 2080 Ti computeCapability: 7.5\n",
      "coreClock: 1.545GHz coreCount: 68 deviceMemorySize: 10.76GiB deviceMemoryBandwidth: 573.69GiB/s\n",
      "2022-02-08 16:12:15.970147: I tensorflow/stream_executor/platform/default/dso_loader.cc:54] Successfully opened dynamic library libcudart.so.11.0\n",
      "2022-02-08 16:12:15.985260: I tensorflow/stream_executor/platform/default/dso_loader.cc:54] Successfully opened dynamic library libcublas.so.11\n",
      "2022-02-08 16:12:15.985327: I tensorflow/stream_executor/platform/default/dso_loader.cc:54] Successfully opened dynamic library libcublasLt.so.11\n",
      "2022-02-08 16:12:15.992549: I tensorflow/stream_executor/platform/default/dso_loader.cc:54] Successfully opened dynamic library libcufft.so.10\n",
      "2022-02-08 16:12:15.994565: I tensorflow/stream_executor/platform/default/dso_loader.cc:54] Successfully opened dynamic library libcurand.so.10\n",
      "2022-02-08 16:12:16.012558: I tensorflow/stream_executor/platform/default/dso_loader.cc:54] Successfully opened dynamic library libcutensor.so.1\n",
      "2022-02-08 16:12:16.014833: I tensorflow/stream_executor/platform/default/dso_loader.cc:54] Successfully opened dynamic library libcusolver.so.11\n",
      "2022-02-08 16:12:16.019907: I tensorflow/stream_executor/platform/default/dso_loader.cc:54] Successfully opened dynamic library libcusparse.so.11\n",
      "2022-02-08 16:12:16.020582: I tensorflow/stream_executor/platform/default/dso_loader.cc:54] Successfully opened dynamic library libcudnn.so.8\n",
      "2022-02-08 16:12:16.021109: I tensorflow/core/common_runtime/gpu/gpu_device.cc:1872] Adding visible gpu devices: 0\n"
     ]
    }
   ],
   "source": [
    "import h5py\n",
    "import numpy as np\n",
    "\n",
    "from sklearn.model_selection import train_test_split\n",
    "from sklearn.metrics import classification_report, confusion_matrix\n",
    "import matplotlib.pyplot as plt\n",
    "import itertools \n",
    "import pyts\n",
    "from pyts.approximation import PiecewiseAggregateApproximation\n",
    "\n",
    "from sklearn.utils import class_weight\n",
    "\n",
    "import pathlib\n",
    "import tensorflow as tf\n",
    "from tensorflow import keras\n",
    "from tensorflow.keras import layers, optimizers\n",
    "from tensorflow.keras.layers import Convolution2D,Conv2D, Dense,Dropout, Flatten, Activation, MaxPooling2D, Input, Conv1D, GlobalAveragePooling1D, TimeDistributed, GRU, LSTM\n",
    "\n",
    "print(tf.__version__)\n",
    "print(\"Num GPUs Available: \", len(tf.config.list_physical_devices('GPU')))\n",
    "gpus = tf.config.experimental.list_physical_devices('GPU')\n",
    "\n",
    "try:\n",
    "    for gpu in gpus:\n",
    "        tf.config.experimental.set_memory_growth(gpu, True)\n",
    "except RuntimeError as e:\n",
    "    print(e)"
   ]
  },
  {
   "cell_type": "code",
   "execution_count": 2,
   "metadata": {
    "execution": {
     "iopub.execute_input": "2022-02-08T16:12:16.037068Z",
     "iopub.status.busy": "2022-02-08T16:12:16.035850Z",
     "iopub.status.idle": "2022-02-08T16:12:16.040602Z",
     "shell.execute_reply": "2022-02-08T16:12:16.039672Z"
    }
   },
   "outputs": [
    {
     "name": "stdout",
     "output_type": "stream",
     "text": [
      "refit_gen_GASF_60m_300S0X_15A157030N_R82_80-20-V1\n"
     ]
    }
   ],
   "source": [
    "from os import environ\n",
    "dataset = environ['dataset']\n",
    "print(dataset)"
   ]
  },
  {
   "cell_type": "code",
   "execution_count": 3,
   "metadata": {
    "execution": {
     "iopub.execute_input": "2022-02-08T16:12:16.046785Z",
     "iopub.status.busy": "2022-02-08T16:12:16.045743Z",
     "iopub.status.idle": "2022-02-08T16:12:16.050737Z",
     "shell.execute_reply": "2022-02-08T16:12:16.049813Z"
    }
   },
   "outputs": [],
   "source": [
    "#my defs \n",
    "from modules.models import  LSTM_3D_V56, CNN_V56,LSTM_BI_V56\n",
    "from modules.tools import my_print, plot_confusion_matrix_norm, get_data,get_data_split, evaluate_model, create_tl_model\n",
    "from modules.HDF5ImageGenerator import HDF5ImageGenerator"
   ]
  },
  {
   "cell_type": "code",
   "execution_count": 4,
   "metadata": {
    "execution": {
     "iopub.execute_input": "2022-02-08T16:12:16.057840Z",
     "iopub.status.busy": "2022-02-08T16:12:16.056698Z",
     "iopub.status.idle": "2022-02-08T16:12:16.059064Z",
     "shell.execute_reply": "2022-02-08T16:12:16.060038Z"
    },
    "id": "RT1vwq7-KOtB"
   },
   "outputs": [],
   "source": [
    "#LOAD DATASET\n",
    "#file_name = \"ukdale_gen_GASF_13m_100S5X12A54480\"\n",
    "#file_name = \"refit_gen_GASF_13m_100S5X_15A166006\"\n",
    "file_name = \"refit_gen_GASF_13m_100S5X_15A166006_R42-80-20\"\n",
    "#file_name = \"refit_gen_GASF_13m_100S5X_15A166006_R42_80-20\"\n",
    "file_name = \"refit_gen_GASF_60m_300S0X_15A157030N_R12_80-20-V1\"\n",
    "file_name = environ[\"dataset\"]\n",
    "#read the file\n",
    "path = str(pathlib.Path().resolve())\n",
    "\n",
    "path_data = f\"{path}\"\"/data/\"f\"{file_name}\"\"/\"f\"{file_name}\"\".hdf5\"\n",
    "\n",
    "file = h5py.File(path_data,\"r+\")"
   ]
  },
  {
   "cell_type": "code",
   "execution_count": 5,
   "metadata": {
    "execution": {
     "iopub.execute_input": "2022-02-08T16:12:16.067451Z",
     "iopub.status.busy": "2022-02-08T16:12:16.066265Z",
     "iopub.status.idle": "2022-02-08T16:12:27.066538Z",
     "shell.execute_reply": "2022-02-08T16:12:27.067621Z"
    },
    "scrolled": true
   },
   "outputs": [
    {
     "name": "stdout",
     "output_type": "stream",
     "text": [
      "['HEKA', 'fridge/freezer', 'audio system', 'breadmaker', 'broadband router', 'computer', 'dehumidifier', 'dish washer', 'electric space heater', 'food processor', 'pond pump', 'television', 'tumble dryer', 'washer dryer', 'washing machine']\n",
      "{0: 0.2602198297365584, 1: 0.40103670634920635, 2: 2.4953395061728396, 3: 8.651578384162654, 4: 8.369461697722567, 5: 0.8347426565484487, 6: 8.421770833333333, 7: 0.863218022635063, 8: 4.254091028676664, 9: 8.10516290726817, 10: 8.421770833333333, 11: 0.4771541548630784, 12: 1.9194919278252611, 13: 4.587177304964539, 14: 0.4462973696558196}\n",
      " \n",
      "Tests \n",
      "HEKA test: 5178 train: 20713\n",
      "fridge/freezer test: 3360 train: 13440\n",
      "audio system test: 540 train: 2160\n",
      "breadmaker test: 156 train: 623\n",
      "broadband router test: 161 train: 644\n",
      "computer test: 1614 train: 6457\n",
      "dehumidifier test: 160 train: 640\n",
      "dish washer test: 1561 train: 6244\n",
      "electric space heater test: 317 train: 1267\n",
      "food processor test: 166 train: 665\n",
      "pond pump test: 160 train: 640\n",
      "television test: 2824 train: 11296\n",
      "tumble dryer test: 702 train: 2808\n",
      "washer dryer test: 294 train: 1175\n",
      "washing machine test: 3020 train: 12077\n"
     ]
    }
   ],
   "source": [
    "x_test,y_test,d_class_weights,num_of_classes,appliances = get_data(file)"
   ]
  },
  {
   "cell_type": "code",
   "execution_count": 6,
   "metadata": {
    "execution": {
     "iopub.execute_input": "2022-02-08T16:12:27.075268Z",
     "iopub.status.busy": "2022-02-08T16:12:27.073877Z",
     "iopub.status.idle": "2022-02-08T16:12:27.077651Z",
     "shell.execute_reply": "2022-02-08T16:12:27.076568Z"
    }
   },
   "outputs": [],
   "source": [
    "def select_model(learn_type):\n",
    "    \n",
    "    if learn_type == \"CNN\":\n",
    "        model = CNN_V56(file[\"data/train/gaf\"][0:10],num_of_classes,lr= 0.00002)\n",
    "\n",
    "    if learn_type == \"LSTM\":\n",
    "        model = LSTM_3D_V56(file[\"data/train/gaf\"][0:10],num_of_classes,lr= 0.00002)\n",
    "\n",
    "    if learn_type == \"BI_LSTM\":\n",
    "        model = LSTM_BI_V56(file[\"data/train/gaf\"][0:10],num_of_classes,lr= 0.00002)\n",
    "\n",
    "    return model\n",
    "              "
   ]
  },
  {
   "cell_type": "code",
   "execution_count": 7,
   "metadata": {
    "execution": {
     "iopub.execute_input": "2022-02-08T16:12:27.084194Z",
     "iopub.status.busy": "2022-02-08T16:12:27.082813Z",
     "iopub.status.idle": "2022-02-08T16:12:27.085296Z",
     "shell.execute_reply": "2022-02-08T16:12:27.084841Z"
    }
   },
   "outputs": [],
   "source": [
    "path_save = path+'/experiment_automation/output/'+environ['learn_type']+'/'+dataset.split(\"_\")[0]+\"/\"+environ['train_type']+\"/\"+dataset.split(\"_\")[0]+\"_\"+environ['seed']+\"_\"+environ['tl_datasets']\n",
    "path_save_nb = path_save+\"_out.ipynb\"\n",
    "path_save_log = path_save+\"_out_log2.txt\""
   ]
  },
  {
   "cell_type": "code",
   "execution_count": 8,
   "metadata": {
    "execution": {
     "iopub.execute_input": "2022-02-08T16:12:27.090403Z",
     "iopub.status.busy": "2022-02-08T16:12:27.089852Z",
     "iopub.status.idle": "2022-02-08T16:12:27.226172Z",
     "shell.execute_reply": "2022-02-08T16:12:27.225156Z"
    }
   },
   "outputs": [],
   "source": [
    "from keras.callbacks import LambdaCallback\n",
    "#path_log= path+'/experiment_automation/output/'+environ['learn_type']+'/'+dataset.split(\"_\")[0]+\"/\"+environ['train_type']+\"/\"+dataset.split(\"_\")[0]+\"_\"+environ['seed']+\"_\"+environ['tl_datasets']+\"_log.txt\"\n",
    "txt_log = open(path_save+\"_log.txt\", mode='wt', buffering=1)\n",
    "txt_log.write(\"file created! \\n\")\n",
    "\n",
    "save_op_callback = LambdaCallback(\n",
    "  on_epoch_end = lambda epoch, logs: txt_log.write(\n",
    "    str({'epoch': epoch, 'loss': logs['loss'],'acc': logs['accuracy']}) + '\\n'),\n",
    "                                                           \n",
    ")"
   ]
  },
  {
   "cell_type": "code",
   "execution_count": 9,
   "metadata": {
    "execution": {
     "iopub.execute_input": "2022-02-08T16:12:27.231814Z",
     "iopub.status.busy": "2022-02-08T16:12:27.230645Z",
     "iopub.status.idle": "2022-02-08T16:12:27.235600Z",
     "shell.execute_reply": "2022-02-08T16:12:27.234576Z"
    }
   },
   "outputs": [
    {
     "name": "stdout",
     "output_type": "stream",
     "text": [
      "/workspace/notebooks/experiment_automation/output/CNN/refit/TL/refit_82_ukdale_out.ipynb\n"
     ]
    }
   ],
   "source": [
    "print(path_save_nb)"
   ]
  },
  {
   "cell_type": "code",
   "execution_count": 10,
   "metadata": {
    "execution": {
     "iopub.execute_input": "2022-02-08T16:12:27.240550Z",
     "iopub.status.busy": "2022-02-08T16:12:27.239524Z",
     "iopub.status.idle": "2022-02-08T16:12:27.241637Z",
     "shell.execute_reply": "2022-02-08T16:12:27.242466Z"
    }
   },
   "outputs": [],
   "source": [
    "# rm $path_save_log"
   ]
  },
  {
   "cell_type": "code",
   "execution_count": 11,
   "metadata": {
    "execution": {
     "iopub.execute_input": "2022-02-08T16:12:27.247478Z",
     "iopub.status.busy": "2022-02-08T16:12:27.246439Z",
     "iopub.status.idle": "2022-02-08T16:12:27.248749Z",
     "shell.execute_reply": "2022-02-08T16:12:27.249586Z"
    }
   },
   "outputs": [],
   "source": [
    "# %%capture cap \n",
    "\n",
    "# with open(path_save_log,\"wt\") as f:\n",
    "#     f.write(cap.stdout)\n",
    "    \n",
    "# print(\"out capture..\")"
   ]
  },
  {
   "cell_type": "code",
   "execution_count": 12,
   "metadata": {
    "execution": {
     "iopub.execute_input": "2022-02-08T16:12:27.264416Z",
     "iopub.status.busy": "2022-02-08T16:12:27.263170Z",
     "iopub.status.idle": "2022-02-08T16:12:27.265691Z",
     "shell.execute_reply": "2022-02-08T16:12:27.266658Z"
    },
    "id": "vqA9NwOqKrb5",
    "jupyter": {
     "outputs_hidden": true
    },
    "tags": []
   },
   "outputs": [],
   "source": [
    "# %%capture cap --no-stderr\n",
    "\n",
    "\n",
    "if environ['train_type'] == \"BB\":\n",
    "\n",
    "    #define generator\n",
    "    train_gen = HDF5ImageGenerator(\n",
    "        src= path_data,\n",
    "        X_key=\"data/train/gaf\",\n",
    "        y_key=\"labels/train/gaf\",\n",
    "        classes_key=\"appliances/classes\",\n",
    "        labels_encoding=\"hot\",\n",
    "        shuffle=True,\n",
    "        batch_size=int(environ['batch_size']),\n",
    "        num_classes=num_of_classes,\n",
    "        mode=\"train\",\n",
    "        )\n",
    "    \n",
    "    model = select_model(environ['learn_type'])\n",
    "    \n",
    "    txt_log.write(\"fitting BB model: \\n\")\n",
    "    \n",
    "    model.fit(\n",
    "        train_gen,\n",
    "        verbose=2,\n",
    "        epochs=int(environ['epochs']),\n",
    "        class_weight=d_class_weights,\n",
    "        callbacks = [save_op_callback],\n",
    "    )\n",
    "    \n",
    "    txt_log.write(\"finished fitting BB model: \\n\")\n",
    "\n",
    "    evaluate_model(model,x_test,y_test,appliances)\n",
    "    \n",
    "    if environ['save_model']==\"True\":\n",
    "\n",
    "        path_model_save = path+\"/models/\"+environ['learn_type']+\"/\"+dataset.split(\"_\")[0]+\"_\"+dataset.split(\"_R\")[1][0:2]\n",
    "        model.save(path_model_save)\n",
    "        txt_log.write(\"model saved to:\"+\"/models/\"+environ['learn_type']+\"/\"+dataset.split(\"_\")[0]+\"_\"+dataset.split(\"_R\")[1][0:2]+\" \\n\")\n",
    "        \n",
    "        \n",
    "# with open(path_save+\"_out_log.txt\" as f:\n",
    "#     f.write(cap.stdout)\n"
   ]
  },
  {
   "cell_type": "code",
   "execution_count": 13,
   "metadata": {
    "collapsed": true,
    "execution": {
     "iopub.execute_input": "2022-02-08T16:12:27.272546Z",
     "iopub.status.busy": "2022-02-08T16:12:27.271353Z",
     "iopub.status.idle": "2022-02-08T16:12:27.274863Z",
     "shell.execute_reply": "2022-02-08T16:12:27.273905Z"
    }
   },
   "outputs": [],
   "source": [
    "#model = keras.models.load_model(path_model1)\n",
    "# model_used = model"
   ]
  },
  {
   "cell_type": "code",
   "execution_count": 14,
   "metadata": {
    "collapsed": true,
    "execution": {
     "iopub.execute_input": "2022-02-08T16:12:27.281156Z",
     "iopub.status.busy": "2022-02-08T16:12:27.280130Z",
     "iopub.status.idle": "2022-02-08T16:12:27.284271Z",
     "shell.execute_reply": "2022-02-08T16:12:27.283387Z"
    },
    "jupyter": {
     "outputs_hidden": true
    },
    "tags": []
   },
   "outputs": [],
   "source": [
    "# evaluate_model(model,x_test,y_test,appliances)"
   ]
  },
  {
   "cell_type": "code",
   "execution_count": 15,
   "metadata": {
    "collapsed": true,
    "execution": {
     "iopub.execute_input": "2022-02-08T16:12:27.310022Z",
     "iopub.status.busy": "2022-02-08T16:12:27.288709Z",
     "iopub.status.idle": "2022-02-08T17:57:27.269687Z",
     "shell.execute_reply": "2022-02-08T17:57:27.270373Z"
    }
   },
   "outputs": [
    {
     "name": "stdout",
     "output_type": "stream",
     "text": [
      "using dataset data refit training on model ukdale seed 82\n",
      "reading data, printing stats: \n",
      "['HEKA', 'fridge/freezer', 'audio system', 'breadmaker', 'broadband router', 'computer', 'dehumidifier', 'dish washer', 'electric space heater', 'food processor', 'pond pump', 'television', 'tumble dryer', 'washer dryer', 'washing machine']\n",
      "{0: 0.2602198297365584, 1: 0.40103670634920635, 2: 2.4953395061728396, 3: 8.651578384162654, 4: 8.369461697722567, 5: 0.8347426565484487, 6: 8.421770833333333, 7: 0.863218022635063, 8: 4.254091028676664, 9: 8.10516290726817, 10: 8.421770833333333, 11: 0.4771541548630784, 12: 1.9194919278252611, 13: 4.587177304964539, 14: 0.4462973696558196}\n",
      " \n",
      "Tests \n",
      "HEKA test: 5178 train: 20713\n",
      "fridge/freezer test: 3360 train: 13440\n",
      "audio system test: 540 train: 2160\n",
      "breadmaker test: 156 train: 623\n",
      "broadband router test: 161 train: 644\n",
      "computer test: 1614 train: 6457\n",
      "dehumidifier test: 160 train: 640\n",
      "dish washer test: 1561 train: 6244\n",
      "electric space heater test: 317 train: 1267\n",
      "food processor test: 166 train: 665\n",
      "pond pump test: 160 train: 640\n",
      "television test: 2824 train: 11296\n",
      "tumble dryer test: 702 train: 2808\n",
      "washer dryer test: 294 train: 1175\n",
      "washing machine test: 3020 train: 12077\n",
      "loading model\n",
      "compling TL model..\n"
     ]
    },
    {
     "name": "stderr",
     "output_type": "stream",
     "text": [
      "2022-02-08 16:12:36.407355: I tensorflow/core/common_runtime/gpu/gpu_device.cc:1734] Found device 0 with properties: \n",
      "pciBusID: 0000:21:00.0 name: NVIDIA GeForce RTX 2080 Ti computeCapability: 7.5\n",
      "coreClock: 1.545GHz coreCount: 68 deviceMemorySize: 10.76GiB deviceMemoryBandwidth: 573.69GiB/s\n",
      "2022-02-08 16:12:36.416665: I tensorflow/core/common_runtime/gpu/gpu_device.cc:1872] Adding visible gpu devices: 0\n",
      "2022-02-08 16:12:36.422691: I tensorflow/stream_executor/platform/default/dso_loader.cc:54] Successfully opened dynamic library libcudart.so.11.0\n",
      "2022-02-08 16:12:37.320924: I tensorflow/core/common_runtime/gpu/gpu_device.cc:1258] Device interconnect StreamExecutor with strength 1 edge matrix:\n",
      "2022-02-08 16:12:37.320988: I tensorflow/core/common_runtime/gpu/gpu_device.cc:1264]      0 \n",
      "2022-02-08 16:12:37.321208: I tensorflow/core/common_runtime/gpu/gpu_device.cc:1277] 0:   N \n",
      "2022-02-08 16:12:37.321833: I tensorflow/core/common_runtime/gpu/gpu_device.cc:1418] Created TensorFlow device (/job:localhost/replica:0/task:0/device:GPU:0 with 9649 MB memory) -> physical GPU (device: 0, name: NVIDIA GeForce RTX 2080 Ti, pci bus id: 0000:21:00.0, compute capability: 7.5)\n",
      "2022-02-08 16:12:37.323489: I tensorflow/core/common_runtime/process_util.cc:146] Creating new thread pool with default inter op setting: 20. Tune using inter_op_parallelism_threads for best performance.\n"
     ]
    },
    {
     "name": "stdout",
     "output_type": "stream",
     "text": [
      "Normal way\n",
      "[0 1 2 3 4 5 6 7 8 9]\n",
      "WARNING:tensorflow:From /usr/local/lib/python3.8/dist-packages/tensorflow/python/ops/array_ops.py:5043: calling gather (from tensorflow.python.ops.array_ops) with validate_indices is deprecated and will be removed in a future version.\n",
      "Instructions for updating:\n",
      "The `validate_indices` argument has no effect. Indices are always validated on CPU and never validated on GPU.\n"
     ]
    },
    {
     "name": "stderr",
     "output_type": "stream",
     "text": [
      "/usr/local/lib/python3.8/dist-packages/tensorflow/python/keras/optimizer_v2/optimizer_v2.py:374: UserWarning: The `lr` argument is deprecated, use `learning_rate` instead.\n",
      "  warnings.warn(\n",
      "2022-02-08 16:12:38.001234: I tensorflow/compiler/mlir/mlir_graph_optimization_pass.cc:176] None of the MLIR Optimization Passes are enabled (registered 2)\n",
      "2022-02-08 16:12:38.020886: I tensorflow/core/platform/profile_utils/cpu_utils.cc:114] CPU Frequency: 3299990000 Hz\n"
     ]
    },
    {
     "name": "stdout",
     "output_type": "stream",
     "text": [
      "Epoch 1/50\n"
     ]
    },
    {
     "name": "stderr",
     "output_type": "stream",
     "text": [
      "2022-02-08 16:12:38.541720: I tensorflow/stream_executor/platform/default/dso_loader.cc:54] Successfully opened dynamic library libcudnn.so.8\n",
      "2022-02-08 16:12:39.306795: I tensorflow/stream_executor/cuda/cuda_dnn.cc:380] Loaded cuDNN version 8202\n",
      "2022-02-08 16:12:40.161733: I tensorflow/stream_executor/platform/default/dso_loader.cc:54] Successfully opened dynamic library libcublas.so.11\n",
      "2022-02-08 16:12:40.940507: I tensorflow/stream_executor/platform/default/dso_loader.cc:54] Successfully opened dynamic library libcublasLt.so.11\n"
     ]
    },
    {
     "name": "stdout",
     "output_type": "stream",
     "text": [
      "2527/2527 - 131s - loss: 2.1211 - accuracy: 0.3783\n",
      "Epoch 2/50\n",
      "2527/2527 - 127s - loss: 1.6896 - accuracy: 0.4215\n",
      "Epoch 3/50\n",
      "2527/2527 - 125s - loss: 1.5104 - accuracy: 0.4527\n",
      "Epoch 4/50\n",
      "2527/2527 - 126s - loss: 1.4122 - accuracy: 0.4847\n",
      "Epoch 5/50\n",
      "2527/2527 - 125s - loss: 1.3541 - accuracy: 0.5112\n",
      "Epoch 6/50\n",
      "2527/2527 - 125s - loss: 1.3220 - accuracy: 0.5291\n",
      "Epoch 7/50\n",
      "2527/2527 - 125s - loss: 1.2800 - accuracy: 0.5482\n",
      "Epoch 8/50\n",
      "2527/2527 - 126s - loss: 1.2320 - accuracy: 0.5632\n",
      "Epoch 9/50\n",
      "2527/2527 - 126s - loss: 1.2066 - accuracy: 0.5729\n",
      "Epoch 10/50\n",
      "2527/2527 - 127s - loss: 1.1805 - accuracy: 0.5765\n",
      "Epoch 11/50\n",
      "2527/2527 - 126s - loss: 1.1575 - accuracy: 0.5828\n",
      "Epoch 12/50\n",
      "2527/2527 - 125s - loss: 1.1447 - accuracy: 0.5837\n",
      "Epoch 13/50\n",
      "2527/2527 - 124s - loss: 1.1323 - accuracy: 0.5902\n",
      "Epoch 14/50\n",
      "2527/2527 - 125s - loss: 1.1119 - accuracy: 0.5964\n",
      "Epoch 15/50\n",
      "2527/2527 - 123s - loss: 1.1247 - accuracy: 0.5941\n",
      "Epoch 16/50\n",
      "2527/2527 - 124s - loss: 1.0703 - accuracy: 0.6058\n",
      "Epoch 17/50\n",
      "2527/2527 - 125s - loss: 1.0719 - accuracy: 0.6048\n",
      "Epoch 18/50\n",
      "2527/2527 - 125s - loss: 1.0553 - accuracy: 0.6099\n",
      "Epoch 19/50\n",
      "2527/2527 - 125s - loss: 1.0429 - accuracy: 0.6133\n",
      "Epoch 20/50\n",
      "2527/2527 - 125s - loss: 1.0210 - accuracy: 0.6181\n",
      "Epoch 21/50\n",
      "2527/2527 - 126s - loss: 1.0147 - accuracy: 0.6149\n",
      "Epoch 22/50\n",
      "2527/2527 - 124s - loss: 1.0084 - accuracy: 0.6234\n",
      "Epoch 23/50\n",
      "2527/2527 - 124s - loss: 1.0017 - accuracy: 0.6169\n",
      "Epoch 24/50\n",
      "2527/2527 - 125s - loss: 1.0004 - accuracy: 0.6236\n",
      "Epoch 25/50\n",
      "2527/2527 - 125s - loss: 1.0074 - accuracy: 0.6235\n",
      "Epoch 26/50\n",
      "2527/2527 - 124s - loss: 0.9692 - accuracy: 0.6290\n",
      "Epoch 27/50\n",
      "2527/2527 - 124s - loss: 0.9690 - accuracy: 0.6322\n",
      "Epoch 28/50\n",
      "2527/2527 - 124s - loss: 0.9583 - accuracy: 0.6337\n",
      "Epoch 29/50\n",
      "2527/2527 - 125s - loss: 0.9530 - accuracy: 0.6357\n",
      "Epoch 30/50\n",
      "2527/2527 - 125s - loss: 0.9252 - accuracy: 0.6393\n",
      "Epoch 31/50\n",
      "2527/2527 - 124s - loss: 0.9323 - accuracy: 0.6361\n",
      "Epoch 32/50\n",
      "2527/2527 - 124s - loss: 0.9332 - accuracy: 0.6402\n",
      "Epoch 33/50\n",
      "2527/2527 - 124s - loss: 0.9364 - accuracy: 0.6312\n",
      "Epoch 34/50\n",
      "2527/2527 - 124s - loss: 0.9290 - accuracy: 0.6348\n",
      "Epoch 35/50\n",
      "2527/2527 - 124s - loss: 0.9153 - accuracy: 0.6423\n",
      "Epoch 36/50\n",
      "2527/2527 - 125s - loss: 0.9096 - accuracy: 0.6394\n",
      "Epoch 37/50\n",
      "2527/2527 - 124s - loss: 0.9046 - accuracy: 0.6459\n",
      "Epoch 38/50\n",
      "2527/2527 - 124s - loss: 0.8944 - accuracy: 0.6435\n",
      "Epoch 39/50\n",
      "2527/2527 - 124s - loss: 0.8846 - accuracy: 0.6484\n",
      "Epoch 40/50\n",
      "2527/2527 - 125s - loss: 0.8874 - accuracy: 0.6465\n",
      "Epoch 41/50\n",
      "2527/2527 - 124s - loss: 0.8844 - accuracy: 0.6492\n",
      "Epoch 42/50\n",
      "2527/2527 - 124s - loss: 0.8988 - accuracy: 0.6454\n",
      "Epoch 43/50\n",
      "2527/2527 - 124s - loss: 0.8727 - accuracy: 0.6478\n",
      "Epoch 44/50\n",
      "2527/2527 - 123s - loss: 0.8709 - accuracy: 0.6457\n",
      "Epoch 45/50\n",
      "2527/2527 - 123s - loss: 0.8879 - accuracy: 0.6496\n",
      "Epoch 46/50\n",
      "2527/2527 - 125s - loss: 0.8573 - accuracy: 0.6519\n",
      "Epoch 47/50\n",
      "2527/2527 - 124s - loss: 0.8687 - accuracy: 0.6508\n",
      "Epoch 48/50\n",
      "2527/2527 - 125s - loss: 0.8767 - accuracy: 0.6464\n",
      "Epoch 49/50\n",
      "2527/2527 - 124s - loss: 0.8682 - accuracy: 0.6502\n",
      "Epoch 50/50\n",
      "2527/2527 - 125s - loss: 0.8617 - accuracy: 0.6507\n",
      "632/632 - 28s\n",
      "Normalized confusion matrix\n",
      "                       precision    recall  f1-score   support\n",
      "\n",
      "                 HEKA       0.91      0.82      0.86      5178\n",
      "       fridge/freezer       0.88      0.77      0.82      3360\n",
      "         audio system       0.27      0.49      0.35       540\n",
      "           breadmaker       0.16      0.76      0.27       156\n",
      "     broadband router       0.25      0.27      0.26       161\n",
      "             computer       0.35      0.38      0.37      1614\n",
      "         dehumidifier       0.13      0.84      0.23       160\n",
      "          dish washer       0.85      0.63      0.72      1561\n",
      "electric space heater       0.24      0.59      0.34       317\n",
      "       food processor       0.13      0.74      0.22       166\n",
      "            pond pump       0.51      0.86      0.64       160\n",
      "           television       0.57      0.34      0.42      2824\n",
      "         tumble dryer       0.71      0.42      0.53       702\n",
      "         washer dryer       0.12      0.35      0.18       294\n",
      "      washing machine       0.90      0.51      0.65      3020\n",
      "\n",
      "             accuracy                           0.61     20213\n",
      "            macro avg       0.46      0.59      0.46     20213\n",
      "         weighted avg       0.73      0.61      0.65     20213\n",
      "\n"
     ]
    },
    {
     "data": {
      "image/png": "[encoded data removed]",
      "text/plain": [
       "<Figure size 720x720 with 2 Axes>"
      ]
     },
     "metadata": {
      "needs_background": "light"
     },
     "output_type": "display_data"
    }
   ],
   "source": [
    "# datasets =[\n",
    "#     \"ukdale_gen_GASF_13m_100S5X12A54480_R82_80-20\"\n",
    "# ]\n",
    "\n",
    "if environ['train_type'] == \"TL\": \n",
    "    models = environ['tl_datasets'].replace(\" \",\"\").split(\",\")\n",
    "    #model = [\"base\"]\n",
    "    \n",
    "    for model in models:\n",
    "    \n",
    "        file_name = dataset\n",
    "        \n",
    "        datasetTL = model\n",
    "        \n",
    "        seed = dataset.split(\"_R\")[1][0:2]\n",
    "        \n",
    "        print(\"using dataset data\",dataset.split(\"_\")[0],\"training on model\",model,\"seed\",environ['seed'])\n",
    "        txt_log.write(\"starting \"+dataset.split(\"_\")[0]+\" training on model \"+model+\" seed \"+environ['seed']+\"\\n\")\n",
    "\n",
    "\n",
    "        tf.keras.backend.clear_session()\n",
    "\n",
    "\n",
    "        #read the file\n",
    "        path = str(pathlib.Path().resolve())\n",
    "        path_data = f\"{path}\"\"/data/\"f\"{file_name}\"\"/\"f\"{file_name}\"\".hdf5\"\n",
    "        file = h5py.File(path_data,\"r+\")\n",
    "\n",
    "\n",
    "        print(\"reading data, printing stats: \")\n",
    "        x_test,y_test,d_class_weights,num_of_classes,appliances = get_data(file)\n",
    "        print(\"loading model\")\n",
    "        \n",
    "        model_seed = 42\n",
    "        model_used = create_tl_model(model,environ['learn_type'],model_seed,path,num_of_classes)\n",
    "                \n",
    "        train_gen = HDF5ImageGenerator(\n",
    "            src= path_data,\n",
    "            X_key=\"data/train/gaf\",\n",
    "            y_key=\"labels/train/gaf\",\n",
    "            classes_key=\"appliances/classes\",\n",
    "            labels_encoding=\"hot\",\n",
    "            shuffle=True,\n",
    "            batch_size=int(environ['batch_size']),\n",
    "            num_classes=num_of_classes,\n",
    "            mode=\"train\",\n",
    "            )\n",
    "\n",
    "        model_used.fit(\n",
    "            train_gen,\n",
    "            verbose=2,\n",
    "            epochs=int(environ['epochs']),\n",
    "            class_weight=d_class_weights,\n",
    "            callbacks = [save_op_callback]\n",
    "            #workers = 6,\n",
    "        )\n",
    "        \n",
    "        txt_log.write(\"finished \"+dataset.split(\"_\")[0]+\" training on model \"+model+\" seed \"+environ['seed']+\"\\n\")\n",
    "\n",
    "\n",
    "        evaluate_model(model_used,x_test,y_test,appliances)\n",
    "        \n",
    "\n",
    "\n",
    "\n",
    "        #del model_used\n",
    "\n"
   ]
  },
  {
   "cell_type": "code",
   "execution_count": 16,
   "metadata": {
    "execution": {
     "iopub.execute_input": "2022-02-08T17:57:27.275496Z",
     "iopub.status.busy": "2022-02-08T17:57:27.275098Z",
     "iopub.status.idle": "2022-02-08T17:57:27.277100Z",
     "shell.execute_reply": "2022-02-08T17:57:27.277530Z"
    }
   },
   "outputs": [],
   "source": [
    "txt_log.close()"
   ]
  },
  {
   "cell_type": "code",
   "execution_count": null,
   "metadata": {},
   "outputs": [],
   "source": []
  }
 ],
 "metadata": {
  "colab": {
   "authorship_tag": "ABX9TyMej4PvP65qsLng7TnQKWA4",
   "name": "LSTM-gen",
   "provenance": []
  },
  "kernelspec": {
   "display_name": "Python 3 (ipykernel)",
   "language": "python",
   "name": "python3"
  },
  "language_info": {
   "codemirror_mode": {
    "name": "ipython",
    "version": 3
   },
   "file_extension": ".py",
   "mimetype": "text/x-python",
   "name": "python",
   "nbconvert_exporter": "python",
   "pygments_lexer": "ipython3",
   "version": "3.8.10"
  }
 },
 "nbformat": 4,
 "nbformat_minor": 4
}
