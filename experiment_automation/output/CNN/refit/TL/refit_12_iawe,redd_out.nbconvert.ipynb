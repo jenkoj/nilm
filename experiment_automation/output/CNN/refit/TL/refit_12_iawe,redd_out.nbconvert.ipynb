{
 "cells": [
  {
   "cell_type": "code",
   "execution_count": 1,
   "metadata": {
    "execution": {
     "iopub.execute_input": "2022-02-15T04:18:47.292033Z",
     "iopub.status.busy": "2022-02-15T04:18:47.285780Z",
     "iopub.status.idle": "2022-02-15T04:18:50.267332Z",
     "shell.execute_reply": "2022-02-15T04:18:50.268421Z"
    },
    "id": "WqUfHWgtJxtu",
    "scrolled": true,
    "tags": []
   },
   "outputs": [
    {
     "name": "stderr",
     "output_type": "stream",
     "text": [
      "2022-02-15 04:18:48.756321: I tensorflow/stream_executor/platform/default/dso_loader.cc:54] Successfully opened dynamic library libcudart.so.11.0\n"
     ]
    },
    {
     "name": "stdout",
     "output_type": "stream",
     "text": [
      "2.5.0\n",
      "Num GPUs Available:  1\n"
     ]
    },
    {
     "name": "stderr",
     "output_type": "stream",
     "text": [
      "2022-02-15 04:18:50.161987: I tensorflow/stream_executor/platform/default/dso_loader.cc:54] Successfully opened dynamic library libcuda.so.1\n",
      "2022-02-15 04:18:50.204142: I tensorflow/core/common_runtime/gpu/gpu_device.cc:1734] Found device 0 with properties: \n",
      "pciBusID: 0000:21:00.0 name: NVIDIA GeForce RTX 2080 Ti computeCapability: 7.5\n",
      "coreClock: 1.545GHz coreCount: 68 deviceMemorySize: 10.76GiB deviceMemoryBandwidth: 573.69GiB/s\n",
      "2022-02-15 04:18:50.204191: I tensorflow/stream_executor/platform/default/dso_loader.cc:54] Successfully opened dynamic library libcudart.so.11.0\n",
      "2022-02-15 04:18:50.224838: I tensorflow/stream_executor/platform/default/dso_loader.cc:54] Successfully opened dynamic library libcublas.so.11\n",
      "2022-02-15 04:18:50.224892: I tensorflow/stream_executor/platform/default/dso_loader.cc:54] Successfully opened dynamic library libcublasLt.so.11\n",
      "2022-02-15 04:18:50.231630: I tensorflow/stream_executor/platform/default/dso_loader.cc:54] Successfully opened dynamic library libcufft.so.10\n",
      "2022-02-15 04:18:50.233702: I tensorflow/stream_executor/platform/default/dso_loader.cc:54] Successfully opened dynamic library libcurand.so.10\n",
      "2022-02-15 04:18:50.251595: I tensorflow/stream_executor/platform/default/dso_loader.cc:54] Successfully opened dynamic library libcutensor.so.1\n",
      "2022-02-15 04:18:50.254235: I tensorflow/stream_executor/platform/default/dso_loader.cc:54] Successfully opened dynamic library libcusolver.so.11\n",
      "2022-02-15 04:18:50.258493: I tensorflow/stream_executor/platform/default/dso_loader.cc:54] Successfully opened dynamic library libcusparse.so.11\n",
      "2022-02-15 04:18:50.259127: I tensorflow/stream_executor/platform/default/dso_loader.cc:54] Successfully opened dynamic library libcudnn.so.8\n",
      "2022-02-15 04:18:50.260162: I tensorflow/core/common_runtime/gpu/gpu_device.cc:1872] Adding visible gpu devices: 0\n"
     ]
    }
   ],
   "source": [
    "import h5py\n",
    "import numpy as np\n",
    "\n",
    "from sklearn.model_selection import train_test_split\n",
    "from sklearn.metrics import classification_report, confusion_matrix\n",
    "import matplotlib.pyplot as plt\n",
    "import itertools \n",
    "import pyts\n",
    "from pyts.approximation import PiecewiseAggregateApproximation\n",
    "\n",
    "from sklearn.utils import class_weight\n",
    "\n",
    "import pathlib\n",
    "import tensorflow as tf\n",
    "from tensorflow import keras\n",
    "from tensorflow.keras import layers, optimizers\n",
    "from tensorflow.keras.layers import Convolution2D,Conv2D, Dense,Dropout, Flatten, Activation, MaxPooling2D, Input, Conv1D, GlobalAveragePooling1D, TimeDistributed, GRU, LSTM\n",
    "\n",
    "print(tf.__version__)\n",
    "print(\"Num GPUs Available: \", len(tf.config.list_physical_devices('GPU')))\n",
    "gpus = tf.config.experimental.list_physical_devices('GPU')\n",
    "\n",
    "try:\n",
    "    for gpu in gpus:\n",
    "        tf.config.experimental.set_memory_growth(gpu, True)\n",
    "except RuntimeError as e:\n",
    "    print(e)"
   ]
  },
  {
   "cell_type": "code",
   "execution_count": 2,
   "metadata": {
    "execution": {
     "iopub.execute_input": "2022-02-15T04:18:50.274941Z",
     "iopub.status.busy": "2022-02-15T04:18:50.273592Z",
     "iopub.status.idle": "2022-02-15T04:18:50.278649Z",
     "shell.execute_reply": "2022-02-15T04:18:50.277670Z"
    }
   },
   "outputs": [
    {
     "name": "stdout",
     "output_type": "stream",
     "text": [
      "refit_gen_GASF_60m_300S0X_15A157030N_R12_80-20-V1\n"
     ]
    }
   ],
   "source": [
    "from os import environ\n",
    "dataset = environ['dataset']\n",
    "print(dataset)"
   ]
  },
  {
   "cell_type": "code",
   "execution_count": 3,
   "metadata": {
    "execution": {
     "iopub.execute_input": "2022-02-15T04:18:50.285082Z",
     "iopub.status.busy": "2022-02-15T04:18:50.283955Z",
     "iopub.status.idle": "2022-02-15T04:18:50.288595Z",
     "shell.execute_reply": "2022-02-15T04:18:50.287662Z"
    }
   },
   "outputs": [],
   "source": [
    "#my defs \n",
    "from modules.models import  LSTM_3D_V56, CNN_V56,LSTM_BI_V56\n",
    "from modules.tools import my_print, plot_confusion_matrix_norm, get_data,get_data_split, evaluate_model, create_tl_model\n",
    "from modules.HDF5ImageGenerator import HDF5ImageGenerator"
   ]
  },
  {
   "cell_type": "code",
   "execution_count": 4,
   "metadata": {
    "execution": {
     "iopub.execute_input": "2022-02-15T04:18:50.296365Z",
     "iopub.status.busy": "2022-02-15T04:18:50.295079Z",
     "iopub.status.idle": "2022-02-15T04:18:50.297760Z",
     "shell.execute_reply": "2022-02-15T04:18:50.298801Z"
    },
    "id": "RT1vwq7-KOtB"
   },
   "outputs": [],
   "source": [
    "#LOAD DATASET\n",
    "#file_name = \"ukdale_gen_GASF_13m_100S5X12A54480\"\n",
    "#file_name = \"refit_gen_GASF_13m_100S5X_15A166006\"\n",
    "file_name = \"refit_gen_GASF_13m_100S5X_15A166006_R42-80-20\"\n",
    "#file_name = \"refit_gen_GASF_13m_100S5X_15A166006_R42_80-20\"\n",
    "file_name = \"refit_gen_GASF_60m_300S0X_15A157030N_R12_80-20-V1\"\n",
    "file_name = environ[\"dataset\"]\n",
    "#read the file\n",
    "path = str(pathlib.Path().resolve())\n",
    "\n",
    "path_data = f\"{path}\"\"/data/\"f\"{file_name}\"\"/\"f\"{file_name}\"\".hdf5\"\n",
    "\n",
    "file = h5py.File(path_data,\"r+\")"
   ]
  },
  {
   "cell_type": "code",
   "execution_count": 5,
   "metadata": {
    "execution": {
     "iopub.execute_input": "2022-02-15T04:18:50.305294Z",
     "iopub.status.busy": "2022-02-15T04:18:50.303999Z",
     "iopub.status.idle": "2022-02-15T04:18:59.186120Z",
     "shell.execute_reply": "2022-02-15T04:18:59.187181Z"
    },
    "scrolled": true
   },
   "outputs": [
    {
     "name": "stdout",
     "output_type": "stream",
     "text": [
      "['HEKA', 'fridge/freezer', 'audio system', 'breadmaker', 'broadband router', 'computer', 'dehumidifier', 'dish washer', 'electric space heater', 'food processor', 'pond pump', 'television', 'tumble dryer', 'washer dryer', 'washing machine']\n",
      "{0: 0.2602198297365584, 1: 0.40103670634920635, 2: 2.4953395061728396, 3: 8.651578384162654, 4: 8.369461697722567, 5: 0.8347426565484487, 6: 8.421770833333333, 7: 0.863218022635063, 8: 4.254091028676664, 9: 8.10516290726817, 10: 8.421770833333333, 11: 0.4771541548630784, 12: 1.9194919278252611, 13: 4.587177304964539, 14: 0.4462973696558196}\n",
      " \n",
      "Tests \n",
      "HEKA test: 5178 train: 20713\n",
      "fridge/freezer test: 3360 train: 13440\n",
      "audio system test: 540 train: 2160\n",
      "breadmaker test: 156 train: 623\n",
      "broadband router test: 161 train: 644\n",
      "computer test: 1614 train: 6457\n",
      "dehumidifier test: 160 train: 640\n",
      "dish washer test: 1561 train: 6244\n",
      "electric space heater test: 317 train: 1267\n",
      "food processor test: 166 train: 665\n",
      "pond pump test: 160 train: 640\n",
      "television test: 2824 train: 11296\n",
      "tumble dryer test: 702 train: 2808\n",
      "washer dryer test: 294 train: 1175\n",
      "washing machine test: 3020 train: 12077\n"
     ]
    }
   ],
   "source": [
    "x_test,y_test,d_class_weights,num_of_classes,appliances = get_data(file)"
   ]
  },
  {
   "cell_type": "code",
   "execution_count": 6,
   "metadata": {
    "execution": {
     "iopub.execute_input": "2022-02-15T04:18:59.194868Z",
     "iopub.status.busy": "2022-02-15T04:18:59.193507Z",
     "iopub.status.idle": "2022-02-15T04:18:59.196252Z",
     "shell.execute_reply": "2022-02-15T04:18:59.197314Z"
    }
   },
   "outputs": [],
   "source": [
    "def select_model(learn_type):\n",
    "    \n",
    "    if learn_type == \"CNN\":\n",
    "        model = CNN_V56(file[\"data/train/gaf\"][0:10],num_of_classes,lr= 0.00002)\n",
    "\n",
    "    if learn_type == \"LSTM\":\n",
    "        model = LSTM_3D_V56(file[\"data/train/gaf\"][0:10],num_of_classes,lr= 0.00002)\n",
    "\n",
    "    if learn_type == \"BI_LSTM\":\n",
    "        model = LSTM_BI_V56(file[\"data/train/gaf\"][0:10],num_of_classes,lr= 0.00002)\n",
    "\n",
    "    return model\n",
    "              "
   ]
  },
  {
   "cell_type": "code",
   "execution_count": 7,
   "metadata": {
    "execution": {
     "iopub.execute_input": "2022-02-15T04:18:59.205401Z",
     "iopub.status.busy": "2022-02-15T04:18:59.203923Z",
     "iopub.status.idle": "2022-02-15T04:18:59.207772Z",
     "shell.execute_reply": "2022-02-15T04:18:59.206701Z"
    }
   },
   "outputs": [],
   "source": [
    "path_save = path+'/experiment_automation/output/'+environ['learn_type']+'/'+dataset.split(\"_\")[0]+\"/\"+environ['train_type']+\"/\"+dataset.split(\"_\")[0]+\"_\"+environ['seed']+\"_\"+environ['tl_datasets']\n",
    "path_save_nb = path_save+\"_out.ipynb\"\n",
    "path_save_log = path_save+\"_out_log2.txt\""
   ]
  },
  {
   "cell_type": "code",
   "execution_count": 8,
   "metadata": {
    "execution": {
     "iopub.execute_input": "2022-02-15T04:18:59.215721Z",
     "iopub.status.busy": "2022-02-15T04:18:59.214431Z",
     "iopub.status.idle": "2022-02-15T04:18:59.349113Z",
     "shell.execute_reply": "2022-02-15T04:18:59.347946Z"
    }
   },
   "outputs": [],
   "source": [
    "from keras.callbacks import LambdaCallback\n",
    "#path_log= path+'/experiment_automation/output/'+environ['learn_type']+'/'+dataset.split(\"_\")[0]+\"/\"+environ['train_type']+\"/\"+dataset.split(\"_\")[0]+\"_\"+environ['seed']+\"_\"+environ['tl_datasets']+\"_log.txt\"\n",
    "txt_log = open(path_save+\"_log.txt\", mode='wt', buffering=1)\n",
    "txt_log.write(\"file created! \\n\")\n",
    "\n",
    "save_op_callback = LambdaCallback(\n",
    "  on_epoch_end = lambda epoch, logs: txt_log.write(\n",
    "    str({'epoch': epoch, 'loss': logs['loss'],'acc': logs['accuracy']}) + '\\n'),\n",
    "                                                           \n",
    ")"
   ]
  },
  {
   "cell_type": "code",
   "execution_count": 9,
   "metadata": {
    "execution": {
     "iopub.execute_input": "2022-02-15T04:18:59.354867Z",
     "iopub.status.busy": "2022-02-15T04:18:59.353540Z",
     "iopub.status.idle": "2022-02-15T04:18:59.359301Z",
     "shell.execute_reply": "2022-02-15T04:18:59.358164Z"
    }
   },
   "outputs": [
    {
     "name": "stdout",
     "output_type": "stream",
     "text": [
      "/workspace/notebooks/experiment_automation/output/CNN/refit/TL/refit_12_iawe,redd_out.ipynb\n"
     ]
    }
   ],
   "source": [
    "print(path_save_nb)"
   ]
  },
  {
   "cell_type": "code",
   "execution_count": 10,
   "metadata": {
    "execution": {
     "iopub.execute_input": "2022-02-15T04:18:59.364889Z",
     "iopub.status.busy": "2022-02-15T04:18:59.363450Z",
     "iopub.status.idle": "2022-02-15T04:18:59.366836Z",
     "shell.execute_reply": "2022-02-15T04:18:59.365998Z"
    }
   },
   "outputs": [],
   "source": [
    "# rm $path_save_log"
   ]
  },
  {
   "cell_type": "code",
   "execution_count": 11,
   "metadata": {
    "execution": {
     "iopub.execute_input": "2022-02-15T04:18:59.372024Z",
     "iopub.status.busy": "2022-02-15T04:18:59.370996Z",
     "iopub.status.idle": "2022-02-15T04:18:59.374083Z",
     "shell.execute_reply": "2022-02-15T04:18:59.373253Z"
    }
   },
   "outputs": [],
   "source": [
    "# %%capture cap \n",
    "\n",
    "# with open(path_save_log,\"wt\") as f:\n",
    "#     f.write(cap.stdout)\n",
    "    \n",
    "# print(\"out capture..\")"
   ]
  },
  {
   "cell_type": "code",
   "execution_count": 12,
   "metadata": {
    "execution": {
     "iopub.execute_input": "2022-02-15T04:18:59.390154Z",
     "iopub.status.busy": "2022-02-15T04:18:59.388874Z",
     "iopub.status.idle": "2022-02-15T04:18:59.391434Z",
     "shell.execute_reply": "2022-02-15T04:18:59.392407Z"
    },
    "id": "vqA9NwOqKrb5",
    "jupyter": {
     "outputs_hidden": true
    },
    "tags": []
   },
   "outputs": [],
   "source": [
    "# %%capture cap --no-stderr\n",
    "\n",
    "\n",
    "if environ['train_type'] == \"BB\":\n",
    "\n",
    "    #define generator\n",
    "    train_gen = HDF5ImageGenerator(\n",
    "        src= path_data,\n",
    "        X_key=\"data/train/gaf\",\n",
    "        y_key=\"labels/train/gaf\",\n",
    "        classes_key=\"appliances/classes\",\n",
    "        labels_encoding=\"hot\",\n",
    "        shuffle=True,\n",
    "        batch_size=int(environ['batch_size']),\n",
    "        num_classes=num_of_classes,\n",
    "        mode=\"train\",\n",
    "        )\n",
    "    \n",
    "    model = select_model(environ['learn_type'])\n",
    "    \n",
    "    txt_log.write(\"fitting BB model: \\n\")\n",
    "    \n",
    "    model.fit(\n",
    "        train_gen,\n",
    "        verbose=2,\n",
    "        epochs=int(environ['epochs']),\n",
    "        class_weight=d_class_weights,\n",
    "        callbacks = [save_op_callback],\n",
    "    )\n",
    "    \n",
    "    txt_log.write(\"finished fitting BB model: \\n\")\n",
    "\n",
    "    evaluate_model(model,x_test,y_test,appliances)\n",
    "    \n",
    "    if environ['save_model']==\"True\":\n",
    "\n",
    "        path_model_save = path+\"/models/\"+environ['learn_type']+\"/\"+dataset.split(\"_\")[0]+\"_\"+dataset.split(\"_R\")[1][0:2]\n",
    "        model.save(path_model_save)\n",
    "        txt_log.write(\"model saved to:\"+\"/models/\"+environ['learn_type']+\"/\"+dataset.split(\"_\")[0]+\"_\"+dataset.split(\"_R\")[1][0:2]+\" \\n\")\n",
    "        \n",
    "        \n",
    "# with open(path_save+\"_out_log.txt\" as f:\n",
    "#     f.write(cap.stdout)\n"
   ]
  },
  {
   "cell_type": "code",
   "execution_count": 13,
   "metadata": {
    "collapsed": true,
    "execution": {
     "iopub.execute_input": "2022-02-15T04:18:59.398061Z",
     "iopub.status.busy": "2022-02-15T04:18:59.396724Z",
     "iopub.status.idle": "2022-02-15T04:18:59.399443Z",
     "shell.execute_reply": "2022-02-15T04:18:59.400495Z"
    }
   },
   "outputs": [],
   "source": [
    "#model = keras.models.load_model(path_model1)\n",
    "# model_used = model"
   ]
  },
  {
   "cell_type": "code",
   "execution_count": 14,
   "metadata": {
    "collapsed": true,
    "execution": {
     "iopub.execute_input": "2022-02-15T04:18:59.406369Z",
     "iopub.status.busy": "2022-02-15T04:18:59.405233Z",
     "iopub.status.idle": "2022-02-15T04:18:59.407565Z",
     "shell.execute_reply": "2022-02-15T04:18:59.408496Z"
    },
    "jupyter": {
     "outputs_hidden": true
    },
    "tags": []
   },
   "outputs": [],
   "source": [
    "# evaluate_model(model,x_test,y_test,appliances)"
   ]
  },
  {
   "cell_type": "code",
   "execution_count": 15,
   "metadata": {
    "collapsed": true,
    "execution": {
     "iopub.execute_input": "2022-02-15T04:18:59.430773Z",
     "iopub.status.busy": "2022-02-15T04:18:59.412316Z",
     "iopub.status.idle": "2022-02-15T06:08:01.169613Z",
     "shell.execute_reply": "2022-02-15T06:08:01.170601Z"
    }
   },
   "outputs": [
    {
     "name": "stdout",
     "output_type": "stream",
     "text": [
      "using dataset data refit training on model iawe seed 12\n",
      "reading data, printing stats: \n",
      "['HEKA', 'fridge/freezer', 'audio system', 'breadmaker', 'broadband router', 'computer', 'dehumidifier', 'dish washer', 'electric space heater', 'food processor', 'pond pump', 'television', 'tumble dryer', 'washer dryer', 'washing machine']\n",
      "{0: 0.2602198297365584, 1: 0.40103670634920635, 2: 2.4953395061728396, 3: 8.651578384162654, 4: 8.369461697722567, 5: 0.8347426565484487, 6: 8.421770833333333, 7: 0.863218022635063, 8: 4.254091028676664, 9: 8.10516290726817, 10: 8.421770833333333, 11: 0.4771541548630784, 12: 1.9194919278252611, 13: 4.587177304964539, 14: 0.4462973696558196}\n",
      " \n",
      "Tests \n",
      "HEKA test: 5178 train: 20713\n",
      "fridge/freezer test: 3360 train: 13440\n",
      "audio system test: 540 train: 2160\n",
      "breadmaker test: 156 train: 623\n",
      "broadband router test: 161 train: 644\n",
      "computer test: 1614 train: 6457\n",
      "dehumidifier test: 160 train: 640\n",
      "dish washer test: 1561 train: 6244\n",
      "electric space heater test: 317 train: 1267\n",
      "food processor test: 166 train: 665\n",
      "pond pump test: 160 train: 640\n",
      "television test: 2824 train: 11296\n",
      "tumble dryer test: 702 train: 2808\n",
      "washer dryer test: 294 train: 1175\n",
      "washing machine test: 3020 train: 12077\n",
      "loading model\n",
      "compling TL model..\n"
     ]
    },
    {
     "name": "stderr",
     "output_type": "stream",
     "text": [
      "2022-02-15 04:19:07.424336: I tensorflow/core/common_runtime/gpu/gpu_device.cc:1734] Found device 0 with properties: \n",
      "pciBusID: 0000:21:00.0 name: NVIDIA GeForce RTX 2080 Ti computeCapability: 7.5\n",
      "coreClock: 1.545GHz coreCount: 68 deviceMemorySize: 10.76GiB deviceMemoryBandwidth: 573.69GiB/s\n",
      "2022-02-15 04:19:07.424993: I tensorflow/core/common_runtime/gpu/gpu_device.cc:1872] Adding visible gpu devices: 0\n",
      "2022-02-15 04:19:07.425417: I tensorflow/stream_executor/platform/default/dso_loader.cc:54] Successfully opened dynamic library libcudart.so.11.0\n",
      "2022-02-15 04:19:08.297783: I tensorflow/core/common_runtime/gpu/gpu_device.cc:1258] Device interconnect StreamExecutor with strength 1 edge matrix:\n",
      "2022-02-15 04:19:08.297932: I tensorflow/core/common_runtime/gpu/gpu_device.cc:1264]      0 \n",
      "2022-02-15 04:19:08.298058: I tensorflow/core/common_runtime/gpu/gpu_device.cc:1277] 0:   N \n",
      "2022-02-15 04:19:08.298673: I tensorflow/core/common_runtime/gpu/gpu_device.cc:1418] Created TensorFlow device (/job:localhost/replica:0/task:0/device:GPU:0 with 9649 MB memory) -> physical GPU (device: 0, name: NVIDIA GeForce RTX 2080 Ti, pci bus id: 0000:21:00.0, compute capability: 7.5)\n",
      "2022-02-15 04:19:08.299667: I tensorflow/core/common_runtime/process_util.cc:146] Creating new thread pool with default inter op setting: 20. Tune using inter_op_parallelism_threads for best performance.\n"
     ]
    },
    {
     "name": "stdout",
     "output_type": "stream",
     "text": [
      "Normal way\n",
      "[0 1 2 3 4 5 6 7 8 9]\n",
      "WARNING:tensorflow:From /usr/local/lib/python3.8/dist-packages/tensorflow/python/ops/array_ops.py:5043: calling gather (from tensorflow.python.ops.array_ops) with validate_indices is deprecated and will be removed in a future version.\n",
      "Instructions for updating:\n",
      "The `validate_indices` argument has no effect. Indices are always validated on CPU and never validated on GPU.\n"
     ]
    },
    {
     "name": "stderr",
     "output_type": "stream",
     "text": [
      "/usr/local/lib/python3.8/dist-packages/tensorflow/python/keras/optimizer_v2/optimizer_v2.py:374: UserWarning: The `lr` argument is deprecated, use `learning_rate` instead.\n",
      "  warnings.warn(\n",
      "2022-02-15 04:19:08.924005: I tensorflow/compiler/mlir/mlir_graph_optimization_pass.cc:176] None of the MLIR Optimization Passes are enabled (registered 2)\n",
      "2022-02-15 04:19:08.944554: I tensorflow/core/platform/profile_utils/cpu_utils.cc:114] CPU Frequency: 3299990000 Hz\n"
     ]
    },
    {
     "name": "stdout",
     "output_type": "stream",
     "text": [
      "Epoch 1/25\n"
     ]
    },
    {
     "name": "stderr",
     "output_type": "stream",
     "text": [
      "2022-02-15 04:19:09.449518: I tensorflow/stream_executor/platform/default/dso_loader.cc:54] Successfully opened dynamic library libcudnn.so.8\n",
      "2022-02-15 04:19:10.175736: I tensorflow/stream_executor/cuda/cuda_dnn.cc:380] Loaded cuDNN version 8202\n",
      "2022-02-15 04:19:11.011777: I tensorflow/stream_executor/platform/default/dso_loader.cc:54] Successfully opened dynamic library libcublas.so.11\n",
      "2022-02-15 04:19:11.805585: I tensorflow/stream_executor/platform/default/dso_loader.cc:54] Successfully opened dynamic library libcublasLt.so.11\n"
     ]
    },
    {
     "name": "stdout",
     "output_type": "stream",
     "text": [
      "2527/2527 - 128s - loss: 2.7538 - accuracy: 0.1454\n",
      "Epoch 2/25\n",
      "2527/2527 - 127s - loss: 2.7089 - accuracy: 0.0422\n",
      "Epoch 3/25\n",
      "2527/2527 - 127s - loss: 2.7088 - accuracy: 0.0287\n",
      "Epoch 4/25\n",
      "2527/2527 - 126s - loss: 2.7088 - accuracy: 0.0323\n",
      "Epoch 5/25\n",
      "2527/2527 - 125s - loss: 2.7089 - accuracy: 0.0389\n",
      "Epoch 6/25\n",
      "2527/2527 - 126s - loss: 2.7085 - accuracy: 0.0241\n",
      "Epoch 7/25\n",
      "2527/2527 - 125s - loss: 2.7090 - accuracy: 0.0199\n",
      "Epoch 8/25\n",
      "2527/2527 - 125s - loss: 2.7089 - accuracy: 0.0443\n",
      "Epoch 9/25\n",
      "2527/2527 - 125s - loss: 2.7089 - accuracy: 0.0275\n",
      "Epoch 10/25\n",
      "2527/2527 - 125s - loss: 2.7089 - accuracy: 0.0194\n",
      "Epoch 11/25\n",
      "2527/2527 - 124s - loss: 2.7090 - accuracy: 0.0573\n",
      "Epoch 12/25\n",
      "2527/2527 - 124s - loss: 2.7089 - accuracy: 0.0319\n",
      "Epoch 13/25\n",
      "2527/2527 - 125s - loss: 2.7089 - accuracy: 0.0514\n",
      "Epoch 14/25\n",
      "2527/2527 - 124s - loss: 2.7087 - accuracy: 0.0299\n",
      "Epoch 15/25\n",
      "2527/2527 - 125s - loss: 2.7090 - accuracy: 0.0314\n",
      "Epoch 16/25\n",
      "2527/2527 - 125s - loss: 2.7088 - accuracy: 0.0314\n",
      "Epoch 17/25\n",
      "2527/2527 - 124s - loss: 2.7089 - accuracy: 0.0304\n",
      "Epoch 18/25\n",
      "2527/2527 - 124s - loss: 2.7089 - accuracy: 0.0166\n",
      "Epoch 19/25\n",
      "2527/2527 - 125s - loss: 2.7089 - accuracy: 0.0438\n",
      "Epoch 20/25\n",
      "2527/2527 - 125s - loss: 2.7089 - accuracy: 0.0211\n",
      "Epoch 21/25\n",
      "2527/2527 - 124s - loss: 2.7090 - accuracy: 0.0463\n",
      "Epoch 22/25\n",
      "2527/2527 - 124s - loss: 2.7089 - accuracy: 0.0443\n",
      "Epoch 23/25\n",
      "2527/2527 - 125s - loss: 2.7089 - accuracy: 0.0528\n",
      "Epoch 24/25\n",
      "2527/2527 - 124s - loss: 2.7089 - accuracy: 0.0372\n",
      "Epoch 25/25\n",
      "2527/2527 - 123s - loss: 2.7089 - accuracy: 0.0493\n",
      "632/632 - 28s\n",
      "Normalized confusion matrix\n"
     ]
    },
    {
     "name": "stderr",
     "output_type": "stream",
     "text": [
      "/usr/local/lib/python3.8/dist-packages/sklearn/metrics/_classification.py:1308: UndefinedMetricWarning: Precision and F-score are ill-defined and being set to 0.0 in labels with no predicted samples. Use `zero_division` parameter to control this behavior.\n",
      "  _warn_prf(average, modifier, msg_start, len(result))\n",
      "/usr/local/lib/python3.8/dist-packages/sklearn/metrics/_classification.py:1308: UndefinedMetricWarning: Precision and F-score are ill-defined and being set to 0.0 in labels with no predicted samples. Use `zero_division` parameter to control this behavior.\n",
      "  _warn_prf(average, modifier, msg_start, len(result))\n",
      "/usr/local/lib/python3.8/dist-packages/sklearn/metrics/_classification.py:1308: UndefinedMetricWarning: Precision and F-score are ill-defined and being set to 0.0 in labels with no predicted samples. Use `zero_division` parameter to control this behavior.\n",
      "  _warn_prf(average, modifier, msg_start, len(result))\n"
     ]
    },
    {
     "name": "stdout",
     "output_type": "stream",
     "text": [
      "                       precision    recall  f1-score   support\n",
      "\n",
      "                 HEKA       0.00      0.00      0.00      5178\n",
      "       fridge/freezer       0.00      0.00      0.00      3360\n",
      "         audio system       0.00      0.00      0.00       540\n",
      "           breadmaker       0.00      0.00      0.00       156\n",
      "     broadband router       0.00      0.00      0.00       161\n",
      "             computer       0.00      0.00      0.00      1614\n",
      "         dehumidifier       0.00      0.00      0.00       160\n",
      "          dish washer       0.08      1.00      0.14      1561\n",
      "electric space heater       0.00      0.00      0.00       317\n",
      "       food processor       0.00      0.00      0.00       166\n",
      "            pond pump       0.00      0.00      0.00       160\n",
      "           television       0.14      0.00      0.01      2824\n",
      "         tumble dryer       0.00      0.00      0.00       702\n",
      "         washer dryer       0.00      0.00      0.00       294\n",
      "      washing machine       0.00      0.00      0.00      3020\n",
      "\n",
      "             accuracy                           0.08     20213\n",
      "            macro avg       0.01      0.07      0.01     20213\n",
      "         weighted avg       0.03      0.08      0.01     20213\n",
      "\n",
      "using dataset data refit training on model redd seed 12\n",
      "reading data, printing stats: \n",
      "['HEKA', 'fridge/freezer', 'audio system', 'breadmaker', 'broadband router', 'computer', 'dehumidifier', 'dish washer', 'electric space heater', 'food processor', 'pond pump', 'television', 'tumble dryer', 'washer dryer', 'washing machine']\n",
      "{0: 0.2602198297365584, 1: 0.40103670634920635, 2: 2.4953395061728396, 3: 8.651578384162654, 4: 8.369461697722567, 5: 0.8347426565484487, 6: 8.421770833333333, 7: 0.863218022635063, 8: 4.254091028676664, 9: 8.10516290726817, 10: 8.421770833333333, 11: 0.4771541548630784, 12: 1.9194919278252611, 13: 4.587177304964539, 14: 0.4462973696558196}\n",
      " \n",
      "Tests \n",
      "HEKA test: 5178 train: 20713\n",
      "fridge/freezer test: 3360 train: 13440\n",
      "audio system test: 540 train: 2160\n",
      "breadmaker test: 156 train: 623\n",
      "broadband router test: 161 train: 644\n",
      "computer test: 1614 train: 6457\n",
      "dehumidifier test: 160 train: 640\n",
      "dish washer test: 1561 train: 6244\n",
      "electric space heater test: 317 train: 1267\n",
      "food processor test: 166 train: 665\n",
      "pond pump test: 160 train: 640\n",
      "television test: 2824 train: 11296\n",
      "tumble dryer test: 702 train: 2808\n",
      "washer dryer test: 294 train: 1175\n",
      "washing machine test: 3020 train: 12077\n",
      "loading model\n",
      "compling TL model..\n"
     ]
    },
    {
     "name": "stderr",
     "output_type": "stream",
     "text": [
      "/usr/local/lib/python3.8/dist-packages/tensorflow/python/keras/optimizer_v2/optimizer_v2.py:374: UserWarning: The `lr` argument is deprecated, use `learning_rate` instead.\n",
      "  warnings.warn(\n"
     ]
    },
    {
     "name": "stdout",
     "output_type": "stream",
     "text": [
      "Normal way\n",
      "[0 1 2 3 4 5 6 7 8 9]\n",
      "Epoch 1/25\n",
      "2527/2527 - 129s - loss: 2.9773 - accuracy: 0.0485\n",
      "Epoch 2/25\n",
      "2527/2527 - 133s - loss: 2.7089 - accuracy: 0.0541\n",
      "Epoch 3/25\n",
      "2527/2527 - 132s - loss: 2.7088 - accuracy: 0.0253\n",
      "Epoch 4/25\n",
      "2527/2527 - 134s - loss: 2.7089 - accuracy: 0.0415\n",
      "Epoch 5/25\n",
      "2527/2527 - 132s - loss: 2.7087 - accuracy: 0.0411\n",
      "Epoch 6/25\n",
      "2527/2527 - 133s - loss: 2.7090 - accuracy: 0.0259\n",
      "Epoch 7/25\n",
      "2527/2527 - 131s - loss: 2.7089 - accuracy: 0.0447\n",
      "Epoch 8/25\n",
      "2527/2527 - 135s - loss: 2.7089 - accuracy: 0.0169\n",
      "Epoch 9/25\n",
      "2527/2527 - 132s - loss: 2.7088 - accuracy: 0.0559\n",
      "Epoch 10/25\n",
      "2527/2527 - 133s - loss: 2.7088 - accuracy: 0.0472\n",
      "Epoch 11/25\n",
      "2527/2527 - 133s - loss: 2.7088 - accuracy: 0.0471\n",
      "Epoch 12/25\n",
      "2527/2527 - 133s - loss: 2.7088 - accuracy: 0.0276\n",
      "Epoch 13/25\n",
      "2527/2527 - 134s - loss: 2.7089 - accuracy: 0.0331\n",
      "Epoch 14/25\n",
      "2527/2527 - 136s - loss: 2.7088 - accuracy: 0.0426\n",
      "Epoch 15/25\n",
      "2527/2527 - 132s - loss: 2.7088 - accuracy: 0.0349\n",
      "Epoch 16/25\n",
      "2527/2527 - 134s - loss: 2.7089 - accuracy: 0.0495\n",
      "Epoch 17/25\n",
      "2527/2527 - 133s - loss: 2.7087 - accuracy: 0.0301\n",
      "Epoch 18/25\n",
      "2527/2527 - 133s - loss: 2.7088 - accuracy: 0.0282\n",
      "Epoch 19/25\n",
      "2527/2527 - 133s - loss: 2.7090 - accuracy: 0.0352\n",
      "Epoch 20/25\n",
      "2527/2527 - 133s - loss: 2.7089 - accuracy: 0.0623\n",
      "Epoch 21/25\n",
      "2527/2527 - 132s - loss: 2.7088 - accuracy: 0.0210\n",
      "Epoch 22/25\n",
      "2527/2527 - 134s - loss: 2.7089 - accuracy: 0.0192\n",
      "Epoch 23/25\n",
      "2527/2527 - 131s - loss: 2.7090 - accuracy: 0.0478\n",
      "Epoch 24/25\n",
      "2527/2527 - 132s - loss: 2.7089 - accuracy: 0.0250\n",
      "Epoch 25/25\n",
      "2527/2527 - 132s - loss: 2.7089 - accuracy: 0.0469\n",
      "632/632 - 28s\n",
      "Normalized confusion matrix\n",
      "                       precision    recall  f1-score   support\n",
      "\n",
      "                 HEKA       0.00      0.00      0.00      5178\n",
      "       fridge/freezer       0.00      0.00      0.00      3360\n",
      "         audio system       0.00      0.00      0.00       540\n",
      "           breadmaker       0.00      0.00      0.00       156\n",
      "     broadband router       0.00      0.00      0.00       161\n",
      "             computer       0.00      0.00      0.00      1614\n",
      "         dehumidifier       0.00      0.00      0.00       160\n",
      "          dish washer       0.00      0.00      0.00      1561\n",
      "electric space heater       0.00      0.00      0.00       317\n",
      "       food processor       0.01      1.00      0.02       166\n",
      "            pond pump       0.00      0.00      0.00       160\n",
      "           television       0.00      0.00      0.00      2824\n",
      "         tumble dryer       0.00      0.00      0.00       702\n",
      "         washer dryer       0.00      0.00      0.00       294\n",
      "      washing machine       0.00      0.00      0.00      3020\n",
      "\n",
      "             accuracy                           0.01     20213\n",
      "            macro avg       0.00      0.07      0.00     20213\n",
      "         weighted avg       0.00      0.01      0.00     20213\n",
      "\n"
     ]
    },
    {
     "name": "stderr",
     "output_type": "stream",
     "text": [
      "/usr/local/lib/python3.8/dist-packages/sklearn/metrics/_classification.py:1308: UndefinedMetricWarning: Precision and F-score are ill-defined and being set to 0.0 in labels with no predicted samples. Use `zero_division` parameter to control this behavior.\n",
      "  _warn_prf(average, modifier, msg_start, len(result))\n",
      "/usr/local/lib/python3.8/dist-packages/sklearn/metrics/_classification.py:1308: UndefinedMetricWarning: Precision and F-score are ill-defined and being set to 0.0 in labels with no predicted samples. Use `zero_division` parameter to control this behavior.\n",
      "  _warn_prf(average, modifier, msg_start, len(result))\n",
      "/usr/local/lib/python3.8/dist-packages/sklearn/metrics/_classification.py:1308: UndefinedMetricWarning: Precision and F-score are ill-defined and being set to 0.0 in labels with no predicted samples. Use `zero_division` parameter to control this behavior.\n",
      "  _warn_prf(average, modifier, msg_start, len(result))\n"
     ]
    },
    {
     "data": {
      "image/png": "[encoded data removed]",
      "text/plain": [
       "<Figure size 720x720 with 2 Axes>"
      ]
     },
     "metadata": {
      "needs_background": "light"
     },
     "output_type": "display_data"
    },
    {
     "data": {
      "image/png": "[encoded data removed]",
      "text/plain": [
       "<Figure size 720x720 with 2 Axes>"
      ]
     },
     "metadata": {
      "needs_background": "light"
     },
     "output_type": "display_data"
    }
   ],
   "source": [
    "# datasets =[\n",
    "#     \"ukdale_gen_GASF_13m_100S5X12A54480_R82_80-20\"\n",
    "# ]\n",
    "\n",
    "if environ['train_type'] == \"TL\": \n",
    "    models = environ['tl_datasets'].replace(\" \",\"\").split(\",\")\n",
    "    #model = [\"base\"]\n",
    "    \n",
    "    for model in models:\n",
    "    \n",
    "        file_name = dataset\n",
    "        \n",
    "        datasetTL = model\n",
    "        \n",
    "        seed = dataset.split(\"_R\")[1][0:2]\n",
    "        \n",
    "        print(\"using dataset data\",dataset.split(\"_\")[0],\"training on model\",model,\"seed\",environ['seed'])\n",
    "        txt_log.write(\"starting \"+dataset.split(\"_\")[0]+\" training on model \"+model+\" seed \"+environ['seed']+\"\\n\")\n",
    "\n",
    "\n",
    "        tf.keras.backend.clear_session()\n",
    "\n",
    "\n",
    "        #read the file\n",
    "        path = str(pathlib.Path().resolve())\n",
    "        path_data = f\"{path}\"\"/data/\"f\"{file_name}\"\"/\"f\"{file_name}\"\".hdf5\"\n",
    "        file = h5py.File(path_data,\"r+\")\n",
    "\n",
    "\n",
    "        print(\"reading data, printing stats: \")\n",
    "        x_test,y_test,d_class_weights,num_of_classes,appliances = get_data(file)\n",
    "        print(\"loading model\")\n",
    "        \n",
    "        model_seed = 42\n",
    "        model_used = create_tl_model(model,environ['learn_type'],model_seed,path,num_of_classes)\n",
    "                \n",
    "        train_gen = HDF5ImageGenerator(\n",
    "            src= path_data,\n",
    "            X_key=\"data/train/gaf\",\n",
    "            y_key=\"labels/train/gaf\",\n",
    "            classes_key=\"appliances/classes\",\n",
    "            labels_encoding=\"hot\",\n",
    "            shuffle=True,\n",
    "            batch_size=int(environ['batch_size']),\n",
    "            num_classes=num_of_classes,\n",
    "            mode=\"train\",\n",
    "            )\n",
    "\n",
    "        model_used.fit(\n",
    "            train_gen,\n",
    "            verbose=2,\n",
    "            epochs=int(environ['epochs']),\n",
    "            class_weight=d_class_weights,\n",
    "            callbacks = [save_op_callback]\n",
    "            #workers = 6,\n",
    "        )\n",
    "        \n",
    "        txt_log.write(\"finished \"+dataset.split(\"_\")[0]+\" training on model \"+model+\" seed \"+environ['seed']+\"\\n\")\n",
    "\n",
    "\n",
    "        evaluate_model(model_used,x_test,y_test,appliances)\n",
    "        \n",
    "\n",
    "\n",
    "\n",
    "        #del model_used\n",
    "\n"
   ]
  },
  {
   "cell_type": "code",
   "execution_count": 16,
   "metadata": {
    "execution": {
     "iopub.execute_input": "2022-02-15T06:08:01.175493Z",
     "iopub.status.busy": "2022-02-15T06:08:01.175099Z",
     "iopub.status.idle": "2022-02-15T06:08:01.178723Z",
     "shell.execute_reply": "2022-02-15T06:08:01.177564Z"
    }
   },
   "outputs": [],
   "source": [
    "txt_log.close()"
   ]
  },
  {
   "cell_type": "code",
   "execution_count": null,
   "metadata": {},
   "outputs": [],
   "source": []
  }
 ],
 "metadata": {
  "colab": {
   "authorship_tag": "ABX9TyMej4PvP65qsLng7TnQKWA4",
   "name": "LSTM-gen",
   "provenance": []
  },
  "kernelspec": {
   "display_name": "Python 3 (ipykernel)",
   "language": "python",
   "name": "python3"
  },
  "language_info": {
   "codemirror_mode": {
    "name": "ipython",
    "version": 3
   },
   "file_extension": ".py",
   "mimetype": "text/x-python",
   "name": "python",
   "nbconvert_exporter": "python",
   "pygments_lexer": "ipython3",
   "version": "3.8.10"
  }
 },
 "nbformat": 4,
 "nbformat_minor": 4
}
