{
 "cells": [
  {
   "cell_type": "code",
   "execution_count": 1,
   "metadata": {
    "execution": {
     "iopub.execute_input": "2022-02-03T21:08:02.674870Z",
     "iopub.status.busy": "2022-02-03T21:08:02.673444Z",
     "iopub.status.idle": "2022-02-03T21:08:07.225055Z",
     "shell.execute_reply": "2022-02-03T21:08:07.223937Z"
    },
    "id": "WqUfHWgtJxtu",
    "scrolled": true,
    "tags": []
   },
   "outputs": [
    {
     "name": "stderr",
     "output_type": "stream",
     "text": [
      "2022-02-03 21:08:05.207468: I tensorflow/stream_executor/platform/default/dso_loader.cc:54] Successfully opened dynamic library libcudart.so.11.0\n"
     ]
    },
    {
     "name": "stdout",
     "output_type": "stream",
     "text": [
      "2.5.0\n",
      "Num GPUs Available:  1\n"
     ]
    },
    {
     "name": "stderr",
     "output_type": "stream",
     "text": [
      "2022-02-03 21:08:07.126716: I tensorflow/stream_executor/platform/default/dso_loader.cc:54] Successfully opened dynamic library libcuda.so.1\n",
      "2022-02-03 21:08:07.167709: I tensorflow/core/common_runtime/gpu/gpu_device.cc:1734] Found device 0 with properties: \n",
      "pciBusID: 0000:21:00.0 name: NVIDIA GeForce RTX 2080 Ti computeCapability: 7.5\n",
      "coreClock: 1.545GHz coreCount: 68 deviceMemorySize: 10.76GiB deviceMemoryBandwidth: 573.69GiB/s\n",
      "2022-02-03 21:08:07.167756: I tensorflow/stream_executor/platform/default/dso_loader.cc:54] Successfully opened dynamic library libcudart.so.11.0\n",
      "2022-02-03 21:08:07.182550: I tensorflow/stream_executor/platform/default/dso_loader.cc:54] Successfully opened dynamic library libcublas.so.11\n",
      "2022-02-03 21:08:07.182613: I tensorflow/stream_executor/platform/default/dso_loader.cc:54] Successfully opened dynamic library libcublasLt.so.11\n",
      "2022-02-03 21:08:07.189021: I tensorflow/stream_executor/platform/default/dso_loader.cc:54] Successfully opened dynamic library libcufft.so.10\n",
      "2022-02-03 21:08:07.191433: I tensorflow/stream_executor/platform/default/dso_loader.cc:54] Successfully opened dynamic library libcurand.so.10\n",
      "2022-02-03 21:08:07.209856: I tensorflow/stream_executor/platform/default/dso_loader.cc:54] Successfully opened dynamic library libcutensor.so.1\n",
      "2022-02-03 21:08:07.212399: I tensorflow/stream_executor/platform/default/dso_loader.cc:54] Successfully opened dynamic library libcusolver.so.11\n",
      "2022-02-03 21:08:07.217664: I tensorflow/stream_executor/platform/default/dso_loader.cc:54] Successfully opened dynamic library libcusparse.so.11\n",
      "2022-02-03 21:08:07.218161: I tensorflow/stream_executor/platform/default/dso_loader.cc:54] Successfully opened dynamic library libcudnn.so.8\n",
      "2022-02-03 21:08:07.218799: I tensorflow/core/common_runtime/gpu/gpu_device.cc:1872] Adding visible gpu devices: 0\n"
     ]
    }
   ],
   "source": [
    "import h5py\n",
    "import numpy as np\n",
    "\n",
    "from sklearn.model_selection import train_test_split\n",
    "from sklearn.metrics import classification_report, confusion_matrix\n",
    "import matplotlib.pyplot as plt\n",
    "import itertools \n",
    "import pyts\n",
    "from pyts.approximation import PiecewiseAggregateApproximation\n",
    "\n",
    "from sklearn.utils import class_weight\n",
    "\n",
    "import pathlib\n",
    "import tensorflow as tf\n",
    "from tensorflow import keras\n",
    "from tensorflow.keras import layers, optimizers\n",
    "from tensorflow.keras.layers import Convolution2D,Conv2D, Dense,Dropout, Flatten, Activation, MaxPooling2D, Input, Conv1D, GlobalAveragePooling1D, TimeDistributed, GRU, LSTM\n",
    "\n",
    "print(tf.__version__)\n",
    "print(\"Num GPUs Available: \", len(tf.config.list_physical_devices('GPU')))\n",
    "gpus = tf.config.experimental.list_physical_devices('GPU')\n",
    "\n",
    "try:\n",
    "    for gpu in gpus:\n",
    "        tf.config.experimental.set_memory_growth(gpu, True)\n",
    "except RuntimeError as e:\n",
    "    print(e)"
   ]
  },
  {
   "cell_type": "code",
   "execution_count": 2,
   "metadata": {
    "execution": {
     "iopub.execute_input": "2022-02-03T21:08:07.228753Z",
     "iopub.status.busy": "2022-02-03T21:08:07.228338Z",
     "iopub.status.idle": "2022-02-03T21:08:07.232204Z",
     "shell.execute_reply": "2022-02-03T21:08:07.232538Z"
    }
   },
   "outputs": [
    {
     "name": "stdout",
     "output_type": "stream",
     "text": [
      "refit_gen_GASF_60m_300S0X_15A157030N_R12_80-20-V1\n"
     ]
    }
   ],
   "source": [
    "from os import environ\n",
    "dataset = environ['dataset']\n",
    "print(dataset)"
   ]
  },
  {
   "cell_type": "code",
   "execution_count": 3,
   "metadata": {
    "execution": {
     "iopub.execute_input": "2022-02-03T21:08:07.239636Z",
     "iopub.status.busy": "2022-02-03T21:08:07.239003Z",
     "iopub.status.idle": "2022-02-03T21:08:07.242995Z",
     "shell.execute_reply": "2022-02-03T21:08:07.243493Z"
    }
   },
   "outputs": [],
   "source": [
    "#my defs \n",
    "from modules.models import  LSTM_3D_V56, CNN_V56,LSTM_BI_V56\n",
    "from modules.tools import my_print, plot_confusion_matrix_norm, get_data,get_data_split, evaluate_model, create_tl_model\n",
    "from modules.HDF5ImageGenerator import HDF5ImageGenerator"
   ]
  },
  {
   "cell_type": "code",
   "execution_count": 4,
   "metadata": {
    "execution": {
     "iopub.execute_input": "2022-02-03T21:08:07.251239Z",
     "iopub.status.busy": "2022-02-03T21:08:07.249031Z",
     "iopub.status.idle": "2022-02-03T21:08:07.253314Z",
     "shell.execute_reply": "2022-02-03T21:08:07.252700Z"
    },
    "id": "RT1vwq7-KOtB"
   },
   "outputs": [],
   "source": [
    "#LOAD DATASET\n",
    "#file_name = \"ukdale_gen_GASF_13m_100S5X12A54480\"\n",
    "#file_name = \"refit_gen_GASF_13m_100S5X_15A166006\"\n",
    "file_name = \"refit_gen_GASF_13m_100S5X_15A166006_R42-80-20\"\n",
    "#file_name = \"refit_gen_GASF_13m_100S5X_15A166006_R42_80-20\"\n",
    "file_name = \"refit_gen_GASF_60m_300S0X_15A157030N_R12_80-20-V1\"\n",
    "file_name = environ[\"dataset\"]\n",
    "#read the file\n",
    "path = str(pathlib.Path().resolve())\n",
    "\n",
    "path_data = f\"{path}\"\"/data/\"f\"{file_name}\"\"/\"f\"{file_name}\"\".hdf5\"\n",
    "\n",
    "file = h5py.File(path_data,\"r+\")"
   ]
  },
  {
   "cell_type": "code",
   "execution_count": 5,
   "metadata": {
    "execution": {
     "iopub.execute_input": "2022-02-03T21:08:07.258516Z",
     "iopub.status.busy": "2022-02-03T21:08:07.257558Z",
     "iopub.status.idle": "2022-02-03T21:08:14.471848Z",
     "shell.execute_reply": "2022-02-03T21:08:14.472930Z"
    },
    "scrolled": true
   },
   "outputs": [
    {
     "name": "stdout",
     "output_type": "stream",
     "text": [
      "['HEKA', 'fridge/freezer', 'audio system', 'breadmaker', 'broadband router', 'computer', 'dehumidifier', 'dish washer', 'electric space heater', 'food processor', 'pond pump', 'television', 'tumble dryer', 'washer dryer', 'washing machine']\n",
      "{0: 0.2602198297365584, 1: 0.40103670634920635, 2: 2.4953395061728396, 3: 8.651578384162654, 4: 8.369461697722567, 5: 0.8347426565484487, 6: 8.421770833333333, 7: 0.863218022635063, 8: 4.254091028676664, 9: 8.10516290726817, 10: 8.421770833333333, 11: 0.4771541548630784, 12: 1.9194919278252611, 13: 4.587177304964539, 14: 0.4462973696558196}\n",
      " \n",
      "Tests \n",
      "HEKA test: 5178 train: 20713\n",
      "fridge/freezer test: 3360 train: 13440\n",
      "audio system test: 540 train: 2160\n",
      "breadmaker test: 156 train: 623\n",
      "broadband router test: 161 train: 644\n",
      "computer test: 1614 train: 6457\n",
      "dehumidifier test: 160 train: 640\n",
      "dish washer test: 1561 train: 6244\n",
      "electric space heater test: 317 train: 1267\n",
      "food processor test: 166 train: 665\n",
      "pond pump test: 160 train: 640\n",
      "television test: 2824 train: 11296\n",
      "tumble dryer test: 702 train: 2808\n",
      "washer dryer test: 294 train: 1175\n",
      "washing machine test: 3020 train: 12077\n"
     ]
    }
   ],
   "source": [
    "x_test,y_test,d_class_weights,num_of_classes,appliances = get_data(file)"
   ]
  },
  {
   "cell_type": "code",
   "execution_count": 6,
   "metadata": {
    "execution": {
     "iopub.execute_input": "2022-02-03T21:08:14.480287Z",
     "iopub.status.busy": "2022-02-03T21:08:14.478978Z",
     "iopub.status.idle": "2022-02-03T21:08:14.481654Z",
     "shell.execute_reply": "2022-02-03T21:08:14.482720Z"
    }
   },
   "outputs": [],
   "source": [
    "def select_model(learn_type):\n",
    "    \n",
    "    if learn_type == \"CNN\":\n",
    "        model = CNN_V56(file[\"data/train/gaf\"][0:10],num_of_classes,lr= 0.00002)\n",
    "\n",
    "    if learn_type == \"LSTM\":\n",
    "        model = LSTM_3D_V56(file[\"data/train/gaf\"][0:10],num_of_classes,lr= 0.00002)\n",
    "\n",
    "    if learn_type == \"BI_LSTM\":\n",
    "        model = LSTM_BI_V56(file[\"data/train/gaf\"][0:10],num_of_classes,lr= 0.00002)\n",
    "\n",
    "    return model\n",
    "              "
   ]
  },
  {
   "cell_type": "code",
   "execution_count": 7,
   "metadata": {
    "execution": {
     "iopub.execute_input": "2022-02-03T21:08:14.490035Z",
     "iopub.status.busy": "2022-02-03T21:08:14.488747Z",
     "iopub.status.idle": "2022-02-03T21:08:14.491400Z",
     "shell.execute_reply": "2022-02-03T21:08:14.492616Z"
    }
   },
   "outputs": [],
   "source": [
    "path_save = path+'/experiment_automation/output/'+environ['learn_type']+'/'+dataset.split(\"_\")[0]+\"/\"+environ['train_type']+\"/\"+dataset.split(\"_\")[0]+\"_\"+environ['seed']+\"_\"+environ['tl_datasets']\n",
    "path_save_nb = path_save+\"_out.ipynb\"\n",
    "path_save_log = path_save+\"_out_log2.txt\""
   ]
  },
  {
   "cell_type": "code",
   "execution_count": 8,
   "metadata": {
    "execution": {
     "iopub.execute_input": "2022-02-03T21:08:14.500490Z",
     "iopub.status.busy": "2022-02-03T21:08:14.499256Z",
     "iopub.status.idle": "2022-02-03T21:08:14.633388Z",
     "shell.execute_reply": "2022-02-03T21:08:14.632301Z"
    }
   },
   "outputs": [],
   "source": [
    "from keras.callbacks import LambdaCallback\n",
    "#path_log= path+'/experiment_automation/output/'+environ['learn_type']+'/'+dataset.split(\"_\")[0]+\"/\"+environ['train_type']+\"/\"+dataset.split(\"_\")[0]+\"_\"+environ['seed']+\"_\"+environ['tl_datasets']+\"_log.txt\"\n",
    "txt_log = open(path_save+\"_log.txt\", mode='wt', buffering=1)\n",
    "txt_log.write(\"file created! \\n\")\n",
    "\n",
    "save_op_callback = LambdaCallback(\n",
    "  on_epoch_end = lambda epoch, logs: txt_log.write(\n",
    "    str({'epoch': epoch, 'loss': logs['loss'],'acc': logs['accuracy']}) + '\\n'),\n",
    "                                                           \n",
    ")"
   ]
  },
  {
   "cell_type": "code",
   "execution_count": 9,
   "metadata": {
    "execution": {
     "iopub.execute_input": "2022-02-03T21:08:14.638791Z",
     "iopub.status.busy": "2022-02-03T21:08:14.637627Z",
     "iopub.status.idle": "2022-02-03T21:08:14.642718Z",
     "shell.execute_reply": "2022-02-03T21:08:14.641805Z"
    }
   },
   "outputs": [
    {
     "name": "stdout",
     "output_type": "stream",
     "text": [
      "/workspace/notebooks/experiment_automation/output/CNN/refit/BB/refit_12__out.ipynb\n"
     ]
    }
   ],
   "source": [
    "print(path_save_nb)"
   ]
  },
  {
   "cell_type": "code",
   "execution_count": 10,
   "metadata": {
    "execution": {
     "iopub.execute_input": "2022-02-03T21:08:14.647554Z",
     "iopub.status.busy": "2022-02-03T21:08:14.646546Z",
     "iopub.status.idle": "2022-02-03T21:08:14.648655Z",
     "shell.execute_reply": "2022-02-03T21:08:14.649485Z"
    }
   },
   "outputs": [],
   "source": [
    "# rm $path_save_log"
   ]
  },
  {
   "cell_type": "code",
   "execution_count": 11,
   "metadata": {
    "execution": {
     "iopub.execute_input": "2022-02-03T21:08:14.654868Z",
     "iopub.status.busy": "2022-02-03T21:08:14.653570Z",
     "iopub.status.idle": "2022-02-03T21:08:14.656241Z",
     "shell.execute_reply": "2022-02-03T21:08:14.657280Z"
    }
   },
   "outputs": [],
   "source": [
    "# %%capture cap \n",
    "\n",
    "# with open(path_save_log,\"wt\") as f:\n",
    "#     f.write(cap.stdout)\n",
    "    \n",
    "# print(\"out capture..\")"
   ]
  },
  {
   "cell_type": "code",
   "execution_count": 12,
   "metadata": {
    "execution": {
     "iopub.execute_input": "2022-02-03T21:08:14.672976Z",
     "iopub.status.busy": "2022-02-03T21:08:14.671429Z",
     "iopub.status.idle": "2022-02-04T02:00:49.001469Z",
     "shell.execute_reply": "2022-02-04T02:00:49.002556Z"
    },
    "id": "vqA9NwOqKrb5",
    "jupyter": {
     "outputs_hidden": true
    },
    "tags": []
   },
   "outputs": [
    {
     "name": "stdout",
     "output_type": "stream",
     "text": [
      "Normal way\n",
      "[0 1 2 3 4 5 6 7 8 9]\n",
      "WARNING:tensorflow:From /usr/local/lib/python3.8/dist-packages/tensorflow/python/ops/array_ops.py:5043: calling gather (from tensorflow.python.ops.array_ops) with validate_indices is deprecated and will be removed in a future version.\n",
      "Instructions for updating:\n",
      "The `validate_indices` argument has no effect. Indices are always validated on CPU and never validated on GPU.\n"
     ]
    },
    {
     "name": "stderr",
     "output_type": "stream",
     "text": [
      "2022-02-03 21:08:14.691096: I tensorflow/core/common_runtime/gpu/gpu_device.cc:1734] Found device 0 with properties: \n",
      "pciBusID: 0000:21:00.0 name: NVIDIA GeForce RTX 2080 Ti computeCapability: 7.5\n",
      "coreClock: 1.545GHz coreCount: 68 deviceMemorySize: 10.76GiB deviceMemoryBandwidth: 573.69GiB/s\n",
      "2022-02-03 21:08:14.692140: I tensorflow/core/common_runtime/gpu/gpu_device.cc:1872] Adding visible gpu devices: 0\n",
      "2022-02-03 21:08:14.692470: I tensorflow/stream_executor/platform/default/dso_loader.cc:54] Successfully opened dynamic library libcudart.so.11.0\n",
      "2022-02-03 21:08:15.574708: I tensorflow/core/common_runtime/gpu/gpu_device.cc:1258] Device interconnect StreamExecutor with strength 1 edge matrix:\n",
      "2022-02-03 21:08:15.574743: I tensorflow/core/common_runtime/gpu/gpu_device.cc:1264]      0 \n",
      "2022-02-03 21:08:15.574753: I tensorflow/core/common_runtime/gpu/gpu_device.cc:1277] 0:   N \n",
      "2022-02-03 21:08:15.575313: I tensorflow/core/common_runtime/gpu/gpu_device.cc:1418] Created TensorFlow device (/job:localhost/replica:0/task:0/device:GPU:0 with 9649 MB memory) -> physical GPU (device: 0, name: NVIDIA GeForce RTX 2080 Ti, pci bus id: 0000:21:00.0, compute capability: 7.5)\n",
      "2022-02-03 21:08:15.576616: I tensorflow/core/common_runtime/process_util.cc:146] Creating new thread pool with default inter op setting: 20. Tune using inter_op_parallelism_threads for best performance.\n",
      "2022-02-03 21:08:15.702333: I tensorflow/compiler/mlir/mlir_graph_optimization_pass.cc:176] None of the MLIR Optimization Passes are enabled (registered 2)\n",
      "2022-02-03 21:08:15.720701: I tensorflow/core/platform/profile_utils/cpu_utils.cc:114] CPU Frequency: 3299990000 Hz\n"
     ]
    },
    {
     "name": "stdout",
     "output_type": "stream",
     "text": [
      "Epoch 1/50\n"
     ]
    },
    {
     "name": "stderr",
     "output_type": "stream",
     "text": [
      "2022-02-03 21:08:16.371401: I tensorflow/stream_executor/platform/default/dso_loader.cc:54] Successfully opened dynamic library libcudnn.so.8\n",
      "2022-02-03 21:08:17.117908: I tensorflow/stream_executor/cuda/cuda_dnn.cc:380] Loaded cuDNN version 8202\n",
      "2022-02-03 21:08:17.957366: I tensorflow/stream_executor/platform/default/dso_loader.cc:54] Successfully opened dynamic library libcublas.so.11\n",
      "2022-02-03 21:08:18.745791: I tensorflow/stream_executor/platform/default/dso_loader.cc:54] Successfully opened dynamic library libcublasLt.so.11\n"
     ]
    },
    {
     "name": "stdout",
     "output_type": "stream",
     "text": [
      "10107/10107 - 358s - loss: 2.3835 - accuracy: 0.2968\n",
      "Epoch 2/50\n",
      "10107/10107 - 351s - loss: 1.8878 - accuracy: 0.4760\n",
      "Epoch 3/50\n",
      "10107/10107 - 348s - loss: 1.5879 - accuracy: 0.5112\n",
      "Epoch 4/50\n",
      "10107/10107 - 348s - loss: 1.4399 - accuracy: 0.5377\n",
      "Epoch 5/50\n",
      "10107/10107 - 347s - loss: 1.3382 - accuracy: 0.5615\n",
      "Epoch 6/50\n",
      "10107/10107 - 349s - loss: 1.2745 - accuracy: 0.5716\n",
      "Epoch 7/50\n",
      "10107/10107 - 350s - loss: 1.2178 - accuracy: 0.5877\n",
      "Epoch 8/50\n",
      "10107/10107 - 351s - loss: 1.1735 - accuracy: 0.6011\n",
      "Epoch 9/50\n",
      "10107/10107 - 350s - loss: 1.1318 - accuracy: 0.6081\n",
      "Epoch 10/50\n",
      "10107/10107 - 349s - loss: 1.0916 - accuracy: 0.6166\n",
      "Epoch 11/50\n",
      "10107/10107 - 350s - loss: 1.0596 - accuracy: 0.6260\n",
      "Epoch 12/50\n",
      "10107/10107 - 351s - loss: 1.0321 - accuracy: 0.6289\n",
      "Epoch 13/50\n",
      "10107/10107 - 350s - loss: 1.0068 - accuracy: 0.6353\n",
      "Epoch 14/50\n",
      "10107/10107 - 350s - loss: 0.9787 - accuracy: 0.6425\n",
      "Epoch 15/50\n",
      "10107/10107 - 352s - loss: 0.9603 - accuracy: 0.6480\n",
      "Epoch 16/50\n",
      "10107/10107 - 353s - loss: 0.9364 - accuracy: 0.6505\n",
      "Epoch 17/50\n",
      "10107/10107 - 351s - loss: 0.9155 - accuracy: 0.6561\n",
      "Epoch 18/50\n",
      "10107/10107 - 350s - loss: 0.9030 - accuracy: 0.6607\n",
      "Epoch 19/50\n",
      "10107/10107 - 349s - loss: 0.8762 - accuracy: 0.6659\n",
      "Epoch 20/50\n",
      "10107/10107 - 350s - loss: 0.8603 - accuracy: 0.6701\n",
      "Epoch 21/50\n",
      "10107/10107 - 351s - loss: 0.8496 - accuracy: 0.6709\n",
      "Epoch 22/50\n",
      "10107/10107 - 351s - loss: 0.8293 - accuracy: 0.6784\n",
      "Epoch 23/50\n",
      "10107/10107 - 350s - loss: 0.8238 - accuracy: 0.6793\n",
      "Epoch 24/50\n",
      "10107/10107 - 350s - loss: 0.8079 - accuracy: 0.6821\n",
      "Epoch 25/50\n",
      "10107/10107 - 350s - loss: 0.7946 - accuracy: 0.6877\n",
      "Epoch 26/50\n",
      "10107/10107 - 351s - loss: 0.7824 - accuracy: 0.6874\n",
      "Epoch 27/50\n",
      "10107/10107 - 350s - loss: 0.7727 - accuracy: 0.6920\n",
      "Epoch 28/50\n",
      "10107/10107 - 350s - loss: 0.7584 - accuracy: 0.6941\n",
      "Epoch 29/50\n",
      "10107/10107 - 350s - loss: 0.7540 - accuracy: 0.6957\n",
      "Epoch 30/50\n",
      "10107/10107 - 352s - loss: 0.7466 - accuracy: 0.6976\n",
      "Epoch 31/50\n",
      "10107/10107 - 352s - loss: 0.7322 - accuracy: 0.7023\n",
      "Epoch 32/50\n",
      "10107/10107 - 349s - loss: 0.7240 - accuracy: 0.7043\n",
      "Epoch 33/50\n",
      "10107/10107 - 350s - loss: 0.7133 - accuracy: 0.7045\n",
      "Epoch 34/50\n",
      "10107/10107 - 349s - loss: 0.7076 - accuracy: 0.7100\n",
      "Epoch 35/50\n",
      "10107/10107 - 348s - loss: 0.6983 - accuracy: 0.7107\n",
      "Epoch 36/50\n",
      "10107/10107 - 349s - loss: 0.6918 - accuracy: 0.7140\n",
      "Epoch 37/50\n",
      "10107/10107 - 348s - loss: 0.6858 - accuracy: 0.7138\n",
      "Epoch 38/50\n",
      "10107/10107 - 348s - loss: 0.6784 - accuracy: 0.7153\n",
      "Epoch 39/50\n",
      "10107/10107 - 350s - loss: 0.6641 - accuracy: 0.7186\n",
      "Epoch 40/50\n",
      "10107/10107 - 349s - loss: 0.6647 - accuracy: 0.7196\n",
      "Epoch 41/50\n",
      "10107/10107 - 348s - loss: 0.6544 - accuracy: 0.7223\n",
      "Epoch 42/50\n",
      "10107/10107 - 348s - loss: 0.6470 - accuracy: 0.7242\n",
      "Epoch 43/50\n",
      "10107/10107 - 348s - loss: 0.6458 - accuracy: 0.7237\n",
      "Epoch 44/50\n",
      "10107/10107 - 350s - loss: 0.6324 - accuracy: 0.7278\n",
      "Epoch 45/50\n",
      "10107/10107 - 352s - loss: 0.6367 - accuracy: 0.7285\n",
      "Epoch 46/50\n",
      "10107/10107 - 352s - loss: 0.6186 - accuracy: 0.7331\n",
      "Epoch 47/50\n",
      "10107/10107 - 350s - loss: 0.6216 - accuracy: 0.7319\n",
      "Epoch 48/50\n",
      "10107/10107 - 349s - loss: 0.6122 - accuracy: 0.7347\n",
      "Epoch 49/50\n",
      "10107/10107 - 349s - loss: 0.6072 - accuracy: 0.7354\n",
      "Epoch 50/50\n",
      "10107/10107 - 349s - loss: 0.6067 - accuracy: 0.7368\n",
      "632/632 - 29s\n",
      "Normalized confusion matrix\n",
      "                       precision    recall  f1-score   support\n",
      "\n",
      "                 HEKA       0.92      0.69      0.79      5178\n",
      "       fridge/freezer       0.90      0.82      0.86      3360\n",
      "         audio system       0.20      0.63      0.30       540\n",
      "           breadmaker       0.31      0.74      0.44       156\n",
      "     broadband router       0.26      0.47      0.34       161\n",
      "             computer       0.46      0.45      0.45      1614\n",
      "         dehumidifier       0.34      0.84      0.48       160\n",
      "          dish washer       0.86      0.77      0.81      1561\n",
      "electric space heater       0.31      0.63      0.42       317\n",
      "       food processor       0.44      0.63      0.51       166\n",
      "            pond pump       0.56      0.88      0.68       160\n",
      "           television       0.68      0.53      0.60      2824\n",
      "         tumble dryer       0.60      0.67      0.63       702\n",
      "         washer dryer       0.12      0.44      0.19       294\n",
      "      washing machine       0.90      0.69      0.78      3020\n",
      "\n",
      "             accuracy                           0.67     20213\n",
      "            macro avg       0.52      0.66      0.55     20213\n",
      "         weighted avg       0.77      0.67      0.70     20213\n",
      "\n"
     ]
    },
    {
     "name": "stderr",
     "output_type": "stream",
     "text": [
      "2022-02-04 02:00:47.429182: W tensorflow/python/util/util.cc:348] Sets are not currently considered sequences, but this may change in the future, so consider avoiding using them.\n"
     ]
    },
    {
     "name": "stdout",
     "output_type": "stream",
     "text": [
      "INFO:tensorflow:Assets written to: /workspace/notebooks/models/CNN/refit_12/assets\n"
     ]
    },
    {
     "data": {
      "image/png": "[encoded data removed]",
      "text/plain": [
       "<Figure size 720x720 with 2 Axes>"
      ]
     },
     "metadata": {
      "needs_background": "light"
     },
     "output_type": "display_data"
    }
   ],
   "source": [
    "# %%capture cap --no-stderr\n",
    "\n",
    "\n",
    "if environ['train_type'] == \"BB\":\n",
    "\n",
    "    #define generator\n",
    "    train_gen = HDF5ImageGenerator(\n",
    "        src= path_data,\n",
    "        X_key=\"data/train/gaf\",\n",
    "        y_key=\"labels/train/gaf\",\n",
    "        classes_key=\"appliances/classes\",\n",
    "        labels_encoding=\"hot\",\n",
    "        shuffle=True,\n",
    "        batch_size=int(environ['batch_size']),\n",
    "        num_classes=num_of_classes,\n",
    "        mode=\"train\",\n",
    "        )\n",
    "    \n",
    "    model = select_model(environ['learn_type'])\n",
    "    \n",
    "    txt_log.write(\"fitting BB model: \\n\")\n",
    "    \n",
    "    model.fit(\n",
    "        train_gen,\n",
    "        verbose=2,\n",
    "        epochs=int(environ['epochs']),\n",
    "        class_weight=d_class_weights,\n",
    "        callbacks = [save_op_callback],\n",
    "    )\n",
    "    \n",
    "    txt_log.write(\"finished fitting BB model: \\n\")\n",
    "\n",
    "    evaluate_model(model,x_test,y_test,appliances)\n",
    "    \n",
    "    if environ['save_model']==\"True\":\n",
    "\n",
    "        path_model_save = path+\"/models/\"+environ['learn_type']+\"/\"+dataset.split(\"_\")[0]+\"_\"+dataset.split(\"_R\")[1][0:2]\n",
    "        model.save(path_model_save)\n",
    "        txt_log.write(\"model saved to:\"+\"/models/\"+environ['learn_type']+\"/\"+dataset.split(\"_\")[0]+\"_\"+dataset.split(\"_R\")[1][0:2]+\" \\n\")\n",
    "        \n",
    "        \n",
    "# with open(path_save+\"_out_log.txt\" as f:\n",
    "#     f.write(cap.stdout)\n"
   ]
  },
  {
   "cell_type": "code",
   "execution_count": 13,
   "metadata": {
    "collapsed": true,
    "execution": {
     "iopub.execute_input": "2022-02-04T02:00:49.014729Z",
     "iopub.status.busy": "2022-02-04T02:00:49.014082Z",
     "iopub.status.idle": "2022-02-04T02:00:49.016084Z",
     "shell.execute_reply": "2022-02-04T02:00:49.015524Z"
    }
   },
   "outputs": [],
   "source": [
    "#model = keras.models.load_model(path_model1)\n",
    "# model_used = model"
   ]
  },
  {
   "cell_type": "code",
   "execution_count": 14,
   "metadata": {
    "collapsed": true,
    "execution": {
     "iopub.execute_input": "2022-02-04T02:00:49.021460Z",
     "iopub.status.busy": "2022-02-04T02:00:49.020793Z",
     "iopub.status.idle": "2022-02-04T02:00:49.022504Z",
     "shell.execute_reply": "2022-02-04T02:00:49.023044Z"
    },
    "jupyter": {
     "outputs_hidden": true
    },
    "tags": []
   },
   "outputs": [],
   "source": [
    "# evaluate_model(model,x_test,y_test,appliances)"
   ]
  },
  {
   "cell_type": "code",
   "execution_count": 15,
   "metadata": {
    "collapsed": true,
    "execution": {
     "iopub.execute_input": "2022-02-04T02:00:49.035612Z",
     "iopub.status.busy": "2022-02-04T02:00:49.035155Z",
     "iopub.status.idle": "2022-02-04T02:00:49.037811Z",
     "shell.execute_reply": "2022-02-04T02:00:49.038122Z"
    }
   },
   "outputs": [],
   "source": [
    "# datasets =[\n",
    "#     \"ukdale_gen_GASF_13m_100S5X12A54480_R82_80-20\"\n",
    "# ]\n",
    "\n",
    "if environ['train_type'] == \"TL\": \n",
    "    models = environ['tl_datasets'].split(\",\")\n",
    "    #model = [\"base\"]\n",
    "    \n",
    "    for model in models:\n",
    "    \n",
    "        file_name = dataset\n",
    "        \n",
    "        datasetTL = model\n",
    "        \n",
    "        seed = dataset.split(\"_R\")[1][0:2]\n",
    "        \n",
    "        print(\"using dataset data\",dataset.split(\"_\")[0],\"training on model\",model,\"seed\",environ['seed'])\n",
    "        txt_log.write(\"starting \"+dataset.split(\"_\")[0]+\" training on model \"+model+\" seed \"+environ['seed']+\"\\n\")\n",
    "\n",
    "\n",
    "        tf.keras.backend.clear_session()\n",
    "\n",
    "\n",
    "        #read the file\n",
    "        path = str(pathlib.Path().resolve())\n",
    "        path_data = f\"{path}\"\"/data/\"f\"{file_name}\"\"/\"f\"{file_name}\"\".hdf5\"\n",
    "        file = h5py.File(path_data,\"r+\")\n",
    "\n",
    "\n",
    "        print(\"reading data, printing stats: \")\n",
    "        x_test,y_test,d_class_weights,num_of_classes,appliances = get_data(file)\n",
    "        print(\"loading model\")\n",
    "        \n",
    "        model_seed = 42\n",
    "        model_used = create_tl_model(model,environ['learn_type'],model_seed,path,num_of_classes)\n",
    "                \n",
    "        train_gen = HDF5ImageGenerator(\n",
    "            src= path_data,\n",
    "            X_key=\"data/train/gaf\",\n",
    "            y_key=\"labels/train/gaf\",\n",
    "            classes_key=\"appliances/classes\",\n",
    "            labels_encoding=\"hot\",\n",
    "            shuffle=True,\n",
    "            batch_size=int(environ['batch_size']),\n",
    "            num_classes=num_of_classes,\n",
    "            mode=\"train\",\n",
    "            )\n",
    "\n",
    "        model_used.fit(\n",
    "            train_gen,\n",
    "            verbose=2,\n",
    "            epochs=int(environ['epochs']),\n",
    "            class_weight=d_class_weights,\n",
    "            callbacks = [save_op_callback]\n",
    "            #workers = 6,\n",
    "        )\n",
    "        \n",
    "        txt_log.write(\"finished \"+dataset.split(\"_\")[0]+\" training on model \"+model+\" seed \"+environ['seed']+\"\\n\")\n",
    "\n",
    "\n",
    "        evaluate_model(model_used,x_test,y_test,appliances)\n",
    "        \n",
    "\n",
    "\n",
    "\n",
    "        #del model_used\n",
    "\n"
   ]
  },
  {
   "cell_type": "code",
   "execution_count": 16,
   "metadata": {
    "execution": {
     "iopub.execute_input": "2022-02-04T02:00:49.043314Z",
     "iopub.status.busy": "2022-02-04T02:00:49.042911Z",
     "iopub.status.idle": "2022-02-04T02:00:49.046595Z",
     "shell.execute_reply": "2022-02-04T02:00:49.046142Z"
    }
   },
   "outputs": [],
   "source": [
    "txt_log.close()"
   ]
  },
  {
   "cell_type": "code",
   "execution_count": null,
   "metadata": {},
   "outputs": [],
   "source": []
  }
 ],
 "metadata": {
  "colab": {
   "authorship_tag": "ABX9TyMej4PvP65qsLng7TnQKWA4",
   "name": "LSTM-gen",
   "provenance": []
  },
  "kernelspec": {
   "display_name": "Python 3 (ipykernel)",
   "language": "python",
   "name": "python3"
  },
  "language_info": {
   "codemirror_mode": {
    "name": "ipython",
    "version": 3
   },
   "file_extension": ".py",
   "mimetype": "text/x-python",
   "name": "python",
   "nbconvert_exporter": "python",
   "pygments_lexer": "ipython3",
   "version": "3.8.10"
  }
 },
 "nbformat": 4,
 "nbformat_minor": 4
}
