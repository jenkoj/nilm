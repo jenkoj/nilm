{
 "cells": [
  {
   "cell_type": "code",
   "execution_count": 1,
   "metadata": {
    "execution": {
     "iopub.execute_input": "2022-02-04T02:02:14.951734Z",
     "iopub.status.busy": "2022-02-04T02:02:14.950307Z",
     "iopub.status.idle": "2022-02-04T02:02:18.554007Z",
     "shell.execute_reply": "2022-02-04T02:02:18.552702Z"
    },
    "id": "WqUfHWgtJxtu",
    "scrolled": true,
    "tags": []
   },
   "outputs": [
    {
     "name": "stderr",
     "output_type": "stream",
     "text": [
      "2022-02-04 02:02:16.392059: I tensorflow/stream_executor/platform/default/dso_loader.cc:54] Successfully opened dynamic library libcudart.so.11.0\n"
     ]
    },
    {
     "name": "stdout",
     "output_type": "stream",
     "text": [
      "2.5.0\n",
      "Num GPUs Available:  1\n"
     ]
    },
    {
     "name": "stderr",
     "output_type": "stream",
     "text": [
      "2022-02-04 02:02:18.453588: I tensorflow/stream_executor/platform/default/dso_loader.cc:54] Successfully opened dynamic library libcuda.so.1\n",
      "2022-02-04 02:02:18.494119: I tensorflow/core/common_runtime/gpu/gpu_device.cc:1734] Found device 0 with properties: \n",
      "pciBusID: 0000:21:00.0 name: NVIDIA GeForce RTX 2080 Ti computeCapability: 7.5\n",
      "coreClock: 1.545GHz coreCount: 68 deviceMemorySize: 10.76GiB deviceMemoryBandwidth: 573.69GiB/s\n",
      "2022-02-04 02:02:18.494170: I tensorflow/stream_executor/platform/default/dso_loader.cc:54] Successfully opened dynamic library libcudart.so.11.0\n",
      "2022-02-04 02:02:18.509998: I tensorflow/stream_executor/platform/default/dso_loader.cc:54] Successfully opened dynamic library libcublas.so.11\n",
      "2022-02-04 02:02:18.510082: I tensorflow/stream_executor/platform/default/dso_loader.cc:54] Successfully opened dynamic library libcublasLt.so.11\n",
      "2022-02-04 02:02:18.516231: I tensorflow/stream_executor/platform/default/dso_loader.cc:54] Successfully opened dynamic library libcufft.so.10\n",
      "2022-02-04 02:02:18.518059: I tensorflow/stream_executor/platform/default/dso_loader.cc:54] Successfully opened dynamic library libcurand.so.10\n",
      "2022-02-04 02:02:18.533273: I tensorflow/stream_executor/platform/default/dso_loader.cc:54] Successfully opened dynamic library libcutensor.so.1\n",
      "2022-02-04 02:02:18.537698: I tensorflow/stream_executor/platform/default/dso_loader.cc:54] Successfully opened dynamic library libcusolver.so.11\n",
      "2022-02-04 02:02:18.542597: I tensorflow/stream_executor/platform/default/dso_loader.cc:54] Successfully opened dynamic library libcusparse.so.11\n",
      "2022-02-04 02:02:18.543098: I tensorflow/stream_executor/platform/default/dso_loader.cc:54] Successfully opened dynamic library libcudnn.so.8\n",
      "2022-02-04 02:02:18.543728: I tensorflow/core/common_runtime/gpu/gpu_device.cc:1872] Adding visible gpu devices: 0\n"
     ]
    }
   ],
   "source": [
    "import h5py\n",
    "import numpy as np\n",
    "\n",
    "from sklearn.model_selection import train_test_split\n",
    "from sklearn.metrics import classification_report, confusion_matrix\n",
    "import matplotlib.pyplot as plt\n",
    "import itertools \n",
    "import pyts\n",
    "from pyts.approximation import PiecewiseAggregateApproximation\n",
    "\n",
    "from sklearn.utils import class_weight\n",
    "\n",
    "import pathlib\n",
    "import tensorflow as tf\n",
    "from tensorflow import keras\n",
    "from tensorflow.keras import layers, optimizers\n",
    "from tensorflow.keras.layers import Convolution2D,Conv2D, Dense,Dropout, Flatten, Activation, MaxPooling2D, Input, Conv1D, GlobalAveragePooling1D, TimeDistributed, GRU, LSTM\n",
    "\n",
    "print(tf.__version__)\n",
    "print(\"Num GPUs Available: \", len(tf.config.list_physical_devices('GPU')))\n",
    "gpus = tf.config.experimental.list_physical_devices('GPU')\n",
    "\n",
    "try:\n",
    "    for gpu in gpus:\n",
    "        tf.config.experimental.set_memory_growth(gpu, True)\n",
    "except RuntimeError as e:\n",
    "    print(e)"
   ]
  },
  {
   "cell_type": "code",
   "execution_count": 2,
   "metadata": {
    "execution": {
     "iopub.execute_input": "2022-02-04T02:02:18.560087Z",
     "iopub.status.busy": "2022-02-04T02:02:18.558985Z",
     "iopub.status.idle": "2022-02-04T02:02:18.563614Z",
     "shell.execute_reply": "2022-02-04T02:02:18.562680Z"
    }
   },
   "outputs": [
    {
     "name": "stdout",
     "output_type": "stream",
     "text": [
      "refit_gen_GASF_60m_300S0X_15A157030N_R42_80-20-V1\n"
     ]
    }
   ],
   "source": [
    "from os import environ\n",
    "dataset = environ['dataset']\n",
    "print(dataset)"
   ]
  },
  {
   "cell_type": "code",
   "execution_count": 3,
   "metadata": {
    "execution": {
     "iopub.execute_input": "2022-02-04T02:02:18.569935Z",
     "iopub.status.busy": "2022-02-04T02:02:18.568900Z",
     "iopub.status.idle": "2022-02-04T02:02:18.572761Z",
     "shell.execute_reply": "2022-02-04T02:02:18.573578Z"
    }
   },
   "outputs": [],
   "source": [
    "#my defs \n",
    "from modules.models import  LSTM_3D_V56, CNN_V56,LSTM_BI_V56\n",
    "from modules.tools import my_print, plot_confusion_matrix_norm, get_data,get_data_split, evaluate_model, create_tl_model\n",
    "from modules.HDF5ImageGenerator import HDF5ImageGenerator"
   ]
  },
  {
   "cell_type": "code",
   "execution_count": 4,
   "metadata": {
    "execution": {
     "iopub.execute_input": "2022-02-04T02:02:18.581844Z",
     "iopub.status.busy": "2022-02-04T02:02:18.580631Z",
     "iopub.status.idle": "2022-02-04T02:02:18.583113Z",
     "shell.execute_reply": "2022-02-04T02:02:18.584085Z"
    },
    "id": "RT1vwq7-KOtB"
   },
   "outputs": [],
   "source": [
    "#LOAD DATASET\n",
    "#file_name = \"ukdale_gen_GASF_13m_100S5X12A54480\"\n",
    "#file_name = \"refit_gen_GASF_13m_100S5X_15A166006\"\n",
    "file_name = \"refit_gen_GASF_13m_100S5X_15A166006_R42-80-20\"\n",
    "#file_name = \"refit_gen_GASF_13m_100S5X_15A166006_R42_80-20\"\n",
    "file_name = \"refit_gen_GASF_60m_300S0X_15A157030N_R12_80-20-V1\"\n",
    "file_name = environ[\"dataset\"]\n",
    "#read the file\n",
    "path = str(pathlib.Path().resolve())\n",
    "\n",
    "path_data = f\"{path}\"\"/data/\"f\"{file_name}\"\"/\"f\"{file_name}\"\".hdf5\"\n",
    "\n",
    "file = h5py.File(path_data,\"r+\")"
   ]
  },
  {
   "cell_type": "code",
   "execution_count": 5,
   "metadata": {
    "execution": {
     "iopub.execute_input": "2022-02-04T02:02:18.590974Z",
     "iopub.status.busy": "2022-02-04T02:02:18.589704Z",
     "iopub.status.idle": "2022-02-04T02:02:24.176739Z",
     "shell.execute_reply": "2022-02-04T02:02:24.177819Z"
    },
    "scrolled": true
   },
   "outputs": [
    {
     "name": "stdout",
     "output_type": "stream",
     "text": [
      "['HEKA', 'fridge/freezer', 'audio system', 'breadmaker', 'broadband router', 'computer', 'dehumidifier', 'dish washer', 'electric space heater', 'food processor', 'pond pump', 'television', 'tumble dryer', 'washer dryer', 'washing machine']\n",
      "{0: 0.2602198297365584, 1: 0.40103670634920635, 2: 2.4953395061728396, 3: 8.651578384162654, 4: 8.369461697722567, 5: 0.8347426565484487, 6: 8.421770833333333, 7: 0.863218022635063, 8: 4.254091028676664, 9: 8.10516290726817, 10: 8.421770833333333, 11: 0.4771541548630784, 12: 1.9194919278252611, 13: 4.587177304964539, 14: 0.4462973696558196}\n",
      " \n",
      "Tests \n",
      "HEKA test: 5178 train: 20713\n",
      "fridge/freezer test: 3360 train: 13440\n",
      "audio system test: 540 train: 2160\n",
      "breadmaker test: 156 train: 623\n",
      "broadband router test: 161 train: 644\n",
      "computer test: 1614 train: 6457\n",
      "dehumidifier test: 160 train: 640\n",
      "dish washer test: 1561 train: 6244\n",
      "electric space heater test: 317 train: 1267\n",
      "food processor test: 166 train: 665\n",
      "pond pump test: 160 train: 640\n",
      "television test: 2824 train: 11296\n",
      "tumble dryer test: 702 train: 2808\n",
      "washer dryer test: 294 train: 1175\n",
      "washing machine test: 3020 train: 12077\n"
     ]
    }
   ],
   "source": [
    "x_test,y_test,d_class_weights,num_of_classes,appliances = get_data(file)"
   ]
  },
  {
   "cell_type": "code",
   "execution_count": 6,
   "metadata": {
    "execution": {
     "iopub.execute_input": "2022-02-04T02:02:24.185491Z",
     "iopub.status.busy": "2022-02-04T02:02:24.184199Z",
     "iopub.status.idle": "2022-02-04T02:02:24.188283Z",
     "shell.execute_reply": "2022-02-04T02:02:24.187148Z"
    }
   },
   "outputs": [],
   "source": [
    "def select_model(learn_type):\n",
    "    \n",
    "    if learn_type == \"CNN\":\n",
    "        model = CNN_V56(file[\"data/train/gaf\"][0:10],num_of_classes,lr= 0.00002)\n",
    "\n",
    "    if learn_type == \"LSTM\":\n",
    "        model = LSTM_3D_V56(file[\"data/train/gaf\"][0:10],num_of_classes,lr= 0.00002)\n",
    "\n",
    "    if learn_type == \"BI_LSTM\":\n",
    "        model = LSTM_BI_V56(file[\"data/train/gaf\"][0:10],num_of_classes,lr= 0.00002)\n",
    "\n",
    "    return model\n",
    "              "
   ]
  },
  {
   "cell_type": "code",
   "execution_count": 7,
   "metadata": {
    "execution": {
     "iopub.execute_input": "2022-02-04T02:02:24.197150Z",
     "iopub.status.busy": "2022-02-04T02:02:24.195836Z",
     "iopub.status.idle": "2022-02-04T02:02:24.198508Z",
     "shell.execute_reply": "2022-02-04T02:02:24.199547Z"
    }
   },
   "outputs": [],
   "source": [
    "path_save = path+'/experiment_automation/output/'+environ['learn_type']+'/'+dataset.split(\"_\")[0]+\"/\"+environ['train_type']+\"/\"+dataset.split(\"_\")[0]+\"_\"+environ['seed']+\"_\"+environ['tl_datasets']\n",
    "path_save_nb = path_save+\"_out.ipynb\"\n",
    "path_save_log = path_save+\"_out_log2.txt\""
   ]
  },
  {
   "cell_type": "code",
   "execution_count": 8,
   "metadata": {
    "execution": {
     "iopub.execute_input": "2022-02-04T02:02:24.208566Z",
     "iopub.status.busy": "2022-02-04T02:02:24.207248Z",
     "iopub.status.idle": "2022-02-04T02:02:24.334151Z",
     "shell.execute_reply": "2022-02-04T02:02:24.335227Z"
    }
   },
   "outputs": [],
   "source": [
    "from keras.callbacks import LambdaCallback\n",
    "#path_log= path+'/experiment_automation/output/'+environ['learn_type']+'/'+dataset.split(\"_\")[0]+\"/\"+environ['train_type']+\"/\"+dataset.split(\"_\")[0]+\"_\"+environ['seed']+\"_\"+environ['tl_datasets']+\"_log.txt\"\n",
    "txt_log = open(path_save+\"_log.txt\", mode='wt', buffering=1)\n",
    "txt_log.write(\"file created! \\n\")\n",
    "\n",
    "save_op_callback = LambdaCallback(\n",
    "  on_epoch_end = lambda epoch, logs: txt_log.write(\n",
    "    str({'epoch': epoch, 'loss': logs['loss'],'acc': logs['accuracy']}) + '\\n'),\n",
    "                                                           \n",
    ")"
   ]
  },
  {
   "cell_type": "code",
   "execution_count": 9,
   "metadata": {
    "execution": {
     "iopub.execute_input": "2022-02-04T02:02:24.341149Z",
     "iopub.status.busy": "2022-02-04T02:02:24.339860Z",
     "iopub.status.idle": "2022-02-04T02:02:24.345259Z",
     "shell.execute_reply": "2022-02-04T02:02:24.344133Z"
    }
   },
   "outputs": [
    {
     "name": "stdout",
     "output_type": "stream",
     "text": [
      "/workspace/notebooks/experiment_automation/output/CNN/refit/BB/refit_42__out.ipynb\n"
     ]
    }
   ],
   "source": [
    "print(path_save_nb)"
   ]
  },
  {
   "cell_type": "code",
   "execution_count": 10,
   "metadata": {
    "execution": {
     "iopub.execute_input": "2022-02-04T02:02:24.350319Z",
     "iopub.status.busy": "2022-02-04T02:02:24.349235Z",
     "iopub.status.idle": "2022-02-04T02:02:24.351499Z",
     "shell.execute_reply": "2022-02-04T02:02:24.352406Z"
    }
   },
   "outputs": [],
   "source": [
    "# rm $path_save_log"
   ]
  },
  {
   "cell_type": "code",
   "execution_count": 11,
   "metadata": {
    "execution": {
     "iopub.execute_input": "2022-02-04T02:02:24.358091Z",
     "iopub.status.busy": "2022-02-04T02:02:24.356850Z",
     "iopub.status.idle": "2022-02-04T02:02:24.359398Z",
     "shell.execute_reply": "2022-02-04T02:02:24.360416Z"
    }
   },
   "outputs": [],
   "source": [
    "# %%capture cap \n",
    "\n",
    "# with open(path_save_log,\"wt\") as f:\n",
    "#     f.write(cap.stdout)\n",
    "    \n",
    "# print(\"out capture..\")"
   ]
  },
  {
   "cell_type": "code",
   "execution_count": 12,
   "metadata": {
    "execution": {
     "iopub.execute_input": "2022-02-04T02:02:24.377953Z",
     "iopub.status.busy": "2022-02-04T02:02:24.376711Z",
     "iopub.status.idle": "2022-02-04T06:54:45.744784Z",
     "shell.execute_reply": "2022-02-04T06:54:45.745394Z"
    },
    "id": "vqA9NwOqKrb5",
    "jupyter": {
     "outputs_hidden": true
    },
    "tags": []
   },
   "outputs": [
    {
     "name": "stdout",
     "output_type": "stream",
     "text": [
      "Normal way\n",
      "[0 1 2 3 4 5 6 7 8 9]\n",
      "WARNING:tensorflow:From /usr/local/lib/python3.8/dist-packages/tensorflow/python/ops/array_ops.py:5043: calling gather (from tensorflow.python.ops.array_ops) with validate_indices is deprecated and will be removed in a future version.\n",
      "Instructions for updating:\n",
      "The `validate_indices` argument has no effect. Indices are always validated on CPU and never validated on GPU.\n"
     ]
    },
    {
     "name": "stderr",
     "output_type": "stream",
     "text": [
      "2022-02-04 02:02:24.396008: I tensorflow/core/common_runtime/gpu/gpu_device.cc:1734] Found device 0 with properties: \n",
      "pciBusID: 0000:21:00.0 name: NVIDIA GeForce RTX 2080 Ti computeCapability: 7.5\n",
      "coreClock: 1.545GHz coreCount: 68 deviceMemorySize: 10.76GiB deviceMemoryBandwidth: 573.69GiB/s\n",
      "2022-02-04 02:02:24.396385: I tensorflow/core/common_runtime/gpu/gpu_device.cc:1872] Adding visible gpu devices: 0\n",
      "2022-02-04 02:02:24.396704: I tensorflow/stream_executor/platform/default/dso_loader.cc:54] Successfully opened dynamic library libcudart.so.11.0\n",
      "2022-02-04 02:02:25.263197: I tensorflow/core/common_runtime/gpu/gpu_device.cc:1258] Device interconnect StreamExecutor with strength 1 edge matrix:\n",
      "2022-02-04 02:02:25.263235: I tensorflow/core/common_runtime/gpu/gpu_device.cc:1264]      0 \n",
      "2022-02-04 02:02:25.263258: I tensorflow/core/common_runtime/gpu/gpu_device.cc:1277] 0:   N \n",
      "2022-02-04 02:02:25.263844: I tensorflow/core/common_runtime/gpu/gpu_device.cc:1418] Created TensorFlow device (/job:localhost/replica:0/task:0/device:GPU:0 with 9649 MB memory) -> physical GPU (device: 0, name: NVIDIA GeForce RTX 2080 Ti, pci bus id: 0000:21:00.0, compute capability: 7.5)\n",
      "2022-02-04 02:02:25.265037: I tensorflow/core/common_runtime/process_util.cc:146] Creating new thread pool with default inter op setting: 20. Tune using inter_op_parallelism_threads for best performance.\n",
      "2022-02-04 02:02:25.391648: I tensorflow/compiler/mlir/mlir_graph_optimization_pass.cc:176] None of the MLIR Optimization Passes are enabled (registered 2)\n",
      "2022-02-04 02:02:25.412513: I tensorflow/core/platform/profile_utils/cpu_utils.cc:114] CPU Frequency: 3299990000 Hz\n"
     ]
    },
    {
     "name": "stdout",
     "output_type": "stream",
     "text": [
      "Epoch 1/50\n"
     ]
    },
    {
     "name": "stderr",
     "output_type": "stream",
     "text": [
      "2022-02-04 02:02:26.038567: I tensorflow/stream_executor/platform/default/dso_loader.cc:54] Successfully opened dynamic library libcudnn.so.8\n",
      "2022-02-04 02:02:26.759876: I tensorflow/stream_executor/cuda/cuda_dnn.cc:380] Loaded cuDNN version 8202\n",
      "2022-02-04 02:02:27.587277: I tensorflow/stream_executor/platform/default/dso_loader.cc:54] Successfully opened dynamic library libcublas.so.11\n",
      "2022-02-04 02:02:28.353890: I tensorflow/stream_executor/platform/default/dso_loader.cc:54] Successfully opened dynamic library libcublasLt.so.11\n"
     ]
    },
    {
     "name": "stdout",
     "output_type": "stream",
     "text": [
      "10107/10107 - 355s - loss: 2.3788 - accuracy: 0.3372\n",
      "Epoch 2/50\n",
      "10107/10107 - 350s - loss: 1.8503 - accuracy: 0.4718\n",
      "Epoch 3/50\n",
      "10107/10107 - 349s - loss: 1.5552 - accuracy: 0.5051\n",
      "Epoch 4/50\n",
      "10107/10107 - 347s - loss: 1.4177 - accuracy: 0.5265\n",
      "Epoch 5/50\n",
      "10107/10107 - 348s - loss: 1.3385 - accuracy: 0.5440\n",
      "Epoch 6/50\n",
      "10107/10107 - 349s - loss: 1.2808 - accuracy: 0.5589\n",
      "Epoch 7/50\n",
      "10107/10107 - 348s - loss: 1.2397 - accuracy: 0.5679\n",
      "Epoch 8/50\n",
      "10107/10107 - 347s - loss: 1.1948 - accuracy: 0.5835\n",
      "Epoch 9/50\n",
      "10107/10107 - 347s - loss: 1.1531 - accuracy: 0.5895\n",
      "Epoch 10/50\n",
      "10107/10107 - 350s - loss: 1.1256 - accuracy: 0.5975\n",
      "Epoch 11/50\n",
      "10107/10107 - 350s - loss: 1.0904 - accuracy: 0.6062\n",
      "Epoch 12/50\n",
      "10107/10107 - 349s - loss: 1.0662 - accuracy: 0.6106\n",
      "Epoch 13/50\n",
      "10107/10107 - 351s - loss: 1.0388 - accuracy: 0.6168\n",
      "Epoch 14/50\n",
      "10107/10107 - 350s - loss: 1.0179 - accuracy: 0.6221\n",
      "Epoch 15/50\n",
      "10107/10107 - 350s - loss: 0.9965 - accuracy: 0.6261\n",
      "Epoch 16/50\n",
      "10107/10107 - 351s - loss: 0.9771 - accuracy: 0.6312\n",
      "Epoch 17/50\n",
      "10107/10107 - 352s - loss: 0.9594 - accuracy: 0.6380\n",
      "Epoch 18/50\n",
      "10107/10107 - 352s - loss: 0.9413 - accuracy: 0.6422\n",
      "Epoch 19/50\n",
      "10107/10107 - 351s - loss: 0.9240 - accuracy: 0.6441\n",
      "Epoch 20/50\n",
      "10107/10107 - 351s - loss: 0.9088 - accuracy: 0.6496\n",
      "Epoch 21/50\n",
      "10107/10107 - 353s - loss: 0.8937 - accuracy: 0.6556\n",
      "Epoch 22/50\n",
      "10107/10107 - 354s - loss: 0.8820 - accuracy: 0.6578\n",
      "Epoch 23/50\n",
      "10107/10107 - 350s - loss: 0.8653 - accuracy: 0.6591\n",
      "Epoch 24/50\n",
      "10107/10107 - 349s - loss: 0.8543 - accuracy: 0.6631\n",
      "Epoch 25/50\n",
      "10107/10107 - 348s - loss: 0.8407 - accuracy: 0.6673\n",
      "Epoch 26/50\n",
      "10107/10107 - 350s - loss: 0.8343 - accuracy: 0.6719\n",
      "Epoch 27/50\n",
      "10107/10107 - 351s - loss: 0.8197 - accuracy: 0.6721\n",
      "Epoch 28/50\n",
      "10107/10107 - 353s - loss: 0.8124 - accuracy: 0.6748\n",
      "Epoch 29/50\n",
      "10107/10107 - 349s - loss: 0.8027 - accuracy: 0.6787\n",
      "Epoch 30/50\n",
      "10107/10107 - 349s - loss: 0.7929 - accuracy: 0.6797\n",
      "Epoch 31/50\n",
      "10107/10107 - 347s - loss: 0.7829 - accuracy: 0.6821\n",
      "Epoch 32/50\n",
      "10107/10107 - 347s - loss: 0.7733 - accuracy: 0.6853\n",
      "Epoch 33/50\n",
      "10107/10107 - 348s - loss: 0.7632 - accuracy: 0.6872\n",
      "Epoch 34/50\n",
      "10107/10107 - 349s - loss: 0.7550 - accuracy: 0.6896\n",
      "Epoch 35/50\n",
      "10107/10107 - 349s - loss: 0.7494 - accuracy: 0.6917\n",
      "Epoch 36/50\n",
      "10107/10107 - 349s - loss: 0.7409 - accuracy: 0.6951\n",
      "Epoch 37/50\n",
      "10107/10107 - 350s - loss: 0.7298 - accuracy: 0.6958\n",
      "Epoch 38/50\n",
      "10107/10107 - 349s - loss: 0.7242 - accuracy: 0.6968\n",
      "Epoch 39/50\n",
      "10107/10107 - 350s - loss: 0.7189 - accuracy: 0.7004\n",
      "Epoch 40/50\n",
      "10107/10107 - 351s - loss: 0.7102 - accuracy: 0.7025\n",
      "Epoch 41/50\n",
      "10107/10107 - 351s - loss: 0.6999 - accuracy: 0.7060\n",
      "Epoch 42/50\n",
      "10107/10107 - 350s - loss: 0.7004 - accuracy: 0.7060\n",
      "Epoch 43/50\n",
      "10107/10107 - 350s - loss: 0.6911 - accuracy: 0.7085\n",
      "Epoch 44/50\n",
      "10107/10107 - 350s - loss: 0.6928 - accuracy: 0.7085\n",
      "Epoch 45/50\n",
      "10107/10107 - 350s - loss: 0.6810 - accuracy: 0.7125\n",
      "Epoch 46/50\n",
      "10107/10107 - 350s - loss: 0.6714 - accuracy: 0.7139\n",
      "Epoch 47/50\n",
      "10107/10107 - 350s - loss: 0.6673 - accuracy: 0.7162\n",
      "Epoch 48/50\n",
      "10107/10107 - 349s - loss: 0.6588 - accuracy: 0.7180\n",
      "Epoch 49/50\n",
      "10107/10107 - 349s - loss: 0.6599 - accuracy: 0.7181\n",
      "Epoch 50/50\n",
      "10107/10107 - 349s - loss: 0.6499 - accuracy: 0.7210\n",
      "632/632 - 29s\n",
      "Normalized confusion matrix\n",
      "                       precision    recall  f1-score   support\n",
      "\n",
      "                 HEKA       0.93      0.76      0.83      5178\n",
      "       fridge/freezer       0.91      0.70      0.79      3360\n",
      "         audio system       0.25      0.62      0.36       540\n",
      "           breadmaker       0.37      0.66      0.48       156\n",
      "     broadband router       0.20      0.57      0.30       161\n",
      "             computer       0.51      0.48      0.50      1614\n",
      "         dehumidifier       0.33      0.74      0.46       160\n",
      "          dish washer       0.84      0.71      0.77      1561\n",
      "electric space heater       0.22      0.71      0.33       317\n",
      "       food processor       0.17      0.74      0.28       166\n",
      "            pond pump       0.47      0.92      0.62       160\n",
      "           television       0.67      0.47      0.55      2824\n",
      "         tumble dryer       0.64      0.55      0.60       702\n",
      "         washer dryer       0.12      0.45      0.19       294\n",
      "      washing machine       0.86      0.70      0.77      3020\n",
      "\n",
      "             accuracy                           0.66     20213\n",
      "            macro avg       0.50      0.65      0.52     20213\n",
      "         weighted avg       0.76      0.66      0.69     20213\n",
      "\n"
     ]
    },
    {
     "name": "stderr",
     "output_type": "stream",
     "text": [
      "2022-02-04 06:54:44.165580: W tensorflow/python/util/util.cc:348] Sets are not currently considered sequences, but this may change in the future, so consider avoiding using them.\n"
     ]
    },
    {
     "name": "stdout",
     "output_type": "stream",
     "text": [
      "INFO:tensorflow:Assets written to: /workspace/notebooks/models/CNN/refit_42/assets\n"
     ]
    },
    {
     "data": {
      "image/png": "[encoded data removed]",
      "text/plain": [
       "<Figure size 720x720 with 2 Axes>"
      ]
     },
     "metadata": {
      "needs_background": "light"
     },
     "output_type": "display_data"
    }
   ],
   "source": [
    "# %%capture cap --no-stderr\n",
    "\n",
    "\n",
    "if environ['train_type'] == \"BB\":\n",
    "\n",
    "    #define generator\n",
    "    train_gen = HDF5ImageGenerator(\n",
    "        src= path_data,\n",
    "        X_key=\"data/train/gaf\",\n",
    "        y_key=\"labels/train/gaf\",\n",
    "        classes_key=\"appliances/classes\",\n",
    "        labels_encoding=\"hot\",\n",
    "        shuffle=True,\n",
    "        batch_size=int(environ['batch_size']),\n",
    "        num_classes=num_of_classes,\n",
    "        mode=\"train\",\n",
    "        )\n",
    "    \n",
    "    model = select_model(environ['learn_type'])\n",
    "    \n",
    "    txt_log.write(\"fitting BB model: \\n\")\n",
    "    \n",
    "    model.fit(\n",
    "        train_gen,\n",
    "        verbose=2,\n",
    "        epochs=int(environ['epochs']),\n",
    "        class_weight=d_class_weights,\n",
    "        callbacks = [save_op_callback],\n",
    "    )\n",
    "    \n",
    "    txt_log.write(\"finished fitting BB model: \\n\")\n",
    "\n",
    "    evaluate_model(model,x_test,y_test,appliances)\n",
    "    \n",
    "    if environ['save_model']==\"True\":\n",
    "\n",
    "        path_model_save = path+\"/models/\"+environ['learn_type']+\"/\"+dataset.split(\"_\")[0]+\"_\"+dataset.split(\"_R\")[1][0:2]\n",
    "        model.save(path_model_save)\n",
    "        txt_log.write(\"model saved to:\"+\"/models/\"+environ['learn_type']+\"/\"+dataset.split(\"_\")[0]+\"_\"+dataset.split(\"_R\")[1][0:2]+\" \\n\")\n",
    "        \n",
    "        \n",
    "# with open(path_save+\"_out_log.txt\" as f:\n",
    "#     f.write(cap.stdout)\n"
   ]
  },
  {
   "cell_type": "code",
   "execution_count": 13,
   "metadata": {
    "collapsed": true,
    "execution": {
     "iopub.execute_input": "2022-02-04T06:54:45.756250Z",
     "iopub.status.busy": "2022-02-04T06:54:45.755752Z",
     "iopub.status.idle": "2022-02-04T06:54:45.757865Z",
     "shell.execute_reply": "2022-02-04T06:54:45.758406Z"
    }
   },
   "outputs": [],
   "source": [
    "#model = keras.models.load_model(path_model1)\n",
    "# model_used = model"
   ]
  },
  {
   "cell_type": "code",
   "execution_count": 14,
   "metadata": {
    "collapsed": true,
    "execution": {
     "iopub.execute_input": "2022-02-04T06:54:45.764292Z",
     "iopub.status.busy": "2022-02-04T06:54:45.763622Z",
     "iopub.status.idle": "2022-02-04T06:54:45.765193Z",
     "shell.execute_reply": "2022-02-04T06:54:45.765821Z"
    },
    "jupyter": {
     "outputs_hidden": true
    },
    "tags": []
   },
   "outputs": [],
   "source": [
    "# evaluate_model(model,x_test,y_test,appliances)"
   ]
  },
  {
   "cell_type": "code",
   "execution_count": 15,
   "metadata": {
    "collapsed": true,
    "execution": {
     "iopub.execute_input": "2022-02-04T06:54:45.779579Z",
     "iopub.status.busy": "2022-02-04T06:54:45.778293Z",
     "iopub.status.idle": "2022-02-04T06:54:45.780887Z",
     "shell.execute_reply": "2022-02-04T06:54:45.781870Z"
    }
   },
   "outputs": [],
   "source": [
    "# datasets =[\n",
    "#     \"ukdale_gen_GASF_13m_100S5X12A54480_R82_80-20\"\n",
    "# ]\n",
    "\n",
    "if environ['train_type'] == \"TL\": \n",
    "    models = environ['tl_datasets'].split(\",\")\n",
    "    #model = [\"base\"]\n",
    "    \n",
    "    for model in models:\n",
    "    \n",
    "        file_name = dataset\n",
    "        \n",
    "        datasetTL = model\n",
    "        \n",
    "        seed = dataset.split(\"_R\")[1][0:2]\n",
    "        \n",
    "        print(\"using dataset data\",dataset.split(\"_\")[0],\"training on model\",model,\"seed\",environ['seed'])\n",
    "        txt_log.write(\"starting \"+dataset.split(\"_\")[0]+\" training on model \"+model+\" seed \"+environ['seed']+\"\\n\")\n",
    "\n",
    "\n",
    "        tf.keras.backend.clear_session()\n",
    "\n",
    "\n",
    "        #read the file\n",
    "        path = str(pathlib.Path().resolve())\n",
    "        path_data = f\"{path}\"\"/data/\"f\"{file_name}\"\"/\"f\"{file_name}\"\".hdf5\"\n",
    "        file = h5py.File(path_data,\"r+\")\n",
    "\n",
    "\n",
    "        print(\"reading data, printing stats: \")\n",
    "        x_test,y_test,d_class_weights,num_of_classes,appliances = get_data(file)\n",
    "        print(\"loading model\")\n",
    "        \n",
    "        model_seed = 42\n",
    "        model_used = create_tl_model(model,environ['learn_type'],model_seed,path,num_of_classes)\n",
    "                \n",
    "        train_gen = HDF5ImageGenerator(\n",
    "            src= path_data,\n",
    "            X_key=\"data/train/gaf\",\n",
    "            y_key=\"labels/train/gaf\",\n",
    "            classes_key=\"appliances/classes\",\n",
    "            labels_encoding=\"hot\",\n",
    "            shuffle=True,\n",
    "            batch_size=int(environ['batch_size']),\n",
    "            num_classes=num_of_classes,\n",
    "            mode=\"train\",\n",
    "            )\n",
    "\n",
    "        model_used.fit(\n",
    "            train_gen,\n",
    "            verbose=2,\n",
    "            epochs=int(environ['epochs']),\n",
    "            class_weight=d_class_weights,\n",
    "            callbacks = [save_op_callback]\n",
    "            #workers = 6,\n",
    "        )\n",
    "        \n",
    "        txt_log.write(\"finished \"+dataset.split(\"_\")[0]+\" training on model \"+model+\" seed \"+environ['seed']+\"\\n\")\n",
    "\n",
    "\n",
    "        evaluate_model(model_used,x_test,y_test,appliances)\n",
    "        \n",
    "\n",
    "\n",
    "\n",
    "        #del model_used\n",
    "\n"
   ]
  },
  {
   "cell_type": "code",
   "execution_count": 16,
   "metadata": {
    "execution": {
     "iopub.execute_input": "2022-02-04T06:54:45.786964Z",
     "iopub.status.busy": "2022-02-04T06:54:45.785784Z",
     "iopub.status.idle": "2022-02-04T06:54:45.788248Z",
     "shell.execute_reply": "2022-02-04T06:54:45.789230Z"
    }
   },
   "outputs": [],
   "source": [
    "txt_log.close()"
   ]
  },
  {
   "cell_type": "code",
   "execution_count": null,
   "metadata": {},
   "outputs": [],
   "source": []
  }
 ],
 "metadata": {
  "colab": {
   "authorship_tag": "ABX9TyMej4PvP65qsLng7TnQKWA4",
   "name": "LSTM-gen",
   "provenance": []
  },
  "kernelspec": {
   "display_name": "Python 3 (ipykernel)",
   "language": "python",
   "name": "python3"
  },
  "language_info": {
   "codemirror_mode": {
    "name": "ipython",
    "version": 3
   },
   "file_extension": ".py",
   "mimetype": "text/x-python",
   "name": "python",
   "nbconvert_exporter": "python",
   "pygments_lexer": "ipython3",
   "version": "3.8.10"
  }
 },
 "nbformat": 4,
 "nbformat_minor": 4
}
