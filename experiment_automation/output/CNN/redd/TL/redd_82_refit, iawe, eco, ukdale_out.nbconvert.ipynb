{
 "cells": [
  {
   "cell_type": "code",
   "execution_count": 1,
   "metadata": {
    "execution": {
     "iopub.execute_input": "2022-02-05T04:33:02.842269Z",
     "iopub.status.busy": "2022-02-05T04:33:02.840815Z",
     "iopub.status.idle": "2022-02-05T04:33:04.553035Z",
     "shell.execute_reply": "2022-02-05T04:33:04.551063Z"
    },
    "id": "WqUfHWgtJxtu",
    "scrolled": true,
    "tags": []
   },
   "outputs": [
    {
     "name": "stderr",
     "output_type": "stream",
     "text": [
      "2022-02-05 04:33:03.665155: I tensorflow/stream_executor/platform/default/dso_loader.cc:54] Successfully opened dynamic library libcudart.so.11.0\n"
     ]
    },
    {
     "name": "stdout",
     "output_type": "stream",
     "text": [
      "2.5.0\n",
      "Num GPUs Available:  1\n"
     ]
    },
    {
     "name": "stderr",
     "output_type": "stream",
     "text": [
      "2022-02-05 04:33:04.485622: I tensorflow/stream_executor/platform/default/dso_loader.cc:54] Successfully opened dynamic library libcuda.so.1\n",
      "2022-02-05 04:33:04.531954: I tensorflow/core/common_runtime/gpu/gpu_device.cc:1734] Found device 0 with properties: \n",
      "pciBusID: 0000:21:00.0 name: NVIDIA GeForce RTX 2080 Ti computeCapability: 7.5\n",
      "coreClock: 1.545GHz coreCount: 68 deviceMemorySize: 10.76GiB deviceMemoryBandwidth: 573.69GiB/s\n",
      "2022-02-05 04:33:04.532006: I tensorflow/stream_executor/platform/default/dso_loader.cc:54] Successfully opened dynamic library libcudart.so.11.0\n",
      "2022-02-05 04:33:04.536529: I tensorflow/stream_executor/platform/default/dso_loader.cc:54] Successfully opened dynamic library libcublas.so.11\n",
      "2022-02-05 04:33:04.536589: I tensorflow/stream_executor/platform/default/dso_loader.cc:54] Successfully opened dynamic library libcublasLt.so.11\n",
      "2022-02-05 04:33:04.538315: I tensorflow/stream_executor/platform/default/dso_loader.cc:54] Successfully opened dynamic library libcufft.so.10\n",
      "2022-02-05 04:33:04.538622: I tensorflow/stream_executor/platform/default/dso_loader.cc:54] Successfully opened dynamic library libcurand.so.10\n",
      "2022-02-05 04:33:04.539378: I tensorflow/stream_executor/platform/default/dso_loader.cc:54] Successfully opened dynamic library libcutensor.so.1\n",
      "2022-02-05 04:33:04.539933: I tensorflow/stream_executor/platform/default/dso_loader.cc:54] Successfully opened dynamic library libcusolver.so.11\n",
      "2022-02-05 04:33:04.540837: I tensorflow/stream_executor/platform/default/dso_loader.cc:54] Successfully opened dynamic library libcusparse.so.11\n",
      "2022-02-05 04:33:04.540987: I tensorflow/stream_executor/platform/default/dso_loader.cc:54] Successfully opened dynamic library libcudnn.so.8\n",
      "2022-02-05 04:33:04.541391: I tensorflow/core/common_runtime/gpu/gpu_device.cc:1872] Adding visible gpu devices: 0\n"
     ]
    }
   ],
   "source": [
    "import h5py\n",
    "import numpy as np\n",
    "\n",
    "from sklearn.model_selection import train_test_split\n",
    "from sklearn.metrics import classification_report, confusion_matrix\n",
    "import matplotlib.pyplot as plt\n",
    "import itertools \n",
    "import pyts\n",
    "from pyts.approximation import PiecewiseAggregateApproximation\n",
    "\n",
    "from sklearn.utils import class_weight\n",
    "\n",
    "import pathlib\n",
    "import tensorflow as tf\n",
    "from tensorflow import keras\n",
    "from tensorflow.keras import layers, optimizers\n",
    "from tensorflow.keras.layers import Convolution2D,Conv2D, Dense,Dropout, Flatten, Activation, MaxPooling2D, Input, Conv1D, GlobalAveragePooling1D, TimeDistributed, GRU, LSTM\n",
    "\n",
    "print(tf.__version__)\n",
    "print(\"Num GPUs Available: \", len(tf.config.list_physical_devices('GPU')))\n",
    "gpus = tf.config.experimental.list_physical_devices('GPU')\n",
    "\n",
    "try:\n",
    "    for gpu in gpus:\n",
    "        tf.config.experimental.set_memory_growth(gpu, True)\n",
    "except RuntimeError as e:\n",
    "    print(e)"
   ]
  },
  {
   "cell_type": "code",
   "execution_count": 2,
   "metadata": {
    "execution": {
     "iopub.execute_input": "2022-02-05T04:33:04.557474Z",
     "iopub.status.busy": "2022-02-05T04:33:04.556833Z",
     "iopub.status.idle": "2022-02-05T04:33:04.562702Z",
     "shell.execute_reply": "2022-02-05T04:33:04.562177Z"
    }
   },
   "outputs": [
    {
     "name": "stdout",
     "output_type": "stream",
     "text": [
      "redd_gen_GASF_60m_300S0X_R82_80-20\n"
     ]
    }
   ],
   "source": [
    "from os import environ\n",
    "dataset = environ['dataset']\n",
    "print(dataset)"
   ]
  },
  {
   "cell_type": "code",
   "execution_count": 3,
   "metadata": {
    "execution": {
     "iopub.execute_input": "2022-02-05T04:33:04.568600Z",
     "iopub.status.busy": "2022-02-05T04:33:04.567851Z",
     "iopub.status.idle": "2022-02-05T04:33:04.572655Z",
     "shell.execute_reply": "2022-02-05T04:33:04.573744Z"
    }
   },
   "outputs": [],
   "source": [
    "#my defs \n",
    "from modules.models import  LSTM_3D_V56, CNN_V56,LSTM_BI_V56\n",
    "from modules.tools import my_print, plot_confusion_matrix_norm, get_data,get_data_split, evaluate_model, create_tl_model\n",
    "from modules.HDF5ImageGenerator import HDF5ImageGenerator"
   ]
  },
  {
   "cell_type": "code",
   "execution_count": 4,
   "metadata": {
    "execution": {
     "iopub.execute_input": "2022-02-05T04:33:04.583701Z",
     "iopub.status.busy": "2022-02-05T04:33:04.582578Z",
     "iopub.status.idle": "2022-02-05T04:33:04.585876Z",
     "shell.execute_reply": "2022-02-05T04:33:04.586548Z"
    },
    "id": "RT1vwq7-KOtB"
   },
   "outputs": [],
   "source": [
    "#LOAD DATASET\n",
    "#file_name = \"ukdale_gen_GASF_13m_100S5X12A54480\"\n",
    "#file_name = \"refit_gen_GASF_13m_100S5X_15A166006\"\n",
    "file_name = \"refit_gen_GASF_13m_100S5X_15A166006_R42-80-20\"\n",
    "#file_name = \"refit_gen_GASF_13m_100S5X_15A166006_R42_80-20\"\n",
    "file_name = \"refit_gen_GASF_60m_300S0X_15A157030N_R12_80-20-V1\"\n",
    "file_name = environ[\"dataset\"]\n",
    "#read the file\n",
    "path = str(pathlib.Path().resolve())\n",
    "\n",
    "path_data = f\"{path}\"\"/data/\"f\"{file_name}\"\"/\"f\"{file_name}\"\".hdf5\"\n",
    "\n",
    "file = h5py.File(path_data,\"r+\")"
   ]
  },
  {
   "cell_type": "code",
   "execution_count": 5,
   "metadata": {
    "execution": {
     "iopub.execute_input": "2022-02-05T04:33:04.593875Z",
     "iopub.status.busy": "2022-02-05T04:33:04.592965Z",
     "iopub.status.idle": "2022-02-05T04:33:04.971375Z",
     "shell.execute_reply": "2022-02-05T04:33:04.972440Z"
    },
    "scrolled": true
   },
   "outputs": [
    {
     "name": "stdout",
     "output_type": "stream",
     "text": [
      "['fridge/freezer', 'electric furnace', 'light', 'microwave', 'sockets']\n",
      "{0: 0.9442708333333333, 1: 2.8383561643835615, 2: 0.5683385579937305, 3: 5.824899598393574, 4: 0.6033277870216306}\n",
      " \n",
      "Tests \n",
      "fridge/freezer test: 384 train: 1536\n",
      "electric furnace test: 128 train: 511\n",
      "light test: 638 train: 2552\n",
      "microwave test: 62 train: 249\n",
      "sockets test: 601 train: 2404\n"
     ]
    }
   ],
   "source": [
    "x_test,y_test,d_class_weights,num_of_classes,appliances = get_data(file)"
   ]
  },
  {
   "cell_type": "code",
   "execution_count": 6,
   "metadata": {
    "execution": {
     "iopub.execute_input": "2022-02-05T04:33:04.979362Z",
     "iopub.status.busy": "2022-02-05T04:33:04.978085Z",
     "iopub.status.idle": "2022-02-05T04:33:04.980741Z",
     "shell.execute_reply": "2022-02-05T04:33:04.981775Z"
    }
   },
   "outputs": [],
   "source": [
    "def select_model(learn_type):\n",
    "    \n",
    "    if learn_type == \"CNN\":\n",
    "        model = CNN_V56(file[\"data/train/gaf\"][0:10],num_of_classes,lr= 0.00002)\n",
    "\n",
    "    if learn_type == \"LSTM\":\n",
    "        model = LSTM_3D_V56(file[\"data/train/gaf\"][0:10],num_of_classes,lr= 0.00002)\n",
    "\n",
    "    if learn_type == \"BI_LSTM\":\n",
    "        model = LSTM_BI_V56(file[\"data/train/gaf\"][0:10],num_of_classes,lr= 0.00002)\n",
    "\n",
    "    return model\n",
    "              "
   ]
  },
  {
   "cell_type": "code",
   "execution_count": 7,
   "metadata": {
    "execution": {
     "iopub.execute_input": "2022-02-05T04:33:04.991002Z",
     "iopub.status.busy": "2022-02-05T04:33:04.986244Z",
     "iopub.status.idle": "2022-02-05T04:33:04.994633Z",
     "shell.execute_reply": "2022-02-05T04:33:04.993687Z"
    }
   },
   "outputs": [],
   "source": [
    "path_save = path+'/experiment_automation/output/'+environ['learn_type']+'/'+dataset.split(\"_\")[0]+\"/\"+environ['train_type']+\"/\"+dataset.split(\"_\")[0]+\"_\"+environ['seed']+\"_\"+environ['tl_datasets']\n",
    "path_save_nb = path_save+\"_out.ipynb\"\n",
    "path_save_log = path_save+\"_out_log2.txt\""
   ]
  },
  {
   "cell_type": "code",
   "execution_count": 8,
   "metadata": {
    "execution": {
     "iopub.execute_input": "2022-02-05T04:33:05.007030Z",
     "iopub.status.busy": "2022-02-05T04:33:05.005151Z",
     "iopub.status.idle": "2022-02-05T04:33:05.105600Z",
     "shell.execute_reply": "2022-02-05T04:33:05.104437Z"
    }
   },
   "outputs": [],
   "source": [
    "from keras.callbacks import LambdaCallback\n",
    "#path_log= path+'/experiment_automation/output/'+environ['learn_type']+'/'+dataset.split(\"_\")[0]+\"/\"+environ['train_type']+\"/\"+dataset.split(\"_\")[0]+\"_\"+environ['seed']+\"_\"+environ['tl_datasets']+\"_log.txt\"\n",
    "txt_log = open(path_save+\"_log.txt\", mode='wt', buffering=1)\n",
    "txt_log.write(\"file created! \\n\")\n",
    "\n",
    "save_op_callback = LambdaCallback(\n",
    "  on_epoch_end = lambda epoch, logs: txt_log.write(\n",
    "    str({'epoch': epoch, 'loss': logs['loss'],'acc': logs['accuracy']}) + '\\n'),\n",
    "                                                           \n",
    ")"
   ]
  },
  {
   "cell_type": "code",
   "execution_count": 9,
   "metadata": {
    "execution": {
     "iopub.execute_input": "2022-02-05T04:33:05.110695Z",
     "iopub.status.busy": "2022-02-05T04:33:05.110199Z",
     "iopub.status.idle": "2022-02-05T04:33:05.113106Z",
     "shell.execute_reply": "2022-02-05T04:33:05.113475Z"
    }
   },
   "outputs": [
    {
     "name": "stdout",
     "output_type": "stream",
     "text": [
      "/workspace/notebooks/experiment_automation/output/CNN/redd/TL/redd_82_refit, iawe, eco, ukdale_out.ipynb\n"
     ]
    }
   ],
   "source": [
    "print(path_save_nb)"
   ]
  },
  {
   "cell_type": "code",
   "execution_count": 10,
   "metadata": {
    "execution": {
     "iopub.execute_input": "2022-02-05T04:33:05.118616Z",
     "iopub.status.busy": "2022-02-05T04:33:05.118149Z",
     "iopub.status.idle": "2022-02-05T04:33:05.121491Z",
     "shell.execute_reply": "2022-02-05T04:33:05.120955Z"
    }
   },
   "outputs": [],
   "source": [
    "# rm $path_save_log"
   ]
  },
  {
   "cell_type": "code",
   "execution_count": 11,
   "metadata": {
    "execution": {
     "iopub.execute_input": "2022-02-05T04:33:05.127464Z",
     "iopub.status.busy": "2022-02-05T04:33:05.126851Z",
     "iopub.status.idle": "2022-02-05T04:33:05.129362Z",
     "shell.execute_reply": "2022-02-05T04:33:05.130028Z"
    }
   },
   "outputs": [],
   "source": [
    "# %%capture cap \n",
    "\n",
    "# with open(path_save_log,\"wt\") as f:\n",
    "#     f.write(cap.stdout)\n",
    "    \n",
    "# print(\"out capture..\")"
   ]
  },
  {
   "cell_type": "code",
   "execution_count": 12,
   "metadata": {
    "execution": {
     "iopub.execute_input": "2022-02-05T04:33:05.149560Z",
     "iopub.status.busy": "2022-02-05T04:33:05.138904Z",
     "iopub.status.idle": "2022-02-05T04:33:05.152553Z",
     "shell.execute_reply": "2022-02-05T04:33:05.153482Z"
    },
    "id": "vqA9NwOqKrb5",
    "jupyter": {
     "outputs_hidden": true
    },
    "tags": []
   },
   "outputs": [],
   "source": [
    "# %%capture cap --no-stderr\n",
    "\n",
    "\n",
    "if environ['train_type'] == \"BB\":\n",
    "\n",
    "    #define generator\n",
    "    train_gen = HDF5ImageGenerator(\n",
    "        src= path_data,\n",
    "        X_key=\"data/train/gaf\",\n",
    "        y_key=\"labels/train/gaf\",\n",
    "        classes_key=\"appliances/classes\",\n",
    "        labels_encoding=\"hot\",\n",
    "        shuffle=True,\n",
    "        batch_size=int(environ['batch_size']),\n",
    "        num_classes=num_of_classes,\n",
    "        mode=\"train\",\n",
    "        )\n",
    "    \n",
    "    model = select_model(environ['learn_type'])\n",
    "    \n",
    "    txt_log.write(\"fitting BB model: \\n\")\n",
    "    \n",
    "    model.fit(\n",
    "        train_gen,\n",
    "        verbose=2,\n",
    "        epochs=int(environ['epochs']),\n",
    "        class_weight=d_class_weights,\n",
    "        callbacks = [save_op_callback],\n",
    "    )\n",
    "    \n",
    "    txt_log.write(\"finished fitting BB model: \\n\")\n",
    "\n",
    "    evaluate_model(model,x_test,y_test,appliances)\n",
    "    \n",
    "    if environ['save_model']==\"True\":\n",
    "\n",
    "        path_model_save = path+\"/models/\"+environ['learn_type']+\"/\"+dataset.split(\"_\")[0]+\"_\"+dataset.split(\"_R\")[1][0:2]\n",
    "        model.save(path_model_save)\n",
    "        txt_log.write(\"model saved to:\"+\"/models/\"+environ['learn_type']+\"/\"+dataset.split(\"_\")[0]+\"_\"+dataset.split(\"_R\")[1][0:2]+\" \\n\")\n",
    "        \n",
    "        \n",
    "# with open(path_save+\"_out_log.txt\" as f:\n",
    "#     f.write(cap.stdout)\n"
   ]
  },
  {
   "cell_type": "code",
   "execution_count": 13,
   "metadata": {
    "collapsed": true,
    "execution": {
     "iopub.execute_input": "2022-02-05T04:33:05.159832Z",
     "iopub.status.busy": "2022-02-05T04:33:05.158669Z",
     "iopub.status.idle": "2022-02-05T04:33:05.161358Z",
     "shell.execute_reply": "2022-02-05T04:33:05.162319Z"
    }
   },
   "outputs": [],
   "source": [
    "#model = keras.models.load_model(path_model1)\n",
    "# model_used = model"
   ]
  },
  {
   "cell_type": "code",
   "execution_count": 14,
   "metadata": {
    "collapsed": true,
    "execution": {
     "iopub.execute_input": "2022-02-05T04:33:05.169199Z",
     "iopub.status.busy": "2022-02-05T04:33:05.167956Z",
     "iopub.status.idle": "2022-02-05T04:33:05.170863Z",
     "shell.execute_reply": "2022-02-05T04:33:05.171851Z"
    },
    "jupyter": {
     "outputs_hidden": true
    },
    "tags": []
   },
   "outputs": [],
   "source": [
    "# evaluate_model(model,x_test,y_test,appliances)"
   ]
  },
  {
   "cell_type": "code",
   "execution_count": 15,
   "metadata": {
    "collapsed": true,
    "execution": {
     "iopub.execute_input": "2022-02-05T04:33:05.195469Z",
     "iopub.status.busy": "2022-02-05T04:33:05.176213Z",
     "iopub.status.idle": "2022-02-05T05:21:39.095063Z",
     "shell.execute_reply": "2022-02-05T05:21:39.096145Z"
    }
   },
   "outputs": [
    {
     "name": "stdout",
     "output_type": "stream",
     "text": [
      "using dataset data redd training on model refit seed 82\n",
      "reading data, printing stats: \n",
      "['fridge/freezer', 'electric furnace', 'light', 'microwave', 'sockets']\n",
      "{0: 0.9442708333333333, 1: 2.8383561643835615, 2: 0.5683385579937305, 3: 5.824899598393574, 4: 0.6033277870216306}\n",
      " \n",
      "Tests \n",
      "fridge/freezer test: 384 train: 1536\n",
      "electric furnace test: 128 train: 511\n",
      "light test: 638 train: 2552\n",
      "microwave test: 62 train: 249\n",
      "sockets test: 601 train: 2404\n",
      "loading model\n",
      "compling TL model..\n"
     ]
    },
    {
     "name": "stderr",
     "output_type": "stream",
     "text": [
      "2022-02-05 04:33:05.557789: I tensorflow/core/common_runtime/gpu/gpu_device.cc:1734] Found device 0 with properties: \n",
      "pciBusID: 0000:21:00.0 name: NVIDIA GeForce RTX 2080 Ti computeCapability: 7.5\n",
      "coreClock: 1.545GHz coreCount: 68 deviceMemorySize: 10.76GiB deviceMemoryBandwidth: 573.69GiB/s\n",
      "2022-02-05 04:33:05.558128: I tensorflow/core/common_runtime/gpu/gpu_device.cc:1872] Adding visible gpu devices: 0\n",
      "2022-02-05 04:33:05.558179: I tensorflow/stream_executor/platform/default/dso_loader.cc:54] Successfully opened dynamic library libcudart.so.11.0\n",
      "2022-02-05 04:33:05.928570: I tensorflow/core/common_runtime/gpu/gpu_device.cc:1258] Device interconnect StreamExecutor with strength 1 edge matrix:\n",
      "2022-02-05 04:33:05.928605: I tensorflow/core/common_runtime/gpu/gpu_device.cc:1264]      0 \n",
      "2022-02-05 04:33:05.928616: I tensorflow/core/common_runtime/gpu/gpu_device.cc:1277] 0:   N \n",
      "2022-02-05 04:33:05.929179: I tensorflow/core/common_runtime/gpu/gpu_device.cc:1418] Created TensorFlow device (/job:localhost/replica:0/task:0/device:GPU:0 with 9649 MB memory) -> physical GPU (device: 0, name: NVIDIA GeForce RTX 2080 Ti, pci bus id: 0000:21:00.0, compute capability: 7.5)\n",
      "2022-02-05 04:33:05.929503: I tensorflow/core/common_runtime/process_util.cc:146] Creating new thread pool with default inter op setting: 20. Tune using inter_op_parallelism_threads for best performance.\n"
     ]
    },
    {
     "name": "stdout",
     "output_type": "stream",
     "text": [
      "Normal way\n",
      "[0 1 2 3 4 5 6 7 8 9]\n",
      "WARNING:tensorflow:From /usr/local/lib/python3.8/dist-packages/tensorflow/python/ops/array_ops.py:5043: calling gather (from tensorflow.python.ops.array_ops) with validate_indices is deprecated and will be removed in a future version.\n",
      "Instructions for updating:\n",
      "The `validate_indices` argument has no effect. Indices are always validated on CPU and never validated on GPU.\n"
     ]
    },
    {
     "name": "stderr",
     "output_type": "stream",
     "text": [
      "/usr/local/lib/python3.8/dist-packages/tensorflow/python/keras/optimizer_v2/optimizer_v2.py:374: UserWarning: The `lr` argument is deprecated, use `learning_rate` instead.\n",
      "  warnings.warn(\n",
      "2022-02-05 04:33:06.483542: I tensorflow/compiler/mlir/mlir_graph_optimization_pass.cc:176] None of the MLIR Optimization Passes are enabled (registered 2)\n",
      "2022-02-05 04:33:06.504486: I tensorflow/core/platform/profile_utils/cpu_utils.cc:114] CPU Frequency: 3299990000 Hz\n"
     ]
    },
    {
     "name": "stdout",
     "output_type": "stream",
     "text": [
      "Epoch 1/50\n"
     ]
    },
    {
     "name": "stderr",
     "output_type": "stream",
     "text": [
      "2022-02-05 04:33:06.992924: I tensorflow/stream_executor/platform/default/dso_loader.cc:54] Successfully opened dynamic library libcudnn.so.8\n",
      "2022-02-05 04:33:07.455773: I tensorflow/stream_executor/cuda/cuda_dnn.cc:380] Loaded cuDNN version 8202\n",
      "2022-02-05 04:33:07.915395: I tensorflow/stream_executor/platform/default/dso_loader.cc:54] Successfully opened dynamic library libcublas.so.11\n",
      "2022-02-05 04:33:08.333841: I tensorflow/stream_executor/platform/default/dso_loader.cc:54] Successfully opened dynamic library libcublasLt.so.11\n"
     ]
    },
    {
     "name": "stdout",
     "output_type": "stream",
     "text": [
      "907/907 - 16s - loss: 0.9799 - accuracy: 0.6185\n",
      "Epoch 2/50\n",
      "907/907 - 14s - loss: 0.6801 - accuracy: 0.7017\n",
      "Epoch 3/50\n",
      "907/907 - 14s - loss: 0.5902 - accuracy: 0.7252\n",
      "Epoch 4/50\n",
      "907/907 - 14s - loss: 0.5362 - accuracy: 0.7544\n",
      "Epoch 5/50\n",
      "907/907 - 14s - loss: 0.4825 - accuracy: 0.7613\n",
      "Epoch 6/50\n",
      "907/907 - 14s - loss: 0.4610 - accuracy: 0.7718\n",
      "Epoch 7/50\n",
      "907/907 - 14s - loss: 0.4331 - accuracy: 0.7828\n",
      "Epoch 8/50\n",
      "907/907 - 14s - loss: 0.4278 - accuracy: 0.7879\n",
      "Epoch 9/50\n",
      "907/907 - 15s - loss: 0.3888 - accuracy: 0.7925\n",
      "Epoch 10/50\n",
      "907/907 - 14s - loss: 0.4080 - accuracy: 0.7948\n",
      "Epoch 11/50\n",
      "907/907 - 15s - loss: 0.3941 - accuracy: 0.7987\n",
      "Epoch 12/50\n",
      "907/907 - 14s - loss: 0.3670 - accuracy: 0.7936\n",
      "Epoch 13/50\n",
      "907/907 - 14s - loss: 0.3467 - accuracy: 0.8067\n",
      "Epoch 14/50\n",
      "907/907 - 14s - loss: 0.3668 - accuracy: 0.8027\n",
      "Epoch 15/50\n",
      "907/907 - 14s - loss: 0.3248 - accuracy: 0.8151\n",
      "Epoch 16/50\n",
      "907/907 - 15s - loss: 0.3666 - accuracy: 0.8078\n",
      "Epoch 17/50\n",
      "907/907 - 14s - loss: 0.3350 - accuracy: 0.8116\n",
      "Epoch 18/50\n",
      "907/907 - 15s - loss: 0.3334 - accuracy: 0.8180\n",
      "Epoch 19/50\n",
      "907/907 - 14s - loss: 0.3257 - accuracy: 0.8159\n",
      "Epoch 20/50\n",
      "907/907 - 14s - loss: 0.3047 - accuracy: 0.8315\n",
      "Epoch 21/50\n",
      "907/907 - 14s - loss: 0.3055 - accuracy: 0.8305\n",
      "Epoch 22/50\n",
      "907/907 - 14s - loss: 0.3430 - accuracy: 0.8272\n",
      "Epoch 23/50\n",
      "907/907 - 14s - loss: 0.2963 - accuracy: 0.8354\n",
      "Epoch 24/50\n",
      "907/907 - 14s - loss: 0.3434 - accuracy: 0.8263\n",
      "Epoch 25/50\n",
      "907/907 - 15s - loss: 0.2968 - accuracy: 0.8355\n",
      "Epoch 26/50\n",
      "907/907 - 14s - loss: 0.2866 - accuracy: 0.8407\n",
      "Epoch 27/50\n",
      "907/907 - 15s - loss: 0.3108 - accuracy: 0.8389\n",
      "Epoch 28/50\n",
      "907/907 - 14s - loss: 0.2654 - accuracy: 0.8500\n",
      "Epoch 29/50\n",
      "907/907 - 15s - loss: 0.2871 - accuracy: 0.8475\n",
      "Epoch 30/50\n",
      "907/907 - 15s - loss: 0.3014 - accuracy: 0.8387\n",
      "Epoch 31/50\n",
      "907/907 - 14s - loss: 0.2770 - accuracy: 0.8436\n",
      "Epoch 32/50\n",
      "907/907 - 14s - loss: 0.2736 - accuracy: 0.8423\n",
      "Epoch 33/50\n",
      "907/907 - 14s - loss: 0.2711 - accuracy: 0.8458\n",
      "Epoch 34/50\n",
      "907/907 - 14s - loss: 0.2483 - accuracy: 0.8620\n",
      "Epoch 35/50\n",
      "907/907 - 14s - loss: 0.2690 - accuracy: 0.8556\n",
      "Epoch 36/50\n",
      "907/907 - 14s - loss: 0.2494 - accuracy: 0.8609\n",
      "Epoch 37/50\n",
      "907/907 - 14s - loss: 0.2475 - accuracy: 0.8598\n",
      "Epoch 38/50\n",
      "907/907 - 14s - loss: 0.3000 - accuracy: 0.8489\n",
      "Epoch 39/50\n",
      "907/907 - 14s - loss: 0.2824 - accuracy: 0.8542\n",
      "Epoch 40/50\n",
      "907/907 - 15s - loss: 0.2286 - accuracy: 0.8716\n",
      "Epoch 41/50\n",
      "907/907 - 14s - loss: 0.2507 - accuracy: 0.8646\n",
      "Epoch 42/50\n",
      "907/907 - 15s - loss: 0.2706 - accuracy: 0.8475\n",
      "Epoch 43/50\n",
      "907/907 - 15s - loss: 0.2439 - accuracy: 0.8613\n",
      "Epoch 44/50\n",
      "907/907 - 14s - loss: 0.2383 - accuracy: 0.8607\n",
      "Epoch 45/50\n",
      "907/907 - 14s - loss: 0.2495 - accuracy: 0.8636\n",
      "Epoch 46/50\n",
      "907/907 - 14s - loss: 0.2425 - accuracy: 0.8733\n",
      "Epoch 47/50\n",
      "907/907 - 14s - loss: 0.2304 - accuracy: 0.8686\n",
      "Epoch 48/50\n",
      "907/907 - 15s - loss: 0.2459 - accuracy: 0.8651\n",
      "Epoch 49/50\n",
      "907/907 - 14s - loss: 0.2581 - accuracy: 0.8607\n",
      "Epoch 50/50\n",
      "907/907 - 14s - loss: 0.2207 - accuracy: 0.8724\n",
      "57/57 - 3s\n",
      "Normalized confusion matrix\n",
      "                  precision    recall  f1-score   support\n",
      "\n",
      "  fridge/freezer       0.89      0.92      0.91       384\n",
      "electric furnace       0.90      0.91      0.91       128\n",
      "           light       0.81      0.73      0.77       638\n",
      "       microwave       0.34      0.69      0.46        62\n",
      "         sockets       0.81      0.79      0.80       601\n",
      "\n",
      "        accuracy                           0.80      1813\n",
      "       macro avg       0.75      0.81      0.77      1813\n",
      "    weighted avg       0.82      0.80      0.81      1813\n",
      "\n",
      "using dataset data redd training on model iawe seed 82\n",
      "reading data, printing stats: \n",
      "['fridge/freezer', 'electric furnace', 'light', 'microwave', 'sockets']\n",
      "{0: 0.9442708333333333, 1: 2.8383561643835615, 2: 0.5683385579937305, 3: 5.824899598393574, 4: 0.6033277870216306}\n",
      " \n",
      "Tests \n",
      "fridge/freezer test: 384 train: 1536\n",
      "electric furnace test: 128 train: 511\n",
      "light test: 638 train: 2552\n",
      "microwave test: 62 train: 249\n",
      "sockets test: 601 train: 2404\n",
      "loading model\n",
      "compling TL model..\n"
     ]
    },
    {
     "name": "stderr",
     "output_type": "stream",
     "text": [
      "/usr/local/lib/python3.8/dist-packages/tensorflow/python/keras/optimizer_v2/optimizer_v2.py:374: UserWarning: The `lr` argument is deprecated, use `learning_rate` instead.\n",
      "  warnings.warn(\n"
     ]
    },
    {
     "name": "stdout",
     "output_type": "stream",
     "text": [
      "Normal way\n",
      "[0 1 2 3 4 5 6 7 8 9]\n",
      "Epoch 1/50\n",
      "907/907 - 15s - loss: 1.6177 - accuracy: 0.4266\n",
      "Epoch 2/50\n",
      "907/907 - 14s - loss: 1.2762 - accuracy: 0.4568\n",
      "Epoch 3/50\n",
      "907/907 - 15s - loss: 1.1152 - accuracy: 0.5793\n",
      "Epoch 4/50\n",
      "907/907 - 14s - loss: 1.1686 - accuracy: 0.5116\n",
      "Epoch 5/50\n",
      "907/907 - 14s - loss: 1.1931 - accuracy: 0.4774\n",
      "Epoch 6/50\n",
      "907/907 - 14s - loss: 1.1767 - accuracy: 0.5561\n",
      "Epoch 7/50\n",
      "907/907 - 14s - loss: 1.0968 - accuracy: 0.5197\n",
      "Epoch 8/50\n",
      "907/907 - 14s - loss: 1.1376 - accuracy: 0.5535\n",
      "Epoch 9/50\n",
      "907/907 - 14s - loss: 1.0596 - accuracy: 0.5851\n",
      "Epoch 10/50\n",
      "907/907 - 15s - loss: 1.0471 - accuracy: 0.5885\n",
      "Epoch 11/50\n",
      "907/907 - 14s - loss: 0.9897 - accuracy: 0.6049\n",
      "Epoch 12/50\n",
      "907/907 - 14s - loss: 1.0732 - accuracy: 0.5576\n",
      "Epoch 13/50\n",
      "907/907 - 14s - loss: 1.0118 - accuracy: 0.5838\n",
      "Epoch 14/50\n",
      "907/907 - 15s - loss: 1.0119 - accuracy: 0.5341\n",
      "Epoch 15/50\n",
      "907/907 - 14s - loss: 0.9778 - accuracy: 0.5597\n",
      "Epoch 16/50\n",
      "907/907 - 15s - loss: 0.9807 - accuracy: 0.5392\n",
      "Epoch 17/50\n",
      "907/907 - 14s - loss: 0.9596 - accuracy: 0.5423\n",
      "Epoch 18/50\n",
      "907/907 - 14s - loss: 1.0487 - accuracy: 0.5569\n",
      "Epoch 19/50\n",
      "907/907 - 14s - loss: 0.9703 - accuracy: 0.6052\n",
      "Epoch 20/50\n",
      "907/907 - 14s - loss: 0.9302 - accuracy: 0.5669\n",
      "Epoch 21/50\n",
      "907/907 - 14s - loss: 0.9156 - accuracy: 0.5725\n",
      "Epoch 22/50\n",
      "907/907 - 15s - loss: 0.9599 - accuracy: 0.5554\n",
      "Epoch 23/50\n",
      "907/907 - 15s - loss: 0.8913 - accuracy: 0.5814\n",
      "Epoch 24/50\n",
      "907/907 - 15s - loss: 0.9852 - accuracy: 0.5421\n",
      "Epoch 25/50\n",
      "907/907 - 15s - loss: 0.9837 - accuracy: 0.5139\n",
      "Epoch 26/50\n",
      "907/907 - 15s - loss: 0.9079 - accuracy: 0.5910\n",
      "Epoch 27/50\n",
      "907/907 - 14s - loss: 0.8823 - accuracy: 0.6005\n",
      "Epoch 28/50\n",
      "907/907 - 14s - loss: 0.8604 - accuracy: 0.6124\n",
      "Epoch 29/50\n",
      "907/907 - 15s - loss: 0.8396 - accuracy: 0.6153\n",
      "Epoch 30/50\n",
      "907/907 - 15s - loss: 0.9015 - accuracy: 0.5749\n",
      "Epoch 31/50\n",
      "907/907 - 14s - loss: 0.8658 - accuracy: 0.6100\n",
      "Epoch 32/50\n",
      "907/907 - 14s - loss: 0.8752 - accuracy: 0.6041\n",
      "Epoch 33/50\n",
      "907/907 - 15s - loss: 0.8508 - accuracy: 0.6120\n",
      "Epoch 34/50\n",
      "907/907 - 14s - loss: 0.8302 - accuracy: 0.6245\n",
      "Epoch 35/50\n",
      "907/907 - 14s - loss: 0.8447 - accuracy: 0.6161\n",
      "Epoch 36/50\n",
      "907/907 - 14s - loss: 0.8680 - accuracy: 0.5899\n",
      "Epoch 37/50\n",
      "907/907 - 15s - loss: 0.8218 - accuracy: 0.6237\n",
      "Epoch 38/50\n",
      "907/907 - 14s - loss: 0.9001 - accuracy: 0.5975\n",
      "Epoch 39/50\n",
      "907/907 - 15s - loss: 0.8203 - accuracy: 0.6241\n",
      "Epoch 40/50\n",
      "907/907 - 14s - loss: 0.8090 - accuracy: 0.6289\n",
      "Epoch 41/50\n",
      "907/907 - 14s - loss: 0.8601 - accuracy: 0.6087\n",
      "Epoch 42/50\n",
      "907/907 - 14s - loss: 0.8528 - accuracy: 0.6081\n",
      "Epoch 43/50\n",
      "907/907 - 14s - loss: 0.8435 - accuracy: 0.6251\n",
      "Epoch 44/50\n",
      "907/907 - 14s - loss: 0.8422 - accuracy: 0.6198\n",
      "Epoch 45/50\n",
      "907/907 - 15s - loss: 0.8393 - accuracy: 0.6172\n",
      "Epoch 46/50\n",
      "907/907 - 15s - loss: 0.8229 - accuracy: 0.6328\n",
      "Epoch 47/50\n",
      "907/907 - 14s - loss: 0.8575 - accuracy: 0.6084\n",
      "Epoch 48/50\n",
      "907/907 - 14s - loss: 0.8270 - accuracy: 0.6309\n",
      "Epoch 49/50\n",
      "907/907 - 14s - loss: 0.8338 - accuracy: 0.6280\n",
      "Epoch 50/50\n",
      "907/907 - 14s - loss: 0.8176 - accuracy: 0.6335\n",
      "57/57 - 3s\n",
      "Normalized confusion matrix\n",
      "                  precision    recall  f1-score   support\n",
      "\n",
      "  fridge/freezer       0.74      0.79      0.76       384\n",
      "electric furnace       0.92      0.54      0.68       128\n",
      "           light       0.76      0.66      0.70       638\n",
      "       microwave       0.14      0.87      0.23        62\n",
      "         sockets       0.83      0.51      0.63       601\n",
      "\n",
      "        accuracy                           0.64      1813\n",
      "       macro avg       0.67      0.67      0.60      1813\n",
      "    weighted avg       0.77      0.64      0.67      1813\n",
      "\n",
      "using dataset data redd training on model eco seed 82\n",
      "reading data, printing stats: \n",
      "['fridge/freezer', 'electric furnace', 'light', 'microwave', 'sockets']\n",
      "{0: 0.9442708333333333, 1: 2.8383561643835615, 2: 0.5683385579937305, 3: 5.824899598393574, 4: 0.6033277870216306}\n",
      " \n",
      "Tests \n",
      "fridge/freezer test: 384 train: 1536\n",
      "electric furnace test: 128 train: 511\n",
      "light test: 638 train: 2552\n",
      "microwave test: 62 train: 249\n",
      "sockets test: 601 train: 2404\n",
      "loading model\n",
      "compling TL model..\n"
     ]
    },
    {
     "name": "stderr",
     "output_type": "stream",
     "text": [
      "/usr/local/lib/python3.8/dist-packages/tensorflow/python/keras/optimizer_v2/optimizer_v2.py:374: UserWarning: The `lr` argument is deprecated, use `learning_rate` instead.\n",
      "  warnings.warn(\n"
     ]
    },
    {
     "name": "stdout",
     "output_type": "stream",
     "text": [
      "Normal way\n",
      "[0 1 2 3 4 5 6 7 8 9]\n",
      "Epoch 1/50\n",
      "907/907 - 15s - loss: 1.1472 - accuracy: 0.5867\n",
      "Epoch 2/50\n",
      "907/907 - 14s - loss: 0.9225 - accuracy: 0.6360\n",
      "Epoch 3/50\n",
      "907/907 - 14s - loss: 0.9429 - accuracy: 0.6987\n",
      "Epoch 4/50\n",
      "907/907 - 14s - loss: 0.7327 - accuracy: 0.7140\n",
      "Epoch 5/50\n",
      "907/907 - 14s - loss: 0.6082 - accuracy: 0.7295\n",
      "Epoch 6/50\n",
      "907/907 - 14s - loss: 0.5888 - accuracy: 0.7537\n",
      "Epoch 7/50\n",
      "907/907 - 15s - loss: 0.5182 - accuracy: 0.7719\n",
      "Epoch 8/50\n",
      "907/907 - 15s - loss: 0.5002 - accuracy: 0.7802\n",
      "Epoch 9/50\n",
      "907/907 - 15s - loss: 0.5032 - accuracy: 0.7732\n",
      "Epoch 10/50\n",
      "907/907 - 15s - loss: 0.4925 - accuracy: 0.7705\n",
      "Epoch 11/50\n",
      "907/907 - 14s - loss: 0.4628 - accuracy: 0.7892\n",
      "Epoch 12/50\n",
      "907/907 - 14s - loss: 0.4863 - accuracy: 0.7824\n",
      "Epoch 13/50\n",
      "907/907 - 15s - loss: 0.5000 - accuracy: 0.7792\n",
      "Epoch 14/50\n",
      "907/907 - 14s - loss: 0.4835 - accuracy: 0.8023\n",
      "Epoch 15/50\n",
      "907/907 - 15s - loss: 0.4347 - accuracy: 0.8031\n",
      "Epoch 16/50\n",
      "907/907 - 15s - loss: 0.4527 - accuracy: 0.8116\n",
      "Epoch 17/50\n",
      "907/907 - 14s - loss: 0.4090 - accuracy: 0.8151\n",
      "Epoch 18/50\n",
      "907/907 - 15s - loss: 0.4154 - accuracy: 0.8108\n",
      "Epoch 19/50\n",
      "907/907 - 15s - loss: 0.4223 - accuracy: 0.8130\n",
      "Epoch 20/50\n",
      "907/907 - 14s - loss: 0.4282 - accuracy: 0.8075\n",
      "Epoch 21/50\n",
      "907/907 - 15s - loss: 0.3977 - accuracy: 0.8276\n",
      "Epoch 22/50\n",
      "907/907 - 14s - loss: 0.3757 - accuracy: 0.8234\n",
      "Epoch 23/50\n",
      "907/907 - 15s - loss: 0.4011 - accuracy: 0.8137\n",
      "Epoch 24/50\n",
      "907/907 - 14s - loss: 0.4418 - accuracy: 0.8010\n",
      "Epoch 25/50\n",
      "907/907 - 15s - loss: 0.3981 - accuracy: 0.8194\n",
      "Epoch 26/50\n",
      "907/907 - 15s - loss: 0.4184 - accuracy: 0.8265\n",
      "Epoch 27/50\n",
      "907/907 - 14s - loss: 0.3582 - accuracy: 0.8311\n",
      "Epoch 28/50\n",
      "907/907 - 15s - loss: 0.3560 - accuracy: 0.8344\n",
      "Epoch 29/50\n",
      "907/907 - 14s - loss: 0.3293 - accuracy: 0.8322\n",
      "Epoch 30/50\n",
      "907/907 - 14s - loss: 0.3749 - accuracy: 0.8225\n",
      "Epoch 31/50\n",
      "907/907 - 14s - loss: 0.3446 - accuracy: 0.8183\n",
      "Epoch 32/50\n",
      "907/907 - 14s - loss: 0.3162 - accuracy: 0.8322\n",
      "Epoch 33/50\n",
      "907/907 - 15s - loss: 0.3426 - accuracy: 0.8464\n",
      "Epoch 34/50\n",
      "907/907 - 14s - loss: 0.3370 - accuracy: 0.8344\n",
      "Epoch 35/50\n",
      "907/907 - 14s - loss: 0.3219 - accuracy: 0.8345\n",
      "Epoch 36/50\n",
      "907/907 - 14s - loss: 0.3514 - accuracy: 0.8326\n",
      "Epoch 37/50\n",
      "907/907 - 15s - loss: 0.3091 - accuracy: 0.8389\n",
      "Epoch 38/50\n",
      "907/907 - 15s - loss: 0.2970 - accuracy: 0.8537\n",
      "Epoch 39/50\n",
      "907/907 - 14s - loss: 0.3057 - accuracy: 0.8531\n",
      "Epoch 40/50\n",
      "907/907 - 15s - loss: 0.3081 - accuracy: 0.8464\n",
      "Epoch 41/50\n",
      "907/907 - 14s - loss: 0.3030 - accuracy: 0.8533\n",
      "Epoch 42/50\n",
      "907/907 - 15s - loss: 0.4167 - accuracy: 0.8569\n",
      "Epoch 43/50\n",
      "907/907 - 14s - loss: 0.2972 - accuracy: 0.8542\n",
      "Epoch 44/50\n",
      "907/907 - 14s - loss: 0.3003 - accuracy: 0.8592\n",
      "Epoch 45/50\n",
      "907/907 - 14s - loss: 0.3079 - accuracy: 0.8540\n",
      "Epoch 46/50\n",
      "907/907 - 14s - loss: 0.3396 - accuracy: 0.8598\n",
      "Epoch 47/50\n",
      "907/907 - 15s - loss: 0.2910 - accuracy: 0.8707\n",
      "Epoch 48/50\n",
      "907/907 - 14s - loss: 0.2831 - accuracy: 0.8720\n",
      "Epoch 49/50\n",
      "907/907 - 14s - loss: 0.3332 - accuracy: 0.8556\n",
      "Epoch 50/50\n",
      "907/907 - 14s - loss: 0.3182 - accuracy: 0.8571\n",
      "57/57 - 3s\n",
      "Normalized confusion matrix\n",
      "                  precision    recall  f1-score   support\n",
      "\n",
      "  fridge/freezer       0.89      0.93      0.91       384\n",
      "electric furnace       0.83      0.95      0.89       128\n",
      "           light       0.77      0.79      0.78       638\n",
      "       microwave       0.42      0.76      0.54        62\n",
      "         sockets       0.86      0.72      0.78       601\n",
      "\n",
      "        accuracy                           0.81      1813\n",
      "       macro avg       0.76      0.83      0.78      1813\n",
      "    weighted avg       0.82      0.81      0.81      1813\n",
      "\n",
      "using dataset data redd training on model ukdale seed 82\n",
      "reading data, printing stats: \n",
      "['fridge/freezer', 'electric furnace', 'light', 'microwave', 'sockets']\n",
      "{0: 0.9442708333333333, 1: 2.8383561643835615, 2: 0.5683385579937305, 3: 5.824899598393574, 4: 0.6033277870216306}\n",
      " \n",
      "Tests \n",
      "fridge/freezer test: 384 train: 1536\n",
      "electric furnace test: 128 train: 511\n",
      "light test: 638 train: 2552\n",
      "microwave test: 62 train: 249\n",
      "sockets test: 601 train: 2404\n",
      "loading model\n",
      "compling TL model..\n"
     ]
    },
    {
     "name": "stderr",
     "output_type": "stream",
     "text": [
      "/usr/local/lib/python3.8/dist-packages/tensorflow/python/keras/optimizer_v2/optimizer_v2.py:374: UserWarning: The `lr` argument is deprecated, use `learning_rate` instead.\n",
      "  warnings.warn(\n"
     ]
    },
    {
     "name": "stdout",
     "output_type": "stream",
     "text": [
      "Normal way\n",
      "[0 1 2 3 4 5 6 7 8 9]\n",
      "Epoch 1/50\n",
      "907/907 - 15s - loss: 1.1337 - accuracy: 0.5503\n",
      "Epoch 2/50\n",
      "907/907 - 14s - loss: 0.7596 - accuracy: 0.6704\n",
      "Epoch 3/50\n",
      "907/907 - 14s - loss: 0.6433 - accuracy: 0.7030\n",
      "Epoch 4/50\n",
      "907/907 - 14s - loss: 0.5920 - accuracy: 0.7096\n",
      "Epoch 5/50\n",
      "907/907 - 14s - loss: 0.5358 - accuracy: 0.7412\n",
      "Epoch 6/50\n",
      "907/907 - 14s - loss: 0.5516 - accuracy: 0.7463\n",
      "Epoch 7/50\n",
      "907/907 - 14s - loss: 0.4950 - accuracy: 0.7548\n",
      "Epoch 8/50\n",
      "907/907 - 15s - loss: 0.4123 - accuracy: 0.7843\n",
      "Epoch 9/50\n",
      "907/907 - 14s - loss: 0.4193 - accuracy: 0.7904\n",
      "Epoch 10/50\n",
      "907/907 - 14s - loss: 0.3943 - accuracy: 0.8009\n",
      "Epoch 11/50\n",
      "907/907 - 15s - loss: 0.3624 - accuracy: 0.8119\n",
      "Epoch 12/50\n",
      "907/907 - 14s - loss: 0.3768 - accuracy: 0.8238\n",
      "Epoch 13/50\n",
      "907/907 - 14s - loss: 0.3908 - accuracy: 0.8268\n",
      "Epoch 14/50\n",
      "907/907 - 15s - loss: 0.3228 - accuracy: 0.8297\n",
      "Epoch 15/50\n",
      "907/907 - 14s - loss: 0.3333 - accuracy: 0.8258\n",
      "Epoch 16/50\n",
      "907/907 - 14s - loss: 0.3105 - accuracy: 0.8410\n",
      "Epoch 17/50\n",
      "907/907 - 14s - loss: 0.3101 - accuracy: 0.8405\n",
      "Epoch 18/50\n",
      "907/907 - 14s - loss: 0.3040 - accuracy: 0.8337\n",
      "Epoch 19/50\n",
      "907/907 - 15s - loss: 0.2806 - accuracy: 0.8472\n",
      "Epoch 20/50\n",
      "907/907 - 14s - loss: 0.2875 - accuracy: 0.8465\n",
      "Epoch 21/50\n",
      "907/907 - 15s - loss: 0.2836 - accuracy: 0.8542\n",
      "Epoch 22/50\n",
      "907/907 - 14s - loss: 0.2660 - accuracy: 0.8556\n",
      "Epoch 23/50\n",
      "907/907 - 14s - loss: 0.2595 - accuracy: 0.8585\n",
      "Epoch 24/50\n",
      "907/907 - 15s - loss: 0.2753 - accuracy: 0.8527\n",
      "Epoch 25/50\n",
      "907/907 - 14s - loss: 0.3022 - accuracy: 0.8537\n",
      "Epoch 26/50\n",
      "907/907 - 14s - loss: 0.2775 - accuracy: 0.8640\n",
      "Epoch 27/50\n",
      "907/907 - 14s - loss: 0.2661 - accuracy: 0.8661\n",
      "Epoch 28/50\n",
      "907/907 - 14s - loss: 0.2568 - accuracy: 0.8702\n",
      "Epoch 29/50\n",
      "907/907 - 14s - loss: 0.2474 - accuracy: 0.8780\n",
      "Epoch 30/50\n",
      "907/907 - 14s - loss: 0.2270 - accuracy: 0.8778\n",
      "Epoch 31/50\n",
      "907/907 - 14s - loss: 0.2267 - accuracy: 0.8748\n",
      "Epoch 32/50\n",
      "907/907 - 14s - loss: 0.2480 - accuracy: 0.8839\n",
      "Epoch 33/50\n",
      "907/907 - 15s - loss: 0.2919 - accuracy: 0.8610\n",
      "Epoch 34/50\n",
      "907/907 - 14s - loss: 0.2282 - accuracy: 0.8702\n",
      "Epoch 35/50\n",
      "907/907 - 14s - loss: 0.2233 - accuracy: 0.8890\n",
      "Epoch 36/50\n",
      "907/907 - 14s - loss: 0.2041 - accuracy: 0.8911\n",
      "Epoch 37/50\n",
      "907/907 - 15s - loss: 0.2420 - accuracy: 0.8893\n",
      "Epoch 38/50\n",
      "907/907 - 15s - loss: 0.2393 - accuracy: 0.8865\n",
      "Epoch 39/50\n",
      "907/907 - 14s - loss: 0.2118 - accuracy: 0.8898\n",
      "Epoch 40/50\n",
      "907/907 - 14s - loss: 0.2032 - accuracy: 0.8946\n",
      "Epoch 41/50\n",
      "907/907 - 14s - loss: 0.2411 - accuracy: 0.8793\n",
      "Epoch 42/50\n",
      "907/907 - 15s - loss: 0.2449 - accuracy: 0.8835\n",
      "Epoch 43/50\n",
      "907/907 - 14s - loss: 0.1990 - accuracy: 0.8974\n",
      "Epoch 44/50\n",
      "907/907 - 15s - loss: 0.2198 - accuracy: 0.8953\n",
      "Epoch 45/50\n",
      "907/907 - 15s - loss: 0.2483 - accuracy: 0.8898\n",
      "Epoch 46/50\n",
      "907/907 - 14s - loss: 0.2009 - accuracy: 0.9018\n",
      "Epoch 47/50\n",
      "907/907 - 14s - loss: 0.1980 - accuracy: 0.8966\n",
      "Epoch 48/50\n",
      "907/907 - 14s - loss: 0.1930 - accuracy: 0.8985\n",
      "Epoch 49/50\n",
      "907/907 - 14s - loss: 0.2047 - accuracy: 0.9076\n",
      "Epoch 50/50\n",
      "907/907 - 15s - loss: 0.2135 - accuracy: 0.8916\n",
      "57/57 - 3s\n",
      "Normalized confusion matrix\n",
      "                  precision    recall  f1-score   support\n",
      "\n",
      "  fridge/freezer       0.90      0.90      0.90       384\n",
      "electric furnace       0.84      0.95      0.89       128\n",
      "           light       0.83      0.77      0.80       638\n",
      "       microwave       0.57      0.74      0.64        62\n",
      "         sockets       0.80      0.81      0.80       601\n",
      "\n",
      "        accuracy                           0.82      1813\n",
      "       macro avg       0.79      0.83      0.81      1813\n",
      "    weighted avg       0.82      0.82      0.82      1813\n",
      "\n"
     ]
    },
    {
     "data": {
      "image/png": "[encoded data removed]",
      "text/plain": [
       "<Figure size 720x720 with 2 Axes>"
      ]
     },
     "metadata": {
      "needs_background": "light"
     },
     "output_type": "display_data"
    },
    {
     "data": {
      "image/png": "[encoded data removed]",
      "text/plain": [
       "<Figure size 720x720 with 2 Axes>"
      ]
     },
     "metadata": {
      "needs_background": "light"
     },
     "output_type": "display_data"
    },
    {
     "data": {
      "image/png": "[encoded data removed]",
      "text/plain": [
       "<Figure size 720x720 with 2 Axes>"
      ]
     },
     "metadata": {
      "needs_background": "light"
     },
     "output_type": "display_data"
    },
    {
     "data": {
      "image/png": "[encoded data removed]",
      "text/plain": [
       "<Figure size 720x720 with 2 Axes>"
      ]
     },
     "metadata": {
      "needs_background": "light"
     },
     "output_type": "display_data"
    }
   ],
   "source": [
    "# datasets =[\n",
    "#     \"ukdale_gen_GASF_13m_100S5X12A54480_R82_80-20\"\n",
    "# ]\n",
    "\n",
    "if environ['train_type'] == \"TL\": \n",
    "    models = environ['tl_datasets'].replace(\" \",\"\").split(\",\")\n",
    "    #model = [\"base\"]\n",
    "    \n",
    "    for model in models:\n",
    "    \n",
    "        file_name = dataset\n",
    "        \n",
    "        datasetTL = model\n",
    "        \n",
    "        seed = dataset.split(\"_R\")[1][0:2]\n",
    "        \n",
    "        print(\"using dataset data\",dataset.split(\"_\")[0],\"training on model\",model,\"seed\",environ['seed'])\n",
    "        txt_log.write(\"starting \"+dataset.split(\"_\")[0]+\" training on model \"+model+\" seed \"+environ['seed']+\"\\n\")\n",
    "\n",
    "\n",
    "        tf.keras.backend.clear_session()\n",
    "\n",
    "\n",
    "        #read the file\n",
    "        path = str(pathlib.Path().resolve())\n",
    "        path_data = f\"{path}\"\"/data/\"f\"{file_name}\"\"/\"f\"{file_name}\"\".hdf5\"\n",
    "        file = h5py.File(path_data,\"r+\")\n",
    "\n",
    "\n",
    "        print(\"reading data, printing stats: \")\n",
    "        x_test,y_test,d_class_weights,num_of_classes,appliances = get_data(file)\n",
    "        print(\"loading model\")\n",
    "        \n",
    "        model_seed = 42\n",
    "        model_used = create_tl_model(model,environ['learn_type'],model_seed,path,num_of_classes)\n",
    "                \n",
    "        train_gen = HDF5ImageGenerator(\n",
    "            src= path_data,\n",
    "            X_key=\"data/train/gaf\",\n",
    "            y_key=\"labels/train/gaf\",\n",
    "            classes_key=\"appliances/classes\",\n",
    "            labels_encoding=\"hot\",\n",
    "            shuffle=True,\n",
    "            batch_size=int(environ['batch_size']),\n",
    "            num_classes=num_of_classes,\n",
    "            mode=\"train\",\n",
    "            )\n",
    "\n",
    "        model_used.fit(\n",
    "            train_gen,\n",
    "            verbose=2,\n",
    "            epochs=int(environ['epochs']),\n",
    "            class_weight=d_class_weights,\n",
    "            callbacks = [save_op_callback]\n",
    "            #workers = 6,\n",
    "        )\n",
    "        \n",
    "        txt_log.write(\"finished \"+dataset.split(\"_\")[0]+\" training on model \"+model+\" seed \"+environ['seed']+\"\\n\")\n",
    "\n",
    "\n",
    "        evaluate_model(model_used,x_test,y_test,appliances)\n",
    "        \n",
    "\n",
    "\n",
    "\n",
    "        #del model_used\n",
    "\n"
   ]
  },
  {
   "cell_type": "code",
   "execution_count": 16,
   "metadata": {
    "execution": {
     "iopub.execute_input": "2022-02-05T05:21:39.102154Z",
     "iopub.status.busy": "2022-02-05T05:21:39.100772Z",
     "iopub.status.idle": "2022-02-05T05:21:39.104452Z",
     "shell.execute_reply": "2022-02-05T05:21:39.103342Z"
    }
   },
   "outputs": [],
   "source": [
    "txt_log.close()"
   ]
  },
  {
   "cell_type": "code",
   "execution_count": null,
   "metadata": {},
   "outputs": [],
   "source": []
  }
 ],
 "metadata": {
  "colab": {
   "authorship_tag": "ABX9TyMej4PvP65qsLng7TnQKWA4",
   "name": "LSTM-gen",
   "provenance": []
  },
  "kernelspec": {
   "display_name": "Python 3 (ipykernel)",
   "language": "python",
   "name": "python3"
  },
  "language_info": {
   "codemirror_mode": {
    "name": "ipython",
    "version": 3
   },
   "file_extension": ".py",
   "mimetype": "text/x-python",
   "name": "python",
   "nbconvert_exporter": "python",
   "pygments_lexer": "ipython3",
   "version": "3.8.10"
  }
 },
 "nbformat": 4,
 "nbformat_minor": 4
}
