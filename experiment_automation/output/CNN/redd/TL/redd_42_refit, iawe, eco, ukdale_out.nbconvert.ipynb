{
 "cells": [
  {
   "cell_type": "code",
   "execution_count": 1,
   "metadata": {
    "execution": {
     "iopub.execute_input": "2022-02-05T03:44:20.326230Z",
     "iopub.status.busy": "2022-02-05T03:44:20.322044Z",
     "iopub.status.idle": "2022-02-05T03:44:22.057442Z",
     "shell.execute_reply": "2022-02-05T03:44:22.056879Z"
    },
    "id": "WqUfHWgtJxtu",
    "scrolled": true,
    "tags": []
   },
   "outputs": [
    {
     "name": "stderr",
     "output_type": "stream",
     "text": [
      "2022-02-05 03:44:21.171832: I tensorflow/stream_executor/platform/default/dso_loader.cc:54] Successfully opened dynamic library libcudart.so.11.0\n"
     ]
    },
    {
     "name": "stdout",
     "output_type": "stream",
     "text": [
      "2.5.0\n",
      "Num GPUs Available:  1\n"
     ]
    },
    {
     "name": "stderr",
     "output_type": "stream",
     "text": [
      "2022-02-05 03:44:21.991910: I tensorflow/stream_executor/platform/default/dso_loader.cc:54] Successfully opened dynamic library libcuda.so.1\n",
      "2022-02-05 03:44:22.039798: I tensorflow/core/common_runtime/gpu/gpu_device.cc:1734] Found device 0 with properties: \n",
      "pciBusID: 0000:21:00.0 name: NVIDIA GeForce RTX 2080 Ti computeCapability: 7.5\n",
      "coreClock: 1.545GHz coreCount: 68 deviceMemorySize: 10.76GiB deviceMemoryBandwidth: 573.69GiB/s\n",
      "2022-02-05 03:44:22.039845: I tensorflow/stream_executor/platform/default/dso_loader.cc:54] Successfully opened dynamic library libcudart.so.11.0\n",
      "2022-02-05 03:44:22.043976: I tensorflow/stream_executor/platform/default/dso_loader.cc:54] Successfully opened dynamic library libcublas.so.11\n",
      "2022-02-05 03:44:22.044041: I tensorflow/stream_executor/platform/default/dso_loader.cc:54] Successfully opened dynamic library libcublasLt.so.11\n",
      "2022-02-05 03:44:22.046003: I tensorflow/stream_executor/platform/default/dso_loader.cc:54] Successfully opened dynamic library libcufft.so.10\n",
      "2022-02-05 03:44:22.046335: I tensorflow/stream_executor/platform/default/dso_loader.cc:54] Successfully opened dynamic library libcurand.so.10\n",
      "2022-02-05 03:44:22.047087: I tensorflow/stream_executor/platform/default/dso_loader.cc:54] Successfully opened dynamic library libcutensor.so.1\n",
      "2022-02-05 03:44:22.047522: I tensorflow/stream_executor/platform/default/dso_loader.cc:54] Successfully opened dynamic library libcusolver.so.11\n",
      "2022-02-05 03:44:22.048277: I tensorflow/stream_executor/platform/default/dso_loader.cc:54] Successfully opened dynamic library libcusparse.so.11\n",
      "2022-02-05 03:44:22.048420: I tensorflow/stream_executor/platform/default/dso_loader.cc:54] Successfully opened dynamic library libcudnn.so.8\n",
      "2022-02-05 03:44:22.048798: I tensorflow/core/common_runtime/gpu/gpu_device.cc:1872] Adding visible gpu devices: 0\n"
     ]
    }
   ],
   "source": [
    "import h5py\n",
    "import numpy as np\n",
    "\n",
    "from sklearn.model_selection import train_test_split\n",
    "from sklearn.metrics import classification_report, confusion_matrix\n",
    "import matplotlib.pyplot as plt\n",
    "import itertools \n",
    "import pyts\n",
    "from pyts.approximation import PiecewiseAggregateApproximation\n",
    "\n",
    "from sklearn.utils import class_weight\n",
    "\n",
    "import pathlib\n",
    "import tensorflow as tf\n",
    "from tensorflow import keras\n",
    "from tensorflow.keras import layers, optimizers\n",
    "from tensorflow.keras.layers import Convolution2D,Conv2D, Dense,Dropout, Flatten, Activation, MaxPooling2D, Input, Conv1D, GlobalAveragePooling1D, TimeDistributed, GRU, LSTM\n",
    "\n",
    "print(tf.__version__)\n",
    "print(\"Num GPUs Available: \", len(tf.config.list_physical_devices('GPU')))\n",
    "gpus = tf.config.experimental.list_physical_devices('GPU')\n",
    "\n",
    "try:\n",
    "    for gpu in gpus:\n",
    "        tf.config.experimental.set_memory_growth(gpu, True)\n",
    "except RuntimeError as e:\n",
    "    print(e)"
   ]
  },
  {
   "cell_type": "code",
   "execution_count": 2,
   "metadata": {
    "execution": {
     "iopub.execute_input": "2022-02-05T03:44:22.061983Z",
     "iopub.status.busy": "2022-02-05T03:44:22.061435Z",
     "iopub.status.idle": "2022-02-05T03:44:22.064120Z",
     "shell.execute_reply": "2022-02-05T03:44:22.063568Z"
    }
   },
   "outputs": [
    {
     "name": "stdout",
     "output_type": "stream",
     "text": [
      "redd_gen_GASF_60m_300S0X_R42_80-20\n"
     ]
    }
   ],
   "source": [
    "from os import environ\n",
    "dataset = environ['dataset']\n",
    "print(dataset)"
   ]
  },
  {
   "cell_type": "code",
   "execution_count": 3,
   "metadata": {
    "execution": {
     "iopub.execute_input": "2022-02-05T03:44:22.068709Z",
     "iopub.status.busy": "2022-02-05T03:44:22.068194Z",
     "iopub.status.idle": "2022-02-05T03:44:22.072092Z",
     "shell.execute_reply": "2022-02-05T03:44:22.072511Z"
    }
   },
   "outputs": [],
   "source": [
    "#my defs \n",
    "from modules.models import  LSTM_3D_V56, CNN_V56,LSTM_BI_V56\n",
    "from modules.tools import my_print, plot_confusion_matrix_norm, get_data,get_data_split, evaluate_model, create_tl_model\n",
    "from modules.HDF5ImageGenerator import HDF5ImageGenerator"
   ]
  },
  {
   "cell_type": "code",
   "execution_count": 4,
   "metadata": {
    "execution": {
     "iopub.execute_input": "2022-02-05T03:44:22.079338Z",
     "iopub.status.busy": "2022-02-05T03:44:22.078610Z",
     "iopub.status.idle": "2022-02-05T03:44:22.082007Z",
     "shell.execute_reply": "2022-02-05T03:44:22.081442Z"
    },
    "id": "RT1vwq7-KOtB"
   },
   "outputs": [],
   "source": [
    "#LOAD DATASET\n",
    "#file_name = \"ukdale_gen_GASF_13m_100S5X12A54480\"\n",
    "#file_name = \"refit_gen_GASF_13m_100S5X_15A166006\"\n",
    "file_name = \"refit_gen_GASF_13m_100S5X_15A166006_R42-80-20\"\n",
    "#file_name = \"refit_gen_GASF_13m_100S5X_15A166006_R42_80-20\"\n",
    "file_name = \"refit_gen_GASF_60m_300S0X_15A157030N_R12_80-20-V1\"\n",
    "file_name = environ[\"dataset\"]\n",
    "#read the file\n",
    "path = str(pathlib.Path().resolve())\n",
    "\n",
    "path_data = f\"{path}\"\"/data/\"f\"{file_name}\"\"/\"f\"{file_name}\"\".hdf5\"\n",
    "\n",
    "file = h5py.File(path_data,\"r+\")"
   ]
  },
  {
   "cell_type": "code",
   "execution_count": 5,
   "metadata": {
    "execution": {
     "iopub.execute_input": "2022-02-05T03:44:22.088978Z",
     "iopub.status.busy": "2022-02-05T03:44:22.088048Z",
     "iopub.status.idle": "2022-02-05T03:44:22.453546Z",
     "shell.execute_reply": "2022-02-05T03:44:22.454532Z"
    },
    "scrolled": true
   },
   "outputs": [
    {
     "name": "stdout",
     "output_type": "stream",
     "text": [
      "['fridge/freezer', 'electric furnace', 'light', 'microwave', 'sockets']\n",
      "{0: 0.9442708333333333, 1: 2.8383561643835615, 2: 0.5683385579937305, 3: 5.824899598393574, 4: 0.6033277870216306}\n",
      " \n",
      "Tests \n",
      "fridge/freezer test: 384 train: 1536\n",
      "electric furnace test: 128 train: 511\n",
      "light test: 638 train: 2552\n",
      "microwave test: 62 train: 249\n",
      "sockets test: 601 train: 2404\n"
     ]
    }
   ],
   "source": [
    "x_test,y_test,d_class_weights,num_of_classes,appliances = get_data(file)"
   ]
  },
  {
   "cell_type": "code",
   "execution_count": 6,
   "metadata": {
    "execution": {
     "iopub.execute_input": "2022-02-05T03:44:22.461671Z",
     "iopub.status.busy": "2022-02-05T03:44:22.460473Z",
     "iopub.status.idle": "2022-02-05T03:44:22.462941Z",
     "shell.execute_reply": "2022-02-05T03:44:22.463907Z"
    }
   },
   "outputs": [],
   "source": [
    "def select_model(learn_type):\n",
    "    \n",
    "    if learn_type == \"CNN\":\n",
    "        model = CNN_V56(file[\"data/train/gaf\"][0:10],num_of_classes,lr= 0.00002)\n",
    "\n",
    "    if learn_type == \"LSTM\":\n",
    "        model = LSTM_3D_V56(file[\"data/train/gaf\"][0:10],num_of_classes,lr= 0.00002)\n",
    "\n",
    "    if learn_type == \"BI_LSTM\":\n",
    "        model = LSTM_BI_V56(file[\"data/train/gaf\"][0:10],num_of_classes,lr= 0.00002)\n",
    "\n",
    "    return model\n",
    "              "
   ]
  },
  {
   "cell_type": "code",
   "execution_count": 7,
   "metadata": {
    "execution": {
     "iopub.execute_input": "2022-02-05T03:44:22.470808Z",
     "iopub.status.busy": "2022-02-05T03:44:22.469600Z",
     "iopub.status.idle": "2022-02-05T03:44:22.472093Z",
     "shell.execute_reply": "2022-02-05T03:44:22.473086Z"
    }
   },
   "outputs": [],
   "source": [
    "path_save = path+'/experiment_automation/output/'+environ['learn_type']+'/'+dataset.split(\"_\")[0]+\"/\"+environ['train_type']+\"/\"+dataset.split(\"_\")[0]+\"_\"+environ['seed']+\"_\"+environ['tl_datasets']\n",
    "path_save_nb = path_save+\"_out.ipynb\"\n",
    "path_save_log = path_save+\"_out_log2.txt\""
   ]
  },
  {
   "cell_type": "code",
   "execution_count": 8,
   "metadata": {
    "execution": {
     "iopub.execute_input": "2022-02-05T03:44:22.480853Z",
     "iopub.status.busy": "2022-02-05T03:44:22.479618Z",
     "iopub.status.idle": "2022-02-05T03:44:22.565986Z",
     "shell.execute_reply": "2022-02-05T03:44:22.564963Z"
    }
   },
   "outputs": [],
   "source": [
    "from keras.callbacks import LambdaCallback\n",
    "#path_log= path+'/experiment_automation/output/'+environ['learn_type']+'/'+dataset.split(\"_\")[0]+\"/\"+environ['train_type']+\"/\"+dataset.split(\"_\")[0]+\"_\"+environ['seed']+\"_\"+environ['tl_datasets']+\"_log.txt\"\n",
    "txt_log = open(path_save+\"_log.txt\", mode='wt', buffering=1)\n",
    "txt_log.write(\"file created! \\n\")\n",
    "\n",
    "save_op_callback = LambdaCallback(\n",
    "  on_epoch_end = lambda epoch, logs: txt_log.write(\n",
    "    str({'epoch': epoch, 'loss': logs['loss'],'acc': logs['accuracy']}) + '\\n'),\n",
    "                                                           \n",
    ")"
   ]
  },
  {
   "cell_type": "code",
   "execution_count": 9,
   "metadata": {
    "execution": {
     "iopub.execute_input": "2022-02-05T03:44:22.571646Z",
     "iopub.status.busy": "2022-02-05T03:44:22.570446Z",
     "iopub.status.idle": "2022-02-05T03:44:22.575467Z",
     "shell.execute_reply": "2022-02-05T03:44:22.574439Z"
    }
   },
   "outputs": [
    {
     "name": "stdout",
     "output_type": "stream",
     "text": [
      "/workspace/notebooks/experiment_automation/output/CNN/redd/TL/redd_42_refit, iawe, eco, ukdale_out.ipynb\n"
     ]
    }
   ],
   "source": [
    "print(path_save_nb)"
   ]
  },
  {
   "cell_type": "code",
   "execution_count": 10,
   "metadata": {
    "execution": {
     "iopub.execute_input": "2022-02-05T03:44:22.580835Z",
     "iopub.status.busy": "2022-02-05T03:44:22.579645Z",
     "iopub.status.idle": "2022-02-05T03:44:22.581924Z",
     "shell.execute_reply": "2022-02-05T03:44:22.582702Z"
    }
   },
   "outputs": [],
   "source": [
    "# rm $path_save_log"
   ]
  },
  {
   "cell_type": "code",
   "execution_count": 11,
   "metadata": {
    "execution": {
     "iopub.execute_input": "2022-02-05T03:44:22.587929Z",
     "iopub.status.busy": "2022-02-05T03:44:22.586968Z",
     "iopub.status.idle": "2022-02-05T03:44:22.589252Z",
     "shell.execute_reply": "2022-02-05T03:44:22.590036Z"
    }
   },
   "outputs": [],
   "source": [
    "# %%capture cap \n",
    "\n",
    "# with open(path_save_log,\"wt\") as f:\n",
    "#     f.write(cap.stdout)\n",
    "    \n",
    "# print(\"out capture..\")"
   ]
  },
  {
   "cell_type": "code",
   "execution_count": 12,
   "metadata": {
    "execution": {
     "iopub.execute_input": "2022-02-05T03:44:22.606104Z",
     "iopub.status.busy": "2022-02-05T03:44:22.604954Z",
     "iopub.status.idle": "2022-02-05T03:44:22.608666Z",
     "shell.execute_reply": "2022-02-05T03:44:22.607694Z"
    },
    "id": "vqA9NwOqKrb5",
    "jupyter": {
     "outputs_hidden": true
    },
    "tags": []
   },
   "outputs": [],
   "source": [
    "# %%capture cap --no-stderr\n",
    "\n",
    "\n",
    "if environ['train_type'] == \"BB\":\n",
    "\n",
    "    #define generator\n",
    "    train_gen = HDF5ImageGenerator(\n",
    "        src= path_data,\n",
    "        X_key=\"data/train/gaf\",\n",
    "        y_key=\"labels/train/gaf\",\n",
    "        classes_key=\"appliances/classes\",\n",
    "        labels_encoding=\"hot\",\n",
    "        shuffle=True,\n",
    "        batch_size=int(environ['batch_size']),\n",
    "        num_classes=num_of_classes,\n",
    "        mode=\"train\",\n",
    "        )\n",
    "    \n",
    "    model = select_model(environ['learn_type'])\n",
    "    \n",
    "    txt_log.write(\"fitting BB model: \\n\")\n",
    "    \n",
    "    model.fit(\n",
    "        train_gen,\n",
    "        verbose=2,\n",
    "        epochs=int(environ['epochs']),\n",
    "        class_weight=d_class_weights,\n",
    "        callbacks = [save_op_callback],\n",
    "    )\n",
    "    \n",
    "    txt_log.write(\"finished fitting BB model: \\n\")\n",
    "\n",
    "    evaluate_model(model,x_test,y_test,appliances)\n",
    "    \n",
    "    if environ['save_model']==\"True\":\n",
    "\n",
    "        path_model_save = path+\"/models/\"+environ['learn_type']+\"/\"+dataset.split(\"_\")[0]+\"_\"+dataset.split(\"_R\")[1][0:2]\n",
    "        model.save(path_model_save)\n",
    "        txt_log.write(\"model saved to:\"+\"/models/\"+environ['learn_type']+\"/\"+dataset.split(\"_\")[0]+\"_\"+dataset.split(\"_R\")[1][0:2]+\" \\n\")\n",
    "        \n",
    "        \n",
    "# with open(path_save+\"_out_log.txt\" as f:\n",
    "#     f.write(cap.stdout)\n"
   ]
  },
  {
   "cell_type": "code",
   "execution_count": 13,
   "metadata": {
    "collapsed": true,
    "execution": {
     "iopub.execute_input": "2022-02-05T03:44:22.615238Z",
     "iopub.status.busy": "2022-02-05T03:44:22.614065Z",
     "iopub.status.idle": "2022-02-05T03:44:22.617931Z",
     "shell.execute_reply": "2022-02-05T03:44:22.616914Z"
    }
   },
   "outputs": [],
   "source": [
    "#model = keras.models.load_model(path_model1)\n",
    "# model_used = model"
   ]
  },
  {
   "cell_type": "code",
   "execution_count": 14,
   "metadata": {
    "collapsed": true,
    "execution": {
     "iopub.execute_input": "2022-02-05T03:44:22.624766Z",
     "iopub.status.busy": "2022-02-05T03:44:22.623570Z",
     "iopub.status.idle": "2022-02-05T03:44:22.626411Z",
     "shell.execute_reply": "2022-02-05T03:44:22.627379Z"
    },
    "jupyter": {
     "outputs_hidden": true
    },
    "tags": []
   },
   "outputs": [],
   "source": [
    "# evaluate_model(model,x_test,y_test,appliances)"
   ]
  },
  {
   "cell_type": "code",
   "execution_count": 15,
   "metadata": {
    "collapsed": true,
    "execution": {
     "iopub.execute_input": "2022-02-05T03:44:22.649582Z",
     "iopub.status.busy": "2022-02-05T03:44:22.631894Z",
     "iopub.status.idle": "2022-02-05T04:32:52.435417Z",
     "shell.execute_reply": "2022-02-05T04:32:52.436439Z"
    }
   },
   "outputs": [
    {
     "name": "stdout",
     "output_type": "stream",
     "text": [
      "using dataset data redd training on model refit seed 42\n",
      "reading data, printing stats: \n",
      "['fridge/freezer', 'electric furnace', 'light', 'microwave', 'sockets']\n",
      "{0: 0.9442708333333333, 1: 2.8383561643835615, 2: 0.5683385579937305, 3: 5.824899598393574, 4: 0.6033277870216306}\n",
      " \n",
      "Tests \n",
      "fridge/freezer test: 384 train: 1536\n",
      "electric furnace test: 128 train: 511\n",
      "light test: 638 train: 2552\n",
      "microwave test: 62 train: 249\n",
      "sockets test: 601 train: 2404\n",
      "loading model\n",
      "compling TL model..\n"
     ]
    },
    {
     "name": "stderr",
     "output_type": "stream",
     "text": [
      "2022-02-05 03:44:23.003180: I tensorflow/core/common_runtime/gpu/gpu_device.cc:1734] Found device 0 with properties: \n",
      "pciBusID: 0000:21:00.0 name: NVIDIA GeForce RTX 2080 Ti computeCapability: 7.5\n",
      "coreClock: 1.545GHz coreCount: 68 deviceMemorySize: 10.76GiB deviceMemoryBandwidth: 573.69GiB/s\n",
      "2022-02-05 03:44:23.003513: I tensorflow/core/common_runtime/gpu/gpu_device.cc:1872] Adding visible gpu devices: 0\n",
      "2022-02-05 03:44:23.003565: I tensorflow/stream_executor/platform/default/dso_loader.cc:54] Successfully opened dynamic library libcudart.so.11.0\n",
      "2022-02-05 03:44:23.368129: I tensorflow/core/common_runtime/gpu/gpu_device.cc:1258] Device interconnect StreamExecutor with strength 1 edge matrix:\n",
      "2022-02-05 03:44:23.368164: I tensorflow/core/common_runtime/gpu/gpu_device.cc:1264]      0 \n",
      "2022-02-05 03:44:23.368171: I tensorflow/core/common_runtime/gpu/gpu_device.cc:1277] 0:   N \n",
      "2022-02-05 03:44:23.368743: I tensorflow/core/common_runtime/gpu/gpu_device.cc:1418] Created TensorFlow device (/job:localhost/replica:0/task:0/device:GPU:0 with 9649 MB memory) -> physical GPU (device: 0, name: NVIDIA GeForce RTX 2080 Ti, pci bus id: 0000:21:00.0, compute capability: 7.5)\n",
      "2022-02-05 03:44:23.369090: I tensorflow/core/common_runtime/process_util.cc:146] Creating new thread pool with default inter op setting: 20. Tune using inter_op_parallelism_threads for best performance.\n"
     ]
    },
    {
     "name": "stdout",
     "output_type": "stream",
     "text": [
      "Normal way\n",
      "[0 1 2 3 4 5 6 7 8 9]\n",
      "WARNING:tensorflow:From /usr/local/lib/python3.8/dist-packages/tensorflow/python/ops/array_ops.py:5043: calling gather (from tensorflow.python.ops.array_ops) with validate_indices is deprecated and will be removed in a future version.\n",
      "Instructions for updating:\n",
      "The `validate_indices` argument has no effect. Indices are always validated on CPU and never validated on GPU.\n"
     ]
    },
    {
     "name": "stderr",
     "output_type": "stream",
     "text": [
      "/usr/local/lib/python3.8/dist-packages/tensorflow/python/keras/optimizer_v2/optimizer_v2.py:374: UserWarning: The `lr` argument is deprecated, use `learning_rate` instead.\n",
      "  warnings.warn(\n",
      "2022-02-05 03:44:23.955805: I tensorflow/compiler/mlir/mlir_graph_optimization_pass.cc:176] None of the MLIR Optimization Passes are enabled (registered 2)\n",
      "2022-02-05 03:44:23.976562: I tensorflow/core/platform/profile_utils/cpu_utils.cc:114] CPU Frequency: 3299990000 Hz\n"
     ]
    },
    {
     "name": "stdout",
     "output_type": "stream",
     "text": [
      "Epoch 1/50\n"
     ]
    },
    {
     "name": "stderr",
     "output_type": "stream",
     "text": [
      "2022-02-05 03:44:24.462744: I tensorflow/stream_executor/platform/default/dso_loader.cc:54] Successfully opened dynamic library libcudnn.so.8\n",
      "2022-02-05 03:44:24.936541: I tensorflow/stream_executor/cuda/cuda_dnn.cc:380] Loaded cuDNN version 8202\n",
      "2022-02-05 03:44:25.417066: I tensorflow/stream_executor/platform/default/dso_loader.cc:54] Successfully opened dynamic library libcublas.so.11\n",
      "2022-02-05 03:44:25.841859: I tensorflow/stream_executor/platform/default/dso_loader.cc:54] Successfully opened dynamic library libcublasLt.so.11\n"
     ]
    },
    {
     "name": "stdout",
     "output_type": "stream",
     "text": [
      "907/907 - 16s - loss: 0.9325 - accuracy: 0.6238\n",
      "Epoch 2/50\n",
      "907/907 - 15s - loss: 0.6155 - accuracy: 0.7070\n",
      "Epoch 3/50\n",
      "907/907 - 14s - loss: 0.5828 - accuracy: 0.7272\n",
      "Epoch 4/50\n",
      "907/907 - 15s - loss: 0.5174 - accuracy: 0.7481\n",
      "Epoch 5/50\n",
      "907/907 - 14s - loss: 0.4947 - accuracy: 0.7489\n",
      "Epoch 6/50\n",
      "907/907 - 14s - loss: 0.4353 - accuracy: 0.7708\n",
      "Epoch 7/50\n",
      "907/907 - 14s - loss: 0.4407 - accuracy: 0.7765\n",
      "Epoch 8/50\n",
      "907/907 - 14s - loss: 0.4208 - accuracy: 0.7777\n",
      "Epoch 9/50\n",
      "907/907 - 14s - loss: 0.4054 - accuracy: 0.7899\n",
      "Epoch 10/50\n",
      "907/907 - 14s - loss: 0.3903 - accuracy: 0.7889\n",
      "Epoch 11/50\n",
      "907/907 - 15s - loss: 0.3852 - accuracy: 0.7991\n",
      "Epoch 12/50\n",
      "907/907 - 14s - loss: 0.3957 - accuracy: 0.7947\n",
      "Epoch 13/50\n",
      "907/907 - 14s - loss: 0.3640 - accuracy: 0.8030\n",
      "Epoch 14/50\n",
      "907/907 - 15s - loss: 0.3469 - accuracy: 0.8140\n",
      "Epoch 15/50\n",
      "907/907 - 14s - loss: 0.3415 - accuracy: 0.8152\n",
      "Epoch 16/50\n",
      "907/907 - 14s - loss: 0.3979 - accuracy: 0.8025\n",
      "Epoch 17/50\n",
      "907/907 - 14s - loss: 0.3325 - accuracy: 0.8227\n",
      "Epoch 18/50\n",
      "907/907 - 14s - loss: 0.3265 - accuracy: 0.8260\n",
      "Epoch 19/50\n",
      "907/907 - 14s - loss: 0.3311 - accuracy: 0.8194\n",
      "Epoch 20/50\n",
      "907/907 - 14s - loss: 0.3419 - accuracy: 0.8159\n",
      "Epoch 21/50\n",
      "907/907 - 14s - loss: 0.3258 - accuracy: 0.8329\n",
      "Epoch 22/50\n",
      "907/907 - 14s - loss: 0.3335 - accuracy: 0.8256\n",
      "Epoch 23/50\n",
      "907/907 - 15s - loss: 0.3133 - accuracy: 0.8336\n",
      "Epoch 24/50\n",
      "907/907 - 14s - loss: 0.2769 - accuracy: 0.8407\n",
      "Epoch 25/50\n",
      "907/907 - 14s - loss: 0.2825 - accuracy: 0.8427\n",
      "Epoch 26/50\n",
      "907/907 - 14s - loss: 0.3353 - accuracy: 0.8327\n",
      "Epoch 27/50\n",
      "907/907 - 14s - loss: 0.3010 - accuracy: 0.8334\n",
      "Epoch 28/50\n",
      "907/907 - 15s - loss: 0.2947 - accuracy: 0.8438\n",
      "Epoch 29/50\n",
      "907/907 - 14s - loss: 0.2907 - accuracy: 0.8457\n",
      "Epoch 30/50\n",
      "907/907 - 14s - loss: 0.2535 - accuracy: 0.8556\n",
      "Epoch 31/50\n",
      "907/907 - 14s - loss: 0.2950 - accuracy: 0.8467\n",
      "Epoch 32/50\n",
      "907/907 - 14s - loss: 0.2957 - accuracy: 0.8403\n",
      "Epoch 33/50\n",
      "907/907 - 14s - loss: 0.2794 - accuracy: 0.8443\n",
      "Epoch 34/50\n",
      "907/907 - 14s - loss: 0.2491 - accuracy: 0.8635\n",
      "Epoch 35/50\n",
      "907/907 - 15s - loss: 0.2565 - accuracy: 0.8588\n",
      "Epoch 36/50\n",
      "907/907 - 14s - loss: 0.3244 - accuracy: 0.8309\n",
      "Epoch 37/50\n",
      "907/907 - 14s - loss: 0.2360 - accuracy: 0.8650\n",
      "Epoch 38/50\n",
      "907/907 - 15s - loss: 0.2559 - accuracy: 0.8636\n",
      "Epoch 39/50\n",
      "907/907 - 15s - loss: 0.2337 - accuracy: 0.8722\n",
      "Epoch 40/50\n",
      "907/907 - 15s - loss: 0.2457 - accuracy: 0.8603\n",
      "Epoch 41/50\n",
      "907/907 - 15s - loss: 0.2299 - accuracy: 0.8736\n",
      "Epoch 42/50\n",
      "907/907 - 14s - loss: 0.2358 - accuracy: 0.8707\n",
      "Epoch 43/50\n",
      "907/907 - 14s - loss: 0.2608 - accuracy: 0.8656\n",
      "Epoch 44/50\n",
      "907/907 - 14s - loss: 0.2583 - accuracy: 0.8633\n",
      "Epoch 45/50\n",
      "907/907 - 14s - loss: 0.2286 - accuracy: 0.8683\n",
      "Epoch 46/50\n",
      "907/907 - 15s - loss: 0.2212 - accuracy: 0.8723\n",
      "Epoch 47/50\n",
      "907/907 - 14s - loss: 0.2059 - accuracy: 0.8791\n",
      "Epoch 48/50\n",
      "907/907 - 14s - loss: 0.2532 - accuracy: 0.8673\n",
      "Epoch 49/50\n",
      "907/907 - 14s - loss: 0.2277 - accuracy: 0.8678\n",
      "Epoch 50/50\n",
      "907/907 - 14s - loss: 0.2335 - accuracy: 0.8755\n",
      "57/57 - 3s\n",
      "Normalized confusion matrix\n",
      "                  precision    recall  f1-score   support\n",
      "\n",
      "  fridge/freezer       0.92      0.93      0.92       384\n",
      "electric furnace       0.93      0.94      0.93       128\n",
      "           light       0.78      0.79      0.79       638\n",
      "       microwave       0.37      0.89      0.52        62\n",
      "         sockets       0.85      0.71      0.78       601\n",
      "\n",
      "        accuracy                           0.81      1813\n",
      "       macro avg       0.77      0.85      0.79      1813\n",
      "    weighted avg       0.83      0.81      0.81      1813\n",
      "\n",
      "using dataset data redd training on model iawe seed 42\n",
      "reading data, printing stats: \n",
      "['fridge/freezer', 'electric furnace', 'light', 'microwave', 'sockets']\n",
      "{0: 0.9442708333333333, 1: 2.8383561643835615, 2: 0.5683385579937305, 3: 5.824899598393574, 4: 0.6033277870216306}\n",
      " \n",
      "Tests \n",
      "fridge/freezer test: 384 train: 1536\n",
      "electric furnace test: 128 train: 511\n",
      "light test: 638 train: 2552\n",
      "microwave test: 62 train: 249\n",
      "sockets test: 601 train: 2404\n",
      "loading model\n",
      "compling TL model..\n"
     ]
    },
    {
     "name": "stderr",
     "output_type": "stream",
     "text": [
      "/usr/local/lib/python3.8/dist-packages/tensorflow/python/keras/optimizer_v2/optimizer_v2.py:374: UserWarning: The `lr` argument is deprecated, use `learning_rate` instead.\n",
      "  warnings.warn(\n"
     ]
    },
    {
     "name": "stdout",
     "output_type": "stream",
     "text": [
      "Normal way\n",
      "[0 1 2 3 4 5 6 7 8 9]\n",
      "Epoch 1/50\n",
      "907/907 - 15s - loss: 1.5666 - accuracy: 0.4748\n",
      "Epoch 2/50\n",
      "907/907 - 15s - loss: 1.2088 - accuracy: 0.5178\n",
      "Epoch 3/50\n",
      "907/907 - 15s - loss: 1.1741 - accuracy: 0.5670\n",
      "Epoch 4/50\n",
      "907/907 - 14s - loss: 1.1986 - accuracy: 0.5312\n",
      "Epoch 5/50\n",
      "907/907 - 15s - loss: 1.1111 - accuracy: 0.5822\n",
      "Epoch 6/50\n",
      "907/907 - 15s - loss: 1.0778 - accuracy: 0.5831\n",
      "Epoch 7/50\n",
      "907/907 - 15s - loss: 1.1071 - accuracy: 0.5644\n",
      "Epoch 8/50\n",
      "907/907 - 14s - loss: 1.0081 - accuracy: 0.5949\n",
      "Epoch 9/50\n",
      "907/907 - 15s - loss: 0.9779 - accuracy: 0.6147\n",
      "Epoch 10/50\n",
      "907/907 - 14s - loss: 0.9475 - accuracy: 0.6382\n",
      "Epoch 11/50\n",
      "907/907 - 14s - loss: 0.9788 - accuracy: 0.5998\n",
      "Epoch 12/50\n",
      "907/907 - 14s - loss: 0.8929 - accuracy: 0.6502\n",
      "Epoch 13/50\n",
      "907/907 - 15s - loss: 0.8669 - accuracy: 0.6518\n",
      "Epoch 14/50\n",
      "907/907 - 15s - loss: 0.8908 - accuracy: 0.6329\n",
      "Epoch 15/50\n",
      "907/907 - 15s - loss: 0.8594 - accuracy: 0.6389\n",
      "Epoch 16/50\n",
      "907/907 - 14s - loss: 0.8197 - accuracy: 0.6492\n",
      "Epoch 17/50\n",
      "907/907 - 14s - loss: 0.8874 - accuracy: 0.6252\n",
      "Epoch 18/50\n",
      "907/907 - 14s - loss: 0.7964 - accuracy: 0.6637\n",
      "Epoch 19/50\n",
      "907/907 - 15s - loss: 0.8024 - accuracy: 0.6486\n",
      "Epoch 20/50\n",
      "907/907 - 14s - loss: 0.8056 - accuracy: 0.6518\n",
      "Epoch 21/50\n",
      "907/907 - 14s - loss: 0.8109 - accuracy: 0.6420\n",
      "Epoch 22/50\n",
      "907/907 - 14s - loss: 0.7597 - accuracy: 0.6657\n",
      "Epoch 23/50\n",
      "907/907 - 14s - loss: 0.7664 - accuracy: 0.6528\n",
      "Epoch 24/50\n",
      "907/907 - 14s - loss: 0.7181 - accuracy: 0.6673\n",
      "Epoch 25/50\n",
      "907/907 - 15s - loss: 0.7133 - accuracy: 0.6733\n",
      "Epoch 26/50\n",
      "907/907 - 14s - loss: 0.6812 - accuracy: 0.6891\n",
      "Epoch 27/50\n",
      "907/907 - 14s - loss: 0.6916 - accuracy: 0.7052\n",
      "Epoch 28/50\n",
      "907/907 - 14s - loss: 0.6918 - accuracy: 0.6891\n",
      "Epoch 29/50\n",
      "907/907 - 14s - loss: 0.6668 - accuracy: 0.6999\n",
      "Epoch 30/50\n",
      "907/907 - 14s - loss: 0.6915 - accuracy: 0.6990\n",
      "Epoch 31/50\n",
      "907/907 - 15s - loss: 0.6545 - accuracy: 0.6998\n",
      "Epoch 32/50\n",
      "907/907 - 14s - loss: 0.6558 - accuracy: 0.7039\n",
      "Epoch 33/50\n",
      "907/907 - 15s - loss: 0.6187 - accuracy: 0.7137\n",
      "Epoch 34/50\n",
      "907/907 - 14s - loss: 0.6243 - accuracy: 0.7146\n",
      "Epoch 35/50\n",
      "907/907 - 14s - loss: 0.6276 - accuracy: 0.7079\n",
      "Epoch 36/50\n",
      "907/907 - 14s - loss: 0.6040 - accuracy: 0.7213\n",
      "Epoch 37/50\n",
      "907/907 - 15s - loss: 0.6097 - accuracy: 0.7066\n",
      "Epoch 38/50\n",
      "907/907 - 15s - loss: 0.6083 - accuracy: 0.7136\n",
      "Epoch 39/50\n",
      "907/907 - 15s - loss: 0.6005 - accuracy: 0.7150\n",
      "Epoch 40/50\n",
      "907/907 - 15s - loss: 0.5965 - accuracy: 0.7217\n",
      "Epoch 41/50\n",
      "907/907 - 15s - loss: 0.5794 - accuracy: 0.7224\n",
      "Epoch 42/50\n",
      "907/907 - 14s - loss: 0.5964 - accuracy: 0.7031\n",
      "Epoch 43/50\n",
      "907/907 - 15s - loss: 0.5907 - accuracy: 0.7286\n",
      "Epoch 44/50\n",
      "907/907 - 14s - loss: 0.5760 - accuracy: 0.7255\n",
      "Epoch 45/50\n",
      "907/907 - 15s - loss: 0.5825 - accuracy: 0.7314\n",
      "Epoch 46/50\n",
      "907/907 - 14s - loss: 0.5697 - accuracy: 0.7208\n",
      "Epoch 47/50\n",
      "907/907 - 14s - loss: 0.5776 - accuracy: 0.7257\n",
      "Epoch 48/50\n",
      "907/907 - 14s - loss: 0.5623 - accuracy: 0.7188\n",
      "Epoch 49/50\n",
      "907/907 - 15s - loss: 0.6092 - accuracy: 0.7215\n",
      "Epoch 50/50\n",
      "907/907 - 14s - loss: 0.5539 - accuracy: 0.7297\n",
      "57/57 - 3s\n",
      "Normalized confusion matrix\n",
      "                  precision    recall  f1-score   support\n",
      "\n",
      "  fridge/freezer       0.71      0.92      0.80       384\n",
      "electric furnace       0.52      0.76      0.61       128\n",
      "           light       0.74      0.55      0.63       638\n",
      "       microwave       0.19      0.85      0.31        62\n",
      "         sockets       0.80      0.50      0.61       601\n",
      "\n",
      "        accuracy                           0.64      1813\n",
      "       macro avg       0.59      0.72      0.59      1813\n",
      "    weighted avg       0.72      0.64      0.65      1813\n",
      "\n",
      "using dataset data redd training on model eco seed 42\n",
      "reading data, printing stats: \n",
      "['fridge/freezer', 'electric furnace', 'light', 'microwave', 'sockets']\n",
      "{0: 0.9442708333333333, 1: 2.8383561643835615, 2: 0.5683385579937305, 3: 5.824899598393574, 4: 0.6033277870216306}\n",
      " \n",
      "Tests \n",
      "fridge/freezer test: 384 train: 1536\n",
      "electric furnace test: 128 train: 511\n",
      "light test: 638 train: 2552\n",
      "microwave test: 62 train: 249\n",
      "sockets test: 601 train: 2404\n",
      "loading model\n",
      "compling TL model..\n"
     ]
    },
    {
     "name": "stderr",
     "output_type": "stream",
     "text": [
      "/usr/local/lib/python3.8/dist-packages/tensorflow/python/keras/optimizer_v2/optimizer_v2.py:374: UserWarning: The `lr` argument is deprecated, use `learning_rate` instead.\n",
      "  warnings.warn(\n"
     ]
    },
    {
     "name": "stdout",
     "output_type": "stream",
     "text": [
      "Normal way\n",
      "[0 1 2 3 4 5 6 7 8 9]\n",
      "Epoch 1/50\n",
      "907/907 - 15s - loss: 1.2001 - accuracy: 0.5283\n",
      "Epoch 2/50\n",
      "907/907 - 14s - loss: 0.8862 - accuracy: 0.6755\n",
      "Epoch 3/50\n",
      "907/907 - 15s - loss: 0.7905 - accuracy: 0.7106\n",
      "Epoch 4/50\n",
      "907/907 - 15s - loss: 0.7028 - accuracy: 0.7232\n",
      "Epoch 5/50\n",
      "907/907 - 15s - loss: 0.6235 - accuracy: 0.7370\n",
      "Epoch 6/50\n",
      "907/907 - 15s - loss: 0.6401 - accuracy: 0.7140\n",
      "Epoch 7/50\n",
      "907/907 - 14s - loss: 0.6087 - accuracy: 0.7351\n",
      "Epoch 8/50\n",
      "907/907 - 14s - loss: 0.5245 - accuracy: 0.7609\n",
      "Epoch 9/50\n",
      "907/907 - 14s - loss: 0.5240 - accuracy: 0.7643\n",
      "Epoch 10/50\n",
      "907/907 - 15s - loss: 0.5350 - accuracy: 0.7743\n",
      "Epoch 11/50\n",
      "907/907 - 15s - loss: 0.4804 - accuracy: 0.7769\n",
      "Epoch 12/50\n",
      "907/907 - 14s - loss: 0.4438 - accuracy: 0.7885\n",
      "Epoch 13/50\n",
      "907/907 - 15s - loss: 0.4550 - accuracy: 0.7984\n",
      "Epoch 14/50\n",
      "907/907 - 14s - loss: 0.4174 - accuracy: 0.8061\n",
      "Epoch 15/50\n",
      "907/907 - 14s - loss: 0.3975 - accuracy: 0.8093\n",
      "Epoch 16/50\n",
      "907/907 - 15s - loss: 0.4006 - accuracy: 0.8049\n",
      "Epoch 17/50\n",
      "907/907 - 14s - loss: 0.4265 - accuracy: 0.7990\n",
      "Epoch 18/50\n",
      "907/907 - 14s - loss: 0.3681 - accuracy: 0.8195\n",
      "Epoch 19/50\n",
      "907/907 - 14s - loss: 0.3844 - accuracy: 0.8145\n",
      "Epoch 20/50\n",
      "907/907 - 15s - loss: 0.3920 - accuracy: 0.8137\n",
      "Epoch 21/50\n",
      "907/907 - 15s - loss: 0.3506 - accuracy: 0.8236\n",
      "Epoch 22/50\n",
      "907/907 - 15s - loss: 0.3692 - accuracy: 0.8235\n",
      "Epoch 23/50\n",
      "907/907 - 15s - loss: 0.3579 - accuracy: 0.8239\n",
      "Epoch 24/50\n",
      "907/907 - 15s - loss: 0.3707 - accuracy: 0.8257\n",
      "Epoch 25/50\n",
      "907/907 - 14s - loss: 0.3743 - accuracy: 0.8348\n",
      "Epoch 26/50\n",
      "907/907 - 14s - loss: 0.3382 - accuracy: 0.8354\n",
      "Epoch 27/50\n",
      "907/907 - 14s - loss: 0.3690 - accuracy: 0.8297\n",
      "Epoch 28/50\n",
      "907/907 - 14s - loss: 0.3412 - accuracy: 0.8316\n",
      "Epoch 29/50\n",
      "907/907 - 14s - loss: 0.3101 - accuracy: 0.8447\n",
      "Epoch 30/50\n",
      "907/907 - 15s - loss: 0.3450 - accuracy: 0.8377\n",
      "Epoch 31/50\n",
      "907/907 - 14s - loss: 0.3759 - accuracy: 0.8318\n",
      "Epoch 32/50\n",
      "907/907 - 14s - loss: 0.3076 - accuracy: 0.8436\n",
      "Epoch 33/50\n",
      "907/907 - 14s - loss: 0.3490 - accuracy: 0.8384\n",
      "Epoch 34/50\n",
      "907/907 - 14s - loss: 0.3353 - accuracy: 0.8436\n",
      "Epoch 35/50\n",
      "907/907 - 14s - loss: 0.3689 - accuracy: 0.8411\n",
      "Epoch 36/50\n",
      "907/907 - 14s - loss: 0.3004 - accuracy: 0.8519\n",
      "Epoch 37/50\n",
      "907/907 - 14s - loss: 0.4390 - accuracy: 0.8337\n",
      "Epoch 38/50\n",
      "907/907 - 14s - loss: 0.3289 - accuracy: 0.8416\n",
      "Epoch 39/50\n",
      "907/907 - 15s - loss: 0.3505 - accuracy: 0.8330\n",
      "Epoch 40/50\n",
      "907/907 - 15s - loss: 0.3144 - accuracy: 0.8410\n",
      "Epoch 41/50\n",
      "907/907 - 14s - loss: 0.2884 - accuracy: 0.8548\n",
      "Epoch 42/50\n",
      "907/907 - 14s - loss: 0.3410 - accuracy: 0.8439\n",
      "Epoch 43/50\n",
      "907/907 - 15s - loss: 0.3105 - accuracy: 0.8538\n",
      "Epoch 44/50\n",
      "907/907 - 14s - loss: 0.2740 - accuracy: 0.8629\n",
      "Epoch 45/50\n",
      "907/907 - 15s - loss: 0.2623 - accuracy: 0.8631\n",
      "Epoch 46/50\n",
      "907/907 - 15s - loss: 0.3373 - accuracy: 0.8511\n",
      "Epoch 47/50\n",
      "907/907 - 14s - loss: 0.2605 - accuracy: 0.8603\n",
      "Epoch 48/50\n",
      "907/907 - 15s - loss: 0.2853 - accuracy: 0.8653\n",
      "Epoch 49/50\n",
      "907/907 - 14s - loss: 0.6386 - accuracy: 0.8571\n",
      "Epoch 50/50\n",
      "907/907 - 14s - loss: 0.3437 - accuracy: 0.8640\n",
      "57/57 - 3s\n",
      "Normalized confusion matrix\n",
      "                  precision    recall  f1-score   support\n",
      "\n",
      "  fridge/freezer       0.92      0.89      0.90       384\n",
      "electric furnace       0.88      0.94      0.91       128\n",
      "           light       0.77      0.75      0.76       638\n",
      "       microwave       0.31      0.77      0.44        62\n",
      "         sockets       0.80      0.70      0.75       601\n",
      "\n",
      "        accuracy                           0.78      1813\n",
      "       macro avg       0.73      0.81      0.75      1813\n",
      "    weighted avg       0.80      0.78      0.79      1813\n",
      "\n",
      "using dataset data redd training on model ukdale seed 42\n",
      "reading data, printing stats: \n",
      "['fridge/freezer', 'electric furnace', 'light', 'microwave', 'sockets']\n",
      "{0: 0.9442708333333333, 1: 2.8383561643835615, 2: 0.5683385579937305, 3: 5.824899598393574, 4: 0.6033277870216306}\n",
      " \n",
      "Tests \n",
      "fridge/freezer test: 384 train: 1536\n",
      "electric furnace test: 128 train: 511\n",
      "light test: 638 train: 2552\n",
      "microwave test: 62 train: 249\n",
      "sockets test: 601 train: 2404\n",
      "loading model\n",
      "compling TL model..\n"
     ]
    },
    {
     "name": "stderr",
     "output_type": "stream",
     "text": [
      "/usr/local/lib/python3.8/dist-packages/tensorflow/python/keras/optimizer_v2/optimizer_v2.py:374: UserWarning: The `lr` argument is deprecated, use `learning_rate` instead.\n",
      "  warnings.warn(\n"
     ]
    },
    {
     "name": "stdout",
     "output_type": "stream",
     "text": [
      "Normal way\n",
      "[0 1 2 3 4 5 6 7 8 9]\n",
      "Epoch 1/50\n",
      "907/907 - 15s - loss: 1.0039 - accuracy: 0.5867\n",
      "Epoch 2/50\n",
      "907/907 - 14s - loss: 0.7208 - accuracy: 0.6708\n",
      "Epoch 3/50\n",
      "907/907 - 14s - loss: 0.6366 - accuracy: 0.6926\n",
      "Epoch 4/50\n",
      "907/907 - 14s - loss: 0.6361 - accuracy: 0.7255\n",
      "Epoch 5/50\n",
      "907/907 - 14s - loss: 0.5278 - accuracy: 0.7358\n",
      "Epoch 6/50\n",
      "907/907 - 15s - loss: 0.4781 - accuracy: 0.7736\n",
      "Epoch 7/50\n",
      "907/907 - 14s - loss: 0.4702 - accuracy: 0.7772\n",
      "Epoch 8/50\n",
      "907/907 - 14s - loss: 0.4630 - accuracy: 0.7730\n",
      "Epoch 9/50\n",
      "907/907 - 14s - loss: 0.4552 - accuracy: 0.7787\n",
      "Epoch 10/50\n",
      "907/907 - 14s - loss: 0.3921 - accuracy: 0.8097\n",
      "Epoch 11/50\n",
      "907/907 - 14s - loss: 0.3692 - accuracy: 0.8079\n",
      "Epoch 12/50\n",
      "907/907 - 15s - loss: 0.3768 - accuracy: 0.8170\n",
      "Epoch 13/50\n",
      "907/907 - 15s - loss: 0.3759 - accuracy: 0.8141\n",
      "Epoch 14/50\n",
      "907/907 - 15s - loss: 0.3471 - accuracy: 0.8275\n",
      "Epoch 15/50\n",
      "907/907 - 14s - loss: 0.3441 - accuracy: 0.8325\n",
      "Epoch 16/50\n",
      "907/907 - 14s - loss: 0.3196 - accuracy: 0.8392\n",
      "Epoch 17/50\n",
      "907/907 - 14s - loss: 0.3185 - accuracy: 0.8371\n",
      "Epoch 18/50\n",
      "907/907 - 14s - loss: 0.3334 - accuracy: 0.8354\n",
      "Epoch 19/50\n",
      "907/907 - 14s - loss: 0.3271 - accuracy: 0.8468\n",
      "Epoch 20/50\n",
      "907/907 - 14s - loss: 0.2822 - accuracy: 0.8588\n",
      "Epoch 21/50\n",
      "907/907 - 14s - loss: 0.3113 - accuracy: 0.8509\n",
      "Epoch 22/50\n",
      "907/907 - 14s - loss: 0.2879 - accuracy: 0.8607\n",
      "Epoch 23/50\n",
      "907/907 - 14s - loss: 0.2729 - accuracy: 0.8591\n",
      "Epoch 24/50\n",
      "907/907 - 14s - loss: 0.2998 - accuracy: 0.8587\n",
      "Epoch 25/50\n",
      "907/907 - 15s - loss: 0.2688 - accuracy: 0.8602\n",
      "Epoch 26/50\n",
      "907/907 - 14s - loss: 0.2520 - accuracy: 0.8647\n",
      "Epoch 27/50\n",
      "907/907 - 14s - loss: 0.2621 - accuracy: 0.8658\n",
      "Epoch 28/50\n",
      "907/907 - 15s - loss: 0.2731 - accuracy: 0.8766\n",
      "Epoch 29/50\n",
      "907/907 - 14s - loss: 0.2290 - accuracy: 0.8751\n",
      "Epoch 30/50\n",
      "907/907 - 15s - loss: 0.2483 - accuracy: 0.8700\n",
      "Epoch 31/50\n",
      "907/907 - 14s - loss: 0.2265 - accuracy: 0.8843\n",
      "Epoch 32/50\n",
      "907/907 - 14s - loss: 0.2296 - accuracy: 0.8822\n",
      "Epoch 33/50\n",
      "907/907 - 14s - loss: 0.2293 - accuracy: 0.8776\n",
      "Epoch 34/50\n",
      "907/907 - 14s - loss: 0.2108 - accuracy: 0.8868\n",
      "Epoch 35/50\n",
      "907/907 - 14s - loss: 0.2268 - accuracy: 0.8755\n",
      "Epoch 36/50\n",
      "907/907 - 14s - loss: 0.2265 - accuracy: 0.8832\n",
      "Epoch 37/50\n",
      "907/907 - 15s - loss: 0.3047 - accuracy: 0.8734\n",
      "Epoch 38/50\n",
      "907/907 - 15s - loss: 0.2394 - accuracy: 0.8821\n",
      "Epoch 39/50\n",
      "907/907 - 14s - loss: 0.2041 - accuracy: 0.8884\n",
      "Epoch 40/50\n",
      "907/907 - 14s - loss: 0.2413 - accuracy: 0.8771\n",
      "Epoch 41/50\n",
      "907/907 - 14s - loss: 0.1976 - accuracy: 0.8973\n",
      "Epoch 42/50\n",
      "907/907 - 14s - loss: 0.2226 - accuracy: 0.8831\n",
      "Epoch 43/50\n",
      "907/907 - 14s - loss: 0.1829 - accuracy: 0.9018\n",
      "Epoch 44/50\n",
      "907/907 - 15s - loss: 0.1988 - accuracy: 0.8977\n",
      "Epoch 45/50\n",
      "907/907 - 14s - loss: 0.1907 - accuracy: 0.8999\n",
      "Epoch 46/50\n",
      "907/907 - 15s - loss: 0.2251 - accuracy: 0.8869\n",
      "Epoch 47/50\n",
      "907/907 - 14s - loss: 0.1867 - accuracy: 0.8971\n",
      "Epoch 48/50\n",
      "907/907 - 14s - loss: 0.1853 - accuracy: 0.9002\n",
      "Epoch 49/50\n",
      "907/907 - 14s - loss: 0.2156 - accuracy: 0.8908\n",
      "Epoch 50/50\n",
      "907/907 - 15s - loss: 0.2037 - accuracy: 0.8980\n",
      "57/57 - 3s\n",
      "Normalized confusion matrix\n",
      "                  precision    recall  f1-score   support\n",
      "\n",
      "  fridge/freezer       0.91      0.92      0.91       384\n",
      "electric furnace       0.85      0.96      0.90       128\n",
      "           light       0.82      0.72      0.77       638\n",
      "       microwave       0.48      0.77      0.59        62\n",
      "         sockets       0.75      0.78      0.77       601\n",
      "\n",
      "        accuracy                           0.80      1813\n",
      "       macro avg       0.76      0.83      0.79      1813\n",
      "    weighted avg       0.81      0.80      0.80      1813\n",
      "\n"
     ]
    },
    {
     "data": {
      "image/png": "[encoded data removed]",
      "text/plain": [
       "<Figure size 720x720 with 2 Axes>"
      ]
     },
     "metadata": {
      "needs_background": "light"
     },
     "output_type": "display_data"
    },
    {
     "data": {
      "image/png": "[encoded data removed]",
      "text/plain": [
       "<Figure size 720x720 with 2 Axes>"
      ]
     },
     "metadata": {
      "needs_background": "light"
     },
     "output_type": "display_data"
    },
    {
     "data": {
      "image/png": "[encoded data removed]",
      "text/plain": [
       "<Figure size 720x720 with 2 Axes>"
      ]
     },
     "metadata": {
      "needs_background": "light"
     },
     "output_type": "display_data"
    },
    {
     "data": {
      "image/png": "[encoded data removed]",
      "text/plain": [
       "<Figure size 720x720 with 2 Axes>"
      ]
     },
     "metadata": {
      "needs_background": "light"
     },
     "output_type": "display_data"
    }
   ],
   "source": [
    "# datasets =[\n",
    "#     \"ukdale_gen_GASF_13m_100S5X12A54480_R82_80-20\"\n",
    "# ]\n",
    "\n",
    "if environ['train_type'] == \"TL\": \n",
    "    models = environ['tl_datasets'].replace(\" \",\"\").split(\",\")\n",
    "    #model = [\"base\"]\n",
    "    \n",
    "    for model in models:\n",
    "    \n",
    "        file_name = dataset\n",
    "        \n",
    "        datasetTL = model\n",
    "        \n",
    "        seed = dataset.split(\"_R\")[1][0:2]\n",
    "        \n",
    "        print(\"using dataset data\",dataset.split(\"_\")[0],\"training on model\",model,\"seed\",environ['seed'])\n",
    "        txt_log.write(\"starting \"+dataset.split(\"_\")[0]+\" training on model \"+model+\" seed \"+environ['seed']+\"\\n\")\n",
    "\n",
    "\n",
    "        tf.keras.backend.clear_session()\n",
    "\n",
    "\n",
    "        #read the file\n",
    "        path = str(pathlib.Path().resolve())\n",
    "        path_data = f\"{path}\"\"/data/\"f\"{file_name}\"\"/\"f\"{file_name}\"\".hdf5\"\n",
    "        file = h5py.File(path_data,\"r+\")\n",
    "\n",
    "\n",
    "        print(\"reading data, printing stats: \")\n",
    "        x_test,y_test,d_class_weights,num_of_classes,appliances = get_data(file)\n",
    "        print(\"loading model\")\n",
    "        \n",
    "        model_seed = 42\n",
    "        model_used = create_tl_model(model,environ['learn_type'],model_seed,path,num_of_classes)\n",
    "                \n",
    "        train_gen = HDF5ImageGenerator(\n",
    "            src= path_data,\n",
    "            X_key=\"data/train/gaf\",\n",
    "            y_key=\"labels/train/gaf\",\n",
    "            classes_key=\"appliances/classes\",\n",
    "            labels_encoding=\"hot\",\n",
    "            shuffle=True,\n",
    "            batch_size=int(environ['batch_size']),\n",
    "            num_classes=num_of_classes,\n",
    "            mode=\"train\",\n",
    "            )\n",
    "\n",
    "        model_used.fit(\n",
    "            train_gen,\n",
    "            verbose=2,\n",
    "            epochs=int(environ['epochs']),\n",
    "            class_weight=d_class_weights,\n",
    "            callbacks = [save_op_callback]\n",
    "            #workers = 6,\n",
    "        )\n",
    "        \n",
    "        txt_log.write(\"finished \"+dataset.split(\"_\")[0]+\" training on model \"+model+\" seed \"+environ['seed']+\"\\n\")\n",
    "\n",
    "\n",
    "        evaluate_model(model_used,x_test,y_test,appliances)\n",
    "        \n",
    "\n",
    "\n",
    "\n",
    "        #del model_used\n",
    "\n"
   ]
  },
  {
   "cell_type": "code",
   "execution_count": 16,
   "metadata": {
    "execution": {
     "iopub.execute_input": "2022-02-05T04:32:52.444135Z",
     "iopub.status.busy": "2022-02-05T04:32:52.442932Z",
     "iopub.status.idle": "2022-02-05T04:32:52.445513Z",
     "shell.execute_reply": "2022-02-05T04:32:52.446548Z"
    }
   },
   "outputs": [],
   "source": [
    "txt_log.close()"
   ]
  },
  {
   "cell_type": "code",
   "execution_count": null,
   "metadata": {},
   "outputs": [],
   "source": []
  }
 ],
 "metadata": {
  "colab": {
   "authorship_tag": "ABX9TyMej4PvP65qsLng7TnQKWA4",
   "name": "LSTM-gen",
   "provenance": []
  },
  "kernelspec": {
   "display_name": "Python 3 (ipykernel)",
   "language": "python",
   "name": "python3"
  },
  "language_info": {
   "codemirror_mode": {
    "name": "ipython",
    "version": 3
   },
   "file_extension": ".py",
   "mimetype": "text/x-python",
   "name": "python",
   "nbconvert_exporter": "python",
   "pygments_lexer": "ipython3",
   "version": "3.8.10"
  }
 },
 "nbformat": 4,
 "nbformat_minor": 4
}
