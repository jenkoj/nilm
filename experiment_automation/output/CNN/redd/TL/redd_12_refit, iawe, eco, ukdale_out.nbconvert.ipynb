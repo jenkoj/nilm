{
 "cells": [
  {
   "cell_type": "code",
   "execution_count": 1,
   "metadata": {
    "execution": {
     "iopub.execute_input": "2022-02-05T02:55:25.809706Z",
     "iopub.status.busy": "2022-02-05T02:55:25.808276Z",
     "iopub.status.idle": "2022-02-05T02:55:28.708408Z",
     "shell.execute_reply": "2022-02-05T02:55:28.707177Z"
    },
    "id": "WqUfHWgtJxtu",
    "scrolled": true,
    "tags": []
   },
   "outputs": [
    {
     "name": "stderr",
     "output_type": "stream",
     "text": [
      "2022-02-05 02:55:27.207015: I tensorflow/stream_executor/platform/default/dso_loader.cc:54] Successfully opened dynamic library libcudart.so.11.0\n"
     ]
    },
    {
     "name": "stdout",
     "output_type": "stream",
     "text": [
      "2.5.0\n",
      "Num GPUs Available:  1\n"
     ]
    },
    {
     "name": "stderr",
     "output_type": "stream",
     "text": [
      "2022-02-05 02:55:28.592337: I tensorflow/stream_executor/platform/default/dso_loader.cc:54] Successfully opened dynamic library libcuda.so.1\n",
      "2022-02-05 02:55:28.643926: I tensorflow/core/common_runtime/gpu/gpu_device.cc:1734] Found device 0 with properties: \n",
      "pciBusID: 0000:21:00.0 name: NVIDIA GeForce RTX 2080 Ti computeCapability: 7.5\n",
      "coreClock: 1.545GHz coreCount: 68 deviceMemorySize: 10.76GiB deviceMemoryBandwidth: 573.69GiB/s\n",
      "2022-02-05 02:55:28.643980: I tensorflow/stream_executor/platform/default/dso_loader.cc:54] Successfully opened dynamic library libcudart.so.11.0\n",
      "2022-02-05 02:55:28.662106: I tensorflow/stream_executor/platform/default/dso_loader.cc:54] Successfully opened dynamic library libcublas.so.11\n",
      "2022-02-05 02:55:28.662179: I tensorflow/stream_executor/platform/default/dso_loader.cc:54] Successfully opened dynamic library libcublasLt.so.11\n",
      "2022-02-05 02:55:28.670459: I tensorflow/stream_executor/platform/default/dso_loader.cc:54] Successfully opened dynamic library libcufft.so.10\n",
      "2022-02-05 02:55:28.672629: I tensorflow/stream_executor/platform/default/dso_loader.cc:54] Successfully opened dynamic library libcurand.so.10\n",
      "2022-02-05 02:55:28.690275: I tensorflow/stream_executor/platform/default/dso_loader.cc:54] Successfully opened dynamic library libcutensor.so.1\n",
      "2022-02-05 02:55:28.692172: I tensorflow/stream_executor/platform/default/dso_loader.cc:54] Successfully opened dynamic library libcusolver.so.11\n",
      "2022-02-05 02:55:28.696855: I tensorflow/stream_executor/platform/default/dso_loader.cc:54] Successfully opened dynamic library libcusparse.so.11\n",
      "2022-02-05 02:55:28.697378: I tensorflow/stream_executor/platform/default/dso_loader.cc:54] Successfully opened dynamic library libcudnn.so.8\n",
      "2022-02-05 02:55:28.697937: I tensorflow/core/common_runtime/gpu/gpu_device.cc:1872] Adding visible gpu devices: 0\n"
     ]
    }
   ],
   "source": [
    "import h5py\n",
    "import numpy as np\n",
    "\n",
    "from sklearn.model_selection import train_test_split\n",
    "from sklearn.metrics import classification_report, confusion_matrix\n",
    "import matplotlib.pyplot as plt\n",
    "import itertools \n",
    "import pyts\n",
    "from pyts.approximation import PiecewiseAggregateApproximation\n",
    "\n",
    "from sklearn.utils import class_weight\n",
    "\n",
    "import pathlib\n",
    "import tensorflow as tf\n",
    "from tensorflow import keras\n",
    "from tensorflow.keras import layers, optimizers\n",
    "from tensorflow.keras.layers import Convolution2D,Conv2D, Dense,Dropout, Flatten, Activation, MaxPooling2D, Input, Conv1D, GlobalAveragePooling1D, TimeDistributed, GRU, LSTM\n",
    "\n",
    "print(tf.__version__)\n",
    "print(\"Num GPUs Available: \", len(tf.config.list_physical_devices('GPU')))\n",
    "gpus = tf.config.experimental.list_physical_devices('GPU')\n",
    "\n",
    "try:\n",
    "    for gpu in gpus:\n",
    "        tf.config.experimental.set_memory_growth(gpu, True)\n",
    "except RuntimeError as e:\n",
    "    print(e)"
   ]
  },
  {
   "cell_type": "code",
   "execution_count": 2,
   "metadata": {
    "execution": {
     "iopub.execute_input": "2022-02-05T02:55:28.714761Z",
     "iopub.status.busy": "2022-02-05T02:55:28.713685Z",
     "iopub.status.idle": "2022-02-05T02:55:28.717215Z",
     "shell.execute_reply": "2022-02-05T02:55:28.718063Z"
    }
   },
   "outputs": [
    {
     "name": "stdout",
     "output_type": "stream",
     "text": [
      "redd_gen_GASF_60m_300S0X_R12_80-20\n"
     ]
    }
   ],
   "source": [
    "from os import environ\n",
    "dataset = environ['dataset']\n",
    "print(dataset)"
   ]
  },
  {
   "cell_type": "code",
   "execution_count": 3,
   "metadata": {
    "execution": {
     "iopub.execute_input": "2022-02-05T02:55:28.725314Z",
     "iopub.status.busy": "2022-02-05T02:55:28.723966Z",
     "iopub.status.idle": "2022-02-05T02:55:28.728771Z",
     "shell.execute_reply": "2022-02-05T02:55:28.728365Z"
    }
   },
   "outputs": [],
   "source": [
    "#my defs \n",
    "from modules.models import  LSTM_3D_V56, CNN_V56,LSTM_BI_V56\n",
    "from modules.tools import my_print, plot_confusion_matrix_norm, get_data,get_data_split, evaluate_model, create_tl_model\n",
    "from modules.HDF5ImageGenerator import HDF5ImageGenerator"
   ]
  },
  {
   "cell_type": "code",
   "execution_count": 4,
   "metadata": {
    "execution": {
     "iopub.execute_input": "2022-02-05T02:55:28.735356Z",
     "iopub.status.busy": "2022-02-05T02:55:28.734108Z",
     "iopub.status.idle": "2022-02-05T02:55:28.736668Z",
     "shell.execute_reply": "2022-02-05T02:55:28.737647Z"
    },
    "id": "RT1vwq7-KOtB"
   },
   "outputs": [],
   "source": [
    "#LOAD DATASET\n",
    "#file_name = \"ukdale_gen_GASF_13m_100S5X12A54480\"\n",
    "#file_name = \"refit_gen_GASF_13m_100S5X_15A166006\"\n",
    "file_name = \"refit_gen_GASF_13m_100S5X_15A166006_R42-80-20\"\n",
    "#file_name = \"refit_gen_GASF_13m_100S5X_15A166006_R42_80-20\"\n",
    "file_name = \"refit_gen_GASF_60m_300S0X_15A157030N_R12_80-20-V1\"\n",
    "file_name = environ[\"dataset\"]\n",
    "#read the file\n",
    "path = str(pathlib.Path().resolve())\n",
    "\n",
    "path_data = f\"{path}\"\"/data/\"f\"{file_name}\"\"/\"f\"{file_name}\"\".hdf5\"\n",
    "\n",
    "file = h5py.File(path_data,\"r+\")"
   ]
  },
  {
   "cell_type": "code",
   "execution_count": 5,
   "metadata": {
    "execution": {
     "iopub.execute_input": "2022-02-05T02:55:28.743454Z",
     "iopub.status.busy": "2022-02-05T02:55:28.742275Z",
     "iopub.status.idle": "2022-02-05T02:55:29.108880Z",
     "shell.execute_reply": "2022-02-05T02:55:29.109864Z"
    },
    "scrolled": true
   },
   "outputs": [
    {
     "name": "stdout",
     "output_type": "stream",
     "text": [
      "['fridge/freezer', 'electric furnace', 'light', 'microwave', 'sockets']\n",
      "{0: 0.9442708333333333, 1: 2.8383561643835615, 2: 0.5683385579937305, 3: 5.824899598393574, 4: 0.6033277870216306}\n",
      " \n",
      "Tests \n",
      "fridge/freezer test: 384 train: 1536\n",
      "electric furnace test: 128 train: 511\n",
      "light test: 638 train: 2552\n",
      "microwave test: 62 train: 249\n",
      "sockets test: 601 train: 2404\n"
     ]
    }
   ],
   "source": [
    "x_test,y_test,d_class_weights,num_of_classes,appliances = get_data(file)"
   ]
  },
  {
   "cell_type": "code",
   "execution_count": 6,
   "metadata": {
    "execution": {
     "iopub.execute_input": "2022-02-05T02:55:29.117063Z",
     "iopub.status.busy": "2022-02-05T02:55:29.115861Z",
     "iopub.status.idle": "2022-02-05T02:55:29.118330Z",
     "shell.execute_reply": "2022-02-05T02:55:29.119295Z"
    }
   },
   "outputs": [],
   "source": [
    "def select_model(learn_type):\n",
    "    \n",
    "    if learn_type == \"CNN\":\n",
    "        model = CNN_V56(file[\"data/train/gaf\"][0:10],num_of_classes,lr= 0.00002)\n",
    "\n",
    "    if learn_type == \"LSTM\":\n",
    "        model = LSTM_3D_V56(file[\"data/train/gaf\"][0:10],num_of_classes,lr= 0.00002)\n",
    "\n",
    "    if learn_type == \"BI_LSTM\":\n",
    "        model = LSTM_BI_V56(file[\"data/train/gaf\"][0:10],num_of_classes,lr= 0.00002)\n",
    "\n",
    "    return model\n",
    "              "
   ]
  },
  {
   "cell_type": "code",
   "execution_count": 7,
   "metadata": {
    "execution": {
     "iopub.execute_input": "2022-02-05T02:55:29.125839Z",
     "iopub.status.busy": "2022-02-05T02:55:29.124636Z",
     "iopub.status.idle": "2022-02-05T02:55:29.127101Z",
     "shell.execute_reply": "2022-02-05T02:55:29.128054Z"
    }
   },
   "outputs": [],
   "source": [
    "path_save = path+'/experiment_automation/output/'+environ['learn_type']+'/'+dataset.split(\"_\")[0]+\"/\"+environ['train_type']+\"/\"+dataset.split(\"_\")[0]+\"_\"+environ['seed']+\"_\"+environ['tl_datasets']\n",
    "path_save_nb = path_save+\"_out.ipynb\"\n",
    "path_save_log = path_save+\"_out_log2.txt\""
   ]
  },
  {
   "cell_type": "code",
   "execution_count": 8,
   "metadata": {
    "execution": {
     "iopub.execute_input": "2022-02-05T02:55:29.135440Z",
     "iopub.status.busy": "2022-02-05T02:55:29.134235Z",
     "iopub.status.idle": "2022-02-05T02:55:29.348953Z",
     "shell.execute_reply": "2022-02-05T02:55:29.349649Z"
    }
   },
   "outputs": [],
   "source": [
    "from keras.callbacks import LambdaCallback\n",
    "#path_log= path+'/experiment_automation/output/'+environ['learn_type']+'/'+dataset.split(\"_\")[0]+\"/\"+environ['train_type']+\"/\"+dataset.split(\"_\")[0]+\"_\"+environ['seed']+\"_\"+environ['tl_datasets']+\"_log.txt\"\n",
    "txt_log = open(path_save+\"_log.txt\", mode='wt', buffering=1)\n",
    "txt_log.write(\"file created! \\n\")\n",
    "\n",
    "save_op_callback = LambdaCallback(\n",
    "  on_epoch_end = lambda epoch, logs: txt_log.write(\n",
    "    str({'epoch': epoch, 'loss': logs['loss'],'acc': logs['accuracy']}) + '\\n'),\n",
    "                                                           \n",
    ")"
   ]
  },
  {
   "cell_type": "code",
   "execution_count": 9,
   "metadata": {
    "execution": {
     "iopub.execute_input": "2022-02-05T02:55:29.357253Z",
     "iopub.status.busy": "2022-02-05T02:55:29.355087Z",
     "iopub.status.idle": "2022-02-05T02:55:29.359682Z",
     "shell.execute_reply": "2022-02-05T02:55:29.358328Z"
    }
   },
   "outputs": [
    {
     "name": "stdout",
     "output_type": "stream",
     "text": [
      "/workspace/notebooks/experiment_automation/output/CNN/redd/TL/redd_12_refit, iawe, eco, ukdale_out.ipynb\n"
     ]
    }
   ],
   "source": [
    "print(path_save_nb)"
   ]
  },
  {
   "cell_type": "code",
   "execution_count": 10,
   "metadata": {
    "execution": {
     "iopub.execute_input": "2022-02-05T02:55:29.365386Z",
     "iopub.status.busy": "2022-02-05T02:55:29.364117Z",
     "iopub.status.idle": "2022-02-05T02:55:29.366374Z",
     "shell.execute_reply": "2022-02-05T02:55:29.366764Z"
    }
   },
   "outputs": [],
   "source": [
    "# rm $path_save_log"
   ]
  },
  {
   "cell_type": "code",
   "execution_count": 11,
   "metadata": {
    "execution": {
     "iopub.execute_input": "2022-02-05T02:55:29.370822Z",
     "iopub.status.busy": "2022-02-05T02:55:29.370368Z",
     "iopub.status.idle": "2022-02-05T02:55:29.373723Z",
     "shell.execute_reply": "2022-02-05T02:55:29.374111Z"
    }
   },
   "outputs": [],
   "source": [
    "# %%capture cap \n",
    "\n",
    "# with open(path_save_log,\"wt\") as f:\n",
    "#     f.write(cap.stdout)\n",
    "    \n",
    "# print(\"out capture..\")"
   ]
  },
  {
   "cell_type": "code",
   "execution_count": 12,
   "metadata": {
    "execution": {
     "iopub.execute_input": "2022-02-05T02:55:29.391151Z",
     "iopub.status.busy": "2022-02-05T02:55:29.390125Z",
     "iopub.status.idle": "2022-02-05T02:55:29.392399Z",
     "shell.execute_reply": "2022-02-05T02:55:29.392837Z"
    },
    "id": "vqA9NwOqKrb5",
    "jupyter": {
     "outputs_hidden": true
    },
    "tags": []
   },
   "outputs": [],
   "source": [
    "# %%capture cap --no-stderr\n",
    "\n",
    "\n",
    "if environ['train_type'] == \"BB\":\n",
    "\n",
    "    #define generator\n",
    "    train_gen = HDF5ImageGenerator(\n",
    "        src= path_data,\n",
    "        X_key=\"data/train/gaf\",\n",
    "        y_key=\"labels/train/gaf\",\n",
    "        classes_key=\"appliances/classes\",\n",
    "        labels_encoding=\"hot\",\n",
    "        shuffle=True,\n",
    "        batch_size=int(environ['batch_size']),\n",
    "        num_classes=num_of_classes,\n",
    "        mode=\"train\",\n",
    "        )\n",
    "    \n",
    "    model = select_model(environ['learn_type'])\n",
    "    \n",
    "    txt_log.write(\"fitting BB model: \\n\")\n",
    "    \n",
    "    model.fit(\n",
    "        train_gen,\n",
    "        verbose=2,\n",
    "        epochs=int(environ['epochs']),\n",
    "        class_weight=d_class_weights,\n",
    "        callbacks = [save_op_callback],\n",
    "    )\n",
    "    \n",
    "    txt_log.write(\"finished fitting BB model: \\n\")\n",
    "\n",
    "    evaluate_model(model,x_test,y_test,appliances)\n",
    "    \n",
    "    if environ['save_model']==\"True\":\n",
    "\n",
    "        path_model_save = path+\"/models/\"+environ['learn_type']+\"/\"+dataset.split(\"_\")[0]+\"_\"+dataset.split(\"_R\")[1][0:2]\n",
    "        model.save(path_model_save)\n",
    "        txt_log.write(\"model saved to:\"+\"/models/\"+environ['learn_type']+\"/\"+dataset.split(\"_\")[0]+\"_\"+dataset.split(\"_R\")[1][0:2]+\" \\n\")\n",
    "        \n",
    "        \n",
    "# with open(path_save+\"_out_log.txt\" as f:\n",
    "#     f.write(cap.stdout)\n"
   ]
  },
  {
   "cell_type": "code",
   "execution_count": 13,
   "metadata": {
    "collapsed": true,
    "execution": {
     "iopub.execute_input": "2022-02-05T02:55:29.398452Z",
     "iopub.status.busy": "2022-02-05T02:55:29.397171Z",
     "iopub.status.idle": "2022-02-05T02:55:29.399630Z",
     "shell.execute_reply": "2022-02-05T02:55:29.400044Z"
    }
   },
   "outputs": [],
   "source": [
    "#model = keras.models.load_model(path_model1)\n",
    "# model_used = model"
   ]
  },
  {
   "cell_type": "code",
   "execution_count": 14,
   "metadata": {
    "collapsed": true,
    "execution": {
     "iopub.execute_input": "2022-02-05T02:55:29.403792Z",
     "iopub.status.busy": "2022-02-05T02:55:29.403310Z",
     "iopub.status.idle": "2022-02-05T02:55:29.406413Z",
     "shell.execute_reply": "2022-02-05T02:55:29.406834Z"
    },
    "jupyter": {
     "outputs_hidden": true
    },
    "tags": []
   },
   "outputs": [],
   "source": [
    "# evaluate_model(model,x_test,y_test,appliances)"
   ]
  },
  {
   "cell_type": "code",
   "execution_count": 15,
   "metadata": {
    "collapsed": true,
    "execution": {
     "iopub.execute_input": "2022-02-05T02:55:29.426771Z",
     "iopub.status.busy": "2022-02-05T02:55:29.426118Z",
     "iopub.status.idle": "2022-02-05T03:44:09.272375Z",
     "shell.execute_reply": "2022-02-05T03:44:09.273366Z"
    }
   },
   "outputs": [
    {
     "name": "stdout",
     "output_type": "stream",
     "text": [
      "using dataset data redd training on model refit seed 12\n",
      "reading data, printing stats: \n",
      "['fridge/freezer', 'electric furnace', 'light', 'microwave', 'sockets']\n",
      "{0: 0.9442708333333333, 1: 2.8383561643835615, 2: 0.5683385579937305, 3: 5.824899598393574, 4: 0.6033277870216306}\n",
      " \n",
      "Tests \n",
      "fridge/freezer test: 384 train: 1536\n",
      "electric furnace test: 128 train: 511\n",
      "light test: 638 train: 2552\n",
      "microwave test: 62 train: 249\n",
      "sockets test: 601 train: 2404\n",
      "loading model\n",
      "compling TL model..\n"
     ]
    },
    {
     "name": "stderr",
     "output_type": "stream",
     "text": [
      "2022-02-05 02:55:29.797339: I tensorflow/core/common_runtime/gpu/gpu_device.cc:1734] Found device 0 with properties: \n",
      "pciBusID: 0000:21:00.0 name: NVIDIA GeForce RTX 2080 Ti computeCapability: 7.5\n",
      "coreClock: 1.545GHz coreCount: 68 deviceMemorySize: 10.76GiB deviceMemoryBandwidth: 573.69GiB/s\n",
      "2022-02-05 02:55:29.797673: I tensorflow/core/common_runtime/gpu/gpu_device.cc:1872] Adding visible gpu devices: 0\n",
      "2022-02-05 02:55:29.800045: I tensorflow/stream_executor/platform/default/dso_loader.cc:54] Successfully opened dynamic library libcudart.so.11.0\n",
      "2022-02-05 02:55:30.760517: I tensorflow/core/common_runtime/gpu/gpu_device.cc:1258] Device interconnect StreamExecutor with strength 1 edge matrix:\n",
      "2022-02-05 02:55:30.760582: I tensorflow/core/common_runtime/gpu/gpu_device.cc:1264]      0 \n",
      "2022-02-05 02:55:30.760670: I tensorflow/core/common_runtime/gpu/gpu_device.cc:1277] 0:   N \n",
      "2022-02-05 02:55:30.761297: I tensorflow/core/common_runtime/gpu/gpu_device.cc:1418] Created TensorFlow device (/job:localhost/replica:0/task:0/device:GPU:0 with 9649 MB memory) -> physical GPU (device: 0, name: NVIDIA GeForce RTX 2080 Ti, pci bus id: 0000:21:00.0, compute capability: 7.5)\n",
      "2022-02-05 02:55:30.761888: I tensorflow/core/common_runtime/process_util.cc:146] Creating new thread pool with default inter op setting: 20. Tune using inter_op_parallelism_threads for best performance.\n"
     ]
    },
    {
     "name": "stdout",
     "output_type": "stream",
     "text": [
      "Normal way\n",
      "[0 1 2 3 4 5 6 7 8 9]\n",
      "WARNING:tensorflow:From /usr/local/lib/python3.8/dist-packages/tensorflow/python/ops/array_ops.py:5043: calling gather (from tensorflow.python.ops.array_ops) with validate_indices is deprecated and will be removed in a future version.\n",
      "Instructions for updating:\n",
      "The `validate_indices` argument has no effect. Indices are always validated on CPU and never validated on GPU.\n"
     ]
    },
    {
     "name": "stderr",
     "output_type": "stream",
     "text": [
      "/usr/local/lib/python3.8/dist-packages/tensorflow/python/keras/optimizer_v2/optimizer_v2.py:374: UserWarning: The `lr` argument is deprecated, use `learning_rate` instead.\n",
      "  warnings.warn(\n",
      "2022-02-05 02:55:31.321166: I tensorflow/compiler/mlir/mlir_graph_optimization_pass.cc:176] None of the MLIR Optimization Passes are enabled (registered 2)\n",
      "2022-02-05 02:55:31.340652: I tensorflow/core/platform/profile_utils/cpu_utils.cc:114] CPU Frequency: 3299990000 Hz\n"
     ]
    },
    {
     "name": "stdout",
     "output_type": "stream",
     "text": [
      "Epoch 1/50\n"
     ]
    },
    {
     "name": "stderr",
     "output_type": "stream",
     "text": [
      "2022-02-05 02:55:31.828251: I tensorflow/stream_executor/platform/default/dso_loader.cc:54] Successfully opened dynamic library libcudnn.so.8\n",
      "2022-02-05 02:55:32.564047: I tensorflow/stream_executor/cuda/cuda_dnn.cc:380] Loaded cuDNN version 8202\n",
      "2022-02-05 02:55:33.395482: I tensorflow/stream_executor/platform/default/dso_loader.cc:54] Successfully opened dynamic library libcublas.so.11\n",
      "2022-02-05 02:55:34.155949: I tensorflow/stream_executor/platform/default/dso_loader.cc:54] Successfully opened dynamic library libcublasLt.so.11\n"
     ]
    },
    {
     "name": "stdout",
     "output_type": "stream",
     "text": [
      "907/907 - 17s - loss: 0.9914 - accuracy: 0.5753\n",
      "Epoch 2/50\n",
      "907/907 - 14s - loss: 0.7016 - accuracy: 0.6835\n",
      "Epoch 3/50\n",
      "907/907 - 15s - loss: 0.6059 - accuracy: 0.7067\n",
      "Epoch 4/50\n",
      "907/907 - 15s - loss: 0.5765 - accuracy: 0.7183\n",
      "Epoch 5/50\n",
      "907/907 - 14s - loss: 0.5218 - accuracy: 0.7380\n",
      "Epoch 6/50\n",
      "907/907 - 15s - loss: 0.4889 - accuracy: 0.7483\n",
      "Epoch 7/50\n",
      "907/907 - 14s - loss: 0.4672 - accuracy: 0.7627\n",
      "Epoch 8/50\n",
      "907/907 - 14s - loss: 0.4682 - accuracy: 0.7768\n",
      "Epoch 9/50\n",
      "907/907 - 14s - loss: 0.4243 - accuracy: 0.7813\n",
      "Epoch 10/50\n",
      "907/907 - 14s - loss: 0.4335 - accuracy: 0.7828\n",
      "Epoch 11/50\n",
      "907/907 - 14s - loss: 0.4143 - accuracy: 0.7814\n",
      "Epoch 12/50\n",
      "907/907 - 14s - loss: 0.4079 - accuracy: 0.7954\n",
      "Epoch 13/50\n",
      "907/907 - 14s - loss: 0.3987 - accuracy: 0.7943\n",
      "Epoch 14/50\n",
      "907/907 - 14s - loss: 0.3788 - accuracy: 0.7967\n",
      "Epoch 15/50\n",
      "907/907 - 15s - loss: 0.3764 - accuracy: 0.8034\n",
      "Epoch 16/50\n",
      "907/907 - 14s - loss: 0.3852 - accuracy: 0.8018\n",
      "Epoch 17/50\n",
      "907/907 - 14s - loss: 0.3615 - accuracy: 0.8038\n",
      "Epoch 18/50\n",
      "907/907 - 14s - loss: 0.3545 - accuracy: 0.8078\n",
      "Epoch 19/50\n",
      "907/907 - 15s - loss: 0.3693 - accuracy: 0.8024\n",
      "Epoch 20/50\n",
      "907/907 - 15s - loss: 0.3596 - accuracy: 0.8087\n",
      "Epoch 21/50\n",
      "907/907 - 14s - loss: 0.3440 - accuracy: 0.8090\n",
      "Epoch 22/50\n",
      "907/907 - 14s - loss: 0.3154 - accuracy: 0.8286\n",
      "Epoch 23/50\n",
      "907/907 - 14s - loss: 0.3212 - accuracy: 0.8210\n",
      "Epoch 24/50\n",
      "907/907 - 14s - loss: 0.3334 - accuracy: 0.8108\n",
      "Epoch 25/50\n",
      "907/907 - 14s - loss: 0.3212 - accuracy: 0.8220\n",
      "Epoch 26/50\n",
      "907/907 - 15s - loss: 0.3466 - accuracy: 0.8228\n",
      "Epoch 27/50\n",
      "907/907 - 15s - loss: 0.3035 - accuracy: 0.8258\n",
      "Epoch 28/50\n",
      "907/907 - 15s - loss: 0.2964 - accuracy: 0.8286\n",
      "Epoch 29/50\n",
      "907/907 - 14s - loss: 0.2983 - accuracy: 0.8309\n",
      "Epoch 30/50\n",
      "907/907 - 14s - loss: 0.3368 - accuracy: 0.8199\n",
      "Epoch 31/50\n",
      "907/907 - 14s - loss: 0.2974 - accuracy: 0.8296\n",
      "Epoch 32/50\n",
      "907/907 - 14s - loss: 0.3114 - accuracy: 0.8304\n",
      "Epoch 33/50\n",
      "907/907 - 14s - loss: 0.2779 - accuracy: 0.8298\n",
      "Epoch 34/50\n",
      "907/907 - 15s - loss: 0.2843 - accuracy: 0.8341\n",
      "Epoch 35/50\n",
      "907/907 - 14s - loss: 0.3253 - accuracy: 0.8272\n",
      "Epoch 36/50\n",
      "907/907 - 14s - loss: 0.3212 - accuracy: 0.8214\n",
      "Epoch 37/50\n",
      "907/907 - 14s - loss: 0.2891 - accuracy: 0.8373\n",
      "Epoch 38/50\n",
      "907/907 - 14s - loss: 0.3538 - accuracy: 0.8173\n",
      "Epoch 39/50\n",
      "907/907 - 15s - loss: 0.2766 - accuracy: 0.8429\n",
      "Epoch 40/50\n",
      "907/907 - 14s - loss: 0.3200 - accuracy: 0.8231\n",
      "Epoch 41/50\n",
      "907/907 - 15s - loss: 0.2650 - accuracy: 0.8487\n",
      "Epoch 42/50\n",
      "907/907 - 14s - loss: 0.2558 - accuracy: 0.8540\n",
      "Epoch 43/50\n",
      "907/907 - 14s - loss: 0.2532 - accuracy: 0.8542\n",
      "Epoch 44/50\n",
      "907/907 - 15s - loss: 0.2935 - accuracy: 0.8416\n",
      "Epoch 45/50\n",
      "907/907 - 15s - loss: 0.2666 - accuracy: 0.8508\n",
      "Epoch 46/50\n",
      "907/907 - 15s - loss: 0.2402 - accuracy: 0.8622\n",
      "Epoch 47/50\n",
      "907/907 - 14s - loss: 0.2478 - accuracy: 0.8618\n",
      "Epoch 48/50\n",
      "907/907 - 14s - loss: 0.2459 - accuracy: 0.8606\n",
      "Epoch 49/50\n",
      "907/907 - 14s - loss: 0.2638 - accuracy: 0.8551\n",
      "Epoch 50/50\n",
      "907/907 - 14s - loss: 0.2442 - accuracy: 0.8628\n",
      "57/57 - 3s\n",
      "Normalized confusion matrix\n",
      "                  precision    recall  f1-score   support\n",
      "\n",
      "  fridge/freezer       0.86      0.95      0.90       384\n",
      "electric furnace       0.77      0.85      0.81       128\n",
      "           light       0.79      0.65      0.71       638\n",
      "       microwave       0.30      0.76      0.43        62\n",
      "         sockets       0.80      0.76      0.78       601\n",
      "\n",
      "        accuracy                           0.77      1813\n",
      "       macro avg       0.70      0.79      0.73      1813\n",
      "    weighted avg       0.79      0.77      0.77      1813\n",
      "\n",
      "using dataset data redd training on model iawe seed 12\n",
      "reading data, printing stats: \n",
      "['fridge/freezer', 'electric furnace', 'light', 'microwave', 'sockets']\n",
      "{0: 0.9442708333333333, 1: 2.8383561643835615, 2: 0.5683385579937305, 3: 5.824899598393574, 4: 0.6033277870216306}\n",
      " \n",
      "Tests \n",
      "fridge/freezer test: 384 train: 1536\n",
      "electric furnace test: 128 train: 511\n",
      "light test: 638 train: 2552\n",
      "microwave test: 62 train: 249\n",
      "sockets test: 601 train: 2404\n",
      "loading model\n",
      "compling TL model..\n"
     ]
    },
    {
     "name": "stderr",
     "output_type": "stream",
     "text": [
      "/usr/local/lib/python3.8/dist-packages/tensorflow/python/keras/optimizer_v2/optimizer_v2.py:374: UserWarning: The `lr` argument is deprecated, use `learning_rate` instead.\n",
      "  warnings.warn(\n"
     ]
    },
    {
     "name": "stdout",
     "output_type": "stream",
     "text": [
      "Normal way\n",
      "[0 1 2 3 4 5 6 7 8 9]\n",
      "Epoch 1/50\n",
      "907/907 - 15s - loss: 1.5372 - accuracy: 0.4213\n",
      "Epoch 2/50\n",
      "907/907 - 15s - loss: 1.4263 - accuracy: 0.4086\n",
      "Epoch 3/50\n",
      "907/907 - 14s - loss: 1.4729 - accuracy: 0.3172\n",
      "Epoch 4/50\n",
      "907/907 - 15s - loss: 1.4240 - accuracy: 0.3669\n",
      "Epoch 5/50\n",
      "907/907 - 14s - loss: 1.4038 - accuracy: 0.3309\n",
      "Epoch 6/50\n",
      "907/907 - 14s - loss: 1.4023 - accuracy: 0.3304\n",
      "Epoch 7/50\n",
      "907/907 - 14s - loss: 1.3848 - accuracy: 0.3704\n",
      "Epoch 8/50\n",
      "907/907 - 14s - loss: 1.3678 - accuracy: 0.4055\n",
      "Epoch 9/50\n",
      "907/907 - 14s - loss: 1.3875 - accuracy: 0.3636\n",
      "Epoch 10/50\n",
      "907/907 - 15s - loss: 1.3855 - accuracy: 0.3181\n",
      "Epoch 11/50\n",
      "907/907 - 15s - loss: 1.3541 - accuracy: 0.4200\n",
      "Epoch 12/50\n",
      "907/907 - 14s - loss: 1.3556 - accuracy: 0.4367\n",
      "Epoch 13/50\n",
      "907/907 - 14s - loss: 1.3219 - accuracy: 0.4654\n",
      "Epoch 14/50\n",
      "907/907 - 14s - loss: 1.2995 - accuracy: 0.4814\n",
      "Epoch 15/50\n",
      "907/907 - 14s - loss: 1.2587 - accuracy: 0.4881\n",
      "Epoch 16/50\n",
      "907/907 - 15s - loss: 1.2375 - accuracy: 0.4744\n",
      "Epoch 17/50\n",
      "907/907 - 14s - loss: 1.2812 - accuracy: 0.5040\n",
      "Epoch 18/50\n",
      "907/907 - 14s - loss: 1.2380 - accuracy: 0.5891\n",
      "Epoch 19/50\n",
      "907/907 - 15s - loss: 1.2073 - accuracy: 0.5957\n",
      "Epoch 20/50\n",
      "907/907 - 14s - loss: 1.2616 - accuracy: 0.5541\n",
      "Epoch 21/50\n",
      "907/907 - 15s - loss: 1.1712 - accuracy: 0.5906\n",
      "Epoch 22/50\n",
      "907/907 - 15s - loss: 1.1163 - accuracy: 0.6151\n",
      "Epoch 23/50\n",
      "907/907 - 14s - loss: 1.0884 - accuracy: 0.6187\n",
      "Epoch 24/50\n",
      "907/907 - 14s - loss: 1.0803 - accuracy: 0.6237\n",
      "Epoch 25/50\n",
      "907/907 - 14s - loss: 1.0603 - accuracy: 0.6284\n",
      "Epoch 26/50\n",
      "907/907 - 14s - loss: 1.0476 - accuracy: 0.6365\n",
      "Epoch 27/50\n",
      "907/907 - 14s - loss: 1.0535 - accuracy: 0.6260\n",
      "Epoch 28/50\n",
      "907/907 - 14s - loss: 1.0435 - accuracy: 0.6186\n",
      "Epoch 29/50\n",
      "907/907 - 15s - loss: 1.0253 - accuracy: 0.6262\n",
      "Epoch 30/50\n",
      "907/907 - 14s - loss: 1.0240 - accuracy: 0.6238\n",
      "Epoch 31/50\n",
      "907/907 - 14s - loss: 1.0197 - accuracy: 0.6269\n",
      "Epoch 32/50\n",
      "907/907 - 14s - loss: 1.0451 - accuracy: 0.6095\n",
      "Epoch 33/50\n",
      "907/907 - 14s - loss: 1.0169 - accuracy: 0.6266\n",
      "Epoch 34/50\n",
      "907/907 - 15s - loss: 1.0095 - accuracy: 0.6333\n",
      "Epoch 35/50\n",
      "907/907 - 14s - loss: 1.0241 - accuracy: 0.6157\n",
      "Epoch 36/50\n",
      "907/907 - 14s - loss: 0.9993 - accuracy: 0.6278\n",
      "Epoch 37/50\n",
      "907/907 - 14s - loss: 0.9840 - accuracy: 0.6378\n",
      "Epoch 38/50\n",
      "907/907 - 14s - loss: 1.0170 - accuracy: 0.6276\n",
      "Epoch 39/50\n",
      "907/907 - 14s - loss: 1.0022 - accuracy: 0.6395\n",
      "Epoch 40/50\n",
      "907/907 - 14s - loss: 0.9834 - accuracy: 0.6380\n",
      "Epoch 41/50\n",
      "907/907 - 14s - loss: 1.0065 - accuracy: 0.6154\n",
      "Epoch 42/50\n",
      "907/907 - 15s - loss: 0.9673 - accuracy: 0.6311\n",
      "Epoch 43/50\n",
      "907/907 - 15s - loss: 0.9543 - accuracy: 0.5932\n",
      "Epoch 44/50\n",
      "907/907 - 14s - loss: 1.0337 - accuracy: 0.6153\n",
      "Epoch 45/50\n",
      "907/907 - 14s - loss: 0.9419 - accuracy: 0.6405\n",
      "Epoch 46/50\n",
      "907/907 - 14s - loss: 0.9861 - accuracy: 0.5651\n",
      "Epoch 47/50\n",
      "907/907 - 14s - loss: 0.9129 - accuracy: 0.5841\n",
      "Epoch 48/50\n",
      "907/907 - 15s - loss: 0.9350 - accuracy: 0.5858\n",
      "Epoch 49/50\n",
      "907/907 - 14s - loss: 0.9432 - accuracy: 0.5598\n",
      "Epoch 50/50\n",
      "907/907 - 14s - loss: 0.9993 - accuracy: 0.5447\n",
      "57/57 - 3s\n",
      "Normalized confusion matrix\n",
      "                  precision    recall  f1-score   support\n",
      "\n",
      "  fridge/freezer       0.64      0.79      0.71       384\n",
      "electric furnace       0.85      0.54      0.66       128\n",
      "           light       0.69      0.48      0.56       638\n",
      "       microwave       0.12      0.87      0.21        62\n",
      "         sockets       0.81      0.49      0.61       601\n",
      "\n",
      "        accuracy                           0.57      1813\n",
      "       macro avg       0.62      0.63      0.55      1813\n",
      "    weighted avg       0.71      0.57      0.60      1813\n",
      "\n",
      "using dataset data redd training on model eco seed 12\n",
      "reading data, printing stats: \n",
      "['fridge/freezer', 'electric furnace', 'light', 'microwave', 'sockets']\n",
      "{0: 0.9442708333333333, 1: 2.8383561643835615, 2: 0.5683385579937305, 3: 5.824899598393574, 4: 0.6033277870216306}\n",
      " \n",
      "Tests \n",
      "fridge/freezer test: 384 train: 1536\n",
      "electric furnace test: 128 train: 511\n",
      "light test: 638 train: 2552\n",
      "microwave test: 62 train: 249\n",
      "sockets test: 601 train: 2404\n",
      "loading model\n",
      "compling TL model..\n"
     ]
    },
    {
     "name": "stderr",
     "output_type": "stream",
     "text": [
      "/usr/local/lib/python3.8/dist-packages/tensorflow/python/keras/optimizer_v2/optimizer_v2.py:374: UserWarning: The `lr` argument is deprecated, use `learning_rate` instead.\n",
      "  warnings.warn(\n"
     ]
    },
    {
     "name": "stdout",
     "output_type": "stream",
     "text": [
      "Normal way\n",
      "[0 1 2 3 4 5 6 7 8 9]\n",
      "Epoch 1/50\n",
      "907/907 - 15s - loss: 1.0846 - accuracy: 0.5855\n",
      "Epoch 2/50\n",
      "907/907 - 14s - loss: 0.8986 - accuracy: 0.6354\n",
      "Epoch 3/50\n",
      "907/907 - 15s - loss: 0.7280 - accuracy: 0.6732\n",
      "Epoch 4/50\n",
      "907/907 - 14s - loss: 0.6808 - accuracy: 0.7035\n",
      "Epoch 5/50\n",
      "907/907 - 14s - loss: 0.7324 - accuracy: 0.7044\n",
      "Epoch 6/50\n",
      "907/907 - 15s - loss: 0.6166 - accuracy: 0.7172\n",
      "Epoch 7/50\n",
      "907/907 - 15s - loss: 0.6211 - accuracy: 0.7363\n",
      "Epoch 8/50\n",
      "907/907 - 15s - loss: 0.4945 - accuracy: 0.7686\n",
      "Epoch 9/50\n",
      "907/907 - 15s - loss: 0.4897 - accuracy: 0.7667\n",
      "Epoch 10/50\n",
      "907/907 - 14s - loss: 0.4548 - accuracy: 0.7728\n",
      "Epoch 11/50\n",
      "907/907 - 14s - loss: 0.4716 - accuracy: 0.7721\n",
      "Epoch 12/50\n",
      "907/907 - 14s - loss: 0.4367 - accuracy: 0.7938\n",
      "Epoch 13/50\n",
      "907/907 - 15s - loss: 0.4262 - accuracy: 0.7904\n",
      "Epoch 14/50\n",
      "907/907 - 15s - loss: 0.4190 - accuracy: 0.7921\n",
      "Epoch 15/50\n",
      "907/907 - 15s - loss: 0.4182 - accuracy: 0.7925\n",
      "Epoch 16/50\n",
      "907/907 - 14s - loss: 0.4084 - accuracy: 0.8028\n",
      "Epoch 17/50\n",
      "907/907 - 14s - loss: 0.3799 - accuracy: 0.8067\n",
      "Epoch 18/50\n",
      "907/907 - 15s - loss: 0.3989 - accuracy: 0.8021\n",
      "Epoch 19/50\n",
      "907/907 - 14s - loss: 0.3746 - accuracy: 0.8148\n",
      "Epoch 20/50\n",
      "907/907 - 15s - loss: 0.3623 - accuracy: 0.8165\n",
      "Epoch 21/50\n",
      "907/907 - 14s - loss: 0.3839 - accuracy: 0.8149\n",
      "Epoch 22/50\n",
      "907/907 - 15s - loss: 0.3542 - accuracy: 0.8192\n",
      "Epoch 23/50\n",
      "907/907 - 14s - loss: 0.3641 - accuracy: 0.8064\n",
      "Epoch 24/50\n",
      "907/907 - 14s - loss: 0.4589 - accuracy: 0.8041\n",
      "Epoch 25/50\n",
      "907/907 - 15s - loss: 0.3886 - accuracy: 0.8087\n",
      "Epoch 26/50\n",
      "907/907 - 14s - loss: 0.3527 - accuracy: 0.8202\n",
      "Epoch 27/50\n",
      "907/907 - 15s - loss: 0.3442 - accuracy: 0.8209\n",
      "Epoch 28/50\n",
      "907/907 - 14s - loss: 0.3327 - accuracy: 0.8282\n",
      "Epoch 29/50\n",
      "907/907 - 15s - loss: 0.3571 - accuracy: 0.8225\n",
      "Epoch 30/50\n",
      "907/907 - 14s - loss: 0.3602 - accuracy: 0.8213\n",
      "Epoch 31/50\n",
      "907/907 - 15s - loss: 0.3275 - accuracy: 0.8276\n",
      "Epoch 32/50\n",
      "907/907 - 15s - loss: 0.3358 - accuracy: 0.8330\n",
      "Epoch 33/50\n",
      "907/907 - 15s - loss: 0.3447 - accuracy: 0.8220\n",
      "Epoch 34/50\n",
      "907/907 - 15s - loss: 0.3586 - accuracy: 0.8223\n",
      "Epoch 35/50\n",
      "907/907 - 14s - loss: 0.3319 - accuracy: 0.8257\n",
      "Epoch 36/50\n",
      "907/907 - 14s - loss: 0.3291 - accuracy: 0.8308\n",
      "Epoch 37/50\n",
      "907/907 - 15s - loss: 0.3489 - accuracy: 0.8287\n",
      "Epoch 38/50\n",
      "907/907 - 14s - loss: 0.3300 - accuracy: 0.8301\n",
      "Epoch 39/50\n",
      "907/907 - 15s - loss: 0.3145 - accuracy: 0.8403\n",
      "Epoch 40/50\n",
      "907/907 - 15s - loss: 0.3212 - accuracy: 0.8371\n",
      "Epoch 41/50\n",
      "907/907 - 15s - loss: 0.3277 - accuracy: 0.8334\n",
      "Epoch 42/50\n",
      "907/907 - 14s - loss: 0.3036 - accuracy: 0.8425\n",
      "Epoch 43/50\n",
      "907/907 - 14s - loss: 0.3086 - accuracy: 0.8378\n",
      "Epoch 44/50\n",
      "907/907 - 14s - loss: 0.3330 - accuracy: 0.8344\n",
      "Epoch 45/50\n",
      "907/907 - 14s - loss: 0.3428 - accuracy: 0.8367\n",
      "Epoch 46/50\n",
      "907/907 - 14s - loss: 0.3043 - accuracy: 0.8447\n",
      "Epoch 47/50\n",
      "907/907 - 15s - loss: 0.2896 - accuracy: 0.8443\n",
      "Epoch 48/50\n",
      "907/907 - 14s - loss: 0.2984 - accuracy: 0.8406\n",
      "Epoch 49/50\n",
      "907/907 - 14s - loss: 0.3828 - accuracy: 0.8300\n",
      "Epoch 50/50\n",
      "907/907 - 15s - loss: 0.3385 - accuracy: 0.8305\n",
      "57/57 - 3s\n",
      "Normalized confusion matrix\n",
      "                  precision    recall  f1-score   support\n",
      "\n",
      "  fridge/freezer       0.89      0.88      0.89       384\n",
      "electric furnace       0.93      0.88      0.90       128\n",
      "           light       0.75      0.81      0.78       638\n",
      "       microwave       0.37      0.66      0.48        62\n",
      "         sockets       0.83      0.71      0.77       601\n",
      "\n",
      "        accuracy                           0.79      1813\n",
      "       macro avg       0.75      0.79      0.76      1813\n",
      "    weighted avg       0.81      0.79      0.80      1813\n",
      "\n",
      "using dataset data redd training on model ukdale seed 12\n",
      "reading data, printing stats: \n",
      "['fridge/freezer', 'electric furnace', 'light', 'microwave', 'sockets']\n",
      "{0: 0.9442708333333333, 1: 2.8383561643835615, 2: 0.5683385579937305, 3: 5.824899598393574, 4: 0.6033277870216306}\n",
      " \n",
      "Tests \n",
      "fridge/freezer test: 384 train: 1536\n",
      "electric furnace test: 128 train: 511\n",
      "light test: 638 train: 2552\n",
      "microwave test: 62 train: 249\n",
      "sockets test: 601 train: 2404\n",
      "loading model\n",
      "compling TL model..\n"
     ]
    },
    {
     "name": "stderr",
     "output_type": "stream",
     "text": [
      "/usr/local/lib/python3.8/dist-packages/tensorflow/python/keras/optimizer_v2/optimizer_v2.py:374: UserWarning: The `lr` argument is deprecated, use `learning_rate` instead.\n",
      "  warnings.warn(\n"
     ]
    },
    {
     "name": "stdout",
     "output_type": "stream",
     "text": [
      "Normal way\n",
      "[0 1 2 3 4 5 6 7 8 9]\n",
      "Epoch 1/50\n",
      "907/907 - 15s - loss: 1.4403 - accuracy: 0.3388\n",
      "Epoch 2/50\n",
      "907/907 - 14s - loss: 1.2306 - accuracy: 0.3836\n",
      "Epoch 3/50\n",
      "907/907 - 14s - loss: 1.1320 - accuracy: 0.4178\n",
      "Epoch 4/50\n",
      "907/907 - 14s - loss: 0.9228 - accuracy: 0.5909\n",
      "Epoch 5/50\n",
      "907/907 - 14s - loss: 0.7602 - accuracy: 0.6434\n",
      "Epoch 6/50\n",
      "907/907 - 14s - loss: 0.6874 - accuracy: 0.6879\n",
      "Epoch 7/50\n",
      "907/907 - 14s - loss: 0.5764 - accuracy: 0.7132\n",
      "Epoch 8/50\n",
      "907/907 - 15s - loss: 0.5398 - accuracy: 0.7195\n",
      "Epoch 9/50\n",
      "907/907 - 14s - loss: 0.5000 - accuracy: 0.7428\n",
      "Epoch 10/50\n",
      "907/907 - 15s - loss: 0.4513 - accuracy: 0.7624\n",
      "Epoch 11/50\n",
      "907/907 - 14s - loss: 0.4346 - accuracy: 0.7690\n",
      "Epoch 12/50\n",
      "907/907 - 14s - loss: 0.4223 - accuracy: 0.7820\n",
      "Epoch 13/50\n",
      "907/907 - 15s - loss: 0.3935 - accuracy: 0.8123\n",
      "Epoch 14/50\n",
      "907/907 - 15s - loss: 0.3639 - accuracy: 0.8145\n",
      "Epoch 15/50\n",
      "907/907 - 14s - loss: 0.4569 - accuracy: 0.8018\n",
      "Epoch 16/50\n",
      "907/907 - 15s - loss: 0.3862 - accuracy: 0.8287\n",
      "Epoch 17/50\n",
      "907/907 - 14s - loss: 0.4012 - accuracy: 0.8243\n",
      "Epoch 18/50\n",
      "907/907 - 15s - loss: 0.3671 - accuracy: 0.8351\n",
      "Epoch 19/50\n",
      "907/907 - 14s - loss: 0.3199 - accuracy: 0.8420\n",
      "Epoch 20/50\n",
      "907/907 - 14s - loss: 0.2992 - accuracy: 0.8502\n",
      "Epoch 21/50\n",
      "907/907 - 15s - loss: 0.3073 - accuracy: 0.8445\n",
      "Epoch 22/50\n",
      "907/907 - 15s - loss: 0.3631 - accuracy: 0.8547\n",
      "Epoch 23/50\n",
      "907/907 - 14s - loss: 0.3717 - accuracy: 0.8516\n",
      "Epoch 24/50\n",
      "907/907 - 15s - loss: 0.2776 - accuracy: 0.8581\n",
      "Epoch 25/50\n",
      "907/907 - 14s - loss: 0.3019 - accuracy: 0.8538\n",
      "Epoch 26/50\n",
      "907/907 - 14s - loss: 0.2637 - accuracy: 0.8613\n",
      "Epoch 27/50\n",
      "907/907 - 14s - loss: 0.2683 - accuracy: 0.8602\n",
      "Epoch 28/50\n",
      "907/907 - 15s - loss: 0.2649 - accuracy: 0.8617\n",
      "Epoch 29/50\n",
      "907/907 - 14s - loss: 0.2663 - accuracy: 0.8660\n",
      "Epoch 30/50\n",
      "907/907 - 15s - loss: 0.2698 - accuracy: 0.8613\n",
      "Epoch 31/50\n",
      "907/907 - 14s - loss: 0.2537 - accuracy: 0.8698\n",
      "Epoch 32/50\n",
      "907/907 - 14s - loss: 0.2450 - accuracy: 0.8709\n",
      "Epoch 33/50\n",
      "907/907 - 14s - loss: 0.2365 - accuracy: 0.8762\n",
      "Epoch 34/50\n",
      "907/907 - 14s - loss: 0.2359 - accuracy: 0.8734\n",
      "Epoch 35/50\n",
      "907/907 - 14s - loss: 0.2987 - accuracy: 0.8596\n",
      "Epoch 36/50\n",
      "907/907 - 15s - loss: 0.2385 - accuracy: 0.8730\n",
      "Epoch 37/50\n",
      "907/907 - 15s - loss: 0.2547 - accuracy: 0.8737\n",
      "Epoch 38/50\n",
      "907/907 - 14s - loss: 0.2163 - accuracy: 0.8810\n",
      "Epoch 39/50\n",
      "907/907 - 14s - loss: 0.2340 - accuracy: 0.8821\n",
      "Epoch 40/50\n",
      "907/907 - 14s - loss: 0.2679 - accuracy: 0.8748\n",
      "Epoch 41/50\n",
      "907/907 - 14s - loss: 0.2192 - accuracy: 0.8891\n",
      "Epoch 42/50\n",
      "907/907 - 14s - loss: 0.2353 - accuracy: 0.8769\n",
      "Epoch 43/50\n",
      "907/907 - 15s - loss: 0.2176 - accuracy: 0.8850\n",
      "Epoch 44/50\n",
      "907/907 - 15s - loss: 0.2283 - accuracy: 0.8822\n",
      "Epoch 45/50\n",
      "907/907 - 14s - loss: 0.2246 - accuracy: 0.8867\n",
      "Epoch 46/50\n",
      "907/907 - 15s - loss: 0.2588 - accuracy: 0.8700\n",
      "Epoch 47/50\n",
      "907/907 - 14s - loss: 0.2244 - accuracy: 0.8850\n",
      "Epoch 48/50\n",
      "907/907 - 15s - loss: 0.2261 - accuracy: 0.8875\n",
      "Epoch 49/50\n",
      "907/907 - 14s - loss: 0.2088 - accuracy: 0.8883\n",
      "Epoch 50/50\n",
      "907/907 - 14s - loss: 0.2079 - accuracy: 0.8900\n",
      "57/57 - 3s\n",
      "Normalized confusion matrix\n",
      "                  precision    recall  f1-score   support\n",
      "\n",
      "  fridge/freezer       0.91      0.92      0.91       384\n",
      "electric furnace       0.87      0.87      0.87       128\n",
      "           light       0.79      0.76      0.77       638\n",
      "       microwave       0.33      0.87      0.48        62\n",
      "         sockets       0.84      0.73      0.78       601\n",
      "\n",
      "        accuracy                           0.79      1813\n",
      "       macro avg       0.75      0.83      0.76      1813\n",
      "    weighted avg       0.82      0.79      0.80      1813\n",
      "\n"
     ]
    },
    {
     "data": {
      "image/png": "[encoded data removed]",
      "text/plain": [
       "<Figure size 720x720 with 2 Axes>"
      ]
     },
     "metadata": {
      "needs_background": "light"
     },
     "output_type": "display_data"
    },
    {
     "data": {
      "image/png": "[encoded data removed]",
      "text/plain": [
       "<Figure size 720x720 with 2 Axes>"
      ]
     },
     "metadata": {
      "needs_background": "light"
     },
     "output_type": "display_data"
    },
    {
     "data": {
      "image/png": "[encoded data removed]",
      "text/plain": [
       "<Figure size 720x720 with 2 Axes>"
      ]
     },
     "metadata": {
      "needs_background": "light"
     },
     "output_type": "display_data"
    },
    {
     "data": {
      "image/png": "[encoded data removed]",
      "text/plain": [
       "<Figure size 720x720 with 2 Axes>"
      ]
     },
     "metadata": {
      "needs_background": "light"
     },
     "output_type": "display_data"
    }
   ],
   "source": [
    "# datasets =[\n",
    "#     \"ukdale_gen_GASF_13m_100S5X12A54480_R82_80-20\"\n",
    "# ]\n",
    "\n",
    "if environ['train_type'] == \"TL\": \n",
    "    models = environ['tl_datasets'].replace(\" \",\"\").split(\",\")\n",
    "    #model = [\"base\"]\n",
    "    \n",
    "    for model in models:\n",
    "    \n",
    "        file_name = dataset\n",
    "        \n",
    "        datasetTL = model\n",
    "        \n",
    "        seed = dataset.split(\"_R\")[1][0:2]\n",
    "        \n",
    "        print(\"using dataset data\",dataset.split(\"_\")[0],\"training on model\",model,\"seed\",environ['seed'])\n",
    "        txt_log.write(\"starting \"+dataset.split(\"_\")[0]+\" training on model \"+model+\" seed \"+environ['seed']+\"\\n\")\n",
    "\n",
    "\n",
    "        tf.keras.backend.clear_session()\n",
    "\n",
    "\n",
    "        #read the file\n",
    "        path = str(pathlib.Path().resolve())\n",
    "        path_data = f\"{path}\"\"/data/\"f\"{file_name}\"\"/\"f\"{file_name}\"\".hdf5\"\n",
    "        file = h5py.File(path_data,\"r+\")\n",
    "\n",
    "\n",
    "        print(\"reading data, printing stats: \")\n",
    "        x_test,y_test,d_class_weights,num_of_classes,appliances = get_data(file)\n",
    "        print(\"loading model\")\n",
    "        \n",
    "        model_seed = 42\n",
    "        model_used = create_tl_model(model,environ['learn_type'],model_seed,path,num_of_classes)\n",
    "                \n",
    "        train_gen = HDF5ImageGenerator(\n",
    "            src= path_data,\n",
    "            X_key=\"data/train/gaf\",\n",
    "            y_key=\"labels/train/gaf\",\n",
    "            classes_key=\"appliances/classes\",\n",
    "            labels_encoding=\"hot\",\n",
    "            shuffle=True,\n",
    "            batch_size=int(environ['batch_size']),\n",
    "            num_classes=num_of_classes,\n",
    "            mode=\"train\",\n",
    "            )\n",
    "\n",
    "        model_used.fit(\n",
    "            train_gen,\n",
    "            verbose=2,\n",
    "            epochs=int(environ['epochs']),\n",
    "            class_weight=d_class_weights,\n",
    "            callbacks = [save_op_callback]\n",
    "            #workers = 6,\n",
    "        )\n",
    "        \n",
    "        txt_log.write(\"finished \"+dataset.split(\"_\")[0]+\" training on model \"+model+\" seed \"+environ['seed']+\"\\n\")\n",
    "\n",
    "\n",
    "        evaluate_model(model_used,x_test,y_test,appliances)\n",
    "        \n",
    "\n",
    "\n",
    "\n",
    "        #del model_used\n",
    "\n"
   ]
  },
  {
   "cell_type": "code",
   "execution_count": 16,
   "metadata": {
    "execution": {
     "iopub.execute_input": "2022-02-05T03:44:09.280587Z",
     "iopub.status.busy": "2022-02-05T03:44:09.279403Z",
     "iopub.status.idle": "2022-02-05T03:44:09.281990Z",
     "shell.execute_reply": "2022-02-05T03:44:09.282958Z"
    }
   },
   "outputs": [],
   "source": [
    "txt_log.close()"
   ]
  },
  {
   "cell_type": "code",
   "execution_count": null,
   "metadata": {},
   "outputs": [],
   "source": []
  }
 ],
 "metadata": {
  "colab": {
   "authorship_tag": "ABX9TyMej4PvP65qsLng7TnQKWA4",
   "name": "LSTM-gen",
   "provenance": []
  },
  "kernelspec": {
   "display_name": "Python 3 (ipykernel)",
   "language": "python",
   "name": "python3"
  },
  "language_info": {
   "codemirror_mode": {
    "name": "ipython",
    "version": 3
   },
   "file_extension": ".py",
   "mimetype": "text/x-python",
   "name": "python",
   "nbconvert_exporter": "python",
   "pygments_lexer": "ipython3",
   "version": "3.8.10"
  }
 },
 "nbformat": 4,
 "nbformat_minor": 4
}
