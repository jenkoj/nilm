{
 "cells": [
  {
   "cell_type": "code",
   "execution_count": 1,
   "metadata": {
    "execution": {
     "iopub.execute_input": "2022-02-11T14:55:27.960583Z",
     "iopub.status.busy": "2022-02-11T14:55:27.959134Z",
     "iopub.status.idle": "2022-02-11T14:55:29.679151Z",
     "shell.execute_reply": "2022-02-11T14:55:29.679494Z"
    },
    "id": "WqUfHWgtJxtu",
    "scrolled": true,
    "tags": []
   },
   "outputs": [
    {
     "name": "stderr",
     "output_type": "stream",
     "text": [
      "2022-02-11 14:55:28.812955: I tensorflow/stream_executor/platform/default/dso_loader.cc:54] Successfully opened dynamic library libcudart.so.11.0\n"
     ]
    },
    {
     "name": "stdout",
     "output_type": "stream",
     "text": [
      "2.5.0\n",
      "Num GPUs Available:  1\n"
     ]
    },
    {
     "name": "stderr",
     "output_type": "stream",
     "text": [
      "2022-02-11 14:55:29.614516: I tensorflow/stream_executor/platform/default/dso_loader.cc:54] Successfully opened dynamic library libcuda.so.1\n",
      "2022-02-11 14:55:29.662650: I tensorflow/core/common_runtime/gpu/gpu_device.cc:1734] Found device 0 with properties: \n",
      "pciBusID: 0000:21:00.0 name: NVIDIA GeForce RTX 2080 Ti computeCapability: 7.5\n",
      "coreClock: 1.545GHz coreCount: 68 deviceMemorySize: 10.76GiB deviceMemoryBandwidth: 573.69GiB/s\n",
      "2022-02-11 14:55:29.662697: I tensorflow/stream_executor/platform/default/dso_loader.cc:54] Successfully opened dynamic library libcudart.so.11.0\n",
      "2022-02-11 14:55:29.666817: I tensorflow/stream_executor/platform/default/dso_loader.cc:54] Successfully opened dynamic library libcublas.so.11\n",
      "2022-02-11 14:55:29.666886: I tensorflow/stream_executor/platform/default/dso_loader.cc:54] Successfully opened dynamic library libcublasLt.so.11\n",
      "2022-02-11 14:55:29.668840: I tensorflow/stream_executor/platform/default/dso_loader.cc:54] Successfully opened dynamic library libcufft.so.10\n",
      "2022-02-11 14:55:29.669175: I tensorflow/stream_executor/platform/default/dso_loader.cc:54] Successfully opened dynamic library libcurand.so.10\n",
      "2022-02-11 14:55:29.669904: I tensorflow/stream_executor/platform/default/dso_loader.cc:54] Successfully opened dynamic library libcutensor.so.1\n",
      "2022-02-11 14:55:29.670352: I tensorflow/stream_executor/platform/default/dso_loader.cc:54] Successfully opened dynamic library libcusolver.so.11\n",
      "2022-02-11 14:55:29.671023: I tensorflow/stream_executor/platform/default/dso_loader.cc:54] Successfully opened dynamic library libcusparse.so.11\n",
      "2022-02-11 14:55:29.671184: I tensorflow/stream_executor/platform/default/dso_loader.cc:54] Successfully opened dynamic library libcudnn.so.8\n",
      "2022-02-11 14:55:29.671557: I tensorflow/core/common_runtime/gpu/gpu_device.cc:1872] Adding visible gpu devices: 0\n"
     ]
    }
   ],
   "source": [
    "import h5py\n",
    "import numpy as np\n",
    "\n",
    "from sklearn.model_selection import train_test_split\n",
    "from sklearn.metrics import classification_report, confusion_matrix\n",
    "import matplotlib.pyplot as plt\n",
    "import itertools \n",
    "import pyts\n",
    "from pyts.approximation import PiecewiseAggregateApproximation\n",
    "\n",
    "from sklearn.utils import class_weight\n",
    "\n",
    "import pathlib\n",
    "import tensorflow as tf\n",
    "from tensorflow import keras\n",
    "from tensorflow.keras import layers, optimizers\n",
    "from tensorflow.keras.layers import Convolution2D,Conv2D, Dense,Dropout, Flatten, Activation, MaxPooling2D, Input, Conv1D, GlobalAveragePooling1D, TimeDistributed, GRU, LSTM\n",
    "\n",
    "print(tf.__version__)\n",
    "print(\"Num GPUs Available: \", len(tf.config.list_physical_devices('GPU')))\n",
    "gpus = tf.config.experimental.list_physical_devices('GPU')\n",
    "\n",
    "try:\n",
    "    for gpu in gpus:\n",
    "        tf.config.experimental.set_memory_growth(gpu, True)\n",
    "except RuntimeError as e:\n",
    "    print(e)"
   ]
  },
  {
   "cell_type": "code",
   "execution_count": 2,
   "metadata": {
    "execution": {
     "iopub.execute_input": "2022-02-11T14:55:29.686155Z",
     "iopub.status.busy": "2022-02-11T14:55:29.685720Z",
     "iopub.status.idle": "2022-02-11T14:55:29.690049Z",
     "shell.execute_reply": "2022-02-11T14:55:29.689469Z"
    }
   },
   "outputs": [
    {
     "name": "stdout",
     "output_type": "stream",
     "text": [
      "redd_gen_GASF_60m_300S0X_R12_80-20\n"
     ]
    }
   ],
   "source": [
    "from os import environ\n",
    "dataset = environ['dataset']\n",
    "print(dataset)"
   ]
  },
  {
   "cell_type": "code",
   "execution_count": 3,
   "metadata": {
    "execution": {
     "iopub.execute_input": "2022-02-11T14:55:29.697024Z",
     "iopub.status.busy": "2022-02-11T14:55:29.696433Z",
     "iopub.status.idle": "2022-02-11T14:55:29.703253Z",
     "shell.execute_reply": "2022-02-11T14:55:29.702191Z"
    }
   },
   "outputs": [],
   "source": [
    "#my defs \n",
    "from modules.models import  LSTM_3D_V56, CNN_V56,LSTM_BI_V56\n",
    "from modules.tools import my_print, plot_confusion_matrix_norm, get_data,get_data_split, evaluate_model, create_tl_model\n",
    "from modules.HDF5ImageGenerator import HDF5ImageGenerator"
   ]
  },
  {
   "cell_type": "code",
   "execution_count": 4,
   "metadata": {
    "execution": {
     "iopub.execute_input": "2022-02-11T14:55:29.714508Z",
     "iopub.status.busy": "2022-02-11T14:55:29.713205Z",
     "iopub.status.idle": "2022-02-11T14:55:29.717778Z",
     "shell.execute_reply": "2022-02-11T14:55:29.716678Z"
    },
    "id": "RT1vwq7-KOtB"
   },
   "outputs": [],
   "source": [
    "#LOAD DATASET\n",
    "#file_name = \"ukdale_gen_GASF_13m_100S5X12A54480\"\n",
    "#file_name = \"refit_gen_GASF_13m_100S5X_15A166006\"\n",
    "file_name = \"refit_gen_GASF_13m_100S5X_15A166006_R42-80-20\"\n",
    "#file_name = \"refit_gen_GASF_13m_100S5X_15A166006_R42_80-20\"\n",
    "file_name = \"refit_gen_GASF_60m_300S0X_15A157030N_R12_80-20-V1\"\n",
    "file_name = environ[\"dataset\"]\n",
    "#read the file\n",
    "path = str(pathlib.Path().resolve())\n",
    "\n",
    "path_data = f\"{path}\"\"/data/\"f\"{file_name}\"\"/\"f\"{file_name}\"\".hdf5\"\n",
    "\n",
    "file = h5py.File(path_data,\"r+\")"
   ]
  },
  {
   "cell_type": "code",
   "execution_count": 5,
   "metadata": {
    "execution": {
     "iopub.execute_input": "2022-02-11T14:55:29.726349Z",
     "iopub.status.busy": "2022-02-11T14:55:29.725081Z",
     "iopub.status.idle": "2022-02-11T14:55:30.075458Z",
     "shell.execute_reply": "2022-02-11T14:55:30.076531Z"
    },
    "scrolled": true
   },
   "outputs": [
    {
     "name": "stdout",
     "output_type": "stream",
     "text": [
      "['fridge/freezer', 'electric furnace', 'light', 'microwave', 'sockets']\n",
      "{0: 0.9442708333333333, 1: 2.8383561643835615, 2: 0.5683385579937305, 3: 5.824899598393574, 4: 0.6033277870216306}\n",
      " \n",
      "Tests \n",
      "fridge/freezer test: 384 train: 1536\n",
      "electric furnace test: 128 train: 511\n",
      "light test: 638 train: 2552\n",
      "microwave test: 62 train: 249\n",
      "sockets test: 601 train: 2404\n"
     ]
    }
   ],
   "source": [
    "x_test,y_test,d_class_weights,num_of_classes,appliances = get_data(file)"
   ]
  },
  {
   "cell_type": "code",
   "execution_count": 6,
   "metadata": {
    "execution": {
     "iopub.execute_input": "2022-02-11T14:55:30.083757Z",
     "iopub.status.busy": "2022-02-11T14:55:30.082474Z",
     "iopub.status.idle": "2022-02-11T14:55:30.085147Z",
     "shell.execute_reply": "2022-02-11T14:55:30.086187Z"
    }
   },
   "outputs": [],
   "source": [
    "def select_model(learn_type):\n",
    "    \n",
    "    if learn_type == \"CNN\":\n",
    "        model = CNN_V56(file[\"data/train/gaf\"][0:10],num_of_classes,lr= 0.00002)\n",
    "\n",
    "    if learn_type == \"LSTM\":\n",
    "        model = LSTM_3D_V56(file[\"data/train/gaf\"][0:10],num_of_classes,lr= 0.00002)\n",
    "\n",
    "    if learn_type == \"BI_LSTM\":\n",
    "        model = LSTM_BI_V56(file[\"data/train/gaf\"][0:10],num_of_classes,lr= 0.00002)\n",
    "\n",
    "    return model\n",
    "              "
   ]
  },
  {
   "cell_type": "code",
   "execution_count": 7,
   "metadata": {
    "execution": {
     "iopub.execute_input": "2022-02-11T14:55:30.093330Z",
     "iopub.status.busy": "2022-02-11T14:55:30.092013Z",
     "iopub.status.idle": "2022-02-11T14:55:30.094711Z",
     "shell.execute_reply": "2022-02-11T14:55:30.095749Z"
    }
   },
   "outputs": [],
   "source": [
    "path_save = path+'/experiment_automation/output/'+environ['learn_type']+'/'+dataset.split(\"_\")[0]+\"/\"+environ['train_type']+\"/\"+dataset.split(\"_\")[0]+\"_\"+environ['seed']+\"_\"+environ['tl_datasets']\n",
    "path_save_nb = path_save+\"_out.ipynb\"\n",
    "path_save_log = path_save+\"_out_log2.txt\""
   ]
  },
  {
   "cell_type": "code",
   "execution_count": 8,
   "metadata": {
    "execution": {
     "iopub.execute_input": "2022-02-11T14:55:30.103700Z",
     "iopub.status.busy": "2022-02-11T14:55:30.102407Z",
     "iopub.status.idle": "2022-02-11T14:55:30.190973Z",
     "shell.execute_reply": "2022-02-11T14:55:30.191998Z"
    }
   },
   "outputs": [],
   "source": [
    "from keras.callbacks import LambdaCallback\n",
    "#path_log= path+'/experiment_automation/output/'+environ['learn_type']+'/'+dataset.split(\"_\")[0]+\"/\"+environ['train_type']+\"/\"+dataset.split(\"_\")[0]+\"_\"+environ['seed']+\"_\"+environ['tl_datasets']+\"_log.txt\"\n",
    "txt_log = open(path_save+\"_log.txt\", mode='wt', buffering=1)\n",
    "txt_log.write(\"file created! \\n\")\n",
    "\n",
    "save_op_callback = LambdaCallback(\n",
    "  on_epoch_end = lambda epoch, logs: txt_log.write(\n",
    "    str({'epoch': epoch, 'loss': logs['loss'],'acc': logs['accuracy']}) + '\\n'),\n",
    "                                                           \n",
    ")"
   ]
  },
  {
   "cell_type": "code",
   "execution_count": 9,
   "metadata": {
    "execution": {
     "iopub.execute_input": "2022-02-11T14:55:30.197993Z",
     "iopub.status.busy": "2022-02-11T14:55:30.196732Z",
     "iopub.status.idle": "2022-02-11T14:55:30.202061Z",
     "shell.execute_reply": "2022-02-11T14:55:30.200936Z"
    }
   },
   "outputs": [
    {
     "name": "stdout",
     "output_type": "stream",
     "text": [
      "/workspace/notebooks/experiment_automation/output/CNN/redd/BB/redd_12__out.ipynb\n"
     ]
    }
   ],
   "source": [
    "print(path_save_nb)"
   ]
  },
  {
   "cell_type": "code",
   "execution_count": 10,
   "metadata": {
    "execution": {
     "iopub.execute_input": "2022-02-11T14:55:30.207492Z",
     "iopub.status.busy": "2022-02-11T14:55:30.206332Z",
     "iopub.status.idle": "2022-02-11T14:55:30.208757Z",
     "shell.execute_reply": "2022-02-11T14:55:30.209710Z"
    }
   },
   "outputs": [],
   "source": [
    "# rm $path_save_log"
   ]
  },
  {
   "cell_type": "code",
   "execution_count": 11,
   "metadata": {
    "execution": {
     "iopub.execute_input": "2022-02-11T14:55:30.214852Z",
     "iopub.status.busy": "2022-02-11T14:55:30.213684Z",
     "iopub.status.idle": "2022-02-11T14:55:30.216449Z",
     "shell.execute_reply": "2022-02-11T14:55:30.217513Z"
    }
   },
   "outputs": [],
   "source": [
    "# %%capture cap \n",
    "\n",
    "# with open(path_save_log,\"wt\") as f:\n",
    "#     f.write(cap.stdout)\n",
    "    \n",
    "# print(\"out capture..\")"
   ]
  },
  {
   "cell_type": "code",
   "execution_count": 12,
   "metadata": {
    "execution": {
     "iopub.execute_input": "2022-02-11T14:55:30.233513Z",
     "iopub.status.busy": "2022-02-11T14:55:30.232249Z",
     "iopub.status.idle": "2022-02-11T15:18:41.081749Z",
     "shell.execute_reply": "2022-02-11T15:18:41.082736Z"
    },
    "id": "vqA9NwOqKrb5",
    "jupyter": {
     "outputs_hidden": true
    },
    "tags": []
   },
   "outputs": [
    {
     "name": "stdout",
     "output_type": "stream",
     "text": [
      "Normal way\n",
      "[0 1 2 3 4 5 6 7 8 9]\n",
      "WARNING:tensorflow:From /usr/local/lib/python3.8/dist-packages/tensorflow/python/ops/array_ops.py:5043: calling gather (from tensorflow.python.ops.array_ops) with validate_indices is deprecated and will be removed in a future version.\n",
      "Instructions for updating:\n",
      "The `validate_indices` argument has no effect. Indices are always validated on CPU and never validated on GPU.\n"
     ]
    },
    {
     "name": "stderr",
     "output_type": "stream",
     "text": [
      "2022-02-11 14:55:30.246921: I tensorflow/core/common_runtime/gpu/gpu_device.cc:1734] Found device 0 with properties: \n",
      "pciBusID: 0000:21:00.0 name: NVIDIA GeForce RTX 2080 Ti computeCapability: 7.5\n",
      "coreClock: 1.545GHz coreCount: 68 deviceMemorySize: 10.76GiB deviceMemoryBandwidth: 573.69GiB/s\n",
      "2022-02-11 14:55:30.247280: I tensorflow/core/common_runtime/gpu/gpu_device.cc:1872] Adding visible gpu devices: 0\n",
      "2022-02-11 14:55:30.247331: I tensorflow/stream_executor/platform/default/dso_loader.cc:54] Successfully opened dynamic library libcudart.so.11.0\n",
      "2022-02-11 14:55:30.610256: I tensorflow/core/common_runtime/gpu/gpu_device.cc:1258] Device interconnect StreamExecutor with strength 1 edge matrix:\n",
      "2022-02-11 14:55:30.610290: I tensorflow/core/common_runtime/gpu/gpu_device.cc:1264]      0 \n",
      "2022-02-11 14:55:30.610296: I tensorflow/core/common_runtime/gpu/gpu_device.cc:1277] 0:   N \n",
      "2022-02-11 14:55:30.610849: I tensorflow/core/common_runtime/gpu/gpu_device.cc:1418] Created TensorFlow device (/job:localhost/replica:0/task:0/device:GPU:0 with 9649 MB memory) -> physical GPU (device: 0, name: NVIDIA GeForce RTX 2080 Ti, pci bus id: 0000:21:00.0, compute capability: 7.5)\n",
      "2022-02-11 14:55:30.611250: I tensorflow/core/common_runtime/process_util.cc:146] Creating new thread pool with default inter op setting: 20. Tune using inter_op_parallelism_threads for best performance.\n",
      "2022-02-11 14:55:30.743615: I tensorflow/compiler/mlir/mlir_graph_optimization_pass.cc:176] None of the MLIR Optimization Passes are enabled (registered 2)\n",
      "2022-02-11 14:55:30.764651: I tensorflow/core/platform/profile_utils/cpu_utils.cc:114] CPU Frequency: 3299990000 Hz\n"
     ]
    },
    {
     "name": "stdout",
     "output_type": "stream",
     "text": [
      "Epoch 1/50\n"
     ]
    },
    {
     "name": "stderr",
     "output_type": "stream",
     "text": [
      "2022-02-11 14:55:31.393255: I tensorflow/stream_executor/platform/default/dso_loader.cc:54] Successfully opened dynamic library libcudnn.so.8\n",
      "2022-02-11 14:55:31.862210: I tensorflow/stream_executor/cuda/cuda_dnn.cc:380] Loaded cuDNN version 8202\n",
      "2022-02-11 14:55:32.329727: I tensorflow/stream_executor/platform/default/dso_loader.cc:54] Successfully opened dynamic library libcublas.so.11\n",
      "2022-02-11 14:55:32.732179: I tensorflow/stream_executor/platform/default/dso_loader.cc:54] Successfully opened dynamic library libcublasLt.so.11\n"
     ]
    },
    {
     "name": "stdout",
     "output_type": "stream",
     "text": [
      "227/227 - 30s - loss: 1.5744 - accuracy: 0.2768\n",
      "Epoch 2/50\n",
      "227/227 - 28s - loss: 1.3989 - accuracy: 0.3707\n",
      "Epoch 3/50\n",
      "227/227 - 28s - loss: 1.3154 - accuracy: 0.3946\n",
      "Epoch 4/50\n",
      "227/227 - 28s - loss: 1.2781 - accuracy: 0.4202\n",
      "Epoch 5/50\n",
      "227/227 - 28s - loss: 1.2459 - accuracy: 0.4352\n",
      "Epoch 6/50\n",
      "227/227 - 28s - loss: 1.2054 - accuracy: 0.4461\n",
      "Epoch 7/50\n",
      "227/227 - 28s - loss: 1.1641 - accuracy: 0.4715\n",
      "Epoch 8/50\n",
      "227/227 - 28s - loss: 1.1306 - accuracy: 0.4899\n",
      "Epoch 9/50\n",
      "227/227 - 28s - loss: 1.0963 - accuracy: 0.5109\n",
      "Epoch 10/50\n",
      "227/227 - 28s - loss: 1.1026 - accuracy: 0.5006\n",
      "Epoch 11/50\n",
      "227/227 - 28s - loss: 1.0841 - accuracy: 0.5378\n",
      "Epoch 12/50\n",
      "227/227 - 28s - loss: 1.0427 - accuracy: 0.5560\n",
      "Epoch 13/50\n",
      "227/227 - 28s - loss: 1.0450 - accuracy: 0.5669\n",
      "Epoch 14/50\n",
      "227/227 - 28s - loss: 1.0195 - accuracy: 0.5794\n",
      "Epoch 15/50\n",
      "227/227 - 28s - loss: 1.0196 - accuracy: 0.5844\n",
      "Epoch 16/50\n",
      "227/227 - 28s - loss: 0.9603 - accuracy: 0.6154\n",
      "Epoch 17/50\n",
      "227/227 - 27s - loss: 0.9555 - accuracy: 0.6278\n",
      "Epoch 18/50\n",
      "227/227 - 28s - loss: 0.9971 - accuracy: 0.6149\n",
      "Epoch 19/50\n",
      "227/227 - 28s - loss: 0.9363 - accuracy: 0.6383\n",
      "Epoch 20/50\n",
      "227/227 - 28s - loss: 0.9018 - accuracy: 0.6481\n",
      "Epoch 21/50\n",
      "227/227 - 28s - loss: 0.8955 - accuracy: 0.6393\n",
      "Epoch 22/50\n",
      "227/227 - 28s - loss: 0.8544 - accuracy: 0.6492\n",
      "Epoch 23/50\n",
      "227/227 - 27s - loss: 0.8465 - accuracy: 0.6482\n",
      "Epoch 24/50\n",
      "227/227 - 27s - loss: 0.8221 - accuracy: 0.6641\n",
      "Epoch 25/50\n",
      "227/227 - 27s - loss: 0.8210 - accuracy: 0.6590\n",
      "Epoch 26/50\n",
      "227/227 - 27s - loss: 0.8063 - accuracy: 0.6544\n",
      "Epoch 27/50\n",
      "227/227 - 27s - loss: 0.7961 - accuracy: 0.6502\n",
      "Epoch 28/50\n",
      "227/227 - 27s - loss: 0.7840 - accuracy: 0.6611\n",
      "Epoch 29/50\n",
      "227/227 - 28s - loss: 0.7498 - accuracy: 0.6641\n",
      "Epoch 30/50\n",
      "227/227 - 28s - loss: 0.7830 - accuracy: 0.6604\n",
      "Epoch 31/50\n",
      "227/227 - 28s - loss: 0.7354 - accuracy: 0.6710\n",
      "Epoch 32/50\n",
      "227/227 - 28s - loss: 0.7207 - accuracy: 0.6664\n",
      "Epoch 33/50\n",
      "227/227 - 28s - loss: 0.7198 - accuracy: 0.6718\n",
      "Epoch 34/50\n",
      "227/227 - 28s - loss: 0.7069 - accuracy: 0.6772\n",
      "Epoch 35/50\n",
      "227/227 - 28s - loss: 0.6924 - accuracy: 0.6860\n",
      "Epoch 36/50\n",
      "227/227 - 28s - loss: 0.6850 - accuracy: 0.6780\n",
      "Epoch 37/50\n",
      "227/227 - 28s - loss: 0.7298 - accuracy: 0.6566\n",
      "Epoch 38/50\n",
      "227/227 - 28s - loss: 0.6703 - accuracy: 0.6936\n",
      "Epoch 39/50\n",
      "227/227 - 27s - loss: 0.6482 - accuracy: 0.6982\n",
      "Epoch 40/50\n",
      "227/227 - 27s - loss: 0.6690 - accuracy: 0.6873\n",
      "Epoch 41/50\n",
      "227/227 - 27s - loss: 0.6465 - accuracy: 0.6953\n",
      "Epoch 42/50\n",
      "227/227 - 27s - loss: 0.6221 - accuracy: 0.7020\n",
      "Epoch 43/50\n",
      "227/227 - 27s - loss: 0.6318 - accuracy: 0.7057\n",
      "Epoch 44/50\n",
      "227/227 - 27s - loss: 0.6039 - accuracy: 0.6999\n",
      "Epoch 45/50\n",
      "227/227 - 27s - loss: 0.6079 - accuracy: 0.7046\n",
      "Epoch 46/50\n",
      "227/227 - 27s - loss: 0.6066 - accuracy: 0.7013\n",
      "Epoch 47/50\n",
      "227/227 - 27s - loss: 0.5983 - accuracy: 0.7133\n",
      "Epoch 48/50\n",
      "227/227 - 27s - loss: 0.5868 - accuracy: 0.7133\n",
      "Epoch 49/50\n",
      "227/227 - 28s - loss: 0.5961 - accuracy: 0.7114\n",
      "Epoch 50/50\n",
      "227/227 - 28s - loss: 0.5997 - accuracy: 0.7084\n",
      "57/57 - 3s\n",
      "Normalized confusion matrix\n",
      "                  precision    recall  f1-score   support\n",
      "\n",
      "  fridge/freezer       0.79      0.77      0.78       384\n",
      "electric furnace       0.57      0.84      0.68       128\n",
      "           light       0.76      0.68      0.72       638\n",
      "       microwave       0.37      0.76      0.49        62\n",
      "         sockets       0.68      0.61      0.64       601\n",
      "\n",
      "        accuracy                           0.69      1813\n",
      "       macro avg       0.63      0.73      0.66      1813\n",
      "    weighted avg       0.71      0.69      0.70      1813\n",
      "\n"
     ]
    },
    {
     "name": "stderr",
     "output_type": "stream",
     "text": [
      "2022-02-11 15:18:40.188127: W tensorflow/python/util/util.cc:348] Sets are not currently considered sequences, but this may change in the future, so consider avoiding using them.\n"
     ]
    },
    {
     "name": "stdout",
     "output_type": "stream",
     "text": [
      "INFO:tensorflow:Assets written to: /workspace/notebooks/models/CNN/redd_12/assets\n"
     ]
    },
    {
     "data": {
      "image/png": "[encoded data removed]",
      "text/plain": [
       "<Figure size 720x720 with 2 Axes>"
      ]
     },
     "metadata": {
      "needs_background": "light"
     },
     "output_type": "display_data"
    }
   ],
   "source": [
    "# %%capture cap --no-stderr\n",
    "\n",
    "\n",
    "if environ['train_type'] == \"BB\":\n",
    "\n",
    "    #define generator\n",
    "    train_gen = HDF5ImageGenerator(\n",
    "        src= path_data,\n",
    "        X_key=\"data/train/gaf\",\n",
    "        y_key=\"labels/train/gaf\",\n",
    "        classes_key=\"appliances/classes\",\n",
    "        labels_encoding=\"hot\",\n",
    "        shuffle=True,\n",
    "        batch_size=int(environ['batch_size']),\n",
    "        num_classes=num_of_classes,\n",
    "        mode=\"train\",\n",
    "        )\n",
    "    \n",
    "    model = select_model(environ['learn_type'])\n",
    "    \n",
    "    txt_log.write(\"fitting BB model: \\n\")\n",
    "    \n",
    "    model.fit(\n",
    "        train_gen,\n",
    "        verbose=2,\n",
    "        epochs=int(environ['epochs']),\n",
    "        class_weight=d_class_weights,\n",
    "        callbacks = [save_op_callback],\n",
    "    )\n",
    "    \n",
    "    txt_log.write(\"finished fitting BB model: \\n\")\n",
    "\n",
    "    evaluate_model(model,x_test,y_test,appliances)\n",
    "    \n",
    "    if environ['save_model']==\"True\":\n",
    "\n",
    "        path_model_save = path+\"/models/\"+environ['learn_type']+\"/\"+dataset.split(\"_\")[0]+\"_\"+dataset.split(\"_R\")[1][0:2]\n",
    "        model.save(path_model_save)\n",
    "        txt_log.write(\"model saved to:\"+\"/models/\"+environ['learn_type']+\"/\"+dataset.split(\"_\")[0]+\"_\"+dataset.split(\"_R\")[1][0:2]+\" \\n\")\n",
    "        \n",
    "        \n",
    "# with open(path_save+\"_out_log.txt\" as f:\n",
    "#     f.write(cap.stdout)\n"
   ]
  },
  {
   "cell_type": "code",
   "execution_count": 13,
   "metadata": {
    "collapsed": true,
    "execution": {
     "iopub.execute_input": "2022-02-11T15:18:41.088247Z",
     "iopub.status.busy": "2022-02-11T15:18:41.087057Z",
     "iopub.status.idle": "2022-02-11T15:18:41.089508Z",
     "shell.execute_reply": "2022-02-11T15:18:41.090478Z"
    }
   },
   "outputs": [],
   "source": [
    "#model = keras.models.load_model(path_model1)\n",
    "# model_used = model"
   ]
  },
  {
   "cell_type": "code",
   "execution_count": 14,
   "metadata": {
    "collapsed": true,
    "execution": {
     "iopub.execute_input": "2022-02-11T15:18:41.095972Z",
     "iopub.status.busy": "2022-02-11T15:18:41.094799Z",
     "iopub.status.idle": "2022-02-11T15:18:41.097250Z",
     "shell.execute_reply": "2022-02-11T15:18:41.098241Z"
    },
    "jupyter": {
     "outputs_hidden": true
    },
    "tags": []
   },
   "outputs": [],
   "source": [
    "# evaluate_model(model,x_test,y_test,appliances)"
   ]
  },
  {
   "cell_type": "code",
   "execution_count": 15,
   "metadata": {
    "collapsed": true,
    "execution": {
     "iopub.execute_input": "2022-02-11T15:18:41.116475Z",
     "iopub.status.busy": "2022-02-11T15:18:41.115192Z",
     "iopub.status.idle": "2022-02-11T15:18:41.118836Z",
     "shell.execute_reply": "2022-02-11T15:18:41.117860Z"
    }
   },
   "outputs": [],
   "source": [
    "# datasets =[\n",
    "#     \"ukdale_gen_GASF_13m_100S5X12A54480_R82_80-20\"\n",
    "# ]\n",
    "\n",
    "if environ['train_type'] == \"TL\": \n",
    "    models = environ['tl_datasets'].replace(\" \",\"\").split(\",\")\n",
    "    #model = [\"base\"]\n",
    "    \n",
    "    for model in models:\n",
    "    \n",
    "        file_name = dataset\n",
    "        \n",
    "        datasetTL = model\n",
    "        \n",
    "        seed = dataset.split(\"_R\")[1][0:2]\n",
    "        \n",
    "        print(\"using dataset data\",dataset.split(\"_\")[0],\"training on model\",model,\"seed\",environ['seed'])\n",
    "        txt_log.write(\"starting \"+dataset.split(\"_\")[0]+\" training on model \"+model+\" seed \"+environ['seed']+\"\\n\")\n",
    "\n",
    "\n",
    "        tf.keras.backend.clear_session()\n",
    "\n",
    "\n",
    "        #read the file\n",
    "        path = str(pathlib.Path().resolve())\n",
    "        path_data = f\"{path}\"\"/data/\"f\"{file_name}\"\"/\"f\"{file_name}\"\".hdf5\"\n",
    "        file = h5py.File(path_data,\"r+\")\n",
    "\n",
    "\n",
    "        print(\"reading data, printing stats: \")\n",
    "        x_test,y_test,d_class_weights,num_of_classes,appliances = get_data(file)\n",
    "        print(\"loading model\")\n",
    "        \n",
    "        model_seed = 42\n",
    "        model_used = create_tl_model(model,environ['learn_type'],model_seed,path,num_of_classes)\n",
    "                \n",
    "        train_gen = HDF5ImageGenerator(\n",
    "            src= path_data,\n",
    "            X_key=\"data/train/gaf\",\n",
    "            y_key=\"labels/train/gaf\",\n",
    "            classes_key=\"appliances/classes\",\n",
    "            labels_encoding=\"hot\",\n",
    "            shuffle=True,\n",
    "            batch_size=int(environ['batch_size']),\n",
    "            num_classes=num_of_classes,\n",
    "            mode=\"train\",\n",
    "            )\n",
    "\n",
    "        model_used.fit(\n",
    "            train_gen,\n",
    "            verbose=2,\n",
    "            epochs=int(environ['epochs']),\n",
    "            class_weight=d_class_weights,\n",
    "            callbacks = [save_op_callback]\n",
    "            #workers = 6,\n",
    "        )\n",
    "        \n",
    "        txt_log.write(\"finished \"+dataset.split(\"_\")[0]+\" training on model \"+model+\" seed \"+environ['seed']+\"\\n\")\n",
    "\n",
    "\n",
    "        evaluate_model(model_used,x_test,y_test,appliances)\n",
    "        \n",
    "\n",
    "\n",
    "\n",
    "        #del model_used\n",
    "\n"
   ]
  },
  {
   "cell_type": "code",
   "execution_count": 16,
   "metadata": {
    "execution": {
     "iopub.execute_input": "2022-02-11T15:18:41.124591Z",
     "iopub.status.busy": "2022-02-11T15:18:41.123400Z",
     "iopub.status.idle": "2022-02-11T15:18:41.125867Z",
     "shell.execute_reply": "2022-02-11T15:18:41.126767Z"
    }
   },
   "outputs": [],
   "source": [
    "txt_log.close()"
   ]
  },
  {
   "cell_type": "code",
   "execution_count": null,
   "metadata": {},
   "outputs": [],
   "source": []
  }
 ],
 "metadata": {
  "colab": {
   "authorship_tag": "ABX9TyMej4PvP65qsLng7TnQKWA4",
   "name": "LSTM-gen",
   "provenance": []
  },
  "kernelspec": {
   "display_name": "Python 3 (ipykernel)",
   "language": "python",
   "name": "python3"
  },
  "language_info": {
   "codemirror_mode": {
    "name": "ipython",
    "version": 3
   },
   "file_extension": ".py",
   "mimetype": "text/x-python",
   "name": "python",
   "nbconvert_exporter": "python",
   "pygments_lexer": "ipython3",
   "version": "3.8.10"
  }
 },
 "nbformat": 4,
 "nbformat_minor": 4
}
