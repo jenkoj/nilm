{
 "cells": [
  {
   "cell_type": "code",
   "execution_count": 1,
   "metadata": {
    "execution": {
     "iopub.execute_input": "2022-02-03T03:56:29.554009Z",
     "iopub.status.busy": "2022-02-03T03:56:29.552810Z",
     "iopub.status.idle": "2022-02-03T03:56:31.725134Z",
     "shell.execute_reply": "2022-02-03T03:56:31.723898Z"
    },
    "id": "WqUfHWgtJxtu",
    "scrolled": true,
    "tags": []
   },
   "outputs": [
    {
     "name": "stderr",
     "output_type": "stream",
     "text": [
      "2022-02-03 03:56:30.573881: I tensorflow/stream_executor/platform/default/dso_loader.cc:54] Successfully opened dynamic library libcudart.so.11.0\n"
     ]
    },
    {
     "name": "stdout",
     "output_type": "stream",
     "text": [
      "2.5.0\n",
      "Num GPUs Available:  1\n"
     ]
    },
    {
     "name": "stderr",
     "output_type": "stream",
     "text": [
      "2022-02-03 03:56:31.654169: I tensorflow/stream_executor/platform/default/dso_loader.cc:54] Successfully opened dynamic library libcuda.so.1\n",
      "2022-02-03 03:56:31.700288: I tensorflow/core/common_runtime/gpu/gpu_device.cc:1734] Found device 0 with properties: \n",
      "pciBusID: 0000:21:00.0 name: NVIDIA GeForce RTX 2080 Ti computeCapability: 7.5\n",
      "coreClock: 1.545GHz coreCount: 68 deviceMemorySize: 10.76GiB deviceMemoryBandwidth: 573.69GiB/s\n",
      "2022-02-03 03:56:31.700339: I tensorflow/stream_executor/platform/default/dso_loader.cc:54] Successfully opened dynamic library libcudart.so.11.0\n",
      "2022-02-03 03:56:31.706660: I tensorflow/stream_executor/platform/default/dso_loader.cc:54] Successfully opened dynamic library libcublas.so.11\n",
      "2022-02-03 03:56:31.706720: I tensorflow/stream_executor/platform/default/dso_loader.cc:54] Successfully opened dynamic library libcublasLt.so.11\n",
      "2022-02-03 03:56:31.709290: I tensorflow/stream_executor/platform/default/dso_loader.cc:54] Successfully opened dynamic library libcufft.so.10\n",
      "2022-02-03 03:56:31.710543: I tensorflow/stream_executor/platform/default/dso_loader.cc:54] Successfully opened dynamic library libcurand.so.10\n",
      "2022-02-03 03:56:31.712257: I tensorflow/stream_executor/platform/default/dso_loader.cc:54] Successfully opened dynamic library libcutensor.so.1\n",
      "2022-02-03 03:56:31.713140: I tensorflow/stream_executor/platform/default/dso_loader.cc:54] Successfully opened dynamic library libcusolver.so.11\n",
      "2022-02-03 03:56:31.714294: I tensorflow/stream_executor/platform/default/dso_loader.cc:54] Successfully opened dynamic library libcusparse.so.11\n",
      "2022-02-03 03:56:31.714707: I tensorflow/stream_executor/platform/default/dso_loader.cc:54] Successfully opened dynamic library libcudnn.so.8\n",
      "2022-02-03 03:56:31.715256: I tensorflow/core/common_runtime/gpu/gpu_device.cc:1872] Adding visible gpu devices: 0\n"
     ]
    }
   ],
   "source": [
    "import h5py\n",
    "import numpy as np\n",
    "\n",
    "from sklearn.model_selection import train_test_split\n",
    "from sklearn.metrics import classification_report, confusion_matrix\n",
    "import matplotlib.pyplot as plt\n",
    "import itertools \n",
    "import pyts\n",
    "from pyts.approximation import PiecewiseAggregateApproximation\n",
    "\n",
    "from sklearn.utils import class_weight\n",
    "\n",
    "import pathlib\n",
    "import tensorflow as tf\n",
    "from tensorflow import keras\n",
    "from tensorflow.keras import layers, optimizers\n",
    "from tensorflow.keras.layers import Convolution2D,Conv2D, Dense,Dropout, Flatten, Activation, MaxPooling2D, Input, Conv1D, GlobalAveragePooling1D, TimeDistributed, GRU, LSTM\n",
    "\n",
    "print(tf.__version__)\n",
    "print(\"Num GPUs Available: \", len(tf.config.list_physical_devices('GPU')))\n",
    "gpus = tf.config.experimental.list_physical_devices('GPU')\n",
    "\n",
    "try:\n",
    "    for gpu in gpus:\n",
    "        tf.config.experimental.set_memory_growth(gpu, True)\n",
    "except RuntimeError as e:\n",
    "    print(e)"
   ]
  },
  {
   "cell_type": "code",
   "execution_count": 2,
   "metadata": {
    "execution": {
     "iopub.execute_input": "2022-02-03T03:56:31.732514Z",
     "iopub.status.busy": "2022-02-03T03:56:31.731525Z",
     "iopub.status.idle": "2022-02-03T03:56:31.735713Z",
     "shell.execute_reply": "2022-02-03T03:56:31.734864Z"
    }
   },
   "outputs": [
    {
     "name": "stdout",
     "output_type": "stream",
     "text": [
      "redd_gen_GASF_60m_300S0X_R12_80-20\n"
     ]
    }
   ],
   "source": [
    "from os import environ\n",
    "dataset = environ['dataset']\n",
    "print(dataset)"
   ]
  },
  {
   "cell_type": "code",
   "execution_count": 3,
   "metadata": {
    "execution": {
     "iopub.execute_input": "2022-02-03T03:56:31.742895Z",
     "iopub.status.busy": "2022-02-03T03:56:31.739624Z",
     "iopub.status.idle": "2022-02-03T03:56:31.746842Z",
     "shell.execute_reply": "2022-02-03T03:56:31.747683Z"
    }
   },
   "outputs": [],
   "source": [
    "#my defs \n",
    "from modules.models import  LSTM_3D_V56, CNN_V56,LSTM_BI_V56\n",
    "from modules.tools import my_print, plot_confusion_matrix_norm, get_data,get_data_split, evaluate_model, create_tl_model\n",
    "from modules.HDF5ImageGenerator import HDF5ImageGenerator"
   ]
  },
  {
   "cell_type": "code",
   "execution_count": 4,
   "metadata": {
    "execution": {
     "iopub.execute_input": "2022-02-03T03:56:31.755306Z",
     "iopub.status.busy": "2022-02-03T03:56:31.754090Z",
     "iopub.status.idle": "2022-02-03T03:56:31.756608Z",
     "shell.execute_reply": "2022-02-03T03:56:31.757600Z"
    },
    "id": "RT1vwq7-KOtB"
   },
   "outputs": [],
   "source": [
    "#LOAD DATASET\n",
    "#file_name = \"ukdale_gen_GASF_13m_100S5X12A54480\"\n",
    "#file_name = \"refit_gen_GASF_13m_100S5X_15A166006\"\n",
    "file_name = \"refit_gen_GASF_13m_100S5X_15A166006_R42-80-20\"\n",
    "#file_name = \"refit_gen_GASF_13m_100S5X_15A166006_R42_80-20\"\n",
    "file_name = \"refit_gen_GASF_60m_300S0X_15A157030N_R12_80-20-V1\"\n",
    "file_name = environ[\"dataset\"]\n",
    "#read the file\n",
    "path = str(pathlib.Path().resolve())\n",
    "\n",
    "path_data = f\"{path}\"\"/data/\"f\"{file_name}\"\"/\"f\"{file_name}\"\".hdf5\"\n",
    "\n",
    "file = h5py.File(path_data,\"r+\")"
   ]
  },
  {
   "cell_type": "code",
   "execution_count": 5,
   "metadata": {
    "execution": {
     "iopub.execute_input": "2022-02-03T03:56:31.764567Z",
     "iopub.status.busy": "2022-02-03T03:56:31.763358Z",
     "iopub.status.idle": "2022-02-03T03:56:32.117371Z",
     "shell.execute_reply": "2022-02-03T03:56:32.118431Z"
    },
    "scrolled": true
   },
   "outputs": [
    {
     "name": "stdout",
     "output_type": "stream",
     "text": [
      "['fridge/freezer', 'electric furnace', 'light', 'microwave', 'sockets']\n",
      "{0: 0.9442708333333333, 1: 2.8383561643835615, 2: 0.5683385579937305, 3: 5.824899598393574, 4: 0.6033277870216306}\n",
      " \n",
      "Tests \n",
      "fridge/freezer test: 384 train: 1536\n",
      "electric furnace test: 128 train: 511\n",
      "light test: 638 train: 2552\n",
      "microwave test: 62 train: 249\n",
      "sockets test: 601 train: 2404\n"
     ]
    }
   ],
   "source": [
    "x_test,y_test,d_class_weights,num_of_classes,appliances = get_data(file)"
   ]
  },
  {
   "cell_type": "code",
   "execution_count": 6,
   "metadata": {
    "execution": {
     "iopub.execute_input": "2022-02-03T03:56:32.126579Z",
     "iopub.status.busy": "2022-02-03T03:56:32.125296Z",
     "iopub.status.idle": "2022-02-03T03:56:32.127943Z",
     "shell.execute_reply": "2022-02-03T03:56:32.129006Z"
    }
   },
   "outputs": [],
   "source": [
    "def select_model(learn_type):\n",
    "    \n",
    "    if learn_type == \"CNN\":\n",
    "        model = CNN_V56(file[\"data/train/gaf\"][0:10],num_of_classes,lr= 0.00002)\n",
    "\n",
    "    if learn_type == \"LSTM\":\n",
    "        model = LSTM_3D_V56(file[\"data/train/gaf\"][0:10],num_of_classes,lr= 0.00002)\n",
    "\n",
    "    if learn_type == \"BI_LSTM\":\n",
    "        model = LSTM_BI_V56(file[\"data/train/gaf\"][0:10],num_of_classes,lr= 0.00002)\n",
    "\n",
    "    return model\n",
    "              "
   ]
  },
  {
   "cell_type": "code",
   "execution_count": 7,
   "metadata": {
    "execution": {
     "iopub.execute_input": "2022-02-03T03:56:32.136967Z",
     "iopub.status.busy": "2022-02-03T03:56:32.135644Z",
     "iopub.status.idle": "2022-02-03T03:56:32.138337Z",
     "shell.execute_reply": "2022-02-03T03:56:32.139376Z"
    }
   },
   "outputs": [],
   "source": [
    "path_save = path+'/experiment_automation/output/'+environ['learn_type']+'/'+dataset.split(\"_\")[0]+\"/\"+environ['train_type']+\"/\"+dataset.split(\"_\")[0]+\"_\"+environ['seed']+\"_\"+environ['tl_datasets']\n",
    "path_save_nb = path_save+\"_out.ipynb\"\n",
    "path_save_log = path_save+\"_out_log2.txt\""
   ]
  },
  {
   "cell_type": "code",
   "execution_count": 8,
   "metadata": {
    "execution": {
     "iopub.execute_input": "2022-02-03T03:56:32.148889Z",
     "iopub.status.busy": "2022-02-03T03:56:32.147569Z",
     "iopub.status.idle": "2022-02-03T03:56:32.235474Z",
     "shell.execute_reply": "2022-02-03T03:56:32.234365Z"
    }
   },
   "outputs": [],
   "source": [
    "from keras.callbacks import LambdaCallback\n",
    "#path_log= path+'/experiment_automation/output/'+environ['learn_type']+'/'+dataset.split(\"_\")[0]+\"/\"+environ['train_type']+\"/\"+dataset.split(\"_\")[0]+\"_\"+environ['seed']+\"_\"+environ['tl_datasets']+\"_log.txt\"\n",
    "txt_log = open(path_save+\"_log.txt\", mode='wt', buffering=1)\n",
    "txt_log.write(\"file created! \\n\")\n",
    "\n",
    "save_op_callback = LambdaCallback(\n",
    "  on_epoch_end = lambda epoch, logs: txt_log.write(\n",
    "    str({'epoch': epoch, 'loss': logs['loss'],'acc': logs['accuracy']}) + '\\n'),\n",
    "                                                           \n",
    ")"
   ]
  },
  {
   "cell_type": "code",
   "execution_count": 9,
   "metadata": {
    "execution": {
     "iopub.execute_input": "2022-02-03T03:56:32.241406Z",
     "iopub.status.busy": "2022-02-03T03:56:32.240136Z",
     "iopub.status.idle": "2022-02-03T03:56:32.245517Z",
     "shell.execute_reply": "2022-02-03T03:56:32.244389Z"
    }
   },
   "outputs": [
    {
     "name": "stdout",
     "output_type": "stream",
     "text": [
      "/workspace/notebooks/experiment_automation/output/CNN/redd/BB/redd_12__out.ipynb\n"
     ]
    }
   ],
   "source": [
    "print(path_save_nb)"
   ]
  },
  {
   "cell_type": "code",
   "execution_count": 10,
   "metadata": {
    "execution": {
     "iopub.execute_input": "2022-02-03T03:56:32.251152Z",
     "iopub.status.busy": "2022-02-03T03:56:32.249793Z",
     "iopub.status.idle": "2022-02-03T03:56:32.253049Z",
     "shell.execute_reply": "2022-02-03T03:56:32.252190Z"
    }
   },
   "outputs": [],
   "source": [
    "# rm $path_save_log"
   ]
  },
  {
   "cell_type": "code",
   "execution_count": 11,
   "metadata": {
    "execution": {
     "iopub.execute_input": "2022-02-03T03:56:32.258225Z",
     "iopub.status.busy": "2022-02-03T03:56:32.257207Z",
     "iopub.status.idle": "2022-02-03T03:56:32.259395Z",
     "shell.execute_reply": "2022-02-03T03:56:32.260305Z"
    }
   },
   "outputs": [],
   "source": [
    "# %%capture cap \n",
    "\n",
    "# with open(path_save_log,\"wt\") as f:\n",
    "#     f.write(cap.stdout)\n",
    "    \n",
    "# print(\"out capture..\")"
   ]
  },
  {
   "cell_type": "code",
   "execution_count": 12,
   "metadata": {
    "execution": {
     "iopub.execute_input": "2022-02-03T03:56:32.276498Z",
     "iopub.status.busy": "2022-02-03T03:56:32.275213Z",
     "iopub.status.idle": "2022-02-03T04:23:00.834210Z",
     "shell.execute_reply": "2022-02-03T04:23:00.835201Z"
    },
    "id": "vqA9NwOqKrb5",
    "jupyter": {
     "outputs_hidden": true
    },
    "tags": []
   },
   "outputs": [
    {
     "name": "stdout",
     "output_type": "stream",
     "text": [
      "Normal way\n",
      "[0 1 2 3 4 5 6 7 8 9]\n",
      "WARNING:tensorflow:From /usr/local/lib/python3.8/dist-packages/tensorflow/python/ops/array_ops.py:5043: calling gather (from tensorflow.python.ops.array_ops) with validate_indices is deprecated and will be removed in a future version.\n",
      "Instructions for updating:\n",
      "The `validate_indices` argument has no effect. Indices are always validated on CPU and never validated on GPU.\n"
     ]
    },
    {
     "name": "stderr",
     "output_type": "stream",
     "text": [
      "2022-02-03 03:56:32.290745: I tensorflow/core/common_runtime/gpu/gpu_device.cc:1734] Found device 0 with properties: \n",
      "pciBusID: 0000:21:00.0 name: NVIDIA GeForce RTX 2080 Ti computeCapability: 7.5\n",
      "coreClock: 1.545GHz coreCount: 68 deviceMemorySize: 10.76GiB deviceMemoryBandwidth: 573.69GiB/s\n",
      "2022-02-03 03:56:32.291111: I tensorflow/core/common_runtime/gpu/gpu_device.cc:1872] Adding visible gpu devices: 0\n",
      "2022-02-03 03:56:32.291162: I tensorflow/stream_executor/platform/default/dso_loader.cc:54] Successfully opened dynamic library libcudart.so.11.0\n",
      "2022-02-03 03:56:32.661497: I tensorflow/core/common_runtime/gpu/gpu_device.cc:1258] Device interconnect StreamExecutor with strength 1 edge matrix:\n",
      "2022-02-03 03:56:32.661531: I tensorflow/core/common_runtime/gpu/gpu_device.cc:1264]      0 \n",
      "2022-02-03 03:56:32.661538: I tensorflow/core/common_runtime/gpu/gpu_device.cc:1277] 0:   N \n",
      "2022-02-03 03:56:32.662112: I tensorflow/core/common_runtime/gpu/gpu_device.cc:1418] Created TensorFlow device (/job:localhost/replica:0/task:0/device:GPU:0 with 9649 MB memory) -> physical GPU (device: 0, name: NVIDIA GeForce RTX 2080 Ti, pci bus id: 0000:21:00.0, compute capability: 7.5)\n",
      "2022-02-03 03:56:32.662457: I tensorflow/core/common_runtime/process_util.cc:146] Creating new thread pool with default inter op setting: 20. Tune using inter_op_parallelism_threads for best performance.\n",
      "2022-02-03 03:56:32.767890: I tensorflow/compiler/mlir/mlir_graph_optimization_pass.cc:176] None of the MLIR Optimization Passes are enabled (registered 2)\n",
      "2022-02-03 03:56:32.788487: I tensorflow/core/platform/profile_utils/cpu_utils.cc:114] CPU Frequency: 3299990000 Hz\n"
     ]
    },
    {
     "name": "stdout",
     "output_type": "stream",
     "text": [
      "Epoch 1/50\n"
     ]
    },
    {
     "name": "stderr",
     "output_type": "stream",
     "text": [
      "2022-02-03 03:56:33.410637: I tensorflow/stream_executor/platform/default/dso_loader.cc:54] Successfully opened dynamic library libcudnn.so.8\n",
      "2022-02-03 03:56:33.879418: I tensorflow/stream_executor/cuda/cuda_dnn.cc:380] Loaded cuDNN version 8202\n",
      "2022-02-03 03:56:34.340095: I tensorflow/stream_executor/platform/default/dso_loader.cc:54] Successfully opened dynamic library libcublas.so.11\n",
      "2022-02-03 03:56:34.759059: I tensorflow/stream_executor/platform/default/dso_loader.cc:54] Successfully opened dynamic library libcublasLt.so.11\n"
     ]
    },
    {
     "name": "stdout",
     "output_type": "stream",
     "text": [
      "907/907 - 33s - loss: 1.4756 - accuracy: 0.3275\n",
      "Epoch 2/50\n",
      "907/907 - 32s - loss: 1.3521 - accuracy: 0.3690\n",
      "Epoch 3/50\n",
      "907/907 - 32s - loss: 1.2763 - accuracy: 0.4105\n",
      "Epoch 4/50\n",
      "907/907 - 32s - loss: 1.2249 - accuracy: 0.4349\n",
      "Epoch 5/50\n",
      "907/907 - 32s - loss: 1.1864 - accuracy: 0.4451\n",
      "Epoch 6/50\n",
      "907/907 - 32s - loss: 1.1230 - accuracy: 0.4810\n",
      "Epoch 7/50\n",
      "907/907 - 32s - loss: 1.0925 - accuracy: 0.5112\n",
      "Epoch 8/50\n",
      "907/907 - 32s - loss: 1.0463 - accuracy: 0.5422\n",
      "Epoch 9/50\n",
      "907/907 - 32s - loss: 1.0183 - accuracy: 0.5621\n",
      "Epoch 10/50\n",
      "907/907 - 32s - loss: 0.9752 - accuracy: 0.5905\n",
      "Epoch 11/50\n",
      "907/907 - 32s - loss: 0.9880 - accuracy: 0.5916\n",
      "Epoch 12/50\n",
      "907/907 - 31s - loss: 0.9350 - accuracy: 0.6204\n",
      "Epoch 13/50\n",
      "907/907 - 32s - loss: 0.8921 - accuracy: 0.6237\n",
      "Epoch 14/50\n",
      "907/907 - 32s - loss: 0.8826 - accuracy: 0.6321\n",
      "Epoch 15/50\n",
      "907/907 - 32s - loss: 0.8494 - accuracy: 0.6342\n",
      "Epoch 16/50\n",
      "907/907 - 32s - loss: 0.8917 - accuracy: 0.6269\n",
      "Epoch 17/50\n",
      "907/907 - 32s - loss: 0.8035 - accuracy: 0.6441\n",
      "Epoch 18/50\n",
      "907/907 - 32s - loss: 0.7805 - accuracy: 0.6595\n",
      "Epoch 19/50\n",
      "907/907 - 32s - loss: 0.7770 - accuracy: 0.6355\n",
      "Epoch 20/50\n",
      "907/907 - 32s - loss: 0.7363 - accuracy: 0.6754\n",
      "Epoch 21/50\n",
      "907/907 - 32s - loss: 0.7471 - accuracy: 0.6611\n",
      "Epoch 22/50\n",
      "907/907 - 32s - loss: 0.7443 - accuracy: 0.6557\n",
      "Epoch 23/50\n",
      "907/907 - 32s - loss: 0.6927 - accuracy: 0.6731\n",
      "Epoch 24/50\n",
      "907/907 - 32s - loss: 0.6752 - accuracy: 0.6780\n",
      "Epoch 25/50\n",
      "907/907 - 32s - loss: 0.6905 - accuracy: 0.6721\n",
      "Epoch 26/50\n",
      "907/907 - 32s - loss: 0.6945 - accuracy: 0.6710\n",
      "Epoch 27/50\n",
      "907/907 - 32s - loss: 0.6475 - accuracy: 0.6968\n",
      "Epoch 28/50\n",
      "907/907 - 32s - loss: 0.6485 - accuracy: 0.6891\n",
      "Epoch 29/50\n",
      "907/907 - 32s - loss: 0.6405 - accuracy: 0.6892\n",
      "Epoch 30/50\n",
      "907/907 - 32s - loss: 0.6121 - accuracy: 0.7034\n",
      "Epoch 31/50\n",
      "907/907 - 32s - loss: 0.6108 - accuracy: 0.7041\n",
      "Epoch 32/50\n",
      "907/907 - 32s - loss: 0.6031 - accuracy: 0.7114\n",
      "Epoch 33/50\n",
      "907/907 - 32s - loss: 0.5915 - accuracy: 0.7129\n",
      "Epoch 34/50\n",
      "907/907 - 32s - loss: 0.5695 - accuracy: 0.7226\n",
      "Epoch 35/50\n",
      "907/907 - 32s - loss: 0.5754 - accuracy: 0.7188\n",
      "Epoch 36/50\n",
      "907/907 - 32s - loss: 0.5587 - accuracy: 0.7239\n",
      "Epoch 37/50\n",
      "907/907 - 32s - loss: 0.5582 - accuracy: 0.7270\n",
      "Epoch 38/50\n",
      "907/907 - 32s - loss: 0.5361 - accuracy: 0.7381\n",
      "Epoch 39/50\n",
      "907/907 - 32s - loss: 0.5180 - accuracy: 0.7457\n",
      "Epoch 40/50\n",
      "907/907 - 32s - loss: 0.5978 - accuracy: 0.7202\n",
      "Epoch 41/50\n",
      "907/907 - 32s - loss: 0.5167 - accuracy: 0.7539\n",
      "Epoch 42/50\n",
      "907/907 - 31s - loss: 0.5154 - accuracy: 0.7511\n",
      "Epoch 43/50\n",
      "907/907 - 32s - loss: 0.4744 - accuracy: 0.7645\n",
      "Epoch 44/50\n",
      "907/907 - 31s - loss: 0.4962 - accuracy: 0.7569\n",
      "Epoch 45/50\n",
      "907/907 - 31s - loss: 0.4648 - accuracy: 0.7734\n",
      "Epoch 46/50\n",
      "907/907 - 32s - loss: 0.4851 - accuracy: 0.7630\n",
      "Epoch 47/50\n",
      "907/907 - 32s - loss: 0.4791 - accuracy: 0.7671\n",
      "Epoch 48/50\n",
      "907/907 - 31s - loss: 0.4560 - accuracy: 0.7792\n",
      "Epoch 49/50\n",
      "907/907 - 32s - loss: 0.4634 - accuracy: 0.7741\n",
      "Epoch 50/50\n",
      "907/907 - 31s - loss: 0.4505 - accuracy: 0.7842\n",
      "57/57 - 3s\n",
      "Normalized confusion matrix\n",
      "                  precision    recall  f1-score   support\n",
      "\n",
      "  fridge/freezer       0.77      0.92      0.84       384\n",
      "electric furnace       0.63      0.87      0.73       128\n",
      "           light       0.80      0.61      0.70       638\n",
      "       microwave       0.27      0.90      0.42        62\n",
      "         sockets       0.77      0.62      0.69       601\n",
      "\n",
      "        accuracy                           0.71      1813\n",
      "       macro avg       0.65      0.79      0.67      1813\n",
      "    weighted avg       0.76      0.71      0.72      1813\n",
      "\n"
     ]
    },
    {
     "name": "stderr",
     "output_type": "stream",
     "text": [
      "2022-02-03 04:22:59.942743: W tensorflow/python/util/util.cc:348] Sets are not currently considered sequences, but this may change in the future, so consider avoiding using them.\n"
     ]
    },
    {
     "name": "stdout",
     "output_type": "stream",
     "text": [
      "INFO:tensorflow:Assets written to: /workspace/notebooks/models/CNN/redd_12/assets\n"
     ]
    },
    {
     "data": {
      "image/png": "[encoded data removed]",
      "text/plain": [
       "<Figure size 720x720 with 2 Axes>"
      ]
     },
     "metadata": {
      "needs_background": "light"
     },
     "output_type": "display_data"
    }
   ],
   "source": [
    "# %%capture cap --no-stderr\n",
    "\n",
    "\n",
    "if environ['train_type'] == \"BB\":\n",
    "\n",
    "    #define generator\n",
    "    train_gen = HDF5ImageGenerator(\n",
    "        src= path_data,\n",
    "        X_key=\"data/train/gaf\",\n",
    "        y_key=\"labels/train/gaf\",\n",
    "        classes_key=\"appliances/classes\",\n",
    "        labels_encoding=\"hot\",\n",
    "        shuffle=True,\n",
    "        batch_size=int(environ['batch_size']),\n",
    "        num_classes=num_of_classes,\n",
    "        mode=\"train\",\n",
    "        )\n",
    "    \n",
    "    model = select_model(environ['learn_type'])\n",
    "    \n",
    "    txt_log.write(\"fitting BB model: \\n\")\n",
    "    \n",
    "    model.fit(\n",
    "        train_gen,\n",
    "        verbose=2,\n",
    "        epochs=int(environ['epochs']),\n",
    "        class_weight=d_class_weights,\n",
    "        callbacks = [save_op_callback],\n",
    "    )\n",
    "    \n",
    "    txt_log.write(\"finished fitting BB model: \\n\")\n",
    "\n",
    "    evaluate_model(model,x_test,y_test,appliances)\n",
    "    \n",
    "    if environ['save_model']==\"True\":\n",
    "\n",
    "        path_model_save = path+\"/models/\"+environ['learn_type']+\"/\"+dataset.split(\"_\")[0]+\"_\"+dataset.split(\"_R\")[1][0:2]\n",
    "        model.save(path_model_save)\n",
    "        txt_log.write(\"model saved to:\"+\"/models/\"+environ['learn_type']+\"/\"+dataset.split(\"_\")[0]+\"_\"+dataset.split(\"_R\")[1][0:2]+\" \\n\")\n",
    "        \n",
    "        \n",
    "# with open(path_save+\"_out_log.txt\" as f:\n",
    "#     f.write(cap.stdout)\n"
   ]
  },
  {
   "cell_type": "code",
   "execution_count": 13,
   "metadata": {
    "collapsed": true,
    "execution": {
     "iopub.execute_input": "2022-02-03T04:23:00.840532Z",
     "iopub.status.busy": "2022-02-03T04:23:00.839338Z",
     "iopub.status.idle": "2022-02-03T04:23:00.841800Z",
     "shell.execute_reply": "2022-02-03T04:23:00.842769Z"
    }
   },
   "outputs": [],
   "source": [
    "#model = keras.models.load_model(path_model1)\n",
    "# model_used = model"
   ]
  },
  {
   "cell_type": "code",
   "execution_count": 14,
   "metadata": {
    "collapsed": true,
    "execution": {
     "iopub.execute_input": "2022-02-03T04:23:00.848275Z",
     "iopub.status.busy": "2022-02-03T04:23:00.847081Z",
     "iopub.status.idle": "2022-02-03T04:23:00.849427Z",
     "shell.execute_reply": "2022-02-03T04:23:00.850214Z"
    },
    "jupyter": {
     "outputs_hidden": true
    },
    "tags": []
   },
   "outputs": [],
   "source": [
    "# evaluate_model(model,x_test,y_test,appliances)"
   ]
  },
  {
   "cell_type": "code",
   "execution_count": 15,
   "metadata": {
    "collapsed": true,
    "execution": {
     "iopub.execute_input": "2022-02-03T04:23:00.865727Z",
     "iopub.status.busy": "2022-02-03T04:23:00.864146Z",
     "iopub.status.idle": "2022-02-03T04:23:00.868194Z",
     "shell.execute_reply": "2022-02-03T04:23:00.869144Z"
    }
   },
   "outputs": [],
   "source": [
    "# datasets =[\n",
    "#     \"ukdale_gen_GASF_13m_100S5X12A54480_R82_80-20\"\n",
    "# ]\n",
    "\n",
    "if environ['train_type'] == \"TL\": \n",
    "    models = environ['tl_datasets'].split(\",\")\n",
    "    #model = [\"base\"]\n",
    "    \n",
    "    for model in models:\n",
    "    \n",
    "        file_name = dataset\n",
    "        \n",
    "        datasetTL = model\n",
    "        \n",
    "        seed = dataset.split(\"_R\")[1][0:2]\n",
    "        \n",
    "        print(\"using dataset data\",dataset.split(\"_\")[0],\"training on model\",model,\"seed\",environ['seed'])\n",
    "        txt_log.write(\"starting \"+dataset.split(\"_\")[0]+\" training on model \"+model+\" seed \"+environ['seed']+\"\\n\")\n",
    "\n",
    "\n",
    "        tf.keras.backend.clear_session()\n",
    "\n",
    "\n",
    "        #read the file\n",
    "        path = str(pathlib.Path().resolve())\n",
    "        path_data = f\"{path}\"\"/data/\"f\"{file_name}\"\"/\"f\"{file_name}\"\".hdf5\"\n",
    "        file = h5py.File(path_data,\"r+\")\n",
    "\n",
    "\n",
    "        print(\"reading data, printing stats: \")\n",
    "        x_test,y_test,d_class_weights,num_of_classes,appliances = get_data(file)\n",
    "        print(\"loading model\")\n",
    "        \n",
    "        model_seed = 42\n",
    "        model_used = create_tl_model(model,environ['learn_type'],model_seed,path,num_of_classes)\n",
    "                \n",
    "        train_gen = HDF5ImageGenerator(\n",
    "            src= path_data,\n",
    "            X_key=\"data/train/gaf\",\n",
    "            y_key=\"labels/train/gaf\",\n",
    "            classes_key=\"appliances/classes\",\n",
    "            labels_encoding=\"hot\",\n",
    "            shuffle=True,\n",
    "            batch_size=int(environ['batch_size']),\n",
    "            num_classes=num_of_classes,\n",
    "            mode=\"train\",\n",
    "            )\n",
    "\n",
    "        model_used.fit(\n",
    "            train_gen,\n",
    "            verbose=2,\n",
    "            epochs=int(environ['epochs']),\n",
    "            class_weight=d_class_weights,\n",
    "            callbacks = [save_op_callback]\n",
    "            #workers = 6,\n",
    "        )\n",
    "        \n",
    "        txt_log.write(\"finished \"+dataset.split(\"_\")[0]+\" training on model \"+model+\" seed \"+environ['seed']+\"\\n\")\n",
    "\n",
    "\n",
    "        evaluate_model(model_used,x_test,y_test,appliances)\n",
    "        \n",
    "\n",
    "\n",
    "\n",
    "        #del model_used\n",
    "\n"
   ]
  },
  {
   "cell_type": "code",
   "execution_count": 16,
   "metadata": {
    "execution": {
     "iopub.execute_input": "2022-02-03T04:23:00.875163Z",
     "iopub.status.busy": "2022-02-03T04:23:00.873954Z",
     "iopub.status.idle": "2022-02-03T04:23:00.876495Z",
     "shell.execute_reply": "2022-02-03T04:23:00.877504Z"
    }
   },
   "outputs": [],
   "source": [
    "txt_log.close()"
   ]
  },
  {
   "cell_type": "code",
   "execution_count": null,
   "metadata": {},
   "outputs": [],
   "source": []
  }
 ],
 "metadata": {
  "colab": {
   "authorship_tag": "ABX9TyMej4PvP65qsLng7TnQKWA4",
   "name": "LSTM-gen",
   "provenance": []
  },
  "kernelspec": {
   "display_name": "Python 3 (ipykernel)",
   "language": "python",
   "name": "python3"
  },
  "language_info": {
   "codemirror_mode": {
    "name": "ipython",
    "version": 3
   },
   "file_extension": ".py",
   "mimetype": "text/x-python",
   "name": "python",
   "nbconvert_exporter": "python",
   "pygments_lexer": "ipython3",
   "version": "3.8.10"
  }
 },
 "nbformat": 4,
 "nbformat_minor": 4
}
