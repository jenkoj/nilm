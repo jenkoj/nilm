{
 "cells": [
  {
   "cell_type": "code",
   "execution_count": 1,
   "metadata": {
    "execution": {
     "iopub.execute_input": "2022-02-03T04:23:11.672130Z",
     "iopub.status.busy": "2022-02-03T04:23:11.670641Z",
     "iopub.status.idle": "2022-02-03T04:23:13.364057Z",
     "shell.execute_reply": "2022-02-03T04:23:13.362843Z"
    },
    "id": "WqUfHWgtJxtu",
    "scrolled": true,
    "tags": []
   },
   "outputs": [
    {
     "name": "stderr",
     "output_type": "stream",
     "text": [
      "2022-02-03 04:23:12.496054: I tensorflow/stream_executor/platform/default/dso_loader.cc:54] Successfully opened dynamic library libcudart.so.11.0\n"
     ]
    },
    {
     "name": "stdout",
     "output_type": "stream",
     "text": [
      "2.5.0\n",
      "Num GPUs Available:  1\n"
     ]
    },
    {
     "name": "stderr",
     "output_type": "stream",
     "text": [
      "2022-02-03 04:23:13.297019: I tensorflow/stream_executor/platform/default/dso_loader.cc:54] Successfully opened dynamic library libcuda.so.1\n",
      "2022-02-03 04:23:13.345109: I tensorflow/core/common_runtime/gpu/gpu_device.cc:1734] Found device 0 with properties: \n",
      "pciBusID: 0000:21:00.0 name: NVIDIA GeForce RTX 2080 Ti computeCapability: 7.5\n",
      "coreClock: 1.545GHz coreCount: 68 deviceMemorySize: 10.76GiB deviceMemoryBandwidth: 573.69GiB/s\n",
      "2022-02-03 04:23:13.345160: I tensorflow/stream_executor/platform/default/dso_loader.cc:54] Successfully opened dynamic library libcudart.so.11.0\n",
      "2022-02-03 04:23:13.349307: I tensorflow/stream_executor/platform/default/dso_loader.cc:54] Successfully opened dynamic library libcublas.so.11\n",
      "2022-02-03 04:23:13.349378: I tensorflow/stream_executor/platform/default/dso_loader.cc:54] Successfully opened dynamic library libcublasLt.so.11\n",
      "2022-02-03 04:23:13.351318: I tensorflow/stream_executor/platform/default/dso_loader.cc:54] Successfully opened dynamic library libcufft.so.10\n",
      "2022-02-03 04:23:13.351655: I tensorflow/stream_executor/platform/default/dso_loader.cc:54] Successfully opened dynamic library libcurand.so.10\n",
      "2022-02-03 04:23:13.352509: I tensorflow/stream_executor/platform/default/dso_loader.cc:54] Successfully opened dynamic library libcutensor.so.1\n",
      "2022-02-03 04:23:13.353100: I tensorflow/stream_executor/platform/default/dso_loader.cc:54] Successfully opened dynamic library libcusolver.so.11\n",
      "2022-02-03 04:23:13.353826: I tensorflow/stream_executor/platform/default/dso_loader.cc:54] Successfully opened dynamic library libcusparse.so.11\n",
      "2022-02-03 04:23:13.353952: I tensorflow/stream_executor/platform/default/dso_loader.cc:54] Successfully opened dynamic library libcudnn.so.8\n",
      "2022-02-03 04:23:13.354315: I tensorflow/core/common_runtime/gpu/gpu_device.cc:1872] Adding visible gpu devices: 0\n"
     ]
    }
   ],
   "source": [
    "import h5py\n",
    "import numpy as np\n",
    "\n",
    "from sklearn.model_selection import train_test_split\n",
    "from sklearn.metrics import classification_report, confusion_matrix\n",
    "import matplotlib.pyplot as plt\n",
    "import itertools \n",
    "import pyts\n",
    "from pyts.approximation import PiecewiseAggregateApproximation\n",
    "\n",
    "from sklearn.utils import class_weight\n",
    "\n",
    "import pathlib\n",
    "import tensorflow as tf\n",
    "from tensorflow import keras\n",
    "from tensorflow.keras import layers, optimizers\n",
    "from tensorflow.keras.layers import Convolution2D,Conv2D, Dense,Dropout, Flatten, Activation, MaxPooling2D, Input, Conv1D, GlobalAveragePooling1D, TimeDistributed, GRU, LSTM\n",
    "\n",
    "print(tf.__version__)\n",
    "print(\"Num GPUs Available: \", len(tf.config.list_physical_devices('GPU')))\n",
    "gpus = tf.config.experimental.list_physical_devices('GPU')\n",
    "\n",
    "try:\n",
    "    for gpu in gpus:\n",
    "        tf.config.experimental.set_memory_growth(gpu, True)\n",
    "except RuntimeError as e:\n",
    "    print(e)"
   ]
  },
  {
   "cell_type": "code",
   "execution_count": 2,
   "metadata": {
    "execution": {
     "iopub.execute_input": "2022-02-03T04:23:13.370509Z",
     "iopub.status.busy": "2022-02-03T04:23:13.369227Z",
     "iopub.status.idle": "2022-02-03T04:23:13.374376Z",
     "shell.execute_reply": "2022-02-03T04:23:13.373312Z"
    }
   },
   "outputs": [
    {
     "name": "stdout",
     "output_type": "stream",
     "text": [
      "redd_gen_GASF_60m_300S0X_R42_80-20\n"
     ]
    }
   ],
   "source": [
    "from os import environ\n",
    "dataset = environ['dataset']\n",
    "print(dataset)"
   ]
  },
  {
   "cell_type": "code",
   "execution_count": 3,
   "metadata": {
    "execution": {
     "iopub.execute_input": "2022-02-03T04:23:13.380582Z",
     "iopub.status.busy": "2022-02-03T04:23:13.379508Z",
     "iopub.status.idle": "2022-02-03T04:23:13.384118Z",
     "shell.execute_reply": "2022-02-03T04:23:13.385083Z"
    }
   },
   "outputs": [],
   "source": [
    "#my defs \n",
    "from modules.models import  LSTM_3D_V56, CNN_V56,LSTM_BI_V56\n",
    "from modules.tools import my_print, plot_confusion_matrix_norm, get_data,get_data_split, evaluate_model, create_tl_model\n",
    "from modules.HDF5ImageGenerator import HDF5ImageGenerator"
   ]
  },
  {
   "cell_type": "code",
   "execution_count": 4,
   "metadata": {
    "execution": {
     "iopub.execute_input": "2022-02-03T04:23:13.394815Z",
     "iopub.status.busy": "2022-02-03T04:23:13.393521Z",
     "iopub.status.idle": "2022-02-03T04:23:13.396172Z",
     "shell.execute_reply": "2022-02-03T04:23:13.397160Z"
    },
    "id": "RT1vwq7-KOtB"
   },
   "outputs": [],
   "source": [
    "#LOAD DATASET\n",
    "#file_name = \"ukdale_gen_GASF_13m_100S5X12A54480\"\n",
    "#file_name = \"refit_gen_GASF_13m_100S5X_15A166006\"\n",
    "file_name = \"refit_gen_GASF_13m_100S5X_15A166006_R42-80-20\"\n",
    "#file_name = \"refit_gen_GASF_13m_100S5X_15A166006_R42_80-20\"\n",
    "file_name = \"refit_gen_GASF_60m_300S0X_15A157030N_R12_80-20-V1\"\n",
    "file_name = environ[\"dataset\"]\n",
    "#read the file\n",
    "path = str(pathlib.Path().resolve())\n",
    "\n",
    "path_data = f\"{path}\"\"/data/\"f\"{file_name}\"\"/\"f\"{file_name}\"\".hdf5\"\n",
    "\n",
    "file = h5py.File(path_data,\"r+\")"
   ]
  },
  {
   "cell_type": "code",
   "execution_count": 5,
   "metadata": {
    "execution": {
     "iopub.execute_input": "2022-02-03T04:23:13.404544Z",
     "iopub.status.busy": "2022-02-03T04:23:13.403323Z",
     "iopub.status.idle": "2022-02-03T04:23:13.760584Z",
     "shell.execute_reply": "2022-02-03T04:23:13.761691Z"
    },
    "scrolled": true
   },
   "outputs": [
    {
     "name": "stdout",
     "output_type": "stream",
     "text": [
      "['fridge/freezer', 'electric furnace', 'light', 'microwave', 'sockets']\n",
      "{0: 0.9442708333333333, 1: 2.8383561643835615, 2: 0.5683385579937305, 3: 5.824899598393574, 4: 0.6033277870216306}\n",
      " \n",
      "Tests \n",
      "fridge/freezer test: 384 train: 1536\n",
      "electric furnace test: 128 train: 511\n",
      "light test: 638 train: 2552\n",
      "microwave test: 62 train: 249\n",
      "sockets test: 601 train: 2404\n"
     ]
    }
   ],
   "source": [
    "x_test,y_test,d_class_weights,num_of_classes,appliances = get_data(file)"
   ]
  },
  {
   "cell_type": "code",
   "execution_count": 6,
   "metadata": {
    "execution": {
     "iopub.execute_input": "2022-02-03T04:23:13.768991Z",
     "iopub.status.busy": "2022-02-03T04:23:13.767670Z",
     "iopub.status.idle": "2022-02-03T04:23:13.770379Z",
     "shell.execute_reply": "2022-02-03T04:23:13.771429Z"
    }
   },
   "outputs": [],
   "source": [
    "def select_model(learn_type):\n",
    "    \n",
    "    if learn_type == \"CNN\":\n",
    "        model = CNN_V56(file[\"data/train/gaf\"][0:10],num_of_classes,lr= 0.00002)\n",
    "\n",
    "    if learn_type == \"LSTM\":\n",
    "        model = LSTM_3D_V56(file[\"data/train/gaf\"][0:10],num_of_classes,lr= 0.00002)\n",
    "\n",
    "    if learn_type == \"BI_LSTM\":\n",
    "        model = LSTM_BI_V56(file[\"data/train/gaf\"][0:10],num_of_classes,lr= 0.00002)\n",
    "\n",
    "    return model\n",
    "              "
   ]
  },
  {
   "cell_type": "code",
   "execution_count": 7,
   "metadata": {
    "execution": {
     "iopub.execute_input": "2022-02-03T04:23:13.778453Z",
     "iopub.status.busy": "2022-02-03T04:23:13.777132Z",
     "iopub.status.idle": "2022-02-03T04:23:13.779852Z",
     "shell.execute_reply": "2022-02-03T04:23:13.780917Z"
    }
   },
   "outputs": [],
   "source": [
    "path_save = path+'/experiment_automation/output/'+environ['learn_type']+'/'+dataset.split(\"_\")[0]+\"/\"+environ['train_type']+\"/\"+dataset.split(\"_\")[0]+\"_\"+environ['seed']+\"_\"+environ['tl_datasets']\n",
    "path_save_nb = path_save+\"_out.ipynb\"\n",
    "path_save_log = path_save+\"_out_log2.txt\""
   ]
  },
  {
   "cell_type": "code",
   "execution_count": 8,
   "metadata": {
    "execution": {
     "iopub.execute_input": "2022-02-03T04:23:13.789472Z",
     "iopub.status.busy": "2022-02-03T04:23:13.788133Z",
     "iopub.status.idle": "2022-02-03T04:23:13.875963Z",
     "shell.execute_reply": "2022-02-03T04:23:13.876780Z"
    }
   },
   "outputs": [],
   "source": [
    "from keras.callbacks import LambdaCallback\n",
    "#path_log= path+'/experiment_automation/output/'+environ['learn_type']+'/'+dataset.split(\"_\")[0]+\"/\"+environ['train_type']+\"/\"+dataset.split(\"_\")[0]+\"_\"+environ['seed']+\"_\"+environ['tl_datasets']+\"_log.txt\"\n",
    "txt_log = open(path_save+\"_log.txt\", mode='wt', buffering=1)\n",
    "txt_log.write(\"file created! \\n\")\n",
    "\n",
    "save_op_callback = LambdaCallback(\n",
    "  on_epoch_end = lambda epoch, logs: txt_log.write(\n",
    "    str({'epoch': epoch, 'loss': logs['loss'],'acc': logs['accuracy']}) + '\\n'),\n",
    "                                                           \n",
    ")"
   ]
  },
  {
   "cell_type": "code",
   "execution_count": 9,
   "metadata": {
    "execution": {
     "iopub.execute_input": "2022-02-03T04:23:13.882176Z",
     "iopub.status.busy": "2022-02-03T04:23:13.880880Z",
     "iopub.status.idle": "2022-02-03T04:23:13.886316Z",
     "shell.execute_reply": "2022-02-03T04:23:13.885182Z"
    }
   },
   "outputs": [
    {
     "name": "stdout",
     "output_type": "stream",
     "text": [
      "/workspace/notebooks/experiment_automation/output/CNN/redd/BB/redd_42__out.ipynb\n"
     ]
    }
   ],
   "source": [
    "print(path_save_nb)"
   ]
  },
  {
   "cell_type": "code",
   "execution_count": 10,
   "metadata": {
    "execution": {
     "iopub.execute_input": "2022-02-03T04:23:13.891295Z",
     "iopub.status.busy": "2022-02-03T04:23:13.890117Z",
     "iopub.status.idle": "2022-02-03T04:23:13.892587Z",
     "shell.execute_reply": "2022-02-03T04:23:13.893557Z"
    }
   },
   "outputs": [],
   "source": [
    "# rm $path_save_log"
   ]
  },
  {
   "cell_type": "code",
   "execution_count": 11,
   "metadata": {
    "execution": {
     "iopub.execute_input": "2022-02-03T04:23:13.898786Z",
     "iopub.status.busy": "2022-02-03T04:23:13.897603Z",
     "iopub.status.idle": "2022-02-03T04:23:13.899921Z",
     "shell.execute_reply": "2022-02-03T04:23:13.901040Z"
    }
   },
   "outputs": [],
   "source": [
    "# %%capture cap \n",
    "\n",
    "# with open(path_save_log,\"wt\") as f:\n",
    "#     f.write(cap.stdout)\n",
    "    \n",
    "# print(\"out capture..\")"
   ]
  },
  {
   "cell_type": "code",
   "execution_count": 12,
   "metadata": {
    "execution": {
     "iopub.execute_input": "2022-02-03T04:23:13.915481Z",
     "iopub.status.busy": "2022-02-03T04:23:13.914222Z",
     "iopub.status.idle": "2022-02-03T04:49:42.907072Z",
     "shell.execute_reply": "2022-02-03T04:49:42.908069Z"
    },
    "id": "vqA9NwOqKrb5",
    "jupyter": {
     "outputs_hidden": true
    },
    "tags": []
   },
   "outputs": [
    {
     "name": "stdout",
     "output_type": "stream",
     "text": [
      "Normal way\n",
      "[0 1 2 3 4 5 6 7 8 9]\n",
      "WARNING:tensorflow:From /usr/local/lib/python3.8/dist-packages/tensorflow/python/ops/array_ops.py:5043: calling gather (from tensorflow.python.ops.array_ops) with validate_indices is deprecated and will be removed in a future version.\n",
      "Instructions for updating:\n",
      "The `validate_indices` argument has no effect. Indices are always validated on CPU and never validated on GPU.\n"
     ]
    },
    {
     "name": "stderr",
     "output_type": "stream",
     "text": [
      "2022-02-03 04:23:13.930588: I tensorflow/core/common_runtime/gpu/gpu_device.cc:1734] Found device 0 with properties: \n",
      "pciBusID: 0000:21:00.0 name: NVIDIA GeForce RTX 2080 Ti computeCapability: 7.5\n",
      "coreClock: 1.545GHz coreCount: 68 deviceMemorySize: 10.76GiB deviceMemoryBandwidth: 573.69GiB/s\n",
      "2022-02-03 04:23:13.930929: I tensorflow/core/common_runtime/gpu/gpu_device.cc:1872] Adding visible gpu devices: 0\n",
      "2022-02-03 04:23:13.930988: I tensorflow/stream_executor/platform/default/dso_loader.cc:54] Successfully opened dynamic library libcudart.so.11.0\n",
      "2022-02-03 04:23:14.304379: I tensorflow/core/common_runtime/gpu/gpu_device.cc:1258] Device interconnect StreamExecutor with strength 1 edge matrix:\n",
      "2022-02-03 04:23:14.304415: I tensorflow/core/common_runtime/gpu/gpu_device.cc:1264]      0 \n",
      "2022-02-03 04:23:14.304422: I tensorflow/core/common_runtime/gpu/gpu_device.cc:1277] 0:   N \n",
      "2022-02-03 04:23:14.305001: I tensorflow/core/common_runtime/gpu/gpu_device.cc:1418] Created TensorFlow device (/job:localhost/replica:0/task:0/device:GPU:0 with 9649 MB memory) -> physical GPU (device: 0, name: NVIDIA GeForce RTX 2080 Ti, pci bus id: 0000:21:00.0, compute capability: 7.5)\n",
      "2022-02-03 04:23:14.305354: I tensorflow/core/common_runtime/process_util.cc:146] Creating new thread pool with default inter op setting: 20. Tune using inter_op_parallelism_threads for best performance.\n",
      "2022-02-03 04:23:14.411516: I tensorflow/compiler/mlir/mlir_graph_optimization_pass.cc:176] None of the MLIR Optimization Passes are enabled (registered 2)\n",
      "2022-02-03 04:23:14.428486: I tensorflow/core/platform/profile_utils/cpu_utils.cc:114] CPU Frequency: 3299990000 Hz\n"
     ]
    },
    {
     "name": "stdout",
     "output_type": "stream",
     "text": [
      "Epoch 1/50\n"
     ]
    },
    {
     "name": "stderr",
     "output_type": "stream",
     "text": [
      "2022-02-03 04:23:15.034276: I tensorflow/stream_executor/platform/default/dso_loader.cc:54] Successfully opened dynamic library libcudnn.so.8\n",
      "2022-02-03 04:23:15.507563: I tensorflow/stream_executor/cuda/cuda_dnn.cc:380] Loaded cuDNN version 8202\n",
      "2022-02-03 04:23:15.982915: I tensorflow/stream_executor/platform/default/dso_loader.cc:54] Successfully opened dynamic library libcublas.so.11\n",
      "2022-02-03 04:23:16.397110: I tensorflow/stream_executor/platform/default/dso_loader.cc:54] Successfully opened dynamic library libcublasLt.so.11\n"
     ]
    },
    {
     "name": "stdout",
     "output_type": "stream",
     "text": [
      "907/907 - 33s - loss: 1.5322 - accuracy: 0.2926\n",
      "Epoch 2/50\n",
      "907/907 - 32s - loss: 1.3628 - accuracy: 0.3822\n",
      "Epoch 3/50\n",
      "907/907 - 32s - loss: 1.3256 - accuracy: 0.3967\n",
      "Epoch 4/50\n",
      "907/907 - 32s - loss: 1.2383 - accuracy: 0.4459\n",
      "Epoch 5/50\n",
      "907/907 - 32s - loss: 1.1845 - accuracy: 0.4921\n",
      "Epoch 6/50\n",
      "907/907 - 32s - loss: 1.1196 - accuracy: 0.5211\n",
      "Epoch 7/50\n",
      "907/907 - 32s - loss: 1.0680 - accuracy: 0.5583\n",
      "Epoch 8/50\n",
      "907/907 - 32s - loss: 1.0770 - accuracy: 0.5582\n",
      "Epoch 9/50\n",
      "907/907 - 32s - loss: 1.0243 - accuracy: 0.5845\n",
      "Epoch 10/50\n",
      "907/907 - 32s - loss: 0.9733 - accuracy: 0.5997\n",
      "Epoch 11/50\n",
      "907/907 - 32s - loss: 0.9513 - accuracy: 0.6111\n",
      "Epoch 12/50\n",
      "907/907 - 32s - loss: 0.9385 - accuracy: 0.6103\n",
      "Epoch 13/50\n",
      "907/907 - 31s - loss: 0.9289 - accuracy: 0.6140\n",
      "Epoch 14/50\n",
      "907/907 - 31s - loss: 0.8404 - accuracy: 0.6394\n",
      "Epoch 15/50\n",
      "907/907 - 31s - loss: 0.8580 - accuracy: 0.6412\n",
      "Epoch 16/50\n",
      "907/907 - 31s - loss: 0.8222 - accuracy: 0.6437\n",
      "Epoch 17/50\n",
      "907/907 - 31s - loss: 0.7851 - accuracy: 0.6521\n",
      "Epoch 18/50\n",
      "907/907 - 31s - loss: 0.7840 - accuracy: 0.6583\n",
      "Epoch 19/50\n",
      "907/907 - 32s - loss: 0.7844 - accuracy: 0.6509\n",
      "Epoch 20/50\n",
      "907/907 - 31s - loss: 0.7612 - accuracy: 0.6652\n",
      "Epoch 21/50\n",
      "907/907 - 32s - loss: 0.7292 - accuracy: 0.6688\n",
      "Epoch 22/50\n",
      "907/907 - 32s - loss: 0.7014 - accuracy: 0.6889\n",
      "Epoch 23/50\n",
      "907/907 - 32s - loss: 0.6729 - accuracy: 0.6908\n",
      "Epoch 24/50\n",
      "907/907 - 32s - loss: 0.6826 - accuracy: 0.6921\n",
      "Epoch 25/50\n",
      "907/907 - 32s - loss: 0.6666 - accuracy: 0.6906\n",
      "Epoch 26/50\n",
      "907/907 - 32s - loss: 0.6716 - accuracy: 0.6986\n",
      "Epoch 27/50\n",
      "907/907 - 32s - loss: 0.6100 - accuracy: 0.7202\n",
      "Epoch 28/50\n",
      "907/907 - 31s - loss: 0.6662 - accuracy: 0.6994\n",
      "Epoch 29/50\n",
      "907/907 - 31s - loss: 0.6346 - accuracy: 0.6954\n",
      "Epoch 30/50\n",
      "907/907 - 31s - loss: 0.6220 - accuracy: 0.7096\n",
      "Epoch 31/50\n",
      "907/907 - 31s - loss: 0.6463 - accuracy: 0.7016\n",
      "Epoch 32/50\n",
      "907/907 - 32s - loss: 0.6659 - accuracy: 0.7070\n",
      "Epoch 33/50\n",
      "907/907 - 31s - loss: 0.5608 - accuracy: 0.7431\n",
      "Epoch 34/50\n",
      "907/907 - 32s - loss: 0.5526 - accuracy: 0.7366\n",
      "Epoch 35/50\n",
      "907/907 - 32s - loss: 0.5596 - accuracy: 0.7339\n",
      "Epoch 36/50\n",
      "907/907 - 31s - loss: 0.5306 - accuracy: 0.7438\n",
      "Epoch 37/50\n",
      "907/907 - 32s - loss: 0.5555 - accuracy: 0.7344\n",
      "Epoch 38/50\n",
      "907/907 - 32s - loss: 0.5174 - accuracy: 0.7583\n",
      "Epoch 39/50\n",
      "907/907 - 32s - loss: 0.5318 - accuracy: 0.7517\n",
      "Epoch 40/50\n",
      "907/907 - 32s - loss: 0.4911 - accuracy: 0.7643\n",
      "Epoch 41/50\n",
      "907/907 - 32s - loss: 0.5146 - accuracy: 0.7517\n",
      "Epoch 42/50\n",
      "907/907 - 32s - loss: 0.5025 - accuracy: 0.7512\n",
      "Epoch 43/50\n",
      "907/907 - 32s - loss: 0.4635 - accuracy: 0.7733\n",
      "Epoch 44/50\n",
      "907/907 - 32s - loss: 0.4634 - accuracy: 0.7796\n",
      "Epoch 45/50\n",
      "907/907 - 32s - loss: 0.4737 - accuracy: 0.7682\n",
      "Epoch 46/50\n",
      "907/907 - 32s - loss: 0.4904 - accuracy: 0.7598\n",
      "Epoch 47/50\n",
      "907/907 - 32s - loss: 0.5815 - accuracy: 0.7632\n",
      "Epoch 48/50\n",
      "907/907 - 32s - loss: 0.4395 - accuracy: 0.7828\n",
      "Epoch 49/50\n",
      "907/907 - 32s - loss: 0.4247 - accuracy: 0.7927\n",
      "Epoch 50/50\n",
      "907/907 - 32s - loss: 0.4183 - accuracy: 0.7933\n",
      "57/57 - 3s\n",
      "Normalized confusion matrix\n",
      "                  precision    recall  f1-score   support\n",
      "\n",
      "  fridge/freezer       0.80      0.86      0.83       384\n",
      "electric furnace       0.72      0.88      0.79       128\n",
      "           light       0.74      0.75      0.74       638\n",
      "       microwave       0.35      0.71      0.47        62\n",
      "         sockets       0.76      0.60      0.67       601\n",
      "\n",
      "        accuracy                           0.73      1813\n",
      "       macro avg       0.67      0.76      0.70      1813\n",
      "    weighted avg       0.74      0.73      0.73      1813\n",
      "\n"
     ]
    },
    {
     "name": "stderr",
     "output_type": "stream",
     "text": [
      "2022-02-03 04:49:42.009498: W tensorflow/python/util/util.cc:348] Sets are not currently considered sequences, but this may change in the future, so consider avoiding using them.\n"
     ]
    },
    {
     "name": "stdout",
     "output_type": "stream",
     "text": [
      "INFO:tensorflow:Assets written to: /workspace/notebooks/models/CNN/redd_42/assets\n"
     ]
    },
    {
     "data": {
      "image/png": "[encoded data removed]",
      "text/plain": [
       "<Figure size 720x720 with 2 Axes>"
      ]
     },
     "metadata": {
      "needs_background": "light"
     },
     "output_type": "display_data"
    }
   ],
   "source": [
    "# %%capture cap --no-stderr\n",
    "\n",
    "\n",
    "if environ['train_type'] == \"BB\":\n",
    "\n",
    "    #define generator\n",
    "    train_gen = HDF5ImageGenerator(\n",
    "        src= path_data,\n",
    "        X_key=\"data/train/gaf\",\n",
    "        y_key=\"labels/train/gaf\",\n",
    "        classes_key=\"appliances/classes\",\n",
    "        labels_encoding=\"hot\",\n",
    "        shuffle=True,\n",
    "        batch_size=int(environ['batch_size']),\n",
    "        num_classes=num_of_classes,\n",
    "        mode=\"train\",\n",
    "        )\n",
    "    \n",
    "    model = select_model(environ['learn_type'])\n",
    "    \n",
    "    txt_log.write(\"fitting BB model: \\n\")\n",
    "    \n",
    "    model.fit(\n",
    "        train_gen,\n",
    "        verbose=2,\n",
    "        epochs=int(environ['epochs']),\n",
    "        class_weight=d_class_weights,\n",
    "        callbacks = [save_op_callback],\n",
    "    )\n",
    "    \n",
    "    txt_log.write(\"finished fitting BB model: \\n\")\n",
    "\n",
    "    evaluate_model(model,x_test,y_test,appliances)\n",
    "    \n",
    "    if environ['save_model']==\"True\":\n",
    "\n",
    "        path_model_save = path+\"/models/\"+environ['learn_type']+\"/\"+dataset.split(\"_\")[0]+\"_\"+dataset.split(\"_R\")[1][0:2]\n",
    "        model.save(path_model_save)\n",
    "        txt_log.write(\"model saved to:\"+\"/models/\"+environ['learn_type']+\"/\"+dataset.split(\"_\")[0]+\"_\"+dataset.split(\"_R\")[1][0:2]+\" \\n\")\n",
    "        \n",
    "        \n",
    "# with open(path_save+\"_out_log.txt\" as f:\n",
    "#     f.write(cap.stdout)\n"
   ]
  },
  {
   "cell_type": "code",
   "execution_count": 13,
   "metadata": {
    "collapsed": true,
    "execution": {
     "iopub.execute_input": "2022-02-03T04:49:42.913536Z",
     "iopub.status.busy": "2022-02-03T04:49:42.912335Z",
     "iopub.status.idle": "2022-02-03T04:49:42.914776Z",
     "shell.execute_reply": "2022-02-03T04:49:42.915581Z"
    }
   },
   "outputs": [],
   "source": [
    "#model = keras.models.load_model(path_model1)\n",
    "# model_used = model"
   ]
  },
  {
   "cell_type": "code",
   "execution_count": 14,
   "metadata": {
    "collapsed": true,
    "execution": {
     "iopub.execute_input": "2022-02-03T04:49:42.920683Z",
     "iopub.status.busy": "2022-02-03T04:49:42.919636Z",
     "iopub.status.idle": "2022-02-03T04:49:42.921791Z",
     "shell.execute_reply": "2022-02-03T04:49:42.922641Z"
    },
    "jupyter": {
     "outputs_hidden": true
    },
    "tags": []
   },
   "outputs": [],
   "source": [
    "# evaluate_model(model,x_test,y_test,appliances)"
   ]
  },
  {
   "cell_type": "code",
   "execution_count": 15,
   "metadata": {
    "collapsed": true,
    "execution": {
     "iopub.execute_input": "2022-02-03T04:49:42.938878Z",
     "iopub.status.busy": "2022-02-03T04:49:42.937527Z",
     "iopub.status.idle": "2022-02-03T04:49:42.940224Z",
     "shell.execute_reply": "2022-02-03T04:49:42.941217Z"
    }
   },
   "outputs": [],
   "source": [
    "# datasets =[\n",
    "#     \"ukdale_gen_GASF_13m_100S5X12A54480_R82_80-20\"\n",
    "# ]\n",
    "\n",
    "if environ['train_type'] == \"TL\": \n",
    "    models = environ['tl_datasets'].split(\",\")\n",
    "    #model = [\"base\"]\n",
    "    \n",
    "    for model in models:\n",
    "    \n",
    "        file_name = dataset\n",
    "        \n",
    "        datasetTL = model\n",
    "        \n",
    "        seed = dataset.split(\"_R\")[1][0:2]\n",
    "        \n",
    "        print(\"using dataset data\",dataset.split(\"_\")[0],\"training on model\",model,\"seed\",environ['seed'])\n",
    "        txt_log.write(\"starting \"+dataset.split(\"_\")[0]+\" training on model \"+model+\" seed \"+environ['seed']+\"\\n\")\n",
    "\n",
    "\n",
    "        tf.keras.backend.clear_session()\n",
    "\n",
    "\n",
    "        #read the file\n",
    "        path = str(pathlib.Path().resolve())\n",
    "        path_data = f\"{path}\"\"/data/\"f\"{file_name}\"\"/\"f\"{file_name}\"\".hdf5\"\n",
    "        file = h5py.File(path_data,\"r+\")\n",
    "\n",
    "\n",
    "        print(\"reading data, printing stats: \")\n",
    "        x_test,y_test,d_class_weights,num_of_classes,appliances = get_data(file)\n",
    "        print(\"loading model\")\n",
    "        \n",
    "        model_seed = 42\n",
    "        model_used = create_tl_model(model,environ['learn_type'],model_seed,path,num_of_classes)\n",
    "                \n",
    "        train_gen = HDF5ImageGenerator(\n",
    "            src= path_data,\n",
    "            X_key=\"data/train/gaf\",\n",
    "            y_key=\"labels/train/gaf\",\n",
    "            classes_key=\"appliances/classes\",\n",
    "            labels_encoding=\"hot\",\n",
    "            shuffle=True,\n",
    "            batch_size=int(environ['batch_size']),\n",
    "            num_classes=num_of_classes,\n",
    "            mode=\"train\",\n",
    "            )\n",
    "\n",
    "        model_used.fit(\n",
    "            train_gen,\n",
    "            verbose=2,\n",
    "            epochs=int(environ['epochs']),\n",
    "            class_weight=d_class_weights,\n",
    "            callbacks = [save_op_callback]\n",
    "            #workers = 6,\n",
    "        )\n",
    "        \n",
    "        txt_log.write(\"finished \"+dataset.split(\"_\")[0]+\" training on model \"+model+\" seed \"+environ['seed']+\"\\n\")\n",
    "\n",
    "\n",
    "        evaluate_model(model_used,x_test,y_test,appliances)\n",
    "        \n",
    "\n",
    "\n",
    "\n",
    "        #del model_used\n",
    "\n"
   ]
  },
  {
   "cell_type": "code",
   "execution_count": 16,
   "metadata": {
    "execution": {
     "iopub.execute_input": "2022-02-03T04:49:42.946183Z",
     "iopub.status.busy": "2022-02-03T04:49:42.945006Z",
     "iopub.status.idle": "2022-02-03T04:49:42.947708Z",
     "shell.execute_reply": "2022-02-03T04:49:42.948711Z"
    }
   },
   "outputs": [],
   "source": [
    "txt_log.close()"
   ]
  },
  {
   "cell_type": "code",
   "execution_count": null,
   "metadata": {},
   "outputs": [],
   "source": []
  }
 ],
 "metadata": {
  "colab": {
   "authorship_tag": "ABX9TyMej4PvP65qsLng7TnQKWA4",
   "name": "LSTM-gen",
   "provenance": []
  },
  "kernelspec": {
   "display_name": "Python 3 (ipykernel)",
   "language": "python",
   "name": "python3"
  },
  "language_info": {
   "codemirror_mode": {
    "name": "ipython",
    "version": 3
   },
   "file_extension": ".py",
   "mimetype": "text/x-python",
   "name": "python",
   "nbconvert_exporter": "python",
   "pygments_lexer": "ipython3",
   "version": "3.8.10"
  }
 },
 "nbformat": 4,
 "nbformat_minor": 4
}
