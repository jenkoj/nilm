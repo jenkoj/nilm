{
 "cells": [
  {
   "cell_type": "code",
   "execution_count": 1,
   "metadata": {
    "execution": {
     "iopub.execute_input": "2022-02-11T15:18:51.930991Z",
     "iopub.status.busy": "2022-02-11T15:18:51.923371Z",
     "iopub.status.idle": "2022-02-11T15:18:53.622257Z",
     "shell.execute_reply": "2022-02-11T15:18:53.620935Z"
    },
    "id": "WqUfHWgtJxtu",
    "scrolled": true,
    "tags": []
   },
   "outputs": [
    {
     "name": "stderr",
     "output_type": "stream",
     "text": [
      "2022-02-11 15:18:52.760805: I tensorflow/stream_executor/platform/default/dso_loader.cc:54] Successfully opened dynamic library libcudart.so.11.0\n"
     ]
    },
    {
     "name": "stdout",
     "output_type": "stream",
     "text": [
      "2.5.0\n",
      "Num GPUs Available:  1\n"
     ]
    },
    {
     "name": "stderr",
     "output_type": "stream",
     "text": [
      "2022-02-11 15:18:53.563919: I tensorflow/stream_executor/platform/default/dso_loader.cc:54] Successfully opened dynamic library libcuda.so.1\n",
      "2022-02-11 15:18:53.604049: I tensorflow/core/common_runtime/gpu/gpu_device.cc:1734] Found device 0 with properties: \n",
      "pciBusID: 0000:21:00.0 name: NVIDIA GeForce RTX 2080 Ti computeCapability: 7.5\n",
      "coreClock: 1.545GHz coreCount: 68 deviceMemorySize: 10.76GiB deviceMemoryBandwidth: 573.69GiB/s\n",
      "2022-02-11 15:18:53.604091: I tensorflow/stream_executor/platform/default/dso_loader.cc:54] Successfully opened dynamic library libcudart.so.11.0\n",
      "2022-02-11 15:18:53.607541: I tensorflow/stream_executor/platform/default/dso_loader.cc:54] Successfully opened dynamic library libcublas.so.11\n",
      "2022-02-11 15:18:53.607594: I tensorflow/stream_executor/platform/default/dso_loader.cc:54] Successfully opened dynamic library libcublasLt.so.11\n",
      "2022-02-11 15:18:53.609076: I tensorflow/stream_executor/platform/default/dso_loader.cc:54] Successfully opened dynamic library libcufft.so.10\n",
      "2022-02-11 15:18:53.609384: I tensorflow/stream_executor/platform/default/dso_loader.cc:54] Successfully opened dynamic library libcurand.so.10\n",
      "2022-02-11 15:18:53.610029: I tensorflow/stream_executor/platform/default/dso_loader.cc:54] Successfully opened dynamic library libcutensor.so.1\n",
      "2022-02-11 15:18:53.610518: I tensorflow/stream_executor/platform/default/dso_loader.cc:54] Successfully opened dynamic library libcusolver.so.11\n",
      "2022-02-11 15:18:53.611273: I tensorflow/stream_executor/platform/default/dso_loader.cc:54] Successfully opened dynamic library libcusparse.so.11\n",
      "2022-02-11 15:18:53.611397: I tensorflow/stream_executor/platform/default/dso_loader.cc:54] Successfully opened dynamic library libcudnn.so.8\n",
      "2022-02-11 15:18:53.611744: I tensorflow/core/common_runtime/gpu/gpu_device.cc:1872] Adding visible gpu devices: 0\n"
     ]
    }
   ],
   "source": [
    "import h5py\n",
    "import numpy as np\n",
    "\n",
    "from sklearn.model_selection import train_test_split\n",
    "from sklearn.metrics import classification_report, confusion_matrix\n",
    "import matplotlib.pyplot as plt\n",
    "import itertools \n",
    "import pyts\n",
    "from pyts.approximation import PiecewiseAggregateApproximation\n",
    "\n",
    "from sklearn.utils import class_weight\n",
    "\n",
    "import pathlib\n",
    "import tensorflow as tf\n",
    "from tensorflow import keras\n",
    "from tensorflow.keras import layers, optimizers\n",
    "from tensorflow.keras.layers import Convolution2D,Conv2D, Dense,Dropout, Flatten, Activation, MaxPooling2D, Input, Conv1D, GlobalAveragePooling1D, TimeDistributed, GRU, LSTM\n",
    "\n",
    "print(tf.__version__)\n",
    "print(\"Num GPUs Available: \", len(tf.config.list_physical_devices('GPU')))\n",
    "gpus = tf.config.experimental.list_physical_devices('GPU')\n",
    "\n",
    "try:\n",
    "    for gpu in gpus:\n",
    "        tf.config.experimental.set_memory_growth(gpu, True)\n",
    "except RuntimeError as e:\n",
    "    print(e)"
   ]
  },
  {
   "cell_type": "code",
   "execution_count": 2,
   "metadata": {
    "execution": {
     "iopub.execute_input": "2022-02-11T15:18:53.628150Z",
     "iopub.status.busy": "2022-02-11T15:18:53.626933Z",
     "iopub.status.idle": "2022-02-11T15:18:53.631940Z",
     "shell.execute_reply": "2022-02-11T15:18:53.630900Z"
    }
   },
   "outputs": [
    {
     "name": "stdout",
     "output_type": "stream",
     "text": [
      "redd_gen_GASF_60m_300S0X_R42_80-20\n"
     ]
    }
   ],
   "source": [
    "from os import environ\n",
    "dataset = environ['dataset']\n",
    "print(dataset)"
   ]
  },
  {
   "cell_type": "code",
   "execution_count": 3,
   "metadata": {
    "execution": {
     "iopub.execute_input": "2022-02-11T15:18:53.637775Z",
     "iopub.status.busy": "2022-02-11T15:18:53.636732Z",
     "iopub.status.idle": "2022-02-11T15:18:53.640651Z",
     "shell.execute_reply": "2022-02-11T15:18:53.641465Z"
    }
   },
   "outputs": [],
   "source": [
    "#my defs \n",
    "from modules.models import  LSTM_3D_V56, CNN_V56,LSTM_BI_V56\n",
    "from modules.tools import my_print, plot_confusion_matrix_norm, get_data,get_data_split, evaluate_model, create_tl_model\n",
    "from modules.HDF5ImageGenerator import HDF5ImageGenerator"
   ]
  },
  {
   "cell_type": "code",
   "execution_count": 4,
   "metadata": {
    "execution": {
     "iopub.execute_input": "2022-02-11T15:18:53.650185Z",
     "iopub.status.busy": "2022-02-11T15:18:53.648867Z",
     "iopub.status.idle": "2022-02-11T15:18:53.651559Z",
     "shell.execute_reply": "2022-02-11T15:18:53.652625Z"
    },
    "id": "RT1vwq7-KOtB"
   },
   "outputs": [],
   "source": [
    "#LOAD DATASET\n",
    "#file_name = \"ukdale_gen_GASF_13m_100S5X12A54480\"\n",
    "#file_name = \"refit_gen_GASF_13m_100S5X_15A166006\"\n",
    "file_name = \"refit_gen_GASF_13m_100S5X_15A166006_R42-80-20\"\n",
    "#file_name = \"refit_gen_GASF_13m_100S5X_15A166006_R42_80-20\"\n",
    "file_name = \"refit_gen_GASF_60m_300S0X_15A157030N_R12_80-20-V1\"\n",
    "file_name = environ[\"dataset\"]\n",
    "#read the file\n",
    "path = str(pathlib.Path().resolve())\n",
    "\n",
    "path_data = f\"{path}\"\"/data/\"f\"{file_name}\"\"/\"f\"{file_name}\"\".hdf5\"\n",
    "\n",
    "file = h5py.File(path_data,\"r+\")"
   ]
  },
  {
   "cell_type": "code",
   "execution_count": 5,
   "metadata": {
    "execution": {
     "iopub.execute_input": "2022-02-11T15:18:53.659886Z",
     "iopub.status.busy": "2022-02-11T15:18:53.658603Z",
     "iopub.status.idle": "2022-02-11T15:18:54.002916Z",
     "shell.execute_reply": "2022-02-11T15:18:54.003977Z"
    },
    "scrolled": true
   },
   "outputs": [
    {
     "name": "stdout",
     "output_type": "stream",
     "text": [
      "['fridge/freezer', 'electric furnace', 'light', 'microwave', 'sockets']\n",
      "{0: 0.9442708333333333, 1: 2.8383561643835615, 2: 0.5683385579937305, 3: 5.824899598393574, 4: 0.6033277870216306}\n",
      " \n",
      "Tests \n",
      "fridge/freezer test: 384 train: 1536\n",
      "electric furnace test: 128 train: 511\n",
      "light test: 638 train: 2552\n",
      "microwave test: 62 train: 249\n",
      "sockets test: 601 train: 2404\n"
     ]
    }
   ],
   "source": [
    "x_test,y_test,d_class_weights,num_of_classes,appliances = get_data(file)"
   ]
  },
  {
   "cell_type": "code",
   "execution_count": 6,
   "metadata": {
    "execution": {
     "iopub.execute_input": "2022-02-11T15:18:54.011155Z",
     "iopub.status.busy": "2022-02-11T15:18:54.009844Z",
     "iopub.status.idle": "2022-02-11T15:18:54.012554Z",
     "shell.execute_reply": "2022-02-11T15:18:54.013551Z"
    }
   },
   "outputs": [],
   "source": [
    "def select_model(learn_type):\n",
    "    \n",
    "    if learn_type == \"CNN\":\n",
    "        model = CNN_V56(file[\"data/train/gaf\"][0:10],num_of_classes,lr= 0.00002)\n",
    "\n",
    "    if learn_type == \"LSTM\":\n",
    "        model = LSTM_3D_V56(file[\"data/train/gaf\"][0:10],num_of_classes,lr= 0.00002)\n",
    "\n",
    "    if learn_type == \"BI_LSTM\":\n",
    "        model = LSTM_BI_V56(file[\"data/train/gaf\"][0:10],num_of_classes,lr= 0.00002)\n",
    "\n",
    "    return model\n",
    "              "
   ]
  },
  {
   "cell_type": "code",
   "execution_count": 7,
   "metadata": {
    "execution": {
     "iopub.execute_input": "2022-02-11T15:18:54.020749Z",
     "iopub.status.busy": "2022-02-11T15:18:54.019420Z",
     "iopub.status.idle": "2022-02-11T15:18:54.022145Z",
     "shell.execute_reply": "2022-02-11T15:18:54.023193Z"
    }
   },
   "outputs": [],
   "source": [
    "path_save = path+'/experiment_automation/output/'+environ['learn_type']+'/'+dataset.split(\"_\")[0]+\"/\"+environ['train_type']+\"/\"+dataset.split(\"_\")[0]+\"_\"+environ['seed']+\"_\"+environ['tl_datasets']\n",
    "path_save_nb = path_save+\"_out.ipynb\"\n",
    "path_save_log = path_save+\"_out_log2.txt\""
   ]
  },
  {
   "cell_type": "code",
   "execution_count": 8,
   "metadata": {
    "execution": {
     "iopub.execute_input": "2022-02-11T15:18:54.031527Z",
     "iopub.status.busy": "2022-02-11T15:18:54.030200Z",
     "iopub.status.idle": "2022-02-11T15:18:54.119347Z",
     "shell.execute_reply": "2022-02-11T15:18:54.118069Z"
    }
   },
   "outputs": [],
   "source": [
    "from keras.callbacks import LambdaCallback\n",
    "#path_log= path+'/experiment_automation/output/'+environ['learn_type']+'/'+dataset.split(\"_\")[0]+\"/\"+environ['train_type']+\"/\"+dataset.split(\"_\")[0]+\"_\"+environ['seed']+\"_\"+environ['tl_datasets']+\"_log.txt\"\n",
    "txt_log = open(path_save+\"_log.txt\", mode='wt', buffering=1)\n",
    "txt_log.write(\"file created! \\n\")\n",
    "\n",
    "save_op_callback = LambdaCallback(\n",
    "  on_epoch_end = lambda epoch, logs: txt_log.write(\n",
    "    str({'epoch': epoch, 'loss': logs['loss'],'acc': logs['accuracy']}) + '\\n'),\n",
    "                                                           \n",
    ")"
   ]
  },
  {
   "cell_type": "code",
   "execution_count": 9,
   "metadata": {
    "execution": {
     "iopub.execute_input": "2022-02-11T15:18:54.125621Z",
     "iopub.status.busy": "2022-02-11T15:18:54.124322Z",
     "iopub.status.idle": "2022-02-11T15:18:54.129757Z",
     "shell.execute_reply": "2022-02-11T15:18:54.128630Z"
    }
   },
   "outputs": [
    {
     "name": "stdout",
     "output_type": "stream",
     "text": [
      "/workspace/notebooks/experiment_automation/output/CNN/redd/BB/redd_42__out.ipynb\n"
     ]
    }
   ],
   "source": [
    "print(path_save_nb)"
   ]
  },
  {
   "cell_type": "code",
   "execution_count": 10,
   "metadata": {
    "execution": {
     "iopub.execute_input": "2022-02-11T15:18:54.135410Z",
     "iopub.status.busy": "2022-02-11T15:18:54.134132Z",
     "iopub.status.idle": "2022-02-11T15:18:54.136796Z",
     "shell.execute_reply": "2022-02-11T15:18:54.137841Z"
    }
   },
   "outputs": [],
   "source": [
    "# rm $path_save_log"
   ]
  },
  {
   "cell_type": "code",
   "execution_count": 11,
   "metadata": {
    "execution": {
     "iopub.execute_input": "2022-02-11T15:18:54.143164Z",
     "iopub.status.busy": "2022-02-11T15:18:54.142049Z",
     "iopub.status.idle": "2022-02-11T15:18:54.144525Z",
     "shell.execute_reply": "2022-02-11T15:18:54.145593Z"
    }
   },
   "outputs": [],
   "source": [
    "# %%capture cap \n",
    "\n",
    "# with open(path_save_log,\"wt\") as f:\n",
    "#     f.write(cap.stdout)\n",
    "    \n",
    "# print(\"out capture..\")"
   ]
  },
  {
   "cell_type": "code",
   "execution_count": 12,
   "metadata": {
    "execution": {
     "iopub.execute_input": "2022-02-11T15:18:54.162780Z",
     "iopub.status.busy": "2022-02-11T15:18:54.161444Z",
     "iopub.status.idle": "2022-02-11T15:42:04.836849Z",
     "shell.execute_reply": "2022-02-11T15:42:04.837922Z"
    },
    "id": "vqA9NwOqKrb5",
    "jupyter": {
     "outputs_hidden": true
    },
    "tags": []
   },
   "outputs": [
    {
     "name": "stdout",
     "output_type": "stream",
     "text": [
      "Normal way\n",
      "[0 1 2 3 4 5 6 7 8 9]\n",
      "WARNING:tensorflow:From /usr/local/lib/python3.8/dist-packages/tensorflow/python/ops/array_ops.py:5043: calling gather (from tensorflow.python.ops.array_ops) with validate_indices is deprecated and will be removed in a future version.\n",
      "Instructions for updating:\n",
      "The `validate_indices` argument has no effect. Indices are always validated on CPU and never validated on GPU.\n"
     ]
    },
    {
     "name": "stderr",
     "output_type": "stream",
     "text": [
      "2022-02-11 15:18:54.176124: I tensorflow/core/common_runtime/gpu/gpu_device.cc:1734] Found device 0 with properties: \n",
      "pciBusID: 0000:21:00.0 name: NVIDIA GeForce RTX 2080 Ti computeCapability: 7.5\n",
      "coreClock: 1.545GHz coreCount: 68 deviceMemorySize: 10.76GiB deviceMemoryBandwidth: 573.69GiB/s\n",
      "2022-02-11 15:18:54.176506: I tensorflow/core/common_runtime/gpu/gpu_device.cc:1872] Adding visible gpu devices: 0\n",
      "2022-02-11 15:18:54.176561: I tensorflow/stream_executor/platform/default/dso_loader.cc:54] Successfully opened dynamic library libcudart.so.11.0\n",
      "2022-02-11 15:18:54.547496: I tensorflow/core/common_runtime/gpu/gpu_device.cc:1258] Device interconnect StreamExecutor with strength 1 edge matrix:\n",
      "2022-02-11 15:18:54.547532: I tensorflow/core/common_runtime/gpu/gpu_device.cc:1264]      0 \n",
      "2022-02-11 15:18:54.547538: I tensorflow/core/common_runtime/gpu/gpu_device.cc:1277] 0:   N \n",
      "2022-02-11 15:18:54.548132: I tensorflow/core/common_runtime/gpu/gpu_device.cc:1418] Created TensorFlow device (/job:localhost/replica:0/task:0/device:GPU:0 with 9649 MB memory) -> physical GPU (device: 0, name: NVIDIA GeForce RTX 2080 Ti, pci bus id: 0000:21:00.0, compute capability: 7.5)\n",
      "2022-02-11 15:18:54.548469: I tensorflow/core/common_runtime/process_util.cc:146] Creating new thread pool with default inter op setting: 20. Tune using inter_op_parallelism_threads for best performance.\n",
      "2022-02-11 15:18:54.662670: I tensorflow/compiler/mlir/mlir_graph_optimization_pass.cc:176] None of the MLIR Optimization Passes are enabled (registered 2)\n",
      "2022-02-11 15:18:54.680620: I tensorflow/core/platform/profile_utils/cpu_utils.cc:114] CPU Frequency: 3299990000 Hz\n"
     ]
    },
    {
     "name": "stdout",
     "output_type": "stream",
     "text": [
      "Epoch 1/50\n"
     ]
    },
    {
     "name": "stderr",
     "output_type": "stream",
     "text": [
      "2022-02-11 15:18:55.292278: I tensorflow/stream_executor/platform/default/dso_loader.cc:54] Successfully opened dynamic library libcudnn.so.8\n",
      "2022-02-11 15:18:55.789579: I tensorflow/stream_executor/cuda/cuda_dnn.cc:380] Loaded cuDNN version 8202\n",
      "2022-02-11 15:18:56.265504: I tensorflow/stream_executor/platform/default/dso_loader.cc:54] Successfully opened dynamic library libcublas.so.11\n",
      "2022-02-11 15:18:56.677684: I tensorflow/stream_executor/platform/default/dso_loader.cc:54] Successfully opened dynamic library libcublasLt.so.11\n"
     ]
    },
    {
     "name": "stdout",
     "output_type": "stream",
     "text": [
      "227/227 - 30s - loss: 1.5523 - accuracy: 0.2959\n",
      "Epoch 2/50\n",
      "227/227 - 28s - loss: 1.4696 - accuracy: 0.3104\n",
      "Epoch 3/50\n",
      "227/227 - 28s - loss: 1.4276 - accuracy: 0.3436\n",
      "Epoch 4/50\n",
      "227/227 - 28s - loss: 1.4115 - accuracy: 0.3547\n",
      "Epoch 5/50\n",
      "227/227 - 28s - loss: 1.3603 - accuracy: 0.3781\n",
      "Epoch 6/50\n",
      "227/227 - 28s - loss: 1.3333 - accuracy: 0.3970\n",
      "Epoch 7/50\n",
      "227/227 - 28s - loss: 1.3064 - accuracy: 0.4021\n",
      "Epoch 8/50\n",
      "227/227 - 28s - loss: 1.2750 - accuracy: 0.4164\n",
      "Epoch 9/50\n",
      "227/227 - 28s - loss: 1.2291 - accuracy: 0.4542\n",
      "Epoch 10/50\n",
      "227/227 - 28s - loss: 1.1969 - accuracy: 0.4628\n",
      "Epoch 11/50\n",
      "227/227 - 28s - loss: 1.2057 - accuracy: 0.4646\n",
      "Epoch 12/50\n",
      "227/227 - 28s - loss: 1.1608 - accuracy: 0.4943\n",
      "Epoch 13/50\n",
      "227/227 - 28s - loss: 1.1517 - accuracy: 0.5034\n",
      "Epoch 14/50\n",
      "227/227 - 28s - loss: 1.0945 - accuracy: 0.5394\n",
      "Epoch 15/50\n",
      "227/227 - 28s - loss: 1.0546 - accuracy: 0.5569\n",
      "Epoch 16/50\n",
      "227/227 - 28s - loss: 1.0754 - accuracy: 0.5513\n",
      "Epoch 17/50\n",
      "227/227 - 28s - loss: 1.0304 - accuracy: 0.5667\n",
      "Epoch 18/50\n",
      "227/227 - 28s - loss: 0.9984 - accuracy: 0.5871\n",
      "Epoch 19/50\n",
      "227/227 - 27s - loss: 1.0007 - accuracy: 0.5774\n",
      "Epoch 20/50\n",
      "227/227 - 27s - loss: 0.9553 - accuracy: 0.6093\n",
      "Epoch 21/50\n",
      "227/227 - 27s - loss: 0.9852 - accuracy: 0.5958\n",
      "Epoch 22/50\n",
      "227/227 - 27s - loss: 0.9272 - accuracy: 0.6179\n",
      "Epoch 23/50\n",
      "227/227 - 28s - loss: 0.8857 - accuracy: 0.6335\n",
      "Epoch 24/50\n",
      "227/227 - 28s - loss: 0.8860 - accuracy: 0.6277\n",
      "Epoch 25/50\n",
      "227/227 - 28s - loss: 0.8572 - accuracy: 0.6309\n",
      "Epoch 26/50\n",
      "227/227 - 28s - loss: 0.8732 - accuracy: 0.6361\n",
      "Epoch 27/50\n",
      "227/227 - 28s - loss: 0.8542 - accuracy: 0.6263\n",
      "Epoch 28/50\n",
      "227/227 - 28s - loss: 0.8184 - accuracy: 0.6373\n",
      "Epoch 29/50\n",
      "227/227 - 28s - loss: 0.8096 - accuracy: 0.6398\n",
      "Epoch 30/50\n",
      "227/227 - 28s - loss: 0.7719 - accuracy: 0.6514\n",
      "Epoch 31/50\n",
      "227/227 - 28s - loss: 0.7515 - accuracy: 0.6557\n",
      "Epoch 32/50\n",
      "227/227 - 28s - loss: 0.7554 - accuracy: 0.6524\n",
      "Epoch 33/50\n",
      "227/227 - 28s - loss: 0.7513 - accuracy: 0.6504\n",
      "Epoch 34/50\n",
      "227/227 - 28s - loss: 0.7237 - accuracy: 0.6576\n",
      "Epoch 35/50\n",
      "227/227 - 28s - loss: 0.7467 - accuracy: 0.6544\n",
      "Epoch 36/50\n",
      "227/227 - 28s - loss: 0.7045 - accuracy: 0.6704\n",
      "Epoch 37/50\n",
      "227/227 - 28s - loss: 0.6901 - accuracy: 0.6724\n",
      "Epoch 38/50\n",
      "227/227 - 28s - loss: 0.6668 - accuracy: 0.6860\n",
      "Epoch 39/50\n",
      "227/227 - 28s - loss: 0.6795 - accuracy: 0.6761\n",
      "Epoch 40/50\n",
      "227/227 - 28s - loss: 0.6775 - accuracy: 0.6809\n",
      "Epoch 41/50\n",
      "227/227 - 28s - loss: 0.6588 - accuracy: 0.6866\n",
      "Epoch 42/50\n",
      "227/227 - 28s - loss: 0.6364 - accuracy: 0.6957\n",
      "Epoch 43/50\n",
      "227/227 - 28s - loss: 0.7123 - accuracy: 0.6762\n",
      "Epoch 44/50\n",
      "227/227 - 28s - loss: 0.6504 - accuracy: 0.6908\n",
      "Epoch 45/50\n",
      "227/227 - 28s - loss: 0.6325 - accuracy: 0.6940\n",
      "Epoch 46/50\n",
      "227/227 - 28s - loss: 0.6002 - accuracy: 0.7048\n",
      "Epoch 47/50\n",
      "227/227 - 28s - loss: 0.6170 - accuracy: 0.6999\n",
      "Epoch 48/50\n",
      "227/227 - 28s - loss: 0.5879 - accuracy: 0.7111\n",
      "Epoch 49/50\n",
      "227/227 - 28s - loss: 0.6023 - accuracy: 0.7136\n",
      "Epoch 50/50\n",
      "227/227 - 28s - loss: 0.5867 - accuracy: 0.7042\n",
      "57/57 - 3s\n",
      "Normalized confusion matrix\n",
      "                  precision    recall  f1-score   support\n",
      "\n",
      "  fridge/freezer       0.72      0.93      0.81       384\n",
      "electric furnace       0.56      0.79      0.66       128\n",
      "           light       0.78      0.58      0.66       638\n",
      "       microwave       0.28      0.79      0.41        62\n",
      "         sockets       0.69      0.56      0.62       601\n",
      "\n",
      "        accuracy                           0.67      1813\n",
      "       macro avg       0.61      0.73      0.63      1813\n",
      "    weighted avg       0.71      0.67      0.67      1813\n",
      "\n"
     ]
    },
    {
     "name": "stderr",
     "output_type": "stream",
     "text": [
      "2022-02-11 15:42:03.952816: W tensorflow/python/util/util.cc:348] Sets are not currently considered sequences, but this may change in the future, so consider avoiding using them.\n"
     ]
    },
    {
     "name": "stdout",
     "output_type": "stream",
     "text": [
      "INFO:tensorflow:Assets written to: /workspace/notebooks/models/CNN/redd_42/assets\n"
     ]
    },
    {
     "data": {
      "image/png": "[encoded data removed]",
      "text/plain": [
       "<Figure size 720x720 with 2 Axes>"
      ]
     },
     "metadata": {
      "needs_background": "light"
     },
     "output_type": "display_data"
    }
   ],
   "source": [
    "# %%capture cap --no-stderr\n",
    "\n",
    "\n",
    "if environ['train_type'] == \"BB\":\n",
    "\n",
    "    #define generator\n",
    "    train_gen = HDF5ImageGenerator(\n",
    "        src= path_data,\n",
    "        X_key=\"data/train/gaf\",\n",
    "        y_key=\"labels/train/gaf\",\n",
    "        classes_key=\"appliances/classes\",\n",
    "        labels_encoding=\"hot\",\n",
    "        shuffle=True,\n",
    "        batch_size=int(environ['batch_size']),\n",
    "        num_classes=num_of_classes,\n",
    "        mode=\"train\",\n",
    "        )\n",
    "    \n",
    "    model = select_model(environ['learn_type'])\n",
    "    \n",
    "    txt_log.write(\"fitting BB model: \\n\")\n",
    "    \n",
    "    model.fit(\n",
    "        train_gen,\n",
    "        verbose=2,\n",
    "        epochs=int(environ['epochs']),\n",
    "        class_weight=d_class_weights,\n",
    "        callbacks = [save_op_callback],\n",
    "    )\n",
    "    \n",
    "    txt_log.write(\"finished fitting BB model: \\n\")\n",
    "\n",
    "    evaluate_model(model,x_test,y_test,appliances)\n",
    "    \n",
    "    if environ['save_model']==\"True\":\n",
    "\n",
    "        path_model_save = path+\"/models/\"+environ['learn_type']+\"/\"+dataset.split(\"_\")[0]+\"_\"+dataset.split(\"_R\")[1][0:2]\n",
    "        model.save(path_model_save)\n",
    "        txt_log.write(\"model saved to:\"+\"/models/\"+environ['learn_type']+\"/\"+dataset.split(\"_\")[0]+\"_\"+dataset.split(\"_R\")[1][0:2]+\" \\n\")\n",
    "        \n",
    "        \n",
    "# with open(path_save+\"_out_log.txt\" as f:\n",
    "#     f.write(cap.stdout)\n"
   ]
  },
  {
   "cell_type": "code",
   "execution_count": 13,
   "metadata": {
    "collapsed": true,
    "execution": {
     "iopub.execute_input": "2022-02-11T15:42:04.843694Z",
     "iopub.status.busy": "2022-02-11T15:42:04.842325Z",
     "iopub.status.idle": "2022-02-11T15:42:04.846089Z",
     "shell.execute_reply": "2022-02-11T15:42:04.844998Z"
    }
   },
   "outputs": [],
   "source": [
    "#model = keras.models.load_model(path_model1)\n",
    "# model_used = model"
   ]
  },
  {
   "cell_type": "code",
   "execution_count": 14,
   "metadata": {
    "collapsed": true,
    "execution": {
     "iopub.execute_input": "2022-02-11T15:42:04.851602Z",
     "iopub.status.busy": "2022-02-11T15:42:04.850430Z",
     "iopub.status.idle": "2022-02-11T15:42:04.852886Z",
     "shell.execute_reply": "2022-02-11T15:42:04.853877Z"
    },
    "jupyter": {
     "outputs_hidden": true
    },
    "tags": []
   },
   "outputs": [],
   "source": [
    "# evaluate_model(model,x_test,y_test,appliances)"
   ]
  },
  {
   "cell_type": "code",
   "execution_count": 15,
   "metadata": {
    "collapsed": true,
    "execution": {
     "iopub.execute_input": "2022-02-11T15:42:04.872669Z",
     "iopub.status.busy": "2022-02-11T15:42:04.871580Z",
     "iopub.status.idle": "2022-02-11T15:42:04.873393Z",
     "shell.execute_reply": "2022-02-11T15:42:04.873937Z"
    }
   },
   "outputs": [],
   "source": [
    "# datasets =[\n",
    "#     \"ukdale_gen_GASF_13m_100S5X12A54480_R82_80-20\"\n",
    "# ]\n",
    "\n",
    "if environ['train_type'] == \"TL\": \n",
    "    models = environ['tl_datasets'].replace(\" \",\"\").split(\",\")\n",
    "    #model = [\"base\"]\n",
    "    \n",
    "    for model in models:\n",
    "    \n",
    "        file_name = dataset\n",
    "        \n",
    "        datasetTL = model\n",
    "        \n",
    "        seed = dataset.split(\"_R\")[1][0:2]\n",
    "        \n",
    "        print(\"using dataset data\",dataset.split(\"_\")[0],\"training on model\",model,\"seed\",environ['seed'])\n",
    "        txt_log.write(\"starting \"+dataset.split(\"_\")[0]+\" training on model \"+model+\" seed \"+environ['seed']+\"\\n\")\n",
    "\n",
    "\n",
    "        tf.keras.backend.clear_session()\n",
    "\n",
    "\n",
    "        #read the file\n",
    "        path = str(pathlib.Path().resolve())\n",
    "        path_data = f\"{path}\"\"/data/\"f\"{file_name}\"\"/\"f\"{file_name}\"\".hdf5\"\n",
    "        file = h5py.File(path_data,\"r+\")\n",
    "\n",
    "\n",
    "        print(\"reading data, printing stats: \")\n",
    "        x_test,y_test,d_class_weights,num_of_classes,appliances = get_data(file)\n",
    "        print(\"loading model\")\n",
    "        \n",
    "        model_seed = 42\n",
    "        model_used = create_tl_model(model,environ['learn_type'],model_seed,path,num_of_classes)\n",
    "                \n",
    "        train_gen = HDF5ImageGenerator(\n",
    "            src= path_data,\n",
    "            X_key=\"data/train/gaf\",\n",
    "            y_key=\"labels/train/gaf\",\n",
    "            classes_key=\"appliances/classes\",\n",
    "            labels_encoding=\"hot\",\n",
    "            shuffle=True,\n",
    "            batch_size=int(environ['batch_size']),\n",
    "            num_classes=num_of_classes,\n",
    "            mode=\"train\",\n",
    "            )\n",
    "\n",
    "        model_used.fit(\n",
    "            train_gen,\n",
    "            verbose=2,\n",
    "            epochs=int(environ['epochs']),\n",
    "            class_weight=d_class_weights,\n",
    "            callbacks = [save_op_callback]\n",
    "            #workers = 6,\n",
    "        )\n",
    "        \n",
    "        txt_log.write(\"finished \"+dataset.split(\"_\")[0]+\" training on model \"+model+\" seed \"+environ['seed']+\"\\n\")\n",
    "\n",
    "\n",
    "        evaluate_model(model_used,x_test,y_test,appliances)\n",
    "        \n",
    "\n",
    "\n",
    "\n",
    "        #del model_used\n",
    "\n"
   ]
  },
  {
   "cell_type": "code",
   "execution_count": 16,
   "metadata": {
    "execution": {
     "iopub.execute_input": "2022-02-11T15:42:04.879959Z",
     "iopub.status.busy": "2022-02-11T15:42:04.879339Z",
     "iopub.status.idle": "2022-02-11T15:42:04.882619Z",
     "shell.execute_reply": "2022-02-11T15:42:04.883277Z"
    }
   },
   "outputs": [],
   "source": [
    "txt_log.close()"
   ]
  },
  {
   "cell_type": "code",
   "execution_count": null,
   "metadata": {},
   "outputs": [],
   "source": []
  }
 ],
 "metadata": {
  "colab": {
   "authorship_tag": "ABX9TyMej4PvP65qsLng7TnQKWA4",
   "name": "LSTM-gen",
   "provenance": []
  },
  "kernelspec": {
   "display_name": "Python 3 (ipykernel)",
   "language": "python",
   "name": "python3"
  },
  "language_info": {
   "codemirror_mode": {
    "name": "ipython",
    "version": 3
   },
   "file_extension": ".py",
   "mimetype": "text/x-python",
   "name": "python",
   "nbconvert_exporter": "python",
   "pygments_lexer": "ipython3",
   "version": "3.8.10"
  }
 },
 "nbformat": 4,
 "nbformat_minor": 4
}
