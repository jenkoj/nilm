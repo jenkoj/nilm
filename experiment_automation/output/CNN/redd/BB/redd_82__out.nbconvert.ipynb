{
 "cells": [
  {
   "cell_type": "code",
   "execution_count": 1,
   "metadata": {
    "execution": {
     "iopub.execute_input": "2022-02-03T04:49:53.793593Z",
     "iopub.status.busy": "2022-02-03T04:49:53.792312Z",
     "iopub.status.idle": "2022-02-03T04:49:55.503695Z",
     "shell.execute_reply": "2022-02-03T04:49:55.502479Z"
    },
    "id": "WqUfHWgtJxtu",
    "scrolled": true,
    "tags": []
   },
   "outputs": [
    {
     "name": "stderr",
     "output_type": "stream",
     "text": [
      "2022-02-03 04:49:54.639719: I tensorflow/stream_executor/platform/default/dso_loader.cc:54] Successfully opened dynamic library libcudart.so.11.0\n"
     ]
    },
    {
     "name": "stdout",
     "output_type": "stream",
     "text": [
      "2.5.0\n",
      "Num GPUs Available:  1\n"
     ]
    },
    {
     "name": "stderr",
     "output_type": "stream",
     "text": [
      "2022-02-03 04:49:55.437519: I tensorflow/stream_executor/platform/default/dso_loader.cc:54] Successfully opened dynamic library libcuda.so.1\n",
      "2022-02-03 04:49:55.484380: I tensorflow/core/common_runtime/gpu/gpu_device.cc:1734] Found device 0 with properties: \n",
      "pciBusID: 0000:21:00.0 name: NVIDIA GeForce RTX 2080 Ti computeCapability: 7.5\n",
      "coreClock: 1.545GHz coreCount: 68 deviceMemorySize: 10.76GiB deviceMemoryBandwidth: 573.69GiB/s\n",
      "2022-02-03 04:49:55.484433: I tensorflow/stream_executor/platform/default/dso_loader.cc:54] Successfully opened dynamic library libcudart.so.11.0\n",
      "2022-02-03 04:49:55.488558: I tensorflow/stream_executor/platform/default/dso_loader.cc:54] Successfully opened dynamic library libcublas.so.11\n",
      "2022-02-03 04:49:55.488629: I tensorflow/stream_executor/platform/default/dso_loader.cc:54] Successfully opened dynamic library libcublasLt.so.11\n",
      "2022-02-03 04:49:55.490572: I tensorflow/stream_executor/platform/default/dso_loader.cc:54] Successfully opened dynamic library libcufft.so.10\n",
      "2022-02-03 04:49:55.490910: I tensorflow/stream_executor/platform/default/dso_loader.cc:54] Successfully opened dynamic library libcurand.so.10\n",
      "2022-02-03 04:49:55.491741: I tensorflow/stream_executor/platform/default/dso_loader.cc:54] Successfully opened dynamic library libcutensor.so.1\n",
      "2022-02-03 04:49:55.492327: I tensorflow/stream_executor/platform/default/dso_loader.cc:54] Successfully opened dynamic library libcusolver.so.11\n",
      "2022-02-03 04:49:55.493058: I tensorflow/stream_executor/platform/default/dso_loader.cc:54] Successfully opened dynamic library libcusparse.so.11\n",
      "2022-02-03 04:49:55.493189: I tensorflow/stream_executor/platform/default/dso_loader.cc:54] Successfully opened dynamic library libcudnn.so.8\n",
      "2022-02-03 04:49:55.493577: I tensorflow/core/common_runtime/gpu/gpu_device.cc:1872] Adding visible gpu devices: 0\n"
     ]
    }
   ],
   "source": [
    "import h5py\n",
    "import numpy as np\n",
    "\n",
    "from sklearn.model_selection import train_test_split\n",
    "from sklearn.metrics import classification_report, confusion_matrix\n",
    "import matplotlib.pyplot as plt\n",
    "import itertools \n",
    "import pyts\n",
    "from pyts.approximation import PiecewiseAggregateApproximation\n",
    "\n",
    "from sklearn.utils import class_weight\n",
    "\n",
    "import pathlib\n",
    "import tensorflow as tf\n",
    "from tensorflow import keras\n",
    "from tensorflow.keras import layers, optimizers\n",
    "from tensorflow.keras.layers import Convolution2D,Conv2D, Dense,Dropout, Flatten, Activation, MaxPooling2D, Input, Conv1D, GlobalAveragePooling1D, TimeDistributed, GRU, LSTM\n",
    "\n",
    "print(tf.__version__)\n",
    "print(\"Num GPUs Available: \", len(tf.config.list_physical_devices('GPU')))\n",
    "gpus = tf.config.experimental.list_physical_devices('GPU')\n",
    "\n",
    "try:\n",
    "    for gpu in gpus:\n",
    "        tf.config.experimental.set_memory_growth(gpu, True)\n",
    "except RuntimeError as e:\n",
    "    print(e)"
   ]
  },
  {
   "cell_type": "code",
   "execution_count": 2,
   "metadata": {
    "execution": {
     "iopub.execute_input": "2022-02-03T04:49:55.509973Z",
     "iopub.status.busy": "2022-02-03T04:49:55.508790Z",
     "iopub.status.idle": "2022-02-03T04:49:55.513598Z",
     "shell.execute_reply": "2022-02-03T04:49:55.512697Z"
    }
   },
   "outputs": [
    {
     "name": "stdout",
     "output_type": "stream",
     "text": [
      "redd_gen_GASF_60m_300S0X_R82_80-20\n"
     ]
    }
   ],
   "source": [
    "from os import environ\n",
    "dataset = environ['dataset']\n",
    "print(dataset)"
   ]
  },
  {
   "cell_type": "code",
   "execution_count": 3,
   "metadata": {
    "execution": {
     "iopub.execute_input": "2022-02-03T04:49:55.519766Z",
     "iopub.status.busy": "2022-02-03T04:49:55.518729Z",
     "iopub.status.idle": "2022-02-03T04:49:55.523370Z",
     "shell.execute_reply": "2022-02-03T04:49:55.524336Z"
    }
   },
   "outputs": [],
   "source": [
    "#my defs \n",
    "from modules.models import  LSTM_3D_V56, CNN_V56,LSTM_BI_V56\n",
    "from modules.tools import my_print, plot_confusion_matrix_norm, get_data,get_data_split, evaluate_model, create_tl_model\n",
    "from modules.HDF5ImageGenerator import HDF5ImageGenerator"
   ]
  },
  {
   "cell_type": "code",
   "execution_count": 4,
   "metadata": {
    "execution": {
     "iopub.execute_input": "2022-02-03T04:49:55.533654Z",
     "iopub.status.busy": "2022-02-03T04:49:55.532438Z",
     "iopub.status.idle": "2022-02-03T04:49:55.535385Z",
     "shell.execute_reply": "2022-02-03T04:49:55.536377Z"
    },
    "id": "RT1vwq7-KOtB"
   },
   "outputs": [],
   "source": [
    "#LOAD DATASET\n",
    "#file_name = \"ukdale_gen_GASF_13m_100S5X12A54480\"\n",
    "#file_name = \"refit_gen_GASF_13m_100S5X_15A166006\"\n",
    "file_name = \"refit_gen_GASF_13m_100S5X_15A166006_R42-80-20\"\n",
    "#file_name = \"refit_gen_GASF_13m_100S5X_15A166006_R42_80-20\"\n",
    "file_name = \"refit_gen_GASF_60m_300S0X_15A157030N_R12_80-20-V1\"\n",
    "file_name = environ[\"dataset\"]\n",
    "#read the file\n",
    "path = str(pathlib.Path().resolve())\n",
    "\n",
    "path_data = f\"{path}\"\"/data/\"f\"{file_name}\"\"/\"f\"{file_name}\"\".hdf5\"\n",
    "\n",
    "file = h5py.File(path_data,\"r+\")"
   ]
  },
  {
   "cell_type": "code",
   "execution_count": 5,
   "metadata": {
    "execution": {
     "iopub.execute_input": "2022-02-03T04:49:55.543934Z",
     "iopub.status.busy": "2022-02-03T04:49:55.542756Z",
     "iopub.status.idle": "2022-02-03T04:49:55.901772Z",
     "shell.execute_reply": "2022-02-03T04:49:55.902752Z"
    },
    "scrolled": true
   },
   "outputs": [
    {
     "name": "stdout",
     "output_type": "stream",
     "text": [
      "['fridge/freezer', 'electric furnace', 'light', 'microwave', 'sockets']\n",
      "{0: 0.9442708333333333, 1: 2.8383561643835615, 2: 0.5683385579937305, 3: 5.824899598393574, 4: 0.6033277870216306}\n",
      " \n",
      "Tests \n",
      "fridge/freezer test: 384 train: 1536\n",
      "electric furnace test: 128 train: 511\n",
      "light test: 638 train: 2552\n",
      "microwave test: 62 train: 249\n",
      "sockets test: 601 train: 2404\n"
     ]
    }
   ],
   "source": [
    "x_test,y_test,d_class_weights,num_of_classes,appliances = get_data(file)"
   ]
  },
  {
   "cell_type": "code",
   "execution_count": 6,
   "metadata": {
    "execution": {
     "iopub.execute_input": "2022-02-03T04:49:55.909764Z",
     "iopub.status.busy": "2022-02-03T04:49:55.908570Z",
     "iopub.status.idle": "2022-02-03T04:49:55.911030Z",
     "shell.execute_reply": "2022-02-03T04:49:55.911999Z"
    }
   },
   "outputs": [],
   "source": [
    "def select_model(learn_type):\n",
    "    \n",
    "    if learn_type == \"CNN\":\n",
    "        model = CNN_V56(file[\"data/train/gaf\"][0:10],num_of_classes,lr= 0.00002)\n",
    "\n",
    "    if learn_type == \"LSTM\":\n",
    "        model = LSTM_3D_V56(file[\"data/train/gaf\"][0:10],num_of_classes,lr= 0.00002)\n",
    "\n",
    "    if learn_type == \"BI_LSTM\":\n",
    "        model = LSTM_BI_V56(file[\"data/train/gaf\"][0:10],num_of_classes,lr= 0.00002)\n",
    "\n",
    "    return model\n",
    "              "
   ]
  },
  {
   "cell_type": "code",
   "execution_count": 7,
   "metadata": {
    "execution": {
     "iopub.execute_input": "2022-02-03T04:49:55.918388Z",
     "iopub.status.busy": "2022-02-03T04:49:55.917191Z",
     "iopub.status.idle": "2022-02-03T04:49:55.919641Z",
     "shell.execute_reply": "2022-02-03T04:49:55.920620Z"
    }
   },
   "outputs": [],
   "source": [
    "path_save = path+'/experiment_automation/output/'+environ['learn_type']+'/'+dataset.split(\"_\")[0]+\"/\"+environ['train_type']+\"/\"+dataset.split(\"_\")[0]+\"_\"+environ['seed']+\"_\"+environ['tl_datasets']\n",
    "path_save_nb = path_save+\"_out.ipynb\"\n",
    "path_save_log = path_save+\"_out_log2.txt\""
   ]
  },
  {
   "cell_type": "code",
   "execution_count": 8,
   "metadata": {
    "execution": {
     "iopub.execute_input": "2022-02-03T04:49:55.927992Z",
     "iopub.status.busy": "2022-02-03T04:49:55.926793Z",
     "iopub.status.idle": "2022-02-03T04:49:56.010972Z",
     "shell.execute_reply": "2022-02-03T04:49:56.011923Z"
    }
   },
   "outputs": [],
   "source": [
    "from keras.callbacks import LambdaCallback\n",
    "#path_log= path+'/experiment_automation/output/'+environ['learn_type']+'/'+dataset.split(\"_\")[0]+\"/\"+environ['train_type']+\"/\"+dataset.split(\"_\")[0]+\"_\"+environ['seed']+\"_\"+environ['tl_datasets']+\"_log.txt\"\n",
    "txt_log = open(path_save+\"_log.txt\", mode='wt', buffering=1)\n",
    "txt_log.write(\"file created! \\n\")\n",
    "\n",
    "save_op_callback = LambdaCallback(\n",
    "  on_epoch_end = lambda epoch, logs: txt_log.write(\n",
    "    str({'epoch': epoch, 'loss': logs['loss'],'acc': logs['accuracy']}) + '\\n'),\n",
    "                                                           \n",
    ")"
   ]
  },
  {
   "cell_type": "code",
   "execution_count": 9,
   "metadata": {
    "execution": {
     "iopub.execute_input": "2022-02-03T04:49:56.017373Z",
     "iopub.status.busy": "2022-02-03T04:49:56.016201Z",
     "iopub.status.idle": "2022-02-03T04:49:56.021182Z",
     "shell.execute_reply": "2022-02-03T04:49:56.020128Z"
    }
   },
   "outputs": [
    {
     "name": "stdout",
     "output_type": "stream",
     "text": [
      "/workspace/notebooks/experiment_automation/output/CNN/redd/BB/redd_82__out.ipynb\n"
     ]
    }
   ],
   "source": [
    "print(path_save_nb)"
   ]
  },
  {
   "cell_type": "code",
   "execution_count": 10,
   "metadata": {
    "execution": {
     "iopub.execute_input": "2022-02-03T04:49:56.026429Z",
     "iopub.status.busy": "2022-02-03T04:49:56.025265Z",
     "iopub.status.idle": "2022-02-03T04:49:56.027682Z",
     "shell.execute_reply": "2022-02-03T04:49:56.028538Z"
    }
   },
   "outputs": [],
   "source": [
    "# rm $path_save_log"
   ]
  },
  {
   "cell_type": "code",
   "execution_count": 11,
   "metadata": {
    "execution": {
     "iopub.execute_input": "2022-02-03T04:49:56.033417Z",
     "iopub.status.busy": "2022-02-03T04:49:56.032456Z",
     "iopub.status.idle": "2022-02-03T04:49:56.034439Z",
     "shell.execute_reply": "2022-02-03T04:49:56.035220Z"
    }
   },
   "outputs": [],
   "source": [
    "# %%capture cap \n",
    "\n",
    "# with open(path_save_log,\"wt\") as f:\n",
    "#     f.write(cap.stdout)\n",
    "    \n",
    "# print(\"out capture..\")"
   ]
  },
  {
   "cell_type": "code",
   "execution_count": 12,
   "metadata": {
    "execution": {
     "iopub.execute_input": "2022-02-03T04:49:56.051007Z",
     "iopub.status.busy": "2022-02-03T04:49:56.049761Z",
     "iopub.status.idle": "2022-02-03T05:16:22.304691Z",
     "shell.execute_reply": "2022-02-03T05:16:22.305026Z"
    },
    "id": "vqA9NwOqKrb5",
    "jupyter": {
     "outputs_hidden": true
    },
    "tags": []
   },
   "outputs": [
    {
     "name": "stdout",
     "output_type": "stream",
     "text": [
      "Normal way\n",
      "[0 1 2 3 4 5 6 7 8 9]\n",
      "WARNING:tensorflow:From /usr/local/lib/python3.8/dist-packages/tensorflow/python/ops/array_ops.py:5043: calling gather (from tensorflow.python.ops.array_ops) with validate_indices is deprecated and will be removed in a future version.\n",
      "Instructions for updating:\n",
      "The `validate_indices` argument has no effect. Indices are always validated on CPU and never validated on GPU.\n"
     ]
    },
    {
     "name": "stderr",
     "output_type": "stream",
     "text": [
      "2022-02-03 04:49:56.063725: I tensorflow/core/common_runtime/gpu/gpu_device.cc:1734] Found device 0 with properties: \n",
      "pciBusID: 0000:21:00.0 name: NVIDIA GeForce RTX 2080 Ti computeCapability: 7.5\n",
      "coreClock: 1.545GHz coreCount: 68 deviceMemorySize: 10.76GiB deviceMemoryBandwidth: 573.69GiB/s\n",
      "2022-02-03 04:49:56.064087: I tensorflow/core/common_runtime/gpu/gpu_device.cc:1872] Adding visible gpu devices: 0\n",
      "2022-02-03 04:49:56.064155: I tensorflow/stream_executor/platform/default/dso_loader.cc:54] Successfully opened dynamic library libcudart.so.11.0\n",
      "2022-02-03 04:49:56.440541: I tensorflow/core/common_runtime/gpu/gpu_device.cc:1258] Device interconnect StreamExecutor with strength 1 edge matrix:\n",
      "2022-02-03 04:49:56.440576: I tensorflow/core/common_runtime/gpu/gpu_device.cc:1264]      0 \n",
      "2022-02-03 04:49:56.440582: I tensorflow/core/common_runtime/gpu/gpu_device.cc:1277] 0:   N \n",
      "2022-02-03 04:49:56.441136: I tensorflow/core/common_runtime/gpu/gpu_device.cc:1418] Created TensorFlow device (/job:localhost/replica:0/task:0/device:GPU:0 with 9649 MB memory) -> physical GPU (device: 0, name: NVIDIA GeForce RTX 2080 Ti, pci bus id: 0000:21:00.0, compute capability: 7.5)\n",
      "2022-02-03 04:49:56.441463: I tensorflow/core/common_runtime/process_util.cc:146] Creating new thread pool with default inter op setting: 20. Tune using inter_op_parallelism_threads for best performance.\n",
      "2022-02-03 04:49:56.549902: I tensorflow/compiler/mlir/mlir_graph_optimization_pass.cc:176] None of the MLIR Optimization Passes are enabled (registered 2)\n",
      "2022-02-03 04:49:56.568479: I tensorflow/core/platform/profile_utils/cpu_utils.cc:114] CPU Frequency: 3299990000 Hz\n"
     ]
    },
    {
     "name": "stdout",
     "output_type": "stream",
     "text": [
      "Epoch 1/50\n"
     ]
    },
    {
     "name": "stderr",
     "output_type": "stream",
     "text": [
      "2022-02-03 04:49:57.176715: I tensorflow/stream_executor/platform/default/dso_loader.cc:54] Successfully opened dynamic library libcudnn.so.8\n",
      "2022-02-03 04:49:57.634082: I tensorflow/stream_executor/cuda/cuda_dnn.cc:380] Loaded cuDNN version 8202\n",
      "2022-02-03 04:49:58.116669: I tensorflow/stream_executor/platform/default/dso_loader.cc:54] Successfully opened dynamic library libcublas.so.11\n",
      "2022-02-03 04:49:58.545283: I tensorflow/stream_executor/platform/default/dso_loader.cc:54] Successfully opened dynamic library libcublasLt.so.11\n"
     ]
    },
    {
     "name": "stdout",
     "output_type": "stream",
     "text": [
      "907/907 - 33s - loss: 1.5196 - accuracy: 0.2890\n",
      "Epoch 2/50\n",
      "907/907 - 32s - loss: 1.3704 - accuracy: 0.3698\n",
      "Epoch 3/50\n",
      "907/907 - 32s - loss: 1.2836 - accuracy: 0.4082\n",
      "Epoch 4/50\n",
      "907/907 - 32s - loss: 1.2599 - accuracy: 0.4261\n",
      "Epoch 5/50\n",
      "907/907 - 32s - loss: 1.1672 - accuracy: 0.4653\n",
      "Epoch 6/50\n",
      "907/907 - 32s - loss: 1.1272 - accuracy: 0.4883\n",
      "Epoch 7/50\n",
      "907/907 - 32s - loss: 1.0797 - accuracy: 0.5309\n",
      "Epoch 8/50\n",
      "907/907 - 32s - loss: 1.0571 - accuracy: 0.5746\n",
      "Epoch 9/50\n",
      "907/907 - 32s - loss: 1.0123 - accuracy: 0.5939\n",
      "Epoch 10/50\n",
      "907/907 - 32s - loss: 0.9694 - accuracy: 0.6365\n",
      "Epoch 11/50\n",
      "907/907 - 32s - loss: 0.9226 - accuracy: 0.6379\n",
      "Epoch 12/50\n",
      "907/907 - 32s - loss: 0.8656 - accuracy: 0.6566\n",
      "Epoch 13/50\n",
      "907/907 - 31s - loss: 0.8297 - accuracy: 0.6631\n",
      "Epoch 14/50\n",
      "907/907 - 31s - loss: 0.8104 - accuracy: 0.6620\n",
      "Epoch 15/50\n",
      "907/907 - 31s - loss: 0.7796 - accuracy: 0.6732\n",
      "Epoch 16/50\n",
      "907/907 - 31s - loss: 0.7213 - accuracy: 0.6873\n",
      "Epoch 17/50\n",
      "907/907 - 31s - loss: 0.7096 - accuracy: 0.6964\n",
      "Epoch 18/50\n",
      "907/907 - 31s - loss: 0.6488 - accuracy: 0.7092\n",
      "Epoch 19/50\n",
      "907/907 - 31s - loss: 0.6344 - accuracy: 0.7067\n",
      "Epoch 20/50\n",
      "907/907 - 31s - loss: 0.6251 - accuracy: 0.7062\n",
      "Epoch 21/50\n",
      "907/907 - 31s - loss: 0.5980 - accuracy: 0.7117\n",
      "Epoch 22/50\n",
      "907/907 - 31s - loss: 0.5904 - accuracy: 0.7238\n",
      "Epoch 23/50\n",
      "907/907 - 31s - loss: 0.5913 - accuracy: 0.7199\n",
      "Epoch 24/50\n",
      "907/907 - 31s - loss: 0.5490 - accuracy: 0.7332\n",
      "Epoch 25/50\n",
      "907/907 - 31s - loss: 0.5446 - accuracy: 0.7363\n",
      "Epoch 26/50\n",
      "907/907 - 31s - loss: 0.5182 - accuracy: 0.7363\n",
      "Epoch 27/50\n",
      "907/907 - 31s - loss: 0.5127 - accuracy: 0.7402\n",
      "Epoch 28/50\n",
      "907/907 - 31s - loss: 0.5103 - accuracy: 0.7432\n",
      "Epoch 29/50\n",
      "907/907 - 31s - loss: 0.5211 - accuracy: 0.7409\n",
      "Epoch 30/50\n",
      "907/907 - 31s - loss: 0.4716 - accuracy: 0.7594\n",
      "Epoch 31/50\n",
      "907/907 - 31s - loss: 0.4770 - accuracy: 0.7645\n",
      "Epoch 32/50\n",
      "907/907 - 31s - loss: 0.4545 - accuracy: 0.7653\n",
      "Epoch 33/50\n",
      "907/907 - 31s - loss: 0.4510 - accuracy: 0.7659\n",
      "Epoch 34/50\n",
      "907/907 - 31s - loss: 0.4437 - accuracy: 0.7718\n",
      "Epoch 35/50\n",
      "907/907 - 31s - loss: 0.4434 - accuracy: 0.7693\n",
      "Epoch 36/50\n",
      "907/907 - 31s - loss: 0.4307 - accuracy: 0.7730\n",
      "Epoch 37/50\n",
      "907/907 - 31s - loss: 0.4084 - accuracy: 0.7843\n",
      "Epoch 38/50\n",
      "907/907 - 31s - loss: 0.4185 - accuracy: 0.7845\n",
      "Epoch 39/50\n",
      "907/907 - 31s - loss: 0.4198 - accuracy: 0.7860\n",
      "Epoch 40/50\n",
      "907/907 - 31s - loss: 0.3780 - accuracy: 0.8010\n",
      "Epoch 41/50\n",
      "907/907 - 31s - loss: 0.3859 - accuracy: 0.7901\n",
      "Epoch 42/50\n",
      "907/907 - 31s - loss: 0.3699 - accuracy: 0.8025\n",
      "Epoch 43/50\n",
      "907/907 - 31s - loss: 0.3931 - accuracy: 0.7947\n",
      "Epoch 44/50\n",
      "907/907 - 31s - loss: 0.3669 - accuracy: 0.8042\n",
      "Epoch 45/50\n",
      "907/907 - 31s - loss: 0.3722 - accuracy: 0.8058\n",
      "Epoch 46/50\n",
      "907/907 - 31s - loss: 0.3736 - accuracy: 0.8097\n",
      "Epoch 47/50\n",
      "907/907 - 32s - loss: 0.3547 - accuracy: 0.8194\n",
      "Epoch 48/50\n",
      "907/907 - 31s - loss: 0.3528 - accuracy: 0.8178\n",
      "Epoch 49/50\n",
      "907/907 - 32s - loss: 0.3463 - accuracy: 0.8145\n",
      "Epoch 50/50\n",
      "907/907 - 32s - loss: 0.3348 - accuracy: 0.8247\n",
      "57/57 - 3s\n",
      "Normalized confusion matrix\n",
      "                  precision    recall  f1-score   support\n",
      "\n",
      "  fridge/freezer       0.82      0.86      0.84       384\n",
      "electric furnace       0.81      0.88      0.84       128\n",
      "           light       0.78      0.69      0.73       638\n",
      "       microwave       0.32      0.71      0.44        62\n",
      "         sockets       0.73      0.69      0.71       601\n",
      "\n",
      "        accuracy                           0.74      1813\n",
      "       macro avg       0.69      0.77      0.71      1813\n",
      "    weighted avg       0.76      0.74      0.75      1813\n",
      "\n"
     ]
    },
    {
     "name": "stderr",
     "output_type": "stream",
     "text": [
      "2022-02-03 05:16:21.400679: W tensorflow/python/util/util.cc:348] Sets are not currently considered sequences, but this may change in the future, so consider avoiding using them.\n"
     ]
    },
    {
     "name": "stdout",
     "output_type": "stream",
     "text": [
      "INFO:tensorflow:Assets written to: /workspace/notebooks/models/CNN/redd_82/assets\n"
     ]
    },
    {
     "data": {
      "image/png": "[encoded data removed]",
      "text/plain": [
       "<Figure size 720x720 with 2 Axes>"
      ]
     },
     "metadata": {
      "needs_background": "light"
     },
     "output_type": "display_data"
    }
   ],
   "source": [
    "# %%capture cap --no-stderr\n",
    "\n",
    "\n",
    "if environ['train_type'] == \"BB\":\n",
    "\n",
    "    #define generator\n",
    "    train_gen = HDF5ImageGenerator(\n",
    "        src= path_data,\n",
    "        X_key=\"data/train/gaf\",\n",
    "        y_key=\"labels/train/gaf\",\n",
    "        classes_key=\"appliances/classes\",\n",
    "        labels_encoding=\"hot\",\n",
    "        shuffle=True,\n",
    "        batch_size=int(environ['batch_size']),\n",
    "        num_classes=num_of_classes,\n",
    "        mode=\"train\",\n",
    "        )\n",
    "    \n",
    "    model = select_model(environ['learn_type'])\n",
    "    \n",
    "    txt_log.write(\"fitting BB model: \\n\")\n",
    "    \n",
    "    model.fit(\n",
    "        train_gen,\n",
    "        verbose=2,\n",
    "        epochs=int(environ['epochs']),\n",
    "        class_weight=d_class_weights,\n",
    "        callbacks = [save_op_callback],\n",
    "    )\n",
    "    \n",
    "    txt_log.write(\"finished fitting BB model: \\n\")\n",
    "\n",
    "    evaluate_model(model,x_test,y_test,appliances)\n",
    "    \n",
    "    if environ['save_model']==\"True\":\n",
    "\n",
    "        path_model_save = path+\"/models/\"+environ['learn_type']+\"/\"+dataset.split(\"_\")[0]+\"_\"+dataset.split(\"_R\")[1][0:2]\n",
    "        model.save(path_model_save)\n",
    "        txt_log.write(\"model saved to:\"+\"/models/\"+environ['learn_type']+\"/\"+dataset.split(\"_\")[0]+\"_\"+dataset.split(\"_R\")[1][0:2]+\" \\n\")\n",
    "        \n",
    "        \n",
    "# with open(path_save+\"_out_log.txt\" as f:\n",
    "#     f.write(cap.stdout)\n"
   ]
  },
  {
   "cell_type": "code",
   "execution_count": 13,
   "metadata": {
    "collapsed": true,
    "execution": {
     "iopub.execute_input": "2022-02-03T05:16:22.310357Z",
     "iopub.status.busy": "2022-02-03T05:16:22.308932Z",
     "iopub.status.idle": "2022-02-03T05:16:22.312728Z",
     "shell.execute_reply": "2022-02-03T05:16:22.311562Z"
    }
   },
   "outputs": [],
   "source": [
    "#model = keras.models.load_model(path_model1)\n",
    "# model_used = model"
   ]
  },
  {
   "cell_type": "code",
   "execution_count": 14,
   "metadata": {
    "collapsed": true,
    "execution": {
     "iopub.execute_input": "2022-02-03T05:16:22.318510Z",
     "iopub.status.busy": "2022-02-03T05:16:22.317151Z",
     "iopub.status.idle": "2022-02-03T05:16:22.320950Z",
     "shell.execute_reply": "2022-02-03T05:16:22.319789Z"
    },
    "jupyter": {
     "outputs_hidden": true
    },
    "tags": []
   },
   "outputs": [],
   "source": [
    "# evaluate_model(model,x_test,y_test,appliances)"
   ]
  },
  {
   "cell_type": "code",
   "execution_count": 15,
   "metadata": {
    "collapsed": true,
    "execution": {
     "iopub.execute_input": "2022-02-03T05:16:22.338025Z",
     "iopub.status.busy": "2022-02-03T05:16:22.336582Z",
     "iopub.status.idle": "2022-02-03T05:16:22.339423Z",
     "shell.execute_reply": "2022-02-03T05:16:22.340630Z"
    }
   },
   "outputs": [],
   "source": [
    "# datasets =[\n",
    "#     \"ukdale_gen_GASF_13m_100S5X12A54480_R82_80-20\"\n",
    "# ]\n",
    "\n",
    "if environ['train_type'] == \"TL\": \n",
    "    models = environ['tl_datasets'].split(\",\")\n",
    "    #model = [\"base\"]\n",
    "    \n",
    "    for model in models:\n",
    "    \n",
    "        file_name = dataset\n",
    "        \n",
    "        datasetTL = model\n",
    "        \n",
    "        seed = dataset.split(\"_R\")[1][0:2]\n",
    "        \n",
    "        print(\"using dataset data\",dataset.split(\"_\")[0],\"training on model\",model,\"seed\",environ['seed'])\n",
    "        txt_log.write(\"starting \"+dataset.split(\"_\")[0]+\" training on model \"+model+\" seed \"+environ['seed']+\"\\n\")\n",
    "\n",
    "\n",
    "        tf.keras.backend.clear_session()\n",
    "\n",
    "\n",
    "        #read the file\n",
    "        path = str(pathlib.Path().resolve())\n",
    "        path_data = f\"{path}\"\"/data/\"f\"{file_name}\"\"/\"f\"{file_name}\"\".hdf5\"\n",
    "        file = h5py.File(path_data,\"r+\")\n",
    "\n",
    "\n",
    "        print(\"reading data, printing stats: \")\n",
    "        x_test,y_test,d_class_weights,num_of_classes,appliances = get_data(file)\n",
    "        print(\"loading model\")\n",
    "        \n",
    "        model_seed = 42\n",
    "        model_used = create_tl_model(model,environ['learn_type'],model_seed,path,num_of_classes)\n",
    "                \n",
    "        train_gen = HDF5ImageGenerator(\n",
    "            src= path_data,\n",
    "            X_key=\"data/train/gaf\",\n",
    "            y_key=\"labels/train/gaf\",\n",
    "            classes_key=\"appliances/classes\",\n",
    "            labels_encoding=\"hot\",\n",
    "            shuffle=True,\n",
    "            batch_size=int(environ['batch_size']),\n",
    "            num_classes=num_of_classes,\n",
    "            mode=\"train\",\n",
    "            )\n",
    "\n",
    "        model_used.fit(\n",
    "            train_gen,\n",
    "            verbose=2,\n",
    "            epochs=int(environ['epochs']),\n",
    "            class_weight=d_class_weights,\n",
    "            callbacks = [save_op_callback]\n",
    "            #workers = 6,\n",
    "        )\n",
    "        \n",
    "        txt_log.write(\"finished \"+dataset.split(\"_\")[0]+\" training on model \"+model+\" seed \"+environ['seed']+\"\\n\")\n",
    "\n",
    "\n",
    "        evaluate_model(model_used,x_test,y_test,appliances)\n",
    "        \n",
    "\n",
    "\n",
    "\n",
    "        #del model_used\n",
    "\n"
   ]
  },
  {
   "cell_type": "code",
   "execution_count": 16,
   "metadata": {
    "execution": {
     "iopub.execute_input": "2022-02-03T05:16:22.346776Z",
     "iopub.status.busy": "2022-02-03T05:16:22.345498Z",
     "iopub.status.idle": "2022-02-03T05:16:22.348169Z",
     "shell.execute_reply": "2022-02-03T05:16:22.349236Z"
    }
   },
   "outputs": [],
   "source": [
    "txt_log.close()"
   ]
  },
  {
   "cell_type": "code",
   "execution_count": null,
   "metadata": {},
   "outputs": [],
   "source": []
  }
 ],
 "metadata": {
  "colab": {
   "authorship_tag": "ABX9TyMej4PvP65qsLng7TnQKWA4",
   "name": "LSTM-gen",
   "provenance": []
  },
  "kernelspec": {
   "display_name": "Python 3 (ipykernel)",
   "language": "python",
   "name": "python3"
  },
  "language_info": {
   "codemirror_mode": {
    "name": "ipython",
    "version": 3
   },
   "file_extension": ".py",
   "mimetype": "text/x-python",
   "name": "python",
   "nbconvert_exporter": "python",
   "pygments_lexer": "ipython3",
   "version": "3.8.10"
  }
 },
 "nbformat": 4,
 "nbformat_minor": 4
}
