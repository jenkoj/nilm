{
 "cells": [
  {
   "cell_type": "code",
   "execution_count": 1,
   "metadata": {
    "execution": {
     "iopub.execute_input": "2022-02-11T15:42:15.972957Z",
     "iopub.status.busy": "2022-02-11T15:42:15.971372Z",
     "iopub.status.idle": "2022-02-11T15:42:17.654234Z",
     "shell.execute_reply": "2022-02-11T15:42:17.652977Z"
    },
    "id": "WqUfHWgtJxtu",
    "scrolled": true,
    "tags": []
   },
   "outputs": [
    {
     "name": "stderr",
     "output_type": "stream",
     "text": [
      "2022-02-11 15:42:16.794599: I tensorflow/stream_executor/platform/default/dso_loader.cc:54] Successfully opened dynamic library libcudart.so.11.0\n"
     ]
    },
    {
     "name": "stdout",
     "output_type": "stream",
     "text": [
      "2.5.0\n",
      "Num GPUs Available:  1\n"
     ]
    },
    {
     "name": "stderr",
     "output_type": "stream",
     "text": [
      "2022-02-11 15:42:17.598048: I tensorflow/stream_executor/platform/default/dso_loader.cc:54] Successfully opened dynamic library libcuda.so.1\n",
      "2022-02-11 15:42:17.636257: I tensorflow/core/common_runtime/gpu/gpu_device.cc:1734] Found device 0 with properties: \n",
      "pciBusID: 0000:21:00.0 name: NVIDIA GeForce RTX 2080 Ti computeCapability: 7.5\n",
      "coreClock: 1.545GHz coreCount: 68 deviceMemorySize: 10.76GiB deviceMemoryBandwidth: 573.69GiB/s\n",
      "2022-02-11 15:42:17.636303: I tensorflow/stream_executor/platform/default/dso_loader.cc:54] Successfully opened dynamic library libcudart.so.11.0\n",
      "2022-02-11 15:42:17.639893: I tensorflow/stream_executor/platform/default/dso_loader.cc:54] Successfully opened dynamic library libcublas.so.11\n",
      "2022-02-11 15:42:17.639965: I tensorflow/stream_executor/platform/default/dso_loader.cc:54] Successfully opened dynamic library libcublasLt.so.11\n",
      "2022-02-11 15:42:17.641488: I tensorflow/stream_executor/platform/default/dso_loader.cc:54] Successfully opened dynamic library libcufft.so.10\n",
      "2022-02-11 15:42:17.641759: I tensorflow/stream_executor/platform/default/dso_loader.cc:54] Successfully opened dynamic library libcurand.so.10\n",
      "2022-02-11 15:42:17.642384: I tensorflow/stream_executor/platform/default/dso_loader.cc:54] Successfully opened dynamic library libcutensor.so.1\n",
      "2022-02-11 15:42:17.642853: I tensorflow/stream_executor/platform/default/dso_loader.cc:54] Successfully opened dynamic library libcusolver.so.11\n",
      "2022-02-11 15:42:17.643560: I tensorflow/stream_executor/platform/default/dso_loader.cc:54] Successfully opened dynamic library libcusparse.so.11\n",
      "2022-02-11 15:42:17.643698: I tensorflow/stream_executor/platform/default/dso_loader.cc:54] Successfully opened dynamic library libcudnn.so.8\n",
      "2022-02-11 15:42:17.644042: I tensorflow/core/common_runtime/gpu/gpu_device.cc:1872] Adding visible gpu devices: 0\n"
     ]
    }
   ],
   "source": [
    "import h5py\n",
    "import numpy as np\n",
    "\n",
    "from sklearn.model_selection import train_test_split\n",
    "from sklearn.metrics import classification_report, confusion_matrix\n",
    "import matplotlib.pyplot as plt\n",
    "import itertools \n",
    "import pyts\n",
    "from pyts.approximation import PiecewiseAggregateApproximation\n",
    "\n",
    "from sklearn.utils import class_weight\n",
    "\n",
    "import pathlib\n",
    "import tensorflow as tf\n",
    "from tensorflow import keras\n",
    "from tensorflow.keras import layers, optimizers\n",
    "from tensorflow.keras.layers import Convolution2D,Conv2D, Dense,Dropout, Flatten, Activation, MaxPooling2D, Input, Conv1D, GlobalAveragePooling1D, TimeDistributed, GRU, LSTM\n",
    "\n",
    "print(tf.__version__)\n",
    "print(\"Num GPUs Available: \", len(tf.config.list_physical_devices('GPU')))\n",
    "gpus = tf.config.experimental.list_physical_devices('GPU')\n",
    "\n",
    "try:\n",
    "    for gpu in gpus:\n",
    "        tf.config.experimental.set_memory_growth(gpu, True)\n",
    "except RuntimeError as e:\n",
    "    print(e)"
   ]
  },
  {
   "cell_type": "code",
   "execution_count": 2,
   "metadata": {
    "execution": {
     "iopub.execute_input": "2022-02-11T15:42:17.660306Z",
     "iopub.status.busy": "2022-02-11T15:42:17.658935Z",
     "iopub.status.idle": "2022-02-11T15:42:17.664414Z",
     "shell.execute_reply": "2022-02-11T15:42:17.663264Z"
    }
   },
   "outputs": [
    {
     "name": "stdout",
     "output_type": "stream",
     "text": [
      "redd_gen_GASF_60m_300S0X_R82_80-20\n"
     ]
    }
   ],
   "source": [
    "from os import environ\n",
    "dataset = environ['dataset']\n",
    "print(dataset)"
   ]
  },
  {
   "cell_type": "code",
   "execution_count": 3,
   "metadata": {
    "execution": {
     "iopub.execute_input": "2022-02-11T15:42:17.670662Z",
     "iopub.status.busy": "2022-02-11T15:42:17.669376Z",
     "iopub.status.idle": "2022-02-11T15:42:17.673771Z",
     "shell.execute_reply": "2022-02-11T15:42:17.674768Z"
    }
   },
   "outputs": [],
   "source": [
    "#my defs \n",
    "from modules.models import  LSTM_3D_V56, CNN_V56,LSTM_BI_V56\n",
    "from modules.tools import my_print, plot_confusion_matrix_norm, get_data,get_data_split, evaluate_model, create_tl_model\n",
    "from modules.HDF5ImageGenerator import HDF5ImageGenerator"
   ]
  },
  {
   "cell_type": "code",
   "execution_count": 4,
   "metadata": {
    "execution": {
     "iopub.execute_input": "2022-02-11T15:42:17.684368Z",
     "iopub.status.busy": "2022-02-11T15:42:17.683007Z",
     "iopub.status.idle": "2022-02-11T15:42:17.685490Z",
     "shell.execute_reply": "2022-02-11T15:42:17.686299Z"
    },
    "id": "RT1vwq7-KOtB"
   },
   "outputs": [],
   "source": [
    "#LOAD DATASET\n",
    "#file_name = \"ukdale_gen_GASF_13m_100S5X12A54480\"\n",
    "#file_name = \"refit_gen_GASF_13m_100S5X_15A166006\"\n",
    "file_name = \"refit_gen_GASF_13m_100S5X_15A166006_R42-80-20\"\n",
    "#file_name = \"refit_gen_GASF_13m_100S5X_15A166006_R42_80-20\"\n",
    "file_name = \"refit_gen_GASF_60m_300S0X_15A157030N_R12_80-20-V1\"\n",
    "file_name = environ[\"dataset\"]\n",
    "#read the file\n",
    "path = str(pathlib.Path().resolve())\n",
    "\n",
    "path_data = f\"{path}\"\"/data/\"f\"{file_name}\"\"/\"f\"{file_name}\"\".hdf5\"\n",
    "\n",
    "file = h5py.File(path_data,\"r+\")"
   ]
  },
  {
   "cell_type": "code",
   "execution_count": 5,
   "metadata": {
    "execution": {
     "iopub.execute_input": "2022-02-11T15:42:17.693964Z",
     "iopub.status.busy": "2022-02-11T15:42:17.693081Z",
     "iopub.status.idle": "2022-02-11T15:42:18.048894Z",
     "shell.execute_reply": "2022-02-11T15:42:18.049865Z"
    },
    "scrolled": true
   },
   "outputs": [
    {
     "name": "stdout",
     "output_type": "stream",
     "text": [
      "['fridge/freezer', 'electric furnace', 'light', 'microwave', 'sockets']\n",
      "{0: 0.9442708333333333, 1: 2.8383561643835615, 2: 0.5683385579937305, 3: 5.824899598393574, 4: 0.6033277870216306}\n",
      " \n",
      "Tests \n",
      "fridge/freezer test: 384 train: 1536\n",
      "electric furnace test: 128 train: 511\n",
      "light test: 638 train: 2552\n",
      "microwave test: 62 train: 249\n",
      "sockets test: 601 train: 2404\n"
     ]
    }
   ],
   "source": [
    "x_test,y_test,d_class_weights,num_of_classes,appliances = get_data(file)"
   ]
  },
  {
   "cell_type": "code",
   "execution_count": 6,
   "metadata": {
    "execution": {
     "iopub.execute_input": "2022-02-11T15:42:18.057818Z",
     "iopub.status.busy": "2022-02-11T15:42:18.056637Z",
     "iopub.status.idle": "2022-02-11T15:42:18.059074Z",
     "shell.execute_reply": "2022-02-11T15:42:18.060029Z"
    }
   },
   "outputs": [],
   "source": [
    "def select_model(learn_type):\n",
    "    \n",
    "    if learn_type == \"CNN\":\n",
    "        model = CNN_V56(file[\"data/train/gaf\"][0:10],num_of_classes,lr= 0.00002)\n",
    "\n",
    "    if learn_type == \"LSTM\":\n",
    "        model = LSTM_3D_V56(file[\"data/train/gaf\"][0:10],num_of_classes,lr= 0.00002)\n",
    "\n",
    "    if learn_type == \"BI_LSTM\":\n",
    "        model = LSTM_BI_V56(file[\"data/train/gaf\"][0:10],num_of_classes,lr= 0.00002)\n",
    "\n",
    "    return model\n",
    "              "
   ]
  },
  {
   "cell_type": "code",
   "execution_count": 7,
   "metadata": {
    "execution": {
     "iopub.execute_input": "2022-02-11T15:42:18.067571Z",
     "iopub.status.busy": "2022-02-11T15:42:18.066375Z",
     "iopub.status.idle": "2022-02-11T15:42:18.068838Z",
     "shell.execute_reply": "2022-02-11T15:42:18.069788Z"
    }
   },
   "outputs": [],
   "source": [
    "path_save = path+'/experiment_automation/output/'+environ['learn_type']+'/'+dataset.split(\"_\")[0]+\"/\"+environ['train_type']+\"/\"+dataset.split(\"_\")[0]+\"_\"+environ['seed']+\"_\"+environ['tl_datasets']\n",
    "path_save_nb = path_save+\"_out.ipynb\"\n",
    "path_save_log = path_save+\"_out_log2.txt\""
   ]
  },
  {
   "cell_type": "code",
   "execution_count": 8,
   "metadata": {
    "execution": {
     "iopub.execute_input": "2022-02-11T15:42:18.079016Z",
     "iopub.status.busy": "2022-02-11T15:42:18.077785Z",
     "iopub.status.idle": "2022-02-11T15:42:18.163956Z",
     "shell.execute_reply": "2022-02-11T15:42:18.162779Z"
    }
   },
   "outputs": [],
   "source": [
    "from keras.callbacks import LambdaCallback\n",
    "#path_log= path+'/experiment_automation/output/'+environ['learn_type']+'/'+dataset.split(\"_\")[0]+\"/\"+environ['train_type']+\"/\"+dataset.split(\"_\")[0]+\"_\"+environ['seed']+\"_\"+environ['tl_datasets']+\"_log.txt\"\n",
    "txt_log = open(path_save+\"_log.txt\", mode='wt', buffering=1)\n",
    "txt_log.write(\"file created! \\n\")\n",
    "\n",
    "save_op_callback = LambdaCallback(\n",
    "  on_epoch_end = lambda epoch, logs: txt_log.write(\n",
    "    str({'epoch': epoch, 'loss': logs['loss'],'acc': logs['accuracy']}) + '\\n'),\n",
    "                                                           \n",
    ")"
   ]
  },
  {
   "cell_type": "code",
   "execution_count": 9,
   "metadata": {
    "execution": {
     "iopub.execute_input": "2022-02-11T15:42:18.169685Z",
     "iopub.status.busy": "2022-02-11T15:42:18.168520Z",
     "iopub.status.idle": "2022-02-11T15:42:18.173267Z",
     "shell.execute_reply": "2022-02-11T15:42:18.172373Z"
    }
   },
   "outputs": [
    {
     "name": "stdout",
     "output_type": "stream",
     "text": [
      "/workspace/notebooks/experiment_automation/output/CNN/redd/BB/redd_82__out.ipynb\n"
     ]
    }
   ],
   "source": [
    "print(path_save_nb)"
   ]
  },
  {
   "cell_type": "code",
   "execution_count": 10,
   "metadata": {
    "execution": {
     "iopub.execute_input": "2022-02-11T15:42:18.178239Z",
     "iopub.status.busy": "2022-02-11T15:42:18.177235Z",
     "iopub.status.idle": "2022-02-11T15:42:18.179319Z",
     "shell.execute_reply": "2022-02-11T15:42:18.180161Z"
    }
   },
   "outputs": [],
   "source": [
    "# rm $path_save_log"
   ]
  },
  {
   "cell_type": "code",
   "execution_count": 11,
   "metadata": {
    "execution": {
     "iopub.execute_input": "2022-02-11T15:42:18.184952Z",
     "iopub.status.busy": "2022-02-11T15:42:18.184019Z",
     "iopub.status.idle": "2022-02-11T15:42:18.186007Z",
     "shell.execute_reply": "2022-02-11T15:42:18.186733Z"
    }
   },
   "outputs": [],
   "source": [
    "# %%capture cap \n",
    "\n",
    "# with open(path_save_log,\"wt\") as f:\n",
    "#     f.write(cap.stdout)\n",
    "    \n",
    "# print(\"out capture..\")"
   ]
  },
  {
   "cell_type": "code",
   "execution_count": 12,
   "metadata": {
    "execution": {
     "iopub.execute_input": "2022-02-11T15:42:18.200010Z",
     "iopub.status.busy": "2022-02-11T15:42:18.195180Z",
     "iopub.status.idle": "2022-02-11T16:05:28.964046Z",
     "shell.execute_reply": "2022-02-11T16:05:28.964591Z"
    },
    "id": "vqA9NwOqKrb5",
    "jupyter": {
     "outputs_hidden": true
    },
    "tags": []
   },
   "outputs": [
    {
     "name": "stdout",
     "output_type": "stream",
     "text": [
      "Normal way\n",
      "[0 1 2 3 4 5 6 7 8 9]\n",
      "WARNING:tensorflow:From /usr/local/lib/python3.8/dist-packages/tensorflow/python/ops/array_ops.py:5043: calling gather (from tensorflow.python.ops.array_ops) with validate_indices is deprecated and will be removed in a future version.\n",
      "Instructions for updating:\n",
      "The `validate_indices` argument has no effect. Indices are always validated on CPU and never validated on GPU.\n"
     ]
    },
    {
     "name": "stderr",
     "output_type": "stream",
     "text": [
      "2022-02-11 15:42:18.215285: I tensorflow/core/common_runtime/gpu/gpu_device.cc:1734] Found device 0 with properties: \n",
      "pciBusID: 0000:21:00.0 name: NVIDIA GeForce RTX 2080 Ti computeCapability: 7.5\n",
      "coreClock: 1.545GHz coreCount: 68 deviceMemorySize: 10.76GiB deviceMemoryBandwidth: 573.69GiB/s\n",
      "2022-02-11 15:42:18.215624: I tensorflow/core/common_runtime/gpu/gpu_device.cc:1872] Adding visible gpu devices: 0\n",
      "2022-02-11 15:42:18.215675: I tensorflow/stream_executor/platform/default/dso_loader.cc:54] Successfully opened dynamic library libcudart.so.11.0\n",
      "2022-02-11 15:42:18.582189: I tensorflow/core/common_runtime/gpu/gpu_device.cc:1258] Device interconnect StreamExecutor with strength 1 edge matrix:\n",
      "2022-02-11 15:42:18.582225: I tensorflow/core/common_runtime/gpu/gpu_device.cc:1264]      0 \n",
      "2022-02-11 15:42:18.582231: I tensorflow/core/common_runtime/gpu/gpu_device.cc:1277] 0:   N \n",
      "2022-02-11 15:42:18.582811: I tensorflow/core/common_runtime/gpu/gpu_device.cc:1418] Created TensorFlow device (/job:localhost/replica:0/task:0/device:GPU:0 with 9649 MB memory) -> physical GPU (device: 0, name: NVIDIA GeForce RTX 2080 Ti, pci bus id: 0000:21:00.0, compute capability: 7.5)\n",
      "2022-02-11 15:42:18.583150: I tensorflow/core/common_runtime/process_util.cc:146] Creating new thread pool with default inter op setting: 20. Tune using inter_op_parallelism_threads for best performance.\n",
      "2022-02-11 15:42:18.730317: I tensorflow/compiler/mlir/mlir_graph_optimization_pass.cc:176] None of the MLIR Optimization Passes are enabled (registered 2)\n",
      "2022-02-11 15:42:18.748614: I tensorflow/core/platform/profile_utils/cpu_utils.cc:114] CPU Frequency: 3299990000 Hz\n"
     ]
    },
    {
     "name": "stdout",
     "output_type": "stream",
     "text": [
      "Epoch 1/50\n"
     ]
    },
    {
     "name": "stderr",
     "output_type": "stream",
     "text": [
      "2022-02-11 15:42:19.359785: I tensorflow/stream_executor/platform/default/dso_loader.cc:54] Successfully opened dynamic library libcudnn.so.8\n",
      "2022-02-11 15:42:19.838546: I tensorflow/stream_executor/cuda/cuda_dnn.cc:380] Loaded cuDNN version 8202\n",
      "2022-02-11 15:42:20.321299: I tensorflow/stream_executor/platform/default/dso_loader.cc:54] Successfully opened dynamic library libcublas.so.11\n",
      "2022-02-11 15:42:20.740206: I tensorflow/stream_executor/platform/default/dso_loader.cc:54] Successfully opened dynamic library libcublasLt.so.11\n"
     ]
    },
    {
     "name": "stdout",
     "output_type": "stream",
     "text": [
      "227/227 - 30s - loss: 1.5584 - accuracy: 0.2525\n",
      "Epoch 2/50\n",
      "227/227 - 28s - loss: 1.4523 - accuracy: 0.3275\n",
      "Epoch 3/50\n",
      "227/227 - 28s - loss: 1.3766 - accuracy: 0.3514\n",
      "Epoch 4/50\n",
      "227/227 - 28s - loss: 1.3742 - accuracy: 0.3697\n",
      "Epoch 5/50\n",
      "227/227 - 28s - loss: 1.3130 - accuracy: 0.3838\n",
      "Epoch 6/50\n",
      "227/227 - 28s - loss: 1.2561 - accuracy: 0.4173\n",
      "Epoch 7/50\n",
      "227/227 - 28s - loss: 1.2223 - accuracy: 0.4345\n",
      "Epoch 8/50\n",
      "227/227 - 28s - loss: 1.1935 - accuracy: 0.4490\n",
      "Epoch 9/50\n",
      "227/227 - 28s - loss: 1.1575 - accuracy: 0.4731\n",
      "Epoch 10/50\n",
      "227/227 - 28s - loss: 1.1193 - accuracy: 0.4942\n",
      "Epoch 11/50\n",
      "227/227 - 28s - loss: 1.1044 - accuracy: 0.5172\n",
      "Epoch 12/50\n",
      "227/227 - 28s - loss: 1.0826 - accuracy: 0.5167\n",
      "Epoch 13/50\n",
      "227/227 - 28s - loss: 1.1037 - accuracy: 0.5058\n",
      "Epoch 14/50\n",
      "227/227 - 28s - loss: 1.0318 - accuracy: 0.5512\n",
      "Epoch 15/50\n",
      "227/227 - 28s - loss: 1.0150 - accuracy: 0.5592\n",
      "Epoch 16/50\n",
      "227/227 - 28s - loss: 0.9988 - accuracy: 0.5687\n",
      "Epoch 17/50\n",
      "227/227 - 28s - loss: 1.0084 - accuracy: 0.5787\n",
      "Epoch 18/50\n",
      "227/227 - 28s - loss: 0.9739 - accuracy: 0.5940\n",
      "Epoch 19/50\n",
      "227/227 - 28s - loss: 0.9596 - accuracy: 0.6001\n",
      "Epoch 20/50\n",
      "227/227 - 28s - loss: 0.9392 - accuracy: 0.6055\n",
      "Epoch 21/50\n",
      "227/227 - 27s - loss: 0.9266 - accuracy: 0.6102\n",
      "Epoch 22/50\n",
      "227/227 - 27s - loss: 0.9077 - accuracy: 0.6106\n",
      "Epoch 23/50\n",
      "227/227 - 27s - loss: 0.8925 - accuracy: 0.6179\n",
      "Epoch 24/50\n",
      "227/227 - 27s - loss: 0.8851 - accuracy: 0.6258\n",
      "Epoch 25/50\n",
      "227/227 - 27s - loss: 0.8828 - accuracy: 0.6175\n",
      "Epoch 26/50\n",
      "227/227 - 27s - loss: 0.8659 - accuracy: 0.6325\n",
      "Epoch 27/50\n",
      "227/227 - 27s - loss: 0.8187 - accuracy: 0.6453\n",
      "Epoch 28/50\n",
      "227/227 - 27s - loss: 0.8280 - accuracy: 0.6448\n",
      "Epoch 29/50\n",
      "227/227 - 27s - loss: 0.7945 - accuracy: 0.6412\n",
      "Epoch 30/50\n",
      "227/227 - 28s - loss: 0.8332 - accuracy: 0.6284\n",
      "Epoch 31/50\n",
      "227/227 - 28s - loss: 0.7844 - accuracy: 0.6473\n",
      "Epoch 32/50\n",
      "227/227 - 28s - loss: 0.7776 - accuracy: 0.6551\n",
      "Epoch 33/50\n",
      "227/227 - 28s - loss: 0.7572 - accuracy: 0.6520\n",
      "Epoch 34/50\n",
      "227/227 - 28s - loss: 0.7595 - accuracy: 0.6525\n",
      "Epoch 35/50\n",
      "227/227 - 28s - loss: 0.7412 - accuracy: 0.6531\n",
      "Epoch 36/50\n",
      "227/227 - 28s - loss: 0.7474 - accuracy: 0.6580\n",
      "Epoch 37/50\n",
      "227/227 - 28s - loss: 0.7170 - accuracy: 0.6635\n",
      "Epoch 38/50\n",
      "227/227 - 28s - loss: 0.6921 - accuracy: 0.6751\n",
      "Epoch 39/50\n",
      "227/227 - 28s - loss: 0.7091 - accuracy: 0.6670\n",
      "Epoch 40/50\n",
      "227/227 - 28s - loss: 0.6887 - accuracy: 0.6769\n",
      "Epoch 41/50\n",
      "227/227 - 28s - loss: 0.7057 - accuracy: 0.6788\n",
      "Epoch 42/50\n",
      "227/227 - 28s - loss: 0.6816 - accuracy: 0.6793\n",
      "Epoch 43/50\n",
      "227/227 - 28s - loss: 0.6686 - accuracy: 0.6771\n",
      "Epoch 44/50\n",
      "227/227 - 28s - loss: 0.6592 - accuracy: 0.6835\n",
      "Epoch 45/50\n",
      "227/227 - 28s - loss: 0.6716 - accuracy: 0.6838\n",
      "Epoch 46/50\n",
      "227/227 - 28s - loss: 0.6598 - accuracy: 0.6891\n",
      "Epoch 47/50\n",
      "227/227 - 28s - loss: 0.6627 - accuracy: 0.6871\n",
      "Epoch 48/50\n",
      "227/227 - 28s - loss: 0.6324 - accuracy: 0.6932\n",
      "Epoch 49/50\n",
      "227/227 - 28s - loss: 0.6750 - accuracy: 0.6755\n",
      "Epoch 50/50\n",
      "227/227 - 28s - loss: 0.6459 - accuracy: 0.6943\n",
      "57/57 - 3s\n",
      "Normalized confusion matrix\n",
      "                  precision    recall  f1-score   support\n",
      "\n",
      "  fridge/freezer       0.65      0.93      0.76       384\n",
      "electric furnace       0.40      0.85      0.54       128\n",
      "           light       0.78      0.55      0.65       638\n",
      "       microwave       0.28      0.73      0.41        62\n",
      "         sockets       0.70      0.44      0.54       601\n",
      "\n",
      "        accuracy                           0.62      1813\n",
      "       macro avg       0.56      0.70      0.58      1813\n",
      "    weighted avg       0.68      0.62      0.62      1813\n",
      "\n"
     ]
    },
    {
     "name": "stderr",
     "output_type": "stream",
     "text": [
      "2022-02-11 16:05:28.076240: W tensorflow/python/util/util.cc:348] Sets are not currently considered sequences, but this may change in the future, so consider avoiding using them.\n"
     ]
    },
    {
     "name": "stdout",
     "output_type": "stream",
     "text": [
      "INFO:tensorflow:Assets written to: /workspace/notebooks/models/CNN/redd_82/assets\n"
     ]
    },
    {
     "data": {
      "image/png": "[encoded data removed]",
      "text/plain": [
       "<Figure size 720x720 with 2 Axes>"
      ]
     },
     "metadata": {
      "needs_background": "light"
     },
     "output_type": "display_data"
    }
   ],
   "source": [
    "# %%capture cap --no-stderr\n",
    "\n",
    "\n",
    "if environ['train_type'] == \"BB\":\n",
    "\n",
    "    #define generator\n",
    "    train_gen = HDF5ImageGenerator(\n",
    "        src= path_data,\n",
    "        X_key=\"data/train/gaf\",\n",
    "        y_key=\"labels/train/gaf\",\n",
    "        classes_key=\"appliances/classes\",\n",
    "        labels_encoding=\"hot\",\n",
    "        shuffle=True,\n",
    "        batch_size=int(environ['batch_size']),\n",
    "        num_classes=num_of_classes,\n",
    "        mode=\"train\",\n",
    "        )\n",
    "    \n",
    "    model = select_model(environ['learn_type'])\n",
    "    \n",
    "    txt_log.write(\"fitting BB model: \\n\")\n",
    "    \n",
    "    model.fit(\n",
    "        train_gen,\n",
    "        verbose=2,\n",
    "        epochs=int(environ['epochs']),\n",
    "        class_weight=d_class_weights,\n",
    "        callbacks = [save_op_callback],\n",
    "    )\n",
    "    \n",
    "    txt_log.write(\"finished fitting BB model: \\n\")\n",
    "\n",
    "    evaluate_model(model,x_test,y_test,appliances)\n",
    "    \n",
    "    if environ['save_model']==\"True\":\n",
    "\n",
    "        path_model_save = path+\"/models/\"+environ['learn_type']+\"/\"+dataset.split(\"_\")[0]+\"_\"+dataset.split(\"_R\")[1][0:2]\n",
    "        model.save(path_model_save)\n",
    "        txt_log.write(\"model saved to:\"+\"/models/\"+environ['learn_type']+\"/\"+dataset.split(\"_\")[0]+\"_\"+dataset.split(\"_R\")[1][0:2]+\" \\n\")\n",
    "        \n",
    "        \n",
    "# with open(path_save+\"_out_log.txt\" as f:\n",
    "#     f.write(cap.stdout)\n"
   ]
  },
  {
   "cell_type": "code",
   "execution_count": 13,
   "metadata": {
    "collapsed": true,
    "execution": {
     "iopub.execute_input": "2022-02-11T16:05:28.967873Z",
     "iopub.status.busy": "2022-02-11T16:05:28.967476Z",
     "iopub.status.idle": "2022-02-11T16:05:28.971230Z",
     "shell.execute_reply": "2022-02-11T16:05:28.972280Z"
    }
   },
   "outputs": [],
   "source": [
    "#model = keras.models.load_model(path_model1)\n",
    "# model_used = model"
   ]
  },
  {
   "cell_type": "code",
   "execution_count": 14,
   "metadata": {
    "collapsed": true,
    "execution": {
     "iopub.execute_input": "2022-02-11T16:05:28.978058Z",
     "iopub.status.busy": "2022-02-11T16:05:28.976802Z",
     "iopub.status.idle": "2022-02-11T16:05:28.979414Z",
     "shell.execute_reply": "2022-02-11T16:05:28.980486Z"
    },
    "jupyter": {
     "outputs_hidden": true
    },
    "tags": []
   },
   "outputs": [],
   "source": [
    "# evaluate_model(model,x_test,y_test,appliances)"
   ]
  },
  {
   "cell_type": "code",
   "execution_count": 15,
   "metadata": {
    "collapsed": true,
    "execution": {
     "iopub.execute_input": "2022-02-11T16:05:28.997249Z",
     "iopub.status.busy": "2022-02-11T16:05:28.996441Z",
     "iopub.status.idle": "2022-02-11T16:05:28.999007Z",
     "shell.execute_reply": "2022-02-11T16:05:28.999539Z"
    }
   },
   "outputs": [],
   "source": [
    "# datasets =[\n",
    "#     \"ukdale_gen_GASF_13m_100S5X12A54480_R82_80-20\"\n",
    "# ]\n",
    "\n",
    "if environ['train_type'] == \"TL\": \n",
    "    models = environ['tl_datasets'].replace(\" \",\"\").split(\",\")\n",
    "    #model = [\"base\"]\n",
    "    \n",
    "    for model in models:\n",
    "    \n",
    "        file_name = dataset\n",
    "        \n",
    "        datasetTL = model\n",
    "        \n",
    "        seed = dataset.split(\"_R\")[1][0:2]\n",
    "        \n",
    "        print(\"using dataset data\",dataset.split(\"_\")[0],\"training on model\",model,\"seed\",environ['seed'])\n",
    "        txt_log.write(\"starting \"+dataset.split(\"_\")[0]+\" training on model \"+model+\" seed \"+environ['seed']+\"\\n\")\n",
    "\n",
    "\n",
    "        tf.keras.backend.clear_session()\n",
    "\n",
    "\n",
    "        #read the file\n",
    "        path = str(pathlib.Path().resolve())\n",
    "        path_data = f\"{path}\"\"/data/\"f\"{file_name}\"\"/\"f\"{file_name}\"\".hdf5\"\n",
    "        file = h5py.File(path_data,\"r+\")\n",
    "\n",
    "\n",
    "        print(\"reading data, printing stats: \")\n",
    "        x_test,y_test,d_class_weights,num_of_classes,appliances = get_data(file)\n",
    "        print(\"loading model\")\n",
    "        \n",
    "        model_seed = 42\n",
    "        model_used = create_tl_model(model,environ['learn_type'],model_seed,path,num_of_classes)\n",
    "                \n",
    "        train_gen = HDF5ImageGenerator(\n",
    "            src= path_data,\n",
    "            X_key=\"data/train/gaf\",\n",
    "            y_key=\"labels/train/gaf\",\n",
    "            classes_key=\"appliances/classes\",\n",
    "            labels_encoding=\"hot\",\n",
    "            shuffle=True,\n",
    "            batch_size=int(environ['batch_size']),\n",
    "            num_classes=num_of_classes,\n",
    "            mode=\"train\",\n",
    "            )\n",
    "\n",
    "        model_used.fit(\n",
    "            train_gen,\n",
    "            verbose=2,\n",
    "            epochs=int(environ['epochs']),\n",
    "            class_weight=d_class_weights,\n",
    "            callbacks = [save_op_callback]\n",
    "            #workers = 6,\n",
    "        )\n",
    "        \n",
    "        txt_log.write(\"finished \"+dataset.split(\"_\")[0]+\" training on model \"+model+\" seed \"+environ['seed']+\"\\n\")\n",
    "\n",
    "\n",
    "        evaluate_model(model_used,x_test,y_test,appliances)\n",
    "        \n",
    "\n",
    "\n",
    "\n",
    "        #del model_used\n",
    "\n"
   ]
  },
  {
   "cell_type": "code",
   "execution_count": 16,
   "metadata": {
    "execution": {
     "iopub.execute_input": "2022-02-11T16:05:29.005362Z",
     "iopub.status.busy": "2022-02-11T16:05:29.004769Z",
     "iopub.status.idle": "2022-02-11T16:05:29.007887Z",
     "shell.execute_reply": "2022-02-11T16:05:29.008373Z"
    }
   },
   "outputs": [],
   "source": [
    "txt_log.close()"
   ]
  },
  {
   "cell_type": "code",
   "execution_count": null,
   "metadata": {},
   "outputs": [],
   "source": []
  }
 ],
 "metadata": {
  "colab": {
   "authorship_tag": "ABX9TyMej4PvP65qsLng7TnQKWA4",
   "name": "LSTM-gen",
   "provenance": []
  },
  "kernelspec": {
   "display_name": "Python 3 (ipykernel)",
   "language": "python",
   "name": "python3"
  },
  "language_info": {
   "codemirror_mode": {
    "name": "ipython",
    "version": 3
   },
   "file_extension": ".py",
   "mimetype": "text/x-python",
   "name": "python",
   "nbconvert_exporter": "python",
   "pygments_lexer": "ipython3",
   "version": "3.8.10"
  }
 },
 "nbformat": 4,
 "nbformat_minor": 4
}
