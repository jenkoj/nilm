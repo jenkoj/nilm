{
 "cells": [
  {
   "cell_type": "code",
   "execution_count": 1,
   "metadata": {
    "execution": {
     "iopub.execute_input": "2022-02-15T01:08:39.883186Z",
     "iopub.status.busy": "2022-02-15T01:08:39.881661Z",
     "iopub.status.idle": "2022-02-15T01:08:43.246108Z",
     "shell.execute_reply": "2022-02-15T01:08:43.244804Z"
    },
    "id": "WqUfHWgtJxtu",
    "scrolled": true,
    "tags": []
   },
   "outputs": [
    {
     "name": "stderr",
     "output_type": "stream",
     "text": [
      "2022-02-15 01:08:41.243016: I tensorflow/stream_executor/platform/default/dso_loader.cc:54] Successfully opened dynamic library libcudart.so.11.0\n"
     ]
    },
    {
     "name": "stdout",
     "output_type": "stream",
     "text": [
      "2.5.0\n",
      "Num GPUs Available:  1\n"
     ]
    },
    {
     "name": "stderr",
     "output_type": "stream",
     "text": [
      "2022-02-15 01:08:43.141558: I tensorflow/stream_executor/platform/default/dso_loader.cc:54] Successfully opened dynamic library libcuda.so.1\n",
      "2022-02-15 01:08:43.185333: I tensorflow/core/common_runtime/gpu/gpu_device.cc:1734] Found device 0 with properties: \n",
      "pciBusID: 0000:21:00.0 name: NVIDIA GeForce RTX 2080 Ti computeCapability: 7.5\n",
      "coreClock: 1.545GHz coreCount: 68 deviceMemorySize: 10.76GiB deviceMemoryBandwidth: 573.69GiB/s\n",
      "2022-02-15 01:08:43.185382: I tensorflow/stream_executor/platform/default/dso_loader.cc:54] Successfully opened dynamic library libcudart.so.11.0\n",
      "2022-02-15 01:08:43.200643: I tensorflow/stream_executor/platform/default/dso_loader.cc:54] Successfully opened dynamic library libcublas.so.11\n",
      "2022-02-15 01:08:43.200712: I tensorflow/stream_executor/platform/default/dso_loader.cc:54] Successfully opened dynamic library libcublasLt.so.11\n",
      "2022-02-15 01:08:43.207182: I tensorflow/stream_executor/platform/default/dso_loader.cc:54] Successfully opened dynamic library libcufft.so.10\n",
      "2022-02-15 01:08:43.209512: I tensorflow/stream_executor/platform/default/dso_loader.cc:54] Successfully opened dynamic library libcurand.so.10\n",
      "2022-02-15 01:08:43.227036: I tensorflow/stream_executor/platform/default/dso_loader.cc:54] Successfully opened dynamic library libcutensor.so.1\n",
      "2022-02-15 01:08:43.228971: I tensorflow/stream_executor/platform/default/dso_loader.cc:54] Successfully opened dynamic library libcusolver.so.11\n",
      "2022-02-15 01:08:43.233829: I tensorflow/stream_executor/platform/default/dso_loader.cc:54] Successfully opened dynamic library libcusparse.so.11\n",
      "2022-02-15 01:08:43.234330: I tensorflow/stream_executor/platform/default/dso_loader.cc:54] Successfully opened dynamic library libcudnn.so.8\n",
      "2022-02-15 01:08:43.234874: I tensorflow/core/common_runtime/gpu/gpu_device.cc:1872] Adding visible gpu devices: 0\n"
     ]
    }
   ],
   "source": [
    "import h5py\n",
    "import numpy as np\n",
    "\n",
    "from sklearn.model_selection import train_test_split\n",
    "from sklearn.metrics import classification_report, confusion_matrix\n",
    "import matplotlib.pyplot as plt\n",
    "import itertools \n",
    "import pyts\n",
    "from pyts.approximation import PiecewiseAggregateApproximation\n",
    "\n",
    "from sklearn.utils import class_weight\n",
    "\n",
    "import pathlib\n",
    "import tensorflow as tf\n",
    "from tensorflow import keras\n",
    "from tensorflow.keras import layers, optimizers\n",
    "from tensorflow.keras.layers import Convolution2D,Conv2D, Dense,Dropout, Flatten, Activation, MaxPooling2D, Input, Conv1D, GlobalAveragePooling1D, TimeDistributed, GRU, LSTM\n",
    "\n",
    "print(tf.__version__)\n",
    "print(\"Num GPUs Available: \", len(tf.config.list_physical_devices('GPU')))\n",
    "gpus = tf.config.experimental.list_physical_devices('GPU')\n",
    "\n",
    "try:\n",
    "    for gpu in gpus:\n",
    "        tf.config.experimental.set_memory_growth(gpu, True)\n",
    "except RuntimeError as e:\n",
    "    print(e)"
   ]
  },
  {
   "cell_type": "code",
   "execution_count": 2,
   "metadata": {
    "execution": {
     "iopub.execute_input": "2022-02-15T01:08:43.254550Z",
     "iopub.status.busy": "2022-02-15T01:08:43.253341Z",
     "iopub.status.idle": "2022-02-15T01:08:43.257385Z",
     "shell.execute_reply": "2022-02-15T01:08:43.258387Z"
    }
   },
   "outputs": [
    {
     "name": "stdout",
     "output_type": "stream",
     "text": [
      "ukdale_gen_GASF_60m_300S0X_R12_80-20\n"
     ]
    }
   ],
   "source": [
    "from os import environ\n",
    "dataset = environ['dataset']\n",
    "print(dataset)"
   ]
  },
  {
   "cell_type": "code",
   "execution_count": 3,
   "metadata": {
    "execution": {
     "iopub.execute_input": "2022-02-15T01:08:43.266886Z",
     "iopub.status.busy": "2022-02-15T01:08:43.265699Z",
     "iopub.status.idle": "2022-02-15T01:08:43.275349Z",
     "shell.execute_reply": "2022-02-15T01:08:43.276600Z"
    }
   },
   "outputs": [],
   "source": [
    "#my defs \n",
    "from modules.models import  LSTM_3D_V56, CNN_V56,LSTM_BI_V56\n",
    "from modules.tools import my_print, plot_confusion_matrix_norm, get_data,get_data_split, evaluate_model, create_tl_model\n",
    "from modules.HDF5ImageGenerator import HDF5ImageGenerator"
   ]
  },
  {
   "cell_type": "code",
   "execution_count": 4,
   "metadata": {
    "execution": {
     "iopub.execute_input": "2022-02-15T01:08:43.288031Z",
     "iopub.status.busy": "2022-02-15T01:08:43.286811Z",
     "iopub.status.idle": "2022-02-15T01:08:43.290827Z",
     "shell.execute_reply": "2022-02-15T01:08:43.289795Z"
    },
    "id": "RT1vwq7-KOtB"
   },
   "outputs": [],
   "source": [
    "#LOAD DATASET\n",
    "#file_name = \"ukdale_gen_GASF_13m_100S5X12A54480\"\n",
    "#file_name = \"refit_gen_GASF_13m_100S5X_15A166006\"\n",
    "file_name = \"refit_gen_GASF_13m_100S5X_15A166006_R42-80-20\"\n",
    "#file_name = \"refit_gen_GASF_13m_100S5X_15A166006_R42_80-20\"\n",
    "file_name = \"refit_gen_GASF_60m_300S0X_15A157030N_R12_80-20-V1\"\n",
    "file_name = environ[\"dataset\"]\n",
    "#read the file\n",
    "path = str(pathlib.Path().resolve())\n",
    "\n",
    "path_data = f\"{path}\"\"/data/\"f\"{file_name}\"\"/\"f\"{file_name}\"\".hdf5\"\n",
    "\n",
    "file = h5py.File(path_data,\"r+\")"
   ]
  },
  {
   "cell_type": "code",
   "execution_count": 5,
   "metadata": {
    "execution": {
     "iopub.execute_input": "2022-02-15T01:08:43.298958Z",
     "iopub.status.busy": "2022-02-15T01:08:43.297780Z",
     "iopub.status.idle": "2022-02-15T01:08:49.178270Z",
     "shell.execute_reply": "2022-02-15T01:08:49.179210Z"
    },
    "scrolled": true
   },
   "outputs": [
    {
     "name": "stdout",
     "output_type": "stream",
     "text": [
      "['HEKA', 'fridge/freezer', 'HTPC', 'boiler', 'computer monitor', 'desktop computer', 'laptop computer', 'light', 'microwave', 'server computer', 'television', 'washer dryer']\n",
      "{0: 0.7055908662900189, 1: 0.49534787638406874, 2: 1.3009331597222222, 3: 0.9557266755946687, 4: 1.19482978553775, 5: 1.6470766018243763, 6: 0.9269963505907095, 7: 1.3009331597222222, 8: 0.9261370658756644, 9: 3.0130176919983915, 10: 0.7942103868574457, 11: 1.2711407972858355}\n",
      " \n",
      "Tests \n",
      "HEKA test: 1770 train: 7080\n",
      "fridge/freezer test: 2522 train: 10085\n",
      "HTPC test: 960 train: 3840\n",
      "boiler test: 1307 train: 5227\n",
      "computer monitor test: 1045 train: 4181\n",
      "desktop computer test: 758 train: 3033\n",
      "laptop computer test: 1347 train: 5389\n",
      "light test: 960 train: 3840\n",
      "microwave test: 1348 train: 5394\n",
      "server computer test: 415 train: 1658\n",
      "television test: 1572 train: 6290\n",
      "washer dryer test: 983 train: 3930\n"
     ]
    }
   ],
   "source": [
    "x_test,y_test,d_class_weights,num_of_classes,appliances = get_data(file)"
   ]
  },
  {
   "cell_type": "code",
   "execution_count": 6,
   "metadata": {
    "execution": {
     "iopub.execute_input": "2022-02-15T01:08:49.190956Z",
     "iopub.status.busy": "2022-02-15T01:08:49.189279Z",
     "iopub.status.idle": "2022-02-15T01:08:49.193430Z",
     "shell.execute_reply": "2022-02-15T01:08:49.194359Z"
    }
   },
   "outputs": [],
   "source": [
    "def select_model(learn_type):\n",
    "    \n",
    "    if learn_type == \"CNN\":\n",
    "        model = CNN_V56(file[\"data/train/gaf\"][0:10],num_of_classes,lr= 0.00002)\n",
    "\n",
    "    if learn_type == \"LSTM\":\n",
    "        model = LSTM_3D_V56(file[\"data/train/gaf\"][0:10],num_of_classes,lr= 0.00002)\n",
    "\n",
    "    if learn_type == \"BI_LSTM\":\n",
    "        model = LSTM_BI_V56(file[\"data/train/gaf\"][0:10],num_of_classes,lr= 0.00002)\n",
    "\n",
    "    return model\n",
    "              "
   ]
  },
  {
   "cell_type": "code",
   "execution_count": 7,
   "metadata": {
    "execution": {
     "iopub.execute_input": "2022-02-15T01:08:49.201616Z",
     "iopub.status.busy": "2022-02-15T01:08:49.200420Z",
     "iopub.status.idle": "2022-02-15T01:08:49.202862Z",
     "shell.execute_reply": "2022-02-15T01:08:49.203813Z"
    }
   },
   "outputs": [],
   "source": [
    "path_save = path+'/experiment_automation/output/'+environ['learn_type']+'/'+dataset.split(\"_\")[0]+\"/\"+environ['train_type']+\"/\"+dataset.split(\"_\")[0]+\"_\"+environ['seed']+\"_\"+environ['tl_datasets']\n",
    "path_save_nb = path_save+\"_out.ipynb\"\n",
    "path_save_log = path_save+\"_out_log2.txt\""
   ]
  },
  {
   "cell_type": "code",
   "execution_count": 8,
   "metadata": {
    "execution": {
     "iopub.execute_input": "2022-02-15T01:08:49.212490Z",
     "iopub.status.busy": "2022-02-15T01:08:49.211274Z",
     "iopub.status.idle": "2022-02-15T01:08:49.374096Z",
     "shell.execute_reply": "2022-02-15T01:08:49.375069Z"
    }
   },
   "outputs": [],
   "source": [
    "from keras.callbacks import LambdaCallback\n",
    "#path_log= path+'/experiment_automation/output/'+environ['learn_type']+'/'+dataset.split(\"_\")[0]+\"/\"+environ['train_type']+\"/\"+dataset.split(\"_\")[0]+\"_\"+environ['seed']+\"_\"+environ['tl_datasets']+\"_log.txt\"\n",
    "txt_log = open(path_save+\"_log.txt\", mode='wt', buffering=1)\n",
    "txt_log.write(\"file created! \\n\")\n",
    "\n",
    "save_op_callback = LambdaCallback(\n",
    "  on_epoch_end = lambda epoch, logs: txt_log.write(\n",
    "    str({'epoch': epoch, 'loss': logs['loss'],'acc': logs['accuracy']}) + '\\n'),\n",
    "                                                           \n",
    ")"
   ]
  },
  {
   "cell_type": "code",
   "execution_count": 9,
   "metadata": {
    "execution": {
     "iopub.execute_input": "2022-02-15T01:08:49.380731Z",
     "iopub.status.busy": "2022-02-15T01:08:49.379550Z",
     "iopub.status.idle": "2022-02-15T01:08:49.384506Z",
     "shell.execute_reply": "2022-02-15T01:08:49.383453Z"
    }
   },
   "outputs": [
    {
     "name": "stdout",
     "output_type": "stream",
     "text": [
      "/workspace/notebooks/experiment_automation/output/CNN/ukdale/TL/ukdale_12_iawe,redd_out.ipynb\n"
     ]
    }
   ],
   "source": [
    "print(path_save_nb)"
   ]
  },
  {
   "cell_type": "code",
   "execution_count": 10,
   "metadata": {
    "execution": {
     "iopub.execute_input": "2022-02-15T01:08:49.389753Z",
     "iopub.status.busy": "2022-02-15T01:08:49.388599Z",
     "iopub.status.idle": "2022-02-15T01:08:49.390998Z",
     "shell.execute_reply": "2022-02-15T01:08:49.391767Z"
    }
   },
   "outputs": [],
   "source": [
    "# rm $path_save_log"
   ]
  },
  {
   "cell_type": "code",
   "execution_count": 11,
   "metadata": {
    "execution": {
     "iopub.execute_input": "2022-02-15T01:08:49.396738Z",
     "iopub.status.busy": "2022-02-15T01:08:49.395775Z",
     "iopub.status.idle": "2022-02-15T01:08:49.397667Z",
     "shell.execute_reply": "2022-02-15T01:08:49.398556Z"
    }
   },
   "outputs": [],
   "source": [
    "# %%capture cap \n",
    "\n",
    "# with open(path_save_log,\"wt\") as f:\n",
    "#     f.write(cap.stdout)\n",
    "    \n",
    "# print(\"out capture..\")"
   ]
  },
  {
   "cell_type": "code",
   "execution_count": 12,
   "metadata": {
    "execution": {
     "iopub.execute_input": "2022-02-15T01:08:49.414575Z",
     "iopub.status.busy": "2022-02-15T01:08:49.413338Z",
     "iopub.status.idle": "2022-02-15T01:08:49.415830Z",
     "shell.execute_reply": "2022-02-15T01:08:49.416803Z"
    },
    "id": "vqA9NwOqKrb5",
    "jupyter": {
     "outputs_hidden": true
    },
    "tags": []
   },
   "outputs": [],
   "source": [
    "# %%capture cap --no-stderr\n",
    "\n",
    "\n",
    "if environ['train_type'] == \"BB\":\n",
    "\n",
    "    #define generator\n",
    "    train_gen = HDF5ImageGenerator(\n",
    "        src= path_data,\n",
    "        X_key=\"data/train/gaf\",\n",
    "        y_key=\"labels/train/gaf\",\n",
    "        classes_key=\"appliances/classes\",\n",
    "        labels_encoding=\"hot\",\n",
    "        shuffle=True,\n",
    "        batch_size=int(environ['batch_size']),\n",
    "        num_classes=num_of_classes,\n",
    "        mode=\"train\",\n",
    "        )\n",
    "    \n",
    "    model = select_model(environ['learn_type'])\n",
    "    \n",
    "    txt_log.write(\"fitting BB model: \\n\")\n",
    "    \n",
    "    model.fit(\n",
    "        train_gen,\n",
    "        verbose=2,\n",
    "        epochs=int(environ['epochs']),\n",
    "        class_weight=d_class_weights,\n",
    "        callbacks = [save_op_callback],\n",
    "    )\n",
    "    \n",
    "    txt_log.write(\"finished fitting BB model: \\n\")\n",
    "\n",
    "    evaluate_model(model,x_test,y_test,appliances)\n",
    "    \n",
    "    if environ['save_model']==\"True\":\n",
    "\n",
    "        path_model_save = path+\"/models/\"+environ['learn_type']+\"/\"+dataset.split(\"_\")[0]+\"_\"+dataset.split(\"_R\")[1][0:2]\n",
    "        model.save(path_model_save)\n",
    "        txt_log.write(\"model saved to:\"+\"/models/\"+environ['learn_type']+\"/\"+dataset.split(\"_\")[0]+\"_\"+dataset.split(\"_R\")[1][0:2]+\" \\n\")\n",
    "        \n",
    "        \n",
    "# with open(path_save+\"_out_log.txt\" as f:\n",
    "#     f.write(cap.stdout)\n"
   ]
  },
  {
   "cell_type": "code",
   "execution_count": 13,
   "metadata": {
    "collapsed": true,
    "execution": {
     "iopub.execute_input": "2022-02-15T01:08:49.422339Z",
     "iopub.status.busy": "2022-02-15T01:08:49.421180Z",
     "iopub.status.idle": "2022-02-15T01:08:49.423602Z",
     "shell.execute_reply": "2022-02-15T01:08:49.424574Z"
    }
   },
   "outputs": [],
   "source": [
    "#model = keras.models.load_model(path_model1)\n",
    "# model_used = model"
   ]
  },
  {
   "cell_type": "code",
   "execution_count": 14,
   "metadata": {
    "collapsed": true,
    "execution": {
     "iopub.execute_input": "2022-02-15T01:08:49.430225Z",
     "iopub.status.busy": "2022-02-15T01:08:49.429060Z",
     "iopub.status.idle": "2022-02-15T01:08:49.431891Z",
     "shell.execute_reply": "2022-02-15T01:08:49.432747Z"
    },
    "jupyter": {
     "outputs_hidden": true
    },
    "tags": []
   },
   "outputs": [],
   "source": [
    "# evaluate_model(model,x_test,y_test,appliances)"
   ]
  },
  {
   "cell_type": "code",
   "execution_count": 15,
   "metadata": {
    "collapsed": true,
    "execution": {
     "iopub.execute_input": "2022-02-15T01:08:49.456367Z",
     "iopub.status.busy": "2022-02-15T01:08:49.455094Z",
     "iopub.status.idle": "2022-02-15T02:26:55.913016Z",
     "shell.execute_reply": "2022-02-15T02:26:55.914094Z"
    }
   },
   "outputs": [
    {
     "name": "stdout",
     "output_type": "stream",
     "text": [
      "using dataset data ukdale training on model iawe seed 12\n",
      "reading data, printing stats: \n",
      "['HEKA', 'fridge/freezer', 'HTPC', 'boiler', 'computer monitor', 'desktop computer', 'laptop computer', 'light', 'microwave', 'server computer', 'television', 'washer dryer']\n",
      "{0: 0.7055908662900189, 1: 0.49534787638406874, 2: 1.3009331597222222, 3: 0.9557266755946687, 4: 1.19482978553775, 5: 1.6470766018243763, 6: 0.9269963505907095, 7: 1.3009331597222222, 8: 0.9261370658756644, 9: 3.0130176919983915, 10: 0.7942103868574457, 11: 1.2711407972858355}\n",
      " \n",
      "Tests \n",
      "HEKA test: 1770 train: 7080\n",
      "fridge/freezer test: 2522 train: 10085\n",
      "HTPC test: 960 train: 3840\n",
      "boiler test: 1307 train: 5227\n",
      "computer monitor test: 1045 train: 4181\n",
      "desktop computer test: 758 train: 3033\n",
      "laptop computer test: 1347 train: 5389\n",
      "light test: 960 train: 3840\n",
      "microwave test: 1348 train: 5394\n",
      "server computer test: 415 train: 1658\n",
      "television test: 1572 train: 6290\n",
      "washer dryer test: 983 train: 3930\n",
      "loading model\n",
      "compling TL model..\n"
     ]
    },
    {
     "name": "stderr",
     "output_type": "stream",
     "text": [
      "2022-02-15 01:08:55.719607: I tensorflow/core/common_runtime/gpu/gpu_device.cc:1734] Found device 0 with properties: \n",
      "pciBusID: 0000:21:00.0 name: NVIDIA GeForce RTX 2080 Ti computeCapability: 7.5\n",
      "coreClock: 1.545GHz coreCount: 68 deviceMemorySize: 10.76GiB deviceMemoryBandwidth: 573.69GiB/s\n",
      "2022-02-15 01:08:55.729624: I tensorflow/core/common_runtime/gpu/gpu_device.cc:1872] Adding visible gpu devices: 0\n",
      "2022-02-15 01:08:55.730172: I tensorflow/stream_executor/platform/default/dso_loader.cc:54] Successfully opened dynamic library libcudart.so.11.0\n",
      "2022-02-15 01:08:56.608218: I tensorflow/core/common_runtime/gpu/gpu_device.cc:1258] Device interconnect StreamExecutor with strength 1 edge matrix:\n",
      "2022-02-15 01:08:56.608262: I tensorflow/core/common_runtime/gpu/gpu_device.cc:1264]      0 \n",
      "2022-02-15 01:08:56.608274: I tensorflow/core/common_runtime/gpu/gpu_device.cc:1277] 0:   N \n",
      "2022-02-15 01:08:56.609104: I tensorflow/core/common_runtime/gpu/gpu_device.cc:1418] Created TensorFlow device (/job:localhost/replica:0/task:0/device:GPU:0 with 9649 MB memory) -> physical GPU (device: 0, name: NVIDIA GeForce RTX 2080 Ti, pci bus id: 0000:21:00.0, compute capability: 7.5)\n",
      "2022-02-15 01:08:56.609866: I tensorflow/core/common_runtime/process_util.cc:146] Creating new thread pool with default inter op setting: 20. Tune using inter_op_parallelism_threads for best performance.\n"
     ]
    },
    {
     "name": "stdout",
     "output_type": "stream",
     "text": [
      "Normal way\n",
      "[0 1 2 3 4 5 6 7 8 9]\n",
      "WARNING:tensorflow:From /usr/local/lib/python3.8/dist-packages/tensorflow/python/ops/array_ops.py:5043: calling gather (from tensorflow.python.ops.array_ops) with validate_indices is deprecated and will be removed in a future version.\n",
      "Instructions for updating:\n",
      "The `validate_indices` argument has no effect. Indices are always validated on CPU and never validated on GPU.\n"
     ]
    },
    {
     "name": "stderr",
     "output_type": "stream",
     "text": [
      "/usr/local/lib/python3.8/dist-packages/tensorflow/python/keras/optimizer_v2/optimizer_v2.py:374: UserWarning: The `lr` argument is deprecated, use `learning_rate` instead.\n",
      "  warnings.warn(\n",
      "2022-02-15 01:08:57.199512: I tensorflow/compiler/mlir/mlir_graph_optimization_pass.cc:176] None of the MLIR Optimization Passes are enabled (registered 2)\n",
      "2022-02-15 01:08:57.220617: I tensorflow/core/platform/profile_utils/cpu_utils.cc:114] CPU Frequency: 3299990000 Hz\n"
     ]
    },
    {
     "name": "stdout",
     "output_type": "stream",
     "text": [
      "Epoch 1/25\n"
     ]
    },
    {
     "name": "stderr",
     "output_type": "stream",
     "text": [
      "2022-02-15 01:08:57.743748: I tensorflow/stream_executor/platform/default/dso_loader.cc:54] Successfully opened dynamic library libcudnn.so.8\n",
      "2022-02-15 01:08:58.476640: I tensorflow/stream_executor/cuda/cuda_dnn.cc:380] Loaded cuDNN version 8202\n",
      "2022-02-15 01:08:59.339771: I tensorflow/stream_executor/platform/default/dso_loader.cc:54] Successfully opened dynamic library libcublas.so.11\n",
      "2022-02-15 01:09:00.106980: I tensorflow/stream_executor/platform/default/dso_loader.cc:54] Successfully opened dynamic library libcublasLt.so.11\n"
     ]
    },
    {
     "name": "stdout",
     "output_type": "stream",
     "text": [
      "1874/1874 - 96s - loss: 2.4860 - accuracy: 0.0765\n",
      "Epoch 2/25\n",
      "1874/1874 - 93s - loss: 2.4852 - accuracy: 0.0747\n",
      "Epoch 3/25\n",
      "1874/1874 - 93s - loss: 2.4854 - accuracy: 0.0795\n",
      "Epoch 4/25\n",
      "1874/1874 - 93s - loss: 2.4854 - accuracy: 0.0794\n",
      "Epoch 5/25\n",
      "1874/1874 - 93s - loss: 2.4853 - accuracy: 0.0759\n",
      "Epoch 6/25\n",
      "1874/1874 - 92s - loss: 2.4854 - accuracy: 0.0841\n",
      "Epoch 7/25\n",
      "1874/1874 - 91s - loss: 2.4853 - accuracy: 0.0913\n",
      "Epoch 8/25\n",
      "1874/1874 - 92s - loss: 2.4854 - accuracy: 0.0808\n",
      "Epoch 9/25\n",
      "1874/1874 - 93s - loss: 2.4854 - accuracy: 0.0734\n",
      "Epoch 10/25\n",
      "1874/1874 - 93s - loss: 2.4854 - accuracy: 0.0894\n",
      "Epoch 11/25\n",
      "1874/1874 - 92s - loss: 2.4854 - accuracy: 0.0699\n",
      "Epoch 12/25\n",
      "1874/1874 - 92s - loss: 2.4852 - accuracy: 0.0828\n",
      "Epoch 13/25\n",
      "1874/1874 - 92s - loss: 2.4852 - accuracy: 0.0887\n",
      "Epoch 14/25\n",
      "1874/1874 - 92s - loss: 2.4853 - accuracy: 0.0715\n",
      "Epoch 15/25\n",
      "1874/1874 - 92s - loss: 2.4854 - accuracy: 0.0718\n",
      "Epoch 16/25\n",
      "1874/1874 - 92s - loss: 2.4852 - accuracy: 0.0733\n",
      "Epoch 17/25\n",
      "1874/1874 - 92s - loss: 2.4852 - accuracy: 0.0523\n",
      "Epoch 18/25\n",
      "1874/1874 - 92s - loss: 2.4854 - accuracy: 0.0782\n",
      "Epoch 19/25\n",
      "1874/1874 - 92s - loss: 2.4852 - accuracy: 0.0790\n",
      "Epoch 20/25\n",
      "1874/1874 - 93s - loss: 2.4852 - accuracy: 0.0692\n",
      "Epoch 21/25\n",
      "1874/1874 - 93s - loss: 2.4854 - accuracy: 0.0875\n",
      "Epoch 22/25\n",
      "1874/1874 - 93s - loss: 2.4853 - accuracy: 0.0857\n",
      "Epoch 23/25\n",
      "1874/1874 - 93s - loss: 2.4853 - accuracy: 0.0765\n",
      "Epoch 24/25\n",
      "1874/1874 - 93s - loss: 2.4853 - accuracy: 0.0605\n",
      "Epoch 25/25\n",
      "1874/1874 - 93s - loss: 2.4853 - accuracy: 0.0895\n",
      "469/469 - 21s\n",
      "Normalized confusion matrix\n",
      "                  precision    recall  f1-score   support\n",
      "\n",
      "            HEKA       0.00      0.00      0.00      1770\n",
      "  fridge/freezer       0.00      0.00      0.00      2522\n",
      "            HTPC       0.00      0.00      0.00       960\n",
      "          boiler       0.09      1.00      0.16      1307\n",
      "computer monitor       0.00      0.00      0.00      1045\n",
      "desktop computer       0.00      0.00      0.00       758\n",
      " laptop computer       0.00      0.00      0.00      1347\n",
      "           light       0.00      0.00      0.00       960\n",
      "       microwave       0.00      0.00      0.00      1348\n",
      " server computer       0.00      0.00      0.00       415\n",
      "      television       0.00      0.00      0.00      1572\n",
      "    washer dryer       0.00      0.00      0.00       983\n",
      "\n",
      "        accuracy                           0.09     14987\n",
      "       macro avg       0.01      0.08      0.01     14987\n",
      "    weighted avg       0.01      0.09      0.01     14987\n",
      "\n",
      "using dataset data ukdale training on model redd seed 12\n",
      "reading data, printing stats: \n",
      "['HEKA', 'fridge/freezer', 'HTPC', 'boiler', 'computer monitor', 'desktop computer', 'laptop computer', 'light', 'microwave', 'server computer', 'television', 'washer dryer']\n"
     ]
    },
    {
     "name": "stderr",
     "output_type": "stream",
     "text": [
      "/usr/local/lib/python3.8/dist-packages/sklearn/metrics/_classification.py:1308: UndefinedMetricWarning: Precision and F-score are ill-defined and being set to 0.0 in labels with no predicted samples. Use `zero_division` parameter to control this behavior.\n",
      "  _warn_prf(average, modifier, msg_start, len(result))\n",
      "/usr/local/lib/python3.8/dist-packages/sklearn/metrics/_classification.py:1308: UndefinedMetricWarning: Precision and F-score are ill-defined and being set to 0.0 in labels with no predicted samples. Use `zero_division` parameter to control this behavior.\n",
      "  _warn_prf(average, modifier, msg_start, len(result))\n",
      "/usr/local/lib/python3.8/dist-packages/sklearn/metrics/_classification.py:1308: UndefinedMetricWarning: Precision and F-score are ill-defined and being set to 0.0 in labels with no predicted samples. Use `zero_division` parameter to control this behavior.\n",
      "  _warn_prf(average, modifier, msg_start, len(result))\n"
     ]
    },
    {
     "name": "stdout",
     "output_type": "stream",
     "text": [
      "{0: 0.7055908662900189, 1: 0.49534787638406874, 2: 1.3009331597222222, 3: 0.9557266755946687, 4: 1.19482978553775, 5: 1.6470766018243763, 6: 0.9269963505907095, 7: 1.3009331597222222, 8: 0.9261370658756644, 9: 3.0130176919983915, 10: 0.7942103868574457, 11: 1.2711407972858355}\n",
      " \n",
      "Tests \n",
      "HEKA test: 1770 train: 7080\n",
      "fridge/freezer test: 2522 train: 10085\n",
      "HTPC test: 960 train: 3840\n",
      "boiler test: 1307 train: 5227\n",
      "computer monitor test: 1045 train: 4181\n",
      "desktop computer test: 758 train: 3033\n",
      "laptop computer test: 1347 train: 5389\n",
      "light test: 960 train: 3840\n",
      "microwave test: 1348 train: 5394\n",
      "server computer test: 415 train: 1658\n",
      "television test: 1572 train: 6290\n",
      "washer dryer test: 983 train: 3930\n",
      "loading model\n",
      "compling TL model..\n"
     ]
    },
    {
     "name": "stderr",
     "output_type": "stream",
     "text": [
      "/usr/local/lib/python3.8/dist-packages/tensorflow/python/keras/optimizer_v2/optimizer_v2.py:374: UserWarning: The `lr` argument is deprecated, use `learning_rate` instead.\n",
      "  warnings.warn(\n"
     ]
    },
    {
     "name": "stdout",
     "output_type": "stream",
     "text": [
      "Normal way\n",
      "[0 1 2 3 4 5 6 7 8 9]\n",
      "Epoch 1/25\n",
      "1874/1874 - 95s - loss: 2.5279 - accuracy: 0.0687\n",
      "Epoch 2/25\n",
      "1874/1874 - 92s - loss: 2.4853 - accuracy: 0.0861\n",
      "Epoch 3/25\n",
      "1874/1874 - 92s - loss: 2.4853 - accuracy: 0.0683\n",
      "Epoch 4/25\n",
      "1874/1874 - 93s - loss: 2.5050 - accuracy: 0.0693\n",
      "Epoch 5/25\n",
      "1874/1874 - 93s - loss: 2.4854 - accuracy: 0.0754\n",
      "Epoch 6/25\n",
      "1874/1874 - 92s - loss: 2.4854 - accuracy: 0.0654\n",
      "Epoch 7/25\n",
      "1874/1874 - 91s - loss: 2.4853 - accuracy: 0.0760\n",
      "Epoch 8/25\n",
      "1874/1874 - 91s - loss: 2.4853 - accuracy: 0.0793\n",
      "Epoch 9/25\n",
      "1874/1874 - 92s - loss: 2.4853 - accuracy: 0.0749\n",
      "Epoch 10/25\n",
      "1874/1874 - 93s - loss: 2.4853 - accuracy: 0.0924\n",
      "Epoch 11/25\n",
      "1874/1874 - 92s - loss: 2.4853 - accuracy: 0.0844\n",
      "Epoch 12/25\n",
      "1874/1874 - 92s - loss: 2.4853 - accuracy: 0.0753\n",
      "Epoch 13/25\n",
      "1874/1874 - 92s - loss: 2.4853 - accuracy: 0.0726\n",
      "Epoch 14/25\n",
      "1874/1874 - 93s - loss: 2.4853 - accuracy: 0.0717\n",
      "Epoch 15/25\n",
      "1874/1874 - 92s - loss: 2.4853 - accuracy: 0.0677\n",
      "Epoch 16/25\n",
      "1874/1874 - 91s - loss: 2.4853 - accuracy: 0.0656\n",
      "Epoch 17/25\n",
      "1874/1874 - 91s - loss: 2.4853 - accuracy: 0.0856\n",
      "Epoch 18/25\n",
      "1874/1874 - 92s - loss: 2.4853 - accuracy: 0.0800\n",
      "Epoch 19/25\n",
      "1874/1874 - 92s - loss: 2.4853 - accuracy: 0.0821\n",
      "Epoch 20/25\n",
      "1874/1874 - 92s - loss: 2.4854 - accuracy: 0.0718\n",
      "Epoch 21/25\n",
      "1874/1874 - 91s - loss: 2.4853 - accuracy: 0.0795\n",
      "Epoch 22/25\n",
      "1874/1874 - 92s - loss: 2.4853 - accuracy: 0.0694\n",
      "Epoch 23/25\n",
      "1874/1874 - 92s - loss: 2.4853 - accuracy: 0.0888\n",
      "Epoch 24/25\n",
      "1874/1874 - 92s - loss: 2.4853 - accuracy: 0.0686\n",
      "Epoch 25/25\n",
      "1874/1874 - 92s - loss: 2.4853 - accuracy: 0.0777\n",
      "469/469 - 21s\n",
      "Normalized confusion matrix\n",
      "                  precision    recall  f1-score   support\n",
      "\n",
      "            HEKA       0.00      0.00      0.00      1770\n",
      "  fridge/freezer       0.00      0.00      0.00      2522\n",
      "            HTPC       0.00      0.00      0.00       960\n",
      "          boiler       0.00      0.00      0.00      1307\n",
      "computer monitor       0.00      0.00      0.00      1045\n",
      "desktop computer       0.00      0.00      0.00       758\n",
      " laptop computer       0.09      1.00      0.16      1347\n",
      "           light       0.00      0.00      0.00       960\n",
      "       microwave       0.00      0.00      0.00      1348\n",
      " server computer       0.00      0.00      0.00       415\n",
      "      television       0.00      0.00      0.00      1572\n",
      "    washer dryer       0.00      0.00      0.00       983\n",
      "\n",
      "        accuracy                           0.09     14987\n",
      "       macro avg       0.01      0.08      0.01     14987\n",
      "    weighted avg       0.01      0.09      0.01     14987\n",
      "\n"
     ]
    },
    {
     "name": "stderr",
     "output_type": "stream",
     "text": [
      "/usr/local/lib/python3.8/dist-packages/sklearn/metrics/_classification.py:1308: UndefinedMetricWarning: Precision and F-score are ill-defined and being set to 0.0 in labels with no predicted samples. Use `zero_division` parameter to control this behavior.\n",
      "  _warn_prf(average, modifier, msg_start, len(result))\n",
      "/usr/local/lib/python3.8/dist-packages/sklearn/metrics/_classification.py:1308: UndefinedMetricWarning: Precision and F-score are ill-defined and being set to 0.0 in labels with no predicted samples. Use `zero_division` parameter to control this behavior.\n",
      "  _warn_prf(average, modifier, msg_start, len(result))\n",
      "/usr/local/lib/python3.8/dist-packages/sklearn/metrics/_classification.py:1308: UndefinedMetricWarning: Precision and F-score are ill-defined and being set to 0.0 in labels with no predicted samples. Use `zero_division` parameter to control this behavior.\n",
      "  _warn_prf(average, modifier, msg_start, len(result))\n"
     ]
    },
    {
     "data": {
      "image/png": "[encoded data removed]",
      "text/plain": [
       "<Figure size 720x720 with 2 Axes>"
      ]
     },
     "metadata": {
      "needs_background": "light"
     },
     "output_type": "display_data"
    },
    {
     "data": {
      "image/png": "[encoded data removed]",
      "text/plain": [
       "<Figure size 720x720 with 2 Axes>"
      ]
     },
     "metadata": {
      "needs_background": "light"
     },
     "output_type": "display_data"
    }
   ],
   "source": [
    "# datasets =[\n",
    "#     \"ukdale_gen_GASF_13m_100S5X12A54480_R82_80-20\"\n",
    "# ]\n",
    "\n",
    "if environ['train_type'] == \"TL\": \n",
    "    models = environ['tl_datasets'].replace(\" \",\"\").split(\",\")\n",
    "    #model = [\"base\"]\n",
    "    \n",
    "    for model in models:\n",
    "    \n",
    "        file_name = dataset\n",
    "        \n",
    "        datasetTL = model\n",
    "        \n",
    "        seed = dataset.split(\"_R\")[1][0:2]\n",
    "        \n",
    "        print(\"using dataset data\",dataset.split(\"_\")[0],\"training on model\",model,\"seed\",environ['seed'])\n",
    "        txt_log.write(\"starting \"+dataset.split(\"_\")[0]+\" training on model \"+model+\" seed \"+environ['seed']+\"\\n\")\n",
    "\n",
    "\n",
    "        tf.keras.backend.clear_session()\n",
    "\n",
    "\n",
    "        #read the file\n",
    "        path = str(pathlib.Path().resolve())\n",
    "        path_data = f\"{path}\"\"/data/\"f\"{file_name}\"\"/\"f\"{file_name}\"\".hdf5\"\n",
    "        file = h5py.File(path_data,\"r+\")\n",
    "\n",
    "\n",
    "        print(\"reading data, printing stats: \")\n",
    "        x_test,y_test,d_class_weights,num_of_classes,appliances = get_data(file)\n",
    "        print(\"loading model\")\n",
    "        \n",
    "        model_seed = 42\n",
    "        model_used = create_tl_model(model,environ['learn_type'],model_seed,path,num_of_classes)\n",
    "                \n",
    "        train_gen = HDF5ImageGenerator(\n",
    "            src= path_data,\n",
    "            X_key=\"data/train/gaf\",\n",
    "            y_key=\"labels/train/gaf\",\n",
    "            classes_key=\"appliances/classes\",\n",
    "            labels_encoding=\"hot\",\n",
    "            shuffle=True,\n",
    "            batch_size=int(environ['batch_size']),\n",
    "            num_classes=num_of_classes,\n",
    "            mode=\"train\",\n",
    "            )\n",
    "\n",
    "        model_used.fit(\n",
    "            train_gen,\n",
    "            verbose=2,\n",
    "            epochs=int(environ['epochs']),\n",
    "            class_weight=d_class_weights,\n",
    "            callbacks = [save_op_callback]\n",
    "            #workers = 6,\n",
    "        )\n",
    "        \n",
    "        txt_log.write(\"finished \"+dataset.split(\"_\")[0]+\" training on model \"+model+\" seed \"+environ['seed']+\"\\n\")\n",
    "\n",
    "\n",
    "        evaluate_model(model_used,x_test,y_test,appliances)\n",
    "        \n",
    "\n",
    "\n",
    "\n",
    "        #del model_used\n",
    "\n"
   ]
  },
  {
   "cell_type": "code",
   "execution_count": 16,
   "metadata": {
    "execution": {
     "iopub.execute_input": "2022-02-15T02:26:55.919834Z",
     "iopub.status.busy": "2022-02-15T02:26:55.919449Z",
     "iopub.status.idle": "2022-02-15T02:26:55.921199Z",
     "shell.execute_reply": "2022-02-15T02:26:55.921597Z"
    }
   },
   "outputs": [],
   "source": [
    "txt_log.close()"
   ]
  },
  {
   "cell_type": "code",
   "execution_count": null,
   "metadata": {},
   "outputs": [],
   "source": []
  }
 ],
 "metadata": {
  "colab": {
   "authorship_tag": "ABX9TyMej4PvP65qsLng7TnQKWA4",
   "name": "LSTM-gen",
   "provenance": []
  },
  "kernelspec": {
   "display_name": "Python 3 (ipykernel)",
   "language": "python",
   "name": "python3"
  },
  "language_info": {
   "codemirror_mode": {
    "name": "ipython",
    "version": 3
   },
   "file_extension": ".py",
   "mimetype": "text/x-python",
   "name": "python",
   "nbconvert_exporter": "python",
   "pygments_lexer": "ipython3",
   "version": "3.8.10"
  }
 },
 "nbformat": 4,
 "nbformat_minor": 4
}
