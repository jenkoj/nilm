{
 "cells": [
  {
   "cell_type": "code",
   "execution_count": 1,
   "metadata": {
    "execution": {
     "iopub.execute_input": "2022-02-03T08:56:20.423717Z",
     "iopub.status.busy": "2022-02-03T08:56:20.421169Z",
     "iopub.status.idle": "2022-02-03T08:56:24.817007Z",
     "shell.execute_reply": "2022-02-03T08:56:24.814326Z"
    },
    "id": "WqUfHWgtJxtu",
    "scrolled": true,
    "tags": []
   },
   "outputs": [
    {
     "name": "stderr",
     "output_type": "stream",
     "text": [
      "2022-02-03 08:56:23.319411: I tensorflow/stream_executor/platform/default/dso_loader.cc:54] Successfully opened dynamic library libcudart.so.11.0\n"
     ]
    },
    {
     "name": "stdout",
     "output_type": "stream",
     "text": [
      "2.5.0\n",
      "Num GPUs Available:  1\n"
     ]
    },
    {
     "name": "stderr",
     "output_type": "stream",
     "text": [
      "2022-02-03 08:56:24.710289: I tensorflow/stream_executor/platform/default/dso_loader.cc:54] Successfully opened dynamic library libcuda.so.1\n",
      "2022-02-03 08:56:24.751361: I tensorflow/core/common_runtime/gpu/gpu_device.cc:1734] Found device 0 with properties: \n",
      "pciBusID: 0000:21:00.0 name: NVIDIA GeForce RTX 2080 Ti computeCapability: 7.5\n",
      "coreClock: 1.545GHz coreCount: 68 deviceMemorySize: 10.76GiB deviceMemoryBandwidth: 573.69GiB/s\n",
      "2022-02-03 08:56:24.751418: I tensorflow/stream_executor/platform/default/dso_loader.cc:54] Successfully opened dynamic library libcudart.so.11.0\n",
      "2022-02-03 08:56:24.768656: I tensorflow/stream_executor/platform/default/dso_loader.cc:54] Successfully opened dynamic library libcublas.so.11\n",
      "2022-02-03 08:56:24.768730: I tensorflow/stream_executor/platform/default/dso_loader.cc:54] Successfully opened dynamic library libcublasLt.so.11\n",
      "2022-02-03 08:56:24.779518: I tensorflow/stream_executor/platform/default/dso_loader.cc:54] Successfully opened dynamic library libcufft.so.10\n",
      "2022-02-03 08:56:24.781806: I tensorflow/stream_executor/platform/default/dso_loader.cc:54] Successfully opened dynamic library libcurand.so.10\n",
      "2022-02-03 08:56:24.799523: I tensorflow/stream_executor/platform/default/dso_loader.cc:54] Successfully opened dynamic library libcutensor.so.1\n",
      "2022-02-03 08:56:24.801979: I tensorflow/stream_executor/platform/default/dso_loader.cc:54] Successfully opened dynamic library libcusolver.so.11\n",
      "2022-02-03 08:56:24.806274: I tensorflow/stream_executor/platform/default/dso_loader.cc:54] Successfully opened dynamic library libcusparse.so.11\n",
      "2022-02-03 08:56:24.806822: I tensorflow/stream_executor/platform/default/dso_loader.cc:54] Successfully opened dynamic library libcudnn.so.8\n",
      "2022-02-03 08:56:24.807208: I tensorflow/core/common_runtime/gpu/gpu_device.cc:1872] Adding visible gpu devices: 0\n"
     ]
    }
   ],
   "source": [
    "import h5py\n",
    "import numpy as np\n",
    "\n",
    "from sklearn.model_selection import train_test_split\n",
    "from sklearn.metrics import classification_report, confusion_matrix\n",
    "import matplotlib.pyplot as plt\n",
    "import itertools \n",
    "import pyts\n",
    "from pyts.approximation import PiecewiseAggregateApproximation\n",
    "\n",
    "from sklearn.utils import class_weight\n",
    "\n",
    "import pathlib\n",
    "import tensorflow as tf\n",
    "from tensorflow import keras\n",
    "from tensorflow.keras import layers, optimizers\n",
    "from tensorflow.keras.layers import Convolution2D,Conv2D, Dense,Dropout, Flatten, Activation, MaxPooling2D, Input, Conv1D, GlobalAveragePooling1D, TimeDistributed, GRU, LSTM\n",
    "\n",
    "print(tf.__version__)\n",
    "print(\"Num GPUs Available: \", len(tf.config.list_physical_devices('GPU')))\n",
    "gpus = tf.config.experimental.list_physical_devices('GPU')\n",
    "\n",
    "try:\n",
    "    for gpu in gpus:\n",
    "        tf.config.experimental.set_memory_growth(gpu, True)\n",
    "except RuntimeError as e:\n",
    "    print(e)"
   ]
  },
  {
   "cell_type": "code",
   "execution_count": 2,
   "metadata": {
    "execution": {
     "iopub.execute_input": "2022-02-03T08:56:24.823538Z",
     "iopub.status.busy": "2022-02-03T08:56:24.822361Z",
     "iopub.status.idle": "2022-02-03T08:56:24.827285Z",
     "shell.execute_reply": "2022-02-03T08:56:24.826287Z"
    }
   },
   "outputs": [
    {
     "name": "stdout",
     "output_type": "stream",
     "text": [
      "ukdale_gen_GASF_60m_300S0X_R82_80-20\n"
     ]
    }
   ],
   "source": [
    "from os import environ\n",
    "dataset = environ['dataset']\n",
    "print(dataset)"
   ]
  },
  {
   "cell_type": "code",
   "execution_count": 3,
   "metadata": {
    "execution": {
     "iopub.execute_input": "2022-02-03T08:56:24.834054Z",
     "iopub.status.busy": "2022-02-03T08:56:24.832951Z",
     "iopub.status.idle": "2022-02-03T08:56:24.838683Z",
     "shell.execute_reply": "2022-02-03T08:56:24.837705Z"
    }
   },
   "outputs": [],
   "source": [
    "#my defs \n",
    "from modules.models import  LSTM_3D_V56, CNN_V56,LSTM_BI_V56\n",
    "from modules.tools import my_print, plot_confusion_matrix_norm, get_data,get_data_split, evaluate_model, create_tl_model\n",
    "from modules.HDF5ImageGenerator import HDF5ImageGenerator"
   ]
  },
  {
   "cell_type": "code",
   "execution_count": 4,
   "metadata": {
    "execution": {
     "iopub.execute_input": "2022-02-03T08:56:24.846047Z",
     "iopub.status.busy": "2022-02-03T08:56:24.844835Z",
     "iopub.status.idle": "2022-02-03T08:56:24.847312Z",
     "shell.execute_reply": "2022-02-03T08:56:24.848296Z"
    },
    "id": "RT1vwq7-KOtB"
   },
   "outputs": [],
   "source": [
    "#LOAD DATASET\n",
    "#file_name = \"ukdale_gen_GASF_13m_100S5X12A54480\"\n",
    "#file_name = \"refit_gen_GASF_13m_100S5X_15A166006\"\n",
    "file_name = \"refit_gen_GASF_13m_100S5X_15A166006_R42-80-20\"\n",
    "#file_name = \"refit_gen_GASF_13m_100S5X_15A166006_R42_80-20\"\n",
    "file_name = \"refit_gen_GASF_60m_300S0X_15A157030N_R12_80-20-V1\"\n",
    "file_name = environ[\"dataset\"]\n",
    "#read the file\n",
    "path = str(pathlib.Path().resolve())\n",
    "\n",
    "path_data = f\"{path}\"\"/data/\"f\"{file_name}\"\"/\"f\"{file_name}\"\".hdf5\"\n",
    "\n",
    "file = h5py.File(path_data,\"r+\")"
   ]
  },
  {
   "cell_type": "code",
   "execution_count": 5,
   "metadata": {
    "execution": {
     "iopub.execute_input": "2022-02-03T08:56:24.855234Z",
     "iopub.status.busy": "2022-02-03T08:56:24.853927Z",
     "iopub.status.idle": "2022-02-03T08:56:31.390599Z",
     "shell.execute_reply": "2022-02-03T08:56:31.391666Z"
    },
    "scrolled": true
   },
   "outputs": [
    {
     "name": "stdout",
     "output_type": "stream",
     "text": [
      "['HEKA', 'fridge/freezer', 'HTPC', 'boiler', 'computer monitor', 'desktop computer', 'laptop computer', 'light', 'microwave', 'server computer', 'television', 'washer dryer']\n",
      "{0: 0.7055908662900189, 1: 0.49534787638406874, 2: 1.3009331597222222, 3: 0.9557266755946687, 4: 1.19482978553775, 5: 1.6470766018243763, 6: 0.9269963505907095, 7: 1.3009331597222222, 8: 0.9261370658756644, 9: 3.0130176919983915, 10: 0.7942103868574457, 11: 1.2711407972858355}\n",
      " \n",
      "Tests \n",
      "HEKA test: 1770 train: 7080\n",
      "fridge/freezer test: 2522 train: 10085\n",
      "HTPC test: 960 train: 3840\n",
      "boiler test: 1307 train: 5227\n",
      "computer monitor test: 1045 train: 4181\n",
      "desktop computer test: 758 train: 3033\n",
      "laptop computer test: 1347 train: 5389\n",
      "light test: 960 train: 3840\n",
      "microwave test: 1348 train: 5394\n",
      "server computer test: 415 train: 1658\n",
      "television test: 1572 train: 6290\n",
      "washer dryer test: 983 train: 3930\n"
     ]
    }
   ],
   "source": [
    "x_test,y_test,d_class_weights,num_of_classes,appliances = get_data(file)"
   ]
  },
  {
   "cell_type": "code",
   "execution_count": 6,
   "metadata": {
    "execution": {
     "iopub.execute_input": "2022-02-03T08:56:31.400268Z",
     "iopub.status.busy": "2022-02-03T08:56:31.398879Z",
     "iopub.status.idle": "2022-02-03T08:56:31.401677Z",
     "shell.execute_reply": "2022-02-03T08:56:31.402729Z"
    }
   },
   "outputs": [],
   "source": [
    "def select_model(learn_type):\n",
    "    \n",
    "    if learn_type == \"CNN\":\n",
    "        model = CNN_V56(file[\"data/train/gaf\"][0:10],num_of_classes,lr= 0.00002)\n",
    "\n",
    "    if learn_type == \"LSTM\":\n",
    "        model = LSTM_3D_V56(file[\"data/train/gaf\"][0:10],num_of_classes,lr= 0.00002)\n",
    "\n",
    "    if learn_type == \"BI_LSTM\":\n",
    "        model = LSTM_BI_V56(file[\"data/train/gaf\"][0:10],num_of_classes,lr= 0.00002)\n",
    "\n",
    "    return model\n",
    "              "
   ]
  },
  {
   "cell_type": "code",
   "execution_count": 7,
   "metadata": {
    "execution": {
     "iopub.execute_input": "2022-02-03T08:56:31.409867Z",
     "iopub.status.busy": "2022-02-03T08:56:31.408569Z",
     "iopub.status.idle": "2022-02-03T08:56:31.411239Z",
     "shell.execute_reply": "2022-02-03T08:56:31.412317Z"
    }
   },
   "outputs": [],
   "source": [
    "path_save = path+'/experiment_automation/output/'+environ['learn_type']+'/'+dataset.split(\"_\")[0]+\"/\"+environ['train_type']+\"/\"+dataset.split(\"_\")[0]+\"_\"+environ['seed']+\"_\"+environ['tl_datasets']\n",
    "path_save_nb = path_save+\"_out.ipynb\"\n",
    "path_save_log = path_save+\"_out_log2.txt\""
   ]
  },
  {
   "cell_type": "code",
   "execution_count": 8,
   "metadata": {
    "execution": {
     "iopub.execute_input": "2022-02-03T08:56:31.422400Z",
     "iopub.status.busy": "2022-02-03T08:56:31.421428Z",
     "iopub.status.idle": "2022-02-03T08:56:31.593189Z",
     "shell.execute_reply": "2022-02-03T08:56:31.592147Z"
    }
   },
   "outputs": [],
   "source": [
    "from keras.callbacks import LambdaCallback\n",
    "#path_log= path+'/experiment_automation/output/'+environ['learn_type']+'/'+dataset.split(\"_\")[0]+\"/\"+environ['train_type']+\"/\"+dataset.split(\"_\")[0]+\"_\"+environ['seed']+\"_\"+environ['tl_datasets']+\"_log.txt\"\n",
    "txt_log = open(path_save+\"_log.txt\", mode='wt', buffering=1)\n",
    "txt_log.write(\"file created! \\n\")\n",
    "\n",
    "save_op_callback = LambdaCallback(\n",
    "  on_epoch_end = lambda epoch, logs: txt_log.write(\n",
    "    str({'epoch': epoch, 'loss': logs['loss'],'acc': logs['accuracy']}) + '\\n'),\n",
    "                                                           \n",
    ")"
   ]
  },
  {
   "cell_type": "code",
   "execution_count": 9,
   "metadata": {
    "execution": {
     "iopub.execute_input": "2022-02-03T08:56:31.600938Z",
     "iopub.status.busy": "2022-02-03T08:56:31.599756Z",
     "iopub.status.idle": "2022-02-03T08:56:31.603960Z",
     "shell.execute_reply": "2022-02-03T08:56:31.604942Z"
    }
   },
   "outputs": [
    {
     "name": "stdout",
     "output_type": "stream",
     "text": [
      "/workspace/notebooks/experiment_automation/output/CNN/ukdale/BB/ukdale_82__out.ipynb\n"
     ]
    }
   ],
   "source": [
    "print(path_save_nb)"
   ]
  },
  {
   "cell_type": "code",
   "execution_count": 10,
   "metadata": {
    "execution": {
     "iopub.execute_input": "2022-02-03T08:56:31.611247Z",
     "iopub.status.busy": "2022-02-03T08:56:31.610168Z",
     "iopub.status.idle": "2022-02-03T08:56:31.612581Z",
     "shell.execute_reply": "2022-02-03T08:56:31.613470Z"
    }
   },
   "outputs": [],
   "source": [
    "# rm $path_save_log"
   ]
  },
  {
   "cell_type": "code",
   "execution_count": 11,
   "metadata": {
    "execution": {
     "iopub.execute_input": "2022-02-03T08:56:31.618934Z",
     "iopub.status.busy": "2022-02-03T08:56:31.617295Z",
     "iopub.status.idle": "2022-02-03T08:56:31.622278Z",
     "shell.execute_reply": "2022-02-03T08:56:31.621529Z"
    }
   },
   "outputs": [],
   "source": [
    "# %%capture cap \n",
    "\n",
    "# with open(path_save_log,\"wt\") as f:\n",
    "#     f.write(cap.stdout)\n",
    "    \n",
    "# print(\"out capture..\")"
   ]
  },
  {
   "cell_type": "code",
   "execution_count": 12,
   "metadata": {
    "execution": {
     "iopub.execute_input": "2022-02-03T08:56:31.642735Z",
     "iopub.status.busy": "2022-02-03T08:56:31.641498Z",
     "iopub.status.idle": "2022-02-03T12:34:33.489585Z",
     "shell.execute_reply": "2022-02-03T12:34:33.489929Z"
    },
    "id": "vqA9NwOqKrb5",
    "jupyter": {
     "outputs_hidden": true
    },
    "tags": []
   },
   "outputs": [
    {
     "name": "stdout",
     "output_type": "stream",
     "text": [
      "Normal way\n",
      "[0 1 2 3 4 5 6 7 8 9]\n",
      "WARNING:tensorflow:From /usr/local/lib/python3.8/dist-packages/tensorflow/python/ops/array_ops.py:5043: calling gather (from tensorflow.python.ops.array_ops) with validate_indices is deprecated and will be removed in a future version.\n",
      "Instructions for updating:\n",
      "The `validate_indices` argument has no effect. Indices are always validated on CPU and never validated on GPU.\n"
     ]
    },
    {
     "name": "stderr",
     "output_type": "stream",
     "text": [
      "2022-02-03 08:56:31.659564: I tensorflow/core/common_runtime/gpu/gpu_device.cc:1734] Found device 0 with properties: \n",
      "pciBusID: 0000:21:00.0 name: NVIDIA GeForce RTX 2080 Ti computeCapability: 7.5\n",
      "coreClock: 1.545GHz coreCount: 68 deviceMemorySize: 10.76GiB deviceMemoryBandwidth: 573.69GiB/s\n",
      "2022-02-03 08:56:31.662753: I tensorflow/core/common_runtime/gpu/gpu_device.cc:1872] Adding visible gpu devices: 0\n",
      "2022-02-03 08:56:31.663062: I tensorflow/stream_executor/platform/default/dso_loader.cc:54] Successfully opened dynamic library libcudart.so.11.0\n",
      "2022-02-03 08:56:32.554136: I tensorflow/core/common_runtime/gpu/gpu_device.cc:1258] Device interconnect StreamExecutor with strength 1 edge matrix:\n",
      "2022-02-03 08:56:32.554171: I tensorflow/core/common_runtime/gpu/gpu_device.cc:1264]      0 \n",
      "2022-02-03 08:56:32.554204: I tensorflow/core/common_runtime/gpu/gpu_device.cc:1277] 0:   N \n",
      "2022-02-03 08:56:32.554801: I tensorflow/core/common_runtime/gpu/gpu_device.cc:1418] Created TensorFlow device (/job:localhost/replica:0/task:0/device:GPU:0 with 9649 MB memory) -> physical GPU (device: 0, name: NVIDIA GeForce RTX 2080 Ti, pci bus id: 0000:21:00.0, compute capability: 7.5)\n",
      "2022-02-03 08:56:32.555486: I tensorflow/core/common_runtime/process_util.cc:146] Creating new thread pool with default inter op setting: 20. Tune using inter_op_parallelism_threads for best performance.\n",
      "2022-02-03 08:56:32.668749: I tensorflow/compiler/mlir/mlir_graph_optimization_pass.cc:176] None of the MLIR Optimization Passes are enabled (registered 2)\n",
      "2022-02-03 08:56:32.688521: I tensorflow/core/platform/profile_utils/cpu_utils.cc:114] CPU Frequency: 3299990000 Hz\n"
     ]
    },
    {
     "name": "stdout",
     "output_type": "stream",
     "text": [
      "Epoch 1/50\n"
     ]
    },
    {
     "name": "stderr",
     "output_type": "stream",
     "text": [
      "2022-02-03 08:56:33.330335: I tensorflow/stream_executor/platform/default/dso_loader.cc:54] Successfully opened dynamic library libcudnn.so.8\n",
      "2022-02-03 08:56:34.080771: I tensorflow/stream_executor/cuda/cuda_dnn.cc:380] Loaded cuDNN version 8202\n",
      "2022-02-03 08:56:34.951313: I tensorflow/stream_executor/platform/default/dso_loader.cc:54] Successfully opened dynamic library libcublas.so.11\n",
      "2022-02-03 08:56:35.772374: I tensorflow/stream_executor/platform/default/dso_loader.cc:54] Successfully opened dynamic library libcublasLt.so.11\n"
     ]
    },
    {
     "name": "stdout",
     "output_type": "stream",
     "text": [
      "7494/7494 - 267s - loss: 1.9674 - accuracy: 0.3481\n",
      "Epoch 2/50\n",
      "7494/7494 - 262s - loss: 1.5577 - accuracy: 0.5256\n",
      "Epoch 3/50\n",
      "7494/7494 - 262s - loss: 1.3092 - accuracy: 0.6146\n",
      "Epoch 4/50\n",
      "7494/7494 - 262s - loss: 1.1123 - accuracy: 0.6716\n",
      "Epoch 5/50\n",
      "7494/7494 - 262s - loss: 0.9882 - accuracy: 0.7017\n",
      "Epoch 6/50\n",
      "7494/7494 - 261s - loss: 0.9045 - accuracy: 0.7241\n",
      "Epoch 7/50\n",
      "7494/7494 - 261s - loss: 0.8394 - accuracy: 0.7418\n",
      "Epoch 8/50\n",
      "7494/7494 - 261s - loss: 0.7828 - accuracy: 0.7568\n",
      "Epoch 9/50\n",
      "7494/7494 - 262s - loss: 0.7442 - accuracy: 0.7675\n",
      "Epoch 10/50\n",
      "7494/7494 - 263s - loss: 0.7034 - accuracy: 0.7801\n",
      "Epoch 11/50\n",
      "7494/7494 - 263s - loss: 0.6678 - accuracy: 0.7893\n",
      "Epoch 12/50\n",
      "7494/7494 - 262s - loss: 0.6395 - accuracy: 0.7985\n",
      "Epoch 13/50\n",
      "7494/7494 - 262s - loss: 0.6133 - accuracy: 0.8071\n",
      "Epoch 14/50\n",
      "7494/7494 - 262s - loss: 0.5890 - accuracy: 0.8134\n",
      "Epoch 15/50\n",
      "7494/7494 - 262s - loss: 0.5677 - accuracy: 0.8219\n",
      "Epoch 16/50\n",
      "7494/7494 - 261s - loss: 0.5463 - accuracy: 0.8272\n",
      "Epoch 17/50\n",
      "7494/7494 - 261s - loss: 0.5255 - accuracy: 0.8330\n",
      "Epoch 18/50\n",
      "7494/7494 - 260s - loss: 0.5107 - accuracy: 0.8374\n",
      "Epoch 19/50\n",
      "7494/7494 - 261s - loss: 0.4935 - accuracy: 0.8434\n",
      "Epoch 20/50\n",
      "7494/7494 - 262s - loss: 0.4813 - accuracy: 0.8470\n",
      "Epoch 21/50\n",
      "7494/7494 - 262s - loss: 0.4692 - accuracy: 0.8513\n",
      "Epoch 22/50\n",
      "7494/7494 - 261s - loss: 0.4544 - accuracy: 0.8555\n",
      "Epoch 23/50\n",
      "7494/7494 - 261s - loss: 0.4443 - accuracy: 0.8567\n",
      "Epoch 24/50\n",
      "7494/7494 - 260s - loss: 0.4321 - accuracy: 0.8632\n",
      "Epoch 25/50\n",
      "7494/7494 - 260s - loss: 0.4190 - accuracy: 0.8651\n",
      "Epoch 26/50\n",
      "7494/7494 - 260s - loss: 0.4119 - accuracy: 0.8678\n",
      "Epoch 27/50\n",
      "7494/7494 - 260s - loss: 0.4008 - accuracy: 0.8713\n",
      "Epoch 28/50\n",
      "7494/7494 - 260s - loss: 0.3956 - accuracy: 0.8733\n",
      "Epoch 29/50\n",
      "7494/7494 - 260s - loss: 0.3804 - accuracy: 0.8782\n",
      "Epoch 30/50\n",
      "7494/7494 - 260s - loss: 0.3798 - accuracy: 0.8774\n",
      "Epoch 31/50\n",
      "7494/7494 - 260s - loss: 0.3686 - accuracy: 0.8810\n",
      "Epoch 32/50\n",
      "7494/7494 - 260s - loss: 0.3571 - accuracy: 0.8867\n",
      "Epoch 33/50\n",
      "7494/7494 - 260s - loss: 0.3548 - accuracy: 0.8862\n",
      "Epoch 34/50\n",
      "7494/7494 - 260s - loss: 0.3451 - accuracy: 0.8882\n",
      "Epoch 35/50\n",
      "7494/7494 - 261s - loss: 0.3393 - accuracy: 0.8899\n",
      "Epoch 36/50\n",
      "7494/7494 - 260s - loss: 0.3322 - accuracy: 0.8922\n",
      "Epoch 37/50\n",
      "7494/7494 - 260s - loss: 0.3273 - accuracy: 0.8935\n",
      "Epoch 38/50\n",
      "7494/7494 - 261s - loss: 0.3183 - accuracy: 0.8973\n",
      "Epoch 39/50\n",
      "7494/7494 - 262s - loss: 0.3128 - accuracy: 0.8984\n",
      "Epoch 40/50\n",
      "7494/7494 - 262s - loss: 0.3045 - accuracy: 0.9007\n",
      "Epoch 41/50\n",
      "7494/7494 - 261s - loss: 0.3023 - accuracy: 0.9028\n",
      "Epoch 42/50\n",
      "7494/7494 - 261s - loss: 0.2964 - accuracy: 0.9032\n",
      "Epoch 43/50\n",
      "7494/7494 - 260s - loss: 0.2938 - accuracy: 0.9049\n",
      "Epoch 44/50\n",
      "7494/7494 - 260s - loss: 0.2886 - accuracy: 0.9058\n",
      "Epoch 45/50\n",
      "7494/7494 - 260s - loss: 0.2781 - accuracy: 0.9088\n",
      "Epoch 46/50\n",
      "7494/7494 - 260s - loss: 0.2803 - accuracy: 0.9081\n",
      "Epoch 47/50\n",
      "7494/7494 - 260s - loss: 0.2718 - accuracy: 0.9121\n",
      "Epoch 48/50\n",
      "7494/7494 - 260s - loss: 0.2696 - accuracy: 0.9116\n",
      "Epoch 49/50\n",
      "7494/7494 - 259s - loss: 0.2616 - accuracy: 0.9143\n",
      "Epoch 50/50\n",
      "7494/7494 - 260s - loss: 0.2626 - accuracy: 0.9151\n",
      "469/469 - 21s\n",
      "Normalized confusion matrix\n",
      "                  precision    recall  f1-score   support\n",
      "\n",
      "            HEKA       0.91      0.88      0.90      1770\n",
      "  fridge/freezer       0.96      0.95      0.96      2522\n",
      "            HTPC       0.68      0.79      0.73       960\n",
      "          boiler       0.90      0.88      0.89      1307\n",
      "computer monitor       0.70      0.72      0.71      1045\n",
      "desktop computer       0.65      0.74      0.69       758\n",
      " laptop computer       0.90      0.88      0.89      1347\n",
      "           light       0.83      0.77      0.80       960\n",
      "       microwave       0.83      0.86      0.84      1348\n",
      " server computer       0.96      0.92      0.94       415\n",
      "      television       0.80      0.75      0.77      1572\n",
      "    washer dryer       0.87      0.89      0.88       983\n",
      "\n",
      "        accuracy                           0.85     14987\n",
      "       macro avg       0.83      0.84      0.83     14987\n",
      "    weighted avg       0.85      0.85      0.85     14987\n",
      "\n"
     ]
    },
    {
     "name": "stderr",
     "output_type": "stream",
     "text": [
      "2022-02-03 12:34:32.240212: W tensorflow/python/util/util.cc:348] Sets are not currently considered sequences, but this may change in the future, so consider avoiding using them.\n"
     ]
    },
    {
     "name": "stdout",
     "output_type": "stream",
     "text": [
      "INFO:tensorflow:Assets written to: /workspace/notebooks/models/CNN/ukdale_82/assets\n"
     ]
    },
    {
     "data": {
      "image/png": "[encoded data removed]",
      "text/plain": [
       "<Figure size 720x720 with 2 Axes>"
      ]
     },
     "metadata": {
      "needs_background": "light"
     },
     "output_type": "display_data"
    }
   ],
   "source": [
    "# %%capture cap --no-stderr\n",
    "\n",
    "\n",
    "if environ['train_type'] == \"BB\":\n",
    "\n",
    "    #define generator\n",
    "    train_gen = HDF5ImageGenerator(\n",
    "        src= path_data,\n",
    "        X_key=\"data/train/gaf\",\n",
    "        y_key=\"labels/train/gaf\",\n",
    "        classes_key=\"appliances/classes\",\n",
    "        labels_encoding=\"hot\",\n",
    "        shuffle=True,\n",
    "        batch_size=int(environ['batch_size']),\n",
    "        num_classes=num_of_classes,\n",
    "        mode=\"train\",\n",
    "        )\n",
    "    \n",
    "    model = select_model(environ['learn_type'])\n",
    "    \n",
    "    txt_log.write(\"fitting BB model: \\n\")\n",
    "    \n",
    "    model.fit(\n",
    "        train_gen,\n",
    "        verbose=2,\n",
    "        epochs=int(environ['epochs']),\n",
    "        class_weight=d_class_weights,\n",
    "        callbacks = [save_op_callback],\n",
    "    )\n",
    "    \n",
    "    txt_log.write(\"finished fitting BB model: \\n\")\n",
    "\n",
    "    evaluate_model(model,x_test,y_test,appliances)\n",
    "    \n",
    "    if environ['save_model']==\"True\":\n",
    "\n",
    "        path_model_save = path+\"/models/\"+environ['learn_type']+\"/\"+dataset.split(\"_\")[0]+\"_\"+dataset.split(\"_R\")[1][0:2]\n",
    "        model.save(path_model_save)\n",
    "        txt_log.write(\"model saved to:\"+\"/models/\"+environ['learn_type']+\"/\"+dataset.split(\"_\")[0]+\"_\"+dataset.split(\"_R\")[1][0:2]+\" \\n\")\n",
    "        \n",
    "        \n",
    "# with open(path_save+\"_out_log.txt\" as f:\n",
    "#     f.write(cap.stdout)\n"
   ]
  },
  {
   "cell_type": "code",
   "execution_count": 13,
   "metadata": {
    "collapsed": true,
    "execution": {
     "iopub.execute_input": "2022-02-03T12:34:33.493163Z",
     "iopub.status.busy": "2022-02-03T12:34:33.492758Z",
     "iopub.status.idle": "2022-02-03T12:34:33.496274Z",
     "shell.execute_reply": "2022-02-03T12:34:33.495837Z"
    }
   },
   "outputs": [],
   "source": [
    "#model = keras.models.load_model(path_model1)\n",
    "# model_used = model"
   ]
  },
  {
   "cell_type": "code",
   "execution_count": 14,
   "metadata": {
    "collapsed": true,
    "execution": {
     "iopub.execute_input": "2022-02-03T12:34:33.501222Z",
     "iopub.status.busy": "2022-02-03T12:34:33.500743Z",
     "iopub.status.idle": "2022-02-03T12:34:33.503744Z",
     "shell.execute_reply": "2022-02-03T12:34:33.504152Z"
    },
    "jupyter": {
     "outputs_hidden": true
    },
    "tags": []
   },
   "outputs": [],
   "source": [
    "# evaluate_model(model,x_test,y_test,appliances)"
   ]
  },
  {
   "cell_type": "code",
   "execution_count": 15,
   "metadata": {
    "collapsed": true,
    "execution": {
     "iopub.execute_input": "2022-02-03T12:34:33.525432Z",
     "iopub.status.busy": "2022-02-03T12:34:33.507495Z",
     "iopub.status.idle": "2022-02-03T12:34:33.529082Z",
     "shell.execute_reply": "2022-02-03T12:34:33.528067Z"
    }
   },
   "outputs": [],
   "source": [
    "# datasets =[\n",
    "#     \"ukdale_gen_GASF_13m_100S5X12A54480_R82_80-20\"\n",
    "# ]\n",
    "\n",
    "if environ['train_type'] == \"TL\": \n",
    "    models = environ['tl_datasets'].split(\",\")\n",
    "    #model = [\"base\"]\n",
    "    \n",
    "    for model in models:\n",
    "    \n",
    "        file_name = dataset\n",
    "        \n",
    "        datasetTL = model\n",
    "        \n",
    "        seed = dataset.split(\"_R\")[1][0:2]\n",
    "        \n",
    "        print(\"using dataset data\",dataset.split(\"_\")[0],\"training on model\",model,\"seed\",environ['seed'])\n",
    "        txt_log.write(\"starting \"+dataset.split(\"_\")[0]+\" training on model \"+model+\" seed \"+environ['seed']+\"\\n\")\n",
    "\n",
    "\n",
    "        tf.keras.backend.clear_session()\n",
    "\n",
    "\n",
    "        #read the file\n",
    "        path = str(pathlib.Path().resolve())\n",
    "        path_data = f\"{path}\"\"/data/\"f\"{file_name}\"\"/\"f\"{file_name}\"\".hdf5\"\n",
    "        file = h5py.File(path_data,\"r+\")\n",
    "\n",
    "\n",
    "        print(\"reading data, printing stats: \")\n",
    "        x_test,y_test,d_class_weights,num_of_classes,appliances = get_data(file)\n",
    "        print(\"loading model\")\n",
    "        \n",
    "        model_seed = 42\n",
    "        model_used = create_tl_model(model,environ['learn_type'],model_seed,path,num_of_classes)\n",
    "                \n",
    "        train_gen = HDF5ImageGenerator(\n",
    "            src= path_data,\n",
    "            X_key=\"data/train/gaf\",\n",
    "            y_key=\"labels/train/gaf\",\n",
    "            classes_key=\"appliances/classes\",\n",
    "            labels_encoding=\"hot\",\n",
    "            shuffle=True,\n",
    "            batch_size=int(environ['batch_size']),\n",
    "            num_classes=num_of_classes,\n",
    "            mode=\"train\",\n",
    "            )\n",
    "\n",
    "        model_used.fit(\n",
    "            train_gen,\n",
    "            verbose=2,\n",
    "            epochs=int(environ['epochs']),\n",
    "            class_weight=d_class_weights,\n",
    "            callbacks = [save_op_callback]\n",
    "            #workers = 6,\n",
    "        )\n",
    "        \n",
    "        txt_log.write(\"finished \"+dataset.split(\"_\")[0]+\" training on model \"+model+\" seed \"+environ['seed']+\"\\n\")\n",
    "\n",
    "\n",
    "        evaluate_model(model_used,x_test,y_test,appliances)\n",
    "        \n",
    "\n",
    "\n",
    "\n",
    "        #del model_used\n",
    "\n"
   ]
  },
  {
   "cell_type": "code",
   "execution_count": 16,
   "metadata": {
    "execution": {
     "iopub.execute_input": "2022-02-03T12:34:33.534590Z",
     "iopub.status.busy": "2022-02-03T12:34:33.533431Z",
     "iopub.status.idle": "2022-02-03T12:34:33.535838Z",
     "shell.execute_reply": "2022-02-03T12:34:33.536820Z"
    }
   },
   "outputs": [],
   "source": [
    "txt_log.close()"
   ]
  },
  {
   "cell_type": "code",
   "execution_count": null,
   "metadata": {},
   "outputs": [],
   "source": []
  }
 ],
 "metadata": {
  "colab": {
   "authorship_tag": "ABX9TyMej4PvP65qsLng7TnQKWA4",
   "name": "LSTM-gen",
   "provenance": []
  },
  "kernelspec": {
   "display_name": "Python 3 (ipykernel)",
   "language": "python",
   "name": "python3"
  },
  "language_info": {
   "codemirror_mode": {
    "name": "ipython",
    "version": 3
   },
   "file_extension": ".py",
   "mimetype": "text/x-python",
   "name": "python",
   "nbconvert_exporter": "python",
   "pygments_lexer": "ipython3",
   "version": "3.8.10"
  }
 },
 "nbformat": 4,
 "nbformat_minor": 4
}
