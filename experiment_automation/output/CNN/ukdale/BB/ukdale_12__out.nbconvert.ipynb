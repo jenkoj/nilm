{
 "cells": [
  {
   "cell_type": "code",
   "execution_count": 1,
   "metadata": {
    "execution": {
     "iopub.execute_input": "2022-02-03T12:35:34.289512Z",
     "iopub.status.busy": "2022-02-03T12:35:34.288020Z",
     "iopub.status.idle": "2022-02-03T12:35:38.540359Z",
     "shell.execute_reply": "2022-02-03T12:35:38.539009Z"
    },
    "id": "WqUfHWgtJxtu",
    "scrolled": true,
    "tags": []
   },
   "outputs": [
    {
     "name": "stderr",
     "output_type": "stream",
     "text": [
      "2022-02-03 12:35:37.098325: I tensorflow/stream_executor/platform/default/dso_loader.cc:54] Successfully opened dynamic library libcudart.so.11.0\n"
     ]
    },
    {
     "name": "stdout",
     "output_type": "stream",
     "text": [
      "2.5.0\n",
      "Num GPUs Available:  1\n"
     ]
    },
    {
     "name": "stderr",
     "output_type": "stream",
     "text": [
      "2022-02-03 12:35:38.455114: I tensorflow/stream_executor/platform/default/dso_loader.cc:54] Successfully opened dynamic library libcuda.so.1\n",
      "2022-02-03 12:35:38.499296: I tensorflow/core/common_runtime/gpu/gpu_device.cc:1734] Found device 0 with properties: \n",
      "pciBusID: 0000:21:00.0 name: NVIDIA GeForce RTX 2080 Ti computeCapability: 7.5\n",
      "coreClock: 1.545GHz coreCount: 68 deviceMemorySize: 10.76GiB deviceMemoryBandwidth: 573.69GiB/s\n",
      "2022-02-03 12:35:38.499347: I tensorflow/stream_executor/platform/default/dso_loader.cc:54] Successfully opened dynamic library libcudart.so.11.0\n",
      "2022-02-03 12:35:38.510151: I tensorflow/stream_executor/platform/default/dso_loader.cc:54] Successfully opened dynamic library libcublas.so.11\n",
      "2022-02-03 12:35:38.510215: I tensorflow/stream_executor/platform/default/dso_loader.cc:54] Successfully opened dynamic library libcublasLt.so.11\n",
      "2022-02-03 12:35:38.513363: I tensorflow/stream_executor/platform/default/dso_loader.cc:54] Successfully opened dynamic library libcufft.so.10\n",
      "2022-02-03 12:35:38.514279: I tensorflow/stream_executor/platform/default/dso_loader.cc:54] Successfully opened dynamic library libcurand.so.10\n",
      "2022-02-03 12:35:38.526721: I tensorflow/stream_executor/platform/default/dso_loader.cc:54] Successfully opened dynamic library libcutensor.so.1\n",
      "2022-02-03 12:35:38.527476: I tensorflow/stream_executor/platform/default/dso_loader.cc:54] Successfully opened dynamic library libcusolver.so.11\n",
      "2022-02-03 12:35:38.529035: I tensorflow/stream_executor/platform/default/dso_loader.cc:54] Successfully opened dynamic library libcusparse.so.11\n",
      "2022-02-03 12:35:38.529349: I tensorflow/stream_executor/platform/default/dso_loader.cc:54] Successfully opened dynamic library libcudnn.so.8\n",
      "2022-02-03 12:35:38.529728: I tensorflow/core/common_runtime/gpu/gpu_device.cc:1872] Adding visible gpu devices: 0\n"
     ]
    }
   ],
   "source": [
    "import h5py\n",
    "import numpy as np\n",
    "\n",
    "from sklearn.model_selection import train_test_split\n",
    "from sklearn.metrics import classification_report, confusion_matrix\n",
    "import matplotlib.pyplot as plt\n",
    "import itertools \n",
    "import pyts\n",
    "from pyts.approximation import PiecewiseAggregateApproximation\n",
    "\n",
    "from sklearn.utils import class_weight\n",
    "\n",
    "import pathlib\n",
    "import tensorflow as tf\n",
    "from tensorflow import keras\n",
    "from tensorflow.keras import layers, optimizers\n",
    "from tensorflow.keras.layers import Convolution2D,Conv2D, Dense,Dropout, Flatten, Activation, MaxPooling2D, Input, Conv1D, GlobalAveragePooling1D, TimeDistributed, GRU, LSTM\n",
    "\n",
    "print(tf.__version__)\n",
    "print(\"Num GPUs Available: \", len(tf.config.list_physical_devices('GPU')))\n",
    "gpus = tf.config.experimental.list_physical_devices('GPU')\n",
    "\n",
    "try:\n",
    "    for gpu in gpus:\n",
    "        tf.config.experimental.set_memory_growth(gpu, True)\n",
    "except RuntimeError as e:\n",
    "    print(e)"
   ]
  },
  {
   "cell_type": "code",
   "execution_count": 2,
   "metadata": {
    "execution": {
     "iopub.execute_input": "2022-02-03T12:35:38.546875Z",
     "iopub.status.busy": "2022-02-03T12:35:38.545585Z",
     "iopub.status.idle": "2022-02-03T12:35:38.550986Z",
     "shell.execute_reply": "2022-02-03T12:35:38.549860Z"
    }
   },
   "outputs": [
    {
     "name": "stdout",
     "output_type": "stream",
     "text": [
      "ukdale_gen_GASF_60m_300S0X_R12_80-20\n"
     ]
    }
   ],
   "source": [
    "from os import environ\n",
    "dataset = environ['dataset']\n",
    "print(dataset)"
   ]
  },
  {
   "cell_type": "code",
   "execution_count": 3,
   "metadata": {
    "execution": {
     "iopub.execute_input": "2022-02-03T12:35:38.558126Z",
     "iopub.status.busy": "2022-02-03T12:35:38.556875Z",
     "iopub.status.idle": "2022-02-03T12:35:38.561945Z",
     "shell.execute_reply": "2022-02-03T12:35:38.560961Z"
    }
   },
   "outputs": [],
   "source": [
    "#my defs \n",
    "from modules.models import  LSTM_3D_V56, CNN_V56,LSTM_BI_V56\n",
    "from modules.tools import my_print, plot_confusion_matrix_norm, get_data,get_data_split, evaluate_model, create_tl_model\n",
    "from modules.HDF5ImageGenerator import HDF5ImageGenerator"
   ]
  },
  {
   "cell_type": "code",
   "execution_count": 4,
   "metadata": {
    "execution": {
     "iopub.execute_input": "2022-02-03T12:35:38.569869Z",
     "iopub.status.busy": "2022-02-03T12:35:38.568649Z",
     "iopub.status.idle": "2022-02-03T12:35:38.571150Z",
     "shell.execute_reply": "2022-02-03T12:35:38.572139Z"
    },
    "id": "RT1vwq7-KOtB"
   },
   "outputs": [],
   "source": [
    "#LOAD DATASET\n",
    "#file_name = \"ukdale_gen_GASF_13m_100S5X12A54480\"\n",
    "#file_name = \"refit_gen_GASF_13m_100S5X_15A166006\"\n",
    "file_name = \"refit_gen_GASF_13m_100S5X_15A166006_R42-80-20\"\n",
    "#file_name = \"refit_gen_GASF_13m_100S5X_15A166006_R42_80-20\"\n",
    "file_name = \"refit_gen_GASF_60m_300S0X_15A157030N_R12_80-20-V1\"\n",
    "file_name = environ[\"dataset\"]\n",
    "#read the file\n",
    "path = str(pathlib.Path().resolve())\n",
    "\n",
    "path_data = f\"{path}\"\"/data/\"f\"{file_name}\"\"/\"f\"{file_name}\"\".hdf5\"\n",
    "\n",
    "file = h5py.File(path_data,\"r+\")"
   ]
  },
  {
   "cell_type": "code",
   "execution_count": 5,
   "metadata": {
    "execution": {
     "iopub.execute_input": "2022-02-03T12:35:38.579014Z",
     "iopub.status.busy": "2022-02-03T12:35:38.577803Z",
     "iopub.status.idle": "2022-02-03T12:35:45.102850Z",
     "shell.execute_reply": "2022-02-03T12:35:45.103837Z"
    },
    "scrolled": true
   },
   "outputs": [
    {
     "name": "stdout",
     "output_type": "stream",
     "text": [
      "['HEKA', 'fridge/freezer', 'HTPC', 'boiler', 'computer monitor', 'desktop computer', 'laptop computer', 'light', 'microwave', 'server computer', 'television', 'washer dryer']\n",
      "{0: 0.7055908662900189, 1: 0.49534787638406874, 2: 1.3009331597222222, 3: 0.9557266755946687, 4: 1.19482978553775, 5: 1.6470766018243763, 6: 0.9269963505907095, 7: 1.3009331597222222, 8: 0.9261370658756644, 9: 3.0130176919983915, 10: 0.7942103868574457, 11: 1.2711407972858355}\n",
      " \n",
      "Tests \n",
      "HEKA test: 1770 train: 7080\n",
      "fridge/freezer test: 2522 train: 10085\n",
      "HTPC test: 960 train: 3840\n",
      "boiler test: 1307 train: 5227\n",
      "computer monitor test: 1045 train: 4181\n",
      "desktop computer test: 758 train: 3033\n",
      "laptop computer test: 1347 train: 5389\n",
      "light test: 960 train: 3840\n",
      "microwave test: 1348 train: 5394\n",
      "server computer test: 415 train: 1658\n",
      "television test: 1572 train: 6290\n",
      "washer dryer test: 983 train: 3930\n"
     ]
    }
   ],
   "source": [
    "x_test,y_test,d_class_weights,num_of_classes,appliances = get_data(file)"
   ]
  },
  {
   "cell_type": "code",
   "execution_count": 6,
   "metadata": {
    "execution": {
     "iopub.execute_input": "2022-02-03T12:35:45.112856Z",
     "iopub.status.busy": "2022-02-03T12:35:45.111615Z",
     "iopub.status.idle": "2022-02-03T12:35:45.116968Z",
     "shell.execute_reply": "2022-02-03T12:35:45.117900Z"
    }
   },
   "outputs": [],
   "source": [
    "def select_model(learn_type):\n",
    "    \n",
    "    if learn_type == \"CNN\":\n",
    "        model = CNN_V56(file[\"data/train/gaf\"][0:10],num_of_classes,lr= 0.00002)\n",
    "\n",
    "    if learn_type == \"LSTM\":\n",
    "        model = LSTM_3D_V56(file[\"data/train/gaf\"][0:10],num_of_classes,lr= 0.00002)\n",
    "\n",
    "    if learn_type == \"BI_LSTM\":\n",
    "        model = LSTM_BI_V56(file[\"data/train/gaf\"][0:10],num_of_classes,lr= 0.00002)\n",
    "\n",
    "    return model\n",
    "              "
   ]
  },
  {
   "cell_type": "code",
   "execution_count": 7,
   "metadata": {
    "execution": {
     "iopub.execute_input": "2022-02-03T12:35:45.125248Z",
     "iopub.status.busy": "2022-02-03T12:35:45.124020Z",
     "iopub.status.idle": "2022-02-03T12:35:45.126523Z",
     "shell.execute_reply": "2022-02-03T12:35:45.127486Z"
    }
   },
   "outputs": [],
   "source": [
    "path_save = path+'/experiment_automation/output/'+environ['learn_type']+'/'+dataset.split(\"_\")[0]+\"/\"+environ['train_type']+\"/\"+dataset.split(\"_\")[0]+\"_\"+environ['seed']+\"_\"+environ['tl_datasets']\n",
    "path_save_nb = path_save+\"_out.ipynb\"\n",
    "path_save_log = path_save+\"_out_log2.txt\""
   ]
  },
  {
   "cell_type": "code",
   "execution_count": 8,
   "metadata": {
    "execution": {
     "iopub.execute_input": "2022-02-03T12:35:45.135790Z",
     "iopub.status.busy": "2022-02-03T12:35:45.134590Z",
     "iopub.status.idle": "2022-02-03T12:35:45.295674Z",
     "shell.execute_reply": "2022-02-03T12:35:45.294474Z"
    }
   },
   "outputs": [],
   "source": [
    "from keras.callbacks import LambdaCallback\n",
    "#path_log= path+'/experiment_automation/output/'+environ['learn_type']+'/'+dataset.split(\"_\")[0]+\"/\"+environ['train_type']+\"/\"+dataset.split(\"_\")[0]+\"_\"+environ['seed']+\"_\"+environ['tl_datasets']+\"_log.txt\"\n",
    "txt_log = open(path_save+\"_log.txt\", mode='wt', buffering=1)\n",
    "txt_log.write(\"file created! \\n\")\n",
    "\n",
    "save_op_callback = LambdaCallback(\n",
    "  on_epoch_end = lambda epoch, logs: txt_log.write(\n",
    "    str({'epoch': epoch, 'loss': logs['loss'],'acc': logs['accuracy']}) + '\\n'),\n",
    "                                                           \n",
    ")"
   ]
  },
  {
   "cell_type": "code",
   "execution_count": 9,
   "metadata": {
    "execution": {
     "iopub.execute_input": "2022-02-03T12:35:45.301741Z",
     "iopub.status.busy": "2022-02-03T12:35:45.300476Z",
     "iopub.status.idle": "2022-02-03T12:35:45.305990Z",
     "shell.execute_reply": "2022-02-03T12:35:45.304939Z"
    }
   },
   "outputs": [
    {
     "name": "stdout",
     "output_type": "stream",
     "text": [
      "/workspace/notebooks/experiment_automation/output/CNN/ukdale/BB/ukdale_12__out.ipynb\n"
     ]
    }
   ],
   "source": [
    "print(path_save_nb)"
   ]
  },
  {
   "cell_type": "code",
   "execution_count": 10,
   "metadata": {
    "execution": {
     "iopub.execute_input": "2022-02-03T12:35:45.311324Z",
     "iopub.status.busy": "2022-02-03T12:35:45.310236Z",
     "iopub.status.idle": "2022-02-03T12:35:45.312709Z",
     "shell.execute_reply": "2022-02-03T12:35:45.313753Z"
    }
   },
   "outputs": [],
   "source": [
    "# rm $path_save_log"
   ]
  },
  {
   "cell_type": "code",
   "execution_count": 11,
   "metadata": {
    "execution": {
     "iopub.execute_input": "2022-02-03T12:35:45.319804Z",
     "iopub.status.busy": "2022-02-03T12:35:45.318528Z",
     "iopub.status.idle": "2022-02-03T12:35:45.321187Z",
     "shell.execute_reply": "2022-02-03T12:35:45.322226Z"
    }
   },
   "outputs": [],
   "source": [
    "# %%capture cap \n",
    "\n",
    "# with open(path_save_log,\"wt\") as f:\n",
    "#     f.write(cap.stdout)\n",
    "    \n",
    "# print(\"out capture..\")"
   ]
  },
  {
   "cell_type": "code",
   "execution_count": 12,
   "metadata": {
    "execution": {
     "iopub.execute_input": "2022-02-03T12:35:45.340704Z",
     "iopub.status.busy": "2022-02-03T12:35:45.339298Z",
     "iopub.status.idle": "2022-02-03T16:13:06.010161Z",
     "shell.execute_reply": "2022-02-03T16:13:06.010512Z"
    },
    "id": "vqA9NwOqKrb5",
    "jupyter": {
     "outputs_hidden": true
    },
    "tags": []
   },
   "outputs": [
    {
     "name": "stdout",
     "output_type": "stream",
     "text": [
      "Normal way\n",
      "[0 1 2 3 4 5 6 7 8 9]\n",
      "WARNING:tensorflow:From /usr/local/lib/python3.8/dist-packages/tensorflow/python/ops/array_ops.py:5043: calling gather (from tensorflow.python.ops.array_ops) with validate_indices is deprecated and will be removed in a future version.\n",
      "Instructions for updating:\n",
      "The `validate_indices` argument has no effect. Indices are always validated on CPU and never validated on GPU.\n"
     ]
    },
    {
     "name": "stderr",
     "output_type": "stream",
     "text": [
      "2022-02-03 12:35:45.357492: I tensorflow/core/common_runtime/gpu/gpu_device.cc:1734] Found device 0 with properties: \n",
      "pciBusID: 0000:21:00.0 name: NVIDIA GeForce RTX 2080 Ti computeCapability: 7.5\n",
      "coreClock: 1.545GHz coreCount: 68 deviceMemorySize: 10.76GiB deviceMemoryBandwidth: 573.69GiB/s\n",
      "2022-02-03 12:35:45.359662: I tensorflow/core/common_runtime/gpu/gpu_device.cc:1872] Adding visible gpu devices: 0\n",
      "2022-02-03 12:35:45.359730: I tensorflow/stream_executor/platform/default/dso_loader.cc:54] Successfully opened dynamic library libcudart.so.11.0\n",
      "2022-02-03 12:35:46.232031: I tensorflow/core/common_runtime/gpu/gpu_device.cc:1258] Device interconnect StreamExecutor with strength 1 edge matrix:\n",
      "2022-02-03 12:35:46.232068: I tensorflow/core/common_runtime/gpu/gpu_device.cc:1264]      0 \n",
      "2022-02-03 12:35:46.232109: I tensorflow/core/common_runtime/gpu/gpu_device.cc:1277] 0:   N \n",
      "2022-02-03 12:35:46.232941: I tensorflow/core/common_runtime/gpu/gpu_device.cc:1418] Created TensorFlow device (/job:localhost/replica:0/task:0/device:GPU:0 with 9649 MB memory) -> physical GPU (device: 0, name: NVIDIA GeForce RTX 2080 Ti, pci bus id: 0000:21:00.0, compute capability: 7.5)\n",
      "2022-02-03 12:35:46.233328: I tensorflow/core/common_runtime/process_util.cc:146] Creating new thread pool with default inter op setting: 20. Tune using inter_op_parallelism_threads for best performance.\n",
      "2022-02-03 12:35:46.343289: I tensorflow/compiler/mlir/mlir_graph_optimization_pass.cc:176] None of the MLIR Optimization Passes are enabled (registered 2)\n",
      "2022-02-03 12:35:46.360593: I tensorflow/core/platform/profile_utils/cpu_utils.cc:114] CPU Frequency: 3299990000 Hz\n"
     ]
    },
    {
     "name": "stdout",
     "output_type": "stream",
     "text": [
      "Epoch 1/50\n"
     ]
    },
    {
     "name": "stderr",
     "output_type": "stream",
     "text": [
      "2022-02-03 12:35:47.002754: I tensorflow/stream_executor/platform/default/dso_loader.cc:54] Successfully opened dynamic library libcudnn.so.8\n",
      "2022-02-03 12:35:47.718933: I tensorflow/stream_executor/cuda/cuda_dnn.cc:380] Loaded cuDNN version 8202\n",
      "2022-02-03 12:35:48.582719: I tensorflow/stream_executor/platform/default/dso_loader.cc:54] Successfully opened dynamic library libcublas.so.11\n",
      "2022-02-03 12:35:49.018690: I tensorflow/stream_executor/platform/default/dso_loader.cc:54] Successfully opened dynamic library libcublasLt.so.11\n"
     ]
    },
    {
     "name": "stdout",
     "output_type": "stream",
     "text": [
      "7494/7494 - 264s - loss: 2.0067 - accuracy: 0.3128\n",
      "Epoch 2/50\n",
      "7494/7494 - 261s - loss: 1.5530 - accuracy: 0.5384\n",
      "Epoch 3/50\n",
      "7494/7494 - 259s - loss: 1.3398 - accuracy: 0.6041\n",
      "Epoch 4/50\n",
      "7494/7494 - 259s - loss: 1.1492 - accuracy: 0.6560\n",
      "Epoch 5/50\n",
      "7494/7494 - 260s - loss: 1.0113 - accuracy: 0.6953\n",
      "Epoch 6/50\n",
      "7494/7494 - 258s - loss: 0.9148 - accuracy: 0.7255\n",
      "Epoch 7/50\n",
      "7494/7494 - 259s - loss: 0.8393 - accuracy: 0.7455\n",
      "Epoch 8/50\n",
      "7494/7494 - 259s - loss: 0.7838 - accuracy: 0.7619\n",
      "Epoch 9/50\n",
      "7494/7494 - 260s - loss: 0.7401 - accuracy: 0.7754\n",
      "Epoch 10/50\n",
      "7494/7494 - 260s - loss: 0.6964 - accuracy: 0.7874\n",
      "Epoch 11/50\n",
      "7494/7494 - 261s - loss: 0.6632 - accuracy: 0.7975\n",
      "Epoch 12/50\n",
      "7494/7494 - 261s - loss: 0.6356 - accuracy: 0.8049\n",
      "Epoch 13/50\n",
      "7494/7494 - 262s - loss: 0.6068 - accuracy: 0.8123\n",
      "Epoch 14/50\n",
      "7494/7494 - 262s - loss: 0.5822 - accuracy: 0.8203\n",
      "Epoch 15/50\n",
      "7494/7494 - 260s - loss: 0.5596 - accuracy: 0.8268\n",
      "Epoch 16/50\n",
      "7494/7494 - 261s - loss: 0.5450 - accuracy: 0.8316\n",
      "Epoch 17/50\n",
      "7494/7494 - 259s - loss: 0.5243 - accuracy: 0.8388\n",
      "Epoch 18/50\n",
      "7494/7494 - 259s - loss: 0.5113 - accuracy: 0.8404\n",
      "Epoch 19/50\n",
      "7494/7494 - 260s - loss: 0.4954 - accuracy: 0.8455\n",
      "Epoch 20/50\n",
      "7494/7494 - 261s - loss: 0.4838 - accuracy: 0.8485\n",
      "Epoch 21/50\n",
      "7494/7494 - 261s - loss: 0.4692 - accuracy: 0.8536\n",
      "Epoch 22/50\n",
      "7494/7494 - 262s - loss: 0.4607 - accuracy: 0.8552\n",
      "Epoch 23/50\n",
      "7494/7494 - 262s - loss: 0.4477 - accuracy: 0.8591\n",
      "Epoch 24/50\n",
      "7494/7494 - 262s - loss: 0.4404 - accuracy: 0.8603\n",
      "Epoch 25/50\n",
      "7494/7494 - 261s - loss: 0.4301 - accuracy: 0.8654\n",
      "Epoch 26/50\n",
      "7494/7494 - 260s - loss: 0.4169 - accuracy: 0.8681\n",
      "Epoch 27/50\n",
      "7494/7494 - 260s - loss: 0.4099 - accuracy: 0.8697\n",
      "Epoch 28/50\n",
      "7494/7494 - 260s - loss: 0.3990 - accuracy: 0.8734\n",
      "Epoch 29/50\n",
      "7494/7494 - 261s - loss: 0.3910 - accuracy: 0.8757\n",
      "Epoch 30/50\n",
      "7494/7494 - 261s - loss: 0.3880 - accuracy: 0.8763\n",
      "Epoch 31/50\n",
      "7494/7494 - 261s - loss: 0.3731 - accuracy: 0.8802\n",
      "Epoch 32/50\n",
      "7494/7494 - 260s - loss: 0.3689 - accuracy: 0.8822\n",
      "Epoch 33/50\n",
      "7494/7494 - 259s - loss: 0.3631 - accuracy: 0.8832\n",
      "Epoch 34/50\n",
      "7494/7494 - 260s - loss: 0.3580 - accuracy: 0.8856\n",
      "Epoch 35/50\n",
      "7494/7494 - 260s - loss: 0.3480 - accuracy: 0.8888\n",
      "Epoch 36/50\n",
      "7494/7494 - 259s - loss: 0.3455 - accuracy: 0.8894\n",
      "Epoch 37/50\n",
      "7494/7494 - 259s - loss: 0.3333 - accuracy: 0.8932\n",
      "Epoch 38/50\n",
      "7494/7494 - 260s - loss: 0.3279 - accuracy: 0.8943\n",
      "Epoch 39/50\n",
      "7494/7494 - 260s - loss: 0.3256 - accuracy: 0.8967\n",
      "Epoch 40/50\n",
      "7494/7494 - 260s - loss: 0.3233 - accuracy: 0.8961\n",
      "Epoch 41/50\n",
      "7494/7494 - 260s - loss: 0.3118 - accuracy: 0.8999\n",
      "Epoch 42/50\n",
      "7494/7494 - 260s - loss: 0.3077 - accuracy: 0.8998\n",
      "Epoch 43/50\n",
      "7494/7494 - 259s - loss: 0.3038 - accuracy: 0.9015\n",
      "Epoch 44/50\n",
      "7494/7494 - 260s - loss: 0.2959 - accuracy: 0.9046\n",
      "Epoch 45/50\n",
      "7494/7494 - 260s - loss: 0.2910 - accuracy: 0.9055\n",
      "Epoch 46/50\n",
      "7494/7494 - 260s - loss: 0.2876 - accuracy: 0.9082\n",
      "Epoch 47/50\n",
      "7494/7494 - 260s - loss: 0.2822 - accuracy: 0.9091\n",
      "Epoch 48/50\n",
      "7494/7494 - 259s - loss: 0.2812 - accuracy: 0.9094\n",
      "Epoch 49/50\n",
      "7494/7494 - 260s - loss: 0.2768 - accuracy: 0.9112\n",
      "Epoch 50/50\n",
      "7494/7494 - 260s - loss: 0.2671 - accuracy: 0.9141\n",
      "469/469 - 21s\n",
      "Normalized confusion matrix\n",
      "                  precision    recall  f1-score   support\n",
      "\n",
      "            HEKA       0.88      0.80      0.84      1770\n",
      "  fridge/freezer       0.94      0.96      0.95      2522\n",
      "            HTPC       0.76      0.74      0.75       960\n",
      "          boiler       0.91      0.85      0.88      1307\n",
      "computer monitor       0.79      0.60      0.68      1045\n",
      "desktop computer       0.64      0.78      0.70       758\n",
      " laptop computer       0.88      0.93      0.90      1347\n",
      "           light       0.68      0.85      0.75       960\n",
      "       microwave       0.85      0.85      0.85      1348\n",
      " server computer       0.95      0.93      0.94       415\n",
      "      television       0.76      0.75      0.75      1572\n",
      "    washer dryer       0.88      0.90      0.89       983\n",
      "\n",
      "        accuracy                           0.84     14987\n",
      "       macro avg       0.83      0.83      0.82     14987\n",
      "    weighted avg       0.84      0.84      0.84     14987\n",
      "\n"
     ]
    },
    {
     "name": "stderr",
     "output_type": "stream",
     "text": [
      "2022-02-03 16:13:04.757849: W tensorflow/python/util/util.cc:348] Sets are not currently considered sequences, but this may change in the future, so consider avoiding using them.\n"
     ]
    },
    {
     "name": "stdout",
     "output_type": "stream",
     "text": [
      "INFO:tensorflow:Assets written to: /workspace/notebooks/models/CNN/ukdale_12/assets\n"
     ]
    },
    {
     "data": {
      "image/png": "[encoded data removed]",
      "text/plain": [
       "<Figure size 720x720 with 2 Axes>"
      ]
     },
     "metadata": {
      "needs_background": "light"
     },
     "output_type": "display_data"
    }
   ],
   "source": [
    "# %%capture cap --no-stderr\n",
    "\n",
    "\n",
    "if environ['train_type'] == \"BB\":\n",
    "\n",
    "    #define generator\n",
    "    train_gen = HDF5ImageGenerator(\n",
    "        src= path_data,\n",
    "        X_key=\"data/train/gaf\",\n",
    "        y_key=\"labels/train/gaf\",\n",
    "        classes_key=\"appliances/classes\",\n",
    "        labels_encoding=\"hot\",\n",
    "        shuffle=True,\n",
    "        batch_size=int(environ['batch_size']),\n",
    "        num_classes=num_of_classes,\n",
    "        mode=\"train\",\n",
    "        )\n",
    "    \n",
    "    model = select_model(environ['learn_type'])\n",
    "    \n",
    "    txt_log.write(\"fitting BB model: \\n\")\n",
    "    \n",
    "    model.fit(\n",
    "        train_gen,\n",
    "        verbose=2,\n",
    "        epochs=int(environ['epochs']),\n",
    "        class_weight=d_class_weights,\n",
    "        callbacks = [save_op_callback],\n",
    "    )\n",
    "    \n",
    "    txt_log.write(\"finished fitting BB model: \\n\")\n",
    "\n",
    "    evaluate_model(model,x_test,y_test,appliances)\n",
    "    \n",
    "    if environ['save_model']==\"True\":\n",
    "\n",
    "        path_model_save = path+\"/models/\"+environ['learn_type']+\"/\"+dataset.split(\"_\")[0]+\"_\"+dataset.split(\"_R\")[1][0:2]\n",
    "        model.save(path_model_save)\n",
    "        txt_log.write(\"model saved to:\"+\"/models/\"+environ['learn_type']+\"/\"+dataset.split(\"_\")[0]+\"_\"+dataset.split(\"_R\")[1][0:2]+\" \\n\")\n",
    "        \n",
    "        \n",
    "# with open(path_save+\"_out_log.txt\" as f:\n",
    "#     f.write(cap.stdout)\n"
   ]
  },
  {
   "cell_type": "code",
   "execution_count": 13,
   "metadata": {
    "collapsed": true,
    "execution": {
     "iopub.execute_input": "2022-02-03T16:13:06.015402Z",
     "iopub.status.busy": "2022-02-03T16:13:06.013999Z",
     "iopub.status.idle": "2022-02-03T16:13:06.017795Z",
     "shell.execute_reply": "2022-02-03T16:13:06.016706Z"
    }
   },
   "outputs": [],
   "source": [
    "#model = keras.models.load_model(path_model1)\n",
    "# model_used = model"
   ]
  },
  {
   "cell_type": "code",
   "execution_count": 14,
   "metadata": {
    "collapsed": true,
    "execution": {
     "iopub.execute_input": "2022-02-03T16:13:06.023080Z",
     "iopub.status.busy": "2022-02-03T16:13:06.021769Z",
     "iopub.status.idle": "2022-02-03T16:13:06.024371Z",
     "shell.execute_reply": "2022-02-03T16:13:06.025226Z"
    },
    "jupyter": {
     "outputs_hidden": true
    },
    "tags": []
   },
   "outputs": [],
   "source": [
    "# evaluate_model(model,x_test,y_test,appliances)"
   ]
  },
  {
   "cell_type": "code",
   "execution_count": 15,
   "metadata": {
    "collapsed": true,
    "execution": {
     "iopub.execute_input": "2022-02-03T16:13:06.042437Z",
     "iopub.status.busy": "2022-02-03T16:13:06.041018Z",
     "iopub.status.idle": "2022-02-03T16:13:06.043836Z",
     "shell.execute_reply": "2022-02-03T16:13:06.044916Z"
    }
   },
   "outputs": [],
   "source": [
    "# datasets =[\n",
    "#     \"ukdale_gen_GASF_13m_100S5X12A54480_R82_80-20\"\n",
    "# ]\n",
    "\n",
    "if environ['train_type'] == \"TL\": \n",
    "    models = environ['tl_datasets'].split(\",\")\n",
    "    #model = [\"base\"]\n",
    "    \n",
    "    for model in models:\n",
    "    \n",
    "        file_name = dataset\n",
    "        \n",
    "        datasetTL = model\n",
    "        \n",
    "        seed = dataset.split(\"_R\")[1][0:2]\n",
    "        \n",
    "        print(\"using dataset data\",dataset.split(\"_\")[0],\"training on model\",model,\"seed\",environ['seed'])\n",
    "        txt_log.write(\"starting \"+dataset.split(\"_\")[0]+\" training on model \"+model+\" seed \"+environ['seed']+\"\\n\")\n",
    "\n",
    "\n",
    "        tf.keras.backend.clear_session()\n",
    "\n",
    "\n",
    "        #read the file\n",
    "        path = str(pathlib.Path().resolve())\n",
    "        path_data = f\"{path}\"\"/data/\"f\"{file_name}\"\"/\"f\"{file_name}\"\".hdf5\"\n",
    "        file = h5py.File(path_data,\"r+\")\n",
    "\n",
    "\n",
    "        print(\"reading data, printing stats: \")\n",
    "        x_test,y_test,d_class_weights,num_of_classes,appliances = get_data(file)\n",
    "        print(\"loading model\")\n",
    "        \n",
    "        model_seed = 42\n",
    "        model_used = create_tl_model(model,environ['learn_type'],model_seed,path,num_of_classes)\n",
    "                \n",
    "        train_gen = HDF5ImageGenerator(\n",
    "            src= path_data,\n",
    "            X_key=\"data/train/gaf\",\n",
    "            y_key=\"labels/train/gaf\",\n",
    "            classes_key=\"appliances/classes\",\n",
    "            labels_encoding=\"hot\",\n",
    "            shuffle=True,\n",
    "            batch_size=int(environ['batch_size']),\n",
    "            num_classes=num_of_classes,\n",
    "            mode=\"train\",\n",
    "            )\n",
    "\n",
    "        model_used.fit(\n",
    "            train_gen,\n",
    "            verbose=2,\n",
    "            epochs=int(environ['epochs']),\n",
    "            class_weight=d_class_weights,\n",
    "            callbacks = [save_op_callback]\n",
    "            #workers = 6,\n",
    "        )\n",
    "        \n",
    "        txt_log.write(\"finished \"+dataset.split(\"_\")[0]+\" training on model \"+model+\" seed \"+environ['seed']+\"\\n\")\n",
    "\n",
    "\n",
    "        evaluate_model(model_used,x_test,y_test,appliances)\n",
    "        \n",
    "\n",
    "\n",
    "\n",
    "        #del model_used\n",
    "\n"
   ]
  },
  {
   "cell_type": "code",
   "execution_count": 16,
   "metadata": {
    "execution": {
     "iopub.execute_input": "2022-02-03T16:13:06.050841Z",
     "iopub.status.busy": "2022-02-03T16:13:06.049516Z",
     "iopub.status.idle": "2022-02-03T16:13:06.052249Z",
     "shell.execute_reply": "2022-02-03T16:13:06.053310Z"
    }
   },
   "outputs": [],
   "source": [
    "txt_log.close()"
   ]
  },
  {
   "cell_type": "code",
   "execution_count": null,
   "metadata": {},
   "outputs": [],
   "source": []
  }
 ],
 "metadata": {
  "colab": {
   "authorship_tag": "ABX9TyMej4PvP65qsLng7TnQKWA4",
   "name": "LSTM-gen",
   "provenance": []
  },
  "kernelspec": {
   "display_name": "Python 3 (ipykernel)",
   "language": "python",
   "name": "python3"
  },
  "language_info": {
   "codemirror_mode": {
    "name": "ipython",
    "version": 3
   },
   "file_extension": ".py",
   "mimetype": "text/x-python",
   "name": "python",
   "nbconvert_exporter": "python",
   "pygments_lexer": "ipython3",
   "version": "3.8.10"
  }
 },
 "nbformat": 4,
 "nbformat_minor": 4
}
