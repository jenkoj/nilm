{
 "cells": [
  {
   "cell_type": "code",
   "execution_count": 1,
   "metadata": {
    "execution": {
     "iopub.execute_input": "2022-02-09T13:26:12.929177Z",
     "iopub.status.busy": "2022-02-09T13:26:12.927581Z",
     "iopub.status.idle": "2022-02-09T13:26:14.626720Z",
     "shell.execute_reply": "2022-02-09T13:26:14.625508Z"
    },
    "id": "WqUfHWgtJxtu",
    "scrolled": true,
    "tags": []
   },
   "outputs": [
    {
     "name": "stderr",
     "output_type": "stream",
     "text": [
      "2022-02-09 13:26:13.758083: I tensorflow/stream_executor/platform/default/dso_loader.cc:54] Successfully opened dynamic library libcudart.so.11.0\n"
     ]
    },
    {
     "name": "stdout",
     "output_type": "stream",
     "text": [
      "2.5.0\n",
      "Num GPUs Available:  1\n"
     ]
    },
    {
     "name": "stderr",
     "output_type": "stream",
     "text": [
      "2022-02-09 13:26:14.555833: I tensorflow/stream_executor/platform/default/dso_loader.cc:54] Successfully opened dynamic library libcuda.so.1\n",
      "2022-02-09 13:26:14.606791: I tensorflow/core/common_runtime/gpu/gpu_device.cc:1734] Found device 0 with properties: \n",
      "pciBusID: 0000:21:00.0 name: NVIDIA GeForce RTX 2080 Ti computeCapability: 7.5\n",
      "coreClock: 1.545GHz coreCount: 68 deviceMemorySize: 10.76GiB deviceMemoryBandwidth: 573.69GiB/s\n",
      "2022-02-09 13:26:14.606841: I tensorflow/stream_executor/platform/default/dso_loader.cc:54] Successfully opened dynamic library libcudart.so.11.0\n",
      "2022-02-09 13:26:14.610880: I tensorflow/stream_executor/platform/default/dso_loader.cc:54] Successfully opened dynamic library libcublas.so.11\n",
      "2022-02-09 13:26:14.610955: I tensorflow/stream_executor/platform/default/dso_loader.cc:54] Successfully opened dynamic library libcublasLt.so.11\n",
      "2022-02-09 13:26:14.612891: I tensorflow/stream_executor/platform/default/dso_loader.cc:54] Successfully opened dynamic library libcufft.so.10\n",
      "2022-02-09 13:26:14.613234: I tensorflow/stream_executor/platform/default/dso_loader.cc:54] Successfully opened dynamic library libcurand.so.10\n",
      "2022-02-09 13:26:14.614067: I tensorflow/stream_executor/platform/default/dso_loader.cc:54] Successfully opened dynamic library libcutensor.so.1\n",
      "2022-02-09 13:26:14.614682: I tensorflow/stream_executor/platform/default/dso_loader.cc:54] Successfully opened dynamic library libcusolver.so.11\n",
      "2022-02-09 13:26:14.615413: I tensorflow/stream_executor/platform/default/dso_loader.cc:54] Successfully opened dynamic library libcusparse.so.11\n",
      "2022-02-09 13:26:14.615546: I tensorflow/stream_executor/platform/default/dso_loader.cc:54] Successfully opened dynamic library libcudnn.so.8\n",
      "2022-02-09 13:26:14.615906: I tensorflow/core/common_runtime/gpu/gpu_device.cc:1872] Adding visible gpu devices: 0\n"
     ]
    }
   ],
   "source": [
    "import h5py\n",
    "import numpy as np\n",
    "\n",
    "from sklearn.model_selection import train_test_split\n",
    "from sklearn.metrics import classification_report, confusion_matrix\n",
    "import matplotlib.pyplot as plt\n",
    "import itertools \n",
    "import pyts\n",
    "from pyts.approximation import PiecewiseAggregateApproximation\n",
    "\n",
    "from sklearn.utils import class_weight\n",
    "\n",
    "import pathlib\n",
    "import tensorflow as tf\n",
    "from tensorflow import keras\n",
    "from tensorflow.keras import layers, optimizers\n",
    "from tensorflow.keras.layers import Convolution2D,Conv2D, Dense,Dropout, Flatten, Activation, MaxPooling2D, Input, Conv1D, GlobalAveragePooling1D, TimeDistributed, GRU, LSTM\n",
    "\n",
    "print(tf.__version__)\n",
    "print(\"Num GPUs Available: \", len(tf.config.list_physical_devices('GPU')))\n",
    "gpus = tf.config.experimental.list_physical_devices('GPU')\n",
    "\n",
    "try:\n",
    "    for gpu in gpus:\n",
    "        tf.config.experimental.set_memory_growth(gpu, True)\n",
    "except RuntimeError as e:\n",
    "    print(e)"
   ]
  },
  {
   "cell_type": "code",
   "execution_count": 2,
   "metadata": {
    "execution": {
     "iopub.execute_input": "2022-02-09T13:26:14.632919Z",
     "iopub.status.busy": "2022-02-09T13:26:14.631720Z",
     "iopub.status.idle": "2022-02-09T13:26:14.636555Z",
     "shell.execute_reply": "2022-02-09T13:26:14.635574Z"
    }
   },
   "outputs": [
    {
     "name": "stdout",
     "output_type": "stream",
     "text": [
      "redd_gen_GASF_13m_100S5X5A4934_R12_80-20\n"
     ]
    }
   ],
   "source": [
    "from os import environ\n",
    "dataset = environ['dataset']\n",
    "print(dataset)"
   ]
  },
  {
   "cell_type": "code",
   "execution_count": 3,
   "metadata": {
    "execution": {
     "iopub.execute_input": "2022-02-09T13:26:14.643210Z",
     "iopub.status.busy": "2022-02-09T13:26:14.641936Z",
     "iopub.status.idle": "2022-02-09T13:26:14.646333Z",
     "shell.execute_reply": "2022-02-09T13:26:14.647334Z"
    }
   },
   "outputs": [],
   "source": [
    "#my defs \n",
    "from modules.models import  LSTM_3D_V56, CNN_V56,LSTM_BI_V56\n",
    "from modules.tools import my_print, plot_confusion_matrix_norm, get_data,get_data_split, evaluate_model, create_tl_model\n",
    "from modules.HDF5ImageGenerator import HDF5ImageGenerator"
   ]
  },
  {
   "cell_type": "code",
   "execution_count": 4,
   "metadata": {
    "execution": {
     "iopub.execute_input": "2022-02-09T13:26:14.657730Z",
     "iopub.status.busy": "2022-02-09T13:26:14.656428Z",
     "iopub.status.idle": "2022-02-09T13:26:14.659201Z",
     "shell.execute_reply": "2022-02-09T13:26:14.660340Z"
    },
    "id": "RT1vwq7-KOtB"
   },
   "outputs": [],
   "source": [
    "#LOAD DATASET\n",
    "#file_name = \"ukdale_gen_GASF_13m_100S5X12A54480\"\n",
    "#file_name = \"refit_gen_GASF_13m_100S5X_15A166006\"\n",
    "file_name = \"refit_gen_GASF_13m_100S5X_15A166006_R42-80-20\"\n",
    "#file_name = \"refit_gen_GASF_13m_100S5X_15A166006_R42_80-20\"\n",
    "file_name = \"refit_gen_GASF_60m_300S0X_15A157030N_R12_80-20-V1\"\n",
    "file_name = environ[\"dataset\"]\n",
    "#read the file\n",
    "path = str(pathlib.Path().resolve())\n",
    "\n",
    "path_data = f\"{path}\"\"/data/\"f\"{file_name}\"\"/\"f\"{file_name}\"\".hdf5\"\n",
    "\n",
    "file = h5py.File(path_data,\"r+\")"
   ]
  },
  {
   "cell_type": "code",
   "execution_count": 5,
   "metadata": {
    "execution": {
     "iopub.execute_input": "2022-02-09T13:26:14.668973Z",
     "iopub.status.busy": "2022-02-09T13:26:14.667767Z",
     "iopub.status.idle": "2022-02-09T13:26:14.811290Z",
     "shell.execute_reply": "2022-02-09T13:26:14.811640Z"
    },
    "scrolled": true
   },
   "outputs": [
    {
     "name": "stdout",
     "output_type": "stream",
     "text": [
      "['fridge/freezer', 'electric furnace', 'light', 'microwave', 'sockets']\n",
      "{0: 1.3540308747855918, 1: 2.1335135135135137, 2: 0.5634546752319771, 3: 3.5881818181818184, 4: 0.5749453750910415}\n",
      " \n",
      "Tests \n",
      "fridge/freezer test: 146 train: 583\n",
      "electric furnace test: 92 train: 370\n",
      "light test: 351 train: 1401\n",
      "microwave test: 55 train: 220\n",
      "sockets test: 343 train: 1373\n"
     ]
    }
   ],
   "source": [
    "x_test,y_test,d_class_weights,num_of_classes,appliances = get_data(file)"
   ]
  },
  {
   "cell_type": "code",
   "execution_count": 6,
   "metadata": {
    "execution": {
     "iopub.execute_input": "2022-02-09T13:26:14.821562Z",
     "iopub.status.busy": "2022-02-09T13:26:14.821014Z",
     "iopub.status.idle": "2022-02-09T13:26:14.824371Z",
     "shell.execute_reply": "2022-02-09T13:26:14.824781Z"
    }
   },
   "outputs": [],
   "source": [
    "def select_model(learn_type):\n",
    "    \n",
    "    if learn_type == \"CNN\":\n",
    "        model = CNN_V56(file[\"data/train/gaf\"][0:10],num_of_classes,lr= 0.00002)\n",
    "\n",
    "    if learn_type == \"LSTM\":\n",
    "        model = LSTM_3D_V56(file[\"data/train/gaf\"][0:10],num_of_classes,lr= 0.00002)\n",
    "\n",
    "    if learn_type == \"BI_LSTM\":\n",
    "        model = LSTM_BI_V56(file[\"data/train/gaf\"][0:10],num_of_classes,lr= 0.00002)\n",
    "\n",
    "    return model\n",
    "              "
   ]
  },
  {
   "cell_type": "code",
   "execution_count": 7,
   "metadata": {
    "execution": {
     "iopub.execute_input": "2022-02-09T13:26:14.833960Z",
     "iopub.status.busy": "2022-02-09T13:26:14.832714Z",
     "iopub.status.idle": "2022-02-09T13:26:14.835232Z",
     "shell.execute_reply": "2022-02-09T13:26:14.836212Z"
    }
   },
   "outputs": [],
   "source": [
    "path_save = path+'/experiment_automation/output/'+environ['learn_type']+'/'+dataset.split(\"_\")[0]+\"/\"+environ['train_type']+\"/\"+dataset.split(\"_\")[0]+\"_\"+environ['seed']+\"_\"+environ['tl_datasets']\n",
    "path_save_nb = path_save+\"_out.ipynb\"\n",
    "path_save_log = path_save+\"_out_log2.txt\""
   ]
  },
  {
   "cell_type": "code",
   "execution_count": 8,
   "metadata": {
    "execution": {
     "iopub.execute_input": "2022-02-09T13:26:14.845635Z",
     "iopub.status.busy": "2022-02-09T13:26:14.844314Z",
     "iopub.status.idle": "2022-02-09T13:26:14.932625Z",
     "shell.execute_reply": "2022-02-09T13:26:14.931442Z"
    }
   },
   "outputs": [],
   "source": [
    "from keras.callbacks import LambdaCallback\n",
    "#path_log= path+'/experiment_automation/output/'+environ['learn_type']+'/'+dataset.split(\"_\")[0]+\"/\"+environ['train_type']+\"/\"+dataset.split(\"_\")[0]+\"_\"+environ['seed']+\"_\"+environ['tl_datasets']+\"_log.txt\"\n",
    "txt_log = open(path_save+\"_log.txt\", mode='wt', buffering=1)\n",
    "txt_log.write(\"file created! \\n\")\n",
    "\n",
    "save_op_callback = LambdaCallback(\n",
    "  on_epoch_end = lambda epoch, logs: txt_log.write(\n",
    "    str({'epoch': epoch, 'loss': logs['loss'],'acc': logs['accuracy']}) + '\\n'),\n",
    "                                                           \n",
    ")"
   ]
  },
  {
   "cell_type": "code",
   "execution_count": 9,
   "metadata": {
    "execution": {
     "iopub.execute_input": "2022-02-09T13:26:14.938470Z",
     "iopub.status.busy": "2022-02-09T13:26:14.937219Z",
     "iopub.status.idle": "2022-02-09T13:26:14.942535Z",
     "shell.execute_reply": "2022-02-09T13:26:14.941417Z"
    }
   },
   "outputs": [
    {
     "name": "stdout",
     "output_type": "stream",
     "text": [
      "/workspace/notebooks/experiment_automation/output/BI_LSTM/redd/BB/redd_12__out.ipynb\n"
     ]
    }
   ],
   "source": [
    "print(path_save_nb)"
   ]
  },
  {
   "cell_type": "code",
   "execution_count": 10,
   "metadata": {
    "execution": {
     "iopub.execute_input": "2022-02-09T13:26:14.948045Z",
     "iopub.status.busy": "2022-02-09T13:26:14.946970Z",
     "iopub.status.idle": "2022-02-09T13:26:14.949238Z",
     "shell.execute_reply": "2022-02-09T13:26:14.950122Z"
    }
   },
   "outputs": [],
   "source": [
    "# rm $path_save_log"
   ]
  },
  {
   "cell_type": "code",
   "execution_count": 11,
   "metadata": {
    "execution": {
     "iopub.execute_input": "2022-02-09T13:26:14.955666Z",
     "iopub.status.busy": "2022-02-09T13:26:14.954588Z",
     "iopub.status.idle": "2022-02-09T13:26:14.956932Z",
     "shell.execute_reply": "2022-02-09T13:26:14.957660Z"
    }
   },
   "outputs": [],
   "source": [
    "# %%capture cap \n",
    "\n",
    "# with open(path_save_log,\"wt\") as f:\n",
    "#     f.write(cap.stdout)\n",
    "    \n",
    "# print(\"out capture..\")"
   ]
  },
  {
   "cell_type": "code",
   "execution_count": 12,
   "metadata": {
    "execution": {
     "iopub.execute_input": "2022-02-09T13:26:14.973995Z",
     "iopub.status.busy": "2022-02-09T13:26:14.972673Z",
     "iopub.status.idle": "2022-02-09T13:44:22.707637Z",
     "shell.execute_reply": "2022-02-09T13:44:22.708643Z"
    },
    "id": "vqA9NwOqKrb5",
    "jupyter": {
     "outputs_hidden": true
    },
    "tags": []
   },
   "outputs": [
    {
     "name": "stdout",
     "output_type": "stream",
     "text": [
      "Normal way\n",
      "[0 1 2 3 4 5 6 7 8 9]\n"
     ]
    },
    {
     "name": "stderr",
     "output_type": "stream",
     "text": [
      "2022-02-09 13:26:15.000026: I tensorflow/core/common_runtime/gpu/gpu_device.cc:1734] Found device 0 with properties: \n",
      "pciBusID: 0000:21:00.0 name: NVIDIA GeForce RTX 2080 Ti computeCapability: 7.5\n",
      "coreClock: 1.545GHz coreCount: 68 deviceMemorySize: 10.76GiB deviceMemoryBandwidth: 573.69GiB/s\n",
      "2022-02-09 13:26:15.000793: I tensorflow/core/common_runtime/gpu/gpu_device.cc:1872] Adding visible gpu devices: 0\n",
      "2022-02-09 13:26:15.000893: I tensorflow/stream_executor/platform/default/dso_loader.cc:54] Successfully opened dynamic library libcudart.so.11.0\n",
      "2022-02-09 13:26:15.385625: I tensorflow/core/common_runtime/gpu/gpu_device.cc:1258] Device interconnect StreamExecutor with strength 1 edge matrix:\n",
      "2022-02-09 13:26:15.385660: I tensorflow/core/common_runtime/gpu/gpu_device.cc:1264]      0 \n",
      "2022-02-09 13:26:15.385667: I tensorflow/core/common_runtime/gpu/gpu_device.cc:1277] 0:   N \n",
      "2022-02-09 13:26:15.386233: I tensorflow/core/common_runtime/gpu/gpu_device.cc:1418] Created TensorFlow device (/job:localhost/replica:0/task:0/device:GPU:0 with 9649 MB memory) -> physical GPU (device: 0, name: NVIDIA GeForce RTX 2080 Ti, pci bus id: 0000:21:00.0, compute capability: 7.5)\n",
      "2022-02-09 13:26:15.386563: I tensorflow/core/common_runtime/process_util.cc:146] Creating new thread pool with default inter op setting: 20. Tune using inter_op_parallelism_threads for best performance.\n"
     ]
    },
    {
     "name": "stdout",
     "output_type": "stream",
     "text": [
      "WARNING:tensorflow:From /usr/local/lib/python3.8/dist-packages/tensorflow/python/ops/array_ops.py:5043: calling gather (from tensorflow.python.ops.array_ops) with validate_indices is deprecated and will be removed in a future version.\n",
      "Instructions for updating:\n",
      "The `validate_indices` argument has no effect. Indices are always validated on CPU and never validated on GPU.\n",
      "Epoch 1/150\n"
     ]
    },
    {
     "name": "stderr",
     "output_type": "stream",
     "text": [
      "2022-02-09 13:26:16.181292: I tensorflow/compiler/mlir/mlir_graph_optimization_pass.cc:176] None of the MLIR Optimization Passes are enabled (registered 2)\n",
      "2022-02-09 13:26:16.200488: I tensorflow/core/platform/profile_utils/cpu_utils.cc:114] CPU Frequency: 3299990000 Hz\n",
      "2022-02-09 13:26:19.734249: I tensorflow/stream_executor/platform/default/dso_loader.cc:54] Successfully opened dynamic library libcudnn.so.8\n",
      "2022-02-09 13:26:20.216020: I tensorflow/stream_executor/cuda/cuda_dnn.cc:380] Loaded cuDNN version 8202\n",
      "2022-02-09 13:26:20.703179: I tensorflow/stream_executor/platform/default/dso_loader.cc:54] Successfully opened dynamic library libcublas.so.11\n",
      "2022-02-09 13:26:21.108873: I tensorflow/stream_executor/platform/default/dso_loader.cc:54] Successfully opened dynamic library libcublasLt.so.11\n"
     ]
    },
    {
     "name": "stdout",
     "output_type": "stream",
     "text": [
      "124/124 - 13s - loss: 1.5130 - accuracy: 0.2964\n",
      "Epoch 2/150\n",
      "124/124 - 7s - loss: 1.3755 - accuracy: 0.4576\n",
      "Epoch 3/150\n",
      "124/124 - 7s - loss: 1.2794 - accuracy: 0.4718\n",
      "Epoch 4/150\n",
      "124/124 - 7s - loss: 1.2021 - accuracy: 0.5120\n",
      "Epoch 5/150\n",
      "124/124 - 7s - loss: 1.1279 - accuracy: 0.5237\n",
      "Epoch 6/150\n",
      "124/124 - 7s - loss: 1.0613 - accuracy: 0.5196\n",
      "Epoch 7/150\n",
      "124/124 - 7s - loss: 1.0045 - accuracy: 0.5602\n",
      "Epoch 8/150\n",
      "124/124 - 7s - loss: 0.9592 - accuracy: 0.5708\n",
      "Epoch 9/150\n",
      "124/124 - 7s - loss: 0.9162 - accuracy: 0.5903\n",
      "Epoch 10/150\n",
      "124/124 - 7s - loss: 0.8746 - accuracy: 0.6174\n",
      "Epoch 11/150\n",
      "124/124 - 7s - loss: 0.8337 - accuracy: 0.6309\n",
      "Epoch 12/150\n",
      "124/124 - 7s - loss: 0.8181 - accuracy: 0.6329\n",
      "Epoch 13/150\n",
      "124/124 - 7s - loss: 0.7876 - accuracy: 0.6521\n",
      "Epoch 14/150\n",
      "124/124 - 7s - loss: 0.7613 - accuracy: 0.6582\n",
      "Epoch 15/150\n",
      "124/124 - 7s - loss: 0.7420 - accuracy: 0.6638\n",
      "Epoch 16/150\n",
      "124/124 - 7s - loss: 0.7192 - accuracy: 0.6734\n",
      "Epoch 17/150\n",
      "124/124 - 7s - loss: 0.7036 - accuracy: 0.6699\n",
      "Epoch 18/150\n",
      "124/124 - 7s - loss: 0.6899 - accuracy: 0.6785\n",
      "Epoch 19/150\n",
      "124/124 - 7s - loss: 0.6747 - accuracy: 0.6894\n",
      "Epoch 20/150\n",
      "124/124 - 7s - loss: 0.6672 - accuracy: 0.6914\n",
      "Epoch 21/150\n",
      "124/124 - 7s - loss: 0.6475 - accuracy: 0.7033\n",
      "Epoch 22/150\n",
      "124/124 - 7s - loss: 0.6414 - accuracy: 0.6995\n",
      "Epoch 23/150\n",
      "124/124 - 7s - loss: 0.6480 - accuracy: 0.6912\n",
      "Epoch 24/150\n",
      "124/124 - 7s - loss: 0.6251 - accuracy: 0.7056\n",
      "Epoch 25/150\n",
      "124/124 - 7s - loss: 0.6183 - accuracy: 0.7010\n",
      "Epoch 26/150\n",
      "124/124 - 7s - loss: 0.6033 - accuracy: 0.7076\n",
      "Epoch 27/150\n",
      "124/124 - 7s - loss: 0.6023 - accuracy: 0.7165\n",
      "Epoch 28/150\n",
      "124/124 - 7s - loss: 0.6014 - accuracy: 0.7122\n",
      "Epoch 29/150\n",
      "124/124 - 7s - loss: 0.5767 - accuracy: 0.7276\n",
      "Epoch 30/150\n",
      "124/124 - 7s - loss: 0.5775 - accuracy: 0.7162\n",
      "Epoch 31/150\n",
      "124/124 - 7s - loss: 0.5703 - accuracy: 0.7246\n",
      "Epoch 32/150\n",
      "124/124 - 7s - loss: 0.5647 - accuracy: 0.7251\n",
      "Epoch 33/150\n",
      "124/124 - 7s - loss: 0.5474 - accuracy: 0.7363\n",
      "Epoch 34/150\n",
      "124/124 - 7s - loss: 0.5439 - accuracy: 0.7327\n",
      "Epoch 35/150\n",
      "124/124 - 7s - loss: 0.5370 - accuracy: 0.7363\n",
      "Epoch 36/150\n",
      "124/124 - 7s - loss: 0.5325 - accuracy: 0.7383\n",
      "Epoch 37/150\n",
      "124/124 - 7s - loss: 0.5234 - accuracy: 0.7403\n",
      "Epoch 38/150\n",
      "124/124 - 7s - loss: 0.5224 - accuracy: 0.7393\n",
      "Epoch 39/150\n",
      "124/124 - 7s - loss: 0.5166 - accuracy: 0.7441\n",
      "Epoch 40/150\n",
      "124/124 - 7s - loss: 0.4996 - accuracy: 0.7517\n",
      "Epoch 41/150\n",
      "124/124 - 7s - loss: 0.5109 - accuracy: 0.7370\n",
      "Epoch 42/150\n",
      "124/124 - 7s - loss: 0.4893 - accuracy: 0.7611\n",
      "Epoch 43/150\n",
      "124/124 - 7s - loss: 0.4862 - accuracy: 0.7540\n",
      "Epoch 44/150\n",
      "124/124 - 7s - loss: 0.4830 - accuracy: 0.7487\n",
      "Epoch 45/150\n",
      "124/124 - 7s - loss: 0.4755 - accuracy: 0.7573\n",
      "Epoch 46/150\n",
      "124/124 - 7s - loss: 0.4677 - accuracy: 0.7550\n",
      "Epoch 47/150\n",
      "124/124 - 7s - loss: 0.4677 - accuracy: 0.7608\n",
      "Epoch 48/150\n",
      "124/124 - 7s - loss: 0.4727 - accuracy: 0.7616\n",
      "Epoch 49/150\n",
      "124/124 - 7s - loss: 0.4564 - accuracy: 0.7629\n",
      "Epoch 50/150\n",
      "124/124 - 7s - loss: 0.4558 - accuracy: 0.7593\n",
      "Epoch 51/150\n",
      "124/124 - 7s - loss: 0.4481 - accuracy: 0.7618\n",
      "Epoch 52/150\n",
      "124/124 - 7s - loss: 0.4340 - accuracy: 0.7722\n",
      "Epoch 53/150\n",
      "124/124 - 7s - loss: 0.4349 - accuracy: 0.7743\n",
      "Epoch 54/150\n",
      "124/124 - 7s - loss: 0.4382 - accuracy: 0.7689\n",
      "Epoch 55/150\n",
      "124/124 - 7s - loss: 0.4305 - accuracy: 0.7689\n",
      "Epoch 56/150\n",
      "124/124 - 7s - loss: 0.4228 - accuracy: 0.7697\n",
      "Epoch 57/150\n",
      "124/124 - 7s - loss: 0.4091 - accuracy: 0.7826\n",
      "Epoch 58/150\n",
      "124/124 - 7s - loss: 0.4096 - accuracy: 0.7765\n",
      "Epoch 59/150\n",
      "124/124 - 7s - loss: 0.4100 - accuracy: 0.7740\n",
      "Epoch 60/150\n",
      "124/124 - 7s - loss: 0.4122 - accuracy: 0.7793\n",
      "Epoch 61/150\n",
      "124/124 - 7s - loss: 0.3898 - accuracy: 0.7879\n",
      "Epoch 62/150\n",
      "124/124 - 7s - loss: 0.3924 - accuracy: 0.7821\n",
      "Epoch 63/150\n",
      "124/124 - 7s - loss: 0.3930 - accuracy: 0.7841\n",
      "Epoch 64/150\n",
      "124/124 - 7s - loss: 0.3852 - accuracy: 0.7922\n",
      "Epoch 65/150\n",
      "124/124 - 7s - loss: 0.3851 - accuracy: 0.7836\n",
      "Epoch 66/150\n",
      "124/124 - 7s - loss: 0.3783 - accuracy: 0.7920\n",
      "Epoch 67/150\n",
      "124/124 - 7s - loss: 0.3813 - accuracy: 0.7872\n",
      "Epoch 68/150\n",
      "124/124 - 7s - loss: 0.3748 - accuracy: 0.7950\n",
      "Epoch 69/150\n",
      "124/124 - 7s - loss: 0.3662 - accuracy: 0.7971\n",
      "Epoch 70/150\n",
      "124/124 - 7s - loss: 0.3704 - accuracy: 0.7917\n",
      "Epoch 71/150\n",
      "124/124 - 7s - loss: 0.3790 - accuracy: 0.7864\n",
      "Epoch 72/150\n",
      "124/124 - 7s - loss: 0.3751 - accuracy: 0.7892\n",
      "Epoch 73/150\n",
      "124/124 - 7s - loss: 0.3638 - accuracy: 0.7945\n",
      "Epoch 74/150\n",
      "124/124 - 7s - loss: 0.3692 - accuracy: 0.7928\n",
      "Epoch 75/150\n",
      "124/124 - 7s - loss: 0.3573 - accuracy: 0.7968\n",
      "Epoch 76/150\n",
      "124/124 - 7s - loss: 0.3589 - accuracy: 0.7993\n",
      "Epoch 77/150\n",
      "124/124 - 7s - loss: 0.3514 - accuracy: 0.8054\n",
      "Epoch 78/150\n",
      "124/124 - 7s - loss: 0.3512 - accuracy: 0.8064\n",
      "Epoch 79/150\n",
      "124/124 - 7s - loss: 0.3382 - accuracy: 0.8092\n",
      "Epoch 80/150\n",
      "124/124 - 7s - loss: 0.3383 - accuracy: 0.8102\n",
      "Epoch 81/150\n",
      "124/124 - 7s - loss: 0.3273 - accuracy: 0.8138\n",
      "Epoch 82/150\n",
      "124/124 - 7s - loss: 0.3242 - accuracy: 0.8158\n",
      "Epoch 83/150\n",
      "124/124 - 7s - loss: 0.3330 - accuracy: 0.8082\n",
      "Epoch 84/150\n",
      "124/124 - 7s - loss: 0.3262 - accuracy: 0.8143\n",
      "Epoch 85/150\n",
      "124/124 - 7s - loss: 0.3201 - accuracy: 0.8191\n",
      "Epoch 86/150\n",
      "124/124 - 7s - loss: 0.3437 - accuracy: 0.8082\n",
      "Epoch 87/150\n",
      "124/124 - 7s - loss: 0.3124 - accuracy: 0.8237\n",
      "Epoch 88/150\n",
      "124/124 - 7s - loss: 0.3134 - accuracy: 0.8216\n",
      "Epoch 89/150\n",
      "124/124 - 7s - loss: 0.3100 - accuracy: 0.8168\n",
      "Epoch 90/150\n",
      "124/124 - 7s - loss: 0.3050 - accuracy: 0.8275\n",
      "Epoch 91/150\n",
      "124/124 - 7s - loss: 0.3063 - accuracy: 0.8254\n",
      "Epoch 92/150\n",
      "124/124 - 7s - loss: 0.3042 - accuracy: 0.8287\n",
      "Epoch 93/150\n",
      "124/124 - 7s - loss: 0.3175 - accuracy: 0.8216\n",
      "Epoch 94/150\n",
      "124/124 - 7s - loss: 0.2907 - accuracy: 0.8328\n",
      "Epoch 95/150\n",
      "124/124 - 7s - loss: 0.3034 - accuracy: 0.8209\n",
      "Epoch 96/150\n",
      "124/124 - 7s - loss: 0.2950 - accuracy: 0.8254\n",
      "Epoch 97/150\n",
      "124/124 - 7s - loss: 0.3084 - accuracy: 0.8227\n",
      "Epoch 98/150\n",
      "124/124 - 7s - loss: 0.3053 - accuracy: 0.8295\n",
      "Epoch 99/150\n",
      "124/124 - 7s - loss: 0.2985 - accuracy: 0.8282\n",
      "Epoch 100/150\n",
      "124/124 - 7s - loss: 0.2816 - accuracy: 0.8379\n",
      "Epoch 101/150\n",
      "124/124 - 7s - loss: 0.2876 - accuracy: 0.8328\n",
      "Epoch 102/150\n",
      "124/124 - 7s - loss: 0.2881 - accuracy: 0.8330\n",
      "Epoch 103/150\n",
      "124/124 - 7s - loss: 0.2771 - accuracy: 0.8394\n",
      "Epoch 104/150\n",
      "124/124 - 7s - loss: 0.2841 - accuracy: 0.8333\n",
      "Epoch 105/150\n",
      "124/124 - 7s - loss: 0.2748 - accuracy: 0.8409\n",
      "Epoch 106/150\n",
      "124/124 - 7s - loss: 0.2811 - accuracy: 0.8399\n",
      "Epoch 107/150\n",
      "124/124 - 7s - loss: 0.2721 - accuracy: 0.8444\n",
      "Epoch 108/150\n",
      "124/124 - 7s - loss: 0.2733 - accuracy: 0.8373\n",
      "Epoch 109/150\n",
      "124/124 - 7s - loss: 0.2722 - accuracy: 0.8411\n",
      "Epoch 110/150\n",
      "124/124 - 7s - loss: 0.2752 - accuracy: 0.8424\n",
      "Epoch 111/150\n",
      "124/124 - 7s - loss: 0.2606 - accuracy: 0.8467\n",
      "Epoch 112/150\n",
      "124/124 - 7s - loss: 0.2681 - accuracy: 0.8386\n",
      "Epoch 113/150\n",
      "124/124 - 7s - loss: 0.2523 - accuracy: 0.8500\n",
      "Epoch 114/150\n",
      "124/124 - 7s - loss: 0.2502 - accuracy: 0.8543\n",
      "Epoch 115/150\n",
      "124/124 - 7s - loss: 0.2555 - accuracy: 0.8480\n",
      "Epoch 116/150\n",
      "124/124 - 7s - loss: 0.2478 - accuracy: 0.8495\n",
      "Epoch 117/150\n",
      "124/124 - 7s - loss: 0.2467 - accuracy: 0.8553\n",
      "Epoch 118/150\n",
      "124/124 - 7s - loss: 0.2526 - accuracy: 0.8515\n",
      "Epoch 119/150\n",
      "124/124 - 7s - loss: 0.2439 - accuracy: 0.8553\n",
      "Epoch 120/150\n",
      "124/124 - 7s - loss: 0.2445 - accuracy: 0.8515\n",
      "Epoch 121/150\n",
      "124/124 - 7s - loss: 0.2600 - accuracy: 0.8455\n",
      "Epoch 122/150\n",
      "124/124 - 7s - loss: 0.2484 - accuracy: 0.8553\n",
      "Epoch 123/150\n",
      "124/124 - 7s - loss: 0.2458 - accuracy: 0.8551\n",
      "Epoch 124/150\n",
      "124/124 - 7s - loss: 0.2389 - accuracy: 0.8589\n",
      "Epoch 125/150\n",
      "124/124 - 7s - loss: 0.2326 - accuracy: 0.8609\n",
      "Epoch 126/150\n",
      "124/124 - 7s - loss: 0.2384 - accuracy: 0.8581\n",
      "Epoch 127/150\n",
      "124/124 - 7s - loss: 0.2294 - accuracy: 0.8642\n",
      "Epoch 128/150\n",
      "124/124 - 7s - loss: 0.2358 - accuracy: 0.8581\n",
      "Epoch 129/150\n",
      "124/124 - 7s - loss: 0.2310 - accuracy: 0.8642\n",
      "Epoch 130/150\n",
      "124/124 - 7s - loss: 0.2314 - accuracy: 0.8579\n",
      "Epoch 131/150\n",
      "124/124 - 7s - loss: 0.2350 - accuracy: 0.8596\n",
      "Epoch 132/150\n",
      "124/124 - 7s - loss: 0.2272 - accuracy: 0.8665\n",
      "Epoch 133/150\n",
      "124/124 - 7s - loss: 0.2190 - accuracy: 0.8665\n",
      "Epoch 134/150\n",
      "124/124 - 7s - loss: 0.2162 - accuracy: 0.8688\n",
      "Epoch 135/150\n",
      "124/124 - 7s - loss: 0.2316 - accuracy: 0.8594\n",
      "Epoch 136/150\n",
      "124/124 - 7s - loss: 0.2163 - accuracy: 0.8713\n",
      "Epoch 137/150\n",
      "124/124 - 7s - loss: 0.2136 - accuracy: 0.8726\n",
      "Epoch 138/150\n",
      "124/124 - 7s - loss: 0.2102 - accuracy: 0.8708\n",
      "Epoch 139/150\n",
      "124/124 - 7s - loss: 0.2063 - accuracy: 0.8756\n",
      "Epoch 140/150\n",
      "124/124 - 7s - loss: 0.2200 - accuracy: 0.8675\n",
      "Epoch 141/150\n",
      "124/124 - 7s - loss: 0.2094 - accuracy: 0.8743\n",
      "Epoch 142/150\n",
      "124/124 - 7s - loss: 0.2093 - accuracy: 0.8700\n",
      "Epoch 143/150\n",
      "124/124 - 7s - loss: 0.2079 - accuracy: 0.8741\n",
      "Epoch 144/150\n",
      "124/124 - 7s - loss: 0.2032 - accuracy: 0.8776\n",
      "Epoch 145/150\n",
      "124/124 - 7s - loss: 0.2171 - accuracy: 0.8713\n",
      "Epoch 146/150\n",
      "124/124 - 7s - loss: 0.1966 - accuracy: 0.8804\n",
      "Epoch 147/150\n",
      "124/124 - 7s - loss: 0.2105 - accuracy: 0.8728\n",
      "Epoch 148/150\n",
      "124/124 - 7s - loss: 0.2032 - accuracy: 0.8786\n",
      "Epoch 149/150\n",
      "124/124 - 7s - loss: 0.2017 - accuracy: 0.8802\n",
      "Epoch 150/150\n",
      "124/124 - 7s - loss: 0.1914 - accuracy: 0.8827\n",
      "31/31 - 1s\n",
      "Normalized confusion matrix\n",
      "                  precision    recall  f1-score   support\n",
      "\n",
      "  fridge/freezer       0.79      0.94      0.86       146\n",
      "electric furnace       0.88      0.95      0.91        92\n",
      "           light       0.86      0.75      0.80       351\n",
      "       microwave       0.88      0.96      0.92        55\n",
      "         sockets       0.80      0.81      0.80       343\n",
      "\n",
      "        accuracy                           0.83       987\n",
      "       macro avg       0.84      0.88      0.86       987\n",
      "    weighted avg       0.83      0.83      0.83       987\n",
      "\n"
     ]
    },
    {
     "name": "stderr",
     "output_type": "stream",
     "text": [
      "2022-02-09 13:44:12.322624: W tensorflow/python/util/util.cc:348] Sets are not currently considered sequences, but this may change in the future, so consider avoiding using them.\n",
      "WARNING:absl:Found untraced functions such as lstm_cell_1_layer_call_fn, lstm_cell_1_layer_call_and_return_conditional_losses, lstm_cell_2_layer_call_fn, lstm_cell_2_layer_call_and_return_conditional_losses, lstm_cell_4_layer_call_fn while saving (showing 5 of 20). These functions will not be directly callable after loading.\n"
     ]
    },
    {
     "name": "stdout",
     "output_type": "stream",
     "text": [
      "INFO:tensorflow:Assets written to: /workspace/notebooks/models/BI_LSTM/redd_12/assets\n"
     ]
    },
    {
     "name": "stderr",
     "output_type": "stream",
     "text": [
      "INFO:tensorflow:Assets written to: /workspace/notebooks/models/BI_LSTM/redd_12/assets\n"
     ]
    },
    {
     "data": {
      "image/png": "[encoded data removed]",
      "text/plain": [
       "<Figure size 720x720 with 2 Axes>"
      ]
     },
     "metadata": {
      "needs_background": "light"
     },
     "output_type": "display_data"
    }
   ],
   "source": [
    "# %%capture cap --no-stderr\n",
    "\n",
    "\n",
    "if environ['train_type'] == \"BB\":\n",
    "\n",
    "    #define generator\n",
    "    train_gen = HDF5ImageGenerator(\n",
    "        src= path_data,\n",
    "        X_key=\"data/train/gaf\",\n",
    "        y_key=\"labels/train/gaf\",\n",
    "        classes_key=\"appliances/classes\",\n",
    "        labels_encoding=\"hot\",\n",
    "        shuffle=True,\n",
    "        batch_size=int(environ['batch_size']),\n",
    "        num_classes=num_of_classes,\n",
    "        mode=\"train\",\n",
    "        )\n",
    "    \n",
    "    model = select_model(environ['learn_type'])\n",
    "    \n",
    "    txt_log.write(\"fitting BB model: \\n\")\n",
    "    \n",
    "    model.fit(\n",
    "        train_gen,\n",
    "        verbose=2,\n",
    "        epochs=int(environ['epochs']),\n",
    "        class_weight=d_class_weights,\n",
    "        callbacks = [save_op_callback],\n",
    "    )\n",
    "    \n",
    "    txt_log.write(\"finished fitting BB model: \\n\")\n",
    "\n",
    "    evaluate_model(model,x_test,y_test,appliances)\n",
    "    \n",
    "    if environ['save_model']==\"True\":\n",
    "\n",
    "        path_model_save = path+\"/models/\"+environ['learn_type']+\"/\"+dataset.split(\"_\")[0]+\"_\"+dataset.split(\"_R\")[1][0:2]\n",
    "        model.save(path_model_save)\n",
    "        txt_log.write(\"model saved to:\"+\"/models/\"+environ['learn_type']+\"/\"+dataset.split(\"_\")[0]+\"_\"+dataset.split(\"_R\")[1][0:2]+\" \\n\")\n",
    "        \n",
    "        \n",
    "# with open(path_save+\"_out_log.txt\" as f:\n",
    "#     f.write(cap.stdout)\n"
   ]
  },
  {
   "cell_type": "code",
   "execution_count": 13,
   "metadata": {
    "collapsed": true,
    "execution": {
     "iopub.execute_input": "2022-02-09T13:44:22.714621Z",
     "iopub.status.busy": "2022-02-09T13:44:22.713282Z",
     "iopub.status.idle": "2022-02-09T13:44:22.717138Z",
     "shell.execute_reply": "2022-02-09T13:44:22.718065Z"
    }
   },
   "outputs": [],
   "source": [
    "#model = keras.models.load_model(path_model1)\n",
    "# model_used = model"
   ]
  },
  {
   "cell_type": "code",
   "execution_count": 14,
   "metadata": {
    "collapsed": true,
    "execution": {
     "iopub.execute_input": "2022-02-09T13:44:22.725320Z",
     "iopub.status.busy": "2022-02-09T13:44:22.723970Z",
     "iopub.status.idle": "2022-02-09T13:44:22.726684Z",
     "shell.execute_reply": "2022-02-09T13:44:22.727721Z"
    },
    "jupyter": {
     "outputs_hidden": true
    },
    "tags": []
   },
   "outputs": [],
   "source": [
    "# evaluate_model(model,x_test,y_test,appliances)"
   ]
  },
  {
   "cell_type": "code",
   "execution_count": 15,
   "metadata": {
    "collapsed": true,
    "execution": {
     "iopub.execute_input": "2022-02-09T13:44:22.749501Z",
     "iopub.status.busy": "2022-02-09T13:44:22.747876Z",
     "iopub.status.idle": "2022-02-09T13:44:22.752767Z",
     "shell.execute_reply": "2022-02-09T13:44:22.753773Z"
    }
   },
   "outputs": [],
   "source": [
    "# datasets =[\n",
    "#     \"ukdale_gen_GASF_13m_100S5X12A54480_R82_80-20\"\n",
    "# ]\n",
    "\n",
    "if environ['train_type'] == \"TL\": \n",
    "    models = environ['tl_datasets'].replace(\" \",\"\").split(\",\")\n",
    "    #model = [\"base\"]\n",
    "    \n",
    "    for model in models:\n",
    "    \n",
    "        file_name = dataset\n",
    "        \n",
    "        datasetTL = model\n",
    "        \n",
    "        seed = dataset.split(\"_R\")[1][0:2]\n",
    "        \n",
    "        print(\"using dataset data\",dataset.split(\"_\")[0],\"training on model\",model,\"seed\",environ['seed'])\n",
    "        txt_log.write(\"starting \"+dataset.split(\"_\")[0]+\" training on model \"+model+\" seed \"+environ['seed']+\"\\n\")\n",
    "\n",
    "\n",
    "        tf.keras.backend.clear_session()\n",
    "\n",
    "\n",
    "        #read the file\n",
    "        path = str(pathlib.Path().resolve())\n",
    "        path_data = f\"{path}\"\"/data/\"f\"{file_name}\"\"/\"f\"{file_name}\"\".hdf5\"\n",
    "        file = h5py.File(path_data,\"r+\")\n",
    "\n",
    "\n",
    "        print(\"reading data, printing stats: \")\n",
    "        x_test,y_test,d_class_weights,num_of_classes,appliances = get_data(file)\n",
    "        print(\"loading model\")\n",
    "        \n",
    "        model_seed = 42\n",
    "        model_used = create_tl_model(model,environ['learn_type'],model_seed,path,num_of_classes)\n",
    "                \n",
    "        train_gen = HDF5ImageGenerator(\n",
    "            src= path_data,\n",
    "            X_key=\"data/train/gaf\",\n",
    "            y_key=\"labels/train/gaf\",\n",
    "            classes_key=\"appliances/classes\",\n",
    "            labels_encoding=\"hot\",\n",
    "            shuffle=True,\n",
    "            batch_size=int(environ['batch_size']),\n",
    "            num_classes=num_of_classes,\n",
    "            mode=\"train\",\n",
    "            )\n",
    "\n",
    "        model_used.fit(\n",
    "            train_gen,\n",
    "            verbose=2,\n",
    "            epochs=int(environ['epochs']),\n",
    "            class_weight=d_class_weights,\n",
    "            callbacks = [save_op_callback]\n",
    "            #workers = 6,\n",
    "        )\n",
    "        \n",
    "        txt_log.write(\"finished \"+dataset.split(\"_\")[0]+\" training on model \"+model+\" seed \"+environ['seed']+\"\\n\")\n",
    "\n",
    "\n",
    "        evaluate_model(model_used,x_test,y_test,appliances)\n",
    "        \n",
    "\n",
    "\n",
    "\n",
    "        #del model_used\n",
    "\n"
   ]
  },
  {
   "cell_type": "code",
   "execution_count": 16,
   "metadata": {
    "execution": {
     "iopub.execute_input": "2022-02-09T13:44:22.761318Z",
     "iopub.status.busy": "2022-02-09T13:44:22.760044Z",
     "iopub.status.idle": "2022-02-09T13:44:22.764051Z",
     "shell.execute_reply": "2022-02-09T13:44:22.762932Z"
    }
   },
   "outputs": [],
   "source": [
    "txt_log.close()"
   ]
  },
  {
   "cell_type": "code",
   "execution_count": null,
   "metadata": {},
   "outputs": [],
   "source": []
  }
 ],
 "metadata": {
  "colab": {
   "authorship_tag": "ABX9TyMej4PvP65qsLng7TnQKWA4",
   "name": "LSTM-gen",
   "provenance": []
  },
  "kernelspec": {
   "display_name": "Python 3 (ipykernel)",
   "language": "python",
   "name": "python3"
  },
  "language_info": {
   "codemirror_mode": {
    "name": "ipython",
    "version": 3
   },
   "file_extension": ".py",
   "mimetype": "text/x-python",
   "name": "python",
   "nbconvert_exporter": "python",
   "pygments_lexer": "ipython3",
   "version": "3.8.10"
  }
 },
 "nbformat": 4,
 "nbformat_minor": 4
}
