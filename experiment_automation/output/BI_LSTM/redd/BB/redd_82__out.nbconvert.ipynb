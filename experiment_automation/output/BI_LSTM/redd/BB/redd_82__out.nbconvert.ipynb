{
 "cells": [
  {
   "cell_type": "code",
   "execution_count": 1,
   "metadata": {
    "execution": {
     "iopub.execute_input": "2022-02-09T13:07:58.715390Z",
     "iopub.status.busy": "2022-02-09T13:07:58.713857Z",
     "iopub.status.idle": "2022-02-09T13:08:00.409199Z",
     "shell.execute_reply": "2022-02-09T13:08:00.408737Z"
    },
    "id": "WqUfHWgtJxtu",
    "scrolled": true,
    "tags": []
   },
   "outputs": [
    {
     "name": "stderr",
     "output_type": "stream",
     "text": [
      "2022-02-09 13:07:59.539856: I tensorflow/stream_executor/platform/default/dso_loader.cc:54] Successfully opened dynamic library libcudart.so.11.0\n"
     ]
    },
    {
     "name": "stdout",
     "output_type": "stream",
     "text": [
      "2.5.0\n",
      "Num GPUs Available:  1\n"
     ]
    },
    {
     "name": "stderr",
     "output_type": "stream",
     "text": [
      "2022-02-09 13:08:00.345129: I tensorflow/stream_executor/platform/default/dso_loader.cc:54] Successfully opened dynamic library libcuda.so.1\n",
      "2022-02-09 13:08:00.392129: I tensorflow/core/common_runtime/gpu/gpu_device.cc:1734] Found device 0 with properties: \n",
      "pciBusID: 0000:21:00.0 name: NVIDIA GeForce RTX 2080 Ti computeCapability: 7.5\n",
      "coreClock: 1.545GHz coreCount: 68 deviceMemorySize: 10.76GiB deviceMemoryBandwidth: 573.69GiB/s\n",
      "2022-02-09 13:08:00.392179: I tensorflow/stream_executor/platform/default/dso_loader.cc:54] Successfully opened dynamic library libcudart.so.11.0\n",
      "2022-02-09 13:08:00.396555: I tensorflow/stream_executor/platform/default/dso_loader.cc:54] Successfully opened dynamic library libcublas.so.11\n",
      "2022-02-09 13:08:00.396613: I tensorflow/stream_executor/platform/default/dso_loader.cc:54] Successfully opened dynamic library libcublasLt.so.11\n",
      "2022-02-09 13:08:00.398113: I tensorflow/stream_executor/platform/default/dso_loader.cc:54] Successfully opened dynamic library libcufft.so.10\n",
      "2022-02-09 13:08:00.398379: I tensorflow/stream_executor/platform/default/dso_loader.cc:54] Successfully opened dynamic library libcurand.so.10\n",
      "2022-02-09 13:08:00.399014: I tensorflow/stream_executor/platform/default/dso_loader.cc:54] Successfully opened dynamic library libcutensor.so.1\n",
      "2022-02-09 13:08:00.399479: I tensorflow/stream_executor/platform/default/dso_loader.cc:54] Successfully opened dynamic library libcusolver.so.11\n",
      "2022-02-09 13:08:00.400226: I tensorflow/stream_executor/platform/default/dso_loader.cc:54] Successfully opened dynamic library libcusparse.so.11\n",
      "2022-02-09 13:08:00.400366: I tensorflow/stream_executor/platform/default/dso_loader.cc:54] Successfully opened dynamic library libcudnn.so.8\n",
      "2022-02-09 13:08:00.400742: I tensorflow/core/common_runtime/gpu/gpu_device.cc:1872] Adding visible gpu devices: 0\n"
     ]
    }
   ],
   "source": [
    "import h5py\n",
    "import numpy as np\n",
    "\n",
    "from sklearn.model_selection import train_test_split\n",
    "from sklearn.metrics import classification_report, confusion_matrix\n",
    "import matplotlib.pyplot as plt\n",
    "import itertools \n",
    "import pyts\n",
    "from pyts.approximation import PiecewiseAggregateApproximation\n",
    "\n",
    "from sklearn.utils import class_weight\n",
    "\n",
    "import pathlib\n",
    "import tensorflow as tf\n",
    "from tensorflow import keras\n",
    "from tensorflow.keras import layers, optimizers\n",
    "from tensorflow.keras.layers import Convolution2D,Conv2D, Dense,Dropout, Flatten, Activation, MaxPooling2D, Input, Conv1D, GlobalAveragePooling1D, TimeDistributed, GRU, LSTM\n",
    "\n",
    "print(tf.__version__)\n",
    "print(\"Num GPUs Available: \", len(tf.config.list_physical_devices('GPU')))\n",
    "gpus = tf.config.experimental.list_physical_devices('GPU')\n",
    "\n",
    "try:\n",
    "    for gpu in gpus:\n",
    "        tf.config.experimental.set_memory_growth(gpu, True)\n",
    "except RuntimeError as e:\n",
    "    print(e)"
   ]
  },
  {
   "cell_type": "code",
   "execution_count": 2,
   "metadata": {
    "execution": {
     "iopub.execute_input": "2022-02-09T13:08:00.412962Z",
     "iopub.status.busy": "2022-02-09T13:08:00.412550Z",
     "iopub.status.idle": "2022-02-09T13:08:00.416341Z",
     "shell.execute_reply": "2022-02-09T13:08:00.416717Z"
    }
   },
   "outputs": [
    {
     "name": "stdout",
     "output_type": "stream",
     "text": [
      "redd_gen_GASF_13m_100S5X5A4934_R82_80-20\n"
     ]
    }
   ],
   "source": [
    "from os import environ\n",
    "dataset = environ['dataset']\n",
    "print(dataset)"
   ]
  },
  {
   "cell_type": "code",
   "execution_count": 3,
   "metadata": {
    "execution": {
     "iopub.execute_input": "2022-02-09T13:08:00.423476Z",
     "iopub.status.busy": "2022-02-09T13:08:00.422949Z",
     "iopub.status.idle": "2022-02-09T13:08:00.429425Z",
     "shell.execute_reply": "2022-02-09T13:08:00.430013Z"
    }
   },
   "outputs": [],
   "source": [
    "#my defs \n",
    "from modules.models import  LSTM_3D_V56, CNN_V56,LSTM_BI_V56\n",
    "from modules.tools import my_print, plot_confusion_matrix_norm, get_data,get_data_split, evaluate_model, create_tl_model\n",
    "from modules.HDF5ImageGenerator import HDF5ImageGenerator"
   ]
  },
  {
   "cell_type": "code",
   "execution_count": 4,
   "metadata": {
    "execution": {
     "iopub.execute_input": "2022-02-09T13:08:00.434443Z",
     "iopub.status.busy": "2022-02-09T13:08:00.433715Z",
     "iopub.status.idle": "2022-02-09T13:08:00.444191Z",
     "shell.execute_reply": "2022-02-09T13:08:00.443302Z"
    },
    "id": "RT1vwq7-KOtB"
   },
   "outputs": [],
   "source": [
    "#LOAD DATASET\n",
    "#file_name = \"ukdale_gen_GASF_13m_100S5X12A54480\"\n",
    "#file_name = \"refit_gen_GASF_13m_100S5X_15A166006\"\n",
    "file_name = \"refit_gen_GASF_13m_100S5X_15A166006_R42-80-20\"\n",
    "#file_name = \"refit_gen_GASF_13m_100S5X_15A166006_R42_80-20\"\n",
    "file_name = \"refit_gen_GASF_60m_300S0X_15A157030N_R12_80-20-V1\"\n",
    "file_name = environ[\"dataset\"]\n",
    "#read the file\n",
    "path = str(pathlib.Path().resolve())\n",
    "\n",
    "path_data = f\"{path}\"\"/data/\"f\"{file_name}\"\"/\"f\"{file_name}\"\".hdf5\"\n",
    "\n",
    "file = h5py.File(path_data,\"r+\")"
   ]
  },
  {
   "cell_type": "code",
   "execution_count": 5,
   "metadata": {
    "execution": {
     "iopub.execute_input": "2022-02-09T13:08:00.452751Z",
     "iopub.status.busy": "2022-02-09T13:08:00.451364Z",
     "iopub.status.idle": "2022-02-09T13:08:00.580603Z",
     "shell.execute_reply": "2022-02-09T13:08:00.581665Z"
    },
    "scrolled": true
   },
   "outputs": [
    {
     "name": "stdout",
     "output_type": "stream",
     "text": [
      "['fridge/freezer', 'electric furnace', 'light', 'microwave', 'sockets']\n",
      "{0: 1.3540308747855918, 1: 2.1335135135135137, 2: 0.5634546752319771, 3: 3.5881818181818184, 4: 0.5749453750910415}\n",
      " \n",
      "Tests \n",
      "fridge/freezer test: 146 train: 583\n",
      "electric furnace test: 92 train: 370\n",
      "light test: 351 train: 1401\n",
      "microwave test: 55 train: 220\n",
      "sockets test: 343 train: 1373\n"
     ]
    }
   ],
   "source": [
    "x_test,y_test,d_class_weights,num_of_classes,appliances = get_data(file)"
   ]
  },
  {
   "cell_type": "code",
   "execution_count": 6,
   "metadata": {
    "execution": {
     "iopub.execute_input": "2022-02-09T13:08:00.589107Z",
     "iopub.status.busy": "2022-02-09T13:08:00.587786Z",
     "iopub.status.idle": "2022-02-09T13:08:00.590471Z",
     "shell.execute_reply": "2022-02-09T13:08:00.591455Z"
    }
   },
   "outputs": [],
   "source": [
    "def select_model(learn_type):\n",
    "    \n",
    "    if learn_type == \"CNN\":\n",
    "        model = CNN_V56(file[\"data/train/gaf\"][0:10],num_of_classes,lr= 0.00002)\n",
    "\n",
    "    if learn_type == \"LSTM\":\n",
    "        model = LSTM_3D_V56(file[\"data/train/gaf\"][0:10],num_of_classes,lr= 0.00002)\n",
    "\n",
    "    if learn_type == \"BI_LSTM\":\n",
    "        model = LSTM_BI_V56(file[\"data/train/gaf\"][0:10],num_of_classes,lr= 0.00002)\n",
    "\n",
    "    return model\n",
    "              "
   ]
  },
  {
   "cell_type": "code",
   "execution_count": 7,
   "metadata": {
    "execution": {
     "iopub.execute_input": "2022-02-09T13:08:00.598613Z",
     "iopub.status.busy": "2022-02-09T13:08:00.597325Z",
     "iopub.status.idle": "2022-02-09T13:08:00.599976Z",
     "shell.execute_reply": "2022-02-09T13:08:00.601051Z"
    }
   },
   "outputs": [],
   "source": [
    "path_save = path+'/experiment_automation/output/'+environ['learn_type']+'/'+dataset.split(\"_\")[0]+\"/\"+environ['train_type']+\"/\"+dataset.split(\"_\")[0]+\"_\"+environ['seed']+\"_\"+environ['tl_datasets']\n",
    "path_save_nb = path_save+\"_out.ipynb\"\n",
    "path_save_log = path_save+\"_out_log2.txt\""
   ]
  },
  {
   "cell_type": "code",
   "execution_count": 8,
   "metadata": {
    "execution": {
     "iopub.execute_input": "2022-02-09T13:08:00.609750Z",
     "iopub.status.busy": "2022-02-09T13:08:00.608444Z",
     "iopub.status.idle": "2022-02-09T13:08:00.695122Z",
     "shell.execute_reply": "2022-02-09T13:08:00.696223Z"
    }
   },
   "outputs": [],
   "source": [
    "from keras.callbacks import LambdaCallback\n",
    "#path_log= path+'/experiment_automation/output/'+environ['learn_type']+'/'+dataset.split(\"_\")[0]+\"/\"+environ['train_type']+\"/\"+dataset.split(\"_\")[0]+\"_\"+environ['seed']+\"_\"+environ['tl_datasets']+\"_log.txt\"\n",
    "txt_log = open(path_save+\"_log.txt\", mode='wt', buffering=1)\n",
    "txt_log.write(\"file created! \\n\")\n",
    "\n",
    "save_op_callback = LambdaCallback(\n",
    "  on_epoch_end = lambda epoch, logs: txt_log.write(\n",
    "    str({'epoch': epoch, 'loss': logs['loss'],'acc': logs['accuracy']}) + '\\n'),\n",
    "                                                           \n",
    ")"
   ]
  },
  {
   "cell_type": "code",
   "execution_count": 9,
   "metadata": {
    "execution": {
     "iopub.execute_input": "2022-02-09T13:08:00.700011Z",
     "iopub.status.busy": "2022-02-09T13:08:00.699568Z",
     "iopub.status.idle": "2022-02-09T13:08:00.703182Z",
     "shell.execute_reply": "2022-02-09T13:08:00.703523Z"
    }
   },
   "outputs": [
    {
     "name": "stdout",
     "output_type": "stream",
     "text": [
      "/workspace/notebooks/experiment_automation/output/BI_LSTM/redd/BB/redd_82__out.ipynb\n"
     ]
    }
   ],
   "source": [
    "print(path_save_nb)"
   ]
  },
  {
   "cell_type": "code",
   "execution_count": 10,
   "metadata": {
    "execution": {
     "iopub.execute_input": "2022-02-09T13:08:00.708771Z",
     "iopub.status.busy": "2022-02-09T13:08:00.708217Z",
     "iopub.status.idle": "2022-02-09T13:08:00.711168Z",
     "shell.execute_reply": "2022-02-09T13:08:00.711603Z"
    }
   },
   "outputs": [],
   "source": [
    "# rm $path_save_log"
   ]
  },
  {
   "cell_type": "code",
   "execution_count": 11,
   "metadata": {
    "execution": {
     "iopub.execute_input": "2022-02-09T13:08:00.716621Z",
     "iopub.status.busy": "2022-02-09T13:08:00.716053Z",
     "iopub.status.idle": "2022-02-09T13:08:00.719387Z",
     "shell.execute_reply": "2022-02-09T13:08:00.719966Z"
    }
   },
   "outputs": [],
   "source": [
    "# %%capture cap \n",
    "\n",
    "# with open(path_save_log,\"wt\") as f:\n",
    "#     f.write(cap.stdout)\n",
    "    \n",
    "# print(\"out capture..\")"
   ]
  },
  {
   "cell_type": "code",
   "execution_count": 12,
   "metadata": {
    "execution": {
     "iopub.execute_input": "2022-02-09T13:08:00.735059Z",
     "iopub.status.busy": "2022-02-09T13:08:00.729214Z",
     "iopub.status.idle": "2022-02-09T13:26:06.331326Z",
     "shell.execute_reply": "2022-02-09T13:26:06.332317Z"
    },
    "id": "vqA9NwOqKrb5",
    "jupyter": {
     "outputs_hidden": true
    },
    "tags": []
   },
   "outputs": [
    {
     "name": "stdout",
     "output_type": "stream",
     "text": [
      "Normal way\n",
      "[0 1 2 3 4 5 6 7 8 9]\n"
     ]
    },
    {
     "name": "stderr",
     "output_type": "stream",
     "text": [
      "2022-02-09 13:08:00.750695: I tensorflow/core/common_runtime/gpu/gpu_device.cc:1734] Found device 0 with properties: \n",
      "pciBusID: 0000:21:00.0 name: NVIDIA GeForce RTX 2080 Ti computeCapability: 7.5\n",
      "coreClock: 1.545GHz coreCount: 68 deviceMemorySize: 10.76GiB deviceMemoryBandwidth: 573.69GiB/s\n",
      "2022-02-09 13:08:00.751045: I tensorflow/core/common_runtime/gpu/gpu_device.cc:1872] Adding visible gpu devices: 0\n",
      "2022-02-09 13:08:00.751095: I tensorflow/stream_executor/platform/default/dso_loader.cc:54] Successfully opened dynamic library libcudart.so.11.0\n",
      "2022-02-09 13:08:01.127276: I tensorflow/core/common_runtime/gpu/gpu_device.cc:1258] Device interconnect StreamExecutor with strength 1 edge matrix:\n",
      "2022-02-09 13:08:01.127312: I tensorflow/core/common_runtime/gpu/gpu_device.cc:1264]      0 \n",
      "2022-02-09 13:08:01.127318: I tensorflow/core/common_runtime/gpu/gpu_device.cc:1277] 0:   N \n",
      "2022-02-09 13:08:01.127870: I tensorflow/core/common_runtime/gpu/gpu_device.cc:1418] Created TensorFlow device (/job:localhost/replica:0/task:0/device:GPU:0 with 9649 MB memory) -> physical GPU (device: 0, name: NVIDIA GeForce RTX 2080 Ti, pci bus id: 0000:21:00.0, compute capability: 7.5)\n",
      "2022-02-09 13:08:01.128380: I tensorflow/core/common_runtime/process_util.cc:146] Creating new thread pool with default inter op setting: 20. Tune using inter_op_parallelism_threads for best performance.\n"
     ]
    },
    {
     "name": "stdout",
     "output_type": "stream",
     "text": [
      "WARNING:tensorflow:From /usr/local/lib/python3.8/dist-packages/tensorflow/python/ops/array_ops.py:5043: calling gather (from tensorflow.python.ops.array_ops) with validate_indices is deprecated and will be removed in a future version.\n",
      "Instructions for updating:\n",
      "The `validate_indices` argument has no effect. Indices are always validated on CPU and never validated on GPU.\n",
      "Epoch 1/150\n"
     ]
    },
    {
     "name": "stderr",
     "output_type": "stream",
     "text": [
      "2022-02-09 13:08:01.911147: I tensorflow/compiler/mlir/mlir_graph_optimization_pass.cc:176] None of the MLIR Optimization Passes are enabled (registered 2)\n",
      "2022-02-09 13:08:01.928621: I tensorflow/core/platform/profile_utils/cpu_utils.cc:114] CPU Frequency: 3299990000 Hz\n",
      "2022-02-09 13:08:05.468220: I tensorflow/stream_executor/platform/default/dso_loader.cc:54] Successfully opened dynamic library libcudnn.so.8\n",
      "2022-02-09 13:08:05.956921: I tensorflow/stream_executor/cuda/cuda_dnn.cc:380] Loaded cuDNN version 8202\n",
      "2022-02-09 13:08:06.435182: I tensorflow/stream_executor/platform/default/dso_loader.cc:54] Successfully opened dynamic library libcublas.so.11\n",
      "2022-02-09 13:08:06.846701: I tensorflow/stream_executor/platform/default/dso_loader.cc:54] Successfully opened dynamic library libcublasLt.so.11\n"
     ]
    },
    {
     "name": "stdout",
     "output_type": "stream",
     "text": [
      "124/124 - 13s - loss: 1.5359 - accuracy: 0.3408\n",
      "Epoch 2/150\n",
      "124/124 - 7s - loss: 1.4027 - accuracy: 0.4783\n",
      "Epoch 3/150\n",
      "124/124 - 7s - loss: 1.2802 - accuracy: 0.4540\n",
      "Epoch 4/150\n",
      "124/124 - 7s - loss: 1.1900 - accuracy: 0.4692\n",
      "Epoch 5/150\n",
      "124/124 - 7s - loss: 1.1169 - accuracy: 0.4928\n",
      "Epoch 6/150\n",
      "124/124 - 7s - loss: 1.0608 - accuracy: 0.5092\n",
      "Epoch 7/150\n",
      "124/124 - 7s - loss: 1.0226 - accuracy: 0.5060\n",
      "Epoch 8/150\n",
      "124/124 - 7s - loss: 0.9731 - accuracy: 0.5369\n",
      "Epoch 9/150\n",
      "124/124 - 7s - loss: 0.9463 - accuracy: 0.5366\n",
      "Epoch 10/150\n",
      "124/124 - 7s - loss: 0.9159 - accuracy: 0.5612\n",
      "Epoch 11/150\n",
      "124/124 - 7s - loss: 0.8878 - accuracy: 0.5584\n",
      "Epoch 12/150\n",
      "124/124 - 7s - loss: 0.8764 - accuracy: 0.5726\n",
      "Epoch 13/150\n",
      "124/124 - 7s - loss: 0.8497 - accuracy: 0.5956\n",
      "Epoch 14/150\n",
      "124/124 - 7s - loss: 0.8355 - accuracy: 0.6032\n",
      "Epoch 15/150\n",
      "124/124 - 7s - loss: 0.8212 - accuracy: 0.5994\n",
      "Epoch 16/150\n",
      "124/124 - 7s - loss: 0.8078 - accuracy: 0.6240\n",
      "Epoch 17/150\n",
      "124/124 - 7s - loss: 0.8008 - accuracy: 0.6243\n",
      "Epoch 18/150\n",
      "124/124 - 7s - loss: 0.7839 - accuracy: 0.6281\n",
      "Epoch 19/150\n",
      "124/124 - 7s - loss: 0.7673 - accuracy: 0.6438\n",
      "Epoch 20/150\n",
      "124/124 - 7s - loss: 0.7472 - accuracy: 0.6564\n",
      "Epoch 21/150\n",
      "124/124 - 7s - loss: 0.7373 - accuracy: 0.6658\n",
      "Epoch 22/150\n",
      "124/124 - 7s - loss: 0.7186 - accuracy: 0.6673\n",
      "Epoch 23/150\n",
      "124/124 - 7s - loss: 0.7072 - accuracy: 0.6722\n",
      "Epoch 24/150\n",
      "124/124 - 7s - loss: 0.6982 - accuracy: 0.6772\n",
      "Epoch 25/150\n",
      "124/124 - 7s - loss: 0.6803 - accuracy: 0.6861\n",
      "Epoch 26/150\n",
      "124/124 - 7s - loss: 0.6694 - accuracy: 0.6894\n",
      "Epoch 27/150\n",
      "124/124 - 7s - loss: 0.6607 - accuracy: 0.6874\n",
      "Epoch 28/150\n",
      "124/124 - 7s - loss: 0.6457 - accuracy: 0.7051\n",
      "Epoch 29/150\n",
      "124/124 - 7s - loss: 0.6425 - accuracy: 0.6960\n",
      "Epoch 30/150\n",
      "124/124 - 7s - loss: 0.6363 - accuracy: 0.7005\n",
      "Epoch 31/150\n",
      "124/124 - 7s - loss: 0.6143 - accuracy: 0.7112\n",
      "Epoch 32/150\n",
      "124/124 - 7s - loss: 0.6174 - accuracy: 0.7084\n",
      "Epoch 33/150\n",
      "124/124 - 7s - loss: 0.5977 - accuracy: 0.7211\n",
      "Epoch 34/150\n",
      "124/124 - 7s - loss: 0.5928 - accuracy: 0.7185\n",
      "Epoch 35/150\n",
      "124/124 - 7s - loss: 0.5869 - accuracy: 0.7173\n",
      "Epoch 36/150\n",
      "124/124 - 7s - loss: 0.5738 - accuracy: 0.7274\n",
      "Epoch 37/150\n",
      "124/124 - 7s - loss: 0.5785 - accuracy: 0.7249\n",
      "Epoch 38/150\n",
      "124/124 - 7s - loss: 0.5741 - accuracy: 0.7246\n",
      "Epoch 39/150\n",
      "124/124 - 7s - loss: 0.5560 - accuracy: 0.7383\n",
      "Epoch 40/150\n",
      "124/124 - 7s - loss: 0.5442 - accuracy: 0.7378\n",
      "Epoch 41/150\n",
      "124/124 - 7s - loss: 0.5435 - accuracy: 0.7390\n",
      "Epoch 42/150\n",
      "124/124 - 7s - loss: 0.5487 - accuracy: 0.7451\n",
      "Epoch 43/150\n",
      "124/124 - 7s - loss: 0.5382 - accuracy: 0.7385\n",
      "Epoch 44/150\n",
      "124/124 - 7s - loss: 0.5265 - accuracy: 0.7502\n",
      "Epoch 45/150\n",
      "124/124 - 7s - loss: 0.5093 - accuracy: 0.7542\n",
      "Epoch 46/150\n",
      "124/124 - 7s - loss: 0.5066 - accuracy: 0.7575\n",
      "Epoch 47/150\n",
      "124/124 - 7s - loss: 0.5096 - accuracy: 0.7499\n",
      "Epoch 48/150\n",
      "124/124 - 7s - loss: 0.4959 - accuracy: 0.7555\n",
      "Epoch 49/150\n",
      "124/124 - 7s - loss: 0.4908 - accuracy: 0.7621\n",
      "Epoch 50/150\n",
      "124/124 - 7s - loss: 0.4865 - accuracy: 0.7644\n",
      "Epoch 51/150\n",
      "124/124 - 7s - loss: 0.4776 - accuracy: 0.7662\n",
      "Epoch 52/150\n",
      "124/124 - 7s - loss: 0.4748 - accuracy: 0.7659\n",
      "Epoch 53/150\n",
      "124/124 - 7s - loss: 0.4675 - accuracy: 0.7656\n",
      "Epoch 54/150\n",
      "124/124 - 7s - loss: 0.4540 - accuracy: 0.7788\n",
      "Epoch 55/150\n",
      "124/124 - 7s - loss: 0.4523 - accuracy: 0.7694\n",
      "Epoch 56/150\n",
      "124/124 - 7s - loss: 0.4558 - accuracy: 0.7725\n",
      "Epoch 57/150\n",
      "124/124 - 7s - loss: 0.4463 - accuracy: 0.7738\n",
      "Epoch 58/150\n",
      "124/124 - 7s - loss: 0.4458 - accuracy: 0.7702\n",
      "Epoch 59/150\n",
      "124/124 - 7s - loss: 0.4522 - accuracy: 0.7664\n",
      "Epoch 60/150\n",
      "124/124 - 7s - loss: 0.4305 - accuracy: 0.7816\n",
      "Epoch 61/150\n",
      "124/124 - 7s - loss: 0.4282 - accuracy: 0.7798\n",
      "Epoch 62/150\n",
      "124/124 - 7s - loss: 0.4150 - accuracy: 0.7841\n",
      "Epoch 63/150\n",
      "124/124 - 7s - loss: 0.4246 - accuracy: 0.7753\n",
      "Epoch 64/150\n",
      "124/124 - 7s - loss: 0.4066 - accuracy: 0.7834\n",
      "Epoch 65/150\n",
      "124/124 - 7s - loss: 0.4222 - accuracy: 0.7821\n",
      "Epoch 66/150\n",
      "124/124 - 7s - loss: 0.4079 - accuracy: 0.7879\n",
      "Epoch 67/150\n",
      "124/124 - 7s - loss: 0.4008 - accuracy: 0.7844\n",
      "Epoch 68/150\n",
      "124/124 - 7s - loss: 0.3951 - accuracy: 0.7963\n",
      "Epoch 69/150\n",
      "124/124 - 7s - loss: 0.3926 - accuracy: 0.7935\n",
      "Epoch 70/150\n",
      "124/124 - 7s - loss: 0.3876 - accuracy: 0.7963\n",
      "Epoch 71/150\n",
      "124/124 - 7s - loss: 0.3917 - accuracy: 0.7912\n",
      "Epoch 72/150\n",
      "124/124 - 7s - loss: 0.3797 - accuracy: 0.7958\n",
      "Epoch 73/150\n",
      "124/124 - 7s - loss: 0.3929 - accuracy: 0.7872\n",
      "Epoch 74/150\n",
      "124/124 - 7s - loss: 0.3822 - accuracy: 0.7882\n",
      "Epoch 75/150\n",
      "124/124 - 7s - loss: 0.3761 - accuracy: 0.7966\n",
      "Epoch 76/150\n",
      "124/124 - 7s - loss: 0.3667 - accuracy: 0.8006\n",
      "Epoch 77/150\n",
      "124/124 - 7s - loss: 0.3704 - accuracy: 0.7976\n",
      "Epoch 78/150\n",
      "124/124 - 7s - loss: 0.3652 - accuracy: 0.8011\n",
      "Epoch 79/150\n",
      "124/124 - 7s - loss: 0.3686 - accuracy: 0.7945\n",
      "Epoch 80/150\n",
      "124/124 - 7s - loss: 0.3652 - accuracy: 0.8044\n",
      "Epoch 81/150\n",
      "124/124 - 7s - loss: 0.3474 - accuracy: 0.8052\n",
      "Epoch 82/150\n",
      "124/124 - 7s - loss: 0.3434 - accuracy: 0.8077\n",
      "Epoch 83/150\n",
      "124/124 - 7s - loss: 0.3450 - accuracy: 0.8125\n",
      "Epoch 84/150\n",
      "124/124 - 7s - loss: 0.3541 - accuracy: 0.8014\n",
      "Epoch 85/150\n",
      "124/124 - 7s - loss: 0.3422 - accuracy: 0.8097\n",
      "Epoch 86/150\n",
      "124/124 - 7s - loss: 0.3332 - accuracy: 0.8173\n",
      "Epoch 87/150\n",
      "124/124 - 7s - loss: 0.3484 - accuracy: 0.8031\n",
      "Epoch 88/150\n",
      "124/124 - 7s - loss: 0.3420 - accuracy: 0.8080\n",
      "Epoch 89/150\n",
      "124/124 - 7s - loss: 0.3313 - accuracy: 0.8161\n",
      "Epoch 90/150\n",
      "124/124 - 7s - loss: 0.3306 - accuracy: 0.8123\n",
      "Epoch 91/150\n",
      "124/124 - 7s - loss: 0.3219 - accuracy: 0.8156\n",
      "Epoch 92/150\n",
      "124/124 - 7s - loss: 0.3183 - accuracy: 0.8168\n",
      "Epoch 93/150\n",
      "124/124 - 7s - loss: 0.3262 - accuracy: 0.8105\n",
      "Epoch 94/150\n",
      "124/124 - 7s - loss: 0.3546 - accuracy: 0.8034\n",
      "Epoch 95/150\n",
      "124/124 - 7s - loss: 0.3354 - accuracy: 0.8128\n",
      "Epoch 96/150\n",
      "124/124 - 7s - loss: 0.3159 - accuracy: 0.8145\n",
      "Epoch 97/150\n",
      "124/124 - 7s - loss: 0.3144 - accuracy: 0.8183\n",
      "Epoch 98/150\n",
      "124/124 - 7s - loss: 0.3049 - accuracy: 0.8239\n",
      "Epoch 99/150\n",
      "124/124 - 7s - loss: 0.3076 - accuracy: 0.8204\n",
      "Epoch 100/150\n",
      "124/124 - 7s - loss: 0.3086 - accuracy: 0.8242\n",
      "Epoch 101/150\n",
      "124/124 - 7s - loss: 0.3008 - accuracy: 0.8254\n",
      "Epoch 102/150\n",
      "124/124 - 7s - loss: 0.3121 - accuracy: 0.8227\n",
      "Epoch 103/150\n",
      "124/124 - 7s - loss: 0.2971 - accuracy: 0.8343\n",
      "Epoch 104/150\n",
      "124/124 - 7s - loss: 0.2984 - accuracy: 0.8290\n",
      "Epoch 105/150\n",
      "124/124 - 7s - loss: 0.3118 - accuracy: 0.8150\n",
      "Epoch 106/150\n",
      "124/124 - 7s - loss: 0.2919 - accuracy: 0.8356\n",
      "Epoch 107/150\n",
      "124/124 - 7s - loss: 0.2880 - accuracy: 0.8351\n",
      "Epoch 108/150\n",
      "124/124 - 7s - loss: 0.2871 - accuracy: 0.8335\n",
      "Epoch 109/150\n",
      "124/124 - 7s - loss: 0.3033 - accuracy: 0.8244\n",
      "Epoch 110/150\n",
      "124/124 - 7s - loss: 0.2790 - accuracy: 0.8373\n",
      "Epoch 111/150\n",
      "124/124 - 7s - loss: 0.2746 - accuracy: 0.8389\n",
      "Epoch 112/150\n",
      "124/124 - 7s - loss: 0.2849 - accuracy: 0.8292\n",
      "Epoch 113/150\n",
      "124/124 - 7s - loss: 0.2828 - accuracy: 0.8353\n",
      "Epoch 114/150\n",
      "124/124 - 7s - loss: 0.2716 - accuracy: 0.8424\n",
      "Epoch 115/150\n",
      "124/124 - 7s - loss: 0.2738 - accuracy: 0.8358\n",
      "Epoch 116/150\n",
      "124/124 - 7s - loss: 0.2732 - accuracy: 0.8401\n",
      "Epoch 117/150\n",
      "124/124 - 7s - loss: 0.2765 - accuracy: 0.8384\n",
      "Epoch 118/150\n",
      "124/124 - 7s - loss: 0.2713 - accuracy: 0.8358\n",
      "Epoch 119/150\n",
      "124/124 - 7s - loss: 0.2670 - accuracy: 0.8444\n",
      "Epoch 120/150\n",
      "124/124 - 7s - loss: 0.2530 - accuracy: 0.8457\n",
      "Epoch 121/150\n",
      "124/124 - 7s - loss: 0.2593 - accuracy: 0.8414\n",
      "Epoch 122/150\n",
      "124/124 - 7s - loss: 0.2698 - accuracy: 0.8411\n",
      "Epoch 123/150\n",
      "124/124 - 7s - loss: 0.2545 - accuracy: 0.8475\n",
      "Epoch 124/150\n",
      "124/124 - 7s - loss: 0.2585 - accuracy: 0.8434\n",
      "Epoch 125/150\n",
      "124/124 - 7s - loss: 0.2568 - accuracy: 0.8429\n",
      "Epoch 126/150\n",
      "124/124 - 7s - loss: 0.2479 - accuracy: 0.8487\n",
      "Epoch 127/150\n",
      "124/124 - 7s - loss: 0.2432 - accuracy: 0.8520\n",
      "Epoch 128/150\n",
      "124/124 - 7s - loss: 0.2528 - accuracy: 0.8470\n",
      "Epoch 129/150\n",
      "124/124 - 7s - loss: 0.2472 - accuracy: 0.8493\n",
      "Epoch 130/150\n",
      "124/124 - 7s - loss: 0.2351 - accuracy: 0.8558\n",
      "Epoch 131/150\n",
      "124/124 - 7s - loss: 0.2400 - accuracy: 0.8543\n",
      "Epoch 132/150\n",
      "124/124 - 7s - loss: 0.2399 - accuracy: 0.8543\n",
      "Epoch 133/150\n",
      "124/124 - 7s - loss: 0.2361 - accuracy: 0.8569\n",
      "Epoch 134/150\n",
      "124/124 - 7s - loss: 0.2317 - accuracy: 0.8533\n",
      "Epoch 135/150\n",
      "124/124 - 7s - loss: 0.2387 - accuracy: 0.8520\n",
      "Epoch 136/150\n",
      "124/124 - 7s - loss: 0.2396 - accuracy: 0.8536\n",
      "Epoch 137/150\n",
      "124/124 - 7s - loss: 0.2352 - accuracy: 0.8579\n",
      "Epoch 138/150\n",
      "124/124 - 7s - loss: 0.2410 - accuracy: 0.8538\n",
      "Epoch 139/150\n",
      "124/124 - 7s - loss: 0.2292 - accuracy: 0.8548\n",
      "Epoch 140/150\n",
      "124/124 - 7s - loss: 0.2248 - accuracy: 0.8579\n",
      "Epoch 141/150\n",
      "124/124 - 7s - loss: 0.2243 - accuracy: 0.8574\n",
      "Epoch 142/150\n",
      "124/124 - 7s - loss: 0.2201 - accuracy: 0.8612\n",
      "Epoch 143/150\n",
      "124/124 - 7s - loss: 0.2196 - accuracy: 0.8627\n",
      "Epoch 144/150\n",
      "124/124 - 7s - loss: 0.2218 - accuracy: 0.8629\n",
      "Epoch 145/150\n",
      "124/124 - 7s - loss: 0.2229 - accuracy: 0.8634\n",
      "Epoch 146/150\n",
      "124/124 - 7s - loss: 0.2140 - accuracy: 0.8655\n",
      "Epoch 147/150\n",
      "124/124 - 7s - loss: 0.2169 - accuracy: 0.8639\n",
      "Epoch 148/150\n",
      "124/124 - 7s - loss: 0.2168 - accuracy: 0.8667\n",
      "Epoch 149/150\n",
      "124/124 - 7s - loss: 0.2227 - accuracy: 0.8607\n",
      "Epoch 150/150\n",
      "124/124 - 7s - loss: 0.2235 - accuracy: 0.8667\n",
      "31/31 - 1s\n",
      "Normalized confusion matrix\n",
      "                  precision    recall  f1-score   support\n",
      "\n",
      "  fridge/freezer       0.85      0.97      0.91       146\n",
      "electric furnace       0.91      0.82      0.86        92\n",
      "           light       0.86      0.75      0.80       351\n",
      "       microwave       0.84      0.93      0.88        55\n",
      "         sockets       0.77      0.83      0.80       343\n",
      "\n",
      "        accuracy                           0.83       987\n",
      "       macro avg       0.85      0.86      0.85       987\n",
      "    weighted avg       0.83      0.83      0.83       987\n",
      "\n"
     ]
    },
    {
     "name": "stderr",
     "output_type": "stream",
     "text": [
      "2022-02-09 13:25:55.918647: W tensorflow/python/util/util.cc:348] Sets are not currently considered sequences, but this may change in the future, so consider avoiding using them.\n",
      "WARNING:absl:Found untraced functions such as lstm_cell_1_layer_call_and_return_conditional_losses, lstm_cell_1_layer_call_fn, lstm_cell_2_layer_call_and_return_conditional_losses, lstm_cell_2_layer_call_fn, lstm_cell_4_layer_call_and_return_conditional_losses while saving (showing 5 of 20). These functions will not be directly callable after loading.\n"
     ]
    },
    {
     "name": "stdout",
     "output_type": "stream",
     "text": [
      "INFO:tensorflow:Assets written to: /workspace/notebooks/models/BI_LSTM/redd_82/assets\n"
     ]
    },
    {
     "name": "stderr",
     "output_type": "stream",
     "text": [
      "INFO:tensorflow:Assets written to: /workspace/notebooks/models/BI_LSTM/redd_82/assets\n"
     ]
    },
    {
     "data": {
      "image/png": "[encoded data removed]",
      "text/plain": [
       "<Figure size 720x720 with 2 Axes>"
      ]
     },
     "metadata": {
      "needs_background": "light"
     },
     "output_type": "display_data"
    }
   ],
   "source": [
    "# %%capture cap --no-stderr\n",
    "\n",
    "\n",
    "if environ['train_type'] == \"BB\":\n",
    "\n",
    "    #define generator\n",
    "    train_gen = HDF5ImageGenerator(\n",
    "        src= path_data,\n",
    "        X_key=\"data/train/gaf\",\n",
    "        y_key=\"labels/train/gaf\",\n",
    "        classes_key=\"appliances/classes\",\n",
    "        labels_encoding=\"hot\",\n",
    "        shuffle=True,\n",
    "        batch_size=int(environ['batch_size']),\n",
    "        num_classes=num_of_classes,\n",
    "        mode=\"train\",\n",
    "        )\n",
    "    \n",
    "    model = select_model(environ['learn_type'])\n",
    "    \n",
    "    txt_log.write(\"fitting BB model: \\n\")\n",
    "    \n",
    "    model.fit(\n",
    "        train_gen,\n",
    "        verbose=2,\n",
    "        epochs=int(environ['epochs']),\n",
    "        class_weight=d_class_weights,\n",
    "        callbacks = [save_op_callback],\n",
    "    )\n",
    "    \n",
    "    txt_log.write(\"finished fitting BB model: \\n\")\n",
    "\n",
    "    evaluate_model(model,x_test,y_test,appliances)\n",
    "    \n",
    "    if environ['save_model']==\"True\":\n",
    "\n",
    "        path_model_save = path+\"/models/\"+environ['learn_type']+\"/\"+dataset.split(\"_\")[0]+\"_\"+dataset.split(\"_R\")[1][0:2]\n",
    "        model.save(path_model_save)\n",
    "        txt_log.write(\"model saved to:\"+\"/models/\"+environ['learn_type']+\"/\"+dataset.split(\"_\")[0]+\"_\"+dataset.split(\"_R\")[1][0:2]+\" \\n\")\n",
    "        \n",
    "        \n",
    "# with open(path_save+\"_out_log.txt\" as f:\n",
    "#     f.write(cap.stdout)\n"
   ]
  },
  {
   "cell_type": "code",
   "execution_count": 13,
   "metadata": {
    "collapsed": true,
    "execution": {
     "iopub.execute_input": "2022-02-09T13:26:06.339646Z",
     "iopub.status.busy": "2022-02-09T13:26:06.338357Z",
     "iopub.status.idle": "2022-02-09T13:26:06.341062Z",
     "shell.execute_reply": "2022-02-09T13:26:06.342132Z"
    }
   },
   "outputs": [],
   "source": [
    "#model = keras.models.load_model(path_model1)\n",
    "# model_used = model"
   ]
  },
  {
   "cell_type": "code",
   "execution_count": 14,
   "metadata": {
    "collapsed": true,
    "execution": {
     "iopub.execute_input": "2022-02-09T13:26:06.349128Z",
     "iopub.status.busy": "2022-02-09T13:26:06.347845Z",
     "iopub.status.idle": "2022-02-09T13:26:06.350486Z",
     "shell.execute_reply": "2022-02-09T13:26:06.351528Z"
    },
    "jupyter": {
     "outputs_hidden": true
    },
    "tags": []
   },
   "outputs": [],
   "source": [
    "# evaluate_model(model,x_test,y_test,appliances)"
   ]
  },
  {
   "cell_type": "code",
   "execution_count": 15,
   "metadata": {
    "collapsed": true,
    "execution": {
     "iopub.execute_input": "2022-02-09T13:26:06.373751Z",
     "iopub.status.busy": "2022-02-09T13:26:06.356332Z",
     "iopub.status.idle": "2022-02-09T13:26:06.375701Z",
     "shell.execute_reply": "2022-02-09T13:26:06.376772Z"
    }
   },
   "outputs": [],
   "source": [
    "# datasets =[\n",
    "#     \"ukdale_gen_GASF_13m_100S5X12A54480_R82_80-20\"\n",
    "# ]\n",
    "\n",
    "if environ['train_type'] == \"TL\": \n",
    "    models = environ['tl_datasets'].replace(\" \",\"\").split(\",\")\n",
    "    #model = [\"base\"]\n",
    "    \n",
    "    for model in models:\n",
    "    \n",
    "        file_name = dataset\n",
    "        \n",
    "        datasetTL = model\n",
    "        \n",
    "        seed = dataset.split(\"_R\")[1][0:2]\n",
    "        \n",
    "        print(\"using dataset data\",dataset.split(\"_\")[0],\"training on model\",model,\"seed\",environ['seed'])\n",
    "        txt_log.write(\"starting \"+dataset.split(\"_\")[0]+\" training on model \"+model+\" seed \"+environ['seed']+\"\\n\")\n",
    "\n",
    "\n",
    "        tf.keras.backend.clear_session()\n",
    "\n",
    "\n",
    "        #read the file\n",
    "        path = str(pathlib.Path().resolve())\n",
    "        path_data = f\"{path}\"\"/data/\"f\"{file_name}\"\"/\"f\"{file_name}\"\".hdf5\"\n",
    "        file = h5py.File(path_data,\"r+\")\n",
    "\n",
    "\n",
    "        print(\"reading data, printing stats: \")\n",
    "        x_test,y_test,d_class_weights,num_of_classes,appliances = get_data(file)\n",
    "        print(\"loading model\")\n",
    "        \n",
    "        model_seed = 42\n",
    "        model_used = create_tl_model(model,environ['learn_type'],model_seed,path,num_of_classes)\n",
    "                \n",
    "        train_gen = HDF5ImageGenerator(\n",
    "            src= path_data,\n",
    "            X_key=\"data/train/gaf\",\n",
    "            y_key=\"labels/train/gaf\",\n",
    "            classes_key=\"appliances/classes\",\n",
    "            labels_encoding=\"hot\",\n",
    "            shuffle=True,\n",
    "            batch_size=int(environ['batch_size']),\n",
    "            num_classes=num_of_classes,\n",
    "            mode=\"train\",\n",
    "            )\n",
    "\n",
    "        model_used.fit(\n",
    "            train_gen,\n",
    "            verbose=2,\n",
    "            epochs=int(environ['epochs']),\n",
    "            class_weight=d_class_weights,\n",
    "            callbacks = [save_op_callback]\n",
    "            #workers = 6,\n",
    "        )\n",
    "        \n",
    "        txt_log.write(\"finished \"+dataset.split(\"_\")[0]+\" training on model \"+model+\" seed \"+environ['seed']+\"\\n\")\n",
    "\n",
    "\n",
    "        evaluate_model(model_used,x_test,y_test,appliances)\n",
    "        \n",
    "\n",
    "\n",
    "\n",
    "        #del model_used\n",
    "\n"
   ]
  },
  {
   "cell_type": "code",
   "execution_count": 16,
   "metadata": {
    "execution": {
     "iopub.execute_input": "2022-02-09T13:26:06.382827Z",
     "iopub.status.busy": "2022-02-09T13:26:06.381541Z",
     "iopub.status.idle": "2022-02-09T13:26:06.384240Z",
     "shell.execute_reply": "2022-02-09T13:26:06.385325Z"
    }
   },
   "outputs": [],
   "source": [
    "txt_log.close()"
   ]
  },
  {
   "cell_type": "code",
   "execution_count": null,
   "metadata": {},
   "outputs": [],
   "source": []
  }
 ],
 "metadata": {
  "colab": {
   "authorship_tag": "ABX9TyMej4PvP65qsLng7TnQKWA4",
   "name": "LSTM-gen",
   "provenance": []
  },
  "kernelspec": {
   "display_name": "Python 3 (ipykernel)",
   "language": "python",
   "name": "python3"
  },
  "language_info": {
   "codemirror_mode": {
    "name": "ipython",
    "version": 3
   },
   "file_extension": ".py",
   "mimetype": "text/x-python",
   "name": "python",
   "nbconvert_exporter": "python",
   "pygments_lexer": "ipython3",
   "version": "3.8.10"
  }
 },
 "nbformat": 4,
 "nbformat_minor": 4
}
