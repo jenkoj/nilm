{
 "cells": [
  {
   "cell_type": "code",
   "execution_count": 1,
   "metadata": {
    "execution": {
     "iopub.execute_input": "2022-02-09T13:44:30.098282Z",
     "iopub.status.busy": "2022-02-09T13:44:30.096827Z",
     "iopub.status.idle": "2022-02-09T13:44:31.797372Z",
     "shell.execute_reply": "2022-02-09T13:44:31.796171Z"
    },
    "id": "WqUfHWgtJxtu",
    "scrolled": true,
    "tags": []
   },
   "outputs": [
    {
     "name": "stderr",
     "output_type": "stream",
     "text": [
      "2022-02-09 13:44:30.926080: I tensorflow/stream_executor/platform/default/dso_loader.cc:54] Successfully opened dynamic library libcudart.so.11.0\n"
     ]
    },
    {
     "name": "stdout",
     "output_type": "stream",
     "text": [
      "2.5.0\n",
      "Num GPUs Available:  1\n"
     ]
    },
    {
     "name": "stderr",
     "output_type": "stream",
     "text": [
      "2022-02-09 13:44:31.729605: I tensorflow/stream_executor/platform/default/dso_loader.cc:54] Successfully opened dynamic library libcuda.so.1\n",
      "2022-02-09 13:44:31.778347: I tensorflow/core/common_runtime/gpu/gpu_device.cc:1734] Found device 0 with properties: \n",
      "pciBusID: 0000:21:00.0 name: NVIDIA GeForce RTX 2080 Ti computeCapability: 7.5\n",
      "coreClock: 1.545GHz coreCount: 68 deviceMemorySize: 10.76GiB deviceMemoryBandwidth: 573.69GiB/s\n",
      "2022-02-09 13:44:31.778401: I tensorflow/stream_executor/platform/default/dso_loader.cc:54] Successfully opened dynamic library libcudart.so.11.0\n",
      "2022-02-09 13:44:31.782529: I tensorflow/stream_executor/platform/default/dso_loader.cc:54] Successfully opened dynamic library libcublas.so.11\n",
      "2022-02-09 13:44:31.782600: I tensorflow/stream_executor/platform/default/dso_loader.cc:54] Successfully opened dynamic library libcublasLt.so.11\n",
      "2022-02-09 13:44:31.784579: I tensorflow/stream_executor/platform/default/dso_loader.cc:54] Successfully opened dynamic library libcufft.so.10\n",
      "2022-02-09 13:44:31.784901: I tensorflow/stream_executor/platform/default/dso_loader.cc:54] Successfully opened dynamic library libcurand.so.10\n",
      "2022-02-09 13:44:31.785593: I tensorflow/stream_executor/platform/default/dso_loader.cc:54] Successfully opened dynamic library libcutensor.so.1\n",
      "2022-02-09 13:44:31.786081: I tensorflow/stream_executor/platform/default/dso_loader.cc:54] Successfully opened dynamic library libcusolver.so.11\n",
      "2022-02-09 13:44:31.786847: I tensorflow/stream_executor/platform/default/dso_loader.cc:54] Successfully opened dynamic library libcusparse.so.11\n",
      "2022-02-09 13:44:31.786987: I tensorflow/stream_executor/platform/default/dso_loader.cc:54] Successfully opened dynamic library libcudnn.so.8\n",
      "2022-02-09 13:44:31.787348: I tensorflow/core/common_runtime/gpu/gpu_device.cc:1872] Adding visible gpu devices: 0\n"
     ]
    }
   ],
   "source": [
    "import h5py\n",
    "import numpy as np\n",
    "\n",
    "from sklearn.model_selection import train_test_split\n",
    "from sklearn.metrics import classification_report, confusion_matrix\n",
    "import matplotlib.pyplot as plt\n",
    "import itertools \n",
    "import pyts\n",
    "from pyts.approximation import PiecewiseAggregateApproximation\n",
    "\n",
    "from sklearn.utils import class_weight\n",
    "\n",
    "import pathlib\n",
    "import tensorflow as tf\n",
    "from tensorflow import keras\n",
    "from tensorflow.keras import layers, optimizers\n",
    "from tensorflow.keras.layers import Convolution2D,Conv2D, Dense,Dropout, Flatten, Activation, MaxPooling2D, Input, Conv1D, GlobalAveragePooling1D, TimeDistributed, GRU, LSTM\n",
    "\n",
    "print(tf.__version__)\n",
    "print(\"Num GPUs Available: \", len(tf.config.list_physical_devices('GPU')))\n",
    "gpus = tf.config.experimental.list_physical_devices('GPU')\n",
    "\n",
    "try:\n",
    "    for gpu in gpus:\n",
    "        tf.config.experimental.set_memory_growth(gpu, True)\n",
    "except RuntimeError as e:\n",
    "    print(e)"
   ]
  },
  {
   "cell_type": "code",
   "execution_count": 2,
   "metadata": {
    "execution": {
     "iopub.execute_input": "2022-02-09T13:44:31.803272Z",
     "iopub.status.busy": "2022-02-09T13:44:31.802063Z",
     "iopub.status.idle": "2022-02-09T13:44:31.806787Z",
     "shell.execute_reply": "2022-02-09T13:44:31.805891Z"
    }
   },
   "outputs": [
    {
     "name": "stdout",
     "output_type": "stream",
     "text": [
      "redd_gen_GASF_13m_100S5X5A4934_R42_80-20\n"
     ]
    }
   ],
   "source": [
    "from os import environ\n",
    "dataset = environ['dataset']\n",
    "print(dataset)"
   ]
  },
  {
   "cell_type": "code",
   "execution_count": 3,
   "metadata": {
    "execution": {
     "iopub.execute_input": "2022-02-09T13:44:31.812588Z",
     "iopub.status.busy": "2022-02-09T13:44:31.811518Z",
     "iopub.status.idle": "2022-02-09T13:44:31.815947Z",
     "shell.execute_reply": "2022-02-09T13:44:31.815020Z"
    }
   },
   "outputs": [],
   "source": [
    "#my defs \n",
    "from modules.models import  LSTM_3D_V56, CNN_V56,LSTM_BI_V56\n",
    "from modules.tools import my_print, plot_confusion_matrix_norm, get_data,get_data_split, evaluate_model, create_tl_model\n",
    "from modules.HDF5ImageGenerator import HDF5ImageGenerator"
   ]
  },
  {
   "cell_type": "code",
   "execution_count": 4,
   "metadata": {
    "execution": {
     "iopub.execute_input": "2022-02-09T13:44:31.824052Z",
     "iopub.status.busy": "2022-02-09T13:44:31.823074Z",
     "iopub.status.idle": "2022-02-09T13:44:31.826011Z",
     "shell.execute_reply": "2022-02-09T13:44:31.826942Z"
    },
    "id": "RT1vwq7-KOtB"
   },
   "outputs": [],
   "source": [
    "#LOAD DATASET\n",
    "#file_name = \"ukdale_gen_GASF_13m_100S5X12A54480\"\n",
    "#file_name = \"refit_gen_GASF_13m_100S5X_15A166006\"\n",
    "file_name = \"refit_gen_GASF_13m_100S5X_15A166006_R42-80-20\"\n",
    "#file_name = \"refit_gen_GASF_13m_100S5X_15A166006_R42_80-20\"\n",
    "file_name = \"refit_gen_GASF_60m_300S0X_15A157030N_R12_80-20-V1\"\n",
    "file_name = environ[\"dataset\"]\n",
    "#read the file\n",
    "path = str(pathlib.Path().resolve())\n",
    "\n",
    "path_data = f\"{path}\"\"/data/\"f\"{file_name}\"\"/\"f\"{file_name}\"\".hdf5\"\n",
    "\n",
    "file = h5py.File(path_data,\"r+\")"
   ]
  },
  {
   "cell_type": "code",
   "execution_count": 5,
   "metadata": {
    "execution": {
     "iopub.execute_input": "2022-02-09T13:44:31.834012Z",
     "iopub.status.busy": "2022-02-09T13:44:31.832840Z",
     "iopub.status.idle": "2022-02-09T13:44:31.961963Z",
     "shell.execute_reply": "2022-02-09T13:44:31.962967Z"
    },
    "scrolled": true
   },
   "outputs": [
    {
     "name": "stdout",
     "output_type": "stream",
     "text": [
      "['fridge/freezer', 'electric furnace', 'light', 'microwave', 'sockets']\n",
      "{0: 1.3540308747855918, 1: 2.1335135135135137, 2: 0.5634546752319771, 3: 3.5881818181818184, 4: 0.5749453750910415}\n",
      " \n",
      "Tests \n",
      "fridge/freezer test: 146 train: 583\n",
      "electric furnace test: 92 train: 370\n",
      "light test: 351 train: 1401\n",
      "microwave test: 55 train: 220\n",
      "sockets test: 343 train: 1373\n"
     ]
    }
   ],
   "source": [
    "x_test,y_test,d_class_weights,num_of_classes,appliances = get_data(file)"
   ]
  },
  {
   "cell_type": "code",
   "execution_count": 6,
   "metadata": {
    "execution": {
     "iopub.execute_input": "2022-02-09T13:44:31.970791Z",
     "iopub.status.busy": "2022-02-09T13:44:31.969564Z",
     "iopub.status.idle": "2022-02-09T13:44:31.972065Z",
     "shell.execute_reply": "2022-02-09T13:44:31.973093Z"
    }
   },
   "outputs": [],
   "source": [
    "def select_model(learn_type):\n",
    "    \n",
    "    if learn_type == \"CNN\":\n",
    "        model = CNN_V56(file[\"data/train/gaf\"][0:10],num_of_classes,lr= 0.00002)\n",
    "\n",
    "    if learn_type == \"LSTM\":\n",
    "        model = LSTM_3D_V56(file[\"data/train/gaf\"][0:10],num_of_classes,lr= 0.00002)\n",
    "\n",
    "    if learn_type == \"BI_LSTM\":\n",
    "        model = LSTM_BI_V56(file[\"data/train/gaf\"][0:10],num_of_classes,lr= 0.00002)\n",
    "\n",
    "    return model\n",
    "              "
   ]
  },
  {
   "cell_type": "code",
   "execution_count": 7,
   "metadata": {
    "execution": {
     "iopub.execute_input": "2022-02-09T13:44:31.980437Z",
     "iopub.status.busy": "2022-02-09T13:44:31.979223Z",
     "iopub.status.idle": "2022-02-09T13:44:31.981700Z",
     "shell.execute_reply": "2022-02-09T13:44:31.982656Z"
    }
   },
   "outputs": [],
   "source": [
    "path_save = path+'/experiment_automation/output/'+environ['learn_type']+'/'+dataset.split(\"_\")[0]+\"/\"+environ['train_type']+\"/\"+dataset.split(\"_\")[0]+\"_\"+environ['seed']+\"_\"+environ['tl_datasets']\n",
    "path_save_nb = path_save+\"_out.ipynb\"\n",
    "path_save_log = path_save+\"_out_log2.txt\""
   ]
  },
  {
   "cell_type": "code",
   "execution_count": 8,
   "metadata": {
    "execution": {
     "iopub.execute_input": "2022-02-09T13:44:31.991592Z",
     "iopub.status.busy": "2022-02-09T13:44:31.990355Z",
     "iopub.status.idle": "2022-02-09T13:44:32.078130Z",
     "shell.execute_reply": "2022-02-09T13:44:32.077058Z"
    }
   },
   "outputs": [],
   "source": [
    "from keras.callbacks import LambdaCallback\n",
    "#path_log= path+'/experiment_automation/output/'+environ['learn_type']+'/'+dataset.split(\"_\")[0]+\"/\"+environ['train_type']+\"/\"+dataset.split(\"_\")[0]+\"_\"+environ['seed']+\"_\"+environ['tl_datasets']+\"_log.txt\"\n",
    "txt_log = open(path_save+\"_log.txt\", mode='wt', buffering=1)\n",
    "txt_log.write(\"file created! \\n\")\n",
    "\n",
    "save_op_callback = LambdaCallback(\n",
    "  on_epoch_end = lambda epoch, logs: txt_log.write(\n",
    "    str({'epoch': epoch, 'loss': logs['loss'],'acc': logs['accuracy']}) + '\\n'),\n",
    "                                                           \n",
    ")"
   ]
  },
  {
   "cell_type": "code",
   "execution_count": 9,
   "metadata": {
    "execution": {
     "iopub.execute_input": "2022-02-09T13:44:32.083539Z",
     "iopub.status.busy": "2022-02-09T13:44:32.082380Z",
     "iopub.status.idle": "2022-02-09T13:44:32.087237Z",
     "shell.execute_reply": "2022-02-09T13:44:32.086290Z"
    }
   },
   "outputs": [
    {
     "name": "stdout",
     "output_type": "stream",
     "text": [
      "/workspace/notebooks/experiment_automation/output/BI_LSTM/redd/BB/redd_42__out.ipynb\n"
     ]
    }
   ],
   "source": [
    "print(path_save_nb)"
   ]
  },
  {
   "cell_type": "code",
   "execution_count": 10,
   "metadata": {
    "execution": {
     "iopub.execute_input": "2022-02-09T13:44:32.091903Z",
     "iopub.status.busy": "2022-02-09T13:44:32.090897Z",
     "iopub.status.idle": "2022-02-09T13:44:32.093013Z",
     "shell.execute_reply": "2022-02-09T13:44:32.093842Z"
    }
   },
   "outputs": [],
   "source": [
    "# rm $path_save_log"
   ]
  },
  {
   "cell_type": "code",
   "execution_count": 11,
   "metadata": {
    "execution": {
     "iopub.execute_input": "2022-02-09T13:44:32.098524Z",
     "iopub.status.busy": "2022-02-09T13:44:32.097569Z",
     "iopub.status.idle": "2022-02-09T13:44:32.099555Z",
     "shell.execute_reply": "2022-02-09T13:44:32.100349Z"
    }
   },
   "outputs": [],
   "source": [
    "# %%capture cap \n",
    "\n",
    "# with open(path_save_log,\"wt\") as f:\n",
    "#     f.write(cap.stdout)\n",
    "    \n",
    "# print(\"out capture..\")"
   ]
  },
  {
   "cell_type": "code",
   "execution_count": 12,
   "metadata": {
    "execution": {
     "iopub.execute_input": "2022-02-09T13:44:32.114446Z",
     "iopub.status.busy": "2022-02-09T13:44:32.113189Z",
     "iopub.status.idle": "2022-02-09T14:02:35.055589Z",
     "shell.execute_reply": "2022-02-09T14:02:35.056410Z"
    },
    "id": "vqA9NwOqKrb5",
    "jupyter": {
     "outputs_hidden": true
    },
    "tags": []
   },
   "outputs": [
    {
     "name": "stdout",
     "output_type": "stream",
     "text": [
      "Normal way\n",
      "[0 1 2 3 4 5 6 7 8 9]\n"
     ]
    },
    {
     "name": "stderr",
     "output_type": "stream",
     "text": [
      "2022-02-09 13:44:32.128115: I tensorflow/core/common_runtime/gpu/gpu_device.cc:1734] Found device 0 with properties: \n",
      "pciBusID: 0000:21:00.0 name: NVIDIA GeForce RTX 2080 Ti computeCapability: 7.5\n",
      "coreClock: 1.545GHz coreCount: 68 deviceMemorySize: 10.76GiB deviceMemoryBandwidth: 573.69GiB/s\n",
      "2022-02-09 13:44:32.128455: I tensorflow/core/common_runtime/gpu/gpu_device.cc:1872] Adding visible gpu devices: 0\n",
      "2022-02-09 13:44:32.128516: I tensorflow/stream_executor/platform/default/dso_loader.cc:54] Successfully opened dynamic library libcudart.so.11.0\n",
      "2022-02-09 13:44:32.489638: I tensorflow/core/common_runtime/gpu/gpu_device.cc:1258] Device interconnect StreamExecutor with strength 1 edge matrix:\n",
      "2022-02-09 13:44:32.489672: I tensorflow/core/common_runtime/gpu/gpu_device.cc:1264]      0 \n",
      "2022-02-09 13:44:32.489679: I tensorflow/core/common_runtime/gpu/gpu_device.cc:1277] 0:   N \n",
      "2022-02-09 13:44:32.490230: I tensorflow/core/common_runtime/gpu/gpu_device.cc:1418] Created TensorFlow device (/job:localhost/replica:0/task:0/device:GPU:0 with 9649 MB memory) -> physical GPU (device: 0, name: NVIDIA GeForce RTX 2080 Ti, pci bus id: 0000:21:00.0, compute capability: 7.5)\n",
      "2022-02-09 13:44:32.490566: I tensorflow/core/common_runtime/process_util.cc:146] Creating new thread pool with default inter op setting: 20. Tune using inter_op_parallelism_threads for best performance.\n"
     ]
    },
    {
     "name": "stdout",
     "output_type": "stream",
     "text": [
      "WARNING:tensorflow:From /usr/local/lib/python3.8/dist-packages/tensorflow/python/ops/array_ops.py:5043: calling gather (from tensorflow.python.ops.array_ops) with validate_indices is deprecated and will be removed in a future version.\n",
      "Instructions for updating:\n",
      "The `validate_indices` argument has no effect. Indices are always validated on CPU and never validated on GPU.\n",
      "Epoch 1/150\n"
     ]
    },
    {
     "name": "stderr",
     "output_type": "stream",
     "text": [
      "2022-02-09 13:44:33.263772: I tensorflow/compiler/mlir/mlir_graph_optimization_pass.cc:176] None of the MLIR Optimization Passes are enabled (registered 2)\n",
      "2022-02-09 13:44:33.284622: I tensorflow/core/platform/profile_utils/cpu_utils.cc:114] CPU Frequency: 3299990000 Hz\n",
      "2022-02-09 13:44:36.841632: I tensorflow/stream_executor/platform/default/dso_loader.cc:54] Successfully opened dynamic library libcudnn.so.8\n",
      "2022-02-09 13:44:37.317287: I tensorflow/stream_executor/cuda/cuda_dnn.cc:380] Loaded cuDNN version 8202\n",
      "2022-02-09 13:44:37.808587: I tensorflow/stream_executor/platform/default/dso_loader.cc:54] Successfully opened dynamic library libcublas.so.11\n",
      "2022-02-09 13:44:38.257676: I tensorflow/stream_executor/platform/default/dso_loader.cc:54] Successfully opened dynamic library libcublasLt.so.11\n"
     ]
    },
    {
     "name": "stdout",
     "output_type": "stream",
     "text": [
      "124/124 - 13s - loss: 1.5294 - accuracy: 0.3565\n",
      "Epoch 2/150\n",
      "124/124 - 7s - loss: 1.3213 - accuracy: 0.4299\n",
      "Epoch 3/150\n",
      "124/124 - 7s - loss: 1.1932 - accuracy: 0.4360\n",
      "Epoch 4/150\n",
      "124/124 - 7s - loss: 1.1174 - accuracy: 0.4978\n",
      "Epoch 5/150\n",
      "124/124 - 7s - loss: 1.0491 - accuracy: 0.5037\n",
      "Epoch 6/150\n",
      "124/124 - 7s - loss: 0.9992 - accuracy: 0.5402\n",
      "Epoch 7/150\n",
      "124/124 - 7s - loss: 0.9445 - accuracy: 0.5627\n",
      "Epoch 8/150\n",
      "124/124 - 7s - loss: 0.9154 - accuracy: 0.5571\n",
      "Epoch 9/150\n",
      "124/124 - 7s - loss: 0.8819 - accuracy: 0.5779\n",
      "Epoch 10/150\n",
      "124/124 - 7s - loss: 0.8502 - accuracy: 0.5913\n",
      "Epoch 11/150\n",
      "124/124 - 7s - loss: 0.8215 - accuracy: 0.6037\n",
      "Epoch 12/150\n",
      "124/124 - 7s - loss: 0.8041 - accuracy: 0.6073\n",
      "Epoch 13/150\n",
      "124/124 - 7s - loss: 0.7847 - accuracy: 0.6301\n",
      "Epoch 14/150\n",
      "124/124 - 7s - loss: 0.7623 - accuracy: 0.6468\n",
      "Epoch 15/150\n",
      "124/124 - 7s - loss: 0.7449 - accuracy: 0.6445\n",
      "Epoch 16/150\n",
      "124/124 - 7s - loss: 0.7267 - accuracy: 0.6532\n",
      "Epoch 17/150\n",
      "124/124 - 7s - loss: 0.7048 - accuracy: 0.6704\n",
      "Epoch 18/150\n",
      "124/124 - 7s - loss: 0.6869 - accuracy: 0.6813\n",
      "Epoch 19/150\n",
      "124/124 - 7s - loss: 0.6735 - accuracy: 0.6843\n",
      "Epoch 20/150\n",
      "124/124 - 7s - loss: 0.6583 - accuracy: 0.6891\n",
      "Epoch 21/150\n",
      "124/124 - 7s - loss: 0.6572 - accuracy: 0.6772\n",
      "Epoch 22/150\n",
      "124/124 - 7s - loss: 0.6371 - accuracy: 0.6896\n",
      "Epoch 23/150\n",
      "124/124 - 7s - loss: 0.6222 - accuracy: 0.6967\n",
      "Epoch 24/150\n",
      "124/124 - 7s - loss: 0.6213 - accuracy: 0.6988\n",
      "Epoch 25/150\n",
      "124/124 - 7s - loss: 0.5991 - accuracy: 0.7041\n",
      "Epoch 26/150\n",
      "124/124 - 7s - loss: 0.5948 - accuracy: 0.7132\n",
      "Epoch 27/150\n",
      "124/124 - 7s - loss: 0.5831 - accuracy: 0.7170\n",
      "Epoch 28/150\n",
      "124/124 - 7s - loss: 0.5779 - accuracy: 0.7228\n",
      "Epoch 29/150\n",
      "124/124 - 7s - loss: 0.5598 - accuracy: 0.7256\n",
      "Epoch 30/150\n",
      "124/124 - 7s - loss: 0.5554 - accuracy: 0.7269\n",
      "Epoch 31/150\n",
      "124/124 - 7s - loss: 0.5494 - accuracy: 0.7299\n",
      "Epoch 32/150\n",
      "124/124 - 7s - loss: 0.5339 - accuracy: 0.7297\n",
      "Epoch 33/150\n",
      "124/124 - 7s - loss: 0.5419 - accuracy: 0.7330\n",
      "Epoch 34/150\n",
      "124/124 - 7s - loss: 0.5179 - accuracy: 0.7444\n",
      "Epoch 35/150\n",
      "124/124 - 7s - loss: 0.5033 - accuracy: 0.7510\n",
      "Epoch 36/150\n",
      "124/124 - 7s - loss: 0.4962 - accuracy: 0.7532\n",
      "Epoch 37/150\n",
      "124/124 - 7s - loss: 0.4972 - accuracy: 0.7504\n",
      "Epoch 38/150\n",
      "124/124 - 7s - loss: 0.4937 - accuracy: 0.7489\n",
      "Epoch 39/150\n",
      "124/124 - 7s - loss: 0.4787 - accuracy: 0.7530\n",
      "Epoch 40/150\n",
      "124/124 - 7s - loss: 0.4670 - accuracy: 0.7591\n",
      "Epoch 41/150\n",
      "124/124 - 7s - loss: 0.4734 - accuracy: 0.7578\n",
      "Epoch 42/150\n",
      "124/124 - 7s - loss: 0.4711 - accuracy: 0.7555\n",
      "Epoch 43/150\n",
      "124/124 - 7s - loss: 0.4638 - accuracy: 0.7631\n",
      "Epoch 44/150\n",
      "124/124 - 7s - loss: 0.4687 - accuracy: 0.7499\n",
      "Epoch 45/150\n",
      "124/124 - 7s - loss: 0.4469 - accuracy: 0.7664\n",
      "Epoch 46/150\n",
      "124/124 - 7s - loss: 0.4448 - accuracy: 0.7662\n",
      "Epoch 47/150\n",
      "124/124 - 7s - loss: 0.4364 - accuracy: 0.7659\n",
      "Epoch 48/150\n",
      "124/124 - 7s - loss: 0.4422 - accuracy: 0.7634\n",
      "Epoch 49/150\n",
      "124/124 - 7s - loss: 0.4243 - accuracy: 0.7770\n",
      "Epoch 50/150\n",
      "124/124 - 7s - loss: 0.4207 - accuracy: 0.7700\n",
      "Epoch 51/150\n",
      "124/124 - 7s - loss: 0.4194 - accuracy: 0.7758\n",
      "Epoch 52/150\n",
      "124/124 - 7s - loss: 0.4166 - accuracy: 0.7791\n",
      "Epoch 53/150\n",
      "124/124 - 7s - loss: 0.4043 - accuracy: 0.7846\n",
      "Epoch 54/150\n",
      "124/124 - 7s - loss: 0.4130 - accuracy: 0.7768\n",
      "Epoch 55/150\n",
      "124/124 - 7s - loss: 0.3941 - accuracy: 0.7857\n",
      "Epoch 56/150\n",
      "124/124 - 7s - loss: 0.4010 - accuracy: 0.7735\n",
      "Epoch 57/150\n",
      "124/124 - 7s - loss: 0.4080 - accuracy: 0.7786\n",
      "Epoch 58/150\n",
      "124/124 - 7s - loss: 0.3961 - accuracy: 0.7826\n",
      "Epoch 59/150\n",
      "124/124 - 7s - loss: 0.3774 - accuracy: 0.7938\n",
      "Epoch 60/150\n",
      "124/124 - 7s - loss: 0.3889 - accuracy: 0.7808\n",
      "Epoch 61/150\n",
      "124/124 - 7s - loss: 0.3833 - accuracy: 0.7857\n",
      "Epoch 62/150\n",
      "124/124 - 7s - loss: 0.3719 - accuracy: 0.7953\n",
      "Epoch 63/150\n",
      "124/124 - 7s - loss: 0.3681 - accuracy: 0.7963\n",
      "Epoch 64/150\n",
      "124/124 - 7s - loss: 0.3826 - accuracy: 0.7859\n",
      "Epoch 65/150\n",
      "124/124 - 7s - loss: 0.3639 - accuracy: 0.7953\n",
      "Epoch 66/150\n",
      "124/124 - 7s - loss: 0.3594 - accuracy: 0.8004\n",
      "Epoch 67/150\n",
      "124/124 - 7s - loss: 0.3588 - accuracy: 0.7955\n",
      "Epoch 68/150\n",
      "124/124 - 7s - loss: 0.3648 - accuracy: 0.8001\n",
      "Epoch 69/150\n",
      "124/124 - 7s - loss: 0.3584 - accuracy: 0.7943\n",
      "Epoch 70/150\n",
      "124/124 - 7s - loss: 0.3468 - accuracy: 0.8031\n",
      "Epoch 71/150\n",
      "124/124 - 7s - loss: 0.3490 - accuracy: 0.8026\n",
      "Epoch 72/150\n",
      "124/124 - 7s - loss: 0.3478 - accuracy: 0.8036\n",
      "Epoch 73/150\n",
      "124/124 - 7s - loss: 0.3359 - accuracy: 0.8125\n",
      "Epoch 74/150\n",
      "124/124 - 7s - loss: 0.3459 - accuracy: 0.7986\n",
      "Epoch 75/150\n",
      "124/124 - 7s - loss: 0.3397 - accuracy: 0.8069\n",
      "Epoch 76/150\n",
      "124/124 - 7s - loss: 0.3291 - accuracy: 0.8110\n",
      "Epoch 77/150\n",
      "124/124 - 7s - loss: 0.3313 - accuracy: 0.8085\n",
      "Epoch 78/150\n",
      "124/124 - 7s - loss: 0.3197 - accuracy: 0.8161\n",
      "Epoch 79/150\n",
      "124/124 - 7s - loss: 0.3267 - accuracy: 0.8112\n",
      "Epoch 80/150\n",
      "124/124 - 7s - loss: 0.3184 - accuracy: 0.8133\n",
      "Epoch 81/150\n",
      "124/124 - 7s - loss: 0.3232 - accuracy: 0.8107\n",
      "Epoch 82/150\n",
      "124/124 - 7s - loss: 0.3231 - accuracy: 0.8112\n",
      "Epoch 83/150\n",
      "124/124 - 7s - loss: 0.3188 - accuracy: 0.8178\n",
      "Epoch 84/150\n",
      "124/124 - 7s - loss: 0.3169 - accuracy: 0.8204\n",
      "Epoch 85/150\n",
      "124/124 - 7s - loss: 0.3095 - accuracy: 0.8183\n",
      "Epoch 86/150\n",
      "124/124 - 7s - loss: 0.3066 - accuracy: 0.8224\n",
      "Epoch 87/150\n",
      "124/124 - 7s - loss: 0.2961 - accuracy: 0.8262\n",
      "Epoch 88/150\n",
      "124/124 - 7s - loss: 0.2944 - accuracy: 0.8254\n",
      "Epoch 89/150\n",
      "124/124 - 7s - loss: 0.3010 - accuracy: 0.8242\n",
      "Epoch 90/150\n",
      "124/124 - 7s - loss: 0.3022 - accuracy: 0.8186\n",
      "Epoch 91/150\n",
      "124/124 - 7s - loss: 0.2898 - accuracy: 0.8270\n",
      "Epoch 92/150\n",
      "124/124 - 7s - loss: 0.2847 - accuracy: 0.8247\n",
      "Epoch 93/150\n",
      "124/124 - 7s - loss: 0.2978 - accuracy: 0.8204\n",
      "Epoch 94/150\n",
      "124/124 - 7s - loss: 0.2785 - accuracy: 0.8376\n",
      "Epoch 95/150\n",
      "124/124 - 7s - loss: 0.2880 - accuracy: 0.8351\n",
      "Epoch 96/150\n",
      "124/124 - 7s - loss: 0.2840 - accuracy: 0.8341\n",
      "Epoch 97/150\n",
      "124/124 - 7s - loss: 0.2847 - accuracy: 0.8346\n",
      "Epoch 98/150\n",
      "124/124 - 7s - loss: 0.2732 - accuracy: 0.8353\n",
      "Epoch 99/150\n",
      "124/124 - 7s - loss: 0.2786 - accuracy: 0.8346\n",
      "Epoch 100/150\n",
      "124/124 - 7s - loss: 0.2745 - accuracy: 0.8386\n",
      "Epoch 101/150\n",
      "124/124 - 7s - loss: 0.2661 - accuracy: 0.8432\n",
      "Epoch 102/150\n",
      "124/124 - 7s - loss: 0.2851 - accuracy: 0.8353\n",
      "Epoch 103/150\n",
      "124/124 - 7s - loss: 0.2673 - accuracy: 0.8394\n",
      "Epoch 104/150\n",
      "124/124 - 7s - loss: 0.2561 - accuracy: 0.8442\n",
      "Epoch 105/150\n",
      "124/124 - 7s - loss: 0.2546 - accuracy: 0.8485\n",
      "Epoch 106/150\n",
      "124/124 - 7s - loss: 0.2544 - accuracy: 0.8472\n",
      "Epoch 107/150\n",
      "124/124 - 7s - loss: 0.2583 - accuracy: 0.8434\n",
      "Epoch 108/150\n",
      "124/124 - 7s - loss: 0.2526 - accuracy: 0.8432\n",
      "Epoch 109/150\n",
      "124/124 - 7s - loss: 0.2533 - accuracy: 0.8510\n",
      "Epoch 110/150\n",
      "124/124 - 7s - loss: 0.2514 - accuracy: 0.8465\n",
      "Epoch 111/150\n",
      "124/124 - 7s - loss: 0.2570 - accuracy: 0.8447\n",
      "Epoch 112/150\n",
      "124/124 - 7s - loss: 0.2433 - accuracy: 0.8477\n",
      "Epoch 113/150\n",
      "124/124 - 7s - loss: 0.2526 - accuracy: 0.8482\n",
      "Epoch 114/150\n",
      "124/124 - 7s - loss: 0.2535 - accuracy: 0.8409\n",
      "Epoch 115/150\n",
      "124/124 - 7s - loss: 0.2590 - accuracy: 0.8470\n",
      "Epoch 116/150\n",
      "124/124 - 7s - loss: 0.2392 - accuracy: 0.8536\n",
      "Epoch 117/150\n",
      "124/124 - 7s - loss: 0.2353 - accuracy: 0.8515\n",
      "Epoch 118/150\n",
      "124/124 - 7s - loss: 0.2355 - accuracy: 0.8546\n",
      "Epoch 119/150\n",
      "124/124 - 7s - loss: 0.2453 - accuracy: 0.8465\n",
      "Epoch 120/150\n",
      "124/124 - 7s - loss: 0.2317 - accuracy: 0.8594\n",
      "Epoch 121/150\n",
      "124/124 - 7s - loss: 0.2595 - accuracy: 0.8406\n",
      "Epoch 122/150\n",
      "124/124 - 7s - loss: 0.2231 - accuracy: 0.8589\n",
      "Epoch 123/150\n",
      "124/124 - 7s - loss: 0.2196 - accuracy: 0.8617\n",
      "Epoch 124/150\n",
      "124/124 - 7s - loss: 0.2277 - accuracy: 0.8563\n",
      "Epoch 125/150\n",
      "124/124 - 7s - loss: 0.2166 - accuracy: 0.8683\n",
      "Epoch 126/150\n",
      "124/124 - 7s - loss: 0.2182 - accuracy: 0.8634\n",
      "Epoch 127/150\n",
      "124/124 - 7s - loss: 0.2171 - accuracy: 0.8637\n",
      "Epoch 128/150\n",
      "124/124 - 7s - loss: 0.2281 - accuracy: 0.8574\n",
      "Epoch 129/150\n",
      "124/124 - 7s - loss: 0.2309 - accuracy: 0.8569\n",
      "Epoch 130/150\n",
      "124/124 - 7s - loss: 0.2249 - accuracy: 0.8599\n",
      "Epoch 131/150\n",
      "124/124 - 7s - loss: 0.2059 - accuracy: 0.8683\n",
      "Epoch 132/150\n",
      "124/124 - 7s - loss: 0.2106 - accuracy: 0.8665\n",
      "Epoch 133/150\n",
      "124/124 - 7s - loss: 0.2099 - accuracy: 0.8680\n",
      "Epoch 134/150\n",
      "124/124 - 7s - loss: 0.2083 - accuracy: 0.8657\n",
      "Epoch 135/150\n",
      "124/124 - 7s - loss: 0.2028 - accuracy: 0.8703\n",
      "Epoch 136/150\n",
      "124/124 - 7s - loss: 0.2221 - accuracy: 0.8632\n",
      "Epoch 137/150\n",
      "124/124 - 7s - loss: 0.2163 - accuracy: 0.8660\n",
      "Epoch 138/150\n",
      "124/124 - 7s - loss: 0.2020 - accuracy: 0.8728\n",
      "Epoch 139/150\n",
      "124/124 - 7s - loss: 0.1980 - accuracy: 0.8769\n",
      "Epoch 140/150\n",
      "124/124 - 7s - loss: 0.1996 - accuracy: 0.8748\n",
      "Epoch 141/150\n",
      "124/124 - 7s - loss: 0.2108 - accuracy: 0.8655\n",
      "Epoch 142/150\n",
      "124/124 - 7s - loss: 0.1986 - accuracy: 0.8728\n",
      "Epoch 143/150\n",
      "124/124 - 7s - loss: 0.1939 - accuracy: 0.8751\n",
      "Epoch 144/150\n",
      "124/124 - 7s - loss: 0.2084 - accuracy: 0.8736\n",
      "Epoch 145/150\n",
      "124/124 - 7s - loss: 0.1894 - accuracy: 0.8804\n",
      "Epoch 146/150\n",
      "124/124 - 7s - loss: 0.1848 - accuracy: 0.8852\n",
      "Epoch 147/150\n",
      "124/124 - 7s - loss: 0.1890 - accuracy: 0.8766\n",
      "Epoch 148/150\n",
      "124/124 - 7s - loss: 0.1843 - accuracy: 0.8850\n",
      "Epoch 149/150\n",
      "124/124 - 7s - loss: 0.1836 - accuracy: 0.8794\n",
      "Epoch 150/150\n",
      "124/124 - 7s - loss: 0.1997 - accuracy: 0.8728\n",
      "31/31 - 1s\n",
      "Normalized confusion matrix\n",
      "                  precision    recall  f1-score   support\n",
      "\n",
      "  fridge/freezer       0.81      0.88      0.84       146\n",
      "electric furnace       0.90      0.80      0.85        92\n",
      "           light       0.86      0.76      0.81       351\n",
      "       microwave       0.83      0.98      0.90        55\n",
      "         sockets       0.78      0.84      0.81       343\n",
      "\n",
      "        accuracy                           0.82       987\n",
      "       macro avg       0.84      0.85      0.84       987\n",
      "    weighted avg       0.83      0.82      0.82       987\n",
      "\n"
     ]
    },
    {
     "name": "stderr",
     "output_type": "stream",
     "text": [
      "2022-02-09 14:02:24.611310: W tensorflow/python/util/util.cc:348] Sets are not currently considered sequences, but this may change in the future, so consider avoiding using them.\n",
      "WARNING:absl:Found untraced functions such as lstm_cell_1_layer_call_fn, lstm_cell_1_layer_call_and_return_conditional_losses, lstm_cell_2_layer_call_fn, lstm_cell_2_layer_call_and_return_conditional_losses, lstm_cell_4_layer_call_fn while saving (showing 5 of 20). These functions will not be directly callable after loading.\n"
     ]
    },
    {
     "name": "stdout",
     "output_type": "stream",
     "text": [
      "INFO:tensorflow:Assets written to: /workspace/notebooks/models/BI_LSTM/redd_42/assets\n"
     ]
    },
    {
     "name": "stderr",
     "output_type": "stream",
     "text": [
      "INFO:tensorflow:Assets written to: /workspace/notebooks/models/BI_LSTM/redd_42/assets\n"
     ]
    },
    {
     "data": {
      "image/png": "[encoded data removed]",
      "text/plain": [
       "<Figure size 720x720 with 2 Axes>"
      ]
     },
     "metadata": {
      "needs_background": "light"
     },
     "output_type": "display_data"
    }
   ],
   "source": [
    "# %%capture cap --no-stderr\n",
    "\n",
    "\n",
    "if environ['train_type'] == \"BB\":\n",
    "\n",
    "    #define generator\n",
    "    train_gen = HDF5ImageGenerator(\n",
    "        src= path_data,\n",
    "        X_key=\"data/train/gaf\",\n",
    "        y_key=\"labels/train/gaf\",\n",
    "        classes_key=\"appliances/classes\",\n",
    "        labels_encoding=\"hot\",\n",
    "        shuffle=True,\n",
    "        batch_size=int(environ['batch_size']),\n",
    "        num_classes=num_of_classes,\n",
    "        mode=\"train\",\n",
    "        )\n",
    "    \n",
    "    model = select_model(environ['learn_type'])\n",
    "    \n",
    "    txt_log.write(\"fitting BB model: \\n\")\n",
    "    \n",
    "    model.fit(\n",
    "        train_gen,\n",
    "        verbose=2,\n",
    "        epochs=int(environ['epochs']),\n",
    "        class_weight=d_class_weights,\n",
    "        callbacks = [save_op_callback],\n",
    "    )\n",
    "    \n",
    "    txt_log.write(\"finished fitting BB model: \\n\")\n",
    "\n",
    "    evaluate_model(model,x_test,y_test,appliances)\n",
    "    \n",
    "    if environ['save_model']==\"True\":\n",
    "\n",
    "        path_model_save = path+\"/models/\"+environ['learn_type']+\"/\"+dataset.split(\"_\")[0]+\"_\"+dataset.split(\"_R\")[1][0:2]\n",
    "        model.save(path_model_save)\n",
    "        txt_log.write(\"model saved to:\"+\"/models/\"+environ['learn_type']+\"/\"+dataset.split(\"_\")[0]+\"_\"+dataset.split(\"_R\")[1][0:2]+\" \\n\")\n",
    "        \n",
    "        \n",
    "# with open(path_save+\"_out_log.txt\" as f:\n",
    "#     f.write(cap.stdout)\n"
   ]
  },
  {
   "cell_type": "code",
   "execution_count": 13,
   "metadata": {
    "collapsed": true,
    "execution": {
     "iopub.execute_input": "2022-02-09T14:02:35.061315Z",
     "iopub.status.busy": "2022-02-09T14:02:35.060911Z",
     "iopub.status.idle": "2022-02-09T14:02:35.064282Z",
     "shell.execute_reply": "2022-02-09T14:02:35.064723Z"
    }
   },
   "outputs": [],
   "source": [
    "#model = keras.models.load_model(path_model1)\n",
    "# model_used = model"
   ]
  },
  {
   "cell_type": "code",
   "execution_count": 14,
   "metadata": {
    "collapsed": true,
    "execution": {
     "iopub.execute_input": "2022-02-09T14:02:35.069978Z",
     "iopub.status.busy": "2022-02-09T14:02:35.069461Z",
     "iopub.status.idle": "2022-02-09T14:02:35.072458Z",
     "shell.execute_reply": "2022-02-09T14:02:35.073050Z"
    },
    "jupyter": {
     "outputs_hidden": true
    },
    "tags": []
   },
   "outputs": [],
   "source": [
    "# evaluate_model(model,x_test,y_test,appliances)"
   ]
  },
  {
   "cell_type": "code",
   "execution_count": 15,
   "metadata": {
    "collapsed": true,
    "execution": {
     "iopub.execute_input": "2022-02-09T14:02:35.090800Z",
     "iopub.status.busy": "2022-02-09T14:02:35.090001Z",
     "iopub.status.idle": "2022-02-09T14:02:35.092869Z",
     "shell.execute_reply": "2022-02-09T14:02:35.093307Z"
    }
   },
   "outputs": [],
   "source": [
    "# datasets =[\n",
    "#     \"ukdale_gen_GASF_13m_100S5X12A54480_R82_80-20\"\n",
    "# ]\n",
    "\n",
    "if environ['train_type'] == \"TL\": \n",
    "    models = environ['tl_datasets'].replace(\" \",\"\").split(\",\")\n",
    "    #model = [\"base\"]\n",
    "    \n",
    "    for model in models:\n",
    "    \n",
    "        file_name = dataset\n",
    "        \n",
    "        datasetTL = model\n",
    "        \n",
    "        seed = dataset.split(\"_R\")[1][0:2]\n",
    "        \n",
    "        print(\"using dataset data\",dataset.split(\"_\")[0],\"training on model\",model,\"seed\",environ['seed'])\n",
    "        txt_log.write(\"starting \"+dataset.split(\"_\")[0]+\" training on model \"+model+\" seed \"+environ['seed']+\"\\n\")\n",
    "\n",
    "\n",
    "        tf.keras.backend.clear_session()\n",
    "\n",
    "\n",
    "        #read the file\n",
    "        path = str(pathlib.Path().resolve())\n",
    "        path_data = f\"{path}\"\"/data/\"f\"{file_name}\"\"/\"f\"{file_name}\"\".hdf5\"\n",
    "        file = h5py.File(path_data,\"r+\")\n",
    "\n",
    "\n",
    "        print(\"reading data, printing stats: \")\n",
    "        x_test,y_test,d_class_weights,num_of_classes,appliances = get_data(file)\n",
    "        print(\"loading model\")\n",
    "        \n",
    "        model_seed = 42\n",
    "        model_used = create_tl_model(model,environ['learn_type'],model_seed,path,num_of_classes)\n",
    "                \n",
    "        train_gen = HDF5ImageGenerator(\n",
    "            src= path_data,\n",
    "            X_key=\"data/train/gaf\",\n",
    "            y_key=\"labels/train/gaf\",\n",
    "            classes_key=\"appliances/classes\",\n",
    "            labels_encoding=\"hot\",\n",
    "            shuffle=True,\n",
    "            batch_size=int(environ['batch_size']),\n",
    "            num_classes=num_of_classes,\n",
    "            mode=\"train\",\n",
    "            )\n",
    "\n",
    "        model_used.fit(\n",
    "            train_gen,\n",
    "            verbose=2,\n",
    "            epochs=int(environ['epochs']),\n",
    "            class_weight=d_class_weights,\n",
    "            callbacks = [save_op_callback]\n",
    "            #workers = 6,\n",
    "        )\n",
    "        \n",
    "        txt_log.write(\"finished \"+dataset.split(\"_\")[0]+\" training on model \"+model+\" seed \"+environ['seed']+\"\\n\")\n",
    "\n",
    "\n",
    "        evaluate_model(model_used,x_test,y_test,appliances)\n",
    "        \n",
    "\n",
    "\n",
    "\n",
    "        #del model_used\n",
    "\n"
   ]
  },
  {
   "cell_type": "code",
   "execution_count": 16,
   "metadata": {
    "execution": {
     "iopub.execute_input": "2022-02-09T14:02:35.098534Z",
     "iopub.status.busy": "2022-02-09T14:02:35.098010Z",
     "iopub.status.idle": "2022-02-09T14:02:35.100919Z",
     "shell.execute_reply": "2022-02-09T14:02:35.101355Z"
    }
   },
   "outputs": [],
   "source": [
    "txt_log.close()"
   ]
  },
  {
   "cell_type": "code",
   "execution_count": null,
   "metadata": {},
   "outputs": [],
   "source": []
  }
 ],
 "metadata": {
  "colab": {
   "authorship_tag": "ABX9TyMej4PvP65qsLng7TnQKWA4",
   "name": "LSTM-gen",
   "provenance": []
  },
  "kernelspec": {
   "display_name": "Python 3 (ipykernel)",
   "language": "python",
   "name": "python3"
  },
  "language_info": {
   "codemirror_mode": {
    "name": "ipython",
    "version": 3
   },
   "file_extension": ".py",
   "mimetype": "text/x-python",
   "name": "python",
   "nbconvert_exporter": "python",
   "pygments_lexer": "ipython3",
   "version": "3.8.10"
  }
 },
 "nbformat": 4,
 "nbformat_minor": 4
}
