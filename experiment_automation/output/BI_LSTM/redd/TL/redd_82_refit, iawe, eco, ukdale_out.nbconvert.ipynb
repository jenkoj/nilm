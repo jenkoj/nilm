{
 "cells": [
  {
   "cell_type": "code",
   "execution_count": 1,
   "metadata": {
    "execution": {
     "iopub.execute_input": "2022-02-11T19:47:38.667410Z",
     "iopub.status.busy": "2022-02-11T19:47:38.665886Z",
     "iopub.status.idle": "2022-02-11T19:47:40.359967Z",
     "shell.execute_reply": "2022-02-11T19:47:40.358664Z"
    },
    "id": "WqUfHWgtJxtu",
    "scrolled": true,
    "tags": []
   },
   "outputs": [
    {
     "name": "stderr",
     "output_type": "stream",
     "text": [
      "2022-02-11 19:47:39.492350: I tensorflow/stream_executor/platform/default/dso_loader.cc:54] Successfully opened dynamic library libcudart.so.11.0\n"
     ]
    },
    {
     "name": "stdout",
     "output_type": "stream",
     "text": [
      "2.5.0\n",
      "Num GPUs Available:  1\n"
     ]
    },
    {
     "name": "stderr",
     "output_type": "stream",
     "text": [
      "2022-02-11 19:47:40.293426: I tensorflow/stream_executor/platform/default/dso_loader.cc:54] Successfully opened dynamic library libcuda.so.1\n",
      "2022-02-11 19:47:40.339634: I tensorflow/core/common_runtime/gpu/gpu_device.cc:1734] Found device 0 with properties: \n",
      "pciBusID: 0000:21:00.0 name: NVIDIA GeForce RTX 2080 Ti computeCapability: 7.5\n",
      "coreClock: 1.545GHz coreCount: 68 deviceMemorySize: 10.76GiB deviceMemoryBandwidth: 573.69GiB/s\n",
      "2022-02-11 19:47:40.339682: I tensorflow/stream_executor/platform/default/dso_loader.cc:54] Successfully opened dynamic library libcudart.so.11.0\n",
      "2022-02-11 19:47:40.344284: I tensorflow/stream_executor/platform/default/dso_loader.cc:54] Successfully opened dynamic library libcublas.so.11\n",
      "2022-02-11 19:47:40.344354: I tensorflow/stream_executor/platform/default/dso_loader.cc:54] Successfully opened dynamic library libcublasLt.so.11\n",
      "2022-02-11 19:47:40.346390: I tensorflow/stream_executor/platform/default/dso_loader.cc:54] Successfully opened dynamic library libcufft.so.10\n",
      "2022-02-11 19:47:40.346733: I tensorflow/stream_executor/platform/default/dso_loader.cc:54] Successfully opened dynamic library libcurand.so.10\n",
      "2022-02-11 19:47:40.347605: I tensorflow/stream_executor/platform/default/dso_loader.cc:54] Successfully opened dynamic library libcutensor.so.1\n",
      "2022-02-11 19:47:40.348256: I tensorflow/stream_executor/platform/default/dso_loader.cc:54] Successfully opened dynamic library libcusolver.so.11\n",
      "2022-02-11 19:47:40.349288: I tensorflow/stream_executor/platform/default/dso_loader.cc:54] Successfully opened dynamic library libcusparse.so.11\n",
      "2022-02-11 19:47:40.349453: I tensorflow/stream_executor/platform/default/dso_loader.cc:54] Successfully opened dynamic library libcudnn.so.8\n",
      "2022-02-11 19:47:40.349841: I tensorflow/core/common_runtime/gpu/gpu_device.cc:1872] Adding visible gpu devices: 0\n"
     ]
    }
   ],
   "source": [
    "import h5py\n",
    "import numpy as np\n",
    "\n",
    "from sklearn.model_selection import train_test_split\n",
    "from sklearn.metrics import classification_report, confusion_matrix\n",
    "import matplotlib.pyplot as plt\n",
    "import itertools \n",
    "import pyts\n",
    "from pyts.approximation import PiecewiseAggregateApproximation\n",
    "\n",
    "from sklearn.utils import class_weight\n",
    "\n",
    "import pathlib\n",
    "import tensorflow as tf\n",
    "from tensorflow import keras\n",
    "from tensorflow.keras import layers, optimizers\n",
    "from tensorflow.keras.layers import Convolution2D,Conv2D, Dense,Dropout, Flatten, Activation, MaxPooling2D, Input, Conv1D, GlobalAveragePooling1D, TimeDistributed, GRU, LSTM\n",
    "\n",
    "print(tf.__version__)\n",
    "print(\"Num GPUs Available: \", len(tf.config.list_physical_devices('GPU')))\n",
    "gpus = tf.config.experimental.list_physical_devices('GPU')\n",
    "\n",
    "try:\n",
    "    for gpu in gpus:\n",
    "        tf.config.experimental.set_memory_growth(gpu, True)\n",
    "except RuntimeError as e:\n",
    "    print(e)"
   ]
  },
  {
   "cell_type": "code",
   "execution_count": 2,
   "metadata": {
    "execution": {
     "iopub.execute_input": "2022-02-11T19:47:40.366458Z",
     "iopub.status.busy": "2022-02-11T19:47:40.365177Z",
     "iopub.status.idle": "2022-02-11T19:47:40.370443Z",
     "shell.execute_reply": "2022-02-11T19:47:40.369430Z"
    }
   },
   "outputs": [
    {
     "name": "stdout",
     "output_type": "stream",
     "text": [
      "redd_gen_GASF_13m_100S5X5A4934_R82_80-20\n"
     ]
    }
   ],
   "source": [
    "from os import environ\n",
    "dataset = environ['dataset']\n",
    "print(dataset)"
   ]
  },
  {
   "cell_type": "code",
   "execution_count": 3,
   "metadata": {
    "execution": {
     "iopub.execute_input": "2022-02-11T19:47:40.377489Z",
     "iopub.status.busy": "2022-02-11T19:47:40.376039Z",
     "iopub.status.idle": "2022-02-11T19:47:40.380280Z",
     "shell.execute_reply": "2022-02-11T19:47:40.381295Z"
    }
   },
   "outputs": [],
   "source": [
    "#my defs \n",
    "from modules.models import  LSTM_3D_V56, CNN_V56,LSTM_BI_V56\n",
    "from modules.tools import my_print, plot_confusion_matrix_norm, get_data,get_data_split, evaluate_model, create_tl_model\n",
    "from modules.HDF5ImageGenerator import HDF5ImageGenerator"
   ]
  },
  {
   "cell_type": "code",
   "execution_count": 4,
   "metadata": {
    "execution": {
     "iopub.execute_input": "2022-02-11T19:47:40.391542Z",
     "iopub.status.busy": "2022-02-11T19:47:40.390231Z",
     "iopub.status.idle": "2022-02-11T19:47:40.393919Z",
     "shell.execute_reply": "2022-02-11T19:47:40.393028Z"
    },
    "id": "RT1vwq7-KOtB"
   },
   "outputs": [],
   "source": [
    "#LOAD DATASET\n",
    "#file_name = \"ukdale_gen_GASF_13m_100S5X12A54480\"\n",
    "#file_name = \"refit_gen_GASF_13m_100S5X_15A166006\"\n",
    "file_name = \"refit_gen_GASF_13m_100S5X_15A166006_R42-80-20\"\n",
    "#file_name = \"refit_gen_GASF_13m_100S5X_15A166006_R42_80-20\"\n",
    "file_name = \"refit_gen_GASF_60m_300S0X_15A157030N_R12_80-20-V1\"\n",
    "file_name = environ[\"dataset\"]\n",
    "#read the file\n",
    "path = str(pathlib.Path().resolve())\n",
    "\n",
    "path_data = f\"{path}\"\"/data/\"f\"{file_name}\"\"/\"f\"{file_name}\"\".hdf5\"\n",
    "\n",
    "file = h5py.File(path_data,\"r+\")"
   ]
  },
  {
   "cell_type": "code",
   "execution_count": 5,
   "metadata": {
    "execution": {
     "iopub.execute_input": "2022-02-11T19:47:40.400035Z",
     "iopub.status.busy": "2022-02-11T19:47:40.397861Z",
     "iopub.status.idle": "2022-02-11T19:47:40.537561Z",
     "shell.execute_reply": "2022-02-11T19:47:40.538574Z"
    },
    "scrolled": true
   },
   "outputs": [
    {
     "name": "stdout",
     "output_type": "stream",
     "text": [
      "['fridge/freezer', 'electric furnace', 'light', 'microwave', 'sockets']\n",
      "{0: 1.3540308747855918, 1: 2.1335135135135137, 2: 0.5634546752319771, 3: 3.5881818181818184, 4: 0.5749453750910415}\n",
      " \n",
      "Tests \n",
      "fridge/freezer test: 146 train: 583\n",
      "electric furnace test: 92 train: 370\n",
      "light test: 351 train: 1401\n",
      "microwave test: 55 train: 220\n",
      "sockets test: 343 train: 1373\n"
     ]
    }
   ],
   "source": [
    "x_test,y_test,d_class_weights,num_of_classes,appliances = get_data(file)"
   ]
  },
  {
   "cell_type": "code",
   "execution_count": 6,
   "metadata": {
    "execution": {
     "iopub.execute_input": "2022-02-11T19:47:40.550283Z",
     "iopub.status.busy": "2022-02-11T19:47:40.543196Z",
     "iopub.status.idle": "2022-02-11T19:47:40.552509Z",
     "shell.execute_reply": "2022-02-11T19:47:40.553142Z"
    }
   },
   "outputs": [],
   "source": [
    "def select_model(learn_type):\n",
    "    \n",
    "    if learn_type == \"CNN\":\n",
    "        model = CNN_V56(file[\"data/train/gaf\"][0:10],num_of_classes,lr= 0.00002)\n",
    "\n",
    "    if learn_type == \"LSTM\":\n",
    "        model = LSTM_3D_V56(file[\"data/train/gaf\"][0:10],num_of_classes,lr= 0.00002)\n",
    "\n",
    "    if learn_type == \"BI_LSTM\":\n",
    "        model = LSTM_BI_V56(file[\"data/train/gaf\"][0:10],num_of_classes,lr= 0.00002)\n",
    "\n",
    "    return model\n",
    "              "
   ]
  },
  {
   "cell_type": "code",
   "execution_count": 7,
   "metadata": {
    "execution": {
     "iopub.execute_input": "2022-02-11T19:47:40.562278Z",
     "iopub.status.busy": "2022-02-11T19:47:40.560951Z",
     "iopub.status.idle": "2022-02-11T19:47:40.563680Z",
     "shell.execute_reply": "2022-02-11T19:47:40.564746Z"
    }
   },
   "outputs": [],
   "source": [
    "path_save = path+'/experiment_automation/output/'+environ['learn_type']+'/'+dataset.split(\"_\")[0]+\"/\"+environ['train_type']+\"/\"+dataset.split(\"_\")[0]+\"_\"+environ['seed']+\"_\"+environ['tl_datasets']\n",
    "path_save_nb = path_save+\"_out.ipynb\"\n",
    "path_save_log = path_save+\"_out_log2.txt\""
   ]
  },
  {
   "cell_type": "code",
   "execution_count": 8,
   "metadata": {
    "execution": {
     "iopub.execute_input": "2022-02-11T19:47:40.575032Z",
     "iopub.status.busy": "2022-02-11T19:47:40.573724Z",
     "iopub.status.idle": "2022-02-11T19:47:40.669721Z",
     "shell.execute_reply": "2022-02-11T19:47:40.668548Z"
    }
   },
   "outputs": [],
   "source": [
    "from keras.callbacks import LambdaCallback\n",
    "#path_log= path+'/experiment_automation/output/'+environ['learn_type']+'/'+dataset.split(\"_\")[0]+\"/\"+environ['train_type']+\"/\"+dataset.split(\"_\")[0]+\"_\"+environ['seed']+\"_\"+environ['tl_datasets']+\"_log.txt\"\n",
    "txt_log = open(path_save+\"_log.txt\", mode='wt', buffering=1)\n",
    "txt_log.write(\"file created! \\n\")\n",
    "\n",
    "save_op_callback = LambdaCallback(\n",
    "  on_epoch_end = lambda epoch, logs: txt_log.write(\n",
    "    str({'epoch': epoch, 'loss': logs['loss'],'acc': logs['accuracy']}) + '\\n'),\n",
    "                                                           \n",
    ")"
   ]
  },
  {
   "cell_type": "code",
   "execution_count": 9,
   "metadata": {
    "execution": {
     "iopub.execute_input": "2022-02-11T19:47:40.675960Z",
     "iopub.status.busy": "2022-02-11T19:47:40.674016Z",
     "iopub.status.idle": "2022-02-11T19:47:40.679063Z",
     "shell.execute_reply": "2022-02-11T19:47:40.680129Z"
    }
   },
   "outputs": [
    {
     "name": "stdout",
     "output_type": "stream",
     "text": [
      "/workspace/notebooks/experiment_automation/output/BI_LSTM/redd/TL/redd_82_refit, iawe, eco, ukdale_out.ipynb\n"
     ]
    }
   ],
   "source": [
    "print(path_save_nb)"
   ]
  },
  {
   "cell_type": "code",
   "execution_count": 10,
   "metadata": {
    "execution": {
     "iopub.execute_input": "2022-02-11T19:47:40.685341Z",
     "iopub.status.busy": "2022-02-11T19:47:40.684250Z",
     "iopub.status.idle": "2022-02-11T19:47:40.688296Z",
     "shell.execute_reply": "2022-02-11T19:47:40.688878Z"
    }
   },
   "outputs": [],
   "source": [
    "# rm $path_save_log"
   ]
  },
  {
   "cell_type": "code",
   "execution_count": 11,
   "metadata": {
    "execution": {
     "iopub.execute_input": "2022-02-11T19:47:40.694826Z",
     "iopub.status.busy": "2022-02-11T19:47:40.693863Z",
     "iopub.status.idle": "2022-02-11T19:47:40.696804Z",
     "shell.execute_reply": "2022-02-11T19:47:40.697597Z"
    }
   },
   "outputs": [],
   "source": [
    "# %%capture cap \n",
    "\n",
    "# with open(path_save_log,\"wt\") as f:\n",
    "#     f.write(cap.stdout)\n",
    "    \n",
    "# print(\"out capture..\")"
   ]
  },
  {
   "cell_type": "code",
   "execution_count": 12,
   "metadata": {
    "execution": {
     "iopub.execute_input": "2022-02-11T19:47:40.716840Z",
     "iopub.status.busy": "2022-02-11T19:47:40.715588Z",
     "iopub.status.idle": "2022-02-11T19:47:40.718268Z",
     "shell.execute_reply": "2022-02-11T19:47:40.719248Z"
    },
    "id": "vqA9NwOqKrb5",
    "jupyter": {
     "outputs_hidden": true
    },
    "tags": []
   },
   "outputs": [],
   "source": [
    "# %%capture cap --no-stderr\n",
    "\n",
    "\n",
    "if environ['train_type'] == \"BB\":\n",
    "\n",
    "    #define generator\n",
    "    train_gen = HDF5ImageGenerator(\n",
    "        src= path_data,\n",
    "        X_key=\"data/train/gaf\",\n",
    "        y_key=\"labels/train/gaf\",\n",
    "        classes_key=\"appliances/classes\",\n",
    "        labels_encoding=\"hot\",\n",
    "        shuffle=True,\n",
    "        batch_size=int(environ['batch_size']),\n",
    "        num_classes=num_of_classes,\n",
    "        mode=\"train\",\n",
    "        )\n",
    "    \n",
    "    model = select_model(environ['learn_type'])\n",
    "    \n",
    "    txt_log.write(\"fitting BB model: \\n\")\n",
    "    \n",
    "    model.fit(\n",
    "        train_gen,\n",
    "        verbose=2,\n",
    "        epochs=int(environ['epochs']),\n",
    "        class_weight=d_class_weights,\n",
    "        callbacks = [save_op_callback],\n",
    "    )\n",
    "    \n",
    "    txt_log.write(\"finished fitting BB model: \\n\")\n",
    "\n",
    "    evaluate_model(model,x_test,y_test,appliances)\n",
    "    \n",
    "    if environ['save_model']==\"True\":\n",
    "\n",
    "        path_model_save = path+\"/models/\"+environ['learn_type']+\"/\"+dataset.split(\"_\")[0]+\"_\"+dataset.split(\"_R\")[1][0:2]\n",
    "        model.save(path_model_save)\n",
    "        txt_log.write(\"model saved to:\"+\"/models/\"+environ['learn_type']+\"/\"+dataset.split(\"_\")[0]+\"_\"+dataset.split(\"_R\")[1][0:2]+\" \\n\")\n",
    "        \n",
    "        \n",
    "# with open(path_save+\"_out_log.txt\" as f:\n",
    "#     f.write(cap.stdout)\n"
   ]
  },
  {
   "cell_type": "code",
   "execution_count": 13,
   "metadata": {
    "collapsed": true,
    "execution": {
     "iopub.execute_input": "2022-02-11T19:47:40.725301Z",
     "iopub.status.busy": "2022-02-11T19:47:40.724096Z",
     "iopub.status.idle": "2022-02-11T19:47:40.726659Z",
     "shell.execute_reply": "2022-02-11T19:47:40.727631Z"
    }
   },
   "outputs": [],
   "source": [
    "#model = keras.models.load_model(path_model1)\n",
    "# model_used = model"
   ]
  },
  {
   "cell_type": "code",
   "execution_count": 14,
   "metadata": {
    "collapsed": true,
    "execution": {
     "iopub.execute_input": "2022-02-11T19:47:40.733520Z",
     "iopub.status.busy": "2022-02-11T19:47:40.732372Z",
     "iopub.status.idle": "2022-02-11T19:47:40.735424Z",
     "shell.execute_reply": "2022-02-11T19:47:40.736298Z"
    },
    "jupyter": {
     "outputs_hidden": true
    },
    "tags": []
   },
   "outputs": [],
   "source": [
    "# evaluate_model(model,x_test,y_test,appliances)"
   ]
  },
  {
   "cell_type": "code",
   "execution_count": 15,
   "metadata": {
    "collapsed": true,
    "execution": {
     "iopub.execute_input": "2022-02-11T19:47:40.759227Z",
     "iopub.status.busy": "2022-02-11T19:47:40.745948Z",
     "iopub.status.idle": "2022-02-11T19:58:46.442493Z",
     "shell.execute_reply": "2022-02-11T19:58:46.443489Z"
    }
   },
   "outputs": [
    {
     "name": "stdout",
     "output_type": "stream",
     "text": [
      "using dataset data redd training on model refit seed 82\n",
      "reading data, printing stats: \n",
      "['fridge/freezer', 'electric furnace', 'light', 'microwave', 'sockets']\n",
      "{0: 1.3540308747855918, 1: 2.1335135135135137, 2: 0.5634546752319771, 3: 3.5881818181818184, 4: 0.5749453750910415}\n",
      " \n",
      "Tests \n",
      "fridge/freezer test: 146 train: 583\n",
      "electric furnace test: 92 train: 370\n",
      "light test: 351 train: 1401\n",
      "microwave test: 55 train: 220\n",
      "sockets test: 343 train: 1373\n",
      "loading model\n",
      "compling TL model..\n"
     ]
    },
    {
     "name": "stderr",
     "output_type": "stream",
     "text": [
      "2022-02-11 19:47:41.047565: I tensorflow/core/common_runtime/gpu/gpu_device.cc:1734] Found device 0 with properties: \n",
      "pciBusID: 0000:21:00.0 name: NVIDIA GeForce RTX 2080 Ti computeCapability: 7.5\n",
      "coreClock: 1.545GHz coreCount: 68 deviceMemorySize: 10.76GiB deviceMemoryBandwidth: 573.69GiB/s\n",
      "2022-02-11 19:47:41.047897: I tensorflow/core/common_runtime/gpu/gpu_device.cc:1872] Adding visible gpu devices: 0\n",
      "2022-02-11 19:47:41.047951: I tensorflow/stream_executor/platform/default/dso_loader.cc:54] Successfully opened dynamic library libcudart.so.11.0\n",
      "2022-02-11 19:47:41.412137: I tensorflow/core/common_runtime/gpu/gpu_device.cc:1258] Device interconnect StreamExecutor with strength 1 edge matrix:\n",
      "2022-02-11 19:47:41.412171: I tensorflow/core/common_runtime/gpu/gpu_device.cc:1264]      0 \n",
      "2022-02-11 19:47:41.412177: I tensorflow/core/common_runtime/gpu/gpu_device.cc:1277] 0:   N \n",
      "2022-02-11 19:47:41.412761: I tensorflow/core/common_runtime/gpu/gpu_device.cc:1418] Created TensorFlow device (/job:localhost/replica:0/task:0/device:GPU:0 with 9649 MB memory) -> physical GPU (device: 0, name: NVIDIA GeForce RTX 2080 Ti, pci bus id: 0000:21:00.0, compute capability: 7.5)\n",
      "2022-02-11 19:47:41.413092: I tensorflow/core/common_runtime/process_util.cc:146] Creating new thread pool with default inter op setting: 20. Tune using inter_op_parallelism_threads for best performance.\n"
     ]
    },
    {
     "name": "stdout",
     "output_type": "stream",
     "text": [
      "Normal way\n",
      "[0 1 2 3 4 5 6 7 8 9]\n",
      "WARNING:tensorflow:From /usr/local/lib/python3.8/dist-packages/tensorflow/python/ops/array_ops.py:5043: calling gather (from tensorflow.python.ops.array_ops) with validate_indices is deprecated and will be removed in a future version.\n",
      "Instructions for updating:\n",
      "The `validate_indices` argument has no effect. Indices are always validated on CPU and never validated on GPU.\n"
     ]
    },
    {
     "name": "stderr",
     "output_type": "stream",
     "text": [
      "/usr/local/lib/python3.8/dist-packages/tensorflow/python/keras/optimizer_v2/optimizer_v2.py:374: UserWarning: The `lr` argument is deprecated, use `learning_rate` instead.\n",
      "  warnings.warn(\n",
      "2022-02-11 19:47:49.198274: I tensorflow/compiler/mlir/mlir_graph_optimization_pass.cc:176] None of the MLIR Optimization Passes are enabled (registered 2)\n",
      "2022-02-11 19:47:49.216597: I tensorflow/core/platform/profile_utils/cpu_utils.cc:114] CPU Frequency: 3299990000 Hz\n"
     ]
    },
    {
     "name": "stdout",
     "output_type": "stream",
     "text": [
      "Epoch 1/50\n"
     ]
    },
    {
     "name": "stderr",
     "output_type": "stream",
     "text": [
      "2022-02-11 19:47:52.715945: I tensorflow/stream_executor/platform/default/dso_loader.cc:54] Successfully opened dynamic library libcudnn.so.8\n",
      "2022-02-11 19:47:53.199069: I tensorflow/stream_executor/cuda/cuda_dnn.cc:380] Loaded cuDNN version 8202\n",
      "2022-02-11 19:47:53.679145: I tensorflow/stream_executor/platform/default/dso_loader.cc:54] Successfully opened dynamic library libcublas.so.11\n",
      "2022-02-11 19:47:54.086318: I tensorflow/stream_executor/platform/default/dso_loader.cc:54] Successfully opened dynamic library libcublasLt.so.11\n"
     ]
    },
    {
     "name": "stdout",
     "output_type": "stream",
     "text": [
      "124/124 - 8s - loss: 0.9742 - accuracy: 0.5680\n",
      "Epoch 2/50\n",
      "124/124 - 3s - loss: 0.6241 - accuracy: 0.6924\n",
      "Epoch 3/50\n",
      "124/124 - 3s - loss: 0.5752 - accuracy: 0.7112\n",
      "Epoch 4/50\n",
      "124/124 - 3s - loss: 0.5470 - accuracy: 0.7175\n",
      "Epoch 5/50\n",
      "124/124 - 3s - loss: 0.5277 - accuracy: 0.7216\n",
      "Epoch 6/50\n",
      "124/124 - 3s - loss: 0.5072 - accuracy: 0.7299\n",
      "Epoch 7/50\n",
      "124/124 - 3s - loss: 0.4890 - accuracy: 0.7357\n",
      "Epoch 8/50\n",
      "124/124 - 3s - loss: 0.4772 - accuracy: 0.7423\n",
      "Epoch 9/50\n",
      "124/124 - 3s - loss: 0.4794 - accuracy: 0.7403\n",
      "Epoch 10/50\n",
      "124/124 - 3s - loss: 0.4743 - accuracy: 0.7393\n",
      "Epoch 11/50\n",
      "124/124 - 3s - loss: 0.4598 - accuracy: 0.7548\n",
      "Epoch 12/50\n",
      "124/124 - 3s - loss: 0.4531 - accuracy: 0.7540\n",
      "Epoch 13/50\n",
      "124/124 - 3s - loss: 0.4567 - accuracy: 0.7489\n",
      "Epoch 14/50\n",
      "124/124 - 3s - loss: 0.4418 - accuracy: 0.7570\n",
      "Epoch 15/50\n",
      "124/124 - 3s - loss: 0.4560 - accuracy: 0.7520\n",
      "Epoch 16/50\n",
      "124/124 - 3s - loss: 0.4531 - accuracy: 0.7499\n",
      "Epoch 17/50\n",
      "124/124 - 3s - loss: 0.4308 - accuracy: 0.7570\n",
      "Epoch 18/50\n",
      "124/124 - 3s - loss: 0.4320 - accuracy: 0.7651\n",
      "Epoch 19/50\n",
      "124/124 - 3s - loss: 0.4260 - accuracy: 0.7677\n",
      "Epoch 20/50\n",
      "124/124 - 3s - loss: 0.4320 - accuracy: 0.7662\n",
      "Epoch 21/50\n",
      "124/124 - 3s - loss: 0.4298 - accuracy: 0.7674\n",
      "Epoch 22/50\n",
      "124/124 - 3s - loss: 0.4187 - accuracy: 0.7654\n",
      "Epoch 23/50\n",
      "124/124 - 3s - loss: 0.4233 - accuracy: 0.7646\n",
      "Epoch 24/50\n",
      "124/124 - 3s - loss: 0.4018 - accuracy: 0.7732\n",
      "Epoch 25/50\n",
      "124/124 - 3s - loss: 0.4061 - accuracy: 0.7740\n",
      "Epoch 26/50\n",
      "124/124 - 3s - loss: 0.4011 - accuracy: 0.7781\n",
      "Epoch 27/50\n",
      "124/124 - 3s - loss: 0.4019 - accuracy: 0.7781\n",
      "Epoch 28/50\n",
      "124/124 - 3s - loss: 0.4119 - accuracy: 0.7677\n",
      "Epoch 29/50\n",
      "124/124 - 3s - loss: 0.3953 - accuracy: 0.7763\n",
      "Epoch 30/50\n",
      "124/124 - 3s - loss: 0.3956 - accuracy: 0.7748\n",
      "Epoch 31/50\n",
      "124/124 - 3s - loss: 0.3927 - accuracy: 0.7760\n",
      "Epoch 32/50\n",
      "124/124 - 3s - loss: 0.3926 - accuracy: 0.7826\n",
      "Epoch 33/50\n",
      "124/124 - 3s - loss: 0.3889 - accuracy: 0.7864\n",
      "Epoch 34/50\n",
      "124/124 - 3s - loss: 0.3867 - accuracy: 0.7755\n",
      "Epoch 35/50\n",
      "124/124 - 3s - loss: 0.3823 - accuracy: 0.7836\n",
      "Epoch 36/50\n",
      "124/124 - 3s - loss: 0.3829 - accuracy: 0.7732\n",
      "Epoch 37/50\n",
      "124/124 - 3s - loss: 0.3774 - accuracy: 0.7907\n",
      "Epoch 38/50\n",
      "124/124 - 3s - loss: 0.3779 - accuracy: 0.7829\n",
      "Epoch 39/50\n",
      "124/124 - 3s - loss: 0.3759 - accuracy: 0.7829\n",
      "Epoch 40/50\n",
      "124/124 - 3s - loss: 0.3768 - accuracy: 0.7819\n",
      "Epoch 41/50\n",
      "124/124 - 3s - loss: 0.3783 - accuracy: 0.7844\n",
      "Epoch 42/50\n",
      "124/124 - 3s - loss: 0.3793 - accuracy: 0.7844\n",
      "Epoch 43/50\n",
      "124/124 - 3s - loss: 0.3697 - accuracy: 0.7900\n",
      "Epoch 44/50\n",
      "124/124 - 3s - loss: 0.3711 - accuracy: 0.7831\n",
      "Epoch 45/50\n",
      "124/124 - 3s - loss: 0.3584 - accuracy: 0.7978\n",
      "Epoch 46/50\n",
      "124/124 - 3s - loss: 0.3670 - accuracy: 0.7892\n",
      "Epoch 47/50\n",
      "124/124 - 3s - loss: 0.3645 - accuracy: 0.7925\n",
      "Epoch 48/50\n",
      "124/124 - 3s - loss: 0.3674 - accuracy: 0.7925\n",
      "Epoch 49/50\n",
      "124/124 - 3s - loss: 0.3794 - accuracy: 0.7829\n",
      "Epoch 50/50\n",
      "124/124 - 3s - loss: 0.3637 - accuracy: 0.7917\n",
      "31/31 - 1s\n",
      "Normalized confusion matrix\n",
      "                  precision    recall  f1-score   support\n",
      "\n",
      "  fridge/freezer       0.72      0.86      0.79       146\n",
      "electric furnace       0.68      0.89      0.77        92\n",
      "           light       0.82      0.75      0.79       351\n",
      "       microwave       0.98      0.84      0.90        55\n",
      "         sockets       0.80      0.75      0.77       343\n",
      "\n",
      "        accuracy                           0.79       987\n",
      "       macro avg       0.80      0.82      0.80       987\n",
      "    weighted avg       0.79      0.79      0.79       987\n",
      "\n",
      "using dataset data redd training on model iawe seed 82\n",
      "reading data, printing stats: \n",
      "['fridge/freezer', 'electric furnace', 'light', 'microwave', 'sockets']\n",
      "{0: 1.3540308747855918, 1: 2.1335135135135137, 2: 0.5634546752319771, 3: 3.5881818181818184, 4: 0.5749453750910415}\n",
      " \n",
      "Tests \n",
      "fridge/freezer test: 146 train: 583\n",
      "electric furnace test: 92 train: 370\n",
      "light test: 351 train: 1401\n",
      "microwave test: 55 train: 220\n",
      "sockets test: 343 train: 1373\n",
      "loading model\n",
      "compling TL model..\n"
     ]
    },
    {
     "name": "stderr",
     "output_type": "stream",
     "text": [
      "/usr/local/lib/python3.8/dist-packages/tensorflow/python/keras/optimizer_v2/optimizer_v2.py:374: UserWarning: The `lr` argument is deprecated, use `learning_rate` instead.\n",
      "  warnings.warn(\n"
     ]
    },
    {
     "name": "stdout",
     "output_type": "stream",
     "text": [
      "Normal way\n",
      "[0 1 2 3 4 5 6 7 8 9]\n",
      "Epoch 1/50\n",
      "124/124 - 6s - loss: 1.2930 - accuracy: 0.4677\n",
      "Epoch 2/50\n",
      "124/124 - 3s - loss: 1.0462 - accuracy: 0.5282\n",
      "Epoch 3/50\n",
      "124/124 - 3s - loss: 0.9392 - accuracy: 0.5409\n",
      "Epoch 4/50\n",
      "124/124 - 3s - loss: 0.8902 - accuracy: 0.5478\n",
      "Epoch 5/50\n",
      "124/124 - 3s - loss: 0.8804 - accuracy: 0.5599\n",
      "Epoch 6/50\n",
      "124/124 - 3s - loss: 0.8498 - accuracy: 0.5739\n",
      "Epoch 7/50\n",
      "124/124 - 3s - loss: 0.8337 - accuracy: 0.5911\n",
      "Epoch 8/50\n",
      "124/124 - 3s - loss: 0.8161 - accuracy: 0.5865\n",
      "Epoch 9/50\n",
      "124/124 - 3s - loss: 0.8386 - accuracy: 0.5842\n",
      "Epoch 10/50\n",
      "124/124 - 3s - loss: 0.8066 - accuracy: 0.5982\n",
      "Epoch 11/50\n",
      "124/124 - 3s - loss: 0.8015 - accuracy: 0.5903\n",
      "Epoch 12/50\n",
      "124/124 - 3s - loss: 0.7995 - accuracy: 0.5865\n",
      "Epoch 13/50\n",
      "124/124 - 3s - loss: 0.8089 - accuracy: 0.5911\n",
      "Epoch 14/50\n",
      "124/124 - 3s - loss: 0.7904 - accuracy: 0.5999\n",
      "Epoch 15/50\n",
      "124/124 - 3s - loss: 0.7783 - accuracy: 0.6043\n",
      "Epoch 16/50\n",
      "124/124 - 3s - loss: 0.7788 - accuracy: 0.6045\n",
      "Epoch 17/50\n",
      "124/124 - 3s - loss: 0.7746 - accuracy: 0.6091\n",
      "Epoch 18/50\n",
      "124/124 - 3s - loss: 0.7725 - accuracy: 0.6017\n",
      "Epoch 19/50\n",
      "124/124 - 3s - loss: 0.7725 - accuracy: 0.6172\n",
      "Epoch 20/50\n",
      "124/124 - 3s - loss: 0.7563 - accuracy: 0.6152\n",
      "Epoch 21/50\n",
      "124/124 - 3s - loss: 0.7797 - accuracy: 0.5926\n",
      "Epoch 22/50\n",
      "124/124 - 3s - loss: 0.7569 - accuracy: 0.6172\n",
      "Epoch 23/50\n",
      "124/124 - 3s - loss: 0.7554 - accuracy: 0.6195\n",
      "Epoch 24/50\n",
      "124/124 - 3s - loss: 0.7500 - accuracy: 0.6146\n",
      "Epoch 25/50\n",
      "124/124 - 3s - loss: 0.7390 - accuracy: 0.6207\n",
      "Epoch 26/50\n",
      "124/124 - 3s - loss: 0.7474 - accuracy: 0.6164\n",
      "Epoch 27/50\n",
      "124/124 - 3s - loss: 0.7325 - accuracy: 0.6139\n",
      "Epoch 28/50\n",
      "124/124 - 3s - loss: 0.7323 - accuracy: 0.6215\n",
      "Epoch 29/50\n",
      "124/124 - 3s - loss: 0.7496 - accuracy: 0.6207\n",
      "Epoch 30/50\n",
      "124/124 - 3s - loss: 0.7352 - accuracy: 0.6152\n",
      "Epoch 31/50\n",
      "124/124 - 3s - loss: 0.7376 - accuracy: 0.6314\n",
      "Epoch 32/50\n",
      "124/124 - 3s - loss: 0.7301 - accuracy: 0.6233\n",
      "Epoch 33/50\n",
      "124/124 - 3s - loss: 0.7346 - accuracy: 0.6230\n",
      "Epoch 34/50\n",
      "124/124 - 3s - loss: 0.7273 - accuracy: 0.6215\n",
      "Epoch 35/50\n",
      "124/124 - 3s - loss: 0.7277 - accuracy: 0.6167\n",
      "Epoch 36/50\n",
      "124/124 - 3s - loss: 0.7228 - accuracy: 0.6200\n",
      "Epoch 37/50\n",
      "124/124 - 3s - loss: 0.7294 - accuracy: 0.6136\n",
      "Epoch 38/50\n",
      "124/124 - 3s - loss: 0.7099 - accuracy: 0.6314\n",
      "Epoch 39/50\n",
      "124/124 - 3s - loss: 0.7274 - accuracy: 0.6152\n",
      "Epoch 40/50\n",
      "124/124 - 3s - loss: 0.7166 - accuracy: 0.6258\n",
      "Epoch 41/50\n",
      "124/124 - 3s - loss: 0.7291 - accuracy: 0.6035\n",
      "Epoch 42/50\n",
      "124/124 - 3s - loss: 0.7125 - accuracy: 0.6276\n",
      "Epoch 43/50\n",
      "124/124 - 3s - loss: 0.7221 - accuracy: 0.6283\n",
      "Epoch 44/50\n",
      "124/124 - 3s - loss: 0.6938 - accuracy: 0.6357\n",
      "Epoch 45/50\n",
      "124/124 - 3s - loss: 0.7099 - accuracy: 0.6296\n",
      "Epoch 46/50\n",
      "124/124 - 3s - loss: 0.7087 - accuracy: 0.6301\n",
      "Epoch 47/50\n",
      "124/124 - 3s - loss: 0.7049 - accuracy: 0.6336\n",
      "Epoch 48/50\n",
      "124/124 - 3s - loss: 0.7145 - accuracy: 0.6286\n",
      "Epoch 49/50\n",
      "124/124 - 3s - loss: 0.7126 - accuracy: 0.6357\n",
      "Epoch 50/50\n",
      "124/124 - 3s - loss: 0.7258 - accuracy: 0.6281\n",
      "31/31 - 1s\n",
      "Normalized confusion matrix\n",
      "                  precision    recall  f1-score   support\n",
      "\n",
      "  fridge/freezer       0.66      0.87      0.75       146\n",
      "electric furnace       0.40      0.74      0.52        92\n",
      "           light       0.78      0.64      0.71       351\n",
      "       microwave       0.68      0.85      0.76        55\n",
      "         sockets       0.74      0.57      0.65       343\n",
      "\n",
      "        accuracy                           0.67       987\n",
      "       macro avg       0.65      0.74      0.68       987\n",
      "    weighted avg       0.71      0.67      0.68       987\n",
      "\n",
      "using dataset data redd training on model eco seed 82\n",
      "reading data, printing stats: \n",
      "['fridge/freezer', 'electric furnace', 'light', 'microwave', 'sockets']\n",
      "{0: 1.3540308747855918, 1: 2.1335135135135137, 2: 0.5634546752319771, 3: 3.5881818181818184, 4: 0.5749453750910415}\n",
      " \n",
      "Tests \n",
      "fridge/freezer test: 146 train: 583\n",
      "electric furnace test: 92 train: 370\n",
      "light test: 351 train: 1401\n",
      "microwave test: 55 train: 220\n",
      "sockets test: 343 train: 1373\n",
      "loading model\n",
      "compling TL model..\n"
     ]
    },
    {
     "name": "stderr",
     "output_type": "stream",
     "text": [
      "/usr/local/lib/python3.8/dist-packages/tensorflow/python/keras/optimizer_v2/optimizer_v2.py:374: UserWarning: The `lr` argument is deprecated, use `learning_rate` instead.\n",
      "  warnings.warn(\n"
     ]
    },
    {
     "name": "stdout",
     "output_type": "stream",
     "text": [
      "Normal way\n",
      "[0 1 2 3 4 5 6 7 8 9]\n",
      "Epoch 1/50\n",
      "124/124 - 6s - loss: 0.8918 - accuracy: 0.5650\n",
      "Epoch 2/50\n",
      "124/124 - 3s - loss: 0.6716 - accuracy: 0.6805\n",
      "Epoch 3/50\n",
      "124/124 - 3s - loss: 0.6008 - accuracy: 0.7059\n",
      "Epoch 4/50\n",
      "124/124 - 3s - loss: 0.5832 - accuracy: 0.7114\n",
      "Epoch 5/50\n",
      "124/124 - 3s - loss: 0.5639 - accuracy: 0.7165\n",
      "Epoch 6/50\n",
      "124/124 - 3s - loss: 0.5411 - accuracy: 0.7256\n",
      "Epoch 7/50\n",
      "124/124 - 3s - loss: 0.5372 - accuracy: 0.7319\n",
      "Epoch 8/50\n",
      "124/124 - 3s - loss: 0.5217 - accuracy: 0.7319\n",
      "Epoch 9/50\n",
      "124/124 - 3s - loss: 0.5084 - accuracy: 0.7357\n",
      "Epoch 10/50\n",
      "124/124 - 3s - loss: 0.5081 - accuracy: 0.7337\n",
      "Epoch 11/50\n",
      "124/124 - 3s - loss: 0.4908 - accuracy: 0.7446\n",
      "Epoch 12/50\n",
      "124/124 - 3s - loss: 0.4877 - accuracy: 0.7423\n",
      "Epoch 13/50\n",
      "124/124 - 3s - loss: 0.4723 - accuracy: 0.7441\n",
      "Epoch 14/50\n",
      "124/124 - 3s - loss: 0.4834 - accuracy: 0.7512\n",
      "Epoch 15/50\n",
      "124/124 - 3s - loss: 0.4752 - accuracy: 0.7504\n",
      "Epoch 16/50\n",
      "124/124 - 3s - loss: 0.4718 - accuracy: 0.7459\n",
      "Epoch 17/50\n",
      "124/124 - 3s - loss: 0.4603 - accuracy: 0.7492\n",
      "Epoch 18/50\n",
      "124/124 - 3s - loss: 0.4670 - accuracy: 0.7464\n",
      "Epoch 19/50\n",
      "124/124 - 3s - loss: 0.4629 - accuracy: 0.7560\n",
      "Epoch 20/50\n",
      "124/124 - 3s - loss: 0.4514 - accuracy: 0.7641\n",
      "Epoch 21/50\n",
      "124/124 - 3s - loss: 0.4352 - accuracy: 0.7634\n",
      "Epoch 22/50\n",
      "124/124 - 3s - loss: 0.4456 - accuracy: 0.7606\n",
      "Epoch 23/50\n",
      "124/124 - 3s - loss: 0.4519 - accuracy: 0.7565\n",
      "Epoch 24/50\n",
      "124/124 - 3s - loss: 0.4339 - accuracy: 0.7639\n",
      "Epoch 25/50\n",
      "124/124 - 3s - loss: 0.4302 - accuracy: 0.7700\n",
      "Epoch 26/50\n",
      "124/124 - 3s - loss: 0.4673 - accuracy: 0.7512\n",
      "Epoch 27/50\n",
      "124/124 - 3s - loss: 0.4311 - accuracy: 0.7677\n",
      "Epoch 28/50\n",
      "124/124 - 3s - loss: 0.4238 - accuracy: 0.7656\n",
      "Epoch 29/50\n",
      "124/124 - 3s - loss: 0.4203 - accuracy: 0.7692\n",
      "Epoch 30/50\n",
      "124/124 - 3s - loss: 0.4208 - accuracy: 0.7684\n",
      "Epoch 31/50\n",
      "124/124 - 3s - loss: 0.4138 - accuracy: 0.7722\n",
      "Epoch 32/50\n",
      "124/124 - 3s - loss: 0.4068 - accuracy: 0.7727\n",
      "Epoch 33/50\n",
      "124/124 - 3s - loss: 0.4177 - accuracy: 0.7694\n",
      "Epoch 34/50\n",
      "124/124 - 3s - loss: 0.4208 - accuracy: 0.7743\n",
      "Epoch 35/50\n",
      "124/124 - 3s - loss: 0.4106 - accuracy: 0.7743\n",
      "Epoch 36/50\n",
      "124/124 - 3s - loss: 0.4024 - accuracy: 0.7735\n",
      "Epoch 37/50\n",
      "124/124 - 3s - loss: 0.4077 - accuracy: 0.7791\n",
      "Epoch 38/50\n",
      "124/124 - 3s - loss: 0.4085 - accuracy: 0.7727\n",
      "Epoch 39/50\n",
      "124/124 - 3s - loss: 0.4080 - accuracy: 0.7760\n",
      "Epoch 40/50\n",
      "124/124 - 3s - loss: 0.3943 - accuracy: 0.7755\n",
      "Epoch 41/50\n",
      "124/124 - 3s - loss: 0.3932 - accuracy: 0.7808\n",
      "Epoch 42/50\n",
      "124/124 - 3s - loss: 0.4009 - accuracy: 0.7770\n",
      "Epoch 43/50\n",
      "124/124 - 3s - loss: 0.4002 - accuracy: 0.7788\n",
      "Epoch 44/50\n",
      "124/124 - 3s - loss: 0.3878 - accuracy: 0.7859\n",
      "Epoch 45/50\n",
      "124/124 - 3s - loss: 0.3961 - accuracy: 0.7798\n",
      "Epoch 46/50\n",
      "124/124 - 3s - loss: 0.3864 - accuracy: 0.7938\n",
      "Epoch 47/50\n",
      "124/124 - 3s - loss: 0.3936 - accuracy: 0.7801\n",
      "Epoch 48/50\n",
      "124/124 - 3s - loss: 0.3903 - accuracy: 0.7859\n",
      "Epoch 49/50\n",
      "124/124 - 3s - loss: 0.3755 - accuracy: 0.7922\n",
      "Epoch 50/50\n",
      "124/124 - 3s - loss: 0.3986 - accuracy: 0.7836\n",
      "31/31 - 1s\n",
      "Normalized confusion matrix\n",
      "                  precision    recall  f1-score   support\n",
      "\n",
      "  fridge/freezer       0.74      0.94      0.83       146\n",
      "electric furnace       0.62      0.84      0.71        92\n",
      "           light       0.84      0.73      0.78       351\n",
      "       microwave       0.92      0.87      0.90        55\n",
      "         sockets       0.77      0.73      0.75       343\n",
      "\n",
      "        accuracy                           0.78       987\n",
      "       macro avg       0.78      0.82      0.79       987\n",
      "    weighted avg       0.79      0.78      0.78       987\n",
      "\n",
      "using dataset data redd training on model ukdale seed 82\n",
      "reading data, printing stats: \n",
      "['fridge/freezer', 'electric furnace', 'light', 'microwave', 'sockets']\n",
      "{0: 1.3540308747855918, 1: 2.1335135135135137, 2: 0.5634546752319771, 3: 3.5881818181818184, 4: 0.5749453750910415}\n",
      " \n",
      "Tests \n",
      "fridge/freezer test: 146 train: 583\n",
      "electric furnace test: 92 train: 370\n",
      "light test: 351 train: 1401\n",
      "microwave test: 55 train: 220\n",
      "sockets test: 343 train: 1373\n",
      "loading model\n",
      "compling TL model..\n"
     ]
    },
    {
     "name": "stderr",
     "output_type": "stream",
     "text": [
      "/usr/local/lib/python3.8/dist-packages/tensorflow/python/keras/optimizer_v2/optimizer_v2.py:374: UserWarning: The `lr` argument is deprecated, use `learning_rate` instead.\n",
      "  warnings.warn(\n"
     ]
    },
    {
     "name": "stdout",
     "output_type": "stream",
     "text": [
      "Normal way\n",
      "[0 1 2 3 4 5 6 7 8 9]\n",
      "Epoch 1/50\n",
      "124/124 - 6s - loss: 0.9679 - accuracy: 0.5797\n",
      "Epoch 2/50\n",
      "124/124 - 3s - loss: 0.7308 - accuracy: 0.6369\n",
      "Epoch 3/50\n",
      "124/124 - 3s - loss: 0.6653 - accuracy: 0.6696\n",
      "Epoch 4/50\n",
      "124/124 - 3s - loss: 0.6572 - accuracy: 0.6681\n",
      "Epoch 5/50\n",
      "124/124 - 3s - loss: 0.6257 - accuracy: 0.6841\n",
      "Epoch 6/50\n",
      "124/124 - 3s - loss: 0.6015 - accuracy: 0.6950\n",
      "Epoch 7/50\n",
      "124/124 - 3s - loss: 0.5959 - accuracy: 0.6988\n",
      "Epoch 8/50\n",
      "124/124 - 3s - loss: 0.5847 - accuracy: 0.7026\n",
      "Epoch 9/50\n",
      "124/124 - 3s - loss: 0.5783 - accuracy: 0.7048\n",
      "Epoch 10/50\n",
      "124/124 - 3s - loss: 0.5654 - accuracy: 0.6965\n",
      "Epoch 11/50\n",
      "124/124 - 3s - loss: 0.5405 - accuracy: 0.7178\n",
      "Epoch 12/50\n",
      "124/124 - 3s - loss: 0.5290 - accuracy: 0.7208\n",
      "Epoch 13/50\n",
      "124/124 - 3s - loss: 0.5394 - accuracy: 0.7218\n",
      "Epoch 14/50\n",
      "124/124 - 3s - loss: 0.5480 - accuracy: 0.7203\n",
      "Epoch 15/50\n",
      "124/124 - 3s - loss: 0.5306 - accuracy: 0.7233\n",
      "Epoch 16/50\n",
      "124/124 - 3s - loss: 0.5249 - accuracy: 0.7241\n",
      "Epoch 17/50\n",
      "124/124 - 3s - loss: 0.5251 - accuracy: 0.7165\n",
      "Epoch 18/50\n",
      "124/124 - 3s - loss: 0.5140 - accuracy: 0.7218\n",
      "Epoch 19/50\n",
      "124/124 - 3s - loss: 0.5190 - accuracy: 0.7211\n",
      "Epoch 20/50\n",
      "124/124 - 3s - loss: 0.5150 - accuracy: 0.7233\n",
      "Epoch 21/50\n",
      "124/124 - 3s - loss: 0.5181 - accuracy: 0.7284\n",
      "Epoch 22/50\n",
      "124/124 - 3s - loss: 0.5152 - accuracy: 0.7325\n",
      "Epoch 23/50\n",
      "124/124 - 3s - loss: 0.5029 - accuracy: 0.7302\n",
      "Epoch 24/50\n",
      "124/124 - 3s - loss: 0.5004 - accuracy: 0.7345\n",
      "Epoch 25/50\n",
      "124/124 - 3s - loss: 0.5135 - accuracy: 0.7243\n",
      "Epoch 26/50\n",
      "124/124 - 3s - loss: 0.5068 - accuracy: 0.7269\n",
      "Epoch 27/50\n",
      "124/124 - 3s - loss: 0.4847 - accuracy: 0.7378\n",
      "Epoch 28/50\n",
      "124/124 - 3s - loss: 0.5019 - accuracy: 0.7393\n",
      "Epoch 29/50\n",
      "124/124 - 3s - loss: 0.4942 - accuracy: 0.7395\n",
      "Epoch 30/50\n",
      "124/124 - 3s - loss: 0.4749 - accuracy: 0.7444\n",
      "Epoch 31/50\n",
      "124/124 - 3s - loss: 0.4785 - accuracy: 0.7482\n",
      "Epoch 32/50\n",
      "124/124 - 3s - loss: 0.4749 - accuracy: 0.7456\n",
      "Epoch 33/50\n",
      "124/124 - 3s - loss: 0.4700 - accuracy: 0.7494\n",
      "Epoch 34/50\n",
      "124/124 - 3s - loss: 0.4686 - accuracy: 0.7426\n",
      "Epoch 35/50\n",
      "124/124 - 3s - loss: 0.4645 - accuracy: 0.7477\n",
      "Epoch 36/50\n",
      "124/124 - 3s - loss: 0.4576 - accuracy: 0.7449\n",
      "Epoch 37/50\n",
      "124/124 - 3s - loss: 0.4759 - accuracy: 0.7403\n",
      "Epoch 38/50\n",
      "124/124 - 3s - loss: 0.4610 - accuracy: 0.7487\n",
      "Epoch 39/50\n",
      "124/124 - 3s - loss: 0.4681 - accuracy: 0.7504\n",
      "Epoch 40/50\n",
      "124/124 - 3s - loss: 0.4684 - accuracy: 0.7441\n",
      "Epoch 41/50\n",
      "124/124 - 3s - loss: 0.4467 - accuracy: 0.7497\n",
      "Epoch 42/50\n",
      "124/124 - 3s - loss: 0.4734 - accuracy: 0.7507\n",
      "Epoch 43/50\n",
      "124/124 - 3s - loss: 0.4693 - accuracy: 0.7411\n",
      "Epoch 44/50\n",
      "124/124 - 3s - loss: 0.4552 - accuracy: 0.7461\n",
      "Epoch 45/50\n",
      "124/124 - 3s - loss: 0.4587 - accuracy: 0.7548\n",
      "Epoch 46/50\n",
      "124/124 - 3s - loss: 0.4458 - accuracy: 0.7525\n",
      "Epoch 47/50\n",
      "124/124 - 3s - loss: 0.4506 - accuracy: 0.7550\n",
      "Epoch 48/50\n",
      "124/124 - 3s - loss: 0.4500 - accuracy: 0.7591\n",
      "Epoch 49/50\n",
      "124/124 - 3s - loss: 0.4503 - accuracy: 0.7517\n",
      "Epoch 50/50\n",
      "124/124 - 3s - loss: 0.4425 - accuracy: 0.7540\n",
      "31/31 - 1s\n",
      "Normalized confusion matrix\n",
      "                  precision    recall  f1-score   support\n",
      "\n",
      "  fridge/freezer       0.64      0.94      0.76       146\n",
      "electric furnace       0.47      0.87      0.61        92\n",
      "           light       0.84      0.69      0.76       351\n",
      "       microwave       0.92      0.87      0.90        55\n",
      "         sockets       0.76      0.58      0.66       343\n",
      "\n",
      "        accuracy                           0.72       987\n",
      "       macro avg       0.73      0.79      0.74       987\n",
      "    weighted avg       0.75      0.72      0.72       987\n",
      "\n"
     ]
    },
    {
     "data": {
      "image/png": "[encoded data removed]",
      "text/plain": [
       "<Figure size 720x720 with 2 Axes>"
      ]
     },
     "metadata": {
      "needs_background": "light"
     },
     "output_type": "display_data"
    },
    {
     "data": {
      "image/png": "[encoded data removed]",
      "text/plain": [
       "<Figure size 720x720 with 2 Axes>"
      ]
     },
     "metadata": {
      "needs_background": "light"
     },
     "output_type": "display_data"
    },
    {
     "data": {
      "image/png": "[encoded data removed]",
      "text/plain": [
       "<Figure size 720x720 with 2 Axes>"
      ]
     },
     "metadata": {
      "needs_background": "light"
     },
     "output_type": "display_data"
    },
    {
     "data": {
      "image/png": "[encoded data removed]",
      "text/plain": [
       "<Figure size 720x720 with 2 Axes>"
      ]
     },
     "metadata": {
      "needs_background": "light"
     },
     "output_type": "display_data"
    }
   ],
   "source": [
    "# datasets =[\n",
    "#     \"ukdale_gen_GASF_13m_100S5X12A54480_R82_80-20\"\n",
    "# ]\n",
    "\n",
    "if environ['train_type'] == \"TL\": \n",
    "    models = environ['tl_datasets'].replace(\" \",\"\").split(\",\")\n",
    "    #model = [\"base\"]\n",
    "    \n",
    "    for model in models:\n",
    "    \n",
    "        file_name = dataset\n",
    "        \n",
    "        datasetTL = model\n",
    "        \n",
    "        seed = dataset.split(\"_R\")[1][0:2]\n",
    "        \n",
    "        print(\"using dataset data\",dataset.split(\"_\")[0],\"training on model\",model,\"seed\",environ['seed'])\n",
    "        txt_log.write(\"starting \"+dataset.split(\"_\")[0]+\" training on model \"+model+\" seed \"+environ['seed']+\"\\n\")\n",
    "\n",
    "\n",
    "        tf.keras.backend.clear_session()\n",
    "\n",
    "\n",
    "        #read the file\n",
    "        path = str(pathlib.Path().resolve())\n",
    "        path_data = f\"{path}\"\"/data/\"f\"{file_name}\"\"/\"f\"{file_name}\"\".hdf5\"\n",
    "        file = h5py.File(path_data,\"r+\")\n",
    "\n",
    "\n",
    "        print(\"reading data, printing stats: \")\n",
    "        x_test,y_test,d_class_weights,num_of_classes,appliances = get_data(file)\n",
    "        print(\"loading model\")\n",
    "        \n",
    "        model_seed = 42\n",
    "        model_used = create_tl_model(model,environ['learn_type'],model_seed,path,num_of_classes)\n",
    "                \n",
    "        train_gen = HDF5ImageGenerator(\n",
    "            src= path_data,\n",
    "            X_key=\"data/train/gaf\",\n",
    "            y_key=\"labels/train/gaf\",\n",
    "            classes_key=\"appliances/classes\",\n",
    "            labels_encoding=\"hot\",\n",
    "            shuffle=True,\n",
    "            batch_size=int(environ['batch_size']),\n",
    "            num_classes=num_of_classes,\n",
    "            mode=\"train\",\n",
    "            )\n",
    "\n",
    "        model_used.fit(\n",
    "            train_gen,\n",
    "            verbose=2,\n",
    "            epochs=int(environ['epochs']),\n",
    "            class_weight=d_class_weights,\n",
    "            callbacks = [save_op_callback]\n",
    "            #workers = 6,\n",
    "        )\n",
    "        \n",
    "        txt_log.write(\"finished \"+dataset.split(\"_\")[0]+\" training on model \"+model+\" seed \"+environ['seed']+\"\\n\")\n",
    "\n",
    "\n",
    "        evaluate_model(model_used,x_test,y_test,appliances)\n",
    "        \n",
    "\n",
    "\n",
    "\n",
    "        #del model_used\n",
    "\n"
   ]
  },
  {
   "cell_type": "code",
   "execution_count": 16,
   "metadata": {
    "execution": {
     "iopub.execute_input": "2022-02-11T19:58:46.449491Z",
     "iopub.status.busy": "2022-02-11T19:58:46.447993Z",
     "iopub.status.idle": "2022-02-11T19:58:46.451837Z",
     "shell.execute_reply": "2022-02-11T19:58:46.450698Z"
    }
   },
   "outputs": [],
   "source": [
    "txt_log.close()"
   ]
  },
  {
   "cell_type": "code",
   "execution_count": null,
   "metadata": {},
   "outputs": [],
   "source": []
  }
 ],
 "metadata": {
  "colab": {
   "authorship_tag": "ABX9TyMej4PvP65qsLng7TnQKWA4",
   "name": "LSTM-gen",
   "provenance": []
  },
  "kernelspec": {
   "display_name": "Python 3 (ipykernel)",
   "language": "python",
   "name": "python3"
  },
  "language_info": {
   "codemirror_mode": {
    "name": "ipython",
    "version": 3
   },
   "file_extension": ".py",
   "mimetype": "text/x-python",
   "name": "python",
   "nbconvert_exporter": "python",
   "pygments_lexer": "ipython3",
   "version": "3.8.10"
  }
 },
 "nbformat": 4,
 "nbformat_minor": 4
}
