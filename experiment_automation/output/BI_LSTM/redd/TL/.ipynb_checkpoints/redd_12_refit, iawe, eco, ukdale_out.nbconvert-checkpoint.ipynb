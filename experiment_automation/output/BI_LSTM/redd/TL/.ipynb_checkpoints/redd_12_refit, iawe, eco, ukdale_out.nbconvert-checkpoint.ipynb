{
 "cells": [
  {
   "cell_type": "code",
   "execution_count": 1,
   "metadata": {
    "execution": {
     "iopub.execute_input": "2022-02-11T19:58:53.823184Z",
     "iopub.status.busy": "2022-02-11T19:58:53.821755Z",
     "iopub.status.idle": "2022-02-11T19:58:55.535855Z",
     "shell.execute_reply": "2022-02-11T19:58:55.534564Z"
    },
    "id": "WqUfHWgtJxtu",
    "scrolled": true,
    "tags": []
   },
   "outputs": [
    {
     "name": "stderr",
     "output_type": "stream",
     "text": [
      "2022-02-11 19:58:54.649912: I tensorflow/stream_executor/platform/default/dso_loader.cc:54] Successfully opened dynamic library libcudart.so.11.0\n"
     ]
    },
    {
     "name": "stdout",
     "output_type": "stream",
     "text": [
      "2.5.0\n",
      "Num GPUs Available:  1\n"
     ]
    },
    {
     "name": "stderr",
     "output_type": "stream",
     "text": [
      "2022-02-11 19:58:55.480050: I tensorflow/stream_executor/platform/default/dso_loader.cc:54] Successfully opened dynamic library libcuda.so.1\n",
      "2022-02-11 19:58:55.518171: I tensorflow/core/common_runtime/gpu/gpu_device.cc:1734] Found device 0 with properties: \n",
      "pciBusID: 0000:21:00.0 name: NVIDIA GeForce RTX 2080 Ti computeCapability: 7.5\n",
      "coreClock: 1.545GHz coreCount: 68 deviceMemorySize: 10.76GiB deviceMemoryBandwidth: 573.69GiB/s\n",
      "2022-02-11 19:58:55.518213: I tensorflow/stream_executor/platform/default/dso_loader.cc:54] Successfully opened dynamic library libcudart.so.11.0\n",
      "2022-02-11 19:58:55.521731: I tensorflow/stream_executor/platform/default/dso_loader.cc:54] Successfully opened dynamic library libcublas.so.11\n",
      "2022-02-11 19:58:55.521797: I tensorflow/stream_executor/platform/default/dso_loader.cc:54] Successfully opened dynamic library libcublasLt.so.11\n",
      "2022-02-11 19:58:55.523212: I tensorflow/stream_executor/platform/default/dso_loader.cc:54] Successfully opened dynamic library libcufft.so.10\n",
      "2022-02-11 19:58:55.523466: I tensorflow/stream_executor/platform/default/dso_loader.cc:54] Successfully opened dynamic library libcurand.so.10\n",
      "2022-02-11 19:58:55.524046: I tensorflow/stream_executor/platform/default/dso_loader.cc:54] Successfully opened dynamic library libcutensor.so.1\n",
      "2022-02-11 19:58:55.524523: I tensorflow/stream_executor/platform/default/dso_loader.cc:54] Successfully opened dynamic library libcusolver.so.11\n",
      "2022-02-11 19:58:55.525222: I tensorflow/stream_executor/platform/default/dso_loader.cc:54] Successfully opened dynamic library libcusparse.so.11\n",
      "2022-02-11 19:58:55.525385: I tensorflow/stream_executor/platform/default/dso_loader.cc:54] Successfully opened dynamic library libcudnn.so.8\n",
      "2022-02-11 19:58:55.525732: I tensorflow/core/common_runtime/gpu/gpu_device.cc:1872] Adding visible gpu devices: 0\n"
     ]
    }
   ],
   "source": [
    "import h5py\n",
    "import numpy as np\n",
    "\n",
    "from sklearn.model_selection import train_test_split\n",
    "from sklearn.metrics import classification_report, confusion_matrix\n",
    "import matplotlib.pyplot as plt\n",
    "import itertools \n",
    "import pyts\n",
    "from pyts.approximation import PiecewiseAggregateApproximation\n",
    "\n",
    "from sklearn.utils import class_weight\n",
    "\n",
    "import pathlib\n",
    "import tensorflow as tf\n",
    "from tensorflow import keras\n",
    "from tensorflow.keras import layers, optimizers\n",
    "from tensorflow.keras.layers import Convolution2D,Conv2D, Dense,Dropout, Flatten, Activation, MaxPooling2D, Input, Conv1D, GlobalAveragePooling1D, TimeDistributed, GRU, LSTM\n",
    "\n",
    "print(tf.__version__)\n",
    "print(\"Num GPUs Available: \", len(tf.config.list_physical_devices('GPU')))\n",
    "gpus = tf.config.experimental.list_physical_devices('GPU')\n",
    "\n",
    "try:\n",
    "    for gpu in gpus:\n",
    "        tf.config.experimental.set_memory_growth(gpu, True)\n",
    "except RuntimeError as e:\n",
    "    print(e)"
   ]
  },
  {
   "cell_type": "code",
   "execution_count": 2,
   "metadata": {
    "execution": {
     "iopub.execute_input": "2022-02-11T19:58:55.542833Z",
     "iopub.status.busy": "2022-02-11T19:58:55.540559Z",
     "iopub.status.idle": "2022-02-11T19:58:55.545591Z",
     "shell.execute_reply": "2022-02-11T19:58:55.546556Z"
    }
   },
   "outputs": [
    {
     "name": "stdout",
     "output_type": "stream",
     "text": [
      "redd_gen_GASF_13m_100S5X5A4934_R12_80-20\n"
     ]
    }
   ],
   "source": [
    "from os import environ\n",
    "dataset = environ['dataset']\n",
    "print(dataset)"
   ]
  },
  {
   "cell_type": "code",
   "execution_count": 3,
   "metadata": {
    "execution": {
     "iopub.execute_input": "2022-02-11T19:58:55.552987Z",
     "iopub.status.busy": "2022-02-11T19:58:55.551831Z",
     "iopub.status.idle": "2022-02-11T19:58:55.555812Z",
     "shell.execute_reply": "2022-02-11T19:58:55.556638Z"
    }
   },
   "outputs": [],
   "source": [
    "#my defs \n",
    "from modules.models import  LSTM_3D_V56, CNN_V56,LSTM_BI_V56\n",
    "from modules.tools import my_print, plot_confusion_matrix_norm, get_data,get_data_split, evaluate_model, create_tl_model\n",
    "from modules.HDF5ImageGenerator import HDF5ImageGenerator"
   ]
  },
  {
   "cell_type": "code",
   "execution_count": 4,
   "metadata": {
    "execution": {
     "iopub.execute_input": "2022-02-11T19:58:55.565631Z",
     "iopub.status.busy": "2022-02-11T19:58:55.564305Z",
     "iopub.status.idle": "2022-02-11T19:58:55.566996Z",
     "shell.execute_reply": "2022-02-11T19:58:55.568033Z"
    },
    "id": "RT1vwq7-KOtB"
   },
   "outputs": [],
   "source": [
    "#LOAD DATASET\n",
    "#file_name = \"ukdale_gen_GASF_13m_100S5X12A54480\"\n",
    "#file_name = \"refit_gen_GASF_13m_100S5X_15A166006\"\n",
    "file_name = \"refit_gen_GASF_13m_100S5X_15A166006_R42-80-20\"\n",
    "#file_name = \"refit_gen_GASF_13m_100S5X_15A166006_R42_80-20\"\n",
    "file_name = \"refit_gen_GASF_60m_300S0X_15A157030N_R12_80-20-V1\"\n",
    "file_name = environ[\"dataset\"]\n",
    "#read the file\n",
    "path = str(pathlib.Path().resolve())\n",
    "\n",
    "path_data = f\"{path}\"\"/data/\"f\"{file_name}\"\"/\"f\"{file_name}\"\".hdf5\"\n",
    "\n",
    "file = h5py.File(path_data,\"r+\")"
   ]
  },
  {
   "cell_type": "code",
   "execution_count": 5,
   "metadata": {
    "execution": {
     "iopub.execute_input": "2022-02-11T19:58:55.576259Z",
     "iopub.status.busy": "2022-02-11T19:58:55.575076Z",
     "iopub.status.idle": "2022-02-11T19:58:55.716210Z",
     "shell.execute_reply": "2022-02-11T19:58:55.716563Z"
    },
    "scrolled": true
   },
   "outputs": [
    {
     "name": "stdout",
     "output_type": "stream",
     "text": [
      "['fridge/freezer', 'electric furnace', 'light', 'microwave', 'sockets']\n",
      "{0: 1.3540308747855918, 1: 2.1335135135135137, 2: 0.5634546752319771, 3: 3.5881818181818184, 4: 0.5749453750910415}\n",
      " \n",
      "Tests \n",
      "fridge/freezer test: 146 train: 583\n",
      "electric furnace test: 92 train: 370\n",
      "light test: 351 train: 1401\n",
      "microwave test: 55 train: 220\n",
      "sockets test: 343 train: 1373\n"
     ]
    }
   ],
   "source": [
    "x_test,y_test,d_class_weights,num_of_classes,appliances = get_data(file)"
   ]
  },
  {
   "cell_type": "code",
   "execution_count": 6,
   "metadata": {
    "execution": {
     "iopub.execute_input": "2022-02-11T19:58:55.727569Z",
     "iopub.status.busy": "2022-02-11T19:58:55.726979Z",
     "iopub.status.idle": "2022-02-11T19:58:55.730652Z",
     "shell.execute_reply": "2022-02-11T19:58:55.730162Z"
    }
   },
   "outputs": [],
   "source": [
    "def select_model(learn_type):\n",
    "    \n",
    "    if learn_type == \"CNN\":\n",
    "        model = CNN_V56(file[\"data/train/gaf\"][0:10],num_of_classes,lr= 0.00002)\n",
    "\n",
    "    if learn_type == \"LSTM\":\n",
    "        model = LSTM_3D_V56(file[\"data/train/gaf\"][0:10],num_of_classes,lr= 0.00002)\n",
    "\n",
    "    if learn_type == \"BI_LSTM\":\n",
    "        model = LSTM_BI_V56(file[\"data/train/gaf\"][0:10],num_of_classes,lr= 0.00002)\n",
    "\n",
    "    return model\n",
    "              "
   ]
  },
  {
   "cell_type": "code",
   "execution_count": 7,
   "metadata": {
    "execution": {
     "iopub.execute_input": "2022-02-11T19:58:55.739425Z",
     "iopub.status.busy": "2022-02-11T19:58:55.738637Z",
     "iopub.status.idle": "2022-02-11T19:58:55.741535Z",
     "shell.execute_reply": "2022-02-11T19:58:55.742146Z"
    }
   },
   "outputs": [],
   "source": [
    "path_save = path+'/experiment_automation/output/'+environ['learn_type']+'/'+dataset.split(\"_\")[0]+\"/\"+environ['train_type']+\"/\"+dataset.split(\"_\")[0]+\"_\"+environ['seed']+\"_\"+environ['tl_datasets']\n",
    "path_save_nb = path_save+\"_out.ipynb\"\n",
    "path_save_log = path_save+\"_out_log2.txt\""
   ]
  },
  {
   "cell_type": "code",
   "execution_count": 8,
   "metadata": {
    "execution": {
     "iopub.execute_input": "2022-02-11T19:58:55.752240Z",
     "iopub.status.busy": "2022-02-11T19:58:55.751168Z",
     "iopub.status.idle": "2022-02-11T19:58:55.841821Z",
     "shell.execute_reply": "2022-02-11T19:58:55.840815Z"
    }
   },
   "outputs": [],
   "source": [
    "from keras.callbacks import LambdaCallback\n",
    "#path_log= path+'/experiment_automation/output/'+environ['learn_type']+'/'+dataset.split(\"_\")[0]+\"/\"+environ['train_type']+\"/\"+dataset.split(\"_\")[0]+\"_\"+environ['seed']+\"_\"+environ['tl_datasets']+\"_log.txt\"\n",
    "txt_log = open(path_save+\"_log.txt\", mode='wt', buffering=1)\n",
    "txt_log.write(\"file created! \\n\")\n",
    "\n",
    "save_op_callback = LambdaCallback(\n",
    "  on_epoch_end = lambda epoch, logs: txt_log.write(\n",
    "    str({'epoch': epoch, 'loss': logs['loss'],'acc': logs['accuracy']}) + '\\n'),\n",
    "                                                           \n",
    ")"
   ]
  },
  {
   "cell_type": "code",
   "execution_count": 9,
   "metadata": {
    "execution": {
     "iopub.execute_input": "2022-02-11T19:58:55.847449Z",
     "iopub.status.busy": "2022-02-11T19:58:55.846278Z",
     "iopub.status.idle": "2022-02-11T19:58:55.851239Z",
     "shell.execute_reply": "2022-02-11T19:58:55.850207Z"
    }
   },
   "outputs": [
    {
     "name": "stdout",
     "output_type": "stream",
     "text": [
      "/workspace/notebooks/experiment_automation/output/BI_LSTM/redd/TL/redd_12_refit, iawe, eco, ukdale_out.ipynb\n"
     ]
    }
   ],
   "source": [
    "print(path_save_nb)"
   ]
  },
  {
   "cell_type": "code",
   "execution_count": 10,
   "metadata": {
    "execution": {
     "iopub.execute_input": "2022-02-11T19:58:55.856088Z",
     "iopub.status.busy": "2022-02-11T19:58:55.855078Z",
     "iopub.status.idle": "2022-02-11T19:58:55.857198Z",
     "shell.execute_reply": "2022-02-11T19:58:55.858032Z"
    }
   },
   "outputs": [],
   "source": [
    "# rm $path_save_log"
   ]
  },
  {
   "cell_type": "code",
   "execution_count": 11,
   "metadata": {
    "execution": {
     "iopub.execute_input": "2022-02-11T19:58:55.863007Z",
     "iopub.status.busy": "2022-02-11T19:58:55.861987Z",
     "iopub.status.idle": "2022-02-11T19:58:55.864094Z",
     "shell.execute_reply": "2022-02-11T19:58:55.864945Z"
    }
   },
   "outputs": [],
   "source": [
    "# %%capture cap \n",
    "\n",
    "# with open(path_save_log,\"wt\") as f:\n",
    "#     f.write(cap.stdout)\n",
    "    \n",
    "# print(\"out capture..\")"
   ]
  },
  {
   "cell_type": "code",
   "execution_count": 12,
   "metadata": {
    "execution": {
     "iopub.execute_input": "2022-02-11T19:58:55.879223Z",
     "iopub.status.busy": "2022-02-11T19:58:55.878081Z",
     "iopub.status.idle": "2022-02-11T19:58:55.881388Z",
     "shell.execute_reply": "2022-02-11T19:58:55.880485Z"
    },
    "id": "vqA9NwOqKrb5",
    "jupyter": {
     "outputs_hidden": true
    },
    "tags": []
   },
   "outputs": [],
   "source": [
    "# %%capture cap --no-stderr\n",
    "\n",
    "\n",
    "if environ['train_type'] == \"BB\":\n",
    "\n",
    "    #define generator\n",
    "    train_gen = HDF5ImageGenerator(\n",
    "        src= path_data,\n",
    "        X_key=\"data/train/gaf\",\n",
    "        y_key=\"labels/train/gaf\",\n",
    "        classes_key=\"appliances/classes\",\n",
    "        labels_encoding=\"hot\",\n",
    "        shuffle=True,\n",
    "        batch_size=int(environ['batch_size']),\n",
    "        num_classes=num_of_classes,\n",
    "        mode=\"train\",\n",
    "        )\n",
    "    \n",
    "    model = select_model(environ['learn_type'])\n",
    "    \n",
    "    txt_log.write(\"fitting BB model: \\n\")\n",
    "    \n",
    "    model.fit(\n",
    "        train_gen,\n",
    "        verbose=2,\n",
    "        epochs=int(environ['epochs']),\n",
    "        class_weight=d_class_weights,\n",
    "        callbacks = [save_op_callback],\n",
    "    )\n",
    "    \n",
    "    txt_log.write(\"finished fitting BB model: \\n\")\n",
    "\n",
    "    evaluate_model(model,x_test,y_test,appliances)\n",
    "    \n",
    "    if environ['save_model']==\"True\":\n",
    "\n",
    "        path_model_save = path+\"/models/\"+environ['learn_type']+\"/\"+dataset.split(\"_\")[0]+\"_\"+dataset.split(\"_R\")[1][0:2]\n",
    "        model.save(path_model_save)\n",
    "        txt_log.write(\"model saved to:\"+\"/models/\"+environ['learn_type']+\"/\"+dataset.split(\"_\")[0]+\"_\"+dataset.split(\"_R\")[1][0:2]+\" \\n\")\n",
    "        \n",
    "        \n",
    "# with open(path_save+\"_out_log.txt\" as f:\n",
    "#     f.write(cap.stdout)\n"
   ]
  },
  {
   "cell_type": "code",
   "execution_count": 13,
   "metadata": {
    "collapsed": true,
    "execution": {
     "iopub.execute_input": "2022-02-11T19:58:55.887218Z",
     "iopub.status.busy": "2022-02-11T19:58:55.885901Z",
     "iopub.status.idle": "2022-02-11T19:58:55.888618Z",
     "shell.execute_reply": "2022-02-11T19:58:55.889670Z"
    }
   },
   "outputs": [],
   "source": [
    "#model = keras.models.load_model(path_model1)\n",
    "# model_used = model"
   ]
  },
  {
   "cell_type": "code",
   "execution_count": 14,
   "metadata": {
    "collapsed": true,
    "execution": {
     "iopub.execute_input": "2022-02-11T19:58:55.896013Z",
     "iopub.status.busy": "2022-02-11T19:58:55.894740Z",
     "iopub.status.idle": "2022-02-11T19:58:55.897314Z",
     "shell.execute_reply": "2022-02-11T19:58:55.898290Z"
    },
    "jupyter": {
     "outputs_hidden": true
    },
    "tags": []
   },
   "outputs": [],
   "source": [
    "# evaluate_model(model,x_test,y_test,appliances)"
   ]
  },
  {
   "cell_type": "code",
   "execution_count": 15,
   "metadata": {
    "execution": {
     "iopub.execute_input": "2022-02-11T19:58:55.921002Z",
     "iopub.status.busy": "2022-02-11T19:58:55.902998Z",
     "iopub.status.idle": "2022-02-11T20:10:06.270641Z",
     "shell.execute_reply": "2022-02-11T20:10:06.271628Z"
    }
   },
   "outputs": [
    {
     "name": "stdout",
     "output_type": "stream",
     "text": [
      "using dataset data redd training on model refit seed 12\n",
      "reading data, printing stats: \n",
      "['fridge/freezer', 'electric furnace', 'light', 'microwave', 'sockets']\n",
      "{0: 1.3540308747855918, 1: 2.1335135135135137, 2: 0.5634546752319771, 3: 3.5881818181818184, 4: 0.5749453750910415}\n",
      " \n",
      "Tests \n",
      "fridge/freezer test: 146 train: 583\n",
      "electric furnace test: 92 train: 370\n",
      "light test: 351 train: 1401\n",
      "microwave test: 55 train: 220\n",
      "sockets test: 343 train: 1373\n",
      "loading model\n",
      "compling TL model..\n"
     ]
    },
    {
     "name": "stderr",
     "output_type": "stream",
     "text": [
      "2022-02-11 19:58:56.204420: I tensorflow/core/common_runtime/gpu/gpu_device.cc:1734] Found device 0 with properties: \n",
      "pciBusID: 0000:21:00.0 name: NVIDIA GeForce RTX 2080 Ti computeCapability: 7.5\n",
      "coreClock: 1.545GHz coreCount: 68 deviceMemorySize: 10.76GiB deviceMemoryBandwidth: 573.69GiB/s\n",
      "2022-02-11 19:58:56.204777: I tensorflow/core/common_runtime/gpu/gpu_device.cc:1872] Adding visible gpu devices: 0\n",
      "2022-02-11 19:58:56.204828: I tensorflow/stream_executor/platform/default/dso_loader.cc:54] Successfully opened dynamic library libcudart.so.11.0\n",
      "2022-02-11 19:58:56.567313: I tensorflow/core/common_runtime/gpu/gpu_device.cc:1258] Device interconnect StreamExecutor with strength 1 edge matrix:\n",
      "2022-02-11 19:58:56.567347: I tensorflow/core/common_runtime/gpu/gpu_device.cc:1264]      0 \n",
      "2022-02-11 19:58:56.567353: I tensorflow/core/common_runtime/gpu/gpu_device.cc:1277] 0:   N \n",
      "2022-02-11 19:58:56.567901: I tensorflow/core/common_runtime/gpu/gpu_device.cc:1418] Created TensorFlow device (/job:localhost/replica:0/task:0/device:GPU:0 with 9649 MB memory) -> physical GPU (device: 0, name: NVIDIA GeForce RTX 2080 Ti, pci bus id: 0000:21:00.0, compute capability: 7.5)\n",
      "2022-02-11 19:58:56.568255: I tensorflow/core/common_runtime/process_util.cc:146] Creating new thread pool with default inter op setting: 20. Tune using inter_op_parallelism_threads for best performance.\n"
     ]
    },
    {
     "name": "stdout",
     "output_type": "stream",
     "text": [
      "Normal way\n",
      "[0 1 2 3 4 5 6 7 8 9]\n",
      "WARNING:tensorflow:From /usr/local/lib/python3.8/dist-packages/tensorflow/python/ops/array_ops.py:5043: calling gather (from tensorflow.python.ops.array_ops) with validate_indices is deprecated and will be removed in a future version.\n",
      "Instructions for updating:\n",
      "The `validate_indices` argument has no effect. Indices are always validated on CPU and never validated on GPU.\n"
     ]
    },
    {
     "name": "stderr",
     "output_type": "stream",
     "text": [
      "/usr/local/lib/python3.8/dist-packages/tensorflow/python/keras/optimizer_v2/optimizer_v2.py:374: UserWarning: The `lr` argument is deprecated, use `learning_rate` instead.\n",
      "  warnings.warn(\n",
      "2022-02-11 19:59:04.354408: I tensorflow/compiler/mlir/mlir_graph_optimization_pass.cc:176] None of the MLIR Optimization Passes are enabled (registered 2)\n",
      "2022-02-11 19:59:04.372596: I tensorflow/core/platform/profile_utils/cpu_utils.cc:114] CPU Frequency: 3299990000 Hz\n"
     ]
    },
    {
     "name": "stdout",
     "output_type": "stream",
     "text": [
      "Epoch 1/50\n"
     ]
    },
    {
     "name": "stderr",
     "output_type": "stream",
     "text": [
      "2022-02-11 19:59:07.822657: I tensorflow/stream_executor/platform/default/dso_loader.cc:54] Successfully opened dynamic library libcudnn.so.8\n",
      "2022-02-11 19:59:08.317936: I tensorflow/stream_executor/cuda/cuda_dnn.cc:380] Loaded cuDNN version 8202\n",
      "2022-02-11 19:59:08.787295: I tensorflow/stream_executor/platform/default/dso_loader.cc:54] Successfully opened dynamic library libcublas.so.11\n",
      "2022-02-11 19:59:09.196396: I tensorflow/stream_executor/platform/default/dso_loader.cc:54] Successfully opened dynamic library libcublasLt.so.11\n"
     ]
    },
    {
     "name": "stdout",
     "output_type": "stream",
     "text": [
      "124/124 - 8s - loss: 1.0112 - accuracy: 0.5599\n",
      "Epoch 2/50\n",
      "124/124 - 3s - loss: 0.6568 - accuracy: 0.6929\n",
      "Epoch 3/50\n",
      "124/124 - 3s - loss: 0.6035 - accuracy: 0.7021\n",
      "Epoch 4/50\n",
      "124/124 - 3s - loss: 0.5791 - accuracy: 0.7127\n",
      "Epoch 5/50\n",
      "124/124 - 3s - loss: 0.5466 - accuracy: 0.7221\n",
      "Epoch 6/50\n",
      "124/124 - 3s - loss: 0.5170 - accuracy: 0.7347\n",
      "Epoch 7/50\n",
      "124/124 - 3s - loss: 0.5119 - accuracy: 0.7350\n",
      "Epoch 8/50\n",
      "124/124 - 3s - loss: 0.5097 - accuracy: 0.7368\n",
      "Epoch 9/50\n",
      "124/124 - 3s - loss: 0.4948 - accuracy: 0.7507\n",
      "Epoch 10/50\n",
      "124/124 - 3s - loss: 0.4756 - accuracy: 0.7542\n",
      "Epoch 11/50\n",
      "124/124 - 3s - loss: 0.4762 - accuracy: 0.7555\n",
      "Epoch 12/50\n",
      "124/124 - 3s - loss: 0.4548 - accuracy: 0.7517\n",
      "Epoch 13/50\n",
      "124/124 - 3s - loss: 0.4566 - accuracy: 0.7636\n",
      "Epoch 14/50\n",
      "124/124 - 3s - loss: 0.4439 - accuracy: 0.7639\n",
      "Epoch 15/50\n",
      "124/124 - 3s - loss: 0.4473 - accuracy: 0.7593\n",
      "Epoch 16/50\n",
      "124/124 - 3s - loss: 0.4423 - accuracy: 0.7601\n",
      "Epoch 17/50\n",
      "124/124 - 3s - loss: 0.4553 - accuracy: 0.7575\n",
      "Epoch 18/50\n",
      "124/124 - 3s - loss: 0.4306 - accuracy: 0.7700\n",
      "Epoch 19/50\n",
      "124/124 - 3s - loss: 0.4269 - accuracy: 0.7669\n",
      "Epoch 20/50\n",
      "124/124 - 3s - loss: 0.4220 - accuracy: 0.7748\n",
      "Epoch 21/50\n",
      "124/124 - 3s - loss: 0.4138 - accuracy: 0.7705\n",
      "Epoch 22/50\n",
      "124/124 - 3s - loss: 0.4068 - accuracy: 0.7732\n",
      "Epoch 23/50\n",
      "124/124 - 3s - loss: 0.3971 - accuracy: 0.7748\n",
      "Epoch 24/50\n",
      "124/124 - 3s - loss: 0.3980 - accuracy: 0.7786\n",
      "Epoch 25/50\n",
      "124/124 - 3s - loss: 0.4032 - accuracy: 0.7788\n",
      "Epoch 26/50\n",
      "124/124 - 3s - loss: 0.4203 - accuracy: 0.7692\n",
      "Epoch 27/50\n",
      "124/124 - 3s - loss: 0.3900 - accuracy: 0.7803\n",
      "Epoch 28/50\n",
      "124/124 - 3s - loss: 0.3794 - accuracy: 0.7849\n",
      "Epoch 29/50\n",
      "124/124 - 3s - loss: 0.3785 - accuracy: 0.7900\n",
      "Epoch 30/50\n",
      "124/124 - 3s - loss: 0.3851 - accuracy: 0.7846\n",
      "Epoch 31/50\n",
      "124/124 - 3s - loss: 0.3916 - accuracy: 0.7821\n",
      "Epoch 32/50\n",
      "124/124 - 3s - loss: 0.4042 - accuracy: 0.7758\n",
      "Epoch 33/50\n",
      "124/124 - 3s - loss: 0.3876 - accuracy: 0.7829\n",
      "Epoch 34/50\n",
      "124/124 - 3s - loss: 0.3793 - accuracy: 0.7897\n",
      "Epoch 35/50\n",
      "124/124 - 3s - loss: 0.3965 - accuracy: 0.7783\n",
      "Epoch 36/50\n",
      "124/124 - 3s - loss: 0.3699 - accuracy: 0.7897\n",
      "Epoch 37/50\n",
      "124/124 - 3s - loss: 0.3800 - accuracy: 0.7819\n",
      "Epoch 38/50\n",
      "124/124 - 3s - loss: 0.3854 - accuracy: 0.7798\n",
      "Epoch 39/50\n",
      "124/124 - 3s - loss: 0.3774 - accuracy: 0.7892\n",
      "Epoch 40/50\n",
      "124/124 - 3s - loss: 0.3641 - accuracy: 0.7890\n",
      "Epoch 41/50\n",
      "124/124 - 3s - loss: 0.3775 - accuracy: 0.7836\n",
      "Epoch 42/50\n",
      "124/124 - 3s - loss: 0.3644 - accuracy: 0.7966\n",
      "Epoch 43/50\n",
      "124/124 - 3s - loss: 0.3749 - accuracy: 0.7907\n",
      "Epoch 44/50\n",
      "124/124 - 3s - loss: 0.3713 - accuracy: 0.7976\n",
      "Epoch 45/50\n",
      "124/124 - 3s - loss: 0.3646 - accuracy: 0.7897\n",
      "Epoch 46/50\n",
      "124/124 - 3s - loss: 0.3578 - accuracy: 0.7950\n",
      "Epoch 47/50\n",
      "124/124 - 3s - loss: 0.3637 - accuracy: 0.7963\n",
      "Epoch 48/50\n",
      "124/124 - 3s - loss: 0.3451 - accuracy: 0.8016\n",
      "Epoch 49/50\n",
      "124/124 - 3s - loss: 0.3600 - accuracy: 0.7945\n",
      "Epoch 50/50\n",
      "124/124 - 3s - loss: 0.3498 - accuracy: 0.8082\n",
      "31/31 - 1s\n",
      "Normalized confusion matrix\n",
      "                  precision    recall  f1-score   support\n",
      "\n",
      "  fridge/freezer       0.67      0.88      0.76       146\n",
      "electric furnace       0.77      0.93      0.84        92\n",
      "           light       0.82      0.75      0.78       351\n",
      "       microwave       0.78      0.93      0.85        55\n",
      "         sockets       0.81      0.71      0.76       343\n",
      "\n",
      "        accuracy                           0.78       987\n",
      "       macro avg       0.77      0.84      0.80       987\n",
      "    weighted avg       0.79      0.78      0.78       987\n",
      "\n",
      "using dataset data redd training on model iawe seed 12\n",
      "reading data, printing stats: \n",
      "['fridge/freezer', 'electric furnace', 'light', 'microwave', 'sockets']\n",
      "{0: 1.3540308747855918, 1: 2.1335135135135137, 2: 0.5634546752319771, 3: 3.5881818181818184, 4: 0.5749453750910415}\n",
      " \n",
      "Tests \n",
      "fridge/freezer test: 146 train: 583\n",
      "electric furnace test: 92 train: 370\n",
      "light test: 351 train: 1401\n",
      "microwave test: 55 train: 220\n",
      "sockets test: 343 train: 1373\n",
      "loading model\n",
      "compling TL model..\n"
     ]
    },
    {
     "name": "stderr",
     "output_type": "stream",
     "text": [
      "/usr/local/lib/python3.8/dist-packages/tensorflow/python/keras/optimizer_v2/optimizer_v2.py:374: UserWarning: The `lr` argument is deprecated, use `learning_rate` instead.\n",
      "  warnings.warn(\n"
     ]
    },
    {
     "name": "stdout",
     "output_type": "stream",
     "text": [
      "Normal way\n",
      "[0 1 2 3 4 5 6 7 8 9]\n",
      "Epoch 1/50\n",
      "124/124 - 6s - loss: 1.2663 - accuracy: 0.4576\n",
      "Epoch 2/50\n",
      "124/124 - 3s - loss: 1.0726 - accuracy: 0.4925\n",
      "Epoch 3/50\n",
      "124/124 - 3s - loss: 0.9728 - accuracy: 0.5310\n",
      "Epoch 4/50\n",
      "124/124 - 3s - loss: 0.9198 - accuracy: 0.5473\n",
      "Epoch 5/50\n",
      "124/124 - 3s - loss: 0.8990 - accuracy: 0.5531\n",
      "Epoch 6/50\n",
      "124/124 - 3s - loss: 0.8806 - accuracy: 0.5688\n",
      "Epoch 7/50\n",
      "124/124 - 3s - loss: 0.8412 - accuracy: 0.5855\n",
      "Epoch 8/50\n",
      "124/124 - 3s - loss: 0.8427 - accuracy: 0.5764\n",
      "Epoch 9/50\n",
      "124/124 - 3s - loss: 0.8285 - accuracy: 0.5835\n",
      "Epoch 10/50\n",
      "124/124 - 3s - loss: 0.8330 - accuracy: 0.5865\n",
      "Epoch 11/50\n",
      "124/124 - 3s - loss: 0.7943 - accuracy: 0.6002\n",
      "Epoch 12/50\n",
      "124/124 - 3s - loss: 0.8218 - accuracy: 0.5954\n",
      "Epoch 13/50\n",
      "124/124 - 3s - loss: 0.8117 - accuracy: 0.6020\n",
      "Epoch 14/50\n",
      "124/124 - 3s - loss: 0.7929 - accuracy: 0.6007\n",
      "Epoch 15/50\n",
      "124/124 - 3s - loss: 0.7794 - accuracy: 0.6129\n",
      "Epoch 16/50\n",
      "124/124 - 3s - loss: 0.7831 - accuracy: 0.6141\n",
      "Epoch 17/50\n",
      "124/124 - 3s - loss: 0.7674 - accuracy: 0.6124\n",
      "Epoch 18/50\n",
      "124/124 - 3s - loss: 0.7729 - accuracy: 0.6017\n",
      "Epoch 19/50\n",
      "124/124 - 3s - loss: 0.7655 - accuracy: 0.6121\n",
      "Epoch 20/50\n",
      "124/124 - 3s - loss: 0.7520 - accuracy: 0.6230\n",
      "Epoch 21/50\n",
      "124/124 - 3s - loss: 0.7533 - accuracy: 0.6210\n",
      "Epoch 22/50\n",
      "124/124 - 3s - loss: 0.7524 - accuracy: 0.6217\n",
      "Epoch 23/50\n",
      "124/124 - 3s - loss: 0.7640 - accuracy: 0.6048\n",
      "Epoch 24/50\n",
      "124/124 - 3s - loss: 0.7406 - accuracy: 0.6222\n",
      "Epoch 25/50\n",
      "124/124 - 3s - loss: 0.7418 - accuracy: 0.6283\n",
      "Epoch 26/50\n",
      "124/124 - 3s - loss: 0.7372 - accuracy: 0.6314\n",
      "Epoch 27/50\n",
      "124/124 - 3s - loss: 0.7418 - accuracy: 0.6126\n",
      "Epoch 28/50\n",
      "124/124 - 3s - loss: 0.7325 - accuracy: 0.6387\n",
      "Epoch 29/50\n",
      "124/124 - 3s - loss: 0.7336 - accuracy: 0.6402\n",
      "Epoch 30/50\n",
      "124/124 - 3s - loss: 0.7412 - accuracy: 0.6235\n",
      "Epoch 31/50\n",
      "124/124 - 3s - loss: 0.7242 - accuracy: 0.6352\n",
      "Epoch 32/50\n",
      "124/124 - 3s - loss: 0.7275 - accuracy: 0.6316\n",
      "Epoch 33/50\n",
      "124/124 - 3s - loss: 0.7250 - accuracy: 0.6283\n",
      "Epoch 34/50\n",
      "124/124 - 3s - loss: 0.7140 - accuracy: 0.6392\n",
      "Epoch 35/50\n",
      "124/124 - 3s - loss: 0.7198 - accuracy: 0.6319\n",
      "Epoch 36/50\n",
      "124/124 - 3s - loss: 0.7448 - accuracy: 0.6187\n",
      "Epoch 37/50\n",
      "124/124 - 3s - loss: 0.7396 - accuracy: 0.6260\n",
      "Epoch 38/50\n",
      "124/124 - 3s - loss: 0.7215 - accuracy: 0.6339\n",
      "Epoch 39/50\n",
      "124/124 - 3s - loss: 0.7048 - accuracy: 0.6428\n",
      "Epoch 40/50\n",
      "124/124 - 3s - loss: 0.7149 - accuracy: 0.6372\n",
      "Epoch 41/50\n",
      "124/124 - 3s - loss: 0.7432 - accuracy: 0.6296\n",
      "Epoch 42/50\n",
      "124/124 - 3s - loss: 0.7025 - accuracy: 0.6319\n",
      "Epoch 43/50\n",
      "124/124 - 3s - loss: 0.7048 - accuracy: 0.6331\n",
      "Epoch 44/50\n",
      "124/124 - 3s - loss: 0.7030 - accuracy: 0.6423\n",
      "Epoch 45/50\n",
      "124/124 - 3s - loss: 0.7099 - accuracy: 0.6397\n",
      "Epoch 46/50\n",
      "124/124 - 3s - loss: 0.6900 - accuracy: 0.6473\n",
      "Epoch 47/50\n",
      "124/124 - 3s - loss: 0.7124 - accuracy: 0.6433\n",
      "Epoch 48/50\n",
      "124/124 - 3s - loss: 0.6941 - accuracy: 0.6369\n",
      "Epoch 49/50\n",
      "124/124 - 3s - loss: 0.7121 - accuracy: 0.6483\n",
      "Epoch 50/50\n",
      "124/124 - 3s - loss: 0.7094 - accuracy: 0.6324\n",
      "31/31 - 1s\n",
      "Normalized confusion matrix\n",
      "                  precision    recall  f1-score   support\n",
      "\n",
      "  fridge/freezer       0.64      0.83      0.72       146\n",
      "electric furnace       0.33      0.84      0.47        92\n",
      "           light       0.79      0.57      0.66       351\n",
      "       microwave       0.55      0.96      0.70        55\n",
      "         sockets       0.76      0.47      0.58       343\n",
      "\n",
      "        accuracy                           0.62       987\n",
      "       macro avg       0.61      0.73      0.63       987\n",
      "    weighted avg       0.70      0.62      0.63       987\n",
      "\n",
      "using dataset data redd training on model eco seed 12\n",
      "reading data, printing stats: \n",
      "['fridge/freezer', 'electric furnace', 'light', 'microwave', 'sockets']\n",
      "{0: 1.3540308747855918, 1: 2.1335135135135137, 2: 0.5634546752319771, 3: 3.5881818181818184, 4: 0.5749453750910415}\n",
      " \n",
      "Tests \n",
      "fridge/freezer test: 146 train: 583\n",
      "electric furnace test: 92 train: 370\n",
      "light test: 351 train: 1401\n",
      "microwave test: 55 train: 220\n",
      "sockets test: 343 train: 1373\n",
      "loading model\n",
      "compling TL model..\n"
     ]
    },
    {
     "name": "stderr",
     "output_type": "stream",
     "text": [
      "/usr/local/lib/python3.8/dist-packages/tensorflow/python/keras/optimizer_v2/optimizer_v2.py:374: UserWarning: The `lr` argument is deprecated, use `learning_rate` instead.\n",
      "  warnings.warn(\n"
     ]
    },
    {
     "name": "stdout",
     "output_type": "stream",
     "text": [
      "Normal way\n",
      "[0 1 2 3 4 5 6 7 8 9]\n",
      "Epoch 1/50\n",
      "124/124 - 6s - loss: 0.8741 - accuracy: 0.5782\n",
      "Epoch 2/50\n",
      "124/124 - 3s - loss: 0.6632 - accuracy: 0.6825\n",
      "Epoch 3/50\n",
      "124/124 - 3s - loss: 0.6027 - accuracy: 0.7114\n",
      "Epoch 4/50\n",
      "124/124 - 3s - loss: 0.5893 - accuracy: 0.7183\n",
      "Epoch 5/50\n",
      "124/124 - 3s - loss: 0.5705 - accuracy: 0.7211\n",
      "Epoch 6/50\n",
      "124/124 - 3s - loss: 0.5589 - accuracy: 0.7198\n",
      "Epoch 7/50\n",
      "124/124 - 3s - loss: 0.5404 - accuracy: 0.7363\n",
      "Epoch 8/50\n",
      "124/124 - 3s - loss: 0.5210 - accuracy: 0.7309\n",
      "Epoch 9/50\n",
      "124/124 - 3s - loss: 0.5043 - accuracy: 0.7482\n",
      "Epoch 10/50\n",
      "124/124 - 3s - loss: 0.4972 - accuracy: 0.7416\n",
      "Epoch 11/50\n",
      "124/124 - 3s - loss: 0.4985 - accuracy: 0.7444\n",
      "Epoch 12/50\n",
      "124/124 - 3s - loss: 0.4861 - accuracy: 0.7492\n",
      "Epoch 13/50\n",
      "124/124 - 3s - loss: 0.4802 - accuracy: 0.7446\n",
      "Epoch 14/50\n",
      "124/124 - 3s - loss: 0.4805 - accuracy: 0.7494\n",
      "Epoch 15/50\n",
      "124/124 - 3s - loss: 0.4784 - accuracy: 0.7451\n",
      "Epoch 16/50\n",
      "124/124 - 3s - loss: 0.4622 - accuracy: 0.7548\n",
      "Epoch 17/50\n",
      "124/124 - 3s - loss: 0.4654 - accuracy: 0.7573\n",
      "Epoch 18/50\n",
      "124/124 - 3s - loss: 0.4802 - accuracy: 0.7515\n",
      "Epoch 19/50\n",
      "124/124 - 3s - loss: 0.4746 - accuracy: 0.7560\n",
      "Epoch 20/50\n",
      "124/124 - 3s - loss: 0.4746 - accuracy: 0.7502\n",
      "Epoch 21/50\n",
      "124/124 - 3s - loss: 0.4494 - accuracy: 0.7563\n",
      "Epoch 22/50\n",
      "124/124 - 3s - loss: 0.4644 - accuracy: 0.7542\n",
      "Epoch 23/50\n",
      "124/124 - 3s - loss: 0.4446 - accuracy: 0.7596\n",
      "Epoch 24/50\n",
      "124/124 - 3s - loss: 0.4579 - accuracy: 0.7593\n",
      "Epoch 25/50\n",
      "124/124 - 4s - loss: 0.4249 - accuracy: 0.7667\n",
      "Epoch 26/50\n",
      "124/124 - 3s - loss: 0.4438 - accuracy: 0.7651\n",
      "Epoch 27/50\n",
      "124/124 - 3s - loss: 0.4422 - accuracy: 0.7629\n",
      "Epoch 28/50\n",
      "124/124 - 3s - loss: 0.4328 - accuracy: 0.7687\n",
      "Epoch 29/50\n",
      "124/124 - 3s - loss: 0.4288 - accuracy: 0.7692\n",
      "Epoch 30/50\n",
      "124/124 - 3s - loss: 0.4346 - accuracy: 0.7702\n",
      "Epoch 31/50\n",
      "124/124 - 3s - loss: 0.4323 - accuracy: 0.7692\n",
      "Epoch 32/50\n",
      "124/124 - 3s - loss: 0.4274 - accuracy: 0.7732\n",
      "Epoch 33/50\n",
      "124/124 - 3s - loss: 0.4231 - accuracy: 0.7781\n",
      "Epoch 34/50\n",
      "124/124 - 3s - loss: 0.4298 - accuracy: 0.7697\n",
      "Epoch 35/50\n",
      "124/124 - 3s - loss: 0.4242 - accuracy: 0.7768\n",
      "Epoch 36/50\n",
      "124/124 - 3s - loss: 0.4097 - accuracy: 0.7753\n",
      "Epoch 37/50\n",
      "124/124 - 3s - loss: 0.4313 - accuracy: 0.7796\n",
      "Epoch 38/50\n",
      "124/124 - 3s - loss: 0.4153 - accuracy: 0.7786\n",
      "Epoch 39/50\n",
      "124/124 - 3s - loss: 0.4063 - accuracy: 0.7816\n",
      "Epoch 40/50\n",
      "124/124 - 3s - loss: 0.4144 - accuracy: 0.7694\n",
      "Epoch 41/50\n",
      "124/124 - 3s - loss: 0.4140 - accuracy: 0.7776\n",
      "Epoch 42/50\n",
      "124/124 - 3s - loss: 0.4129 - accuracy: 0.7732\n",
      "Epoch 43/50\n",
      "124/124 - 3s - loss: 0.4112 - accuracy: 0.7796\n",
      "Epoch 44/50\n",
      "124/124 - 3s - loss: 0.4195 - accuracy: 0.7722\n",
      "Epoch 45/50\n",
      "124/124 - 3s - loss: 0.3925 - accuracy: 0.7829\n",
      "Epoch 46/50\n",
      "124/124 - 3s - loss: 0.3991 - accuracy: 0.7839\n",
      "Epoch 47/50\n",
      "124/124 - 3s - loss: 0.4144 - accuracy: 0.7715\n",
      "Epoch 48/50\n",
      "124/124 - 3s - loss: 0.3968 - accuracy: 0.7852\n",
      "Epoch 49/50\n",
      "124/124 - 3s - loss: 0.3929 - accuracy: 0.7808\n",
      "Epoch 50/50\n",
      "124/124 - 3s - loss: 0.4010 - accuracy: 0.7808\n",
      "31/31 - 1s\n",
      "Normalized confusion matrix\n",
      "                  precision    recall  f1-score   support\n",
      "\n",
      "  fridge/freezer       0.64      0.92      0.76       146\n",
      "electric furnace       0.57      0.88      0.69        92\n",
      "           light       0.84      0.66      0.74       351\n",
      "       microwave       0.76      0.95      0.85        55\n",
      "         sockets       0.78      0.66      0.72       343\n",
      "\n",
      "        accuracy                           0.74       987\n",
      "       macro avg       0.72      0.81      0.75       987\n",
      "    weighted avg       0.76      0.74      0.74       987\n",
      "\n",
      "using dataset data redd training on model ukdale seed 12\n",
      "reading data, printing stats: \n",
      "['fridge/freezer', 'electric furnace', 'light', 'microwave', 'sockets']\n",
      "{0: 1.3540308747855918, 1: 2.1335135135135137, 2: 0.5634546752319771, 3: 3.5881818181818184, 4: 0.5749453750910415}\n",
      " \n",
      "Tests \n",
      "fridge/freezer test: 146 train: 583\n",
      "electric furnace test: 92 train: 370\n",
      "light test: 351 train: 1401\n",
      "microwave test: 55 train: 220\n",
      "sockets test: 343 train: 1373\n",
      "loading model\n",
      "compling TL model..\n"
     ]
    },
    {
     "name": "stderr",
     "output_type": "stream",
     "text": [
      "/usr/local/lib/python3.8/dist-packages/tensorflow/python/keras/optimizer_v2/optimizer_v2.py:374: UserWarning: The `lr` argument is deprecated, use `learning_rate` instead.\n",
      "  warnings.warn(\n"
     ]
    },
    {
     "name": "stdout",
     "output_type": "stream",
     "text": [
      "Normal way\n",
      "[0 1 2 3 4 5 6 7 8 9]\n",
      "Epoch 1/50\n",
      "124/124 - 6s - loss: 1.0312 - accuracy: 0.5148\n",
      "Epoch 2/50\n",
      "124/124 - 3s - loss: 0.7333 - accuracy: 0.6605\n",
      "Epoch 3/50\n",
      "124/124 - 3s - loss: 0.6675 - accuracy: 0.6785\n",
      "Epoch 4/50\n",
      "124/124 - 3s - loss: 0.6438 - accuracy: 0.6904\n",
      "Epoch 5/50\n",
      "124/124 - 3s - loss: 0.6174 - accuracy: 0.6957\n",
      "Epoch 6/50\n",
      "124/124 - 3s - loss: 0.6070 - accuracy: 0.6990\n",
      "Epoch 7/50\n",
      "124/124 - 3s - loss: 0.5926 - accuracy: 0.7091\n",
      "Epoch 8/50\n",
      "124/124 - 3s - loss: 0.5660 - accuracy: 0.7102\n",
      "Epoch 9/50\n",
      "124/124 - 3s - loss: 0.5762 - accuracy: 0.7150\n",
      "Epoch 10/50\n",
      "124/124 - 3s - loss: 0.5576 - accuracy: 0.7173\n",
      "Epoch 11/50\n",
      "124/124 - 3s - loss: 0.5562 - accuracy: 0.7183\n",
      "Epoch 12/50\n",
      "124/124 - 3s - loss: 0.5448 - accuracy: 0.7198\n",
      "Epoch 13/50\n",
      "124/124 - 3s - loss: 0.5517 - accuracy: 0.7208\n",
      "Epoch 14/50\n",
      "124/124 - 3s - loss: 0.5249 - accuracy: 0.7319\n",
      "Epoch 15/50\n",
      "124/124 - 3s - loss: 0.5341 - accuracy: 0.7312\n",
      "Epoch 16/50\n",
      "124/124 - 3s - loss: 0.5225 - accuracy: 0.7345\n",
      "Epoch 17/50\n",
      "124/124 - 3s - loss: 0.5195 - accuracy: 0.7314\n",
      "Epoch 18/50\n",
      "124/124 - 3s - loss: 0.5232 - accuracy: 0.7218\n",
      "Epoch 19/50\n",
      "124/124 - 3s - loss: 0.5174 - accuracy: 0.7259\n",
      "Epoch 20/50\n",
      "124/124 - 3s - loss: 0.5172 - accuracy: 0.7342\n",
      "Epoch 21/50\n",
      "124/124 - 3s - loss: 0.5084 - accuracy: 0.7378\n",
      "Epoch 22/50\n",
      "124/124 - 3s - loss: 0.5088 - accuracy: 0.7307\n",
      "Epoch 23/50\n",
      "124/124 - 3s - loss: 0.4954 - accuracy: 0.7466\n",
      "Epoch 24/50\n",
      "124/124 - 3s - loss: 0.4858 - accuracy: 0.7466\n",
      "Epoch 25/50\n",
      "124/124 - 3s - loss: 0.4846 - accuracy: 0.7494\n",
      "Epoch 26/50\n",
      "124/124 - 3s - loss: 0.4937 - accuracy: 0.7406\n",
      "Epoch 27/50\n",
      "124/124 - 3s - loss: 0.4999 - accuracy: 0.7408\n",
      "Epoch 28/50\n",
      "124/124 - 3s - loss: 0.4906 - accuracy: 0.7423\n",
      "Epoch 29/50\n",
      "124/124 - 3s - loss: 0.4798 - accuracy: 0.7370\n",
      "Epoch 30/50\n",
      "124/124 - 3s - loss: 0.4639 - accuracy: 0.7530\n",
      "Epoch 31/50\n",
      "124/124 - 3s - loss: 0.4824 - accuracy: 0.7444\n",
      "Epoch 32/50\n",
      "124/124 - 3s - loss: 0.4594 - accuracy: 0.7563\n",
      "Epoch 33/50\n",
      "124/124 - 3s - loss: 0.4792 - accuracy: 0.7411\n",
      "Epoch 34/50\n",
      "124/124 - 3s - loss: 0.4824 - accuracy: 0.7466\n",
      "Epoch 35/50\n",
      "124/124 - 3s - loss: 0.4699 - accuracy: 0.7484\n",
      "Epoch 36/50\n",
      "124/124 - 3s - loss: 0.4651 - accuracy: 0.7532\n",
      "Epoch 37/50\n",
      "124/124 - 3s - loss: 0.4731 - accuracy: 0.7527\n",
      "Epoch 38/50\n",
      "124/124 - 3s - loss: 0.4710 - accuracy: 0.7527\n",
      "Epoch 39/50\n",
      "124/124 - 3s - loss: 0.4644 - accuracy: 0.7573\n",
      "Epoch 40/50\n",
      "124/124 - 3s - loss: 0.4560 - accuracy: 0.7613\n",
      "Epoch 41/50\n",
      "124/124 - 3s - loss: 0.4643 - accuracy: 0.7510\n",
      "Epoch 42/50\n",
      "124/124 - 3s - loss: 0.4514 - accuracy: 0.7583\n",
      "Epoch 43/50\n",
      "124/124 - 3s - loss: 0.4501 - accuracy: 0.7588\n",
      "Epoch 44/50\n",
      "124/124 - 3s - loss: 0.4456 - accuracy: 0.7646\n",
      "Epoch 45/50\n",
      "124/124 - 3s - loss: 0.4741 - accuracy: 0.7512\n",
      "Epoch 46/50\n",
      "124/124 - 3s - loss: 0.4629 - accuracy: 0.7482\n",
      "Epoch 47/50\n",
      "124/124 - 3s - loss: 0.4331 - accuracy: 0.7624\n",
      "Epoch 48/50\n",
      "124/124 - 3s - loss: 0.4492 - accuracy: 0.7603\n",
      "Epoch 49/50\n",
      "124/124 - 3s - loss: 0.4488 - accuracy: 0.7580\n",
      "Epoch 50/50\n",
      "124/124 - 3s - loss: 0.4403 - accuracy: 0.7573\n",
      "31/31 - 1s\n",
      "Normalized confusion matrix\n",
      "                  precision    recall  f1-score   support\n",
      "\n",
      "  fridge/freezer       0.70      0.85      0.77       146\n",
      "electric furnace       0.56      0.83      0.67        92\n",
      "           light       0.78      0.69      0.73       351\n",
      "       microwave       0.86      0.91      0.88        55\n",
      "         sockets       0.74      0.66      0.70       343\n",
      "\n",
      "        accuracy                           0.73       987\n",
      "       macro avg       0.73      0.79      0.75       987\n",
      "    weighted avg       0.74      0.73      0.73       987\n",
      "\n"
     ]
    },
    {
     "data": {
      "image/png": "[encoded data removed]",
      "text/plain": [
       "<Figure size 720x720 with 2 Axes>"
      ]
     },
     "metadata": {
      "needs_background": "light"
     },
     "output_type": "display_data"
    },
    {
     "data": {
      "image/png": "[encoded data removed]",
      "text/plain": [
       "<Figure size 720x720 with 2 Axes>"
      ]
     },
     "metadata": {
      "needs_background": "light"
     },
     "output_type": "display_data"
    },
    {
     "data": {
      "image/png": "[encoded data removed]",
      "text/plain": [
       "<Figure size 720x720 with 2 Axes>"
      ]
     },
     "metadata": {
      "needs_background": "light"
     },
     "output_type": "display_data"
    },
    {
     "data": {
      "image/png": "[encoded data removed]",
      "text/plain": [
       "<Figure size 720x720 with 2 Axes>"
      ]
     },
     "metadata": {
      "needs_background": "light"
     },
     "output_type": "display_data"
    }
   ],
   "source": [
    "# datasets =[\n",
    "#     \"ukdale_gen_GASF_13m_100S5X12A54480_R82_80-20\"\n",
    "# ]\n",
    "\n",
    "if environ['train_type'] == \"TL\": \n",
    "    models = environ['tl_datasets'].replace(\" \",\"\").split(\",\")\n",
    "    #model = [\"base\"]\n",
    "    \n",
    "    for model in models:\n",
    "    \n",
    "        file_name = dataset\n",
    "        \n",
    "        datasetTL = model\n",
    "        \n",
    "        seed = dataset.split(\"_R\")[1][0:2]\n",
    "        \n",
    "        print(\"using dataset data\",dataset.split(\"_\")[0],\"training on model\",model,\"seed\",environ['seed'])\n",
    "        txt_log.write(\"starting \"+dataset.split(\"_\")[0]+\" training on model \"+model+\" seed \"+environ['seed']+\"\\n\")\n",
    "\n",
    "\n",
    "        tf.keras.backend.clear_session()\n",
    "\n",
    "\n",
    "        #read the file\n",
    "        path = str(pathlib.Path().resolve())\n",
    "        path_data = f\"{path}\"\"/data/\"f\"{file_name}\"\"/\"f\"{file_name}\"\".hdf5\"\n",
    "        file = h5py.File(path_data,\"r+\")\n",
    "\n",
    "\n",
    "        print(\"reading data, printing stats: \")\n",
    "        x_test,y_test,d_class_weights,num_of_classes,appliances = get_data(file)\n",
    "        print(\"loading model\")\n",
    "        \n",
    "        model_seed = 42\n",
    "        model_used = create_tl_model(model,environ['learn_type'],model_seed,path,num_of_classes)\n",
    "                \n",
    "        train_gen = HDF5ImageGenerator(\n",
    "            src= path_data,\n",
    "            X_key=\"data/train/gaf\",\n",
    "            y_key=\"labels/train/gaf\",\n",
    "            classes_key=\"appliances/classes\",\n",
    "            labels_encoding=\"hot\",\n",
    "            shuffle=True,\n",
    "            batch_size=int(environ['batch_size']),\n",
    "            num_classes=num_of_classes,\n",
    "            mode=\"train\",\n",
    "            )\n",
    "\n",
    "        model_used.fit(\n",
    "            train_gen,\n",
    "            verbose=2,\n",
    "            epochs=int(environ['epochs']),\n",
    "            class_weight=d_class_weights,\n",
    "            callbacks = [save_op_callback]\n",
    "            #workers = 6,\n",
    "        )\n",
    "        \n",
    "        txt_log.write(\"finished \"+dataset.split(\"_\")[0]+\" training on model \"+model+\" seed \"+environ['seed']+\"\\n\")\n",
    "\n",
    "\n",
    "        evaluate_model(model_used,x_test,y_test,appliances)\n",
    "        \n",
    "\n",
    "\n",
    "\n",
    "        #del model_used\n",
    "\n"
   ]
  },
  {
   "cell_type": "code",
   "execution_count": 16,
   "metadata": {
    "execution": {
     "iopub.execute_input": "2022-02-11T20:10:06.277177Z",
     "iopub.status.busy": "2022-02-11T20:10:06.275990Z",
     "iopub.status.idle": "2022-02-11T20:10:06.278350Z",
     "shell.execute_reply": "2022-02-11T20:10:06.279188Z"
    }
   },
   "outputs": [],
   "source": [
    "txt_log.close()"
   ]
  },
  {
   "cell_type": "code",
   "execution_count": null,
   "metadata": {},
   "outputs": [],
   "source": []
  }
 ],
 "metadata": {
  "colab": {
   "authorship_tag": "ABX9TyMej4PvP65qsLng7TnQKWA4",
   "name": "LSTM-gen",
   "provenance": []
  },
  "kernelspec": {
   "display_name": "Python 3",
   "language": "python",
   "name": "python3"
  },
  "language_info": {
   "codemirror_mode": {
    "name": "ipython",
    "version": 3
   },
   "file_extension": ".py",
   "mimetype": "text/x-python",
   "name": "python",
   "nbconvert_exporter": "python",
   "pygments_lexer": "ipython3",
   "version": "3.7.8"
  }
 },
 "nbformat": 4,
 "nbformat_minor": 4
}
