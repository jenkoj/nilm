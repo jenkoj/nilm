{
 "cells": [
  {
   "cell_type": "code",
   "execution_count": 1,
   "metadata": {
    "execution": {
     "iopub.execute_input": "2022-02-11T20:10:12.962572Z",
     "iopub.status.busy": "2022-02-11T20:10:12.961150Z",
     "iopub.status.idle": "2022-02-11T20:10:14.643941Z",
     "shell.execute_reply": "2022-02-11T20:10:14.644293Z"
    },
    "id": "WqUfHWgtJxtu",
    "scrolled": true,
    "tags": []
   },
   "outputs": [
    {
     "name": "stderr",
     "output_type": "stream",
     "text": [
      "2022-02-11 20:10:13.785675: I tensorflow/stream_executor/platform/default/dso_loader.cc:54] Successfully opened dynamic library libcudart.so.11.0\n"
     ]
    },
    {
     "name": "stdout",
     "output_type": "stream",
     "text": [
      "2.5.0\n",
      "Num GPUs Available:  1\n"
     ]
    },
    {
     "name": "stderr",
     "output_type": "stream",
     "text": [
      "2022-02-11 20:10:14.594724: I tensorflow/stream_executor/platform/default/dso_loader.cc:54] Successfully opened dynamic library libcuda.so.1\n",
      "2022-02-11 20:10:14.629930: I tensorflow/core/common_runtime/gpu/gpu_device.cc:1734] Found device 0 with properties: \n",
      "pciBusID: 0000:21:00.0 name: NVIDIA GeForce RTX 2080 Ti computeCapability: 7.5\n",
      "coreClock: 1.545GHz coreCount: 68 deviceMemorySize: 10.76GiB deviceMemoryBandwidth: 573.69GiB/s\n",
      "2022-02-11 20:10:14.629981: I tensorflow/stream_executor/platform/default/dso_loader.cc:54] Successfully opened dynamic library libcudart.so.11.0\n",
      "2022-02-11 20:10:14.634031: I tensorflow/stream_executor/platform/default/dso_loader.cc:54] Successfully opened dynamic library libcublas.so.11\n",
      "2022-02-11 20:10:14.634102: I tensorflow/stream_executor/platform/default/dso_loader.cc:54] Successfully opened dynamic library libcublasLt.so.11\n",
      "2022-02-11 20:10:14.635572: I tensorflow/stream_executor/platform/default/dso_loader.cc:54] Successfully opened dynamic library libcufft.so.10\n",
      "2022-02-11 20:10:14.635863: I tensorflow/stream_executor/platform/default/dso_loader.cc:54] Successfully opened dynamic library libcurand.so.10\n",
      "2022-02-11 20:10:14.636588: I tensorflow/stream_executor/platform/default/dso_loader.cc:54] Successfully opened dynamic library libcutensor.so.1\n",
      "2022-02-11 20:10:14.637101: I tensorflow/stream_executor/platform/default/dso_loader.cc:54] Successfully opened dynamic library libcusolver.so.11\n",
      "2022-02-11 20:10:14.637858: I tensorflow/stream_executor/platform/default/dso_loader.cc:54] Successfully opened dynamic library libcusparse.so.11\n",
      "2022-02-11 20:10:14.637991: I tensorflow/stream_executor/platform/default/dso_loader.cc:54] Successfully opened dynamic library libcudnn.so.8\n",
      "2022-02-11 20:10:14.638351: I tensorflow/core/common_runtime/gpu/gpu_device.cc:1872] Adding visible gpu devices: 0\n"
     ]
    }
   ],
   "source": [
    "import h5py\n",
    "import numpy as np\n",
    "\n",
    "from sklearn.model_selection import train_test_split\n",
    "from sklearn.metrics import classification_report, confusion_matrix\n",
    "import matplotlib.pyplot as plt\n",
    "import itertools \n",
    "import pyts\n",
    "from pyts.approximation import PiecewiseAggregateApproximation\n",
    "\n",
    "from sklearn.utils import class_weight\n",
    "\n",
    "import pathlib\n",
    "import tensorflow as tf\n",
    "from tensorflow import keras\n",
    "from tensorflow.keras import layers, optimizers\n",
    "from tensorflow.keras.layers import Convolution2D,Conv2D, Dense,Dropout, Flatten, Activation, MaxPooling2D, Input, Conv1D, GlobalAveragePooling1D, TimeDistributed, GRU, LSTM\n",
    "\n",
    "print(tf.__version__)\n",
    "print(\"Num GPUs Available: \", len(tf.config.list_physical_devices('GPU')))\n",
    "gpus = tf.config.experimental.list_physical_devices('GPU')\n",
    "\n",
    "try:\n",
    "    for gpu in gpus:\n",
    "        tf.config.experimental.set_memory_growth(gpu, True)\n",
    "except RuntimeError as e:\n",
    "    print(e)"
   ]
  },
  {
   "cell_type": "code",
   "execution_count": 2,
   "metadata": {
    "execution": {
     "iopub.execute_input": "2022-02-11T20:10:14.649488Z",
     "iopub.status.busy": "2022-02-11T20:10:14.647656Z",
     "iopub.status.idle": "2022-02-11T20:10:14.652568Z",
     "shell.execute_reply": "2022-02-11T20:10:14.652197Z"
    }
   },
   "outputs": [
    {
     "name": "stdout",
     "output_type": "stream",
     "text": [
      "redd_gen_GASF_13m_100S5X5A4934_R42_80-20\n"
     ]
    }
   ],
   "source": [
    "from os import environ\n",
    "dataset = environ['dataset']\n",
    "print(dataset)"
   ]
  },
  {
   "cell_type": "code",
   "execution_count": 3,
   "metadata": {
    "execution": {
     "iopub.execute_input": "2022-02-11T20:10:14.658854Z",
     "iopub.status.busy": "2022-02-11T20:10:14.655636Z",
     "iopub.status.idle": "2022-02-11T20:10:14.663764Z",
     "shell.execute_reply": "2022-02-11T20:10:14.664201Z"
    }
   },
   "outputs": [],
   "source": [
    "#my defs \n",
    "from modules.models import  LSTM_3D_V56, CNN_V56,LSTM_BI_V56\n",
    "from modules.tools import my_print, plot_confusion_matrix_norm, get_data,get_data_split, evaluate_model, create_tl_model\n",
    "from modules.HDF5ImageGenerator import HDF5ImageGenerator"
   ]
  },
  {
   "cell_type": "code",
   "execution_count": 4,
   "metadata": {
    "execution": {
     "iopub.execute_input": "2022-02-11T20:10:14.672317Z",
     "iopub.status.busy": "2022-02-11T20:10:14.671670Z",
     "iopub.status.idle": "2022-02-11T20:10:14.675159Z",
     "shell.execute_reply": "2022-02-11T20:10:14.674485Z"
    },
    "id": "RT1vwq7-KOtB"
   },
   "outputs": [],
   "source": [
    "#LOAD DATASET\n",
    "#file_name = \"ukdale_gen_GASF_13m_100S5X12A54480\"\n",
    "#file_name = \"refit_gen_GASF_13m_100S5X_15A166006\"\n",
    "file_name = \"refit_gen_GASF_13m_100S5X_15A166006_R42-80-20\"\n",
    "#file_name = \"refit_gen_GASF_13m_100S5X_15A166006_R42_80-20\"\n",
    "file_name = \"refit_gen_GASF_60m_300S0X_15A157030N_R12_80-20-V1\"\n",
    "file_name = environ[\"dataset\"]\n",
    "#read the file\n",
    "path = str(pathlib.Path().resolve())\n",
    "\n",
    "path_data = f\"{path}\"\"/data/\"f\"{file_name}\"\"/\"f\"{file_name}\"\".hdf5\"\n",
    "\n",
    "file = h5py.File(path_data,\"r+\")"
   ]
  },
  {
   "cell_type": "code",
   "execution_count": 5,
   "metadata": {
    "execution": {
     "iopub.execute_input": "2022-02-11T20:10:14.682702Z",
     "iopub.status.busy": "2022-02-11T20:10:14.681924Z",
     "iopub.status.idle": "2022-02-11T20:10:14.840040Z",
     "shell.execute_reply": "2022-02-11T20:10:14.840402Z"
    },
    "scrolled": true
   },
   "outputs": [
    {
     "name": "stdout",
     "output_type": "stream",
     "text": [
      "['fridge/freezer', 'electric furnace', 'light', 'microwave', 'sockets']\n",
      "{0: 1.3540308747855918, 1: 2.1335135135135137, 2: 0.5634546752319771, 3: 3.5881818181818184, 4: 0.5749453750910415}\n",
      " \n",
      "Tests \n",
      "fridge/freezer test: 146 train: 583\n",
      "electric furnace test: 92 train: 370\n",
      "light test: 351 train: 1401\n",
      "microwave test: 55 train: 220\n",
      "sockets test: 343 train: 1373\n"
     ]
    }
   ],
   "source": [
    "x_test,y_test,d_class_weights,num_of_classes,appliances = get_data(file)"
   ]
  },
  {
   "cell_type": "code",
   "execution_count": 6,
   "metadata": {
    "execution": {
     "iopub.execute_input": "2022-02-11T20:10:14.850961Z",
     "iopub.status.busy": "2022-02-11T20:10:14.848993Z",
     "iopub.status.idle": "2022-02-11T20:10:14.854059Z",
     "shell.execute_reply": "2022-02-11T20:10:14.854487Z"
    }
   },
   "outputs": [],
   "source": [
    "def select_model(learn_type):\n",
    "    \n",
    "    if learn_type == \"CNN\":\n",
    "        model = CNN_V56(file[\"data/train/gaf\"][0:10],num_of_classes,lr= 0.00002)\n",
    "\n",
    "    if learn_type == \"LSTM\":\n",
    "        model = LSTM_3D_V56(file[\"data/train/gaf\"][0:10],num_of_classes,lr= 0.00002)\n",
    "\n",
    "    if learn_type == \"BI_LSTM\":\n",
    "        model = LSTM_BI_V56(file[\"data/train/gaf\"][0:10],num_of_classes,lr= 0.00002)\n",
    "\n",
    "    return model\n",
    "              "
   ]
  },
  {
   "cell_type": "code",
   "execution_count": 7,
   "metadata": {
    "execution": {
     "iopub.execute_input": "2022-02-11T20:10:14.863811Z",
     "iopub.status.busy": "2022-02-11T20:10:14.863102Z",
     "iopub.status.idle": "2022-02-11T20:10:14.866669Z",
     "shell.execute_reply": "2022-02-11T20:10:14.867427Z"
    }
   },
   "outputs": [],
   "source": [
    "path_save = path+'/experiment_automation/output/'+environ['learn_type']+'/'+dataset.split(\"_\")[0]+\"/\"+environ['train_type']+\"/\"+dataset.split(\"_\")[0]+\"_\"+environ['seed']+\"_\"+environ['tl_datasets']\n",
    "path_save_nb = path_save+\"_out.ipynb\"\n",
    "path_save_log = path_save+\"_out_log2.txt\""
   ]
  },
  {
   "cell_type": "code",
   "execution_count": 8,
   "metadata": {
    "execution": {
     "iopub.execute_input": "2022-02-11T20:10:14.878249Z",
     "iopub.status.busy": "2022-02-11T20:10:14.877034Z",
     "iopub.status.idle": "2022-02-11T20:10:14.976230Z",
     "shell.execute_reply": "2022-02-11T20:10:14.975808Z"
    }
   },
   "outputs": [],
   "source": [
    "from keras.callbacks import LambdaCallback\n",
    "#path_log= path+'/experiment_automation/output/'+environ['learn_type']+'/'+dataset.split(\"_\")[0]+\"/\"+environ['train_type']+\"/\"+dataset.split(\"_\")[0]+\"_\"+environ['seed']+\"_\"+environ['tl_datasets']+\"_log.txt\"\n",
    "txt_log = open(path_save+\"_log.txt\", mode='wt', buffering=1)\n",
    "txt_log.write(\"file created! \\n\")\n",
    "\n",
    "save_op_callback = LambdaCallback(\n",
    "  on_epoch_end = lambda epoch, logs: txt_log.write(\n",
    "    str({'epoch': epoch, 'loss': logs['loss'],'acc': logs['accuracy']}) + '\\n'),\n",
    "                                                           \n",
    ")"
   ]
  },
  {
   "cell_type": "code",
   "execution_count": 9,
   "metadata": {
    "execution": {
     "iopub.execute_input": "2022-02-11T20:10:14.982036Z",
     "iopub.status.busy": "2022-02-11T20:10:14.981619Z",
     "iopub.status.idle": "2022-02-11T20:10:14.985572Z",
     "shell.execute_reply": "2022-02-11T20:10:14.985900Z"
    }
   },
   "outputs": [
    {
     "name": "stdout",
     "output_type": "stream",
     "text": [
      "/workspace/notebooks/experiment_automation/output/BI_LSTM/redd/TL/redd_42_refit, iawe, eco, ukdale_out.ipynb\n"
     ]
    }
   ],
   "source": [
    "print(path_save_nb)"
   ]
  },
  {
   "cell_type": "code",
   "execution_count": 10,
   "metadata": {
    "execution": {
     "iopub.execute_input": "2022-02-11T20:10:14.991296Z",
     "iopub.status.busy": "2022-02-11T20:10:14.990778Z",
     "iopub.status.idle": "2022-02-11T20:10:14.993845Z",
     "shell.execute_reply": "2022-02-11T20:10:14.994254Z"
    }
   },
   "outputs": [],
   "source": [
    "# rm $path_save_log"
   ]
  },
  {
   "cell_type": "code",
   "execution_count": 11,
   "metadata": {
    "execution": {
     "iopub.execute_input": "2022-02-11T20:10:14.999798Z",
     "iopub.status.busy": "2022-02-11T20:10:14.999084Z",
     "iopub.status.idle": "2022-02-11T20:10:15.002292Z",
     "shell.execute_reply": "2022-02-11T20:10:15.002844Z"
    }
   },
   "outputs": [],
   "source": [
    "# %%capture cap \n",
    "\n",
    "# with open(path_save_log,\"wt\") as f:\n",
    "#     f.write(cap.stdout)\n",
    "    \n",
    "# print(\"out capture..\")"
   ]
  },
  {
   "cell_type": "code",
   "execution_count": 12,
   "metadata": {
    "execution": {
     "iopub.execute_input": "2022-02-11T20:10:15.022211Z",
     "iopub.status.busy": "2022-02-11T20:10:15.021216Z",
     "iopub.status.idle": "2022-02-11T20:10:15.023766Z",
     "shell.execute_reply": "2022-02-11T20:10:15.024574Z"
    },
    "id": "vqA9NwOqKrb5",
    "jupyter": {
     "outputs_hidden": true
    },
    "tags": []
   },
   "outputs": [],
   "source": [
    "# %%capture cap --no-stderr\n",
    "\n",
    "\n",
    "if environ['train_type'] == \"BB\":\n",
    "\n",
    "    #define generator\n",
    "    train_gen = HDF5ImageGenerator(\n",
    "        src= path_data,\n",
    "        X_key=\"data/train/gaf\",\n",
    "        y_key=\"labels/train/gaf\",\n",
    "        classes_key=\"appliances/classes\",\n",
    "        labels_encoding=\"hot\",\n",
    "        shuffle=True,\n",
    "        batch_size=int(environ['batch_size']),\n",
    "        num_classes=num_of_classes,\n",
    "        mode=\"train\",\n",
    "        )\n",
    "    \n",
    "    model = select_model(environ['learn_type'])\n",
    "    \n",
    "    txt_log.write(\"fitting BB model: \\n\")\n",
    "    \n",
    "    model.fit(\n",
    "        train_gen,\n",
    "        verbose=2,\n",
    "        epochs=int(environ['epochs']),\n",
    "        class_weight=d_class_weights,\n",
    "        callbacks = [save_op_callback],\n",
    "    )\n",
    "    \n",
    "    txt_log.write(\"finished fitting BB model: \\n\")\n",
    "\n",
    "    evaluate_model(model,x_test,y_test,appliances)\n",
    "    \n",
    "    if environ['save_model']==\"True\":\n",
    "\n",
    "        path_model_save = path+\"/models/\"+environ['learn_type']+\"/\"+dataset.split(\"_\")[0]+\"_\"+dataset.split(\"_R\")[1][0:2]\n",
    "        model.save(path_model_save)\n",
    "        txt_log.write(\"model saved to:\"+\"/models/\"+environ['learn_type']+\"/\"+dataset.split(\"_\")[0]+\"_\"+dataset.split(\"_R\")[1][0:2]+\" \\n\")\n",
    "        \n",
    "        \n",
    "# with open(path_save+\"_out_log.txt\" as f:\n",
    "#     f.write(cap.stdout)\n"
   ]
  },
  {
   "cell_type": "code",
   "execution_count": 13,
   "metadata": {
    "collapsed": true,
    "execution": {
     "iopub.execute_input": "2022-02-11T20:10:15.030476Z",
     "iopub.status.busy": "2022-02-11T20:10:15.029293Z",
     "iopub.status.idle": "2022-02-11T20:10:15.031853Z",
     "shell.execute_reply": "2022-02-11T20:10:15.032840Z"
    }
   },
   "outputs": [],
   "source": [
    "#model = keras.models.load_model(path_model1)\n",
    "# model_used = model"
   ]
  },
  {
   "cell_type": "code",
   "execution_count": 14,
   "metadata": {
    "collapsed": true,
    "execution": {
     "iopub.execute_input": "2022-02-11T20:10:15.039046Z",
     "iopub.status.busy": "2022-02-11T20:10:15.037861Z",
     "iopub.status.idle": "2022-02-11T20:10:15.040789Z",
     "shell.execute_reply": "2022-02-11T20:10:15.041770Z"
    },
    "jupyter": {
     "outputs_hidden": true
    },
    "tags": []
   },
   "outputs": [],
   "source": [
    "# evaluate_model(model,x_test,y_test,appliances)"
   ]
  },
  {
   "cell_type": "code",
   "execution_count": 15,
   "metadata": {
    "collapsed": true,
    "execution": {
     "iopub.execute_input": "2022-02-11T20:10:15.066983Z",
     "iopub.status.busy": "2022-02-11T20:10:15.065564Z",
     "iopub.status.idle": "2022-02-11T20:21:22.574663Z",
     "shell.execute_reply": "2022-02-11T20:21:22.575644Z"
    }
   },
   "outputs": [
    {
     "name": "stdout",
     "output_type": "stream",
     "text": [
      "using dataset data redd training on model refit seed 42\n",
      "reading data, printing stats: \n",
      "['fridge/freezer', 'electric furnace', 'light', 'microwave', 'sockets']\n",
      "{0: 1.3540308747855918, 1: 2.1335135135135137, 2: 0.5634546752319771, 3: 3.5881818181818184, 4: 0.5749453750910415}\n",
      " \n",
      "Tests \n",
      "fridge/freezer test: 146 train: 583\n",
      "electric furnace test: 92 train: 370\n",
      "light test: 351 train: 1401\n",
      "microwave test: 55 train: 220\n",
      "sockets test: 343 train: 1373\n",
      "loading model\n",
      "compling TL model..\n"
     ]
    },
    {
     "name": "stderr",
     "output_type": "stream",
     "text": [
      "2022-02-11 20:10:15.350812: I tensorflow/core/common_runtime/gpu/gpu_device.cc:1734] Found device 0 with properties: \n",
      "pciBusID: 0000:21:00.0 name: NVIDIA GeForce RTX 2080 Ti computeCapability: 7.5\n",
      "coreClock: 1.545GHz coreCount: 68 deviceMemorySize: 10.76GiB deviceMemoryBandwidth: 573.69GiB/s\n",
      "2022-02-11 20:10:15.351144: I tensorflow/core/common_runtime/gpu/gpu_device.cc:1872] Adding visible gpu devices: 0\n",
      "2022-02-11 20:10:15.351195: I tensorflow/stream_executor/platform/default/dso_loader.cc:54] Successfully opened dynamic library libcudart.so.11.0\n",
      "2022-02-11 20:10:15.714467: I tensorflow/core/common_runtime/gpu/gpu_device.cc:1258] Device interconnect StreamExecutor with strength 1 edge matrix:\n",
      "2022-02-11 20:10:15.714504: I tensorflow/core/common_runtime/gpu/gpu_device.cc:1264]      0 \n",
      "2022-02-11 20:10:15.714511: I tensorflow/core/common_runtime/gpu/gpu_device.cc:1277] 0:   N \n",
      "2022-02-11 20:10:15.715092: I tensorflow/core/common_runtime/gpu/gpu_device.cc:1418] Created TensorFlow device (/job:localhost/replica:0/task:0/device:GPU:0 with 9649 MB memory) -> physical GPU (device: 0, name: NVIDIA GeForce RTX 2080 Ti, pci bus id: 0000:21:00.0, compute capability: 7.5)\n",
      "2022-02-11 20:10:15.715429: I tensorflow/core/common_runtime/process_util.cc:146] Creating new thread pool with default inter op setting: 20. Tune using inter_op_parallelism_threads for best performance.\n"
     ]
    },
    {
     "name": "stdout",
     "output_type": "stream",
     "text": [
      "Normal way\n",
      "[0 1 2 3 4 5 6 7 8 9]\n",
      "WARNING:tensorflow:From /usr/local/lib/python3.8/dist-packages/tensorflow/python/ops/array_ops.py:5043: calling gather (from tensorflow.python.ops.array_ops) with validate_indices is deprecated and will be removed in a future version.\n",
      "Instructions for updating:\n",
      "The `validate_indices` argument has no effect. Indices are always validated on CPU and never validated on GPU.\n"
     ]
    },
    {
     "name": "stderr",
     "output_type": "stream",
     "text": [
      "/usr/local/lib/python3.8/dist-packages/tensorflow/python/keras/optimizer_v2/optimizer_v2.py:374: UserWarning: The `lr` argument is deprecated, use `learning_rate` instead.\n",
      "  warnings.warn(\n",
      "2022-02-11 20:10:23.490342: I tensorflow/compiler/mlir/mlir_graph_optimization_pass.cc:176] None of the MLIR Optimization Passes are enabled (registered 2)\n",
      "2022-02-11 20:10:23.508622: I tensorflow/core/platform/profile_utils/cpu_utils.cc:114] CPU Frequency: 3299990000 Hz\n"
     ]
    },
    {
     "name": "stdout",
     "output_type": "stream",
     "text": [
      "Epoch 1/50\n"
     ]
    },
    {
     "name": "stderr",
     "output_type": "stream",
     "text": [
      "2022-02-11 20:10:26.957785: I tensorflow/stream_executor/platform/default/dso_loader.cc:54] Successfully opened dynamic library libcudnn.so.8\n",
      "2022-02-11 20:10:27.423559: I tensorflow/stream_executor/cuda/cuda_dnn.cc:380] Loaded cuDNN version 8202\n",
      "2022-02-11 20:10:27.916557: I tensorflow/stream_executor/platform/default/dso_loader.cc:54] Successfully opened dynamic library libcublas.so.11\n",
      "2022-02-11 20:10:28.332703: I tensorflow/stream_executor/platform/default/dso_loader.cc:54] Successfully opened dynamic library libcublasLt.so.11\n"
     ]
    },
    {
     "name": "stdout",
     "output_type": "stream",
     "text": [
      "124/124 - 7s - loss: 0.8701 - accuracy: 0.5840\n",
      "Epoch 2/50\n",
      "124/124 - 3s - loss: 0.6303 - accuracy: 0.6985\n",
      "Epoch 3/50\n",
      "124/124 - 3s - loss: 0.5748 - accuracy: 0.7086\n",
      "Epoch 4/50\n",
      "124/124 - 3s - loss: 0.5612 - accuracy: 0.7195\n",
      "Epoch 5/50\n",
      "124/124 - 3s - loss: 0.5169 - accuracy: 0.7411\n",
      "Epoch 6/50\n",
      "124/124 - 3s - loss: 0.5203 - accuracy: 0.7309\n",
      "Epoch 7/50\n",
      "124/124 - 3s - loss: 0.5063 - accuracy: 0.7294\n",
      "Epoch 8/50\n",
      "124/124 - 3s - loss: 0.4909 - accuracy: 0.7335\n",
      "Epoch 9/50\n",
      "124/124 - 3s - loss: 0.4552 - accuracy: 0.7550\n",
      "Epoch 10/50\n",
      "124/124 - 3s - loss: 0.4621 - accuracy: 0.7444\n",
      "Epoch 11/50\n",
      "124/124 - 3s - loss: 0.4550 - accuracy: 0.7535\n",
      "Epoch 12/50\n",
      "124/124 - 3s - loss: 0.4635 - accuracy: 0.7588\n",
      "Epoch 13/50\n",
      "124/124 - 3s - loss: 0.4510 - accuracy: 0.7565\n",
      "Epoch 14/50\n",
      "124/124 - 3s - loss: 0.4417 - accuracy: 0.7624\n",
      "Epoch 15/50\n",
      "124/124 - 3s - loss: 0.4473 - accuracy: 0.7606\n",
      "Epoch 16/50\n",
      "124/124 - 3s - loss: 0.4268 - accuracy: 0.7659\n",
      "Epoch 17/50\n",
      "124/124 - 3s - loss: 0.4142 - accuracy: 0.7624\n",
      "Epoch 18/50\n",
      "124/124 - 3s - loss: 0.4281 - accuracy: 0.7702\n",
      "Epoch 19/50\n",
      "124/124 - 3s - loss: 0.4277 - accuracy: 0.7662\n",
      "Epoch 20/50\n",
      "124/124 - 3s - loss: 0.4098 - accuracy: 0.7770\n",
      "Epoch 21/50\n",
      "124/124 - 3s - loss: 0.4149 - accuracy: 0.7760\n",
      "Epoch 22/50\n",
      "124/124 - 3s - loss: 0.4013 - accuracy: 0.7801\n",
      "Epoch 23/50\n",
      "124/124 - 3s - loss: 0.4047 - accuracy: 0.7758\n",
      "Epoch 24/50\n",
      "124/124 - 3s - loss: 0.4064 - accuracy: 0.7717\n",
      "Epoch 25/50\n",
      "124/124 - 3s - loss: 0.3919 - accuracy: 0.7791\n",
      "Epoch 26/50\n",
      "124/124 - 3s - loss: 0.3799 - accuracy: 0.7821\n",
      "Epoch 27/50\n",
      "124/124 - 3s - loss: 0.4056 - accuracy: 0.7687\n",
      "Epoch 28/50\n",
      "124/124 - 3s - loss: 0.3778 - accuracy: 0.7895\n",
      "Epoch 29/50\n",
      "124/124 - 3s - loss: 0.3998 - accuracy: 0.7750\n",
      "Epoch 30/50\n",
      "124/124 - 3s - loss: 0.3800 - accuracy: 0.7857\n",
      "Epoch 31/50\n",
      "124/124 - 3s - loss: 0.3869 - accuracy: 0.7864\n",
      "Epoch 32/50\n",
      "124/124 - 3s - loss: 0.3722 - accuracy: 0.7890\n",
      "Epoch 33/50\n",
      "124/124 - 3s - loss: 0.3872 - accuracy: 0.7836\n",
      "Epoch 34/50\n",
      "124/124 - 3s - loss: 0.3762 - accuracy: 0.7912\n",
      "Epoch 35/50\n",
      "124/124 - 3s - loss: 0.3773 - accuracy: 0.7839\n",
      "Epoch 36/50\n",
      "124/124 - 3s - loss: 0.3799 - accuracy: 0.7806\n",
      "Epoch 37/50\n",
      "124/124 - 3s - loss: 0.3780 - accuracy: 0.7836\n",
      "Epoch 38/50\n",
      "124/124 - 3s - loss: 0.3821 - accuracy: 0.7816\n",
      "Epoch 39/50\n",
      "124/124 - 3s - loss: 0.3642 - accuracy: 0.7872\n",
      "Epoch 40/50\n",
      "124/124 - 3s - loss: 0.3718 - accuracy: 0.7890\n",
      "Epoch 41/50\n",
      "124/124 - 3s - loss: 0.3597 - accuracy: 0.8044\n",
      "Epoch 42/50\n",
      "124/124 - 3s - loss: 0.3736 - accuracy: 0.7882\n",
      "Epoch 43/50\n",
      "124/124 - 3s - loss: 0.3571 - accuracy: 0.7993\n",
      "Epoch 44/50\n",
      "124/124 - 3s - loss: 0.3549 - accuracy: 0.7940\n",
      "Epoch 45/50\n",
      "124/124 - 3s - loss: 0.3509 - accuracy: 0.8057\n",
      "Epoch 46/50\n",
      "124/124 - 3s - loss: 0.3637 - accuracy: 0.7933\n",
      "Epoch 47/50\n",
      "124/124 - 3s - loss: 0.3581 - accuracy: 0.7920\n",
      "Epoch 48/50\n",
      "124/124 - 3s - loss: 0.3610 - accuracy: 0.7958\n",
      "Epoch 49/50\n",
      "124/124 - 3s - loss: 0.3344 - accuracy: 0.8069\n",
      "Epoch 50/50\n",
      "124/124 - 3s - loss: 0.3590 - accuracy: 0.7958\n",
      "31/31 - 1s\n",
      "Normalized confusion matrix\n",
      "                  precision    recall  f1-score   support\n",
      "\n",
      "  fridge/freezer       0.59      0.93      0.72       146\n",
      "electric furnace       0.66      0.95      0.78        92\n",
      "           light       0.86      0.64      0.73       351\n",
      "       microwave       0.78      0.96      0.86        55\n",
      "         sockets       0.81      0.71      0.76       343\n",
      "\n",
      "        accuracy                           0.75       987\n",
      "       macro avg       0.74      0.84      0.77       987\n",
      "    weighted avg       0.78      0.75      0.75       987\n",
      "\n",
      "using dataset data redd training on model iawe seed 42\n",
      "reading data, printing stats: \n",
      "['fridge/freezer', 'electric furnace', 'light', 'microwave', 'sockets']\n",
      "{0: 1.3540308747855918, 1: 2.1335135135135137, 2: 0.5634546752319771, 3: 3.5881818181818184, 4: 0.5749453750910415}\n",
      " \n",
      "Tests \n",
      "fridge/freezer test: 146 train: 583\n",
      "electric furnace test: 92 train: 370\n",
      "light test: 351 train: 1401\n",
      "microwave test: 55 train: 220\n",
      "sockets test: 343 train: 1373\n",
      "loading model\n",
      "compling TL model..\n"
     ]
    },
    {
     "name": "stderr",
     "output_type": "stream",
     "text": [
      "/usr/local/lib/python3.8/dist-packages/tensorflow/python/keras/optimizer_v2/optimizer_v2.py:374: UserWarning: The `lr` argument is deprecated, use `learning_rate` instead.\n",
      "  warnings.warn(\n"
     ]
    },
    {
     "name": "stdout",
     "output_type": "stream",
     "text": [
      "Normal way\n",
      "[0 1 2 3 4 5 6 7 8 9]\n",
      "Epoch 1/50\n",
      "124/124 - 6s - loss: 1.2367 - accuracy: 0.4520\n",
      "Epoch 2/50\n",
      "124/124 - 3s - loss: 1.0165 - accuracy: 0.5333\n",
      "Epoch 3/50\n",
      "124/124 - 3s - loss: 0.9465 - accuracy: 0.5293\n",
      "Epoch 4/50\n",
      "124/124 - 3s - loss: 0.8914 - accuracy: 0.5701\n",
      "Epoch 5/50\n",
      "124/124 - 3s - loss: 0.8727 - accuracy: 0.5670\n",
      "Epoch 6/50\n",
      "124/124 - 3s - loss: 0.8832 - accuracy: 0.5698\n",
      "Epoch 7/50\n",
      "124/124 - 3s - loss: 0.8598 - accuracy: 0.5647\n",
      "Epoch 8/50\n",
      "124/124 - 3s - loss: 0.8418 - accuracy: 0.5888\n",
      "Epoch 9/50\n",
      "124/124 - 3s - loss: 0.8256 - accuracy: 0.5954\n",
      "Epoch 10/50\n",
      "124/124 - 3s - loss: 0.8166 - accuracy: 0.5999\n",
      "Epoch 11/50\n",
      "124/124 - 3s - loss: 0.8090 - accuracy: 0.6070\n",
      "Epoch 12/50\n",
      "124/124 - 3s - loss: 0.8146 - accuracy: 0.5931\n",
      "Epoch 13/50\n",
      "124/124 - 3s - loss: 0.8078 - accuracy: 0.5946\n",
      "Epoch 14/50\n",
      "124/124 - 3s - loss: 0.7935 - accuracy: 0.6174\n",
      "Epoch 15/50\n",
      "124/124 - 3s - loss: 0.7757 - accuracy: 0.6141\n",
      "Epoch 16/50\n",
      "124/124 - 3s - loss: 0.7738 - accuracy: 0.6177\n",
      "Epoch 17/50\n",
      "124/124 - 3s - loss: 0.7916 - accuracy: 0.6083\n",
      "Epoch 18/50\n",
      "124/124 - 3s - loss: 0.7795 - accuracy: 0.6152\n",
      "Epoch 19/50\n",
      "124/124 - 3s - loss: 0.7827 - accuracy: 0.6081\n",
      "Epoch 20/50\n",
      "124/124 - 3s - loss: 0.7758 - accuracy: 0.6108\n",
      "Epoch 21/50\n",
      "124/124 - 3s - loss: 0.7625 - accuracy: 0.6352\n",
      "Epoch 22/50\n",
      "124/124 - 3s - loss: 0.7708 - accuracy: 0.6162\n",
      "Epoch 23/50\n",
      "124/124 - 3s - loss: 0.7468 - accuracy: 0.6190\n",
      "Epoch 24/50\n",
      "124/124 - 3s - loss: 0.7587 - accuracy: 0.6200\n",
      "Epoch 25/50\n",
      "124/124 - 3s - loss: 0.7486 - accuracy: 0.6190\n",
      "Epoch 26/50\n",
      "124/124 - 3s - loss: 0.7475 - accuracy: 0.6167\n",
      "Epoch 27/50\n",
      "124/124 - 3s - loss: 0.7668 - accuracy: 0.6111\n",
      "Epoch 28/50\n",
      "124/124 - 3s - loss: 0.7336 - accuracy: 0.6334\n",
      "Epoch 29/50\n",
      "124/124 - 3s - loss: 0.7509 - accuracy: 0.6197\n",
      "Epoch 30/50\n",
      "124/124 - 3s - loss: 0.7468 - accuracy: 0.6230\n",
      "Epoch 31/50\n",
      "124/124 - 3s - loss: 0.7417 - accuracy: 0.6304\n",
      "Epoch 32/50\n",
      "124/124 - 3s - loss: 0.7232 - accuracy: 0.6319\n",
      "Epoch 33/50\n",
      "124/124 - 3s - loss: 0.7247 - accuracy: 0.6374\n",
      "Epoch 34/50\n",
      "124/124 - 3s - loss: 0.7384 - accuracy: 0.6225\n",
      "Epoch 35/50\n",
      "124/124 - 3s - loss: 0.7375 - accuracy: 0.6296\n",
      "Epoch 36/50\n",
      "124/124 - 3s - loss: 0.7126 - accuracy: 0.6410\n",
      "Epoch 37/50\n",
      "124/124 - 3s - loss: 0.7193 - accuracy: 0.6296\n",
      "Epoch 38/50\n",
      "124/124 - 3s - loss: 0.7060 - accuracy: 0.6354\n",
      "Epoch 39/50\n",
      "124/124 - 3s - loss: 0.7142 - accuracy: 0.6344\n",
      "Epoch 40/50\n",
      "124/124 - 3s - loss: 0.7027 - accuracy: 0.6390\n",
      "Epoch 41/50\n",
      "124/124 - 3s - loss: 0.7286 - accuracy: 0.6301\n",
      "Epoch 42/50\n",
      "124/124 - 3s - loss: 0.7158 - accuracy: 0.6271\n",
      "Epoch 43/50\n",
      "124/124 - 3s - loss: 0.7205 - accuracy: 0.6228\n",
      "Epoch 44/50\n",
      "124/124 - 3s - loss: 0.7203 - accuracy: 0.6372\n",
      "Epoch 45/50\n",
      "124/124 - 3s - loss: 0.7075 - accuracy: 0.6372\n",
      "Epoch 46/50\n",
      "124/124 - 3s - loss: 0.7073 - accuracy: 0.6461\n",
      "Epoch 47/50\n",
      "124/124 - 3s - loss: 0.7004 - accuracy: 0.6521\n",
      "Epoch 48/50\n",
      "124/124 - 3s - loss: 0.7087 - accuracy: 0.6385\n",
      "Epoch 49/50\n",
      "124/124 - 3s - loss: 0.6971 - accuracy: 0.6359\n",
      "Epoch 50/50\n",
      "124/124 - 3s - loss: 0.6969 - accuracy: 0.6534\n",
      "31/31 - 1s\n",
      "Normalized confusion matrix\n",
      "                  precision    recall  f1-score   support\n",
      "\n",
      "  fridge/freezer       0.61      0.85      0.71       146\n",
      "electric furnace       0.32      0.87      0.46        92\n",
      "           light       0.78      0.65      0.71       351\n",
      "       microwave       0.69      0.87      0.77        55\n",
      "         sockets       0.77      0.38      0.51       343\n",
      "\n",
      "        accuracy                           0.62       987\n",
      "       macro avg       0.63      0.72      0.63       987\n",
      "    weighted avg       0.70      0.62      0.62       987\n",
      "\n",
      "using dataset data redd training on model eco seed 42\n",
      "reading data, printing stats: \n",
      "['fridge/freezer', 'electric furnace', 'light', 'microwave', 'sockets']\n",
      "{0: 1.3540308747855918, 1: 2.1335135135135137, 2: 0.5634546752319771, 3: 3.5881818181818184, 4: 0.5749453750910415}\n",
      " \n",
      "Tests \n",
      "fridge/freezer test: 146 train: 583\n",
      "electric furnace test: 92 train: 370\n",
      "light test: 351 train: 1401\n",
      "microwave test: 55 train: 220\n",
      "sockets test: 343 train: 1373\n",
      "loading model\n",
      "compling TL model..\n"
     ]
    },
    {
     "name": "stderr",
     "output_type": "stream",
     "text": [
      "/usr/local/lib/python3.8/dist-packages/tensorflow/python/keras/optimizer_v2/optimizer_v2.py:374: UserWarning: The `lr` argument is deprecated, use `learning_rate` instead.\n",
      "  warnings.warn(\n"
     ]
    },
    {
     "name": "stdout",
     "output_type": "stream",
     "text": [
      "Normal way\n",
      "[0 1 2 3 4 5 6 7 8 9]\n",
      "Epoch 1/50\n",
      "124/124 - 6s - loss: 0.9457 - accuracy: 0.5566\n",
      "Epoch 2/50\n",
      "124/124 - 3s - loss: 0.6864 - accuracy: 0.6706\n",
      "Epoch 3/50\n",
      "124/124 - 3s - loss: 0.6169 - accuracy: 0.7061\n",
      "Epoch 4/50\n",
      "124/124 - 3s - loss: 0.5814 - accuracy: 0.7094\n",
      "Epoch 5/50\n",
      "124/124 - 3s - loss: 0.5677 - accuracy: 0.7238\n",
      "Epoch 6/50\n",
      "124/124 - 3s - loss: 0.5661 - accuracy: 0.7236\n",
      "Epoch 7/50\n",
      "124/124 - 3s - loss: 0.5442 - accuracy: 0.7238\n",
      "Epoch 8/50\n",
      "124/124 - 3s - loss: 0.5335 - accuracy: 0.7304\n",
      "Epoch 9/50\n",
      "124/124 - 3s - loss: 0.5285 - accuracy: 0.7294\n",
      "Epoch 10/50\n",
      "124/124 - 3s - loss: 0.5047 - accuracy: 0.7418\n",
      "Epoch 11/50\n",
      "124/124 - 3s - loss: 0.5005 - accuracy: 0.7401\n",
      "Epoch 12/50\n",
      "124/124 - 3s - loss: 0.4848 - accuracy: 0.7466\n",
      "Epoch 13/50\n",
      "124/124 - 3s - loss: 0.4994 - accuracy: 0.7477\n",
      "Epoch 14/50\n",
      "124/124 - 3s - loss: 0.4989 - accuracy: 0.7517\n",
      "Epoch 15/50\n",
      "124/124 - 3s - loss: 0.4722 - accuracy: 0.7510\n",
      "Epoch 16/50\n",
      "124/124 - 3s - loss: 0.4611 - accuracy: 0.7530\n",
      "Epoch 17/50\n",
      "124/124 - 3s - loss: 0.4625 - accuracy: 0.7596\n",
      "Epoch 18/50\n",
      "124/124 - 3s - loss: 0.4664 - accuracy: 0.7530\n",
      "Epoch 19/50\n",
      "124/124 - 3s - loss: 0.4513 - accuracy: 0.7598\n",
      "Epoch 20/50\n",
      "124/124 - 3s - loss: 0.4537 - accuracy: 0.7593\n",
      "Epoch 21/50\n",
      "124/124 - 3s - loss: 0.4537 - accuracy: 0.7593\n",
      "Epoch 22/50\n",
      "124/124 - 3s - loss: 0.4614 - accuracy: 0.7603\n",
      "Epoch 23/50\n",
      "124/124 - 3s - loss: 0.4618 - accuracy: 0.7510\n",
      "Epoch 24/50\n",
      "124/124 - 3s - loss: 0.4409 - accuracy: 0.7651\n",
      "Epoch 25/50\n",
      "124/124 - 3s - loss: 0.4286 - accuracy: 0.7674\n",
      "Epoch 26/50\n",
      "124/124 - 3s - loss: 0.4438 - accuracy: 0.7618\n",
      "Epoch 27/50\n",
      "124/124 - 3s - loss: 0.4444 - accuracy: 0.7651\n",
      "Epoch 28/50\n",
      "124/124 - 3s - loss: 0.4363 - accuracy: 0.7700\n",
      "Epoch 29/50\n",
      "124/124 - 3s - loss: 0.4330 - accuracy: 0.7649\n",
      "Epoch 30/50\n",
      "124/124 - 3s - loss: 0.4197 - accuracy: 0.7667\n",
      "Epoch 31/50\n",
      "124/124 - 3s - loss: 0.4321 - accuracy: 0.7684\n",
      "Epoch 32/50\n",
      "124/124 - 3s - loss: 0.4234 - accuracy: 0.7725\n",
      "Epoch 33/50\n",
      "124/124 - 3s - loss: 0.4289 - accuracy: 0.7700\n",
      "Epoch 34/50\n",
      "124/124 - 3s - loss: 0.4252 - accuracy: 0.7745\n",
      "Epoch 35/50\n",
      "124/124 - 3s - loss: 0.4219 - accuracy: 0.7669\n",
      "Epoch 36/50\n",
      "124/124 - 3s - loss: 0.4135 - accuracy: 0.7745\n",
      "Epoch 37/50\n",
      "124/124 - 3s - loss: 0.4184 - accuracy: 0.7730\n",
      "Epoch 38/50\n",
      "124/124 - 3s - loss: 0.4053 - accuracy: 0.7882\n",
      "Epoch 39/50\n",
      "124/124 - 3s - loss: 0.4060 - accuracy: 0.7803\n",
      "Epoch 40/50\n",
      "124/124 - 3s - loss: 0.4218 - accuracy: 0.7801\n",
      "Epoch 41/50\n",
      "124/124 - 3s - loss: 0.3896 - accuracy: 0.7859\n",
      "Epoch 42/50\n",
      "124/124 - 3s - loss: 0.4023 - accuracy: 0.7821\n",
      "Epoch 43/50\n",
      "124/124 - 3s - loss: 0.4113 - accuracy: 0.7801\n",
      "Epoch 44/50\n",
      "124/124 - 3s - loss: 0.4002 - accuracy: 0.7879\n",
      "Epoch 45/50\n",
      "124/124 - 3s - loss: 0.4149 - accuracy: 0.7778\n",
      "Epoch 46/50\n",
      "124/124 - 3s - loss: 0.4055 - accuracy: 0.7715\n",
      "Epoch 47/50\n",
      "124/124 - 3s - loss: 0.4053 - accuracy: 0.7781\n",
      "Epoch 48/50\n",
      "124/124 - 3s - loss: 0.3949 - accuracy: 0.7925\n",
      "Epoch 49/50\n",
      "124/124 - 3s - loss: 0.3899 - accuracy: 0.7844\n",
      "Epoch 50/50\n",
      "124/124 - 3s - loss: 0.4093 - accuracy: 0.7760\n",
      "31/31 - 1s\n",
      "Normalized confusion matrix\n",
      "                  precision    recall  f1-score   support\n",
      "\n",
      "  fridge/freezer       0.68      0.93      0.79       146\n",
      "electric furnace       0.68      0.79      0.73        92\n",
      "           light       0.79      0.69      0.74       351\n",
      "       microwave       0.82      0.96      0.88        55\n",
      "         sockets       0.80      0.71      0.75       343\n",
      "\n",
      "        accuracy                           0.76       987\n",
      "       macro avg       0.75      0.82      0.78       987\n",
      "    weighted avg       0.77      0.76      0.76       987\n",
      "\n",
      "using dataset data redd training on model ukdale seed 42\n",
      "reading data, printing stats: \n",
      "['fridge/freezer', 'electric furnace', 'light', 'microwave', 'sockets']\n",
      "{0: 1.3540308747855918, 1: 2.1335135135135137, 2: 0.5634546752319771, 3: 3.5881818181818184, 4: 0.5749453750910415}\n",
      " \n",
      "Tests \n",
      "fridge/freezer test: 146 train: 583\n",
      "electric furnace test: 92 train: 370\n",
      "light test: 351 train: 1401\n",
      "microwave test: 55 train: 220\n",
      "sockets test: 343 train: 1373\n",
      "loading model\n",
      "compling TL model..\n"
     ]
    },
    {
     "name": "stderr",
     "output_type": "stream",
     "text": [
      "/usr/local/lib/python3.8/dist-packages/tensorflow/python/keras/optimizer_v2/optimizer_v2.py:374: UserWarning: The `lr` argument is deprecated, use `learning_rate` instead.\n",
      "  warnings.warn(\n"
     ]
    },
    {
     "name": "stdout",
     "output_type": "stream",
     "text": [
      "Normal way\n",
      "[0 1 2 3 4 5 6 7 8 9]\n",
      "Epoch 1/50\n",
      "124/124 - 6s - loss: 0.9919 - accuracy: 0.5313\n",
      "Epoch 2/50\n",
      "124/124 - 3s - loss: 0.7198 - accuracy: 0.6572\n",
      "Epoch 3/50\n",
      "124/124 - 3s - loss: 0.6576 - accuracy: 0.6772\n",
      "Epoch 4/50\n",
      "124/124 - 3s - loss: 0.6337 - accuracy: 0.6894\n",
      "Epoch 5/50\n",
      "124/124 - 3s - loss: 0.6186 - accuracy: 0.6889\n",
      "Epoch 6/50\n",
      "124/124 - 3s - loss: 0.5995 - accuracy: 0.6998\n",
      "Epoch 7/50\n",
      "124/124 - 3s - loss: 0.5995 - accuracy: 0.7031\n",
      "Epoch 8/50\n",
      "124/124 - 3s - loss: 0.5759 - accuracy: 0.7041\n",
      "Epoch 9/50\n",
      "124/124 - 3s - loss: 0.5600 - accuracy: 0.7137\n",
      "Epoch 10/50\n",
      "124/124 - 3s - loss: 0.5729 - accuracy: 0.7053\n",
      "Epoch 11/50\n",
      "124/124 - 3s - loss: 0.5508 - accuracy: 0.7188\n",
      "Epoch 12/50\n",
      "124/124 - 3s - loss: 0.5358 - accuracy: 0.7203\n",
      "Epoch 13/50\n",
      "124/124 - 3s - loss: 0.5468 - accuracy: 0.7162\n",
      "Epoch 14/50\n",
      "124/124 - 3s - loss: 0.5470 - accuracy: 0.7051\n",
      "Epoch 15/50\n",
      "124/124 - 3s - loss: 0.5211 - accuracy: 0.7216\n",
      "Epoch 16/50\n",
      "124/124 - 3s - loss: 0.5254 - accuracy: 0.7226\n",
      "Epoch 17/50\n",
      "124/124 - 3s - loss: 0.5308 - accuracy: 0.7162\n",
      "Epoch 18/50\n",
      "124/124 - 3s - loss: 0.5227 - accuracy: 0.7142\n",
      "Epoch 19/50\n",
      "124/124 - 3s - loss: 0.5010 - accuracy: 0.7385\n",
      "Epoch 20/50\n",
      "124/124 - 3s - loss: 0.5188 - accuracy: 0.7319\n",
      "Epoch 21/50\n",
      "124/124 - 3s - loss: 0.5091 - accuracy: 0.7317\n",
      "Epoch 22/50\n",
      "124/124 - 3s - loss: 0.4893 - accuracy: 0.7355\n",
      "Epoch 23/50\n",
      "124/124 - 3s - loss: 0.4991 - accuracy: 0.7256\n",
      "Epoch 24/50\n",
      "124/124 - 3s - loss: 0.5049 - accuracy: 0.7330\n",
      "Epoch 25/50\n",
      "124/124 - 3s - loss: 0.4973 - accuracy: 0.7312\n",
      "Epoch 26/50\n",
      "124/124 - 3s - loss: 0.4878 - accuracy: 0.7345\n",
      "Epoch 27/50\n",
      "124/124 - 3s - loss: 0.4905 - accuracy: 0.7428\n",
      "Epoch 28/50\n",
      "124/124 - 3s - loss: 0.4898 - accuracy: 0.7390\n",
      "Epoch 29/50\n",
      "124/124 - 3s - loss: 0.4816 - accuracy: 0.7342\n",
      "Epoch 30/50\n",
      "124/124 - 3s - loss: 0.4851 - accuracy: 0.7499\n",
      "Epoch 31/50\n",
      "124/124 - 3s - loss: 0.4685 - accuracy: 0.7413\n",
      "Epoch 32/50\n",
      "124/124 - 3s - loss: 0.4671 - accuracy: 0.7492\n",
      "Epoch 33/50\n",
      "124/124 - 3s - loss: 0.4568 - accuracy: 0.7532\n",
      "Epoch 34/50\n",
      "124/124 - 3s - loss: 0.4584 - accuracy: 0.7578\n",
      "Epoch 35/50\n",
      "124/124 - 3s - loss: 0.4712 - accuracy: 0.7433\n",
      "Epoch 36/50\n",
      "124/124 - 3s - loss: 0.4529 - accuracy: 0.7537\n",
      "Epoch 37/50\n",
      "124/124 - 3s - loss: 0.4633 - accuracy: 0.7471\n",
      "Epoch 38/50\n",
      "124/124 - 3s - loss: 0.4502 - accuracy: 0.7618\n",
      "Epoch 39/50\n",
      "124/124 - 3s - loss: 0.4593 - accuracy: 0.7545\n",
      "Epoch 40/50\n",
      "124/124 - 3s - loss: 0.4653 - accuracy: 0.7497\n",
      "Epoch 41/50\n",
      "124/124 - 3s - loss: 0.4587 - accuracy: 0.7542\n",
      "Epoch 42/50\n",
      "124/124 - 3s - loss: 0.4575 - accuracy: 0.7555\n",
      "Epoch 43/50\n",
      "124/124 - 3s - loss: 0.4650 - accuracy: 0.7532\n",
      "Epoch 44/50\n",
      "124/124 - 3s - loss: 0.4424 - accuracy: 0.7542\n",
      "Epoch 45/50\n",
      "124/124 - 3s - loss: 0.4594 - accuracy: 0.7537\n",
      "Epoch 46/50\n",
      "124/124 - 3s - loss: 0.4667 - accuracy: 0.7522\n",
      "Epoch 47/50\n",
      "124/124 - 3s - loss: 0.4425 - accuracy: 0.7656\n",
      "Epoch 48/50\n",
      "124/124 - 3s - loss: 0.4420 - accuracy: 0.7689\n",
      "Epoch 49/50\n",
      "124/124 - 3s - loss: 0.4344 - accuracy: 0.7611\n",
      "Epoch 50/50\n",
      "124/124 - 3s - loss: 0.4277 - accuracy: 0.7659\n",
      "31/31 - 1s\n",
      "Normalized confusion matrix\n",
      "                  precision    recall  f1-score   support\n",
      "\n",
      "  fridge/freezer       0.66      0.82      0.73       146\n",
      "electric furnace       0.55      0.83      0.66        92\n",
      "           light       0.81      0.70      0.75       351\n",
      "       microwave       0.70      0.95      0.81        55\n",
      "         sockets       0.75      0.64      0.69       343\n",
      "\n",
      "        accuracy                           0.72       987\n",
      "       macro avg       0.69      0.78      0.73       987\n",
      "    weighted avg       0.74      0.72      0.72       987\n",
      "\n"
     ]
    },
    {
     "data": {
      "image/png": "[encoded data removed]",
      "text/plain": [
       "<Figure size 720x720 with 2 Axes>"
      ]
     },
     "metadata": {
      "needs_background": "light"
     },
     "output_type": "display_data"
    },
    {
     "data": {
      "image/png": "[encoded data removed]",
      "text/plain": [
       "<Figure size 720x720 with 2 Axes>"
      ]
     },
     "metadata": {
      "needs_background": "light"
     },
     "output_type": "display_data"
    },
    {
     "data": {
      "image/png": "[encoded data removed]",
      "text/plain": [
       "<Figure size 720x720 with 2 Axes>"
      ]
     },
     "metadata": {
      "needs_background": "light"
     },
     "output_type": "display_data"
    },
    {
     "data": {
      "image/png": "[encoded data removed]",
      "text/plain": [
       "<Figure size 720x720 with 2 Axes>"
      ]
     },
     "metadata": {
      "needs_background": "light"
     },
     "output_type": "display_data"
    }
   ],
   "source": [
    "# datasets =[\n",
    "#     \"ukdale_gen_GASF_13m_100S5X12A54480_R82_80-20\"\n",
    "# ]\n",
    "\n",
    "if environ['train_type'] == \"TL\": \n",
    "    models = environ['tl_datasets'].replace(\" \",\"\").split(\",\")\n",
    "    #model = [\"base\"]\n",
    "    \n",
    "    for model in models:\n",
    "    \n",
    "        file_name = dataset\n",
    "        \n",
    "        datasetTL = model\n",
    "        \n",
    "        seed = dataset.split(\"_R\")[1][0:2]\n",
    "        \n",
    "        print(\"using dataset data\",dataset.split(\"_\")[0],\"training on model\",model,\"seed\",environ['seed'])\n",
    "        txt_log.write(\"starting \"+dataset.split(\"_\")[0]+\" training on model \"+model+\" seed \"+environ['seed']+\"\\n\")\n",
    "\n",
    "\n",
    "        tf.keras.backend.clear_session()\n",
    "\n",
    "\n",
    "        #read the file\n",
    "        path = str(pathlib.Path().resolve())\n",
    "        path_data = f\"{path}\"\"/data/\"f\"{file_name}\"\"/\"f\"{file_name}\"\".hdf5\"\n",
    "        file = h5py.File(path_data,\"r+\")\n",
    "\n",
    "\n",
    "        print(\"reading data, printing stats: \")\n",
    "        x_test,y_test,d_class_weights,num_of_classes,appliances = get_data(file)\n",
    "        print(\"loading model\")\n",
    "        \n",
    "        model_seed = 42\n",
    "        model_used = create_tl_model(model,environ['learn_type'],model_seed,path,num_of_classes)\n",
    "                \n",
    "        train_gen = HDF5ImageGenerator(\n",
    "            src= path_data,\n",
    "            X_key=\"data/train/gaf\",\n",
    "            y_key=\"labels/train/gaf\",\n",
    "            classes_key=\"appliances/classes\",\n",
    "            labels_encoding=\"hot\",\n",
    "            shuffle=True,\n",
    "            batch_size=int(environ['batch_size']),\n",
    "            num_classes=num_of_classes,\n",
    "            mode=\"train\",\n",
    "            )\n",
    "\n",
    "        model_used.fit(\n",
    "            train_gen,\n",
    "            verbose=2,\n",
    "            epochs=int(environ['epochs']),\n",
    "            class_weight=d_class_weights,\n",
    "            callbacks = [save_op_callback]\n",
    "            #workers = 6,\n",
    "        )\n",
    "        \n",
    "        txt_log.write(\"finished \"+dataset.split(\"_\")[0]+\" training on model \"+model+\" seed \"+environ['seed']+\"\\n\")\n",
    "\n",
    "\n",
    "        evaluate_model(model_used,x_test,y_test,appliances)\n",
    "        \n",
    "\n",
    "\n",
    "\n",
    "        #del model_used\n",
    "\n"
   ]
  },
  {
   "cell_type": "code",
   "execution_count": 16,
   "metadata": {
    "execution": {
     "iopub.execute_input": "2022-02-11T20:21:22.581093Z",
     "iopub.status.busy": "2022-02-11T20:21:22.579912Z",
     "iopub.status.idle": "2022-02-11T20:21:22.582344Z",
     "shell.execute_reply": "2022-02-11T20:21:22.583304Z"
    }
   },
   "outputs": [],
   "source": [
    "txt_log.close()"
   ]
  },
  {
   "cell_type": "code",
   "execution_count": null,
   "metadata": {},
   "outputs": [],
   "source": []
  }
 ],
 "metadata": {
  "colab": {
   "authorship_tag": "ABX9TyMej4PvP65qsLng7TnQKWA4",
   "name": "LSTM-gen",
   "provenance": []
  },
  "kernelspec": {
   "display_name": "Python 3 (ipykernel)",
   "language": "python",
   "name": "python3"
  },
  "language_info": {
   "codemirror_mode": {
    "name": "ipython",
    "version": 3
   },
   "file_extension": ".py",
   "mimetype": "text/x-python",
   "name": "python",
   "nbconvert_exporter": "python",
   "pygments_lexer": "ipython3",
   "version": "3.8.10"
  }
 },
 "nbformat": 4,
 "nbformat_minor": 4
}
