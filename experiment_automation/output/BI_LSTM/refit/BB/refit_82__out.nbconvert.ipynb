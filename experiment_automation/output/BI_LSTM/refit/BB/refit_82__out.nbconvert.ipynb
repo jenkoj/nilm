{
 "cells": [
  {
   "cell_type": "code",
   "execution_count": 1,
   "metadata": {
    "execution": {
     "iopub.execute_input": "2022-02-11T02:00:59.915946Z",
     "iopub.status.busy": "2022-02-11T02:00:59.914716Z",
     "iopub.status.idle": "2022-02-11T02:01:05.600224Z",
     "shell.execute_reply": "2022-02-11T02:01:05.598918Z"
    },
    "id": "WqUfHWgtJxtu",
    "scrolled": true,
    "tags": []
   },
   "outputs": [
    {
     "name": "stderr",
     "output_type": "stream",
     "text": [
      "2022-02-11 02:01:04.052714: I tensorflow/stream_executor/platform/default/dso_loader.cc:54] Successfully opened dynamic library libcudart.so.11.0\n"
     ]
    },
    {
     "name": "stdout",
     "output_type": "stream",
     "text": [
      "2.5.0\n",
      "Num GPUs Available:  1\n"
     ]
    },
    {
     "name": "stderr",
     "output_type": "stream",
     "text": [
      "2022-02-11 02:01:05.490179: I tensorflow/stream_executor/platform/default/dso_loader.cc:54] Successfully opened dynamic library libcuda.so.1\n",
      "2022-02-11 02:01:05.542261: I tensorflow/core/common_runtime/gpu/gpu_device.cc:1734] Found device 0 with properties: \n",
      "pciBusID: 0000:21:00.0 name: NVIDIA GeForce RTX 2080 Ti computeCapability: 7.5\n",
      "coreClock: 1.545GHz coreCount: 68 deviceMemorySize: 10.76GiB deviceMemoryBandwidth: 573.69GiB/s\n",
      "2022-02-11 02:01:05.542369: I tensorflow/stream_executor/platform/default/dso_loader.cc:54] Successfully opened dynamic library libcudart.so.11.0\n",
      "2022-02-11 02:01:05.556292: I tensorflow/stream_executor/platform/default/dso_loader.cc:54] Successfully opened dynamic library libcublas.so.11\n",
      "2022-02-11 02:01:05.556366: I tensorflow/stream_executor/platform/default/dso_loader.cc:54] Successfully opened dynamic library libcublasLt.so.11\n",
      "2022-02-11 02:01:05.563610: I tensorflow/stream_executor/platform/default/dso_loader.cc:54] Successfully opened dynamic library libcufft.so.10\n",
      "2022-02-11 02:01:05.565622: I tensorflow/stream_executor/platform/default/dso_loader.cc:54] Successfully opened dynamic library libcurand.so.10\n",
      "2022-02-11 02:01:05.582327: I tensorflow/stream_executor/platform/default/dso_loader.cc:54] Successfully opened dynamic library libcutensor.so.1\n",
      "2022-02-11 02:01:05.584501: I tensorflow/stream_executor/platform/default/dso_loader.cc:54] Successfully opened dynamic library libcusolver.so.11\n",
      "2022-02-11 02:01:05.588703: I tensorflow/stream_executor/platform/default/dso_loader.cc:54] Successfully opened dynamic library libcusparse.so.11\n",
      "2022-02-11 02:01:05.589213: I tensorflow/stream_executor/platform/default/dso_loader.cc:54] Successfully opened dynamic library libcudnn.so.8\n",
      "2022-02-11 02:01:05.589863: I tensorflow/core/common_runtime/gpu/gpu_device.cc:1872] Adding visible gpu devices: 0\n"
     ]
    }
   ],
   "source": [
    "import h5py\n",
    "import numpy as np\n",
    "\n",
    "from sklearn.model_selection import train_test_split\n",
    "from sklearn.metrics import classification_report, confusion_matrix\n",
    "import matplotlib.pyplot as plt\n",
    "import itertools \n",
    "import pyts\n",
    "from pyts.approximation import PiecewiseAggregateApproximation\n",
    "\n",
    "from sklearn.utils import class_weight\n",
    "\n",
    "import pathlib\n",
    "import tensorflow as tf\n",
    "from tensorflow import keras\n",
    "from tensorflow.keras import layers, optimizers\n",
    "from tensorflow.keras.layers import Convolution2D,Conv2D, Dense,Dropout, Flatten, Activation, MaxPooling2D, Input, Conv1D, GlobalAveragePooling1D, TimeDistributed, GRU, LSTM\n",
    "\n",
    "print(tf.__version__)\n",
    "print(\"Num GPUs Available: \", len(tf.config.list_physical_devices('GPU')))\n",
    "gpus = tf.config.experimental.list_physical_devices('GPU')\n",
    "\n",
    "try:\n",
    "    for gpu in gpus:\n",
    "        tf.config.experimental.set_memory_growth(gpu, True)\n",
    "except RuntimeError as e:\n",
    "    print(e)"
   ]
  },
  {
   "cell_type": "code",
   "execution_count": 2,
   "metadata": {
    "execution": {
     "iopub.execute_input": "2022-02-11T02:01:05.606490Z",
     "iopub.status.busy": "2022-02-11T02:01:05.605258Z",
     "iopub.status.idle": "2022-02-11T02:01:05.610282Z",
     "shell.execute_reply": "2022-02-11T02:01:05.609248Z"
    }
   },
   "outputs": [
    {
     "name": "stdout",
     "output_type": "stream",
     "text": [
      "refit_gen_GASF_13m_100S5X_15A166006_R82_80-20\n"
     ]
    }
   ],
   "source": [
    "from os import environ\n",
    "dataset = environ['dataset']\n",
    "print(dataset)"
   ]
  },
  {
   "cell_type": "code",
   "execution_count": 3,
   "metadata": {
    "execution": {
     "iopub.execute_input": "2022-02-11T02:01:05.616724Z",
     "iopub.status.busy": "2022-02-11T02:01:05.615500Z",
     "iopub.status.idle": "2022-02-11T02:01:05.621231Z",
     "shell.execute_reply": "2022-02-11T02:01:05.620196Z"
    }
   },
   "outputs": [],
   "source": [
    "#my defs \n",
    "from modules.models import  LSTM_3D_V56, CNN_V56,LSTM_BI_V56\n",
    "from modules.tools import my_print, plot_confusion_matrix_norm, get_data,get_data_split, evaluate_model, create_tl_model\n",
    "from modules.HDF5ImageGenerator import HDF5ImageGenerator"
   ]
  },
  {
   "cell_type": "code",
   "execution_count": 4,
   "metadata": {
    "execution": {
     "iopub.execute_input": "2022-02-11T02:01:05.629456Z",
     "iopub.status.busy": "2022-02-11T02:01:05.628237Z",
     "iopub.status.idle": "2022-02-11T02:01:05.630719Z",
     "shell.execute_reply": "2022-02-11T02:01:05.631680Z"
    },
    "id": "RT1vwq7-KOtB"
   },
   "outputs": [],
   "source": [
    "#LOAD DATASET\n",
    "#file_name = \"ukdale_gen_GASF_13m_100S5X12A54480\"\n",
    "#file_name = \"refit_gen_GASF_13m_100S5X_15A166006\"\n",
    "file_name = \"refit_gen_GASF_13m_100S5X_15A166006_R42-80-20\"\n",
    "#file_name = \"refit_gen_GASF_13m_100S5X_15A166006_R42_80-20\"\n",
    "file_name = \"refit_gen_GASF_60m_300S0X_15A157030N_R12_80-20-V1\"\n",
    "file_name = environ[\"dataset\"]\n",
    "#read the file\n",
    "path = str(pathlib.Path().resolve())\n",
    "\n",
    "path_data = f\"{path}\"\"/data/\"f\"{file_name}\"\"/\"f\"{file_name}\"\".hdf5\"\n",
    "\n",
    "file = h5py.File(path_data,\"r+\")"
   ]
  },
  {
   "cell_type": "code",
   "execution_count": 5,
   "metadata": {
    "execution": {
     "iopub.execute_input": "2022-02-11T02:01:05.638063Z",
     "iopub.status.busy": "2022-02-11T02:01:05.636898Z",
     "iopub.status.idle": "2022-02-11T02:01:11.581812Z",
     "shell.execute_reply": "2022-02-11T02:01:11.582869Z"
    },
    "scrolled": true
   },
   "outputs": [
    {
     "name": "stdout",
     "output_type": "stream",
     "text": [
      "['HEKA', 'fridge/freezer', 'audio system', 'breadmaker', 'broadband router', 'computer', 'dehumidifier', 'dish washer', 'electric space heater', 'food processor', 'pond pump', 'television', 'tumble dryer', 'washer dryer', 'washing machine']\n",
      "{0: 0.3663356504468719, 1: 0.22525951557093427, 2: 6.4672023374726075, 3: 34.85669291338583, 4: 4.910482529118137, 5: 0.43032954214056574, 6: 18.068571428571428, 7: 2.8259176508139165, 8: 11.852208835341365, 9: 12.611965811965812, 10: 2.7789077212806026, 11: 0.2799203262828417, 12: 7.359600997506234, 13: 38.32727272727273, 14: 2.2073298429319372}\n",
      " \n",
      "Tests \n",
      "HEKA test: 6042 train: 24168\n",
      "fridge/freezer test: 9826 train: 39304\n",
      "audio system test: 342 train: 1369\n",
      "breadmaker test: 64 train: 254\n",
      "broadband router test: 451 train: 1803\n",
      "computer test: 5143 train: 20574\n",
      "dehumidifier test: 123 train: 490\n",
      "dish washer test: 783 train: 3133\n",
      "electric space heater test: 187 train: 747\n",
      "food processor test: 175 train: 702\n",
      "pond pump test: 796 train: 3186\n",
      "television test: 7908 train: 31629\n",
      "tumble dryer test: 301 train: 1203\n",
      "washer dryer test: 58 train: 231\n",
      "washing machine test: 1003 train: 4011\n"
     ]
    }
   ],
   "source": [
    "x_test,y_test,d_class_weights,num_of_classes,appliances = get_data(file)"
   ]
  },
  {
   "cell_type": "code",
   "execution_count": 6,
   "metadata": {
    "execution": {
     "iopub.execute_input": "2022-02-11T02:01:11.590805Z",
     "iopub.status.busy": "2022-02-11T02:01:11.589535Z",
     "iopub.status.idle": "2022-02-11T02:01:11.596608Z",
     "shell.execute_reply": "2022-02-11T02:01:11.595502Z"
    }
   },
   "outputs": [],
   "source": [
    "def select_model(learn_type):\n",
    "    \n",
    "    if learn_type == \"CNN\":\n",
    "        model = CNN_V56(file[\"data/train/gaf\"][0:10],num_of_classes,lr= 0.00002)\n",
    "\n",
    "    if learn_type == \"LSTM\":\n",
    "        model = LSTM_3D_V56(file[\"data/train/gaf\"][0:10],num_of_classes,lr= 0.00002)\n",
    "\n",
    "    if learn_type == \"BI_LSTM\":\n",
    "        model = LSTM_BI_V56(file[\"data/train/gaf\"][0:10],num_of_classes,lr= 0.00002)\n",
    "\n",
    "    return model\n",
    "              "
   ]
  },
  {
   "cell_type": "code",
   "execution_count": 7,
   "metadata": {
    "execution": {
     "iopub.execute_input": "2022-02-11T02:01:11.604224Z",
     "iopub.status.busy": "2022-02-11T02:01:11.602929Z",
     "iopub.status.idle": "2022-02-11T02:01:11.605577Z",
     "shell.execute_reply": "2022-02-11T02:01:11.606609Z"
    }
   },
   "outputs": [],
   "source": [
    "path_save = path+'/experiment_automation/output/'+environ['learn_type']+'/'+dataset.split(\"_\")[0]+\"/\"+environ['train_type']+\"/\"+dataset.split(\"_\")[0]+\"_\"+environ['seed']+\"_\"+environ['tl_datasets']\n",
    "path_save_nb = path_save+\"_out.ipynb\"\n",
    "path_save_log = path_save+\"_out_log2.txt\""
   ]
  },
  {
   "cell_type": "code",
   "execution_count": 8,
   "metadata": {
    "execution": {
     "iopub.execute_input": "2022-02-11T02:01:11.616155Z",
     "iopub.status.busy": "2022-02-11T02:01:11.614846Z",
     "iopub.status.idle": "2022-02-11T02:01:11.751394Z",
     "shell.execute_reply": "2022-02-11T02:01:11.752600Z"
    }
   },
   "outputs": [],
   "source": [
    "from keras.callbacks import LambdaCallback\n",
    "#path_log= path+'/experiment_automation/output/'+environ['learn_type']+'/'+dataset.split(\"_\")[0]+\"/\"+environ['train_type']+\"/\"+dataset.split(\"_\")[0]+\"_\"+environ['seed']+\"_\"+environ['tl_datasets']+\"_log.txt\"\n",
    "txt_log = open(path_save+\"_log.txt\", mode='wt', buffering=1)\n",
    "txt_log.write(\"file created! \\n\")\n",
    "\n",
    "save_op_callback = LambdaCallback(\n",
    "  on_epoch_end = lambda epoch, logs: txt_log.write(\n",
    "    str({'epoch': epoch, 'loss': logs['loss'],'acc': logs['accuracy']}) + '\\n'),\n",
    "                                                           \n",
    ")"
   ]
  },
  {
   "cell_type": "code",
   "execution_count": 9,
   "metadata": {
    "execution": {
     "iopub.execute_input": "2022-02-11T02:01:11.758489Z",
     "iopub.status.busy": "2022-02-11T02:01:11.757236Z",
     "iopub.status.idle": "2022-02-11T02:01:11.762805Z",
     "shell.execute_reply": "2022-02-11T02:01:11.761680Z"
    }
   },
   "outputs": [
    {
     "name": "stdout",
     "output_type": "stream",
     "text": [
      "/workspace/notebooks/experiment_automation/output/BI_LSTM/refit/BB/refit_82__out.ipynb\n"
     ]
    }
   ],
   "source": [
    "print(path_save_nb)"
   ]
  },
  {
   "cell_type": "code",
   "execution_count": 10,
   "metadata": {
    "execution": {
     "iopub.execute_input": "2022-02-11T02:01:11.768311Z",
     "iopub.status.busy": "2022-02-11T02:01:11.767145Z",
     "iopub.status.idle": "2022-02-11T02:01:11.769489Z",
     "shell.execute_reply": "2022-02-11T02:01:11.770326Z"
    }
   },
   "outputs": [],
   "source": [
    "# rm $path_save_log"
   ]
  },
  {
   "cell_type": "code",
   "execution_count": 11,
   "metadata": {
    "execution": {
     "iopub.execute_input": "2022-02-11T02:01:11.775906Z",
     "iopub.status.busy": "2022-02-11T02:01:11.774824Z",
     "iopub.status.idle": "2022-02-11T02:01:11.777081Z",
     "shell.execute_reply": "2022-02-11T02:01:11.777867Z"
    }
   },
   "outputs": [],
   "source": [
    "# %%capture cap \n",
    "\n",
    "# with open(path_save_log,\"wt\") as f:\n",
    "#     f.write(cap.stdout)\n",
    "    \n",
    "# print(\"out capture..\")"
   ]
  },
  {
   "cell_type": "code",
   "execution_count": 12,
   "metadata": {
    "execution": {
     "iopub.execute_input": "2022-02-11T02:01:11.793893Z",
     "iopub.status.busy": "2022-02-11T02:01:11.792561Z",
     "iopub.status.idle": "2022-02-11T11:47:42.695757Z",
     "shell.execute_reply": "2022-02-11T11:47:42.696402Z"
    },
    "id": "vqA9NwOqKrb5",
    "jupyter": {
     "outputs_hidden": true
    },
    "tags": []
   },
   "outputs": [
    {
     "name": "stdout",
     "output_type": "stream",
     "text": [
      "Normal way\n",
      "[0 1 2 3 4 5 6 7 8 9]\n"
     ]
    },
    {
     "name": "stderr",
     "output_type": "stream",
     "text": [
      "2022-02-11 02:01:11.813251: I tensorflow/core/common_runtime/gpu/gpu_device.cc:1734] Found device 0 with properties: \n",
      "pciBusID: 0000:21:00.0 name: NVIDIA GeForce RTX 2080 Ti computeCapability: 7.5\n",
      "coreClock: 1.545GHz coreCount: 68 deviceMemorySize: 10.76GiB deviceMemoryBandwidth: 573.69GiB/s\n",
      "2022-02-11 02:01:11.813702: I tensorflow/core/common_runtime/gpu/gpu_device.cc:1872] Adding visible gpu devices: 0\n",
      "2022-02-11 02:01:11.814031: I tensorflow/stream_executor/platform/default/dso_loader.cc:54] Successfully opened dynamic library libcudart.so.11.0\n",
      "2022-02-11 02:01:12.666189: I tensorflow/core/common_runtime/gpu/gpu_device.cc:1258] Device interconnect StreamExecutor with strength 1 edge matrix:\n",
      "2022-02-11 02:01:12.666251: I tensorflow/core/common_runtime/gpu/gpu_device.cc:1264]      0 \n",
      "2022-02-11 02:01:12.666320: I tensorflow/core/common_runtime/gpu/gpu_device.cc:1277] 0:   N \n",
      "2022-02-11 02:01:12.667034: I tensorflow/core/common_runtime/gpu/gpu_device.cc:1418] Created TensorFlow device (/job:localhost/replica:0/task:0/device:GPU:0 with 9649 MB memory) -> physical GPU (device: 0, name: NVIDIA GeForce RTX 2080 Ti, pci bus id: 0000:21:00.0, compute capability: 7.5)\n",
      "2022-02-11 02:01:12.668412: I tensorflow/core/common_runtime/process_util.cc:146] Creating new thread pool with default inter op setting: 20. Tune using inter_op_parallelism_threads for best performance.\n"
     ]
    },
    {
     "name": "stdout",
     "output_type": "stream",
     "text": [
      "WARNING:tensorflow:From /usr/local/lib/python3.8/dist-packages/tensorflow/python/ops/array_ops.py:5043: calling gather (from tensorflow.python.ops.array_ops) with validate_indices is deprecated and will be removed in a future version.\n",
      "Instructions for updating:\n",
      "The `validate_indices` argument has no effect. Indices are always validated on CPU and never validated on GPU.\n",
      "Epoch 1/150\n"
     ]
    },
    {
     "name": "stderr",
     "output_type": "stream",
     "text": [
      "2022-02-11 02:01:13.472381: I tensorflow/compiler/mlir/mlir_graph_optimization_pass.cc:176] None of the MLIR Optimization Passes are enabled (registered 2)\n",
      "2022-02-11 02:01:13.492509: I tensorflow/core/platform/profile_utils/cpu_utils.cc:114] CPU Frequency: 3299990000 Hz\n",
      "2022-02-11 02:01:17.106539: I tensorflow/stream_executor/platform/default/dso_loader.cc:54] Successfully opened dynamic library libcudnn.so.8\n",
      "2022-02-11 02:01:17.868335: I tensorflow/stream_executor/cuda/cuda_dnn.cc:380] Loaded cuDNN version 8202\n",
      "2022-02-11 02:01:18.729713: I tensorflow/stream_executor/platform/default/dso_loader.cc:54] Successfully opened dynamic library libcublas.so.11\n",
      "2022-02-11 02:01:19.527991: I tensorflow/stream_executor/platform/default/dso_loader.cc:54] Successfully opened dynamic library libcublasLt.so.11\n"
     ]
    },
    {
     "name": "stdout",
     "output_type": "stream",
     "text": [
      "4151/4151 - 243s - loss: 2.0968 - accuracy: 0.4595\n",
      "Epoch 2/150\n",
      "4151/4151 - 234s - loss: 1.3612 - accuracy: 0.5523\n",
      "Epoch 3/150\n",
      "4151/4151 - 234s - loss: 1.0376 - accuracy: 0.6112\n",
      "Epoch 4/150\n",
      "4151/4151 - 234s - loss: 0.8762 - accuracy: 0.6416\n",
      "Epoch 5/150\n",
      "4151/4151 - 234s - loss: 0.7645 - accuracy: 0.6666\n",
      "Epoch 6/150\n",
      "4151/4151 - 234s - loss: 0.6950 - accuracy: 0.6844\n",
      "Epoch 7/150\n",
      "4151/4151 - 234s - loss: 0.6459 - accuracy: 0.6976\n",
      "Epoch 8/150\n",
      "4151/4151 - 234s - loss: 0.6022 - accuracy: 0.7105\n",
      "Epoch 9/150\n",
      "4151/4151 - 234s - loss: 0.5733 - accuracy: 0.7240\n",
      "Epoch 10/150\n",
      "4151/4151 - 234s - loss: 0.5511 - accuracy: 0.7313\n",
      "Epoch 11/150\n",
      "4151/4151 - 234s - loss: 0.5259 - accuracy: 0.7393\n",
      "Epoch 12/150\n",
      "4151/4151 - 234s - loss: 0.5086 - accuracy: 0.7488\n",
      "Epoch 13/150\n",
      "4151/4151 - 234s - loss: 0.4845 - accuracy: 0.7561\n",
      "Epoch 14/150\n",
      "4151/4151 - 234s - loss: 0.4698 - accuracy: 0.7648\n",
      "Epoch 15/150\n",
      "4151/4151 - 234s - loss: 0.4571 - accuracy: 0.7711\n",
      "Epoch 16/150\n",
      "4151/4151 - 234s - loss: 0.4504 - accuracy: 0.7730\n",
      "Epoch 17/150\n",
      "4151/4151 - 234s - loss: 0.4278 - accuracy: 0.7824\n",
      "Epoch 18/150\n",
      "4151/4151 - 234s - loss: 0.4210 - accuracy: 0.7897\n",
      "Epoch 19/150\n",
      "4151/4151 - 234s - loss: 0.4067 - accuracy: 0.7947\n",
      "Epoch 20/150\n",
      "4151/4151 - 234s - loss: 0.3961 - accuracy: 0.8008\n",
      "Epoch 21/150\n",
      "4151/4151 - 234s - loss: 0.3900 - accuracy: 0.8045\n",
      "Epoch 22/150\n",
      "4151/4151 - 234s - loss: 0.3770 - accuracy: 0.8069\n",
      "Epoch 23/150\n",
      "4151/4151 - 234s - loss: 0.3653 - accuracy: 0.8114\n",
      "Epoch 24/150\n",
      "4151/4151 - 234s - loss: 0.3623 - accuracy: 0.8148\n",
      "Epoch 25/150\n",
      "4151/4151 - 234s - loss: 0.3515 - accuracy: 0.8185\n",
      "Epoch 26/150\n",
      "4151/4151 - 234s - loss: 0.3398 - accuracy: 0.8217\n",
      "Epoch 27/150\n",
      "4151/4151 - 234s - loss: 0.3440 - accuracy: 0.8227\n",
      "Epoch 28/150\n",
      "4151/4151 - 234s - loss: 0.3278 - accuracy: 0.8270\n",
      "Epoch 29/150\n",
      "4151/4151 - 234s - loss: 0.3291 - accuracy: 0.8278\n",
      "Epoch 30/150\n",
      "4151/4151 - 234s - loss: 0.3145 - accuracy: 0.8308\n",
      "Epoch 31/150\n",
      "4151/4151 - 234s - loss: 0.3155 - accuracy: 0.8312\n",
      "Epoch 32/150\n",
      "4151/4151 - 234s - loss: 0.3106 - accuracy: 0.8364\n",
      "Epoch 33/150\n",
      "4151/4151 - 234s - loss: 0.3003 - accuracy: 0.8388\n",
      "Epoch 34/150\n",
      "4151/4151 - 234s - loss: 0.3000 - accuracy: 0.8393\n",
      "Epoch 35/150\n",
      "4151/4151 - 234s - loss: 0.2941 - accuracy: 0.8408\n",
      "Epoch 36/150\n",
      "4151/4151 - 234s - loss: 0.2935 - accuracy: 0.8422\n",
      "Epoch 37/150\n",
      "4151/4151 - 234s - loss: 0.2777 - accuracy: 0.8457\n",
      "Epoch 38/150\n",
      "4151/4151 - 234s - loss: 0.2848 - accuracy: 0.8453\n",
      "Epoch 39/150\n",
      "4151/4151 - 234s - loss: 0.2727 - accuracy: 0.8478\n",
      "Epoch 40/150\n",
      "4151/4151 - 234s - loss: 0.2688 - accuracy: 0.8510\n",
      "Epoch 41/150\n",
      "4151/4151 - 234s - loss: 0.2608 - accuracy: 0.8528\n",
      "Epoch 42/150\n",
      "4151/4151 - 234s - loss: 0.2598 - accuracy: 0.8550\n",
      "Epoch 43/150\n",
      "4151/4151 - 234s - loss: 0.2545 - accuracy: 0.8549\n",
      "Epoch 44/150\n",
      "4151/4151 - 234s - loss: 0.2489 - accuracy: 0.8573\n",
      "Epoch 45/150\n",
      "4151/4151 - 234s - loss: 0.2502 - accuracy: 0.8562\n",
      "Epoch 46/150\n",
      "4151/4151 - 234s - loss: 0.2419 - accuracy: 0.8591\n",
      "Epoch 47/150\n",
      "4151/4151 - 234s - loss: 0.2401 - accuracy: 0.8599\n",
      "Epoch 48/150\n",
      "4151/4151 - 235s - loss: 0.2424 - accuracy: 0.8599\n",
      "Epoch 49/150\n",
      "4151/4151 - 234s - loss: 0.2395 - accuracy: 0.8610\n",
      "Epoch 50/150\n",
      "4151/4151 - 234s - loss: 0.2319 - accuracy: 0.8639\n",
      "Epoch 51/150\n",
      "4151/4151 - 234s - loss: 0.2323 - accuracy: 0.8650\n",
      "Epoch 52/150\n",
      "4151/4151 - 234s - loss: 0.2270 - accuracy: 0.8665\n",
      "Epoch 53/150\n",
      "4151/4151 - 234s - loss: 0.2299 - accuracy: 0.8653\n",
      "Epoch 54/150\n",
      "4151/4151 - 234s - loss: 0.2210 - accuracy: 0.8701\n",
      "Epoch 55/150\n",
      "4151/4151 - 234s - loss: 0.2175 - accuracy: 0.8705\n",
      "Epoch 56/150\n",
      "4151/4151 - 234s - loss: 0.2175 - accuracy: 0.8708\n",
      "Epoch 57/150\n",
      "4151/4151 - 234s - loss: 0.2121 - accuracy: 0.8733\n",
      "Epoch 58/150\n",
      "4151/4151 - 234s - loss: 0.2161 - accuracy: 0.8712\n",
      "Epoch 59/150\n",
      "4151/4151 - 234s - loss: 0.2099 - accuracy: 0.8733\n",
      "Epoch 60/150\n",
      "4151/4151 - 234s - loss: 0.2102 - accuracy: 0.8746\n",
      "Epoch 61/150\n",
      "4151/4151 - 234s - loss: 0.2014 - accuracy: 0.8769\n",
      "Epoch 62/150\n",
      "4151/4151 - 234s - loss: 0.2015 - accuracy: 0.8778\n",
      "Epoch 63/150\n",
      "4151/4151 - 234s - loss: 0.1959 - accuracy: 0.8791\n",
      "Epoch 64/150\n",
      "4151/4151 - 234s - loss: 0.2028 - accuracy: 0.8795\n",
      "Epoch 65/150\n",
      "4151/4151 - 234s - loss: 0.1969 - accuracy: 0.8814\n",
      "Epoch 66/150\n",
      "4151/4151 - 234s - loss: 0.1976 - accuracy: 0.8817\n",
      "Epoch 67/150\n",
      "4151/4151 - 234s - loss: 0.1874 - accuracy: 0.8839\n",
      "Epoch 68/150\n",
      "4151/4151 - 234s - loss: 0.1846 - accuracy: 0.8859\n",
      "Epoch 69/150\n",
      "4151/4151 - 234s - loss: 0.1868 - accuracy: 0.8839\n",
      "Epoch 70/150\n",
      "4151/4151 - 234s - loss: 0.1774 - accuracy: 0.8866\n",
      "Epoch 71/150\n",
      "4151/4151 - 234s - loss: 0.1836 - accuracy: 0.8870\n",
      "Epoch 72/150\n",
      "4151/4151 - 234s - loss: 0.1769 - accuracy: 0.8877\n",
      "Epoch 73/150\n",
      "4151/4151 - 234s - loss: 0.1710 - accuracy: 0.8907\n",
      "Epoch 74/150\n",
      "4151/4151 - 234s - loss: 0.1732 - accuracy: 0.8897\n",
      "Epoch 75/150\n",
      "4151/4151 - 234s - loss: 0.1762 - accuracy: 0.8891\n",
      "Epoch 76/150\n",
      "4151/4151 - 234s - loss: 0.1660 - accuracy: 0.8935\n",
      "Epoch 77/150\n",
      "4151/4151 - 234s - loss: 0.1753 - accuracy: 0.8903\n",
      "Epoch 78/150\n",
      "4151/4151 - 234s - loss: 0.1642 - accuracy: 0.8936\n",
      "Epoch 79/150\n",
      "4151/4151 - 234s - loss: 0.1614 - accuracy: 0.8947\n",
      "Epoch 80/150\n",
      "4151/4151 - 234s - loss: 0.1718 - accuracy: 0.8920\n",
      "Epoch 81/150\n",
      "4151/4151 - 234s - loss: 0.1637 - accuracy: 0.8961\n",
      "Epoch 82/150\n",
      "4151/4151 - 234s - loss: 0.1578 - accuracy: 0.8969\n",
      "Epoch 83/150\n",
      "4151/4151 - 234s - loss: 0.1577 - accuracy: 0.8972\n",
      "Epoch 84/150\n",
      "4151/4151 - 234s - loss: 0.1624 - accuracy: 0.8967\n",
      "Epoch 85/150\n",
      "4151/4151 - 234s - loss: 0.1591 - accuracy: 0.8979\n",
      "Epoch 86/150\n",
      "4151/4151 - 234s - loss: 0.1519 - accuracy: 0.8994\n",
      "Epoch 87/150\n",
      "4151/4151 - 234s - loss: 0.1481 - accuracy: 0.9013\n",
      "Epoch 88/150\n",
      "4151/4151 - 234s - loss: 0.1494 - accuracy: 0.9004\n",
      "Epoch 89/150\n",
      "4151/4151 - 234s - loss: 0.1501 - accuracy: 0.9023\n",
      "Epoch 90/150\n",
      "4151/4151 - 235s - loss: 0.1425 - accuracy: 0.9043\n",
      "Epoch 91/150\n",
      "4151/4151 - 234s - loss: 0.1465 - accuracy: 0.9025\n",
      "Epoch 92/150\n",
      "4151/4151 - 234s - loss: 0.1417 - accuracy: 0.9050\n",
      "Epoch 93/150\n",
      "4151/4151 - 234s - loss: 0.1467 - accuracy: 0.9038\n",
      "Epoch 94/150\n",
      "4151/4151 - 234s - loss: 0.1407 - accuracy: 0.9053\n",
      "Epoch 95/150\n",
      "4151/4151 - 234s - loss: 0.1369 - accuracy: 0.9065\n",
      "Epoch 96/150\n",
      "4151/4151 - 234s - loss: 0.1454 - accuracy: 0.9058\n",
      "Epoch 97/150\n",
      "4151/4151 - 234s - loss: 0.1413 - accuracy: 0.9065\n",
      "Epoch 98/150\n",
      "4151/4151 - 234s - loss: 0.1360 - accuracy: 0.9084\n",
      "Epoch 99/150\n",
      "4151/4151 - 235s - loss: 0.1327 - accuracy: 0.9088\n",
      "Epoch 100/150\n",
      "4151/4151 - 234s - loss: 0.1313 - accuracy: 0.9098\n",
      "Epoch 101/150\n",
      "4151/4151 - 234s - loss: 0.1267 - accuracy: 0.9102\n",
      "Epoch 102/150\n",
      "4151/4151 - 234s - loss: 0.1346 - accuracy: 0.9099\n",
      "Epoch 103/150\n",
      "4151/4151 - 234s - loss: 0.1302 - accuracy: 0.9112\n",
      "Epoch 104/150\n",
      "4151/4151 - 234s - loss: 0.1243 - accuracy: 0.9126\n",
      "Epoch 105/150\n",
      "4151/4151 - 234s - loss: 0.1238 - accuracy: 0.9137\n",
      "Epoch 106/150\n",
      "4151/4151 - 234s - loss: 0.1251 - accuracy: 0.9127\n",
      "Epoch 107/150\n",
      "4151/4151 - 234s - loss: 0.1258 - accuracy: 0.9134\n",
      "Epoch 108/150\n",
      "4151/4151 - 234s - loss: 0.1174 - accuracy: 0.9157\n",
      "Epoch 109/150\n",
      "4151/4151 - 234s - loss: 0.1209 - accuracy: 0.9143\n",
      "Epoch 110/150\n",
      "4151/4151 - 234s - loss: 0.1213 - accuracy: 0.9160\n",
      "Epoch 111/150\n",
      "4151/4151 - 234s - loss: 0.1217 - accuracy: 0.9155\n",
      "Epoch 112/150\n",
      "4151/4151 - 234s - loss: 0.1141 - accuracy: 0.9182\n",
      "Epoch 113/150\n",
      "4151/4151 - 234s - loss: 0.1145 - accuracy: 0.9181\n",
      "Epoch 114/150\n",
      "4151/4151 - 234s - loss: 0.1177 - accuracy: 0.9172\n",
      "Epoch 115/150\n",
      "4151/4151 - 234s - loss: 0.1165 - accuracy: 0.9171\n",
      "Epoch 116/150\n",
      "4151/4151 - 234s - loss: 0.1136 - accuracy: 0.9186\n",
      "Epoch 117/150\n",
      "4151/4151 - 234s - loss: 0.1139 - accuracy: 0.9193\n",
      "Epoch 118/150\n",
      "4151/4151 - 234s - loss: 0.1138 - accuracy: 0.9190\n",
      "Epoch 119/150\n",
      "4151/4151 - 234s - loss: 0.1153 - accuracy: 0.9192\n",
      "Epoch 120/150\n",
      "4151/4151 - 234s - loss: 0.1082 - accuracy: 0.9224\n",
      "Epoch 121/150\n",
      "4151/4151 - 234s - loss: 0.1078 - accuracy: 0.9226\n",
      "Epoch 122/150\n",
      "4151/4151 - 234s - loss: 0.1102 - accuracy: 0.9221\n",
      "Epoch 123/150\n",
      "4151/4151 - 234s - loss: 0.1117 - accuracy: 0.9215\n",
      "Epoch 124/150\n",
      "4151/4151 - 234s - loss: 0.1027 - accuracy: 0.9250\n",
      "Epoch 125/150\n",
      "4151/4151 - 234s - loss: 0.1053 - accuracy: 0.9229\n",
      "Epoch 126/150\n",
      "4151/4151 - 234s - loss: 0.1007 - accuracy: 0.9248\n",
      "Epoch 127/150\n",
      "4151/4151 - 234s - loss: 0.1052 - accuracy: 0.9242\n",
      "Epoch 128/150\n",
      "4151/4151 - 234s - loss: 0.1122 - accuracy: 0.9231\n",
      "Epoch 129/150\n",
      "4151/4151 - 234s - loss: 0.0994 - accuracy: 0.9262\n",
      "Epoch 130/150\n",
      "4151/4151 - 234s - loss: 0.1062 - accuracy: 0.9244\n",
      "Epoch 131/150\n",
      "4151/4151 - 234s - loss: 0.0992 - accuracy: 0.9268\n",
      "Epoch 132/150\n",
      "4151/4151 - 234s - loss: 0.0990 - accuracy: 0.9272\n",
      "Epoch 133/150\n",
      "4151/4151 - 234s - loss: 0.1025 - accuracy: 0.9261\n",
      "Epoch 134/150\n",
      "4151/4151 - 234s - loss: 0.1005 - accuracy: 0.9263\n",
      "Epoch 135/150\n",
      "4151/4151 - 234s - loss: 0.1016 - accuracy: 0.9272\n",
      "Epoch 136/150\n",
      "4151/4151 - 234s - loss: 0.0965 - accuracy: 0.9286\n",
      "Epoch 137/150\n",
      "4151/4151 - 234s - loss: 0.0988 - accuracy: 0.9274\n",
      "Epoch 138/150\n",
      "4151/4151 - 234s - loss: 0.0985 - accuracy: 0.9282\n",
      "Epoch 139/150\n",
      "4151/4151 - 234s - loss: 0.0934 - accuracy: 0.9311\n",
      "Epoch 140/150\n",
      "4151/4151 - 234s - loss: 0.0999 - accuracy: 0.9292\n",
      "Epoch 141/150\n",
      "4151/4151 - 234s - loss: 0.0912 - accuracy: 0.9321\n",
      "Epoch 142/150\n",
      "4151/4151 - 234s - loss: 0.0943 - accuracy: 0.9303\n",
      "Epoch 143/150\n",
      "4151/4151 - 234s - loss: 0.0931 - accuracy: 0.9309\n",
      "Epoch 144/150\n",
      "4151/4151 - 234s - loss: 0.0945 - accuracy: 0.9302\n",
      "Epoch 145/150\n",
      "4151/4151 - 234s - loss: 0.0917 - accuracy: 0.9325\n",
      "Epoch 146/150\n",
      "4151/4151 - 234s - loss: 0.0921 - accuracy: 0.9325\n",
      "Epoch 147/150\n",
      "4151/4151 - 234s - loss: 0.0893 - accuracy: 0.9330\n",
      "Epoch 148/150\n",
      "4151/4151 - 234s - loss: 0.0917 - accuracy: 0.9333\n",
      "Epoch 149/150\n",
      "4151/4151 - 234s - loss: 0.0858 - accuracy: 0.9349\n",
      "Epoch 150/150\n",
      "4151/4151 - 234s - loss: 0.0879 - accuracy: 0.9341\n",
      "1038/1038 - 16s\n",
      "Normalized confusion matrix\n",
      "                       precision    recall  f1-score   support\n",
      "\n",
      "                 HEKA       1.00      0.99      1.00      6042\n",
      "       fridge/freezer       0.98      0.97      0.98      9826\n",
      "         audio system       0.48      0.91      0.63       342\n",
      "           breadmaker       0.85      0.95      0.90        64\n",
      "     broadband router       0.51      0.87      0.64       451\n",
      "             computer       0.88      0.85      0.87      5143\n",
      "         dehumidifier       0.84      0.92      0.88       123\n",
      "          dish washer       0.98      0.99      0.98       783\n",
      "electric space heater       0.80      0.88      0.84       187\n",
      "       food processor       0.85      0.92      0.88       175\n",
      "            pond pump       0.84      0.99      0.91       796\n",
      "           television       0.91      0.86      0.89      7908\n",
      "         tumble dryer       0.86      0.91      0.89       301\n",
      "         washer dryer       0.88      0.72      0.79        58\n",
      "      washing machine       0.92      0.91      0.91      1003\n",
      "\n",
      "             accuracy                           0.92     33202\n",
      "            macro avg       0.84      0.91      0.86     33202\n",
      "         weighted avg       0.93      0.92      0.93     33202\n",
      "\n"
     ]
    },
    {
     "name": "stderr",
     "output_type": "stream",
     "text": [
      "2022-02-11 11:47:31.592078: W tensorflow/python/util/util.cc:348] Sets are not currently considered sequences, but this may change in the future, so consider avoiding using them.\n",
      "WARNING:absl:Found untraced functions such as lstm_cell_1_layer_call_fn, lstm_cell_1_layer_call_and_return_conditional_losses, lstm_cell_2_layer_call_fn, lstm_cell_2_layer_call_and_return_conditional_losses, lstm_cell_4_layer_call_fn while saving (showing 5 of 20). These functions will not be directly callable after loading.\n"
     ]
    },
    {
     "name": "stdout",
     "output_type": "stream",
     "text": [
      "INFO:tensorflow:Assets written to: /workspace/notebooks/models/BI_LSTM/refit_82/assets\n"
     ]
    },
    {
     "name": "stderr",
     "output_type": "stream",
     "text": [
      "INFO:tensorflow:Assets written to: /workspace/notebooks/models/BI_LSTM/refit_82/assets\n"
     ]
    },
    {
     "data": {
      "image/png": "[encoded data removed]",
      "text/plain": [
       "<Figure size 720x720 with 2 Axes>"
      ]
     },
     "metadata": {
      "needs_background": "light"
     },
     "output_type": "display_data"
    }
   ],
   "source": [
    "# %%capture cap --no-stderr\n",
    "\n",
    "\n",
    "if environ['train_type'] == \"BB\":\n",
    "\n",
    "    #define generator\n",
    "    train_gen = HDF5ImageGenerator(\n",
    "        src= path_data,\n",
    "        X_key=\"data/train/gaf\",\n",
    "        y_key=\"labels/train/gaf\",\n",
    "        classes_key=\"appliances/classes\",\n",
    "        labels_encoding=\"hot\",\n",
    "        shuffle=True,\n",
    "        batch_size=int(environ['batch_size']),\n",
    "        num_classes=num_of_classes,\n",
    "        mode=\"train\",\n",
    "        )\n",
    "    \n",
    "    model = select_model(environ['learn_type'])\n",
    "    \n",
    "    txt_log.write(\"fitting BB model: \\n\")\n",
    "    \n",
    "    model.fit(\n",
    "        train_gen,\n",
    "        verbose=2,\n",
    "        epochs=int(environ['epochs']),\n",
    "        class_weight=d_class_weights,\n",
    "        callbacks = [save_op_callback],\n",
    "    )\n",
    "    \n",
    "    txt_log.write(\"finished fitting BB model: \\n\")\n",
    "\n",
    "    evaluate_model(model,x_test,y_test,appliances)\n",
    "    \n",
    "    if environ['save_model']==\"True\":\n",
    "\n",
    "        path_model_save = path+\"/models/\"+environ['learn_type']+\"/\"+dataset.split(\"_\")[0]+\"_\"+dataset.split(\"_R\")[1][0:2]\n",
    "        model.save(path_model_save)\n",
    "        txt_log.write(\"model saved to:\"+\"/models/\"+environ['learn_type']+\"/\"+dataset.split(\"_\")[0]+\"_\"+dataset.split(\"_R\")[1][0:2]+\" \\n\")\n",
    "        \n",
    "        \n",
    "# with open(path_save+\"_out_log.txt\" as f:\n",
    "#     f.write(cap.stdout)\n"
   ]
  },
  {
   "cell_type": "code",
   "execution_count": 13,
   "metadata": {
    "collapsed": true,
    "execution": {
     "iopub.execute_input": "2022-02-11T11:47:42.702910Z",
     "iopub.status.busy": "2022-02-11T11:47:42.701626Z",
     "iopub.status.idle": "2022-02-11T11:47:42.704292Z",
     "shell.execute_reply": "2022-02-11T11:47:42.705292Z"
    }
   },
   "outputs": [],
   "source": [
    "#model = keras.models.load_model(path_model1)\n",
    "# model_used = model"
   ]
  },
  {
   "cell_type": "code",
   "execution_count": 14,
   "metadata": {
    "collapsed": true,
    "execution": {
     "iopub.execute_input": "2022-02-11T11:47:42.710485Z",
     "iopub.status.busy": "2022-02-11T11:47:42.709226Z",
     "iopub.status.idle": "2022-02-11T11:47:42.711845Z",
     "shell.execute_reply": "2022-02-11T11:47:42.712915Z"
    },
    "jupyter": {
     "outputs_hidden": true
    },
    "tags": []
   },
   "outputs": [],
   "source": [
    "# evaluate_model(model,x_test,y_test,appliances)"
   ]
  },
  {
   "cell_type": "code",
   "execution_count": 15,
   "metadata": {
    "collapsed": true,
    "execution": {
     "iopub.execute_input": "2022-02-11T11:47:42.728012Z",
     "iopub.status.busy": "2022-02-11T11:47:42.726637Z",
     "iopub.status.idle": "2022-02-11T11:47:42.729531Z",
     "shell.execute_reply": "2022-02-11T11:47:42.730514Z"
    }
   },
   "outputs": [],
   "source": [
    "# datasets =[\n",
    "#     \"ukdale_gen_GASF_13m_100S5X12A54480_R82_80-20\"\n",
    "# ]\n",
    "\n",
    "if environ['train_type'] == \"TL\": \n",
    "    models = environ['tl_datasets'].replace(\" \",\"\").split(\",\")\n",
    "    #model = [\"base\"]\n",
    "    \n",
    "    for model in models:\n",
    "    \n",
    "        file_name = dataset\n",
    "        \n",
    "        datasetTL = model\n",
    "        \n",
    "        seed = dataset.split(\"_R\")[1][0:2]\n",
    "        \n",
    "        print(\"using dataset data\",dataset.split(\"_\")[0],\"training on model\",model,\"seed\",environ['seed'])\n",
    "        txt_log.write(\"starting \"+dataset.split(\"_\")[0]+\" training on model \"+model+\" seed \"+environ['seed']+\"\\n\")\n",
    "\n",
    "\n",
    "        tf.keras.backend.clear_session()\n",
    "\n",
    "\n",
    "        #read the file\n",
    "        path = str(pathlib.Path().resolve())\n",
    "        path_data = f\"{path}\"\"/data/\"f\"{file_name}\"\"/\"f\"{file_name}\"\".hdf5\"\n",
    "        file = h5py.File(path_data,\"r+\")\n",
    "\n",
    "\n",
    "        print(\"reading data, printing stats: \")\n",
    "        x_test,y_test,d_class_weights,num_of_classes,appliances = get_data(file)\n",
    "        print(\"loading model\")\n",
    "        \n",
    "        model_seed = 42\n",
    "        model_used = create_tl_model(model,environ['learn_type'],model_seed,path,num_of_classes)\n",
    "                \n",
    "        train_gen = HDF5ImageGenerator(\n",
    "            src= path_data,\n",
    "            X_key=\"data/train/gaf\",\n",
    "            y_key=\"labels/train/gaf\",\n",
    "            classes_key=\"appliances/classes\",\n",
    "            labels_encoding=\"hot\",\n",
    "            shuffle=True,\n",
    "            batch_size=int(environ['batch_size']),\n",
    "            num_classes=num_of_classes,\n",
    "            mode=\"train\",\n",
    "            )\n",
    "\n",
    "        model_used.fit(\n",
    "            train_gen,\n",
    "            verbose=2,\n",
    "            epochs=int(environ['epochs']),\n",
    "            class_weight=d_class_weights,\n",
    "            callbacks = [save_op_callback]\n",
    "            #workers = 6,\n",
    "        )\n",
    "        \n",
    "        txt_log.write(\"finished \"+dataset.split(\"_\")[0]+\" training on model \"+model+\" seed \"+environ['seed']+\"\\n\")\n",
    "\n",
    "\n",
    "        evaluate_model(model_used,x_test,y_test,appliances)\n",
    "        \n",
    "\n",
    "\n",
    "\n",
    "        #del model_used\n",
    "\n"
   ]
  },
  {
   "cell_type": "code",
   "execution_count": 16,
   "metadata": {
    "execution": {
     "iopub.execute_input": "2022-02-11T11:47:42.735768Z",
     "iopub.status.busy": "2022-02-11T11:47:42.734600Z",
     "iopub.status.idle": "2022-02-11T11:47:42.737049Z",
     "shell.execute_reply": "2022-02-11T11:47:42.738016Z"
    }
   },
   "outputs": [],
   "source": [
    "txt_log.close()"
   ]
  },
  {
   "cell_type": "code",
   "execution_count": null,
   "metadata": {},
   "outputs": [],
   "source": []
  }
 ],
 "metadata": {
  "colab": {
   "authorship_tag": "ABX9TyMej4PvP65qsLng7TnQKWA4",
   "name": "LSTM-gen",
   "provenance": []
  },
  "kernelspec": {
   "display_name": "Python 3 (ipykernel)",
   "language": "python",
   "name": "python3"
  },
  "language_info": {
   "codemirror_mode": {
    "name": "ipython",
    "version": 3
   },
   "file_extension": ".py",
   "mimetype": "text/x-python",
   "name": "python",
   "nbconvert_exporter": "python",
   "pygments_lexer": "ipython3",
   "version": "3.8.10"
  }
 },
 "nbformat": 4,
 "nbformat_minor": 4
}
