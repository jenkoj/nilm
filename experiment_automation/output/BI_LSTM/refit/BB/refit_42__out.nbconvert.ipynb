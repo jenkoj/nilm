{
 "cells": [
  {
   "cell_type": "code",
   "execution_count": 1,
   "metadata": {
    "execution": {
     "iopub.execute_input": "2022-02-10T16:14:56.651619Z",
     "iopub.status.busy": "2022-02-10T16:14:56.650191Z",
     "iopub.status.idle": "2022-02-10T16:15:00.222659Z",
     "shell.execute_reply": "2022-02-10T16:15:00.221341Z"
    },
    "id": "WqUfHWgtJxtu",
    "scrolled": true,
    "tags": []
   },
   "outputs": [
    {
     "name": "stderr",
     "output_type": "stream",
     "text": [
      "2022-02-10 16:14:58.083949: I tensorflow/stream_executor/platform/default/dso_loader.cc:54] Successfully opened dynamic library libcudart.so.11.0\n"
     ]
    },
    {
     "name": "stdout",
     "output_type": "stream",
     "text": [
      "2.5.0\n",
      "Num GPUs Available:  1\n"
     ]
    },
    {
     "name": "stderr",
     "output_type": "stream",
     "text": [
      "2022-02-10 16:15:00.126457: I tensorflow/stream_executor/platform/default/dso_loader.cc:54] Successfully opened dynamic library libcuda.so.1\n",
      "2022-02-10 16:15:00.168027: I tensorflow/core/common_runtime/gpu/gpu_device.cc:1734] Found device 0 with properties: \n",
      "pciBusID: 0000:21:00.0 name: NVIDIA GeForce RTX 2080 Ti computeCapability: 7.5\n",
      "coreClock: 1.545GHz coreCount: 68 deviceMemorySize: 10.76GiB deviceMemoryBandwidth: 573.69GiB/s\n",
      "2022-02-10 16:15:00.168074: I tensorflow/stream_executor/platform/default/dso_loader.cc:54] Successfully opened dynamic library libcudart.so.11.0\n",
      "2022-02-10 16:15:00.180858: I tensorflow/stream_executor/platform/default/dso_loader.cc:54] Successfully opened dynamic library libcublas.so.11\n",
      "2022-02-10 16:15:00.180933: I tensorflow/stream_executor/platform/default/dso_loader.cc:54] Successfully opened dynamic library libcublasLt.so.11\n",
      "2022-02-10 16:15:00.188339: I tensorflow/stream_executor/platform/default/dso_loader.cc:54] Successfully opened dynamic library libcufft.so.10\n",
      "2022-02-10 16:15:00.190254: I tensorflow/stream_executor/platform/default/dso_loader.cc:54] Successfully opened dynamic library libcurand.so.10\n",
      "2022-02-10 16:15:00.205864: I tensorflow/stream_executor/platform/default/dso_loader.cc:54] Successfully opened dynamic library libcutensor.so.1\n",
      "2022-02-10 16:15:00.207566: I tensorflow/stream_executor/platform/default/dso_loader.cc:54] Successfully opened dynamic library libcusolver.so.11\n",
      "2022-02-10 16:15:00.211137: I tensorflow/stream_executor/platform/default/dso_loader.cc:54] Successfully opened dynamic library libcusparse.so.11\n",
      "2022-02-10 16:15:00.211643: I tensorflow/stream_executor/platform/default/dso_loader.cc:54] Successfully opened dynamic library libcudnn.so.8\n",
      "2022-02-10 16:15:00.212281: I tensorflow/core/common_runtime/gpu/gpu_device.cc:1872] Adding visible gpu devices: 0\n"
     ]
    }
   ],
   "source": [
    "import h5py\n",
    "import numpy as np\n",
    "\n",
    "from sklearn.model_selection import train_test_split\n",
    "from sklearn.metrics import classification_report, confusion_matrix\n",
    "import matplotlib.pyplot as plt\n",
    "import itertools \n",
    "import pyts\n",
    "from pyts.approximation import PiecewiseAggregateApproximation\n",
    "\n",
    "from sklearn.utils import class_weight\n",
    "\n",
    "import pathlib\n",
    "import tensorflow as tf\n",
    "from tensorflow import keras\n",
    "from tensorflow.keras import layers, optimizers\n",
    "from tensorflow.keras.layers import Convolution2D,Conv2D, Dense,Dropout, Flatten, Activation, MaxPooling2D, Input, Conv1D, GlobalAveragePooling1D, TimeDistributed, GRU, LSTM\n",
    "\n",
    "print(tf.__version__)\n",
    "print(\"Num GPUs Available: \", len(tf.config.list_physical_devices('GPU')))\n",
    "gpus = tf.config.experimental.list_physical_devices('GPU')\n",
    "\n",
    "try:\n",
    "    for gpu in gpus:\n",
    "        tf.config.experimental.set_memory_growth(gpu, True)\n",
    "except RuntimeError as e:\n",
    "    print(e)"
   ]
  },
  {
   "cell_type": "code",
   "execution_count": 2,
   "metadata": {
    "execution": {
     "iopub.execute_input": "2022-02-10T16:15:00.228699Z",
     "iopub.status.busy": "2022-02-10T16:15:00.227584Z",
     "iopub.status.idle": "2022-02-10T16:15:00.231273Z",
     "shell.execute_reply": "2022-02-10T16:15:00.232187Z"
    }
   },
   "outputs": [
    {
     "name": "stdout",
     "output_type": "stream",
     "text": [
      "refit_gen_GASF_13m_100S5X_15A166006_R42-80-20\n"
     ]
    }
   ],
   "source": [
    "from os import environ\n",
    "dataset = environ['dataset']\n",
    "print(dataset)"
   ]
  },
  {
   "cell_type": "code",
   "execution_count": 3,
   "metadata": {
    "execution": {
     "iopub.execute_input": "2022-02-10T16:15:00.238320Z",
     "iopub.status.busy": "2022-02-10T16:15:00.237296Z",
     "iopub.status.idle": "2022-02-10T16:15:00.242136Z",
     "shell.execute_reply": "2022-02-10T16:15:00.241277Z"
    }
   },
   "outputs": [],
   "source": [
    "#my defs \n",
    "from modules.models import  LSTM_3D_V56, CNN_V56,LSTM_BI_V56\n",
    "from modules.tools import my_print, plot_confusion_matrix_norm, get_data,get_data_split, evaluate_model, create_tl_model\n",
    "from modules.HDF5ImageGenerator import HDF5ImageGenerator"
   ]
  },
  {
   "cell_type": "code",
   "execution_count": 4,
   "metadata": {
    "execution": {
     "iopub.execute_input": "2022-02-10T16:15:00.251276Z",
     "iopub.status.busy": "2022-02-10T16:15:00.250072Z",
     "iopub.status.idle": "2022-02-10T16:15:00.252567Z",
     "shell.execute_reply": "2022-02-10T16:15:00.253535Z"
    },
    "id": "RT1vwq7-KOtB"
   },
   "outputs": [],
   "source": [
    "#LOAD DATASET\n",
    "#file_name = \"ukdale_gen_GASF_13m_100S5X12A54480\"\n",
    "#file_name = \"refit_gen_GASF_13m_100S5X_15A166006\"\n",
    "file_name = \"refit_gen_GASF_13m_100S5X_15A166006_R42-80-20\"\n",
    "#file_name = \"refit_gen_GASF_13m_100S5X_15A166006_R42_80-20\"\n",
    "file_name = \"refit_gen_GASF_60m_300S0X_15A157030N_R12_80-20-V1\"\n",
    "file_name = environ[\"dataset\"]\n",
    "#read the file\n",
    "path = str(pathlib.Path().resolve())\n",
    "\n",
    "path_data = f\"{path}\"\"/data/\"f\"{file_name}\"\"/\"f\"{file_name}\"\".hdf5\"\n",
    "\n",
    "file = h5py.File(path_data,\"r+\")"
   ]
  },
  {
   "cell_type": "code",
   "execution_count": 5,
   "metadata": {
    "execution": {
     "iopub.execute_input": "2022-02-10T16:15:00.259823Z",
     "iopub.status.busy": "2022-02-10T16:15:00.258562Z",
     "iopub.status.idle": "2022-02-10T16:15:04.843152Z",
     "shell.execute_reply": "2022-02-10T16:15:04.844233Z"
    },
    "scrolled": true
   },
   "outputs": [
    {
     "name": "stdout",
     "output_type": "stream",
     "text": [
      "['HEKA', 'fridge/freezer', 'audio system', 'breadmaker', 'broadband router', 'computer', 'dehumidifier', 'dish washer', 'electric space heater', 'food processor', 'pond pump', 'television', 'tumble dryer', 'washer dryer', 'washing machine']\n",
      "{0: 0.3663356504468719, 1: 0.22525951557093427, 2: 6.4672023374726075, 3: 34.85669291338583, 4: 4.910482529118137, 5: 0.43032954214056574, 6: 18.068571428571428, 7: 2.8259176508139165, 8: 11.852208835341365, 9: 12.611965811965812, 10: 2.7789077212806026, 11: 0.2799203262828417, 12: 7.359600997506234, 13: 38.32727272727273, 14: 2.2073298429319372}\n",
      " \n",
      "Tests \n",
      "HEKA test: 6042 train: 24168\n",
      "fridge/freezer test: 9826 train: 39304\n",
      "audio system test: 342 train: 1369\n",
      "breadmaker test: 64 train: 254\n",
      "broadband router test: 451 train: 1803\n",
      "computer test: 5143 train: 20574\n",
      "dehumidifier test: 123 train: 490\n",
      "dish washer test: 783 train: 3133\n",
      "electric space heater test: 187 train: 747\n",
      "food processor test: 175 train: 702\n",
      "pond pump test: 796 train: 3186\n",
      "television test: 7908 train: 31629\n",
      "tumble dryer test: 301 train: 1203\n",
      "washer dryer test: 58 train: 231\n",
      "washing machine test: 1003 train: 4011\n"
     ]
    }
   ],
   "source": [
    "x_test,y_test,d_class_weights,num_of_classes,appliances = get_data(file)"
   ]
  },
  {
   "cell_type": "code",
   "execution_count": 6,
   "metadata": {
    "execution": {
     "iopub.execute_input": "2022-02-10T16:15:04.852522Z",
     "iopub.status.busy": "2022-02-10T16:15:04.851221Z",
     "iopub.status.idle": "2022-02-10T16:15:04.857056Z",
     "shell.execute_reply": "2022-02-10T16:15:04.855964Z"
    }
   },
   "outputs": [],
   "source": [
    "def select_model(learn_type):\n",
    "    \n",
    "    if learn_type == \"CNN\":\n",
    "        model = CNN_V56(file[\"data/train/gaf\"][0:10],num_of_classes,lr= 0.00002)\n",
    "\n",
    "    if learn_type == \"LSTM\":\n",
    "        model = LSTM_3D_V56(file[\"data/train/gaf\"][0:10],num_of_classes,lr= 0.00002)\n",
    "\n",
    "    if learn_type == \"BI_LSTM\":\n",
    "        model = LSTM_BI_V56(file[\"data/train/gaf\"][0:10],num_of_classes,lr= 0.00002)\n",
    "\n",
    "    return model\n",
    "              "
   ]
  },
  {
   "cell_type": "code",
   "execution_count": 7,
   "metadata": {
    "execution": {
     "iopub.execute_input": "2022-02-10T16:15:04.864527Z",
     "iopub.status.busy": "2022-02-10T16:15:04.863232Z",
     "iopub.status.idle": "2022-02-10T16:15:04.865890Z",
     "shell.execute_reply": "2022-02-10T16:15:04.866922Z"
    }
   },
   "outputs": [],
   "source": [
    "path_save = path+'/experiment_automation/output/'+environ['learn_type']+'/'+dataset.split(\"_\")[0]+\"/\"+environ['train_type']+\"/\"+dataset.split(\"_\")[0]+\"_\"+environ['seed']+\"_\"+environ['tl_datasets']\n",
    "path_save_nb = path_save+\"_out.ipynb\"\n",
    "path_save_log = path_save+\"_out_log2.txt\""
   ]
  },
  {
   "cell_type": "code",
   "execution_count": 8,
   "metadata": {
    "execution": {
     "iopub.execute_input": "2022-02-10T16:15:04.876184Z",
     "iopub.status.busy": "2022-02-10T16:15:04.874883Z",
     "iopub.status.idle": "2022-02-10T16:15:04.997318Z",
     "shell.execute_reply": "2022-02-10T16:15:04.996129Z"
    }
   },
   "outputs": [],
   "source": [
    "from keras.callbacks import LambdaCallback\n",
    "#path_log= path+'/experiment_automation/output/'+environ['learn_type']+'/'+dataset.split(\"_\")[0]+\"/\"+environ['train_type']+\"/\"+dataset.split(\"_\")[0]+\"_\"+environ['seed']+\"_\"+environ['tl_datasets']+\"_log.txt\"\n",
    "txt_log = open(path_save+\"_log.txt\", mode='wt', buffering=1)\n",
    "txt_log.write(\"file created! \\n\")\n",
    "\n",
    "save_op_callback = LambdaCallback(\n",
    "  on_epoch_end = lambda epoch, logs: txt_log.write(\n",
    "    str({'epoch': epoch, 'loss': logs['loss'],'acc': logs['accuracy']}) + '\\n'),\n",
    "                                                           \n",
    ")"
   ]
  },
  {
   "cell_type": "code",
   "execution_count": 9,
   "metadata": {
    "execution": {
     "iopub.execute_input": "2022-02-10T16:15:05.005668Z",
     "iopub.status.busy": "2022-02-10T16:15:05.004404Z",
     "iopub.status.idle": "2022-02-10T16:15:05.008671Z",
     "shell.execute_reply": "2022-02-10T16:15:05.009729Z"
    }
   },
   "outputs": [
    {
     "name": "stdout",
     "output_type": "stream",
     "text": [
      "/workspace/notebooks/experiment_automation/output/BI_LSTM/refit/BB/refit_42__out.ipynb\n"
     ]
    }
   ],
   "source": [
    "print(path_save_nb)"
   ]
  },
  {
   "cell_type": "code",
   "execution_count": 10,
   "metadata": {
    "execution": {
     "iopub.execute_input": "2022-02-10T16:15:05.016673Z",
     "iopub.status.busy": "2022-02-10T16:15:05.015393Z",
     "iopub.status.idle": "2022-02-10T16:15:05.018175Z",
     "shell.execute_reply": "2022-02-10T16:15:05.019145Z"
    }
   },
   "outputs": [],
   "source": [
    "# rm $path_save_log"
   ]
  },
  {
   "cell_type": "code",
   "execution_count": 11,
   "metadata": {
    "execution": {
     "iopub.execute_input": "2022-02-10T16:15:05.025728Z",
     "iopub.status.busy": "2022-02-10T16:15:05.024773Z",
     "iopub.status.idle": "2022-02-10T16:15:05.028027Z",
     "shell.execute_reply": "2022-02-10T16:15:05.028980Z"
    }
   },
   "outputs": [],
   "source": [
    "# %%capture cap \n",
    "\n",
    "# with open(path_save_log,\"wt\") as f:\n",
    "#     f.write(cap.stdout)\n",
    "    \n",
    "# print(\"out capture..\")"
   ]
  },
  {
   "cell_type": "code",
   "execution_count": 12,
   "metadata": {
    "execution": {
     "iopub.execute_input": "2022-02-10T16:15:05.049834Z",
     "iopub.status.busy": "2022-02-10T16:15:05.048599Z",
     "iopub.status.idle": "2022-02-11T01:59:46.450613Z",
     "shell.execute_reply": "2022-02-11T01:59:46.451237Z"
    },
    "id": "vqA9NwOqKrb5",
    "jupyter": {
     "outputs_hidden": true
    },
    "tags": []
   },
   "outputs": [
    {
     "name": "stdout",
     "output_type": "stream",
     "text": [
      "Normal way\n",
      "[0 1 2 3 4 5 6 7 8 9]\n"
     ]
    },
    {
     "name": "stderr",
     "output_type": "stream",
     "text": [
      "2022-02-10 16:15:05.066563: I tensorflow/core/common_runtime/gpu/gpu_device.cc:1734] Found device 0 with properties: \n",
      "pciBusID: 0000:21:00.0 name: NVIDIA GeForce RTX 2080 Ti computeCapability: 7.5\n",
      "coreClock: 1.545GHz coreCount: 68 deviceMemorySize: 10.76GiB deviceMemoryBandwidth: 573.69GiB/s\n",
      "2022-02-10 16:15:05.066912: I tensorflow/core/common_runtime/gpu/gpu_device.cc:1872] Adding visible gpu devices: 0\n",
      "2022-02-10 16:15:05.067234: I tensorflow/stream_executor/platform/default/dso_loader.cc:54] Successfully opened dynamic library libcudart.so.11.0\n",
      "2022-02-10 16:15:05.922473: I tensorflow/core/common_runtime/gpu/gpu_device.cc:1258] Device interconnect StreamExecutor with strength 1 edge matrix:\n",
      "2022-02-10 16:15:05.922509: I tensorflow/core/common_runtime/gpu/gpu_device.cc:1264]      0 \n",
      "2022-02-10 16:15:05.922533: I tensorflow/core/common_runtime/gpu/gpu_device.cc:1277] 0:   N \n",
      "2022-02-10 16:15:05.923120: I tensorflow/core/common_runtime/gpu/gpu_device.cc:1418] Created TensorFlow device (/job:localhost/replica:0/task:0/device:GPU:0 with 9649 MB memory) -> physical GPU (device: 0, name: NVIDIA GeForce RTX 2080 Ti, pci bus id: 0000:21:00.0, compute capability: 7.5)\n",
      "2022-02-10 16:15:05.924248: I tensorflow/core/common_runtime/process_util.cc:146] Creating new thread pool with default inter op setting: 20. Tune using inter_op_parallelism_threads for best performance.\n"
     ]
    },
    {
     "name": "stdout",
     "output_type": "stream",
     "text": [
      "WARNING:tensorflow:From /usr/local/lib/python3.8/dist-packages/tensorflow/python/ops/array_ops.py:5043: calling gather (from tensorflow.python.ops.array_ops) with validate_indices is deprecated and will be removed in a future version.\n",
      "Instructions for updating:\n",
      "The `validate_indices` argument has no effect. Indices are always validated on CPU and never validated on GPU.\n",
      "Epoch 1/150\n"
     ]
    },
    {
     "name": "stderr",
     "output_type": "stream",
     "text": [
      "2022-02-10 16:15:06.731413: I tensorflow/compiler/mlir/mlir_graph_optimization_pass.cc:176] None of the MLIR Optimization Passes are enabled (registered 2)\n",
      "2022-02-10 16:15:06.752826: I tensorflow/core/platform/profile_utils/cpu_utils.cc:114] CPU Frequency: 3299990000 Hz\n",
      "2022-02-10 16:15:10.285737: I tensorflow/stream_executor/platform/default/dso_loader.cc:54] Successfully opened dynamic library libcudnn.so.8\n",
      "2022-02-10 16:15:11.035384: I tensorflow/stream_executor/cuda/cuda_dnn.cc:380] Loaded cuDNN version 8202\n",
      "2022-02-10 16:15:11.891069: I tensorflow/stream_executor/platform/default/dso_loader.cc:54] Successfully opened dynamic library libcublas.so.11\n",
      "2022-02-10 16:15:12.647270: I tensorflow/stream_executor/platform/default/dso_loader.cc:54] Successfully opened dynamic library libcublasLt.so.11\n"
     ]
    },
    {
     "name": "stdout",
     "output_type": "stream",
     "text": [
      "4151/4151 - 242s - loss: 2.0596 - accuracy: 0.4064\n",
      "Epoch 2/150\n",
      "4151/4151 - 234s - loss: 1.3315 - accuracy: 0.5582\n",
      "Epoch 3/150\n",
      "4151/4151 - 233s - loss: 1.0361 - accuracy: 0.5962\n",
      "Epoch 4/150\n",
      "4151/4151 - 233s - loss: 0.8777 - accuracy: 0.6262\n",
      "Epoch 5/150\n",
      "4151/4151 - 233s - loss: 0.7719 - accuracy: 0.6558\n",
      "Epoch 6/150\n",
      "4151/4151 - 233s - loss: 0.6980 - accuracy: 0.6777\n",
      "Epoch 7/150\n",
      "4151/4151 - 233s - loss: 0.6476 - accuracy: 0.6964\n",
      "Epoch 8/150\n",
      "4151/4151 - 234s - loss: 0.5976 - accuracy: 0.7150\n",
      "Epoch 9/150\n",
      "4151/4151 - 233s - loss: 0.5672 - accuracy: 0.7262\n",
      "Epoch 10/150\n",
      "4151/4151 - 234s - loss: 0.5343 - accuracy: 0.7350\n",
      "Epoch 11/150\n",
      "4151/4151 - 233s - loss: 0.5080 - accuracy: 0.7461\n",
      "Epoch 12/150\n",
      "4151/4151 - 233s - loss: 0.4859 - accuracy: 0.7545\n",
      "Epoch 13/150\n",
      "4151/4151 - 233s - loss: 0.4694 - accuracy: 0.7605\n",
      "Epoch 14/150\n",
      "4151/4151 - 233s - loss: 0.4574 - accuracy: 0.7648\n",
      "Epoch 15/150\n",
      "4151/4151 - 233s - loss: 0.4464 - accuracy: 0.7713\n",
      "Epoch 16/150\n",
      "4151/4151 - 233s - loss: 0.4236 - accuracy: 0.7773\n",
      "Epoch 17/150\n",
      "4151/4151 - 233s - loss: 0.4151 - accuracy: 0.7805\n",
      "Epoch 18/150\n",
      "4151/4151 - 233s - loss: 0.4013 - accuracy: 0.7854\n",
      "Epoch 19/150\n",
      "4151/4151 - 233s - loss: 0.3904 - accuracy: 0.7909\n",
      "Epoch 20/150\n",
      "4151/4151 - 233s - loss: 0.3828 - accuracy: 0.7958\n",
      "Epoch 21/150\n",
      "4151/4151 - 233s - loss: 0.3738 - accuracy: 0.7989\n",
      "Epoch 22/150\n",
      "4151/4151 - 233s - loss: 0.3636 - accuracy: 0.8021\n",
      "Epoch 23/150\n",
      "4151/4151 - 233s - loss: 0.3549 - accuracy: 0.8055\n",
      "Epoch 24/150\n",
      "4151/4151 - 234s - loss: 0.3443 - accuracy: 0.8093\n",
      "Epoch 25/150\n",
      "4151/4151 - 233s - loss: 0.3393 - accuracy: 0.8123\n",
      "Epoch 26/150\n",
      "4151/4151 - 233s - loss: 0.3263 - accuracy: 0.8164\n",
      "Epoch 27/150\n",
      "4151/4151 - 233s - loss: 0.3211 - accuracy: 0.8194\n",
      "Epoch 28/150\n",
      "4151/4151 - 233s - loss: 0.3155 - accuracy: 0.8208\n",
      "Epoch 29/150\n",
      "4151/4151 - 233s - loss: 0.3106 - accuracy: 0.8239\n",
      "Epoch 30/150\n",
      "4151/4151 - 233s - loss: 0.3058 - accuracy: 0.8263\n",
      "Epoch 31/150\n",
      "4151/4151 - 233s - loss: 0.2992 - accuracy: 0.8280\n",
      "Epoch 32/150\n",
      "4151/4151 - 233s - loss: 0.2962 - accuracy: 0.8302\n",
      "Epoch 33/150\n",
      "4151/4151 - 233s - loss: 0.2838 - accuracy: 0.8347\n",
      "Epoch 34/150\n",
      "4151/4151 - 234s - loss: 0.2837 - accuracy: 0.8362\n",
      "Epoch 35/150\n",
      "4151/4151 - 234s - loss: 0.2740 - accuracy: 0.8404\n",
      "Epoch 36/150\n",
      "4151/4151 - 233s - loss: 0.2695 - accuracy: 0.8414\n",
      "Epoch 37/150\n",
      "4151/4151 - 233s - loss: 0.2671 - accuracy: 0.8424\n",
      "Epoch 38/150\n",
      "4151/4151 - 233s - loss: 0.2653 - accuracy: 0.8438\n",
      "Epoch 39/150\n",
      "4151/4151 - 233s - loss: 0.2573 - accuracy: 0.8464\n",
      "Epoch 40/150\n",
      "4151/4151 - 233s - loss: 0.2556 - accuracy: 0.8478\n",
      "Epoch 41/150\n",
      "4151/4151 - 233s - loss: 0.2536 - accuracy: 0.8493\n",
      "Epoch 42/150\n",
      "4151/4151 - 233s - loss: 0.2442 - accuracy: 0.8529\n",
      "Epoch 43/150\n",
      "4151/4151 - 233s - loss: 0.2394 - accuracy: 0.8537\n",
      "Epoch 44/150\n",
      "4151/4151 - 233s - loss: 0.2394 - accuracy: 0.8547\n",
      "Epoch 45/150\n",
      "4151/4151 - 234s - loss: 0.2413 - accuracy: 0.8550\n",
      "Epoch 46/150\n",
      "4151/4151 - 233s - loss: 0.2302 - accuracy: 0.8582\n",
      "Epoch 47/150\n",
      "4151/4151 - 233s - loss: 0.2260 - accuracy: 0.8610\n",
      "Epoch 48/150\n",
      "4151/4151 - 233s - loss: 0.2303 - accuracy: 0.8609\n",
      "Epoch 49/150\n",
      "4151/4151 - 233s - loss: 0.2297 - accuracy: 0.8609\n",
      "Epoch 50/150\n",
      "4151/4151 - 233s - loss: 0.2195 - accuracy: 0.8633\n",
      "Epoch 51/150\n",
      "4151/4151 - 233s - loss: 0.2203 - accuracy: 0.8645\n",
      "Epoch 52/150\n",
      "4151/4151 - 233s - loss: 0.2156 - accuracy: 0.8656\n",
      "Epoch 53/150\n",
      "4151/4151 - 234s - loss: 0.2132 - accuracy: 0.8665\n",
      "Epoch 54/150\n",
      "4151/4151 - 234s - loss: 0.2096 - accuracy: 0.8677\n",
      "Epoch 55/150\n",
      "4151/4151 - 234s - loss: 0.2047 - accuracy: 0.8704\n",
      "Epoch 56/150\n",
      "4151/4151 - 233s - loss: 0.2060 - accuracy: 0.8698\n",
      "Epoch 57/150\n",
      "4151/4151 - 234s - loss: 0.1979 - accuracy: 0.8712\n",
      "Epoch 58/150\n",
      "4151/4151 - 233s - loss: 0.1968 - accuracy: 0.8739\n",
      "Epoch 59/150\n",
      "4151/4151 - 233s - loss: 0.1972 - accuracy: 0.8749\n",
      "Epoch 60/150\n",
      "4151/4151 - 233s - loss: 0.1958 - accuracy: 0.8756\n",
      "Epoch 61/150\n",
      "4151/4151 - 233s - loss: 0.1877 - accuracy: 0.8778\n",
      "Epoch 62/150\n",
      "4151/4151 - 233s - loss: 0.1895 - accuracy: 0.8770\n",
      "Epoch 63/150\n",
      "4151/4151 - 233s - loss: 0.1821 - accuracy: 0.8798\n",
      "Epoch 64/150\n",
      "4151/4151 - 233s - loss: 0.1818 - accuracy: 0.8816\n",
      "Epoch 65/150\n",
      "4151/4151 - 233s - loss: 0.1771 - accuracy: 0.8822\n",
      "Epoch 66/150\n",
      "4151/4151 - 233s - loss: 0.1852 - accuracy: 0.8818\n",
      "Epoch 67/150\n",
      "4151/4151 - 233s - loss: 0.1792 - accuracy: 0.8828\n",
      "Epoch 68/150\n",
      "4151/4151 - 233s - loss: 0.1746 - accuracy: 0.8845\n",
      "Epoch 69/150\n",
      "4151/4151 - 233s - loss: 0.1711 - accuracy: 0.8857\n",
      "Epoch 70/150\n",
      "4151/4151 - 233s - loss: 0.1734 - accuracy: 0.8859\n",
      "Epoch 71/150\n",
      "4151/4151 - 234s - loss: 0.1715 - accuracy: 0.8864\n",
      "Epoch 72/150\n",
      "4151/4151 - 233s - loss: 0.1666 - accuracy: 0.8889\n",
      "Epoch 73/150\n",
      "4151/4151 - 233s - loss: 0.1711 - accuracy: 0.8883\n",
      "Epoch 74/150\n",
      "4151/4151 - 233s - loss: 0.1647 - accuracy: 0.8908\n",
      "Epoch 75/150\n",
      "4151/4151 - 233s - loss: 0.1677 - accuracy: 0.8904\n",
      "Epoch 76/150\n",
      "4151/4151 - 234s - loss: 0.1630 - accuracy: 0.8928\n",
      "Epoch 77/150\n",
      "4151/4151 - 233s - loss: 0.1567 - accuracy: 0.8936\n",
      "Epoch 78/150\n",
      "4151/4151 - 233s - loss: 0.1578 - accuracy: 0.8933\n",
      "Epoch 79/150\n",
      "4151/4151 - 233s - loss: 0.1542 - accuracy: 0.8949\n",
      "Epoch 80/150\n",
      "4151/4151 - 233s - loss: 0.1598 - accuracy: 0.8946\n",
      "Epoch 81/150\n",
      "4151/4151 - 233s - loss: 0.1476 - accuracy: 0.8970\n",
      "Epoch 82/150\n",
      "4151/4151 - 233s - loss: 0.1532 - accuracy: 0.8966\n",
      "Epoch 83/150\n",
      "4151/4151 - 233s - loss: 0.1518 - accuracy: 0.8977\n",
      "Epoch 84/150\n",
      "4151/4151 - 233s - loss: 0.1472 - accuracy: 0.8992\n",
      "Epoch 85/150\n",
      "4151/4151 - 234s - loss: 0.1442 - accuracy: 0.8994\n",
      "Epoch 86/150\n",
      "4151/4151 - 233s - loss: 0.1448 - accuracy: 0.9012\n",
      "Epoch 87/150\n",
      "4151/4151 - 233s - loss: 0.1435 - accuracy: 0.9017\n",
      "Epoch 88/150\n",
      "4151/4151 - 233s - loss: 0.1421 - accuracy: 0.9018\n",
      "Epoch 89/150\n",
      "4151/4151 - 233s - loss: 0.1393 - accuracy: 0.9045\n",
      "Epoch 90/150\n",
      "4151/4151 - 233s - loss: 0.1369 - accuracy: 0.9046\n",
      "Epoch 91/150\n",
      "4151/4151 - 233s - loss: 0.1379 - accuracy: 0.9045\n",
      "Epoch 92/150\n",
      "4151/4151 - 234s - loss: 0.1333 - accuracy: 0.9061\n",
      "Epoch 93/150\n",
      "4151/4151 - 233s - loss: 0.1372 - accuracy: 0.9053\n",
      "Epoch 94/150\n",
      "4151/4151 - 233s - loss: 0.1313 - accuracy: 0.9074\n",
      "Epoch 95/150\n",
      "4151/4151 - 233s - loss: 0.1295 - accuracy: 0.9078\n",
      "Epoch 96/150\n",
      "4151/4151 - 233s - loss: 0.1338 - accuracy: 0.9086\n",
      "Epoch 97/150\n",
      "4151/4151 - 233s - loss: 0.1315 - accuracy: 0.9094\n",
      "Epoch 98/150\n",
      "4151/4151 - 233s - loss: 0.1266 - accuracy: 0.9108\n",
      "Epoch 99/150\n",
      "4151/4151 - 233s - loss: 0.1267 - accuracy: 0.9099\n",
      "Epoch 100/150\n",
      "4151/4151 - 234s - loss: 0.1237 - accuracy: 0.9114\n",
      "Epoch 101/150\n",
      "4151/4151 - 233s - loss: 0.1258 - accuracy: 0.9114\n",
      "Epoch 102/150\n",
      "4151/4151 - 233s - loss: 0.1229 - accuracy: 0.9116\n",
      "Epoch 103/150\n",
      "4151/4151 - 233s - loss: 0.1200 - accuracy: 0.9129\n",
      "Epoch 104/150\n",
      "4151/4151 - 233s - loss: 0.1193 - accuracy: 0.9141\n",
      "Epoch 105/150\n",
      "4151/4151 - 233s - loss: 0.1225 - accuracy: 0.9134\n",
      "Epoch 106/150\n",
      "4151/4151 - 233s - loss: 0.1206 - accuracy: 0.9143\n",
      "Epoch 107/150\n",
      "4151/4151 - 233s - loss: 0.1142 - accuracy: 0.9160\n",
      "Epoch 108/150\n",
      "4151/4151 - 233s - loss: 0.1176 - accuracy: 0.9167\n",
      "Epoch 109/150\n",
      "4151/4151 - 234s - loss: 0.1152 - accuracy: 0.9168\n",
      "Epoch 110/150\n",
      "4151/4151 - 234s - loss: 0.1186 - accuracy: 0.9160\n",
      "Epoch 111/150\n",
      "4151/4151 - 233s - loss: 0.1120 - accuracy: 0.9180\n",
      "Epoch 112/150\n",
      "4151/4151 - 233s - loss: 0.1130 - accuracy: 0.9185\n",
      "Epoch 113/150\n",
      "4151/4151 - 233s - loss: 0.1119 - accuracy: 0.9206\n",
      "Epoch 114/150\n",
      "4151/4151 - 233s - loss: 0.1066 - accuracy: 0.9203\n",
      "Epoch 115/150\n",
      "4151/4151 - 233s - loss: 0.1112 - accuracy: 0.9198\n",
      "Epoch 116/150\n",
      "4151/4151 - 233s - loss: 0.1069 - accuracy: 0.9220\n",
      "Epoch 117/150\n",
      "4151/4151 - 233s - loss: 0.1147 - accuracy: 0.9205\n",
      "Epoch 118/150\n",
      "4151/4151 - 233s - loss: 0.1055 - accuracy: 0.9217\n",
      "Epoch 119/150\n",
      "4151/4151 - 233s - loss: 0.1072 - accuracy: 0.9223\n",
      "Epoch 120/150\n",
      "4151/4151 - 233s - loss: 0.1025 - accuracy: 0.9241\n",
      "Epoch 121/150\n",
      "4151/4151 - 233s - loss: 0.1045 - accuracy: 0.9234\n",
      "Epoch 122/150\n",
      "4151/4151 - 233s - loss: 0.1031 - accuracy: 0.9238\n",
      "Epoch 123/150\n",
      "4151/4151 - 233s - loss: 0.1065 - accuracy: 0.9224\n",
      "Epoch 124/150\n",
      "4151/4151 - 234s - loss: 0.1010 - accuracy: 0.9257\n",
      "Epoch 125/150\n",
      "4151/4151 - 234s - loss: 0.1044 - accuracy: 0.9256\n",
      "Epoch 126/150\n",
      "4151/4151 - 233s - loss: 0.1043 - accuracy: 0.9263\n",
      "Epoch 127/150\n",
      "4151/4151 - 233s - loss: 0.1019 - accuracy: 0.9249\n",
      "Epoch 128/150\n",
      "4151/4151 - 234s - loss: 0.1043 - accuracy: 0.9250\n",
      "Epoch 129/150\n",
      "4151/4151 - 234s - loss: 0.0975 - accuracy: 0.9270\n",
      "Epoch 130/150\n",
      "4151/4151 - 234s - loss: 0.0960 - accuracy: 0.9279\n",
      "Epoch 131/150\n",
      "4151/4151 - 234s - loss: 0.0956 - accuracy: 0.9273\n",
      "Epoch 132/150\n",
      "4151/4151 - 234s - loss: 0.0978 - accuracy: 0.9272\n",
      "Epoch 133/150\n",
      "4151/4151 - 234s - loss: 0.0985 - accuracy: 0.9285\n",
      "Epoch 134/150\n",
      "4151/4151 - 234s - loss: 0.0919 - accuracy: 0.9304\n",
      "Epoch 135/150\n",
      "4151/4151 - 234s - loss: 0.0932 - accuracy: 0.9284\n",
      "Epoch 136/150\n",
      "4151/4151 - 234s - loss: 0.0912 - accuracy: 0.9313\n",
      "Epoch 137/150\n",
      "4151/4151 - 233s - loss: 0.0964 - accuracy: 0.9299\n",
      "Epoch 138/150\n",
      "4151/4151 - 233s - loss: 0.0904 - accuracy: 0.9313\n",
      "Epoch 139/150\n",
      "4151/4151 - 234s - loss: 0.0896 - accuracy: 0.9324\n",
      "Epoch 140/150\n",
      "4151/4151 - 233s - loss: 0.0881 - accuracy: 0.9320\n",
      "Epoch 141/150\n",
      "4151/4151 - 234s - loss: 0.0920 - accuracy: 0.9310\n",
      "Epoch 142/150\n",
      "4151/4151 - 233s - loss: 0.0939 - accuracy: 0.9326\n",
      "Epoch 143/150\n",
      "4151/4151 - 233s - loss: 0.0877 - accuracy: 0.9336\n",
      "Epoch 144/150\n",
      "4151/4151 - 233s - loss: 0.0906 - accuracy: 0.9321\n",
      "Epoch 145/150\n",
      "4151/4151 - 234s - loss: 0.0884 - accuracy: 0.9337\n",
      "Epoch 146/150\n",
      "4151/4151 - 234s - loss: 0.0839 - accuracy: 0.9348\n",
      "Epoch 147/150\n",
      "4151/4151 - 233s - loss: 0.0885 - accuracy: 0.9324\n",
      "Epoch 148/150\n",
      "4151/4151 - 233s - loss: 0.0844 - accuracy: 0.9348\n",
      "Epoch 149/150\n",
      "4151/4151 - 233s - loss: 0.0847 - accuracy: 0.9352\n",
      "Epoch 150/150\n",
      "4151/4151 - 233s - loss: 0.0853 - accuracy: 0.9357\n",
      "1038/1038 - 16s\n",
      "Normalized confusion matrix\n",
      "                       precision    recall  f1-score   support\n",
      "\n",
      "                 HEKA       1.00      0.99      1.00      6042\n",
      "       fridge/freezer       0.98      0.97      0.97      9826\n",
      "         audio system       0.47      0.89      0.61       342\n",
      "           breadmaker       0.89      0.97      0.93        64\n",
      "     broadband router       0.55      0.84      0.66       451\n",
      "             computer       0.88      0.83      0.85      5143\n",
      "         dehumidifier       0.82      0.92      0.87       123\n",
      "          dish washer       0.97      0.99      0.98       783\n",
      "electric space heater       0.76      0.87      0.81       187\n",
      "       food processor       0.79      0.95      0.86       175\n",
      "            pond pump       0.86      0.98      0.91       796\n",
      "           television       0.90      0.86      0.88      7908\n",
      "         tumble dryer       0.86      0.84      0.85       301\n",
      "         washer dryer       0.59      0.90      0.71        58\n",
      "      washing machine       0.91      0.92      0.91      1003\n",
      "\n",
      "             accuracy                           0.92     33202\n",
      "            macro avg       0.81      0.91      0.85     33202\n",
      "         weighted avg       0.93      0.92      0.92     33202\n",
      "\n"
     ]
    },
    {
     "name": "stderr",
     "output_type": "stream",
     "text": [
      "2022-02-11 01:59:35.423554: W tensorflow/python/util/util.cc:348] Sets are not currently considered sequences, but this may change in the future, so consider avoiding using them.\n",
      "WARNING:absl:Found untraced functions such as lstm_cell_1_layer_call_fn, lstm_cell_1_layer_call_and_return_conditional_losses, lstm_cell_2_layer_call_fn, lstm_cell_2_layer_call_and_return_conditional_losses, lstm_cell_4_layer_call_fn while saving (showing 5 of 20). These functions will not be directly callable after loading.\n"
     ]
    },
    {
     "name": "stdout",
     "output_type": "stream",
     "text": [
      "INFO:tensorflow:Assets written to: /workspace/notebooks/models/BI_LSTM/refit_42/assets\n"
     ]
    },
    {
     "name": "stderr",
     "output_type": "stream",
     "text": [
      "INFO:tensorflow:Assets written to: /workspace/notebooks/models/BI_LSTM/refit_42/assets\n"
     ]
    },
    {
     "data": {
      "image/png": "[encoded data removed]",
      "text/plain": [
       "<Figure size 720x720 with 2 Axes>"
      ]
     },
     "metadata": {
      "needs_background": "light"
     },
     "output_type": "display_data"
    }
   ],
   "source": [
    "# %%capture cap --no-stderr\n",
    "\n",
    "\n",
    "if environ['train_type'] == \"BB\":\n",
    "\n",
    "    #define generator\n",
    "    train_gen = HDF5ImageGenerator(\n",
    "        src= path_data,\n",
    "        X_key=\"data/train/gaf\",\n",
    "        y_key=\"labels/train/gaf\",\n",
    "        classes_key=\"appliances/classes\",\n",
    "        labels_encoding=\"hot\",\n",
    "        shuffle=True,\n",
    "        batch_size=int(environ['batch_size']),\n",
    "        num_classes=num_of_classes,\n",
    "        mode=\"train\",\n",
    "        )\n",
    "    \n",
    "    model = select_model(environ['learn_type'])\n",
    "    \n",
    "    txt_log.write(\"fitting BB model: \\n\")\n",
    "    \n",
    "    model.fit(\n",
    "        train_gen,\n",
    "        verbose=2,\n",
    "        epochs=int(environ['epochs']),\n",
    "        class_weight=d_class_weights,\n",
    "        callbacks = [save_op_callback],\n",
    "    )\n",
    "    \n",
    "    txt_log.write(\"finished fitting BB model: \\n\")\n",
    "\n",
    "    evaluate_model(model,x_test,y_test,appliances)\n",
    "    \n",
    "    if environ['save_model']==\"True\":\n",
    "\n",
    "        path_model_save = path+\"/models/\"+environ['learn_type']+\"/\"+dataset.split(\"_\")[0]+\"_\"+dataset.split(\"_R\")[1][0:2]\n",
    "        model.save(path_model_save)\n",
    "        txt_log.write(\"model saved to:\"+\"/models/\"+environ['learn_type']+\"/\"+dataset.split(\"_\")[0]+\"_\"+dataset.split(\"_R\")[1][0:2]+\" \\n\")\n",
    "        \n",
    "        \n",
    "# with open(path_save+\"_out_log.txt\" as f:\n",
    "#     f.write(cap.stdout)\n"
   ]
  },
  {
   "cell_type": "code",
   "execution_count": 13,
   "metadata": {
    "collapsed": true,
    "execution": {
     "iopub.execute_input": "2022-02-11T01:59:46.456004Z",
     "iopub.status.busy": "2022-02-11T01:59:46.455615Z",
     "iopub.status.idle": "2022-02-11T01:59:46.458676Z",
     "shell.execute_reply": "2022-02-11T01:59:46.459419Z"
    }
   },
   "outputs": [],
   "source": [
    "#model = keras.models.load_model(path_model1)\n",
    "# model_used = model"
   ]
  },
  {
   "cell_type": "code",
   "execution_count": 14,
   "metadata": {
    "collapsed": true,
    "execution": {
     "iopub.execute_input": "2022-02-11T01:59:46.463635Z",
     "iopub.status.busy": "2022-02-11T01:59:46.462775Z",
     "iopub.status.idle": "2022-02-11T01:59:46.464573Z",
     "shell.execute_reply": "2022-02-11T01:59:46.465275Z"
    },
    "jupyter": {
     "outputs_hidden": true
    },
    "tags": []
   },
   "outputs": [],
   "source": [
    "# evaluate_model(model,x_test,y_test,appliances)"
   ]
  },
  {
   "cell_type": "code",
   "execution_count": 15,
   "metadata": {
    "collapsed": true,
    "execution": {
     "iopub.execute_input": "2022-02-11T01:59:46.478313Z",
     "iopub.status.busy": "2022-02-11T01:59:46.477336Z",
     "iopub.status.idle": "2022-02-11T01:59:46.479689Z",
     "shell.execute_reply": "2022-02-11T01:59:46.480756Z"
    }
   },
   "outputs": [],
   "source": [
    "# datasets =[\n",
    "#     \"ukdale_gen_GASF_13m_100S5X12A54480_R82_80-20\"\n",
    "# ]\n",
    "\n",
    "if environ['train_type'] == \"TL\": \n",
    "    models = environ['tl_datasets'].replace(\" \",\"\").split(\",\")\n",
    "    #model = [\"base\"]\n",
    "    \n",
    "    for model in models:\n",
    "    \n",
    "        file_name = dataset\n",
    "        \n",
    "        datasetTL = model\n",
    "        \n",
    "        seed = dataset.split(\"_R\")[1][0:2]\n",
    "        \n",
    "        print(\"using dataset data\",dataset.split(\"_\")[0],\"training on model\",model,\"seed\",environ['seed'])\n",
    "        txt_log.write(\"starting \"+dataset.split(\"_\")[0]+\" training on model \"+model+\" seed \"+environ['seed']+\"\\n\")\n",
    "\n",
    "\n",
    "        tf.keras.backend.clear_session()\n",
    "\n",
    "\n",
    "        #read the file\n",
    "        path = str(pathlib.Path().resolve())\n",
    "        path_data = f\"{path}\"\"/data/\"f\"{file_name}\"\"/\"f\"{file_name}\"\".hdf5\"\n",
    "        file = h5py.File(path_data,\"r+\")\n",
    "\n",
    "\n",
    "        print(\"reading data, printing stats: \")\n",
    "        x_test,y_test,d_class_weights,num_of_classes,appliances = get_data(file)\n",
    "        print(\"loading model\")\n",
    "        \n",
    "        model_seed = 42\n",
    "        model_used = create_tl_model(model,environ['learn_type'],model_seed,path,num_of_classes)\n",
    "                \n",
    "        train_gen = HDF5ImageGenerator(\n",
    "            src= path_data,\n",
    "            X_key=\"data/train/gaf\",\n",
    "            y_key=\"labels/train/gaf\",\n",
    "            classes_key=\"appliances/classes\",\n",
    "            labels_encoding=\"hot\",\n",
    "            shuffle=True,\n",
    "            batch_size=int(environ['batch_size']),\n",
    "            num_classes=num_of_classes,\n",
    "            mode=\"train\",\n",
    "            )\n",
    "\n",
    "        model_used.fit(\n",
    "            train_gen,\n",
    "            verbose=2,\n",
    "            epochs=int(environ['epochs']),\n",
    "            class_weight=d_class_weights,\n",
    "            callbacks = [save_op_callback]\n",
    "            #workers = 6,\n",
    "        )\n",
    "        \n",
    "        txt_log.write(\"finished \"+dataset.split(\"_\")[0]+\" training on model \"+model+\" seed \"+environ['seed']+\"\\n\")\n",
    "\n",
    "\n",
    "        evaluate_model(model_used,x_test,y_test,appliances)\n",
    "        \n",
    "\n",
    "\n",
    "\n",
    "        #del model_used\n",
    "\n"
   ]
  },
  {
   "cell_type": "code",
   "execution_count": 16,
   "metadata": {
    "execution": {
     "iopub.execute_input": "2022-02-11T01:59:46.486435Z",
     "iopub.status.busy": "2022-02-11T01:59:46.485183Z",
     "iopub.status.idle": "2022-02-11T01:59:46.487796Z",
     "shell.execute_reply": "2022-02-11T01:59:46.489004Z"
    }
   },
   "outputs": [],
   "source": [
    "txt_log.close()"
   ]
  },
  {
   "cell_type": "code",
   "execution_count": null,
   "metadata": {},
   "outputs": [],
   "source": []
  }
 ],
 "metadata": {
  "colab": {
   "authorship_tag": "ABX9TyMej4PvP65qsLng7TnQKWA4",
   "name": "LSTM-gen",
   "provenance": []
  },
  "kernelspec": {
   "display_name": "Python 3 (ipykernel)",
   "language": "python",
   "name": "python3"
  },
  "language_info": {
   "codemirror_mode": {
    "name": "ipython",
    "version": 3
   },
   "file_extension": ".py",
   "mimetype": "text/x-python",
   "name": "python",
   "nbconvert_exporter": "python",
   "pygments_lexer": "ipython3",
   "version": "3.8.10"
  }
 },
 "nbformat": 4,
 "nbformat_minor": 4
}
