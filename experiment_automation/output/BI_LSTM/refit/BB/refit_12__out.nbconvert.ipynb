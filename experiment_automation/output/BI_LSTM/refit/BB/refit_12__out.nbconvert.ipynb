{
 "cells": [
  {
   "cell_type": "code",
   "execution_count": 1,
   "metadata": {
    "execution": {
     "iopub.execute_input": "2022-02-10T06:27:27.394145Z",
     "iopub.status.busy": "2022-02-10T06:27:27.392738Z",
     "iopub.status.idle": "2022-02-10T06:27:30.307366Z",
     "shell.execute_reply": "2022-02-10T06:27:30.307706Z"
    },
    "id": "WqUfHWgtJxtu",
    "scrolled": true,
    "tags": []
   },
   "outputs": [
    {
     "name": "stderr",
     "output_type": "stream",
     "text": [
      "2022-02-10 06:27:28.514491: I tensorflow/stream_executor/platform/default/dso_loader.cc:54] Successfully opened dynamic library libcudart.so.11.0\n"
     ]
    },
    {
     "name": "stdout",
     "output_type": "stream",
     "text": [
      "2.5.0\n",
      "Num GPUs Available:  1\n"
     ]
    },
    {
     "name": "stderr",
     "output_type": "stream",
     "text": [
      "2022-02-10 06:27:30.246767: I tensorflow/stream_executor/platform/default/dso_loader.cc:54] Successfully opened dynamic library libcuda.so.1\n",
      "2022-02-10 06:27:30.287544: I tensorflow/core/common_runtime/gpu/gpu_device.cc:1734] Found device 0 with properties: \n",
      "pciBusID: 0000:21:00.0 name: NVIDIA GeForce RTX 2080 Ti computeCapability: 7.5\n",
      "coreClock: 1.545GHz coreCount: 68 deviceMemorySize: 10.76GiB deviceMemoryBandwidth: 573.69GiB/s\n",
      "2022-02-10 06:27:30.287589: I tensorflow/stream_executor/platform/default/dso_loader.cc:54] Successfully opened dynamic library libcudart.so.11.0\n",
      "2022-02-10 06:27:30.293406: I tensorflow/stream_executor/platform/default/dso_loader.cc:54] Successfully opened dynamic library libcublas.so.11\n",
      "2022-02-10 06:27:30.293462: I tensorflow/stream_executor/platform/default/dso_loader.cc:54] Successfully opened dynamic library libcublasLt.so.11\n",
      "2022-02-10 06:27:30.295360: I tensorflow/stream_executor/platform/default/dso_loader.cc:54] Successfully opened dynamic library libcufft.so.10\n",
      "2022-02-10 06:27:30.296301: I tensorflow/stream_executor/platform/default/dso_loader.cc:54] Successfully opened dynamic library libcurand.so.10\n",
      "2022-02-10 06:27:30.297569: I tensorflow/stream_executor/platform/default/dso_loader.cc:54] Successfully opened dynamic library libcutensor.so.1\n",
      "2022-02-10 06:27:30.298278: I tensorflow/stream_executor/platform/default/dso_loader.cc:54] Successfully opened dynamic library libcusolver.so.11\n",
      "2022-02-10 06:27:30.299344: I tensorflow/stream_executor/platform/default/dso_loader.cc:54] Successfully opened dynamic library libcusparse.so.11\n",
      "2022-02-10 06:27:30.299676: I tensorflow/stream_executor/platform/default/dso_loader.cc:54] Successfully opened dynamic library libcudnn.so.8\n",
      "2022-02-10 06:27:30.300052: I tensorflow/core/common_runtime/gpu/gpu_device.cc:1872] Adding visible gpu devices: 0\n"
     ]
    }
   ],
   "source": [
    "import h5py\n",
    "import numpy as np\n",
    "\n",
    "from sklearn.model_selection import train_test_split\n",
    "from sklearn.metrics import classification_report, confusion_matrix\n",
    "import matplotlib.pyplot as plt\n",
    "import itertools \n",
    "import pyts\n",
    "from pyts.approximation import PiecewiseAggregateApproximation\n",
    "\n",
    "from sklearn.utils import class_weight\n",
    "\n",
    "import pathlib\n",
    "import tensorflow as tf\n",
    "from tensorflow import keras\n",
    "from tensorflow.keras import layers, optimizers\n",
    "from tensorflow.keras.layers import Convolution2D,Conv2D, Dense,Dropout, Flatten, Activation, MaxPooling2D, Input, Conv1D, GlobalAveragePooling1D, TimeDistributed, GRU, LSTM\n",
    "\n",
    "print(tf.__version__)\n",
    "print(\"Num GPUs Available: \", len(tf.config.list_physical_devices('GPU')))\n",
    "gpus = tf.config.experimental.list_physical_devices('GPU')\n",
    "\n",
    "try:\n",
    "    for gpu in gpus:\n",
    "        tf.config.experimental.set_memory_growth(gpu, True)\n",
    "except RuntimeError as e:\n",
    "    print(e)"
   ]
  },
  {
   "cell_type": "code",
   "execution_count": 2,
   "metadata": {
    "execution": {
     "iopub.execute_input": "2022-02-10T06:27:30.314365Z",
     "iopub.status.busy": "2022-02-10T06:27:30.313815Z",
     "iopub.status.idle": "2022-02-10T06:27:30.318140Z",
     "shell.execute_reply": "2022-02-10T06:27:30.317647Z"
    }
   },
   "outputs": [
    {
     "name": "stdout",
     "output_type": "stream",
     "text": [
      "refit_gen_GASF_13m_100S5X_15A166006_R12_80-20\n"
     ]
    }
   ],
   "source": [
    "from os import environ\n",
    "dataset = environ['dataset']\n",
    "print(dataset)"
   ]
  },
  {
   "cell_type": "code",
   "execution_count": 3,
   "metadata": {
    "execution": {
     "iopub.execute_input": "2022-02-10T06:27:30.325773Z",
     "iopub.status.busy": "2022-02-10T06:27:30.325052Z",
     "iopub.status.idle": "2022-02-10T06:27:30.328624Z",
     "shell.execute_reply": "2022-02-10T06:27:30.329230Z"
    }
   },
   "outputs": [],
   "source": [
    "#my defs \n",
    "from modules.models import  LSTM_3D_V56, CNN_V56,LSTM_BI_V56\n",
    "from modules.tools import my_print, plot_confusion_matrix_norm, get_data,get_data_split, evaluate_model, create_tl_model\n",
    "from modules.HDF5ImageGenerator import HDF5ImageGenerator"
   ]
  },
  {
   "cell_type": "code",
   "execution_count": 4,
   "metadata": {
    "execution": {
     "iopub.execute_input": "2022-02-10T06:27:30.335451Z",
     "iopub.status.busy": "2022-02-10T06:27:30.334470Z",
     "iopub.status.idle": "2022-02-10T06:27:30.336823Z",
     "shell.execute_reply": "2022-02-10T06:27:30.337613Z"
    },
    "id": "RT1vwq7-KOtB"
   },
   "outputs": [],
   "source": [
    "#LOAD DATASET\n",
    "#file_name = \"ukdale_gen_GASF_13m_100S5X12A54480\"\n",
    "#file_name = \"refit_gen_GASF_13m_100S5X_15A166006\"\n",
    "file_name = \"refit_gen_GASF_13m_100S5X_15A166006_R42-80-20\"\n",
    "#file_name = \"refit_gen_GASF_13m_100S5X_15A166006_R42_80-20\"\n",
    "file_name = \"refit_gen_GASF_60m_300S0X_15A157030N_R12_80-20-V1\"\n",
    "file_name = environ[\"dataset\"]\n",
    "#read the file\n",
    "path = str(pathlib.Path().resolve())\n",
    "\n",
    "path_data = f\"{path}\"\"/data/\"f\"{file_name}\"\"/\"f\"{file_name}\"\".hdf5\"\n",
    "\n",
    "file = h5py.File(path_data,\"r+\")"
   ]
  },
  {
   "cell_type": "code",
   "execution_count": 5,
   "metadata": {
    "execution": {
     "iopub.execute_input": "2022-02-10T06:27:30.344665Z",
     "iopub.status.busy": "2022-02-10T06:27:30.343278Z",
     "iopub.status.idle": "2022-02-10T06:27:35.637830Z",
     "shell.execute_reply": "2022-02-10T06:27:35.638884Z"
    },
    "scrolled": true
   },
   "outputs": [
    {
     "name": "stdout",
     "output_type": "stream",
     "text": [
      "['HEKA', 'fridge/freezer', 'audio system', 'breadmaker', 'broadband router', 'computer', 'dehumidifier', 'dish washer', 'electric space heater', 'food processor', 'pond pump', 'television', 'tumble dryer', 'washer dryer', 'washing machine']\n",
      "{0: 0.3663356504468719, 1: 0.22525951557093427, 2: 6.4672023374726075, 3: 34.85669291338583, 4: 4.910482529118137, 5: 0.43032954214056574, 6: 18.068571428571428, 7: 2.8259176508139165, 8: 11.852208835341365, 9: 12.611965811965812, 10: 2.7789077212806026, 11: 0.2799203262828417, 12: 7.359600997506234, 13: 38.32727272727273, 14: 2.2073298429319372}\n",
      " \n",
      "Tests \n",
      "HEKA test: 6042 train: 24168\n",
      "fridge/freezer test: 9826 train: 39304\n",
      "audio system test: 342 train: 1369\n",
      "breadmaker test: 64 train: 254\n",
      "broadband router test: 451 train: 1803\n",
      "computer test: 5143 train: 20574\n",
      "dehumidifier test: 123 train: 490\n",
      "dish washer test: 783 train: 3133\n",
      "electric space heater test: 187 train: 747\n",
      "food processor test: 175 train: 702\n",
      "pond pump test: 796 train: 3186\n",
      "television test: 7908 train: 31629\n",
      "tumble dryer test: 301 train: 1203\n",
      "washer dryer test: 58 train: 231\n",
      "washing machine test: 1003 train: 4011\n"
     ]
    }
   ],
   "source": [
    "x_test,y_test,d_class_weights,num_of_classes,appliances = get_data(file)"
   ]
  },
  {
   "cell_type": "code",
   "execution_count": 6,
   "metadata": {
    "execution": {
     "iopub.execute_input": "2022-02-10T06:27:35.647435Z",
     "iopub.status.busy": "2022-02-10T06:27:35.646155Z",
     "iopub.status.idle": "2022-02-10T06:27:35.649086Z",
     "shell.execute_reply": "2022-02-10T06:27:35.650127Z"
    }
   },
   "outputs": [],
   "source": [
    "def select_model(learn_type):\n",
    "    \n",
    "    if learn_type == \"CNN\":\n",
    "        model = CNN_V56(file[\"data/train/gaf\"][0:10],num_of_classes,lr= 0.00002)\n",
    "\n",
    "    if learn_type == \"LSTM\":\n",
    "        model = LSTM_3D_V56(file[\"data/train/gaf\"][0:10],num_of_classes,lr= 0.00002)\n",
    "\n",
    "    if learn_type == \"BI_LSTM\":\n",
    "        model = LSTM_BI_V56(file[\"data/train/gaf\"][0:10],num_of_classes,lr= 0.00002)\n",
    "\n",
    "    return model\n",
    "              "
   ]
  },
  {
   "cell_type": "code",
   "execution_count": 7,
   "metadata": {
    "execution": {
     "iopub.execute_input": "2022-02-10T06:27:35.658247Z",
     "iopub.status.busy": "2022-02-10T06:27:35.656953Z",
     "iopub.status.idle": "2022-02-10T06:27:35.659597Z",
     "shell.execute_reply": "2022-02-10T06:27:35.660651Z"
    }
   },
   "outputs": [],
   "source": [
    "path_save = path+'/experiment_automation/output/'+environ['learn_type']+'/'+dataset.split(\"_\")[0]+\"/\"+environ['train_type']+\"/\"+dataset.split(\"_\")[0]+\"_\"+environ['seed']+\"_\"+environ['tl_datasets']\n",
    "path_save_nb = path_save+\"_out.ipynb\"\n",
    "path_save_log = path_save+\"_out_log2.txt\""
   ]
  },
  {
   "cell_type": "code",
   "execution_count": 8,
   "metadata": {
    "execution": {
     "iopub.execute_input": "2022-02-10T06:27:35.670019Z",
     "iopub.status.busy": "2022-02-10T06:27:35.668727Z",
     "iopub.status.idle": "2022-02-10T06:27:35.794975Z",
     "shell.execute_reply": "2022-02-10T06:27:35.793807Z"
    }
   },
   "outputs": [],
   "source": [
    "from keras.callbacks import LambdaCallback\n",
    "#path_log= path+'/experiment_automation/output/'+environ['learn_type']+'/'+dataset.split(\"_\")[0]+\"/\"+environ['train_type']+\"/\"+dataset.split(\"_\")[0]+\"_\"+environ['seed']+\"_\"+environ['tl_datasets']+\"_log.txt\"\n",
    "txt_log = open(path_save+\"_log.txt\", mode='wt', buffering=1)\n",
    "txt_log.write(\"file created! \\n\")\n",
    "\n",
    "save_op_callback = LambdaCallback(\n",
    "  on_epoch_end = lambda epoch, logs: txt_log.write(\n",
    "    str({'epoch': epoch, 'loss': logs['loss'],'acc': logs['accuracy']}) + '\\n'),\n",
    "                                                           \n",
    ")"
   ]
  },
  {
   "cell_type": "code",
   "execution_count": 9,
   "metadata": {
    "execution": {
     "iopub.execute_input": "2022-02-10T06:27:35.800837Z",
     "iopub.status.busy": "2022-02-10T06:27:35.799539Z",
     "iopub.status.idle": "2022-02-10T06:27:35.804899Z",
     "shell.execute_reply": "2022-02-10T06:27:35.803778Z"
    }
   },
   "outputs": [
    {
     "name": "stdout",
     "output_type": "stream",
     "text": [
      "/workspace/notebooks/experiment_automation/output/BI_LSTM/refit/BB/refit_12__out.ipynb\n"
     ]
    }
   ],
   "source": [
    "print(path_save_nb)"
   ]
  },
  {
   "cell_type": "code",
   "execution_count": 10,
   "metadata": {
    "execution": {
     "iopub.execute_input": "2022-02-10T06:27:35.810480Z",
     "iopub.status.busy": "2022-02-10T06:27:35.809210Z",
     "iopub.status.idle": "2022-02-10T06:27:35.811785Z",
     "shell.execute_reply": "2022-02-10T06:27:35.812581Z"
    }
   },
   "outputs": [],
   "source": [
    "# rm $path_save_log"
   ]
  },
  {
   "cell_type": "code",
   "execution_count": 11,
   "metadata": {
    "execution": {
     "iopub.execute_input": "2022-02-10T06:27:35.818246Z",
     "iopub.status.busy": "2022-02-10T06:27:35.817020Z",
     "iopub.status.idle": "2022-02-10T06:27:35.819535Z",
     "shell.execute_reply": "2022-02-10T06:27:35.820541Z"
    }
   },
   "outputs": [],
   "source": [
    "# %%capture cap \n",
    "\n",
    "# with open(path_save_log,\"wt\") as f:\n",
    "#     f.write(cap.stdout)\n",
    "    \n",
    "# print(\"out capture..\")"
   ]
  },
  {
   "cell_type": "code",
   "execution_count": 12,
   "metadata": {
    "execution": {
     "iopub.execute_input": "2022-02-10T06:27:35.836984Z",
     "iopub.status.busy": "2022-02-10T06:27:35.835740Z",
     "iopub.status.idle": "2022-02-10T16:13:43.106100Z",
     "shell.execute_reply": "2022-02-10T16:13:43.106930Z"
    },
    "id": "vqA9NwOqKrb5",
    "jupyter": {
     "outputs_hidden": true
    },
    "tags": []
   },
   "outputs": [
    {
     "name": "stdout",
     "output_type": "stream",
     "text": [
      "Normal way\n",
      "[0 1 2 3 4 5 6 7 8 9]\n"
     ]
    },
    {
     "name": "stderr",
     "output_type": "stream",
     "text": [
      "2022-02-10 06:27:35.853654: I tensorflow/core/common_runtime/gpu/gpu_device.cc:1734] Found device 0 with properties: \n",
      "pciBusID: 0000:21:00.0 name: NVIDIA GeForce RTX 2080 Ti computeCapability: 7.5\n",
      "coreClock: 1.545GHz coreCount: 68 deviceMemorySize: 10.76GiB deviceMemoryBandwidth: 573.69GiB/s\n",
      "2022-02-10 06:27:35.853993: I tensorflow/core/common_runtime/gpu/gpu_device.cc:1872] Adding visible gpu devices: 0\n",
      "2022-02-10 06:27:35.854053: I tensorflow/stream_executor/platform/default/dso_loader.cc:54] Successfully opened dynamic library libcudart.so.11.0\n",
      "2022-02-10 06:27:36.221708: I tensorflow/core/common_runtime/gpu/gpu_device.cc:1258] Device interconnect StreamExecutor with strength 1 edge matrix:\n",
      "2022-02-10 06:27:36.221744: I tensorflow/core/common_runtime/gpu/gpu_device.cc:1264]      0 \n",
      "2022-02-10 06:27:36.221751: I tensorflow/core/common_runtime/gpu/gpu_device.cc:1277] 0:   N \n",
      "2022-02-10 06:27:36.222330: I tensorflow/core/common_runtime/gpu/gpu_device.cc:1418] Created TensorFlow device (/job:localhost/replica:0/task:0/device:GPU:0 with 9649 MB memory) -> physical GPU (device: 0, name: NVIDIA GeForce RTX 2080 Ti, pci bus id: 0000:21:00.0, compute capability: 7.5)\n",
      "2022-02-10 06:27:36.223147: I tensorflow/core/common_runtime/process_util.cc:146] Creating new thread pool with default inter op setting: 20. Tune using inter_op_parallelism_threads for best performance.\n"
     ]
    },
    {
     "name": "stdout",
     "output_type": "stream",
     "text": [
      "WARNING:tensorflow:From /usr/local/lib/python3.8/dist-packages/tensorflow/python/ops/array_ops.py:5043: calling gather (from tensorflow.python.ops.array_ops) with validate_indices is deprecated and will be removed in a future version.\n",
      "Instructions for updating:\n",
      "The `validate_indices` argument has no effect. Indices are always validated on CPU and never validated on GPU.\n",
      "Epoch 1/150\n"
     ]
    },
    {
     "name": "stderr",
     "output_type": "stream",
     "text": [
      "2022-02-10 06:27:37.013408: I tensorflow/compiler/mlir/mlir_graph_optimization_pass.cc:176] None of the MLIR Optimization Passes are enabled (registered 2)\n",
      "2022-02-10 06:27:37.032508: I tensorflow/core/platform/profile_utils/cpu_utils.cc:114] CPU Frequency: 3299990000 Hz\n",
      "2022-02-10 06:27:40.585479: I tensorflow/stream_executor/platform/default/dso_loader.cc:54] Successfully opened dynamic library libcudnn.so.8\n",
      "2022-02-10 06:27:41.328134: I tensorflow/stream_executor/cuda/cuda_dnn.cc:380] Loaded cuDNN version 8202\n",
      "2022-02-10 06:27:42.210630: I tensorflow/stream_executor/platform/default/dso_loader.cc:54] Successfully opened dynamic library libcublas.so.11\n",
      "2022-02-10 06:27:42.627015: I tensorflow/stream_executor/platform/default/dso_loader.cc:54] Successfully opened dynamic library libcublasLt.so.11\n"
     ]
    },
    {
     "name": "stdout",
     "output_type": "stream",
     "text": [
      "4151/4151 - 242s - loss: 2.0474 - accuracy: 0.3765\n",
      "Epoch 2/150\n",
      "4151/4151 - 234s - loss: 1.2240 - accuracy: 0.5769\n",
      "Epoch 3/150\n",
      "4151/4151 - 234s - loss: 0.9355 - accuracy: 0.6416\n",
      "Epoch 4/150\n",
      "4151/4151 - 234s - loss: 0.7872 - accuracy: 0.6660\n",
      "Epoch 5/150\n",
      "4151/4151 - 234s - loss: 0.6995 - accuracy: 0.6838\n",
      "Epoch 6/150\n",
      "4151/4151 - 234s - loss: 0.6360 - accuracy: 0.6971\n",
      "Epoch 7/150\n",
      "4151/4151 - 234s - loss: 0.5956 - accuracy: 0.7130\n",
      "Epoch 8/150\n",
      "4151/4151 - 234s - loss: 0.5540 - accuracy: 0.7273\n",
      "Epoch 9/150\n",
      "4151/4151 - 234s - loss: 0.5212 - accuracy: 0.7410\n",
      "Epoch 10/150\n",
      "4151/4151 - 234s - loss: 0.5019 - accuracy: 0.7501\n",
      "Epoch 11/150\n",
      "4151/4151 - 234s - loss: 0.4811 - accuracy: 0.7566\n",
      "Epoch 12/150\n",
      "4151/4151 - 234s - loss: 0.4594 - accuracy: 0.7644\n",
      "Epoch 13/150\n",
      "4151/4151 - 234s - loss: 0.4424 - accuracy: 0.7739\n",
      "Epoch 14/150\n",
      "4151/4151 - 234s - loss: 0.4270 - accuracy: 0.7782\n",
      "Epoch 15/150\n",
      "4151/4151 - 234s - loss: 0.4183 - accuracy: 0.7825\n",
      "Epoch 16/150\n",
      "4151/4151 - 234s - loss: 0.3967 - accuracy: 0.7905\n",
      "Epoch 17/150\n",
      "4151/4151 - 234s - loss: 0.3872 - accuracy: 0.7961\n",
      "Epoch 18/150\n",
      "4151/4151 - 234s - loss: 0.3833 - accuracy: 0.7977\n",
      "Epoch 19/150\n",
      "4151/4151 - 234s - loss: 0.3695 - accuracy: 0.8035\n",
      "Epoch 20/150\n",
      "4151/4151 - 234s - loss: 0.3606 - accuracy: 0.8078\n",
      "Epoch 21/150\n",
      "4151/4151 - 234s - loss: 0.3541 - accuracy: 0.8091\n",
      "Epoch 22/150\n",
      "4151/4151 - 234s - loss: 0.3431 - accuracy: 0.8153\n",
      "Epoch 23/150\n",
      "4151/4151 - 234s - loss: 0.3370 - accuracy: 0.8171\n",
      "Epoch 24/150\n",
      "4151/4151 - 234s - loss: 0.3298 - accuracy: 0.8207\n",
      "Epoch 25/150\n",
      "4151/4151 - 234s - loss: 0.3253 - accuracy: 0.8219\n",
      "Epoch 26/150\n",
      "4151/4151 - 234s - loss: 0.3184 - accuracy: 0.8270\n",
      "Epoch 27/150\n",
      "4151/4151 - 234s - loss: 0.3127 - accuracy: 0.8277\n",
      "Epoch 28/150\n",
      "4151/4151 - 234s - loss: 0.3048 - accuracy: 0.8328\n",
      "Epoch 29/150\n",
      "4151/4151 - 234s - loss: 0.2952 - accuracy: 0.8335\n",
      "Epoch 30/150\n",
      "4151/4151 - 234s - loss: 0.3028 - accuracy: 0.8335\n",
      "Epoch 31/150\n",
      "4151/4151 - 234s - loss: 0.2856 - accuracy: 0.8390\n",
      "Epoch 32/150\n",
      "4151/4151 - 234s - loss: 0.2854 - accuracy: 0.8399\n",
      "Epoch 33/150\n",
      "4151/4151 - 234s - loss: 0.2786 - accuracy: 0.8433\n",
      "Epoch 34/150\n",
      "4151/4151 - 234s - loss: 0.2700 - accuracy: 0.8447\n",
      "Epoch 35/150\n",
      "4151/4151 - 234s - loss: 0.2751 - accuracy: 0.8454\n",
      "Epoch 36/150\n",
      "4151/4151 - 234s - loss: 0.2618 - accuracy: 0.8495\n",
      "Epoch 37/150\n",
      "4151/4151 - 234s - loss: 0.2573 - accuracy: 0.8502\n",
      "Epoch 38/150\n",
      "4151/4151 - 234s - loss: 0.2594 - accuracy: 0.8516\n",
      "Epoch 39/150\n",
      "4151/4151 - 234s - loss: 0.2559 - accuracy: 0.8527\n",
      "Epoch 40/150\n",
      "4151/4151 - 234s - loss: 0.2460 - accuracy: 0.8556\n",
      "Epoch 41/150\n",
      "4151/4151 - 234s - loss: 0.2430 - accuracy: 0.8565\n",
      "Epoch 42/150\n",
      "4151/4151 - 234s - loss: 0.2383 - accuracy: 0.8592\n",
      "Epoch 43/150\n",
      "4151/4151 - 234s - loss: 0.2364 - accuracy: 0.8600\n",
      "Epoch 44/150\n",
      "4151/4151 - 234s - loss: 0.2319 - accuracy: 0.8613\n",
      "Epoch 45/150\n",
      "4151/4151 - 234s - loss: 0.2287 - accuracy: 0.8634\n",
      "Epoch 46/150\n",
      "4151/4151 - 234s - loss: 0.2256 - accuracy: 0.8655\n",
      "Epoch 47/150\n",
      "4151/4151 - 234s - loss: 0.2206 - accuracy: 0.8665\n",
      "Epoch 48/150\n",
      "4151/4151 - 234s - loss: 0.2252 - accuracy: 0.8657\n",
      "Epoch 49/150\n",
      "4151/4151 - 234s - loss: 0.2165 - accuracy: 0.8683\n",
      "Epoch 50/150\n",
      "4151/4151 - 234s - loss: 0.2086 - accuracy: 0.8704\n",
      "Epoch 51/150\n",
      "4151/4151 - 234s - loss: 0.2122 - accuracy: 0.8711\n",
      "Epoch 52/150\n",
      "4151/4151 - 234s - loss: 0.2070 - accuracy: 0.8718\n",
      "Epoch 53/150\n",
      "4151/4151 - 234s - loss: 0.2113 - accuracy: 0.8727\n",
      "Epoch 54/150\n",
      "4151/4151 - 234s - loss: 0.2013 - accuracy: 0.8757\n",
      "Epoch 55/150\n",
      "4151/4151 - 234s - loss: 0.2010 - accuracy: 0.8748\n",
      "Epoch 56/150\n",
      "4151/4151 - 234s - loss: 0.1969 - accuracy: 0.8776\n",
      "Epoch 57/150\n",
      "4151/4151 - 234s - loss: 0.1976 - accuracy: 0.8791\n",
      "Epoch 58/150\n",
      "4151/4151 - 234s - loss: 0.1977 - accuracy: 0.8788\n",
      "Epoch 59/150\n",
      "4151/4151 - 234s - loss: 0.1877 - accuracy: 0.8798\n",
      "Epoch 60/150\n",
      "4151/4151 - 234s - loss: 0.1828 - accuracy: 0.8824\n",
      "Epoch 61/150\n",
      "4151/4151 - 234s - loss: 0.1867 - accuracy: 0.8810\n",
      "Epoch 62/150\n",
      "4151/4151 - 234s - loss: 0.1810 - accuracy: 0.8851\n",
      "Epoch 63/150\n",
      "4151/4151 - 234s - loss: 0.1772 - accuracy: 0.8863\n",
      "Epoch 64/150\n",
      "4151/4151 - 234s - loss: 0.1801 - accuracy: 0.8862\n",
      "Epoch 65/150\n",
      "4151/4151 - 234s - loss: 0.1707 - accuracy: 0.8888\n",
      "Epoch 66/150\n",
      "4151/4151 - 234s - loss: 0.1718 - accuracy: 0.8879\n",
      "Epoch 67/150\n",
      "4151/4151 - 234s - loss: 0.1699 - accuracy: 0.8910\n",
      "Epoch 68/150\n",
      "4151/4151 - 234s - loss: 0.1750 - accuracy: 0.8887\n",
      "Epoch 69/150\n",
      "4151/4151 - 234s - loss: 0.1641 - accuracy: 0.8922\n",
      "Epoch 70/150\n",
      "4151/4151 - 234s - loss: 0.1620 - accuracy: 0.8926\n",
      "Epoch 71/150\n",
      "4151/4151 - 234s - loss: 0.1591 - accuracy: 0.8949\n",
      "Epoch 72/150\n",
      "4151/4151 - 234s - loss: 0.1602 - accuracy: 0.8938\n",
      "Epoch 73/150\n",
      "4151/4151 - 234s - loss: 0.1596 - accuracy: 0.8961\n",
      "Epoch 74/150\n",
      "4151/4151 - 234s - loss: 0.1556 - accuracy: 0.8949\n",
      "Epoch 75/150\n",
      "4151/4151 - 234s - loss: 0.1523 - accuracy: 0.8981\n",
      "Epoch 76/150\n",
      "4151/4151 - 234s - loss: 0.1542 - accuracy: 0.8962\n",
      "Epoch 77/150\n",
      "4151/4151 - 234s - loss: 0.1481 - accuracy: 0.8995\n",
      "Epoch 78/150\n",
      "4151/4151 - 234s - loss: 0.1537 - accuracy: 0.8977\n",
      "Epoch 79/150\n",
      "4151/4151 - 234s - loss: 0.1470 - accuracy: 0.8993\n",
      "Epoch 80/150\n",
      "4151/4151 - 234s - loss: 0.1473 - accuracy: 0.9001\n",
      "Epoch 81/150\n",
      "4151/4151 - 234s - loss: 0.1485 - accuracy: 0.9004\n",
      "Epoch 82/150\n",
      "4151/4151 - 234s - loss: 0.1430 - accuracy: 0.9031\n",
      "Epoch 83/150\n",
      "4151/4151 - 234s - loss: 0.1425 - accuracy: 0.9029\n",
      "Epoch 84/150\n",
      "4151/4151 - 234s - loss: 0.1392 - accuracy: 0.9026\n",
      "Epoch 85/150\n",
      "4151/4151 - 234s - loss: 0.1357 - accuracy: 0.9047\n",
      "Epoch 86/150\n",
      "4151/4151 - 234s - loss: 0.1343 - accuracy: 0.9061\n",
      "Epoch 87/150\n",
      "4151/4151 - 234s - loss: 0.1398 - accuracy: 0.9053\n",
      "Epoch 88/150\n",
      "4151/4151 - 234s - loss: 0.1323 - accuracy: 0.9086\n",
      "Epoch 89/150\n",
      "4151/4151 - 234s - loss: 0.1327 - accuracy: 0.9079\n",
      "Epoch 90/150\n",
      "4151/4151 - 234s - loss: 0.1263 - accuracy: 0.9108\n",
      "Epoch 91/150\n",
      "4151/4151 - 234s - loss: 0.1285 - accuracy: 0.9095\n",
      "Epoch 92/150\n",
      "4151/4151 - 234s - loss: 0.1294 - accuracy: 0.9104\n",
      "Epoch 93/150\n",
      "4151/4151 - 234s - loss: 0.1267 - accuracy: 0.9105\n",
      "Epoch 94/150\n",
      "4151/4151 - 234s - loss: 0.1257 - accuracy: 0.9109\n",
      "Epoch 95/150\n",
      "4151/4151 - 234s - loss: 0.1231 - accuracy: 0.9124\n",
      "Epoch 96/150\n",
      "4151/4151 - 234s - loss: 0.1249 - accuracy: 0.9136\n",
      "Epoch 97/150\n",
      "4151/4151 - 234s - loss: 0.1234 - accuracy: 0.9133\n",
      "Epoch 98/150\n",
      "4151/4151 - 234s - loss: 0.1179 - accuracy: 0.9147\n",
      "Epoch 99/150\n",
      "4151/4151 - 234s - loss: 0.1234 - accuracy: 0.9131\n",
      "Epoch 100/150\n",
      "4151/4151 - 234s - loss: 0.1161 - accuracy: 0.9156\n",
      "Epoch 101/150\n",
      "4151/4151 - 234s - loss: 0.1149 - accuracy: 0.9163\n",
      "Epoch 102/150\n",
      "4151/4151 - 234s - loss: 0.1174 - accuracy: 0.9170\n",
      "Epoch 103/150\n",
      "4151/4151 - 234s - loss: 0.1185 - accuracy: 0.9158\n",
      "Epoch 104/150\n",
      "4151/4151 - 234s - loss: 0.1158 - accuracy: 0.9184\n",
      "Epoch 105/150\n",
      "4151/4151 - 234s - loss: 0.1182 - accuracy: 0.9167\n",
      "Epoch 106/150\n",
      "4151/4151 - 234s - loss: 0.1109 - accuracy: 0.9191\n",
      "Epoch 107/150\n",
      "4151/4151 - 234s - loss: 0.1116 - accuracy: 0.9197\n",
      "Epoch 108/150\n",
      "4151/4151 - 234s - loss: 0.1101 - accuracy: 0.9191\n",
      "Epoch 109/150\n",
      "4151/4151 - 234s - loss: 0.1094 - accuracy: 0.9205\n",
      "Epoch 110/150\n",
      "4151/4151 - 234s - loss: 0.1068 - accuracy: 0.9214\n",
      "Epoch 111/150\n",
      "4151/4151 - 234s - loss: 0.1062 - accuracy: 0.9229\n",
      "Epoch 112/150\n",
      "4151/4151 - 234s - loss: 0.1056 - accuracy: 0.9220\n",
      "Epoch 113/150\n",
      "4151/4151 - 234s - loss: 0.1049 - accuracy: 0.9223\n",
      "Epoch 114/150\n",
      "4151/4151 - 234s - loss: 0.1008 - accuracy: 0.9240\n",
      "Epoch 115/150\n",
      "4151/4151 - 234s - loss: 0.1043 - accuracy: 0.9231\n",
      "Epoch 116/150\n",
      "4151/4151 - 234s - loss: 0.1008 - accuracy: 0.9244\n",
      "Epoch 117/150\n",
      "4151/4151 - 234s - loss: 0.1004 - accuracy: 0.9246\n",
      "Epoch 118/150\n",
      "4151/4151 - 234s - loss: 0.0992 - accuracy: 0.9259\n",
      "Epoch 119/150\n",
      "4151/4151 - 234s - loss: 0.0978 - accuracy: 0.9254\n",
      "Epoch 120/150\n",
      "4151/4151 - 234s - loss: 0.0979 - accuracy: 0.9259\n",
      "Epoch 121/150\n",
      "4151/4151 - 234s - loss: 0.0984 - accuracy: 0.9262\n",
      "Epoch 122/150\n",
      "4151/4151 - 234s - loss: 0.1012 - accuracy: 0.9262\n",
      "Epoch 123/150\n",
      "4151/4151 - 234s - loss: 0.0955 - accuracy: 0.9286\n",
      "Epoch 124/150\n",
      "4151/4151 - 234s - loss: 0.0943 - accuracy: 0.9281\n",
      "Epoch 125/150\n",
      "4151/4151 - 234s - loss: 0.0958 - accuracy: 0.9280\n",
      "Epoch 126/150\n",
      "4151/4151 - 234s - loss: 0.0966 - accuracy: 0.9275\n",
      "Epoch 127/150\n",
      "4151/4151 - 234s - loss: 0.0920 - accuracy: 0.9300\n",
      "Epoch 128/150\n",
      "4151/4151 - 234s - loss: 0.0927 - accuracy: 0.9301\n",
      "Epoch 129/150\n",
      "4151/4151 - 234s - loss: 0.0935 - accuracy: 0.9293\n",
      "Epoch 130/150\n",
      "4151/4151 - 234s - loss: 0.0895 - accuracy: 0.9312\n",
      "Epoch 131/150\n",
      "4151/4151 - 234s - loss: 0.0928 - accuracy: 0.9295\n",
      "Epoch 132/150\n",
      "4151/4151 - 234s - loss: 0.0904 - accuracy: 0.9310\n",
      "Epoch 133/150\n",
      "4151/4151 - 235s - loss: 0.0910 - accuracy: 0.9309\n",
      "Epoch 134/150\n",
      "4151/4151 - 234s - loss: 0.0922 - accuracy: 0.9310\n",
      "Epoch 135/150\n",
      "4151/4151 - 234s - loss: 0.0883 - accuracy: 0.9321\n",
      "Epoch 136/150\n",
      "4151/4151 - 234s - loss: 0.0869 - accuracy: 0.9329\n",
      "Epoch 137/150\n",
      "4151/4151 - 234s - loss: 0.0871 - accuracy: 0.9332\n",
      "Epoch 138/150\n",
      "4151/4151 - 234s - loss: 0.0832 - accuracy: 0.9342\n",
      "Epoch 139/150\n",
      "4151/4151 - 234s - loss: 0.0861 - accuracy: 0.9342\n",
      "Epoch 140/150\n",
      "4151/4151 - 234s - loss: 0.0887 - accuracy: 0.9333\n",
      "Epoch 141/150\n",
      "4151/4151 - 234s - loss: 0.0798 - accuracy: 0.9357\n",
      "Epoch 142/150\n",
      "4151/4151 - 234s - loss: 0.0834 - accuracy: 0.9341\n",
      "Epoch 143/150\n",
      "4151/4151 - 234s - loss: 0.0866 - accuracy: 0.9341\n",
      "Epoch 144/150\n",
      "4151/4151 - 234s - loss: 0.0766 - accuracy: 0.9385\n",
      "Epoch 145/150\n",
      "4151/4151 - 234s - loss: 0.0877 - accuracy: 0.9340\n",
      "Epoch 146/150\n",
      "4151/4151 - 234s - loss: 0.0820 - accuracy: 0.9370\n",
      "Epoch 147/150\n",
      "4151/4151 - 234s - loss: 0.0806 - accuracy: 0.9367\n",
      "Epoch 148/150\n",
      "4151/4151 - 234s - loss: 0.0835 - accuracy: 0.9355\n",
      "Epoch 149/150\n",
      "4151/4151 - 234s - loss: 0.0778 - accuracy: 0.9383\n",
      "Epoch 150/150\n",
      "4151/4151 - 234s - loss: 0.0839 - accuracy: 0.9366\n",
      "1038/1038 - 16s\n",
      "Normalized confusion matrix\n",
      "                       precision    recall  f1-score   support\n",
      "\n",
      "                 HEKA       1.00      0.99      1.00      6042\n",
      "       fridge/freezer       0.98      0.97      0.98      9826\n",
      "         audio system       0.47      0.87      0.61       342\n",
      "           breadmaker       0.81      0.98      0.89        64\n",
      "     broadband router       0.62      0.78      0.69       451\n",
      "             computer       0.87      0.85      0.86      5143\n",
      "         dehumidifier       0.77      0.93      0.84       123\n",
      "          dish washer       0.97      0.98      0.97       783\n",
      "electric space heater       0.73      0.89      0.80       187\n",
      "       food processor       0.63      0.96      0.76       175\n",
      "            pond pump       0.85      0.99      0.91       796\n",
      "           television       0.92      0.86      0.89      7908\n",
      "         tumble dryer       0.82      0.90      0.86       301\n",
      "         washer dryer       0.77      0.69      0.73        58\n",
      "      washing machine       0.87      0.93      0.90      1003\n",
      "\n",
      "             accuracy                           0.92     33202\n",
      "            macro avg       0.81      0.90      0.85     33202\n",
      "         weighted avg       0.93      0.92      0.92     33202\n",
      "\n"
     ]
    },
    {
     "name": "stderr",
     "output_type": "stream",
     "text": [
      "2022-02-10 16:13:32.085153: W tensorflow/python/util/util.cc:348] Sets are not currently considered sequences, but this may change in the future, so consider avoiding using them.\n",
      "WARNING:absl:Found untraced functions such as lstm_cell_1_layer_call_fn, lstm_cell_1_layer_call_and_return_conditional_losses, lstm_cell_2_layer_call_fn, lstm_cell_2_layer_call_and_return_conditional_losses, lstm_cell_4_layer_call_fn while saving (showing 5 of 20). These functions will not be directly callable after loading.\n"
     ]
    },
    {
     "name": "stdout",
     "output_type": "stream",
     "text": [
      "INFO:tensorflow:Assets written to: /workspace/notebooks/models/BI_LSTM/refit_12/assets\n"
     ]
    },
    {
     "name": "stderr",
     "output_type": "stream",
     "text": [
      "INFO:tensorflow:Assets written to: /workspace/notebooks/models/BI_LSTM/refit_12/assets\n"
     ]
    },
    {
     "data": {
      "image/png": "[encoded data removed]",
      "text/plain": [
       "<Figure size 720x720 with 2 Axes>"
      ]
     },
     "metadata": {
      "needs_background": "light"
     },
     "output_type": "display_data"
    }
   ],
   "source": [
    "# %%capture cap --no-stderr\n",
    "\n",
    "\n",
    "if environ['train_type'] == \"BB\":\n",
    "\n",
    "    #define generator\n",
    "    train_gen = HDF5ImageGenerator(\n",
    "        src= path_data,\n",
    "        X_key=\"data/train/gaf\",\n",
    "        y_key=\"labels/train/gaf\",\n",
    "        classes_key=\"appliances/classes\",\n",
    "        labels_encoding=\"hot\",\n",
    "        shuffle=True,\n",
    "        batch_size=int(environ['batch_size']),\n",
    "        num_classes=num_of_classes,\n",
    "        mode=\"train\",\n",
    "        )\n",
    "    \n",
    "    model = select_model(environ['learn_type'])\n",
    "    \n",
    "    txt_log.write(\"fitting BB model: \\n\")\n",
    "    \n",
    "    model.fit(\n",
    "        train_gen,\n",
    "        verbose=2,\n",
    "        epochs=int(environ['epochs']),\n",
    "        class_weight=d_class_weights,\n",
    "        callbacks = [save_op_callback],\n",
    "    )\n",
    "    \n",
    "    txt_log.write(\"finished fitting BB model: \\n\")\n",
    "\n",
    "    evaluate_model(model,x_test,y_test,appliances)\n",
    "    \n",
    "    if environ['save_model']==\"True\":\n",
    "\n",
    "        path_model_save = path+\"/models/\"+environ['learn_type']+\"/\"+dataset.split(\"_\")[0]+\"_\"+dataset.split(\"_R\")[1][0:2]\n",
    "        model.save(path_model_save)\n",
    "        txt_log.write(\"model saved to:\"+\"/models/\"+environ['learn_type']+\"/\"+dataset.split(\"_\")[0]+\"_\"+dataset.split(\"_R\")[1][0:2]+\" \\n\")\n",
    "        \n",
    "        \n",
    "# with open(path_save+\"_out_log.txt\" as f:\n",
    "#     f.write(cap.stdout)\n"
   ]
  },
  {
   "cell_type": "code",
   "execution_count": 13,
   "metadata": {
    "collapsed": true,
    "execution": {
     "iopub.execute_input": "2022-02-10T16:13:43.111703Z",
     "iopub.status.busy": "2022-02-10T16:13:43.111307Z",
     "iopub.status.idle": "2022-02-10T16:13:43.113400Z",
     "shell.execute_reply": "2022-02-10T16:13:43.113783Z"
    }
   },
   "outputs": [],
   "source": [
    "#model = keras.models.load_model(path_model1)\n",
    "# model_used = model"
   ]
  },
  {
   "cell_type": "code",
   "execution_count": 14,
   "metadata": {
    "collapsed": true,
    "execution": {
     "iopub.execute_input": "2022-02-10T16:13:43.117785Z",
     "iopub.status.busy": "2022-02-10T16:13:43.117147Z",
     "iopub.status.idle": "2022-02-10T16:13:43.119562Z",
     "shell.execute_reply": "2022-02-10T16:13:43.120069Z"
    },
    "jupyter": {
     "outputs_hidden": true
    },
    "tags": []
   },
   "outputs": [],
   "source": [
    "# evaluate_model(model,x_test,y_test,appliances)"
   ]
  },
  {
   "cell_type": "code",
   "execution_count": 15,
   "metadata": {
    "collapsed": true,
    "execution": {
     "iopub.execute_input": "2022-02-10T16:13:43.133402Z",
     "iopub.status.busy": "2022-02-10T16:13:43.132964Z",
     "iopub.status.idle": "2022-02-10T16:13:43.134919Z",
     "shell.execute_reply": "2022-02-10T16:13:43.135229Z"
    }
   },
   "outputs": [],
   "source": [
    "# datasets =[\n",
    "#     \"ukdale_gen_GASF_13m_100S5X12A54480_R82_80-20\"\n",
    "# ]\n",
    "\n",
    "if environ['train_type'] == \"TL\": \n",
    "    models = environ['tl_datasets'].replace(\" \",\"\").split(\",\")\n",
    "    #model = [\"base\"]\n",
    "    \n",
    "    for model in models:\n",
    "    \n",
    "        file_name = dataset\n",
    "        \n",
    "        datasetTL = model\n",
    "        \n",
    "        seed = dataset.split(\"_R\")[1][0:2]\n",
    "        \n",
    "        print(\"using dataset data\",dataset.split(\"_\")[0],\"training on model\",model,\"seed\",environ['seed'])\n",
    "        txt_log.write(\"starting \"+dataset.split(\"_\")[0]+\" training on model \"+model+\" seed \"+environ['seed']+\"\\n\")\n",
    "\n",
    "\n",
    "        tf.keras.backend.clear_session()\n",
    "\n",
    "\n",
    "        #read the file\n",
    "        path = str(pathlib.Path().resolve())\n",
    "        path_data = f\"{path}\"\"/data/\"f\"{file_name}\"\"/\"f\"{file_name}\"\".hdf5\"\n",
    "        file = h5py.File(path_data,\"r+\")\n",
    "\n",
    "\n",
    "        print(\"reading data, printing stats: \")\n",
    "        x_test,y_test,d_class_weights,num_of_classes,appliances = get_data(file)\n",
    "        print(\"loading model\")\n",
    "        \n",
    "        model_seed = 42\n",
    "        model_used = create_tl_model(model,environ['learn_type'],model_seed,path,num_of_classes)\n",
    "                \n",
    "        train_gen = HDF5ImageGenerator(\n",
    "            src= path_data,\n",
    "            X_key=\"data/train/gaf\",\n",
    "            y_key=\"labels/train/gaf\",\n",
    "            classes_key=\"appliances/classes\",\n",
    "            labels_encoding=\"hot\",\n",
    "            shuffle=True,\n",
    "            batch_size=int(environ['batch_size']),\n",
    "            num_classes=num_of_classes,\n",
    "            mode=\"train\",\n",
    "            )\n",
    "\n",
    "        model_used.fit(\n",
    "            train_gen,\n",
    "            verbose=2,\n",
    "            epochs=int(environ['epochs']),\n",
    "            class_weight=d_class_weights,\n",
    "            callbacks = [save_op_callback]\n",
    "            #workers = 6,\n",
    "        )\n",
    "        \n",
    "        txt_log.write(\"finished \"+dataset.split(\"_\")[0]+\" training on model \"+model+\" seed \"+environ['seed']+\"\\n\")\n",
    "\n",
    "\n",
    "        evaluate_model(model_used,x_test,y_test,appliances)\n",
    "        \n",
    "\n",
    "\n",
    "\n",
    "        #del model_used\n",
    "\n"
   ]
  },
  {
   "cell_type": "code",
   "execution_count": 16,
   "metadata": {
    "execution": {
     "iopub.execute_input": "2022-02-10T16:13:43.138572Z",
     "iopub.status.busy": "2022-02-10T16:13:43.138058Z",
     "iopub.status.idle": "2022-02-10T16:13:43.139637Z",
     "shell.execute_reply": "2022-02-10T16:13:43.140063Z"
    }
   },
   "outputs": [],
   "source": [
    "txt_log.close()"
   ]
  },
  {
   "cell_type": "code",
   "execution_count": null,
   "metadata": {},
   "outputs": [],
   "source": []
  }
 ],
 "metadata": {
  "colab": {
   "authorship_tag": "ABX9TyMej4PvP65qsLng7TnQKWA4",
   "name": "LSTM-gen",
   "provenance": []
  },
  "kernelspec": {
   "display_name": "Python 3 (ipykernel)",
   "language": "python",
   "name": "python3"
  },
  "language_info": {
   "codemirror_mode": {
    "name": "ipython",
    "version": 3
   },
   "file_extension": ".py",
   "mimetype": "text/x-python",
   "name": "python",
   "nbconvert_exporter": "python",
   "pygments_lexer": "ipython3",
   "version": "3.8.10"
  }
 },
 "nbformat": 4,
 "nbformat_minor": 4
}
