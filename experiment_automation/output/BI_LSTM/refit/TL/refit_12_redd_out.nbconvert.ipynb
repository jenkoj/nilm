{
 "cells": [
  {
   "cell_type": "code",
   "execution_count": 1,
   "metadata": {
    "execution": {
     "iopub.execute_input": "2022-02-13T05:58:27.069495Z",
     "iopub.status.busy": "2022-02-13T05:58:27.055472Z",
     "iopub.status.idle": "2022-02-13T05:58:29.890175Z",
     "shell.execute_reply": "2022-02-13T05:58:29.888897Z"
    },
    "id": "WqUfHWgtJxtu",
    "scrolled": true,
    "tags": []
   },
   "outputs": [
    {
     "name": "stderr",
     "output_type": "stream",
     "text": [
      "2022-02-13 05:58:28.402520: I tensorflow/stream_executor/platform/default/dso_loader.cc:54] Successfully opened dynamic library libcudart.so.11.0\n"
     ]
    },
    {
     "name": "stdout",
     "output_type": "stream",
     "text": [
      "2.5.0\n",
      "Num GPUs Available:  1\n"
     ]
    },
    {
     "name": "stderr",
     "output_type": "stream",
     "text": [
      "2022-02-13 05:58:29.789236: I tensorflow/stream_executor/platform/default/dso_loader.cc:54] Successfully opened dynamic library libcuda.so.1\n",
      "2022-02-13 05:58:29.830757: I tensorflow/core/common_runtime/gpu/gpu_device.cc:1734] Found device 0 with properties: \n",
      "pciBusID: 0000:21:00.0 name: NVIDIA GeForce RTX 2080 Ti computeCapability: 7.5\n",
      "coreClock: 1.545GHz coreCount: 68 deviceMemorySize: 10.76GiB deviceMemoryBandwidth: 573.69GiB/s\n",
      "2022-02-13 05:58:29.830842: I tensorflow/stream_executor/platform/default/dso_loader.cc:54] Successfully opened dynamic library libcudart.so.11.0\n",
      "2022-02-13 05:58:29.845550: I tensorflow/stream_executor/platform/default/dso_loader.cc:54] Successfully opened dynamic library libcublas.so.11\n",
      "2022-02-13 05:58:29.845617: I tensorflow/stream_executor/platform/default/dso_loader.cc:54] Successfully opened dynamic library libcublasLt.so.11\n",
      "2022-02-13 05:58:29.852268: I tensorflow/stream_executor/platform/default/dso_loader.cc:54] Successfully opened dynamic library libcufft.so.10\n",
      "2022-02-13 05:58:29.854646: I tensorflow/stream_executor/platform/default/dso_loader.cc:54] Successfully opened dynamic library libcurand.so.10\n",
      "2022-02-13 05:58:29.872260: I tensorflow/stream_executor/platform/default/dso_loader.cc:54] Successfully opened dynamic library libcutensor.so.1\n",
      "2022-02-13 05:58:29.874330: I tensorflow/stream_executor/platform/default/dso_loader.cc:54] Successfully opened dynamic library libcusolver.so.11\n",
      "2022-02-13 05:58:29.878707: I tensorflow/stream_executor/platform/default/dso_loader.cc:54] Successfully opened dynamic library libcusparse.so.11\n",
      "2022-02-13 05:58:29.879019: I tensorflow/stream_executor/platform/default/dso_loader.cc:54] Successfully opened dynamic library libcudnn.so.8\n",
      "2022-02-13 05:58:29.879409: I tensorflow/core/common_runtime/gpu/gpu_device.cc:1872] Adding visible gpu devices: 0\n"
     ]
    }
   ],
   "source": [
    "import h5py\n",
    "import numpy as np\n",
    "\n",
    "from sklearn.model_selection import train_test_split\n",
    "from sklearn.metrics import classification_report, confusion_matrix\n",
    "import matplotlib.pyplot as plt\n",
    "import itertools \n",
    "import pyts\n",
    "from pyts.approximation import PiecewiseAggregateApproximation\n",
    "\n",
    "from sklearn.utils import class_weight\n",
    "\n",
    "import pathlib\n",
    "import tensorflow as tf\n",
    "from tensorflow import keras\n",
    "from tensorflow.keras import layers, optimizers\n",
    "from tensorflow.keras.layers import Convolution2D,Conv2D, Dense,Dropout, Flatten, Activation, MaxPooling2D, Input, Conv1D, GlobalAveragePooling1D, TimeDistributed, GRU, LSTM\n",
    "\n",
    "print(tf.__version__)\n",
    "print(\"Num GPUs Available: \", len(tf.config.list_physical_devices('GPU')))\n",
    "gpus = tf.config.experimental.list_physical_devices('GPU')\n",
    "\n",
    "try:\n",
    "    for gpu in gpus:\n",
    "        tf.config.experimental.set_memory_growth(gpu, True)\n",
    "except RuntimeError as e:\n",
    "    print(e)"
   ]
  },
  {
   "cell_type": "code",
   "execution_count": 2,
   "metadata": {
    "execution": {
     "iopub.execute_input": "2022-02-13T05:58:29.898928Z",
     "iopub.status.busy": "2022-02-13T05:58:29.897616Z",
     "iopub.status.idle": "2022-02-13T05:58:29.902066Z",
     "shell.execute_reply": "2022-02-13T05:58:29.903126Z"
    }
   },
   "outputs": [
    {
     "name": "stdout",
     "output_type": "stream",
     "text": [
      "refit_gen_GASF_13m_100S5X_15A166006_R12_80-20\n"
     ]
    }
   ],
   "source": [
    "from os import environ\n",
    "dataset = environ['dataset']\n",
    "print(dataset)"
   ]
  },
  {
   "cell_type": "code",
   "execution_count": 3,
   "metadata": {
    "execution": {
     "iopub.execute_input": "2022-02-13T05:58:29.912293Z",
     "iopub.status.busy": "2022-02-13T05:58:29.910986Z",
     "iopub.status.idle": "2022-02-13T05:58:29.915940Z",
     "shell.execute_reply": "2022-02-13T05:58:29.914790Z"
    }
   },
   "outputs": [],
   "source": [
    "#my defs \n",
    "from modules.models import  LSTM_3D_V56, CNN_V56,LSTM_BI_V56\n",
    "from modules.tools import my_print, plot_confusion_matrix_norm, get_data,get_data_split, evaluate_model, create_tl_model\n",
    "from modules.HDF5ImageGenerator import HDF5ImageGenerator"
   ]
  },
  {
   "cell_type": "code",
   "execution_count": 4,
   "metadata": {
    "execution": {
     "iopub.execute_input": "2022-02-13T05:58:29.923016Z",
     "iopub.status.busy": "2022-02-13T05:58:29.921799Z",
     "iopub.status.idle": "2022-02-13T05:58:29.924303Z",
     "shell.execute_reply": "2022-02-13T05:58:29.925278Z"
    },
    "id": "RT1vwq7-KOtB"
   },
   "outputs": [],
   "source": [
    "#LOAD DATASET\n",
    "#file_name = \"ukdale_gen_GASF_13m_100S5X12A54480\"\n",
    "#file_name = \"refit_gen_GASF_13m_100S5X_15A166006\"\n",
    "file_name = \"refit_gen_GASF_13m_100S5X_15A166006_R42-80-20\"\n",
    "#file_name = \"refit_gen_GASF_13m_100S5X_15A166006_R42_80-20\"\n",
    "file_name = \"refit_gen_GASF_60m_300S0X_15A157030N_R12_80-20-V1\"\n",
    "file_name = environ[\"dataset\"]\n",
    "#read the file\n",
    "path = str(pathlib.Path().resolve())\n",
    "\n",
    "path_data = f\"{path}\"\"/data/\"f\"{file_name}\"\"/\"f\"{file_name}\"\".hdf5\"\n",
    "\n",
    "file = h5py.File(path_data,\"r+\")"
   ]
  },
  {
   "cell_type": "code",
   "execution_count": 5,
   "metadata": {
    "execution": {
     "iopub.execute_input": "2022-02-13T05:58:29.931427Z",
     "iopub.status.busy": "2022-02-13T05:58:29.930254Z",
     "iopub.status.idle": "2022-02-13T05:58:39.961614Z",
     "shell.execute_reply": "2022-02-13T05:58:39.962675Z"
    },
    "scrolled": true
   },
   "outputs": [
    {
     "name": "stdout",
     "output_type": "stream",
     "text": [
      "['HEKA', 'fridge/freezer', 'audio system', 'breadmaker', 'broadband router', 'computer', 'dehumidifier', 'dish washer', 'electric space heater', 'food processor', 'pond pump', 'television', 'tumble dryer', 'washer dryer', 'washing machine']\n",
      "{0: 0.3663356504468719, 1: 0.22525951557093427, 2: 6.4672023374726075, 3: 34.85669291338583, 4: 4.910482529118137, 5: 0.43032954214056574, 6: 18.068571428571428, 7: 2.8259176508139165, 8: 11.852208835341365, 9: 12.611965811965812, 10: 2.7789077212806026, 11: 0.2799203262828417, 12: 7.359600997506234, 13: 38.32727272727273, 14: 2.2073298429319372}\n",
      " \n",
      "Tests \n",
      "HEKA test: 6042 train: 24168\n",
      "fridge/freezer test: 9826 train: 39304\n",
      "audio system test: 342 train: 1369\n",
      "breadmaker test: 64 train: 254\n",
      "broadband router test: 451 train: 1803\n",
      "computer test: 5143 train: 20574\n",
      "dehumidifier test: 123 train: 490\n",
      "dish washer test: 783 train: 3133\n",
      "electric space heater test: 187 train: 747\n",
      "food processor test: 175 train: 702\n",
      "pond pump test: 796 train: 3186\n",
      "television test: 7908 train: 31629\n",
      "tumble dryer test: 301 train: 1203\n",
      "washer dryer test: 58 train: 231\n",
      "washing machine test: 1003 train: 4011\n"
     ]
    }
   ],
   "source": [
    "x_test,y_test,d_class_weights,num_of_classes,appliances = get_data(file)"
   ]
  },
  {
   "cell_type": "code",
   "execution_count": 6,
   "metadata": {
    "execution": {
     "iopub.execute_input": "2022-02-13T05:58:39.970825Z",
     "iopub.status.busy": "2022-02-13T05:58:39.969445Z",
     "iopub.status.idle": "2022-02-13T05:58:39.973441Z",
     "shell.execute_reply": "2022-02-13T05:58:39.972354Z"
    }
   },
   "outputs": [],
   "source": [
    "def select_model(learn_type):\n",
    "    \n",
    "    if learn_type == \"CNN\":\n",
    "        model = CNN_V56(file[\"data/train/gaf\"][0:10],num_of_classes,lr= 0.00002)\n",
    "\n",
    "    if learn_type == \"LSTM\":\n",
    "        model = LSTM_3D_V56(file[\"data/train/gaf\"][0:10],num_of_classes,lr= 0.00002)\n",
    "\n",
    "    if learn_type == \"BI_LSTM\":\n",
    "        model = LSTM_BI_V56(file[\"data/train/gaf\"][0:10],num_of_classes,lr= 0.00002)\n",
    "\n",
    "    return model\n",
    "              "
   ]
  },
  {
   "cell_type": "code",
   "execution_count": 7,
   "metadata": {
    "execution": {
     "iopub.execute_input": "2022-02-13T05:58:39.981325Z",
     "iopub.status.busy": "2022-02-13T05:58:39.979848Z",
     "iopub.status.idle": "2022-02-13T05:58:39.982641Z",
     "shell.execute_reply": "2022-02-13T05:58:39.983634Z"
    }
   },
   "outputs": [],
   "source": [
    "path_save = path+'/experiment_automation/output/'+environ['learn_type']+'/'+dataset.split(\"_\")[0]+\"/\"+environ['train_type']+\"/\"+dataset.split(\"_\")[0]+\"_\"+environ['seed']+\"_\"+environ['tl_datasets']\n",
    "path_save_nb = path_save+\"_out.ipynb\"\n",
    "path_save_log = path_save+\"_out_log2.txt\""
   ]
  },
  {
   "cell_type": "code",
   "execution_count": 8,
   "metadata": {
    "execution": {
     "iopub.execute_input": "2022-02-13T05:58:39.992011Z",
     "iopub.status.busy": "2022-02-13T05:58:39.990814Z",
     "iopub.status.idle": "2022-02-13T05:58:40.157241Z",
     "shell.execute_reply": "2022-02-13T05:58:40.156218Z"
    }
   },
   "outputs": [],
   "source": [
    "from keras.callbacks import LambdaCallback\n",
    "#path_log= path+'/experiment_automation/output/'+environ['learn_type']+'/'+dataset.split(\"_\")[0]+\"/\"+environ['train_type']+\"/\"+dataset.split(\"_\")[0]+\"_\"+environ['seed']+\"_\"+environ['tl_datasets']+\"_log.txt\"\n",
    "txt_log = open(path_save+\"_log.txt\", mode='wt', buffering=1)\n",
    "txt_log.write(\"file created! \\n\")\n",
    "\n",
    "save_op_callback = LambdaCallback(\n",
    "  on_epoch_end = lambda epoch, logs: txt_log.write(\n",
    "    str({'epoch': epoch, 'loss': logs['loss'],'acc': logs['accuracy']}) + '\\n'),\n",
    "                                                           \n",
    ")"
   ]
  },
  {
   "cell_type": "code",
   "execution_count": 9,
   "metadata": {
    "execution": {
     "iopub.execute_input": "2022-02-13T05:58:40.162951Z",
     "iopub.status.busy": "2022-02-13T05:58:40.161788Z",
     "iopub.status.idle": "2022-02-13T05:58:40.166755Z",
     "shell.execute_reply": "2022-02-13T05:58:40.165716Z"
    }
   },
   "outputs": [
    {
     "name": "stdout",
     "output_type": "stream",
     "text": [
      "/workspace/notebooks/experiment_automation/output/BI_LSTM/refit/TL/refit_12_redd_out.ipynb\n"
     ]
    }
   ],
   "source": [
    "print(path_save_nb)"
   ]
  },
  {
   "cell_type": "code",
   "execution_count": 10,
   "metadata": {
    "execution": {
     "iopub.execute_input": "2022-02-13T05:58:40.172046Z",
     "iopub.status.busy": "2022-02-13T05:58:40.170881Z",
     "iopub.status.idle": "2022-02-13T05:58:40.173317Z",
     "shell.execute_reply": "2022-02-13T05:58:40.174272Z"
    }
   },
   "outputs": [],
   "source": [
    "# rm $path_save_log"
   ]
  },
  {
   "cell_type": "code",
   "execution_count": 11,
   "metadata": {
    "execution": {
     "iopub.execute_input": "2022-02-13T05:58:40.179537Z",
     "iopub.status.busy": "2022-02-13T05:58:40.178582Z",
     "iopub.status.idle": "2022-02-13T05:58:40.180902Z",
     "shell.execute_reply": "2022-02-13T05:58:40.181677Z"
    }
   },
   "outputs": [],
   "source": [
    "# %%capture cap \n",
    "\n",
    "# with open(path_save_log,\"wt\") as f:\n",
    "#     f.write(cap.stdout)\n",
    "    \n",
    "# print(\"out capture..\")"
   ]
  },
  {
   "cell_type": "code",
   "execution_count": 12,
   "metadata": {
    "execution": {
     "iopub.execute_input": "2022-02-13T05:58:40.197698Z",
     "iopub.status.busy": "2022-02-13T05:58:40.196472Z",
     "iopub.status.idle": "2022-02-13T05:58:40.198961Z",
     "shell.execute_reply": "2022-02-13T05:58:40.199938Z"
    },
    "id": "vqA9NwOqKrb5",
    "jupyter": {
     "outputs_hidden": true
    },
    "tags": []
   },
   "outputs": [],
   "source": [
    "# %%capture cap --no-stderr\n",
    "\n",
    "\n",
    "if environ['train_type'] == \"BB\":\n",
    "\n",
    "    #define generator\n",
    "    train_gen = HDF5ImageGenerator(\n",
    "        src= path_data,\n",
    "        X_key=\"data/train/gaf\",\n",
    "        y_key=\"labels/train/gaf\",\n",
    "        classes_key=\"appliances/classes\",\n",
    "        labels_encoding=\"hot\",\n",
    "        shuffle=True,\n",
    "        batch_size=int(environ['batch_size']),\n",
    "        num_classes=num_of_classes,\n",
    "        mode=\"train\",\n",
    "        )\n",
    "    \n",
    "    model = select_model(environ['learn_type'])\n",
    "    \n",
    "    txt_log.write(\"fitting BB model: \\n\")\n",
    "    \n",
    "    model.fit(\n",
    "        train_gen,\n",
    "        verbose=2,\n",
    "        epochs=int(environ['epochs']),\n",
    "        class_weight=d_class_weights,\n",
    "        callbacks = [save_op_callback],\n",
    "    )\n",
    "    \n",
    "    txt_log.write(\"finished fitting BB model: \\n\")\n",
    "\n",
    "    evaluate_model(model,x_test,y_test,appliances)\n",
    "    \n",
    "    if environ['save_model']==\"True\":\n",
    "\n",
    "        path_model_save = path+\"/models/\"+environ['learn_type']+\"/\"+dataset.split(\"_\")[0]+\"_\"+dataset.split(\"_R\")[1][0:2]\n",
    "        model.save(path_model_save)\n",
    "        txt_log.write(\"model saved to:\"+\"/models/\"+environ['learn_type']+\"/\"+dataset.split(\"_\")[0]+\"_\"+dataset.split(\"_R\")[1][0:2]+\" \\n\")\n",
    "        \n",
    "        \n",
    "# with open(path_save+\"_out_log.txt\" as f:\n",
    "#     f.write(cap.stdout)\n"
   ]
  },
  {
   "cell_type": "code",
   "execution_count": 13,
   "metadata": {
    "collapsed": true,
    "execution": {
     "iopub.execute_input": "2022-02-13T05:58:40.205585Z",
     "iopub.status.busy": "2022-02-13T05:58:40.204410Z",
     "iopub.status.idle": "2022-02-13T05:58:40.206842Z",
     "shell.execute_reply": "2022-02-13T05:58:40.207805Z"
    }
   },
   "outputs": [],
   "source": [
    "#model = keras.models.load_model(path_model1)\n",
    "# model_used = model"
   ]
  },
  {
   "cell_type": "code",
   "execution_count": 14,
   "metadata": {
    "collapsed": true,
    "execution": {
     "iopub.execute_input": "2022-02-13T05:58:40.213544Z",
     "iopub.status.busy": "2022-02-13T05:58:40.212372Z",
     "iopub.status.idle": "2022-02-13T05:58:40.215144Z",
     "shell.execute_reply": "2022-02-13T05:58:40.215984Z"
    },
    "jupyter": {
     "outputs_hidden": true
    },
    "tags": []
   },
   "outputs": [],
   "source": [
    "# evaluate_model(model,x_test,y_test,appliances)"
   ]
  },
  {
   "cell_type": "code",
   "execution_count": 15,
   "metadata": {
    "collapsed": true,
    "execution": {
     "iopub.execute_input": "2022-02-13T05:58:40.238877Z",
     "iopub.status.busy": "2022-02-13T05:58:40.220240Z",
     "iopub.status.idle": "2022-02-13T07:36:57.410595Z",
     "shell.execute_reply": "2022-02-13T07:36:57.411290Z"
    }
   },
   "outputs": [
    {
     "name": "stdout",
     "output_type": "stream",
     "text": [
      "using dataset data refit training on model redd seed 12\n",
      "reading data, printing stats: \n",
      "['HEKA', 'fridge/freezer', 'audio system', 'breadmaker', 'broadband router', 'computer', 'dehumidifier', 'dish washer', 'electric space heater', 'food processor', 'pond pump', 'television', 'tumble dryer', 'washer dryer', 'washing machine']\n",
      "{0: 0.3663356504468719, 1: 0.22525951557093427, 2: 6.4672023374726075, 3: 34.85669291338583, 4: 4.910482529118137, 5: 0.43032954214056574, 6: 18.068571428571428, 7: 2.8259176508139165, 8: 11.852208835341365, 9: 12.611965811965812, 10: 2.7789077212806026, 11: 0.2799203262828417, 12: 7.359600997506234, 13: 38.32727272727273, 14: 2.2073298429319372}\n",
      " \n",
      "Tests \n",
      "HEKA test: 6042 train: 24168\n",
      "fridge/freezer test: 9826 train: 39304\n",
      "audio system test: 342 train: 1369\n",
      "breadmaker test: 64 train: 254\n",
      "broadband router test: 451 train: 1803\n",
      "computer test: 5143 train: 20574\n",
      "dehumidifier test: 123 train: 490\n",
      "dish washer test: 783 train: 3133\n",
      "electric space heater test: 187 train: 747\n",
      "food processor test: 175 train: 702\n",
      "pond pump test: 796 train: 3186\n",
      "television test: 7908 train: 31629\n",
      "tumble dryer test: 301 train: 1203\n",
      "washer dryer test: 58 train: 231\n",
      "washing machine test: 1003 train: 4011\n",
      "loading model\n",
      "compling TL model..\n"
     ]
    },
    {
     "name": "stderr",
     "output_type": "stream",
     "text": [
      "2022-02-13 05:58:48.919652: I tensorflow/core/common_runtime/gpu/gpu_device.cc:1734] Found device 0 with properties: \n",
      "pciBusID: 0000:21:00.0 name: NVIDIA GeForce RTX 2080 Ti computeCapability: 7.5\n",
      "coreClock: 1.545GHz coreCount: 68 deviceMemorySize: 10.76GiB deviceMemoryBandwidth: 573.69GiB/s\n",
      "2022-02-13 05:58:48.922665: I tensorflow/core/common_runtime/gpu/gpu_device.cc:1872] Adding visible gpu devices: 0\n",
      "2022-02-13 05:58:48.925022: I tensorflow/stream_executor/platform/default/dso_loader.cc:54] Successfully opened dynamic library libcudart.so.11.0\n",
      "2022-02-13 05:58:49.807178: I tensorflow/core/common_runtime/gpu/gpu_device.cc:1258] Device interconnect StreamExecutor with strength 1 edge matrix:\n",
      "2022-02-13 05:58:49.807238: I tensorflow/core/common_runtime/gpu/gpu_device.cc:1264]      0 \n",
      "2022-02-13 05:58:49.807457: I tensorflow/core/common_runtime/gpu/gpu_device.cc:1277] 0:   N \n",
      "2022-02-13 05:58:49.808307: I tensorflow/core/common_runtime/gpu/gpu_device.cc:1418] Created TensorFlow device (/job:localhost/replica:0/task:0/device:GPU:0 with 9649 MB memory) -> physical GPU (device: 0, name: NVIDIA GeForce RTX 2080 Ti, pci bus id: 0000:21:00.0, compute capability: 7.5)\n",
      "2022-02-13 05:58:49.809896: I tensorflow/core/common_runtime/process_util.cc:146] Creating new thread pool with default inter op setting: 20. Tune using inter_op_parallelism_threads for best performance.\n"
     ]
    },
    {
     "name": "stdout",
     "output_type": "stream",
     "text": [
      "Normal way\n",
      "[0 1 2 3 4 5 6 7 8 9]\n",
      "WARNING:tensorflow:From /usr/local/lib/python3.8/dist-packages/tensorflow/python/ops/array_ops.py:5043: calling gather (from tensorflow.python.ops.array_ops) with validate_indices is deprecated and will be removed in a future version.\n",
      "Instructions for updating:\n",
      "The `validate_indices` argument has no effect. Indices are always validated on CPU and never validated on GPU.\n"
     ]
    },
    {
     "name": "stderr",
     "output_type": "stream",
     "text": [
      "/usr/local/lib/python3.8/dist-packages/tensorflow/python/keras/optimizer_v2/optimizer_v2.py:374: UserWarning: The `lr` argument is deprecated, use `learning_rate` instead.\n",
      "  warnings.warn(\n",
      "2022-02-13 05:58:57.689904: I tensorflow/compiler/mlir/mlir_graph_optimization_pass.cc:176] None of the MLIR Optimization Passes are enabled (registered 2)\n",
      "2022-02-13 05:58:57.708798: I tensorflow/core/platform/profile_utils/cpu_utils.cc:114] CPU Frequency: 3299990000 Hz\n"
     ]
    },
    {
     "name": "stdout",
     "output_type": "stream",
     "text": [
      "Epoch 1/50\n"
     ]
    },
    {
     "name": "stderr",
     "output_type": "stream",
     "text": [
      "2022-02-13 05:59:01.210093: I tensorflow/stream_executor/platform/default/dso_loader.cc:54] Successfully opened dynamic library libcudnn.so.8\n",
      "2022-02-13 05:59:01.949819: I tensorflow/stream_executor/cuda/cuda_dnn.cc:380] Loaded cuDNN version 8202\n",
      "2022-02-13 05:59:02.843772: I tensorflow/stream_executor/platform/default/dso_loader.cc:54] Successfully opened dynamic library libcublas.so.11\n",
      "2022-02-13 05:59:03.624969: I tensorflow/stream_executor/platform/default/dso_loader.cc:54] Successfully opened dynamic library libcublasLt.so.11\n"
     ]
    },
    {
     "name": "stdout",
     "output_type": "stream",
     "text": [
      "4151/4151 - 88s - loss: 1.2617 - accuracy: 0.5184\n",
      "Epoch 2/50\n",
      "4151/4151 - 123s - loss: 1.0584 - accuracy: 0.5612\n",
      "Epoch 3/50\n",
      "4151/4151 - 118s - loss: 1.0070 - accuracy: 0.5756\n",
      "Epoch 4/50\n",
      "4151/4151 - 120s - loss: 0.9868 - accuracy: 0.5873\n",
      "Epoch 5/50\n",
      "4151/4151 - 119s - loss: 0.9587 - accuracy: 0.5959\n",
      "Epoch 6/50\n",
      "4151/4151 - 120s - loss: 0.9474 - accuracy: 0.5986\n",
      "Epoch 7/50\n",
      "4151/4151 - 118s - loss: 0.9455 - accuracy: 0.5962\n",
      "Epoch 8/50\n",
      "4151/4151 - 119s - loss: 0.9239 - accuracy: 0.6064\n",
      "Epoch 9/50\n",
      "4151/4151 - 119s - loss: 0.9229 - accuracy: 0.6032\n",
      "Epoch 10/50\n",
      "4151/4151 - 119s - loss: 0.9197 - accuracy: 0.6119\n",
      "Epoch 11/50\n",
      "4151/4151 - 116s - loss: 0.9167 - accuracy: 0.6074\n",
      "Epoch 12/50\n",
      "4151/4151 - 117s - loss: 0.9081 - accuracy: 0.6113\n",
      "Epoch 13/50\n",
      "4151/4151 - 117s - loss: 0.9042 - accuracy: 0.6152\n",
      "Epoch 14/50\n",
      "4151/4151 - 117s - loss: 0.9027 - accuracy: 0.6171\n",
      "Epoch 15/50\n",
      "4151/4151 - 116s - loss: 0.8923 - accuracy: 0.6148\n",
      "Epoch 16/50\n",
      "4151/4151 - 117s - loss: 0.8815 - accuracy: 0.6192\n",
      "Epoch 17/50\n",
      "4151/4151 - 117s - loss: 0.8768 - accuracy: 0.6185\n",
      "Epoch 18/50\n",
      "4151/4151 - 116s - loss: 0.8907 - accuracy: 0.6230\n",
      "Epoch 19/50\n",
      "4151/4151 - 116s - loss: 0.8778 - accuracy: 0.6238\n",
      "Epoch 20/50\n",
      "4151/4151 - 117s - loss: 0.8783 - accuracy: 0.6198\n",
      "Epoch 21/50\n",
      "4151/4151 - 118s - loss: 0.8824 - accuracy: 0.6211\n",
      "Epoch 22/50\n",
      "4151/4151 - 117s - loss: 0.8757 - accuracy: 0.6279\n",
      "Epoch 23/50\n",
      "4151/4151 - 119s - loss: 0.8816 - accuracy: 0.6243\n",
      "Epoch 24/50\n",
      "4151/4151 - 114s - loss: 0.8706 - accuracy: 0.6232\n",
      "Epoch 25/50\n",
      "4151/4151 - 112s - loss: 0.8718 - accuracy: 0.6271\n",
      "Epoch 26/50\n",
      "4151/4151 - 115s - loss: 0.8864 - accuracy: 0.6226\n",
      "Epoch 27/50\n",
      "4151/4151 - 116s - loss: 0.8699 - accuracy: 0.6252\n",
      "Epoch 28/50\n",
      "4151/4151 - 116s - loss: 0.8770 - accuracy: 0.6256\n",
      "Epoch 29/50\n",
      "4151/4151 - 115s - loss: 0.8544 - accuracy: 0.6273\n",
      "Epoch 30/50\n",
      "4151/4151 - 117s - loss: 0.8596 - accuracy: 0.6277\n",
      "Epoch 31/50\n",
      "4151/4151 - 118s - loss: 0.8656 - accuracy: 0.6313\n",
      "Epoch 32/50\n",
      "4151/4151 - 119s - loss: 0.8614 - accuracy: 0.6308\n",
      "Epoch 33/50\n",
      "4151/4151 - 118s - loss: 0.8416 - accuracy: 0.6309\n",
      "Epoch 34/50\n",
      "4151/4151 - 118s - loss: 0.8704 - accuracy: 0.6312\n",
      "Epoch 35/50\n",
      "4151/4151 - 118s - loss: 0.8576 - accuracy: 0.6350\n",
      "Epoch 36/50\n",
      "4151/4151 - 118s - loss: 0.8546 - accuracy: 0.6272\n",
      "Epoch 37/50\n",
      "4151/4151 - 116s - loss: 0.8615 - accuracy: 0.6290\n",
      "Epoch 38/50\n",
      "4151/4151 - 117s - loss: 0.8444 - accuracy: 0.6338\n",
      "Epoch 39/50\n",
      "4151/4151 - 115s - loss: 0.8571 - accuracy: 0.6338\n",
      "Epoch 40/50\n",
      "4151/4151 - 117s - loss: 0.8580 - accuracy: 0.6361\n",
      "Epoch 41/50\n",
      "4151/4151 - 118s - loss: 0.8546 - accuracy: 0.6340\n",
      "Epoch 42/50\n",
      "4151/4151 - 118s - loss: 0.8533 - accuracy: 0.6337\n",
      "Epoch 43/50\n",
      "4151/4151 - 117s - loss: 0.8498 - accuracy: 0.6336\n",
      "Epoch 44/50\n",
      "4151/4151 - 118s - loss: 0.8394 - accuracy: 0.6343\n",
      "Epoch 45/50\n",
      "4151/4151 - 119s - loss: 0.8559 - accuracy: 0.6363\n",
      "Epoch 46/50\n",
      "4151/4151 - 117s - loss: 0.8497 - accuracy: 0.6385\n",
      "Epoch 47/50\n",
      "4151/4151 - 117s - loss: 0.8498 - accuracy: 0.6369\n",
      "Epoch 48/50\n",
      "4151/4151 - 118s - loss: 0.8607 - accuracy: 0.6377\n",
      "Epoch 49/50\n",
      "4151/4151 - 118s - loss: 0.8515 - accuracy: 0.6338\n",
      "Epoch 50/50\n",
      "4151/4151 - 116s - loss: 0.8517 - accuracy: 0.6356\n",
      "1038/1038 - 16s\n",
      "Normalized confusion matrix\n",
      "                       precision    recall  f1-score   support\n",
      "\n",
      "                 HEKA       1.00      0.99      0.99      6042\n",
      "       fridge/freezer       0.96      0.73      0.83      9826\n",
      "         audio system       0.11      0.91      0.20       342\n",
      "           breadmaker       0.11      0.78      0.20        64\n",
      "     broadband router       0.24      0.61      0.35       451\n",
      "             computer       0.59      0.46      0.52      5143\n",
      "         dehumidifier       0.11      0.93      0.20       123\n",
      "          dish washer       0.69      0.73      0.71       783\n",
      "electric space heater       0.22      0.65      0.33       187\n",
      "       food processor       0.12      0.93      0.21       175\n",
      "            pond pump       0.40      0.98      0.57       796\n",
      "           television       0.70      0.35      0.47      7908\n",
      "         tumble dryer       0.51      0.58      0.54       301\n",
      "         washer dryer       0.31      0.57      0.40        58\n",
      "      washing machine       0.61      0.72      0.66      1003\n",
      "\n",
      "             accuracy                           0.65     33202\n",
      "            macro avg       0.44      0.73      0.48     33202\n",
      "         weighted avg       0.78      0.65      0.68     33202\n",
      "\n"
     ]
    },
    {
     "data": {
      "image/png": "[encoded data removed]",
      "text/plain": [
       "<Figure size 720x720 with 2 Axes>"
      ]
     },
     "metadata": {
      "needs_background": "light"
     },
     "output_type": "display_data"
    }
   ],
   "source": [
    "# datasets =[\n",
    "#     \"ukdale_gen_GASF_13m_100S5X12A54480_R82_80-20\"\n",
    "# ]\n",
    "\n",
    "if environ['train_type'] == \"TL\": \n",
    "    models = environ['tl_datasets'].replace(\" \",\"\").split(\",\")\n",
    "    #model = [\"base\"]\n",
    "    \n",
    "    for model in models:\n",
    "    \n",
    "        file_name = dataset\n",
    "        \n",
    "        datasetTL = model\n",
    "        \n",
    "        seed = dataset.split(\"_R\")[1][0:2]\n",
    "        \n",
    "        print(\"using dataset data\",dataset.split(\"_\")[0],\"training on model\",model,\"seed\",environ['seed'])\n",
    "        txt_log.write(\"starting \"+dataset.split(\"_\")[0]+\" training on model \"+model+\" seed \"+environ['seed']+\"\\n\")\n",
    "\n",
    "\n",
    "        tf.keras.backend.clear_session()\n",
    "\n",
    "\n",
    "        #read the file\n",
    "        path = str(pathlib.Path().resolve())\n",
    "        path_data = f\"{path}\"\"/data/\"f\"{file_name}\"\"/\"f\"{file_name}\"\".hdf5\"\n",
    "        file = h5py.File(path_data,\"r+\")\n",
    "\n",
    "\n",
    "        print(\"reading data, printing stats: \")\n",
    "        x_test,y_test,d_class_weights,num_of_classes,appliances = get_data(file)\n",
    "        print(\"loading model\")\n",
    "        \n",
    "        model_seed = 42\n",
    "        model_used = create_tl_model(model,environ['learn_type'],model_seed,path,num_of_classes)\n",
    "                \n",
    "        train_gen = HDF5ImageGenerator(\n",
    "            src= path_data,\n",
    "            X_key=\"data/train/gaf\",\n",
    "            y_key=\"labels/train/gaf\",\n",
    "            classes_key=\"appliances/classes\",\n",
    "            labels_encoding=\"hot\",\n",
    "            shuffle=True,\n",
    "            batch_size=int(environ['batch_size']),\n",
    "            num_classes=num_of_classes,\n",
    "            mode=\"train\",\n",
    "            )\n",
    "\n",
    "        model_used.fit(\n",
    "            train_gen,\n",
    "            verbose=2,\n",
    "            epochs=int(environ['epochs']),\n",
    "            class_weight=d_class_weights,\n",
    "            callbacks = [save_op_callback]\n",
    "            #workers = 6,\n",
    "        )\n",
    "        \n",
    "        txt_log.write(\"finished \"+dataset.split(\"_\")[0]+\" training on model \"+model+\" seed \"+environ['seed']+\"\\n\")\n",
    "\n",
    "\n",
    "        evaluate_model(model_used,x_test,y_test,appliances)\n",
    "        \n",
    "\n",
    "\n",
    "\n",
    "        #del model_used\n",
    "\n"
   ]
  },
  {
   "cell_type": "code",
   "execution_count": 16,
   "metadata": {
    "execution": {
     "iopub.execute_input": "2022-02-13T07:36:57.416771Z",
     "iopub.status.busy": "2022-02-13T07:36:57.416283Z",
     "iopub.status.idle": "2022-02-13T07:36:57.419588Z",
     "shell.execute_reply": "2022-02-13T07:36:57.420161Z"
    }
   },
   "outputs": [],
   "source": [
    "txt_log.close()"
   ]
  },
  {
   "cell_type": "code",
   "execution_count": null,
   "metadata": {},
   "outputs": [],
   "source": []
  }
 ],
 "metadata": {
  "colab": {
   "authorship_tag": "ABX9TyMej4PvP65qsLng7TnQKWA4",
   "name": "LSTM-gen",
   "provenance": []
  },
  "kernelspec": {
   "display_name": "Python 3 (ipykernel)",
   "language": "python",
   "name": "python3"
  },
  "language_info": {
   "codemirror_mode": {
    "name": "ipython",
    "version": 3
   },
   "file_extension": ".py",
   "mimetype": "text/x-python",
   "name": "python",
   "nbconvert_exporter": "python",
   "pygments_lexer": "ipython3",
   "version": "3.8.10"
  }
 },
 "nbformat": 4,
 "nbformat_minor": 4
}
