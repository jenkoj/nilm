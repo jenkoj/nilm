{
 "cells": [
  {
   "cell_type": "code",
   "execution_count": 1,
   "metadata": {
    "execution": {
     "iopub.execute_input": "2022-02-09T20:48:39.172537Z",
     "iopub.status.busy": "2022-02-09T20:48:39.170840Z",
     "iopub.status.idle": "2022-02-09T20:48:40.874313Z",
     "shell.execute_reply": "2022-02-09T20:48:40.873097Z"
    },
    "id": "WqUfHWgtJxtu",
    "scrolled": true,
    "tags": []
   },
   "outputs": [
    {
     "name": "stderr",
     "output_type": "stream",
     "text": [
      "2022-02-09 20:48:40.008721: I tensorflow/stream_executor/platform/default/dso_loader.cc:54] Successfully opened dynamic library libcudart.so.11.0\n"
     ]
    },
    {
     "name": "stdout",
     "output_type": "stream",
     "text": [
      "2.5.0\n",
      "Num GPUs Available:  1\n"
     ]
    },
    {
     "name": "stderr",
     "output_type": "stream",
     "text": [
      "2022-02-09 20:48:40.809871: I tensorflow/stream_executor/platform/default/dso_loader.cc:54] Successfully opened dynamic library libcuda.so.1\n",
      "2022-02-09 20:48:40.856296: I tensorflow/core/common_runtime/gpu/gpu_device.cc:1734] Found device 0 with properties: \n",
      "pciBusID: 0000:21:00.0 name: NVIDIA GeForce RTX 2080 Ti computeCapability: 7.5\n",
      "coreClock: 1.545GHz coreCount: 68 deviceMemorySize: 10.76GiB deviceMemoryBandwidth: 573.69GiB/s\n",
      "2022-02-09 20:48:40.856344: I tensorflow/stream_executor/platform/default/dso_loader.cc:54] Successfully opened dynamic library libcudart.so.11.0\n",
      "2022-02-09 20:48:40.860201: I tensorflow/stream_executor/platform/default/dso_loader.cc:54] Successfully opened dynamic library libcublas.so.11\n",
      "2022-02-09 20:48:40.860264: I tensorflow/stream_executor/platform/default/dso_loader.cc:54] Successfully opened dynamic library libcublasLt.so.11\n",
      "2022-02-09 20:48:40.861841: I tensorflow/stream_executor/platform/default/dso_loader.cc:54] Successfully opened dynamic library libcufft.so.10\n",
      "2022-02-09 20:48:40.862103: I tensorflow/stream_executor/platform/default/dso_loader.cc:54] Successfully opened dynamic library libcurand.so.10\n",
      "2022-02-09 20:48:40.862744: I tensorflow/stream_executor/platform/default/dso_loader.cc:54] Successfully opened dynamic library libcutensor.so.1\n",
      "2022-02-09 20:48:40.863212: I tensorflow/stream_executor/platform/default/dso_loader.cc:54] Successfully opened dynamic library libcusolver.so.11\n",
      "2022-02-09 20:48:40.863931: I tensorflow/stream_executor/platform/default/dso_loader.cc:54] Successfully opened dynamic library libcusparse.so.11\n",
      "2022-02-09 20:48:40.864060: I tensorflow/stream_executor/platform/default/dso_loader.cc:54] Successfully opened dynamic library libcudnn.so.8\n",
      "2022-02-09 20:48:40.864455: I tensorflow/core/common_runtime/gpu/gpu_device.cc:1872] Adding visible gpu devices: 0\n"
     ]
    }
   ],
   "source": [
    "import h5py\n",
    "import numpy as np\n",
    "\n",
    "from sklearn.model_selection import train_test_split\n",
    "from sklearn.metrics import classification_report, confusion_matrix\n",
    "import matplotlib.pyplot as plt\n",
    "import itertools \n",
    "import pyts\n",
    "from pyts.approximation import PiecewiseAggregateApproximation\n",
    "\n",
    "from sklearn.utils import class_weight\n",
    "\n",
    "import pathlib\n",
    "import tensorflow as tf\n",
    "from tensorflow import keras\n",
    "from tensorflow.keras import layers, optimizers\n",
    "from tensorflow.keras.layers import Convolution2D,Conv2D, Dense,Dropout, Flatten, Activation, MaxPooling2D, Input, Conv1D, GlobalAveragePooling1D, TimeDistributed, GRU, LSTM\n",
    "\n",
    "print(tf.__version__)\n",
    "print(\"Num GPUs Available: \", len(tf.config.list_physical_devices('GPU')))\n",
    "gpus = tf.config.experimental.list_physical_devices('GPU')\n",
    "\n",
    "try:\n",
    "    for gpu in gpus:\n",
    "        tf.config.experimental.set_memory_growth(gpu, True)\n",
    "except RuntimeError as e:\n",
    "    print(e)"
   ]
  },
  {
   "cell_type": "code",
   "execution_count": 2,
   "metadata": {
    "execution": {
     "iopub.execute_input": "2022-02-09T20:48:40.880963Z",
     "iopub.status.busy": "2022-02-09T20:48:40.878418Z",
     "iopub.status.idle": "2022-02-09T20:48:40.883852Z",
     "shell.execute_reply": "2022-02-09T20:48:40.884716Z"
    }
   },
   "outputs": [
    {
     "name": "stdout",
     "output_type": "stream",
     "text": [
      "ukdale_gen_GASF_13m_100S5X12A54480_R12_80-20\n"
     ]
    }
   ],
   "source": [
    "from os import environ\n",
    "dataset = environ['dataset']\n",
    "print(dataset)"
   ]
  },
  {
   "cell_type": "code",
   "execution_count": 3,
   "metadata": {
    "execution": {
     "iopub.execute_input": "2022-02-09T20:48:40.893293Z",
     "iopub.status.busy": "2022-02-09T20:48:40.892052Z",
     "iopub.status.idle": "2022-02-09T20:48:40.897622Z",
     "shell.execute_reply": "2022-02-09T20:48:40.898608Z"
    }
   },
   "outputs": [],
   "source": [
    "#my defs \n",
    "from modules.models import  LSTM_3D_V56, CNN_V56,LSTM_BI_V56\n",
    "from modules.tools import my_print, plot_confusion_matrix_norm, get_data,get_data_split, evaluate_model, create_tl_model\n",
    "from modules.HDF5ImageGenerator import HDF5ImageGenerator"
   ]
  },
  {
   "cell_type": "code",
   "execution_count": 4,
   "metadata": {
    "execution": {
     "iopub.execute_input": "2022-02-09T20:48:40.910880Z",
     "iopub.status.busy": "2022-02-09T20:48:40.909632Z",
     "iopub.status.idle": "2022-02-09T20:48:40.912555Z",
     "shell.execute_reply": "2022-02-09T20:48:40.913531Z"
    },
    "id": "RT1vwq7-KOtB"
   },
   "outputs": [],
   "source": [
    "#LOAD DATASET\n",
    "#file_name = \"ukdale_gen_GASF_13m_100S5X12A54480\"\n",
    "#file_name = \"refit_gen_GASF_13m_100S5X_15A166006\"\n",
    "file_name = \"refit_gen_GASF_13m_100S5X_15A166006_R42-80-20\"\n",
    "#file_name = \"refit_gen_GASF_13m_100S5X_15A166006_R42_80-20\"\n",
    "file_name = \"refit_gen_GASF_60m_300S0X_15A157030N_R12_80-20-V1\"\n",
    "file_name = environ[\"dataset\"]\n",
    "#read the file\n",
    "path = str(pathlib.Path().resolve())\n",
    "\n",
    "path_data = f\"{path}\"\"/data/\"f\"{file_name}\"\"/\"f\"{file_name}\"\".hdf5\"\n",
    "\n",
    "file = h5py.File(path_data,\"r+\")"
   ]
  },
  {
   "cell_type": "code",
   "execution_count": 5,
   "metadata": {
    "execution": {
     "iopub.execute_input": "2022-02-09T20:48:40.922127Z",
     "iopub.status.busy": "2022-02-09T20:48:40.920927Z",
     "iopub.status.idle": "2022-02-09T20:48:42.027353Z",
     "shell.execute_reply": "2022-02-09T20:48:42.028359Z"
    },
    "scrolled": true
   },
   "outputs": [
    {
     "name": "stdout",
     "output_type": "stream",
     "text": [
      "['HEKA', 'fridge/freezer', 'HTPC', 'boiler', 'computer monitor', 'desktop computer', 'laptop computer', 'light', 'microwave', 'server computer', 'television', 'washer dryer']\n",
      "{0: 0.46362011743681386, 1: 0.6056361514090378, 2: 1.5133333333333334, 3: 1.2690426275331936, 4: 1.0880766926303176, 5: 1.3567426223384385, 6: 0.9253503184713375, 7: 1.5133333333333334, 8: 0.8680688336520076, 9: 2.2857142857142856, 10: 0.8724477540235407, 11: 1.6397291196388262}\n",
      " \n",
      "Tests \n",
      "HEKA test: 1959 train: 7834\n",
      "fridge/freezer test: 1499 train: 5997\n",
      "HTPC test: 600 train: 2400\n",
      "boiler test: 715 train: 2862\n",
      "computer monitor test: 835 train: 3338\n",
      "desktop computer test: 669 train: 2677\n",
      "laptop computer test: 981 train: 3925\n",
      "light test: 600 train: 2400\n",
      "microwave test: 1046 train: 4184\n",
      "server computer test: 397 train: 1589\n",
      "television test: 1041 train: 4163\n",
      "washer dryer test: 554 train: 2215\n"
     ]
    }
   ],
   "source": [
    "x_test,y_test,d_class_weights,num_of_classes,appliances = get_data(file)"
   ]
  },
  {
   "cell_type": "code",
   "execution_count": 6,
   "metadata": {
    "execution": {
     "iopub.execute_input": "2022-02-09T20:48:42.036265Z",
     "iopub.status.busy": "2022-02-09T20:48:42.035021Z",
     "iopub.status.idle": "2022-02-09T20:48:42.037551Z",
     "shell.execute_reply": "2022-02-09T20:48:42.038521Z"
    }
   },
   "outputs": [],
   "source": [
    "def select_model(learn_type):\n",
    "    \n",
    "    if learn_type == \"CNN\":\n",
    "        model = CNN_V56(file[\"data/train/gaf\"][0:10],num_of_classes,lr= 0.00002)\n",
    "\n",
    "    if learn_type == \"LSTM\":\n",
    "        model = LSTM_3D_V56(file[\"data/train/gaf\"][0:10],num_of_classes,lr= 0.00002)\n",
    "\n",
    "    if learn_type == \"BI_LSTM\":\n",
    "        model = LSTM_BI_V56(file[\"data/train/gaf\"][0:10],num_of_classes,lr= 0.00002)\n",
    "\n",
    "    return model\n",
    "              "
   ]
  },
  {
   "cell_type": "code",
   "execution_count": 7,
   "metadata": {
    "execution": {
     "iopub.execute_input": "2022-02-09T20:48:42.045973Z",
     "iopub.status.busy": "2022-02-09T20:48:42.044767Z",
     "iopub.status.idle": "2022-02-09T20:48:42.047237Z",
     "shell.execute_reply": "2022-02-09T20:48:42.048214Z"
    }
   },
   "outputs": [],
   "source": [
    "path_save = path+'/experiment_automation/output/'+environ['learn_type']+'/'+dataset.split(\"_\")[0]+\"/\"+environ['train_type']+\"/\"+dataset.split(\"_\")[0]+\"_\"+environ['seed']+\"_\"+environ['tl_datasets']\n",
    "path_save_nb = path_save+\"_out.ipynb\"\n",
    "path_save_log = path_save+\"_out_log2.txt\""
   ]
  },
  {
   "cell_type": "code",
   "execution_count": 8,
   "metadata": {
    "execution": {
     "iopub.execute_input": "2022-02-09T20:48:42.056940Z",
     "iopub.status.busy": "2022-02-09T20:48:42.055703Z",
     "iopub.status.idle": "2022-02-09T20:48:42.204744Z",
     "shell.execute_reply": "2022-02-09T20:48:42.205730Z"
    }
   },
   "outputs": [],
   "source": [
    "from keras.callbacks import LambdaCallback\n",
    "#path_log= path+'/experiment_automation/output/'+environ['learn_type']+'/'+dataset.split(\"_\")[0]+\"/\"+environ['train_type']+\"/\"+dataset.split(\"_\")[0]+\"_\"+environ['seed']+\"_\"+environ['tl_datasets']+\"_log.txt\"\n",
    "txt_log = open(path_save+\"_log.txt\", mode='wt', buffering=1)\n",
    "txt_log.write(\"file created! \\n\")\n",
    "\n",
    "save_op_callback = LambdaCallback(\n",
    "  on_epoch_end = lambda epoch, logs: txt_log.write(\n",
    "    str({'epoch': epoch, 'loss': logs['loss'],'acc': logs['accuracy']}) + '\\n'),\n",
    "                                                           \n",
    ")"
   ]
  },
  {
   "cell_type": "code",
   "execution_count": 9,
   "metadata": {
    "execution": {
     "iopub.execute_input": "2022-02-09T20:48:42.211632Z",
     "iopub.status.busy": "2022-02-09T20:48:42.210328Z",
     "iopub.status.idle": "2022-02-09T20:48:42.215811Z",
     "shell.execute_reply": "2022-02-09T20:48:42.214729Z"
    }
   },
   "outputs": [
    {
     "name": "stdout",
     "output_type": "stream",
     "text": [
      "/workspace/notebooks/experiment_automation/output/BI_LSTM/ukdale/BB/ukdale_12__out.ipynb\n"
     ]
    }
   ],
   "source": [
    "print(path_save_nb)"
   ]
  },
  {
   "cell_type": "code",
   "execution_count": 10,
   "metadata": {
    "execution": {
     "iopub.execute_input": "2022-02-09T20:48:42.221280Z",
     "iopub.status.busy": "2022-02-09T20:48:42.220080Z",
     "iopub.status.idle": "2022-02-09T20:48:42.222539Z",
     "shell.execute_reply": "2022-02-09T20:48:42.223515Z"
    }
   },
   "outputs": [],
   "source": [
    "# rm $path_save_log"
   ]
  },
  {
   "cell_type": "code",
   "execution_count": 11,
   "metadata": {
    "execution": {
     "iopub.execute_input": "2022-02-09T20:48:42.229243Z",
     "iopub.status.busy": "2022-02-09T20:48:42.228044Z",
     "iopub.status.idle": "2022-02-09T20:48:42.230501Z",
     "shell.execute_reply": "2022-02-09T20:48:42.231373Z"
    }
   },
   "outputs": [],
   "source": [
    "# %%capture cap \n",
    "\n",
    "# with open(path_save_log,\"wt\") as f:\n",
    "#     f.write(cap.stdout)\n",
    "    \n",
    "# print(\"out capture..\")"
   ]
  },
  {
   "cell_type": "code",
   "execution_count": 12,
   "metadata": {
    "execution": {
     "iopub.execute_input": "2022-02-09T20:48:42.246734Z",
     "iopub.status.busy": "2022-02-09T20:48:42.240087Z",
     "iopub.status.idle": "2022-02-10T00:01:20.501842Z",
     "shell.execute_reply": "2022-02-10T00:01:20.502178Z"
    },
    "id": "vqA9NwOqKrb5",
    "jupyter": {
     "outputs_hidden": true
    },
    "tags": []
   },
   "outputs": [
    {
     "name": "stdout",
     "output_type": "stream",
     "text": [
      "Normal way\n",
      "[0 1 2 3 4 5 6 7 8 9]\n"
     ]
    },
    {
     "name": "stderr",
     "output_type": "stream",
     "text": [
      "2022-02-09 20:48:42.263914: I tensorflow/core/common_runtime/gpu/gpu_device.cc:1734] Found device 0 with properties: \n",
      "pciBusID: 0000:21:00.0 name: NVIDIA GeForce RTX 2080 Ti computeCapability: 7.5\n",
      "coreClock: 1.545GHz coreCount: 68 deviceMemorySize: 10.76GiB deviceMemoryBandwidth: 573.69GiB/s\n",
      "2022-02-09 20:48:42.264538: I tensorflow/core/common_runtime/gpu/gpu_device.cc:1872] Adding visible gpu devices: 0\n",
      "2022-02-09 20:48:42.264601: I tensorflow/stream_executor/platform/default/dso_loader.cc:54] Successfully opened dynamic library libcudart.so.11.0\n",
      "2022-02-09 20:48:42.636289: I tensorflow/core/common_runtime/gpu/gpu_device.cc:1258] Device interconnect StreamExecutor with strength 1 edge matrix:\n",
      "2022-02-09 20:48:42.636322: I tensorflow/core/common_runtime/gpu/gpu_device.cc:1264]      0 \n",
      "2022-02-09 20:48:42.636329: I tensorflow/core/common_runtime/gpu/gpu_device.cc:1277] 0:   N \n",
      "2022-02-09 20:48:42.636891: I tensorflow/core/common_runtime/gpu/gpu_device.cc:1418] Created TensorFlow device (/job:localhost/replica:0/task:0/device:GPU:0 with 9649 MB memory) -> physical GPU (device: 0, name: NVIDIA GeForce RTX 2080 Ti, pci bus id: 0000:21:00.0, compute capability: 7.5)\n",
      "2022-02-09 20:48:42.637240: I tensorflow/core/common_runtime/process_util.cc:146] Creating new thread pool with default inter op setting: 20. Tune using inter_op_parallelism_threads for best performance.\n"
     ]
    },
    {
     "name": "stdout",
     "output_type": "stream",
     "text": [
      "WARNING:tensorflow:From /usr/local/lib/python3.8/dist-packages/tensorflow/python/ops/array_ops.py:5043: calling gather (from tensorflow.python.ops.array_ops) with validate_indices is deprecated and will be removed in a future version.\n",
      "Instructions for updating:\n",
      "The `validate_indices` argument has no effect. Indices are always validated on CPU and never validated on GPU.\n",
      "Epoch 1/150\n"
     ]
    },
    {
     "name": "stderr",
     "output_type": "stream",
     "text": [
      "2022-02-09 20:48:43.439853: I tensorflow/compiler/mlir/mlir_graph_optimization_pass.cc:176] None of the MLIR Optimization Passes are enabled (registered 2)\n",
      "2022-02-09 20:48:43.460608: I tensorflow/core/platform/profile_utils/cpu_utils.cc:114] CPU Frequency: 3299990000 Hz\n",
      "2022-02-09 20:48:47.001282: I tensorflow/stream_executor/platform/default/dso_loader.cc:54] Successfully opened dynamic library libcudnn.so.8\n",
      "2022-02-09 20:48:47.511988: I tensorflow/stream_executor/cuda/cuda_dnn.cc:380] Loaded cuDNN version 8202\n",
      "2022-02-09 20:48:48.000005: I tensorflow/stream_executor/platform/default/dso_loader.cc:54] Successfully opened dynamic library libcublas.so.11\n",
      "2022-02-09 20:48:48.406561: I tensorflow/stream_executor/platform/default/dso_loader.cc:54] Successfully opened dynamic library libcublasLt.so.11\n"
     ]
    },
    {
     "name": "stdout",
     "output_type": "stream",
     "text": [
      "1362/1362 - 83s - loss: 1.8316 - accuracy: 0.4589\n",
      "Epoch 2/150\n",
      "1362/1362 - 77s - loss: 1.0540 - accuracy: 0.7202\n",
      "Epoch 3/150\n",
      "1362/1362 - 77s - loss: 0.7340 - accuracy: 0.7717\n",
      "Epoch 4/150\n",
      "1362/1362 - 77s - loss: 0.6020 - accuracy: 0.8088\n",
      "Epoch 5/150\n",
      "1362/1362 - 77s - loss: 0.5281 - accuracy: 0.8290\n",
      "Epoch 6/150\n",
      "1362/1362 - 77s - loss: 0.4824 - accuracy: 0.8418\n",
      "Epoch 7/150\n",
      "1362/1362 - 77s - loss: 0.4408 - accuracy: 0.8528\n",
      "Epoch 8/150\n",
      "1362/1362 - 77s - loss: 0.4162 - accuracy: 0.8593\n",
      "Epoch 9/150\n",
      "1362/1362 - 77s - loss: 0.3941 - accuracy: 0.8652\n",
      "Epoch 10/150\n",
      "1362/1362 - 77s - loss: 0.3717 - accuracy: 0.8728\n",
      "Epoch 11/150\n",
      "1362/1362 - 77s - loss: 0.3549 - accuracy: 0.8756\n",
      "Epoch 12/150\n",
      "1362/1362 - 77s - loss: 0.3349 - accuracy: 0.8821\n",
      "Epoch 13/150\n",
      "1362/1362 - 77s - loss: 0.3263 - accuracy: 0.8852\n",
      "Epoch 14/150\n",
      "1362/1362 - 77s - loss: 0.3132 - accuracy: 0.8893\n",
      "Epoch 15/150\n",
      "1362/1362 - 77s - loss: 0.3018 - accuracy: 0.8914\n",
      "Epoch 16/150\n",
      "1362/1362 - 77s - loss: 0.2951 - accuracy: 0.8945\n",
      "Epoch 17/150\n",
      "1362/1362 - 77s - loss: 0.2829 - accuracy: 0.8976\n",
      "Epoch 18/150\n",
      "1362/1362 - 77s - loss: 0.2717 - accuracy: 0.8990\n",
      "Epoch 19/150\n",
      "1362/1362 - 77s - loss: 0.2668 - accuracy: 0.9026\n",
      "Epoch 20/150\n",
      "1362/1362 - 77s - loss: 0.2613 - accuracy: 0.9037\n",
      "Epoch 21/150\n",
      "1362/1362 - 77s - loss: 0.2551 - accuracy: 0.9051\n",
      "Epoch 22/150\n",
      "1362/1362 - 77s - loss: 0.2465 - accuracy: 0.9079\n",
      "Epoch 23/150\n",
      "1362/1362 - 77s - loss: 0.2418 - accuracy: 0.9094\n",
      "Epoch 24/150\n",
      "1362/1362 - 77s - loss: 0.2371 - accuracy: 0.9108\n",
      "Epoch 25/150\n",
      "1362/1362 - 77s - loss: 0.2308 - accuracy: 0.9117\n",
      "Epoch 26/150\n",
      "1362/1362 - 77s - loss: 0.2281 - accuracy: 0.9128\n",
      "Epoch 27/150\n",
      "1362/1362 - 77s - loss: 0.2204 - accuracy: 0.9160\n",
      "Epoch 28/150\n",
      "1362/1362 - 77s - loss: 0.2173 - accuracy: 0.9166\n",
      "Epoch 29/150\n",
      "1362/1362 - 77s - loss: 0.2142 - accuracy: 0.9168\n",
      "Epoch 30/150\n",
      "1362/1362 - 77s - loss: 0.2073 - accuracy: 0.9197\n",
      "Epoch 31/150\n",
      "1362/1362 - 77s - loss: 0.2031 - accuracy: 0.9208\n",
      "Epoch 32/150\n",
      "1362/1362 - 77s - loss: 0.1997 - accuracy: 0.9219\n",
      "Epoch 33/150\n",
      "1362/1362 - 77s - loss: 0.1993 - accuracy: 0.9228\n",
      "Epoch 34/150\n",
      "1362/1362 - 77s - loss: 0.1947 - accuracy: 0.9237\n",
      "Epoch 35/150\n",
      "1362/1362 - 77s - loss: 0.1914 - accuracy: 0.9241\n",
      "Epoch 36/150\n",
      "1362/1362 - 77s - loss: 0.1897 - accuracy: 0.9247\n",
      "Epoch 37/150\n",
      "1362/1362 - 77s - loss: 0.1827 - accuracy: 0.9272\n",
      "Epoch 38/150\n",
      "1362/1362 - 77s - loss: 0.1824 - accuracy: 0.9275\n",
      "Epoch 39/150\n",
      "1362/1362 - 77s - loss: 0.1796 - accuracy: 0.9298\n",
      "Epoch 40/150\n",
      "1362/1362 - 77s - loss: 0.1767 - accuracy: 0.9277\n",
      "Epoch 41/150\n",
      "1362/1362 - 77s - loss: 0.1745 - accuracy: 0.9295\n",
      "Epoch 42/150\n",
      "1362/1362 - 77s - loss: 0.1696 - accuracy: 0.9303\n",
      "Epoch 43/150\n",
      "1362/1362 - 77s - loss: 0.1686 - accuracy: 0.9309\n",
      "Epoch 44/150\n",
      "1362/1362 - 77s - loss: 0.1658 - accuracy: 0.9318\n",
      "Epoch 45/150\n",
      "1362/1362 - 77s - loss: 0.1637 - accuracy: 0.9322\n",
      "Epoch 46/150\n",
      "1362/1362 - 77s - loss: 0.1592 - accuracy: 0.9340\n",
      "Epoch 47/150\n",
      "1362/1362 - 77s - loss: 0.1594 - accuracy: 0.9336\n",
      "Epoch 48/150\n",
      "1362/1362 - 77s - loss: 0.1578 - accuracy: 0.9343\n",
      "Epoch 49/150\n",
      "1362/1362 - 77s - loss: 0.1524 - accuracy: 0.9358\n",
      "Epoch 50/150\n",
      "1362/1362 - 77s - loss: 0.1528 - accuracy: 0.9356\n",
      "Epoch 51/150\n",
      "1362/1362 - 77s - loss: 0.1506 - accuracy: 0.9371\n",
      "Epoch 52/150\n",
      "1362/1362 - 77s - loss: 0.1482 - accuracy: 0.9379\n",
      "Epoch 53/150\n",
      "1362/1362 - 77s - loss: 0.1474 - accuracy: 0.9367\n",
      "Epoch 54/150\n",
      "1362/1362 - 77s - loss: 0.1437 - accuracy: 0.9398\n",
      "Epoch 55/150\n",
      "1362/1362 - 77s - loss: 0.1394 - accuracy: 0.9400\n",
      "Epoch 56/150\n",
      "1362/1362 - 77s - loss: 0.1400 - accuracy: 0.9402\n",
      "Epoch 57/150\n",
      "1362/1362 - 77s - loss: 0.1379 - accuracy: 0.9409\n",
      "Epoch 58/150\n",
      "1362/1362 - 77s - loss: 0.1347 - accuracy: 0.9410\n",
      "Epoch 59/150\n",
      "1362/1362 - 77s - loss: 0.1341 - accuracy: 0.9420\n",
      "Epoch 60/150\n",
      "1362/1362 - 77s - loss: 0.1333 - accuracy: 0.9426\n",
      "Epoch 61/150\n",
      "1362/1362 - 77s - loss: 0.1319 - accuracy: 0.9431\n",
      "Epoch 62/150\n",
      "1362/1362 - 77s - loss: 0.1327 - accuracy: 0.9414\n",
      "Epoch 63/150\n",
      "1362/1362 - 77s - loss: 0.1288 - accuracy: 0.9431\n",
      "Epoch 64/150\n",
      "1362/1362 - 77s - loss: 0.1276 - accuracy: 0.9436\n",
      "Epoch 65/150\n",
      "1362/1362 - 77s - loss: 0.1248 - accuracy: 0.9437\n",
      "Epoch 66/150\n",
      "1362/1362 - 77s - loss: 0.1252 - accuracy: 0.9432\n",
      "Epoch 67/150\n",
      "1362/1362 - 77s - loss: 0.1223 - accuracy: 0.9452\n",
      "Epoch 68/150\n",
      "1362/1362 - 77s - loss: 0.1210 - accuracy: 0.9456\n",
      "Epoch 69/150\n",
      "1362/1362 - 77s - loss: 0.1180 - accuracy: 0.9471\n",
      "Epoch 70/150\n",
      "1362/1362 - 77s - loss: 0.1184 - accuracy: 0.9475\n",
      "Epoch 71/150\n",
      "1362/1362 - 77s - loss: 0.1165 - accuracy: 0.9474\n",
      "Epoch 72/150\n",
      "1362/1362 - 77s - loss: 0.1174 - accuracy: 0.9479\n",
      "Epoch 73/150\n",
      "1362/1362 - 77s - loss: 0.1143 - accuracy: 0.9493\n",
      "Epoch 74/150\n",
      "1362/1362 - 77s - loss: 0.1138 - accuracy: 0.9483\n",
      "Epoch 75/150\n",
      "1362/1362 - 77s - loss: 0.1122 - accuracy: 0.9490\n",
      "Epoch 76/150\n",
      "1362/1362 - 77s - loss: 0.1102 - accuracy: 0.9503\n",
      "Epoch 77/150\n",
      "1362/1362 - 77s - loss: 0.1083 - accuracy: 0.9508\n",
      "Epoch 78/150\n",
      "1362/1362 - 77s - loss: 0.1069 - accuracy: 0.9504\n",
      "Epoch 79/150\n",
      "1362/1362 - 77s - loss: 0.1100 - accuracy: 0.9492\n",
      "Epoch 80/150\n",
      "1362/1362 - 77s - loss: 0.1054 - accuracy: 0.9504\n",
      "Epoch 81/150\n",
      "1362/1362 - 77s - loss: 0.1028 - accuracy: 0.9528\n",
      "Epoch 82/150\n",
      "1362/1362 - 77s - loss: 0.1035 - accuracy: 0.9527\n",
      "Epoch 83/150\n",
      "1362/1362 - 77s - loss: 0.1021 - accuracy: 0.9527\n",
      "Epoch 84/150\n",
      "1362/1362 - 77s - loss: 0.1010 - accuracy: 0.9536\n",
      "Epoch 85/150\n",
      "1362/1362 - 77s - loss: 0.0998 - accuracy: 0.9526\n",
      "Epoch 86/150\n",
      "1362/1362 - 77s - loss: 0.0997 - accuracy: 0.9534\n",
      "Epoch 87/150\n",
      "1362/1362 - 77s - loss: 0.0973 - accuracy: 0.9542\n",
      "Epoch 88/150\n",
      "1362/1362 - 77s - loss: 0.0974 - accuracy: 0.9532\n",
      "Epoch 89/150\n",
      "1362/1362 - 77s - loss: 0.0957 - accuracy: 0.9548\n",
      "Epoch 90/150\n",
      "1362/1362 - 77s - loss: 0.0919 - accuracy: 0.9556\n",
      "Epoch 91/150\n",
      "1362/1362 - 77s - loss: 0.0950 - accuracy: 0.9546\n",
      "Epoch 92/150\n",
      "1362/1362 - 77s - loss: 0.0932 - accuracy: 0.9550\n",
      "Epoch 93/150\n",
      "1362/1362 - 77s - loss: 0.0934 - accuracy: 0.9553\n",
      "Epoch 94/150\n",
      "1362/1362 - 77s - loss: 0.0897 - accuracy: 0.9561\n",
      "Epoch 95/150\n",
      "1362/1362 - 77s - loss: 0.0936 - accuracy: 0.9549\n",
      "Epoch 96/150\n",
      "1362/1362 - 77s - loss: 0.0893 - accuracy: 0.9573\n",
      "Epoch 97/150\n",
      "1362/1362 - 77s - loss: 0.0889 - accuracy: 0.9571\n",
      "Epoch 98/150\n",
      "1362/1362 - 77s - loss: 0.0870 - accuracy: 0.9577\n",
      "Epoch 99/150\n",
      "1362/1362 - 77s - loss: 0.0876 - accuracy: 0.9581\n",
      "Epoch 100/150\n",
      "1362/1362 - 77s - loss: 0.0871 - accuracy: 0.9587\n",
      "Epoch 101/150\n",
      "1362/1362 - 77s - loss: 0.0854 - accuracy: 0.9578\n",
      "Epoch 102/150\n",
      "1362/1362 - 77s - loss: 0.0860 - accuracy: 0.9576\n",
      "Epoch 103/150\n",
      "1362/1362 - 77s - loss: 0.0827 - accuracy: 0.9592\n",
      "Epoch 104/150\n",
      "1362/1362 - 77s - loss: 0.0821 - accuracy: 0.9587\n",
      "Epoch 105/150\n",
      "1362/1362 - 77s - loss: 0.0812 - accuracy: 0.9599\n",
      "Epoch 106/150\n",
      "1362/1362 - 77s - loss: 0.0825 - accuracy: 0.9593\n",
      "Epoch 107/150\n",
      "1362/1362 - 77s - loss: 0.0795 - accuracy: 0.9599\n",
      "Epoch 108/150\n",
      "1362/1362 - 77s - loss: 0.0799 - accuracy: 0.9613\n",
      "Epoch 109/150\n",
      "1362/1362 - 77s - loss: 0.0798 - accuracy: 0.9604\n",
      "Epoch 110/150\n",
      "1362/1362 - 77s - loss: 0.0791 - accuracy: 0.9607\n",
      "Epoch 111/150\n",
      "1362/1362 - 77s - loss: 0.0769 - accuracy: 0.9613\n",
      "Epoch 112/150\n",
      "1362/1362 - 77s - loss: 0.0752 - accuracy: 0.9618\n",
      "Epoch 113/150\n",
      "1362/1362 - 77s - loss: 0.0763 - accuracy: 0.9605\n",
      "Epoch 114/150\n",
      "1362/1362 - 77s - loss: 0.0780 - accuracy: 0.9608\n",
      "Epoch 115/150\n",
      "1362/1362 - 77s - loss: 0.0750 - accuracy: 0.9613\n",
      "Epoch 116/150\n",
      "1362/1362 - 77s - loss: 0.0743 - accuracy: 0.9617\n",
      "Epoch 117/150\n",
      "1362/1362 - 77s - loss: 0.0736 - accuracy: 0.9628\n",
      "Epoch 118/150\n",
      "1362/1362 - 77s - loss: 0.0729 - accuracy: 0.9626\n",
      "Epoch 119/150\n",
      "1362/1362 - 77s - loss: 0.0732 - accuracy: 0.9622\n",
      "Epoch 120/150\n",
      "1362/1362 - 77s - loss: 0.0719 - accuracy: 0.9631\n",
      "Epoch 121/150\n",
      "1362/1362 - 77s - loss: 0.0727 - accuracy: 0.9624\n",
      "Epoch 122/150\n",
      "1362/1362 - 77s - loss: 0.0708 - accuracy: 0.9629\n",
      "Epoch 123/150\n",
      "1362/1362 - 77s - loss: 0.0708 - accuracy: 0.9634\n",
      "Epoch 124/150\n",
      "1362/1362 - 77s - loss: 0.0684 - accuracy: 0.9644\n",
      "Epoch 125/150\n",
      "1362/1362 - 77s - loss: 0.0682 - accuracy: 0.9656\n",
      "Epoch 126/150\n",
      "1362/1362 - 77s - loss: 0.0673 - accuracy: 0.9644\n",
      "Epoch 127/150\n",
      "1362/1362 - 77s - loss: 0.0679 - accuracy: 0.9642\n",
      "Epoch 128/150\n",
      "1362/1362 - 77s - loss: 0.0668 - accuracy: 0.9654\n",
      "Epoch 129/150\n",
      "1362/1362 - 77s - loss: 0.0659 - accuracy: 0.9637\n",
      "Epoch 130/150\n",
      "1362/1362 - 77s - loss: 0.0678 - accuracy: 0.9639\n",
      "Epoch 131/150\n",
      "1362/1362 - 77s - loss: 0.0644 - accuracy: 0.9651\n",
      "Epoch 132/150\n",
      "1362/1362 - 77s - loss: 0.0631 - accuracy: 0.9661\n",
      "Epoch 133/150\n",
      "1362/1362 - 77s - loss: 0.0656 - accuracy: 0.9651\n",
      "Epoch 134/150\n",
      "1362/1362 - 77s - loss: 0.0637 - accuracy: 0.9660\n",
      "Epoch 135/150\n",
      "1362/1362 - 77s - loss: 0.0632 - accuracy: 0.9660\n",
      "Epoch 136/150\n",
      "1362/1362 - 77s - loss: 0.0610 - accuracy: 0.9674\n",
      "Epoch 137/150\n",
      "1362/1362 - 77s - loss: 0.0618 - accuracy: 0.9660\n",
      "Epoch 138/150\n",
      "1362/1362 - 77s - loss: 0.0616 - accuracy: 0.9675\n",
      "Epoch 139/150\n",
      "1362/1362 - 77s - loss: 0.0609 - accuracy: 0.9672\n",
      "Epoch 140/150\n",
      "1362/1362 - 77s - loss: 0.0602 - accuracy: 0.9672\n",
      "Epoch 141/150\n",
      "1362/1362 - 77s - loss: 0.0589 - accuracy: 0.9676\n",
      "Epoch 142/150\n",
      "1362/1362 - 77s - loss: 0.0629 - accuracy: 0.9654\n",
      "Epoch 143/150\n",
      "1362/1362 - 77s - loss: 0.0580 - accuracy: 0.9685\n",
      "Epoch 144/150\n",
      "1362/1362 - 77s - loss: 0.0605 - accuracy: 0.9668\n",
      "Epoch 145/150\n",
      "1362/1362 - 77s - loss: 0.0570 - accuracy: 0.9684\n",
      "Epoch 146/150\n",
      "1362/1362 - 77s - loss: 0.0570 - accuracy: 0.9673\n",
      "Epoch 147/150\n",
      "1362/1362 - 77s - loss: 0.0586 - accuracy: 0.9682\n",
      "Epoch 148/150\n",
      "1362/1362 - 77s - loss: 0.0549 - accuracy: 0.9688\n",
      "Epoch 149/150\n",
      "1362/1362 - 77s - loss: 0.0586 - accuracy: 0.9666\n",
      "Epoch 150/150\n",
      "1362/1362 - 77s - loss: 0.0563 - accuracy: 0.9685\n",
      "341/341 - 6s\n",
      "Normalized confusion matrix\n",
      "                  precision    recall  f1-score   support\n",
      "\n",
      "            HEKA       0.97      0.85      0.90      1959\n",
      "  fridge/freezer       0.99      0.97      0.98      1499\n",
      "            HTPC       0.89      0.96      0.92       600\n",
      "          boiler       0.98      0.97      0.97       715\n",
      "computer monitor       0.90      0.91      0.90       835\n",
      "desktop computer       0.93      0.94      0.94       669\n",
      " laptop computer       0.97      0.97      0.97       981\n",
      "           light       0.98      0.98      0.98       600\n",
      "       microwave       0.77      0.94      0.85      1046\n",
      " server computer       0.98      0.94      0.96       397\n",
      "      television       0.94      0.93      0.93      1041\n",
      "    washer dryer       0.99      0.98      0.98       554\n",
      "\n",
      "        accuracy                           0.93     10896\n",
      "       macro avg       0.94      0.94      0.94     10896\n",
      "    weighted avg       0.94      0.93      0.94     10896\n",
      "\n"
     ]
    },
    {
     "name": "stderr",
     "output_type": "stream",
     "text": [
      "2022-02-10 00:01:09.644134: W tensorflow/python/util/util.cc:348] Sets are not currently considered sequences, but this may change in the future, so consider avoiding using them.\n",
      "WARNING:absl:Found untraced functions such as lstm_cell_1_layer_call_fn, lstm_cell_1_layer_call_and_return_conditional_losses, lstm_cell_2_layer_call_fn, lstm_cell_2_layer_call_and_return_conditional_losses, lstm_cell_4_layer_call_fn while saving (showing 5 of 20). These functions will not be directly callable after loading.\n"
     ]
    },
    {
     "name": "stdout",
     "output_type": "stream",
     "text": [
      "INFO:tensorflow:Assets written to: /workspace/notebooks/models/BI_LSTM/ukdale_12/assets\n"
     ]
    },
    {
     "name": "stderr",
     "output_type": "stream",
     "text": [
      "INFO:tensorflow:Assets written to: /workspace/notebooks/models/BI_LSTM/ukdale_12/assets\n"
     ]
    },
    {
     "data": {
      "image/png": "[encoded data removed]",
      "text/plain": [
       "<Figure size 720x720 with 2 Axes>"
      ]
     },
     "metadata": {
      "needs_background": "light"
     },
     "output_type": "display_data"
    }
   ],
   "source": [
    "# %%capture cap --no-stderr\n",
    "\n",
    "\n",
    "if environ['train_type'] == \"BB\":\n",
    "\n",
    "    #define generator\n",
    "    train_gen = HDF5ImageGenerator(\n",
    "        src= path_data,\n",
    "        X_key=\"data/train/gaf\",\n",
    "        y_key=\"labels/train/gaf\",\n",
    "        classes_key=\"appliances/classes\",\n",
    "        labels_encoding=\"hot\",\n",
    "        shuffle=True,\n",
    "        batch_size=int(environ['batch_size']),\n",
    "        num_classes=num_of_classes,\n",
    "        mode=\"train\",\n",
    "        )\n",
    "    \n",
    "    model = select_model(environ['learn_type'])\n",
    "    \n",
    "    txt_log.write(\"fitting BB model: \\n\")\n",
    "    \n",
    "    model.fit(\n",
    "        train_gen,\n",
    "        verbose=2,\n",
    "        epochs=int(environ['epochs']),\n",
    "        class_weight=d_class_weights,\n",
    "        callbacks = [save_op_callback],\n",
    "    )\n",
    "    \n",
    "    txt_log.write(\"finished fitting BB model: \\n\")\n",
    "\n",
    "    evaluate_model(model,x_test,y_test,appliances)\n",
    "    \n",
    "    if environ['save_model']==\"True\":\n",
    "\n",
    "        path_model_save = path+\"/models/\"+environ['learn_type']+\"/\"+dataset.split(\"_\")[0]+\"_\"+dataset.split(\"_R\")[1][0:2]\n",
    "        model.save(path_model_save)\n",
    "        txt_log.write(\"model saved to:\"+\"/models/\"+environ['learn_type']+\"/\"+dataset.split(\"_\")[0]+\"_\"+dataset.split(\"_R\")[1][0:2]+\" \\n\")\n",
    "        \n",
    "        \n",
    "# with open(path_save+\"_out_log.txt\" as f:\n",
    "#     f.write(cap.stdout)\n"
   ]
  },
  {
   "cell_type": "code",
   "execution_count": 13,
   "metadata": {
    "collapsed": true,
    "execution": {
     "iopub.execute_input": "2022-02-10T00:01:20.506988Z",
     "iopub.status.busy": "2022-02-10T00:01:20.504944Z",
     "iopub.status.idle": "2022-02-10T00:01:20.510128Z",
     "shell.execute_reply": "2022-02-10T00:01:20.510467Z"
    }
   },
   "outputs": [],
   "source": [
    "#model = keras.models.load_model(path_model1)\n",
    "# model_used = model"
   ]
  },
  {
   "cell_type": "code",
   "execution_count": 14,
   "metadata": {
    "collapsed": true,
    "execution": {
     "iopub.execute_input": "2022-02-10T00:01:20.515450Z",
     "iopub.status.busy": "2022-02-10T00:01:20.514924Z",
     "iopub.status.idle": "2022-02-10T00:01:20.517884Z",
     "shell.execute_reply": "2022-02-10T00:01:20.518328Z"
    },
    "jupyter": {
     "outputs_hidden": true
    },
    "tags": []
   },
   "outputs": [],
   "source": [
    "# evaluate_model(model,x_test,y_test,appliances)"
   ]
  },
  {
   "cell_type": "code",
   "execution_count": 15,
   "metadata": {
    "collapsed": true,
    "execution": {
     "iopub.execute_input": "2022-02-10T00:01:20.540701Z",
     "iopub.status.busy": "2022-02-10T00:01:20.526863Z",
     "iopub.status.idle": "2022-02-10T00:01:20.544053Z",
     "shell.execute_reply": "2022-02-10T00:01:20.543210Z"
    }
   },
   "outputs": [],
   "source": [
    "# datasets =[\n",
    "#     \"ukdale_gen_GASF_13m_100S5X12A54480_R82_80-20\"\n",
    "# ]\n",
    "\n",
    "if environ['train_type'] == \"TL\": \n",
    "    models = environ['tl_datasets'].replace(\" \",\"\").split(\",\")\n",
    "    #model = [\"base\"]\n",
    "    \n",
    "    for model in models:\n",
    "    \n",
    "        file_name = dataset\n",
    "        \n",
    "        datasetTL = model\n",
    "        \n",
    "        seed = dataset.split(\"_R\")[1][0:2]\n",
    "        \n",
    "        print(\"using dataset data\",dataset.split(\"_\")[0],\"training on model\",model,\"seed\",environ['seed'])\n",
    "        txt_log.write(\"starting \"+dataset.split(\"_\")[0]+\" training on model \"+model+\" seed \"+environ['seed']+\"\\n\")\n",
    "\n",
    "\n",
    "        tf.keras.backend.clear_session()\n",
    "\n",
    "\n",
    "        #read the file\n",
    "        path = str(pathlib.Path().resolve())\n",
    "        path_data = f\"{path}\"\"/data/\"f\"{file_name}\"\"/\"f\"{file_name}\"\".hdf5\"\n",
    "        file = h5py.File(path_data,\"r+\")\n",
    "\n",
    "\n",
    "        print(\"reading data, printing stats: \")\n",
    "        x_test,y_test,d_class_weights,num_of_classes,appliances = get_data(file)\n",
    "        print(\"loading model\")\n",
    "        \n",
    "        model_seed = 42\n",
    "        model_used = create_tl_model(model,environ['learn_type'],model_seed,path,num_of_classes)\n",
    "                \n",
    "        train_gen = HDF5ImageGenerator(\n",
    "            src= path_data,\n",
    "            X_key=\"data/train/gaf\",\n",
    "            y_key=\"labels/train/gaf\",\n",
    "            classes_key=\"appliances/classes\",\n",
    "            labels_encoding=\"hot\",\n",
    "            shuffle=True,\n",
    "            batch_size=int(environ['batch_size']),\n",
    "            num_classes=num_of_classes,\n",
    "            mode=\"train\",\n",
    "            )\n",
    "\n",
    "        model_used.fit(\n",
    "            train_gen,\n",
    "            verbose=2,\n",
    "            epochs=int(environ['epochs']),\n",
    "            class_weight=d_class_weights,\n",
    "            callbacks = [save_op_callback]\n",
    "            #workers = 6,\n",
    "        )\n",
    "        \n",
    "        txt_log.write(\"finished \"+dataset.split(\"_\")[0]+\" training on model \"+model+\" seed \"+environ['seed']+\"\\n\")\n",
    "\n",
    "\n",
    "        evaluate_model(model_used,x_test,y_test,appliances)\n",
    "        \n",
    "\n",
    "\n",
    "\n",
    "        #del model_used\n",
    "\n"
   ]
  },
  {
   "cell_type": "code",
   "execution_count": 16,
   "metadata": {
    "execution": {
     "iopub.execute_input": "2022-02-10T00:01:20.550102Z",
     "iopub.status.busy": "2022-02-10T00:01:20.548926Z",
     "iopub.status.idle": "2022-02-10T00:01:20.551579Z",
     "shell.execute_reply": "2022-02-10T00:01:20.552597Z"
    }
   },
   "outputs": [],
   "source": [
    "txt_log.close()"
   ]
  },
  {
   "cell_type": "code",
   "execution_count": null,
   "metadata": {},
   "outputs": [],
   "source": []
  }
 ],
 "metadata": {
  "colab": {
   "authorship_tag": "ABX9TyMej4PvP65qsLng7TnQKWA4",
   "name": "LSTM-gen",
   "provenance": []
  },
  "kernelspec": {
   "display_name": "Python 3 (ipykernel)",
   "language": "python",
   "name": "python3"
  },
  "language_info": {
   "codemirror_mode": {
    "name": "ipython",
    "version": 3
   },
   "file_extension": ".py",
   "mimetype": "text/x-python",
   "name": "python",
   "nbconvert_exporter": "python",
   "pygments_lexer": "ipython3",
   "version": "3.8.10"
  }
 },
 "nbformat": 4,
 "nbformat_minor": 4
}
