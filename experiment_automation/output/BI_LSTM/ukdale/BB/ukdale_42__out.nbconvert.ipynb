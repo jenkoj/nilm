{
 "cells": [
  {
   "cell_type": "code",
   "execution_count": 1,
   "metadata": {
    "execution": {
     "iopub.execute_input": "2022-02-10T00:01:46.991706Z",
     "iopub.status.busy": "2022-02-10T00:01:46.990137Z",
     "iopub.status.idle": "2022-02-10T00:01:48.707571Z",
     "shell.execute_reply": "2022-02-10T00:01:48.706273Z"
    },
    "id": "WqUfHWgtJxtu",
    "scrolled": true,
    "tags": []
   },
   "outputs": [
    {
     "name": "stderr",
     "output_type": "stream",
     "text": [
      "2022-02-10 00:01:47.839284: I tensorflow/stream_executor/platform/default/dso_loader.cc:54] Successfully opened dynamic library libcudart.so.11.0\n"
     ]
    },
    {
     "name": "stdout",
     "output_type": "stream",
     "text": [
      "2.5.0\n",
      "Num GPUs Available:  1\n"
     ]
    },
    {
     "name": "stderr",
     "output_type": "stream",
     "text": [
      "2022-02-10 00:01:48.641738: I tensorflow/stream_executor/platform/default/dso_loader.cc:54] Successfully opened dynamic library libcuda.so.1\n",
      "2022-02-10 00:01:48.688916: I tensorflow/core/common_runtime/gpu/gpu_device.cc:1734] Found device 0 with properties: \n",
      "pciBusID: 0000:21:00.0 name: NVIDIA GeForce RTX 2080 Ti computeCapability: 7.5\n",
      "coreClock: 1.545GHz coreCount: 68 deviceMemorySize: 10.76GiB deviceMemoryBandwidth: 573.69GiB/s\n",
      "2022-02-10 00:01:48.688965: I tensorflow/stream_executor/platform/default/dso_loader.cc:54] Successfully opened dynamic library libcudart.so.11.0\n",
      "2022-02-10 00:01:48.692966: I tensorflow/stream_executor/platform/default/dso_loader.cc:54] Successfully opened dynamic library libcublas.so.11\n",
      "2022-02-10 00:01:48.693027: I tensorflow/stream_executor/platform/default/dso_loader.cc:54] Successfully opened dynamic library libcublasLt.so.11\n",
      "2022-02-10 00:01:48.694488: I tensorflow/stream_executor/platform/default/dso_loader.cc:54] Successfully opened dynamic library libcufft.so.10\n",
      "2022-02-10 00:01:48.694755: I tensorflow/stream_executor/platform/default/dso_loader.cc:54] Successfully opened dynamic library libcurand.so.10\n",
      "2022-02-10 00:01:48.695405: I tensorflow/stream_executor/platform/default/dso_loader.cc:54] Successfully opened dynamic library libcutensor.so.1\n",
      "2022-02-10 00:01:48.695875: I tensorflow/stream_executor/platform/default/dso_loader.cc:54] Successfully opened dynamic library libcusolver.so.11\n",
      "2022-02-10 00:01:48.696662: I tensorflow/stream_executor/platform/default/dso_loader.cc:54] Successfully opened dynamic library libcusparse.so.11\n",
      "2022-02-10 00:01:48.696799: I tensorflow/stream_executor/platform/default/dso_loader.cc:54] Successfully opened dynamic library libcudnn.so.8\n",
      "2022-02-10 00:01:48.697173: I tensorflow/core/common_runtime/gpu/gpu_device.cc:1872] Adding visible gpu devices: 0\n"
     ]
    }
   ],
   "source": [
    "import h5py\n",
    "import numpy as np\n",
    "\n",
    "from sklearn.model_selection import train_test_split\n",
    "from sklearn.metrics import classification_report, confusion_matrix\n",
    "import matplotlib.pyplot as plt\n",
    "import itertools \n",
    "import pyts\n",
    "from pyts.approximation import PiecewiseAggregateApproximation\n",
    "\n",
    "from sklearn.utils import class_weight\n",
    "\n",
    "import pathlib\n",
    "import tensorflow as tf\n",
    "from tensorflow import keras\n",
    "from tensorflow.keras import layers, optimizers\n",
    "from tensorflow.keras.layers import Convolution2D,Conv2D, Dense,Dropout, Flatten, Activation, MaxPooling2D, Input, Conv1D, GlobalAveragePooling1D, TimeDistributed, GRU, LSTM\n",
    "\n",
    "print(tf.__version__)\n",
    "print(\"Num GPUs Available: \", len(tf.config.list_physical_devices('GPU')))\n",
    "gpus = tf.config.experimental.list_physical_devices('GPU')\n",
    "\n",
    "try:\n",
    "    for gpu in gpus:\n",
    "        tf.config.experimental.set_memory_growth(gpu, True)\n",
    "except RuntimeError as e:\n",
    "    print(e)"
   ]
  },
  {
   "cell_type": "code",
   "execution_count": 2,
   "metadata": {
    "execution": {
     "iopub.execute_input": "2022-02-10T00:01:48.713509Z",
     "iopub.status.busy": "2022-02-10T00:01:48.712321Z",
     "iopub.status.idle": "2022-02-10T00:01:48.717333Z",
     "shell.execute_reply": "2022-02-10T00:01:48.716060Z"
    }
   },
   "outputs": [
    {
     "name": "stdout",
     "output_type": "stream",
     "text": [
      "ukdale_gen_GASF_13m_100S5X12A54480_R42_80-20\n"
     ]
    }
   ],
   "source": [
    "from os import environ\n",
    "dataset = environ['dataset']\n",
    "print(dataset)"
   ]
  },
  {
   "cell_type": "code",
   "execution_count": 3,
   "metadata": {
    "execution": {
     "iopub.execute_input": "2022-02-10T00:01:48.723546Z",
     "iopub.status.busy": "2022-02-10T00:01:48.722255Z",
     "iopub.status.idle": "2022-02-10T00:01:48.726050Z",
     "shell.execute_reply": "2022-02-10T00:01:48.727073Z"
    }
   },
   "outputs": [],
   "source": [
    "#my defs \n",
    "from modules.models import  LSTM_3D_V56, CNN_V56,LSTM_BI_V56\n",
    "from modules.tools import my_print, plot_confusion_matrix_norm, get_data,get_data_split, evaluate_model, create_tl_model\n",
    "from modules.HDF5ImageGenerator import HDF5ImageGenerator"
   ]
  },
  {
   "cell_type": "code",
   "execution_count": 4,
   "metadata": {
    "execution": {
     "iopub.execute_input": "2022-02-10T00:01:48.735855Z",
     "iopub.status.busy": "2022-02-10T00:01:48.734527Z",
     "iopub.status.idle": "2022-02-10T00:01:48.737102Z",
     "shell.execute_reply": "2022-02-10T00:01:48.737889Z"
    },
    "id": "RT1vwq7-KOtB"
   },
   "outputs": [],
   "source": [
    "#LOAD DATASET\n",
    "#file_name = \"ukdale_gen_GASF_13m_100S5X12A54480\"\n",
    "#file_name = \"refit_gen_GASF_13m_100S5X_15A166006\"\n",
    "file_name = \"refit_gen_GASF_13m_100S5X_15A166006_R42-80-20\"\n",
    "#file_name = \"refit_gen_GASF_13m_100S5X_15A166006_R42_80-20\"\n",
    "file_name = \"refit_gen_GASF_60m_300S0X_15A157030N_R12_80-20-V1\"\n",
    "file_name = environ[\"dataset\"]\n",
    "#read the file\n",
    "path = str(pathlib.Path().resolve())\n",
    "\n",
    "path_data = f\"{path}\"\"/data/\"f\"{file_name}\"\"/\"f\"{file_name}\"\".hdf5\"\n",
    "\n",
    "file = h5py.File(path_data,\"r+\")"
   ]
  },
  {
   "cell_type": "code",
   "execution_count": 5,
   "metadata": {
    "execution": {
     "iopub.execute_input": "2022-02-10T00:01:48.746199Z",
     "iopub.status.busy": "2022-02-10T00:01:48.745025Z",
     "iopub.status.idle": "2022-02-10T00:01:49.829239Z",
     "shell.execute_reply": "2022-02-10T00:01:49.830302Z"
    },
    "scrolled": true
   },
   "outputs": [
    {
     "name": "stdout",
     "output_type": "stream",
     "text": [
      "['HEKA', 'fridge/freezer', 'HTPC', 'boiler', 'computer monitor', 'desktop computer', 'laptop computer', 'light', 'microwave', 'server computer', 'television', 'washer dryer']\n",
      "{0: 0.46362011743681386, 1: 0.6056361514090378, 2: 1.5133333333333334, 3: 1.2690426275331936, 4: 1.0880766926303176, 5: 1.3567426223384385, 6: 0.9253503184713375, 7: 1.5133333333333334, 8: 0.8680688336520076, 9: 2.2857142857142856, 10: 0.8724477540235407, 11: 1.6397291196388262}\n",
      " \n",
      "Tests \n",
      "HEKA test: 1959 train: 7834\n",
      "fridge/freezer test: 1499 train: 5997\n",
      "HTPC test: 600 train: 2400\n",
      "boiler test: 715 train: 2862\n",
      "computer monitor test: 835 train: 3338\n",
      "desktop computer test: 669 train: 2677\n",
      "laptop computer test: 981 train: 3925\n",
      "light test: 600 train: 2400\n",
      "microwave test: 1046 train: 4184\n",
      "server computer test: 397 train: 1589\n",
      "television test: 1041 train: 4163\n",
      "washer dryer test: 554 train: 2215\n"
     ]
    }
   ],
   "source": [
    "x_test,y_test,d_class_weights,num_of_classes,appliances = get_data(file)"
   ]
  },
  {
   "cell_type": "code",
   "execution_count": 6,
   "metadata": {
    "execution": {
     "iopub.execute_input": "2022-02-10T00:01:49.837675Z",
     "iopub.status.busy": "2022-02-10T00:01:49.836366Z",
     "iopub.status.idle": "2022-02-10T00:01:49.843616Z",
     "shell.execute_reply": "2022-02-10T00:01:49.842537Z"
    }
   },
   "outputs": [],
   "source": [
    "def select_model(learn_type):\n",
    "    \n",
    "    if learn_type == \"CNN\":\n",
    "        model = CNN_V56(file[\"data/train/gaf\"][0:10],num_of_classes,lr= 0.00002)\n",
    "\n",
    "    if learn_type == \"LSTM\":\n",
    "        model = LSTM_3D_V56(file[\"data/train/gaf\"][0:10],num_of_classes,lr= 0.00002)\n",
    "\n",
    "    if learn_type == \"BI_LSTM\":\n",
    "        model = LSTM_BI_V56(file[\"data/train/gaf\"][0:10],num_of_classes,lr= 0.00002)\n",
    "\n",
    "    return model\n",
    "              "
   ]
  },
  {
   "cell_type": "code",
   "execution_count": 7,
   "metadata": {
    "execution": {
     "iopub.execute_input": "2022-02-10T00:01:49.850807Z",
     "iopub.status.busy": "2022-02-10T00:01:49.849512Z",
     "iopub.status.idle": "2022-02-10T00:01:49.852212Z",
     "shell.execute_reply": "2022-02-10T00:01:49.853262Z"
    }
   },
   "outputs": [],
   "source": [
    "path_save = path+'/experiment_automation/output/'+environ['learn_type']+'/'+dataset.split(\"_\")[0]+\"/\"+environ['train_type']+\"/\"+dataset.split(\"_\")[0]+\"_\"+environ['seed']+\"_\"+environ['tl_datasets']\n",
    "path_save_nb = path_save+\"_out.ipynb\"\n",
    "path_save_log = path_save+\"_out_log2.txt\""
   ]
  },
  {
   "cell_type": "code",
   "execution_count": 8,
   "metadata": {
    "execution": {
     "iopub.execute_input": "2022-02-10T00:01:49.861857Z",
     "iopub.status.busy": "2022-02-10T00:01:49.860545Z",
     "iopub.status.idle": "2022-02-10T00:01:49.948384Z",
     "shell.execute_reply": "2022-02-10T00:01:49.949452Z"
    }
   },
   "outputs": [],
   "source": [
    "from keras.callbacks import LambdaCallback\n",
    "#path_log= path+'/experiment_automation/output/'+environ['learn_type']+'/'+dataset.split(\"_\")[0]+\"/\"+environ['train_type']+\"/\"+dataset.split(\"_\")[0]+\"_\"+environ['seed']+\"_\"+environ['tl_datasets']+\"_log.txt\"\n",
    "txt_log = open(path_save+\"_log.txt\", mode='wt', buffering=1)\n",
    "txt_log.write(\"file created! \\n\")\n",
    "\n",
    "save_op_callback = LambdaCallback(\n",
    "  on_epoch_end = lambda epoch, logs: txt_log.write(\n",
    "    str({'epoch': epoch, 'loss': logs['loss'],'acc': logs['accuracy']}) + '\\n'),\n",
    "                                                           \n",
    ")"
   ]
  },
  {
   "cell_type": "code",
   "execution_count": 9,
   "metadata": {
    "execution": {
     "iopub.execute_input": "2022-02-10T00:01:49.955354Z",
     "iopub.status.busy": "2022-02-10T00:01:49.954077Z",
     "iopub.status.idle": "2022-02-10T00:01:49.959482Z",
     "shell.execute_reply": "2022-02-10T00:01:49.958351Z"
    }
   },
   "outputs": [
    {
     "name": "stdout",
     "output_type": "stream",
     "text": [
      "/workspace/notebooks/experiment_automation/output/BI_LSTM/ukdale/BB/ukdale_42__out.ipynb\n"
     ]
    }
   ],
   "source": [
    "print(path_save_nb)"
   ]
  },
  {
   "cell_type": "code",
   "execution_count": 10,
   "metadata": {
    "execution": {
     "iopub.execute_input": "2022-02-10T00:01:49.964745Z",
     "iopub.status.busy": "2022-02-10T00:01:49.963557Z",
     "iopub.status.idle": "2022-02-10T00:01:49.966006Z",
     "shell.execute_reply": "2022-02-10T00:01:49.966961Z"
    }
   },
   "outputs": [],
   "source": [
    "# rm $path_save_log"
   ]
  },
  {
   "cell_type": "code",
   "execution_count": 11,
   "metadata": {
    "execution": {
     "iopub.execute_input": "2022-02-10T00:01:49.972455Z",
     "iopub.status.busy": "2022-02-10T00:01:49.971254Z",
     "iopub.status.idle": "2022-02-10T00:01:49.973739Z",
     "shell.execute_reply": "2022-02-10T00:01:49.974698Z"
    }
   },
   "outputs": [],
   "source": [
    "# %%capture cap \n",
    "\n",
    "# with open(path_save_log,\"wt\") as f:\n",
    "#     f.write(cap.stdout)\n",
    "    \n",
    "# print(\"out capture..\")"
   ]
  },
  {
   "cell_type": "code",
   "execution_count": 12,
   "metadata": {
    "execution": {
     "iopub.execute_input": "2022-02-10T00:01:49.989885Z",
     "iopub.status.busy": "2022-02-10T00:01:49.988891Z",
     "iopub.status.idle": "2022-02-10T03:13:26.745141Z",
     "shell.execute_reply": "2022-02-10T03:13:26.746136Z"
    },
    "id": "vqA9NwOqKrb5",
    "jupyter": {
     "outputs_hidden": true
    },
    "tags": []
   },
   "outputs": [
    {
     "name": "stdout",
     "output_type": "stream",
     "text": [
      "Normal way\n",
      "[0 1 2 3 4 5 6 7 8 9]\n"
     ]
    },
    {
     "name": "stderr",
     "output_type": "stream",
     "text": [
      "2022-02-10 00:01:50.014242: I tensorflow/core/common_runtime/gpu/gpu_device.cc:1734] Found device 0 with properties: \n",
      "pciBusID: 0000:21:00.0 name: NVIDIA GeForce RTX 2080 Ti computeCapability: 7.5\n",
      "coreClock: 1.545GHz coreCount: 68 deviceMemorySize: 10.76GiB deviceMemoryBandwidth: 573.69GiB/s\n",
      "2022-02-10 00:01:50.014992: I tensorflow/core/common_runtime/gpu/gpu_device.cc:1872] Adding visible gpu devices: 0\n",
      "2022-02-10 00:01:50.015092: I tensorflow/stream_executor/platform/default/dso_loader.cc:54] Successfully opened dynamic library libcudart.so.11.0\n",
      "2022-02-10 00:01:50.386587: I tensorflow/core/common_runtime/gpu/gpu_device.cc:1258] Device interconnect StreamExecutor with strength 1 edge matrix:\n",
      "2022-02-10 00:01:50.386622: I tensorflow/core/common_runtime/gpu/gpu_device.cc:1264]      0 \n",
      "2022-02-10 00:01:50.386629: I tensorflow/core/common_runtime/gpu/gpu_device.cc:1277] 0:   N \n",
      "2022-02-10 00:01:50.387179: I tensorflow/core/common_runtime/gpu/gpu_device.cc:1418] Created TensorFlow device (/job:localhost/replica:0/task:0/device:GPU:0 with 9649 MB memory) -> physical GPU (device: 0, name: NVIDIA GeForce RTX 2080 Ti, pci bus id: 0000:21:00.0, compute capability: 7.5)\n",
      "2022-02-10 00:01:50.387526: I tensorflow/core/common_runtime/process_util.cc:146] Creating new thread pool with default inter op setting: 20. Tune using inter_op_parallelism_threads for best performance.\n"
     ]
    },
    {
     "name": "stdout",
     "output_type": "stream",
     "text": [
      "WARNING:tensorflow:From /usr/local/lib/python3.8/dist-packages/tensorflow/python/ops/array_ops.py:5043: calling gather (from tensorflow.python.ops.array_ops) with validate_indices is deprecated and will be removed in a future version.\n",
      "Instructions for updating:\n",
      "The `validate_indices` argument has no effect. Indices are always validated on CPU and never validated on GPU.\n",
      "Epoch 1/150\n"
     ]
    },
    {
     "name": "stderr",
     "output_type": "stream",
     "text": [
      "2022-02-10 00:01:51.154854: I tensorflow/compiler/mlir/mlir_graph_optimization_pass.cc:176] None of the MLIR Optimization Passes are enabled (registered 2)\n",
      "2022-02-10 00:01:51.172504: I tensorflow/core/platform/profile_utils/cpu_utils.cc:114] CPU Frequency: 3299990000 Hz\n",
      "2022-02-10 00:01:54.701586: I tensorflow/stream_executor/platform/default/dso_loader.cc:54] Successfully opened dynamic library libcudnn.so.8\n",
      "2022-02-10 00:01:55.161029: I tensorflow/stream_executor/cuda/cuda_dnn.cc:380] Loaded cuDNN version 8202\n",
      "2022-02-10 00:01:55.652909: I tensorflow/stream_executor/platform/default/dso_loader.cc:54] Successfully opened dynamic library libcublas.so.11\n",
      "2022-02-10 00:01:56.068774: I tensorflow/stream_executor/platform/default/dso_loader.cc:54] Successfully opened dynamic library libcublasLt.so.11\n"
     ]
    },
    {
     "name": "stdout",
     "output_type": "stream",
     "text": [
      "1362/1362 - 83s - loss: 1.8426 - accuracy: 0.4531\n",
      "Epoch 2/150\n",
      "1362/1362 - 77s - loss: 0.9885 - accuracy: 0.7087\n",
      "Epoch 3/150\n",
      "1362/1362 - 77s - loss: 0.7335 - accuracy: 0.7429\n",
      "Epoch 4/150\n",
      "1362/1362 - 76s - loss: 0.6271 - accuracy: 0.7677\n",
      "Epoch 5/150\n",
      "1362/1362 - 76s - loss: 0.5639 - accuracy: 0.7850\n",
      "Epoch 6/150\n",
      "1362/1362 - 76s - loss: 0.5154 - accuracy: 0.7997\n",
      "Epoch 7/150\n",
      "1362/1362 - 76s - loss: 0.4781 - accuracy: 0.8119\n",
      "Epoch 8/150\n",
      "1362/1362 - 76s - loss: 0.4493 - accuracy: 0.8217\n",
      "Epoch 9/150\n",
      "1362/1362 - 76s - loss: 0.4231 - accuracy: 0.8334\n",
      "Epoch 10/150\n",
      "1362/1362 - 76s - loss: 0.4018 - accuracy: 0.8425\n",
      "Epoch 11/150\n",
      "1362/1362 - 76s - loss: 0.3801 - accuracy: 0.8523\n",
      "Epoch 12/150\n",
      "1362/1362 - 76s - loss: 0.3609 - accuracy: 0.8612\n",
      "Epoch 13/150\n",
      "1362/1362 - 76s - loss: 0.3429 - accuracy: 0.8715\n",
      "Epoch 14/150\n",
      "1362/1362 - 76s - loss: 0.3290 - accuracy: 0.8761\n",
      "Epoch 15/150\n",
      "1362/1362 - 76s - loss: 0.3201 - accuracy: 0.8786\n",
      "Epoch 16/150\n",
      "1362/1362 - 76s - loss: 0.3057 - accuracy: 0.8854\n",
      "Epoch 17/150\n",
      "1362/1362 - 76s - loss: 0.2980 - accuracy: 0.8871\n",
      "Epoch 18/150\n",
      "1362/1362 - 76s - loss: 0.2902 - accuracy: 0.8893\n",
      "Epoch 19/150\n",
      "1362/1362 - 77s - loss: 0.2793 - accuracy: 0.8907\n",
      "Epoch 20/150\n",
      "1362/1362 - 76s - loss: 0.2711 - accuracy: 0.8963\n",
      "Epoch 21/150\n",
      "1362/1362 - 76s - loss: 0.2631 - accuracy: 0.9001\n",
      "Epoch 22/150\n",
      "1362/1362 - 76s - loss: 0.2569 - accuracy: 0.9011\n",
      "Epoch 23/150\n",
      "1362/1362 - 76s - loss: 0.2528 - accuracy: 0.9029\n",
      "Epoch 24/150\n",
      "1362/1362 - 76s - loss: 0.2455 - accuracy: 0.9040\n",
      "Epoch 25/150\n",
      "1362/1362 - 76s - loss: 0.2397 - accuracy: 0.9070\n",
      "Epoch 26/150\n",
      "1362/1362 - 76s - loss: 0.2334 - accuracy: 0.9084\n",
      "Epoch 27/150\n",
      "1362/1362 - 76s - loss: 0.2276 - accuracy: 0.9112\n",
      "Epoch 28/150\n",
      "1362/1362 - 76s - loss: 0.2231 - accuracy: 0.9113\n",
      "Epoch 29/150\n",
      "1362/1362 - 76s - loss: 0.2185 - accuracy: 0.9147\n",
      "Epoch 30/150\n",
      "1362/1362 - 76s - loss: 0.2149 - accuracy: 0.9144\n",
      "Epoch 31/150\n",
      "1362/1362 - 76s - loss: 0.2115 - accuracy: 0.9155\n",
      "Epoch 32/150\n",
      "1362/1362 - 76s - loss: 0.2107 - accuracy: 0.9151\n",
      "Epoch 33/150\n",
      "1362/1362 - 76s - loss: 0.2033 - accuracy: 0.9181\n",
      "Epoch 34/150\n",
      "1362/1362 - 76s - loss: 0.1990 - accuracy: 0.9200\n",
      "Epoch 35/150\n",
      "1362/1362 - 76s - loss: 0.1974 - accuracy: 0.9191\n",
      "Epoch 36/150\n",
      "1362/1362 - 76s - loss: 0.1932 - accuracy: 0.9209\n",
      "Epoch 37/150\n",
      "1362/1362 - 76s - loss: 0.1880 - accuracy: 0.9230\n",
      "Epoch 38/150\n",
      "1362/1362 - 76s - loss: 0.1857 - accuracy: 0.9233\n",
      "Epoch 39/150\n",
      "1362/1362 - 76s - loss: 0.1836 - accuracy: 0.9248\n",
      "Epoch 40/150\n",
      "1362/1362 - 76s - loss: 0.1809 - accuracy: 0.9244\n",
      "Epoch 41/150\n",
      "1362/1362 - 76s - loss: 0.1798 - accuracy: 0.9265\n",
      "Epoch 42/150\n",
      "1362/1362 - 76s - loss: 0.1755 - accuracy: 0.9275\n",
      "Epoch 43/150\n",
      "1362/1362 - 76s - loss: 0.1727 - accuracy: 0.9275\n",
      "Epoch 44/150\n",
      "1362/1362 - 76s - loss: 0.1707 - accuracy: 0.9284\n",
      "Epoch 45/150\n",
      "1362/1362 - 76s - loss: 0.1670 - accuracy: 0.9307\n",
      "Epoch 46/150\n",
      "1362/1362 - 76s - loss: 0.1640 - accuracy: 0.9303\n",
      "Epoch 47/150\n",
      "1362/1362 - 76s - loss: 0.1632 - accuracy: 0.9311\n",
      "Epoch 48/150\n",
      "1362/1362 - 76s - loss: 0.1628 - accuracy: 0.9305\n",
      "Epoch 49/150\n",
      "1362/1362 - 76s - loss: 0.1568 - accuracy: 0.9332\n",
      "Epoch 50/150\n",
      "1362/1362 - 76s - loss: 0.1558 - accuracy: 0.9322\n",
      "Epoch 51/150\n",
      "1362/1362 - 76s - loss: 0.1541 - accuracy: 0.9337\n",
      "Epoch 52/150\n",
      "1362/1362 - 76s - loss: 0.1513 - accuracy: 0.9351\n",
      "Epoch 53/150\n",
      "1362/1362 - 76s - loss: 0.1492 - accuracy: 0.9357\n",
      "Epoch 54/150\n",
      "1362/1362 - 76s - loss: 0.1464 - accuracy: 0.9365\n",
      "Epoch 55/150\n",
      "1362/1362 - 76s - loss: 0.1454 - accuracy: 0.9368\n",
      "Epoch 56/150\n",
      "1362/1362 - 76s - loss: 0.1437 - accuracy: 0.9383\n",
      "Epoch 57/150\n",
      "1362/1362 - 76s - loss: 0.1432 - accuracy: 0.9355\n",
      "Epoch 58/150\n",
      "1362/1362 - 76s - loss: 0.1418 - accuracy: 0.9371\n",
      "Epoch 59/150\n",
      "1362/1362 - 76s - loss: 0.1373 - accuracy: 0.9381\n",
      "Epoch 60/150\n",
      "1362/1362 - 76s - loss: 0.1363 - accuracy: 0.9404\n",
      "Epoch 61/150\n",
      "1362/1362 - 76s - loss: 0.1380 - accuracy: 0.9394\n",
      "Epoch 62/150\n",
      "1362/1362 - 76s - loss: 0.1334 - accuracy: 0.9405\n",
      "Epoch 63/150\n",
      "1362/1362 - 76s - loss: 0.1320 - accuracy: 0.9406\n",
      "Epoch 64/150\n",
      "1362/1362 - 76s - loss: 0.1302 - accuracy: 0.9419\n",
      "Epoch 65/150\n",
      "1362/1362 - 76s - loss: 0.1306 - accuracy: 0.9403\n",
      "Epoch 66/150\n",
      "1362/1362 - 76s - loss: 0.1274 - accuracy: 0.9420\n",
      "Epoch 67/150\n",
      "1362/1362 - 76s - loss: 0.1265 - accuracy: 0.9416\n",
      "Epoch 68/150\n",
      "1362/1362 - 76s - loss: 0.1256 - accuracy: 0.9432\n",
      "Epoch 69/150\n",
      "1362/1362 - 76s - loss: 0.1225 - accuracy: 0.9444\n",
      "Epoch 70/150\n",
      "1362/1362 - 76s - loss: 0.1220 - accuracy: 0.9447\n",
      "Epoch 71/150\n",
      "1362/1362 - 76s - loss: 0.1186 - accuracy: 0.9456\n",
      "Epoch 72/150\n",
      "1362/1362 - 76s - loss: 0.1196 - accuracy: 0.9449\n",
      "Epoch 73/150\n",
      "1362/1362 - 76s - loss: 0.1191 - accuracy: 0.9446\n",
      "Epoch 74/150\n",
      "1362/1362 - 76s - loss: 0.1152 - accuracy: 0.9467\n",
      "Epoch 75/150\n",
      "1362/1362 - 76s - loss: 0.1153 - accuracy: 0.9467\n",
      "Epoch 76/150\n",
      "1362/1362 - 76s - loss: 0.1154 - accuracy: 0.9460\n",
      "Epoch 77/150\n",
      "1362/1362 - 76s - loss: 0.1128 - accuracy: 0.9474\n",
      "Epoch 78/150\n",
      "1362/1362 - 76s - loss: 0.1129 - accuracy: 0.9476\n",
      "Epoch 79/150\n",
      "1362/1362 - 76s - loss: 0.1083 - accuracy: 0.9483\n",
      "Epoch 80/150\n",
      "1362/1362 - 76s - loss: 0.1107 - accuracy: 0.9482\n",
      "Epoch 81/150\n",
      "1362/1362 - 76s - loss: 0.1070 - accuracy: 0.9484\n",
      "Epoch 82/150\n",
      "1362/1362 - 76s - loss: 0.1069 - accuracy: 0.9497\n",
      "Epoch 83/150\n",
      "1362/1362 - 76s - loss: 0.1080 - accuracy: 0.9488\n",
      "Epoch 84/150\n",
      "1362/1362 - 76s - loss: 0.1047 - accuracy: 0.9499\n",
      "Epoch 85/150\n",
      "1362/1362 - 76s - loss: 0.1031 - accuracy: 0.9487\n",
      "Epoch 86/150\n",
      "1362/1362 - 76s - loss: 0.1036 - accuracy: 0.9496\n",
      "Epoch 87/150\n",
      "1362/1362 - 76s - loss: 0.1014 - accuracy: 0.9512\n",
      "Epoch 88/150\n",
      "1362/1362 - 76s - loss: 0.1029 - accuracy: 0.9496\n",
      "Epoch 89/150\n",
      "1362/1362 - 76s - loss: 0.0989 - accuracy: 0.9518\n",
      "Epoch 90/150\n",
      "1362/1362 - 76s - loss: 0.0994 - accuracy: 0.9509\n",
      "Epoch 91/150\n",
      "1362/1362 - 76s - loss: 0.0976 - accuracy: 0.9515\n",
      "Epoch 92/150\n",
      "1362/1362 - 76s - loss: 0.0966 - accuracy: 0.9517\n",
      "Epoch 93/150\n",
      "1362/1362 - 76s - loss: 0.0947 - accuracy: 0.9528\n",
      "Epoch 94/150\n",
      "1362/1362 - 76s - loss: 0.0953 - accuracy: 0.9537\n",
      "Epoch 95/150\n",
      "1362/1362 - 76s - loss: 0.0959 - accuracy: 0.9530\n",
      "Epoch 96/150\n",
      "1362/1362 - 76s - loss: 0.0930 - accuracy: 0.9538\n",
      "Epoch 97/150\n",
      "1362/1362 - 76s - loss: 0.0906 - accuracy: 0.9549\n",
      "Epoch 98/150\n",
      "1362/1362 - 76s - loss: 0.0940 - accuracy: 0.9526\n",
      "Epoch 99/150\n",
      "1362/1362 - 76s - loss: 0.0913 - accuracy: 0.9541\n",
      "Epoch 100/150\n",
      "1362/1362 - 76s - loss: 0.0892 - accuracy: 0.9546\n",
      "Epoch 101/150\n",
      "1362/1362 - 76s - loss: 0.0906 - accuracy: 0.9544\n",
      "Epoch 102/150\n",
      "1362/1362 - 76s - loss: 0.0869 - accuracy: 0.9546\n",
      "Epoch 103/150\n",
      "1362/1362 - 76s - loss: 0.0886 - accuracy: 0.9548\n",
      "Epoch 104/150\n",
      "1362/1362 - 76s - loss: 0.0863 - accuracy: 0.9551\n",
      "Epoch 105/150\n",
      "1362/1362 - 76s - loss: 0.0847 - accuracy: 0.9565\n",
      "Epoch 106/150\n",
      "1362/1362 - 76s - loss: 0.0863 - accuracy: 0.9555\n",
      "Epoch 107/150\n",
      "1362/1362 - 77s - loss: 0.0824 - accuracy: 0.9574\n",
      "Epoch 108/150\n",
      "1362/1362 - 77s - loss: 0.0863 - accuracy: 0.9562\n",
      "Epoch 109/150\n",
      "1362/1362 - 76s - loss: 0.0812 - accuracy: 0.9582\n",
      "Epoch 110/150\n",
      "1362/1362 - 76s - loss: 0.0801 - accuracy: 0.9585\n",
      "Epoch 111/150\n",
      "1362/1362 - 76s - loss: 0.0828 - accuracy: 0.9574\n",
      "Epoch 112/150\n",
      "1362/1362 - 76s - loss: 0.0816 - accuracy: 0.9575\n",
      "Epoch 113/150\n",
      "1362/1362 - 77s - loss: 0.0813 - accuracy: 0.9570\n",
      "Epoch 114/150\n",
      "1362/1362 - 76s - loss: 0.0774 - accuracy: 0.9590\n",
      "Epoch 115/150\n",
      "1362/1362 - 76s - loss: 0.0788 - accuracy: 0.9586\n",
      "Epoch 116/150\n",
      "1362/1362 - 76s - loss: 0.0765 - accuracy: 0.9590\n",
      "Epoch 117/150\n",
      "1362/1362 - 76s - loss: 0.0761 - accuracy: 0.9599\n",
      "Epoch 118/150\n",
      "1362/1362 - 76s - loss: 0.0777 - accuracy: 0.9593\n",
      "Epoch 119/150\n",
      "1362/1362 - 76s - loss: 0.0732 - accuracy: 0.9606\n",
      "Epoch 120/150\n",
      "1362/1362 - 76s - loss: 0.0745 - accuracy: 0.9597\n",
      "Epoch 121/150\n",
      "1362/1362 - 76s - loss: 0.0772 - accuracy: 0.9592\n",
      "Epoch 122/150\n",
      "1362/1362 - 76s - loss: 0.0736 - accuracy: 0.9602\n",
      "Epoch 123/150\n",
      "1362/1362 - 76s - loss: 0.0744 - accuracy: 0.9608\n",
      "Epoch 124/150\n",
      "1362/1362 - 76s - loss: 0.0722 - accuracy: 0.9611\n",
      "Epoch 125/150\n",
      "1362/1362 - 76s - loss: 0.0730 - accuracy: 0.9616\n",
      "Epoch 126/150\n",
      "1362/1362 - 76s - loss: 0.0725 - accuracy: 0.9604\n",
      "Epoch 127/150\n",
      "1362/1362 - 76s - loss: 0.0706 - accuracy: 0.9615\n",
      "Epoch 128/150\n",
      "1362/1362 - 76s - loss: 0.0689 - accuracy: 0.9614\n",
      "Epoch 129/150\n",
      "1362/1362 - 76s - loss: 0.0696 - accuracy: 0.9605\n",
      "Epoch 130/150\n",
      "1362/1362 - 77s - loss: 0.0693 - accuracy: 0.9618\n",
      "Epoch 131/150\n",
      "1362/1362 - 76s - loss: 0.0699 - accuracy: 0.9617\n",
      "Epoch 132/150\n",
      "1362/1362 - 76s - loss: 0.0676 - accuracy: 0.9636\n",
      "Epoch 133/150\n",
      "1362/1362 - 76s - loss: 0.0684 - accuracy: 0.9620\n",
      "Epoch 134/150\n",
      "1362/1362 - 76s - loss: 0.0653 - accuracy: 0.9631\n",
      "Epoch 135/150\n",
      "1362/1362 - 76s - loss: 0.0649 - accuracy: 0.9641\n",
      "Epoch 136/150\n",
      "1362/1362 - 76s - loss: 0.0659 - accuracy: 0.9634\n",
      "Epoch 137/150\n",
      "1362/1362 - 76s - loss: 0.0650 - accuracy: 0.9629\n",
      "Epoch 138/150\n",
      "1362/1362 - 76s - loss: 0.0630 - accuracy: 0.9648\n",
      "Epoch 139/150\n",
      "1362/1362 - 76s - loss: 0.0666 - accuracy: 0.9629\n",
      "Epoch 140/150\n",
      "1362/1362 - 76s - loss: 0.0644 - accuracy: 0.9645\n",
      "Epoch 141/150\n",
      "1362/1362 - 76s - loss: 0.0621 - accuracy: 0.9646\n",
      "Epoch 142/150\n",
      "1362/1362 - 76s - loss: 0.0632 - accuracy: 0.9644\n",
      "Epoch 143/150\n",
      "1362/1362 - 76s - loss: 0.0632 - accuracy: 0.9635\n",
      "Epoch 144/150\n",
      "1362/1362 - 76s - loss: 0.0616 - accuracy: 0.9648\n",
      "Epoch 145/150\n",
      "1362/1362 - 76s - loss: 0.0628 - accuracy: 0.9650\n",
      "Epoch 146/150\n",
      "1362/1362 - 76s - loss: 0.0595 - accuracy: 0.9650\n",
      "Epoch 147/150\n",
      "1362/1362 - 76s - loss: 0.0607 - accuracy: 0.9653\n",
      "Epoch 148/150\n",
      "1362/1362 - 76s - loss: 0.0576 - accuracy: 0.9662\n",
      "Epoch 149/150\n",
      "1362/1362 - 76s - loss: 0.0581 - accuracy: 0.9671\n",
      "Epoch 150/150\n",
      "1362/1362 - 76s - loss: 0.0598 - accuracy: 0.9655\n",
      "341/341 - 6s\n",
      "Normalized confusion matrix\n",
      "                  precision    recall  f1-score   support\n",
      "\n",
      "            HEKA       0.95      0.86      0.90      1959\n",
      "  fridge/freezer       0.99      0.98      0.98      1499\n",
      "            HTPC       0.94      0.94      0.94       600\n",
      "          boiler       0.98      0.97      0.98       715\n",
      "computer monitor       0.89      0.95      0.92       835\n",
      "desktop computer       0.93      0.97      0.95       669\n",
      " laptop computer       0.99      0.96      0.98       981\n",
      "           light       0.98      0.98      0.98       600\n",
      "       microwave       0.77      0.91      0.83      1046\n",
      " server computer       0.97      0.97      0.97       397\n",
      "      television       0.95      0.93      0.94      1041\n",
      "    washer dryer       0.99      0.98      0.99       554\n",
      "\n",
      "        accuracy                           0.94     10896\n",
      "       macro avg       0.94      0.95      0.95     10896\n",
      "    weighted avg       0.94      0.94      0.94     10896\n",
      "\n"
     ]
    },
    {
     "name": "stderr",
     "output_type": "stream",
     "text": [
      "2022-02-10 03:13:15.934217: W tensorflow/python/util/util.cc:348] Sets are not currently considered sequences, but this may change in the future, so consider avoiding using them.\n",
      "WARNING:absl:Found untraced functions such as lstm_cell_1_layer_call_and_return_conditional_losses, lstm_cell_1_layer_call_fn, lstm_cell_2_layer_call_and_return_conditional_losses, lstm_cell_2_layer_call_fn, lstm_cell_4_layer_call_and_return_conditional_losses while saving (showing 5 of 20). These functions will not be directly callable after loading.\n"
     ]
    },
    {
     "name": "stdout",
     "output_type": "stream",
     "text": [
      "INFO:tensorflow:Assets written to: /workspace/notebooks/models/BI_LSTM/ukdale_42/assets\n"
     ]
    },
    {
     "name": "stderr",
     "output_type": "stream",
     "text": [
      "INFO:tensorflow:Assets written to: /workspace/notebooks/models/BI_LSTM/ukdale_42/assets\n"
     ]
    },
    {
     "data": {
      "image/png": "[encoded data removed]",
      "text/plain": [
       "<Figure size 720x720 with 2 Axes>"
      ]
     },
     "metadata": {
      "needs_background": "light"
     },
     "output_type": "display_data"
    }
   ],
   "source": [
    "# %%capture cap --no-stderr\n",
    "\n",
    "\n",
    "if environ['train_type'] == \"BB\":\n",
    "\n",
    "    #define generator\n",
    "    train_gen = HDF5ImageGenerator(\n",
    "        src= path_data,\n",
    "        X_key=\"data/train/gaf\",\n",
    "        y_key=\"labels/train/gaf\",\n",
    "        classes_key=\"appliances/classes\",\n",
    "        labels_encoding=\"hot\",\n",
    "        shuffle=True,\n",
    "        batch_size=int(environ['batch_size']),\n",
    "        num_classes=num_of_classes,\n",
    "        mode=\"train\",\n",
    "        )\n",
    "    \n",
    "    model = select_model(environ['learn_type'])\n",
    "    \n",
    "    txt_log.write(\"fitting BB model: \\n\")\n",
    "    \n",
    "    model.fit(\n",
    "        train_gen,\n",
    "        verbose=2,\n",
    "        epochs=int(environ['epochs']),\n",
    "        class_weight=d_class_weights,\n",
    "        callbacks = [save_op_callback],\n",
    "    )\n",
    "    \n",
    "    txt_log.write(\"finished fitting BB model: \\n\")\n",
    "\n",
    "    evaluate_model(model,x_test,y_test,appliances)\n",
    "    \n",
    "    if environ['save_model']==\"True\":\n",
    "\n",
    "        path_model_save = path+\"/models/\"+environ['learn_type']+\"/\"+dataset.split(\"_\")[0]+\"_\"+dataset.split(\"_R\")[1][0:2]\n",
    "        model.save(path_model_save)\n",
    "        txt_log.write(\"model saved to:\"+\"/models/\"+environ['learn_type']+\"/\"+dataset.split(\"_\")[0]+\"_\"+dataset.split(\"_R\")[1][0:2]+\" \\n\")\n",
    "        \n",
    "        \n",
    "# with open(path_save+\"_out_log.txt\" as f:\n",
    "#     f.write(cap.stdout)\n"
   ]
  },
  {
   "cell_type": "code",
   "execution_count": 13,
   "metadata": {
    "collapsed": true,
    "execution": {
     "iopub.execute_input": "2022-02-10T03:13:26.751442Z",
     "iopub.status.busy": "2022-02-10T03:13:26.750402Z",
     "iopub.status.idle": "2022-02-10T03:13:26.752564Z",
     "shell.execute_reply": "2022-02-10T03:13:26.753406Z"
    }
   },
   "outputs": [],
   "source": [
    "#model = keras.models.load_model(path_model1)\n",
    "# model_used = model"
   ]
  },
  {
   "cell_type": "code",
   "execution_count": 14,
   "metadata": {
    "collapsed": true,
    "execution": {
     "iopub.execute_input": "2022-02-10T03:13:26.758483Z",
     "iopub.status.busy": "2022-02-10T03:13:26.757452Z",
     "iopub.status.idle": "2022-02-10T03:13:26.759599Z",
     "shell.execute_reply": "2022-02-10T03:13:26.760468Z"
    },
    "jupyter": {
     "outputs_hidden": true
    },
    "tags": []
   },
   "outputs": [],
   "source": [
    "# evaluate_model(model,x_test,y_test,appliances)"
   ]
  },
  {
   "cell_type": "code",
   "execution_count": 15,
   "metadata": {
    "collapsed": true,
    "execution": {
     "iopub.execute_input": "2022-02-10T03:13:26.778335Z",
     "iopub.status.busy": "2022-02-10T03:13:26.777057Z",
     "iopub.status.idle": "2022-02-10T03:13:26.779628Z",
     "shell.execute_reply": "2022-02-10T03:13:26.780621Z"
    }
   },
   "outputs": [],
   "source": [
    "# datasets =[\n",
    "#     \"ukdale_gen_GASF_13m_100S5X12A54480_R82_80-20\"\n",
    "# ]\n",
    "\n",
    "if environ['train_type'] == \"TL\": \n",
    "    models = environ['tl_datasets'].replace(\" \",\"\").split(\",\")\n",
    "    #model = [\"base\"]\n",
    "    \n",
    "    for model in models:\n",
    "    \n",
    "        file_name = dataset\n",
    "        \n",
    "        datasetTL = model\n",
    "        \n",
    "        seed = dataset.split(\"_R\")[1][0:2]\n",
    "        \n",
    "        print(\"using dataset data\",dataset.split(\"_\")[0],\"training on model\",model,\"seed\",environ['seed'])\n",
    "        txt_log.write(\"starting \"+dataset.split(\"_\")[0]+\" training on model \"+model+\" seed \"+environ['seed']+\"\\n\")\n",
    "\n",
    "\n",
    "        tf.keras.backend.clear_session()\n",
    "\n",
    "\n",
    "        #read the file\n",
    "        path = str(pathlib.Path().resolve())\n",
    "        path_data = f\"{path}\"\"/data/\"f\"{file_name}\"\"/\"f\"{file_name}\"\".hdf5\"\n",
    "        file = h5py.File(path_data,\"r+\")\n",
    "\n",
    "\n",
    "        print(\"reading data, printing stats: \")\n",
    "        x_test,y_test,d_class_weights,num_of_classes,appliances = get_data(file)\n",
    "        print(\"loading model\")\n",
    "        \n",
    "        model_seed = 42\n",
    "        model_used = create_tl_model(model,environ['learn_type'],model_seed,path,num_of_classes)\n",
    "                \n",
    "        train_gen = HDF5ImageGenerator(\n",
    "            src= path_data,\n",
    "            X_key=\"data/train/gaf\",\n",
    "            y_key=\"labels/train/gaf\",\n",
    "            classes_key=\"appliances/classes\",\n",
    "            labels_encoding=\"hot\",\n",
    "            shuffle=True,\n",
    "            batch_size=int(environ['batch_size']),\n",
    "            num_classes=num_of_classes,\n",
    "            mode=\"train\",\n",
    "            )\n",
    "\n",
    "        model_used.fit(\n",
    "            train_gen,\n",
    "            verbose=2,\n",
    "            epochs=int(environ['epochs']),\n",
    "            class_weight=d_class_weights,\n",
    "            callbacks = [save_op_callback]\n",
    "            #workers = 6,\n",
    "        )\n",
    "        \n",
    "        txt_log.write(\"finished \"+dataset.split(\"_\")[0]+\" training on model \"+model+\" seed \"+environ['seed']+\"\\n\")\n",
    "\n",
    "\n",
    "        evaluate_model(model_used,x_test,y_test,appliances)\n",
    "        \n",
    "\n",
    "\n",
    "\n",
    "        #del model_used\n",
    "\n"
   ]
  },
  {
   "cell_type": "code",
   "execution_count": 16,
   "metadata": {
    "execution": {
     "iopub.execute_input": "2022-02-10T03:13:26.786377Z",
     "iopub.status.busy": "2022-02-10T03:13:26.785192Z",
     "iopub.status.idle": "2022-02-10T03:13:26.787654Z",
     "shell.execute_reply": "2022-02-10T03:13:26.788597Z"
    }
   },
   "outputs": [],
   "source": [
    "txt_log.close()"
   ]
  },
  {
   "cell_type": "code",
   "execution_count": null,
   "metadata": {},
   "outputs": [],
   "source": []
  }
 ],
 "metadata": {
  "colab": {
   "authorship_tag": "ABX9TyMej4PvP65qsLng7TnQKWA4",
   "name": "LSTM-gen",
   "provenance": []
  },
  "kernelspec": {
   "display_name": "Python 3 (ipykernel)",
   "language": "python",
   "name": "python3"
  },
  "language_info": {
   "codemirror_mode": {
    "name": "ipython",
    "version": 3
   },
   "file_extension": ".py",
   "mimetype": "text/x-python",
   "name": "python",
   "nbconvert_exporter": "python",
   "pygments_lexer": "ipython3",
   "version": "3.8.10"
  }
 },
 "nbformat": 4,
 "nbformat_minor": 4
}
