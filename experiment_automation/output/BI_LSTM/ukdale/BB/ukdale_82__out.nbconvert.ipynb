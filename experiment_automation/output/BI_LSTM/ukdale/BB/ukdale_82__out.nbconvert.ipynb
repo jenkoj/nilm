{
 "cells": [
  {
   "cell_type": "code",
   "execution_count": 1,
   "metadata": {
    "execution": {
     "iopub.execute_input": "2022-02-10T03:13:53.810867Z",
     "iopub.status.busy": "2022-02-10T03:13:53.809411Z",
     "iopub.status.idle": "2022-02-10T03:13:55.512836Z",
     "shell.execute_reply": "2022-02-10T03:13:55.511587Z"
    },
    "id": "WqUfHWgtJxtu",
    "scrolled": true,
    "tags": []
   },
   "outputs": [
    {
     "name": "stderr",
     "output_type": "stream",
     "text": [
      "2022-02-10 03:13:54.642802: I tensorflow/stream_executor/platform/default/dso_loader.cc:54] Successfully opened dynamic library libcudart.so.11.0\n"
     ]
    },
    {
     "name": "stdout",
     "output_type": "stream",
     "text": [
      "2.5.0\n",
      "Num GPUs Available:  1\n"
     ]
    },
    {
     "name": "stderr",
     "output_type": "stream",
     "text": [
      "2022-02-10 03:13:55.444013: I tensorflow/stream_executor/platform/default/dso_loader.cc:54] Successfully opened dynamic library libcuda.so.1\n",
      "2022-02-10 03:13:55.494300: I tensorflow/core/common_runtime/gpu/gpu_device.cc:1734] Found device 0 with properties: \n",
      "pciBusID: 0000:21:00.0 name: NVIDIA GeForce RTX 2080 Ti computeCapability: 7.5\n",
      "coreClock: 1.545GHz coreCount: 68 deviceMemorySize: 10.76GiB deviceMemoryBandwidth: 573.69GiB/s\n",
      "2022-02-10 03:13:55.494348: I tensorflow/stream_executor/platform/default/dso_loader.cc:54] Successfully opened dynamic library libcudart.so.11.0\n",
      "2022-02-10 03:13:55.498467: I tensorflow/stream_executor/platform/default/dso_loader.cc:54] Successfully opened dynamic library libcublas.so.11\n",
      "2022-02-10 03:13:55.498534: I tensorflow/stream_executor/platform/default/dso_loader.cc:54] Successfully opened dynamic library libcublasLt.so.11\n",
      "2022-02-10 03:13:55.500430: I tensorflow/stream_executor/platform/default/dso_loader.cc:54] Successfully opened dynamic library libcufft.so.10\n",
      "2022-02-10 03:13:55.500706: I tensorflow/stream_executor/platform/default/dso_loader.cc:54] Successfully opened dynamic library libcurand.so.10\n",
      "2022-02-10 03:13:55.501391: I tensorflow/stream_executor/platform/default/dso_loader.cc:54] Successfully opened dynamic library libcutensor.so.1\n",
      "2022-02-10 03:13:55.501824: I tensorflow/stream_executor/platform/default/dso_loader.cc:54] Successfully opened dynamic library libcusolver.so.11\n",
      "2022-02-10 03:13:55.502467: I tensorflow/stream_executor/platform/default/dso_loader.cc:54] Successfully opened dynamic library libcusparse.so.11\n",
      "2022-02-10 03:13:55.502594: I tensorflow/stream_executor/platform/default/dso_loader.cc:54] Successfully opened dynamic library libcudnn.so.8\n",
      "2022-02-10 03:13:55.502951: I tensorflow/core/common_runtime/gpu/gpu_device.cc:1872] Adding visible gpu devices: 0\n"
     ]
    }
   ],
   "source": [
    "import h5py\n",
    "import numpy as np\n",
    "\n",
    "from sklearn.model_selection import train_test_split\n",
    "from sklearn.metrics import classification_report, confusion_matrix\n",
    "import matplotlib.pyplot as plt\n",
    "import itertools \n",
    "import pyts\n",
    "from pyts.approximation import PiecewiseAggregateApproximation\n",
    "\n",
    "from sklearn.utils import class_weight\n",
    "\n",
    "import pathlib\n",
    "import tensorflow as tf\n",
    "from tensorflow import keras\n",
    "from tensorflow.keras import layers, optimizers\n",
    "from tensorflow.keras.layers import Convolution2D,Conv2D, Dense,Dropout, Flatten, Activation, MaxPooling2D, Input, Conv1D, GlobalAveragePooling1D, TimeDistributed, GRU, LSTM\n",
    "\n",
    "print(tf.__version__)\n",
    "print(\"Num GPUs Available: \", len(tf.config.list_physical_devices('GPU')))\n",
    "gpus = tf.config.experimental.list_physical_devices('GPU')\n",
    "\n",
    "try:\n",
    "    for gpu in gpus:\n",
    "        tf.config.experimental.set_memory_growth(gpu, True)\n",
    "except RuntimeError as e:\n",
    "    print(e)"
   ]
  },
  {
   "cell_type": "code",
   "execution_count": 2,
   "metadata": {
    "execution": {
     "iopub.execute_input": "2022-02-10T03:13:55.518797Z",
     "iopub.status.busy": "2022-02-10T03:13:55.517612Z",
     "iopub.status.idle": "2022-02-10T03:13:55.522304Z",
     "shell.execute_reply": "2022-02-10T03:13:55.521398Z"
    }
   },
   "outputs": [
    {
     "name": "stdout",
     "output_type": "stream",
     "text": [
      "ukdale_gen_GASF_13m_100S5X12A54480_R82_80-20\n"
     ]
    }
   ],
   "source": [
    "from os import environ\n",
    "dataset = environ['dataset']\n",
    "print(dataset)"
   ]
  },
  {
   "cell_type": "code",
   "execution_count": 3,
   "metadata": {
    "execution": {
     "iopub.execute_input": "2022-02-10T03:13:55.528345Z",
     "iopub.status.busy": "2022-02-10T03:13:55.527293Z",
     "iopub.status.idle": "2022-02-10T03:13:55.531246Z",
     "shell.execute_reply": "2022-02-10T03:13:55.532127Z"
    }
   },
   "outputs": [],
   "source": [
    "#my defs \n",
    "from modules.models import  LSTM_3D_V56, CNN_V56,LSTM_BI_V56\n",
    "from modules.tools import my_print, plot_confusion_matrix_norm, get_data,get_data_split, evaluate_model, create_tl_model\n",
    "from modules.HDF5ImageGenerator import HDF5ImageGenerator"
   ]
  },
  {
   "cell_type": "code",
   "execution_count": 4,
   "metadata": {
    "execution": {
     "iopub.execute_input": "2022-02-10T03:13:55.541674Z",
     "iopub.status.busy": "2022-02-10T03:13:55.540461Z",
     "iopub.status.idle": "2022-02-10T03:13:55.543264Z",
     "shell.execute_reply": "2022-02-10T03:13:55.544253Z"
    },
    "id": "RT1vwq7-KOtB"
   },
   "outputs": [],
   "source": [
    "#LOAD DATASET\n",
    "#file_name = \"ukdale_gen_GASF_13m_100S5X12A54480\"\n",
    "#file_name = \"refit_gen_GASF_13m_100S5X_15A166006\"\n",
    "file_name = \"refit_gen_GASF_13m_100S5X_15A166006_R42-80-20\"\n",
    "#file_name = \"refit_gen_GASF_13m_100S5X_15A166006_R42_80-20\"\n",
    "file_name = \"refit_gen_GASF_60m_300S0X_15A157030N_R12_80-20-V1\"\n",
    "file_name = environ[\"dataset\"]\n",
    "#read the file\n",
    "path = str(pathlib.Path().resolve())\n",
    "\n",
    "path_data = f\"{path}\"\"/data/\"f\"{file_name}\"\"/\"f\"{file_name}\"\".hdf5\"\n",
    "\n",
    "file = h5py.File(path_data,\"r+\")"
   ]
  },
  {
   "cell_type": "code",
   "execution_count": 5,
   "metadata": {
    "execution": {
     "iopub.execute_input": "2022-02-10T03:13:55.551916Z",
     "iopub.status.busy": "2022-02-10T03:13:55.550740Z",
     "iopub.status.idle": "2022-02-10T03:13:56.658865Z",
     "shell.execute_reply": "2022-02-10T03:13:56.658044Z"
    },
    "scrolled": true
   },
   "outputs": [
    {
     "name": "stdout",
     "output_type": "stream",
     "text": [
      "['HEKA', 'fridge/freezer', 'HTPC', 'boiler', 'computer monitor', 'desktop computer', 'laptop computer', 'light', 'microwave', 'server computer', 'television', 'washer dryer']\n",
      "{0: 0.46362011743681386, 1: 0.6056361514090378, 2: 1.5133333333333334, 3: 1.2690426275331936, 4: 1.0880766926303176, 5: 1.3567426223384385, 6: 0.9253503184713375, 7: 1.5133333333333334, 8: 0.8680688336520076, 9: 2.2857142857142856, 10: 0.8724477540235407, 11: 1.6397291196388262}\n",
      " \n",
      "Tests \n",
      "HEKA test: 1959 train: 7834\n",
      "fridge/freezer test: 1499 train: 5997\n",
      "HTPC test: 600 train: 2400\n",
      "boiler test: 715 train: 2862\n",
      "computer monitor test: 835 train: 3338\n",
      "desktop computer test: 669 train: 2677\n",
      "laptop computer test: 981 train: 3925\n",
      "light test: 600 train: 2400\n",
      "microwave test: 1046 train: 4184\n",
      "server computer test: 397 train: 1589\n",
      "television test: 1041 train: 4163\n",
      "washer dryer test: 554 train: 2215\n"
     ]
    }
   ],
   "source": [
    "x_test,y_test,d_class_weights,num_of_classes,appliances = get_data(file)"
   ]
  },
  {
   "cell_type": "code",
   "execution_count": 6,
   "metadata": {
    "execution": {
     "iopub.execute_input": "2022-02-10T03:13:56.670309Z",
     "iopub.status.busy": "2022-02-10T03:13:56.663280Z",
     "iopub.status.idle": "2022-02-10T03:13:56.673789Z",
     "shell.execute_reply": "2022-02-10T03:13:56.672800Z"
    }
   },
   "outputs": [],
   "source": [
    "def select_model(learn_type):\n",
    "    \n",
    "    if learn_type == \"CNN\":\n",
    "        model = CNN_V56(file[\"data/train/gaf\"][0:10],num_of_classes,lr= 0.00002)\n",
    "\n",
    "    if learn_type == \"LSTM\":\n",
    "        model = LSTM_3D_V56(file[\"data/train/gaf\"][0:10],num_of_classes,lr= 0.00002)\n",
    "\n",
    "    if learn_type == \"BI_LSTM\":\n",
    "        model = LSTM_BI_V56(file[\"data/train/gaf\"][0:10],num_of_classes,lr= 0.00002)\n",
    "\n",
    "    return model\n",
    "              "
   ]
  },
  {
   "cell_type": "code",
   "execution_count": 7,
   "metadata": {
    "execution": {
     "iopub.execute_input": "2022-02-10T03:13:56.683101Z",
     "iopub.status.busy": "2022-02-10T03:13:56.681899Z",
     "iopub.status.idle": "2022-02-10T03:13:56.684385Z",
     "shell.execute_reply": "2022-02-10T03:13:56.685348Z"
    }
   },
   "outputs": [],
   "source": [
    "path_save = path+'/experiment_automation/output/'+environ['learn_type']+'/'+dataset.split(\"_\")[0]+\"/\"+environ['train_type']+\"/\"+dataset.split(\"_\")[0]+\"_\"+environ['seed']+\"_\"+environ['tl_datasets']\n",
    "path_save_nb = path_save+\"_out.ipynb\"\n",
    "path_save_log = path_save+\"_out_log2.txt\""
   ]
  },
  {
   "cell_type": "code",
   "execution_count": 8,
   "metadata": {
    "execution": {
     "iopub.execute_input": "2022-02-10T03:13:56.695333Z",
     "iopub.status.busy": "2022-02-10T03:13:56.694257Z",
     "iopub.status.idle": "2022-02-10T03:13:56.803487Z",
     "shell.execute_reply": "2022-02-10T03:13:56.804463Z"
    }
   },
   "outputs": [],
   "source": [
    "from keras.callbacks import LambdaCallback\n",
    "#path_log= path+'/experiment_automation/output/'+environ['learn_type']+'/'+dataset.split(\"_\")[0]+\"/\"+environ['train_type']+\"/\"+dataset.split(\"_\")[0]+\"_\"+environ['seed']+\"_\"+environ['tl_datasets']+\"_log.txt\"\n",
    "txt_log = open(path_save+\"_log.txt\", mode='wt', buffering=1)\n",
    "txt_log.write(\"file created! \\n\")\n",
    "\n",
    "save_op_callback = LambdaCallback(\n",
    "  on_epoch_end = lambda epoch, logs: txt_log.write(\n",
    "    str({'epoch': epoch, 'loss': logs['loss'],'acc': logs['accuracy']}) + '\\n'),\n",
    "                                                           \n",
    ")"
   ]
  },
  {
   "cell_type": "code",
   "execution_count": 9,
   "metadata": {
    "execution": {
     "iopub.execute_input": "2022-02-10T03:13:56.810173Z",
     "iopub.status.busy": "2022-02-10T03:13:56.808974Z",
     "iopub.status.idle": "2022-02-10T03:13:56.814009Z",
     "shell.execute_reply": "2022-02-10T03:13:56.812961Z"
    }
   },
   "outputs": [
    {
     "name": "stdout",
     "output_type": "stream",
     "text": [
      "/workspace/notebooks/experiment_automation/output/BI_LSTM/ukdale/BB/ukdale_82__out.ipynb\n"
     ]
    }
   ],
   "source": [
    "print(path_save_nb)"
   ]
  },
  {
   "cell_type": "code",
   "execution_count": 10,
   "metadata": {
    "execution": {
     "iopub.execute_input": "2022-02-10T03:13:56.819268Z",
     "iopub.status.busy": "2022-02-10T03:13:56.818100Z",
     "iopub.status.idle": "2022-02-10T03:13:56.820544Z",
     "shell.execute_reply": "2022-02-10T03:13:56.821502Z"
    }
   },
   "outputs": [],
   "source": [
    "# rm $path_save_log"
   ]
  },
  {
   "cell_type": "code",
   "execution_count": 11,
   "metadata": {
    "execution": {
     "iopub.execute_input": "2022-02-10T03:13:56.826657Z",
     "iopub.status.busy": "2022-02-10T03:13:56.825699Z",
     "iopub.status.idle": "2022-02-10T03:13:56.827964Z",
     "shell.execute_reply": "2022-02-10T03:13:56.828767Z"
    }
   },
   "outputs": [],
   "source": [
    "# %%capture cap \n",
    "\n",
    "# with open(path_save_log,\"wt\") as f:\n",
    "#     f.write(cap.stdout)\n",
    "    \n",
    "# print(\"out capture..\")"
   ]
  },
  {
   "cell_type": "code",
   "execution_count": 12,
   "metadata": {
    "execution": {
     "iopub.execute_input": "2022-02-10T03:13:56.844452Z",
     "iopub.status.busy": "2022-02-10T03:13:56.843205Z",
     "iopub.status.idle": "2022-02-10T06:26:17.965428Z",
     "shell.execute_reply": "2022-02-10T06:26:17.965772Z"
    },
    "id": "vqA9NwOqKrb5",
    "jupyter": {
     "outputs_hidden": true
    },
    "tags": []
   },
   "outputs": [
    {
     "name": "stdout",
     "output_type": "stream",
     "text": [
      "Normal way\n",
      "[0 1 2 3 4 5 6 7 8 9]\n"
     ]
    },
    {
     "name": "stderr",
     "output_type": "stream",
     "text": [
      "2022-02-10 03:13:56.858102: I tensorflow/core/common_runtime/gpu/gpu_device.cc:1734] Found device 0 with properties: \n",
      "pciBusID: 0000:21:00.0 name: NVIDIA GeForce RTX 2080 Ti computeCapability: 7.5\n",
      "coreClock: 1.545GHz coreCount: 68 deviceMemorySize: 10.76GiB deviceMemoryBandwidth: 573.69GiB/s\n",
      "2022-02-10 03:13:56.858457: I tensorflow/core/common_runtime/gpu/gpu_device.cc:1872] Adding visible gpu devices: 0\n",
      "2022-02-10 03:13:56.858519: I tensorflow/stream_executor/platform/default/dso_loader.cc:54] Successfully opened dynamic library libcudart.so.11.0\n",
      "2022-02-10 03:13:57.228784: I tensorflow/core/common_runtime/gpu/gpu_device.cc:1258] Device interconnect StreamExecutor with strength 1 edge matrix:\n",
      "2022-02-10 03:13:57.228820: I tensorflow/core/common_runtime/gpu/gpu_device.cc:1264]      0 \n",
      "2022-02-10 03:13:57.228827: I tensorflow/core/common_runtime/gpu/gpu_device.cc:1277] 0:   N \n",
      "2022-02-10 03:13:57.229410: I tensorflow/core/common_runtime/gpu/gpu_device.cc:1418] Created TensorFlow device (/job:localhost/replica:0/task:0/device:GPU:0 with 9649 MB memory) -> physical GPU (device: 0, name: NVIDIA GeForce RTX 2080 Ti, pci bus id: 0000:21:00.0, compute capability: 7.5)\n",
      "2022-02-10 03:13:57.229738: I tensorflow/core/common_runtime/process_util.cc:146] Creating new thread pool with default inter op setting: 20. Tune using inter_op_parallelism_threads for best performance.\n"
     ]
    },
    {
     "name": "stdout",
     "output_type": "stream",
     "text": [
      "WARNING:tensorflow:From /usr/local/lib/python3.8/dist-packages/tensorflow/python/ops/array_ops.py:5043: calling gather (from tensorflow.python.ops.array_ops) with validate_indices is deprecated and will be removed in a future version.\n",
      "Instructions for updating:\n",
      "The `validate_indices` argument has no effect. Indices are always validated on CPU and never validated on GPU.\n",
      "Epoch 1/150\n"
     ]
    },
    {
     "name": "stderr",
     "output_type": "stream",
     "text": [
      "2022-02-10 03:13:58.017609: I tensorflow/compiler/mlir/mlir_graph_optimization_pass.cc:176] None of the MLIR Optimization Passes are enabled (registered 2)\n",
      "2022-02-10 03:13:58.036485: I tensorflow/core/platform/profile_utils/cpu_utils.cc:114] CPU Frequency: 3299990000 Hz\n",
      "2022-02-10 03:14:01.573809: I tensorflow/stream_executor/platform/default/dso_loader.cc:54] Successfully opened dynamic library libcudnn.so.8\n",
      "2022-02-10 03:14:02.074443: I tensorflow/stream_executor/cuda/cuda_dnn.cc:380] Loaded cuDNN version 8202\n",
      "2022-02-10 03:14:02.565162: I tensorflow/stream_executor/platform/default/dso_loader.cc:54] Successfully opened dynamic library libcublas.so.11\n",
      "2022-02-10 03:14:02.978992: I tensorflow/stream_executor/platform/default/dso_loader.cc:54] Successfully opened dynamic library libcublasLt.so.11\n"
     ]
    },
    {
     "name": "stdout",
     "output_type": "stream",
     "text": [
      "1362/1362 - 83s - loss: 1.7682 - accuracy: 0.4696\n",
      "Epoch 2/150\n",
      "1362/1362 - 77s - loss: 0.9339 - accuracy: 0.6745\n",
      "Epoch 3/150\n",
      "1362/1362 - 77s - loss: 0.6905 - accuracy: 0.7454\n",
      "Epoch 4/150\n",
      "1362/1362 - 77s - loss: 0.5913 - accuracy: 0.7863\n",
      "Epoch 5/150\n",
      "1362/1362 - 77s - loss: 0.5214 - accuracy: 0.8212\n",
      "Epoch 6/150\n",
      "1362/1362 - 77s - loss: 0.4719 - accuracy: 0.8388\n",
      "Epoch 7/150\n",
      "1362/1362 - 77s - loss: 0.4330 - accuracy: 0.8522\n",
      "Epoch 8/150\n",
      "1362/1362 - 77s - loss: 0.4040 - accuracy: 0.8624\n",
      "Epoch 9/150\n",
      "1362/1362 - 77s - loss: 0.3821 - accuracy: 0.8690\n",
      "Epoch 10/150\n",
      "1362/1362 - 76s - loss: 0.3609 - accuracy: 0.8740\n",
      "Epoch 11/150\n",
      "1362/1362 - 77s - loss: 0.3436 - accuracy: 0.8787\n",
      "Epoch 12/150\n",
      "1362/1362 - 77s - loss: 0.3261 - accuracy: 0.8862\n",
      "Epoch 13/150\n",
      "1362/1362 - 77s - loss: 0.3147 - accuracy: 0.8865\n",
      "Epoch 14/150\n",
      "1362/1362 - 77s - loss: 0.3023 - accuracy: 0.8916\n",
      "Epoch 15/150\n",
      "1362/1362 - 77s - loss: 0.2899 - accuracy: 0.8953\n",
      "Epoch 16/150\n",
      "1362/1362 - 77s - loss: 0.2797 - accuracy: 0.8995\n",
      "Epoch 17/150\n",
      "1362/1362 - 77s - loss: 0.2740 - accuracy: 0.9009\n",
      "Epoch 18/150\n",
      "1362/1362 - 77s - loss: 0.2655 - accuracy: 0.9039\n",
      "Epoch 19/150\n",
      "1362/1362 - 77s - loss: 0.2576 - accuracy: 0.9053\n",
      "Epoch 20/150\n",
      "1362/1362 - 77s - loss: 0.2501 - accuracy: 0.9069\n",
      "Epoch 21/150\n",
      "1362/1362 - 77s - loss: 0.2432 - accuracy: 0.9093\n",
      "Epoch 22/150\n",
      "1362/1362 - 77s - loss: 0.2362 - accuracy: 0.9104\n",
      "Epoch 23/150\n",
      "1362/1362 - 77s - loss: 0.2341 - accuracy: 0.9113\n",
      "Epoch 24/150\n",
      "1362/1362 - 77s - loss: 0.2265 - accuracy: 0.9123\n",
      "Epoch 25/150\n",
      "1362/1362 - 77s - loss: 0.2223 - accuracy: 0.9154\n",
      "Epoch 26/150\n",
      "1362/1362 - 77s - loss: 0.2168 - accuracy: 0.9173\n",
      "Epoch 27/150\n",
      "1362/1362 - 77s - loss: 0.2130 - accuracy: 0.9179\n",
      "Epoch 28/150\n",
      "1362/1362 - 77s - loss: 0.2073 - accuracy: 0.9189\n",
      "Epoch 29/150\n",
      "1362/1362 - 77s - loss: 0.2043 - accuracy: 0.9199\n",
      "Epoch 30/150\n",
      "1362/1362 - 77s - loss: 0.2020 - accuracy: 0.9207\n",
      "Epoch 31/150\n",
      "1362/1362 - 77s - loss: 0.1959 - accuracy: 0.9225\n",
      "Epoch 32/150\n",
      "1362/1362 - 77s - loss: 0.1924 - accuracy: 0.9247\n",
      "Epoch 33/150\n",
      "1362/1362 - 77s - loss: 0.1885 - accuracy: 0.9248\n",
      "Epoch 34/150\n",
      "1362/1362 - 77s - loss: 0.1872 - accuracy: 0.9246\n",
      "Epoch 35/150\n",
      "1362/1362 - 77s - loss: 0.1837 - accuracy: 0.9277\n",
      "Epoch 36/150\n",
      "1362/1362 - 77s - loss: 0.1798 - accuracy: 0.9279\n",
      "Epoch 37/150\n",
      "1362/1362 - 77s - loss: 0.1775 - accuracy: 0.9303\n",
      "Epoch 38/150\n",
      "1362/1362 - 77s - loss: 0.1736 - accuracy: 0.9288\n",
      "Epoch 39/150\n",
      "1362/1362 - 77s - loss: 0.1728 - accuracy: 0.9294\n",
      "Epoch 40/150\n",
      "1362/1362 - 77s - loss: 0.1692 - accuracy: 0.9311\n",
      "Epoch 41/150\n",
      "1362/1362 - 77s - loss: 0.1676 - accuracy: 0.9306\n",
      "Epoch 42/150\n",
      "1362/1362 - 77s - loss: 0.1645 - accuracy: 0.9319\n",
      "Epoch 43/150\n",
      "1362/1362 - 77s - loss: 0.1620 - accuracy: 0.9331\n",
      "Epoch 44/150\n",
      "1362/1362 - 77s - loss: 0.1607 - accuracy: 0.9325\n",
      "Epoch 45/150\n",
      "1362/1362 - 77s - loss: 0.1549 - accuracy: 0.9345\n",
      "Epoch 46/150\n",
      "1362/1362 - 77s - loss: 0.1545 - accuracy: 0.9352\n",
      "Epoch 47/150\n",
      "1362/1362 - 77s - loss: 0.1497 - accuracy: 0.9361\n",
      "Epoch 48/150\n",
      "1362/1362 - 77s - loss: 0.1472 - accuracy: 0.9369\n",
      "Epoch 49/150\n",
      "1362/1362 - 77s - loss: 0.1489 - accuracy: 0.9363\n",
      "Epoch 50/150\n",
      "1362/1362 - 77s - loss: 0.1449 - accuracy: 0.9375\n",
      "Epoch 51/150\n",
      "1362/1362 - 77s - loss: 0.1430 - accuracy: 0.9377\n",
      "Epoch 52/150\n",
      "1362/1362 - 77s - loss: 0.1428 - accuracy: 0.9375\n",
      "Epoch 53/150\n",
      "1362/1362 - 77s - loss: 0.1409 - accuracy: 0.9389\n",
      "Epoch 54/150\n",
      "1362/1362 - 77s - loss: 0.1376 - accuracy: 0.9413\n",
      "Epoch 55/150\n",
      "1362/1362 - 77s - loss: 0.1392 - accuracy: 0.9394\n",
      "Epoch 56/150\n",
      "1362/1362 - 77s - loss: 0.1343 - accuracy: 0.9411\n",
      "Epoch 57/150\n",
      "1362/1362 - 77s - loss: 0.1326 - accuracy: 0.9414\n",
      "Epoch 58/150\n",
      "1362/1362 - 77s - loss: 0.1327 - accuracy: 0.9423\n",
      "Epoch 59/150\n",
      "1362/1362 - 77s - loss: 0.1278 - accuracy: 0.9431\n",
      "Epoch 60/150\n",
      "1362/1362 - 77s - loss: 0.1266 - accuracy: 0.9435\n",
      "Epoch 61/150\n",
      "1362/1362 - 77s - loss: 0.1285 - accuracy: 0.9419\n",
      "Epoch 62/150\n",
      "1362/1362 - 77s - loss: 0.1228 - accuracy: 0.9440\n",
      "Epoch 63/150\n",
      "1362/1362 - 77s - loss: 0.1250 - accuracy: 0.9437\n",
      "Epoch 64/150\n",
      "1362/1362 - 77s - loss: 0.1204 - accuracy: 0.9463\n",
      "Epoch 65/150\n",
      "1362/1362 - 77s - loss: 0.1212 - accuracy: 0.9451\n",
      "Epoch 66/150\n",
      "1362/1362 - 77s - loss: 0.1167 - accuracy: 0.9454\n",
      "Epoch 67/150\n",
      "1362/1362 - 77s - loss: 0.1179 - accuracy: 0.9456\n",
      "Epoch 68/150\n",
      "1362/1362 - 77s - loss: 0.1154 - accuracy: 0.9477\n",
      "Epoch 69/150\n",
      "1362/1362 - 77s - loss: 0.1141 - accuracy: 0.9469\n",
      "Epoch 70/150\n",
      "1362/1362 - 77s - loss: 0.1120 - accuracy: 0.9477\n",
      "Epoch 71/150\n",
      "1362/1362 - 77s - loss: 0.1114 - accuracy: 0.9478\n",
      "Epoch 72/150\n",
      "1362/1362 - 77s - loss: 0.1105 - accuracy: 0.9497\n",
      "Epoch 73/150\n",
      "1362/1362 - 77s - loss: 0.1092 - accuracy: 0.9494\n",
      "Epoch 74/150\n",
      "1362/1362 - 77s - loss: 0.1076 - accuracy: 0.9502\n",
      "Epoch 75/150\n",
      "1362/1362 - 77s - loss: 0.1065 - accuracy: 0.9500\n",
      "Epoch 76/150\n",
      "1362/1362 - 77s - loss: 0.1059 - accuracy: 0.9504\n",
      "Epoch 77/150\n",
      "1362/1362 - 77s - loss: 0.1045 - accuracy: 0.9515\n",
      "Epoch 78/150\n",
      "1362/1362 - 77s - loss: 0.1016 - accuracy: 0.9511\n",
      "Epoch 79/150\n",
      "1362/1362 - 77s - loss: 0.1024 - accuracy: 0.9518\n",
      "Epoch 80/150\n",
      "1362/1362 - 77s - loss: 0.0991 - accuracy: 0.9540\n",
      "Epoch 81/150\n",
      "1362/1362 - 77s - loss: 0.0993 - accuracy: 0.9533\n",
      "Epoch 82/150\n",
      "1362/1362 - 77s - loss: 0.0991 - accuracy: 0.9520\n",
      "Epoch 83/150\n",
      "1362/1362 - 77s - loss: 0.0976 - accuracy: 0.9531\n",
      "Epoch 84/150\n",
      "1362/1362 - 77s - loss: 0.0973 - accuracy: 0.9519\n",
      "Epoch 85/150\n",
      "1362/1362 - 77s - loss: 0.0958 - accuracy: 0.9538\n",
      "Epoch 86/150\n",
      "1362/1362 - 77s - loss: 0.0937 - accuracy: 0.9550\n",
      "Epoch 87/150\n",
      "1362/1362 - 77s - loss: 0.0940 - accuracy: 0.9544\n",
      "Epoch 88/150\n",
      "1362/1362 - 77s - loss: 0.0917 - accuracy: 0.9545\n",
      "Epoch 89/150\n",
      "1362/1362 - 77s - loss: 0.0916 - accuracy: 0.9555\n",
      "Epoch 90/150\n",
      "1362/1362 - 77s - loss: 0.0925 - accuracy: 0.9543\n",
      "Epoch 91/150\n",
      "1362/1362 - 77s - loss: 0.0918 - accuracy: 0.9551\n",
      "Epoch 92/150\n",
      "1362/1362 - 77s - loss: 0.0890 - accuracy: 0.9560\n",
      "Epoch 93/150\n",
      "1362/1362 - 77s - loss: 0.0871 - accuracy: 0.9568\n",
      "Epoch 94/150\n",
      "1362/1362 - 77s - loss: 0.0884 - accuracy: 0.9565\n",
      "Epoch 95/150\n",
      "1362/1362 - 77s - loss: 0.0868 - accuracy: 0.9559\n",
      "Epoch 96/150\n",
      "1362/1362 - 77s - loss: 0.0858 - accuracy: 0.9568\n",
      "Epoch 97/150\n",
      "1362/1362 - 77s - loss: 0.0852 - accuracy: 0.9576\n",
      "Epoch 98/150\n",
      "1362/1362 - 77s - loss: 0.0837 - accuracy: 0.9579\n",
      "Epoch 99/150\n",
      "1362/1362 - 77s - loss: 0.0812 - accuracy: 0.9590\n",
      "Epoch 100/150\n",
      "1362/1362 - 77s - loss: 0.0834 - accuracy: 0.9582\n",
      "Epoch 101/150\n",
      "1362/1362 - 77s - loss: 0.0823 - accuracy: 0.9582\n",
      "Epoch 102/150\n",
      "1362/1362 - 77s - loss: 0.0797 - accuracy: 0.9593\n",
      "Epoch 103/150\n",
      "1362/1362 - 77s - loss: 0.0801 - accuracy: 0.9594\n",
      "Epoch 104/150\n",
      "1362/1362 - 77s - loss: 0.0776 - accuracy: 0.9592\n",
      "Epoch 105/150\n",
      "1362/1362 - 77s - loss: 0.0789 - accuracy: 0.9599\n",
      "Epoch 106/150\n",
      "1362/1362 - 77s - loss: 0.0767 - accuracy: 0.9604\n",
      "Epoch 107/150\n",
      "1362/1362 - 77s - loss: 0.0775 - accuracy: 0.9596\n",
      "Epoch 108/150\n",
      "1362/1362 - 77s - loss: 0.0766 - accuracy: 0.9603\n",
      "Epoch 109/150\n",
      "1362/1362 - 77s - loss: 0.0769 - accuracy: 0.9607\n",
      "Epoch 110/150\n",
      "1362/1362 - 77s - loss: 0.0741 - accuracy: 0.9610\n",
      "Epoch 111/150\n",
      "1362/1362 - 77s - loss: 0.0736 - accuracy: 0.9608\n",
      "Epoch 112/150\n",
      "1362/1362 - 77s - loss: 0.0743 - accuracy: 0.9611\n",
      "Epoch 113/150\n",
      "1362/1362 - 77s - loss: 0.0717 - accuracy: 0.9624\n",
      "Epoch 114/150\n",
      "1362/1362 - 77s - loss: 0.0719 - accuracy: 0.9620\n",
      "Epoch 115/150\n",
      "1362/1362 - 77s - loss: 0.0716 - accuracy: 0.9622\n",
      "Epoch 116/150\n",
      "1362/1362 - 77s - loss: 0.0695 - accuracy: 0.9635\n",
      "Epoch 117/150\n",
      "1362/1362 - 77s - loss: 0.0704 - accuracy: 0.9635\n",
      "Epoch 118/150\n",
      "1362/1362 - 77s - loss: 0.0684 - accuracy: 0.9621\n",
      "Epoch 119/150\n",
      "1362/1362 - 77s - loss: 0.0681 - accuracy: 0.9627\n",
      "Epoch 120/150\n",
      "1362/1362 - 77s - loss: 0.0685 - accuracy: 0.9632\n",
      "Epoch 121/150\n",
      "1362/1362 - 77s - loss: 0.0678 - accuracy: 0.9634\n",
      "Epoch 122/150\n",
      "1362/1362 - 77s - loss: 0.0665 - accuracy: 0.9634\n",
      "Epoch 123/150\n",
      "1362/1362 - 77s - loss: 0.0654 - accuracy: 0.9646\n",
      "Epoch 124/150\n",
      "1362/1362 - 77s - loss: 0.0665 - accuracy: 0.9644\n",
      "Epoch 125/150\n",
      "1362/1362 - 77s - loss: 0.0653 - accuracy: 0.9644\n",
      "Epoch 126/150\n",
      "1362/1362 - 77s - loss: 0.0658 - accuracy: 0.9638\n",
      "Epoch 127/150\n",
      "1362/1362 - 77s - loss: 0.0635 - accuracy: 0.9642\n",
      "Epoch 128/150\n",
      "1362/1362 - 77s - loss: 0.0625 - accuracy: 0.9650\n",
      "Epoch 129/150\n",
      "1362/1362 - 77s - loss: 0.0649 - accuracy: 0.9646\n",
      "Epoch 130/150\n",
      "1362/1362 - 77s - loss: 0.0620 - accuracy: 0.9653\n",
      "Epoch 131/150\n",
      "1362/1362 - 77s - loss: 0.0636 - accuracy: 0.9660\n",
      "Epoch 132/150\n",
      "1362/1362 - 77s - loss: 0.0594 - accuracy: 0.9666\n",
      "Epoch 133/150\n",
      "1362/1362 - 77s - loss: 0.0602 - accuracy: 0.9663\n",
      "Epoch 134/150\n",
      "1362/1362 - 77s - loss: 0.0613 - accuracy: 0.9663\n",
      "Epoch 135/150\n",
      "1362/1362 - 77s - loss: 0.0602 - accuracy: 0.9663\n",
      "Epoch 136/150\n",
      "1362/1362 - 77s - loss: 0.0602 - accuracy: 0.9664\n",
      "Epoch 137/150\n",
      "1362/1362 - 77s - loss: 0.0576 - accuracy: 0.9674\n",
      "Epoch 138/150\n",
      "1362/1362 - 77s - loss: 0.0591 - accuracy: 0.9660\n",
      "Epoch 139/150\n",
      "1362/1362 - 77s - loss: 0.0586 - accuracy: 0.9668\n",
      "Epoch 140/150\n",
      "1362/1362 - 77s - loss: 0.0563 - accuracy: 0.9670\n",
      "Epoch 141/150\n",
      "1362/1362 - 77s - loss: 0.0578 - accuracy: 0.9675\n",
      "Epoch 142/150\n",
      "1362/1362 - 77s - loss: 0.0581 - accuracy: 0.9672\n",
      "Epoch 143/150\n",
      "1362/1362 - 77s - loss: 0.0546 - accuracy: 0.9682\n",
      "Epoch 144/150\n",
      "1362/1362 - 77s - loss: 0.0552 - accuracy: 0.9681\n",
      "Epoch 145/150\n",
      "1362/1362 - 77s - loss: 0.0540 - accuracy: 0.9681\n",
      "Epoch 146/150\n",
      "1362/1362 - 77s - loss: 0.0553 - accuracy: 0.9684\n",
      "Epoch 147/150\n",
      "1362/1362 - 77s - loss: 0.0536 - accuracy: 0.9691\n",
      "Epoch 148/150\n",
      "1362/1362 - 77s - loss: 0.0543 - accuracy: 0.9692\n",
      "Epoch 149/150\n",
      "1362/1362 - 77s - loss: 0.0536 - accuracy: 0.9689\n",
      "Epoch 150/150\n",
      "1362/1362 - 77s - loss: 0.0532 - accuracy: 0.9691\n",
      "341/341 - 6s\n",
      "Normalized confusion matrix\n",
      "                  precision    recall  f1-score   support\n",
      "\n",
      "            HEKA       0.95      0.88      0.91      1959\n",
      "  fridge/freezer       0.98      0.99      0.98      1499\n",
      "            HTPC       0.92      0.94      0.93       600\n",
      "          boiler       0.98      0.97      0.97       715\n",
      "computer monitor       0.89      0.93      0.91       835\n",
      "desktop computer       0.91      0.98      0.95       669\n",
      " laptop computer       0.99      0.97      0.98       981\n",
      "           light       0.98      0.97      0.98       600\n",
      "       microwave       0.80      0.91      0.85      1046\n",
      " server computer       0.97      0.98      0.97       397\n",
      "      television       0.98      0.92      0.95      1041\n",
      "    washer dryer       0.99      0.99      0.99       554\n",
      "\n",
      "        accuracy                           0.94     10896\n",
      "       macro avg       0.95      0.95      0.95     10896\n",
      "    weighted avg       0.94      0.94      0.94     10896\n",
      "\n"
     ]
    },
    {
     "name": "stderr",
     "output_type": "stream",
     "text": [
      "2022-02-10 06:26:07.116675: W tensorflow/python/util/util.cc:348] Sets are not currently considered sequences, but this may change in the future, so consider avoiding using them.\n",
      "WARNING:absl:Found untraced functions such as lstm_cell_1_layer_call_and_return_conditional_losses, lstm_cell_1_layer_call_fn, lstm_cell_2_layer_call_and_return_conditional_losses, lstm_cell_2_layer_call_fn, lstm_cell_4_layer_call_and_return_conditional_losses while saving (showing 5 of 20). These functions will not be directly callable after loading.\n"
     ]
    },
    {
     "name": "stdout",
     "output_type": "stream",
     "text": [
      "INFO:tensorflow:Assets written to: /workspace/notebooks/models/BI_LSTM/ukdale_82/assets\n"
     ]
    },
    {
     "name": "stderr",
     "output_type": "stream",
     "text": [
      "INFO:tensorflow:Assets written to: /workspace/notebooks/models/BI_LSTM/ukdale_82/assets\n"
     ]
    },
    {
     "data": {
      "image/png": "[encoded data removed]",
      "text/plain": [
       "<Figure size 720x720 with 2 Axes>"
      ]
     },
     "metadata": {
      "needs_background": "light"
     },
     "output_type": "display_data"
    }
   ],
   "source": [
    "# %%capture cap --no-stderr\n",
    "\n",
    "\n",
    "if environ['train_type'] == \"BB\":\n",
    "\n",
    "    #define generator\n",
    "    train_gen = HDF5ImageGenerator(\n",
    "        src= path_data,\n",
    "        X_key=\"data/train/gaf\",\n",
    "        y_key=\"labels/train/gaf\",\n",
    "        classes_key=\"appliances/classes\",\n",
    "        labels_encoding=\"hot\",\n",
    "        shuffle=True,\n",
    "        batch_size=int(environ['batch_size']),\n",
    "        num_classes=num_of_classes,\n",
    "        mode=\"train\",\n",
    "        )\n",
    "    \n",
    "    model = select_model(environ['learn_type'])\n",
    "    \n",
    "    txt_log.write(\"fitting BB model: \\n\")\n",
    "    \n",
    "    model.fit(\n",
    "        train_gen,\n",
    "        verbose=2,\n",
    "        epochs=int(environ['epochs']),\n",
    "        class_weight=d_class_weights,\n",
    "        callbacks = [save_op_callback],\n",
    "    )\n",
    "    \n",
    "    txt_log.write(\"finished fitting BB model: \\n\")\n",
    "\n",
    "    evaluate_model(model,x_test,y_test,appliances)\n",
    "    \n",
    "    if environ['save_model']==\"True\":\n",
    "\n",
    "        path_model_save = path+\"/models/\"+environ['learn_type']+\"/\"+dataset.split(\"_\")[0]+\"_\"+dataset.split(\"_R\")[1][0:2]\n",
    "        model.save(path_model_save)\n",
    "        txt_log.write(\"model saved to:\"+\"/models/\"+environ['learn_type']+\"/\"+dataset.split(\"_\")[0]+\"_\"+dataset.split(\"_R\")[1][0:2]+\" \\n\")\n",
    "        \n",
    "        \n",
    "# with open(path_save+\"_out_log.txt\" as f:\n",
    "#     f.write(cap.stdout)\n"
   ]
  },
  {
   "cell_type": "code",
   "execution_count": 13,
   "metadata": {
    "collapsed": true,
    "execution": {
     "iopub.execute_input": "2022-02-10T06:26:17.971148Z",
     "iopub.status.busy": "2022-02-10T06:26:17.970759Z",
     "iopub.status.idle": "2022-02-10T06:26:17.973692Z",
     "shell.execute_reply": "2022-02-10T06:26:17.974035Z"
    }
   },
   "outputs": [],
   "source": [
    "#model = keras.models.load_model(path_model1)\n",
    "# model_used = model"
   ]
  },
  {
   "cell_type": "code",
   "execution_count": 14,
   "metadata": {
    "collapsed": true,
    "execution": {
     "iopub.execute_input": "2022-02-10T06:26:17.979496Z",
     "iopub.status.busy": "2022-02-10T06:26:17.978975Z",
     "iopub.status.idle": "2022-02-10T06:26:17.981886Z",
     "shell.execute_reply": "2022-02-10T06:26:17.982314Z"
    },
    "jupyter": {
     "outputs_hidden": true
    },
    "tags": []
   },
   "outputs": [],
   "source": [
    "# evaluate_model(model,x_test,y_test,appliances)"
   ]
  },
  {
   "cell_type": "code",
   "execution_count": 15,
   "metadata": {
    "collapsed": true,
    "execution": {
     "iopub.execute_input": "2022-02-10T06:26:18.005520Z",
     "iopub.status.busy": "2022-02-10T06:26:18.004233Z",
     "iopub.status.idle": "2022-02-10T06:26:18.006802Z",
     "shell.execute_reply": "2022-02-10T06:26:18.007773Z"
    }
   },
   "outputs": [],
   "source": [
    "# datasets =[\n",
    "#     \"ukdale_gen_GASF_13m_100S5X12A54480_R82_80-20\"\n",
    "# ]\n",
    "\n",
    "if environ['train_type'] == \"TL\": \n",
    "    models = environ['tl_datasets'].replace(\" \",\"\").split(\",\")\n",
    "    #model = [\"base\"]\n",
    "    \n",
    "    for model in models:\n",
    "    \n",
    "        file_name = dataset\n",
    "        \n",
    "        datasetTL = model\n",
    "        \n",
    "        seed = dataset.split(\"_R\")[1][0:2]\n",
    "        \n",
    "        print(\"using dataset data\",dataset.split(\"_\")[0],\"training on model\",model,\"seed\",environ['seed'])\n",
    "        txt_log.write(\"starting \"+dataset.split(\"_\")[0]+\" training on model \"+model+\" seed \"+environ['seed']+\"\\n\")\n",
    "\n",
    "\n",
    "        tf.keras.backend.clear_session()\n",
    "\n",
    "\n",
    "        #read the file\n",
    "        path = str(pathlib.Path().resolve())\n",
    "        path_data = f\"{path}\"\"/data/\"f\"{file_name}\"\"/\"f\"{file_name}\"\".hdf5\"\n",
    "        file = h5py.File(path_data,\"r+\")\n",
    "\n",
    "\n",
    "        print(\"reading data, printing stats: \")\n",
    "        x_test,y_test,d_class_weights,num_of_classes,appliances = get_data(file)\n",
    "        print(\"loading model\")\n",
    "        \n",
    "        model_seed = 42\n",
    "        model_used = create_tl_model(model,environ['learn_type'],model_seed,path,num_of_classes)\n",
    "                \n",
    "        train_gen = HDF5ImageGenerator(\n",
    "            src= path_data,\n",
    "            X_key=\"data/train/gaf\",\n",
    "            y_key=\"labels/train/gaf\",\n",
    "            classes_key=\"appliances/classes\",\n",
    "            labels_encoding=\"hot\",\n",
    "            shuffle=True,\n",
    "            batch_size=int(environ['batch_size']),\n",
    "            num_classes=num_of_classes,\n",
    "            mode=\"train\",\n",
    "            )\n",
    "\n",
    "        model_used.fit(\n",
    "            train_gen,\n",
    "            verbose=2,\n",
    "            epochs=int(environ['epochs']),\n",
    "            class_weight=d_class_weights,\n",
    "            callbacks = [save_op_callback]\n",
    "            #workers = 6,\n",
    "        )\n",
    "        \n",
    "        txt_log.write(\"finished \"+dataset.split(\"_\")[0]+\" training on model \"+model+\" seed \"+environ['seed']+\"\\n\")\n",
    "\n",
    "\n",
    "        evaluate_model(model_used,x_test,y_test,appliances)\n",
    "        \n",
    "\n",
    "\n",
    "\n",
    "        #del model_used\n",
    "\n"
   ]
  },
  {
   "cell_type": "code",
   "execution_count": 16,
   "metadata": {
    "execution": {
     "iopub.execute_input": "2022-02-10T06:26:18.013525Z",
     "iopub.status.busy": "2022-02-10T06:26:18.012347Z",
     "iopub.status.idle": "2022-02-10T06:26:18.014808Z",
     "shell.execute_reply": "2022-02-10T06:26:18.015706Z"
    }
   },
   "outputs": [],
   "source": [
    "txt_log.close()"
   ]
  },
  {
   "cell_type": "code",
   "execution_count": null,
   "metadata": {},
   "outputs": [],
   "source": []
  }
 ],
 "metadata": {
  "colab": {
   "authorship_tag": "ABX9TyMej4PvP65qsLng7TnQKWA4",
   "name": "LSTM-gen",
   "provenance": []
  },
  "kernelspec": {
   "display_name": "Python 3 (ipykernel)",
   "language": "python",
   "name": "python3"
  },
  "language_info": {
   "codemirror_mode": {
    "name": "ipython",
    "version": 3
   },
   "file_extension": ".py",
   "mimetype": "text/x-python",
   "name": "python",
   "nbconvert_exporter": "python",
   "pygments_lexer": "ipython3",
   "version": "3.8.10"
  }
 },
 "nbformat": 4,
 "nbformat_minor": 4
}
