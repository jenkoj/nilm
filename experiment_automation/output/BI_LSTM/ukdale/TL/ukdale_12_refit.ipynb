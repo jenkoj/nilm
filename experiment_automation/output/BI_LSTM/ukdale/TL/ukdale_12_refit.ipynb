{
 "metadata": {
  "colab": {
   "authorship_tag": "ABX9TyMej4PvP65qsLng7TnQKWA4",
   "name": "LSTM-gen",
   "provenance": []
  },
  "kernelspec": {
   "display_name": "Python 3 (ipykernel)",
   "language": "python",
   "name": "python3"
  },
  "language_info": {
   "codemirror_mode": {
    "name": "ipython",
    "version": 3
   },
   "file_extension": ".py",
   "mimetype": "text/x-python",
   "name": "python",
   "nbconvert_exporter": "python",
   "pygments_lexer": "ipython3",
   "version": "3.8.10"
  },
  "name": ""
 },
 "nbformat": 3,
 "nbformat_minor": 0,
 "worksheets": [
  {
   "cells": [
    {
     "cell_type": "code",
     "collapsed": false,
     "input": [
      "import h5py\n",
      "import numpy as np\n",
      "\n",
      "from sklearn.model_selection import train_test_split\n",
      "from sklearn.metrics import classification_report, confusion_matrix\n",
      "import matplotlib.pyplot as plt\n",
      "import itertools \n",
      "import pyts\n",
      "from pyts.approximation import PiecewiseAggregateApproximation\n",
      "\n",
      "from sklearn.utils import class_weight\n",
      "\n",
      "import pathlib\n",
      "import tensorflow as tf\n",
      "from tensorflow import keras\n",
      "from tensorflow.keras import layers, optimizers\n",
      "from tensorflow.keras.layers import Convolution2D,Conv2D, Dense,Dropout, Flatten, Activation, MaxPooling2D, Input, Conv1D, GlobalAveragePooling1D, TimeDistributed, GRU, LSTM\n",
      "\n",
      "print(tf.__version__)\n",
      "print(\"Num GPUs Available: \", len(tf.config.list_physical_devices('GPU')))\n",
      "gpus = tf.config.experimental.list_physical_devices('GPU')\n",
      "\n",
      "try:\n",
      "    for gpu in gpus:\n",
      "        tf.config.experimental.set_memory_growth(gpu, True)\n",
      "except RuntimeError as e:\n",
      "    print(e)"
     ],
     "language": "python",
     "metadata": {
      "id": "WqUfHWgtJxtu",
      "scrolled": true,
      "tags": []
     },
     "outputs": [
      {
       "output_type": "stream",
       "stream": "stderr",
       "text": [
        "2022-01-31 14:24:49.640015: I tensorflow/stream_executor/platform/default/dso_loader.cc:54] Successfully opened dynamic library libcudart.so.11.0\n"
       ]
      },
      {
       "output_type": "stream",
       "stream": "stdout",
       "text": [
        "2.5.0\n",
        "Num GPUs Available:  1\n"
       ]
      },
      {
       "output_type": "stream",
       "stream": "stderr",
       "text": [
        "2022-01-31 14:24:50.771428: I tensorflow/stream_executor/platform/default/dso_loader.cc:54] Successfully opened dynamic library libcuda.so.1\n",
        "2022-01-31 14:24:50.845044: I tensorflow/core/common_runtime/gpu/gpu_device.cc:1734] Found device 0 with properties: \n",
        "pciBusID: 0000:21:00.0 name: NVIDIA GeForce RTX 2080 Ti computeCapability: 7.5\n",
        "coreClock: 1.545GHz coreCount: 68 deviceMemorySize: 10.76GiB deviceMemoryBandwidth: 573.69GiB/s\n",
        "2022-01-31 14:24:50.845130: I tensorflow/stream_executor/platform/default/dso_loader.cc:54] Successfully opened dynamic library libcudart.so.11.0\n",
        "2022-01-31 14:24:50.854979: I tensorflow/stream_executor/platform/default/dso_loader.cc:54] Successfully opened dynamic library libcublas.so.11\n",
        "2022-01-31 14:24:50.855082: I tensorflow/stream_executor/platform/default/dso_loader.cc:54] Successfully opened dynamic library libcublasLt.so.11\n",
        "2022-01-31 14:24:50.859010: I tensorflow/stream_executor/platform/default/dso_loader.cc:54] Successfully opened dynamic library libcufft.so.10\n",
        "2022-01-31 14:24:50.859496: I tensorflow/stream_executor/platform/default/dso_loader.cc:54] Successfully opened dynamic library libcurand.so.10\n",
        "2022-01-31 14:24:50.860904: I tensorflow/stream_executor/platform/default/dso_loader.cc:54] Successfully opened dynamic library libcutensor.so.1\n",
        "2022-01-31 14:24:50.861835: I tensorflow/stream_executor/platform/default/dso_loader.cc:54] Successfully opened dynamic library libcusolver.so.11\n",
        "2022-01-31 14:24:50.863376: I tensorflow/stream_executor/platform/default/dso_loader.cc:54] Successfully opened dynamic library libcusparse.so.11\n",
        "2022-01-31 14:24:50.863637: I tensorflow/stream_executor/platform/default/dso_loader.cc:54] Successfully opened dynamic library libcudnn.so.8\n",
        "2022-01-31 14:24:50.864257: I tensorflow/core/common_runtime/gpu/gpu_device.cc:1872] Adding visible gpu devices: 0\n"
       ]
      }
     ],
     "prompt_number": 1
    },
    {
     "cell_type": "code",
     "collapsed": false,
     "input": [
      "from os import environ\n",
      "dataset = environ['dataset']\n",
      "print(dataset)"
     ],
     "language": "python",
     "metadata": {},
     "outputs": [
      {
       "output_type": "stream",
       "stream": "stdout",
       "text": [
        "ukdale_gen_GASF_13m_100S5X12A54480_R12_80-20\n"
       ]
      }
     ],
     "prompt_number": 2
    },
    {
     "cell_type": "code",
     "collapsed": false,
     "input": [
      "#my defs \n",
      "from modules.models import  LSTM_3D_V56, CNN_V56,LSTM_BI_V56\n",
      "from modules.tools import my_print, plot_confusion_matrix_norm, get_data,get_data_split, evaluate_model, create_tl_model\n",
      "from modules.HDF5ImageGenerator import HDF5ImageGenerator"
     ],
     "language": "python",
     "metadata": {},
     "outputs": [],
     "prompt_number": 3
    },
    {
     "cell_type": "code",
     "collapsed": false,
     "input": [
      "#LOAD DATASET\n",
      "#file_name = \"ukdale_gen_GASF_13m_100S5X12A54480\"\n",
      "#file_name = \"refit_gen_GASF_13m_100S5X_15A166006\"\n",
      "file_name = \"refit_gen_GASF_13m_100S5X_15A166006_R42-80-20\"\n",
      "#file_name = \"refit_gen_GASF_13m_100S5X_15A166006_R42_80-20\"\n",
      "file_name = \"refit_gen_GASF_60m_300S0X_15A157030N_R12_80-20-V1\"\n",
      "file_name = environ[\"dataset\"]\n",
      "#read the file\n",
      "path = str(pathlib.Path().resolve())\n",
      "\n",
      "path_data = f\"{path}\"\"/data/\"f\"{file_name}\"\"/\"f\"{file_name}\"\".hdf5\"\n",
      "\n",
      "file = h5py.File(path_data,\"r+\")"
     ],
     "language": "python",
     "metadata": {
      "id": "RT1vwq7-KOtB"
     },
     "outputs": [],
     "prompt_number": 4
    },
    {
     "cell_type": "code",
     "collapsed": false,
     "input": [
      "x_test,y_test,d_class_weights,num_of_classes,appliances = get_data(file)"
     ],
     "language": "python",
     "metadata": {
      "scrolled": true
     },
     "outputs": [
      {
       "output_type": "stream",
       "stream": "stdout",
       "text": [
        "['HEKA', 'fridge/freezer', 'HTPC', 'boiler', 'computer monitor', 'desktop computer', 'laptop computer', 'light', 'microwave', 'server computer', 'television', 'washer dryer']\n"
       ]
      },
      {
       "output_type": "stream",
       "stream": "stdout",
       "text": [
        "{0: 0.46362011743681386, 1: 0.6056361514090378, 2: 1.5133333333333334, 3: 1.2690426275331936, 4: 1.0880766926303176, 5: 1.3567426223384385, 6: 0.9253503184713375, 7: 1.5133333333333334, 8: 0.8680688336520076, 9: 2.2857142857142856, 10: 0.8724477540235407, 11: 1.6397291196388262}\n",
        " \n",
        "Tests \n",
        "HEKA test: 1959 train: 7834\n",
        "fridge/freezer test: 1499 train: 5997\n",
        "HTPC test: 600 train: 2400\n",
        "boiler test: 715 train: 2862\n",
        "computer monitor test: 835 train: 3338\n",
        "desktop computer test: 669 train: 2677\n",
        "laptop computer test: 981 train: 3925\n",
        "light test: 600 train: 2400\n",
        "microwave test: 1046 train: 4184\n",
        "server computer test: 397 train: 1589\n",
        "television test: 1041 train: 4163\n",
        "washer dryer test: 554 train: 2215\n"
       ]
      }
     ],
     "prompt_number": 5
    },
    {
     "cell_type": "code",
     "collapsed": false,
     "input": [
      "def select_model(learn_type):\n",
      "    \n",
      "    if learn_type == \"CNN\":\n",
      "        model = CNN_V56(file[\"data/train/gaf\"][0:10],num_of_classes,lr= 0.00002)\n",
      "\n",
      "    if learn_type == \"LSTM\":\n",
      "        model = LSTM_3D_V56(file[\"data/train/gaf\"][0:10],num_of_classes,lr= 0.00002)\n",
      "\n",
      "    if learn_type == \"BI_LSTM\":\n",
      "        model = LSTM_BI_V56(file[\"data/train/gaf\"][0:10],num_of_classes,lr= 0.00002)\n",
      "\n",
      "    return model\n",
      "              "
     ],
     "language": "python",
     "metadata": {},
     "outputs": [],
     "prompt_number": 6
    },
    {
     "cell_type": "code",
     "collapsed": false,
     "input": [
      "from keras.callbacks import LambdaCallback\n",
      "path_log= path+'/experiment_automation/output/'+environ['learn_type']+'/'+dataset.split(\"_\")[0]+\"/\"+environ['train_type']+\"/\"+dataset.split(\"_\")[0]+\"_\"+environ['seed']+\"_\"+environ['tl_datasets']+\"_log.txt\"\n",
      "txt_log = open(path_log, mode='wt', buffering=1)\n",
      "txt_log.write(\"file created! \\n\")\n",
      "\n",
      "save_op_callback = LambdaCallback(\n",
      "  on_epoch_end = lambda epoch, logs: txt_log.write(\n",
      "    str({'epoch': epoch, 'loss': logs['loss'],'acc': logs['accuracy']}) + '\\n'),\n",
      "                                                           \n",
      ")"
     ],
     "language": "python",
     "metadata": {},
     "outputs": [],
     "prompt_number": 7
    },
    {
     "cell_type": "code",
     "collapsed": true,
     "input": [
      "if environ['train_type'] == \"BB\":\n",
      "\n",
      "    #define generator\n",
      "    train_gen = HDF5ImageGenerator(\n",
      "        src= path_data,\n",
      "        X_key=\"data/train/gaf\",\n",
      "        y_key=\"labels/train/gaf\",\n",
      "        classes_key=\"appliances/classes\",\n",
      "        labels_encoding=\"hot\",\n",
      "        shuffle=True,\n",
      "        batch_size=64,\n",
      "        num_classes=num_of_classes,\n",
      "        mode=\"train\",\n",
      "        )\n",
      "    \n",
      "    model = select_model(environ['learn_type'])\n",
      "    \n",
      "    txt_log.write(\"fitting BB model: \\n\")\n",
      "    \n",
      "    model.fit(\n",
      "        train_gen,\n",
      "        verbose=1,\n",
      "        epochs=int(environ['epochs']),\n",
      "        class_weight=d_class_weights,\n",
      "        callbacks = [save_op_callback],\n",
      "    )\n",
      "    \n",
      "    txt_log.write(\"finished fitting BB model: \\n\")\n",
      "\n",
      "\n",
      "    evaluate_model(model,x_test,y_test,appliances)\n",
      "    \n",
      "    if environ['save_model']==\"True\":\n",
      "\n",
      "        path_model_save = path+\"/models/\"+environ['learn_type']+\"/\"+dataset.split(\"_\")[0]+\"_\"+dataset.split(\"_R\")[1][0:2]\n",
      "        model.save(path_model_save)\n",
      "        txt_log.write(\"model saved to:\"+\"/models/\"+environ['learn_type']+\"/\"+dataset.split(\"_\")[0]+\"_\"+dataset.split(\"_R\")[1][0:2]+\" \\n\")\n"
     ],
     "language": "python",
     "metadata": {
      "id": "vqA9NwOqKrb5",
      "jupyter": {
       "outputs_hidden": true
      },
      "tags": []
     },
     "outputs": [],
     "prompt_number": 8
    },
    {
     "cell_type": "code",
     "collapsed": true,
     "input": [
      "#model = keras.models.load_model(path_model1)\n",
      "# model_used = model"
     ],
     "language": "python",
     "metadata": {},
     "outputs": [],
     "prompt_number": 9
    },
    {
     "cell_type": "code",
     "collapsed": true,
     "input": [
      "# evaluate_model(model,x_test,y_test,appliances)"
     ],
     "language": "python",
     "metadata": {
      "jupyter": {
       "outputs_hidden": true
      },
      "tags": []
     },
     "outputs": [],
     "prompt_number": 10
    },
    {
     "cell_type": "code",
     "collapsed": true,
     "input": [
      "# datasets =[\n",
      "#     \"ukdale_gen_GASF_13m_100S5X12A54480_R82_80-20\"\n",
      "# ]\n",
      "\n",
      "if environ['train_type'] == \"TL\": \n",
      "    models = environ['tl_datasets'].split(\",\")\n",
      "    #model = [\"base\"]\n",
      "    \n",
      "    for model in models:\n",
      "    \n",
      "        file_name = dataset\n",
      "        \n",
      "        datasetTL = model\n",
      "        \n",
      "        seed = dataset.split(\"_R\")[1][0:2]\n",
      "        \n",
      "        print(\"using dataset data\",dataset.split(\"_\")[0],\"training on model\",model,\"seed\",environ['seed'])\n",
      "        txt_log.write(\"starting \"+dataset.split(\"_\")[0]+\" training on model \"+model+\" seed \"+environ['seed']+\"\\n\")\n",
      "\n",
      "\n",
      "        tf.keras.backend.clear_session()\n",
      "\n",
      "\n",
      "        #read the file\n",
      "        path = str(pathlib.Path().resolve())\n",
      "        path_data = f\"{path}\"\"/data/\"f\"{file_name}\"\"/\"f\"{file_name}\"\".hdf5\"\n",
      "        file = h5py.File(path_data,\"r+\")\n",
      "\n",
      "\n",
      "        print(\"reading data, printing stats: \")\n",
      "        x_test,y_test,d_class_weights,num_of_classes,appliances = get_data(file)\n",
      "        print(\"loading model\")\n",
      "        \n",
      "        model_seed = 42\n",
      "        model_used = create_tl_model(model,environ['learn_type'],model_seed,path,num_of_classes)\n",
      "                \n",
      "        train_gen = HDF5ImageGenerator(\n",
      "            src= path_data,\n",
      "            X_key=\"data/train/gaf\",\n",
      "            y_key=\"labels/train/gaf\",\n",
      "            classes_key=\"appliances/classes\",\n",
      "            labels_encoding=\"hot\",\n",
      "            shuffle=True,\n",
      "            batch_size=64,\n",
      "            num_classes=num_of_classes,\n",
      "            mode=\"train\",\n",
      "            )\n",
      "\n",
      "        model_used.fit(\n",
      "            train_gen,\n",
      "            verbose=2,\n",
      "            epochs=int(environ['epochs']),\n",
      "            class_weight=d_class_weights,\n",
      "            callbacks = [save_op_callback]\n",
      "            #workers = 6,\n",
      "        )\n",
      "        \n",
      "        txt_log.write(\"finished \"+dataset.split(\"_\")[0]+\"training on model\"+model+\"seed\"+environ['seed']+\"\\n\")\n",
      "\n",
      "\n",
      "        evaluate_model(model_used,x_test,y_test,appliances)\n",
      "        \n",
      "\n",
      "\n",
      "\n",
      "        #del model_used\n",
      "\n"
     ],
     "language": "python",
     "metadata": {},
     "outputs": [
      {
       "output_type": "stream",
       "stream": "stdout",
       "text": [
        "using dataset data ukdale training on model refit seed 12\n",
        "reading data, printing stats: \n",
        "['HEKA', 'fridge/freezer', 'HTPC', 'boiler', 'computer monitor', 'desktop computer', 'laptop computer', 'light', 'microwave', 'server computer', 'television', 'washer dryer']\n"
       ]
      },
      {
       "output_type": "stream",
       "stream": "stdout",
       "text": [
        "{0: 0.46362011743681386, 1: 0.6056361514090378, 2: 1.5133333333333334, 3: 1.2690426275331936, 4: 1.0880766926303176, 5: 1.3567426223384385, 6: 0.9253503184713375, 7: 1.5133333333333334, 8: 0.8680688336520076, 9: 2.2857142857142856, 10: 0.8724477540235407, 11: 1.6397291196388262}\n",
        " \n",
        "Tests \n",
        "HEKA test: 1959 train: 7834\n",
        "fridge/freezer test: 1499 train: 5997\n",
        "HTPC test: 600 train: 2400\n",
        "boiler test: 715 train: 2862\n",
        "computer monitor test: 835 train: 3338\n",
        "desktop computer test: 669 train: 2677\n",
        "laptop computer test: 981 train: 3925\n",
        "light test: 600 train: 2400\n",
        "microwave test: 1046 train: 4184\n",
        "server computer test: 397 train: 1589\n",
        "television test: 1041 train: 4163\n",
        "washer dryer test: 554 train: 2215\n",
        "loading model\n",
        "compling TL model..\n"
       ]
      },
      {
       "output_type": "stream",
       "stream": "stderr",
       "text": [
        "2022-01-31 14:24:54.217477: I tensorflow/core/common_runtime/gpu/gpu_device.cc:1734] Found device 0 with properties: \n",
        "pciBusID: 0000:21:00.0 name: NVIDIA GeForce RTX 2080 Ti computeCapability: 7.5\n",
        "coreClock: 1.545GHz coreCount: 68 deviceMemorySize: 10.76GiB deviceMemoryBandwidth: 573.69GiB/s\n",
        "2022-01-31 14:24:54.217962: I tensorflow/core/common_runtime/gpu/gpu_device.cc:1872] Adding visible gpu devices: 0\n",
        "2022-01-31 14:24:54.218019: I tensorflow/stream_executor/platform/default/dso_loader.cc:54] Successfully opened dynamic library libcudart.so.11.0\n",
        "2022-01-31 14:24:54.604794: I tensorflow/core/common_runtime/gpu/gpu_device.cc:1258] Device interconnect StreamExecutor with strength 1 edge matrix:\n",
        "2022-01-31 14:24:54.604831: I tensorflow/core/common_runtime/gpu/gpu_device.cc:1264]      0 \n",
        "2022-01-31 14:24:54.604837: I tensorflow/core/common_runtime/gpu/gpu_device.cc:1277] 0:   N \n",
        "2022-01-31 14:24:54.605391: I tensorflow/core/common_runtime/gpu/gpu_device.cc:1418] Created TensorFlow device (/job:localhost/replica:0/task:0/device:GPU:0 with 9649 MB memory) -> physical GPU (device: 0, name: NVIDIA GeForce RTX 2080 Ti, pci bus id: 0000:21:00.0, compute capability: 7.5)\n",
        "2022-01-31 14:24:54.605720: I tensorflow/core/common_runtime/process_util.cc:146] Creating new thread pool with default inter op setting: 20. Tune using inter_op_parallelism_threads for best performance.\n"
       ]
      },
      {
       "output_type": "stream",
       "stream": "stdout",
       "text": [
        "Normal way\n",
        "[0 1 2 3 4 5 6 7 8 9]\n",
        "WARNING:tensorflow:From /usr/local/lib/python3.8/dist-packages/tensorflow/python/ops/array_ops.py:5043: calling gather (from tensorflow.python.ops.array_ops) with validate_indices is deprecated and will be removed in a future version.\n",
        "Instructions for updating:\n",
        "The `validate_indices` argument has no effect. Indices are always validated on CPU and never validated on GPU.\n"
       ]
      },
      {
       "output_type": "stream",
       "stream": "stderr",
       "text": [
        "/usr/local/lib/python3.8/dist-packages/tensorflow/python/keras/optimizer_v2/optimizer_v2.py:374: UserWarning: The `lr` argument is deprecated, use `learning_rate` instead.\n",
        "  warnings.warn(\n",
        "2022-01-31 14:25:02.588679: I tensorflow/compiler/mlir/mlir_graph_optimization_pass.cc:176] None of the MLIR Optimization Passes are enabled (registered 2)\n",
        "2022-01-31 14:25:02.608544: I tensorflow/core/platform/profile_utils/cpu_utils.cc:114] CPU Frequency: 3299990000 Hz\n"
       ]
      },
      {
       "output_type": "stream",
       "stream": "stdout",
       "text": [
        "Epoch 1/150\n"
       ]
      },
      {
       "output_type": "stream",
       "stream": "stderr",
       "text": [
        "2022-01-31 14:25:06.176343: I tensorflow/stream_executor/platform/default/dso_loader.cc:54] Successfully opened dynamic library libcudnn.so.8\n"
       ]
      },
      {
       "output_type": "stream",
       "stream": "stderr",
       "text": [
        "2022-01-31 14:25:06.903381: I tensorflow/stream_executor/cuda/cuda_dnn.cc:380] Loaded cuDNN version 8202\n"
       ]
      },
      {
       "output_type": "stream",
       "stream": "stderr",
       "text": [
        "2022-01-31 14:25:07.775822: I tensorflow/stream_executor/platform/default/dso_loader.cc:54] Successfully opened dynamic library libcublas.so.11\n"
       ]
      },
      {
       "output_type": "stream",
       "stream": "stderr",
       "text": [
        "2022-01-31 14:25:08.216395: I tensorflow/stream_executor/platform/default/dso_loader.cc:54] Successfully opened dynamic library libcublasLt.so.11\n"
       ]
      },
      {
       "output_type": "stream",
       "stream": "stdout",
       "text": [
        "681/681 - 29s - loss: 0.7881 - accuracy: 0.7358\n"
       ]
      },
      {
       "output_type": "stream",
       "stream": "stdout",
       "text": [
        "Epoch 2/150\n"
       ]
      },
      {
       "output_type": "stream",
       "stream": "stdout",
       "text": [
        "681/681 - 25s - loss: 0.5568 - accuracy: 0.7986\n"
       ]
      },
      {
       "output_type": "stream",
       "stream": "stdout",
       "text": [
        "Epoch 3/150\n"
       ]
      },
      {
       "output_type": "stream",
       "stream": "stdout",
       "text": [
        "681/681 - 25s - loss: 0.5183 - accuracy: 0.8130\n"
       ]
      },
      {
       "output_type": "stream",
       "stream": "stdout",
       "text": [
        "Epoch 4/150\n"
       ]
      },
      {
       "output_type": "stream",
       "stream": "stdout",
       "text": [
        "681/681 - 26s - loss: 0.5031 - accuracy: 0.8162\n"
       ]
      },
      {
       "output_type": "stream",
       "stream": "stdout",
       "text": [
        "Epoch 5/150\n"
       ]
      },
      {
       "output_type": "stream",
       "stream": "stdout",
       "text": [
        "681/681 - 26s - loss: 0.4886 - accuracy: 0.8201\n"
       ]
      },
      {
       "output_type": "stream",
       "stream": "stdout",
       "text": [
        "Epoch 6/150\n"
       ]
      },
      {
       "output_type": "stream",
       "stream": "stdout",
       "text": [
        "681/681 - 26s - loss: 0.4784 - accuracy: 0.8225\n"
       ]
      },
      {
       "output_type": "stream",
       "stream": "stdout",
       "text": [
        "Epoch 7/150\n"
       ]
      },
      {
       "output_type": "stream",
       "stream": "stdout",
       "text": [
        "681/681 - 26s - loss: 0.4667 - accuracy: 0.8294\n"
       ]
      },
      {
       "output_type": "stream",
       "stream": "stdout",
       "text": [
        "Epoch 8/150\n"
       ]
      },
      {
       "output_type": "stream",
       "stream": "stdout",
       "text": [
        "681/681 - 25s - loss: 0.4617 - accuracy: 0.8271\n"
       ]
      },
      {
       "output_type": "stream",
       "stream": "stdout",
       "text": [
        "Epoch 9/150\n"
       ]
      },
      {
       "output_type": "stream",
       "stream": "stdout",
       "text": [
        "681/681 - 25s - loss: 0.4588 - accuracy: 0.8299\n"
       ]
      },
      {
       "output_type": "stream",
       "stream": "stdout",
       "text": [
        "Epoch 10/150\n"
       ]
      },
      {
       "output_type": "stream",
       "stream": "stdout",
       "text": [
        "681/681 - 26s - loss: 0.4524 - accuracy: 0.8310\n"
       ]
      },
      {
       "output_type": "stream",
       "stream": "stdout",
       "text": [
        "Epoch 11/150\n"
       ]
      },
      {
       "output_type": "stream",
       "stream": "stdout",
       "text": [
        "681/681 - 26s - loss: 0.4442 - accuracy: 0.8343\n"
       ]
      },
      {
       "output_type": "stream",
       "stream": "stdout",
       "text": [
        "Epoch 12/150\n"
       ]
      },
      {
       "output_type": "stream",
       "stream": "stdout",
       "text": [
        "681/681 - 26s - loss: 0.4466 - accuracy: 0.8308\n"
       ]
      },
      {
       "output_type": "stream",
       "stream": "stdout",
       "text": [
        "Epoch 13/150\n"
       ]
      },
      {
       "output_type": "stream",
       "stream": "stdout",
       "text": [
        "681/681 - 26s - loss: 0.4406 - accuracy: 0.8338\n"
       ]
      },
      {
       "output_type": "stream",
       "stream": "stdout",
       "text": [
        "Epoch 14/150\n"
       ]
      },
      {
       "output_type": "stream",
       "stream": "stdout",
       "text": [
        "681/681 - 26s - loss: 0.4375 - accuracy: 0.8344\n"
       ]
      },
      {
       "output_type": "stream",
       "stream": "stdout",
       "text": [
        "Epoch 15/150\n"
       ]
      },
      {
       "output_type": "stream",
       "stream": "stdout",
       "text": [
        "681/681 - 26s - loss: 0.4358 - accuracy: 0.8372\n"
       ]
      },
      {
       "output_type": "stream",
       "stream": "stdout",
       "text": [
        "Epoch 16/150\n"
       ]
      },
      {
       "output_type": "stream",
       "stream": "stdout",
       "text": [
        "681/681 - 26s - loss: 0.4320 - accuracy: 0.8370\n"
       ]
      },
      {
       "output_type": "stream",
       "stream": "stdout",
       "text": [
        "Epoch 17/150\n"
       ]
      },
      {
       "output_type": "stream",
       "stream": "stdout",
       "text": [
        "681/681 - 26s - loss: 0.4324 - accuracy: 0.8367\n"
       ]
      },
      {
       "output_type": "stream",
       "stream": "stdout",
       "text": [
        "Epoch 18/150\n"
       ]
      },
      {
       "output_type": "stream",
       "stream": "stdout",
       "text": [
        "681/681 - 25s - loss: 0.4299 - accuracy: 0.8362\n"
       ]
      },
      {
       "output_type": "stream",
       "stream": "stdout",
       "text": [
        "Epoch 19/150\n"
       ]
      },
      {
       "output_type": "stream",
       "stream": "stdout",
       "text": [
        "681/681 - 25s - loss: 0.4248 - accuracy: 0.8404\n"
       ]
      },
      {
       "output_type": "stream",
       "stream": "stdout",
       "text": [
        "Epoch 20/150\n"
       ]
      },
      {
       "output_type": "stream",
       "stream": "stdout",
       "text": [
        "681/681 - 26s - loss: 0.4198 - accuracy: 0.8396\n"
       ]
      },
      {
       "output_type": "stream",
       "stream": "stdout",
       "text": [
        "Epoch 21/150\n"
       ]
      },
      {
       "output_type": "stream",
       "stream": "stdout",
       "text": [
        "681/681 - 26s - loss: 0.4212 - accuracy: 0.8409\n"
       ]
      },
      {
       "output_type": "stream",
       "stream": "stdout",
       "text": [
        "Epoch 22/150\n"
       ]
      },
      {
       "output_type": "stream",
       "stream": "stdout",
       "text": [
        "681/681 - 24s - loss: 0.4181 - accuracy: 0.8424\n"
       ]
      },
      {
       "output_type": "stream",
       "stream": "stdout",
       "text": [
        "Epoch 23/150\n"
       ]
      },
      {
       "output_type": "stream",
       "stream": "stdout",
       "text": [
        "681/681 - 25s - loss: 0.4251 - accuracy: 0.8403\n"
       ]
      },
      {
       "output_type": "stream",
       "stream": "stdout",
       "text": [
        "Epoch 24/150\n"
       ]
      },
      {
       "output_type": "stream",
       "stream": "stdout",
       "text": [
        "681/681 - 26s - loss: 0.4200 - accuracy: 0.8403\n"
       ]
      },
      {
       "output_type": "stream",
       "stream": "stdout",
       "text": [
        "Epoch 25/150\n"
       ]
      },
      {
       "output_type": "stream",
       "stream": "stdout",
       "text": [
        "681/681 - 25s - loss: 0.4191 - accuracy: 0.8410\n"
       ]
      },
      {
       "output_type": "stream",
       "stream": "stdout",
       "text": [
        "Epoch 26/150\n"
       ]
      },
      {
       "output_type": "stream",
       "stream": "stdout",
       "text": [
        "681/681 - 25s - loss: 0.4169 - accuracy: 0.8424\n"
       ]
      },
      {
       "output_type": "stream",
       "stream": "stdout",
       "text": [
        "Epoch 27/150\n"
       ]
      },
      {
       "output_type": "stream",
       "stream": "stdout",
       "text": [
        "681/681 - 25s - loss: 0.4124 - accuracy: 0.8422\n"
       ]
      },
      {
       "output_type": "stream",
       "stream": "stdout",
       "text": [
        "Epoch 28/150\n"
       ]
      },
      {
       "output_type": "stream",
       "stream": "stdout",
       "text": [
        "681/681 - 26s - loss: 0.4136 - accuracy: 0.8413\n"
       ]
      },
      {
       "output_type": "stream",
       "stream": "stdout",
       "text": [
        "Epoch 29/150\n"
       ]
      },
      {
       "output_type": "stream",
       "stream": "stdout",
       "text": [
        "681/681 - 26s - loss: 0.4158 - accuracy: 0.8412\n"
       ]
      },
      {
       "output_type": "stream",
       "stream": "stdout",
       "text": [
        "Epoch 30/150\n"
       ]
      },
      {
       "output_type": "stream",
       "stream": "stdout",
       "text": [
        "681/681 - 26s - loss: 0.4108 - accuracy: 0.8420\n"
       ]
      },
      {
       "output_type": "stream",
       "stream": "stdout",
       "text": [
        "Epoch 31/150\n"
       ]
      },
      {
       "output_type": "stream",
       "stream": "stdout",
       "text": [
        "681/681 - 26s - loss: 0.4088 - accuracy: 0.8431\n"
       ]
      },
      {
       "output_type": "stream",
       "stream": "stdout",
       "text": [
        "Epoch 32/150\n"
       ]
      },
      {
       "output_type": "stream",
       "stream": "stdout",
       "text": [
        "681/681 - 26s - loss: 0.4085 - accuracy: 0.8430\n"
       ]
      },
      {
       "output_type": "stream",
       "stream": "stdout",
       "text": [
        "Epoch 33/150\n"
       ]
      },
      {
       "output_type": "stream",
       "stream": "stdout",
       "text": [
        "681/681 - 25s - loss: 0.4107 - accuracy: 0.8441\n"
       ]
      },
      {
       "output_type": "stream",
       "stream": "stdout",
       "text": [
        "Epoch 34/150\n"
       ]
      },
      {
       "output_type": "stream",
       "stream": "stdout",
       "text": [
        "681/681 - 25s - loss: 0.4099 - accuracy: 0.8426\n"
       ]
      },
      {
       "output_type": "stream",
       "stream": "stdout",
       "text": [
        "Epoch 35/150\n"
       ]
      },
      {
       "output_type": "stream",
       "stream": "stdout",
       "text": [
        "681/681 - 26s - loss: 0.4071 - accuracy: 0.8450\n"
       ]
      },
      {
       "output_type": "stream",
       "stream": "stdout",
       "text": [
        "Epoch 36/150\n"
       ]
      },
      {
       "output_type": "stream",
       "stream": "stdout",
       "text": [
        "681/681 - 25s - loss: 0.4074 - accuracy: 0.8447\n"
       ]
      },
      {
       "output_type": "stream",
       "stream": "stdout",
       "text": [
        "Epoch 37/150\n"
       ]
      },
      {
       "output_type": "stream",
       "stream": "stdout",
       "text": [
        "681/681 - 25s - loss: 0.4079 - accuracy: 0.8433\n"
       ]
      },
      {
       "output_type": "stream",
       "stream": "stdout",
       "text": [
        "Epoch 38/150\n"
       ]
      },
      {
       "output_type": "stream",
       "stream": "stdout",
       "text": [
        "681/681 - 25s - loss: 0.4011 - accuracy: 0.8468\n"
       ]
      },
      {
       "output_type": "stream",
       "stream": "stdout",
       "text": [
        "Epoch 39/150\n"
       ]
      },
      {
       "output_type": "stream",
       "stream": "stdout",
       "text": [
        "681/681 - 24s - loss: 0.4067 - accuracy: 0.8465\n"
       ]
      },
      {
       "output_type": "stream",
       "stream": "stdout",
       "text": [
        "Epoch 40/150\n"
       ]
      },
      {
       "output_type": "stream",
       "stream": "stdout",
       "text": [
        "681/681 - 25s - loss: 0.4024 - accuracy: 0.8437\n"
       ]
      },
      {
       "output_type": "stream",
       "stream": "stdout",
       "text": [
        "Epoch 41/150\n"
       ]
      },
      {
       "output_type": "stream",
       "stream": "stdout",
       "text": [
        "681/681 - 25s - loss: 0.4022 - accuracy: 0.8453\n"
       ]
      },
      {
       "output_type": "stream",
       "stream": "stdout",
       "text": [
        "Epoch 42/150\n"
       ]
      },
      {
       "output_type": "stream",
       "stream": "stdout",
       "text": [
        "681/681 - 26s - loss: 0.3970 - accuracy: 0.8444\n"
       ]
      },
      {
       "output_type": "stream",
       "stream": "stdout",
       "text": [
        "Epoch 43/150\n"
       ]
      },
      {
       "output_type": "stream",
       "stream": "stdout",
       "text": [
        "681/681 - 25s - loss: 0.4031 - accuracy: 0.8448\n"
       ]
      },
      {
       "output_type": "stream",
       "stream": "stdout",
       "text": [
        "Epoch 44/150\n"
       ]
      },
      {
       "output_type": "stream",
       "stream": "stdout",
       "text": [
        "681/681 - 24s - loss: 0.3959 - accuracy: 0.8479\n"
       ]
      },
      {
       "output_type": "stream",
       "stream": "stdout",
       "text": [
        "Epoch 45/150\n"
       ]
      },
      {
       "output_type": "stream",
       "stream": "stdout",
       "text": [
        "681/681 - 26s - loss: 0.3994 - accuracy: 0.8446\n"
       ]
      },
      {
       "output_type": "stream",
       "stream": "stdout",
       "text": [
        "Epoch 46/150\n"
       ]
      },
      {
       "output_type": "stream",
       "stream": "stdout",
       "text": [
        "681/681 - 25s - loss: 0.3939 - accuracy: 0.8488\n"
       ]
      },
      {
       "output_type": "stream",
       "stream": "stdout",
       "text": [
        "Epoch 47/150\n"
       ]
      },
      {
       "output_type": "stream",
       "stream": "stdout",
       "text": [
        "681/681 - 26s - loss: 0.3993 - accuracy: 0.8452\n"
       ]
      },
      {
       "output_type": "stream",
       "stream": "stdout",
       "text": [
        "Epoch 48/150\n"
       ]
      },
      {
       "output_type": "stream",
       "stream": "stdout",
       "text": [
        "681/681 - 26s - loss: 0.3976 - accuracy: 0.8457\n"
       ]
      },
      {
       "output_type": "stream",
       "stream": "stdout",
       "text": [
        "Epoch 49/150\n"
       ]
      },
      {
       "output_type": "stream",
       "stream": "stdout",
       "text": [
        "681/681 - 25s - loss: 0.3948 - accuracy: 0.8465\n"
       ]
      },
      {
       "output_type": "stream",
       "stream": "stdout",
       "text": [
        "Epoch 50/150\n"
       ]
      },
      {
       "output_type": "stream",
       "stream": "stdout",
       "text": [
        "681/681 - 26s - loss: 0.3941 - accuracy: 0.8481\n"
       ]
      },
      {
       "output_type": "stream",
       "stream": "stdout",
       "text": [
        "Epoch 51/150\n"
       ]
      },
      {
       "output_type": "stream",
       "stream": "stdout",
       "text": [
        "681/681 - 26s - loss: 0.3944 - accuracy: 0.8483\n"
       ]
      },
      {
       "output_type": "stream",
       "stream": "stdout",
       "text": [
        "Epoch 52/150\n"
       ]
      },
      {
       "output_type": "stream",
       "stream": "stdout",
       "text": [
        "681/681 - 26s - loss: 0.3935 - accuracy: 0.8506\n"
       ]
      },
      {
       "output_type": "stream",
       "stream": "stdout",
       "text": [
        "Epoch 53/150\n"
       ]
      },
      {
       "output_type": "stream",
       "stream": "stdout",
       "text": [
        "681/681 - 26s - loss: 0.3939 - accuracy: 0.8482\n"
       ]
      },
      {
       "output_type": "stream",
       "stream": "stdout",
       "text": [
        "Epoch 54/150\n"
       ]
      },
      {
       "output_type": "stream",
       "stream": "stdout",
       "text": [
        "681/681 - 25s - loss: 0.3955 - accuracy: 0.8485\n"
       ]
      },
      {
       "output_type": "stream",
       "stream": "stdout",
       "text": [
        "Epoch 55/150\n"
       ]
      },
      {
       "output_type": "stream",
       "stream": "stdout",
       "text": [
        "681/681 - 26s - loss: 0.3942 - accuracy: 0.8471\n"
       ]
      },
      {
       "output_type": "stream",
       "stream": "stdout",
       "text": [
        "Epoch 56/150\n"
       ]
      },
      {
       "output_type": "stream",
       "stream": "stdout",
       "text": [
        "681/681 - 26s - loss: 0.3920 - accuracy: 0.8463\n"
       ]
      },
      {
       "output_type": "stream",
       "stream": "stdout",
       "text": [
        "Epoch 57/150\n"
       ]
      },
      {
       "output_type": "stream",
       "stream": "stdout",
       "text": [
        "681/681 - 25s - loss: 0.3906 - accuracy: 0.8478\n"
       ]
      },
      {
       "output_type": "stream",
       "stream": "stdout",
       "text": [
        "Epoch 58/150\n"
       ]
      },
      {
       "output_type": "stream",
       "stream": "stdout",
       "text": [
        "681/681 - 25s - loss: 0.3940 - accuracy: 0.8482\n"
       ]
      },
      {
       "output_type": "stream",
       "stream": "stdout",
       "text": [
        "Epoch 59/150\n"
       ]
      },
      {
       "output_type": "stream",
       "stream": "stdout",
       "text": [
        "681/681 - 26s - loss: 0.3924 - accuracy: 0.8486\n"
       ]
      },
      {
       "output_type": "stream",
       "stream": "stdout",
       "text": [
        "Epoch 60/150\n"
       ]
      },
      {
       "output_type": "stream",
       "stream": "stdout",
       "text": [
        "681/681 - 25s - loss: 0.3953 - accuracy: 0.8460\n"
       ]
      },
      {
       "output_type": "stream",
       "stream": "stdout",
       "text": [
        "Epoch 61/150\n"
       ]
      },
      {
       "output_type": "stream",
       "stream": "stdout",
       "text": [
        "681/681 - 26s - loss: 0.3936 - accuracy: 0.8498\n"
       ]
      },
      {
       "output_type": "stream",
       "stream": "stdout",
       "text": [
        "Epoch 62/150\n"
       ]
      },
      {
       "output_type": "stream",
       "stream": "stdout",
       "text": [
        "681/681 - 26s - loss: 0.3921 - accuracy: 0.8485\n"
       ]
      },
      {
       "output_type": "stream",
       "stream": "stdout",
       "text": [
        "Epoch 63/150\n"
       ]
      },
      {
       "output_type": "stream",
       "stream": "stdout",
       "text": [
        "681/681 - 26s - loss: 0.3913 - accuracy: 0.8470\n"
       ]
      },
      {
       "output_type": "stream",
       "stream": "stdout",
       "text": [
        "Epoch 64/150\n"
       ]
      },
      {
       "output_type": "stream",
       "stream": "stdout",
       "text": [
        "681/681 - 26s - loss: 0.3884 - accuracy: 0.8507\n"
       ]
      },
      {
       "output_type": "stream",
       "stream": "stdout",
       "text": [
        "Epoch 65/150\n"
       ]
      },
      {
       "output_type": "stream",
       "stream": "stdout",
       "text": [
        "681/681 - 26s - loss: 0.3930 - accuracy: 0.8480\n"
       ]
      },
      {
       "output_type": "stream",
       "stream": "stdout",
       "text": [
        "Epoch 66/150\n"
       ]
      },
      {
       "output_type": "stream",
       "stream": "stdout",
       "text": [
        "681/681 - 25s - loss: 0.3890 - accuracy: 0.8495\n"
       ]
      },
      {
       "output_type": "stream",
       "stream": "stdout",
       "text": [
        "Epoch 67/150\n"
       ]
      },
      {
       "output_type": "stream",
       "stream": "stdout",
       "text": [
        "681/681 - 25s - loss: 0.3907 - accuracy: 0.8493\n"
       ]
      },
      {
       "output_type": "stream",
       "stream": "stdout",
       "text": [
        "Epoch 68/150\n"
       ]
      },
      {
       "output_type": "stream",
       "stream": "stdout",
       "text": [
        "681/681 - 26s - loss: 0.3883 - accuracy: 0.8501\n"
       ]
      },
      {
       "output_type": "stream",
       "stream": "stdout",
       "text": [
        "Epoch 69/150\n"
       ]
      },
      {
       "output_type": "stream",
       "stream": "stdout",
       "text": [
        "681/681 - 27s - loss: 0.3877 - accuracy: 0.8513\n"
       ]
      },
      {
       "output_type": "stream",
       "stream": "stdout",
       "text": [
        "Epoch 70/150\n"
       ]
      },
      {
       "output_type": "stream",
       "stream": "stdout",
       "text": [
        "681/681 - 25s - loss: 0.3919 - accuracy: 0.8474\n"
       ]
      },
      {
       "output_type": "stream",
       "stream": "stdout",
       "text": [
        "Epoch 71/150\n"
       ]
      },
      {
       "output_type": "stream",
       "stream": "stdout",
       "text": [
        "681/681 - 25s - loss: 0.3856 - accuracy: 0.8516\n"
       ]
      },
      {
       "output_type": "stream",
       "stream": "stdout",
       "text": [
        "Epoch 72/150\n"
       ]
      },
      {
       "output_type": "stream",
       "stream": "stdout",
       "text": [
        "681/681 - 25s - loss: 0.3865 - accuracy: 0.8500\n"
       ]
      },
      {
       "output_type": "stream",
       "stream": "stdout",
       "text": [
        "Epoch 73/150\n"
       ]
      },
      {
       "output_type": "stream",
       "stream": "stdout",
       "text": [
        "681/681 - 26s - loss: 0.3900 - accuracy: 0.8498\n"
       ]
      },
      {
       "output_type": "stream",
       "stream": "stdout",
       "text": [
        "Epoch 74/150\n"
       ]
      },
      {
       "output_type": "stream",
       "stream": "stdout",
       "text": [
        "681/681 - 26s - loss: 0.3930 - accuracy: 0.8500\n"
       ]
      },
      {
       "output_type": "stream",
       "stream": "stdout",
       "text": [
        "Epoch 75/150\n"
       ]
      },
      {
       "output_type": "stream",
       "stream": "stdout",
       "text": [
        "681/681 - 26s - loss: 0.3874 - accuracy: 0.8516\n"
       ]
      },
      {
       "output_type": "stream",
       "stream": "stdout",
       "text": [
        "Epoch 76/150\n"
       ]
      },
      {
       "output_type": "stream",
       "stream": "stdout",
       "text": [
        "681/681 - 26s - loss: 0.3876 - accuracy: 0.8512\n"
       ]
      },
      {
       "output_type": "stream",
       "stream": "stdout",
       "text": [
        "Epoch 77/150\n"
       ]
      },
      {
       "output_type": "stream",
       "stream": "stdout",
       "text": [
        "681/681 - 25s - loss: 0.3874 - accuracy: 0.8516\n"
       ]
      },
      {
       "output_type": "stream",
       "stream": "stdout",
       "text": [
        "Epoch 78/150\n"
       ]
      },
      {
       "output_type": "stream",
       "stream": "stdout",
       "text": [
        "681/681 - 26s - loss: 0.3818 - accuracy: 0.8512\n"
       ]
      },
      {
       "output_type": "stream",
       "stream": "stdout",
       "text": [
        "Epoch 79/150\n"
       ]
      },
      {
       "output_type": "stream",
       "stream": "stdout",
       "text": [
        "681/681 - 26s - loss: 0.3871 - accuracy: 0.8499\n"
       ]
      },
      {
       "output_type": "stream",
       "stream": "stdout",
       "text": [
        "Epoch 80/150\n"
       ]
      },
      {
       "output_type": "stream",
       "stream": "stdout",
       "text": [
        "681/681 - 26s - loss: 0.3849 - accuracy: 0.8499\n"
       ]
      },
      {
       "output_type": "stream",
       "stream": "stdout",
       "text": [
        "Epoch 81/150\n"
       ]
      },
      {
       "output_type": "stream",
       "stream": "stdout",
       "text": [
        "681/681 - 24s - loss: 0.3844 - accuracy: 0.8493\n"
       ]
      },
      {
       "output_type": "stream",
       "stream": "stdout",
       "text": [
        "Epoch 82/150\n"
       ]
      },
      {
       "output_type": "stream",
       "stream": "stdout",
       "text": [
        "681/681 - 25s - loss: 0.3822 - accuracy: 0.8509\n"
       ]
      },
      {
       "output_type": "stream",
       "stream": "stdout",
       "text": [
        "Epoch 83/150\n"
       ]
      },
      {
       "output_type": "stream",
       "stream": "stdout",
       "text": [
        "681/681 - 26s - loss: 0.3845 - accuracy: 0.8495\n"
       ]
      },
      {
       "output_type": "stream",
       "stream": "stdout",
       "text": [
        "Epoch 84/150\n"
       ]
      },
      {
       "output_type": "stream",
       "stream": "stdout",
       "text": [
        "681/681 - 26s - loss: 0.3818 - accuracy: 0.8525\n"
       ]
      },
      {
       "output_type": "stream",
       "stream": "stdout",
       "text": [
        "Epoch 85/150\n"
       ]
      },
      {
       "output_type": "stream",
       "stream": "stdout",
       "text": [
        "681/681 - 26s - loss: 0.3844 - accuracy: 0.8518\n"
       ]
      },
      {
       "output_type": "stream",
       "stream": "stdout",
       "text": [
        "Epoch 86/150\n"
       ]
      },
      {
       "output_type": "stream",
       "stream": "stdout",
       "text": [
        "681/681 - 25s - loss: 0.3851 - accuracy: 0.8525\n"
       ]
      },
      {
       "output_type": "stream",
       "stream": "stdout",
       "text": [
        "Epoch 87/150\n"
       ]
      },
      {
       "output_type": "stream",
       "stream": "stdout",
       "text": [
        "681/681 - 24s - loss: 0.3837 - accuracy: 0.8507\n"
       ]
      },
      {
       "output_type": "stream",
       "stream": "stdout",
       "text": [
        "Epoch 88/150\n"
       ]
      },
      {
       "output_type": "stream",
       "stream": "stdout",
       "text": [
        "681/681 - 26s - loss: 0.3839 - accuracy: 0.8510\n"
       ]
      },
      {
       "output_type": "stream",
       "stream": "stdout",
       "text": [
        "Epoch 89/150\n"
       ]
      },
      {
       "output_type": "stream",
       "stream": "stdout",
       "text": [
        "681/681 - 25s - loss: 0.3817 - accuracy: 0.8511\n"
       ]
      },
      {
       "output_type": "stream",
       "stream": "stdout",
       "text": [
        "Epoch 90/150\n"
       ]
      },
      {
       "output_type": "stream",
       "stream": "stdout",
       "text": [
        "681/681 - 26s - loss: 0.3855 - accuracy: 0.8508\n"
       ]
      },
      {
       "output_type": "stream",
       "stream": "stdout",
       "text": [
        "Epoch 91/150\n"
       ]
      },
      {
       "output_type": "stream",
       "stream": "stdout",
       "text": [
        "681/681 - 26s - loss: 0.3849 - accuracy: 0.8503\n"
       ]
      },
      {
       "output_type": "stream",
       "stream": "stdout",
       "text": [
        "Epoch 92/150\n"
       ]
      },
      {
       "output_type": "stream",
       "stream": "stdout",
       "text": [
        "681/681 - 25s - loss: 0.3837 - accuracy: 0.8514\n"
       ]
      },
      {
       "output_type": "stream",
       "stream": "stdout",
       "text": [
        "Epoch 93/150\n"
       ]
      },
      {
       "output_type": "stream",
       "stream": "stdout",
       "text": [
        "681/681 - 25s - loss: 0.3845 - accuracy: 0.8516\n"
       ]
      },
      {
       "output_type": "stream",
       "stream": "stdout",
       "text": [
        "Epoch 94/150\n"
       ]
      },
      {
       "output_type": "stream",
       "stream": "stdout",
       "text": [
        "681/681 - 26s - loss: 0.3833 - accuracy: 0.8504\n"
       ]
      },
      {
       "output_type": "stream",
       "stream": "stdout",
       "text": [
        "Epoch 95/150\n"
       ]
      },
      {
       "output_type": "stream",
       "stream": "stdout",
       "text": [
        "681/681 - 26s - loss: 0.3787 - accuracy: 0.8531\n"
       ]
      },
      {
       "output_type": "stream",
       "stream": "stdout",
       "text": [
        "Epoch 96/150\n"
       ]
      },
      {
       "output_type": "stream",
       "stream": "stdout",
       "text": [
        "681/681 - 25s - loss: 0.3763 - accuracy: 0.8532\n"
       ]
      },
      {
       "output_type": "stream",
       "stream": "stdout",
       "text": [
        "Epoch 97/150\n"
       ]
      },
      {
       "output_type": "stream",
       "stream": "stdout",
       "text": [
        "681/681 - 26s - loss: 0.3807 - accuracy: 0.8531\n"
       ]
      },
      {
       "output_type": "stream",
       "stream": "stdout",
       "text": [
        "Epoch 98/150\n"
       ]
      },
      {
       "output_type": "stream",
       "stream": "stdout",
       "text": [
        "681/681 - 25s - loss: 0.3825 - accuracy: 0.8523\n"
       ]
      },
      {
       "output_type": "stream",
       "stream": "stdout",
       "text": [
        "Epoch 99/150\n"
       ]
      },
      {
       "output_type": "stream",
       "stream": "stdout",
       "text": [
        "681/681 - 25s - loss: 0.3790 - accuracy: 0.8540\n"
       ]
      },
      {
       "output_type": "stream",
       "stream": "stdout",
       "text": [
        "Epoch 100/150\n"
       ]
      },
      {
       "output_type": "stream",
       "stream": "stdout",
       "text": [
        "681/681 - 26s - loss: 0.3829 - accuracy: 0.8524\n"
       ]
      },
      {
       "output_type": "stream",
       "stream": "stdout",
       "text": [
        "Epoch 101/150\n"
       ]
      },
      {
       "output_type": "stream",
       "stream": "stdout",
       "text": [
        "681/681 - 26s - loss: 0.3795 - accuracy: 0.8529\n"
       ]
      },
      {
       "output_type": "stream",
       "stream": "stdout",
       "text": [
        "Epoch 102/150\n"
       ]
      },
      {
       "output_type": "stream",
       "stream": "stdout",
       "text": [
        "681/681 - 27s - loss: 0.3757 - accuracy: 0.8529\n"
       ]
      },
      {
       "output_type": "stream",
       "stream": "stdout",
       "text": [
        "Epoch 103/150\n"
       ]
      },
      {
       "output_type": "stream",
       "stream": "stdout",
       "text": [
        "681/681 - 26s - loss: 0.3807 - accuracy: 0.8534\n"
       ]
      },
      {
       "output_type": "stream",
       "stream": "stdout",
       "text": [
        "Epoch 104/150\n"
       ]
      },
      {
       "output_type": "stream",
       "stream": "stdout",
       "text": [
        "681/681 - 26s - loss: 0.3783 - accuracy: 0.8543\n"
       ]
      },
      {
       "output_type": "stream",
       "stream": "stdout",
       "text": [
        "Epoch 105/150\n"
       ]
      },
      {
       "output_type": "stream",
       "stream": "stdout",
       "text": [
        "681/681 - 24s - loss: 0.3807 - accuracy: 0.8530\n"
       ]
      },
      {
       "output_type": "stream",
       "stream": "stdout",
       "text": [
        "Epoch 106/150\n"
       ]
      },
      {
       "output_type": "stream",
       "stream": "stdout",
       "text": [
        "681/681 - 25s - loss: 0.3743 - accuracy: 0.8561\n"
       ]
      },
      {
       "output_type": "stream",
       "stream": "stdout",
       "text": [
        "Epoch 107/150\n"
       ]
      },
      {
       "output_type": "stream",
       "stream": "stdout",
       "text": [
        "681/681 - 27s - loss: 0.3803 - accuracy: 0.8520\n"
       ]
      },
      {
       "output_type": "stream",
       "stream": "stdout",
       "text": [
        "Epoch 108/150\n"
       ]
      },
      {
       "output_type": "stream",
       "stream": "stdout",
       "text": [
        "681/681 - 27s - loss: 0.3794 - accuracy: 0.8532\n"
       ]
      },
      {
       "output_type": "stream",
       "stream": "stdout",
       "text": [
        "Epoch 109/150\n"
       ]
      },
      {
       "output_type": "stream",
       "stream": "stdout",
       "text": [
        "681/681 - 26s - loss: 0.3767 - accuracy: 0.8549\n"
       ]
      },
      {
       "output_type": "stream",
       "stream": "stdout",
       "text": [
        "Epoch 110/150\n"
       ]
      },
      {
       "output_type": "stream",
       "stream": "stdout",
       "text": [
        "681/681 - 25s - loss: 0.3748 - accuracy: 0.8551\n"
       ]
      },
      {
       "output_type": "stream",
       "stream": "stdout",
       "text": [
        "Epoch 111/150\n"
       ]
      },
      {
       "output_type": "stream",
       "stream": "stdout",
       "text": [
        "681/681 - 26s - loss: 0.3789 - accuracy: 0.8528\n"
       ]
      },
      {
       "output_type": "stream",
       "stream": "stdout",
       "text": [
        "Epoch 112/150\n"
       ]
      },
      {
       "output_type": "stream",
       "stream": "stdout",
       "text": [
        "681/681 - 26s - loss: 0.3776 - accuracy: 0.8544\n"
       ]
      },
      {
       "output_type": "stream",
       "stream": "stdout",
       "text": [
        "Epoch 113/150\n"
       ]
      },
      {
       "output_type": "stream",
       "stream": "stdout",
       "text": [
        "681/681 - 26s - loss: 0.3758 - accuracy: 0.8549\n"
       ]
      },
      {
       "output_type": "stream",
       "stream": "stdout",
       "text": [
        "Epoch 114/150\n"
       ]
      },
      {
       "output_type": "stream",
       "stream": "stdout",
       "text": [
        "681/681 - 26s - loss: 0.3755 - accuracy: 0.8534\n"
       ]
      },
      {
       "output_type": "stream",
       "stream": "stdout",
       "text": [
        "Epoch 115/150\n"
       ]
      },
      {
       "output_type": "stream",
       "stream": "stdout",
       "text": [
        "681/681 - 26s - loss: 0.3796 - accuracy: 0.8521\n"
       ]
      },
      {
       "output_type": "stream",
       "stream": "stdout",
       "text": [
        "Epoch 116/150\n"
       ]
      },
      {
       "output_type": "stream",
       "stream": "stdout",
       "text": [
        "681/681 - 25s - loss: 0.3775 - accuracy: 0.8541\n"
       ]
      },
      {
       "output_type": "stream",
       "stream": "stdout",
       "text": [
        "Epoch 117/150\n"
       ]
      },
      {
       "output_type": "stream",
       "stream": "stdout",
       "text": [
        "681/681 - 26s - loss: 0.3782 - accuracy: 0.8534\n"
       ]
      },
      {
       "output_type": "stream",
       "stream": "stdout",
       "text": [
        "Epoch 118/150\n"
       ]
      },
      {
       "output_type": "stream",
       "stream": "stdout",
       "text": [
        "681/681 - 27s - loss: 0.3747 - accuracy: 0.8542\n"
       ]
      },
      {
       "output_type": "stream",
       "stream": "stdout",
       "text": [
        "Epoch 119/150\n"
       ]
      },
      {
       "output_type": "stream",
       "stream": "stdout",
       "text": [
        "681/681 - 26s - loss: 0.3727 - accuracy: 0.8542\n"
       ]
      },
      {
       "output_type": "stream",
       "stream": "stdout",
       "text": [
        "Epoch 120/150\n"
       ]
      },
      {
       "output_type": "stream",
       "stream": "stdout",
       "text": [
        "681/681 - 25s - loss: 0.3771 - accuracy: 0.8535\n"
       ]
      },
      {
       "output_type": "stream",
       "stream": "stdout",
       "text": [
        "Epoch 121/150\n"
       ]
      },
      {
       "output_type": "stream",
       "stream": "stdout",
       "text": [
        "681/681 - 26s - loss: 0.3745 - accuracy: 0.8543\n"
       ]
      },
      {
       "output_type": "stream",
       "stream": "stdout",
       "text": [
        "Epoch 122/150\n"
       ]
      },
      {
       "output_type": "stream",
       "stream": "stdout",
       "text": [
        "681/681 - 25s - loss: 0.3720 - accuracy: 0.8549\n"
       ]
      },
      {
       "output_type": "stream",
       "stream": "stdout",
       "text": [
        "Epoch 123/150\n"
       ]
      },
      {
       "output_type": "stream",
       "stream": "stdout",
       "text": [
        "681/681 - 26s - loss: 0.3749 - accuracy: 0.8556\n"
       ]
      },
      {
       "output_type": "stream",
       "stream": "stdout",
       "text": [
        "Epoch 124/150\n"
       ]
      },
      {
       "output_type": "stream",
       "stream": "stdout",
       "text": [
        "681/681 - 26s - loss: 0.3744 - accuracy: 0.8535\n"
       ]
      },
      {
       "output_type": "stream",
       "stream": "stdout",
       "text": [
        "Epoch 125/150\n"
       ]
      },
      {
       "output_type": "stream",
       "stream": "stdout",
       "text": [
        "681/681 - 25s - loss: 0.3754 - accuracy: 0.8537\n"
       ]
      },
      {
       "output_type": "stream",
       "stream": "stdout",
       "text": [
        "Epoch 126/150\n"
       ]
      },
      {
       "output_type": "stream",
       "stream": "stdout",
       "text": [
        "681/681 - 24s - loss: 0.3713 - accuracy: 0.8563\n"
       ]
      },
      {
       "output_type": "stream",
       "stream": "stdout",
       "text": [
        "Epoch 127/150\n"
       ]
      },
      {
       "output_type": "stream",
       "stream": "stdout",
       "text": [
        "681/681 - 26s - loss: 0.3763 - accuracy: 0.8519\n"
       ]
      },
      {
       "output_type": "stream",
       "stream": "stdout",
       "text": [
        "Epoch 128/150\n"
       ]
      },
      {
       "output_type": "stream",
       "stream": "stdout",
       "text": [
        "681/681 - 25s - loss: 0.3734 - accuracy: 0.8541\n"
       ]
      },
      {
       "output_type": "stream",
       "stream": "stdout",
       "text": [
        "Epoch 129/150\n"
       ]
      },
      {
       "output_type": "stream",
       "stream": "stdout",
       "text": [
        "681/681 - 25s - loss: 0.3743 - accuracy: 0.8534\n"
       ]
      },
      {
       "output_type": "stream",
       "stream": "stdout",
       "text": [
        "Epoch 130/150\n"
       ]
      },
      {
       "output_type": "stream",
       "stream": "stdout",
       "text": [
        "681/681 - 25s - loss: 0.3718 - accuracy: 0.8562\n"
       ]
      },
      {
       "output_type": "stream",
       "stream": "stdout",
       "text": [
        "Epoch 131/150\n"
       ]
      },
      {
       "output_type": "stream",
       "stream": "stdout",
       "text": [
        "681/681 - 26s - loss: 0.3698 - accuracy: 0.8578\n"
       ]
      },
      {
       "output_type": "stream",
       "stream": "stdout",
       "text": [
        "Epoch 132/150\n"
       ]
      },
      {
       "output_type": "stream",
       "stream": "stdout",
       "text": [
        "681/681 - 25s - loss: 0.3668 - accuracy: 0.8562\n"
       ]
      },
      {
       "output_type": "stream",
       "stream": "stdout",
       "text": [
        "Epoch 133/150\n"
       ]
      },
      {
       "output_type": "stream",
       "stream": "stdout",
       "text": [
        "681/681 - 25s - loss: 0.3720 - accuracy: 0.8545\n"
       ]
      },
      {
       "output_type": "stream",
       "stream": "stdout",
       "text": [
        "Epoch 134/150\n"
       ]
      },
      {
       "output_type": "stream",
       "stream": "stdout",
       "text": [
        "681/681 - 25s - loss: 0.3706 - accuracy: 0.8570\n"
       ]
      },
      {
       "output_type": "stream",
       "stream": "stdout",
       "text": [
        "Epoch 135/150\n"
       ]
      },
      {
       "output_type": "stream",
       "stream": "stdout",
       "text": [
        "681/681 - 26s - loss: 0.3754 - accuracy: 0.8528\n"
       ]
      },
      {
       "output_type": "stream",
       "stream": "stdout",
       "text": [
        "Epoch 136/150\n"
       ]
      },
      {
       "output_type": "stream",
       "stream": "stdout",
       "text": [
        "681/681 - 25s - loss: 0.3735 - accuracy: 0.8562\n"
       ]
      },
      {
       "output_type": "stream",
       "stream": "stdout",
       "text": [
        "Epoch 137/150\n"
       ]
      },
      {
       "output_type": "stream",
       "stream": "stdout",
       "text": [
        "681/681 - 25s - loss: 0.3739 - accuracy: 0.8568\n"
       ]
      },
      {
       "output_type": "stream",
       "stream": "stdout",
       "text": [
        "Epoch 138/150\n"
       ]
      },
      {
       "output_type": "stream",
       "stream": "stdout",
       "text": [
        "681/681 - 25s - loss: 0.3730 - accuracy: 0.8550\n"
       ]
      },
      {
       "output_type": "stream",
       "stream": "stdout",
       "text": [
        "Epoch 139/150\n"
       ]
      },
      {
       "output_type": "stream",
       "stream": "stdout",
       "text": [
        "681/681 - 26s - loss: 0.3762 - accuracy: 0.8519\n"
       ]
      },
      {
       "output_type": "stream",
       "stream": "stdout",
       "text": [
        "Epoch 140/150\n"
       ]
      },
      {
       "output_type": "stream",
       "stream": "stdout",
       "text": [
        "681/681 - 24s - loss: 0.3717 - accuracy: 0.8575\n"
       ]
      },
      {
       "output_type": "stream",
       "stream": "stdout",
       "text": [
        "Epoch 141/150\n"
       ]
      },
      {
       "output_type": "stream",
       "stream": "stdout",
       "text": [
        "681/681 - 25s - loss: 0.3740 - accuracy: 0.8536\n"
       ]
      },
      {
       "output_type": "stream",
       "stream": "stdout",
       "text": [
        "Epoch 142/150\n"
       ]
      },
      {
       "output_type": "stream",
       "stream": "stdout",
       "text": [
        "681/681 - 25s - loss: 0.3734 - accuracy: 0.8532\n"
       ]
      },
      {
       "output_type": "stream",
       "stream": "stdout",
       "text": [
        "Epoch 143/150\n"
       ]
      },
      {
       "output_type": "stream",
       "stream": "stdout",
       "text": [
        "681/681 - 26s - loss: 0.3718 - accuracy: 0.8563\n"
       ]
      },
      {
       "output_type": "stream",
       "stream": "stdout",
       "text": [
        "Epoch 144/150\n"
       ]
      },
      {
       "output_type": "stream",
       "stream": "stdout",
       "text": [
        "681/681 - 26s - loss: 0.3716 - accuracy: 0.8550\n"
       ]
      },
      {
       "output_type": "stream",
       "stream": "stdout",
       "text": [
        "Epoch 145/150\n"
       ]
      },
      {
       "output_type": "stream",
       "stream": "stdout",
       "text": [
        "681/681 - 25s - loss: 0.3681 - accuracy: 0.8562\n"
       ]
      },
      {
       "output_type": "stream",
       "stream": "stdout",
       "text": [
        "Epoch 146/150\n"
       ]
      },
      {
       "output_type": "stream",
       "stream": "stdout",
       "text": [
        "681/681 - 26s - loss: 0.3705 - accuracy: 0.8554\n"
       ]
      },
      {
       "output_type": "stream",
       "stream": "stdout",
       "text": [
        "Epoch 147/150\n"
       ]
      },
      {
       "output_type": "stream",
       "stream": "stdout",
       "text": [
        "681/681 - 26s - loss: 0.3691 - accuracy: 0.8574\n"
       ]
      },
      {
       "output_type": "stream",
       "stream": "stdout",
       "text": [
        "Epoch 148/150\n"
       ]
      },
      {
       "output_type": "stream",
       "stream": "stdout",
       "text": [
        "681/681 - 26s - loss: 0.3769 - accuracy: 0.8546\n"
       ]
      },
      {
       "output_type": "stream",
       "stream": "stdout",
       "text": [
        "Epoch 149/150\n"
       ]
      },
      {
       "output_type": "stream",
       "stream": "stdout",
       "text": [
        "681/681 - 25s - loss: 0.3710 - accuracy: 0.8551\n"
       ]
      },
      {
       "output_type": "stream",
       "stream": "stdout",
       "text": [
        "Epoch 150/150\n"
       ]
      },
      {
       "output_type": "stream",
       "stream": "stdout",
       "text": [
        "681/681 - 27s - loss: 0.3681 - accuracy: 0.8571\n"
       ]
      },
      {
       "output_type": "stream",
       "stream": "stdout",
       "text": [
        "341/341 - 6s\n"
       ]
      },
      {
       "output_type": "stream",
       "stream": "stdout",
       "text": [
        "Normalized confusion matrix\n",
        "                  precision    recall  f1-score   support\n",
        "\n",
        "            HEKA       0.90      0.81      0.85      1959\n",
        "  fridge/freezer       0.97      0.93      0.95      1499\n",
        "            HTPC       0.76      0.89      0.82       600\n",
        "          boiler       0.86      0.97      0.91       715\n",
        "computer monitor       0.80      0.78      0.79       835\n",
        "desktop computer       0.82      0.86      0.84       669\n",
        " laptop computer       0.98      0.93      0.96       981\n",
        "           light       0.88      0.88      0.88       600\n",
        "       microwave       0.70      0.83      0.76      1046\n",
        " server computer       0.86      0.89      0.88       397\n",
        "      television       0.93      0.83      0.87      1041\n",
        "    washer dryer       0.94      0.96      0.95       554\n",
        "\n",
        "        accuracy                           0.87     10896\n",
        "       macro avg       0.87      0.88      0.87     10896\n",
        "    weighted avg       0.88      0.87      0.87     10896\n",
        "\n"
       ]
      },
      {
       "output_type": "display_data",
       "png": "[encoded data removed]",
       "text": [
        "<Figure size 720x720 with 2 Axes>"
       ]
      }
     ],
     "prompt_number": 11
    },
    {
     "cell_type": "code",
     "collapsed": false,
     "input": [
      "txt_log.close()"
     ],
     "language": "python",
     "metadata": {},
     "outputs": [],
     "prompt_number": 12
    }
   ],
   "metadata": {}
  }
 ]
}
