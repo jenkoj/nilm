{
 "cells": [
  {
   "cell_type": "code",
   "execution_count": 1,
   "metadata": {
    "execution": {
     "iopub.execute_input": "2022-02-09T16:18:07.563588Z",
     "iopub.status.busy": "2022-02-09T16:18:07.562194Z",
     "iopub.status.idle": "2022-02-09T16:18:09.256842Z",
     "shell.execute_reply": "2022-02-09T16:18:09.257181Z"
    },
    "id": "WqUfHWgtJxtu",
    "scrolled": true,
    "tags": []
   },
   "outputs": [
    {
     "name": "stderr",
     "output_type": "stream",
     "text": [
      "2022-02-09 16:18:08.386285: I tensorflow/stream_executor/platform/default/dso_loader.cc:54] Successfully opened dynamic library libcudart.so.11.0\n"
     ]
    },
    {
     "name": "stdout",
     "output_type": "stream",
     "text": [
      "2.5.0\n",
      "Num GPUs Available:  1\n"
     ]
    },
    {
     "name": "stderr",
     "output_type": "stream",
     "text": [
      "2022-02-09 16:18:09.203260: I tensorflow/stream_executor/platform/default/dso_loader.cc:54] Successfully opened dynamic library libcuda.so.1\n",
      "2022-02-09 16:18:09.241627: I tensorflow/core/common_runtime/gpu/gpu_device.cc:1734] Found device 0 with properties: \n",
      "pciBusID: 0000:21:00.0 name: NVIDIA GeForce RTX 2080 Ti computeCapability: 7.5\n",
      "coreClock: 1.545GHz coreCount: 68 deviceMemorySize: 10.76GiB deviceMemoryBandwidth: 573.69GiB/s\n",
      "2022-02-09 16:18:09.241672: I tensorflow/stream_executor/platform/default/dso_loader.cc:54] Successfully opened dynamic library libcudart.so.11.0\n",
      "2022-02-09 16:18:09.245276: I tensorflow/stream_executor/platform/default/dso_loader.cc:54] Successfully opened dynamic library libcublas.so.11\n",
      "2022-02-09 16:18:09.245346: I tensorflow/stream_executor/platform/default/dso_loader.cc:54] Successfully opened dynamic library libcublasLt.so.11\n",
      "2022-02-09 16:18:09.246806: I tensorflow/stream_executor/platform/default/dso_loader.cc:54] Successfully opened dynamic library libcufft.so.10\n",
      "2022-02-09 16:18:09.247100: I tensorflow/stream_executor/platform/default/dso_loader.cc:54] Successfully opened dynamic library libcurand.so.10\n",
      "2022-02-09 16:18:09.247778: I tensorflow/stream_executor/platform/default/dso_loader.cc:54] Successfully opened dynamic library libcutensor.so.1\n",
      "2022-02-09 16:18:09.248305: I tensorflow/stream_executor/platform/default/dso_loader.cc:54] Successfully opened dynamic library libcusolver.so.11\n",
      "2022-02-09 16:18:09.249094: I tensorflow/stream_executor/platform/default/dso_loader.cc:54] Successfully opened dynamic library libcusparse.so.11\n",
      "2022-02-09 16:18:09.249230: I tensorflow/stream_executor/platform/default/dso_loader.cc:54] Successfully opened dynamic library libcudnn.so.8\n",
      "2022-02-09 16:18:09.249624: I tensorflow/core/common_runtime/gpu/gpu_device.cc:1872] Adding visible gpu devices: 0\n"
     ]
    }
   ],
   "source": [
    "import h5py\n",
    "import numpy as np\n",
    "\n",
    "from sklearn.model_selection import train_test_split\n",
    "from sklearn.metrics import classification_report, confusion_matrix\n",
    "import matplotlib.pyplot as plt\n",
    "import itertools \n",
    "import pyts\n",
    "from pyts.approximation import PiecewiseAggregateApproximation\n",
    "\n",
    "from sklearn.utils import class_weight\n",
    "\n",
    "import pathlib\n",
    "import tensorflow as tf\n",
    "from tensorflow import keras\n",
    "from tensorflow.keras import layers, optimizers\n",
    "from tensorflow.keras.layers import Convolution2D,Conv2D, Dense,Dropout, Flatten, Activation, MaxPooling2D, Input, Conv1D, GlobalAveragePooling1D, TimeDistributed, GRU, LSTM\n",
    "\n",
    "print(tf.__version__)\n",
    "print(\"Num GPUs Available: \", len(tf.config.list_physical_devices('GPU')))\n",
    "gpus = tf.config.experimental.list_physical_devices('GPU')\n",
    "\n",
    "try:\n",
    "    for gpu in gpus:\n",
    "        tf.config.experimental.set_memory_growth(gpu, True)\n",
    "except RuntimeError as e:\n",
    "    print(e)"
   ]
  },
  {
   "cell_type": "code",
   "execution_count": 2,
   "metadata": {
    "execution": {
     "iopub.execute_input": "2022-02-09T16:18:09.262659Z",
     "iopub.status.busy": "2022-02-09T16:18:09.262247Z",
     "iopub.status.idle": "2022-02-09T16:18:09.266120Z",
     "shell.execute_reply": "2022-02-09T16:18:09.266532Z"
    }
   },
   "outputs": [
    {
     "name": "stdout",
     "output_type": "stream",
     "text": [
      "eco_gen_GASF_13m_100S5X11A38085_R42_80-20\n"
     ]
    }
   ],
   "source": [
    "from os import environ\n",
    "dataset = environ['dataset']\n",
    "print(dataset)"
   ]
  },
  {
   "cell_type": "code",
   "execution_count": 3,
   "metadata": {
    "execution": {
     "iopub.execute_input": "2022-02-09T16:18:09.272001Z",
     "iopub.status.busy": "2022-02-09T16:18:09.271478Z",
     "iopub.status.idle": "2022-02-09T16:18:09.276006Z",
     "shell.execute_reply": "2022-02-09T16:18:09.275416Z"
    }
   },
   "outputs": [],
   "source": [
    "#my defs \n",
    "from modules.models import  LSTM_3D_V56, CNN_V56,LSTM_BI_V56\n",
    "from modules.tools import my_print, plot_confusion_matrix_norm, get_data,get_data_split, evaluate_model, create_tl_model\n",
    "from modules.HDF5ImageGenerator import HDF5ImageGenerator"
   ]
  },
  {
   "cell_type": "code",
   "execution_count": 4,
   "metadata": {
    "execution": {
     "iopub.execute_input": "2022-02-09T16:18:09.281873Z",
     "iopub.status.busy": "2022-02-09T16:18:09.281157Z",
     "iopub.status.idle": "2022-02-09T16:18:09.284376Z",
     "shell.execute_reply": "2022-02-09T16:18:09.283523Z"
    },
    "id": "RT1vwq7-KOtB"
   },
   "outputs": [],
   "source": [
    "#LOAD DATASET\n",
    "#file_name = \"ukdale_gen_GASF_13m_100S5X12A54480\"\n",
    "#file_name = \"refit_gen_GASF_13m_100S5X_15A166006\"\n",
    "file_name = \"refit_gen_GASF_13m_100S5X_15A166006_R42-80-20\"\n",
    "#file_name = \"refit_gen_GASF_13m_100S5X_15A166006_R42_80-20\"\n",
    "file_name = \"refit_gen_GASF_60m_300S0X_15A157030N_R12_80-20-V1\"\n",
    "file_name = environ[\"dataset\"]\n",
    "#read the file\n",
    "path = str(pathlib.Path().resolve())\n",
    "\n",
    "path_data = f\"{path}\"\"/data/\"f\"{file_name}\"\"/\"f\"{file_name}\"\".hdf5\"\n",
    "\n",
    "file = h5py.File(path_data,\"r+\")"
   ]
  },
  {
   "cell_type": "code",
   "execution_count": 5,
   "metadata": {
    "execution": {
     "iopub.execute_input": "2022-02-09T16:18:09.290037Z",
     "iopub.status.busy": "2022-02-09T16:18:09.289090Z",
     "iopub.status.idle": "2022-02-09T16:18:10.066509Z",
     "shell.execute_reply": "2022-02-09T16:18:10.067484Z"
    },
    "scrolled": true
   },
   "outputs": [
    {
     "name": "stdout",
     "output_type": "stream",
     "text": [
      "['HEKA', 'fridge/freezer', 'HTPC', 'audio system', 'broadband router', 'coffee maker', 'computer', 'lamp', 'laptop computer', 'microwave', 'washing machine']\n",
      "{0: 4.72665218740304, 1: 0.17788312772578393, 2: 0.5904536733784229, 3: 2.508893280632411, 4: 2.2035148622260796, 5: 10.612330198537094, 6: 0.8248416265092858, 7: 3.213246150601139, 8: 1.347843397478434, 9: 5.1869254341164455, 10: 14.655122655122655}\n",
      " \n",
      "Tests \n",
      "HEKA test: 146 train: 586\n",
      "fridge/freezer test: 3893 train: 15571\n",
      "HTPC test: 1173 train: 4691\n",
      "audio system test: 276 train: 1104\n",
      "broadband router test: 314 train: 1257\n",
      "coffee maker test: 65 train: 261\n",
      "computer test: 839 train: 3358\n",
      "lamp test: 216 train: 862\n",
      "laptop computer test: 514 train: 2055\n",
      "microwave test: 134 train: 534\n",
      "washing machine test: 47 train: 189\n"
     ]
    }
   ],
   "source": [
    "x_test,y_test,d_class_weights,num_of_classes,appliances = get_data(file)"
   ]
  },
  {
   "cell_type": "code",
   "execution_count": 6,
   "metadata": {
    "execution": {
     "iopub.execute_input": "2022-02-09T16:18:10.077683Z",
     "iopub.status.busy": "2022-02-09T16:18:10.071513Z",
     "iopub.status.idle": "2022-02-09T16:18:10.085479Z",
     "shell.execute_reply": "2022-02-09T16:18:10.084482Z"
    }
   },
   "outputs": [],
   "source": [
    "def select_model(learn_type):\n",
    "    \n",
    "    if learn_type == \"CNN\":\n",
    "        model = CNN_V56(file[\"data/train/gaf\"][0:10],num_of_classes,lr= 0.00002)\n",
    "\n",
    "    if learn_type == \"LSTM\":\n",
    "        model = LSTM_3D_V56(file[\"data/train/gaf\"][0:10],num_of_classes,lr= 0.00002)\n",
    "\n",
    "    if learn_type == \"BI_LSTM\":\n",
    "        model = LSTM_BI_V56(file[\"data/train/gaf\"][0:10],num_of_classes,lr= 0.00002)\n",
    "\n",
    "    return model\n",
    "              "
   ]
  },
  {
   "cell_type": "code",
   "execution_count": 7,
   "metadata": {
    "execution": {
     "iopub.execute_input": "2022-02-09T16:18:10.095177Z",
     "iopub.status.busy": "2022-02-09T16:18:10.094211Z",
     "iopub.status.idle": "2022-02-09T16:18:10.098213Z",
     "shell.execute_reply": "2022-02-09T16:18:10.099229Z"
    }
   },
   "outputs": [],
   "source": [
    "path_save = path+'/experiment_automation/output/'+environ['learn_type']+'/'+dataset.split(\"_\")[0]+\"/\"+environ['train_type']+\"/\"+dataset.split(\"_\")[0]+\"_\"+environ['seed']+\"_\"+environ['tl_datasets']\n",
    "path_save_nb = path_save+\"_out.ipynb\"\n",
    "path_save_log = path_save+\"_out_log2.txt\""
   ]
  },
  {
   "cell_type": "code",
   "execution_count": 8,
   "metadata": {
    "execution": {
     "iopub.execute_input": "2022-02-09T16:18:10.109891Z",
     "iopub.status.busy": "2022-02-09T16:18:10.108672Z",
     "iopub.status.idle": "2022-02-09T16:18:10.199533Z",
     "shell.execute_reply": "2022-02-09T16:18:10.198505Z"
    }
   },
   "outputs": [],
   "source": [
    "from keras.callbacks import LambdaCallback\n",
    "#path_log= path+'/experiment_automation/output/'+environ['learn_type']+'/'+dataset.split(\"_\")[0]+\"/\"+environ['train_type']+\"/\"+dataset.split(\"_\")[0]+\"_\"+environ['seed']+\"_\"+environ['tl_datasets']+\"_log.txt\"\n",
    "txt_log = open(path_save+\"_log.txt\", mode='wt', buffering=1)\n",
    "txt_log.write(\"file created! \\n\")\n",
    "\n",
    "save_op_callback = LambdaCallback(\n",
    "  on_epoch_end = lambda epoch, logs: txt_log.write(\n",
    "    str({'epoch': epoch, 'loss': logs['loss'],'acc': logs['accuracy']}) + '\\n'),\n",
    "                                                           \n",
    ")"
   ]
  },
  {
   "cell_type": "code",
   "execution_count": 9,
   "metadata": {
    "execution": {
     "iopub.execute_input": "2022-02-09T16:18:10.205195Z",
     "iopub.status.busy": "2022-02-09T16:18:10.204012Z",
     "iopub.status.idle": "2022-02-09T16:18:10.208970Z",
     "shell.execute_reply": "2022-02-09T16:18:10.207923Z"
    }
   },
   "outputs": [
    {
     "name": "stdout",
     "output_type": "stream",
     "text": [
      "/workspace/notebooks/experiment_automation/output/BI_LSTM/eco/BB/eco_42__out.ipynb\n"
     ]
    }
   ],
   "source": [
    "print(path_save_nb)"
   ]
  },
  {
   "cell_type": "code",
   "execution_count": 10,
   "metadata": {
    "execution": {
     "iopub.execute_input": "2022-02-09T16:18:10.213851Z",
     "iopub.status.busy": "2022-02-09T16:18:10.212844Z",
     "iopub.status.idle": "2022-02-09T16:18:10.214927Z",
     "shell.execute_reply": "2022-02-09T16:18:10.215754Z"
    }
   },
   "outputs": [],
   "source": [
    "# rm $path_save_log"
   ]
  },
  {
   "cell_type": "code",
   "execution_count": 11,
   "metadata": {
    "execution": {
     "iopub.execute_input": "2022-02-09T16:18:10.220686Z",
     "iopub.status.busy": "2022-02-09T16:18:10.219658Z",
     "iopub.status.idle": "2022-02-09T16:18:10.221829Z",
     "shell.execute_reply": "2022-02-09T16:18:10.222663Z"
    }
   },
   "outputs": [],
   "source": [
    "# %%capture cap \n",
    "\n",
    "# with open(path_save_log,\"wt\") as f:\n",
    "#     f.write(cap.stdout)\n",
    "    \n",
    "# print(\"out capture..\")"
   ]
  },
  {
   "cell_type": "code",
   "execution_count": 12,
   "metadata": {
    "execution": {
     "iopub.execute_input": "2022-02-09T16:18:10.235943Z",
     "iopub.status.busy": "2022-02-09T16:18:10.231246Z",
     "iopub.status.idle": "2022-02-09T18:32:48.127883Z",
     "shell.execute_reply": "2022-02-09T18:32:48.128887Z"
    },
    "id": "vqA9NwOqKrb5",
    "jupyter": {
     "outputs_hidden": true
    },
    "tags": []
   },
   "outputs": [
    {
     "name": "stdout",
     "output_type": "stream",
     "text": [
      "Normal way\n",
      "[0 1 2 3 4 5 6 7 8 9]\n"
     ]
    },
    {
     "name": "stderr",
     "output_type": "stream",
     "text": [
      "2022-02-09 16:18:10.251350: I tensorflow/core/common_runtime/gpu/gpu_device.cc:1734] Found device 0 with properties: \n",
      "pciBusID: 0000:21:00.0 name: NVIDIA GeForce RTX 2080 Ti computeCapability: 7.5\n",
      "coreClock: 1.545GHz coreCount: 68 deviceMemorySize: 10.76GiB deviceMemoryBandwidth: 573.69GiB/s\n",
      "2022-02-09 16:18:10.251684: I tensorflow/core/common_runtime/gpu/gpu_device.cc:1872] Adding visible gpu devices: 0\n",
      "2022-02-09 16:18:10.251742: I tensorflow/stream_executor/platform/default/dso_loader.cc:54] Successfully opened dynamic library libcudart.so.11.0\n",
      "2022-02-09 16:18:10.613031: I tensorflow/core/common_runtime/gpu/gpu_device.cc:1258] Device interconnect StreamExecutor with strength 1 edge matrix:\n",
      "2022-02-09 16:18:10.613066: I tensorflow/core/common_runtime/gpu/gpu_device.cc:1264]      0 \n",
      "2022-02-09 16:18:10.613073: I tensorflow/core/common_runtime/gpu/gpu_device.cc:1277] 0:   N \n",
      "2022-02-09 16:18:10.613634: I tensorflow/core/common_runtime/gpu/gpu_device.cc:1418] Created TensorFlow device (/job:localhost/replica:0/task:0/device:GPU:0 with 9649 MB memory) -> physical GPU (device: 0, name: NVIDIA GeForce RTX 2080 Ti, pci bus id: 0000:21:00.0, compute capability: 7.5)\n",
      "2022-02-09 16:18:10.613974: I tensorflow/core/common_runtime/process_util.cc:146] Creating new thread pool with default inter op setting: 20. Tune using inter_op_parallelism_threads for best performance.\n"
     ]
    },
    {
     "name": "stdout",
     "output_type": "stream",
     "text": [
      "WARNING:tensorflow:From /usr/local/lib/python3.8/dist-packages/tensorflow/python/ops/array_ops.py:5043: calling gather (from tensorflow.python.ops.array_ops) with validate_indices is deprecated and will be removed in a future version.\n",
      "Instructions for updating:\n",
      "The `validate_indices` argument has no effect. Indices are always validated on CPU and never validated on GPU.\n",
      "Epoch 1/150\n"
     ]
    },
    {
     "name": "stderr",
     "output_type": "stream",
     "text": [
      "2022-02-09 16:18:11.406956: I tensorflow/compiler/mlir/mlir_graph_optimization_pass.cc:176] None of the MLIR Optimization Passes are enabled (registered 2)\n",
      "2022-02-09 16:18:11.424505: I tensorflow/core/platform/profile_utils/cpu_utils.cc:114] CPU Frequency: 3299990000 Hz\n",
      "2022-02-09 16:18:14.967515: I tensorflow/stream_executor/platform/default/dso_loader.cc:54] Successfully opened dynamic library libcudnn.so.8\n",
      "2022-02-09 16:18:15.443990: I tensorflow/stream_executor/cuda/cuda_dnn.cc:380] Loaded cuDNN version 8202\n",
      "2022-02-09 16:18:15.946612: I tensorflow/stream_executor/platform/default/dso_loader.cc:54] Successfully opened dynamic library libcublas.so.11\n",
      "2022-02-09 16:18:16.366972: I tensorflow/stream_executor/platform/default/dso_loader.cc:54] Successfully opened dynamic library libcublasLt.so.11\n"
     ]
    },
    {
     "name": "stdout",
     "output_type": "stream",
     "text": [
      "953/953 - 60s - loss: 2.1279 - accuracy: 0.3318\n",
      "Epoch 2/150\n",
      "953/953 - 54s - loss: 1.7142 - accuracy: 0.5290\n",
      "Epoch 3/150\n",
      "953/953 - 54s - loss: 1.3664 - accuracy: 0.5729\n",
      "Epoch 4/150\n",
      "953/953 - 54s - loss: 1.0901 - accuracy: 0.6296\n",
      "Epoch 5/150\n",
      "953/953 - 54s - loss: 0.9098 - accuracy: 0.6480\n",
      "Epoch 6/150\n",
      "953/953 - 54s - loss: 0.7804 - accuracy: 0.6774\n",
      "Epoch 7/150\n",
      "953/953 - 54s - loss: 0.6924 - accuracy: 0.6993\n",
      "Epoch 8/150\n",
      "953/953 - 54s - loss: 0.6351 - accuracy: 0.7196\n",
      "Epoch 9/150\n",
      "953/953 - 54s - loss: 0.5904 - accuracy: 0.7335\n",
      "Epoch 10/150\n",
      "953/953 - 54s - loss: 0.5473 - accuracy: 0.7574\n",
      "Epoch 11/150\n",
      "953/953 - 54s - loss: 0.5258 - accuracy: 0.7626\n",
      "Epoch 12/150\n",
      "953/953 - 54s - loss: 0.4978 - accuracy: 0.7740\n",
      "Epoch 13/150\n",
      "953/953 - 54s - loss: 0.4763 - accuracy: 0.7836\n",
      "Epoch 14/150\n",
      "953/953 - 54s - loss: 0.4578 - accuracy: 0.7905\n",
      "Epoch 15/150\n",
      "953/953 - 54s - loss: 0.4439 - accuracy: 0.7917\n",
      "Epoch 16/150\n",
      "953/953 - 54s - loss: 0.4288 - accuracy: 0.8008\n",
      "Epoch 17/150\n",
      "953/953 - 54s - loss: 0.4143 - accuracy: 0.8051\n",
      "Epoch 18/150\n",
      "953/953 - 54s - loss: 0.4082 - accuracy: 0.8101\n",
      "Epoch 19/150\n",
      "953/953 - 54s - loss: 0.3929 - accuracy: 0.8182\n",
      "Epoch 20/150\n",
      "953/953 - 54s - loss: 0.3829 - accuracy: 0.8195\n",
      "Epoch 21/150\n",
      "953/953 - 54s - loss: 0.3735 - accuracy: 0.8229\n",
      "Epoch 22/150\n",
      "953/953 - 54s - loss: 0.3647 - accuracy: 0.8283\n",
      "Epoch 23/150\n",
      "953/953 - 54s - loss: 0.3498 - accuracy: 0.8336\n",
      "Epoch 24/150\n",
      "953/953 - 54s - loss: 0.3457 - accuracy: 0.8394\n",
      "Epoch 25/150\n",
      "953/953 - 54s - loss: 0.3405 - accuracy: 0.8396\n",
      "Epoch 26/150\n",
      "953/953 - 54s - loss: 0.3317 - accuracy: 0.8453\n",
      "Epoch 27/150\n",
      "953/953 - 54s - loss: 0.3184 - accuracy: 0.8519\n",
      "Epoch 28/150\n",
      "953/953 - 54s - loss: 0.3091 - accuracy: 0.8567\n",
      "Epoch 29/150\n",
      "953/953 - 54s - loss: 0.3082 - accuracy: 0.8554\n",
      "Epoch 30/150\n",
      "953/953 - 54s - loss: 0.2966 - accuracy: 0.8650\n",
      "Epoch 31/150\n",
      "953/953 - 54s - loss: 0.2966 - accuracy: 0.8624\n",
      "Epoch 32/150\n",
      "953/953 - 54s - loss: 0.2863 - accuracy: 0.8667\n",
      "Epoch 33/150\n",
      "953/953 - 54s - loss: 0.2827 - accuracy: 0.8662\n",
      "Epoch 34/150\n",
      "953/953 - 54s - loss: 0.2860 - accuracy: 0.8676\n",
      "Epoch 35/150\n",
      "953/953 - 54s - loss: 0.2683 - accuracy: 0.8761\n",
      "Epoch 36/150\n",
      "953/953 - 54s - loss: 0.2708 - accuracy: 0.8739\n",
      "Epoch 37/150\n",
      "953/953 - 54s - loss: 0.2658 - accuracy: 0.8745\n",
      "Epoch 38/150\n",
      "953/953 - 54s - loss: 0.2560 - accuracy: 0.8813\n",
      "Epoch 39/150\n",
      "953/953 - 54s - loss: 0.2629 - accuracy: 0.8762\n",
      "Epoch 40/150\n",
      "953/953 - 54s - loss: 0.2456 - accuracy: 0.8843\n",
      "Epoch 41/150\n",
      "953/953 - 54s - loss: 0.2413 - accuracy: 0.8884\n",
      "Epoch 42/150\n",
      "953/953 - 54s - loss: 0.2425 - accuracy: 0.8849\n",
      "Epoch 43/150\n",
      "953/953 - 54s - loss: 0.2342 - accuracy: 0.8900\n",
      "Epoch 44/150\n",
      "953/953 - 54s - loss: 0.2383 - accuracy: 0.8887\n",
      "Epoch 45/150\n",
      "953/953 - 54s - loss: 0.2269 - accuracy: 0.8923\n",
      "Epoch 46/150\n",
      "953/953 - 54s - loss: 0.2249 - accuracy: 0.8924\n",
      "Epoch 47/150\n",
      "953/953 - 54s - loss: 0.2255 - accuracy: 0.8929\n",
      "Epoch 48/150\n",
      "953/953 - 54s - loss: 0.2196 - accuracy: 0.8949\n",
      "Epoch 49/150\n",
      "953/953 - 54s - loss: 0.2133 - accuracy: 0.8985\n",
      "Epoch 50/150\n",
      "953/953 - 54s - loss: 0.2131 - accuracy: 0.8969\n",
      "Epoch 51/150\n",
      "953/953 - 54s - loss: 0.2107 - accuracy: 0.9000\n",
      "Epoch 52/150\n",
      "953/953 - 54s - loss: 0.2052 - accuracy: 0.9007\n",
      "Epoch 53/150\n",
      "953/953 - 54s - loss: 0.2058 - accuracy: 0.9031\n",
      "Epoch 54/150\n",
      "953/953 - 54s - loss: 0.1986 - accuracy: 0.9041\n",
      "Epoch 55/150\n",
      "953/953 - 54s - loss: 0.1983 - accuracy: 0.9028\n",
      "Epoch 56/150\n",
      "953/953 - 54s - loss: 0.1951 - accuracy: 0.9057\n",
      "Epoch 57/150\n",
      "953/953 - 54s - loss: 0.1924 - accuracy: 0.9061\n",
      "Epoch 58/150\n",
      "953/953 - 54s - loss: 0.1882 - accuracy: 0.9075\n",
      "Epoch 59/150\n",
      "953/953 - 54s - loss: 0.1901 - accuracy: 0.9051\n",
      "Epoch 60/150\n",
      "953/953 - 54s - loss: 0.1816 - accuracy: 0.9105\n",
      "Epoch 61/150\n",
      "953/953 - 54s - loss: 0.1864 - accuracy: 0.9097\n",
      "Epoch 62/150\n",
      "953/953 - 54s - loss: 0.1774 - accuracy: 0.9095\n",
      "Epoch 63/150\n",
      "953/953 - 54s - loss: 0.1761 - accuracy: 0.9126\n",
      "Epoch 64/150\n",
      "953/953 - 54s - loss: 0.1784 - accuracy: 0.9134\n",
      "Epoch 65/150\n",
      "953/953 - 54s - loss: 0.1703 - accuracy: 0.9158\n",
      "Epoch 66/150\n",
      "953/953 - 54s - loss: 0.1726 - accuracy: 0.9130\n",
      "Epoch 67/150\n",
      "953/953 - 54s - loss: 0.1752 - accuracy: 0.9111\n",
      "Epoch 68/150\n",
      "953/953 - 54s - loss: 0.1646 - accuracy: 0.9166\n",
      "Epoch 69/150\n",
      "953/953 - 54s - loss: 0.1611 - accuracy: 0.9181\n",
      "Epoch 70/150\n",
      "953/953 - 54s - loss: 0.1621 - accuracy: 0.9167\n",
      "Epoch 71/150\n",
      "953/953 - 54s - loss: 0.1624 - accuracy: 0.9160\n",
      "Epoch 72/150\n",
      "953/953 - 54s - loss: 0.1611 - accuracy: 0.9182\n",
      "Epoch 73/150\n",
      "953/953 - 54s - loss: 0.1616 - accuracy: 0.9187\n",
      "Epoch 74/150\n",
      "953/953 - 54s - loss: 0.1531 - accuracy: 0.9197\n",
      "Epoch 75/150\n",
      "953/953 - 54s - loss: 0.1587 - accuracy: 0.9180\n",
      "Epoch 76/150\n",
      "953/953 - 54s - loss: 0.1502 - accuracy: 0.9227\n",
      "Epoch 77/150\n",
      "953/953 - 54s - loss: 0.1505 - accuracy: 0.9210\n",
      "Epoch 78/150\n",
      "953/953 - 54s - loss: 0.1468 - accuracy: 0.9230\n",
      "Epoch 79/150\n",
      "953/953 - 54s - loss: 0.1472 - accuracy: 0.9220\n",
      "Epoch 80/150\n",
      "953/953 - 54s - loss: 0.1449 - accuracy: 0.9248\n",
      "Epoch 81/150\n",
      "953/953 - 54s - loss: 0.1415 - accuracy: 0.9271\n",
      "Epoch 82/150\n",
      "953/953 - 54s - loss: 0.1422 - accuracy: 0.9251\n",
      "Epoch 83/150\n",
      "953/953 - 54s - loss: 0.1403 - accuracy: 0.9266\n",
      "Epoch 84/150\n",
      "953/953 - 54s - loss: 0.1389 - accuracy: 0.9280\n",
      "Epoch 85/150\n",
      "953/953 - 54s - loss: 0.1429 - accuracy: 0.9251\n",
      "Epoch 86/150\n",
      "953/953 - 54s - loss: 0.1356 - accuracy: 0.9269\n",
      "Epoch 87/150\n",
      "953/953 - 54s - loss: 0.1315 - accuracy: 0.9296\n",
      "Epoch 88/150\n",
      "953/953 - 54s - loss: 0.1339 - accuracy: 0.9287\n",
      "Epoch 89/150\n",
      "953/953 - 54s - loss: 0.1307 - accuracy: 0.9311\n",
      "Epoch 90/150\n",
      "953/953 - 54s - loss: 0.1250 - accuracy: 0.9328\n",
      "Epoch 91/150\n",
      "953/953 - 54s - loss: 0.1386 - accuracy: 0.9265\n",
      "Epoch 92/150\n",
      "953/953 - 54s - loss: 0.1242 - accuracy: 0.9319\n",
      "Epoch 93/150\n",
      "953/953 - 54s - loss: 0.1251 - accuracy: 0.9314\n",
      "Epoch 94/150\n",
      "953/953 - 54s - loss: 0.1263 - accuracy: 0.9321\n",
      "Epoch 95/150\n",
      "953/953 - 54s - loss: 0.1200 - accuracy: 0.9336\n",
      "Epoch 96/150\n",
      "953/953 - 54s - loss: 0.1228 - accuracy: 0.9348\n",
      "Epoch 97/150\n",
      "953/953 - 54s - loss: 0.1195 - accuracy: 0.9363\n",
      "Epoch 98/150\n",
      "953/953 - 54s - loss: 0.1256 - accuracy: 0.9316\n",
      "Epoch 99/150\n",
      "953/953 - 54s - loss: 0.1147 - accuracy: 0.9369\n",
      "Epoch 100/150\n",
      "953/953 - 54s - loss: 0.1211 - accuracy: 0.9321\n",
      "Epoch 101/150\n",
      "953/953 - 54s - loss: 0.1166 - accuracy: 0.9370\n",
      "Epoch 102/150\n",
      "953/953 - 54s - loss: 0.1122 - accuracy: 0.9375\n",
      "Epoch 103/150\n",
      "953/953 - 54s - loss: 0.1125 - accuracy: 0.9372\n",
      "Epoch 104/150\n",
      "953/953 - 54s - loss: 0.1109 - accuracy: 0.9403\n",
      "Epoch 105/150\n",
      "953/953 - 54s - loss: 0.1133 - accuracy: 0.9372\n",
      "Epoch 106/150\n",
      "953/953 - 54s - loss: 0.1067 - accuracy: 0.9401\n",
      "Epoch 107/150\n",
      "953/953 - 54s - loss: 0.1087 - accuracy: 0.9402\n",
      "Epoch 108/150\n",
      "953/953 - 54s - loss: 0.1084 - accuracy: 0.9379\n",
      "Epoch 109/150\n",
      "953/953 - 54s - loss: 0.1061 - accuracy: 0.9418\n",
      "Epoch 110/150\n",
      "953/953 - 54s - loss: 0.1058 - accuracy: 0.9418\n",
      "Epoch 111/150\n",
      "953/953 - 54s - loss: 0.1047 - accuracy: 0.9435\n",
      "Epoch 112/150\n",
      "953/953 - 54s - loss: 0.1037 - accuracy: 0.9420\n",
      "Epoch 113/150\n",
      "953/953 - 54s - loss: 0.0993 - accuracy: 0.9424\n",
      "Epoch 114/150\n",
      "953/953 - 54s - loss: 0.1025 - accuracy: 0.9446\n",
      "Epoch 115/150\n",
      "953/953 - 54s - loss: 0.1007 - accuracy: 0.9422\n",
      "Epoch 116/150\n",
      "953/953 - 54s - loss: 0.1060 - accuracy: 0.9424\n",
      "Epoch 117/150\n",
      "953/953 - 54s - loss: 0.0989 - accuracy: 0.9425\n",
      "Epoch 118/150\n",
      "953/953 - 54s - loss: 0.0924 - accuracy: 0.9487\n",
      "Epoch 119/150\n",
      "953/953 - 54s - loss: 0.0963 - accuracy: 0.9462\n",
      "Epoch 120/150\n",
      "953/953 - 54s - loss: 0.0919 - accuracy: 0.9471\n",
      "Epoch 121/150\n",
      "953/953 - 54s - loss: 0.0984 - accuracy: 0.9441\n",
      "Epoch 122/150\n",
      "953/953 - 54s - loss: 0.0913 - accuracy: 0.9492\n",
      "Epoch 123/150\n",
      "953/953 - 54s - loss: 0.0916 - accuracy: 0.9484\n",
      "Epoch 124/150\n",
      "953/953 - 54s - loss: 0.0892 - accuracy: 0.9477\n",
      "Epoch 125/150\n",
      "953/953 - 54s - loss: 0.0893 - accuracy: 0.9486\n",
      "Epoch 126/150\n",
      "953/953 - 54s - loss: 0.0899 - accuracy: 0.9486\n",
      "Epoch 127/150\n",
      "953/953 - 54s - loss: 0.0884 - accuracy: 0.9500\n",
      "Epoch 128/150\n",
      "953/953 - 54s - loss: 0.0933 - accuracy: 0.9479\n",
      "Epoch 129/150\n",
      "953/953 - 54s - loss: 0.0844 - accuracy: 0.9514\n",
      "Epoch 130/150\n",
      "953/953 - 54s - loss: 0.0880 - accuracy: 0.9487\n",
      "Epoch 131/150\n",
      "953/953 - 54s - loss: 0.0872 - accuracy: 0.9500\n",
      "Epoch 132/150\n",
      "953/953 - 54s - loss: 0.0802 - accuracy: 0.9534\n",
      "Epoch 133/150\n",
      "953/953 - 54s - loss: 0.0838 - accuracy: 0.9537\n",
      "Epoch 134/150\n",
      "953/953 - 54s - loss: 0.0806 - accuracy: 0.9534\n",
      "Epoch 135/150\n",
      "953/953 - 54s - loss: 0.0807 - accuracy: 0.9533\n",
      "Epoch 136/150\n",
      "953/953 - 54s - loss: 0.0831 - accuracy: 0.9512\n",
      "Epoch 137/150\n",
      "953/953 - 54s - loss: 0.0811 - accuracy: 0.9545\n",
      "Epoch 138/150\n",
      "953/953 - 54s - loss: 0.0765 - accuracy: 0.9572\n",
      "Epoch 139/150\n",
      "953/953 - 54s - loss: 0.0792 - accuracy: 0.9537\n",
      "Epoch 140/150\n",
      "953/953 - 54s - loss: 0.0789 - accuracy: 0.9542\n",
      "Epoch 141/150\n",
      "953/953 - 54s - loss: 0.0745 - accuracy: 0.9574\n",
      "Epoch 142/150\n",
      "953/953 - 54s - loss: 0.0740 - accuracy: 0.9576\n",
      "Epoch 143/150\n",
      "953/953 - 54s - loss: 0.0786 - accuracy: 0.9546\n",
      "Epoch 144/150\n",
      "953/953 - 54s - loss: 0.0761 - accuracy: 0.9559\n",
      "Epoch 145/150\n",
      "953/953 - 54s - loss: 0.0764 - accuracy: 0.9553\n",
      "Epoch 146/150\n",
      "953/953 - 53s - loss: 0.0702 - accuracy: 0.9603\n",
      "Epoch 147/150\n",
      "953/953 - 54s - loss: 0.0715 - accuracy: 0.9591\n",
      "Epoch 148/150\n",
      "953/953 - 54s - loss: 0.0711 - accuracy: 0.9595\n",
      "Epoch 149/150\n",
      "953/953 - 54s - loss: 0.0965 - accuracy: 0.9489\n",
      "Epoch 150/150\n",
      "953/953 - 54s - loss: 0.0736 - accuracy: 0.9568\n",
      "239/239 - 4s\n",
      "Normalized confusion matrix\n",
      "                  precision    recall  f1-score   support\n",
      "\n",
      "            HEKA       1.00      0.99      0.99       146\n",
      "  fridge/freezer       0.99      0.97      0.98      3893\n",
      "            HTPC       0.87      0.76      0.81      1173\n",
      "    audio system       0.63      0.86      0.73       276\n",
      "broadband router       0.96      1.00      0.98       314\n",
      "    coffee maker       0.90      1.00      0.95        65\n",
      "        computer       0.92      0.94      0.93       839\n",
      "            lamp       0.81      0.82      0.81       216\n",
      " laptop computer       0.75      0.90      0.82       514\n",
      "       microwave       0.97      0.99      0.98       134\n",
      " washing machine       1.00      0.96      0.98        47\n",
      "\n",
      "        accuracy                           0.92      7617\n",
      "       macro avg       0.89      0.92      0.91      7617\n",
      "    weighted avg       0.93      0.92      0.92      7617\n",
      "\n"
     ]
    },
    {
     "name": "stderr",
     "output_type": "stream",
     "text": [
      "2022-02-09 18:32:37.380523: W tensorflow/python/util/util.cc:348] Sets are not currently considered sequences, but this may change in the future, so consider avoiding using them.\n",
      "WARNING:absl:Found untraced functions such as lstm_cell_1_layer_call_and_return_conditional_losses, lstm_cell_1_layer_call_fn, lstm_cell_2_layer_call_and_return_conditional_losses, lstm_cell_2_layer_call_fn, lstm_cell_4_layer_call_and_return_conditional_losses while saving (showing 5 of 20). These functions will not be directly callable after loading.\n"
     ]
    },
    {
     "name": "stdout",
     "output_type": "stream",
     "text": [
      "INFO:tensorflow:Assets written to: /workspace/notebooks/models/BI_LSTM/eco_42/assets\n"
     ]
    },
    {
     "name": "stderr",
     "output_type": "stream",
     "text": [
      "INFO:tensorflow:Assets written to: /workspace/notebooks/models/BI_LSTM/eco_42/assets\n"
     ]
    },
    {
     "data": {
      "image/png": "[encoded data removed]",
      "text/plain": [
       "<Figure size 720x720 with 2 Axes>"
      ]
     },
     "metadata": {
      "needs_background": "light"
     },
     "output_type": "display_data"
    }
   ],
   "source": [
    "# %%capture cap --no-stderr\n",
    "\n",
    "\n",
    "if environ['train_type'] == \"BB\":\n",
    "\n",
    "    #define generator\n",
    "    train_gen = HDF5ImageGenerator(\n",
    "        src= path_data,\n",
    "        X_key=\"data/train/gaf\",\n",
    "        y_key=\"labels/train/gaf\",\n",
    "        classes_key=\"appliances/classes\",\n",
    "        labels_encoding=\"hot\",\n",
    "        shuffle=True,\n",
    "        batch_size=int(environ['batch_size']),\n",
    "        num_classes=num_of_classes,\n",
    "        mode=\"train\",\n",
    "        )\n",
    "    \n",
    "    model = select_model(environ['learn_type'])\n",
    "    \n",
    "    txt_log.write(\"fitting BB model: \\n\")\n",
    "    \n",
    "    model.fit(\n",
    "        train_gen,\n",
    "        verbose=2,\n",
    "        epochs=int(environ['epochs']),\n",
    "        class_weight=d_class_weights,\n",
    "        callbacks = [save_op_callback],\n",
    "    )\n",
    "    \n",
    "    txt_log.write(\"finished fitting BB model: \\n\")\n",
    "\n",
    "    evaluate_model(model,x_test,y_test,appliances)\n",
    "    \n",
    "    if environ['save_model']==\"True\":\n",
    "\n",
    "        path_model_save = path+\"/models/\"+environ['learn_type']+\"/\"+dataset.split(\"_\")[0]+\"_\"+dataset.split(\"_R\")[1][0:2]\n",
    "        model.save(path_model_save)\n",
    "        txt_log.write(\"model saved to:\"+\"/models/\"+environ['learn_type']+\"/\"+dataset.split(\"_\")[0]+\"_\"+dataset.split(\"_R\")[1][0:2]+\" \\n\")\n",
    "        \n",
    "        \n",
    "# with open(path_save+\"_out_log.txt\" as f:\n",
    "#     f.write(cap.stdout)\n"
   ]
  },
  {
   "cell_type": "code",
   "execution_count": 13,
   "metadata": {
    "collapsed": true,
    "execution": {
     "iopub.execute_input": "2022-02-09T18:32:48.134567Z",
     "iopub.status.busy": "2022-02-09T18:32:48.133407Z",
     "iopub.status.idle": "2022-02-09T18:32:48.135819Z",
     "shell.execute_reply": "2022-02-09T18:32:48.136806Z"
    }
   },
   "outputs": [],
   "source": [
    "#model = keras.models.load_model(path_model1)\n",
    "# model_used = model"
   ]
  },
  {
   "cell_type": "code",
   "execution_count": 14,
   "metadata": {
    "collapsed": true,
    "execution": {
     "iopub.execute_input": "2022-02-09T18:32:48.143527Z",
     "iopub.status.busy": "2022-02-09T18:32:48.142443Z",
     "iopub.status.idle": "2022-02-09T18:32:48.145074Z",
     "shell.execute_reply": "2022-02-09T18:32:48.145977Z"
    },
    "jupyter": {
     "outputs_hidden": true
    },
    "tags": []
   },
   "outputs": [],
   "source": [
    "# evaluate_model(model,x_test,y_test,appliances)"
   ]
  },
  {
   "cell_type": "code",
   "execution_count": 15,
   "metadata": {
    "collapsed": true,
    "execution": {
     "iopub.execute_input": "2022-02-09T18:32:48.165218Z",
     "iopub.status.busy": "2022-02-09T18:32:48.155445Z",
     "iopub.status.idle": "2022-02-09T18:32:48.167985Z",
     "shell.execute_reply": "2022-02-09T18:32:48.166969Z"
    }
   },
   "outputs": [],
   "source": [
    "# datasets =[\n",
    "#     \"ukdale_gen_GASF_13m_100S5X12A54480_R82_80-20\"\n",
    "# ]\n",
    "\n",
    "if environ['train_type'] == \"TL\": \n",
    "    models = environ['tl_datasets'].replace(\" \",\"\").split(\",\")\n",
    "    #model = [\"base\"]\n",
    "    \n",
    "    for model in models:\n",
    "    \n",
    "        file_name = dataset\n",
    "        \n",
    "        datasetTL = model\n",
    "        \n",
    "        seed = dataset.split(\"_R\")[1][0:2]\n",
    "        \n",
    "        print(\"using dataset data\",dataset.split(\"_\")[0],\"training on model\",model,\"seed\",environ['seed'])\n",
    "        txt_log.write(\"starting \"+dataset.split(\"_\")[0]+\" training on model \"+model+\" seed \"+environ['seed']+\"\\n\")\n",
    "\n",
    "\n",
    "        tf.keras.backend.clear_session()\n",
    "\n",
    "\n",
    "        #read the file\n",
    "        path = str(pathlib.Path().resolve())\n",
    "        path_data = f\"{path}\"\"/data/\"f\"{file_name}\"\"/\"f\"{file_name}\"\".hdf5\"\n",
    "        file = h5py.File(path_data,\"r+\")\n",
    "\n",
    "\n",
    "        print(\"reading data, printing stats: \")\n",
    "        x_test,y_test,d_class_weights,num_of_classes,appliances = get_data(file)\n",
    "        print(\"loading model\")\n",
    "        \n",
    "        model_seed = 42\n",
    "        model_used = create_tl_model(model,environ['learn_type'],model_seed,path,num_of_classes)\n",
    "                \n",
    "        train_gen = HDF5ImageGenerator(\n",
    "            src= path_data,\n",
    "            X_key=\"data/train/gaf\",\n",
    "            y_key=\"labels/train/gaf\",\n",
    "            classes_key=\"appliances/classes\",\n",
    "            labels_encoding=\"hot\",\n",
    "            shuffle=True,\n",
    "            batch_size=int(environ['batch_size']),\n",
    "            num_classes=num_of_classes,\n",
    "            mode=\"train\",\n",
    "            )\n",
    "\n",
    "        model_used.fit(\n",
    "            train_gen,\n",
    "            verbose=2,\n",
    "            epochs=int(environ['epochs']),\n",
    "            class_weight=d_class_weights,\n",
    "            callbacks = [save_op_callback]\n",
    "            #workers = 6,\n",
    "        )\n",
    "        \n",
    "        txt_log.write(\"finished \"+dataset.split(\"_\")[0]+\" training on model \"+model+\" seed \"+environ['seed']+\"\\n\")\n",
    "\n",
    "\n",
    "        evaluate_model(model_used,x_test,y_test,appliances)\n",
    "        \n",
    "\n",
    "\n",
    "\n",
    "        #del model_used\n",
    "\n"
   ]
  },
  {
   "cell_type": "code",
   "execution_count": 16,
   "metadata": {
    "execution": {
     "iopub.execute_input": "2022-02-09T18:32:48.173809Z",
     "iopub.status.busy": "2022-02-09T18:32:48.172648Z",
     "iopub.status.idle": "2022-02-09T18:32:48.175068Z",
     "shell.execute_reply": "2022-02-09T18:32:48.176033Z"
    }
   },
   "outputs": [],
   "source": [
    "txt_log.close()"
   ]
  },
  {
   "cell_type": "code",
   "execution_count": null,
   "metadata": {},
   "outputs": [],
   "source": []
  }
 ],
 "metadata": {
  "colab": {
   "authorship_tag": "ABX9TyMej4PvP65qsLng7TnQKWA4",
   "name": "LSTM-gen",
   "provenance": []
  },
  "kernelspec": {
   "display_name": "Python 3 (ipykernel)",
   "language": "python",
   "name": "python3"
  },
  "language_info": {
   "codemirror_mode": {
    "name": "ipython",
    "version": 3
   },
   "file_extension": ".py",
   "mimetype": "text/x-python",
   "name": "python",
   "nbconvert_exporter": "python",
   "pygments_lexer": "ipython3",
   "version": "3.8.10"
  }
 },
 "nbformat": 4,
 "nbformat_minor": 4
}
