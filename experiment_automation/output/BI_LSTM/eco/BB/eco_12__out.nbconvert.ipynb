{
 "cells": [
  {
   "cell_type": "code",
   "execution_count": 1,
   "metadata": {
    "execution": {
     "iopub.execute_input": "2022-02-09T14:02:53.087162Z",
     "iopub.status.busy": "2022-02-09T14:02:53.085717Z",
     "iopub.status.idle": "2022-02-09T14:02:54.784543Z",
     "shell.execute_reply": "2022-02-09T14:02:54.783219Z"
    },
    "id": "WqUfHWgtJxtu",
    "scrolled": true,
    "tags": []
   },
   "outputs": [
    {
     "name": "stderr",
     "output_type": "stream",
     "text": [
      "2022-02-09 14:02:53.913636: I tensorflow/stream_executor/platform/default/dso_loader.cc:54] Successfully opened dynamic library libcudart.so.11.0\n"
     ]
    },
    {
     "name": "stdout",
     "output_type": "stream",
     "text": [
      "2.5.0\n",
      "Num GPUs Available:  1\n"
     ]
    },
    {
     "name": "stderr",
     "output_type": "stream",
     "text": [
      "2022-02-09 14:02:54.717686: I tensorflow/stream_executor/platform/default/dso_loader.cc:54] Successfully opened dynamic library libcuda.so.1\n",
      "2022-02-09 14:02:54.767065: I tensorflow/core/common_runtime/gpu/gpu_device.cc:1734] Found device 0 with properties: \n",
      "pciBusID: 0000:21:00.0 name: NVIDIA GeForce RTX 2080 Ti computeCapability: 7.5\n",
      "coreClock: 1.545GHz coreCount: 68 deviceMemorySize: 10.76GiB deviceMemoryBandwidth: 573.69GiB/s\n",
      "2022-02-09 14:02:54.767112: I tensorflow/stream_executor/platform/default/dso_loader.cc:54] Successfully opened dynamic library libcudart.so.11.0\n",
      "2022-02-09 14:02:54.771254: I tensorflow/stream_executor/platform/default/dso_loader.cc:54] Successfully opened dynamic library libcublas.so.11\n",
      "2022-02-09 14:02:54.771323: I tensorflow/stream_executor/platform/default/dso_loader.cc:54] Successfully opened dynamic library libcublasLt.so.11\n",
      "2022-02-09 14:02:54.773304: I tensorflow/stream_executor/platform/default/dso_loader.cc:54] Successfully opened dynamic library libcufft.so.10\n",
      "2022-02-09 14:02:54.773602: I tensorflow/stream_executor/platform/default/dso_loader.cc:54] Successfully opened dynamic library libcurand.so.10\n",
      "2022-02-09 14:02:54.774317: I tensorflow/stream_executor/platform/default/dso_loader.cc:54] Successfully opened dynamic library libcutensor.so.1\n",
      "2022-02-09 14:02:54.774821: I tensorflow/stream_executor/platform/default/dso_loader.cc:54] Successfully opened dynamic library libcusolver.so.11\n",
      "2022-02-09 14:02:54.775567: I tensorflow/stream_executor/platform/default/dso_loader.cc:54] Successfully opened dynamic library libcusparse.so.11\n",
      "2022-02-09 14:02:54.775705: I tensorflow/stream_executor/platform/default/dso_loader.cc:54] Successfully opened dynamic library libcudnn.so.8\n",
      "2022-02-09 14:02:54.776069: I tensorflow/core/common_runtime/gpu/gpu_device.cc:1872] Adding visible gpu devices: 0\n"
     ]
    }
   ],
   "source": [
    "import h5py\n",
    "import numpy as np\n",
    "\n",
    "from sklearn.model_selection import train_test_split\n",
    "from sklearn.metrics import classification_report, confusion_matrix\n",
    "import matplotlib.pyplot as plt\n",
    "import itertools \n",
    "import pyts\n",
    "from pyts.approximation import PiecewiseAggregateApproximation\n",
    "\n",
    "from sklearn.utils import class_weight\n",
    "\n",
    "import pathlib\n",
    "import tensorflow as tf\n",
    "from tensorflow import keras\n",
    "from tensorflow.keras import layers, optimizers\n",
    "from tensorflow.keras.layers import Convolution2D,Conv2D, Dense,Dropout, Flatten, Activation, MaxPooling2D, Input, Conv1D, GlobalAveragePooling1D, TimeDistributed, GRU, LSTM\n",
    "\n",
    "print(tf.__version__)\n",
    "print(\"Num GPUs Available: \", len(tf.config.list_physical_devices('GPU')))\n",
    "gpus = tf.config.experimental.list_physical_devices('GPU')\n",
    "\n",
    "try:\n",
    "    for gpu in gpus:\n",
    "        tf.config.experimental.set_memory_growth(gpu, True)\n",
    "except RuntimeError as e:\n",
    "    print(e)"
   ]
  },
  {
   "cell_type": "code",
   "execution_count": 2,
   "metadata": {
    "execution": {
     "iopub.execute_input": "2022-02-09T14:02:54.790639Z",
     "iopub.status.busy": "2022-02-09T14:02:54.789359Z",
     "iopub.status.idle": "2022-02-09T14:02:54.794588Z",
     "shell.execute_reply": "2022-02-09T14:02:54.793607Z"
    }
   },
   "outputs": [
    {
     "name": "stdout",
     "output_type": "stream",
     "text": [
      "eco_gen_GASF_13m_100S5X11A38085_R12_80-20\n"
     ]
    }
   ],
   "source": [
    "from os import environ\n",
    "dataset = environ['dataset']\n",
    "print(dataset)"
   ]
  },
  {
   "cell_type": "code",
   "execution_count": 3,
   "metadata": {
    "execution": {
     "iopub.execute_input": "2022-02-09T14:02:54.800769Z",
     "iopub.status.busy": "2022-02-09T14:02:54.799639Z",
     "iopub.status.idle": "2022-02-09T14:02:54.803340Z",
     "shell.execute_reply": "2022-02-09T14:02:54.804437Z"
    }
   },
   "outputs": [],
   "source": [
    "#my defs \n",
    "from modules.models import  LSTM_3D_V56, CNN_V56,LSTM_BI_V56\n",
    "from modules.tools import my_print, plot_confusion_matrix_norm, get_data,get_data_split, evaluate_model, create_tl_model\n",
    "from modules.HDF5ImageGenerator import HDF5ImageGenerator"
   ]
  },
  {
   "cell_type": "code",
   "execution_count": 4,
   "metadata": {
    "execution": {
     "iopub.execute_input": "2022-02-09T14:02:54.813674Z",
     "iopub.status.busy": "2022-02-09T14:02:54.812427Z",
     "iopub.status.idle": "2022-02-09T14:02:54.815050Z",
     "shell.execute_reply": "2022-02-09T14:02:54.816148Z"
    },
    "id": "RT1vwq7-KOtB"
   },
   "outputs": [],
   "source": [
    "#LOAD DATASET\n",
    "#file_name = \"ukdale_gen_GASF_13m_100S5X12A54480\"\n",
    "#file_name = \"refit_gen_GASF_13m_100S5X_15A166006\"\n",
    "file_name = \"refit_gen_GASF_13m_100S5X_15A166006_R42-80-20\"\n",
    "#file_name = \"refit_gen_GASF_13m_100S5X_15A166006_R42_80-20\"\n",
    "file_name = \"refit_gen_GASF_60m_300S0X_15A157030N_R12_80-20-V1\"\n",
    "file_name = environ[\"dataset\"]\n",
    "#read the file\n",
    "path = str(pathlib.Path().resolve())\n",
    "\n",
    "path_data = f\"{path}\"\"/data/\"f\"{file_name}\"\"/\"f\"{file_name}\"\".hdf5\"\n",
    "\n",
    "file = h5py.File(path_data,\"r+\")"
   ]
  },
  {
   "cell_type": "code",
   "execution_count": 5,
   "metadata": {
    "execution": {
     "iopub.execute_input": "2022-02-09T14:02:54.824018Z",
     "iopub.status.busy": "2022-02-09T14:02:54.822742Z",
     "iopub.status.idle": "2022-02-09T14:02:55.601200Z",
     "shell.execute_reply": "2022-02-09T14:02:55.602259Z"
    },
    "scrolled": true
   },
   "outputs": [
    {
     "name": "stdout",
     "output_type": "stream",
     "text": [
      "['HEKA', 'fridge/freezer', 'HTPC', 'audio system', 'broadband router', 'coffee maker', 'computer', 'lamp', 'laptop computer', 'microwave', 'washing machine']\n",
      "{0: 4.72665218740304, 1: 0.17788312772578393, 2: 0.5904536733784229, 3: 2.508893280632411, 4: 2.2035148622260796, 5: 10.612330198537094, 6: 0.8248416265092858, 7: 3.213246150601139, 8: 1.347843397478434, 9: 5.1869254341164455, 10: 14.655122655122655}\n",
      " \n",
      "Tests \n",
      "HEKA test: 146 train: 586\n",
      "fridge/freezer test: 3893 train: 15571\n",
      "HTPC test: 1173 train: 4691\n",
      "audio system test: 276 train: 1104\n",
      "broadband router test: 314 train: 1257\n",
      "coffee maker test: 65 train: 261\n",
      "computer test: 839 train: 3358\n",
      "lamp test: 216 train: 862\n",
      "laptop computer test: 514 train: 2055\n",
      "microwave test: 134 train: 534\n",
      "washing machine test: 47 train: 189\n"
     ]
    }
   ],
   "source": [
    "x_test,y_test,d_class_weights,num_of_classes,appliances = get_data(file)"
   ]
  },
  {
   "cell_type": "code",
   "execution_count": 6,
   "metadata": {
    "execution": {
     "iopub.execute_input": "2022-02-09T14:02:55.610289Z",
     "iopub.status.busy": "2022-02-09T14:02:55.608984Z",
     "iopub.status.idle": "2022-02-09T14:02:55.613532Z",
     "shell.execute_reply": "2022-02-09T14:02:55.614545Z"
    }
   },
   "outputs": [],
   "source": [
    "def select_model(learn_type):\n",
    "    \n",
    "    if learn_type == \"CNN\":\n",
    "        model = CNN_V56(file[\"data/train/gaf\"][0:10],num_of_classes,lr= 0.00002)\n",
    "\n",
    "    if learn_type == \"LSTM\":\n",
    "        model = LSTM_3D_V56(file[\"data/train/gaf\"][0:10],num_of_classes,lr= 0.00002)\n",
    "\n",
    "    if learn_type == \"BI_LSTM\":\n",
    "        model = LSTM_BI_V56(file[\"data/train/gaf\"][0:10],num_of_classes,lr= 0.00002)\n",
    "\n",
    "    return model\n",
    "              "
   ]
  },
  {
   "cell_type": "code",
   "execution_count": 7,
   "metadata": {
    "execution": {
     "iopub.execute_input": "2022-02-09T14:02:55.621502Z",
     "iopub.status.busy": "2022-02-09T14:02:55.620180Z",
     "iopub.status.idle": "2022-02-09T14:02:55.622875Z",
     "shell.execute_reply": "2022-02-09T14:02:55.623920Z"
    }
   },
   "outputs": [],
   "source": [
    "path_save = path+'/experiment_automation/output/'+environ['learn_type']+'/'+dataset.split(\"_\")[0]+\"/\"+environ['train_type']+\"/\"+dataset.split(\"_\")[0]+\"_\"+environ['seed']+\"_\"+environ['tl_datasets']\n",
    "path_save_nb = path_save+\"_out.ipynb\"\n",
    "path_save_log = path_save+\"_out_log2.txt\""
   ]
  },
  {
   "cell_type": "code",
   "execution_count": 8,
   "metadata": {
    "execution": {
     "iopub.execute_input": "2022-02-09T14:02:55.632078Z",
     "iopub.status.busy": "2022-02-09T14:02:55.630760Z",
     "iopub.status.idle": "2022-02-09T14:02:55.720395Z",
     "shell.execute_reply": "2022-02-09T14:02:55.719411Z"
    }
   },
   "outputs": [],
   "source": [
    "from keras.callbacks import LambdaCallback\n",
    "#path_log= path+'/experiment_automation/output/'+environ['learn_type']+'/'+dataset.split(\"_\")[0]+\"/\"+environ['train_type']+\"/\"+dataset.split(\"_\")[0]+\"_\"+environ['seed']+\"_\"+environ['tl_datasets']+\"_log.txt\"\n",
    "txt_log = open(path_save+\"_log.txt\", mode='wt', buffering=1)\n",
    "txt_log.write(\"file created! \\n\")\n",
    "\n",
    "save_op_callback = LambdaCallback(\n",
    "  on_epoch_end = lambda epoch, logs: txt_log.write(\n",
    "    str({'epoch': epoch, 'loss': logs['loss'],'acc': logs['accuracy']}) + '\\n'),\n",
    "                                                           \n",
    ")"
   ]
  },
  {
   "cell_type": "code",
   "execution_count": 9,
   "metadata": {
    "execution": {
     "iopub.execute_input": "2022-02-09T14:02:55.723862Z",
     "iopub.status.busy": "2022-02-09T14:02:55.723450Z",
     "iopub.status.idle": "2022-02-09T14:02:55.727359Z",
     "shell.execute_reply": "2022-02-09T14:02:55.727689Z"
    }
   },
   "outputs": [
    {
     "name": "stdout",
     "output_type": "stream",
     "text": [
      "/workspace/notebooks/experiment_automation/output/BI_LSTM/eco/BB/eco_12__out.ipynb\n"
     ]
    }
   ],
   "source": [
    "print(path_save_nb)"
   ]
  },
  {
   "cell_type": "code",
   "execution_count": 10,
   "metadata": {
    "execution": {
     "iopub.execute_input": "2022-02-09T14:02:55.732895Z",
     "iopub.status.busy": "2022-02-09T14:02:55.732390Z",
     "iopub.status.idle": "2022-02-09T14:02:55.735348Z",
     "shell.execute_reply": "2022-02-09T14:02:55.735749Z"
    }
   },
   "outputs": [],
   "source": [
    "# rm $path_save_log"
   ]
  },
  {
   "cell_type": "code",
   "execution_count": 11,
   "metadata": {
    "execution": {
     "iopub.execute_input": "2022-02-09T14:02:55.741278Z",
     "iopub.status.busy": "2022-02-09T14:02:55.740603Z",
     "iopub.status.idle": "2022-02-09T14:02:55.743623Z",
     "shell.execute_reply": "2022-02-09T14:02:55.744170Z"
    }
   },
   "outputs": [],
   "source": [
    "# %%capture cap \n",
    "\n",
    "# with open(path_save_log,\"wt\") as f:\n",
    "#     f.write(cap.stdout)\n",
    "    \n",
    "# print(\"out capture..\")"
   ]
  },
  {
   "cell_type": "code",
   "execution_count": 12,
   "metadata": {
    "execution": {
     "iopub.execute_input": "2022-02-09T14:02:55.764204Z",
     "iopub.status.busy": "2022-02-09T14:02:55.763238Z",
     "iopub.status.idle": "2022-02-09T16:17:48.854142Z",
     "shell.execute_reply": "2022-02-09T16:17:48.854480Z"
    },
    "id": "vqA9NwOqKrb5",
    "jupyter": {
     "outputs_hidden": true
    },
    "tags": []
   },
   "outputs": [
    {
     "name": "stdout",
     "output_type": "stream",
     "text": [
      "Normal way\n",
      "[0 1 2 3 4 5 6 7 8 9]\n"
     ]
    },
    {
     "name": "stderr",
     "output_type": "stream",
     "text": [
      "2022-02-09 14:02:55.779945: I tensorflow/core/common_runtime/gpu/gpu_device.cc:1734] Found device 0 with properties: \n",
      "pciBusID: 0000:21:00.0 name: NVIDIA GeForce RTX 2080 Ti computeCapability: 7.5\n",
      "coreClock: 1.545GHz coreCount: 68 deviceMemorySize: 10.76GiB deviceMemoryBandwidth: 573.69GiB/s\n",
      "2022-02-09 14:02:55.780288: I tensorflow/core/common_runtime/gpu/gpu_device.cc:1872] Adding visible gpu devices: 0\n",
      "2022-02-09 14:02:55.780338: I tensorflow/stream_executor/platform/default/dso_loader.cc:54] Successfully opened dynamic library libcudart.so.11.0\n",
      "2022-02-09 14:02:56.163648: I tensorflow/core/common_runtime/gpu/gpu_device.cc:1258] Device interconnect StreamExecutor with strength 1 edge matrix:\n",
      "2022-02-09 14:02:56.163684: I tensorflow/core/common_runtime/gpu/gpu_device.cc:1264]      0 \n",
      "2022-02-09 14:02:56.163691: I tensorflow/core/common_runtime/gpu/gpu_device.cc:1277] 0:   N \n",
      "2022-02-09 14:02:56.164291: I tensorflow/core/common_runtime/gpu/gpu_device.cc:1418] Created TensorFlow device (/job:localhost/replica:0/task:0/device:GPU:0 with 9649 MB memory) -> physical GPU (device: 0, name: NVIDIA GeForce RTX 2080 Ti, pci bus id: 0000:21:00.0, compute capability: 7.5)\n",
      "2022-02-09 14:02:56.164630: I tensorflow/core/common_runtime/process_util.cc:146] Creating new thread pool with default inter op setting: 20. Tune using inter_op_parallelism_threads for best performance.\n"
     ]
    },
    {
     "name": "stdout",
     "output_type": "stream",
     "text": [
      "WARNING:tensorflow:From /usr/local/lib/python3.8/dist-packages/tensorflow/python/ops/array_ops.py:5043: calling gather (from tensorflow.python.ops.array_ops) with validate_indices is deprecated and will be removed in a future version.\n",
      "Instructions for updating:\n",
      "The `validate_indices` argument has no effect. Indices are always validated on CPU and never validated on GPU.\n",
      "Epoch 1/150\n"
     ]
    },
    {
     "name": "stderr",
     "output_type": "stream",
     "text": [
      "2022-02-09 14:02:56.958324: I tensorflow/compiler/mlir/mlir_graph_optimization_pass.cc:176] None of the MLIR Optimization Passes are enabled (registered 2)\n",
      "2022-02-09 14:02:56.976621: I tensorflow/core/platform/profile_utils/cpu_utils.cc:114] CPU Frequency: 3299990000 Hz\n",
      "2022-02-09 14:03:00.521500: I tensorflow/stream_executor/platform/default/dso_loader.cc:54] Successfully opened dynamic library libcudnn.so.8\n",
      "2022-02-09 14:03:00.994003: I tensorflow/stream_executor/cuda/cuda_dnn.cc:380] Loaded cuDNN version 8202\n",
      "2022-02-09 14:03:01.490901: I tensorflow/stream_executor/platform/default/dso_loader.cc:54] Successfully opened dynamic library libcublas.so.11\n",
      "2022-02-09 14:03:01.911371: I tensorflow/stream_executor/platform/default/dso_loader.cc:54] Successfully opened dynamic library libcublasLt.so.11\n"
     ]
    },
    {
     "name": "stdout",
     "output_type": "stream",
     "text": [
      "953/953 - 60s - loss: 2.1035 - accuracy: 0.4096\n",
      "Epoch 2/150\n",
      "953/953 - 54s - loss: 1.6431 - accuracy: 0.5182\n",
      "Epoch 3/150\n",
      "953/953 - 54s - loss: 1.2599 - accuracy: 0.5848\n",
      "Epoch 4/150\n",
      "953/953 - 54s - loss: 0.9734 - accuracy: 0.6198\n",
      "Epoch 5/150\n",
      "953/953 - 54s - loss: 0.8254 - accuracy: 0.6501\n",
      "Epoch 6/150\n",
      "953/953 - 54s - loss: 0.7215 - accuracy: 0.6802\n",
      "Epoch 7/150\n",
      "953/953 - 54s - loss: 0.6552 - accuracy: 0.7090\n",
      "Epoch 8/150\n",
      "953/953 - 54s - loss: 0.6041 - accuracy: 0.7289\n",
      "Epoch 9/150\n",
      "953/953 - 54s - loss: 0.5640 - accuracy: 0.7448\n",
      "Epoch 10/150\n",
      "953/953 - 54s - loss: 0.5241 - accuracy: 0.7630\n",
      "Epoch 11/150\n",
      "953/953 - 54s - loss: 0.4960 - accuracy: 0.7749\n",
      "Epoch 12/150\n",
      "953/953 - 54s - loss: 0.4751 - accuracy: 0.7831\n",
      "Epoch 13/150\n",
      "953/953 - 54s - loss: 0.4487 - accuracy: 0.7913\n",
      "Epoch 14/150\n",
      "953/953 - 54s - loss: 0.4432 - accuracy: 0.7908\n",
      "Epoch 15/150\n",
      "953/953 - 54s - loss: 0.4188 - accuracy: 0.8073\n",
      "Epoch 16/150\n",
      "953/953 - 54s - loss: 0.4002 - accuracy: 0.8108\n",
      "Epoch 17/150\n",
      "953/953 - 54s - loss: 0.3926 - accuracy: 0.8143\n",
      "Epoch 18/150\n",
      "953/953 - 54s - loss: 0.3805 - accuracy: 0.8193\n",
      "Epoch 19/150\n",
      "953/953 - 54s - loss: 0.3696 - accuracy: 0.8240\n",
      "Epoch 20/150\n",
      "953/953 - 54s - loss: 0.3555 - accuracy: 0.8322\n",
      "Epoch 21/150\n",
      "953/953 - 54s - loss: 0.3569 - accuracy: 0.8332\n",
      "Epoch 22/150\n",
      "953/953 - 54s - loss: 0.3466 - accuracy: 0.8355\n",
      "Epoch 23/150\n",
      "953/953 - 54s - loss: 0.3322 - accuracy: 0.8402\n",
      "Epoch 24/150\n",
      "953/953 - 54s - loss: 0.3258 - accuracy: 0.8454\n",
      "Epoch 25/150\n",
      "953/953 - 54s - loss: 0.3223 - accuracy: 0.8476\n",
      "Epoch 26/150\n",
      "953/953 - 54s - loss: 0.3168 - accuracy: 0.8495\n",
      "Epoch 27/150\n",
      "953/953 - 54s - loss: 0.3082 - accuracy: 0.8515\n",
      "Epoch 28/150\n",
      "953/953 - 54s - loss: 0.2998 - accuracy: 0.8588\n",
      "Epoch 29/150\n",
      "953/953 - 54s - loss: 0.2984 - accuracy: 0.8610\n",
      "Epoch 30/150\n",
      "953/953 - 54s - loss: 0.2847 - accuracy: 0.8638\n",
      "Epoch 31/150\n",
      "953/953 - 54s - loss: 0.2790 - accuracy: 0.8684\n",
      "Epoch 32/150\n",
      "953/953 - 54s - loss: 0.2768 - accuracy: 0.8686\n",
      "Epoch 33/150\n",
      "953/953 - 54s - loss: 0.2747 - accuracy: 0.8688\n",
      "Epoch 34/150\n",
      "953/953 - 54s - loss: 0.2656 - accuracy: 0.8729\n",
      "Epoch 35/150\n",
      "953/953 - 54s - loss: 0.2654 - accuracy: 0.8719\n",
      "Epoch 36/150\n",
      "953/953 - 54s - loss: 0.2551 - accuracy: 0.8792\n",
      "Epoch 37/150\n",
      "953/953 - 54s - loss: 0.2532 - accuracy: 0.8777\n",
      "Epoch 38/150\n",
      "953/953 - 54s - loss: 0.2501 - accuracy: 0.8829\n",
      "Epoch 39/150\n",
      "953/953 - 54s - loss: 0.2411 - accuracy: 0.8857\n",
      "Epoch 40/150\n",
      "953/953 - 54s - loss: 0.2391 - accuracy: 0.8881\n",
      "Epoch 41/150\n",
      "953/953 - 54s - loss: 0.2402 - accuracy: 0.8875\n",
      "Epoch 42/150\n",
      "953/953 - 54s - loss: 0.2348 - accuracy: 0.8877\n",
      "Epoch 43/150\n",
      "953/953 - 54s - loss: 0.2320 - accuracy: 0.8890\n",
      "Epoch 44/150\n",
      "953/953 - 54s - loss: 0.2262 - accuracy: 0.8920\n",
      "Epoch 45/150\n",
      "953/953 - 54s - loss: 0.2218 - accuracy: 0.8938\n",
      "Epoch 46/150\n",
      "953/953 - 54s - loss: 0.2223 - accuracy: 0.8946\n",
      "Epoch 47/150\n",
      "953/953 - 54s - loss: 0.2160 - accuracy: 0.8964\n",
      "Epoch 48/150\n",
      "953/953 - 54s - loss: 0.2083 - accuracy: 0.9009\n",
      "Epoch 49/150\n",
      "953/953 - 54s - loss: 0.2098 - accuracy: 0.9009\n",
      "Epoch 50/150\n",
      "953/953 - 54s - loss: 0.2078 - accuracy: 0.9013\n",
      "Epoch 51/150\n",
      "953/953 - 54s - loss: 0.2055 - accuracy: 0.9024\n",
      "Epoch 52/150\n",
      "953/953 - 54s - loss: 0.1989 - accuracy: 0.9011\n",
      "Epoch 53/150\n",
      "953/953 - 54s - loss: 0.1963 - accuracy: 0.9062\n",
      "Epoch 54/150\n",
      "953/953 - 54s - loss: 0.2008 - accuracy: 0.9043\n",
      "Epoch 55/150\n",
      "953/953 - 54s - loss: 0.1905 - accuracy: 0.9070\n",
      "Epoch 56/150\n",
      "953/953 - 54s - loss: 0.1868 - accuracy: 0.9087\n",
      "Epoch 57/150\n",
      "953/953 - 54s - loss: 0.1866 - accuracy: 0.9090\n",
      "Epoch 58/150\n",
      "953/953 - 54s - loss: 0.1934 - accuracy: 0.9076\n",
      "Epoch 59/150\n",
      "953/953 - 54s - loss: 0.1808 - accuracy: 0.9133\n",
      "Epoch 60/150\n",
      "953/953 - 54s - loss: 0.1805 - accuracy: 0.9137\n",
      "Epoch 61/150\n",
      "953/953 - 54s - loss: 0.1770 - accuracy: 0.9132\n",
      "Epoch 62/150\n",
      "953/953 - 54s - loss: 0.1838 - accuracy: 0.9110\n",
      "Epoch 63/150\n",
      "953/953 - 54s - loss: 0.1750 - accuracy: 0.9123\n",
      "Epoch 64/150\n",
      "953/953 - 54s - loss: 0.1711 - accuracy: 0.9158\n",
      "Epoch 65/150\n",
      "953/953 - 54s - loss: 0.1678 - accuracy: 0.9165\n",
      "Epoch 66/150\n",
      "953/953 - 54s - loss: 0.1692 - accuracy: 0.9166\n",
      "Epoch 67/150\n",
      "953/953 - 54s - loss: 0.1712 - accuracy: 0.9154\n",
      "Epoch 68/150\n",
      "953/953 - 54s - loss: 0.1737 - accuracy: 0.9157\n",
      "Epoch 69/150\n",
      "953/953 - 54s - loss: 0.1611 - accuracy: 0.9205\n",
      "Epoch 70/150\n",
      "953/953 - 54s - loss: 0.1563 - accuracy: 0.9219\n",
      "Epoch 71/150\n",
      "953/953 - 54s - loss: 0.1597 - accuracy: 0.9213\n",
      "Epoch 72/150\n",
      "953/953 - 54s - loss: 0.1558 - accuracy: 0.9226\n",
      "Epoch 73/150\n",
      "953/953 - 54s - loss: 0.1520 - accuracy: 0.9242\n",
      "Epoch 74/150\n",
      "953/953 - 54s - loss: 0.1554 - accuracy: 0.9216\n",
      "Epoch 75/150\n",
      "953/953 - 54s - loss: 0.1586 - accuracy: 0.9228\n",
      "Epoch 76/150\n",
      "953/953 - 54s - loss: 0.1464 - accuracy: 0.9266\n",
      "Epoch 77/150\n",
      "953/953 - 54s - loss: 0.1478 - accuracy: 0.9256\n",
      "Epoch 78/150\n",
      "953/953 - 54s - loss: 0.1454 - accuracy: 0.9249\n",
      "Epoch 79/150\n",
      "953/953 - 54s - loss: 0.1478 - accuracy: 0.9250\n",
      "Epoch 80/150\n",
      "953/953 - 54s - loss: 0.1461 - accuracy: 0.9257\n",
      "Epoch 81/150\n",
      "953/953 - 54s - loss: 0.1418 - accuracy: 0.9288\n",
      "Epoch 82/150\n",
      "953/953 - 54s - loss: 0.1420 - accuracy: 0.9278\n",
      "Epoch 83/150\n",
      "953/953 - 54s - loss: 0.1396 - accuracy: 0.9292\n",
      "Epoch 84/150\n",
      "953/953 - 54s - loss: 0.1375 - accuracy: 0.9286\n",
      "Epoch 85/150\n",
      "953/953 - 54s - loss: 0.1333 - accuracy: 0.9309\n",
      "Epoch 86/150\n",
      "953/953 - 54s - loss: 0.1376 - accuracy: 0.9297\n",
      "Epoch 87/150\n",
      "953/953 - 54s - loss: 0.1307 - accuracy: 0.9336\n",
      "Epoch 88/150\n",
      "953/953 - 54s - loss: 0.1305 - accuracy: 0.9360\n",
      "Epoch 89/150\n",
      "953/953 - 54s - loss: 0.1254 - accuracy: 0.9340\n",
      "Epoch 90/150\n",
      "953/953 - 54s - loss: 0.1242 - accuracy: 0.9357\n",
      "Epoch 91/150\n",
      "953/953 - 54s - loss: 0.1297 - accuracy: 0.9327\n",
      "Epoch 92/150\n",
      "953/953 - 54s - loss: 0.1242 - accuracy: 0.9354\n",
      "Epoch 93/150\n",
      "953/953 - 54s - loss: 0.1249 - accuracy: 0.9353\n",
      "Epoch 94/150\n",
      "953/953 - 54s - loss: 0.1211 - accuracy: 0.9368\n",
      "Epoch 95/150\n",
      "953/953 - 54s - loss: 0.1206 - accuracy: 0.9370\n",
      "Epoch 96/150\n",
      "953/953 - 54s - loss: 0.1205 - accuracy: 0.9373\n",
      "Epoch 97/150\n",
      "953/953 - 54s - loss: 0.1198 - accuracy: 0.9371\n",
      "Epoch 98/150\n",
      "953/953 - 54s - loss: 0.1147 - accuracy: 0.9405\n",
      "Epoch 99/150\n",
      "953/953 - 54s - loss: 0.1181 - accuracy: 0.9373\n",
      "Epoch 100/150\n",
      "953/953 - 54s - loss: 0.1213 - accuracy: 0.9364\n",
      "Epoch 101/150\n",
      "953/953 - 54s - loss: 0.1152 - accuracy: 0.9378\n",
      "Epoch 102/150\n",
      "953/953 - 54s - loss: 0.1083 - accuracy: 0.9423\n",
      "Epoch 103/150\n",
      "953/953 - 54s - loss: 0.1118 - accuracy: 0.9418\n",
      "Epoch 104/150\n",
      "953/953 - 54s - loss: 0.1128 - accuracy: 0.9402\n",
      "Epoch 105/150\n",
      "953/953 - 54s - loss: 0.1099 - accuracy: 0.9427\n",
      "Epoch 106/150\n",
      "953/953 - 54s - loss: 0.1076 - accuracy: 0.9433\n",
      "Epoch 107/150\n",
      "953/953 - 54s - loss: 0.1080 - accuracy: 0.9452\n",
      "Epoch 108/150\n",
      "953/953 - 54s - loss: 0.1022 - accuracy: 0.9449\n",
      "Epoch 109/150\n",
      "953/953 - 54s - loss: 0.1070 - accuracy: 0.9415\n",
      "Epoch 110/150\n",
      "953/953 - 54s - loss: 0.1095 - accuracy: 0.9433\n",
      "Epoch 111/150\n",
      "953/953 - 54s - loss: 0.1004 - accuracy: 0.9459\n",
      "Epoch 112/150\n",
      "953/953 - 54s - loss: 0.1047 - accuracy: 0.9456\n",
      "Epoch 113/150\n",
      "953/953 - 54s - loss: 0.0977 - accuracy: 0.9481\n",
      "Epoch 114/150\n",
      "953/953 - 54s - loss: 0.1002 - accuracy: 0.9470\n",
      "Epoch 115/150\n",
      "953/953 - 54s - loss: 0.0981 - accuracy: 0.9464\n",
      "Epoch 116/150\n",
      "953/953 - 54s - loss: 0.0979 - accuracy: 0.9475\n",
      "Epoch 117/150\n",
      "953/953 - 54s - loss: 0.1023 - accuracy: 0.9452\n",
      "Epoch 118/150\n",
      "953/953 - 54s - loss: 0.0969 - accuracy: 0.9476\n",
      "Epoch 119/150\n",
      "953/953 - 54s - loss: 0.0947 - accuracy: 0.9489\n",
      "Epoch 120/150\n",
      "953/953 - 54s - loss: 0.0904 - accuracy: 0.9508\n",
      "Epoch 121/150\n",
      "953/953 - 54s - loss: 0.0967 - accuracy: 0.9477\n",
      "Epoch 122/150\n",
      "953/953 - 54s - loss: 0.0950 - accuracy: 0.9485\n",
      "Epoch 123/150\n",
      "953/953 - 54s - loss: 0.0873 - accuracy: 0.9526\n",
      "Epoch 124/150\n",
      "953/953 - 54s - loss: 0.0898 - accuracy: 0.9518\n",
      "Epoch 125/150\n",
      "953/953 - 54s - loss: 0.0900 - accuracy: 0.9512\n",
      "Epoch 126/150\n",
      "953/953 - 54s - loss: 0.0888 - accuracy: 0.9524\n",
      "Epoch 127/150\n",
      "953/953 - 54s - loss: 0.0824 - accuracy: 0.9534\n",
      "Epoch 128/150\n",
      "953/953 - 54s - loss: 0.0906 - accuracy: 0.9519\n",
      "Epoch 129/150\n",
      "953/953 - 54s - loss: 0.0809 - accuracy: 0.9565\n",
      "Epoch 130/150\n",
      "953/953 - 54s - loss: 0.0862 - accuracy: 0.9546\n",
      "Epoch 131/150\n",
      "953/953 - 54s - loss: 0.0875 - accuracy: 0.9517\n",
      "Epoch 132/150\n",
      "953/953 - 54s - loss: 0.0779 - accuracy: 0.9575\n",
      "Epoch 133/150\n",
      "953/953 - 54s - loss: 0.0837 - accuracy: 0.9532\n",
      "Epoch 134/150\n",
      "953/953 - 54s - loss: 0.0791 - accuracy: 0.9569\n",
      "Epoch 135/150\n",
      "953/953 - 54s - loss: 0.0815 - accuracy: 0.9572\n",
      "Epoch 136/150\n",
      "953/953 - 54s - loss: 0.0791 - accuracy: 0.9570\n",
      "Epoch 137/150\n",
      "953/953 - 54s - loss: 0.0791 - accuracy: 0.9575\n",
      "Epoch 138/150\n",
      "953/953 - 54s - loss: 0.0752 - accuracy: 0.9588\n",
      "Epoch 139/150\n",
      "953/953 - 54s - loss: 0.0785 - accuracy: 0.9591\n",
      "Epoch 140/150\n",
      "953/953 - 54s - loss: 0.0758 - accuracy: 0.9576\n",
      "Epoch 141/150\n",
      "953/953 - 54s - loss: 0.0750 - accuracy: 0.9582\n",
      "Epoch 142/150\n",
      "953/953 - 54s - loss: 0.0733 - accuracy: 0.9604\n",
      "Epoch 143/150\n",
      "953/953 - 54s - loss: 0.0745 - accuracy: 0.9594\n",
      "Epoch 144/150\n",
      "953/953 - 54s - loss: 0.0798 - accuracy: 0.9594\n",
      "Epoch 145/150\n",
      "953/953 - 54s - loss: 0.0730 - accuracy: 0.9602\n",
      "Epoch 146/150\n",
      "953/953 - 54s - loss: 0.0688 - accuracy: 0.9621\n",
      "Epoch 147/150\n",
      "953/953 - 54s - loss: 0.0728 - accuracy: 0.9601\n",
      "Epoch 148/150\n",
      "953/953 - 54s - loss: 0.0668 - accuracy: 0.9640\n",
      "Epoch 149/150\n",
      "953/953 - 54s - loss: 0.0702 - accuracy: 0.9612\n",
      "Epoch 150/150\n",
      "953/953 - 54s - loss: 0.0670 - accuracy: 0.9639\n",
      "239/239 - 4s\n",
      "Normalized confusion matrix\n",
      "                  precision    recall  f1-score   support\n",
      "\n",
      "            HEKA       1.00      0.96      0.98       146\n",
      "  fridge/freezer       0.99      0.97      0.98      3893\n",
      "            HTPC       0.86      0.81      0.83      1173\n",
      "    audio system       0.63      0.82      0.71       276\n",
      "broadband router       0.96      0.99      0.98       314\n",
      "    coffee maker       0.92      1.00      0.96        65\n",
      "        computer       0.93      0.92      0.93       839\n",
      "            lamp       0.78      0.87      0.82       216\n",
      " laptop computer       0.82      0.87      0.84       514\n",
      "       microwave       0.99      0.99      0.99       134\n",
      " washing machine       0.92      1.00      0.96        47\n",
      "\n",
      "        accuracy                           0.93      7617\n",
      "       macro avg       0.89      0.93      0.91      7617\n",
      "    weighted avg       0.93      0.93      0.93      7617\n",
      "\n"
     ]
    },
    {
     "name": "stderr",
     "output_type": "stream",
     "text": [
      "2022-02-09 16:17:38.136757: W tensorflow/python/util/util.cc:348] Sets are not currently considered sequences, but this may change in the future, so consider avoiding using them.\n",
      "WARNING:absl:Found untraced functions such as lstm_cell_1_layer_call_fn, lstm_cell_1_layer_call_and_return_conditional_losses, lstm_cell_2_layer_call_fn, lstm_cell_2_layer_call_and_return_conditional_losses, lstm_cell_4_layer_call_fn while saving (showing 5 of 20). These functions will not be directly callable after loading.\n"
     ]
    },
    {
     "name": "stdout",
     "output_type": "stream",
     "text": [
      "INFO:tensorflow:Assets written to: /workspace/notebooks/models/BI_LSTM/eco_12/assets\n"
     ]
    },
    {
     "name": "stderr",
     "output_type": "stream",
     "text": [
      "INFO:tensorflow:Assets written to: /workspace/notebooks/models/BI_LSTM/eco_12/assets\n"
     ]
    },
    {
     "data": {
      "image/png": "[encoded data removed]",
      "text/plain": [
       "<Figure size 720x720 with 2 Axes>"
      ]
     },
     "metadata": {
      "needs_background": "light"
     },
     "output_type": "display_data"
    }
   ],
   "source": [
    "# %%capture cap --no-stderr\n",
    "\n",
    "\n",
    "if environ['train_type'] == \"BB\":\n",
    "\n",
    "    #define generator\n",
    "    train_gen = HDF5ImageGenerator(\n",
    "        src= path_data,\n",
    "        X_key=\"data/train/gaf\",\n",
    "        y_key=\"labels/train/gaf\",\n",
    "        classes_key=\"appliances/classes\",\n",
    "        labels_encoding=\"hot\",\n",
    "        shuffle=True,\n",
    "        batch_size=int(environ['batch_size']),\n",
    "        num_classes=num_of_classes,\n",
    "        mode=\"train\",\n",
    "        )\n",
    "    \n",
    "    model = select_model(environ['learn_type'])\n",
    "    \n",
    "    txt_log.write(\"fitting BB model: \\n\")\n",
    "    \n",
    "    model.fit(\n",
    "        train_gen,\n",
    "        verbose=2,\n",
    "        epochs=int(environ['epochs']),\n",
    "        class_weight=d_class_weights,\n",
    "        callbacks = [save_op_callback],\n",
    "    )\n",
    "    \n",
    "    txt_log.write(\"finished fitting BB model: \\n\")\n",
    "\n",
    "    evaluate_model(model,x_test,y_test,appliances)\n",
    "    \n",
    "    if environ['save_model']==\"True\":\n",
    "\n",
    "        path_model_save = path+\"/models/\"+environ['learn_type']+\"/\"+dataset.split(\"_\")[0]+\"_\"+dataset.split(\"_R\")[1][0:2]\n",
    "        model.save(path_model_save)\n",
    "        txt_log.write(\"model saved to:\"+\"/models/\"+environ['learn_type']+\"/\"+dataset.split(\"_\")[0]+\"_\"+dataset.split(\"_R\")[1][0:2]+\" \\n\")\n",
    "        \n",
    "        \n",
    "# with open(path_save+\"_out_log.txt\" as f:\n",
    "#     f.write(cap.stdout)\n"
   ]
  },
  {
   "cell_type": "code",
   "execution_count": 13,
   "metadata": {
    "collapsed": true,
    "execution": {
     "iopub.execute_input": "2022-02-09T16:17:48.858126Z",
     "iopub.status.busy": "2022-02-09T16:17:48.857732Z",
     "iopub.status.idle": "2022-02-09T16:17:48.860755Z",
     "shell.execute_reply": "2022-02-09T16:17:48.861082Z"
    }
   },
   "outputs": [],
   "source": [
    "#model = keras.models.load_model(path_model1)\n",
    "# model_used = model"
   ]
  },
  {
   "cell_type": "code",
   "execution_count": 14,
   "metadata": {
    "collapsed": true,
    "execution": {
     "iopub.execute_input": "2022-02-09T16:17:48.865923Z",
     "iopub.status.busy": "2022-02-09T16:17:48.865474Z",
     "iopub.status.idle": "2022-02-09T16:17:48.868244Z",
     "shell.execute_reply": "2022-02-09T16:17:48.868606Z"
    },
    "jupyter": {
     "outputs_hidden": true
    },
    "tags": []
   },
   "outputs": [],
   "source": [
    "# evaluate_model(model,x_test,y_test,appliances)"
   ]
  },
  {
   "cell_type": "code",
   "execution_count": 15,
   "metadata": {
    "collapsed": true,
    "execution": {
     "iopub.execute_input": "2022-02-09T16:17:48.886858Z",
     "iopub.status.busy": "2022-02-09T16:17:48.886001Z",
     "iopub.status.idle": "2022-02-09T16:17:48.889150Z",
     "shell.execute_reply": "2022-02-09T16:17:48.889770Z"
    }
   },
   "outputs": [],
   "source": [
    "# datasets =[\n",
    "#     \"ukdale_gen_GASF_13m_100S5X12A54480_R82_80-20\"\n",
    "# ]\n",
    "\n",
    "if environ['train_type'] == \"TL\": \n",
    "    models = environ['tl_datasets'].replace(\" \",\"\").split(\",\")\n",
    "    #model = [\"base\"]\n",
    "    \n",
    "    for model in models:\n",
    "    \n",
    "        file_name = dataset\n",
    "        \n",
    "        datasetTL = model\n",
    "        \n",
    "        seed = dataset.split(\"_R\")[1][0:2]\n",
    "        \n",
    "        print(\"using dataset data\",dataset.split(\"_\")[0],\"training on model\",model,\"seed\",environ['seed'])\n",
    "        txt_log.write(\"starting \"+dataset.split(\"_\")[0]+\" training on model \"+model+\" seed \"+environ['seed']+\"\\n\")\n",
    "\n",
    "\n",
    "        tf.keras.backend.clear_session()\n",
    "\n",
    "\n",
    "        #read the file\n",
    "        path = str(pathlib.Path().resolve())\n",
    "        path_data = f\"{path}\"\"/data/\"f\"{file_name}\"\"/\"f\"{file_name}\"\".hdf5\"\n",
    "        file = h5py.File(path_data,\"r+\")\n",
    "\n",
    "\n",
    "        print(\"reading data, printing stats: \")\n",
    "        x_test,y_test,d_class_weights,num_of_classes,appliances = get_data(file)\n",
    "        print(\"loading model\")\n",
    "        \n",
    "        model_seed = 42\n",
    "        model_used = create_tl_model(model,environ['learn_type'],model_seed,path,num_of_classes)\n",
    "                \n",
    "        train_gen = HDF5ImageGenerator(\n",
    "            src= path_data,\n",
    "            X_key=\"data/train/gaf\",\n",
    "            y_key=\"labels/train/gaf\",\n",
    "            classes_key=\"appliances/classes\",\n",
    "            labels_encoding=\"hot\",\n",
    "            shuffle=True,\n",
    "            batch_size=int(environ['batch_size']),\n",
    "            num_classes=num_of_classes,\n",
    "            mode=\"train\",\n",
    "            )\n",
    "\n",
    "        model_used.fit(\n",
    "            train_gen,\n",
    "            verbose=2,\n",
    "            epochs=int(environ['epochs']),\n",
    "            class_weight=d_class_weights,\n",
    "            callbacks = [save_op_callback]\n",
    "            #workers = 6,\n",
    "        )\n",
    "        \n",
    "        txt_log.write(\"finished \"+dataset.split(\"_\")[0]+\" training on model \"+model+\" seed \"+environ['seed']+\"\\n\")\n",
    "\n",
    "\n",
    "        evaluate_model(model_used,x_test,y_test,appliances)\n",
    "        \n",
    "\n",
    "\n",
    "\n",
    "        #del model_used\n",
    "\n"
   ]
  },
  {
   "cell_type": "code",
   "execution_count": 16,
   "metadata": {
    "execution": {
     "iopub.execute_input": "2022-02-09T16:17:48.895671Z",
     "iopub.status.busy": "2022-02-09T16:17:48.894965Z",
     "iopub.status.idle": "2022-02-09T16:17:48.897950Z",
     "shell.execute_reply": "2022-02-09T16:17:48.898536Z"
    }
   },
   "outputs": [],
   "source": [
    "txt_log.close()"
   ]
  },
  {
   "cell_type": "code",
   "execution_count": null,
   "metadata": {},
   "outputs": [],
   "source": []
  }
 ],
 "metadata": {
  "colab": {
   "authorship_tag": "ABX9TyMej4PvP65qsLng7TnQKWA4",
   "name": "LSTM-gen",
   "provenance": []
  },
  "kernelspec": {
   "display_name": "Python 3 (ipykernel)",
   "language": "python",
   "name": "python3"
  },
  "language_info": {
   "codemirror_mode": {
    "name": "ipython",
    "version": 3
   },
   "file_extension": ".py",
   "mimetype": "text/x-python",
   "name": "python",
   "nbconvert_exporter": "python",
   "pygments_lexer": "ipython3",
   "version": "3.8.10"
  }
 },
 "nbformat": 4,
 "nbformat_minor": 4
}
