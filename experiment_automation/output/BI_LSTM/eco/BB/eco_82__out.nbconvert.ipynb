{
 "cells": [
  {
   "cell_type": "code",
   "execution_count": 1,
   "metadata": {
    "execution": {
     "iopub.execute_input": "2022-02-09T18:33:06.821311Z",
     "iopub.status.busy": "2022-02-09T18:33:06.811682Z",
     "iopub.status.idle": "2022-02-09T18:33:08.524374Z",
     "shell.execute_reply": "2022-02-09T18:33:08.523134Z"
    },
    "id": "WqUfHWgtJxtu",
    "scrolled": true,
    "tags": []
   },
   "outputs": [
    {
     "name": "stderr",
     "output_type": "stream",
     "text": [
      "2022-02-09 18:33:07.646775: I tensorflow/stream_executor/platform/default/dso_loader.cc:54] Successfully opened dynamic library libcudart.so.11.0\n"
     ]
    },
    {
     "name": "stdout",
     "output_type": "stream",
     "text": [
      "2.5.0\n",
      "Num GPUs Available:  1\n"
     ]
    },
    {
     "name": "stderr",
     "output_type": "stream",
     "text": [
      "2022-02-09 18:33:08.445774: I tensorflow/stream_executor/platform/default/dso_loader.cc:54] Successfully opened dynamic library libcuda.so.1\n",
      "2022-02-09 18:33:08.499664: I tensorflow/core/common_runtime/gpu/gpu_device.cc:1734] Found device 0 with properties: \n",
      "pciBusID: 0000:21:00.0 name: NVIDIA GeForce RTX 2080 Ti computeCapability: 7.5\n",
      "coreClock: 1.545GHz coreCount: 68 deviceMemorySize: 10.76GiB deviceMemoryBandwidth: 573.69GiB/s\n",
      "2022-02-09 18:33:08.499738: I tensorflow/stream_executor/platform/default/dso_loader.cc:54] Successfully opened dynamic library libcudart.so.11.0\n",
      "2022-02-09 18:33:08.506711: I tensorflow/stream_executor/platform/default/dso_loader.cc:54] Successfully opened dynamic library libcublas.so.11\n",
      "2022-02-09 18:33:08.506803: I tensorflow/stream_executor/platform/default/dso_loader.cc:54] Successfully opened dynamic library libcublasLt.so.11\n",
      "2022-02-09 18:33:08.509553: I tensorflow/stream_executor/platform/default/dso_loader.cc:54] Successfully opened dynamic library libcufft.so.10\n",
      "2022-02-09 18:33:08.509986: I tensorflow/stream_executor/platform/default/dso_loader.cc:54] Successfully opened dynamic library libcurand.so.10\n",
      "2022-02-09 18:33:08.511118: I tensorflow/stream_executor/platform/default/dso_loader.cc:54] Successfully opened dynamic library libcutensor.so.1\n",
      "2022-02-09 18:33:08.511914: I tensorflow/stream_executor/platform/default/dso_loader.cc:54] Successfully opened dynamic library libcusolver.so.11\n",
      "2022-02-09 18:33:08.513372: I tensorflow/stream_executor/platform/default/dso_loader.cc:54] Successfully opened dynamic library libcusparse.so.11\n",
      "2022-02-09 18:33:08.513598: I tensorflow/stream_executor/platform/default/dso_loader.cc:54] Successfully opened dynamic library libcudnn.so.8\n",
      "2022-02-09 18:33:08.514070: I tensorflow/core/common_runtime/gpu/gpu_device.cc:1872] Adding visible gpu devices: 0\n"
     ]
    }
   ],
   "source": [
    "import h5py\n",
    "import numpy as np\n",
    "\n",
    "from sklearn.model_selection import train_test_split\n",
    "from sklearn.metrics import classification_report, confusion_matrix\n",
    "import matplotlib.pyplot as plt\n",
    "import itertools \n",
    "import pyts\n",
    "from pyts.approximation import PiecewiseAggregateApproximation\n",
    "\n",
    "from sklearn.utils import class_weight\n",
    "\n",
    "import pathlib\n",
    "import tensorflow as tf\n",
    "from tensorflow import keras\n",
    "from tensorflow.keras import layers, optimizers\n",
    "from tensorflow.keras.layers import Convolution2D,Conv2D, Dense,Dropout, Flatten, Activation, MaxPooling2D, Input, Conv1D, GlobalAveragePooling1D, TimeDistributed, GRU, LSTM\n",
    "\n",
    "print(tf.__version__)\n",
    "print(\"Num GPUs Available: \", len(tf.config.list_physical_devices('GPU')))\n",
    "gpus = tf.config.experimental.list_physical_devices('GPU')\n",
    "\n",
    "try:\n",
    "    for gpu in gpus:\n",
    "        tf.config.experimental.set_memory_growth(gpu, True)\n",
    "except RuntimeError as e:\n",
    "    print(e)"
   ]
  },
  {
   "cell_type": "code",
   "execution_count": 2,
   "metadata": {
    "execution": {
     "iopub.execute_input": "2022-02-09T18:33:08.532683Z",
     "iopub.status.busy": "2022-02-09T18:33:08.531474Z",
     "iopub.status.idle": "2022-02-09T18:33:08.535454Z",
     "shell.execute_reply": "2022-02-09T18:33:08.536449Z"
    }
   },
   "outputs": [
    {
     "name": "stdout",
     "output_type": "stream",
     "text": [
      "eco_gen_GASF_13m_100S5X11A38085_R82_80-20\n"
     ]
    }
   ],
   "source": [
    "from os import environ\n",
    "dataset = environ['dataset']\n",
    "print(dataset)"
   ]
  },
  {
   "cell_type": "code",
   "execution_count": 3,
   "metadata": {
    "execution": {
     "iopub.execute_input": "2022-02-09T18:33:08.545800Z",
     "iopub.status.busy": "2022-02-09T18:33:08.544470Z",
     "iopub.status.idle": "2022-02-09T18:33:08.549794Z",
     "shell.execute_reply": "2022-02-09T18:33:08.550807Z"
    }
   },
   "outputs": [],
   "source": [
    "#my defs \n",
    "from modules.models import  LSTM_3D_V56, CNN_V56,LSTM_BI_V56\n",
    "from modules.tools import my_print, plot_confusion_matrix_norm, get_data,get_data_split, evaluate_model, create_tl_model\n",
    "from modules.HDF5ImageGenerator import HDF5ImageGenerator"
   ]
  },
  {
   "cell_type": "code",
   "execution_count": 4,
   "metadata": {
    "execution": {
     "iopub.execute_input": "2022-02-09T18:33:08.562122Z",
     "iopub.status.busy": "2022-02-09T18:33:08.560796Z",
     "iopub.status.idle": "2022-02-09T18:33:08.564021Z",
     "shell.execute_reply": "2022-02-09T18:33:08.565131Z"
    },
    "id": "RT1vwq7-KOtB"
   },
   "outputs": [],
   "source": [
    "#LOAD DATASET\n",
    "#file_name = \"ukdale_gen_GASF_13m_100S5X12A54480\"\n",
    "#file_name = \"refit_gen_GASF_13m_100S5X_15A166006\"\n",
    "file_name = \"refit_gen_GASF_13m_100S5X_15A166006_R42-80-20\"\n",
    "#file_name = \"refit_gen_GASF_13m_100S5X_15A166006_R42_80-20\"\n",
    "file_name = \"refit_gen_GASF_60m_300S0X_15A157030N_R12_80-20-V1\"\n",
    "file_name = environ[\"dataset\"]\n",
    "#read the file\n",
    "path = str(pathlib.Path().resolve())\n",
    "\n",
    "path_data = f\"{path}\"\"/data/\"f\"{file_name}\"\"/\"f\"{file_name}\"\".hdf5\"\n",
    "\n",
    "file = h5py.File(path_data,\"r+\")"
   ]
  },
  {
   "cell_type": "code",
   "execution_count": 5,
   "metadata": {
    "execution": {
     "iopub.execute_input": "2022-02-09T18:33:08.573592Z",
     "iopub.status.busy": "2022-02-09T18:33:08.572558Z",
     "iopub.status.idle": "2022-02-09T18:33:09.357025Z",
     "shell.execute_reply": "2022-02-09T18:33:09.357965Z"
    },
    "scrolled": true
   },
   "outputs": [
    {
     "name": "stdout",
     "output_type": "stream",
     "text": [
      "['HEKA', 'fridge/freezer', 'HTPC', 'audio system', 'broadband router', 'coffee maker', 'computer', 'lamp', 'laptop computer', 'microwave', 'washing machine']\n",
      "{0: 4.72665218740304, 1: 0.17788312772578393, 2: 0.5904536733784229, 3: 2.508893280632411, 4: 2.2035148622260796, 5: 10.612330198537094, 6: 0.8248416265092858, 7: 3.213246150601139, 8: 1.347843397478434, 9: 5.1869254341164455, 10: 14.655122655122655}\n",
      " \n",
      "Tests \n",
      "HEKA test: 146 train: 586\n",
      "fridge/freezer test: 3893 train: 15571\n",
      "HTPC test: 1173 train: 4691\n",
      "audio system test: 276 train: 1104\n",
      "broadband router test: 314 train: 1257\n",
      "coffee maker test: 65 train: 261\n",
      "computer test: 839 train: 3358\n",
      "lamp test: 216 train: 862\n",
      "laptop computer test: 514 train: 2055\n",
      "microwave test: 134 train: 534\n",
      "washing machine test: 47 train: 189\n"
     ]
    }
   ],
   "source": [
    "x_test,y_test,d_class_weights,num_of_classes,appliances = get_data(file)"
   ]
  },
  {
   "cell_type": "code",
   "execution_count": 6,
   "metadata": {
    "execution": {
     "iopub.execute_input": "2022-02-09T18:33:09.368217Z",
     "iopub.status.busy": "2022-02-09T18:33:09.366854Z",
     "iopub.status.idle": "2022-02-09T18:33:09.371542Z",
     "shell.execute_reply": "2022-02-09T18:33:09.370918Z"
    }
   },
   "outputs": [],
   "source": [
    "def select_model(learn_type):\n",
    "    \n",
    "    if learn_type == \"CNN\":\n",
    "        model = CNN_V56(file[\"data/train/gaf\"][0:10],num_of_classes,lr= 0.00002)\n",
    "\n",
    "    if learn_type == \"LSTM\":\n",
    "        model = LSTM_3D_V56(file[\"data/train/gaf\"][0:10],num_of_classes,lr= 0.00002)\n",
    "\n",
    "    if learn_type == \"BI_LSTM\":\n",
    "        model = LSTM_BI_V56(file[\"data/train/gaf\"][0:10],num_of_classes,lr= 0.00002)\n",
    "\n",
    "    return model\n",
    "              "
   ]
  },
  {
   "cell_type": "code",
   "execution_count": 7,
   "metadata": {
    "execution": {
     "iopub.execute_input": "2022-02-09T18:33:09.379572Z",
     "iopub.status.busy": "2022-02-09T18:33:09.378841Z",
     "iopub.status.idle": "2022-02-09T18:33:09.382403Z",
     "shell.execute_reply": "2022-02-09T18:33:09.383476Z"
    }
   },
   "outputs": [],
   "source": [
    "path_save = path+'/experiment_automation/output/'+environ['learn_type']+'/'+dataset.split(\"_\")[0]+\"/\"+environ['train_type']+\"/\"+dataset.split(\"_\")[0]+\"_\"+environ['seed']+\"_\"+environ['tl_datasets']\n",
    "path_save_nb = path_save+\"_out.ipynb\"\n",
    "path_save_log = path_save+\"_out_log2.txt\""
   ]
  },
  {
   "cell_type": "code",
   "execution_count": 8,
   "metadata": {
    "execution": {
     "iopub.execute_input": "2022-02-09T18:33:09.392846Z",
     "iopub.status.busy": "2022-02-09T18:33:09.391503Z",
     "iopub.status.idle": "2022-02-09T18:33:09.480769Z",
     "shell.execute_reply": "2022-02-09T18:33:09.480371Z"
    }
   },
   "outputs": [],
   "source": [
    "from keras.callbacks import LambdaCallback\n",
    "#path_log= path+'/experiment_automation/output/'+environ['learn_type']+'/'+dataset.split(\"_\")[0]+\"/\"+environ['train_type']+\"/\"+dataset.split(\"_\")[0]+\"_\"+environ['seed']+\"_\"+environ['tl_datasets']+\"_log.txt\"\n",
    "txt_log = open(path_save+\"_log.txt\", mode='wt', buffering=1)\n",
    "txt_log.write(\"file created! \\n\")\n",
    "\n",
    "save_op_callback = LambdaCallback(\n",
    "  on_epoch_end = lambda epoch, logs: txt_log.write(\n",
    "    str({'epoch': epoch, 'loss': logs['loss'],'acc': logs['accuracy']}) + '\\n'),\n",
    "                                                           \n",
    ")"
   ]
  },
  {
   "cell_type": "code",
   "execution_count": 9,
   "metadata": {
    "execution": {
     "iopub.execute_input": "2022-02-09T18:33:09.484357Z",
     "iopub.status.busy": "2022-02-09T18:33:09.483939Z",
     "iopub.status.idle": "2022-02-09T18:33:09.487624Z",
     "shell.execute_reply": "2022-02-09T18:33:09.487950Z"
    }
   },
   "outputs": [
    {
     "name": "stdout",
     "output_type": "stream",
     "text": [
      "/workspace/notebooks/experiment_automation/output/BI_LSTM/eco/BB/eco_82__out.ipynb\n"
     ]
    }
   ],
   "source": [
    "print(path_save_nb)"
   ]
  },
  {
   "cell_type": "code",
   "execution_count": 10,
   "metadata": {
    "execution": {
     "iopub.execute_input": "2022-02-09T18:33:09.493093Z",
     "iopub.status.busy": "2022-02-09T18:33:09.492650Z",
     "iopub.status.idle": "2022-02-09T18:33:09.495512Z",
     "shell.execute_reply": "2022-02-09T18:33:09.495864Z"
    }
   },
   "outputs": [],
   "source": [
    "# rm $path_save_log"
   ]
  },
  {
   "cell_type": "code",
   "execution_count": 11,
   "metadata": {
    "execution": {
     "iopub.execute_input": "2022-02-09T18:33:09.501322Z",
     "iopub.status.busy": "2022-02-09T18:33:09.500728Z",
     "iopub.status.idle": "2022-02-09T18:33:09.503630Z",
     "shell.execute_reply": "2022-02-09T18:33:09.504108Z"
    }
   },
   "outputs": [],
   "source": [
    "# %%capture cap \n",
    "\n",
    "# with open(path_save_log,\"wt\") as f:\n",
    "#     f.write(cap.stdout)\n",
    "    \n",
    "# print(\"out capture..\")"
   ]
  },
  {
   "cell_type": "code",
   "execution_count": 12,
   "metadata": {
    "execution": {
     "iopub.execute_input": "2022-02-09T18:33:09.519422Z",
     "iopub.status.busy": "2022-02-09T18:33:09.518073Z",
     "iopub.status.idle": "2022-02-09T20:48:13.117627Z",
     "shell.execute_reply": "2022-02-09T20:48:13.118613Z"
    },
    "id": "vqA9NwOqKrb5",
    "jupyter": {
     "outputs_hidden": true
    },
    "tags": []
   },
   "outputs": [
    {
     "name": "stdout",
     "output_type": "stream",
     "text": [
      "Normal way\n",
      "[0 1 2 3 4 5 6 7 8 9]\n"
     ]
    },
    {
     "name": "stderr",
     "output_type": "stream",
     "text": [
      "2022-02-09 18:33:09.533749: I tensorflow/core/common_runtime/gpu/gpu_device.cc:1734] Found device 0 with properties: \n",
      "pciBusID: 0000:21:00.0 name: NVIDIA GeForce RTX 2080 Ti computeCapability: 7.5\n",
      "coreClock: 1.545GHz coreCount: 68 deviceMemorySize: 10.76GiB deviceMemoryBandwidth: 573.69GiB/s\n",
      "2022-02-09 18:33:09.534090: I tensorflow/core/common_runtime/gpu/gpu_device.cc:1872] Adding visible gpu devices: 0\n",
      "2022-02-09 18:33:09.534154: I tensorflow/stream_executor/platform/default/dso_loader.cc:54] Successfully opened dynamic library libcudart.so.11.0\n",
      "2022-02-09 18:33:09.892443: I tensorflow/core/common_runtime/gpu/gpu_device.cc:1258] Device interconnect StreamExecutor with strength 1 edge matrix:\n",
      "2022-02-09 18:33:09.892476: I tensorflow/core/common_runtime/gpu/gpu_device.cc:1264]      0 \n",
      "2022-02-09 18:33:09.892483: I tensorflow/core/common_runtime/gpu/gpu_device.cc:1277] 0:   N \n",
      "2022-02-09 18:33:09.893036: I tensorflow/core/common_runtime/gpu/gpu_device.cc:1418] Created TensorFlow device (/job:localhost/replica:0/task:0/device:GPU:0 with 9649 MB memory) -> physical GPU (device: 0, name: NVIDIA GeForce RTX 2080 Ti, pci bus id: 0000:21:00.0, compute capability: 7.5)\n",
      "2022-02-09 18:33:09.893377: I tensorflow/core/common_runtime/process_util.cc:146] Creating new thread pool with default inter op setting: 20. Tune using inter_op_parallelism_threads for best performance.\n"
     ]
    },
    {
     "name": "stdout",
     "output_type": "stream",
     "text": [
      "WARNING:tensorflow:From /usr/local/lib/python3.8/dist-packages/tensorflow/python/ops/array_ops.py:5043: calling gather (from tensorflow.python.ops.array_ops) with validate_indices is deprecated and will be removed in a future version.\n",
      "Instructions for updating:\n",
      "The `validate_indices` argument has no effect. Indices are always validated on CPU and never validated on GPU.\n",
      "Epoch 1/150\n"
     ]
    },
    {
     "name": "stderr",
     "output_type": "stream",
     "text": [
      "2022-02-09 18:33:10.668028: I tensorflow/compiler/mlir/mlir_graph_optimization_pass.cc:176] None of the MLIR Optimization Passes are enabled (registered 2)\n",
      "2022-02-09 18:33:10.688503: I tensorflow/core/platform/profile_utils/cpu_utils.cc:114] CPU Frequency: 3299990000 Hz\n",
      "2022-02-09 18:33:14.223454: I tensorflow/stream_executor/platform/default/dso_loader.cc:54] Successfully opened dynamic library libcudnn.so.8\n",
      "2022-02-09 18:33:14.711075: I tensorflow/stream_executor/cuda/cuda_dnn.cc:380] Loaded cuDNN version 8202\n",
      "2022-02-09 18:33:15.192262: I tensorflow/stream_executor/platform/default/dso_loader.cc:54] Successfully opened dynamic library libcublas.so.11\n",
      "2022-02-09 18:33:15.601135: I tensorflow/stream_executor/platform/default/dso_loader.cc:54] Successfully opened dynamic library libcublasLt.so.11\n"
     ]
    },
    {
     "name": "stdout",
     "output_type": "stream",
     "text": [
      "953/953 - 60s - loss: 2.0978 - accuracy: 0.1886\n",
      "Epoch 2/150\n",
      "953/953 - 54s - loss: 1.7488 - accuracy: 0.4578\n",
      "Epoch 3/150\n",
      "953/953 - 54s - loss: 1.4093 - accuracy: 0.5814\n",
      "Epoch 4/150\n",
      "953/953 - 54s - loss: 1.1228 - accuracy: 0.6352\n",
      "Epoch 5/150\n",
      "953/953 - 54s - loss: 0.9543 - accuracy: 0.6547\n",
      "Epoch 6/150\n",
      "953/953 - 54s - loss: 0.8418 - accuracy: 0.6762\n",
      "Epoch 7/150\n",
      "953/953 - 54s - loss: 0.7514 - accuracy: 0.6979\n",
      "Epoch 8/150\n",
      "953/953 - 54s - loss: 0.6951 - accuracy: 0.7146\n",
      "Epoch 9/150\n",
      "953/953 - 54s - loss: 0.6280 - accuracy: 0.7276\n",
      "Epoch 10/150\n",
      "953/953 - 54s - loss: 0.5877 - accuracy: 0.7409\n",
      "Epoch 11/150\n",
      "953/953 - 54s - loss: 0.5540 - accuracy: 0.7467\n",
      "Epoch 12/150\n",
      "953/953 - 54s - loss: 0.5240 - accuracy: 0.7577\n",
      "Epoch 13/150\n",
      "953/953 - 54s - loss: 0.4959 - accuracy: 0.7705\n",
      "Epoch 14/150\n",
      "953/953 - 54s - loss: 0.4797 - accuracy: 0.7775\n",
      "Epoch 15/150\n",
      "953/953 - 54s - loss: 0.4626 - accuracy: 0.7786\n",
      "Epoch 16/150\n",
      "953/953 - 54s - loss: 0.4483 - accuracy: 0.7891\n",
      "Epoch 17/150\n",
      "953/953 - 54s - loss: 0.4312 - accuracy: 0.7935\n",
      "Epoch 18/150\n",
      "953/953 - 54s - loss: 0.4217 - accuracy: 0.7976\n",
      "Epoch 19/150\n",
      "953/953 - 54s - loss: 0.4165 - accuracy: 0.7989\n",
      "Epoch 20/150\n",
      "953/953 - 54s - loss: 0.3987 - accuracy: 0.8057\n",
      "Epoch 21/150\n",
      "953/953 - 54s - loss: 0.3924 - accuracy: 0.8091\n",
      "Epoch 22/150\n",
      "953/953 - 54s - loss: 0.3813 - accuracy: 0.8138\n",
      "Epoch 23/150\n",
      "953/953 - 54s - loss: 0.3783 - accuracy: 0.8130\n",
      "Epoch 24/150\n",
      "953/953 - 54s - loss: 0.3612 - accuracy: 0.8240\n",
      "Epoch 25/150\n",
      "953/953 - 54s - loss: 0.3501 - accuracy: 0.8291\n",
      "Epoch 26/150\n",
      "953/953 - 54s - loss: 0.3517 - accuracy: 0.8328\n",
      "Epoch 27/150\n",
      "953/953 - 54s - loss: 0.3312 - accuracy: 0.8400\n",
      "Epoch 28/150\n",
      "953/953 - 54s - loss: 0.3309 - accuracy: 0.8404\n",
      "Epoch 29/150\n",
      "953/953 - 54s - loss: 0.3169 - accuracy: 0.8470\n",
      "Epoch 30/150\n",
      "953/953 - 54s - loss: 0.3166 - accuracy: 0.8499\n",
      "Epoch 31/150\n",
      "953/953 - 54s - loss: 0.3072 - accuracy: 0.8549\n",
      "Epoch 32/150\n",
      "953/953 - 54s - loss: 0.3000 - accuracy: 0.8555\n",
      "Epoch 33/150\n",
      "953/953 - 54s - loss: 0.2996 - accuracy: 0.8548\n",
      "Epoch 34/150\n",
      "953/953 - 54s - loss: 0.2900 - accuracy: 0.8598\n",
      "Epoch 35/150\n",
      "953/953 - 54s - loss: 0.2809 - accuracy: 0.8643\n",
      "Epoch 36/150\n",
      "953/953 - 54s - loss: 0.2787 - accuracy: 0.8677\n",
      "Epoch 37/150\n",
      "953/953 - 54s - loss: 0.2738 - accuracy: 0.8707\n",
      "Epoch 38/150\n",
      "953/953 - 54s - loss: 0.2701 - accuracy: 0.8696\n",
      "Epoch 39/150\n",
      "953/953 - 54s - loss: 0.2599 - accuracy: 0.8738\n",
      "Epoch 40/150\n",
      "953/953 - 54s - loss: 0.2596 - accuracy: 0.8751\n",
      "Epoch 41/150\n",
      "953/953 - 54s - loss: 0.2510 - accuracy: 0.8807\n",
      "Epoch 42/150\n",
      "953/953 - 54s - loss: 0.2467 - accuracy: 0.8824\n",
      "Epoch 43/150\n",
      "953/953 - 54s - loss: 0.2445 - accuracy: 0.8849\n",
      "Epoch 44/150\n",
      "953/953 - 54s - loss: 0.2450 - accuracy: 0.8793\n",
      "Epoch 45/150\n",
      "953/953 - 54s - loss: 0.2382 - accuracy: 0.8847\n",
      "Epoch 46/150\n",
      "953/953 - 54s - loss: 0.2352 - accuracy: 0.8864\n",
      "Epoch 47/150\n",
      "953/953 - 54s - loss: 0.2308 - accuracy: 0.8893\n",
      "Epoch 48/150\n",
      "953/953 - 54s - loss: 0.2227 - accuracy: 0.8922\n",
      "Epoch 49/150\n",
      "953/953 - 54s - loss: 0.2206 - accuracy: 0.8937\n",
      "Epoch 50/150\n",
      "953/953 - 54s - loss: 0.2196 - accuracy: 0.8935\n",
      "Epoch 51/150\n",
      "953/953 - 54s - loss: 0.2126 - accuracy: 0.8962\n",
      "Epoch 52/150\n",
      "953/953 - 54s - loss: 0.2129 - accuracy: 0.8974\n",
      "Epoch 53/150\n",
      "953/953 - 54s - loss: 0.2068 - accuracy: 0.9023\n",
      "Epoch 54/150\n",
      "953/953 - 54s - loss: 0.2046 - accuracy: 0.9015\n",
      "Epoch 55/150\n",
      "953/953 - 54s - loss: 0.2075 - accuracy: 0.8988\n",
      "Epoch 56/150\n",
      "953/953 - 54s - loss: 0.1991 - accuracy: 0.9033\n",
      "Epoch 57/150\n",
      "953/953 - 54s - loss: 0.1974 - accuracy: 0.9035\n",
      "Epoch 58/150\n",
      "953/953 - 54s - loss: 0.1929 - accuracy: 0.9050\n",
      "Epoch 59/150\n",
      "953/953 - 54s - loss: 0.1901 - accuracy: 0.9083\n",
      "Epoch 60/150\n",
      "953/953 - 54s - loss: 0.1980 - accuracy: 0.9024\n",
      "Epoch 61/150\n",
      "953/953 - 54s - loss: 0.1879 - accuracy: 0.9073\n",
      "Epoch 62/150\n",
      "953/953 - 54s - loss: 0.1798 - accuracy: 0.9111\n",
      "Epoch 63/150\n",
      "953/953 - 54s - loss: 0.1818 - accuracy: 0.9120\n",
      "Epoch 64/150\n",
      "953/953 - 54s - loss: 0.1821 - accuracy: 0.9099\n",
      "Epoch 65/150\n",
      "953/953 - 54s - loss: 0.1753 - accuracy: 0.9134\n",
      "Epoch 66/150\n",
      "953/953 - 54s - loss: 0.1786 - accuracy: 0.9113\n",
      "Epoch 67/150\n",
      "953/953 - 54s - loss: 0.1731 - accuracy: 0.9132\n",
      "Epoch 68/150\n",
      "953/953 - 54s - loss: 0.1685 - accuracy: 0.9165\n",
      "Epoch 69/150\n",
      "953/953 - 54s - loss: 0.1654 - accuracy: 0.9164\n",
      "Epoch 70/150\n",
      "953/953 - 54s - loss: 0.1659 - accuracy: 0.9151\n",
      "Epoch 71/150\n",
      "953/953 - 54s - loss: 0.1645 - accuracy: 0.9170\n",
      "Epoch 72/150\n",
      "953/953 - 54s - loss: 0.1602 - accuracy: 0.9204\n",
      "Epoch 73/150\n",
      "953/953 - 54s - loss: 0.1564 - accuracy: 0.9212\n",
      "Epoch 74/150\n",
      "953/953 - 54s - loss: 0.1560 - accuracy: 0.9190\n",
      "Epoch 75/150\n",
      "953/953 - 54s - loss: 0.1586 - accuracy: 0.9209\n",
      "Epoch 76/150\n",
      "953/953 - 54s - loss: 0.1571 - accuracy: 0.9209\n",
      "Epoch 77/150\n",
      "953/953 - 54s - loss: 0.1534 - accuracy: 0.9211\n",
      "Epoch 78/150\n",
      "953/953 - 54s - loss: 0.1535 - accuracy: 0.9221\n",
      "Epoch 79/150\n",
      "953/953 - 54s - loss: 0.1456 - accuracy: 0.9250\n",
      "Epoch 80/150\n",
      "953/953 - 54s - loss: 0.1442 - accuracy: 0.9246\n",
      "Epoch 81/150\n",
      "953/953 - 54s - loss: 0.1447 - accuracy: 0.9260\n",
      "Epoch 82/150\n",
      "953/953 - 54s - loss: 0.1420 - accuracy: 0.9264\n",
      "Epoch 83/150\n",
      "953/953 - 54s - loss: 0.1366 - accuracy: 0.9295\n",
      "Epoch 84/150\n",
      "953/953 - 54s - loss: 0.1342 - accuracy: 0.9291\n",
      "Epoch 85/150\n",
      "953/953 - 54s - loss: 0.1400 - accuracy: 0.9272\n",
      "Epoch 86/150\n",
      "953/953 - 54s - loss: 0.1328 - accuracy: 0.9308\n",
      "Epoch 87/150\n",
      "953/953 - 54s - loss: 0.1355 - accuracy: 0.9288\n",
      "Epoch 88/150\n",
      "953/953 - 54s - loss: 0.1304 - accuracy: 0.9307\n",
      "Epoch 89/150\n",
      "953/953 - 54s - loss: 0.1329 - accuracy: 0.9290\n",
      "Epoch 90/150\n",
      "953/953 - 54s - loss: 0.1267 - accuracy: 0.9325\n",
      "Epoch 91/150\n",
      "953/953 - 54s - loss: 0.1279 - accuracy: 0.9325\n",
      "Epoch 92/150\n",
      "953/953 - 54s - loss: 0.1318 - accuracy: 0.9296\n",
      "Epoch 93/150\n",
      "953/953 - 54s - loss: 0.1278 - accuracy: 0.9326\n",
      "Epoch 94/150\n",
      "953/953 - 54s - loss: 0.1259 - accuracy: 0.9336\n",
      "Epoch 95/150\n",
      "953/953 - 54s - loss: 0.1192 - accuracy: 0.9359\n",
      "Epoch 96/150\n",
      "953/953 - 54s - loss: 0.1209 - accuracy: 0.9347\n",
      "Epoch 97/150\n",
      "953/953 - 54s - loss: 0.1183 - accuracy: 0.9366\n",
      "Epoch 98/150\n",
      "953/953 - 54s - loss: 0.1246 - accuracy: 0.9342\n",
      "Epoch 99/150\n",
      "953/953 - 54s - loss: 0.1135 - accuracy: 0.9383\n",
      "Epoch 100/150\n",
      "953/953 - 54s - loss: 0.1148 - accuracy: 0.9377\n",
      "Epoch 101/150\n",
      "953/953 - 54s - loss: 0.1141 - accuracy: 0.9379\n",
      "Epoch 102/150\n",
      "953/953 - 54s - loss: 0.1146 - accuracy: 0.9398\n",
      "Epoch 103/150\n",
      "953/953 - 54s - loss: 0.1142 - accuracy: 0.9392\n",
      "Epoch 104/150\n",
      "953/953 - 54s - loss: 0.1111 - accuracy: 0.9376\n",
      "Epoch 105/150\n",
      "953/953 - 54s - loss: 0.1096 - accuracy: 0.9412\n",
      "Epoch 106/150\n",
      "953/953 - 54s - loss: 0.1093 - accuracy: 0.9393\n",
      "Epoch 107/150\n",
      "953/953 - 54s - loss: 0.1076 - accuracy: 0.9419\n",
      "Epoch 108/150\n",
      "953/953 - 54s - loss: 0.1063 - accuracy: 0.9425\n",
      "Epoch 109/150\n",
      "953/953 - 54s - loss: 0.1013 - accuracy: 0.9434\n",
      "Epoch 110/150\n",
      "953/953 - 54s - loss: 0.1020 - accuracy: 0.9449\n",
      "Epoch 111/150\n",
      "953/953 - 54s - loss: 0.1023 - accuracy: 0.9443\n",
      "Epoch 112/150\n",
      "953/953 - 54s - loss: 0.0994 - accuracy: 0.9449\n",
      "Epoch 113/150\n",
      "953/953 - 54s - loss: 0.1020 - accuracy: 0.9450\n",
      "Epoch 114/150\n",
      "953/953 - 54s - loss: 0.0970 - accuracy: 0.9472\n",
      "Epoch 115/150\n",
      "953/953 - 54s - loss: 0.0954 - accuracy: 0.9469\n",
      "Epoch 116/150\n",
      "953/953 - 54s - loss: 0.0951 - accuracy: 0.9472\n",
      "Epoch 117/150\n",
      "953/953 - 54s - loss: 0.0961 - accuracy: 0.9470\n",
      "Epoch 118/150\n",
      "953/953 - 54s - loss: 0.0920 - accuracy: 0.9488\n",
      "Epoch 119/150\n",
      "953/953 - 54s - loss: 0.0932 - accuracy: 0.9481\n",
      "Epoch 120/150\n",
      "953/953 - 54s - loss: 0.0952 - accuracy: 0.9470\n",
      "Epoch 121/150\n",
      "953/953 - 54s - loss: 0.0903 - accuracy: 0.9505\n",
      "Epoch 122/150\n",
      "953/953 - 54s - loss: 0.0938 - accuracy: 0.9481\n",
      "Epoch 123/150\n",
      "953/953 - 54s - loss: 0.0887 - accuracy: 0.9517\n",
      "Epoch 124/150\n",
      "953/953 - 54s - loss: 0.0875 - accuracy: 0.9513\n",
      "Epoch 125/150\n",
      "953/953 - 54s - loss: 0.0920 - accuracy: 0.9502\n",
      "Epoch 126/150\n",
      "953/953 - 54s - loss: 0.0834 - accuracy: 0.9536\n",
      "Epoch 127/150\n",
      "953/953 - 54s - loss: 0.0895 - accuracy: 0.9507\n",
      "Epoch 128/150\n",
      "953/953 - 54s - loss: 0.0865 - accuracy: 0.9518\n",
      "Epoch 129/150\n",
      "953/953 - 54s - loss: 0.0838 - accuracy: 0.9521\n",
      "Epoch 130/150\n",
      "953/953 - 54s - loss: 0.0835 - accuracy: 0.9543\n",
      "Epoch 131/150\n",
      "953/953 - 54s - loss: 0.0801 - accuracy: 0.9545\n",
      "Epoch 132/150\n",
      "953/953 - 54s - loss: 0.0831 - accuracy: 0.9534\n",
      "Epoch 133/150\n",
      "953/953 - 54s - loss: 0.0809 - accuracy: 0.9548\n",
      "Epoch 134/150\n",
      "953/953 - 54s - loss: 0.0831 - accuracy: 0.9532\n",
      "Epoch 135/150\n",
      "953/953 - 54s - loss: 0.0806 - accuracy: 0.9554\n",
      "Epoch 136/150\n",
      "953/953 - 54s - loss: 0.0734 - accuracy: 0.9584\n",
      "Epoch 137/150\n",
      "953/953 - 54s - loss: 0.0765 - accuracy: 0.9575\n",
      "Epoch 138/150\n",
      "953/953 - 54s - loss: 0.0796 - accuracy: 0.9563\n",
      "Epoch 139/150\n",
      "953/953 - 54s - loss: 0.0736 - accuracy: 0.9591\n",
      "Epoch 140/150\n",
      "953/953 - 54s - loss: 0.0765 - accuracy: 0.9584\n",
      "Epoch 141/150\n",
      "953/953 - 54s - loss: 0.0770 - accuracy: 0.9573\n",
      "Epoch 142/150\n",
      "953/953 - 54s - loss: 0.0779 - accuracy: 0.9554\n",
      "Epoch 143/150\n",
      "953/953 - 54s - loss: 0.0729 - accuracy: 0.9599\n",
      "Epoch 144/150\n",
      "953/953 - 54s - loss: 0.0706 - accuracy: 0.9597\n",
      "Epoch 145/150\n",
      "953/953 - 54s - loss: 0.0729 - accuracy: 0.9590\n",
      "Epoch 146/150\n",
      "953/953 - 54s - loss: 0.0685 - accuracy: 0.9618\n",
      "Epoch 147/150\n",
      "953/953 - 54s - loss: 0.0693 - accuracy: 0.9618\n",
      "Epoch 148/150\n",
      "953/953 - 54s - loss: 0.0681 - accuracy: 0.9629\n",
      "Epoch 149/150\n",
      "953/953 - 54s - loss: 0.1077 - accuracy: 0.9457\n",
      "Epoch 150/150\n",
      "953/953 - 54s - loss: 0.0663 - accuracy: 0.9632\n",
      "239/239 - 4s\n",
      "Normalized confusion matrix\n",
      "                  precision    recall  f1-score   support\n",
      "\n",
      "            HEKA       0.99      0.99      0.99       146\n",
      "  fridge/freezer       0.99      0.98      0.98      3893\n",
      "            HTPC       0.88      0.74      0.80      1173\n",
      "    audio system       0.57      0.86      0.68       276\n",
      "broadband router       0.95      0.99      0.97       314\n",
      "    coffee maker       0.90      1.00      0.95        65\n",
      "        computer       0.95      0.93      0.94       839\n",
      "            lamp       0.75      0.85      0.79       216\n",
      " laptop computer       0.80      0.87      0.83       514\n",
      "       microwave       0.99      0.99      0.99       134\n",
      " washing machine       0.96      1.00      0.98        47\n",
      "\n",
      "        accuracy                           0.92      7617\n",
      "       macro avg       0.88      0.93      0.90      7617\n",
      "    weighted avg       0.93      0.92      0.92      7617\n",
      "\n"
     ]
    },
    {
     "name": "stderr",
     "output_type": "stream",
     "text": [
      "2022-02-09 20:48:02.407395: W tensorflow/python/util/util.cc:348] Sets are not currently considered sequences, but this may change in the future, so consider avoiding using them.\n",
      "WARNING:absl:Found untraced functions such as lstm_cell_1_layer_call_and_return_conditional_losses, lstm_cell_1_layer_call_fn, lstm_cell_2_layer_call_and_return_conditional_losses, lstm_cell_2_layer_call_fn, lstm_cell_4_layer_call_and_return_conditional_losses while saving (showing 5 of 20). These functions will not be directly callable after loading.\n"
     ]
    },
    {
     "name": "stdout",
     "output_type": "stream",
     "text": [
      "INFO:tensorflow:Assets written to: /workspace/notebooks/models/BI_LSTM/eco_82/assets\n"
     ]
    },
    {
     "name": "stderr",
     "output_type": "stream",
     "text": [
      "INFO:tensorflow:Assets written to: /workspace/notebooks/models/BI_LSTM/eco_82/assets\n"
     ]
    },
    {
     "data": {
      "image/png": "[encoded data removed]",
      "text/plain": [
       "<Figure size 720x720 with 2 Axes>"
      ]
     },
     "metadata": {
      "needs_background": "light"
     },
     "output_type": "display_data"
    }
   ],
   "source": [
    "# %%capture cap --no-stderr\n",
    "\n",
    "\n",
    "if environ['train_type'] == \"BB\":\n",
    "\n",
    "    #define generator\n",
    "    train_gen = HDF5ImageGenerator(\n",
    "        src= path_data,\n",
    "        X_key=\"data/train/gaf\",\n",
    "        y_key=\"labels/train/gaf\",\n",
    "        classes_key=\"appliances/classes\",\n",
    "        labels_encoding=\"hot\",\n",
    "        shuffle=True,\n",
    "        batch_size=int(environ['batch_size']),\n",
    "        num_classes=num_of_classes,\n",
    "        mode=\"train\",\n",
    "        )\n",
    "    \n",
    "    model = select_model(environ['learn_type'])\n",
    "    \n",
    "    txt_log.write(\"fitting BB model: \\n\")\n",
    "    \n",
    "    model.fit(\n",
    "        train_gen,\n",
    "        verbose=2,\n",
    "        epochs=int(environ['epochs']),\n",
    "        class_weight=d_class_weights,\n",
    "        callbacks = [save_op_callback],\n",
    "    )\n",
    "    \n",
    "    txt_log.write(\"finished fitting BB model: \\n\")\n",
    "\n",
    "    evaluate_model(model,x_test,y_test,appliances)\n",
    "    \n",
    "    if environ['save_model']==\"True\":\n",
    "\n",
    "        path_model_save = path+\"/models/\"+environ['learn_type']+\"/\"+dataset.split(\"_\")[0]+\"_\"+dataset.split(\"_R\")[1][0:2]\n",
    "        model.save(path_model_save)\n",
    "        txt_log.write(\"model saved to:\"+\"/models/\"+environ['learn_type']+\"/\"+dataset.split(\"_\")[0]+\"_\"+dataset.split(\"_R\")[1][0:2]+\" \\n\")\n",
    "        \n",
    "        \n",
    "# with open(path_save+\"_out_log.txt\" as f:\n",
    "#     f.write(cap.stdout)\n"
   ]
  },
  {
   "cell_type": "code",
   "execution_count": 13,
   "metadata": {
    "collapsed": true,
    "execution": {
     "iopub.execute_input": "2022-02-09T20:48:13.124217Z",
     "iopub.status.busy": "2022-02-09T20:48:13.123020Z",
     "iopub.status.idle": "2022-02-09T20:48:13.126322Z",
     "shell.execute_reply": "2022-02-09T20:48:13.127276Z"
    }
   },
   "outputs": [],
   "source": [
    "#model = keras.models.load_model(path_model1)\n",
    "# model_used = model"
   ]
  },
  {
   "cell_type": "code",
   "execution_count": 14,
   "metadata": {
    "collapsed": true,
    "execution": {
     "iopub.execute_input": "2022-02-09T20:48:13.133582Z",
     "iopub.status.busy": "2022-02-09T20:48:13.132489Z",
     "iopub.status.idle": "2022-02-09T20:48:13.134764Z",
     "shell.execute_reply": "2022-02-09T20:48:13.135669Z"
    },
    "jupyter": {
     "outputs_hidden": true
    },
    "tags": []
   },
   "outputs": [],
   "source": [
    "# evaluate_model(model,x_test,y_test,appliances)"
   ]
  },
  {
   "cell_type": "code",
   "execution_count": 15,
   "metadata": {
    "collapsed": true,
    "execution": {
     "iopub.execute_input": "2022-02-09T20:48:13.156475Z",
     "iopub.status.busy": "2022-02-09T20:48:13.139932Z",
     "iopub.status.idle": "2022-02-09T20:48:13.158970Z",
     "shell.execute_reply": "2022-02-09T20:48:13.159455Z"
    }
   },
   "outputs": [],
   "source": [
    "# datasets =[\n",
    "#     \"ukdale_gen_GASF_13m_100S5X12A54480_R82_80-20\"\n",
    "# ]\n",
    "\n",
    "if environ['train_type'] == \"TL\": \n",
    "    models = environ['tl_datasets'].replace(\" \",\"\").split(\",\")\n",
    "    #model = [\"base\"]\n",
    "    \n",
    "    for model in models:\n",
    "    \n",
    "        file_name = dataset\n",
    "        \n",
    "        datasetTL = model\n",
    "        \n",
    "        seed = dataset.split(\"_R\")[1][0:2]\n",
    "        \n",
    "        print(\"using dataset data\",dataset.split(\"_\")[0],\"training on model\",model,\"seed\",environ['seed'])\n",
    "        txt_log.write(\"starting \"+dataset.split(\"_\")[0]+\" training on model \"+model+\" seed \"+environ['seed']+\"\\n\")\n",
    "\n",
    "\n",
    "        tf.keras.backend.clear_session()\n",
    "\n",
    "\n",
    "        #read the file\n",
    "        path = str(pathlib.Path().resolve())\n",
    "        path_data = f\"{path}\"\"/data/\"f\"{file_name}\"\"/\"f\"{file_name}\"\".hdf5\"\n",
    "        file = h5py.File(path_data,\"r+\")\n",
    "\n",
    "\n",
    "        print(\"reading data, printing stats: \")\n",
    "        x_test,y_test,d_class_weights,num_of_classes,appliances = get_data(file)\n",
    "        print(\"loading model\")\n",
    "        \n",
    "        model_seed = 42\n",
    "        model_used = create_tl_model(model,environ['learn_type'],model_seed,path,num_of_classes)\n",
    "                \n",
    "        train_gen = HDF5ImageGenerator(\n",
    "            src= path_data,\n",
    "            X_key=\"data/train/gaf\",\n",
    "            y_key=\"labels/train/gaf\",\n",
    "            classes_key=\"appliances/classes\",\n",
    "            labels_encoding=\"hot\",\n",
    "            shuffle=True,\n",
    "            batch_size=int(environ['batch_size']),\n",
    "            num_classes=num_of_classes,\n",
    "            mode=\"train\",\n",
    "            )\n",
    "\n",
    "        model_used.fit(\n",
    "            train_gen,\n",
    "            verbose=2,\n",
    "            epochs=int(environ['epochs']),\n",
    "            class_weight=d_class_weights,\n",
    "            callbacks = [save_op_callback]\n",
    "            #workers = 6,\n",
    "        )\n",
    "        \n",
    "        txt_log.write(\"finished \"+dataset.split(\"_\")[0]+\" training on model \"+model+\" seed \"+environ['seed']+\"\\n\")\n",
    "\n",
    "\n",
    "        evaluate_model(model_used,x_test,y_test,appliances)\n",
    "        \n",
    "\n",
    "\n",
    "\n",
    "        #del model_used\n",
    "\n"
   ]
  },
  {
   "cell_type": "code",
   "execution_count": 16,
   "metadata": {
    "execution": {
     "iopub.execute_input": "2022-02-09T20:48:13.163484Z",
     "iopub.status.busy": "2022-02-09T20:48:13.162890Z",
     "iopub.status.idle": "2022-02-09T20:48:13.165930Z",
     "shell.execute_reply": "2022-02-09T20:48:13.166388Z"
    }
   },
   "outputs": [],
   "source": [
    "txt_log.close()"
   ]
  },
  {
   "cell_type": "code",
   "execution_count": null,
   "metadata": {},
   "outputs": [],
   "source": []
  }
 ],
 "metadata": {
  "colab": {
   "authorship_tag": "ABX9TyMej4PvP65qsLng7TnQKWA4",
   "name": "LSTM-gen",
   "provenance": []
  },
  "kernelspec": {
   "display_name": "Python 3 (ipykernel)",
   "language": "python",
   "name": "python3"
  },
  "language_info": {
   "codemirror_mode": {
    "name": "ipython",
    "version": 3
   },
   "file_extension": ".py",
   "mimetype": "text/x-python",
   "name": "python",
   "nbconvert_exporter": "python",
   "pygments_lexer": "ipython3",
   "version": "3.8.10"
  }
 },
 "nbformat": 4,
 "nbformat_minor": 4
}
