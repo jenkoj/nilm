{
 "cells": [
  {
   "cell_type": "code",
   "execution_count": 1,
   "metadata": {
    "execution": {
     "iopub.execute_input": "2022-02-09T12:55:23.055992Z",
     "iopub.status.busy": "2022-02-09T12:55:23.054594Z",
     "iopub.status.idle": "2022-02-09T12:55:24.790083Z",
     "shell.execute_reply": "2022-02-09T12:55:24.789626Z"
    },
    "id": "WqUfHWgtJxtu",
    "scrolled": true,
    "tags": []
   },
   "outputs": [
    {
     "name": "stderr",
     "output_type": "stream",
     "text": [
      "2022-02-09 12:55:23.901468: I tensorflow/stream_executor/platform/default/dso_loader.cc:54] Successfully opened dynamic library libcudart.so.11.0\n"
     ]
    },
    {
     "name": "stdout",
     "output_type": "stream",
     "text": [
      "2.5.0\n",
      "Num GPUs Available:  1\n"
     ]
    },
    {
     "name": "stderr",
     "output_type": "stream",
     "text": [
      "2022-02-09 12:55:24.725297: I tensorflow/stream_executor/platform/default/dso_loader.cc:54] Successfully opened dynamic library libcuda.so.1\n",
      "2022-02-09 12:55:24.773902: I tensorflow/core/common_runtime/gpu/gpu_device.cc:1734] Found device 0 with properties: \n",
      "pciBusID: 0000:21:00.0 name: NVIDIA GeForce RTX 2080 Ti computeCapability: 7.5\n",
      "coreClock: 1.545GHz coreCount: 68 deviceMemorySize: 10.76GiB deviceMemoryBandwidth: 573.69GiB/s\n",
      "2022-02-09 12:55:24.773951: I tensorflow/stream_executor/platform/default/dso_loader.cc:54] Successfully opened dynamic library libcudart.so.11.0\n",
      "2022-02-09 12:55:24.778209: I tensorflow/stream_executor/platform/default/dso_loader.cc:54] Successfully opened dynamic library libcublas.so.11\n",
      "2022-02-09 12:55:24.778274: I tensorflow/stream_executor/platform/default/dso_loader.cc:54] Successfully opened dynamic library libcublasLt.so.11\n",
      "2022-02-09 12:55:24.780001: I tensorflow/stream_executor/platform/default/dso_loader.cc:54] Successfully opened dynamic library libcufft.so.10\n",
      "2022-02-09 12:55:24.780308: I tensorflow/stream_executor/platform/default/dso_loader.cc:54] Successfully opened dynamic library libcurand.so.10\n",
      "2022-02-09 12:55:24.780987: I tensorflow/stream_executor/platform/default/dso_loader.cc:54] Successfully opened dynamic library libcutensor.so.1\n",
      "2022-02-09 12:55:24.781471: I tensorflow/stream_executor/platform/default/dso_loader.cc:54] Successfully opened dynamic library libcusolver.so.11\n",
      "2022-02-09 12:55:24.782190: I tensorflow/stream_executor/platform/default/dso_loader.cc:54] Successfully opened dynamic library libcusparse.so.11\n",
      "2022-02-09 12:55:24.782329: I tensorflow/stream_executor/platform/default/dso_loader.cc:54] Successfully opened dynamic library libcudnn.so.8\n",
      "2022-02-09 12:55:24.782689: I tensorflow/core/common_runtime/gpu/gpu_device.cc:1872] Adding visible gpu devices: 0\n"
     ]
    }
   ],
   "source": [
    "import h5py\n",
    "import numpy as np\n",
    "\n",
    "from sklearn.model_selection import train_test_split\n",
    "from sklearn.metrics import classification_report, confusion_matrix\n",
    "import matplotlib.pyplot as plt\n",
    "import itertools \n",
    "import pyts\n",
    "from pyts.approximation import PiecewiseAggregateApproximation\n",
    "\n",
    "from sklearn.utils import class_weight\n",
    "\n",
    "import pathlib\n",
    "import tensorflow as tf\n",
    "from tensorflow import keras\n",
    "from tensorflow.keras import layers, optimizers\n",
    "from tensorflow.keras.layers import Convolution2D,Conv2D, Dense,Dropout, Flatten, Activation, MaxPooling2D, Input, Conv1D, GlobalAveragePooling1D, TimeDistributed, GRU, LSTM\n",
    "\n",
    "print(tf.__version__)\n",
    "print(\"Num GPUs Available: \", len(tf.config.list_physical_devices('GPU')))\n",
    "gpus = tf.config.experimental.list_physical_devices('GPU')\n",
    "\n",
    "try:\n",
    "    for gpu in gpus:\n",
    "        tf.config.experimental.set_memory_growth(gpu, True)\n",
    "except RuntimeError as e:\n",
    "    print(e)"
   ]
  },
  {
   "cell_type": "code",
   "execution_count": 2,
   "metadata": {
    "execution": {
     "iopub.execute_input": "2022-02-09T12:55:24.793846Z",
     "iopub.status.busy": "2022-02-09T12:55:24.793430Z",
     "iopub.status.idle": "2022-02-09T12:55:24.797167Z",
     "shell.execute_reply": "2022-02-09T12:55:24.797498Z"
    }
   },
   "outputs": [
    {
     "name": "stdout",
     "output_type": "stream",
     "text": [
      "iawe_gen_GASF_13m_100S5X4A1545_R42_80-20\n"
     ]
    }
   ],
   "source": [
    "from os import environ\n",
    "dataset = environ['dataset']\n",
    "print(dataset)"
   ]
  },
  {
   "cell_type": "code",
   "execution_count": 3,
   "metadata": {
    "execution": {
     "iopub.execute_input": "2022-02-09T12:55:24.804537Z",
     "iopub.status.busy": "2022-02-09T12:55:24.804118Z",
     "iopub.status.idle": "2022-02-09T12:55:24.809452Z",
     "shell.execute_reply": "2022-02-09T12:55:24.809907Z"
    }
   },
   "outputs": [],
   "source": [
    "#my defs \n",
    "from modules.models import  LSTM_3D_V56, CNN_V56,LSTM_BI_V56\n",
    "from modules.tools import my_print, plot_confusion_matrix_norm, get_data,get_data_split, evaluate_model, create_tl_model\n",
    "from modules.HDF5ImageGenerator import HDF5ImageGenerator"
   ]
  },
  {
   "cell_type": "code",
   "execution_count": 4,
   "metadata": {
    "execution": {
     "iopub.execute_input": "2022-02-09T12:55:24.815879Z",
     "iopub.status.busy": "2022-02-09T12:55:24.815315Z",
     "iopub.status.idle": "2022-02-09T12:55:24.818584Z",
     "shell.execute_reply": "2022-02-09T12:55:24.818127Z"
    },
    "id": "RT1vwq7-KOtB"
   },
   "outputs": [],
   "source": [
    "#LOAD DATASET\n",
    "#file_name = \"ukdale_gen_GASF_13m_100S5X12A54480\"\n",
    "#file_name = \"refit_gen_GASF_13m_100S5X_15A166006\"\n",
    "file_name = \"refit_gen_GASF_13m_100S5X_15A166006_R42-80-20\"\n",
    "#file_name = \"refit_gen_GASF_13m_100S5X_15A166006_R42_80-20\"\n",
    "file_name = \"refit_gen_GASF_60m_300S0X_15A157030N_R12_80-20-V1\"\n",
    "file_name = environ[\"dataset\"]\n",
    "#read the file\n",
    "path = str(pathlib.Path().resolve())\n",
    "\n",
    "path_data = f\"{path}\"\"/data/\"f\"{file_name}\"\"/\"f\"{file_name}\"\".hdf5\"\n",
    "\n",
    "file = h5py.File(path_data,\"r+\")"
   ]
  },
  {
   "cell_type": "code",
   "execution_count": 5,
   "metadata": {
    "execution": {
     "iopub.execute_input": "2022-02-09T12:55:24.825161Z",
     "iopub.status.busy": "2022-02-09T12:55:24.824674Z",
     "iopub.status.idle": "2022-02-09T12:55:24.902557Z",
     "shell.execute_reply": "2022-02-09T12:55:24.903664Z"
    },
    "scrolled": true
   },
   "outputs": [
    {
     "name": "stdout",
     "output_type": "stream",
     "text": [
      "['air conditioner', 'computer', 'fridge', 'television']\n",
      "{0: 2.2888888888888888, 1: 0.8442622950819673, 2: 0.46119402985074626, 3: 4.753846153846154}\n",
      " \n",
      "Tests \n",
      "air conditioner test: 34 train: 135\n",
      "computer test: 92 train: 366\n",
      "fridge test: 167 train: 670\n",
      "television test: 16 train: 65\n"
     ]
    }
   ],
   "source": [
    "x_test,y_test,d_class_weights,num_of_classes,appliances = get_data(file)"
   ]
  },
  {
   "cell_type": "code",
   "execution_count": 6,
   "metadata": {
    "execution": {
     "iopub.execute_input": "2022-02-09T12:55:24.911000Z",
     "iopub.status.busy": "2022-02-09T12:55:24.909630Z",
     "iopub.status.idle": "2022-02-09T12:55:24.913383Z",
     "shell.execute_reply": "2022-02-09T12:55:24.912300Z"
    }
   },
   "outputs": [],
   "source": [
    "def select_model(learn_type):\n",
    "    \n",
    "    if learn_type == \"CNN\":\n",
    "        model = CNN_V56(file[\"data/train/gaf\"][0:10],num_of_classes,lr= 0.00002)\n",
    "\n",
    "    if learn_type == \"LSTM\":\n",
    "        model = LSTM_3D_V56(file[\"data/train/gaf\"][0:10],num_of_classes,lr= 0.00002)\n",
    "\n",
    "    if learn_type == \"BI_LSTM\":\n",
    "        model = LSTM_BI_V56(file[\"data/train/gaf\"][0:10],num_of_classes,lr= 0.00002)\n",
    "\n",
    "    return model\n",
    "              "
   ]
  },
  {
   "cell_type": "code",
   "execution_count": 7,
   "metadata": {
    "execution": {
     "iopub.execute_input": "2022-02-09T12:55:24.920416Z",
     "iopub.status.busy": "2022-02-09T12:55:24.919235Z",
     "iopub.status.idle": "2022-02-09T12:55:24.921170Z",
     "shell.execute_reply": "2022-02-09T12:55:24.921751Z"
    }
   },
   "outputs": [],
   "source": [
    "path_save = path+'/experiment_automation/output/'+environ['learn_type']+'/'+dataset.split(\"_\")[0]+\"/\"+environ['train_type']+\"/\"+dataset.split(\"_\")[0]+\"_\"+environ['seed']+\"_\"+environ['tl_datasets']\n",
    "path_save_nb = path_save+\"_out.ipynb\"\n",
    "path_save_log = path_save+\"_out_log2.txt\""
   ]
  },
  {
   "cell_type": "code",
   "execution_count": 8,
   "metadata": {
    "execution": {
     "iopub.execute_input": "2022-02-09T12:55:24.932168Z",
     "iopub.status.busy": "2022-02-09T12:55:24.931194Z",
     "iopub.status.idle": "2022-02-09T12:55:25.033784Z",
     "shell.execute_reply": "2022-02-09T12:55:25.034812Z"
    }
   },
   "outputs": [],
   "source": [
    "from keras.callbacks import LambdaCallback\n",
    "#path_log= path+'/experiment_automation/output/'+environ['learn_type']+'/'+dataset.split(\"_\")[0]+\"/\"+environ['train_type']+\"/\"+dataset.split(\"_\")[0]+\"_\"+environ['seed']+\"_\"+environ['tl_datasets']+\"_log.txt\"\n",
    "txt_log = open(path_save+\"_log.txt\", mode='wt', buffering=1)\n",
    "txt_log.write(\"file created! \\n\")\n",
    "\n",
    "save_op_callback = LambdaCallback(\n",
    "  on_epoch_end = lambda epoch, logs: txt_log.write(\n",
    "    str({'epoch': epoch, 'loss': logs['loss'],'acc': logs['accuracy']}) + '\\n'),\n",
    "                                                           \n",
    ")"
   ]
  },
  {
   "cell_type": "code",
   "execution_count": 9,
   "metadata": {
    "execution": {
     "iopub.execute_input": "2022-02-09T12:55:25.042011Z",
     "iopub.status.busy": "2022-02-09T12:55:25.040746Z",
     "iopub.status.idle": "2022-02-09T12:55:25.045042Z",
     "shell.execute_reply": "2022-02-09T12:55:25.046091Z"
    }
   },
   "outputs": [
    {
     "name": "stdout",
     "output_type": "stream",
     "text": [
      "/workspace/notebooks/experiment_automation/output/BI_LSTM/iawe/BB/iawe_42__out.ipynb\n"
     ]
    }
   ],
   "source": [
    "print(path_save_nb)"
   ]
  },
  {
   "cell_type": "code",
   "execution_count": 10,
   "metadata": {
    "execution": {
     "iopub.execute_input": "2022-02-09T12:55:25.053099Z",
     "iopub.status.busy": "2022-02-09T12:55:25.051798Z",
     "iopub.status.idle": "2022-02-09T12:55:25.054627Z",
     "shell.execute_reply": "2022-02-09T12:55:25.055668Z"
    }
   },
   "outputs": [],
   "source": [
    "# rm $path_save_log"
   ]
  },
  {
   "cell_type": "code",
   "execution_count": 11,
   "metadata": {
    "execution": {
     "iopub.execute_input": "2022-02-09T12:55:25.062562Z",
     "iopub.status.busy": "2022-02-09T12:55:25.061391Z",
     "iopub.status.idle": "2022-02-09T12:55:25.065313Z",
     "shell.execute_reply": "2022-02-09T12:55:25.064043Z"
    }
   },
   "outputs": [],
   "source": [
    "# %%capture cap \n",
    "\n",
    "# with open(path_save_log,\"wt\") as f:\n",
    "#     f.write(cap.stdout)\n",
    "    \n",
    "# print(\"out capture..\")"
   ]
  },
  {
   "cell_type": "code",
   "execution_count": 12,
   "metadata": {
    "execution": {
     "iopub.execute_input": "2022-02-09T12:55:25.084582Z",
     "iopub.status.busy": "2022-02-09T12:55:25.083668Z",
     "iopub.status.idle": "2022-02-09T13:01:35.526775Z",
     "shell.execute_reply": "2022-02-09T13:01:35.527753Z"
    },
    "id": "vqA9NwOqKrb5",
    "jupyter": {
     "outputs_hidden": true
    },
    "tags": []
   },
   "outputs": [
    {
     "name": "stdout",
     "output_type": "stream",
     "text": [
      "Normal way\n",
      "[0 1 2 3 4 5 6 7 8 9]\n"
     ]
    },
    {
     "name": "stderr",
     "output_type": "stream",
     "text": [
      "2022-02-09 12:55:25.108395: I tensorflow/core/common_runtime/gpu/gpu_device.cc:1734] Found device 0 with properties: \n",
      "pciBusID: 0000:21:00.0 name: NVIDIA GeForce RTX 2080 Ti computeCapability: 7.5\n",
      "coreClock: 1.545GHz coreCount: 68 deviceMemorySize: 10.76GiB deviceMemoryBandwidth: 573.69GiB/s\n",
      "2022-02-09 12:55:25.108916: I tensorflow/core/common_runtime/gpu/gpu_device.cc:1872] Adding visible gpu devices: 0\n",
      "2022-02-09 12:55:25.108987: I tensorflow/stream_executor/platform/default/dso_loader.cc:54] Successfully opened dynamic library libcudart.so.11.0\n",
      "2022-02-09 12:55:25.481520: I tensorflow/core/common_runtime/gpu/gpu_device.cc:1258] Device interconnect StreamExecutor with strength 1 edge matrix:\n",
      "2022-02-09 12:55:25.481557: I tensorflow/core/common_runtime/gpu/gpu_device.cc:1264]      0 \n",
      "2022-02-09 12:55:25.481563: I tensorflow/core/common_runtime/gpu/gpu_device.cc:1277] 0:   N \n",
      "2022-02-09 12:55:25.482118: I tensorflow/core/common_runtime/gpu/gpu_device.cc:1418] Created TensorFlow device (/job:localhost/replica:0/task:0/device:GPU:0 with 9649 MB memory) -> physical GPU (device: 0, name: NVIDIA GeForce RTX 2080 Ti, pci bus id: 0000:21:00.0, compute capability: 7.5)\n",
      "2022-02-09 12:55:25.482443: I tensorflow/core/common_runtime/process_util.cc:146] Creating new thread pool with default inter op setting: 20. Tune using inter_op_parallelism_threads for best performance.\n"
     ]
    },
    {
     "name": "stdout",
     "output_type": "stream",
     "text": [
      "WARNING:tensorflow:From /usr/local/lib/python3.8/dist-packages/tensorflow/python/ops/array_ops.py:5043: calling gather (from tensorflow.python.ops.array_ops) with validate_indices is deprecated and will be removed in a future version.\n",
      "Instructions for updating:\n",
      "The `validate_indices` argument has no effect. Indices are always validated on CPU and never validated on GPU.\n",
      "Epoch 1/150\n"
     ]
    },
    {
     "name": "stderr",
     "output_type": "stream",
     "text": [
      "2022-02-09 12:55:26.251648: I tensorflow/compiler/mlir/mlir_graph_optimization_pass.cc:176] None of the MLIR Optimization Passes are enabled (registered 2)\n",
      "2022-02-09 12:55:26.272503: I tensorflow/core/platform/profile_utils/cpu_utils.cc:114] CPU Frequency: 3299990000 Hz\n",
      "2022-02-09 12:55:29.786927: I tensorflow/stream_executor/platform/default/dso_loader.cc:54] Successfully opened dynamic library libcudnn.so.8\n",
      "2022-02-09 12:55:30.290282: I tensorflow/stream_executor/cuda/cuda_dnn.cc:380] Loaded cuDNN version 8202\n",
      "2022-02-09 12:55:30.749387: I tensorflow/stream_executor/platform/default/dso_loader.cc:54] Successfully opened dynamic library libcublas.so.11\n",
      "2022-02-09 12:55:31.159088: I tensorflow/stream_executor/platform/default/dso_loader.cc:54] Successfully opened dynamic library libcublasLt.so.11\n"
     ]
    },
    {
     "name": "stdout",
     "output_type": "stream",
     "text": [
      "39/39 - 8s - loss: 1.2953 - accuracy: 0.3544\n",
      "Epoch 2/150\n",
      "39/39 - 2s - loss: 1.1596 - accuracy: 0.6141\n",
      "Epoch 3/150\n",
      "39/39 - 2s - loss: 1.0706 - accuracy: 0.6165\n",
      "Epoch 4/150\n",
      "39/39 - 2s - loss: 0.9885 - accuracy: 0.5955\n",
      "Epoch 5/150\n",
      "39/39 - 2s - loss: 0.9163 - accuracy: 0.5437\n",
      "Epoch 6/150\n",
      "39/39 - 2s - loss: 0.8506 - accuracy: 0.5655\n",
      "Epoch 7/150\n",
      "39/39 - 2s - loss: 0.7801 - accuracy: 0.6165\n",
      "Epoch 8/150\n",
      "39/39 - 2s - loss: 0.7277 - accuracy: 0.6828\n",
      "Epoch 9/150\n",
      "39/39 - 2s - loss: 0.6767 - accuracy: 0.7468\n",
      "Epoch 10/150\n",
      "39/39 - 2s - loss: 0.6319 - accuracy: 0.7961\n",
      "Epoch 11/150\n",
      "39/39 - 2s - loss: 0.5990 - accuracy: 0.8333\n",
      "Epoch 12/150\n",
      "39/39 - 2s - loss: 0.5443 - accuracy: 0.8794\n",
      "Epoch 13/150\n",
      "39/39 - 2s - loss: 0.5054 - accuracy: 0.8697\n",
      "Epoch 14/150\n",
      "39/39 - 2s - loss: 0.4613 - accuracy: 0.9013\n",
      "Epoch 15/150\n",
      "39/39 - 2s - loss: 0.4316 - accuracy: 0.9070\n",
      "Epoch 16/150\n",
      "39/39 - 2s - loss: 0.3930 - accuracy: 0.9167\n",
      "Epoch 17/150\n",
      "39/39 - 2s - loss: 0.3856 - accuracy: 0.9134\n",
      "Epoch 18/150\n",
      "39/39 - 2s - loss: 0.3495 - accuracy: 0.9345\n",
      "Epoch 19/150\n",
      "39/39 - 2s - loss: 0.3272 - accuracy: 0.9288\n",
      "Epoch 20/150\n",
      "39/39 - 2s - loss: 0.3067 - accuracy: 0.9328\n",
      "Epoch 21/150\n",
      "39/39 - 2s - loss: 0.3073 - accuracy: 0.9223\n",
      "Epoch 22/150\n",
      "39/39 - 2s - loss: 0.2735 - accuracy: 0.9345\n",
      "Epoch 23/150\n",
      "39/39 - 2s - loss: 0.2501 - accuracy: 0.9426\n",
      "Epoch 24/150\n",
      "39/39 - 2s - loss: 0.2489 - accuracy: 0.9337\n",
      "Epoch 25/150\n",
      "39/39 - 2s - loss: 0.2305 - accuracy: 0.9474\n",
      "Epoch 26/150\n",
      "39/39 - 2s - loss: 0.2263 - accuracy: 0.9385\n",
      "Epoch 27/150\n",
      "39/39 - 2s - loss: 0.2116 - accuracy: 0.9450\n",
      "Epoch 28/150\n",
      "39/39 - 2s - loss: 0.1853 - accuracy: 0.9539\n",
      "Epoch 29/150\n",
      "39/39 - 2s - loss: 0.2056 - accuracy: 0.9401\n",
      "Epoch 30/150\n",
      "39/39 - 2s - loss: 0.1832 - accuracy: 0.9563\n",
      "Epoch 31/150\n",
      "39/39 - 2s - loss: 0.1795 - accuracy: 0.9595\n",
      "Epoch 32/150\n",
      "39/39 - 2s - loss: 0.1689 - accuracy: 0.9547\n",
      "Epoch 33/150\n",
      "39/39 - 2s - loss: 0.1507 - accuracy: 0.9676\n",
      "Epoch 34/150\n",
      "39/39 - 2s - loss: 0.1487 - accuracy: 0.9668\n",
      "Epoch 35/150\n",
      "39/39 - 2s - loss: 0.1518 - accuracy: 0.9604\n",
      "Epoch 36/150\n",
      "39/39 - 2s - loss: 0.1392 - accuracy: 0.9628\n",
      "Epoch 37/150\n",
      "39/39 - 2s - loss: 0.1269 - accuracy: 0.9725\n",
      "Epoch 38/150\n",
      "39/39 - 2s - loss: 0.1201 - accuracy: 0.9717\n",
      "Epoch 39/150\n",
      "39/39 - 2s - loss: 0.1219 - accuracy: 0.9660\n",
      "Epoch 40/150\n",
      "39/39 - 2s - loss: 0.1127 - accuracy: 0.9749\n",
      "Epoch 41/150\n",
      "39/39 - 2s - loss: 0.1361 - accuracy: 0.9620\n",
      "Epoch 42/150\n",
      "39/39 - 2s - loss: 0.1123 - accuracy: 0.9668\n",
      "Epoch 43/150\n",
      "39/39 - 2s - loss: 0.1100 - accuracy: 0.9684\n",
      "Epoch 44/150\n",
      "39/39 - 2s - loss: 0.1151 - accuracy: 0.9757\n",
      "Epoch 45/150\n",
      "39/39 - 2s - loss: 0.0990 - accuracy: 0.9749\n",
      "Epoch 46/150\n",
      "39/39 - 2s - loss: 0.0842 - accuracy: 0.9830\n",
      "Epoch 47/150\n",
      "39/39 - 2s - loss: 0.0729 - accuracy: 0.9887\n",
      "Epoch 48/150\n",
      "39/39 - 2s - loss: 0.0874 - accuracy: 0.9782\n",
      "Epoch 49/150\n",
      "39/39 - 2s - loss: 0.0739 - accuracy: 0.9830\n",
      "Epoch 50/150\n",
      "39/39 - 2s - loss: 0.0690 - accuracy: 0.9862\n",
      "Epoch 51/150\n",
      "39/39 - 2s - loss: 0.0657 - accuracy: 0.9887\n",
      "Epoch 52/150\n",
      "39/39 - 2s - loss: 0.0744 - accuracy: 0.9854\n",
      "Epoch 53/150\n",
      "39/39 - 2s - loss: 0.0651 - accuracy: 0.9871\n",
      "Epoch 54/150\n",
      "39/39 - 2s - loss: 0.0676 - accuracy: 0.9879\n",
      "Epoch 55/150\n",
      "39/39 - 2s - loss: 0.0543 - accuracy: 0.9919\n",
      "Epoch 56/150\n",
      "39/39 - 2s - loss: 0.0539 - accuracy: 0.9919\n",
      "Epoch 57/150\n",
      "39/39 - 2s - loss: 0.0659 - accuracy: 0.9846\n",
      "Epoch 58/150\n",
      "39/39 - 2s - loss: 0.0606 - accuracy: 0.9879\n",
      "Epoch 59/150\n",
      "39/39 - 2s - loss: 0.0541 - accuracy: 0.9927\n",
      "Epoch 60/150\n",
      "39/39 - 2s - loss: 0.0511 - accuracy: 0.9935\n",
      "Epoch 61/150\n",
      "39/39 - 2s - loss: 0.0480 - accuracy: 0.9919\n",
      "Epoch 62/150\n",
      "39/39 - 2s - loss: 0.0531 - accuracy: 0.9895\n",
      "Epoch 63/150\n",
      "39/39 - 2s - loss: 0.0511 - accuracy: 0.9903\n",
      "Epoch 64/150\n",
      "39/39 - 2s - loss: 0.0439 - accuracy: 0.9911\n",
      "Epoch 65/150\n",
      "39/39 - 2s - loss: 0.0487 - accuracy: 0.9887\n",
      "Epoch 66/150\n",
      "39/39 - 2s - loss: 0.0368 - accuracy: 0.9943\n",
      "Epoch 67/150\n",
      "39/39 - 2s - loss: 0.0387 - accuracy: 0.9919\n",
      "Epoch 68/150\n",
      "39/39 - 2s - loss: 0.0363 - accuracy: 0.9943\n",
      "Epoch 69/150\n",
      "39/39 - 2s - loss: 0.0367 - accuracy: 0.9935\n",
      "Epoch 70/150\n",
      "39/39 - 2s - loss: 0.0350 - accuracy: 0.9951\n",
      "Epoch 71/150\n",
      "39/39 - 2s - loss: 0.0376 - accuracy: 0.9895\n",
      "Epoch 72/150\n",
      "39/39 - 2s - loss: 0.0324 - accuracy: 0.9951\n",
      "Epoch 73/150\n",
      "39/39 - 2s - loss: 0.0532 - accuracy: 0.9838\n",
      "Epoch 74/150\n",
      "39/39 - 2s - loss: 0.0398 - accuracy: 0.9879\n",
      "Epoch 75/150\n",
      "39/39 - 2s - loss: 0.0303 - accuracy: 0.9943\n",
      "Epoch 76/150\n",
      "39/39 - 2s - loss: 0.0298 - accuracy: 0.9943\n",
      "Epoch 77/150\n",
      "39/39 - 2s - loss: 0.0261 - accuracy: 0.9968\n",
      "Epoch 78/150\n",
      "39/39 - 2s - loss: 0.0283 - accuracy: 0.9935\n",
      "Epoch 79/150\n",
      "39/39 - 2s - loss: 0.0248 - accuracy: 0.9976\n",
      "Epoch 80/150\n",
      "39/39 - 2s - loss: 0.0274 - accuracy: 0.9919\n",
      "Epoch 81/150\n",
      "39/39 - 2s - loss: 0.0427 - accuracy: 0.9846\n",
      "Epoch 82/150\n",
      "39/39 - 2s - loss: 0.0633 - accuracy: 0.9806\n",
      "Epoch 83/150\n",
      "39/39 - 2s - loss: 0.0300 - accuracy: 0.9960\n",
      "Epoch 84/150\n",
      "39/39 - 2s - loss: 0.0198 - accuracy: 0.9984\n",
      "Epoch 85/150\n",
      "39/39 - 2s - loss: 0.0259 - accuracy: 0.9943\n",
      "Epoch 86/150\n",
      "39/39 - 2s - loss: 0.0202 - accuracy: 0.9976\n",
      "Epoch 87/150\n",
      "39/39 - 2s - loss: 0.0284 - accuracy: 0.9927\n",
      "Epoch 88/150\n",
      "39/39 - 2s - loss: 0.0207 - accuracy: 0.9960\n",
      "Epoch 89/150\n",
      "39/39 - 2s - loss: 0.0190 - accuracy: 0.9976\n",
      "Epoch 90/150\n",
      "39/39 - 2s - loss: 0.0213 - accuracy: 0.9960\n",
      "Epoch 91/150\n",
      "39/39 - 2s - loss: 0.0210 - accuracy: 0.9951\n",
      "Epoch 92/150\n",
      "39/39 - 2s - loss: 0.0269 - accuracy: 0.9935\n",
      "Epoch 93/150\n",
      "39/39 - 2s - loss: 0.0167 - accuracy: 0.9968\n",
      "Epoch 94/150\n",
      "39/39 - 2s - loss: 0.0162 - accuracy: 0.9951\n",
      "Epoch 95/150\n",
      "39/39 - 2s - loss: 0.0133 - accuracy: 0.9992\n",
      "Epoch 96/150\n",
      "39/39 - 2s - loss: 0.0139 - accuracy: 0.9992\n",
      "Epoch 97/150\n",
      "39/39 - 2s - loss: 0.0133 - accuracy: 0.9984\n",
      "Epoch 98/150\n",
      "39/39 - 2s - loss: 0.0141 - accuracy: 0.9960\n",
      "Epoch 99/150\n",
      "39/39 - 2s - loss: 0.0170 - accuracy: 0.9968\n",
      "Epoch 100/150\n",
      "39/39 - 2s - loss: 0.0125 - accuracy: 0.9992\n",
      "Epoch 101/150\n",
      "39/39 - 2s - loss: 0.0114 - accuracy: 0.9984\n",
      "Epoch 102/150\n",
      "39/39 - 2s - loss: 0.0105 - accuracy: 0.9992\n",
      "Epoch 103/150\n",
      "39/39 - 2s - loss: 0.0101 - accuracy: 0.9992\n",
      "Epoch 104/150\n",
      "39/39 - 2s - loss: 0.0101 - accuracy: 1.0000\n",
      "Epoch 105/150\n",
      "39/39 - 2s - loss: 0.0141 - accuracy: 0.9984\n",
      "Epoch 106/150\n",
      "39/39 - 2s - loss: 0.0142 - accuracy: 0.9968\n",
      "Epoch 107/150\n",
      "39/39 - 2s - loss: 0.0129 - accuracy: 0.9960\n",
      "Epoch 108/150\n",
      "39/39 - 2s - loss: 0.0115 - accuracy: 0.9984\n",
      "Epoch 109/150\n",
      "39/39 - 2s - loss: 0.0132 - accuracy: 0.9976\n",
      "Epoch 110/150\n",
      "39/39 - 2s - loss: 0.0154 - accuracy: 0.9943\n",
      "Epoch 111/150\n",
      "39/39 - 2s - loss: 0.0244 - accuracy: 0.9911\n",
      "Epoch 112/150\n",
      "39/39 - 2s - loss: 0.0224 - accuracy: 0.9960\n",
      "Epoch 113/150\n",
      "39/39 - 2s - loss: 0.0291 - accuracy: 0.9911\n",
      "Epoch 114/150\n",
      "39/39 - 2s - loss: 0.0145 - accuracy: 0.9951\n",
      "Epoch 115/150\n",
      "39/39 - 2s - loss: 0.0103 - accuracy: 0.9992\n",
      "Epoch 116/150\n",
      "39/39 - 2s - loss: 0.0094 - accuracy: 0.9984\n",
      "Epoch 117/150\n",
      "39/39 - 2s - loss: 0.0081 - accuracy: 1.0000\n",
      "Epoch 118/150\n",
      "39/39 - 2s - loss: 0.0067 - accuracy: 1.0000\n",
      "Epoch 119/150\n",
      "39/39 - 2s - loss: 0.0063 - accuracy: 1.0000\n",
      "Epoch 120/150\n",
      "39/39 - 2s - loss: 0.0063 - accuracy: 1.0000\n",
      "Epoch 121/150\n",
      "39/39 - 2s - loss: 0.0060 - accuracy: 1.0000\n",
      "Epoch 122/150\n",
      "39/39 - 2s - loss: 0.0062 - accuracy: 1.0000\n",
      "Epoch 123/150\n",
      "39/39 - 2s - loss: 0.0057 - accuracy: 1.0000\n",
      "Epoch 124/150\n",
      "39/39 - 2s - loss: 0.0052 - accuracy: 1.0000\n",
      "Epoch 125/150\n",
      "39/39 - 2s - loss: 0.0054 - accuracy: 1.0000\n",
      "Epoch 126/150\n",
      "39/39 - 2s - loss: 0.0086 - accuracy: 0.9984\n",
      "Epoch 127/150\n",
      "39/39 - 2s - loss: 0.0097 - accuracy: 0.9984\n",
      "Epoch 128/150\n",
      "39/39 - 2s - loss: 0.0051 - accuracy: 1.0000\n",
      "Epoch 129/150\n",
      "39/39 - 2s - loss: 0.0046 - accuracy: 1.0000\n",
      "Epoch 130/150\n",
      "39/39 - 2s - loss: 0.0046 - accuracy: 1.0000\n",
      "Epoch 131/150\n",
      "39/39 - 2s - loss: 0.0047 - accuracy: 1.0000\n",
      "Epoch 132/150\n",
      "39/39 - 2s - loss: 0.0043 - accuracy: 1.0000\n",
      "Epoch 133/150\n",
      "39/39 - 2s - loss: 0.0045 - accuracy: 1.0000\n",
      "Epoch 134/150\n",
      "39/39 - 2s - loss: 0.0538 - accuracy: 0.9838\n",
      "Epoch 135/150\n",
      "39/39 - 2s - loss: 0.0866 - accuracy: 0.9539\n",
      "Epoch 136/150\n",
      "39/39 - 2s - loss: 0.0143 - accuracy: 0.9951\n",
      "Epoch 137/150\n",
      "39/39 - 2s - loss: 0.0167 - accuracy: 0.9927\n",
      "Epoch 138/150\n",
      "39/39 - 2s - loss: 0.0088 - accuracy: 0.9976\n",
      "Epoch 139/150\n",
      "39/39 - 2s - loss: 0.0090 - accuracy: 0.9984\n",
      "Epoch 140/150\n",
      "39/39 - 2s - loss: 0.0075 - accuracy: 0.9984\n",
      "Epoch 141/150\n",
      "39/39 - 2s - loss: 0.0055 - accuracy: 1.0000\n",
      "Epoch 142/150\n",
      "39/39 - 2s - loss: 0.0045 - accuracy: 1.0000\n",
      "Epoch 143/150\n",
      "39/39 - 2s - loss: 0.0049 - accuracy: 1.0000\n",
      "Epoch 144/150\n",
      "39/39 - 2s - loss: 0.0098 - accuracy: 0.9968\n",
      "Epoch 145/150\n",
      "39/39 - 2s - loss: 0.0046 - accuracy: 1.0000\n",
      "Epoch 146/150\n",
      "39/39 - 2s - loss: 0.0042 - accuracy: 1.0000\n",
      "Epoch 147/150\n",
      "39/39 - 2s - loss: 0.0038 - accuracy: 1.0000\n",
      "Epoch 148/150\n",
      "39/39 - 2s - loss: 0.0037 - accuracy: 1.0000\n",
      "Epoch 149/150\n",
      "39/39 - 2s - loss: 0.0038 - accuracy: 1.0000\n",
      "Epoch 150/150\n",
      "39/39 - 2s - loss: 0.0048 - accuracy: 0.9992\n",
      "10/10 - 1s\n",
      "Normalized confusion matrix\n",
      "                 precision    recall  f1-score   support\n",
      "\n",
      "air conditioner       1.00      1.00      1.00        34\n",
      "       computer       0.99      0.99      0.99        92\n",
      "         fridge       0.98      0.99      0.99       167\n",
      "     television       0.93      0.81      0.87        16\n",
      "\n",
      "       accuracy                           0.98       309\n",
      "      macro avg       0.97      0.95      0.96       309\n",
      "   weighted avg       0.98      0.98      0.98       309\n",
      "\n"
     ]
    },
    {
     "name": "stderr",
     "output_type": "stream",
     "text": [
      "2022-02-09 13:01:25.211713: W tensorflow/python/util/util.cc:348] Sets are not currently considered sequences, but this may change in the future, so consider avoiding using them.\n",
      "WARNING:absl:Found untraced functions such as lstm_cell_1_layer_call_and_return_conditional_losses, lstm_cell_1_layer_call_fn, lstm_cell_2_layer_call_and_return_conditional_losses, lstm_cell_2_layer_call_fn, lstm_cell_4_layer_call_and_return_conditional_losses while saving (showing 5 of 20). These functions will not be directly callable after loading.\n"
     ]
    },
    {
     "name": "stdout",
     "output_type": "stream",
     "text": [
      "INFO:tensorflow:Assets written to: /workspace/notebooks/models/BI_LSTM/iawe_42/assets\n"
     ]
    },
    {
     "name": "stderr",
     "output_type": "stream",
     "text": [
      "INFO:tensorflow:Assets written to: /workspace/notebooks/models/BI_LSTM/iawe_42/assets\n"
     ]
    },
    {
     "data": {
      "image/png": "[encoded data removed]",
      "text/plain": [
       "<Figure size 720x720 with 2 Axes>"
      ]
     },
     "metadata": {
      "needs_background": "light"
     },
     "output_type": "display_data"
    }
   ],
   "source": [
    "# %%capture cap --no-stderr\n",
    "\n",
    "\n",
    "if environ['train_type'] == \"BB\":\n",
    "\n",
    "    #define generator\n",
    "    train_gen = HDF5ImageGenerator(\n",
    "        src= path_data,\n",
    "        X_key=\"data/train/gaf\",\n",
    "        y_key=\"labels/train/gaf\",\n",
    "        classes_key=\"appliances/classes\",\n",
    "        labels_encoding=\"hot\",\n",
    "        shuffle=True,\n",
    "        batch_size=int(environ['batch_size']),\n",
    "        num_classes=num_of_classes,\n",
    "        mode=\"train\",\n",
    "        )\n",
    "    \n",
    "    model = select_model(environ['learn_type'])\n",
    "    \n",
    "    txt_log.write(\"fitting BB model: \\n\")\n",
    "    \n",
    "    model.fit(\n",
    "        train_gen,\n",
    "        verbose=2,\n",
    "        epochs=int(environ['epochs']),\n",
    "        class_weight=d_class_weights,\n",
    "        callbacks = [save_op_callback],\n",
    "    )\n",
    "    \n",
    "    txt_log.write(\"finished fitting BB model: \\n\")\n",
    "\n",
    "    evaluate_model(model,x_test,y_test,appliances)\n",
    "    \n",
    "    if environ['save_model']==\"True\":\n",
    "\n",
    "        path_model_save = path+\"/models/\"+environ['learn_type']+\"/\"+dataset.split(\"_\")[0]+\"_\"+dataset.split(\"_R\")[1][0:2]\n",
    "        model.save(path_model_save)\n",
    "        txt_log.write(\"model saved to:\"+\"/models/\"+environ['learn_type']+\"/\"+dataset.split(\"_\")[0]+\"_\"+dataset.split(\"_R\")[1][0:2]+\" \\n\")\n",
    "        \n",
    "        \n",
    "# with open(path_save+\"_out_log.txt\" as f:\n",
    "#     f.write(cap.stdout)\n"
   ]
  },
  {
   "cell_type": "code",
   "execution_count": 13,
   "metadata": {
    "collapsed": true,
    "execution": {
     "iopub.execute_input": "2022-02-09T13:01:35.534352Z",
     "iopub.status.busy": "2022-02-09T13:01:35.533181Z",
     "iopub.status.idle": "2022-02-09T13:01:35.536656Z",
     "shell.execute_reply": "2022-02-09T13:01:35.535670Z"
    }
   },
   "outputs": [],
   "source": [
    "#model = keras.models.load_model(path_model1)\n",
    "# model_used = model"
   ]
  },
  {
   "cell_type": "code",
   "execution_count": 14,
   "metadata": {
    "collapsed": true,
    "execution": {
     "iopub.execute_input": "2022-02-09T13:01:35.543600Z",
     "iopub.status.busy": "2022-02-09T13:01:35.542308Z",
     "iopub.status.idle": "2022-02-09T13:01:35.544738Z",
     "shell.execute_reply": "2022-02-09T13:01:35.545349Z"
    },
    "jupyter": {
     "outputs_hidden": true
    },
    "tags": []
   },
   "outputs": [],
   "source": [
    "# evaluate_model(model,x_test,y_test,appliances)"
   ]
  },
  {
   "cell_type": "code",
   "execution_count": 15,
   "metadata": {
    "collapsed": true,
    "execution": {
     "iopub.execute_input": "2022-02-09T13:01:35.567189Z",
     "iopub.status.busy": "2022-02-09T13:01:35.548892Z",
     "iopub.status.idle": "2022-02-09T13:01:35.568900Z",
     "shell.execute_reply": "2022-02-09T13:01:35.569452Z"
    }
   },
   "outputs": [],
   "source": [
    "# datasets =[\n",
    "#     \"ukdale_gen_GASF_13m_100S5X12A54480_R82_80-20\"\n",
    "# ]\n",
    "\n",
    "if environ['train_type'] == \"TL\": \n",
    "    models = environ['tl_datasets'].replace(\" \",\"\").split(\",\")\n",
    "    #model = [\"base\"]\n",
    "    \n",
    "    for model in models:\n",
    "    \n",
    "        file_name = dataset\n",
    "        \n",
    "        datasetTL = model\n",
    "        \n",
    "        seed = dataset.split(\"_R\")[1][0:2]\n",
    "        \n",
    "        print(\"using dataset data\",dataset.split(\"_\")[0],\"training on model\",model,\"seed\",environ['seed'])\n",
    "        txt_log.write(\"starting \"+dataset.split(\"_\")[0]+\" training on model \"+model+\" seed \"+environ['seed']+\"\\n\")\n",
    "\n",
    "\n",
    "        tf.keras.backend.clear_session()\n",
    "\n",
    "\n",
    "        #read the file\n",
    "        path = str(pathlib.Path().resolve())\n",
    "        path_data = f\"{path}\"\"/data/\"f\"{file_name}\"\"/\"f\"{file_name}\"\".hdf5\"\n",
    "        file = h5py.File(path_data,\"r+\")\n",
    "\n",
    "\n",
    "        print(\"reading data, printing stats: \")\n",
    "        x_test,y_test,d_class_weights,num_of_classes,appliances = get_data(file)\n",
    "        print(\"loading model\")\n",
    "        \n",
    "        model_seed = 42\n",
    "        model_used = create_tl_model(model,environ['learn_type'],model_seed,path,num_of_classes)\n",
    "                \n",
    "        train_gen = HDF5ImageGenerator(\n",
    "            src= path_data,\n",
    "            X_key=\"data/train/gaf\",\n",
    "            y_key=\"labels/train/gaf\",\n",
    "            classes_key=\"appliances/classes\",\n",
    "            labels_encoding=\"hot\",\n",
    "            shuffle=True,\n",
    "            batch_size=int(environ['batch_size']),\n",
    "            num_classes=num_of_classes,\n",
    "            mode=\"train\",\n",
    "            )\n",
    "\n",
    "        model_used.fit(\n",
    "            train_gen,\n",
    "            verbose=2,\n",
    "            epochs=int(environ['epochs']),\n",
    "            class_weight=d_class_weights,\n",
    "            callbacks = [save_op_callback]\n",
    "            #workers = 6,\n",
    "        )\n",
    "        \n",
    "        txt_log.write(\"finished \"+dataset.split(\"_\")[0]+\" training on model \"+model+\" seed \"+environ['seed']+\"\\n\")\n",
    "\n",
    "\n",
    "        evaluate_model(model_used,x_test,y_test,appliances)\n",
    "        \n",
    "\n",
    "\n",
    "\n",
    "        #del model_used\n",
    "\n"
   ]
  },
  {
   "cell_type": "code",
   "execution_count": 16,
   "metadata": {
    "execution": {
     "iopub.execute_input": "2022-02-09T13:01:35.575727Z",
     "iopub.status.busy": "2022-02-09T13:01:35.575032Z",
     "iopub.status.idle": "2022-02-09T13:01:35.578230Z",
     "shell.execute_reply": "2022-02-09T13:01:35.578792Z"
    }
   },
   "outputs": [],
   "source": [
    "txt_log.close()"
   ]
  },
  {
   "cell_type": "code",
   "execution_count": null,
   "metadata": {},
   "outputs": [],
   "source": []
  }
 ],
 "metadata": {
  "colab": {
   "authorship_tag": "ABX9TyMej4PvP65qsLng7TnQKWA4",
   "name": "LSTM-gen",
   "provenance": []
  },
  "kernelspec": {
   "display_name": "Python 3 (ipykernel)",
   "language": "python",
   "name": "python3"
  },
  "language_info": {
   "codemirror_mode": {
    "name": "ipython",
    "version": 3
   },
   "file_extension": ".py",
   "mimetype": "text/x-python",
   "name": "python",
   "nbconvert_exporter": "python",
   "pygments_lexer": "ipython3",
   "version": "3.8.10"
  }
 },
 "nbformat": 4,
 "nbformat_minor": 4
}
