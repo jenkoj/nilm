{
 "cells": [
  {
   "cell_type": "code",
   "execution_count": 1,
   "metadata": {
    "execution": {
     "iopub.execute_input": "2022-02-09T12:49:05.518519Z",
     "iopub.status.busy": "2022-02-09T12:49:05.503555Z",
     "iopub.status.idle": "2022-02-09T12:49:08.316494Z",
     "shell.execute_reply": "2022-02-09T12:49:08.315244Z"
    },
    "id": "WqUfHWgtJxtu",
    "scrolled": true,
    "tags": []
   },
   "outputs": [
    {
     "name": "stderr",
     "output_type": "stream",
     "text": [
      "2022-02-09 12:49:06.861746: I tensorflow/stream_executor/platform/default/dso_loader.cc:54] Successfully opened dynamic library libcudart.so.11.0\n"
     ]
    },
    {
     "name": "stdout",
     "output_type": "stream",
     "text": [
      "2.5.0\n",
      "Num GPUs Available:  1\n"
     ]
    },
    {
     "name": "stderr",
     "output_type": "stream",
     "text": [
      "2022-02-09 12:49:08.215852: I tensorflow/stream_executor/platform/default/dso_loader.cc:54] Successfully opened dynamic library libcuda.so.1\n",
      "2022-02-09 12:49:08.259395: I tensorflow/core/common_runtime/gpu/gpu_device.cc:1734] Found device 0 with properties: \n",
      "pciBusID: 0000:21:00.0 name: NVIDIA GeForce RTX 2080 Ti computeCapability: 7.5\n",
      "coreClock: 1.545GHz coreCount: 68 deviceMemorySize: 10.76GiB deviceMemoryBandwidth: 573.69GiB/s\n",
      "2022-02-09 12:49:08.259445: I tensorflow/stream_executor/platform/default/dso_loader.cc:54] Successfully opened dynamic library libcudart.so.11.0\n",
      "2022-02-09 12:49:08.273356: I tensorflow/stream_executor/platform/default/dso_loader.cc:54] Successfully opened dynamic library libcublas.so.11\n",
      "2022-02-09 12:49:08.273433: I tensorflow/stream_executor/platform/default/dso_loader.cc:54] Successfully opened dynamic library libcublasLt.so.11\n",
      "2022-02-09 12:49:08.281196: I tensorflow/stream_executor/platform/default/dso_loader.cc:54] Successfully opened dynamic library libcufft.so.10\n",
      "2022-02-09 12:49:08.283188: I tensorflow/stream_executor/platform/default/dso_loader.cc:54] Successfully opened dynamic library libcurand.so.10\n",
      "2022-02-09 12:49:08.299985: I tensorflow/stream_executor/platform/default/dso_loader.cc:54] Successfully opened dynamic library libcutensor.so.1\n",
      "2022-02-09 12:49:08.302106: I tensorflow/stream_executor/platform/default/dso_loader.cc:54] Successfully opened dynamic library libcusolver.so.11\n",
      "2022-02-09 12:49:08.306047: I tensorflow/stream_executor/platform/default/dso_loader.cc:54] Successfully opened dynamic library libcusparse.so.11\n",
      "2022-02-09 12:49:08.306549: I tensorflow/stream_executor/platform/default/dso_loader.cc:54] Successfully opened dynamic library libcudnn.so.8\n",
      "2022-02-09 12:49:08.306935: I tensorflow/core/common_runtime/gpu/gpu_device.cc:1872] Adding visible gpu devices: 0\n"
     ]
    }
   ],
   "source": [
    "import h5py\n",
    "import numpy as np\n",
    "\n",
    "from sklearn.model_selection import train_test_split\n",
    "from sklearn.metrics import classification_report, confusion_matrix\n",
    "import matplotlib.pyplot as plt\n",
    "import itertools \n",
    "import pyts\n",
    "from pyts.approximation import PiecewiseAggregateApproximation\n",
    "\n",
    "from sklearn.utils import class_weight\n",
    "\n",
    "import pathlib\n",
    "import tensorflow as tf\n",
    "from tensorflow import keras\n",
    "from tensorflow.keras import layers, optimizers\n",
    "from tensorflow.keras.layers import Convolution2D,Conv2D, Dense,Dropout, Flatten, Activation, MaxPooling2D, Input, Conv1D, GlobalAveragePooling1D, TimeDistributed, GRU, LSTM\n",
    "\n",
    "print(tf.__version__)\n",
    "print(\"Num GPUs Available: \", len(tf.config.list_physical_devices('GPU')))\n",
    "gpus = tf.config.experimental.list_physical_devices('GPU')\n",
    "\n",
    "try:\n",
    "    for gpu in gpus:\n",
    "        tf.config.experimental.set_memory_growth(gpu, True)\n",
    "except RuntimeError as e:\n",
    "    print(e)"
   ]
  },
  {
   "cell_type": "code",
   "execution_count": 2,
   "metadata": {
    "execution": {
     "iopub.execute_input": "2022-02-09T12:49:08.322670Z",
     "iopub.status.busy": "2022-02-09T12:49:08.321712Z",
     "iopub.status.idle": "2022-02-09T12:49:08.324931Z",
     "shell.execute_reply": "2022-02-09T12:49:08.325719Z"
    }
   },
   "outputs": [
    {
     "name": "stdout",
     "output_type": "stream",
     "text": [
      "iawe_gen_GASF_13m_100S5X4A1545_R12_80-20\n"
     ]
    }
   ],
   "source": [
    "from os import environ\n",
    "dataset = environ['dataset']\n",
    "print(dataset)"
   ]
  },
  {
   "cell_type": "code",
   "execution_count": 3,
   "metadata": {
    "execution": {
     "iopub.execute_input": "2022-02-09T12:49:08.332267Z",
     "iopub.status.busy": "2022-02-09T12:49:08.331212Z",
     "iopub.status.idle": "2022-02-09T12:49:08.336631Z",
     "shell.execute_reply": "2022-02-09T12:49:08.335748Z"
    }
   },
   "outputs": [],
   "source": [
    "#my defs \n",
    "from modules.models import  LSTM_3D_V56, CNN_V56,LSTM_BI_V56\n",
    "from modules.tools import my_print, plot_confusion_matrix_norm, get_data,get_data_split, evaluate_model, create_tl_model\n",
    "from modules.HDF5ImageGenerator import HDF5ImageGenerator"
   ]
  },
  {
   "cell_type": "code",
   "execution_count": 4,
   "metadata": {
    "execution": {
     "iopub.execute_input": "2022-02-09T12:49:08.343153Z",
     "iopub.status.busy": "2022-02-09T12:49:08.341941Z",
     "iopub.status.idle": "2022-02-09T12:49:08.344448Z",
     "shell.execute_reply": "2022-02-09T12:49:08.345415Z"
    },
    "id": "RT1vwq7-KOtB"
   },
   "outputs": [],
   "source": [
    "#LOAD DATASET\n",
    "#file_name = \"ukdale_gen_GASF_13m_100S5X12A54480\"\n",
    "#file_name = \"refit_gen_GASF_13m_100S5X_15A166006\"\n",
    "file_name = \"refit_gen_GASF_13m_100S5X_15A166006_R42-80-20\"\n",
    "#file_name = \"refit_gen_GASF_13m_100S5X_15A166006_R42_80-20\"\n",
    "file_name = \"refit_gen_GASF_60m_300S0X_15A157030N_R12_80-20-V1\"\n",
    "file_name = environ[\"dataset\"]\n",
    "#read the file\n",
    "path = str(pathlib.Path().resolve())\n",
    "\n",
    "path_data = f\"{path}\"\"/data/\"f\"{file_name}\"\"/\"f\"{file_name}\"\".hdf5\"\n",
    "\n",
    "file = h5py.File(path_data,\"r+\")"
   ]
  },
  {
   "cell_type": "code",
   "execution_count": 5,
   "metadata": {
    "execution": {
     "iopub.execute_input": "2022-02-09T12:49:08.351010Z",
     "iopub.status.busy": "2022-02-09T12:49:08.349843Z",
     "iopub.status.idle": "2022-02-09T12:49:08.427085Z",
     "shell.execute_reply": "2022-02-09T12:49:08.428009Z"
    },
    "scrolled": true
   },
   "outputs": [
    {
     "name": "stdout",
     "output_type": "stream",
     "text": [
      "['air conditioner', 'computer', 'fridge', 'television']\n",
      "{0: 2.2888888888888888, 1: 0.8442622950819673, 2: 0.46119402985074626, 3: 4.753846153846154}\n",
      " \n",
      "Tests \n",
      "air conditioner test: 34 train: 135\n",
      "computer test: 92 train: 366\n",
      "fridge test: 167 train: 670\n",
      "television test: 16 train: 65\n"
     ]
    }
   ],
   "source": [
    "x_test,y_test,d_class_weights,num_of_classes,appliances = get_data(file)"
   ]
  },
  {
   "cell_type": "code",
   "execution_count": 6,
   "metadata": {
    "execution": {
     "iopub.execute_input": "2022-02-09T12:49:08.442267Z",
     "iopub.status.busy": "2022-02-09T12:49:08.432298Z",
     "iopub.status.idle": "2022-02-09T12:49:08.445458Z",
     "shell.execute_reply": "2022-02-09T12:49:08.444601Z"
    }
   },
   "outputs": [],
   "source": [
    "def select_model(learn_type):\n",
    "    \n",
    "    if learn_type == \"CNN\":\n",
    "        model = CNN_V56(file[\"data/train/gaf\"][0:10],num_of_classes,lr= 0.00002)\n",
    "\n",
    "    if learn_type == \"LSTM\":\n",
    "        model = LSTM_3D_V56(file[\"data/train/gaf\"][0:10],num_of_classes,lr= 0.00002)\n",
    "\n",
    "    if learn_type == \"BI_LSTM\":\n",
    "        model = LSTM_BI_V56(file[\"data/train/gaf\"][0:10],num_of_classes,lr= 0.00002)\n",
    "\n",
    "    return model\n",
    "              "
   ]
  },
  {
   "cell_type": "code",
   "execution_count": 7,
   "metadata": {
    "execution": {
     "iopub.execute_input": "2022-02-09T12:49:08.455772Z",
     "iopub.status.busy": "2022-02-09T12:49:08.454600Z",
     "iopub.status.idle": "2022-02-09T12:49:08.457585Z",
     "shell.execute_reply": "2022-02-09T12:49:08.458547Z"
    }
   },
   "outputs": [],
   "source": [
    "path_save = path+'/experiment_automation/output/'+environ['learn_type']+'/'+dataset.split(\"_\")[0]+\"/\"+environ['train_type']+\"/\"+dataset.split(\"_\")[0]+\"_\"+environ['seed']+\"_\"+environ['tl_datasets']\n",
    "path_save_nb = path_save+\"_out.ipynb\"\n",
    "path_save_log = path_save+\"_out_log2.txt\""
   ]
  },
  {
   "cell_type": "code",
   "execution_count": 8,
   "metadata": {
    "execution": {
     "iopub.execute_input": "2022-02-09T12:49:08.470371Z",
     "iopub.status.busy": "2022-02-09T12:49:08.469065Z",
     "iopub.status.idle": "2022-02-09T12:49:08.575476Z",
     "shell.execute_reply": "2022-02-09T12:49:08.574355Z"
    }
   },
   "outputs": [],
   "source": [
    "from keras.callbacks import LambdaCallback\n",
    "#path_log= path+'/experiment_automation/output/'+environ['learn_type']+'/'+dataset.split(\"_\")[0]+\"/\"+environ['train_type']+\"/\"+dataset.split(\"_\")[0]+\"_\"+environ['seed']+\"_\"+environ['tl_datasets']+\"_log.txt\"\n",
    "txt_log = open(path_save+\"_log.txt\", mode='wt', buffering=1)\n",
    "txt_log.write(\"file created! \\n\")\n",
    "\n",
    "save_op_callback = LambdaCallback(\n",
    "  on_epoch_end = lambda epoch, logs: txt_log.write(\n",
    "    str({'epoch': epoch, 'loss': logs['loss'],'acc': logs['accuracy']}) + '\\n'),\n",
    "                                                           \n",
    ")"
   ]
  },
  {
   "cell_type": "code",
   "execution_count": 9,
   "metadata": {
    "execution": {
     "iopub.execute_input": "2022-02-09T12:49:08.582661Z",
     "iopub.status.busy": "2022-02-09T12:49:08.581415Z",
     "iopub.status.idle": "2022-02-09T12:49:08.585665Z",
     "shell.execute_reply": "2022-02-09T12:49:08.586705Z"
    }
   },
   "outputs": [
    {
     "name": "stdout",
     "output_type": "stream",
     "text": [
      "/workspace/notebooks/experiment_automation/output/BI_LSTM/iawe/BB/iawe_12__out.ipynb\n"
     ]
    }
   ],
   "source": [
    "print(path_save_nb)"
   ]
  },
  {
   "cell_type": "code",
   "execution_count": 10,
   "metadata": {
    "execution": {
     "iopub.execute_input": "2022-02-09T12:49:08.593503Z",
     "iopub.status.busy": "2022-02-09T12:49:08.592338Z",
     "iopub.status.idle": "2022-02-09T12:49:08.596153Z",
     "shell.execute_reply": "2022-02-09T12:49:08.595094Z"
    }
   },
   "outputs": [],
   "source": [
    "# rm $path_save_log"
   ]
  },
  {
   "cell_type": "code",
   "execution_count": 11,
   "metadata": {
    "execution": {
     "iopub.execute_input": "2022-02-09T12:49:08.603092Z",
     "iopub.status.busy": "2022-02-09T12:49:08.601824Z",
     "iopub.status.idle": "2022-02-09T12:49:08.604610Z",
     "shell.execute_reply": "2022-02-09T12:49:08.605673Z"
    }
   },
   "outputs": [],
   "source": [
    "# %%capture cap \n",
    "\n",
    "# with open(path_save_log,\"wt\") as f:\n",
    "#     f.write(cap.stdout)\n",
    "    \n",
    "# print(\"out capture..\")"
   ]
  },
  {
   "cell_type": "code",
   "execution_count": 12,
   "metadata": {
    "execution": {
     "iopub.execute_input": "2022-02-09T12:49:08.625857Z",
     "iopub.status.busy": "2022-02-09T12:49:08.624512Z",
     "iopub.status.idle": "2022-02-09T12:55:16.763871Z",
     "shell.execute_reply": "2022-02-09T12:55:16.764873Z"
    },
    "id": "vqA9NwOqKrb5",
    "jupyter": {
     "outputs_hidden": true
    },
    "tags": []
   },
   "outputs": [
    {
     "name": "stdout",
     "output_type": "stream",
     "text": [
      "Normal way\n",
      "[0 1 2 3 4 5 6 7 8 9]\n"
     ]
    },
    {
     "name": "stderr",
     "output_type": "stream",
     "text": [
      "2022-02-09 12:49:08.641581: I tensorflow/core/common_runtime/gpu/gpu_device.cc:1734] Found device 0 with properties: \n",
      "pciBusID: 0000:21:00.0 name: NVIDIA GeForce RTX 2080 Ti computeCapability: 7.5\n",
      "coreClock: 1.545GHz coreCount: 68 deviceMemorySize: 10.76GiB deviceMemoryBandwidth: 573.69GiB/s\n",
      "2022-02-09 12:49:08.642010: I tensorflow/core/common_runtime/gpu/gpu_device.cc:1872] Adding visible gpu devices: 0\n",
      "2022-02-09 12:49:08.642295: I tensorflow/stream_executor/platform/default/dso_loader.cc:54] Successfully opened dynamic library libcudart.so.11.0\n",
      "2022-02-09 12:49:09.487348: I tensorflow/core/common_runtime/gpu/gpu_device.cc:1258] Device interconnect StreamExecutor with strength 1 edge matrix:\n",
      "2022-02-09 12:49:09.487411: I tensorflow/core/common_runtime/gpu/gpu_device.cc:1264]      0 \n",
      "2022-02-09 12:49:09.487430: I tensorflow/core/common_runtime/gpu/gpu_device.cc:1277] 0:   N \n",
      "2022-02-09 12:49:09.488322: I tensorflow/core/common_runtime/gpu/gpu_device.cc:1418] Created TensorFlow device (/job:localhost/replica:0/task:0/device:GPU:0 with 9649 MB memory) -> physical GPU (device: 0, name: NVIDIA GeForce RTX 2080 Ti, pci bus id: 0000:21:00.0, compute capability: 7.5)\n",
      "2022-02-09 12:49:09.488659: I tensorflow/core/common_runtime/process_util.cc:146] Creating new thread pool with default inter op setting: 20. Tune using inter_op_parallelism_threads for best performance.\n"
     ]
    },
    {
     "name": "stdout",
     "output_type": "stream",
     "text": [
      "WARNING:tensorflow:From /usr/local/lib/python3.8/dist-packages/tensorflow/python/ops/array_ops.py:5043: calling gather (from tensorflow.python.ops.array_ops) with validate_indices is deprecated and will be removed in a future version.\n",
      "Instructions for updating:\n",
      "The `validate_indices` argument has no effect. Indices are always validated on CPU and never validated on GPU.\n",
      "Epoch 1/150\n"
     ]
    },
    {
     "name": "stderr",
     "output_type": "stream",
     "text": [
      "2022-02-09 12:49:10.264163: I tensorflow/compiler/mlir/mlir_graph_optimization_pass.cc:176] None of the MLIR Optimization Passes are enabled (registered 2)\n",
      "2022-02-09 12:49:10.284614: I tensorflow/core/platform/profile_utils/cpu_utils.cc:114] CPU Frequency: 3299990000 Hz\n",
      "2022-02-09 12:49:13.820781: I tensorflow/stream_executor/platform/default/dso_loader.cc:54] Successfully opened dynamic library libcudnn.so.8\n",
      "2022-02-09 12:49:14.532824: I tensorflow/stream_executor/cuda/cuda_dnn.cc:380] Loaded cuDNN version 8202\n",
      "2022-02-09 12:49:15.387265: I tensorflow/stream_executor/platform/default/dso_loader.cc:54] Successfully opened dynamic library libcublas.so.11\n",
      "2022-02-09 12:49:16.150567: I tensorflow/stream_executor/platform/default/dso_loader.cc:54] Successfully opened dynamic library libcublasLt.so.11\n"
     ]
    },
    {
     "name": "stdout",
     "output_type": "stream",
     "text": [
      "39/39 - 10s - loss: 1.3291 - accuracy: 0.4539\n",
      "Epoch 2/150\n",
      "39/39 - 2s - loss: 1.1920 - accuracy: 0.5259\n",
      "Epoch 3/150\n",
      "39/39 - 2s - loss: 1.1036 - accuracy: 0.5510\n",
      "Epoch 4/150\n",
      "39/39 - 2s - loss: 1.0527 - accuracy: 0.4434\n",
      "Epoch 5/150\n",
      "39/39 - 2s - loss: 1.0095 - accuracy: 0.3786\n",
      "Epoch 6/150\n",
      "39/39 - 2s - loss: 0.9532 - accuracy: 0.4798\n",
      "Epoch 7/150\n",
      "39/39 - 2s - loss: 0.8837 - accuracy: 0.4951\n",
      "Epoch 8/150\n",
      "39/39 - 2s - loss: 0.8209 - accuracy: 0.6513\n",
      "Epoch 9/150\n",
      "39/39 - 2s - loss: 0.7782 - accuracy: 0.6917\n",
      "Epoch 10/150\n",
      "39/39 - 2s - loss: 0.7204 - accuracy: 0.7832\n",
      "Epoch 11/150\n",
      "39/39 - 2s - loss: 0.6908 - accuracy: 0.7937\n",
      "Epoch 12/150\n",
      "39/39 - 2s - loss: 0.6528 - accuracy: 0.8447\n",
      "Epoch 13/150\n",
      "39/39 - 2s - loss: 0.6195 - accuracy: 0.8511\n",
      "Epoch 14/150\n",
      "39/39 - 2s - loss: 0.5820 - accuracy: 0.8762\n",
      "Epoch 15/150\n",
      "39/39 - 2s - loss: 0.5479 - accuracy: 0.8649\n",
      "Epoch 16/150\n",
      "39/39 - 2s - loss: 0.5121 - accuracy: 0.8827\n",
      "Epoch 17/150\n",
      "39/39 - 2s - loss: 0.4735 - accuracy: 0.9053\n",
      "Epoch 18/150\n",
      "39/39 - 2s - loss: 0.4635 - accuracy: 0.8940\n",
      "Epoch 19/150\n",
      "39/39 - 2s - loss: 0.4159 - accuracy: 0.9086\n",
      "Epoch 20/150\n",
      "39/39 - 2s - loss: 0.3819 - accuracy: 0.9134\n",
      "Epoch 21/150\n",
      "39/39 - 2s - loss: 0.3614 - accuracy: 0.9183\n",
      "Epoch 22/150\n",
      "39/39 - 2s - loss: 0.3439 - accuracy: 0.9150\n",
      "Epoch 23/150\n",
      "39/39 - 2s - loss: 0.3264 - accuracy: 0.9231\n",
      "Epoch 24/150\n",
      "39/39 - 2s - loss: 0.3068 - accuracy: 0.9304\n",
      "Epoch 25/150\n",
      "39/39 - 2s - loss: 0.3101 - accuracy: 0.9061\n",
      "Epoch 26/150\n",
      "39/39 - 2s - loss: 0.2815 - accuracy: 0.9248\n",
      "Epoch 27/150\n",
      "39/39 - 2s - loss: 0.2576 - accuracy: 0.9369\n",
      "Epoch 28/150\n",
      "39/39 - 2s - loss: 0.2375 - accuracy: 0.9401\n",
      "Epoch 29/150\n",
      "39/39 - 2s - loss: 0.2231 - accuracy: 0.9466\n",
      "Epoch 30/150\n",
      "39/39 - 2s - loss: 0.2133 - accuracy: 0.9426\n",
      "Epoch 31/150\n",
      "39/39 - 2s - loss: 0.1973 - accuracy: 0.9498\n",
      "Epoch 32/150\n",
      "39/39 - 2s - loss: 0.2034 - accuracy: 0.9466\n",
      "Epoch 33/150\n",
      "39/39 - 2s - loss: 0.2055 - accuracy: 0.9442\n",
      "Epoch 34/150\n",
      "39/39 - 2s - loss: 0.1861 - accuracy: 0.9490\n",
      "Epoch 35/150\n",
      "39/39 - 2s - loss: 0.1754 - accuracy: 0.9539\n",
      "Epoch 36/150\n",
      "39/39 - 2s - loss: 0.1651 - accuracy: 0.9539\n",
      "Epoch 37/150\n",
      "39/39 - 2s - loss: 0.1669 - accuracy: 0.9482\n",
      "Epoch 38/150\n",
      "39/39 - 2s - loss: 0.1472 - accuracy: 0.9587\n",
      "Epoch 39/150\n",
      "39/39 - 2s - loss: 0.1319 - accuracy: 0.9652\n",
      "Epoch 40/150\n",
      "39/39 - 2s - loss: 0.1478 - accuracy: 0.9579\n",
      "Epoch 41/150\n",
      "39/39 - 2s - loss: 0.1298 - accuracy: 0.9644\n",
      "Epoch 42/150\n",
      "39/39 - 2s - loss: 0.1287 - accuracy: 0.9693\n",
      "Epoch 43/150\n",
      "39/39 - 2s - loss: 0.1187 - accuracy: 0.9717\n",
      "Epoch 44/150\n",
      "39/39 - 2s - loss: 0.1121 - accuracy: 0.9701\n",
      "Epoch 45/150\n",
      "39/39 - 2s - loss: 0.1190 - accuracy: 0.9636\n",
      "Epoch 46/150\n",
      "39/39 - 2s - loss: 0.1038 - accuracy: 0.9717\n",
      "Epoch 47/150\n",
      "39/39 - 2s - loss: 0.0991 - accuracy: 0.9717\n",
      "Epoch 48/150\n",
      "39/39 - 2s - loss: 0.1160 - accuracy: 0.9668\n",
      "Epoch 49/150\n",
      "39/39 - 2s - loss: 0.0903 - accuracy: 0.9806\n",
      "Epoch 50/150\n",
      "39/39 - 2s - loss: 0.0896 - accuracy: 0.9782\n",
      "Epoch 51/150\n",
      "39/39 - 2s - loss: 0.0951 - accuracy: 0.9717\n",
      "Epoch 52/150\n",
      "39/39 - 2s - loss: 0.0911 - accuracy: 0.9757\n",
      "Epoch 53/150\n",
      "39/39 - 2s - loss: 0.0898 - accuracy: 0.9741\n",
      "Epoch 54/150\n",
      "39/39 - 2s - loss: 0.0813 - accuracy: 0.9773\n",
      "Epoch 55/150\n",
      "39/39 - 2s - loss: 0.0692 - accuracy: 0.9846\n",
      "Epoch 56/150\n",
      "39/39 - 2s - loss: 0.0723 - accuracy: 0.9830\n",
      "Epoch 57/150\n",
      "39/39 - 2s - loss: 0.0732 - accuracy: 0.9822\n",
      "Epoch 58/150\n",
      "39/39 - 2s - loss: 0.0729 - accuracy: 0.9806\n",
      "Epoch 59/150\n",
      "39/39 - 2s - loss: 0.0632 - accuracy: 0.9854\n",
      "Epoch 60/150\n",
      "39/39 - 2s - loss: 0.0651 - accuracy: 0.9790\n",
      "Epoch 61/150\n",
      "39/39 - 2s - loss: 0.0577 - accuracy: 0.9895\n",
      "Epoch 62/150\n",
      "39/39 - 2s - loss: 0.0629 - accuracy: 0.9846\n",
      "Epoch 63/150\n",
      "39/39 - 2s - loss: 0.0589 - accuracy: 0.9838\n",
      "Epoch 64/150\n",
      "39/39 - 2s - loss: 0.0582 - accuracy: 0.9854\n",
      "Epoch 65/150\n",
      "39/39 - 2s - loss: 0.0571 - accuracy: 0.9862\n",
      "Epoch 66/150\n",
      "39/39 - 2s - loss: 0.0540 - accuracy: 0.9911\n",
      "Epoch 67/150\n",
      "39/39 - 2s - loss: 0.0471 - accuracy: 0.9887\n",
      "Epoch 68/150\n",
      "39/39 - 2s - loss: 0.0544 - accuracy: 0.9871\n",
      "Epoch 69/150\n",
      "39/39 - 2s - loss: 0.0419 - accuracy: 0.9927\n",
      "Epoch 70/150\n",
      "39/39 - 2s - loss: 0.0682 - accuracy: 0.9749\n",
      "Epoch 71/150\n",
      "39/39 - 2s - loss: 0.0731 - accuracy: 0.9709\n",
      "Epoch 72/150\n",
      "39/39 - 2s - loss: 0.0534 - accuracy: 0.9862\n",
      "Epoch 73/150\n",
      "39/39 - 2s - loss: 0.0472 - accuracy: 0.9838\n",
      "Epoch 74/150\n",
      "39/39 - 2s - loss: 0.0386 - accuracy: 0.9919\n",
      "Epoch 75/150\n",
      "39/39 - 2s - loss: 0.0389 - accuracy: 0.9943\n",
      "Epoch 76/150\n",
      "39/39 - 2s - loss: 0.0414 - accuracy: 0.9903\n",
      "Epoch 77/150\n",
      "39/39 - 2s - loss: 0.0429 - accuracy: 0.9895\n",
      "Epoch 78/150\n",
      "39/39 - 2s - loss: 0.0459 - accuracy: 0.9862\n",
      "Epoch 79/150\n",
      "39/39 - 2s - loss: 0.0328 - accuracy: 0.9927\n",
      "Epoch 80/150\n",
      "39/39 - 2s - loss: 0.0300 - accuracy: 0.9943\n",
      "Epoch 81/150\n",
      "39/39 - 2s - loss: 0.0290 - accuracy: 0.9935\n",
      "Epoch 82/150\n",
      "39/39 - 2s - loss: 0.0392 - accuracy: 0.9887\n",
      "Epoch 83/150\n",
      "39/39 - 2s - loss: 0.0287 - accuracy: 0.9968\n",
      "Epoch 84/150\n",
      "39/39 - 2s - loss: 0.0334 - accuracy: 0.9943\n",
      "Epoch 85/150\n",
      "39/39 - 2s - loss: 0.0441 - accuracy: 0.9862\n",
      "Epoch 86/150\n",
      "39/39 - 2s - loss: 0.0355 - accuracy: 0.9919\n",
      "Epoch 87/150\n",
      "39/39 - 2s - loss: 0.0301 - accuracy: 0.9935\n",
      "Epoch 88/150\n",
      "39/39 - 2s - loss: 0.0258 - accuracy: 0.9960\n",
      "Epoch 89/150\n",
      "39/39 - 2s - loss: 0.0246 - accuracy: 0.9960\n",
      "Epoch 90/150\n",
      "39/39 - 2s - loss: 0.0309 - accuracy: 0.9895\n",
      "Epoch 91/150\n",
      "39/39 - 2s - loss: 0.0244 - accuracy: 0.9935\n",
      "Epoch 92/150\n",
      "39/39 - 2s - loss: 0.0270 - accuracy: 0.9935\n",
      "Epoch 93/150\n",
      "39/39 - 2s - loss: 0.0278 - accuracy: 0.9903\n",
      "Epoch 94/150\n",
      "39/39 - 2s - loss: 0.0211 - accuracy: 0.9951\n",
      "Epoch 95/150\n",
      "39/39 - 2s - loss: 0.0223 - accuracy: 0.9960\n",
      "Epoch 96/150\n",
      "39/39 - 2s - loss: 0.0194 - accuracy: 0.9960\n",
      "Epoch 97/150\n",
      "39/39 - 2s - loss: 0.0241 - accuracy: 0.9927\n",
      "Epoch 98/150\n",
      "39/39 - 2s - loss: 0.0233 - accuracy: 0.9960\n",
      "Epoch 99/150\n",
      "39/39 - 2s - loss: 0.0165 - accuracy: 0.9976\n",
      "Epoch 100/150\n",
      "39/39 - 2s - loss: 0.0203 - accuracy: 0.9960\n",
      "Epoch 101/150\n",
      "39/39 - 2s - loss: 0.0162 - accuracy: 0.9968\n",
      "Epoch 102/150\n",
      "39/39 - 2s - loss: 0.0171 - accuracy: 0.9968\n",
      "Epoch 103/150\n",
      "39/39 - 2s - loss: 0.0166 - accuracy: 0.9968\n",
      "Epoch 104/150\n",
      "39/39 - 2s - loss: 0.0214 - accuracy: 0.9943\n",
      "Epoch 105/150\n",
      "39/39 - 2s - loss: 0.0168 - accuracy: 0.9976\n",
      "Epoch 106/150\n",
      "39/39 - 2s - loss: 0.0182 - accuracy: 0.9935\n",
      "Epoch 107/150\n",
      "39/39 - 2s - loss: 0.0170 - accuracy: 0.9968\n",
      "Epoch 108/150\n",
      "39/39 - 2s - loss: 0.0126 - accuracy: 0.9992\n",
      "Epoch 109/150\n",
      "39/39 - 2s - loss: 0.0475 - accuracy: 0.9822\n",
      "Epoch 110/150\n",
      "39/39 - 2s - loss: 0.0242 - accuracy: 0.9911\n",
      "Epoch 111/150\n",
      "39/39 - 2s - loss: 0.0135 - accuracy: 0.9968\n",
      "Epoch 112/150\n",
      "39/39 - 2s - loss: 0.0234 - accuracy: 0.9927\n",
      "Epoch 113/150\n",
      "39/39 - 2s - loss: 0.0132 - accuracy: 0.9976\n",
      "Epoch 114/150\n",
      "39/39 - 2s - loss: 0.0128 - accuracy: 0.9984\n",
      "Epoch 115/150\n",
      "39/39 - 2s - loss: 0.0136 - accuracy: 0.9951\n",
      "Epoch 116/150\n",
      "39/39 - 2s - loss: 0.0112 - accuracy: 0.9992\n",
      "Epoch 117/150\n",
      "39/39 - 2s - loss: 0.0108 - accuracy: 0.9968\n",
      "Epoch 118/150\n",
      "39/39 - 2s - loss: 0.0119 - accuracy: 0.9976\n",
      "Epoch 119/150\n",
      "39/39 - 2s - loss: 0.0104 - accuracy: 0.9984\n",
      "Epoch 120/150\n",
      "39/39 - 2s - loss: 0.0099 - accuracy: 0.9992\n",
      "Epoch 121/150\n",
      "39/39 - 2s - loss: 0.0087 - accuracy: 1.0000\n",
      "Epoch 122/150\n",
      "39/39 - 2s - loss: 0.0077 - accuracy: 0.9992\n",
      "Epoch 123/150\n",
      "39/39 - 2s - loss: 0.0090 - accuracy: 0.9984\n",
      "Epoch 124/150\n",
      "39/39 - 2s - loss: 0.0092 - accuracy: 0.9984\n",
      "Epoch 125/150\n",
      "39/39 - 2s - loss: 0.0079 - accuracy: 1.0000\n",
      "Epoch 126/150\n",
      "39/39 - 2s - loss: 0.0091 - accuracy: 0.9976\n",
      "Epoch 127/150\n",
      "39/39 - 2s - loss: 0.0080 - accuracy: 0.9992\n",
      "Epoch 128/150\n",
      "39/39 - 2s - loss: 0.0129 - accuracy: 0.9951\n",
      "Epoch 129/150\n",
      "39/39 - 2s - loss: 0.1088 - accuracy: 0.9571\n",
      "Epoch 130/150\n",
      "39/39 - 2s - loss: 0.0243 - accuracy: 0.9911\n",
      "Epoch 131/150\n",
      "39/39 - 2s - loss: 0.0160 - accuracy: 0.9951\n",
      "Epoch 132/150\n",
      "39/39 - 2s - loss: 0.0123 - accuracy: 0.9960\n",
      "Epoch 133/150\n",
      "39/39 - 2s - loss: 0.0080 - accuracy: 0.9992\n",
      "Epoch 134/150\n",
      "39/39 - 2s - loss: 0.0077 - accuracy: 0.9992\n",
      "Epoch 135/150\n",
      "39/39 - 2s - loss: 0.0075 - accuracy: 1.0000\n",
      "Epoch 136/150\n",
      "39/39 - 2s - loss: 0.0077 - accuracy: 0.9984\n",
      "Epoch 137/150\n",
      "39/39 - 2s - loss: 0.0066 - accuracy: 1.0000\n",
      "Epoch 138/150\n",
      "39/39 - 2s - loss: 0.0084 - accuracy: 0.9992\n",
      "Epoch 139/150\n",
      "39/39 - 2s - loss: 0.0066 - accuracy: 0.9992\n",
      "Epoch 140/150\n",
      "39/39 - 2s - loss: 0.0061 - accuracy: 0.9992\n",
      "Epoch 141/150\n",
      "39/39 - 2s - loss: 0.0055 - accuracy: 1.0000\n",
      "Epoch 142/150\n",
      "39/39 - 2s - loss: 0.0053 - accuracy: 1.0000\n",
      "Epoch 143/150\n",
      "39/39 - 2s - loss: 0.0051 - accuracy: 1.0000\n",
      "Epoch 144/150\n",
      "39/39 - 2s - loss: 0.0051 - accuracy: 1.0000\n",
      "Epoch 145/150\n",
      "39/39 - 2s - loss: 0.0053 - accuracy: 1.0000\n",
      "Epoch 146/150\n",
      "39/39 - 2s - loss: 0.0046 - accuracy: 1.0000\n",
      "Epoch 147/150\n",
      "39/39 - 2s - loss: 0.0052 - accuracy: 1.0000\n",
      "Epoch 148/150\n",
      "39/39 - 2s - loss: 0.0050 - accuracy: 1.0000\n",
      "Epoch 149/150\n",
      "39/39 - 2s - loss: 0.0055 - accuracy: 1.0000\n",
      "Epoch 150/150\n",
      "39/39 - 2s - loss: 0.0042 - accuracy: 1.0000\n",
      "10/10 - 1s\n",
      "Normalized confusion matrix\n",
      "                 precision    recall  f1-score   support\n",
      "\n",
      "air conditioner       1.00      0.94      0.97        34\n",
      "       computer       0.98      1.00      0.99        92\n",
      "         fridge       0.99      0.99      0.99       167\n",
      "     television       0.93      0.88      0.90        16\n",
      "\n",
      "       accuracy                           0.98       309\n",
      "      macro avg       0.98      0.95      0.96       309\n",
      "   weighted avg       0.98      0.98      0.98       309\n",
      "\n"
     ]
    },
    {
     "name": "stderr",
     "output_type": "stream",
     "text": [
      "2022-02-09 12:55:06.277633: W tensorflow/python/util/util.cc:348] Sets are not currently considered sequences, but this may change in the future, so consider avoiding using them.\n",
      "WARNING:absl:Found untraced functions such as lstm_cell_1_layer_call_fn, lstm_cell_1_layer_call_and_return_conditional_losses, lstm_cell_2_layer_call_fn, lstm_cell_2_layer_call_and_return_conditional_losses, lstm_cell_4_layer_call_fn while saving (showing 5 of 20). These functions will not be directly callable after loading.\n"
     ]
    },
    {
     "name": "stdout",
     "output_type": "stream",
     "text": [
      "INFO:tensorflow:Assets written to: /workspace/notebooks/models/BI_LSTM/iawe_12/assets\n"
     ]
    },
    {
     "name": "stderr",
     "output_type": "stream",
     "text": [
      "INFO:tensorflow:Assets written to: /workspace/notebooks/models/BI_LSTM/iawe_12/assets\n"
     ]
    },
    {
     "data": {
      "image/png": "[encoded data removed]",
      "text/plain": [
       "<Figure size 720x720 with 2 Axes>"
      ]
     },
     "metadata": {
      "needs_background": "light"
     },
     "output_type": "display_data"
    }
   ],
   "source": [
    "# %%capture cap --no-stderr\n",
    "\n",
    "\n",
    "if environ['train_type'] == \"BB\":\n",
    "\n",
    "    #define generator\n",
    "    train_gen = HDF5ImageGenerator(\n",
    "        src= path_data,\n",
    "        X_key=\"data/train/gaf\",\n",
    "        y_key=\"labels/train/gaf\",\n",
    "        classes_key=\"appliances/classes\",\n",
    "        labels_encoding=\"hot\",\n",
    "        shuffle=True,\n",
    "        batch_size=int(environ['batch_size']),\n",
    "        num_classes=num_of_classes,\n",
    "        mode=\"train\",\n",
    "        )\n",
    "    \n",
    "    model = select_model(environ['learn_type'])\n",
    "    \n",
    "    txt_log.write(\"fitting BB model: \\n\")\n",
    "    \n",
    "    model.fit(\n",
    "        train_gen,\n",
    "        verbose=2,\n",
    "        epochs=int(environ['epochs']),\n",
    "        class_weight=d_class_weights,\n",
    "        callbacks = [save_op_callback],\n",
    "    )\n",
    "    \n",
    "    txt_log.write(\"finished fitting BB model: \\n\")\n",
    "\n",
    "    evaluate_model(model,x_test,y_test,appliances)\n",
    "    \n",
    "    if environ['save_model']==\"True\":\n",
    "\n",
    "        path_model_save = path+\"/models/\"+environ['learn_type']+\"/\"+dataset.split(\"_\")[0]+\"_\"+dataset.split(\"_R\")[1][0:2]\n",
    "        model.save(path_model_save)\n",
    "        txt_log.write(\"model saved to:\"+\"/models/\"+environ['learn_type']+\"/\"+dataset.split(\"_\")[0]+\"_\"+dataset.split(\"_R\")[1][0:2]+\" \\n\")\n",
    "        \n",
    "        \n",
    "# with open(path_save+\"_out_log.txt\" as f:\n",
    "#     f.write(cap.stdout)\n"
   ]
  },
  {
   "cell_type": "code",
   "execution_count": 13,
   "metadata": {
    "collapsed": true,
    "execution": {
     "iopub.execute_input": "2022-02-09T12:55:16.770630Z",
     "iopub.status.busy": "2022-02-09T12:55:16.769473Z",
     "iopub.status.idle": "2022-02-09T12:55:16.773327Z",
     "shell.execute_reply": "2022-02-09T12:55:16.774270Z"
    }
   },
   "outputs": [],
   "source": [
    "#model = keras.models.load_model(path_model1)\n",
    "# model_used = model"
   ]
  },
  {
   "cell_type": "code",
   "execution_count": 14,
   "metadata": {
    "collapsed": true,
    "execution": {
     "iopub.execute_input": "2022-02-09T12:55:16.779820Z",
     "iopub.status.busy": "2022-02-09T12:55:16.778699Z",
     "iopub.status.idle": "2022-02-09T12:55:16.783524Z",
     "shell.execute_reply": "2022-02-09T12:55:16.782603Z"
    },
    "jupyter": {
     "outputs_hidden": true
    },
    "tags": []
   },
   "outputs": [],
   "source": [
    "# evaluate_model(model,x_test,y_test,appliances)"
   ]
  },
  {
   "cell_type": "code",
   "execution_count": 15,
   "metadata": {
    "collapsed": true,
    "execution": {
     "iopub.execute_input": "2022-02-09T12:55:16.802316Z",
     "iopub.status.busy": "2022-02-09T12:55:16.792209Z",
     "iopub.status.idle": "2022-02-09T12:55:16.805204Z",
     "shell.execute_reply": "2022-02-09T12:55:16.804186Z"
    }
   },
   "outputs": [],
   "source": [
    "# datasets =[\n",
    "#     \"ukdale_gen_GASF_13m_100S5X12A54480_R82_80-20\"\n",
    "# ]\n",
    "\n",
    "if environ['train_type'] == \"TL\": \n",
    "    models = environ['tl_datasets'].replace(\" \",\"\").split(\",\")\n",
    "    #model = [\"base\"]\n",
    "    \n",
    "    for model in models:\n",
    "    \n",
    "        file_name = dataset\n",
    "        \n",
    "        datasetTL = model\n",
    "        \n",
    "        seed = dataset.split(\"_R\")[1][0:2]\n",
    "        \n",
    "        print(\"using dataset data\",dataset.split(\"_\")[0],\"training on model\",model,\"seed\",environ['seed'])\n",
    "        txt_log.write(\"starting \"+dataset.split(\"_\")[0]+\" training on model \"+model+\" seed \"+environ['seed']+\"\\n\")\n",
    "\n",
    "\n",
    "        tf.keras.backend.clear_session()\n",
    "\n",
    "\n",
    "        #read the file\n",
    "        path = str(pathlib.Path().resolve())\n",
    "        path_data = f\"{path}\"\"/data/\"f\"{file_name}\"\"/\"f\"{file_name}\"\".hdf5\"\n",
    "        file = h5py.File(path_data,\"r+\")\n",
    "\n",
    "\n",
    "        print(\"reading data, printing stats: \")\n",
    "        x_test,y_test,d_class_weights,num_of_classes,appliances = get_data(file)\n",
    "        print(\"loading model\")\n",
    "        \n",
    "        model_seed = 42\n",
    "        model_used = create_tl_model(model,environ['learn_type'],model_seed,path,num_of_classes)\n",
    "                \n",
    "        train_gen = HDF5ImageGenerator(\n",
    "            src= path_data,\n",
    "            X_key=\"data/train/gaf\",\n",
    "            y_key=\"labels/train/gaf\",\n",
    "            classes_key=\"appliances/classes\",\n",
    "            labels_encoding=\"hot\",\n",
    "            shuffle=True,\n",
    "            batch_size=int(environ['batch_size']),\n",
    "            num_classes=num_of_classes,\n",
    "            mode=\"train\",\n",
    "            )\n",
    "\n",
    "        model_used.fit(\n",
    "            train_gen,\n",
    "            verbose=2,\n",
    "            epochs=int(environ['epochs']),\n",
    "            class_weight=d_class_weights,\n",
    "            callbacks = [save_op_callback]\n",
    "            #workers = 6,\n",
    "        )\n",
    "        \n",
    "        txt_log.write(\"finished \"+dataset.split(\"_\")[0]+\" training on model \"+model+\" seed \"+environ['seed']+\"\\n\")\n",
    "\n",
    "\n",
    "        evaluate_model(model_used,x_test,y_test,appliances)\n",
    "        \n",
    "\n",
    "\n",
    "\n",
    "        #del model_used\n",
    "\n"
   ]
  },
  {
   "cell_type": "code",
   "execution_count": 16,
   "metadata": {
    "execution": {
     "iopub.execute_input": "2022-02-09T12:55:16.810960Z",
     "iopub.status.busy": "2022-02-09T12:55:16.809784Z",
     "iopub.status.idle": "2022-02-09T12:55:16.813736Z",
     "shell.execute_reply": "2022-02-09T12:55:16.812523Z"
    }
   },
   "outputs": [],
   "source": [
    "txt_log.close()"
   ]
  },
  {
   "cell_type": "code",
   "execution_count": null,
   "metadata": {},
   "outputs": [],
   "source": []
  }
 ],
 "metadata": {
  "colab": {
   "authorship_tag": "ABX9TyMej4PvP65qsLng7TnQKWA4",
   "name": "LSTM-gen",
   "provenance": []
  },
  "kernelspec": {
   "display_name": "Python 3 (ipykernel)",
   "language": "python",
   "name": "python3"
  },
  "language_info": {
   "codemirror_mode": {
    "name": "ipython",
    "version": 3
   },
   "file_extension": ".py",
   "mimetype": "text/x-python",
   "name": "python",
   "nbconvert_exporter": "python",
   "pygments_lexer": "ipython3",
   "version": "3.8.10"
  }
 },
 "nbformat": 4,
 "nbformat_minor": 4
}
