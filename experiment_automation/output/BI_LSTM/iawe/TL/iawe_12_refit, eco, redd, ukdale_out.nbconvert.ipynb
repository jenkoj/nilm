{
 "cells": [
  {
   "cell_type": "code",
   "execution_count": 1,
   "metadata": {
    "execution": {
     "iopub.execute_input": "2022-02-11T19:34:03.492285Z",
     "iopub.status.busy": "2022-02-11T19:34:03.490836Z",
     "iopub.status.idle": "2022-02-11T19:34:05.201956Z",
     "shell.execute_reply": "2022-02-11T19:34:05.202305Z"
    },
    "id": "WqUfHWgtJxtu",
    "scrolled": true,
    "tags": []
   },
   "outputs": [
    {
     "name": "stderr",
     "output_type": "stream",
     "text": [
      "2022-02-11 19:34:04.319616: I tensorflow/stream_executor/platform/default/dso_loader.cc:54] Successfully opened dynamic library libcudart.so.11.0\n"
     ]
    },
    {
     "name": "stdout",
     "output_type": "stream",
     "text": [
      "2.5.0\n",
      "Num GPUs Available:  1\n"
     ]
    },
    {
     "name": "stderr",
     "output_type": "stream",
     "text": [
      "2022-02-11 19:34:05.139120: I tensorflow/stream_executor/platform/default/dso_loader.cc:54] Successfully opened dynamic library libcuda.so.1\n",
      "2022-02-11 19:34:05.186665: I tensorflow/core/common_runtime/gpu/gpu_device.cc:1734] Found device 0 with properties: \n",
      "pciBusID: 0000:21:00.0 name: NVIDIA GeForce RTX 2080 Ti computeCapability: 7.5\n",
      "coreClock: 1.545GHz coreCount: 68 deviceMemorySize: 10.76GiB deviceMemoryBandwidth: 573.69GiB/s\n",
      "2022-02-11 19:34:05.186710: I tensorflow/stream_executor/platform/default/dso_loader.cc:54] Successfully opened dynamic library libcudart.so.11.0\n",
      "2022-02-11 19:34:05.190652: I tensorflow/stream_executor/platform/default/dso_loader.cc:54] Successfully opened dynamic library libcublas.so.11\n",
      "2022-02-11 19:34:05.190716: I tensorflow/stream_executor/platform/default/dso_loader.cc:54] Successfully opened dynamic library libcublasLt.so.11\n",
      "2022-02-11 19:34:05.192569: I tensorflow/stream_executor/platform/default/dso_loader.cc:54] Successfully opened dynamic library libcufft.so.10\n",
      "2022-02-11 19:34:05.192883: I tensorflow/stream_executor/platform/default/dso_loader.cc:54] Successfully opened dynamic library libcurand.so.10\n",
      "2022-02-11 19:34:05.193654: I tensorflow/stream_executor/platform/default/dso_loader.cc:54] Successfully opened dynamic library libcutensor.so.1\n",
      "2022-02-11 19:34:05.194209: I tensorflow/stream_executor/platform/default/dso_loader.cc:54] Successfully opened dynamic library libcusolver.so.11\n",
      "2022-02-11 19:34:05.195079: I tensorflow/stream_executor/platform/default/dso_loader.cc:54] Successfully opened dynamic library libcusparse.so.11\n",
      "2022-02-11 19:34:05.195253: I tensorflow/stream_executor/platform/default/dso_loader.cc:54] Successfully opened dynamic library libcudnn.so.8\n",
      "2022-02-11 19:34:05.195656: I tensorflow/core/common_runtime/gpu/gpu_device.cc:1872] Adding visible gpu devices: 0\n"
     ]
    }
   ],
   "source": [
    "import h5py\n",
    "import numpy as np\n",
    "\n",
    "from sklearn.model_selection import train_test_split\n",
    "from sklearn.metrics import classification_report, confusion_matrix\n",
    "import matplotlib.pyplot as plt\n",
    "import itertools \n",
    "import pyts\n",
    "from pyts.approximation import PiecewiseAggregateApproximation\n",
    "\n",
    "from sklearn.utils import class_weight\n",
    "\n",
    "import pathlib\n",
    "import tensorflow as tf\n",
    "from tensorflow import keras\n",
    "from tensorflow.keras import layers, optimizers\n",
    "from tensorflow.keras.layers import Convolution2D,Conv2D, Dense,Dropout, Flatten, Activation, MaxPooling2D, Input, Conv1D, GlobalAveragePooling1D, TimeDistributed, GRU, LSTM\n",
    "\n",
    "print(tf.__version__)\n",
    "print(\"Num GPUs Available: \", len(tf.config.list_physical_devices('GPU')))\n",
    "gpus = tf.config.experimental.list_physical_devices('GPU')\n",
    "\n",
    "try:\n",
    "    for gpu in gpus:\n",
    "        tf.config.experimental.set_memory_growth(gpu, True)\n",
    "except RuntimeError as e:\n",
    "    print(e)"
   ]
  },
  {
   "cell_type": "code",
   "execution_count": 2,
   "metadata": {
    "execution": {
     "iopub.execute_input": "2022-02-11T19:34:05.209197Z",
     "iopub.status.busy": "2022-02-11T19:34:05.208667Z",
     "iopub.status.idle": "2022-02-11T19:34:05.212366Z",
     "shell.execute_reply": "2022-02-11T19:34:05.212791Z"
    }
   },
   "outputs": [
    {
     "name": "stdout",
     "output_type": "stream",
     "text": [
      "iawe_gen_GASF_13m_100S5X4A1545_R12_80-20\n"
     ]
    }
   ],
   "source": [
    "from os import environ\n",
    "dataset = environ['dataset']\n",
    "print(dataset)"
   ]
  },
  {
   "cell_type": "code",
   "execution_count": 3,
   "metadata": {
    "execution": {
     "iopub.execute_input": "2022-02-11T19:34:05.220088Z",
     "iopub.status.busy": "2022-02-11T19:34:05.219364Z",
     "iopub.status.idle": "2022-02-11T19:34:05.225731Z",
     "shell.execute_reply": "2022-02-11T19:34:05.226501Z"
    }
   },
   "outputs": [],
   "source": [
    "#my defs \n",
    "from modules.models import  LSTM_3D_V56, CNN_V56,LSTM_BI_V56\n",
    "from modules.tools import my_print, plot_confusion_matrix_norm, get_data,get_data_split, evaluate_model, create_tl_model\n",
    "from modules.HDF5ImageGenerator import HDF5ImageGenerator"
   ]
  },
  {
   "cell_type": "code",
   "execution_count": 4,
   "metadata": {
    "execution": {
     "iopub.execute_input": "2022-02-11T19:34:05.236947Z",
     "iopub.status.busy": "2022-02-11T19:34:05.235694Z",
     "iopub.status.idle": "2022-02-11T19:34:05.238814Z",
     "shell.execute_reply": "2022-02-11T19:34:05.239788Z"
    },
    "id": "RT1vwq7-KOtB"
   },
   "outputs": [],
   "source": [
    "#LOAD DATASET\n",
    "#file_name = \"ukdale_gen_GASF_13m_100S5X12A54480\"\n",
    "#file_name = \"refit_gen_GASF_13m_100S5X_15A166006\"\n",
    "file_name = \"refit_gen_GASF_13m_100S5X_15A166006_R42-80-20\"\n",
    "#file_name = \"refit_gen_GASF_13m_100S5X_15A166006_R42_80-20\"\n",
    "file_name = \"refit_gen_GASF_60m_300S0X_15A157030N_R12_80-20-V1\"\n",
    "file_name = environ[\"dataset\"]\n",
    "#read the file\n",
    "path = str(pathlib.Path().resolve())\n",
    "\n",
    "path_data = f\"{path}\"\"/data/\"f\"{file_name}\"\"/\"f\"{file_name}\"\".hdf5\"\n",
    "\n",
    "file = h5py.File(path_data,\"r+\")"
   ]
  },
  {
   "cell_type": "code",
   "execution_count": 5,
   "metadata": {
    "execution": {
     "iopub.execute_input": "2022-02-11T19:34:05.247482Z",
     "iopub.status.busy": "2022-02-11T19:34:05.246266Z",
     "iopub.status.idle": "2022-02-11T19:34:05.320687Z",
     "shell.execute_reply": "2022-02-11T19:34:05.321004Z"
    },
    "scrolled": true
   },
   "outputs": [
    {
     "name": "stdout",
     "output_type": "stream",
     "text": [
      "['air conditioner', 'computer', 'fridge', 'television']\n",
      "{0: 2.2888888888888888, 1: 0.8442622950819673, 2: 0.46119402985074626, 3: 4.753846153846154}\n",
      " \n",
      "Tests \n",
      "air conditioner test: 34 train: 135\n",
      "computer test: 92 train: 366\n",
      "fridge test: 167 train: 670\n",
      "television test: 16 train: 65\n"
     ]
    }
   ],
   "source": [
    "x_test,y_test,d_class_weights,num_of_classes,appliances = get_data(file)"
   ]
  },
  {
   "cell_type": "code",
   "execution_count": 6,
   "metadata": {
    "execution": {
     "iopub.execute_input": "2022-02-11T19:34:05.329837Z",
     "iopub.status.busy": "2022-02-11T19:34:05.329328Z",
     "iopub.status.idle": "2022-02-11T19:34:05.332283Z",
     "shell.execute_reply": "2022-02-11T19:34:05.332664Z"
    }
   },
   "outputs": [],
   "source": [
    "def select_model(learn_type):\n",
    "    \n",
    "    if learn_type == \"CNN\":\n",
    "        model = CNN_V56(file[\"data/train/gaf\"][0:10],num_of_classes,lr= 0.00002)\n",
    "\n",
    "    if learn_type == \"LSTM\":\n",
    "        model = LSTM_3D_V56(file[\"data/train/gaf\"][0:10],num_of_classes,lr= 0.00002)\n",
    "\n",
    "    if learn_type == \"BI_LSTM\":\n",
    "        model = LSTM_BI_V56(file[\"data/train/gaf\"][0:10],num_of_classes,lr= 0.00002)\n",
    "\n",
    "    return model\n",
    "              "
   ]
  },
  {
   "cell_type": "code",
   "execution_count": 7,
   "metadata": {
    "execution": {
     "iopub.execute_input": "2022-02-11T19:34:05.342027Z",
     "iopub.status.busy": "2022-02-11T19:34:05.341357Z",
     "iopub.status.idle": "2022-02-11T19:34:05.344282Z",
     "shell.execute_reply": "2022-02-11T19:34:05.344803Z"
    }
   },
   "outputs": [],
   "source": [
    "path_save = path+'/experiment_automation/output/'+environ['learn_type']+'/'+dataset.split(\"_\")[0]+\"/\"+environ['train_type']+\"/\"+dataset.split(\"_\")[0]+\"_\"+environ['seed']+\"_\"+environ['tl_datasets']\n",
    "path_save_nb = path_save+\"_out.ipynb\"\n",
    "path_save_log = path_save+\"_out_log2.txt\""
   ]
  },
  {
   "cell_type": "code",
   "execution_count": 8,
   "metadata": {
    "execution": {
     "iopub.execute_input": "2022-02-11T19:34:05.353804Z",
     "iopub.status.busy": "2022-02-11T19:34:05.352898Z",
     "iopub.status.idle": "2022-02-11T19:34:05.461633Z",
     "shell.execute_reply": "2022-02-11T19:34:05.462018Z"
    }
   },
   "outputs": [],
   "source": [
    "from keras.callbacks import LambdaCallback\n",
    "#path_log= path+'/experiment_automation/output/'+environ['learn_type']+'/'+dataset.split(\"_\")[0]+\"/\"+environ['train_type']+\"/\"+dataset.split(\"_\")[0]+\"_\"+environ['seed']+\"_\"+environ['tl_datasets']+\"_log.txt\"\n",
    "txt_log = open(path_save+\"_log.txt\", mode='wt', buffering=1)\n",
    "txt_log.write(\"file created! \\n\")\n",
    "\n",
    "save_op_callback = LambdaCallback(\n",
    "  on_epoch_end = lambda epoch, logs: txt_log.write(\n",
    "    str({'epoch': epoch, 'loss': logs['loss'],'acc': logs['accuracy']}) + '\\n'),\n",
    "                                                           \n",
    ")"
   ]
  },
  {
   "cell_type": "code",
   "execution_count": 9,
   "metadata": {
    "execution": {
     "iopub.execute_input": "2022-02-11T19:34:05.465709Z",
     "iopub.status.busy": "2022-02-11T19:34:05.465290Z",
     "iopub.status.idle": "2022-02-11T19:34:05.469076Z",
     "shell.execute_reply": "2022-02-11T19:34:05.469408Z"
    }
   },
   "outputs": [
    {
     "name": "stdout",
     "output_type": "stream",
     "text": [
      "/workspace/notebooks/experiment_automation/output/BI_LSTM/iawe/TL/iawe_12_refit, eco, redd, ukdale_out.ipynb\n"
     ]
    }
   ],
   "source": [
    "print(path_save_nb)"
   ]
  },
  {
   "cell_type": "code",
   "execution_count": 10,
   "metadata": {
    "execution": {
     "iopub.execute_input": "2022-02-11T19:34:05.474456Z",
     "iopub.status.busy": "2022-02-11T19:34:05.474056Z",
     "iopub.status.idle": "2022-02-11T19:34:05.477150Z",
     "shell.execute_reply": "2022-02-11T19:34:05.476773Z"
    }
   },
   "outputs": [],
   "source": [
    "# rm $path_save_log"
   ]
  },
  {
   "cell_type": "code",
   "execution_count": 11,
   "metadata": {
    "execution": {
     "iopub.execute_input": "2022-02-11T19:34:05.482412Z",
     "iopub.status.busy": "2022-02-11T19:34:05.481886Z",
     "iopub.status.idle": "2022-02-11T19:34:05.484731Z",
     "shell.execute_reply": "2022-02-11T19:34:05.485146Z"
    }
   },
   "outputs": [],
   "source": [
    "# %%capture cap \n",
    "\n",
    "# with open(path_save_log,\"wt\") as f:\n",
    "#     f.write(cap.stdout)\n",
    "    \n",
    "# print(\"out capture..\")"
   ]
  },
  {
   "cell_type": "code",
   "execution_count": 12,
   "metadata": {
    "execution": {
     "iopub.execute_input": "2022-02-11T19:34:05.503418Z",
     "iopub.status.busy": "2022-02-11T19:34:05.502681Z",
     "iopub.status.idle": "2022-02-11T19:34:05.505607Z",
     "shell.execute_reply": "2022-02-11T19:34:05.504999Z"
    },
    "id": "vqA9NwOqKrb5",
    "jupyter": {
     "outputs_hidden": true
    },
    "tags": []
   },
   "outputs": [],
   "source": [
    "# %%capture cap --no-stderr\n",
    "\n",
    "\n",
    "if environ['train_type'] == \"BB\":\n",
    "\n",
    "    #define generator\n",
    "    train_gen = HDF5ImageGenerator(\n",
    "        src= path_data,\n",
    "        X_key=\"data/train/gaf\",\n",
    "        y_key=\"labels/train/gaf\",\n",
    "        classes_key=\"appliances/classes\",\n",
    "        labels_encoding=\"hot\",\n",
    "        shuffle=True,\n",
    "        batch_size=int(environ['batch_size']),\n",
    "        num_classes=num_of_classes,\n",
    "        mode=\"train\",\n",
    "        )\n",
    "    \n",
    "    model = select_model(environ['learn_type'])\n",
    "    \n",
    "    txt_log.write(\"fitting BB model: \\n\")\n",
    "    \n",
    "    model.fit(\n",
    "        train_gen,\n",
    "        verbose=2,\n",
    "        epochs=int(environ['epochs']),\n",
    "        class_weight=d_class_weights,\n",
    "        callbacks = [save_op_callback],\n",
    "    )\n",
    "    \n",
    "    txt_log.write(\"finished fitting BB model: \\n\")\n",
    "\n",
    "    evaluate_model(model,x_test,y_test,appliances)\n",
    "    \n",
    "    if environ['save_model']==\"True\":\n",
    "\n",
    "        path_model_save = path+\"/models/\"+environ['learn_type']+\"/\"+dataset.split(\"_\")[0]+\"_\"+dataset.split(\"_R\")[1][0:2]\n",
    "        model.save(path_model_save)\n",
    "        txt_log.write(\"model saved to:\"+\"/models/\"+environ['learn_type']+\"/\"+dataset.split(\"_\")[0]+\"_\"+dataset.split(\"_R\")[1][0:2]+\" \\n\")\n",
    "        \n",
    "        \n",
    "# with open(path_save+\"_out_log.txt\" as f:\n",
    "#     f.write(cap.stdout)\n"
   ]
  },
  {
   "cell_type": "code",
   "execution_count": 13,
   "metadata": {
    "collapsed": true,
    "execution": {
     "iopub.execute_input": "2022-02-11T19:34:05.511313Z",
     "iopub.status.busy": "2022-02-11T19:34:05.510353Z",
     "iopub.status.idle": "2022-02-11T19:34:05.513761Z",
     "shell.execute_reply": "2022-02-11T19:34:05.512930Z"
    }
   },
   "outputs": [],
   "source": [
    "#model = keras.models.load_model(path_model1)\n",
    "# model_used = model"
   ]
  },
  {
   "cell_type": "code",
   "execution_count": 14,
   "metadata": {
    "collapsed": true,
    "execution": {
     "iopub.execute_input": "2022-02-11T19:34:05.520371Z",
     "iopub.status.busy": "2022-02-11T19:34:05.519170Z",
     "iopub.status.idle": "2022-02-11T19:34:05.521642Z",
     "shell.execute_reply": "2022-02-11T19:34:05.522620Z"
    },
    "jupyter": {
     "outputs_hidden": true
    },
    "tags": []
   },
   "outputs": [],
   "source": [
    "# evaluate_model(model,x_test,y_test,appliances)"
   ]
  },
  {
   "cell_type": "code",
   "execution_count": 15,
   "metadata": {
    "collapsed": true,
    "execution": {
     "iopub.execute_input": "2022-02-11T19:34:05.548481Z",
     "iopub.status.busy": "2022-02-11T19:34:05.532363Z",
     "iopub.status.idle": "2022-02-11T19:38:27.462220Z",
     "shell.execute_reply": "2022-02-11T19:38:27.463198Z"
    }
   },
   "outputs": [
    {
     "name": "stdout",
     "output_type": "stream",
     "text": [
      "using dataset data iawe training on model refit seed 12\n",
      "reading data, printing stats: \n",
      "['air conditioner', 'computer', 'fridge', 'television']\n",
      "{0: 2.2888888888888888, 1: 0.8442622950819673, 2: 0.46119402985074626, 3: 4.753846153846154}\n",
      " \n",
      "Tests \n",
      "air conditioner test: 34 train: 135\n",
      "computer test: 92 train: 366\n",
      "fridge test: 167 train: 670\n",
      "television test: 16 train: 65\n",
      "loading model\n",
      "compling TL model..\n"
     ]
    },
    {
     "name": "stderr",
     "output_type": "stream",
     "text": [
      "2022-02-11 19:34:05.769700: I tensorflow/core/common_runtime/gpu/gpu_device.cc:1734] Found device 0 with properties: \n",
      "pciBusID: 0000:21:00.0 name: NVIDIA GeForce RTX 2080 Ti computeCapability: 7.5\n",
      "coreClock: 1.545GHz coreCount: 68 deviceMemorySize: 10.76GiB deviceMemoryBandwidth: 573.69GiB/s\n",
      "2022-02-11 19:34:05.770431: I tensorflow/core/common_runtime/gpu/gpu_device.cc:1872] Adding visible gpu devices: 0\n",
      "2022-02-11 19:34:05.770508: I tensorflow/stream_executor/platform/default/dso_loader.cc:54] Successfully opened dynamic library libcudart.so.11.0\n",
      "2022-02-11 19:34:06.140623: I tensorflow/core/common_runtime/gpu/gpu_device.cc:1258] Device interconnect StreamExecutor with strength 1 edge matrix:\n",
      "2022-02-11 19:34:06.140661: I tensorflow/core/common_runtime/gpu/gpu_device.cc:1264]      0 \n",
      "2022-02-11 19:34:06.140668: I tensorflow/core/common_runtime/gpu/gpu_device.cc:1277] 0:   N \n",
      "2022-02-11 19:34:06.141252: I tensorflow/core/common_runtime/gpu/gpu_device.cc:1418] Created TensorFlow device (/job:localhost/replica:0/task:0/device:GPU:0 with 9649 MB memory) -> physical GPU (device: 0, name: NVIDIA GeForce RTX 2080 Ti, pci bus id: 0000:21:00.0, compute capability: 7.5)\n",
      "2022-02-11 19:34:06.141582: I tensorflow/core/common_runtime/process_util.cc:146] Creating new thread pool with default inter op setting: 20. Tune using inter_op_parallelism_threads for best performance.\n"
     ]
    },
    {
     "name": "stdout",
     "output_type": "stream",
     "text": [
      "Normal way\n",
      "[0 1 2 3 4 5 6 7 8 9]\n",
      "WARNING:tensorflow:From /usr/local/lib/python3.8/dist-packages/tensorflow/python/ops/array_ops.py:5043: calling gather (from tensorflow.python.ops.array_ops) with validate_indices is deprecated and will be removed in a future version.\n",
      "Instructions for updating:\n",
      "The `validate_indices` argument has no effect. Indices are always validated on CPU and never validated on GPU.\n"
     ]
    },
    {
     "name": "stderr",
     "output_type": "stream",
     "text": [
      "/usr/local/lib/python3.8/dist-packages/tensorflow/python/keras/optimizer_v2/optimizer_v2.py:374: UserWarning: The `lr` argument is deprecated, use `learning_rate` instead.\n",
      "  warnings.warn(\n",
      "2022-02-11 19:34:13.847594: I tensorflow/compiler/mlir/mlir_graph_optimization_pass.cc:176] None of the MLIR Optimization Passes are enabled (registered 2)\n",
      "2022-02-11 19:34:13.868465: I tensorflow/core/platform/profile_utils/cpu_utils.cc:114] CPU Frequency: 3299990000 Hz\n"
     ]
    },
    {
     "name": "stdout",
     "output_type": "stream",
     "text": [
      "Epoch 1/50\n"
     ]
    },
    {
     "name": "stderr",
     "output_type": "stream",
     "text": [
      "2022-02-11 19:34:17.293863: I tensorflow/stream_executor/platform/default/dso_loader.cc:54] Successfully opened dynamic library libcudnn.so.8\n",
      "2022-02-11 19:34:17.767650: I tensorflow/stream_executor/cuda/cuda_dnn.cc:380] Loaded cuDNN version 8202\n",
      "2022-02-11 19:34:18.261171: I tensorflow/stream_executor/platform/default/dso_loader.cc:54] Successfully opened dynamic library libcublas.so.11\n",
      "2022-02-11 19:34:18.675237: I tensorflow/stream_executor/platform/default/dso_loader.cc:54] Successfully opened dynamic library libcublasLt.so.11\n"
     ]
    },
    {
     "name": "stdout",
     "output_type": "stream",
     "text": [
      "39/39 - 6s - loss: 0.7626 - accuracy: 0.7775\n",
      "Epoch 2/50\n",
      "39/39 - 1s - loss: 0.2225 - accuracy: 0.9183\n",
      "Epoch 3/50\n",
      "39/39 - 1s - loss: 0.1635 - accuracy: 0.9312\n",
      "Epoch 4/50\n",
      "39/39 - 1s - loss: 0.1652 - accuracy: 0.9231\n",
      "Epoch 5/50\n",
      "39/39 - 1s - loss: 0.1357 - accuracy: 0.9409\n",
      "Epoch 6/50\n",
      "39/39 - 1s - loss: 0.1145 - accuracy: 0.9490\n",
      "Epoch 7/50\n",
      "39/39 - 1s - loss: 0.1146 - accuracy: 0.9401\n",
      "Epoch 8/50\n",
      "39/39 - 1s - loss: 0.1037 - accuracy: 0.9474\n",
      "Epoch 9/50\n",
      "39/39 - 1s - loss: 0.1208 - accuracy: 0.9442\n",
      "Epoch 10/50\n",
      "39/39 - 1s - loss: 0.1288 - accuracy: 0.9353\n",
      "Epoch 11/50\n",
      "39/39 - 1s - loss: 0.1066 - accuracy: 0.9466\n",
      "Epoch 12/50\n",
      "39/39 - 1s - loss: 0.1147 - accuracy: 0.9515\n",
      "Epoch 13/50\n",
      "39/39 - 1s - loss: 0.0871 - accuracy: 0.9555\n",
      "Epoch 14/50\n",
      "39/39 - 1s - loss: 0.1031 - accuracy: 0.9531\n",
      "Epoch 15/50\n",
      "39/39 - 1s - loss: 0.0843 - accuracy: 0.9579\n",
      "Epoch 16/50\n",
      "39/39 - 1s - loss: 0.0861 - accuracy: 0.9595\n",
      "Epoch 17/50\n",
      "39/39 - 1s - loss: 0.0833 - accuracy: 0.9498\n",
      "Epoch 18/50\n",
      "39/39 - 1s - loss: 0.1076 - accuracy: 0.9523\n",
      "Epoch 19/50\n",
      "39/39 - 1s - loss: 0.0854 - accuracy: 0.9587\n",
      "Epoch 20/50\n",
      "39/39 - 1s - loss: 0.0709 - accuracy: 0.9636\n",
      "Epoch 21/50\n",
      "39/39 - 1s - loss: 0.0793 - accuracy: 0.9531\n",
      "Epoch 22/50\n",
      "39/39 - 1s - loss: 0.0771 - accuracy: 0.9587\n",
      "Epoch 23/50\n",
      "39/39 - 1s - loss: 0.0717 - accuracy: 0.9628\n",
      "Epoch 24/50\n",
      "39/39 - 1s - loss: 0.0869 - accuracy: 0.9555\n",
      "Epoch 25/50\n",
      "39/39 - 1s - loss: 0.0871 - accuracy: 0.9612\n",
      "Epoch 26/50\n",
      "39/39 - 1s - loss: 0.1030 - accuracy: 0.9450\n",
      "Epoch 27/50\n",
      "39/39 - 1s - loss: 0.0688 - accuracy: 0.9595\n",
      "Epoch 28/50\n",
      "39/39 - 1s - loss: 0.0764 - accuracy: 0.9684\n",
      "Epoch 29/50\n",
      "39/39 - 1s - loss: 0.0639 - accuracy: 0.9684\n",
      "Epoch 30/50\n",
      "39/39 - 1s - loss: 0.0782 - accuracy: 0.9612\n",
      "Epoch 31/50\n",
      "39/39 - 1s - loss: 0.0638 - accuracy: 0.9693\n",
      "Epoch 32/50\n",
      "39/39 - 1s - loss: 0.0847 - accuracy: 0.9531\n",
      "Epoch 33/50\n",
      "39/39 - 1s - loss: 0.0813 - accuracy: 0.9595\n",
      "Epoch 34/50\n",
      "39/39 - 1s - loss: 0.0700 - accuracy: 0.9595\n",
      "Epoch 35/50\n",
      "39/39 - 1s - loss: 0.0866 - accuracy: 0.9579\n",
      "Epoch 36/50\n",
      "39/39 - 1s - loss: 0.0792 - accuracy: 0.9628\n",
      "Epoch 37/50\n",
      "39/39 - 1s - loss: 0.0813 - accuracy: 0.9515\n",
      "Epoch 38/50\n",
      "39/39 - 1s - loss: 0.0647 - accuracy: 0.9620\n",
      "Epoch 39/50\n",
      "39/39 - 1s - loss: 0.0629 - accuracy: 0.9668\n",
      "Epoch 40/50\n",
      "39/39 - 1s - loss: 0.0789 - accuracy: 0.9604\n",
      "Epoch 41/50\n",
      "39/39 - 1s - loss: 0.0750 - accuracy: 0.9595\n",
      "Epoch 42/50\n",
      "39/39 - 1s - loss: 0.0831 - accuracy: 0.9555\n",
      "Epoch 43/50\n",
      "39/39 - 1s - loss: 0.0628 - accuracy: 0.9701\n",
      "Epoch 44/50\n",
      "39/39 - 1s - loss: 0.0813 - accuracy: 0.9595\n",
      "Epoch 45/50\n",
      "39/39 - 1s - loss: 0.0519 - accuracy: 0.9668\n",
      "Epoch 46/50\n",
      "39/39 - 1s - loss: 0.0545 - accuracy: 0.9660\n",
      "Epoch 47/50\n",
      "39/39 - 1s - loss: 0.1074 - accuracy: 0.9531\n",
      "Epoch 48/50\n",
      "39/39 - 1s - loss: 0.0668 - accuracy: 0.9563\n",
      "Epoch 49/50\n",
      "39/39 - 1s - loss: 0.0496 - accuracy: 0.9733\n",
      "Epoch 50/50\n",
      "39/39 - 1s - loss: 0.0690 - accuracy: 0.9587\n",
      "10/10 - 1s\n",
      "Normalized confusion matrix\n",
      "                 precision    recall  f1-score   support\n",
      "\n",
      "air conditioner       1.00      0.97      0.99        34\n",
      "       computer       0.97      0.99      0.98        92\n",
      "         fridge       0.99      0.96      0.98       167\n",
      "     television       0.76      1.00      0.86        16\n",
      "\n",
      "       accuracy                           0.97       309\n",
      "      macro avg       0.93      0.98      0.95       309\n",
      "   weighted avg       0.97      0.97      0.97       309\n",
      "\n",
      "using dataset data iawe training on model eco seed 12\n",
      "reading data, printing stats: \n",
      "['air conditioner', 'computer', 'fridge', 'television']\n",
      "{0: 2.2888888888888888, 1: 0.8442622950819673, 2: 0.46119402985074626, 3: 4.753846153846154}\n",
      " \n",
      "Tests \n",
      "air conditioner test: 34 train: 135\n",
      "computer test: 92 train: 366\n",
      "fridge test: 167 train: 670\n",
      "television test: 16 train: 65\n",
      "loading model\n",
      "compling TL model..\n"
     ]
    },
    {
     "name": "stderr",
     "output_type": "stream",
     "text": [
      "/usr/local/lib/python3.8/dist-packages/tensorflow/python/keras/optimizer_v2/optimizer_v2.py:374: UserWarning: The `lr` argument is deprecated, use `learning_rate` instead.\n",
      "  warnings.warn(\n"
     ]
    },
    {
     "name": "stdout",
     "output_type": "stream",
     "text": [
      "Normal way\n",
      "[0 1 2 3 4 5 6 7 8 9]\n",
      "Epoch 1/50\n",
      "39/39 - 4s - loss: 0.8276 - accuracy: 0.6456\n",
      "Epoch 2/50\n",
      "39/39 - 1s - loss: 0.2872 - accuracy: 0.8900\n",
      "Epoch 3/50\n",
      "39/39 - 1s - loss: 0.2048 - accuracy: 0.9199\n",
      "Epoch 4/50\n",
      "39/39 - 1s - loss: 0.1716 - accuracy: 0.9207\n",
      "Epoch 5/50\n",
      "39/39 - 1s - loss: 0.1654 - accuracy: 0.9417\n",
      "Epoch 6/50\n",
      "39/39 - 1s - loss: 0.1335 - accuracy: 0.9393\n",
      "Epoch 7/50\n",
      "39/39 - 1s - loss: 0.1292 - accuracy: 0.9563\n",
      "Epoch 8/50\n",
      "39/39 - 1s - loss: 0.1323 - accuracy: 0.9401\n",
      "Epoch 9/50\n",
      "39/39 - 1s - loss: 0.1149 - accuracy: 0.9531\n",
      "Epoch 10/50\n",
      "39/39 - 1s - loss: 0.1261 - accuracy: 0.9417\n",
      "Epoch 11/50\n",
      "39/39 - 1s - loss: 0.1107 - accuracy: 0.9458\n",
      "Epoch 12/50\n",
      "39/39 - 1s - loss: 0.1066 - accuracy: 0.9628\n",
      "Epoch 13/50\n",
      "39/39 - 1s - loss: 0.1054 - accuracy: 0.9555\n",
      "Epoch 14/50\n",
      "39/39 - 1s - loss: 0.1056 - accuracy: 0.9579\n",
      "Epoch 15/50\n",
      "39/39 - 1s - loss: 0.0865 - accuracy: 0.9668\n",
      "Epoch 16/50\n",
      "39/39 - 1s - loss: 0.0991 - accuracy: 0.9490\n",
      "Epoch 17/50\n",
      "39/39 - 1s - loss: 0.1027 - accuracy: 0.9523\n",
      "Epoch 18/50\n",
      "39/39 - 1s - loss: 0.0840 - accuracy: 0.9595\n",
      "Epoch 19/50\n",
      "39/39 - 1s - loss: 0.0972 - accuracy: 0.9644\n",
      "Epoch 20/50\n",
      "39/39 - 1s - loss: 0.1063 - accuracy: 0.9539\n",
      "Epoch 21/50\n",
      "39/39 - 1s - loss: 0.0859 - accuracy: 0.9636\n",
      "Epoch 22/50\n",
      "39/39 - 1s - loss: 0.0860 - accuracy: 0.9555\n",
      "Epoch 23/50\n",
      "39/39 - 1s - loss: 0.1023 - accuracy: 0.9547\n",
      "Epoch 24/50\n",
      "39/39 - 1s - loss: 0.0763 - accuracy: 0.9693\n",
      "Epoch 25/50\n",
      "39/39 - 1s - loss: 0.0901 - accuracy: 0.9620\n",
      "Epoch 26/50\n",
      "39/39 - 1s - loss: 0.0834 - accuracy: 0.9595\n",
      "Epoch 27/50\n",
      "39/39 - 1s - loss: 0.0879 - accuracy: 0.9587\n",
      "Epoch 28/50\n",
      "39/39 - 1s - loss: 0.0760 - accuracy: 0.9612\n",
      "Epoch 29/50\n",
      "39/39 - 1s - loss: 0.0960 - accuracy: 0.9604\n",
      "Epoch 30/50\n",
      "39/39 - 1s - loss: 0.0917 - accuracy: 0.9563\n",
      "Epoch 31/50\n",
      "39/39 - 1s - loss: 0.0731 - accuracy: 0.9660\n",
      "Epoch 32/50\n",
      "39/39 - 1s - loss: 0.0995 - accuracy: 0.9490\n",
      "Epoch 33/50\n",
      "39/39 - 1s - loss: 0.0789 - accuracy: 0.9636\n",
      "Epoch 34/50\n",
      "39/39 - 1s - loss: 0.0799 - accuracy: 0.9612\n",
      "Epoch 35/50\n",
      "39/39 - 1s - loss: 0.0852 - accuracy: 0.9636\n",
      "Epoch 36/50\n",
      "39/39 - 1s - loss: 0.0707 - accuracy: 0.9636\n",
      "Epoch 37/50\n",
      "39/39 - 1s - loss: 0.0830 - accuracy: 0.9604\n",
      "Epoch 38/50\n",
      "39/39 - 1s - loss: 0.0845 - accuracy: 0.9660\n",
      "Epoch 39/50\n",
      "39/39 - 1s - loss: 0.0686 - accuracy: 0.9644\n",
      "Epoch 40/50\n",
      "39/39 - 1s - loss: 0.0588 - accuracy: 0.9684\n",
      "Epoch 41/50\n",
      "39/39 - 1s - loss: 0.1000 - accuracy: 0.9579\n",
      "Epoch 42/50\n",
      "39/39 - 1s - loss: 0.0766 - accuracy: 0.9620\n",
      "Epoch 43/50\n",
      "39/39 - 1s - loss: 0.0655 - accuracy: 0.9612\n",
      "Epoch 44/50\n",
      "39/39 - 1s - loss: 0.0654 - accuracy: 0.9684\n",
      "Epoch 45/50\n",
      "39/39 - 1s - loss: 0.1054 - accuracy: 0.9458\n",
      "Epoch 46/50\n",
      "39/39 - 1s - loss: 0.0828 - accuracy: 0.9587\n",
      "Epoch 47/50\n",
      "39/39 - 1s - loss: 0.0563 - accuracy: 0.9717\n",
      "Epoch 48/50\n",
      "39/39 - 1s - loss: 0.0631 - accuracy: 0.9676\n",
      "Epoch 49/50\n",
      "39/39 - 1s - loss: 0.0795 - accuracy: 0.9644\n",
      "Epoch 50/50\n",
      "39/39 - 1s - loss: 0.0718 - accuracy: 0.9644\n",
      "10/10 - 1s\n",
      "Normalized confusion matrix\n",
      "                 precision    recall  f1-score   support\n",
      "\n",
      "air conditioner       0.97      0.94      0.96        34\n",
      "       computer       0.97      1.00      0.98        92\n",
      "         fridge       0.98      0.98      0.98       167\n",
      "     television       0.86      0.75      0.80        16\n",
      "\n",
      "       accuracy                           0.97       309\n",
      "      macro avg       0.94      0.92      0.93       309\n",
      "   weighted avg       0.97      0.97      0.97       309\n",
      "\n",
      "using dataset data iawe training on model redd seed 12\n",
      "reading data, printing stats: \n",
      "['air conditioner', 'computer', 'fridge', 'television']\n",
      "{0: 2.2888888888888888, 1: 0.8442622950819673, 2: 0.46119402985074626, 3: 4.753846153846154}\n",
      " \n",
      "Tests \n",
      "air conditioner test: 34 train: 135\n",
      "computer test: 92 train: 366\n",
      "fridge test: 167 train: 670\n",
      "television test: 16 train: 65\n",
      "loading model\n",
      "compling TL model..\n"
     ]
    },
    {
     "name": "stderr",
     "output_type": "stream",
     "text": [
      "/usr/local/lib/python3.8/dist-packages/tensorflow/python/keras/optimizer_v2/optimizer_v2.py:374: UserWarning: The `lr` argument is deprecated, use `learning_rate` instead.\n",
      "  warnings.warn(\n"
     ]
    },
    {
     "name": "stdout",
     "output_type": "stream",
     "text": [
      "Normal way\n",
      "[0 1 2 3 4 5 6 7 8 9]\n",
      "Epoch 1/50\n",
      "39/39 - 4s - loss: 1.0355 - accuracy: 0.6869\n",
      "Epoch 2/50\n",
      "39/39 - 1s - loss: 0.4375 - accuracy: 0.8803\n",
      "Epoch 3/50\n",
      "39/39 - 1s - loss: 0.2948 - accuracy: 0.8770\n",
      "Epoch 4/50\n",
      "39/39 - 1s - loss: 0.2955 - accuracy: 0.8738\n",
      "Epoch 5/50\n",
      "39/39 - 1s - loss: 0.2636 - accuracy: 0.8948\n",
      "Epoch 6/50\n",
      "39/39 - 1s - loss: 0.2636 - accuracy: 0.8875\n",
      "Epoch 7/50\n",
      "39/39 - 1s - loss: 0.2545 - accuracy: 0.8997\n",
      "Epoch 8/50\n",
      "39/39 - 1s - loss: 0.2226 - accuracy: 0.9021\n",
      "Epoch 9/50\n",
      "39/39 - 1s - loss: 0.2144 - accuracy: 0.9045\n",
      "Epoch 10/50\n",
      "39/39 - 1s - loss: 0.2087 - accuracy: 0.9029\n",
      "Epoch 11/50\n",
      "39/39 - 1s - loss: 0.2021 - accuracy: 0.9118\n",
      "Epoch 12/50\n",
      "39/39 - 1s - loss: 0.2326 - accuracy: 0.8835\n",
      "Epoch 13/50\n",
      "39/39 - 1s - loss: 0.2170 - accuracy: 0.9029\n",
      "Epoch 14/50\n",
      "39/39 - 1s - loss: 0.2011 - accuracy: 0.9013\n",
      "Epoch 15/50\n",
      "39/39 - 1s - loss: 0.1883 - accuracy: 0.9110\n",
      "Epoch 16/50\n",
      "39/39 - 1s - loss: 0.1992 - accuracy: 0.9037\n",
      "Epoch 17/50\n",
      "39/39 - 1s - loss: 0.2195 - accuracy: 0.8948\n",
      "Epoch 18/50\n",
      "39/39 - 1s - loss: 0.1876 - accuracy: 0.9150\n",
      "Epoch 19/50\n",
      "39/39 - 1s - loss: 0.2069 - accuracy: 0.8964\n",
      "Epoch 20/50\n",
      "39/39 - 1s - loss: 0.1790 - accuracy: 0.9070\n",
      "Epoch 21/50\n",
      "39/39 - 1s - loss: 0.1724 - accuracy: 0.9102\n",
      "Epoch 22/50\n",
      "39/39 - 1s - loss: 0.1790 - accuracy: 0.9215\n",
      "Epoch 23/50\n",
      "39/39 - 1s - loss: 0.1908 - accuracy: 0.9078\n",
      "Epoch 24/50\n",
      "39/39 - 1s - loss: 0.1894 - accuracy: 0.9070\n",
      "Epoch 25/50\n",
      "39/39 - 1s - loss: 0.1996 - accuracy: 0.9207\n",
      "Epoch 26/50\n",
      "39/39 - 1s - loss: 0.1745 - accuracy: 0.9118\n",
      "Epoch 27/50\n",
      "39/39 - 1s - loss: 0.1440 - accuracy: 0.9207\n",
      "Epoch 28/50\n",
      "39/39 - 1s - loss: 0.1669 - accuracy: 0.9199\n",
      "Epoch 29/50\n",
      "39/39 - 1s - loss: 0.1622 - accuracy: 0.9296\n",
      "Epoch 30/50\n",
      "39/39 - 1s - loss: 0.1736 - accuracy: 0.9110\n",
      "Epoch 31/50\n",
      "39/39 - 1s - loss: 0.1573 - accuracy: 0.9231\n",
      "Epoch 32/50\n",
      "39/39 - 1s - loss: 0.1600 - accuracy: 0.9134\n",
      "Epoch 33/50\n",
      "39/39 - 1s - loss: 0.1757 - accuracy: 0.9215\n",
      "Epoch 34/50\n",
      "39/39 - 1s - loss: 0.1675 - accuracy: 0.9142\n",
      "Epoch 35/50\n",
      "39/39 - 1s - loss: 0.1541 - accuracy: 0.9207\n",
      "Epoch 36/50\n",
      "39/39 - 1s - loss: 0.1464 - accuracy: 0.9207\n",
      "Epoch 37/50\n",
      "39/39 - 1s - loss: 0.1484 - accuracy: 0.9215\n",
      "Epoch 38/50\n",
      "39/39 - 1s - loss: 0.1524 - accuracy: 0.9248\n",
      "Epoch 39/50\n",
      "39/39 - 1s - loss: 0.1614 - accuracy: 0.9199\n",
      "Epoch 40/50\n",
      "39/39 - 1s - loss: 0.1500 - accuracy: 0.9183\n",
      "Epoch 41/50\n",
      "39/39 - 1s - loss: 0.1478 - accuracy: 0.9207\n",
      "Epoch 42/50\n",
      "39/39 - 1s - loss: 0.1392 - accuracy: 0.9239\n",
      "Epoch 43/50\n",
      "39/39 - 1s - loss: 0.1365 - accuracy: 0.9304\n",
      "Epoch 44/50\n",
      "39/39 - 1s - loss: 0.1836 - accuracy: 0.9134\n",
      "Epoch 45/50\n",
      "39/39 - 1s - loss: 0.1428 - accuracy: 0.9159\n",
      "Epoch 46/50\n",
      "39/39 - 1s - loss: 0.1427 - accuracy: 0.9256\n",
      "Epoch 47/50\n",
      "39/39 - 1s - loss: 0.1485 - accuracy: 0.9264\n",
      "Epoch 48/50\n",
      "39/39 - 1s - loss: 0.1430 - accuracy: 0.9296\n",
      "Epoch 49/50\n",
      "39/39 - 1s - loss: 0.1212 - accuracy: 0.9369\n",
      "Epoch 50/50\n",
      "39/39 - 1s - loss: 0.1737 - accuracy: 0.9272\n",
      "10/10 - 1s\n",
      "Normalized confusion matrix\n",
      "                 precision    recall  f1-score   support\n",
      "\n",
      "air conditioner       1.00      0.94      0.97        34\n",
      "       computer       0.97      0.98      0.97        92\n",
      "         fridge       0.98      0.96      0.97       167\n",
      "     television       0.75      0.94      0.83        16\n",
      "\n",
      "       accuracy                           0.96       309\n",
      "      macro avg       0.92      0.96      0.94       309\n",
      "   weighted avg       0.97      0.96      0.97       309\n",
      "\n",
      "using dataset data iawe training on model ukdale seed 12\n",
      "reading data, printing stats: \n",
      "['air conditioner', 'computer', 'fridge', 'television']\n",
      "{0: 2.2888888888888888, 1: 0.8442622950819673, 2: 0.46119402985074626, 3: 4.753846153846154}\n",
      " \n",
      "Tests \n",
      "air conditioner test: 34 train: 135\n",
      "computer test: 92 train: 366\n",
      "fridge test: 167 train: 670\n",
      "television test: 16 train: 65\n",
      "loading model\n",
      "compling TL model..\n"
     ]
    },
    {
     "name": "stderr",
     "output_type": "stream",
     "text": [
      "/usr/local/lib/python3.8/dist-packages/tensorflow/python/keras/optimizer_v2/optimizer_v2.py:374: UserWarning: The `lr` argument is deprecated, use `learning_rate` instead.\n",
      "  warnings.warn(\n"
     ]
    },
    {
     "name": "stdout",
     "output_type": "stream",
     "text": [
      "Normal way\n",
      "[0 1 2 3 4 5 6 7 8 9]\n",
      "Epoch 1/50\n",
      "39/39 - 4s - loss: 0.9195 - accuracy: 0.6667\n",
      "Epoch 2/50\n",
      "39/39 - 1s - loss: 0.3626 - accuracy: 0.8269\n",
      "Epoch 3/50\n",
      "39/39 - 1s - loss: 0.2672 - accuracy: 0.8835\n",
      "Epoch 4/50\n",
      "39/39 - 1s - loss: 0.2090 - accuracy: 0.9070\n",
      "Epoch 5/50\n",
      "39/39 - 1s - loss: 0.1922 - accuracy: 0.9256\n",
      "Epoch 6/50\n",
      "39/39 - 1s - loss: 0.1672 - accuracy: 0.9353\n",
      "Epoch 7/50\n",
      "39/39 - 1s - loss: 0.1583 - accuracy: 0.9304\n",
      "Epoch 8/50\n",
      "39/39 - 1s - loss: 0.1492 - accuracy: 0.9264\n",
      "Epoch 9/50\n",
      "39/39 - 1s - loss: 0.1523 - accuracy: 0.9320\n",
      "Epoch 10/50\n",
      "39/39 - 1s - loss: 0.1692 - accuracy: 0.9288\n",
      "Epoch 11/50\n",
      "39/39 - 1s - loss: 0.1285 - accuracy: 0.9401\n",
      "Epoch 12/50\n",
      "39/39 - 1s - loss: 0.1305 - accuracy: 0.9328\n",
      "Epoch 13/50\n",
      "39/39 - 1s - loss: 0.1222 - accuracy: 0.9523\n",
      "Epoch 14/50\n",
      "39/39 - 1s - loss: 0.1123 - accuracy: 0.9466\n",
      "Epoch 15/50\n",
      "39/39 - 1s - loss: 0.1162 - accuracy: 0.9458\n",
      "Epoch 16/50\n",
      "39/39 - 1s - loss: 0.1147 - accuracy: 0.9482\n",
      "Epoch 17/50\n",
      "39/39 - 1s - loss: 0.1119 - accuracy: 0.9498\n",
      "Epoch 18/50\n",
      "39/39 - 1s - loss: 0.1066 - accuracy: 0.9523\n",
      "Epoch 19/50\n",
      "39/39 - 1s - loss: 0.1282 - accuracy: 0.9353\n",
      "Epoch 20/50\n",
      "39/39 - 1s - loss: 0.1232 - accuracy: 0.9417\n",
      "Epoch 21/50\n",
      "39/39 - 1s - loss: 0.1038 - accuracy: 0.9466\n",
      "Epoch 22/50\n",
      "39/39 - 1s - loss: 0.0997 - accuracy: 0.9531\n",
      "Epoch 23/50\n",
      "39/39 - 1s - loss: 0.1195 - accuracy: 0.9450\n",
      "Epoch 24/50\n",
      "39/39 - 1s - loss: 0.0973 - accuracy: 0.9547\n",
      "Epoch 25/50\n",
      "39/39 - 1s - loss: 0.1186 - accuracy: 0.9442\n",
      "Epoch 26/50\n",
      "39/39 - 1s - loss: 0.1079 - accuracy: 0.9450\n",
      "Epoch 27/50\n",
      "39/39 - 1s - loss: 0.0749 - accuracy: 0.9644\n",
      "Epoch 28/50\n",
      "39/39 - 1s - loss: 0.0856 - accuracy: 0.9531\n",
      "Epoch 29/50\n",
      "39/39 - 1s - loss: 0.0971 - accuracy: 0.9539\n",
      "Epoch 30/50\n",
      "39/39 - 1s - loss: 0.0905 - accuracy: 0.9539\n",
      "Epoch 31/50\n",
      "39/39 - 1s - loss: 0.0773 - accuracy: 0.9571\n",
      "Epoch 32/50\n",
      "39/39 - 1s - loss: 0.0884 - accuracy: 0.9523\n",
      "Epoch 33/50\n",
      "39/39 - 1s - loss: 0.0836 - accuracy: 0.9547\n",
      "Epoch 34/50\n",
      "39/39 - 1s - loss: 0.0815 - accuracy: 0.9515\n",
      "Epoch 35/50\n",
      "39/39 - 1s - loss: 0.1011 - accuracy: 0.9523\n",
      "Epoch 36/50\n",
      "39/39 - 1s - loss: 0.0934 - accuracy: 0.9547\n",
      "Epoch 37/50\n",
      "39/39 - 1s - loss: 0.1002 - accuracy: 0.9563\n",
      "Epoch 38/50\n",
      "39/39 - 1s - loss: 0.1113 - accuracy: 0.9417\n",
      "Epoch 39/50\n",
      "39/39 - 1s - loss: 0.0914 - accuracy: 0.9644\n",
      "Epoch 40/50\n",
      "39/39 - 1s - loss: 0.0719 - accuracy: 0.9628\n",
      "Epoch 41/50\n",
      "39/39 - 1s - loss: 0.1001 - accuracy: 0.9506\n",
      "Epoch 42/50\n",
      "39/39 - 1s - loss: 0.0671 - accuracy: 0.9636\n",
      "Epoch 43/50\n",
      "39/39 - 1s - loss: 0.0773 - accuracy: 0.9660\n",
      "Epoch 44/50\n",
      "39/39 - 1s - loss: 0.0690 - accuracy: 0.9660\n",
      "Epoch 45/50\n",
      "39/39 - 1s - loss: 0.0803 - accuracy: 0.9701\n",
      "Epoch 46/50\n",
      "39/39 - 1s - loss: 0.0873 - accuracy: 0.9620\n",
      "Epoch 47/50\n",
      "39/39 - 1s - loss: 0.0940 - accuracy: 0.9604\n",
      "Epoch 48/50\n",
      "39/39 - 1s - loss: 0.0846 - accuracy: 0.9612\n",
      "Epoch 49/50\n",
      "39/39 - 1s - loss: 0.0663 - accuracy: 0.9652\n",
      "Epoch 50/50\n",
      "39/39 - 1s - loss: 0.0683 - accuracy: 0.9660\n",
      "10/10 - 1s\n",
      "Normalized confusion matrix\n",
      "                 precision    recall  f1-score   support\n",
      "\n",
      "air conditioner       0.93      0.82      0.87        34\n",
      "       computer       0.98      0.99      0.98        92\n",
      "         fridge       0.96      0.95      0.96       167\n",
      "     television       0.67      0.88      0.76        16\n",
      "\n",
      "       accuracy                           0.94       309\n",
      "      macro avg       0.89      0.91      0.89       309\n",
      "   weighted avg       0.95      0.94      0.95       309\n",
      "\n"
     ]
    },
    {
     "data": {
      "image/png": "[encoded data removed]",
      "text/plain": [
       "<Figure size 720x720 with 2 Axes>"
      ]
     },
     "metadata": {
      "needs_background": "light"
     },
     "output_type": "display_data"
    },
    {
     "data": {
      "image/png": "[encoded data removed]",
      "text/plain": [
       "<Figure size 720x720 with 2 Axes>"
      ]
     },
     "metadata": {
      "needs_background": "light"
     },
     "output_type": "display_data"
    },
    {
     "data": {
      "image/png": "[encoded data removed]",
      "text/plain": [
       "<Figure size 720x720 with 2 Axes>"
      ]
     },
     "metadata": {
      "needs_background": "light"
     },
     "output_type": "display_data"
    },
    {
     "data": {
      "image/png": "[encoded data removed]",
      "text/plain": [
       "<Figure size 720x720 with 2 Axes>"
      ]
     },
     "metadata": {
      "needs_background": "light"
     },
     "output_type": "display_data"
    }
   ],
   "source": [
    "# datasets =[\n",
    "#     \"ukdale_gen_GASF_13m_100S5X12A54480_R82_80-20\"\n",
    "# ]\n",
    "\n",
    "if environ['train_type'] == \"TL\": \n",
    "    models = environ['tl_datasets'].replace(\" \",\"\").split(\",\")\n",
    "    #model = [\"base\"]\n",
    "    \n",
    "    for model in models:\n",
    "    \n",
    "        file_name = dataset\n",
    "        \n",
    "        datasetTL = model\n",
    "        \n",
    "        seed = dataset.split(\"_R\")[1][0:2]\n",
    "        \n",
    "        print(\"using dataset data\",dataset.split(\"_\")[0],\"training on model\",model,\"seed\",environ['seed'])\n",
    "        txt_log.write(\"starting \"+dataset.split(\"_\")[0]+\" training on model \"+model+\" seed \"+environ['seed']+\"\\n\")\n",
    "\n",
    "\n",
    "        tf.keras.backend.clear_session()\n",
    "\n",
    "\n",
    "        #read the file\n",
    "        path = str(pathlib.Path().resolve())\n",
    "        path_data = f\"{path}\"\"/data/\"f\"{file_name}\"\"/\"f\"{file_name}\"\".hdf5\"\n",
    "        file = h5py.File(path_data,\"r+\")\n",
    "\n",
    "\n",
    "        print(\"reading data, printing stats: \")\n",
    "        x_test,y_test,d_class_weights,num_of_classes,appliances = get_data(file)\n",
    "        print(\"loading model\")\n",
    "        \n",
    "        model_seed = 42\n",
    "        model_used = create_tl_model(model,environ['learn_type'],model_seed,path,num_of_classes)\n",
    "                \n",
    "        train_gen = HDF5ImageGenerator(\n",
    "            src= path_data,\n",
    "            X_key=\"data/train/gaf\",\n",
    "            y_key=\"labels/train/gaf\",\n",
    "            classes_key=\"appliances/classes\",\n",
    "            labels_encoding=\"hot\",\n",
    "            shuffle=True,\n",
    "            batch_size=int(environ['batch_size']),\n",
    "            num_classes=num_of_classes,\n",
    "            mode=\"train\",\n",
    "            )\n",
    "\n",
    "        model_used.fit(\n",
    "            train_gen,\n",
    "            verbose=2,\n",
    "            epochs=int(environ['epochs']),\n",
    "            class_weight=d_class_weights,\n",
    "            callbacks = [save_op_callback]\n",
    "            #workers = 6,\n",
    "        )\n",
    "        \n",
    "        txt_log.write(\"finished \"+dataset.split(\"_\")[0]+\" training on model \"+model+\" seed \"+environ['seed']+\"\\n\")\n",
    "\n",
    "\n",
    "        evaluate_model(model_used,x_test,y_test,appliances)\n",
    "        \n",
    "\n",
    "\n",
    "\n",
    "        #del model_used\n",
    "\n"
   ]
  },
  {
   "cell_type": "code",
   "execution_count": 16,
   "metadata": {
    "execution": {
     "iopub.execute_input": "2022-02-11T19:38:27.468921Z",
     "iopub.status.busy": "2022-02-11T19:38:27.467658Z",
     "iopub.status.idle": "2022-02-11T19:38:27.470863Z",
     "shell.execute_reply": "2022-02-11T19:38:27.470004Z"
    }
   },
   "outputs": [],
   "source": [
    "txt_log.close()"
   ]
  },
  {
   "cell_type": "code",
   "execution_count": null,
   "metadata": {},
   "outputs": [],
   "source": []
  }
 ],
 "metadata": {
  "colab": {
   "authorship_tag": "ABX9TyMej4PvP65qsLng7TnQKWA4",
   "name": "LSTM-gen",
   "provenance": []
  },
  "kernelspec": {
   "display_name": "Python 3 (ipykernel)",
   "language": "python",
   "name": "python3"
  },
  "language_info": {
   "codemirror_mode": {
    "name": "ipython",
    "version": 3
   },
   "file_extension": ".py",
   "mimetype": "text/x-python",
   "name": "python",
   "nbconvert_exporter": "python",
   "pygments_lexer": "ipython3",
   "version": "3.8.10"
  }
 },
 "nbformat": 4,
 "nbformat_minor": 4
}
