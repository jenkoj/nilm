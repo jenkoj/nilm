{
 "cells": [
  {
   "cell_type": "code",
   "execution_count": 1,
   "metadata": {
    "execution": {
     "iopub.execute_input": "2022-02-11T19:43:05.714853Z",
     "iopub.status.busy": "2022-02-11T19:43:05.713829Z",
     "iopub.status.idle": "2022-02-11T19:43:07.399566Z",
     "shell.execute_reply": "2022-02-11T19:43:07.396631Z"
    },
    "id": "WqUfHWgtJxtu",
    "scrolled": true,
    "tags": []
   },
   "outputs": [
    {
     "name": "stderr",
     "output_type": "stream",
     "text": [
      "2022-02-11 19:43:06.534210: I tensorflow/stream_executor/platform/default/dso_loader.cc:54] Successfully opened dynamic library libcudart.so.11.0\n"
     ]
    },
    {
     "name": "stdout",
     "output_type": "stream",
     "text": [
      "2.5.0\n",
      "Num GPUs Available:  1\n"
     ]
    },
    {
     "name": "stderr",
     "output_type": "stream",
     "text": [
      "2022-02-11 19:43:07.334619: I tensorflow/stream_executor/platform/default/dso_loader.cc:54] Successfully opened dynamic library libcuda.so.1\n",
      "2022-02-11 19:43:07.379210: I tensorflow/core/common_runtime/gpu/gpu_device.cc:1734] Found device 0 with properties: \n",
      "pciBusID: 0000:21:00.0 name: NVIDIA GeForce RTX 2080 Ti computeCapability: 7.5\n",
      "coreClock: 1.545GHz coreCount: 68 deviceMemorySize: 10.76GiB deviceMemoryBandwidth: 573.69GiB/s\n",
      "2022-02-11 19:43:07.379268: I tensorflow/stream_executor/platform/default/dso_loader.cc:54] Successfully opened dynamic library libcudart.so.11.0\n",
      "2022-02-11 19:43:07.383823: I tensorflow/stream_executor/platform/default/dso_loader.cc:54] Successfully opened dynamic library libcublas.so.11\n",
      "2022-02-11 19:43:07.383890: I tensorflow/stream_executor/platform/default/dso_loader.cc:54] Successfully opened dynamic library libcublasLt.so.11\n",
      "2022-02-11 19:43:07.385861: I tensorflow/stream_executor/platform/default/dso_loader.cc:54] Successfully opened dynamic library libcufft.so.10\n",
      "2022-02-11 19:43:07.386195: I tensorflow/stream_executor/platform/default/dso_loader.cc:54] Successfully opened dynamic library libcurand.so.10\n",
      "2022-02-11 19:43:07.387040: I tensorflow/stream_executor/platform/default/dso_loader.cc:54] Successfully opened dynamic library libcutensor.so.1\n",
      "2022-02-11 19:43:07.387672: I tensorflow/stream_executor/platform/default/dso_loader.cc:54] Successfully opened dynamic library libcusolver.so.11\n",
      "2022-02-11 19:43:07.388670: I tensorflow/stream_executor/platform/default/dso_loader.cc:54] Successfully opened dynamic library libcusparse.so.11\n",
      "2022-02-11 19:43:07.388840: I tensorflow/stream_executor/platform/default/dso_loader.cc:54] Successfully opened dynamic library libcudnn.so.8\n",
      "2022-02-11 19:43:07.389280: I tensorflow/core/common_runtime/gpu/gpu_device.cc:1872] Adding visible gpu devices: 0\n"
     ]
    }
   ],
   "source": [
    "import h5py\n",
    "import numpy as np\n",
    "\n",
    "from sklearn.model_selection import train_test_split\n",
    "from sklearn.metrics import classification_report, confusion_matrix\n",
    "import matplotlib.pyplot as plt\n",
    "import itertools \n",
    "import pyts\n",
    "from pyts.approximation import PiecewiseAggregateApproximation\n",
    "\n",
    "from sklearn.utils import class_weight\n",
    "\n",
    "import pathlib\n",
    "import tensorflow as tf\n",
    "from tensorflow import keras\n",
    "from tensorflow.keras import layers, optimizers\n",
    "from tensorflow.keras.layers import Convolution2D,Conv2D, Dense,Dropout, Flatten, Activation, MaxPooling2D, Input, Conv1D, GlobalAveragePooling1D, TimeDistributed, GRU, LSTM\n",
    "\n",
    "print(tf.__version__)\n",
    "print(\"Num GPUs Available: \", len(tf.config.list_physical_devices('GPU')))\n",
    "gpus = tf.config.experimental.list_physical_devices('GPU')\n",
    "\n",
    "try:\n",
    "    for gpu in gpus:\n",
    "        tf.config.experimental.set_memory_growth(gpu, True)\n",
    "except RuntimeError as e:\n",
    "    print(e)"
   ]
  },
  {
   "cell_type": "code",
   "execution_count": 2,
   "metadata": {
    "execution": {
     "iopub.execute_input": "2022-02-11T19:43:07.406131Z",
     "iopub.status.busy": "2022-02-11T19:43:07.404835Z",
     "iopub.status.idle": "2022-02-11T19:43:07.410165Z",
     "shell.execute_reply": "2022-02-11T19:43:07.409122Z"
    }
   },
   "outputs": [
    {
     "name": "stdout",
     "output_type": "stream",
     "text": [
      "iawe_gen_GASF_13m_100S5X4A1545_R82_80-20\n"
     ]
    }
   ],
   "source": [
    "from os import environ\n",
    "dataset = environ['dataset']\n",
    "print(dataset)"
   ]
  },
  {
   "cell_type": "code",
   "execution_count": 3,
   "metadata": {
    "execution": {
     "iopub.execute_input": "2022-02-11T19:43:07.417071Z",
     "iopub.status.busy": "2022-02-11T19:43:07.415715Z",
     "iopub.status.idle": "2022-02-11T19:43:07.420927Z",
     "shell.execute_reply": "2022-02-11T19:43:07.419872Z"
    }
   },
   "outputs": [],
   "source": [
    "#my defs \n",
    "from modules.models import  LSTM_3D_V56, CNN_V56,LSTM_BI_V56\n",
    "from modules.tools import my_print, plot_confusion_matrix_norm, get_data,get_data_split, evaluate_model, create_tl_model\n",
    "from modules.HDF5ImageGenerator import HDF5ImageGenerator"
   ]
  },
  {
   "cell_type": "code",
   "execution_count": 4,
   "metadata": {
    "execution": {
     "iopub.execute_input": "2022-02-11T19:43:07.431208Z",
     "iopub.status.busy": "2022-02-11T19:43:07.429852Z",
     "iopub.status.idle": "2022-02-11T19:43:07.432635Z",
     "shell.execute_reply": "2022-02-11T19:43:07.433509Z"
    },
    "id": "RT1vwq7-KOtB"
   },
   "outputs": [],
   "source": [
    "#LOAD DATASET\n",
    "#file_name = \"ukdale_gen_GASF_13m_100S5X12A54480\"\n",
    "#file_name = \"refit_gen_GASF_13m_100S5X_15A166006\"\n",
    "file_name = \"refit_gen_GASF_13m_100S5X_15A166006_R42-80-20\"\n",
    "#file_name = \"refit_gen_GASF_13m_100S5X_15A166006_R42_80-20\"\n",
    "file_name = \"refit_gen_GASF_60m_300S0X_15A157030N_R12_80-20-V1\"\n",
    "file_name = environ[\"dataset\"]\n",
    "#read the file\n",
    "path = str(pathlib.Path().resolve())\n",
    "\n",
    "path_data = f\"{path}\"\"/data/\"f\"{file_name}\"\"/\"f\"{file_name}\"\".hdf5\"\n",
    "\n",
    "file = h5py.File(path_data,\"r+\")"
   ]
  },
  {
   "cell_type": "code",
   "execution_count": 5,
   "metadata": {
    "execution": {
     "iopub.execute_input": "2022-02-11T19:43:07.441802Z",
     "iopub.status.busy": "2022-02-11T19:43:07.440624Z",
     "iopub.status.idle": "2022-02-11T19:43:07.507125Z",
     "shell.execute_reply": "2022-02-11T19:43:07.508127Z"
    },
    "scrolled": true
   },
   "outputs": [
    {
     "name": "stdout",
     "output_type": "stream",
     "text": [
      "['air conditioner', 'computer', 'fridge', 'television']\n",
      "{0: 2.2888888888888888, 1: 0.8442622950819673, 2: 0.46119402985074626, 3: 4.753846153846154}\n",
      " \n",
      "Tests \n",
      "air conditioner test: 34 train: 135\n",
      "computer test: 92 train: 366\n",
      "fridge test: 167 train: 670\n",
      "television test: 16 train: 65\n"
     ]
    }
   ],
   "source": [
    "x_test,y_test,d_class_weights,num_of_classes,appliances = get_data(file)"
   ]
  },
  {
   "cell_type": "code",
   "execution_count": 6,
   "metadata": {
    "execution": {
     "iopub.execute_input": "2022-02-11T19:43:07.515838Z",
     "iopub.status.busy": "2022-02-11T19:43:07.514622Z",
     "iopub.status.idle": "2022-02-11T19:43:07.517128Z",
     "shell.execute_reply": "2022-02-11T19:43:07.518099Z"
    }
   },
   "outputs": [],
   "source": [
    "def select_model(learn_type):\n",
    "    \n",
    "    if learn_type == \"CNN\":\n",
    "        model = CNN_V56(file[\"data/train/gaf\"][0:10],num_of_classes,lr= 0.00002)\n",
    "\n",
    "    if learn_type == \"LSTM\":\n",
    "        model = LSTM_3D_V56(file[\"data/train/gaf\"][0:10],num_of_classes,lr= 0.00002)\n",
    "\n",
    "    if learn_type == \"BI_LSTM\":\n",
    "        model = LSTM_BI_V56(file[\"data/train/gaf\"][0:10],num_of_classes,lr= 0.00002)\n",
    "\n",
    "    return model\n",
    "              "
   ]
  },
  {
   "cell_type": "code",
   "execution_count": 7,
   "metadata": {
    "execution": {
     "iopub.execute_input": "2022-02-11T19:43:07.525578Z",
     "iopub.status.busy": "2022-02-11T19:43:07.524364Z",
     "iopub.status.idle": "2022-02-11T19:43:07.526857Z",
     "shell.execute_reply": "2022-02-11T19:43:07.527826Z"
    }
   },
   "outputs": [],
   "source": [
    "path_save = path+'/experiment_automation/output/'+environ['learn_type']+'/'+dataset.split(\"_\")[0]+\"/\"+environ['train_type']+\"/\"+dataset.split(\"_\")[0]+\"_\"+environ['seed']+\"_\"+environ['tl_datasets']\n",
    "path_save_nb = path_save+\"_out.ipynb\"\n",
    "path_save_log = path_save+\"_out_log2.txt\""
   ]
  },
  {
   "cell_type": "code",
   "execution_count": 8,
   "metadata": {
    "execution": {
     "iopub.execute_input": "2022-02-11T19:43:07.536477Z",
     "iopub.status.busy": "2022-02-11T19:43:07.535227Z",
     "iopub.status.idle": "2022-02-11T19:43:07.647804Z",
     "shell.execute_reply": "2022-02-11T19:43:07.648309Z"
    }
   },
   "outputs": [],
   "source": [
    "from keras.callbacks import LambdaCallback\n",
    "#path_log= path+'/experiment_automation/output/'+environ['learn_type']+'/'+dataset.split(\"_\")[0]+\"/\"+environ['train_type']+\"/\"+dataset.split(\"_\")[0]+\"_\"+environ['seed']+\"_\"+environ['tl_datasets']+\"_log.txt\"\n",
    "txt_log = open(path_save+\"_log.txt\", mode='wt', buffering=1)\n",
    "txt_log.write(\"file created! \\n\")\n",
    "\n",
    "save_op_callback = LambdaCallback(\n",
    "  on_epoch_end = lambda epoch, logs: txt_log.write(\n",
    "    str({'epoch': epoch, 'loss': logs['loss'],'acc': logs['accuracy']}) + '\\n'),\n",
    "                                                           \n",
    ")"
   ]
  },
  {
   "cell_type": "code",
   "execution_count": 9,
   "metadata": {
    "execution": {
     "iopub.execute_input": "2022-02-11T19:43:07.654780Z",
     "iopub.status.busy": "2022-02-11T19:43:07.654284Z",
     "iopub.status.idle": "2022-02-11T19:43:07.658273Z",
     "shell.execute_reply": "2022-02-11T19:43:07.658664Z"
    }
   },
   "outputs": [
    {
     "name": "stdout",
     "output_type": "stream",
     "text": [
      "/workspace/notebooks/experiment_automation/output/BI_LSTM/iawe/TL/iawe_82_refit, eco, redd, ukdale_out.ipynb\n"
     ]
    }
   ],
   "source": [
    "print(path_save_nb)"
   ]
  },
  {
   "cell_type": "code",
   "execution_count": 10,
   "metadata": {
    "execution": {
     "iopub.execute_input": "2022-02-11T19:43:07.664424Z",
     "iopub.status.busy": "2022-02-11T19:43:07.663760Z",
     "iopub.status.idle": "2022-02-11T19:43:07.666642Z",
     "shell.execute_reply": "2022-02-11T19:43:07.667158Z"
    }
   },
   "outputs": [],
   "source": [
    "# rm $path_save_log"
   ]
  },
  {
   "cell_type": "code",
   "execution_count": 11,
   "metadata": {
    "execution": {
     "iopub.execute_input": "2022-02-11T19:43:07.672823Z",
     "iopub.status.busy": "2022-02-11T19:43:07.671935Z",
     "iopub.status.idle": "2022-02-11T19:43:07.676261Z",
     "shell.execute_reply": "2022-02-11T19:43:07.675517Z"
    }
   },
   "outputs": [],
   "source": [
    "# %%capture cap \n",
    "\n",
    "# with open(path_save_log,\"wt\") as f:\n",
    "#     f.write(cap.stdout)\n",
    "    \n",
    "# print(\"out capture..\")"
   ]
  },
  {
   "cell_type": "code",
   "execution_count": 12,
   "metadata": {
    "execution": {
     "iopub.execute_input": "2022-02-11T19:43:07.696753Z",
     "iopub.status.busy": "2022-02-11T19:43:07.695452Z",
     "iopub.status.idle": "2022-02-11T19:43:07.698983Z",
     "shell.execute_reply": "2022-02-11T19:43:07.699933Z"
    },
    "id": "vqA9NwOqKrb5",
    "jupyter": {
     "outputs_hidden": true
    },
    "tags": []
   },
   "outputs": [],
   "source": [
    "# %%capture cap --no-stderr\n",
    "\n",
    "\n",
    "if environ['train_type'] == \"BB\":\n",
    "\n",
    "    #define generator\n",
    "    train_gen = HDF5ImageGenerator(\n",
    "        src= path_data,\n",
    "        X_key=\"data/train/gaf\",\n",
    "        y_key=\"labels/train/gaf\",\n",
    "        classes_key=\"appliances/classes\",\n",
    "        labels_encoding=\"hot\",\n",
    "        shuffle=True,\n",
    "        batch_size=int(environ['batch_size']),\n",
    "        num_classes=num_of_classes,\n",
    "        mode=\"train\",\n",
    "        )\n",
    "    \n",
    "    model = select_model(environ['learn_type'])\n",
    "    \n",
    "    txt_log.write(\"fitting BB model: \\n\")\n",
    "    \n",
    "    model.fit(\n",
    "        train_gen,\n",
    "        verbose=2,\n",
    "        epochs=int(environ['epochs']),\n",
    "        class_weight=d_class_weights,\n",
    "        callbacks = [save_op_callback],\n",
    "    )\n",
    "    \n",
    "    txt_log.write(\"finished fitting BB model: \\n\")\n",
    "\n",
    "    evaluate_model(model,x_test,y_test,appliances)\n",
    "    \n",
    "    if environ['save_model']==\"True\":\n",
    "\n",
    "        path_model_save = path+\"/models/\"+environ['learn_type']+\"/\"+dataset.split(\"_\")[0]+\"_\"+dataset.split(\"_R\")[1][0:2]\n",
    "        model.save(path_model_save)\n",
    "        txt_log.write(\"model saved to:\"+\"/models/\"+environ['learn_type']+\"/\"+dataset.split(\"_\")[0]+\"_\"+dataset.split(\"_R\")[1][0:2]+\" \\n\")\n",
    "        \n",
    "        \n",
    "# with open(path_save+\"_out_log.txt\" as f:\n",
    "#     f.write(cap.stdout)\n"
   ]
  },
  {
   "cell_type": "code",
   "execution_count": 13,
   "metadata": {
    "collapsed": true,
    "execution": {
     "iopub.execute_input": "2022-02-11T19:43:07.707120Z",
     "iopub.status.busy": "2022-02-11T19:43:07.705804Z",
     "iopub.status.idle": "2022-02-11T19:43:07.708558Z",
     "shell.execute_reply": "2022-02-11T19:43:07.709630Z"
    }
   },
   "outputs": [],
   "source": [
    "#model = keras.models.load_model(path_model1)\n",
    "# model_used = model"
   ]
  },
  {
   "cell_type": "code",
   "execution_count": 14,
   "metadata": {
    "collapsed": true,
    "execution": {
     "iopub.execute_input": "2022-02-11T19:43:07.716865Z",
     "iopub.status.busy": "2022-02-11T19:43:07.715554Z",
     "iopub.status.idle": "2022-02-11T19:43:07.719443Z",
     "shell.execute_reply": "2022-02-11T19:43:07.718375Z"
    },
    "jupyter": {
     "outputs_hidden": true
    },
    "tags": []
   },
   "outputs": [],
   "source": [
    "# evaluate_model(model,x_test,y_test,appliances)"
   ]
  },
  {
   "cell_type": "code",
   "execution_count": 15,
   "metadata": {
    "collapsed": true,
    "execution": {
     "iopub.execute_input": "2022-02-11T19:43:07.740955Z",
     "iopub.status.busy": "2022-02-11T19:43:07.724197Z",
     "iopub.status.idle": "2022-02-11T19:47:31.506186Z",
     "shell.execute_reply": "2022-02-11T19:47:31.507254Z"
    }
   },
   "outputs": [
    {
     "name": "stdout",
     "output_type": "stream",
     "text": [
      "using dataset data iawe training on model refit seed 82\n",
      "reading data, printing stats: \n",
      "['air conditioner', 'computer', 'fridge', 'television']\n",
      "{0: 2.2888888888888888, 1: 0.8442622950819673, 2: 0.46119402985074626, 3: 4.753846153846154}\n",
      " \n",
      "Tests \n",
      "air conditioner test: 34 train: 135\n",
      "computer test: 92 train: 366\n",
      "fridge test: 167 train: 670\n",
      "television test: 16 train: 65\n",
      "loading model\n",
      "compling TL model..\n"
     ]
    },
    {
     "name": "stderr",
     "output_type": "stream",
     "text": [
      "2022-02-11 19:43:07.954464: I tensorflow/core/common_runtime/gpu/gpu_device.cc:1734] Found device 0 with properties: \n",
      "pciBusID: 0000:21:00.0 name: NVIDIA GeForce RTX 2080 Ti computeCapability: 7.5\n",
      "coreClock: 1.545GHz coreCount: 68 deviceMemorySize: 10.76GiB deviceMemoryBandwidth: 573.69GiB/s\n",
      "2022-02-11 19:43:07.954793: I tensorflow/core/common_runtime/gpu/gpu_device.cc:1872] Adding visible gpu devices: 0\n",
      "2022-02-11 19:43:07.954853: I tensorflow/stream_executor/platform/default/dso_loader.cc:54] Successfully opened dynamic library libcudart.so.11.0\n",
      "2022-02-11 19:43:08.317497: I tensorflow/core/common_runtime/gpu/gpu_device.cc:1258] Device interconnect StreamExecutor with strength 1 edge matrix:\n",
      "2022-02-11 19:43:08.317533: I tensorflow/core/common_runtime/gpu/gpu_device.cc:1264]      0 \n",
      "2022-02-11 19:43:08.317543: I tensorflow/core/common_runtime/gpu/gpu_device.cc:1277] 0:   N \n",
      "2022-02-11 19:43:08.318118: I tensorflow/core/common_runtime/gpu/gpu_device.cc:1418] Created TensorFlow device (/job:localhost/replica:0/task:0/device:GPU:0 with 9649 MB memory) -> physical GPU (device: 0, name: NVIDIA GeForce RTX 2080 Ti, pci bus id: 0000:21:00.0, compute capability: 7.5)\n",
      "2022-02-11 19:43:08.318453: I tensorflow/core/common_runtime/process_util.cc:146] Creating new thread pool with default inter op setting: 20. Tune using inter_op_parallelism_threads for best performance.\n"
     ]
    },
    {
     "name": "stdout",
     "output_type": "stream",
     "text": [
      "Normal way\n",
      "[0 1 2 3 4 5 6 7 8 9]\n",
      "WARNING:tensorflow:From /usr/local/lib/python3.8/dist-packages/tensorflow/python/ops/array_ops.py:5043: calling gather (from tensorflow.python.ops.array_ops) with validate_indices is deprecated and will be removed in a future version.\n",
      "Instructions for updating:\n",
      "The `validate_indices` argument has no effect. Indices are always validated on CPU and never validated on GPU.\n"
     ]
    },
    {
     "name": "stderr",
     "output_type": "stream",
     "text": [
      "/usr/local/lib/python3.8/dist-packages/tensorflow/python/keras/optimizer_v2/optimizer_v2.py:374: UserWarning: The `lr` argument is deprecated, use `learning_rate` instead.\n",
      "  warnings.warn(\n",
      "2022-02-11 19:43:16.023759: I tensorflow/compiler/mlir/mlir_graph_optimization_pass.cc:176] None of the MLIR Optimization Passes are enabled (registered 2)\n",
      "2022-02-11 19:43:16.044511: I tensorflow/core/platform/profile_utils/cpu_utils.cc:114] CPU Frequency: 3299990000 Hz\n"
     ]
    },
    {
     "name": "stdout",
     "output_type": "stream",
     "text": [
      "Epoch 1/50\n"
     ]
    },
    {
     "name": "stderr",
     "output_type": "stream",
     "text": [
      "2022-02-11 19:43:19.492535: I tensorflow/stream_executor/platform/default/dso_loader.cc:54] Successfully opened dynamic library libcudnn.so.8\n",
      "2022-02-11 19:43:19.973423: I tensorflow/stream_executor/cuda/cuda_dnn.cc:380] Loaded cuDNN version 8202\n",
      "2022-02-11 19:43:20.456286: I tensorflow/stream_executor/platform/default/dso_loader.cc:54] Successfully opened dynamic library libcublas.so.11\n",
      "2022-02-11 19:43:20.864949: I tensorflow/stream_executor/platform/default/dso_loader.cc:54] Successfully opened dynamic library libcublasLt.so.11\n"
     ]
    },
    {
     "name": "stdout",
     "output_type": "stream",
     "text": [
      "39/39 - 6s - loss: 0.6447 - accuracy: 0.6780\n",
      "Epoch 2/50\n",
      "39/39 - 1s - loss: 0.1921 - accuracy: 0.9239\n",
      "Epoch 3/50\n",
      "39/39 - 1s - loss: 0.1777 - accuracy: 0.9256\n",
      "Epoch 4/50\n",
      "39/39 - 1s - loss: 0.1527 - accuracy: 0.9312\n",
      "Epoch 5/50\n",
      "39/39 - 1s - loss: 0.1484 - accuracy: 0.9393\n",
      "Epoch 6/50\n",
      "39/39 - 1s - loss: 0.1235 - accuracy: 0.9515\n",
      "Epoch 7/50\n",
      "39/39 - 1s - loss: 0.1119 - accuracy: 0.9498\n",
      "Epoch 8/50\n",
      "39/39 - 1s - loss: 0.1236 - accuracy: 0.9401\n",
      "Epoch 9/50\n",
      "39/39 - 1s - loss: 0.1256 - accuracy: 0.9377\n",
      "Epoch 10/50\n",
      "39/39 - 1s - loss: 0.1075 - accuracy: 0.9474\n",
      "Epoch 11/50\n",
      "39/39 - 1s - loss: 0.1187 - accuracy: 0.9466\n",
      "Epoch 12/50\n",
      "39/39 - 1s - loss: 0.1067 - accuracy: 0.9450\n",
      "Epoch 13/50\n",
      "39/39 - 1s - loss: 0.0925 - accuracy: 0.9555\n",
      "Epoch 14/50\n",
      "39/39 - 1s - loss: 0.1038 - accuracy: 0.9515\n",
      "Epoch 15/50\n",
      "39/39 - 1s - loss: 0.0846 - accuracy: 0.9563\n",
      "Epoch 16/50\n",
      "39/39 - 1s - loss: 0.1131 - accuracy: 0.9490\n",
      "Epoch 17/50\n",
      "39/39 - 1s - loss: 0.0989 - accuracy: 0.9490\n",
      "Epoch 18/50\n",
      "39/39 - 1s - loss: 0.1242 - accuracy: 0.9490\n",
      "Epoch 19/50\n",
      "39/39 - 1s - loss: 0.0972 - accuracy: 0.9531\n",
      "Epoch 20/50\n",
      "39/39 - 1s - loss: 0.0894 - accuracy: 0.9531\n",
      "Epoch 21/50\n",
      "39/39 - 1s - loss: 0.1018 - accuracy: 0.9555\n",
      "Epoch 22/50\n",
      "39/39 - 1s - loss: 0.1020 - accuracy: 0.9571\n",
      "Epoch 23/50\n",
      "39/39 - 1s - loss: 0.0862 - accuracy: 0.9628\n",
      "Epoch 24/50\n",
      "39/39 - 1s - loss: 0.0917 - accuracy: 0.9604\n",
      "Epoch 25/50\n",
      "39/39 - 1s - loss: 0.0700 - accuracy: 0.9693\n",
      "Epoch 26/50\n",
      "39/39 - 1s - loss: 0.0796 - accuracy: 0.9612\n",
      "Epoch 27/50\n",
      "39/39 - 1s - loss: 0.0848 - accuracy: 0.9612\n",
      "Epoch 28/50\n",
      "39/39 - 1s - loss: 0.0853 - accuracy: 0.9571\n",
      "Epoch 29/50\n",
      "39/39 - 1s - loss: 0.0868 - accuracy: 0.9555\n",
      "Epoch 30/50\n",
      "39/39 - 1s - loss: 0.0865 - accuracy: 0.9587\n",
      "Epoch 31/50\n",
      "39/39 - 1s - loss: 0.0586 - accuracy: 0.9684\n",
      "Epoch 32/50\n",
      "39/39 - 1s - loss: 0.0696 - accuracy: 0.9636\n",
      "Epoch 33/50\n",
      "39/39 - 1s - loss: 0.0717 - accuracy: 0.9620\n",
      "Epoch 34/50\n",
      "39/39 - 1s - loss: 0.0651 - accuracy: 0.9636\n",
      "Epoch 35/50\n",
      "39/39 - 1s - loss: 0.0825 - accuracy: 0.9636\n",
      "Epoch 36/50\n",
      "39/39 - 1s - loss: 0.0753 - accuracy: 0.9620\n",
      "Epoch 37/50\n",
      "39/39 - 1s - loss: 0.0749 - accuracy: 0.9563\n",
      "Epoch 38/50\n",
      "39/39 - 1s - loss: 0.0910 - accuracy: 0.9506\n",
      "Epoch 39/50\n",
      "39/39 - 1s - loss: 0.0708 - accuracy: 0.9571\n",
      "Epoch 40/50\n",
      "39/39 - 1s - loss: 0.0634 - accuracy: 0.9628\n",
      "Epoch 41/50\n",
      "39/39 - 1s - loss: 0.0710 - accuracy: 0.9660\n",
      "Epoch 42/50\n",
      "39/39 - 1s - loss: 0.0785 - accuracy: 0.9555\n",
      "Epoch 43/50\n",
      "39/39 - 1s - loss: 0.0779 - accuracy: 0.9612\n",
      "Epoch 44/50\n",
      "39/39 - 1s - loss: 0.0777 - accuracy: 0.9547\n",
      "Epoch 45/50\n",
      "39/39 - 1s - loss: 0.0570 - accuracy: 0.9644\n",
      "Epoch 46/50\n",
      "39/39 - 1s - loss: 0.0606 - accuracy: 0.9620\n",
      "Epoch 47/50\n",
      "39/39 - 1s - loss: 0.0745 - accuracy: 0.9660\n",
      "Epoch 48/50\n",
      "39/39 - 1s - loss: 0.0609 - accuracy: 0.9676\n",
      "Epoch 49/50\n",
      "39/39 - 1s - loss: 0.0543 - accuracy: 0.9717\n",
      "Epoch 50/50\n",
      "39/39 - 1s - loss: 0.0753 - accuracy: 0.9636\n",
      "10/10 - 1s\n",
      "Normalized confusion matrix\n",
      "                 precision    recall  f1-score   support\n",
      "\n",
      "air conditioner       1.00      1.00      1.00        34\n",
      "       computer       0.98      1.00      0.99        92\n",
      "         fridge       1.00      0.91      0.95       167\n",
      "     television       0.55      1.00      0.71        16\n",
      "\n",
      "       accuracy                           0.95       309\n",
      "      macro avg       0.88      0.98      0.91       309\n",
      "   weighted avg       0.97      0.95      0.96       309\n",
      "\n",
      "using dataset data iawe training on model eco seed 82\n",
      "reading data, printing stats: \n",
      "['air conditioner', 'computer', 'fridge', 'television']\n",
      "{0: 2.2888888888888888, 1: 0.8442622950819673, 2: 0.46119402985074626, 3: 4.753846153846154}\n",
      " \n",
      "Tests \n",
      "air conditioner test: 34 train: 135\n",
      "computer test: 92 train: 366\n",
      "fridge test: 167 train: 670\n",
      "television test: 16 train: 65\n",
      "loading model\n",
      "compling TL model..\n"
     ]
    },
    {
     "name": "stderr",
     "output_type": "stream",
     "text": [
      "/usr/local/lib/python3.8/dist-packages/tensorflow/python/keras/optimizer_v2/optimizer_v2.py:374: UserWarning: The `lr` argument is deprecated, use `learning_rate` instead.\n",
      "  warnings.warn(\n"
     ]
    },
    {
     "name": "stdout",
     "output_type": "stream",
     "text": [
      "Normal way\n",
      "[0 1 2 3 4 5 6 7 8 9]\n",
      "Epoch 1/50\n",
      "39/39 - 4s - loss: 0.8301 - accuracy: 0.6214\n",
      "Epoch 2/50\n",
      "39/39 - 1s - loss: 0.2767 - accuracy: 0.8851\n",
      "Epoch 3/50\n",
      "39/39 - 1s - loss: 0.2157 - accuracy: 0.9142\n",
      "Epoch 4/50\n",
      "39/39 - 1s - loss: 0.1866 - accuracy: 0.9337\n",
      "Epoch 5/50\n",
      "39/39 - 1s - loss: 0.1815 - accuracy: 0.9248\n",
      "Epoch 6/50\n",
      "39/39 - 1s - loss: 0.1511 - accuracy: 0.9377\n",
      "Epoch 7/50\n",
      "39/39 - 1s - loss: 0.1439 - accuracy: 0.9401\n",
      "Epoch 8/50\n",
      "39/39 - 1s - loss: 0.1459 - accuracy: 0.9328\n",
      "Epoch 9/50\n",
      "39/39 - 1s - loss: 0.1462 - accuracy: 0.9296\n",
      "Epoch 10/50\n",
      "39/39 - 1s - loss: 0.1490 - accuracy: 0.9401\n",
      "Epoch 11/50\n",
      "39/39 - 1s - loss: 0.1375 - accuracy: 0.9409\n",
      "Epoch 12/50\n",
      "39/39 - 1s - loss: 0.1264 - accuracy: 0.9426\n",
      "Epoch 13/50\n",
      "39/39 - 1s - loss: 0.1043 - accuracy: 0.9506\n",
      "Epoch 14/50\n",
      "39/39 - 1s - loss: 0.1206 - accuracy: 0.9466\n",
      "Epoch 15/50\n",
      "39/39 - 1s - loss: 0.1010 - accuracy: 0.9515\n",
      "Epoch 16/50\n",
      "39/39 - 1s - loss: 0.0965 - accuracy: 0.9604\n",
      "Epoch 17/50\n",
      "39/39 - 1s - loss: 0.1131 - accuracy: 0.9531\n",
      "Epoch 18/50\n",
      "39/39 - 1s - loss: 0.1155 - accuracy: 0.9482\n",
      "Epoch 19/50\n",
      "39/39 - 1s - loss: 0.1055 - accuracy: 0.9498\n",
      "Epoch 20/50\n",
      "39/39 - 1s - loss: 0.0928 - accuracy: 0.9555\n",
      "Epoch 21/50\n",
      "39/39 - 1s - loss: 0.0960 - accuracy: 0.9547\n",
      "Epoch 22/50\n",
      "39/39 - 1s - loss: 0.1038 - accuracy: 0.9531\n",
      "Epoch 23/50\n",
      "39/39 - 1s - loss: 0.0910 - accuracy: 0.9595\n",
      "Epoch 24/50\n",
      "39/39 - 1s - loss: 0.0853 - accuracy: 0.9587\n",
      "Epoch 25/50\n",
      "39/39 - 1s - loss: 0.0819 - accuracy: 0.9636\n",
      "Epoch 26/50\n",
      "39/39 - 1s - loss: 0.1084 - accuracy: 0.9539\n",
      "Epoch 27/50\n",
      "39/39 - 1s - loss: 0.0852 - accuracy: 0.9571\n",
      "Epoch 28/50\n",
      "39/39 - 1s - loss: 0.0787 - accuracy: 0.9668\n",
      "Epoch 29/50\n",
      "39/39 - 1s - loss: 0.1061 - accuracy: 0.9523\n",
      "Epoch 30/50\n",
      "39/39 - 1s - loss: 0.0917 - accuracy: 0.9563\n",
      "Epoch 31/50\n",
      "39/39 - 1s - loss: 0.0975 - accuracy: 0.9563\n",
      "Epoch 32/50\n",
      "39/39 - 1s - loss: 0.0855 - accuracy: 0.9660\n",
      "Epoch 33/50\n",
      "39/39 - 1s - loss: 0.0735 - accuracy: 0.9620\n",
      "Epoch 34/50\n",
      "39/39 - 1s - loss: 0.0706 - accuracy: 0.9676\n",
      "Epoch 35/50\n",
      "39/39 - 1s - loss: 0.0805 - accuracy: 0.9612\n",
      "Epoch 36/50\n",
      "39/39 - 1s - loss: 0.1163 - accuracy: 0.9506\n",
      "Epoch 37/50\n",
      "39/39 - 1s - loss: 0.0795 - accuracy: 0.9660\n",
      "Epoch 38/50\n",
      "39/39 - 1s - loss: 0.0737 - accuracy: 0.9628\n",
      "Epoch 39/50\n",
      "39/39 - 1s - loss: 0.0734 - accuracy: 0.9652\n",
      "Epoch 40/50\n",
      "39/39 - 1s - loss: 0.0754 - accuracy: 0.9652\n",
      "Epoch 41/50\n",
      "39/39 - 1s - loss: 0.0776 - accuracy: 0.9620\n",
      "Epoch 42/50\n",
      "39/39 - 1s - loss: 0.0769 - accuracy: 0.9628\n",
      "Epoch 43/50\n",
      "39/39 - 1s - loss: 0.0747 - accuracy: 0.9595\n",
      "Epoch 44/50\n",
      "39/39 - 1s - loss: 0.0732 - accuracy: 0.9636\n",
      "Epoch 45/50\n",
      "39/39 - 1s - loss: 0.0594 - accuracy: 0.9709\n",
      "Epoch 46/50\n",
      "39/39 - 1s - loss: 0.1047 - accuracy: 0.9506\n",
      "Epoch 47/50\n",
      "39/39 - 1s - loss: 0.0907 - accuracy: 0.9571\n",
      "Epoch 48/50\n",
      "39/39 - 1s - loss: 0.1045 - accuracy: 0.9539\n",
      "Epoch 49/50\n",
      "39/39 - 1s - loss: 0.0723 - accuracy: 0.9595\n",
      "Epoch 50/50\n",
      "39/39 - 1s - loss: 0.0701 - accuracy: 0.9709\n",
      "10/10 - 1s\n",
      "Normalized confusion matrix\n",
      "                 precision    recall  f1-score   support\n",
      "\n",
      "air conditioner       0.89      0.97      0.93        34\n",
      "       computer       0.94      1.00      0.97        92\n",
      "         fridge       1.00      0.95      0.98       167\n",
      "     television       0.80      0.75      0.77        16\n",
      "\n",
      "       accuracy                           0.96       309\n",
      "      macro avg       0.91      0.92      0.91       309\n",
      "   weighted avg       0.96      0.96      0.96       309\n",
      "\n",
      "using dataset data iawe training on model redd seed 82\n",
      "reading data, printing stats: \n",
      "['air conditioner', 'computer', 'fridge', 'television']\n",
      "{0: 2.2888888888888888, 1: 0.8442622950819673, 2: 0.46119402985074626, 3: 4.753846153846154}\n",
      " \n",
      "Tests \n",
      "air conditioner test: 34 train: 135\n",
      "computer test: 92 train: 366\n",
      "fridge test: 167 train: 670\n",
      "television test: 16 train: 65\n",
      "loading model\n",
      "compling TL model..\n"
     ]
    },
    {
     "name": "stderr",
     "output_type": "stream",
     "text": [
      "/usr/local/lib/python3.8/dist-packages/tensorflow/python/keras/optimizer_v2/optimizer_v2.py:374: UserWarning: The `lr` argument is deprecated, use `learning_rate` instead.\n",
      "  warnings.warn(\n"
     ]
    },
    {
     "name": "stdout",
     "output_type": "stream",
     "text": [
      "Normal way\n",
      "[0 1 2 3 4 5 6 7 8 9]\n",
      "Epoch 1/50\n",
      "39/39 - 4s - loss: 0.7966 - accuracy: 0.7362\n",
      "Epoch 2/50\n",
      "39/39 - 1s - loss: 0.3345 - accuracy: 0.8811\n",
      "Epoch 3/50\n",
      "39/39 - 1s - loss: 0.3075 - accuracy: 0.8794\n",
      "Epoch 4/50\n",
      "39/39 - 1s - loss: 0.2617 - accuracy: 0.8997\n",
      "Epoch 5/50\n",
      "39/39 - 1s - loss: 0.2348 - accuracy: 0.9005\n",
      "Epoch 6/50\n",
      "39/39 - 1s - loss: 0.2329 - accuracy: 0.8948\n",
      "Epoch 7/50\n",
      "39/39 - 1s - loss: 0.2248 - accuracy: 0.8997\n",
      "Epoch 8/50\n",
      "39/39 - 1s - loss: 0.2317 - accuracy: 0.8989\n",
      "Epoch 9/50\n",
      "39/39 - 1s - loss: 0.1994 - accuracy: 0.9086\n",
      "Epoch 10/50\n",
      "39/39 - 1s - loss: 0.2038 - accuracy: 0.9126\n",
      "Epoch 11/50\n",
      "39/39 - 1s - loss: 0.2119 - accuracy: 0.9094\n",
      "Epoch 12/50\n",
      "39/39 - 1s - loss: 0.2025 - accuracy: 0.9029\n",
      "Epoch 13/50\n",
      "39/39 - 1s - loss: 0.1940 - accuracy: 0.9183\n",
      "Epoch 14/50\n",
      "39/39 - 1s - loss: 0.1758 - accuracy: 0.9199\n",
      "Epoch 15/50\n",
      "39/39 - 1s - loss: 0.1937 - accuracy: 0.9191\n",
      "Epoch 16/50\n",
      "39/39 - 1s - loss: 0.1999 - accuracy: 0.9070\n",
      "Epoch 17/50\n",
      "39/39 - 1s - loss: 0.1853 - accuracy: 0.9183\n",
      "Epoch 18/50\n",
      "39/39 - 1s - loss: 0.1761 - accuracy: 0.9159\n",
      "Epoch 19/50\n",
      "39/39 - 1s - loss: 0.1767 - accuracy: 0.9134\n",
      "Epoch 20/50\n",
      "39/39 - 1s - loss: 0.1553 - accuracy: 0.9256\n",
      "Epoch 21/50\n",
      "39/39 - 1s - loss: 0.1804 - accuracy: 0.9126\n",
      "Epoch 22/50\n",
      "39/39 - 1s - loss: 0.1777 - accuracy: 0.9256\n",
      "Epoch 23/50\n",
      "39/39 - 1s - loss: 0.1918 - accuracy: 0.9142\n",
      "Epoch 24/50\n",
      "39/39 - 1s - loss: 0.1616 - accuracy: 0.9248\n",
      "Epoch 25/50\n",
      "39/39 - 1s - loss: 0.1464 - accuracy: 0.9215\n",
      "Epoch 26/50\n",
      "39/39 - 1s - loss: 0.1502 - accuracy: 0.9296\n",
      "Epoch 27/50\n",
      "39/39 - 1s - loss: 0.1602 - accuracy: 0.9167\n",
      "Epoch 28/50\n",
      "39/39 - 1s - loss: 0.1995 - accuracy: 0.9045\n",
      "Epoch 29/50\n",
      "39/39 - 1s - loss: 0.2015 - accuracy: 0.9223\n",
      "Epoch 30/50\n",
      "39/39 - 1s - loss: 0.1594 - accuracy: 0.9199\n",
      "Epoch 31/50\n",
      "39/39 - 1s - loss: 0.1885 - accuracy: 0.9094\n",
      "Epoch 32/50\n",
      "39/39 - 1s - loss: 0.1827 - accuracy: 0.9061\n",
      "Epoch 33/50\n",
      "39/39 - 1s - loss: 0.1574 - accuracy: 0.9248\n",
      "Epoch 34/50\n",
      "39/39 - 1s - loss: 0.1493 - accuracy: 0.9191\n",
      "Epoch 35/50\n",
      "39/39 - 1s - loss: 0.1525 - accuracy: 0.9207\n",
      "Epoch 36/50\n",
      "39/39 - 1s - loss: 0.1642 - accuracy: 0.9345\n",
      "Epoch 37/50\n",
      "39/39 - 1s - loss: 0.1559 - accuracy: 0.9086\n",
      "Epoch 38/50\n",
      "39/39 - 1s - loss: 0.1549 - accuracy: 0.9231\n",
      "Epoch 39/50\n",
      "39/39 - 1s - loss: 0.1332 - accuracy: 0.9361\n",
      "Epoch 40/50\n",
      "39/39 - 1s - loss: 0.1347 - accuracy: 0.9320\n",
      "Epoch 41/50\n",
      "39/39 - 1s - loss: 0.1479 - accuracy: 0.9288\n",
      "Epoch 42/50\n",
      "39/39 - 1s - loss: 0.1427 - accuracy: 0.9304\n",
      "Epoch 43/50\n",
      "39/39 - 1s - loss: 0.1475 - accuracy: 0.9296\n",
      "Epoch 44/50\n",
      "39/39 - 1s - loss: 0.1693 - accuracy: 0.9167\n",
      "Epoch 45/50\n",
      "39/39 - 1s - loss: 0.1472 - accuracy: 0.9272\n",
      "Epoch 46/50\n",
      "39/39 - 1s - loss: 0.2115 - accuracy: 0.8924\n",
      "Epoch 47/50\n",
      "39/39 - 1s - loss: 0.1576 - accuracy: 0.9207\n",
      "Epoch 48/50\n",
      "39/39 - 1s - loss: 0.1367 - accuracy: 0.9312\n",
      "Epoch 49/50\n",
      "39/39 - 1s - loss: 0.1361 - accuracy: 0.9328\n",
      "Epoch 50/50\n",
      "39/39 - 1s - loss: 0.1498 - accuracy: 0.9256\n",
      "10/10 - 1s\n",
      "Normalized confusion matrix\n",
      "                 precision    recall  f1-score   support\n",
      "\n",
      "air conditioner       1.00      0.94      0.97        34\n",
      "       computer       0.98      0.99      0.98        92\n",
      "         fridge       0.97      0.89      0.93       167\n",
      "     television       0.42      0.81      0.55        16\n",
      "\n",
      "       accuracy                           0.92       309\n",
      "      macro avg       0.84      0.91      0.86       309\n",
      "   weighted avg       0.95      0.92      0.93       309\n",
      "\n",
      "using dataset data iawe training on model ukdale seed 82\n",
      "reading data, printing stats: \n",
      "['air conditioner', 'computer', 'fridge', 'television']\n",
      "{0: 2.2888888888888888, 1: 0.8442622950819673, 2: 0.46119402985074626, 3: 4.753846153846154}\n",
      " \n",
      "Tests \n",
      "air conditioner test: 34 train: 135\n",
      "computer test: 92 train: 366\n",
      "fridge test: 167 train: 670\n",
      "television test: 16 train: 65\n",
      "loading model\n",
      "compling TL model..\n"
     ]
    },
    {
     "name": "stderr",
     "output_type": "stream",
     "text": [
      "/usr/local/lib/python3.8/dist-packages/tensorflow/python/keras/optimizer_v2/optimizer_v2.py:374: UserWarning: The `lr` argument is deprecated, use `learning_rate` instead.\n",
      "  warnings.warn(\n"
     ]
    },
    {
     "name": "stdout",
     "output_type": "stream",
     "text": [
      "Normal way\n",
      "[0 1 2 3 4 5 6 7 8 9]\n",
      "Epoch 1/50\n",
      "39/39 - 4s - loss: 0.8193 - accuracy: 0.5890\n",
      "Epoch 2/50\n",
      "39/39 - 1s - loss: 0.3167 - accuracy: 0.8649\n",
      "Epoch 3/50\n",
      "39/39 - 1s - loss: 0.2351 - accuracy: 0.8948\n",
      "Epoch 4/50\n",
      "39/39 - 1s - loss: 0.2208 - accuracy: 0.9078\n",
      "Epoch 5/50\n",
      "39/39 - 1s - loss: 0.1917 - accuracy: 0.9248\n",
      "Epoch 6/50\n",
      "39/39 - 1s - loss: 0.1619 - accuracy: 0.9248\n",
      "Epoch 7/50\n",
      "39/39 - 1s - loss: 0.1664 - accuracy: 0.9264\n",
      "Epoch 8/50\n",
      "39/39 - 1s - loss: 0.1398 - accuracy: 0.9369\n",
      "Epoch 9/50\n",
      "39/39 - 1s - loss: 0.1517 - accuracy: 0.9345\n",
      "Epoch 10/50\n",
      "39/39 - 1s - loss: 0.1320 - accuracy: 0.9458\n",
      "Epoch 11/50\n",
      "39/39 - 1s - loss: 0.1281 - accuracy: 0.9369\n",
      "Epoch 12/50\n",
      "39/39 - 1s - loss: 0.0966 - accuracy: 0.9555\n",
      "Epoch 13/50\n",
      "39/39 - 1s - loss: 0.1440 - accuracy: 0.9345\n",
      "Epoch 14/50\n",
      "39/39 - 1s - loss: 0.1312 - accuracy: 0.9466\n",
      "Epoch 15/50\n",
      "39/39 - 1s - loss: 0.1139 - accuracy: 0.9434\n",
      "Epoch 16/50\n",
      "39/39 - 1s - loss: 0.1256 - accuracy: 0.9385\n",
      "Epoch 17/50\n",
      "39/39 - 1s - loss: 0.1102 - accuracy: 0.9450\n",
      "Epoch 18/50\n",
      "39/39 - 1s - loss: 0.1159 - accuracy: 0.9466\n",
      "Epoch 19/50\n",
      "39/39 - 1s - loss: 0.1182 - accuracy: 0.9506\n",
      "Epoch 20/50\n",
      "39/39 - 1s - loss: 0.1091 - accuracy: 0.9506\n",
      "Epoch 21/50\n",
      "39/39 - 1s - loss: 0.0851 - accuracy: 0.9595\n",
      "Epoch 22/50\n",
      "39/39 - 1s - loss: 0.0836 - accuracy: 0.9612\n",
      "Epoch 23/50\n",
      "39/39 - 1s - loss: 0.0765 - accuracy: 0.9636\n",
      "Epoch 24/50\n",
      "39/39 - 1s - loss: 0.1145 - accuracy: 0.9506\n",
      "Epoch 25/50\n",
      "39/39 - 1s - loss: 0.1039 - accuracy: 0.9571\n",
      "Epoch 26/50\n",
      "39/39 - 1s - loss: 0.0900 - accuracy: 0.9523\n",
      "Epoch 27/50\n",
      "39/39 - 1s - loss: 0.0992 - accuracy: 0.9539\n",
      "Epoch 28/50\n",
      "39/39 - 1s - loss: 0.0838 - accuracy: 0.9587\n",
      "Epoch 29/50\n",
      "39/39 - 1s - loss: 0.0833 - accuracy: 0.9506\n",
      "Epoch 30/50\n",
      "39/39 - 1s - loss: 0.1030 - accuracy: 0.9474\n",
      "Epoch 31/50\n",
      "39/39 - 1s - loss: 0.0790 - accuracy: 0.9701\n",
      "Epoch 32/50\n",
      "39/39 - 1s - loss: 0.0551 - accuracy: 0.9693\n",
      "Epoch 33/50\n",
      "39/39 - 1s - loss: 0.1059 - accuracy: 0.9612\n",
      "Epoch 34/50\n",
      "39/39 - 1s - loss: 0.0991 - accuracy: 0.9555\n",
      "Epoch 35/50\n",
      "39/39 - 1s - loss: 0.0830 - accuracy: 0.9490\n",
      "Epoch 36/50\n",
      "39/39 - 1s - loss: 0.0799 - accuracy: 0.9620\n",
      "Epoch 37/50\n",
      "39/39 - 1s - loss: 0.0701 - accuracy: 0.9579\n",
      "Epoch 38/50\n",
      "39/39 - 1s - loss: 0.0728 - accuracy: 0.9620\n",
      "Epoch 39/50\n",
      "39/39 - 1s - loss: 0.0678 - accuracy: 0.9668\n",
      "Epoch 40/50\n",
      "39/39 - 1s - loss: 0.0680 - accuracy: 0.9676\n",
      "Epoch 41/50\n",
      "39/39 - 1s - loss: 0.0631 - accuracy: 0.9709\n",
      "Epoch 42/50\n",
      "39/39 - 1s - loss: 0.0732 - accuracy: 0.9660\n",
      "Epoch 43/50\n",
      "39/39 - 1s - loss: 0.0764 - accuracy: 0.9644\n",
      "Epoch 44/50\n",
      "39/39 - 1s - loss: 0.0902 - accuracy: 0.9579\n",
      "Epoch 45/50\n",
      "39/39 - 1s - loss: 0.0797 - accuracy: 0.9604\n",
      "Epoch 46/50\n",
      "39/39 - 1s - loss: 0.0873 - accuracy: 0.9563\n",
      "Epoch 47/50\n",
      "39/39 - 1s - loss: 0.0720 - accuracy: 0.9620\n",
      "Epoch 48/50\n",
      "39/39 - 1s - loss: 0.0904 - accuracy: 0.9693\n",
      "Epoch 49/50\n",
      "39/39 - 1s - loss: 0.0650 - accuracy: 0.9644\n",
      "Epoch 50/50\n",
      "39/39 - 1s - loss: 0.0692 - accuracy: 0.9604\n",
      "10/10 - 1s\n",
      "Normalized confusion matrix\n",
      "                 precision    recall  f1-score   support\n",
      "\n",
      "air conditioner       0.97      0.94      0.96        34\n",
      "       computer       0.98      1.00      0.99        92\n",
      "         fridge       0.99      0.94      0.96       167\n",
      "     television       0.61      0.88      0.72        16\n",
      "\n",
      "       accuracy                           0.95       309\n",
      "      macro avg       0.89      0.94      0.91       309\n",
      "   weighted avg       0.96      0.95      0.96       309\n",
      "\n"
     ]
    },
    {
     "data": {
      "image/png": "[encoded data removed]",
      "text/plain": [
       "<Figure size 720x720 with 2 Axes>"
      ]
     },
     "metadata": {
      "needs_background": "light"
     },
     "output_type": "display_data"
    },
    {
     "data": {
      "image/png": "[encoded data removed]",
      "text/plain": [
       "<Figure size 720x720 with 2 Axes>"
      ]
     },
     "metadata": {
      "needs_background": "light"
     },
     "output_type": "display_data"
    },
    {
     "data": {
      "image/png": "[encoded data removed]",
      "text/plain": [
       "<Figure size 720x720 with 2 Axes>"
      ]
     },
     "metadata": {
      "needs_background": "light"
     },
     "output_type": "display_data"
    },
    {
     "data": {
      "image/png": "[encoded data removed]",
      "text/plain": [
       "<Figure size 720x720 with 2 Axes>"
      ]
     },
     "metadata": {
      "needs_background": "light"
     },
     "output_type": "display_data"
    }
   ],
   "source": [
    "# datasets =[\n",
    "#     \"ukdale_gen_GASF_13m_100S5X12A54480_R82_80-20\"\n",
    "# ]\n",
    "\n",
    "if environ['train_type'] == \"TL\": \n",
    "    models = environ['tl_datasets'].replace(\" \",\"\").split(\",\")\n",
    "    #model = [\"base\"]\n",
    "    \n",
    "    for model in models:\n",
    "    \n",
    "        file_name = dataset\n",
    "        \n",
    "        datasetTL = model\n",
    "        \n",
    "        seed = dataset.split(\"_R\")[1][0:2]\n",
    "        \n",
    "        print(\"using dataset data\",dataset.split(\"_\")[0],\"training on model\",model,\"seed\",environ['seed'])\n",
    "        txt_log.write(\"starting \"+dataset.split(\"_\")[0]+\" training on model \"+model+\" seed \"+environ['seed']+\"\\n\")\n",
    "\n",
    "\n",
    "        tf.keras.backend.clear_session()\n",
    "\n",
    "\n",
    "        #read the file\n",
    "        path = str(pathlib.Path().resolve())\n",
    "        path_data = f\"{path}\"\"/data/\"f\"{file_name}\"\"/\"f\"{file_name}\"\".hdf5\"\n",
    "        file = h5py.File(path_data,\"r+\")\n",
    "\n",
    "\n",
    "        print(\"reading data, printing stats: \")\n",
    "        x_test,y_test,d_class_weights,num_of_classes,appliances = get_data(file)\n",
    "        print(\"loading model\")\n",
    "        \n",
    "        model_seed = 42\n",
    "        model_used = create_tl_model(model,environ['learn_type'],model_seed,path,num_of_classes)\n",
    "                \n",
    "        train_gen = HDF5ImageGenerator(\n",
    "            src= path_data,\n",
    "            X_key=\"data/train/gaf\",\n",
    "            y_key=\"labels/train/gaf\",\n",
    "            classes_key=\"appliances/classes\",\n",
    "            labels_encoding=\"hot\",\n",
    "            shuffle=True,\n",
    "            batch_size=int(environ['batch_size']),\n",
    "            num_classes=num_of_classes,\n",
    "            mode=\"train\",\n",
    "            )\n",
    "\n",
    "        model_used.fit(\n",
    "            train_gen,\n",
    "            verbose=2,\n",
    "            epochs=int(environ['epochs']),\n",
    "            class_weight=d_class_weights,\n",
    "            callbacks = [save_op_callback]\n",
    "            #workers = 6,\n",
    "        )\n",
    "        \n",
    "        txt_log.write(\"finished \"+dataset.split(\"_\")[0]+\" training on model \"+model+\" seed \"+environ['seed']+\"\\n\")\n",
    "\n",
    "\n",
    "        evaluate_model(model_used,x_test,y_test,appliances)\n",
    "        \n",
    "\n",
    "\n",
    "\n",
    "        #del model_used\n",
    "\n"
   ]
  },
  {
   "cell_type": "code",
   "execution_count": 16,
   "metadata": {
    "execution": {
     "iopub.execute_input": "2022-02-11T19:47:31.512871Z",
     "iopub.status.busy": "2022-02-11T19:47:31.511580Z",
     "iopub.status.idle": "2022-02-11T19:47:31.514241Z",
     "shell.execute_reply": "2022-02-11T19:47:31.515284Z"
    }
   },
   "outputs": [],
   "source": [
    "txt_log.close()"
   ]
  },
  {
   "cell_type": "code",
   "execution_count": null,
   "metadata": {},
   "outputs": [],
   "source": []
  }
 ],
 "metadata": {
  "colab": {
   "authorship_tag": "ABX9TyMej4PvP65qsLng7TnQKWA4",
   "name": "LSTM-gen",
   "provenance": []
  },
  "kernelspec": {
   "display_name": "Python 3 (ipykernel)",
   "language": "python",
   "name": "python3"
  },
  "language_info": {
   "codemirror_mode": {
    "name": "ipython",
    "version": 3
   },
   "file_extension": ".py",
   "mimetype": "text/x-python",
   "name": "python",
   "nbconvert_exporter": "python",
   "pygments_lexer": "ipython3",
   "version": "3.8.10"
  }
 },
 "nbformat": 4,
 "nbformat_minor": 4
}
