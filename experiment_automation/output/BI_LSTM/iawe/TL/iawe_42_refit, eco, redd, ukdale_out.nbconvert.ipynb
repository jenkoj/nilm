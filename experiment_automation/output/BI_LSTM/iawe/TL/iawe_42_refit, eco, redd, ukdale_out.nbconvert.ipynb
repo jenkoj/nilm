{
 "cells": [
  {
   "cell_type": "code",
   "execution_count": 1,
   "metadata": {
    "execution": {
     "iopub.execute_input": "2022-02-11T19:38:34.113263Z",
     "iopub.status.busy": "2022-02-11T19:38:34.111793Z",
     "iopub.status.idle": "2022-02-11T19:38:35.804534Z",
     "shell.execute_reply": "2022-02-11T19:38:35.803203Z"
    },
    "id": "WqUfHWgtJxtu",
    "scrolled": true,
    "tags": []
   },
   "outputs": [
    {
     "name": "stderr",
     "output_type": "stream",
     "text": [
      "2022-02-11 19:38:34.937538: I tensorflow/stream_executor/platform/default/dso_loader.cc:54] Successfully opened dynamic library libcudart.so.11.0\n"
     ]
    },
    {
     "name": "stdout",
     "output_type": "stream",
     "text": [
      "2.5.0\n",
      "Num GPUs Available:  1\n"
     ]
    },
    {
     "name": "stderr",
     "output_type": "stream",
     "text": [
      "2022-02-11 19:38:35.738412: I tensorflow/stream_executor/platform/default/dso_loader.cc:54] Successfully opened dynamic library libcuda.so.1\n",
      "2022-02-11 19:38:35.783453: I tensorflow/core/common_runtime/gpu/gpu_device.cc:1734] Found device 0 with properties: \n",
      "pciBusID: 0000:21:00.0 name: NVIDIA GeForce RTX 2080 Ti computeCapability: 7.5\n",
      "coreClock: 1.545GHz coreCount: 68 deviceMemorySize: 10.76GiB deviceMemoryBandwidth: 573.69GiB/s\n",
      "2022-02-11 19:38:35.783511: I tensorflow/stream_executor/platform/default/dso_loader.cc:54] Successfully opened dynamic library libcudart.so.11.0\n",
      "2022-02-11 19:38:35.788169: I tensorflow/stream_executor/platform/default/dso_loader.cc:54] Successfully opened dynamic library libcublas.so.11\n",
      "2022-02-11 19:38:35.788234: I tensorflow/stream_executor/platform/default/dso_loader.cc:54] Successfully opened dynamic library libcublasLt.so.11\n",
      "2022-02-11 19:38:35.790207: I tensorflow/stream_executor/platform/default/dso_loader.cc:54] Successfully opened dynamic library libcufft.so.10\n",
      "2022-02-11 19:38:35.790542: I tensorflow/stream_executor/platform/default/dso_loader.cc:54] Successfully opened dynamic library libcurand.so.10\n",
      "2022-02-11 19:38:35.791388: I tensorflow/stream_executor/platform/default/dso_loader.cc:54] Successfully opened dynamic library libcutensor.so.1\n",
      "2022-02-11 19:38:35.792027: I tensorflow/stream_executor/platform/default/dso_loader.cc:54] Successfully opened dynamic library libcusolver.so.11\n",
      "2022-02-11 19:38:35.793030: I tensorflow/stream_executor/platform/default/dso_loader.cc:54] Successfully opened dynamic library libcusparse.so.11\n",
      "2022-02-11 19:38:35.793195: I tensorflow/stream_executor/platform/default/dso_loader.cc:54] Successfully opened dynamic library libcudnn.so.8\n",
      "2022-02-11 19:38:35.793640: I tensorflow/core/common_runtime/gpu/gpu_device.cc:1872] Adding visible gpu devices: 0\n"
     ]
    }
   ],
   "source": [
    "import h5py\n",
    "import numpy as np\n",
    "\n",
    "from sklearn.model_selection import train_test_split\n",
    "from sklearn.metrics import classification_report, confusion_matrix\n",
    "import matplotlib.pyplot as plt\n",
    "import itertools \n",
    "import pyts\n",
    "from pyts.approximation import PiecewiseAggregateApproximation\n",
    "\n",
    "from sklearn.utils import class_weight\n",
    "\n",
    "import pathlib\n",
    "import tensorflow as tf\n",
    "from tensorflow import keras\n",
    "from tensorflow.keras import layers, optimizers\n",
    "from tensorflow.keras.layers import Convolution2D,Conv2D, Dense,Dropout, Flatten, Activation, MaxPooling2D, Input, Conv1D, GlobalAveragePooling1D, TimeDistributed, GRU, LSTM\n",
    "\n",
    "print(tf.__version__)\n",
    "print(\"Num GPUs Available: \", len(tf.config.list_physical_devices('GPU')))\n",
    "gpus = tf.config.experimental.list_physical_devices('GPU')\n",
    "\n",
    "try:\n",
    "    for gpu in gpus:\n",
    "        tf.config.experimental.set_memory_growth(gpu, True)\n",
    "except RuntimeError as e:\n",
    "    print(e)"
   ]
  },
  {
   "cell_type": "code",
   "execution_count": 2,
   "metadata": {
    "execution": {
     "iopub.execute_input": "2022-02-11T19:38:35.813115Z",
     "iopub.status.busy": "2022-02-11T19:38:35.811800Z",
     "iopub.status.idle": "2022-02-11T19:38:35.816932Z",
     "shell.execute_reply": "2022-02-11T19:38:35.816094Z"
    }
   },
   "outputs": [
    {
     "name": "stdout",
     "output_type": "stream",
     "text": [
      "iawe_gen_GASF_13m_100S5X4A1545_R42_80-20\n"
     ]
    }
   ],
   "source": [
    "from os import environ\n",
    "dataset = environ['dataset']\n",
    "print(dataset)"
   ]
  },
  {
   "cell_type": "code",
   "execution_count": 3,
   "metadata": {
    "execution": {
     "iopub.execute_input": "2022-02-11T19:38:35.824174Z",
     "iopub.status.busy": "2022-02-11T19:38:35.823413Z",
     "iopub.status.idle": "2022-02-11T19:38:35.830298Z",
     "shell.execute_reply": "2022-02-11T19:38:35.831065Z"
    }
   },
   "outputs": [],
   "source": [
    "#my defs \n",
    "from modules.models import  LSTM_3D_V56, CNN_V56,LSTM_BI_V56\n",
    "from modules.tools import my_print, plot_confusion_matrix_norm, get_data,get_data_split, evaluate_model, create_tl_model\n",
    "from modules.HDF5ImageGenerator import HDF5ImageGenerator"
   ]
  },
  {
   "cell_type": "code",
   "execution_count": 4,
   "metadata": {
    "execution": {
     "iopub.execute_input": "2022-02-11T19:38:35.842564Z",
     "iopub.status.busy": "2022-02-11T19:38:35.841350Z",
     "iopub.status.idle": "2022-02-11T19:38:35.844839Z",
     "shell.execute_reply": "2022-02-11T19:38:35.845788Z"
    },
    "id": "RT1vwq7-KOtB"
   },
   "outputs": [],
   "source": [
    "#LOAD DATASET\n",
    "#file_name = \"ukdale_gen_GASF_13m_100S5X12A54480\"\n",
    "#file_name = \"refit_gen_GASF_13m_100S5X_15A166006\"\n",
    "file_name = \"refit_gen_GASF_13m_100S5X_15A166006_R42-80-20\"\n",
    "#file_name = \"refit_gen_GASF_13m_100S5X_15A166006_R42_80-20\"\n",
    "file_name = \"refit_gen_GASF_60m_300S0X_15A157030N_R12_80-20-V1\"\n",
    "file_name = environ[\"dataset\"]\n",
    "#read the file\n",
    "path = str(pathlib.Path().resolve())\n",
    "\n",
    "path_data = f\"{path}\"\"/data/\"f\"{file_name}\"\"/\"f\"{file_name}\"\".hdf5\"\n",
    "\n",
    "file = h5py.File(path_data,\"r+\")"
   ]
  },
  {
   "cell_type": "code",
   "execution_count": 5,
   "metadata": {
    "execution": {
     "iopub.execute_input": "2022-02-11T19:38:35.853845Z",
     "iopub.status.busy": "2022-02-11T19:38:35.852659Z",
     "iopub.status.idle": "2022-02-11T19:38:35.928900Z",
     "shell.execute_reply": "2022-02-11T19:38:35.929908Z"
    },
    "scrolled": true
   },
   "outputs": [
    {
     "name": "stdout",
     "output_type": "stream",
     "text": [
      "['air conditioner', 'computer', 'fridge', 'television']\n",
      "{0: 2.2888888888888888, 1: 0.8442622950819673, 2: 0.46119402985074626, 3: 4.753846153846154}\n",
      " \n",
      "Tests \n",
      "air conditioner test: 34 train: 135\n",
      "computer test: 92 train: 366\n",
      "fridge test: 167 train: 670\n",
      "television test: 16 train: 65\n"
     ]
    }
   ],
   "source": [
    "x_test,y_test,d_class_weights,num_of_classes,appliances = get_data(file)"
   ]
  },
  {
   "cell_type": "code",
   "execution_count": 6,
   "metadata": {
    "execution": {
     "iopub.execute_input": "2022-02-11T19:38:35.937251Z",
     "iopub.status.busy": "2022-02-11T19:38:35.935981Z",
     "iopub.status.idle": "2022-02-11T19:38:35.938528Z",
     "shell.execute_reply": "2022-02-11T19:38:35.939496Z"
    }
   },
   "outputs": [],
   "source": [
    "def select_model(learn_type):\n",
    "    \n",
    "    if learn_type == \"CNN\":\n",
    "        model = CNN_V56(file[\"data/train/gaf\"][0:10],num_of_classes,lr= 0.00002)\n",
    "\n",
    "    if learn_type == \"LSTM\":\n",
    "        model = LSTM_3D_V56(file[\"data/train/gaf\"][0:10],num_of_classes,lr= 0.00002)\n",
    "\n",
    "    if learn_type == \"BI_LSTM\":\n",
    "        model = LSTM_BI_V56(file[\"data/train/gaf\"][0:10],num_of_classes,lr= 0.00002)\n",
    "\n",
    "    return model\n",
    "              "
   ]
  },
  {
   "cell_type": "code",
   "execution_count": 7,
   "metadata": {
    "execution": {
     "iopub.execute_input": "2022-02-11T19:38:35.946459Z",
     "iopub.status.busy": "2022-02-11T19:38:35.945258Z",
     "iopub.status.idle": "2022-02-11T19:38:35.947746Z",
     "shell.execute_reply": "2022-02-11T19:38:35.948728Z"
    }
   },
   "outputs": [],
   "source": [
    "path_save = path+'/experiment_automation/output/'+environ['learn_type']+'/'+dataset.split(\"_\")[0]+\"/\"+environ['train_type']+\"/\"+dataset.split(\"_\")[0]+\"_\"+environ['seed']+\"_\"+environ['tl_datasets']\n",
    "path_save_nb = path_save+\"_out.ipynb\"\n",
    "path_save_log = path_save+\"_out_log2.txt\""
   ]
  },
  {
   "cell_type": "code",
   "execution_count": 8,
   "metadata": {
    "execution": {
     "iopub.execute_input": "2022-02-11T19:38:35.956895Z",
     "iopub.status.busy": "2022-02-11T19:38:35.955663Z",
     "iopub.status.idle": "2022-02-11T19:38:36.045031Z",
     "shell.execute_reply": "2022-02-11T19:38:36.043966Z"
    }
   },
   "outputs": [],
   "source": [
    "from keras.callbacks import LambdaCallback\n",
    "#path_log= path+'/experiment_automation/output/'+environ['learn_type']+'/'+dataset.split(\"_\")[0]+\"/\"+environ['train_type']+\"/\"+dataset.split(\"_\")[0]+\"_\"+environ['seed']+\"_\"+environ['tl_datasets']+\"_log.txt\"\n",
    "txt_log = open(path_save+\"_log.txt\", mode='wt', buffering=1)\n",
    "txt_log.write(\"file created! \\n\")\n",
    "\n",
    "save_op_callback = LambdaCallback(\n",
    "  on_epoch_end = lambda epoch, logs: txt_log.write(\n",
    "    str({'epoch': epoch, 'loss': logs['loss'],'acc': logs['accuracy']}) + '\\n'),\n",
    "                                                           \n",
    ")"
   ]
  },
  {
   "cell_type": "code",
   "execution_count": 9,
   "metadata": {
    "execution": {
     "iopub.execute_input": "2022-02-11T19:38:36.050646Z",
     "iopub.status.busy": "2022-02-11T19:38:36.049472Z",
     "iopub.status.idle": "2022-02-11T19:38:36.054448Z",
     "shell.execute_reply": "2022-02-11T19:38:36.053416Z"
    }
   },
   "outputs": [
    {
     "name": "stdout",
     "output_type": "stream",
     "text": [
      "/workspace/notebooks/experiment_automation/output/BI_LSTM/iawe/TL/iawe_42_refit, eco, redd, ukdale_out.ipynb\n"
     ]
    }
   ],
   "source": [
    "print(path_save_nb)"
   ]
  },
  {
   "cell_type": "code",
   "execution_count": 10,
   "metadata": {
    "execution": {
     "iopub.execute_input": "2022-02-11T19:38:36.059483Z",
     "iopub.status.busy": "2022-02-11T19:38:36.058462Z",
     "iopub.status.idle": "2022-02-11T19:38:36.060594Z",
     "shell.execute_reply": "2022-02-11T19:38:36.061426Z"
    }
   },
   "outputs": [],
   "source": [
    "# rm $path_save_log"
   ]
  },
  {
   "cell_type": "code",
   "execution_count": 11,
   "metadata": {
    "execution": {
     "iopub.execute_input": "2022-02-11T19:38:36.066501Z",
     "iopub.status.busy": "2022-02-11T19:38:36.065471Z",
     "iopub.status.idle": "2022-02-11T19:38:36.067702Z",
     "shell.execute_reply": "2022-02-11T19:38:36.068574Z"
    }
   },
   "outputs": [],
   "source": [
    "# %%capture cap \n",
    "\n",
    "# with open(path_save_log,\"wt\") as f:\n",
    "#     f.write(cap.stdout)\n",
    "    \n",
    "# print(\"out capture..\")"
   ]
  },
  {
   "cell_type": "code",
   "execution_count": 12,
   "metadata": {
    "execution": {
     "iopub.execute_input": "2022-02-11T19:38:36.082616Z",
     "iopub.status.busy": "2022-02-11T19:38:36.081387Z",
     "iopub.status.idle": "2022-02-11T19:38:36.083884Z",
     "shell.execute_reply": "2022-02-11T19:38:36.084877Z"
    },
    "id": "vqA9NwOqKrb5",
    "jupyter": {
     "outputs_hidden": true
    },
    "tags": []
   },
   "outputs": [],
   "source": [
    "# %%capture cap --no-stderr\n",
    "\n",
    "\n",
    "if environ['train_type'] == \"BB\":\n",
    "\n",
    "    #define generator\n",
    "    train_gen = HDF5ImageGenerator(\n",
    "        src= path_data,\n",
    "        X_key=\"data/train/gaf\",\n",
    "        y_key=\"labels/train/gaf\",\n",
    "        classes_key=\"appliances/classes\",\n",
    "        labels_encoding=\"hot\",\n",
    "        shuffle=True,\n",
    "        batch_size=int(environ['batch_size']),\n",
    "        num_classes=num_of_classes,\n",
    "        mode=\"train\",\n",
    "        )\n",
    "    \n",
    "    model = select_model(environ['learn_type'])\n",
    "    \n",
    "    txt_log.write(\"fitting BB model: \\n\")\n",
    "    \n",
    "    model.fit(\n",
    "        train_gen,\n",
    "        verbose=2,\n",
    "        epochs=int(environ['epochs']),\n",
    "        class_weight=d_class_weights,\n",
    "        callbacks = [save_op_callback],\n",
    "    )\n",
    "    \n",
    "    txt_log.write(\"finished fitting BB model: \\n\")\n",
    "\n",
    "    evaluate_model(model,x_test,y_test,appliances)\n",
    "    \n",
    "    if environ['save_model']==\"True\":\n",
    "\n",
    "        path_model_save = path+\"/models/\"+environ['learn_type']+\"/\"+dataset.split(\"_\")[0]+\"_\"+dataset.split(\"_R\")[1][0:2]\n",
    "        model.save(path_model_save)\n",
    "        txt_log.write(\"model saved to:\"+\"/models/\"+environ['learn_type']+\"/\"+dataset.split(\"_\")[0]+\"_\"+dataset.split(\"_R\")[1][0:2]+\" \\n\")\n",
    "        \n",
    "        \n",
    "# with open(path_save+\"_out_log.txt\" as f:\n",
    "#     f.write(cap.stdout)\n"
   ]
  },
  {
   "cell_type": "code",
   "execution_count": 13,
   "metadata": {
    "collapsed": true,
    "execution": {
     "iopub.execute_input": "2022-02-11T19:38:36.090865Z",
     "iopub.status.busy": "2022-02-11T19:38:36.089689Z",
     "iopub.status.idle": "2022-02-11T19:38:36.092275Z",
     "shell.execute_reply": "2022-02-11T19:38:36.093250Z"
    }
   },
   "outputs": [],
   "source": [
    "#model = keras.models.load_model(path_model1)\n",
    "# model_used = model"
   ]
  },
  {
   "cell_type": "code",
   "execution_count": 14,
   "metadata": {
    "collapsed": true,
    "execution": {
     "iopub.execute_input": "2022-02-11T19:38:36.099502Z",
     "iopub.status.busy": "2022-02-11T19:38:36.098320Z",
     "iopub.status.idle": "2022-02-11T19:38:36.101179Z",
     "shell.execute_reply": "2022-02-11T19:38:36.102154Z"
    },
    "jupyter": {
     "outputs_hidden": true
    },
    "tags": []
   },
   "outputs": [],
   "source": [
    "# evaluate_model(model,x_test,y_test,appliances)"
   ]
  },
  {
   "cell_type": "code",
   "execution_count": 15,
   "metadata": {
    "collapsed": true,
    "execution": {
     "iopub.execute_input": "2022-02-11T19:38:36.124733Z",
     "iopub.status.busy": "2022-02-11T19:38:36.111750Z",
     "iopub.status.idle": "2022-02-11T19:42:58.924771Z",
     "shell.execute_reply": "2022-02-11T19:42:58.925849Z"
    }
   },
   "outputs": [
    {
     "name": "stdout",
     "output_type": "stream",
     "text": [
      "using dataset data iawe training on model refit seed 42\n",
      "reading data, printing stats: \n",
      "['air conditioner', 'computer', 'fridge', 'television']\n",
      "{0: 2.2888888888888888, 1: 0.8442622950819673, 2: 0.46119402985074626, 3: 4.753846153846154}\n",
      " \n",
      "Tests \n",
      "air conditioner test: 34 train: 135\n",
      "computer test: 92 train: 366\n",
      "fridge test: 167 train: 670\n",
      "television test: 16 train: 65\n",
      "loading model\n",
      "compling TL model..\n"
     ]
    },
    {
     "name": "stderr",
     "output_type": "stream",
     "text": [
      "2022-02-11 19:38:36.336073: I tensorflow/core/common_runtime/gpu/gpu_device.cc:1734] Found device 0 with properties: \n",
      "pciBusID: 0000:21:00.0 name: NVIDIA GeForce RTX 2080 Ti computeCapability: 7.5\n",
      "coreClock: 1.545GHz coreCount: 68 deviceMemorySize: 10.76GiB deviceMemoryBandwidth: 573.69GiB/s\n",
      "2022-02-11 19:38:36.336420: I tensorflow/core/common_runtime/gpu/gpu_device.cc:1872] Adding visible gpu devices: 0\n",
      "2022-02-11 19:38:36.336469: I tensorflow/stream_executor/platform/default/dso_loader.cc:54] Successfully opened dynamic library libcudart.so.11.0\n",
      "2022-02-11 19:38:36.692154: I tensorflow/core/common_runtime/gpu/gpu_device.cc:1258] Device interconnect StreamExecutor with strength 1 edge matrix:\n",
      "2022-02-11 19:38:36.692204: I tensorflow/core/common_runtime/gpu/gpu_device.cc:1264]      0 \n",
      "2022-02-11 19:38:36.692211: I tensorflow/core/common_runtime/gpu/gpu_device.cc:1277] 0:   N \n",
      "2022-02-11 19:38:36.692783: I tensorflow/core/common_runtime/gpu/gpu_device.cc:1418] Created TensorFlow device (/job:localhost/replica:0/task:0/device:GPU:0 with 9649 MB memory) -> physical GPU (device: 0, name: NVIDIA GeForce RTX 2080 Ti, pci bus id: 0000:21:00.0, compute capability: 7.5)\n",
      "2022-02-11 19:38:36.693114: I tensorflow/core/common_runtime/process_util.cc:146] Creating new thread pool with default inter op setting: 20. Tune using inter_op_parallelism_threads for best performance.\n"
     ]
    },
    {
     "name": "stdout",
     "output_type": "stream",
     "text": [
      "Normal way\n",
      "[0 1 2 3 4 5 6 7 8 9]\n",
      "WARNING:tensorflow:From /usr/local/lib/python3.8/dist-packages/tensorflow/python/ops/array_ops.py:5043: calling gather (from tensorflow.python.ops.array_ops) with validate_indices is deprecated and will be removed in a future version.\n",
      "Instructions for updating:\n",
      "The `validate_indices` argument has no effect. Indices are always validated on CPU and never validated on GPU.\n"
     ]
    },
    {
     "name": "stderr",
     "output_type": "stream",
     "text": [
      "/usr/local/lib/python3.8/dist-packages/tensorflow/python/keras/optimizer_v2/optimizer_v2.py:374: UserWarning: The `lr` argument is deprecated, use `learning_rate` instead.\n",
      "  warnings.warn(\n",
      "2022-02-11 19:38:44.495731: I tensorflow/compiler/mlir/mlir_graph_optimization_pass.cc:176] None of the MLIR Optimization Passes are enabled (registered 2)\n",
      "2022-02-11 19:38:44.516629: I tensorflow/core/platform/profile_utils/cpu_utils.cc:114] CPU Frequency: 3299990000 Hz\n"
     ]
    },
    {
     "name": "stdout",
     "output_type": "stream",
     "text": [
      "Epoch 1/50\n"
     ]
    },
    {
     "name": "stderr",
     "output_type": "stream",
     "text": [
      "2022-02-11 19:38:47.961600: I tensorflow/stream_executor/platform/default/dso_loader.cc:54] Successfully opened dynamic library libcudnn.so.8\n",
      "2022-02-11 19:38:48.448080: I tensorflow/stream_executor/cuda/cuda_dnn.cc:380] Loaded cuDNN version 8202\n",
      "2022-02-11 19:38:48.940944: I tensorflow/stream_executor/platform/default/dso_loader.cc:54] Successfully opened dynamic library libcublas.so.11\n",
      "2022-02-11 19:38:49.352389: I tensorflow/stream_executor/platform/default/dso_loader.cc:54] Successfully opened dynamic library libcublasLt.so.11\n"
     ]
    },
    {
     "name": "stdout",
     "output_type": "stream",
     "text": [
      "39/39 - 6s - loss: 0.5975 - accuracy: 0.7273\n",
      "Epoch 2/50\n",
      "39/39 - 1s - loss: 0.2117 - accuracy: 0.9199\n",
      "Epoch 3/50\n",
      "39/39 - 1s - loss: 0.1621 - accuracy: 0.9272\n",
      "Epoch 4/50\n",
      "39/39 - 1s - loss: 0.1628 - accuracy: 0.9377\n",
      "Epoch 5/50\n",
      "39/39 - 1s - loss: 0.1416 - accuracy: 0.9442\n",
      "Epoch 6/50\n",
      "39/39 - 1s - loss: 0.1218 - accuracy: 0.9490\n",
      "Epoch 7/50\n",
      "39/39 - 1s - loss: 0.1101 - accuracy: 0.9555\n",
      "Epoch 8/50\n",
      "39/39 - 1s - loss: 0.1144 - accuracy: 0.9458\n",
      "Epoch 9/50\n",
      "39/39 - 1s - loss: 0.1196 - accuracy: 0.9361\n",
      "Epoch 10/50\n",
      "39/39 - 1s - loss: 0.1165 - accuracy: 0.9474\n",
      "Epoch 11/50\n",
      "39/39 - 1s - loss: 0.0912 - accuracy: 0.9579\n",
      "Epoch 12/50\n",
      "39/39 - 1s - loss: 0.0932 - accuracy: 0.9523\n",
      "Epoch 13/50\n",
      "39/39 - 1s - loss: 0.0730 - accuracy: 0.9595\n",
      "Epoch 14/50\n",
      "39/39 - 1s - loss: 0.1241 - accuracy: 0.9458\n",
      "Epoch 15/50\n",
      "39/39 - 1s - loss: 0.1031 - accuracy: 0.9547\n",
      "Epoch 16/50\n",
      "39/39 - 1s - loss: 0.0969 - accuracy: 0.9531\n",
      "Epoch 17/50\n",
      "39/39 - 1s - loss: 0.1060 - accuracy: 0.9458\n",
      "Epoch 18/50\n",
      "39/39 - 1s - loss: 0.0802 - accuracy: 0.9587\n",
      "Epoch 19/50\n",
      "39/39 - 1s - loss: 0.0730 - accuracy: 0.9612\n",
      "Epoch 20/50\n",
      "39/39 - 1s - loss: 0.0838 - accuracy: 0.9604\n",
      "Epoch 21/50\n",
      "39/39 - 1s - loss: 0.0870 - accuracy: 0.9539\n",
      "Epoch 22/50\n",
      "39/39 - 1s - loss: 0.1117 - accuracy: 0.9458\n",
      "Epoch 23/50\n",
      "39/39 - 1s - loss: 0.0917 - accuracy: 0.9604\n",
      "Epoch 24/50\n",
      "39/39 - 1s - loss: 0.0889 - accuracy: 0.9523\n",
      "Epoch 25/50\n",
      "39/39 - 1s - loss: 0.0941 - accuracy: 0.9571\n",
      "Epoch 26/50\n",
      "39/39 - 1s - loss: 0.0688 - accuracy: 0.9676\n",
      "Epoch 27/50\n",
      "39/39 - 1s - loss: 0.0727 - accuracy: 0.9628\n",
      "Epoch 28/50\n",
      "39/39 - 1s - loss: 0.1002 - accuracy: 0.9555\n",
      "Epoch 29/50\n",
      "39/39 - 1s - loss: 0.0642 - accuracy: 0.9644\n",
      "Epoch 30/50\n",
      "39/39 - 1s - loss: 0.0656 - accuracy: 0.9684\n",
      "Epoch 31/50\n",
      "39/39 - 1s - loss: 0.0851 - accuracy: 0.9595\n",
      "Epoch 32/50\n",
      "39/39 - 1s - loss: 0.0776 - accuracy: 0.9612\n",
      "Epoch 33/50\n",
      "39/39 - 1s - loss: 0.0641 - accuracy: 0.9676\n",
      "Epoch 34/50\n",
      "39/39 - 1s - loss: 0.0646 - accuracy: 0.9676\n",
      "Epoch 35/50\n",
      "39/39 - 1s - loss: 0.0872 - accuracy: 0.9539\n",
      "Epoch 36/50\n",
      "39/39 - 1s - loss: 0.0569 - accuracy: 0.9709\n",
      "Epoch 37/50\n",
      "39/39 - 1s - loss: 0.0571 - accuracy: 0.9668\n",
      "Epoch 38/50\n",
      "39/39 - 1s - loss: 0.0696 - accuracy: 0.9636\n",
      "Epoch 39/50\n",
      "39/39 - 1s - loss: 0.0647 - accuracy: 0.9693\n",
      "Epoch 40/50\n",
      "39/39 - 1s - loss: 0.0668 - accuracy: 0.9636\n",
      "Epoch 41/50\n",
      "39/39 - 1s - loss: 0.0655 - accuracy: 0.9693\n",
      "Epoch 42/50\n",
      "39/39 - 1s - loss: 0.0777 - accuracy: 0.9539\n",
      "Epoch 43/50\n",
      "39/39 - 1s - loss: 0.1018 - accuracy: 0.9531\n",
      "Epoch 44/50\n",
      "39/39 - 1s - loss: 0.0582 - accuracy: 0.9684\n",
      "Epoch 45/50\n",
      "39/39 - 1s - loss: 0.0525 - accuracy: 0.9676\n",
      "Epoch 46/50\n",
      "39/39 - 1s - loss: 0.0626 - accuracy: 0.9709\n",
      "Epoch 47/50\n",
      "39/39 - 1s - loss: 0.0937 - accuracy: 0.9506\n",
      "Epoch 48/50\n",
      "39/39 - 1s - loss: 0.0838 - accuracy: 0.9506\n",
      "Epoch 49/50\n",
      "39/39 - 1s - loss: 0.0528 - accuracy: 0.9733\n",
      "Epoch 50/50\n",
      "39/39 - 1s - loss: 0.0552 - accuracy: 0.9733\n",
      "10/10 - 1s\n",
      "Normalized confusion matrix\n",
      "                 precision    recall  f1-score   support\n",
      "\n",
      "air conditioner       1.00      1.00      1.00        34\n",
      "       computer       1.00      0.98      0.99        92\n",
      "         fridge       0.99      0.96      0.98       167\n",
      "     television       0.67      1.00      0.80        16\n",
      "\n",
      "       accuracy                           0.97       309\n",
      "      macro avg       0.92      0.98      0.94       309\n",
      "   weighted avg       0.98      0.97      0.97       309\n",
      "\n",
      "using dataset data iawe training on model eco seed 42\n",
      "reading data, printing stats: \n",
      "['air conditioner', 'computer', 'fridge', 'television']\n",
      "{0: 2.2888888888888888, 1: 0.8442622950819673, 2: 0.46119402985074626, 3: 4.753846153846154}\n",
      " \n",
      "Tests \n",
      "air conditioner test: 34 train: 135\n",
      "computer test: 92 train: 366\n",
      "fridge test: 167 train: 670\n",
      "television test: 16 train: 65\n",
      "loading model\n",
      "compling TL model..\n"
     ]
    },
    {
     "name": "stderr",
     "output_type": "stream",
     "text": [
      "/usr/local/lib/python3.8/dist-packages/tensorflow/python/keras/optimizer_v2/optimizer_v2.py:374: UserWarning: The `lr` argument is deprecated, use `learning_rate` instead.\n",
      "  warnings.warn(\n"
     ]
    },
    {
     "name": "stdout",
     "output_type": "stream",
     "text": [
      "Normal way\n",
      "[0 1 2 3 4 5 6 7 8 9]\n",
      "Epoch 1/50\n",
      "39/39 - 4s - loss: 0.8738 - accuracy: 0.4693\n",
      "Epoch 2/50\n",
      "39/39 - 1s - loss: 0.3312 - accuracy: 0.8722\n",
      "Epoch 3/50\n",
      "39/39 - 1s - loss: 0.2113 - accuracy: 0.9272\n",
      "Epoch 4/50\n",
      "39/39 - 1s - loss: 0.2170 - accuracy: 0.9175\n",
      "Epoch 5/50\n",
      "39/39 - 1s - loss: 0.1839 - accuracy: 0.9304\n",
      "Epoch 6/50\n",
      "39/39 - 1s - loss: 0.1697 - accuracy: 0.9385\n",
      "Epoch 7/50\n",
      "39/39 - 1s - loss: 0.1635 - accuracy: 0.9409\n",
      "Epoch 8/50\n",
      "39/39 - 1s - loss: 0.1389 - accuracy: 0.9417\n",
      "Epoch 9/50\n",
      "39/39 - 1s - loss: 0.1506 - accuracy: 0.9490\n",
      "Epoch 10/50\n",
      "39/39 - 1s - loss: 0.1407 - accuracy: 0.9353\n",
      "Epoch 11/50\n",
      "39/39 - 1s - loss: 0.1382 - accuracy: 0.9401\n",
      "Epoch 12/50\n",
      "39/39 - 1s - loss: 0.1292 - accuracy: 0.9579\n",
      "Epoch 13/50\n",
      "39/39 - 1s - loss: 0.1384 - accuracy: 0.9409\n",
      "Epoch 14/50\n",
      "39/39 - 1s - loss: 0.1139 - accuracy: 0.9547\n",
      "Epoch 15/50\n",
      "39/39 - 1s - loss: 0.1269 - accuracy: 0.9450\n",
      "Epoch 16/50\n",
      "39/39 - 1s - loss: 0.1327 - accuracy: 0.9369\n",
      "Epoch 17/50\n",
      "39/39 - 1s - loss: 0.1270 - accuracy: 0.9498\n",
      "Epoch 18/50\n",
      "39/39 - 1s - loss: 0.1078 - accuracy: 0.9523\n",
      "Epoch 19/50\n",
      "39/39 - 1s - loss: 0.1092 - accuracy: 0.9515\n",
      "Epoch 20/50\n",
      "39/39 - 1s - loss: 0.1173 - accuracy: 0.9506\n",
      "Epoch 21/50\n",
      "39/39 - 1s - loss: 0.1063 - accuracy: 0.9515\n",
      "Epoch 22/50\n",
      "39/39 - 1s - loss: 0.0949 - accuracy: 0.9644\n",
      "Epoch 23/50\n",
      "39/39 - 1s - loss: 0.0882 - accuracy: 0.9539\n",
      "Epoch 24/50\n",
      "39/39 - 1s - loss: 0.0752 - accuracy: 0.9620\n",
      "Epoch 25/50\n",
      "39/39 - 1s - loss: 0.1217 - accuracy: 0.9442\n",
      "Epoch 26/50\n",
      "39/39 - 1s - loss: 0.1000 - accuracy: 0.9571\n",
      "Epoch 27/50\n",
      "39/39 - 1s - loss: 0.1122 - accuracy: 0.9539\n",
      "Epoch 28/50\n",
      "39/39 - 1s - loss: 0.0861 - accuracy: 0.9587\n",
      "Epoch 29/50\n",
      "39/39 - 1s - loss: 0.1021 - accuracy: 0.9474\n",
      "Epoch 30/50\n",
      "39/39 - 1s - loss: 0.1209 - accuracy: 0.9506\n",
      "Epoch 31/50\n",
      "39/39 - 1s - loss: 0.0711 - accuracy: 0.9709\n",
      "Epoch 32/50\n",
      "39/39 - 1s - loss: 0.0780 - accuracy: 0.9636\n",
      "Epoch 33/50\n",
      "39/39 - 1s - loss: 0.0868 - accuracy: 0.9523\n",
      "Epoch 34/50\n",
      "39/39 - 1s - loss: 0.0645 - accuracy: 0.9741\n",
      "Epoch 35/50\n",
      "39/39 - 1s - loss: 0.0680 - accuracy: 0.9644\n",
      "Epoch 36/50\n",
      "39/39 - 1s - loss: 0.0941 - accuracy: 0.9531\n",
      "Epoch 37/50\n",
      "39/39 - 1s - loss: 0.0896 - accuracy: 0.9571\n",
      "Epoch 38/50\n",
      "39/39 - 1s - loss: 0.0987 - accuracy: 0.9531\n",
      "Epoch 39/50\n",
      "39/39 - 1s - loss: 0.0770 - accuracy: 0.9587\n",
      "Epoch 40/50\n",
      "39/39 - 1s - loss: 0.0943 - accuracy: 0.9579\n",
      "Epoch 41/50\n",
      "39/39 - 1s - loss: 0.0867 - accuracy: 0.9636\n",
      "Epoch 42/50\n",
      "39/39 - 1s - loss: 0.0849 - accuracy: 0.9547\n",
      "Epoch 43/50\n",
      "39/39 - 1s - loss: 0.0774 - accuracy: 0.9644\n",
      "Epoch 44/50\n",
      "39/39 - 1s - loss: 0.0725 - accuracy: 0.9644\n",
      "Epoch 45/50\n",
      "39/39 - 1s - loss: 0.0670 - accuracy: 0.9636\n",
      "Epoch 46/50\n",
      "39/39 - 1s - loss: 0.0765 - accuracy: 0.9684\n",
      "Epoch 47/50\n",
      "39/39 - 1s - loss: 0.0509 - accuracy: 0.9749\n",
      "Epoch 48/50\n",
      "39/39 - 1s - loss: 0.0739 - accuracy: 0.9579\n",
      "Epoch 49/50\n",
      "39/39 - 1s - loss: 0.0595 - accuracy: 0.9668\n",
      "Epoch 50/50\n",
      "39/39 - 1s - loss: 0.0846 - accuracy: 0.9498\n",
      "10/10 - 1s\n",
      "Normalized confusion matrix\n",
      "                 precision    recall  f1-score   support\n",
      "\n",
      "air conditioner       0.97      1.00      0.99        34\n",
      "       computer       0.91      0.97      0.94        92\n",
      "         fridge       0.98      0.90      0.94       167\n",
      "     television       0.68      0.94      0.79        16\n",
      "\n",
      "       accuracy                           0.94       309\n",
      "      macro avg       0.89      0.95      0.91       309\n",
      "   weighted avg       0.94      0.94      0.94       309\n",
      "\n",
      "using dataset data iawe training on model redd seed 42\n",
      "reading data, printing stats: \n",
      "['air conditioner', 'computer', 'fridge', 'television']\n",
      "{0: 2.2888888888888888, 1: 0.8442622950819673, 2: 0.46119402985074626, 3: 4.753846153846154}\n",
      " \n",
      "Tests \n",
      "air conditioner test: 34 train: 135\n",
      "computer test: 92 train: 366\n",
      "fridge test: 167 train: 670\n",
      "television test: 16 train: 65\n",
      "loading model\n",
      "compling TL model..\n"
     ]
    },
    {
     "name": "stderr",
     "output_type": "stream",
     "text": [
      "/usr/local/lib/python3.8/dist-packages/tensorflow/python/keras/optimizer_v2/optimizer_v2.py:374: UserWarning: The `lr` argument is deprecated, use `learning_rate` instead.\n",
      "  warnings.warn(\n"
     ]
    },
    {
     "name": "stdout",
     "output_type": "stream",
     "text": [
      "Normal way\n",
      "[0 1 2 3 4 5 6 7 8 9]\n",
      "Epoch 1/50\n",
      "39/39 - 4s - loss: 0.9118 - accuracy: 0.7209\n",
      "Epoch 2/50\n",
      "39/39 - 1s - loss: 0.4170 - accuracy: 0.8471\n",
      "Epoch 3/50\n",
      "39/39 - 1s - loss: 0.3259 - accuracy: 0.8714\n",
      "Epoch 4/50\n",
      "39/39 - 1s - loss: 0.2760 - accuracy: 0.8794\n",
      "Epoch 5/50\n",
      "39/39 - 1s - loss: 0.2739 - accuracy: 0.8738\n",
      "Epoch 6/50\n",
      "39/39 - 1s - loss: 0.2452 - accuracy: 0.8932\n",
      "Epoch 7/50\n",
      "39/39 - 1s - loss: 0.2421 - accuracy: 0.8892\n",
      "Epoch 8/50\n",
      "39/39 - 1s - loss: 0.2145 - accuracy: 0.8964\n",
      "Epoch 9/50\n",
      "39/39 - 1s - loss: 0.2197 - accuracy: 0.8948\n",
      "Epoch 10/50\n",
      "39/39 - 1s - loss: 0.2138 - accuracy: 0.9134\n",
      "Epoch 11/50\n",
      "39/39 - 1s - loss: 0.2109 - accuracy: 0.8940\n",
      "Epoch 12/50\n",
      "39/39 - 1s - loss: 0.2057 - accuracy: 0.9070\n",
      "Epoch 13/50\n",
      "39/39 - 1s - loss: 0.2223 - accuracy: 0.8981\n",
      "Epoch 14/50\n",
      "39/39 - 1s - loss: 0.2077 - accuracy: 0.8981\n",
      "Epoch 15/50\n",
      "39/39 - 1s - loss: 0.2182 - accuracy: 0.8981\n",
      "Epoch 16/50\n",
      "39/39 - 1s - loss: 0.1997 - accuracy: 0.8956\n",
      "Epoch 17/50\n",
      "39/39 - 1s - loss: 0.2379 - accuracy: 0.9086\n",
      "Epoch 18/50\n",
      "39/39 - 1s - loss: 0.1934 - accuracy: 0.9094\n",
      "Epoch 19/50\n",
      "39/39 - 1s - loss: 0.2015 - accuracy: 0.8997\n",
      "Epoch 20/50\n",
      "39/39 - 1s - loss: 0.2195 - accuracy: 0.8940\n",
      "Epoch 21/50\n",
      "39/39 - 1s - loss: 0.1913 - accuracy: 0.9191\n",
      "Epoch 22/50\n",
      "39/39 - 1s - loss: 0.1957 - accuracy: 0.8940\n",
      "Epoch 23/50\n",
      "39/39 - 1s - loss: 0.1861 - accuracy: 0.9183\n",
      "Epoch 24/50\n",
      "39/39 - 1s - loss: 0.1909 - accuracy: 0.9021\n",
      "Epoch 25/50\n",
      "39/39 - 1s - loss: 0.1709 - accuracy: 0.9183\n",
      "Epoch 26/50\n",
      "39/39 - 1s - loss: 0.1868 - accuracy: 0.9126\n",
      "Epoch 27/50\n",
      "39/39 - 1s - loss: 0.1663 - accuracy: 0.9231\n",
      "Epoch 28/50\n",
      "39/39 - 1s - loss: 0.1837 - accuracy: 0.9094\n",
      "Epoch 29/50\n",
      "39/39 - 1s - loss: 0.1474 - accuracy: 0.9256\n",
      "Epoch 30/50\n",
      "39/39 - 1s - loss: 0.1569 - accuracy: 0.9223\n",
      "Epoch 31/50\n",
      "39/39 - 1s - loss: 0.1632 - accuracy: 0.9150\n",
      "Epoch 32/50\n",
      "39/39 - 1s - loss: 0.1868 - accuracy: 0.9061\n",
      "Epoch 33/50\n",
      "39/39 - 1s - loss: 0.1868 - accuracy: 0.9013\n",
      "Epoch 34/50\n",
      "39/39 - 1s - loss: 0.1589 - accuracy: 0.9110\n",
      "Epoch 35/50\n",
      "39/39 - 1s - loss: 0.1553 - accuracy: 0.9167\n",
      "Epoch 36/50\n",
      "39/39 - 1s - loss: 0.1726 - accuracy: 0.9248\n",
      "Epoch 37/50\n",
      "39/39 - 1s - loss: 0.1578 - accuracy: 0.9142\n",
      "Epoch 38/50\n",
      "39/39 - 1s - loss: 0.1928 - accuracy: 0.9248\n",
      "Epoch 39/50\n",
      "39/39 - 1s - loss: 0.1598 - accuracy: 0.9215\n",
      "Epoch 40/50\n",
      "39/39 - 1s - loss: 0.1827 - accuracy: 0.9029\n",
      "Epoch 41/50\n",
      "39/39 - 1s - loss: 0.1857 - accuracy: 0.9118\n",
      "Epoch 42/50\n",
      "39/39 - 1s - loss: 0.1571 - accuracy: 0.9134\n",
      "Epoch 43/50\n",
      "39/39 - 1s - loss: 0.2023 - accuracy: 0.9013\n",
      "Epoch 44/50\n",
      "39/39 - 1s - loss: 0.1512 - accuracy: 0.9215\n",
      "Epoch 45/50\n",
      "39/39 - 1s - loss: 0.1713 - accuracy: 0.9207\n",
      "Epoch 46/50\n",
      "39/39 - 1s - loss: 0.1581 - accuracy: 0.9150\n",
      "Epoch 47/50\n",
      "39/39 - 1s - loss: 0.1573 - accuracy: 0.9183\n",
      "Epoch 48/50\n",
      "39/39 - 1s - loss: 0.1354 - accuracy: 0.9272\n",
      "Epoch 49/50\n",
      "39/39 - 1s - loss: 0.1574 - accuracy: 0.9110\n",
      "Epoch 50/50\n",
      "39/39 - 1s - loss: 0.1772 - accuracy: 0.9134\n",
      "10/10 - 1s\n",
      "Normalized confusion matrix\n",
      "                 precision    recall  f1-score   support\n",
      "\n",
      "air conditioner       1.00      1.00      1.00        34\n",
      "       computer       0.98      0.97      0.97        92\n",
      "         fridge       0.98      0.92      0.95       167\n",
      "     television       0.54      0.94      0.68        16\n",
      "\n",
      "       accuracy                           0.94       309\n",
      "      macro avg       0.87      0.96      0.90       309\n",
      "   weighted avg       0.96      0.94      0.95       309\n",
      "\n",
      "using dataset data iawe training on model ukdale seed 42\n",
      "reading data, printing stats: \n",
      "['air conditioner', 'computer', 'fridge', 'television']\n",
      "{0: 2.2888888888888888, 1: 0.8442622950819673, 2: 0.46119402985074626, 3: 4.753846153846154}\n",
      " \n",
      "Tests \n",
      "air conditioner test: 34 train: 135\n",
      "computer test: 92 train: 366\n",
      "fridge test: 167 train: 670\n",
      "television test: 16 train: 65\n",
      "loading model\n",
      "compling TL model..\n"
     ]
    },
    {
     "name": "stderr",
     "output_type": "stream",
     "text": [
      "/usr/local/lib/python3.8/dist-packages/tensorflow/python/keras/optimizer_v2/optimizer_v2.py:374: UserWarning: The `lr` argument is deprecated, use `learning_rate` instead.\n",
      "  warnings.warn(\n"
     ]
    },
    {
     "name": "stdout",
     "output_type": "stream",
     "text": [
      "Normal way\n",
      "[0 1 2 3 4 5 6 7 8 9]\n",
      "Epoch 1/50\n",
      "39/39 - 4s - loss: 0.9386 - accuracy: 0.6885\n",
      "Epoch 2/50\n",
      "39/39 - 1s - loss: 0.3788 - accuracy: 0.8657\n",
      "Epoch 3/50\n",
      "39/39 - 1s - loss: 0.2648 - accuracy: 0.8948\n",
      "Epoch 4/50\n",
      "39/39 - 1s - loss: 0.1978 - accuracy: 0.9159\n",
      "Epoch 5/50\n",
      "39/39 - 1s - loss: 0.1884 - accuracy: 0.9207\n",
      "Epoch 6/50\n",
      "39/39 - 1s - loss: 0.1548 - accuracy: 0.9345\n",
      "Epoch 7/50\n",
      "39/39 - 1s - loss: 0.1635 - accuracy: 0.9426\n",
      "Epoch 8/50\n",
      "39/39 - 1s - loss: 0.1370 - accuracy: 0.9353\n",
      "Epoch 9/50\n",
      "39/39 - 1s - loss: 0.1523 - accuracy: 0.9264\n",
      "Epoch 10/50\n",
      "39/39 - 1s - loss: 0.1242 - accuracy: 0.9393\n",
      "Epoch 11/50\n",
      "39/39 - 1s - loss: 0.1273 - accuracy: 0.9417\n",
      "Epoch 12/50\n",
      "39/39 - 1s - loss: 0.1248 - accuracy: 0.9393\n",
      "Epoch 13/50\n",
      "39/39 - 1s - loss: 0.1494 - accuracy: 0.9377\n",
      "Epoch 14/50\n",
      "39/39 - 1s - loss: 0.1138 - accuracy: 0.9571\n",
      "Epoch 15/50\n",
      "39/39 - 1s - loss: 0.1146 - accuracy: 0.9369\n",
      "Epoch 16/50\n",
      "39/39 - 1s - loss: 0.0998 - accuracy: 0.9498\n",
      "Epoch 17/50\n",
      "39/39 - 1s - loss: 0.1136 - accuracy: 0.9515\n",
      "Epoch 18/50\n",
      "39/39 - 1s - loss: 0.0960 - accuracy: 0.9474\n",
      "Epoch 19/50\n",
      "39/39 - 1s - loss: 0.1186 - accuracy: 0.9490\n",
      "Epoch 20/50\n",
      "39/39 - 1s - loss: 0.0916 - accuracy: 0.9547\n",
      "Epoch 21/50\n",
      "39/39 - 1s - loss: 0.1167 - accuracy: 0.9458\n",
      "Epoch 22/50\n",
      "39/39 - 1s - loss: 0.0925 - accuracy: 0.9563\n",
      "Epoch 23/50\n",
      "39/39 - 1s - loss: 0.0795 - accuracy: 0.9571\n",
      "Epoch 24/50\n",
      "39/39 - 1s - loss: 0.0978 - accuracy: 0.9531\n",
      "Epoch 25/50\n",
      "39/39 - 1s - loss: 0.1041 - accuracy: 0.9531\n",
      "Epoch 26/50\n",
      "39/39 - 1s - loss: 0.1064 - accuracy: 0.9515\n",
      "Epoch 27/50\n",
      "39/39 - 1s - loss: 0.1040 - accuracy: 0.9563\n",
      "Epoch 28/50\n",
      "39/39 - 1s - loss: 0.0943 - accuracy: 0.9555\n",
      "Epoch 29/50\n",
      "39/39 - 1s - loss: 0.1499 - accuracy: 0.9369\n",
      "Epoch 30/50\n",
      "39/39 - 1s - loss: 0.0926 - accuracy: 0.9563\n",
      "Epoch 31/50\n",
      "39/39 - 1s - loss: 0.0624 - accuracy: 0.9701\n",
      "Epoch 32/50\n",
      "39/39 - 1s - loss: 0.0852 - accuracy: 0.9604\n",
      "Epoch 33/50\n",
      "39/39 - 1s - loss: 0.1169 - accuracy: 0.9523\n",
      "Epoch 34/50\n",
      "39/39 - 1s - loss: 0.1033 - accuracy: 0.9426\n",
      "Epoch 35/50\n",
      "39/39 - 1s - loss: 0.0875 - accuracy: 0.9636\n",
      "Epoch 36/50\n",
      "39/39 - 1s - loss: 0.0635 - accuracy: 0.9693\n",
      "Epoch 37/50\n",
      "39/39 - 1s - loss: 0.0937 - accuracy: 0.9612\n",
      "Epoch 38/50\n",
      "39/39 - 1s - loss: 0.0921 - accuracy: 0.9579\n",
      "Epoch 39/50\n",
      "39/39 - 1s - loss: 0.0815 - accuracy: 0.9628\n",
      "Epoch 40/50\n",
      "39/39 - 1s - loss: 0.0929 - accuracy: 0.9515\n",
      "Epoch 41/50\n",
      "39/39 - 1s - loss: 0.0768 - accuracy: 0.9636\n",
      "Epoch 42/50\n",
      "39/39 - 1s - loss: 0.0645 - accuracy: 0.9693\n",
      "Epoch 43/50\n",
      "39/39 - 1s - loss: 0.0775 - accuracy: 0.9676\n",
      "Epoch 44/50\n",
      "39/39 - 1s - loss: 0.0578 - accuracy: 0.9717\n",
      "Epoch 45/50\n",
      "39/39 - 1s - loss: 0.0679 - accuracy: 0.9620\n",
      "Epoch 46/50\n",
      "39/39 - 1s - loss: 0.0768 - accuracy: 0.9612\n",
      "Epoch 47/50\n",
      "39/39 - 1s - loss: 0.0759 - accuracy: 0.9628\n",
      "Epoch 48/50\n",
      "39/39 - 1s - loss: 0.0671 - accuracy: 0.9652\n",
      "Epoch 49/50\n",
      "39/39 - 1s - loss: 0.0628 - accuracy: 0.9701\n",
      "Epoch 50/50\n",
      "39/39 - 1s - loss: 0.0796 - accuracy: 0.9555\n",
      "10/10 - 1s\n",
      "Normalized confusion matrix\n",
      "                 precision    recall  f1-score   support\n",
      "\n",
      "air conditioner       1.00      0.91      0.95        34\n",
      "       computer       0.99      0.97      0.98        92\n",
      "         fridge       0.97      0.96      0.97       167\n",
      "     television       0.68      0.94      0.79        16\n",
      "\n",
      "       accuracy                           0.96       309\n",
      "      macro avg       0.91      0.95      0.92       309\n",
      "   weighted avg       0.96      0.96      0.96       309\n",
      "\n"
     ]
    },
    {
     "data": {
      "image/png": "[encoded data removed]",
      "text/plain": [
       "<Figure size 720x720 with 2 Axes>"
      ]
     },
     "metadata": {
      "needs_background": "light"
     },
     "output_type": "display_data"
    },
    {
     "data": {
      "image/png": "[encoded data removed]",
      "text/plain": [
       "<Figure size 720x720 with 2 Axes>"
      ]
     },
     "metadata": {
      "needs_background": "light"
     },
     "output_type": "display_data"
    },
    {
     "data": {
      "image/png": "[encoded data removed]",
      "text/plain": [
       "<Figure size 720x720 with 2 Axes>"
      ]
     },
     "metadata": {
      "needs_background": "light"
     },
     "output_type": "display_data"
    },
    {
     "data": {
      "image/png": "[encoded data removed]",
      "text/plain": [
       "<Figure size 720x720 with 2 Axes>"
      ]
     },
     "metadata": {
      "needs_background": "light"
     },
     "output_type": "display_data"
    }
   ],
   "source": [
    "# datasets =[\n",
    "#     \"ukdale_gen_GASF_13m_100S5X12A54480_R82_80-20\"\n",
    "# ]\n",
    "\n",
    "if environ['train_type'] == \"TL\": \n",
    "    models = environ['tl_datasets'].replace(\" \",\"\").split(\",\")\n",
    "    #model = [\"base\"]\n",
    "    \n",
    "    for model in models:\n",
    "    \n",
    "        file_name = dataset\n",
    "        \n",
    "        datasetTL = model\n",
    "        \n",
    "        seed = dataset.split(\"_R\")[1][0:2]\n",
    "        \n",
    "        print(\"using dataset data\",dataset.split(\"_\")[0],\"training on model\",model,\"seed\",environ['seed'])\n",
    "        txt_log.write(\"starting \"+dataset.split(\"_\")[0]+\" training on model \"+model+\" seed \"+environ['seed']+\"\\n\")\n",
    "\n",
    "\n",
    "        tf.keras.backend.clear_session()\n",
    "\n",
    "\n",
    "        #read the file\n",
    "        path = str(pathlib.Path().resolve())\n",
    "        path_data = f\"{path}\"\"/data/\"f\"{file_name}\"\"/\"f\"{file_name}\"\".hdf5\"\n",
    "        file = h5py.File(path_data,\"r+\")\n",
    "\n",
    "\n",
    "        print(\"reading data, printing stats: \")\n",
    "        x_test,y_test,d_class_weights,num_of_classes,appliances = get_data(file)\n",
    "        print(\"loading model\")\n",
    "        \n",
    "        model_seed = 42\n",
    "        model_used = create_tl_model(model,environ['learn_type'],model_seed,path,num_of_classes)\n",
    "                \n",
    "        train_gen = HDF5ImageGenerator(\n",
    "            src= path_data,\n",
    "            X_key=\"data/train/gaf\",\n",
    "            y_key=\"labels/train/gaf\",\n",
    "            classes_key=\"appliances/classes\",\n",
    "            labels_encoding=\"hot\",\n",
    "            shuffle=True,\n",
    "            batch_size=int(environ['batch_size']),\n",
    "            num_classes=num_of_classes,\n",
    "            mode=\"train\",\n",
    "            )\n",
    "\n",
    "        model_used.fit(\n",
    "            train_gen,\n",
    "            verbose=2,\n",
    "            epochs=int(environ['epochs']),\n",
    "            class_weight=d_class_weights,\n",
    "            callbacks = [save_op_callback]\n",
    "            #workers = 6,\n",
    "        )\n",
    "        \n",
    "        txt_log.write(\"finished \"+dataset.split(\"_\")[0]+\" training on model \"+model+\" seed \"+environ['seed']+\"\\n\")\n",
    "\n",
    "\n",
    "        evaluate_model(model_used,x_test,y_test,appliances)\n",
    "        \n",
    "\n",
    "\n",
    "\n",
    "        #del model_used\n",
    "\n"
   ]
  },
  {
   "cell_type": "code",
   "execution_count": 16,
   "metadata": {
    "execution": {
     "iopub.execute_input": "2022-02-11T19:42:58.931617Z",
     "iopub.status.busy": "2022-02-11T19:42:58.930351Z",
     "iopub.status.idle": "2022-02-11T19:42:58.933069Z",
     "shell.execute_reply": "2022-02-11T19:42:58.934126Z"
    }
   },
   "outputs": [],
   "source": [
    "txt_log.close()"
   ]
  },
  {
   "cell_type": "code",
   "execution_count": null,
   "metadata": {},
   "outputs": [],
   "source": []
  }
 ],
 "metadata": {
  "colab": {
   "authorship_tag": "ABX9TyMej4PvP65qsLng7TnQKWA4",
   "name": "LSTM-gen",
   "provenance": []
  },
  "kernelspec": {
   "display_name": "Python 3 (ipykernel)",
   "language": "python",
   "name": "python3"
  },
  "language_info": {
   "codemirror_mode": {
    "name": "ipython",
    "version": 3
   },
   "file_extension": ".py",
   "mimetype": "text/x-python",
   "name": "python",
   "nbconvert_exporter": "python",
   "pygments_lexer": "ipython3",
   "version": "3.8.10"
  }
 },
 "nbformat": 4,
 "nbformat_minor": 4
}
