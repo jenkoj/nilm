{
 "cells": [
  {
   "cell_type": "code",
   "execution_count": 1,
   "metadata": {
    "execution": {
     "iopub.execute_input": "2022-02-15T12:52:59.751673Z",
     "iopub.status.busy": "2022-02-15T12:52:59.750259Z",
     "iopub.status.idle": "2022-02-15T12:53:01.471948Z",
     "shell.execute_reply": "2022-02-15T12:53:01.470682Z"
    },
    "id": "WqUfHWgtJxtu",
    "scrolled": true,
    "tags": []
   },
   "outputs": [
    {
     "name": "stderr",
     "output_type": "stream",
     "text": [
      "2022-02-15 12:53:00.575854: I tensorflow/stream_executor/platform/default/dso_loader.cc:54] Successfully opened dynamic library libcudart.so.11.0\n"
     ]
    },
    {
     "name": "stdout",
     "output_type": "stream",
     "text": [
      "2.5.0\n",
      "Num GPUs Available:  1\n"
     ]
    },
    {
     "name": "stderr",
     "output_type": "stream",
     "text": [
      "2022-02-15 12:53:01.411032: I tensorflow/stream_executor/platform/default/dso_loader.cc:54] Successfully opened dynamic library libcuda.so.1\n",
      "2022-02-15 12:53:01.453081: I tensorflow/core/common_runtime/gpu/gpu_device.cc:1734] Found device 0 with properties: \n",
      "pciBusID: 0000:21:00.0 name: NVIDIA GeForce RTX 2080 Ti computeCapability: 7.5\n",
      "coreClock: 1.545GHz coreCount: 68 deviceMemorySize: 10.76GiB deviceMemoryBandwidth: 573.69GiB/s\n",
      "2022-02-15 12:53:01.453134: I tensorflow/stream_executor/platform/default/dso_loader.cc:54] Successfully opened dynamic library libcudart.so.11.0\n",
      "2022-02-15 12:53:01.456396: I tensorflow/stream_executor/platform/default/dso_loader.cc:54] Successfully opened dynamic library libcublas.so.11\n",
      "2022-02-15 12:53:01.456462: I tensorflow/stream_executor/platform/default/dso_loader.cc:54] Successfully opened dynamic library libcublasLt.so.11\n",
      "2022-02-15 12:53:01.457997: I tensorflow/stream_executor/platform/default/dso_loader.cc:54] Successfully opened dynamic library libcufft.so.10\n",
      "2022-02-15 12:53:01.458260: I tensorflow/stream_executor/platform/default/dso_loader.cc:54] Successfully opened dynamic library libcurand.so.10\n",
      "2022-02-15 12:53:01.458895: I tensorflow/stream_executor/platform/default/dso_loader.cc:54] Successfully opened dynamic library libcutensor.so.1\n",
      "2022-02-15 12:53:01.459340: I tensorflow/stream_executor/platform/default/dso_loader.cc:54] Successfully opened dynamic library libcusolver.so.11\n",
      "2022-02-15 12:53:01.459994: I tensorflow/stream_executor/platform/default/dso_loader.cc:54] Successfully opened dynamic library libcusparse.so.11\n",
      "2022-02-15 12:53:01.460149: I tensorflow/stream_executor/platform/default/dso_loader.cc:54] Successfully opened dynamic library libcudnn.so.8\n",
      "2022-02-15 12:53:01.460547: I tensorflow/core/common_runtime/gpu/gpu_device.cc:1872] Adding visible gpu devices: 0\n"
     ]
    }
   ],
   "source": [
    "import h5py\n",
    "import numpy as np\n",
    "\n",
    "from sklearn.model_selection import train_test_split\n",
    "from sklearn.metrics import classification_report, confusion_matrix\n",
    "import matplotlib.pyplot as plt\n",
    "import itertools \n",
    "import pyts\n",
    "from pyts.approximation import PiecewiseAggregateApproximation\n",
    "\n",
    "from sklearn.utils import class_weight\n",
    "\n",
    "import pathlib\n",
    "import tensorflow as tf\n",
    "from tensorflow import keras\n",
    "from tensorflow.keras import layers, optimizers\n",
    "from tensorflow.keras.layers import Convolution2D,Conv2D, Dense,Dropout, Flatten, Activation, MaxPooling2D, Input, Conv1D, GlobalAveragePooling1D, TimeDistributed, GRU, LSTM\n",
    "\n",
    "print(tf.__version__)\n",
    "print(\"Num GPUs Available: \", len(tf.config.list_physical_devices('GPU')))\n",
    "gpus = tf.config.experimental.list_physical_devices('GPU')\n",
    "\n",
    "try:\n",
    "    for gpu in gpus:\n",
    "        tf.config.experimental.set_memory_growth(gpu, True)\n",
    "except RuntimeError as e:\n",
    "    print(e)"
   ]
  },
  {
   "cell_type": "code",
   "execution_count": 2,
   "metadata": {
    "execution": {
     "iopub.execute_input": "2022-02-15T12:53:01.479377Z",
     "iopub.status.busy": "2022-02-15T12:53:01.478608Z",
     "iopub.status.idle": "2022-02-15T12:53:01.482111Z",
     "shell.execute_reply": "2022-02-15T12:53:01.481432Z"
    }
   },
   "outputs": [
    {
     "name": "stdout",
     "output_type": "stream",
     "text": [
      "redd_gen_GASF_60m_300S0X_R42_80-20\n"
     ]
    }
   ],
   "source": [
    "from os import environ\n",
    "dataset = environ['dataset']\n",
    "print(dataset)"
   ]
  },
  {
   "cell_type": "code",
   "execution_count": 3,
   "metadata": {
    "execution": {
     "iopub.execute_input": "2022-02-15T12:53:01.488732Z",
     "iopub.status.busy": "2022-02-15T12:53:01.487813Z",
     "iopub.status.idle": "2022-02-15T12:53:01.492193Z",
     "shell.execute_reply": "2022-02-15T12:53:01.492912Z"
    }
   },
   "outputs": [],
   "source": [
    "#my defs \n",
    "from modules.models import  VGG11,LSTM_3D_V56,CNN_V56,LSTM_BI_V56\n",
    "from modules.tools import my_print, plot_confusion_matrix_norm, get_data,get_data_split, evaluate_model, create_tl_model\n",
    "from modules.HDF5ImageGenerator import HDF5ImageGenerator"
   ]
  },
  {
   "cell_type": "code",
   "execution_count": 4,
   "metadata": {
    "execution": {
     "iopub.execute_input": "2022-02-15T12:53:01.502691Z",
     "iopub.status.busy": "2022-02-15T12:53:01.501495Z",
     "iopub.status.idle": "2022-02-15T12:53:01.504495Z",
     "shell.execute_reply": "2022-02-15T12:53:01.505483Z"
    },
    "id": "RT1vwq7-KOtB"
   },
   "outputs": [],
   "source": [
    "#LOAD DATASET\n",
    "#file_name = \"ukdale_gen_GASF_13m_100S5X12A54480\"\n",
    "#file_name = \"refit_gen_GASF_13m_100S5X_15A166006\"\n",
    "file_name = \"refit_gen_GASF_13m_100S5X_15A166006_R42-80-20\"\n",
    "#file_name = \"refit_gen_GASF_13m_100S5X_15A166006_R42_80-20\"\n",
    "file_name = \"refit_gen_GASF_60m_300S0X_15A157030N_R12_80-20-V1\"\n",
    "file_name = environ[\"dataset\"]\n",
    "#read the file\n",
    "path = str(pathlib.Path().resolve())\n",
    "\n",
    "path_data = f\"{path}\"\"/data/\"f\"{file_name}\"\"/\"f\"{file_name}\"\".hdf5\"\n",
    "\n",
    "file = h5py.File(path_data,\"r+\")"
   ]
  },
  {
   "cell_type": "code",
   "execution_count": 5,
   "metadata": {
    "execution": {
     "iopub.execute_input": "2022-02-15T12:53:01.512837Z",
     "iopub.status.busy": "2022-02-15T12:53:01.511651Z",
     "iopub.status.idle": "2022-02-15T12:53:01.885624Z",
     "shell.execute_reply": "2022-02-15T12:53:01.886560Z"
    },
    "scrolled": true
   },
   "outputs": [
    {
     "name": "stdout",
     "output_type": "stream",
     "text": [
      "['fridge/freezer', 'electric furnace', 'light', 'microwave', 'sockets']\n",
      "{0: 0.9442708333333333, 1: 2.8383561643835615, 2: 0.5683385579937305, 3: 5.824899598393574, 4: 0.6033277870216306}\n",
      " \n",
      "Tests \n",
      "fridge/freezer test: 384 train: 1536\n",
      "electric furnace test: 128 train: 511\n",
      "light test: 638 train: 2552\n",
      "microwave test: 62 train: 249\n",
      "sockets test: 601 train: 2404\n"
     ]
    }
   ],
   "source": [
    "x_test,y_test,d_class_weights,num_of_classes,appliances = get_data(file)"
   ]
  },
  {
   "cell_type": "code",
   "execution_count": 6,
   "metadata": {
    "execution": {
     "iopub.execute_input": "2022-02-15T12:53:01.899815Z",
     "iopub.status.busy": "2022-02-15T12:53:01.895991Z",
     "iopub.status.idle": "2022-02-15T12:53:01.902077Z",
     "shell.execute_reply": "2022-02-15T12:53:01.903006Z"
    }
   },
   "outputs": [],
   "source": [
    "def select_model(learn_type):\n",
    "    \n",
    "    if learn_type == \"CNN\":\n",
    "        model = CNN_V56(file[\"data/train/gaf\"][0:10],num_of_classes,lr= 0.00002)\n",
    "\n",
    "    if learn_type == \"LSTM\":\n",
    "        model = LSTM_3D_V56(file[\"data/train/gaf\"][0:10],num_of_classes,lr= 0.00002)\n",
    "\n",
    "    if learn_type == \"BI_LSTM\":\n",
    "        model = LSTM_BI_V56(file[\"data/train/gaf\"][0:10],num_of_classes,lr= 0.00002)\n",
    "        \n",
    "    if learn_type == \"VGG\":\n",
    "        model = VGG11(file[\"data/train/gaf\"][0:10],num_of_classes,lr= 0.00001)\n",
    "\n",
    "    return model\n",
    "              "
   ]
  },
  {
   "cell_type": "code",
   "execution_count": 7,
   "metadata": {
    "execution": {
     "iopub.execute_input": "2022-02-15T12:53:01.910252Z",
     "iopub.status.busy": "2022-02-15T12:53:01.909055Z",
     "iopub.status.idle": "2022-02-15T12:53:01.911508Z",
     "shell.execute_reply": "2022-02-15T12:53:01.912480Z"
    }
   },
   "outputs": [],
   "source": [
    "path_save = path+'/experiment_automation/output/'+environ['learn_type']+'/'+dataset.split(\"_\")[0]+\"/\"+environ['train_type']+\"/\"+dataset.split(\"_\")[0]+\"_\"+environ['seed']+\"_\"+environ['tl_datasets']\n",
    "path_save_nb = path_save+\"_out.ipynb\"\n",
    "path_save_log = path_save+\"_out_log2.txt\""
   ]
  },
  {
   "cell_type": "code",
   "execution_count": 8,
   "metadata": {
    "execution": {
     "iopub.execute_input": "2022-02-15T12:53:01.920939Z",
     "iopub.status.busy": "2022-02-15T12:53:01.919734Z",
     "iopub.status.idle": "2022-02-15T12:53:02.007807Z",
     "shell.execute_reply": "2022-02-15T12:53:02.008811Z"
    }
   },
   "outputs": [],
   "source": [
    "from keras.callbacks import LambdaCallback\n",
    "#path_log= path+'/experiment_automation/output/'+environ['learn_type']+'/'+dataset.split(\"_\")[0]+\"/\"+environ['train_type']+\"/\"+dataset.split(\"_\")[0]+\"_\"+environ['seed']+\"_\"+environ['tl_datasets']+\"_log.txt\"\n",
    "txt_log = open(path_save+\"_log.txt\", mode='wt', buffering=1)\n",
    "txt_log.write(\"file created! \\n\")\n",
    "\n",
    "save_op_callback = LambdaCallback(\n",
    "  on_epoch_end = lambda epoch, logs: txt_log.write(\n",
    "    str({'epoch': epoch, 'loss': logs['loss'],'acc': logs['accuracy']}) + '\\n'),\n",
    "                                                           \n",
    ")"
   ]
  },
  {
   "cell_type": "code",
   "execution_count": 9,
   "metadata": {
    "execution": {
     "iopub.execute_input": "2022-02-15T12:53:02.014363Z",
     "iopub.status.busy": "2022-02-15T12:53:02.013203Z",
     "iopub.status.idle": "2022-02-15T12:53:02.018040Z",
     "shell.execute_reply": "2022-02-15T12:53:02.017102Z"
    }
   },
   "outputs": [
    {
     "name": "stdout",
     "output_type": "stream",
     "text": [
      "/workspace/notebooks/experiment_automation/output/VGG/redd/BB/redd_42__out.ipynb\n"
     ]
    }
   ],
   "source": [
    "print(path_save_nb)"
   ]
  },
  {
   "cell_type": "code",
   "execution_count": 10,
   "metadata": {
    "execution": {
     "iopub.execute_input": "2022-02-15T12:53:02.022923Z",
     "iopub.status.busy": "2022-02-15T12:53:02.021883Z",
     "iopub.status.idle": "2022-02-15T12:53:02.025978Z",
     "shell.execute_reply": "2022-02-15T12:53:02.026850Z"
    }
   },
   "outputs": [],
   "source": [
    "# rm $path_save_log"
   ]
  },
  {
   "cell_type": "code",
   "execution_count": 11,
   "metadata": {
    "execution": {
     "iopub.execute_input": "2022-02-15T12:53:02.032636Z",
     "iopub.status.busy": "2022-02-15T12:53:02.031351Z",
     "iopub.status.idle": "2022-02-15T12:53:02.034033Z",
     "shell.execute_reply": "2022-02-15T12:53:02.035082Z"
    }
   },
   "outputs": [],
   "source": [
    "# %%capture cap \n",
    "\n",
    "# with open(path_save_log,\"wt\") as f:\n",
    "#     f.write(cap.stdout)\n",
    "    \n",
    "# print(\"out capture..\")"
   ]
  },
  {
   "cell_type": "code",
   "execution_count": 12,
   "metadata": {
    "execution": {
     "iopub.execute_input": "2022-02-15T12:53:02.052274Z",
     "iopub.status.busy": "2022-02-15T12:53:02.050918Z",
     "iopub.status.idle": "2022-02-15T14:10:28.176113Z",
     "shell.execute_reply": "2022-02-15T14:10:28.177108Z"
    },
    "id": "vqA9NwOqKrb5",
    "jupyter": {
     "outputs_hidden": true
    },
    "tags": []
   },
   "outputs": [
    {
     "name": "stdout",
     "output_type": "stream",
     "text": [
      "Normal way\n",
      "[0 1 2 3 4 5 6 7 8 9]\n",
      "WARNING:tensorflow:From /usr/local/lib/python3.8/dist-packages/tensorflow/python/ops/array_ops.py:5043: calling gather (from tensorflow.python.ops.array_ops) with validate_indices is deprecated and will be removed in a future version.\n",
      "Instructions for updating:\n",
      "The `validate_indices` argument has no effect. Indices are always validated on CPU and never validated on GPU.\n"
     ]
    },
    {
     "name": "stderr",
     "output_type": "stream",
     "text": [
      "2022-02-15 12:53:02.070432: I tensorflow/core/common_runtime/gpu/gpu_device.cc:1734] Found device 0 with properties: \n",
      "pciBusID: 0000:21:00.0 name: NVIDIA GeForce RTX 2080 Ti computeCapability: 7.5\n",
      "coreClock: 1.545GHz coreCount: 68 deviceMemorySize: 10.76GiB deviceMemoryBandwidth: 573.69GiB/s\n",
      "2022-02-15 12:53:02.070767: I tensorflow/core/common_runtime/gpu/gpu_device.cc:1872] Adding visible gpu devices: 0\n",
      "2022-02-15 12:53:02.070821: I tensorflow/stream_executor/platform/default/dso_loader.cc:54] Successfully opened dynamic library libcudart.so.11.0\n",
      "2022-02-15 12:53:02.446813: I tensorflow/core/common_runtime/gpu/gpu_device.cc:1258] Device interconnect StreamExecutor with strength 1 edge matrix:\n",
      "2022-02-15 12:53:02.446848: I tensorflow/core/common_runtime/gpu/gpu_device.cc:1264]      0 \n",
      "2022-02-15 12:53:02.446855: I tensorflow/core/common_runtime/gpu/gpu_device.cc:1277] 0:   N \n",
      "2022-02-15 12:53:02.447414: I tensorflow/core/common_runtime/gpu/gpu_device.cc:1418] Created TensorFlow device (/job:localhost/replica:0/task:0/device:GPU:0 with 9649 MB memory) -> physical GPU (device: 0, name: NVIDIA GeForce RTX 2080 Ti, pci bus id: 0000:21:00.0, compute capability: 7.5)\n",
      "2022-02-15 12:53:02.447774: I tensorflow/core/common_runtime/process_util.cc:146] Creating new thread pool with default inter op setting: 20. Tune using inter_op_parallelism_threads for best performance.\n",
      "/usr/local/lib/python3.8/dist-packages/tensorflow/python/keras/optimizer_v2/optimizer_v2.py:374: UserWarning: The `lr` argument is deprecated, use `learning_rate` instead.\n",
      "  warnings.warn(\n",
      "2022-02-15 12:53:02.633992: I tensorflow/compiler/mlir/mlir_graph_optimization_pass.cc:176] None of the MLIR Optimization Passes are enabled (registered 2)\n"
     ]
    },
    {
     "name": "stdout",
     "output_type": "stream",
     "text": [
      "Epoch 1/100\n"
     ]
    },
    {
     "name": "stderr",
     "output_type": "stream",
     "text": [
      "2022-02-15 12:53:02.652563: I tensorflow/core/platform/profile_utils/cpu_utils.cc:114] CPU Frequency: 3299990000 Hz\n",
      "2022-02-15 12:53:03.294046: I tensorflow/stream_executor/platform/default/dso_loader.cc:54] Successfully opened dynamic library libcudnn.so.8\n",
      "2022-02-15 12:53:03.784897: I tensorflow/stream_executor/cuda/cuda_dnn.cc:380] Loaded cuDNN version 8202\n",
      "2022-02-15 12:53:04.320755: I tensorflow/stream_executor/platform/default/dso_loader.cc:54] Successfully opened dynamic library libcublas.so.11\n",
      "2022-02-15 12:53:04.749144: I tensorflow/stream_executor/platform/default/dso_loader.cc:54] Successfully opened dynamic library libcublasLt.so.11\n"
     ]
    },
    {
     "name": "stdout",
     "output_type": "stream",
     "text": [
      "227/227 - 50s - loss: 1.4518 - accuracy: 0.3620\n",
      "Epoch 2/100\n",
      "227/227 - 47s - loss: 1.2341 - accuracy: 0.4377\n",
      "Epoch 3/100\n",
      "227/227 - 47s - loss: 1.1159 - accuracy: 0.4934\n",
      "Epoch 4/100\n",
      "227/227 - 46s - loss: 0.9988 - accuracy: 0.5740\n",
      "Epoch 5/100\n",
      "227/227 - 47s - loss: 0.8959 - accuracy: 0.6338\n",
      "Epoch 6/100\n",
      "227/227 - 47s - loss: 0.8722 - accuracy: 0.6335\n",
      "Epoch 7/100\n",
      "227/227 - 46s - loss: 0.7528 - accuracy: 0.6827\n",
      "Epoch 8/100\n",
      "227/227 - 47s - loss: 0.7759 - accuracy: 0.6666\n",
      "Epoch 9/100\n",
      "227/227 - 46s - loss: 0.6527 - accuracy: 0.7090\n",
      "Epoch 10/100\n",
      "227/227 - 46s - loss: 0.5932 - accuracy: 0.7323\n",
      "Epoch 11/100\n",
      "227/227 - 46s - loss: 0.6342 - accuracy: 0.7192\n",
      "Epoch 12/100\n",
      "227/227 - 46s - loss: 0.5847 - accuracy: 0.7346\n",
      "Epoch 13/100\n",
      "227/227 - 46s - loss: 0.4752 - accuracy: 0.7843\n",
      "Epoch 14/100\n",
      "227/227 - 46s - loss: 0.4431 - accuracy: 0.7886\n",
      "Epoch 15/100\n",
      "227/227 - 46s - loss: 0.3924 - accuracy: 0.8081\n",
      "Epoch 16/100\n",
      "227/227 - 46s - loss: 0.3887 - accuracy: 0.8086\n",
      "Epoch 17/100\n",
      "227/227 - 46s - loss: 0.3432 - accuracy: 0.8318\n",
      "Epoch 18/100\n",
      "227/227 - 46s - loss: 0.3348 - accuracy: 0.8354\n",
      "Epoch 19/100\n",
      "227/227 - 46s - loss: 0.3778 - accuracy: 0.8267\n",
      "Epoch 20/100\n",
      "227/227 - 46s - loss: 0.3483 - accuracy: 0.8322\n",
      "Epoch 21/100\n",
      "227/227 - 46s - loss: 0.3202 - accuracy: 0.8520\n",
      "Epoch 22/100\n",
      "227/227 - 46s - loss: 0.2450 - accuracy: 0.8802\n",
      "Epoch 23/100\n",
      "227/227 - 46s - loss: 0.2323 - accuracy: 0.8868\n",
      "Epoch 24/100\n",
      "227/227 - 46s - loss: 0.2137 - accuracy: 0.8924\n",
      "Epoch 25/100\n",
      "227/227 - 46s - loss: 0.2315 - accuracy: 0.8873\n",
      "Epoch 26/100\n",
      "227/227 - 46s - loss: 0.2196 - accuracy: 0.8871\n",
      "Epoch 27/100\n",
      "227/227 - 46s - loss: 0.2195 - accuracy: 0.8915\n",
      "Epoch 28/100\n",
      "227/227 - 46s - loss: 0.1787 - accuracy: 0.9111\n",
      "Epoch 29/100\n",
      "227/227 - 46s - loss: 0.1619 - accuracy: 0.9199\n",
      "Epoch 30/100\n",
      "227/227 - 46s - loss: 0.1857 - accuracy: 0.9113\n",
      "Epoch 31/100\n",
      "227/227 - 46s - loss: 0.1522 - accuracy: 0.9236\n",
      "Epoch 32/100\n",
      "227/227 - 46s - loss: 0.1384 - accuracy: 0.9312\n",
      "Epoch 33/100\n",
      "227/227 - 47s - loss: 0.1500 - accuracy: 0.9275\n",
      "Epoch 34/100\n",
      "227/227 - 47s - loss: 0.1281 - accuracy: 0.9344\n",
      "Epoch 35/100\n",
      "227/227 - 46s - loss: 0.1136 - accuracy: 0.9442\n",
      "Epoch 36/100\n",
      "227/227 - 47s - loss: 0.1243 - accuracy: 0.9402\n",
      "Epoch 37/100\n",
      "227/227 - 46s - loss: 0.1127 - accuracy: 0.9399\n",
      "Epoch 38/100\n",
      "227/227 - 47s - loss: 0.2699 - accuracy: 0.8902\n",
      "Epoch 39/100\n",
      "227/227 - 47s - loss: 0.1279 - accuracy: 0.9391\n",
      "Epoch 40/100\n",
      "227/227 - 46s - loss: 0.0964 - accuracy: 0.9513\n",
      "Epoch 41/100\n",
      "227/227 - 46s - loss: 0.0967 - accuracy: 0.9486\n",
      "Epoch 42/100\n",
      "227/227 - 46s - loss: 0.0897 - accuracy: 0.9560\n",
      "Epoch 43/100\n",
      "227/227 - 46s - loss: 0.1186 - accuracy: 0.9447\n",
      "Epoch 44/100\n",
      "227/227 - 46s - loss: 0.1961 - accuracy: 0.9140\n",
      "Epoch 45/100\n",
      "227/227 - 46s - loss: 0.1733 - accuracy: 0.9300\n",
      "Epoch 46/100\n",
      "227/227 - 46s - loss: 0.0901 - accuracy: 0.9590\n",
      "Epoch 47/100\n",
      "227/227 - 46s - loss: 0.0754 - accuracy: 0.9662\n",
      "Epoch 48/100\n",
      "227/227 - 46s - loss: 0.0764 - accuracy: 0.9618\n",
      "Epoch 49/100\n",
      "227/227 - 46s - loss: 0.0703 - accuracy: 0.9655\n",
      "Epoch 50/100\n",
      "227/227 - 46s - loss: 0.0731 - accuracy: 0.9670\n",
      "Epoch 51/100\n",
      "227/227 - 46s - loss: 0.0661 - accuracy: 0.9639\n",
      "Epoch 52/100\n",
      "227/227 - 46s - loss: 0.1181 - accuracy: 0.9440\n",
      "Epoch 53/100\n",
      "227/227 - 46s - loss: 0.0793 - accuracy: 0.9615\n",
      "Epoch 54/100\n",
      "227/227 - 46s - loss: 0.0889 - accuracy: 0.9584\n",
      "Epoch 55/100\n",
      "227/227 - 46s - loss: 0.1255 - accuracy: 0.9508\n",
      "Epoch 56/100\n",
      "227/227 - 46s - loss: 0.0609 - accuracy: 0.9710\n",
      "Epoch 57/100\n",
      "227/227 - 46s - loss: 0.0622 - accuracy: 0.9699\n",
      "Epoch 58/100\n",
      "227/227 - 46s - loss: 0.0633 - accuracy: 0.9699\n",
      "Epoch 59/100\n",
      "227/227 - 46s - loss: 0.0863 - accuracy: 0.9617\n",
      "Epoch 60/100\n",
      "227/227 - 46s - loss: 0.1810 - accuracy: 0.9273\n",
      "Epoch 61/100\n",
      "227/227 - 46s - loss: 0.0762 - accuracy: 0.9650\n",
      "Epoch 62/100\n",
      "227/227 - 46s - loss: 0.0950 - accuracy: 0.9573\n",
      "Epoch 63/100\n",
      "227/227 - 46s - loss: 0.0786 - accuracy: 0.9659\n",
      "Epoch 64/100\n",
      "227/227 - 46s - loss: 0.0465 - accuracy: 0.9777\n",
      "Epoch 65/100\n",
      "227/227 - 46s - loss: 0.0414 - accuracy: 0.9806\n",
      "Epoch 66/100\n",
      "227/227 - 46s - loss: 0.0559 - accuracy: 0.9724\n",
      "Epoch 67/100\n",
      "227/227 - 46s - loss: 0.0584 - accuracy: 0.9724\n",
      "Epoch 68/100\n",
      "227/227 - 46s - loss: 0.0461 - accuracy: 0.9777\n",
      "Epoch 69/100\n",
      "227/227 - 46s - loss: 0.0473 - accuracy: 0.9786\n",
      "Epoch 70/100\n",
      "227/227 - 46s - loss: 0.0883 - accuracy: 0.9600\n",
      "Epoch 71/100\n",
      "227/227 - 46s - loss: 0.0483 - accuracy: 0.9759\n",
      "Epoch 72/100\n",
      "227/227 - 46s - loss: 0.0502 - accuracy: 0.9749\n",
      "Epoch 73/100\n",
      "227/227 - 46s - loss: 0.0657 - accuracy: 0.9687\n",
      "Epoch 74/100\n",
      "227/227 - 46s - loss: 0.0537 - accuracy: 0.9726\n",
      "Epoch 75/100\n",
      "227/227 - 46s - loss: 0.0464 - accuracy: 0.9797\n",
      "Epoch 76/100\n",
      "227/227 - 46s - loss: 0.0406 - accuracy: 0.9808\n",
      "Epoch 77/100\n",
      "227/227 - 46s - loss: 0.0479 - accuracy: 0.9759\n",
      "Epoch 78/100\n",
      "227/227 - 46s - loss: 0.0519 - accuracy: 0.9750\n",
      "Epoch 79/100\n",
      "227/227 - 46s - loss: 0.0948 - accuracy: 0.9593\n",
      "Epoch 80/100\n",
      "227/227 - 46s - loss: 0.2262 - accuracy: 0.9108\n",
      "Epoch 81/100\n",
      "227/227 - 46s - loss: 0.0759 - accuracy: 0.9664\n",
      "Epoch 82/100\n",
      "227/227 - 46s - loss: 0.0510 - accuracy: 0.9775\n",
      "Epoch 83/100\n",
      "227/227 - 46s - loss: 0.0408 - accuracy: 0.9804\n",
      "Epoch 84/100\n",
      "227/227 - 46s - loss: 0.0351 - accuracy: 0.9825\n",
      "Epoch 85/100\n",
      "227/227 - 46s - loss: 0.0308 - accuracy: 0.9839\n",
      "Epoch 86/100\n",
      "227/227 - 46s - loss: 0.0292 - accuracy: 0.9859\n",
      "Epoch 87/100\n",
      "227/227 - 46s - loss: 0.0342 - accuracy: 0.9840\n",
      "Epoch 88/100\n",
      "227/227 - 46s - loss: 0.0471 - accuracy: 0.9750\n",
      "Epoch 89/100\n",
      "227/227 - 46s - loss: 0.0348 - accuracy: 0.9828\n",
      "Epoch 90/100\n",
      "227/227 - 47s - loss: 0.0294 - accuracy: 0.9858\n",
      "Epoch 91/100\n",
      "227/227 - 46s - loss: 0.0363 - accuracy: 0.9830\n",
      "Epoch 92/100\n",
      "227/227 - 46s - loss: 0.0303 - accuracy: 0.9852\n",
      "Epoch 93/100\n",
      "227/227 - 46s - loss: 0.0296 - accuracy: 0.9843\n",
      "Epoch 94/100\n",
      "227/227 - 46s - loss: 0.0368 - accuracy: 0.9818\n",
      "Epoch 95/100\n",
      "227/227 - 46s - loss: 0.0481 - accuracy: 0.9788\n",
      "Epoch 96/100\n",
      "227/227 - 46s - loss: 0.0536 - accuracy: 0.9749\n",
      "Epoch 97/100\n",
      "227/227 - 46s - loss: 0.0329 - accuracy: 0.9830\n",
      "Epoch 98/100\n",
      "227/227 - 46s - loss: 0.0286 - accuracy: 0.9851\n",
      "Epoch 99/100\n",
      "227/227 - 46s - loss: 0.0265 - accuracy: 0.9879\n",
      "Epoch 100/100\n",
      "227/227 - 46s - loss: 0.1782 - accuracy: 0.9353\n",
      "57/57 - 4s\n",
      "Normalized confusion matrix\n",
      "                  precision    recall  f1-score   support\n",
      "\n",
      "  fridge/freezer       0.91      0.90      0.91       384\n",
      "electric furnace       0.86      0.91      0.89       128\n",
      "           light       0.76      0.86      0.81       638\n",
      "       microwave       0.52      0.77      0.62        62\n",
      "         sockets       0.83      0.66      0.73       601\n",
      "\n",
      "        accuracy                           0.80      1813\n",
      "       macro avg       0.78      0.82      0.79      1813\n",
      "    weighted avg       0.81      0.80      0.80      1813\n",
      "\n"
     ]
    },
    {
     "name": "stderr",
     "output_type": "stream",
     "text": [
      "2022-02-15 14:10:24.716825: W tensorflow/python/util/util.cc:348] Sets are not currently considered sequences, but this may change in the future, so consider avoiding using them.\n"
     ]
    },
    {
     "name": "stdout",
     "output_type": "stream",
     "text": [
      "INFO:tensorflow:Assets written to: /workspace/notebooks/models/VGG/redd_42/assets\n"
     ]
    },
    {
     "data": {
      "image/png": "[encoded data removed]",
      "text/plain": [
       "<Figure size 720x720 with 2 Axes>"
      ]
     },
     "metadata": {
      "needs_background": "light"
     },
     "output_type": "display_data"
    }
   ],
   "source": [
    "# %%capture cap --no-stderr\n",
    "\n",
    "\n",
    "if environ['train_type'] == \"BB\":\n",
    "\n",
    "    #define generator\n",
    "    train_gen = HDF5ImageGenerator(\n",
    "        src= path_data,\n",
    "        X_key=\"data/train/gaf\",\n",
    "        y_key=\"labels/train/gaf\",\n",
    "        classes_key=\"appliances/classes\",\n",
    "        labels_encoding=\"hot\",\n",
    "        shuffle=True,\n",
    "        batch_size=int(environ['batch_size']),\n",
    "        num_classes=num_of_classes,\n",
    "        mode=\"train\",\n",
    "        )\n",
    "    \n",
    "    model = select_model(environ['learn_type'])\n",
    "    \n",
    "    txt_log.write(\"fitting BB model: \\n\")\n",
    "    \n",
    "    model.fit(\n",
    "        train_gen,\n",
    "        verbose=2,\n",
    "        epochs=int(environ['epochs']),\n",
    "        class_weight=d_class_weights,\n",
    "        callbacks = [save_op_callback],\n",
    "    )\n",
    "    \n",
    "    txt_log.write(\"finished fitting BB model: \\n\")\n",
    "\n",
    "    evaluate_model(model,x_test,y_test,appliances)\n",
    "    \n",
    "    if environ['save_model']==\"True\":\n",
    "\n",
    "        path_model_save = path+\"/models/\"+environ['learn_type']+\"/\"+dataset.split(\"_\")[0]+\"_\"+dataset.split(\"_R\")[1][0:2]\n",
    "        model.save(path_model_save)\n",
    "        txt_log.write(\"model saved to:\"+\"/models/\"+environ['learn_type']+\"/\"+dataset.split(\"_\")[0]+\"_\"+dataset.split(\"_R\")[1][0:2]+\" \\n\")\n",
    "        \n",
    "        \n",
    "# with open(path_save+\"_out_log.txt\" as f:\n",
    "#     f.write(cap.stdout)\n"
   ]
  },
  {
   "cell_type": "code",
   "execution_count": 13,
   "metadata": {
    "collapsed": true,
    "execution": {
     "iopub.execute_input": "2022-02-15T14:10:28.182375Z",
     "iopub.status.busy": "2022-02-15T14:10:28.181211Z",
     "iopub.status.idle": "2022-02-15T14:10:28.183629Z",
     "shell.execute_reply": "2022-02-15T14:10:28.184615Z"
    }
   },
   "outputs": [],
   "source": [
    "#model = keras.models.load_model(path_model1)\n",
    "# model_used = model"
   ]
  },
  {
   "cell_type": "code",
   "execution_count": 14,
   "metadata": {
    "collapsed": true,
    "execution": {
     "iopub.execute_input": "2022-02-15T14:10:28.189988Z",
     "iopub.status.busy": "2022-02-15T14:10:28.188822Z",
     "iopub.status.idle": "2022-02-15T14:10:28.191229Z",
     "shell.execute_reply": "2022-02-15T14:10:28.192019Z"
    },
    "jupyter": {
     "outputs_hidden": true
    },
    "tags": []
   },
   "outputs": [],
   "source": [
    "# evaluate_model(model,x_test,y_test,appliances)"
   ]
  },
  {
   "cell_type": "code",
   "execution_count": 15,
   "metadata": {
    "collapsed": true,
    "execution": {
     "iopub.execute_input": "2022-02-15T14:10:28.208934Z",
     "iopub.status.busy": "2022-02-15T14:10:28.207641Z",
     "iopub.status.idle": "2022-02-15T14:10:28.210216Z",
     "shell.execute_reply": "2022-02-15T14:10:28.211192Z"
    }
   },
   "outputs": [],
   "source": [
    "# datasets =[\n",
    "#     \"ukdale_gen_GASF_13m_100S5X12A54480_R82_80-20\"\n",
    "# ]\n",
    "\n",
    "if environ['train_type'] == \"TL\": \n",
    "    models = environ['tl_datasets'].replace(\" \",\"\").split(\",\")\n",
    "    #model = [\"base\"]\n",
    "    \n",
    "    for model in models:\n",
    "    \n",
    "        file_name = dataset\n",
    "        \n",
    "        datasetTL = model\n",
    "        \n",
    "        seed = dataset.split(\"_R\")[1][0:2]\n",
    "        \n",
    "        print(\"using dataset data\",dataset.split(\"_\")[0],\"training on model\",model,\"seed\",environ['seed'])\n",
    "        txt_log.write(\"starting \"+dataset.split(\"_\")[0]+\" training on model \"+model+\" seed \"+environ['seed']+\"\\n\")\n",
    "\n",
    "\n",
    "        tf.keras.backend.clear_session()\n",
    "\n",
    "\n",
    "        #read the file\n",
    "        path = str(pathlib.Path().resolve())\n",
    "        path_data = f\"{path}\"\"/data/\"f\"{file_name}\"\"/\"f\"{file_name}\"\".hdf5\"\n",
    "        file = h5py.File(path_data,\"r+\")\n",
    "\n",
    "\n",
    "        print(\"reading data, printing stats: \")\n",
    "        x_test,y_test,d_class_weights,num_of_classes,appliances = get_data(file)\n",
    "        print(\"loading model\")\n",
    "        \n",
    "        model_seed = 42\n",
    "        model_used = create_tl_model(model,environ['learn_type'],model_seed,path,num_of_classes)\n",
    "                \n",
    "        train_gen = HDF5ImageGenerator(\n",
    "            src= path_data,\n",
    "            X_key=\"data/train/gaf\",\n",
    "            y_key=\"labels/train/gaf\",\n",
    "            classes_key=\"appliances/classes\",\n",
    "            labels_encoding=\"hot\",\n",
    "            shuffle=True,\n",
    "            batch_size=int(environ['batch_size']),\n",
    "            num_classes=num_of_classes,\n",
    "            mode=\"train\",\n",
    "            )\n",
    "\n",
    "        model_used.fit(\n",
    "            train_gen,\n",
    "            verbose=2,\n",
    "            epochs=int(environ['epochs']),\n",
    "            class_weight=d_class_weights,\n",
    "            callbacks = [save_op_callback]\n",
    "            #workers = 6,\n",
    "        )\n",
    "        \n",
    "        txt_log.write(\"finished \"+dataset.split(\"_\")[0]+\" training on model \"+model+\" seed \"+environ['seed']+\"\\n\")\n",
    "\n",
    "\n",
    "        evaluate_model(model_used,x_test,y_test,appliances)\n",
    "        \n",
    "\n",
    "\n",
    "\n",
    "        #del model_used\n",
    "\n"
   ]
  },
  {
   "cell_type": "code",
   "execution_count": 16,
   "metadata": {
    "execution": {
     "iopub.execute_input": "2022-02-15T14:10:28.216774Z",
     "iopub.status.busy": "2022-02-15T14:10:28.215590Z",
     "iopub.status.idle": "2022-02-15T14:10:28.218043Z",
     "shell.execute_reply": "2022-02-15T14:10:28.219014Z"
    }
   },
   "outputs": [],
   "source": [
    "txt_log.close()"
   ]
  },
  {
   "cell_type": "code",
   "execution_count": null,
   "metadata": {},
   "outputs": [],
   "source": []
  }
 ],
 "metadata": {
  "colab": {
   "authorship_tag": "ABX9TyMej4PvP65qsLng7TnQKWA4",
   "name": "LSTM-gen",
   "provenance": []
  },
  "kernelspec": {
   "display_name": "Python 3 (ipykernel)",
   "language": "python",
   "name": "python3"
  },
  "language_info": {
   "codemirror_mode": {
    "name": "ipython",
    "version": 3
   },
   "file_extension": ".py",
   "mimetype": "text/x-python",
   "name": "python",
   "nbconvert_exporter": "python",
   "pygments_lexer": "ipython3",
   "version": "3.8.10"
  }
 },
 "nbformat": 4,
 "nbformat_minor": 4
}
