{
 "cells": [
  {
   "cell_type": "code",
   "execution_count": 1,
   "metadata": {
    "execution": {
     "iopub.execute_input": "2022-02-15T14:10:39.314635Z",
     "iopub.status.busy": "2022-02-15T14:10:39.307403Z",
     "iopub.status.idle": "2022-02-15T14:10:41.033766Z",
     "shell.execute_reply": "2022-02-15T14:10:41.032555Z"
    },
    "id": "WqUfHWgtJxtu",
    "scrolled": true,
    "tags": []
   },
   "outputs": [
    {
     "name": "stderr",
     "output_type": "stream",
     "text": [
      "2022-02-15 14:10:40.160010: I tensorflow/stream_executor/platform/default/dso_loader.cc:54] Successfully opened dynamic library libcudart.so.11.0\n"
     ]
    },
    {
     "name": "stdout",
     "output_type": "stream",
     "text": [
      "2.5.0\n",
      "Num GPUs Available:  1\n"
     ]
    },
    {
     "name": "stderr",
     "output_type": "stream",
     "text": [
      "2022-02-15 14:10:40.964858: I tensorflow/stream_executor/platform/default/dso_loader.cc:54] Successfully opened dynamic library libcuda.so.1\n",
      "2022-02-15 14:10:41.016212: I tensorflow/core/common_runtime/gpu/gpu_device.cc:1734] Found device 0 with properties: \n",
      "pciBusID: 0000:21:00.0 name: NVIDIA GeForce RTX 2080 Ti computeCapability: 7.5\n",
      "coreClock: 1.545GHz coreCount: 68 deviceMemorySize: 10.76GiB deviceMemoryBandwidth: 573.69GiB/s\n",
      "2022-02-15 14:10:41.016269: I tensorflow/stream_executor/platform/default/dso_loader.cc:54] Successfully opened dynamic library libcudart.so.11.0\n",
      "2022-02-15 14:10:41.019582: I tensorflow/stream_executor/platform/default/dso_loader.cc:54] Successfully opened dynamic library libcublas.so.11\n",
      "2022-02-15 14:10:41.019645: I tensorflow/stream_executor/platform/default/dso_loader.cc:54] Successfully opened dynamic library libcublasLt.so.11\n",
      "2022-02-15 14:10:41.021218: I tensorflow/stream_executor/platform/default/dso_loader.cc:54] Successfully opened dynamic library libcufft.so.10\n",
      "2022-02-15 14:10:41.021525: I tensorflow/stream_executor/platform/default/dso_loader.cc:54] Successfully opened dynamic library libcurand.so.10\n",
      "2022-02-15 14:10:41.022194: I tensorflow/stream_executor/platform/default/dso_loader.cc:54] Successfully opened dynamic library libcutensor.so.1\n",
      "2022-02-15 14:10:41.022652: I tensorflow/stream_executor/platform/default/dso_loader.cc:54] Successfully opened dynamic library libcusolver.so.11\n",
      "2022-02-15 14:10:41.023333: I tensorflow/stream_executor/platform/default/dso_loader.cc:54] Successfully opened dynamic library libcusparse.so.11\n",
      "2022-02-15 14:10:41.023476: I tensorflow/stream_executor/platform/default/dso_loader.cc:54] Successfully opened dynamic library libcudnn.so.8\n",
      "2022-02-15 14:10:41.023843: I tensorflow/core/common_runtime/gpu/gpu_device.cc:1872] Adding visible gpu devices: 0\n"
     ]
    }
   ],
   "source": [
    "import h5py\n",
    "import numpy as np\n",
    "\n",
    "from sklearn.model_selection import train_test_split\n",
    "from sklearn.metrics import classification_report, confusion_matrix\n",
    "import matplotlib.pyplot as plt\n",
    "import itertools \n",
    "import pyts\n",
    "from pyts.approximation import PiecewiseAggregateApproximation\n",
    "\n",
    "from sklearn.utils import class_weight\n",
    "\n",
    "import pathlib\n",
    "import tensorflow as tf\n",
    "from tensorflow import keras\n",
    "from tensorflow.keras import layers, optimizers\n",
    "from tensorflow.keras.layers import Convolution2D,Conv2D, Dense,Dropout, Flatten, Activation, MaxPooling2D, Input, Conv1D, GlobalAveragePooling1D, TimeDistributed, GRU, LSTM\n",
    "\n",
    "print(tf.__version__)\n",
    "print(\"Num GPUs Available: \", len(tf.config.list_physical_devices('GPU')))\n",
    "gpus = tf.config.experimental.list_physical_devices('GPU')\n",
    "\n",
    "try:\n",
    "    for gpu in gpus:\n",
    "        tf.config.experimental.set_memory_growth(gpu, True)\n",
    "except RuntimeError as e:\n",
    "    print(e)"
   ]
  },
  {
   "cell_type": "code",
   "execution_count": 2,
   "metadata": {
    "execution": {
     "iopub.execute_input": "2022-02-15T14:10:41.039069Z",
     "iopub.status.busy": "2022-02-15T14:10:41.038092Z",
     "iopub.status.idle": "2022-02-15T14:10:41.041372Z",
     "shell.execute_reply": "2022-02-15T14:10:41.042167Z"
    }
   },
   "outputs": [
    {
     "name": "stdout",
     "output_type": "stream",
     "text": [
      "redd_gen_GASF_60m_300S0X_R82_80-20\n"
     ]
    }
   ],
   "source": [
    "from os import environ\n",
    "dataset = environ['dataset']\n",
    "print(dataset)"
   ]
  },
  {
   "cell_type": "code",
   "execution_count": 3,
   "metadata": {
    "execution": {
     "iopub.execute_input": "2022-02-15T14:10:41.047507Z",
     "iopub.status.busy": "2022-02-15T14:10:41.046536Z",
     "iopub.status.idle": "2022-02-15T14:10:41.050881Z",
     "shell.execute_reply": "2022-02-15T14:10:41.051685Z"
    }
   },
   "outputs": [],
   "source": [
    "#my defs \n",
    "from modules.models import  VGG11,LSTM_3D_V56,CNN_V56,LSTM_BI_V56\n",
    "from modules.tools import my_print, plot_confusion_matrix_norm, get_data,get_data_split, evaluate_model, create_tl_model\n",
    "from modules.HDF5ImageGenerator import HDF5ImageGenerator"
   ]
  },
  {
   "cell_type": "code",
   "execution_count": 4,
   "metadata": {
    "execution": {
     "iopub.execute_input": "2022-02-15T14:10:41.059971Z",
     "iopub.status.busy": "2022-02-15T14:10:41.058728Z",
     "iopub.status.idle": "2022-02-15T14:10:41.062421Z",
     "shell.execute_reply": "2022-02-15T14:10:41.061398Z"
    },
    "id": "RT1vwq7-KOtB"
   },
   "outputs": [],
   "source": [
    "#LOAD DATASET\n",
    "#file_name = \"ukdale_gen_GASF_13m_100S5X12A54480\"\n",
    "#file_name = \"refit_gen_GASF_13m_100S5X_15A166006\"\n",
    "file_name = \"refit_gen_GASF_13m_100S5X_15A166006_R42-80-20\"\n",
    "#file_name = \"refit_gen_GASF_13m_100S5X_15A166006_R42_80-20\"\n",
    "file_name = \"refit_gen_GASF_60m_300S0X_15A157030N_R12_80-20-V1\"\n",
    "file_name = environ[\"dataset\"]\n",
    "#read the file\n",
    "path = str(pathlib.Path().resolve())\n",
    "\n",
    "path_data = f\"{path}\"\"/data/\"f\"{file_name}\"\"/\"f\"{file_name}\"\".hdf5\"\n",
    "\n",
    "file = h5py.File(path_data,\"r+\")"
   ]
  },
  {
   "cell_type": "code",
   "execution_count": 5,
   "metadata": {
    "execution": {
     "iopub.execute_input": "2022-02-15T14:10:41.069331Z",
     "iopub.status.busy": "2022-02-15T14:10:41.068146Z",
     "iopub.status.idle": "2022-02-15T14:10:41.427347Z",
     "shell.execute_reply": "2022-02-15T14:10:41.428428Z"
    },
    "scrolled": true
   },
   "outputs": [
    {
     "name": "stdout",
     "output_type": "stream",
     "text": [
      "['fridge/freezer', 'electric furnace', 'light', 'microwave', 'sockets']\n",
      "{0: 0.9442708333333333, 1: 2.8383561643835615, 2: 0.5683385579937305, 3: 5.824899598393574, 4: 0.6033277870216306}\n",
      " \n",
      "Tests \n",
      "fridge/freezer test: 384 train: 1536\n",
      "electric furnace test: 128 train: 511\n",
      "light test: 638 train: 2552\n",
      "microwave test: 62 train: 249\n",
      "sockets test: 601 train: 2404\n"
     ]
    }
   ],
   "source": [
    "x_test,y_test,d_class_weights,num_of_classes,appliances = get_data(file)"
   ]
  },
  {
   "cell_type": "code",
   "execution_count": 6,
   "metadata": {
    "execution": {
     "iopub.execute_input": "2022-02-15T14:10:41.437265Z",
     "iopub.status.busy": "2022-02-15T14:10:41.435938Z",
     "iopub.status.idle": "2022-02-15T14:10:41.438643Z",
     "shell.execute_reply": "2022-02-15T14:10:41.439692Z"
    }
   },
   "outputs": [],
   "source": [
    "def select_model(learn_type):\n",
    "    \n",
    "    if learn_type == \"CNN\":\n",
    "        model = CNN_V56(file[\"data/train/gaf\"][0:10],num_of_classes,lr= 0.00002)\n",
    "\n",
    "    if learn_type == \"LSTM\":\n",
    "        model = LSTM_3D_V56(file[\"data/train/gaf\"][0:10],num_of_classes,lr= 0.00002)\n",
    "\n",
    "    if learn_type == \"BI_LSTM\":\n",
    "        model = LSTM_BI_V56(file[\"data/train/gaf\"][0:10],num_of_classes,lr= 0.00002)\n",
    "        \n",
    "    if learn_type == \"VGG\":\n",
    "        model = VGG11(file[\"data/train/gaf\"][0:10],num_of_classes,lr= 0.00001)\n",
    "\n",
    "    return model\n",
    "              "
   ]
  },
  {
   "cell_type": "code",
   "execution_count": 7,
   "metadata": {
    "execution": {
     "iopub.execute_input": "2022-02-15T14:10:41.447483Z",
     "iopub.status.busy": "2022-02-15T14:10:41.446139Z",
     "iopub.status.idle": "2022-02-15T14:10:41.448881Z",
     "shell.execute_reply": "2022-02-15T14:10:41.449932Z"
    }
   },
   "outputs": [],
   "source": [
    "path_save = path+'/experiment_automation/output/'+environ['learn_type']+'/'+dataset.split(\"_\")[0]+\"/\"+environ['train_type']+\"/\"+dataset.split(\"_\")[0]+\"_\"+environ['seed']+\"_\"+environ['tl_datasets']\n",
    "path_save_nb = path_save+\"_out.ipynb\"\n",
    "path_save_log = path_save+\"_out_log2.txt\""
   ]
  },
  {
   "cell_type": "code",
   "execution_count": 8,
   "metadata": {
    "execution": {
     "iopub.execute_input": "2022-02-15T14:10:41.458978Z",
     "iopub.status.busy": "2022-02-15T14:10:41.457668Z",
     "iopub.status.idle": "2022-02-15T14:10:41.544144Z",
     "shell.execute_reply": "2022-02-15T14:10:41.543460Z"
    }
   },
   "outputs": [],
   "source": [
    "from keras.callbacks import LambdaCallback\n",
    "#path_log= path+'/experiment_automation/output/'+environ['learn_type']+'/'+dataset.split(\"_\")[0]+\"/\"+environ['train_type']+\"/\"+dataset.split(\"_\")[0]+\"_\"+environ['seed']+\"_\"+environ['tl_datasets']+\"_log.txt\"\n",
    "txt_log = open(path_save+\"_log.txt\", mode='wt', buffering=1)\n",
    "txt_log.write(\"file created! \\n\")\n",
    "\n",
    "save_op_callback = LambdaCallback(\n",
    "  on_epoch_end = lambda epoch, logs: txt_log.write(\n",
    "    str({'epoch': epoch, 'loss': logs['loss'],'acc': logs['accuracy']}) + '\\n'),\n",
    "                                                           \n",
    ")"
   ]
  },
  {
   "cell_type": "code",
   "execution_count": 9,
   "metadata": {
    "execution": {
     "iopub.execute_input": "2022-02-15T14:10:41.548740Z",
     "iopub.status.busy": "2022-02-15T14:10:41.547779Z",
     "iopub.status.idle": "2022-02-15T14:10:41.551732Z",
     "shell.execute_reply": "2022-02-15T14:10:41.552803Z"
    }
   },
   "outputs": [
    {
     "name": "stdout",
     "output_type": "stream",
     "text": [
      "/workspace/notebooks/experiment_automation/output/VGG/redd/BB/redd_82__out.ipynb\n"
     ]
    }
   ],
   "source": [
    "print(path_save_nb)"
   ]
  },
  {
   "cell_type": "code",
   "execution_count": 10,
   "metadata": {
    "execution": {
     "iopub.execute_input": "2022-02-15T14:10:41.558509Z",
     "iopub.status.busy": "2022-02-15T14:10:41.557159Z",
     "iopub.status.idle": "2022-02-15T14:10:41.560750Z",
     "shell.execute_reply": "2022-02-15T14:10:41.559779Z"
    }
   },
   "outputs": [],
   "source": [
    "# rm $path_save_log"
   ]
  },
  {
   "cell_type": "code",
   "execution_count": 11,
   "metadata": {
    "execution": {
     "iopub.execute_input": "2022-02-15T14:10:41.566034Z",
     "iopub.status.busy": "2022-02-15T14:10:41.565007Z",
     "iopub.status.idle": "2022-02-15T14:10:41.567229Z",
     "shell.execute_reply": "2022-02-15T14:10:41.568068Z"
    }
   },
   "outputs": [],
   "source": [
    "# %%capture cap \n",
    "\n",
    "# with open(path_save_log,\"wt\") as f:\n",
    "#     f.write(cap.stdout)\n",
    "    \n",
    "# print(\"out capture..\")"
   ]
  },
  {
   "cell_type": "code",
   "execution_count": 12,
   "metadata": {
    "execution": {
     "iopub.execute_input": "2022-02-15T14:10:41.583647Z",
     "iopub.status.busy": "2022-02-15T14:10:41.576399Z",
     "iopub.status.idle": "2022-02-15T15:27:55.897825Z",
     "shell.execute_reply": "2022-02-15T15:27:55.898900Z"
    },
    "id": "vqA9NwOqKrb5",
    "jupyter": {
     "outputs_hidden": true
    },
    "tags": []
   },
   "outputs": [
    {
     "name": "stdout",
     "output_type": "stream",
     "text": [
      "Normal way\n",
      "[0 1 2 3 4 5 6 7 8 9]\n",
      "WARNING:tensorflow:From /usr/local/lib/python3.8/dist-packages/tensorflow/python/ops/array_ops.py:5043: calling gather (from tensorflow.python.ops.array_ops) with validate_indices is deprecated and will be removed in a future version.\n",
      "Instructions for updating:\n",
      "The `validate_indices` argument has no effect. Indices are always validated on CPU and never validated on GPU.\n"
     ]
    },
    {
     "name": "stderr",
     "output_type": "stream",
     "text": [
      "2022-02-15 14:10:41.604296: I tensorflow/core/common_runtime/gpu/gpu_device.cc:1734] Found device 0 with properties: \n",
      "pciBusID: 0000:21:00.0 name: NVIDIA GeForce RTX 2080 Ti computeCapability: 7.5\n",
      "coreClock: 1.545GHz coreCount: 68 deviceMemorySize: 10.76GiB deviceMemoryBandwidth: 573.69GiB/s\n",
      "2022-02-15 14:10:41.604633: I tensorflow/core/common_runtime/gpu/gpu_device.cc:1872] Adding visible gpu devices: 0\n",
      "2022-02-15 14:10:41.604691: I tensorflow/stream_executor/platform/default/dso_loader.cc:54] Successfully opened dynamic library libcudart.so.11.0\n",
      "2022-02-15 14:10:41.977772: I tensorflow/core/common_runtime/gpu/gpu_device.cc:1258] Device interconnect StreamExecutor with strength 1 edge matrix:\n",
      "2022-02-15 14:10:41.977808: I tensorflow/core/common_runtime/gpu/gpu_device.cc:1264]      0 \n",
      "2022-02-15 14:10:41.977815: I tensorflow/core/common_runtime/gpu/gpu_device.cc:1277] 0:   N \n",
      "2022-02-15 14:10:41.978397: I tensorflow/core/common_runtime/gpu/gpu_device.cc:1418] Created TensorFlow device (/job:localhost/replica:0/task:0/device:GPU:0 with 9649 MB memory) -> physical GPU (device: 0, name: NVIDIA GeForce RTX 2080 Ti, pci bus id: 0000:21:00.0, compute capability: 7.5)\n",
      "2022-02-15 14:10:41.978716: I tensorflow/core/common_runtime/process_util.cc:146] Creating new thread pool with default inter op setting: 20. Tune using inter_op_parallelism_threads for best performance.\n",
      "/usr/local/lib/python3.8/dist-packages/tensorflow/python/keras/optimizer_v2/optimizer_v2.py:374: UserWarning: The `lr` argument is deprecated, use `learning_rate` instead.\n",
      "  warnings.warn(\n",
      "2022-02-15 14:10:42.168307: I tensorflow/compiler/mlir/mlir_graph_optimization_pass.cc:176] None of the MLIR Optimization Passes are enabled (registered 2)\n"
     ]
    },
    {
     "name": "stdout",
     "output_type": "stream",
     "text": [
      "Epoch 1/100\n"
     ]
    },
    {
     "name": "stderr",
     "output_type": "stream",
     "text": [
      "2022-02-15 14:10:42.188633: I tensorflow/core/platform/profile_utils/cpu_utils.cc:114] CPU Frequency: 3299990000 Hz\n",
      "2022-02-15 14:10:42.817617: I tensorflow/stream_executor/platform/default/dso_loader.cc:54] Successfully opened dynamic library libcudnn.so.8\n",
      "2022-02-15 14:10:43.320558: I tensorflow/stream_executor/cuda/cuda_dnn.cc:380] Loaded cuDNN version 8202\n",
      "2022-02-15 14:10:43.854692: I tensorflow/stream_executor/platform/default/dso_loader.cc:54] Successfully opened dynamic library libcublas.so.11\n",
      "2022-02-15 14:10:44.283152: I tensorflow/stream_executor/platform/default/dso_loader.cc:54] Successfully opened dynamic library libcublasLt.so.11\n"
     ]
    },
    {
     "name": "stdout",
     "output_type": "stream",
     "text": [
      "227/227 - 50s - loss: 1.4913 - accuracy: 0.3347\n",
      "Epoch 2/100\n",
      "227/227 - 47s - loss: 1.2810 - accuracy: 0.4317\n",
      "Epoch 3/100\n",
      "227/227 - 47s - loss: 1.1508 - accuracy: 0.4985\n",
      "Epoch 4/100\n",
      "227/227 - 47s - loss: 1.0188 - accuracy: 0.5713\n",
      "Epoch 5/100\n",
      "227/227 - 46s - loss: 0.9048 - accuracy: 0.6186\n",
      "Epoch 6/100\n",
      "227/227 - 46s - loss: 0.8430 - accuracy: 0.6429\n",
      "Epoch 7/100\n",
      "227/227 - 46s - loss: 0.7950 - accuracy: 0.6674\n",
      "Epoch 8/100\n",
      "227/227 - 46s - loss: 0.6926 - accuracy: 0.7009\n",
      "Epoch 9/100\n",
      "227/227 - 46s - loss: 0.6153 - accuracy: 0.7186\n",
      "Epoch 10/100\n",
      "227/227 - 46s - loss: 0.8950 - accuracy: 0.6473\n",
      "Epoch 11/100\n",
      "227/227 - 46s - loss: 0.6258 - accuracy: 0.7162\n",
      "Epoch 12/100\n",
      "227/227 - 46s - loss: 0.5086 - accuracy: 0.7500\n",
      "Epoch 13/100\n",
      "227/227 - 47s - loss: 0.5094 - accuracy: 0.7539\n",
      "Epoch 14/100\n",
      "227/227 - 46s - loss: 0.4427 - accuracy: 0.7882\n",
      "Epoch 15/100\n",
      "227/227 - 46s - loss: 0.3952 - accuracy: 0.8108\n",
      "Epoch 16/100\n",
      "227/227 - 46s - loss: 0.3974 - accuracy: 0.8126\n",
      "Epoch 17/100\n",
      "227/227 - 46s - loss: 0.3478 - accuracy: 0.8373\n",
      "Epoch 18/100\n",
      "227/227 - 46s - loss: 0.3012 - accuracy: 0.8526\n",
      "Epoch 19/100\n",
      "227/227 - 46s - loss: 0.2936 - accuracy: 0.8562\n",
      "Epoch 20/100\n",
      "227/227 - 46s - loss: 0.2990 - accuracy: 0.8620\n",
      "Epoch 21/100\n",
      "227/227 - 46s - loss: 0.3160 - accuracy: 0.8451\n",
      "Epoch 22/100\n",
      "227/227 - 46s - loss: 0.4386 - accuracy: 0.8126\n",
      "Epoch 23/100\n",
      "227/227 - 46s - loss: 0.2500 - accuracy: 0.8825\n",
      "Epoch 24/100\n",
      "227/227 - 46s - loss: 0.2588 - accuracy: 0.8770\n",
      "Epoch 25/100\n",
      "227/227 - 46s - loss: 0.2448 - accuracy: 0.8868\n",
      "Epoch 26/100\n",
      "227/227 - 46s - loss: 0.2979 - accuracy: 0.8610\n",
      "Epoch 27/100\n",
      "227/227 - 46s - loss: 0.1799 - accuracy: 0.9124\n",
      "Epoch 28/100\n",
      "227/227 - 46s - loss: 0.1815 - accuracy: 0.9108\n",
      "Epoch 29/100\n",
      "227/227 - 46s - loss: 0.2549 - accuracy: 0.8854\n",
      "Epoch 30/100\n",
      "227/227 - 46s - loss: 0.2381 - accuracy: 0.8974\n",
      "Epoch 31/100\n",
      "227/227 - 46s - loss: 0.1710 - accuracy: 0.9206\n",
      "Epoch 32/100\n",
      "227/227 - 46s - loss: 0.1470 - accuracy: 0.9306\n",
      "Epoch 33/100\n",
      "227/227 - 46s - loss: 0.1282 - accuracy: 0.9381\n",
      "Epoch 34/100\n",
      "227/227 - 46s - loss: 0.1359 - accuracy: 0.9374\n",
      "Epoch 35/100\n",
      "227/227 - 46s - loss: 0.1496 - accuracy: 0.9288\n",
      "Epoch 36/100\n",
      "227/227 - 46s - loss: 0.1173 - accuracy: 0.9425\n",
      "Epoch 37/100\n",
      "227/227 - 46s - loss: 0.1417 - accuracy: 0.9348\n",
      "Epoch 38/100\n",
      "227/227 - 46s - loss: 0.1224 - accuracy: 0.9395\n",
      "Epoch 39/100\n",
      "227/227 - 46s - loss: 0.1036 - accuracy: 0.9497\n",
      "Epoch 40/100\n",
      "227/227 - 46s - loss: 0.1269 - accuracy: 0.9357\n",
      "Epoch 41/100\n",
      "227/227 - 46s - loss: 0.0996 - accuracy: 0.9517\n",
      "Epoch 42/100\n",
      "227/227 - 46s - loss: 0.1102 - accuracy: 0.9464\n",
      "Epoch 43/100\n",
      "227/227 - 46s - loss: 0.1039 - accuracy: 0.9527\n",
      "Epoch 44/100\n",
      "227/227 - 46s - loss: 0.0923 - accuracy: 0.9579\n",
      "Epoch 45/100\n",
      "227/227 - 46s - loss: 0.0940 - accuracy: 0.9542\n",
      "Epoch 46/100\n",
      "227/227 - 46s - loss: 0.2464 - accuracy: 0.8988\n",
      "Epoch 47/100\n",
      "227/227 - 46s - loss: 0.2002 - accuracy: 0.9306\n",
      "Epoch 48/100\n",
      "227/227 - 46s - loss: 0.0855 - accuracy: 0.9619\n",
      "Epoch 49/100\n",
      "227/227 - 46s - loss: 0.0738 - accuracy: 0.9661\n",
      "Epoch 50/100\n",
      "227/227 - 46s - loss: 0.0700 - accuracy: 0.9681\n",
      "Epoch 51/100\n",
      "227/227 - 46s - loss: 0.0735 - accuracy: 0.9633\n",
      "Epoch 52/100\n",
      "227/227 - 46s - loss: 0.0893 - accuracy: 0.9601\n",
      "Epoch 53/100\n",
      "227/227 - 46s - loss: 0.1280 - accuracy: 0.9458\n",
      "Epoch 54/100\n",
      "227/227 - 46s - loss: 0.0756 - accuracy: 0.9677\n",
      "Epoch 55/100\n",
      "227/227 - 46s - loss: 0.0629 - accuracy: 0.9737\n",
      "Epoch 56/100\n",
      "227/227 - 46s - loss: 0.1180 - accuracy: 0.9498\n",
      "Epoch 57/100\n",
      "227/227 - 46s - loss: 0.0712 - accuracy: 0.9690\n",
      "Epoch 58/100\n",
      "227/227 - 46s - loss: 0.0601 - accuracy: 0.9745\n",
      "Epoch 59/100\n",
      "227/227 - 46s - loss: 0.0520 - accuracy: 0.9761\n",
      "Epoch 60/100\n",
      "227/227 - 46s - loss: 0.0569 - accuracy: 0.9771\n",
      "Epoch 61/100\n",
      "227/227 - 46s - loss: 0.0938 - accuracy: 0.9584\n",
      "Epoch 62/100\n",
      "227/227 - 46s - loss: 0.0556 - accuracy: 0.9744\n",
      "Epoch 63/100\n",
      "227/227 - 46s - loss: 0.0775 - accuracy: 0.9672\n",
      "Epoch 64/100\n",
      "227/227 - 46s - loss: 0.0640 - accuracy: 0.9717\n",
      "Epoch 65/100\n",
      "227/227 - 46s - loss: 0.0569 - accuracy: 0.9746\n",
      "Epoch 66/100\n",
      "227/227 - 46s - loss: 0.0531 - accuracy: 0.9767\n",
      "Epoch 67/100\n",
      "227/227 - 46s - loss: 0.2177 - accuracy: 0.9199\n",
      "Epoch 68/100\n",
      "227/227 - 46s - loss: 0.0796 - accuracy: 0.9664\n",
      "Epoch 69/100\n",
      "227/227 - 46s - loss: 0.0535 - accuracy: 0.9741\n",
      "Epoch 70/100\n",
      "227/227 - 46s - loss: 0.0466 - accuracy: 0.9781\n",
      "Epoch 71/100\n",
      "227/227 - 46s - loss: 0.0582 - accuracy: 0.9748\n",
      "Epoch 72/100\n",
      "227/227 - 46s - loss: 0.0492 - accuracy: 0.9795\n",
      "Epoch 73/100\n",
      "227/227 - 46s - loss: 0.0442 - accuracy: 0.9818\n",
      "Epoch 74/100\n",
      "227/227 - 46s - loss: 0.0380 - accuracy: 0.9839\n",
      "Epoch 75/100\n",
      "227/227 - 46s - loss: 0.0472 - accuracy: 0.9796\n",
      "Epoch 76/100\n",
      "227/227 - 46s - loss: 0.0888 - accuracy: 0.9636\n",
      "Epoch 77/100\n",
      "227/227 - 46s - loss: 0.0823 - accuracy: 0.9606\n",
      "Epoch 78/100\n",
      "227/227 - 46s - loss: 0.0943 - accuracy: 0.9651\n",
      "Epoch 79/100\n",
      "227/227 - 46s - loss: 0.0577 - accuracy: 0.9784\n",
      "Epoch 80/100\n",
      "227/227 - 46s - loss: 0.0415 - accuracy: 0.9823\n",
      "Epoch 81/100\n",
      "227/227 - 46s - loss: 0.0369 - accuracy: 0.9851\n",
      "Epoch 82/100\n",
      "227/227 - 46s - loss: 0.0417 - accuracy: 0.9839\n",
      "Epoch 83/100\n",
      "227/227 - 46s - loss: 0.0484 - accuracy: 0.9796\n",
      "Epoch 84/100\n",
      "227/227 - 46s - loss: 0.1508 - accuracy: 0.9400\n",
      "Epoch 85/100\n",
      "227/227 - 46s - loss: 0.0952 - accuracy: 0.9607\n",
      "Epoch 86/100\n",
      "227/227 - 46s - loss: 0.0456 - accuracy: 0.9804\n",
      "Epoch 87/100\n",
      "227/227 - 46s - loss: 0.0443 - accuracy: 0.9815\n",
      "Epoch 88/100\n",
      "227/227 - 46s - loss: 0.0349 - accuracy: 0.9844\n",
      "Epoch 89/100\n",
      "227/227 - 46s - loss: 0.0334 - accuracy: 0.9857\n",
      "Epoch 90/100\n",
      "227/227 - 46s - loss: 0.0388 - accuracy: 0.9835\n",
      "Epoch 91/100\n",
      "227/227 - 46s - loss: 0.0364 - accuracy: 0.9839\n",
      "Epoch 92/100\n",
      "227/227 - 46s - loss: 0.0384 - accuracy: 0.9822\n",
      "Epoch 93/100\n",
      "227/227 - 46s - loss: 0.0300 - accuracy: 0.9870\n",
      "Epoch 94/100\n",
      "227/227 - 46s - loss: 0.0576 - accuracy: 0.9721\n",
      "Epoch 95/100\n",
      "227/227 - 46s - loss: 0.0415 - accuracy: 0.9833\n",
      "Epoch 96/100\n",
      "227/227 - 46s - loss: 0.0539 - accuracy: 0.9756\n",
      "Epoch 97/100\n",
      "227/227 - 46s - loss: 0.0346 - accuracy: 0.9844\n",
      "Epoch 98/100\n",
      "227/227 - 46s - loss: 0.0407 - accuracy: 0.9811\n",
      "Epoch 99/100\n",
      "227/227 - 46s - loss: 0.0435 - accuracy: 0.9825\n",
      "Epoch 100/100\n",
      "227/227 - 46s - loss: 0.0362 - accuracy: 0.9848\n",
      "57/57 - 3s\n",
      "Normalized confusion matrix\n",
      "                  precision    recall  f1-score   support\n",
      "\n",
      "  fridge/freezer       0.88      0.93      0.90       384\n",
      "electric furnace       0.96      0.91      0.93       128\n",
      "           light       0.85      0.79      0.82       638\n",
      "       microwave       0.52      0.63      0.57        62\n",
      "         sockets       0.78      0.80      0.79       601\n",
      "\n",
      "        accuracy                           0.82      1813\n",
      "       macro avg       0.80      0.81      0.80      1813\n",
      "    weighted avg       0.83      0.82      0.83      1813\n",
      "\n"
     ]
    },
    {
     "name": "stderr",
     "output_type": "stream",
     "text": [
      "2022-02-15 15:27:52.491773: W tensorflow/python/util/util.cc:348] Sets are not currently considered sequences, but this may change in the future, so consider avoiding using them.\n"
     ]
    },
    {
     "name": "stdout",
     "output_type": "stream",
     "text": [
      "INFO:tensorflow:Assets written to: /workspace/notebooks/models/VGG/redd_82/assets\n"
     ]
    },
    {
     "data": {
      "image/png": "[encoded data removed]",
      "text/plain": [
       "<Figure size 720x720 with 2 Axes>"
      ]
     },
     "metadata": {
      "needs_background": "light"
     },
     "output_type": "display_data"
    }
   ],
   "source": [
    "# %%capture cap --no-stderr\n",
    "\n",
    "\n",
    "if environ['train_type'] == \"BB\":\n",
    "\n",
    "    #define generator\n",
    "    train_gen = HDF5ImageGenerator(\n",
    "        src= path_data,\n",
    "        X_key=\"data/train/gaf\",\n",
    "        y_key=\"labels/train/gaf\",\n",
    "        classes_key=\"appliances/classes\",\n",
    "        labels_encoding=\"hot\",\n",
    "        shuffle=True,\n",
    "        batch_size=int(environ['batch_size']),\n",
    "        num_classes=num_of_classes,\n",
    "        mode=\"train\",\n",
    "        )\n",
    "    \n",
    "    model = select_model(environ['learn_type'])\n",
    "    \n",
    "    txt_log.write(\"fitting BB model: \\n\")\n",
    "    \n",
    "    model.fit(\n",
    "        train_gen,\n",
    "        verbose=2,\n",
    "        epochs=int(environ['epochs']),\n",
    "        class_weight=d_class_weights,\n",
    "        callbacks = [save_op_callback],\n",
    "    )\n",
    "    \n",
    "    txt_log.write(\"finished fitting BB model: \\n\")\n",
    "\n",
    "    evaluate_model(model,x_test,y_test,appliances)\n",
    "    \n",
    "    if environ['save_model']==\"True\":\n",
    "\n",
    "        path_model_save = path+\"/models/\"+environ['learn_type']+\"/\"+dataset.split(\"_\")[0]+\"_\"+dataset.split(\"_R\")[1][0:2]\n",
    "        model.save(path_model_save)\n",
    "        txt_log.write(\"model saved to:\"+\"/models/\"+environ['learn_type']+\"/\"+dataset.split(\"_\")[0]+\"_\"+dataset.split(\"_R\")[1][0:2]+\" \\n\")\n",
    "        \n",
    "        \n",
    "# with open(path_save+\"_out_log.txt\" as f:\n",
    "#     f.write(cap.stdout)\n"
   ]
  },
  {
   "cell_type": "code",
   "execution_count": 13,
   "metadata": {
    "collapsed": true,
    "execution": {
     "iopub.execute_input": "2022-02-15T15:27:55.904620Z",
     "iopub.status.busy": "2022-02-15T15:27:55.903231Z",
     "iopub.status.idle": "2022-02-15T15:27:55.906912Z",
     "shell.execute_reply": "2022-02-15T15:27:55.905907Z"
    }
   },
   "outputs": [],
   "source": [
    "#model = keras.models.load_model(path_model1)\n",
    "# model_used = model"
   ]
  },
  {
   "cell_type": "code",
   "execution_count": 14,
   "metadata": {
    "collapsed": true,
    "execution": {
     "iopub.execute_input": "2022-02-15T15:27:55.912044Z",
     "iopub.status.busy": "2022-02-15T15:27:55.911006Z",
     "iopub.status.idle": "2022-02-15T15:27:55.913163Z",
     "shell.execute_reply": "2022-02-15T15:27:55.914008Z"
    },
    "jupyter": {
     "outputs_hidden": true
    },
    "tags": []
   },
   "outputs": [],
   "source": [
    "# evaluate_model(model,x_test,y_test,appliances)"
   ]
  },
  {
   "cell_type": "code",
   "execution_count": 15,
   "metadata": {
    "collapsed": true,
    "execution": {
     "iopub.execute_input": "2022-02-15T15:27:55.930384Z",
     "iopub.status.busy": "2022-02-15T15:27:55.929017Z",
     "iopub.status.idle": "2022-02-15T15:27:55.931758Z",
     "shell.execute_reply": "2022-02-15T15:27:55.932962Z"
    }
   },
   "outputs": [],
   "source": [
    "# datasets =[\n",
    "#     \"ukdale_gen_GASF_13m_100S5X12A54480_R82_80-20\"\n",
    "# ]\n",
    "\n",
    "if environ['train_type'] == \"TL\": \n",
    "    models = environ['tl_datasets'].replace(\" \",\"\").split(\",\")\n",
    "    #model = [\"base\"]\n",
    "    \n",
    "    for model in models:\n",
    "    \n",
    "        file_name = dataset\n",
    "        \n",
    "        datasetTL = model\n",
    "        \n",
    "        seed = dataset.split(\"_R\")[1][0:2]\n",
    "        \n",
    "        print(\"using dataset data\",dataset.split(\"_\")[0],\"training on model\",model,\"seed\",environ['seed'])\n",
    "        txt_log.write(\"starting \"+dataset.split(\"_\")[0]+\" training on model \"+model+\" seed \"+environ['seed']+\"\\n\")\n",
    "\n",
    "\n",
    "        tf.keras.backend.clear_session()\n",
    "\n",
    "\n",
    "        #read the file\n",
    "        path = str(pathlib.Path().resolve())\n",
    "        path_data = f\"{path}\"\"/data/\"f\"{file_name}\"\"/\"f\"{file_name}\"\".hdf5\"\n",
    "        file = h5py.File(path_data,\"r+\")\n",
    "\n",
    "\n",
    "        print(\"reading data, printing stats: \")\n",
    "        x_test,y_test,d_class_weights,num_of_classes,appliances = get_data(file)\n",
    "        print(\"loading model\")\n",
    "        \n",
    "        model_seed = 42\n",
    "        model_used = create_tl_model(model,environ['learn_type'],model_seed,path,num_of_classes)\n",
    "                \n",
    "        train_gen = HDF5ImageGenerator(\n",
    "            src= path_data,\n",
    "            X_key=\"data/train/gaf\",\n",
    "            y_key=\"labels/train/gaf\",\n",
    "            classes_key=\"appliances/classes\",\n",
    "            labels_encoding=\"hot\",\n",
    "            shuffle=True,\n",
    "            batch_size=int(environ['batch_size']),\n",
    "            num_classes=num_of_classes,\n",
    "            mode=\"train\",\n",
    "            )\n",
    "\n",
    "        model_used.fit(\n",
    "            train_gen,\n",
    "            verbose=2,\n",
    "            epochs=int(environ['epochs']),\n",
    "            class_weight=d_class_weights,\n",
    "            callbacks = [save_op_callback]\n",
    "            #workers = 6,\n",
    "        )\n",
    "        \n",
    "        txt_log.write(\"finished \"+dataset.split(\"_\")[0]+\" training on model \"+model+\" seed \"+environ['seed']+\"\\n\")\n",
    "\n",
    "\n",
    "        evaluate_model(model_used,x_test,y_test,appliances)\n",
    "        \n",
    "\n",
    "\n",
    "\n",
    "        #del model_used\n",
    "\n"
   ]
  },
  {
   "cell_type": "code",
   "execution_count": 16,
   "metadata": {
    "execution": {
     "iopub.execute_input": "2022-02-15T15:27:55.937136Z",
     "iopub.status.busy": "2022-02-15T15:27:55.936638Z",
     "iopub.status.idle": "2022-02-15T15:27:55.939177Z",
     "shell.execute_reply": "2022-02-15T15:27:55.939716Z"
    }
   },
   "outputs": [],
   "source": [
    "txt_log.close()"
   ]
  },
  {
   "cell_type": "code",
   "execution_count": null,
   "metadata": {},
   "outputs": [],
   "source": []
  }
 ],
 "metadata": {
  "colab": {
   "authorship_tag": "ABX9TyMej4PvP65qsLng7TnQKWA4",
   "name": "LSTM-gen",
   "provenance": []
  },
  "kernelspec": {
   "display_name": "Python 3 (ipykernel)",
   "language": "python",
   "name": "python3"
  },
  "language_info": {
   "codemirror_mode": {
    "name": "ipython",
    "version": 3
   },
   "file_extension": ".py",
   "mimetype": "text/x-python",
   "name": "python",
   "nbconvert_exporter": "python",
   "pygments_lexer": "ipython3",
   "version": "3.8.10"
  }
 },
 "nbformat": 4,
 "nbformat_minor": 4
}
