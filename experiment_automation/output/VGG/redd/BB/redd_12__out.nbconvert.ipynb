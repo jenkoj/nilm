{
 "cells": [
  {
   "cell_type": "code",
   "execution_count": 1,
   "metadata": {
    "execution": {
     "iopub.execute_input": "2022-02-15T11:35:21.334307Z",
     "iopub.status.busy": "2022-02-15T11:35:21.332846Z",
     "iopub.status.idle": "2022-02-15T11:35:23.031715Z",
     "shell.execute_reply": "2022-02-15T11:35:23.030401Z"
    },
    "id": "WqUfHWgtJxtu",
    "scrolled": true,
    "tags": []
   },
   "outputs": [
    {
     "name": "stderr",
     "output_type": "stream",
     "text": [
      "2022-02-15 11:35:22.165900: I tensorflow/stream_executor/platform/default/dso_loader.cc:54] Successfully opened dynamic library libcudart.so.11.0\n"
     ]
    },
    {
     "name": "stdout",
     "output_type": "stream",
     "text": [
      "2.5.0\n",
      "Num GPUs Available:  1\n"
     ]
    },
    {
     "name": "stderr",
     "output_type": "stream",
     "text": [
      "2022-02-15 11:35:22.962066: I tensorflow/stream_executor/platform/default/dso_loader.cc:54] Successfully opened dynamic library libcuda.so.1\n",
      "2022-02-15 11:35:23.013061: I tensorflow/core/common_runtime/gpu/gpu_device.cc:1734] Found device 0 with properties: \n",
      "pciBusID: 0000:21:00.0 name: NVIDIA GeForce RTX 2080 Ti computeCapability: 7.5\n",
      "coreClock: 1.545GHz coreCount: 68 deviceMemorySize: 10.76GiB deviceMemoryBandwidth: 573.69GiB/s\n",
      "2022-02-15 11:35:23.013109: I tensorflow/stream_executor/platform/default/dso_loader.cc:54] Successfully opened dynamic library libcudart.so.11.0\n",
      "2022-02-15 11:35:23.016640: I tensorflow/stream_executor/platform/default/dso_loader.cc:54] Successfully opened dynamic library libcublas.so.11\n",
      "2022-02-15 11:35:23.016705: I tensorflow/stream_executor/platform/default/dso_loader.cc:54] Successfully opened dynamic library libcublasLt.so.11\n",
      "2022-02-15 11:35:23.018363: I tensorflow/stream_executor/platform/default/dso_loader.cc:54] Successfully opened dynamic library libcufft.so.10\n",
      "2022-02-15 11:35:23.018659: I tensorflow/stream_executor/platform/default/dso_loader.cc:54] Successfully opened dynamic library libcurand.so.10\n",
      "2022-02-15 11:35:23.019393: I tensorflow/stream_executor/platform/default/dso_loader.cc:54] Successfully opened dynamic library libcutensor.so.1\n",
      "2022-02-15 11:35:23.019885: I tensorflow/stream_executor/platform/default/dso_loader.cc:54] Successfully opened dynamic library libcusolver.so.11\n",
      "2022-02-15 11:35:23.020653: I tensorflow/stream_executor/platform/default/dso_loader.cc:54] Successfully opened dynamic library libcusparse.so.11\n",
      "2022-02-15 11:35:23.020793: I tensorflow/stream_executor/platform/default/dso_loader.cc:54] Successfully opened dynamic library libcudnn.so.8\n",
      "2022-02-15 11:35:23.021176: I tensorflow/core/common_runtime/gpu/gpu_device.cc:1872] Adding visible gpu devices: 0\n"
     ]
    }
   ],
   "source": [
    "import h5py\n",
    "import numpy as np\n",
    "\n",
    "from sklearn.model_selection import train_test_split\n",
    "from sklearn.metrics import classification_report, confusion_matrix\n",
    "import matplotlib.pyplot as plt\n",
    "import itertools \n",
    "import pyts\n",
    "from pyts.approximation import PiecewiseAggregateApproximation\n",
    "\n",
    "from sklearn.utils import class_weight\n",
    "\n",
    "import pathlib\n",
    "import tensorflow as tf\n",
    "from tensorflow import keras\n",
    "from tensorflow.keras import layers, optimizers\n",
    "from tensorflow.keras.layers import Convolution2D,Conv2D, Dense,Dropout, Flatten, Activation, MaxPooling2D, Input, Conv1D, GlobalAveragePooling1D, TimeDistributed, GRU, LSTM\n",
    "\n",
    "print(tf.__version__)\n",
    "print(\"Num GPUs Available: \", len(tf.config.list_physical_devices('GPU')))\n",
    "gpus = tf.config.experimental.list_physical_devices('GPU')\n",
    "\n",
    "try:\n",
    "    for gpu in gpus:\n",
    "        tf.config.experimental.set_memory_growth(gpu, True)\n",
    "except RuntimeError as e:\n",
    "    print(e)"
   ]
  },
  {
   "cell_type": "code",
   "execution_count": 2,
   "metadata": {
    "execution": {
     "iopub.execute_input": "2022-02-15T11:35:23.038202Z",
     "iopub.status.busy": "2022-02-15T11:35:23.036912Z",
     "iopub.status.idle": "2022-02-15T11:35:23.042047Z",
     "shell.execute_reply": "2022-02-15T11:35:23.041078Z"
    }
   },
   "outputs": [
    {
     "name": "stdout",
     "output_type": "stream",
     "text": [
      "redd_gen_GASF_60m_300S0X_R12_80-20\n"
     ]
    }
   ],
   "source": [
    "from os import environ\n",
    "dataset = environ['dataset']\n",
    "print(dataset)"
   ]
  },
  {
   "cell_type": "code",
   "execution_count": 3,
   "metadata": {
    "execution": {
     "iopub.execute_input": "2022-02-15T11:35:23.048978Z",
     "iopub.status.busy": "2022-02-15T11:35:23.047849Z",
     "iopub.status.idle": "2022-02-15T11:35:23.051960Z",
     "shell.execute_reply": "2022-02-15T11:35:23.052898Z"
    }
   },
   "outputs": [],
   "source": [
    "#my defs \n",
    "from modules.models import  VGG11,LSTM_3D_V56,CNN_V56,LSTM_BI_V56\n",
    "from modules.tools import my_print, plot_confusion_matrix_norm, get_data,get_data_split, evaluate_model, create_tl_model\n",
    "from modules.HDF5ImageGenerator import HDF5ImageGenerator"
   ]
  },
  {
   "cell_type": "code",
   "execution_count": 4,
   "metadata": {
    "execution": {
     "iopub.execute_input": "2022-02-15T11:35:23.065352Z",
     "iopub.status.busy": "2022-02-15T11:35:23.064134Z",
     "iopub.status.idle": "2022-02-15T11:35:23.066629Z",
     "shell.execute_reply": "2022-02-15T11:35:23.067599Z"
    },
    "id": "RT1vwq7-KOtB"
   },
   "outputs": [],
   "source": [
    "#LOAD DATASET\n",
    "#file_name = \"ukdale_gen_GASF_13m_100S5X12A54480\"\n",
    "#file_name = \"refit_gen_GASF_13m_100S5X_15A166006\"\n",
    "file_name = \"refit_gen_GASF_13m_100S5X_15A166006_R42-80-20\"\n",
    "#file_name = \"refit_gen_GASF_13m_100S5X_15A166006_R42_80-20\"\n",
    "file_name = \"refit_gen_GASF_60m_300S0X_15A157030N_R12_80-20-V1\"\n",
    "file_name = environ[\"dataset\"]\n",
    "#read the file\n",
    "path = str(pathlib.Path().resolve())\n",
    "\n",
    "path_data = f\"{path}\"\"/data/\"f\"{file_name}\"\"/\"f\"{file_name}\"\".hdf5\"\n",
    "\n",
    "file = h5py.File(path_data,\"r+\")"
   ]
  },
  {
   "cell_type": "code",
   "execution_count": 5,
   "metadata": {
    "execution": {
     "iopub.execute_input": "2022-02-15T11:35:23.074360Z",
     "iopub.status.busy": "2022-02-15T11:35:23.073178Z",
     "iopub.status.idle": "2022-02-15T11:35:23.429610Z",
     "shell.execute_reply": "2022-02-15T11:35:23.430631Z"
    },
    "scrolled": true
   },
   "outputs": [
    {
     "name": "stdout",
     "output_type": "stream",
     "text": [
      "['fridge/freezer', 'electric furnace', 'light', 'microwave', 'sockets']\n",
      "{0: 0.9442708333333333, 1: 2.8383561643835615, 2: 0.5683385579937305, 3: 5.824899598393574, 4: 0.6033277870216306}\n",
      " \n",
      "Tests \n",
      "fridge/freezer test: 384 train: 1536\n",
      "electric furnace test: 128 train: 511\n",
      "light test: 638 train: 2552\n",
      "microwave test: 62 train: 249\n",
      "sockets test: 601 train: 2404\n"
     ]
    }
   ],
   "source": [
    "x_test,y_test,d_class_weights,num_of_classes,appliances = get_data(file)"
   ]
  },
  {
   "cell_type": "code",
   "execution_count": 6,
   "metadata": {
    "execution": {
     "iopub.execute_input": "2022-02-15T11:35:23.444016Z",
     "iopub.status.busy": "2022-02-15T11:35:23.434974Z",
     "iopub.status.idle": "2022-02-15T11:35:23.447379Z",
     "shell.execute_reply": "2022-02-15T11:35:23.446380Z"
    }
   },
   "outputs": [],
   "source": [
    "def select_model(learn_type):\n",
    "    \n",
    "    if learn_type == \"CNN\":\n",
    "        model = CNN_V56(file[\"data/train/gaf\"][0:10],num_of_classes,lr= 0.00002)\n",
    "\n",
    "    if learn_type == \"LSTM\":\n",
    "        model = LSTM_3D_V56(file[\"data/train/gaf\"][0:10],num_of_classes,lr= 0.00002)\n",
    "\n",
    "    if learn_type == \"BI_LSTM\":\n",
    "        model = LSTM_BI_V56(file[\"data/train/gaf\"][0:10],num_of_classes,lr= 0.00002)\n",
    "        \n",
    "    if learn_type == \"VGG\":\n",
    "        model = VGG11(file[\"data/train/gaf\"][0:10],num_of_classes,lr= 0.00001)\n",
    "\n",
    "    return model\n",
    "              "
   ]
  },
  {
   "cell_type": "code",
   "execution_count": 7,
   "metadata": {
    "execution": {
     "iopub.execute_input": "2022-02-15T11:35:23.456672Z",
     "iopub.status.busy": "2022-02-15T11:35:23.455417Z",
     "iopub.status.idle": "2022-02-15T11:35:23.459364Z",
     "shell.execute_reply": "2022-02-15T11:35:23.458348Z"
    }
   },
   "outputs": [],
   "source": [
    "path_save = path+'/experiment_automation/output/'+environ['learn_type']+'/'+dataset.split(\"_\")[0]+\"/\"+environ['train_type']+\"/\"+dataset.split(\"_\")[0]+\"_\"+environ['seed']+\"_\"+environ['tl_datasets']\n",
    "path_save_nb = path_save+\"_out.ipynb\"\n",
    "path_save_log = path_save+\"_out_log2.txt\""
   ]
  },
  {
   "cell_type": "code",
   "execution_count": 8,
   "metadata": {
    "execution": {
     "iopub.execute_input": "2022-02-15T11:35:23.470695Z",
     "iopub.status.busy": "2022-02-15T11:35:23.469490Z",
     "iopub.status.idle": "2022-02-15T11:35:23.572344Z",
     "shell.execute_reply": "2022-02-15T11:35:23.571909Z"
    }
   },
   "outputs": [],
   "source": [
    "from keras.callbacks import LambdaCallback\n",
    "#path_log= path+'/experiment_automation/output/'+environ['learn_type']+'/'+dataset.split(\"_\")[0]+\"/\"+environ['train_type']+\"/\"+dataset.split(\"_\")[0]+\"_\"+environ['seed']+\"_\"+environ['tl_datasets']+\"_log.txt\"\n",
    "txt_log = open(path_save+\"_log.txt\", mode='wt', buffering=1)\n",
    "txt_log.write(\"file created! \\n\")\n",
    "\n",
    "save_op_callback = LambdaCallback(\n",
    "  on_epoch_end = lambda epoch, logs: txt_log.write(\n",
    "    str({'epoch': epoch, 'loss': logs['loss'],'acc': logs['accuracy']}) + '\\n'),\n",
    "                                                           \n",
    ")"
   ]
  },
  {
   "cell_type": "code",
   "execution_count": 9,
   "metadata": {
    "execution": {
     "iopub.execute_input": "2022-02-15T11:35:23.578213Z",
     "iopub.status.busy": "2022-02-15T11:35:23.577787Z",
     "iopub.status.idle": "2022-02-15T11:35:23.582421Z",
     "shell.execute_reply": "2022-02-15T11:35:23.582087Z"
    }
   },
   "outputs": [
    {
     "name": "stdout",
     "output_type": "stream",
     "text": [
      "/workspace/notebooks/experiment_automation/output/VGG/redd/BB/redd_12__out.ipynb\n"
     ]
    }
   ],
   "source": [
    "print(path_save_nb)"
   ]
  },
  {
   "cell_type": "code",
   "execution_count": 10,
   "metadata": {
    "execution": {
     "iopub.execute_input": "2022-02-15T11:35:23.587306Z",
     "iopub.status.busy": "2022-02-15T11:35:23.585463Z",
     "iopub.status.idle": "2022-02-15T11:35:23.590651Z",
     "shell.execute_reply": "2022-02-15T11:35:23.590217Z"
    }
   },
   "outputs": [],
   "source": [
    "# rm $path_save_log"
   ]
  },
  {
   "cell_type": "code",
   "execution_count": 11,
   "metadata": {
    "execution": {
     "iopub.execute_input": "2022-02-15T11:35:23.596256Z",
     "iopub.status.busy": "2022-02-15T11:35:23.595533Z",
     "iopub.status.idle": "2022-02-15T11:35:23.599185Z",
     "shell.execute_reply": "2022-02-15T11:35:23.598592Z"
    }
   },
   "outputs": [],
   "source": [
    "# %%capture cap \n",
    "\n",
    "# with open(path_save_log,\"wt\") as f:\n",
    "#     f.write(cap.stdout)\n",
    "    \n",
    "# print(\"out capture..\")"
   ]
  },
  {
   "cell_type": "code",
   "execution_count": 12,
   "metadata": {
    "execution": {
     "iopub.execute_input": "2022-02-15T11:35:23.611572Z",
     "iopub.status.busy": "2022-02-15T11:35:23.607757Z",
     "iopub.status.idle": "2022-02-15T12:52:48.088060Z",
     "shell.execute_reply": "2022-02-15T12:52:48.089166Z"
    },
    "id": "vqA9NwOqKrb5",
    "jupyter": {
     "outputs_hidden": true
    },
    "tags": []
   },
   "outputs": [
    {
     "name": "stdout",
     "output_type": "stream",
     "text": [
      "Normal way\n",
      "[0 1 2 3 4 5 6 7 8 9]\n",
      "WARNING:tensorflow:From /usr/local/lib/python3.8/dist-packages/tensorflow/python/ops/array_ops.py:5043: calling gather (from tensorflow.python.ops.array_ops) with validate_indices is deprecated and will be removed in a future version.\n",
      "Instructions for updating:\n",
      "The `validate_indices` argument has no effect. Indices are always validated on CPU and never validated on GPU.\n"
     ]
    },
    {
     "name": "stderr",
     "output_type": "stream",
     "text": [
      "2022-02-15 11:35:23.631605: I tensorflow/core/common_runtime/gpu/gpu_device.cc:1734] Found device 0 with properties: \n",
      "pciBusID: 0000:21:00.0 name: NVIDIA GeForce RTX 2080 Ti computeCapability: 7.5\n",
      "coreClock: 1.545GHz coreCount: 68 deviceMemorySize: 10.76GiB deviceMemoryBandwidth: 573.69GiB/s\n",
      "2022-02-15 11:35:23.631941: I tensorflow/core/common_runtime/gpu/gpu_device.cc:1872] Adding visible gpu devices: 0\n",
      "2022-02-15 11:35:23.631990: I tensorflow/stream_executor/platform/default/dso_loader.cc:54] Successfully opened dynamic library libcudart.so.11.0\n",
      "2022-02-15 11:35:23.996612: I tensorflow/core/common_runtime/gpu/gpu_device.cc:1258] Device interconnect StreamExecutor with strength 1 edge matrix:\n",
      "2022-02-15 11:35:23.996644: I tensorflow/core/common_runtime/gpu/gpu_device.cc:1264]      0 \n",
      "2022-02-15 11:35:23.996651: I tensorflow/core/common_runtime/gpu/gpu_device.cc:1277] 0:   N \n",
      "2022-02-15 11:35:23.997231: I tensorflow/core/common_runtime/gpu/gpu_device.cc:1418] Created TensorFlow device (/job:localhost/replica:0/task:0/device:GPU:0 with 9649 MB memory) -> physical GPU (device: 0, name: NVIDIA GeForce RTX 2080 Ti, pci bus id: 0000:21:00.0, compute capability: 7.5)\n",
      "2022-02-15 11:35:23.997566: I tensorflow/core/common_runtime/process_util.cc:146] Creating new thread pool with default inter op setting: 20. Tune using inter_op_parallelism_threads for best performance.\n",
      "/usr/local/lib/python3.8/dist-packages/tensorflow/python/keras/optimizer_v2/optimizer_v2.py:374: UserWarning: The `lr` argument is deprecated, use `learning_rate` instead.\n",
      "  warnings.warn(\n",
      "2022-02-15 11:35:24.195145: I tensorflow/compiler/mlir/mlir_graph_optimization_pass.cc:176] None of the MLIR Optimization Passes are enabled (registered 2)\n"
     ]
    },
    {
     "name": "stdout",
     "output_type": "stream",
     "text": [
      "Epoch 1/100\n"
     ]
    },
    {
     "name": "stderr",
     "output_type": "stream",
     "text": [
      "2022-02-15 11:35:24.212631: I tensorflow/core/platform/profile_utils/cpu_utils.cc:114] CPU Frequency: 3299990000 Hz\n",
      "2022-02-15 11:35:24.858007: I tensorflow/stream_executor/platform/default/dso_loader.cc:54] Successfully opened dynamic library libcudnn.so.8\n",
      "2022-02-15 11:35:25.348186: I tensorflow/stream_executor/cuda/cuda_dnn.cc:380] Loaded cuDNN version 8202\n",
      "2022-02-15 11:35:25.873535: I tensorflow/stream_executor/platform/default/dso_loader.cc:54] Successfully opened dynamic library libcublas.so.11\n",
      "2022-02-15 11:35:26.293646: I tensorflow/stream_executor/platform/default/dso_loader.cc:54] Successfully opened dynamic library libcublasLt.so.11\n"
     ]
    },
    {
     "name": "stdout",
     "output_type": "stream",
     "text": [
      "227/227 - 51s - loss: 1.4713 - accuracy: 0.3451\n",
      "Epoch 2/100\n",
      "227/227 - 47s - loss: 1.2332 - accuracy: 0.4406\n",
      "Epoch 3/100\n",
      "227/227 - 47s - loss: 1.1192 - accuracy: 0.4879\n",
      "Epoch 4/100\n",
      "227/227 - 47s - loss: 0.9541 - accuracy: 0.5775\n",
      "Epoch 5/100\n",
      "227/227 - 46s - loss: 0.9350 - accuracy: 0.5843\n",
      "Epoch 6/100\n",
      "227/227 - 46s - loss: 0.8953 - accuracy: 0.6085\n",
      "Epoch 7/100\n",
      "227/227 - 46s - loss: 0.8356 - accuracy: 0.6473\n",
      "Epoch 8/100\n",
      "227/227 - 46s - loss: 0.7379 - accuracy: 0.6747\n",
      "Epoch 9/100\n",
      "227/227 - 46s - loss: 0.7052 - accuracy: 0.6972\n",
      "Epoch 10/100\n",
      "227/227 - 46s - loss: 0.6393 - accuracy: 0.7089\n",
      "Epoch 11/100\n",
      "227/227 - 46s - loss: 0.6124 - accuracy: 0.7232\n",
      "Epoch 12/100\n",
      "227/227 - 46s - loss: 0.4993 - accuracy: 0.7643\n",
      "Epoch 13/100\n",
      "227/227 - 46s - loss: 0.4579 - accuracy: 0.7892\n",
      "Epoch 14/100\n",
      "227/227 - 46s - loss: 0.4124 - accuracy: 0.7987\n",
      "Epoch 15/100\n",
      "227/227 - 46s - loss: 0.3970 - accuracy: 0.8047\n",
      "Epoch 16/100\n",
      "227/227 - 46s - loss: 0.3667 - accuracy: 0.8183\n",
      "Epoch 17/100\n",
      "227/227 - 46s - loss: 0.3461 - accuracy: 0.8362\n",
      "Epoch 18/100\n",
      "227/227 - 46s - loss: 0.3392 - accuracy: 0.8378\n",
      "Epoch 19/100\n",
      "227/227 - 46s - loss: 0.3178 - accuracy: 0.8562\n",
      "Epoch 20/100\n",
      "227/227 - 46s - loss: 0.2790 - accuracy: 0.8675\n",
      "Epoch 21/100\n",
      "227/227 - 46s - loss: 0.3557 - accuracy: 0.8319\n",
      "Epoch 22/100\n",
      "227/227 - 46s - loss: 0.2697 - accuracy: 0.8716\n",
      "Epoch 23/100\n",
      "227/227 - 46s - loss: 0.2133 - accuracy: 0.9004\n",
      "Epoch 24/100\n",
      "227/227 - 46s - loss: 0.2500 - accuracy: 0.8895\n",
      "Epoch 25/100\n",
      "227/227 - 46s - loss: 0.2260 - accuracy: 0.8952\n",
      "Epoch 26/100\n",
      "227/227 - 46s - loss: 0.1719 - accuracy: 0.9200\n",
      "Epoch 27/100\n",
      "227/227 - 46s - loss: 0.1670 - accuracy: 0.9236\n",
      "Epoch 28/100\n",
      "227/227 - 46s - loss: 0.2798 - accuracy: 0.8679\n",
      "Epoch 29/100\n",
      "227/227 - 46s - loss: 0.1784 - accuracy: 0.9141\n",
      "Epoch 30/100\n",
      "227/227 - 46s - loss: 0.1816 - accuracy: 0.9113\n",
      "Epoch 31/100\n",
      "227/227 - 46s - loss: 0.1876 - accuracy: 0.9153\n",
      "Epoch 32/100\n",
      "227/227 - 46s - loss: 0.1417 - accuracy: 0.9328\n",
      "Epoch 33/100\n",
      "227/227 - 46s - loss: 0.1283 - accuracy: 0.9422\n",
      "Epoch 34/100\n",
      "227/227 - 46s - loss: 0.1315 - accuracy: 0.9396\n",
      "Epoch 35/100\n",
      "227/227 - 46s - loss: 0.1317 - accuracy: 0.9384\n",
      "Epoch 36/100\n",
      "227/227 - 46s - loss: 0.1587 - accuracy: 0.9309\n",
      "Epoch 37/100\n",
      "227/227 - 46s - loss: 0.1659 - accuracy: 0.9266\n",
      "Epoch 38/100\n",
      "227/227 - 46s - loss: 0.1463 - accuracy: 0.9357\n",
      "Epoch 39/100\n",
      "227/227 - 46s - loss: 0.1044 - accuracy: 0.9570\n",
      "Epoch 40/100\n",
      "227/227 - 46s - loss: 0.1010 - accuracy: 0.9544\n",
      "Epoch 41/100\n",
      "227/227 - 46s - loss: 0.1727 - accuracy: 0.9275\n",
      "Epoch 42/100\n",
      "227/227 - 46s - loss: 0.1686 - accuracy: 0.9250\n",
      "Epoch 43/100\n",
      "227/227 - 46s - loss: 0.1180 - accuracy: 0.9491\n",
      "Epoch 44/100\n",
      "227/227 - 46s - loss: 0.0870 - accuracy: 0.9637\n",
      "Epoch 45/100\n",
      "227/227 - 46s - loss: 0.1002 - accuracy: 0.9542\n",
      "Epoch 46/100\n",
      "227/227 - 46s - loss: 0.0832 - accuracy: 0.9625\n",
      "Epoch 47/100\n",
      "227/227 - 46s - loss: 0.0965 - accuracy: 0.9600\n",
      "Epoch 48/100\n",
      "227/227 - 46s - loss: 0.0960 - accuracy: 0.9588\n",
      "Epoch 49/100\n",
      "227/227 - 46s - loss: 0.1535 - accuracy: 0.9385\n",
      "Epoch 50/100\n",
      "227/227 - 46s - loss: 0.1025 - accuracy: 0.9571\n",
      "Epoch 51/100\n",
      "227/227 - 46s - loss: 0.0749 - accuracy: 0.9647\n",
      "Epoch 52/100\n",
      "227/227 - 46s - loss: 0.0665 - accuracy: 0.9720\n",
      "Epoch 53/100\n",
      "227/227 - 46s - loss: 0.0772 - accuracy: 0.9662\n",
      "Epoch 54/100\n",
      "227/227 - 46s - loss: 0.0799 - accuracy: 0.9653\n",
      "Epoch 55/100\n",
      "227/227 - 46s - loss: 0.0748 - accuracy: 0.9654\n",
      "Epoch 56/100\n",
      "227/227 - 46s - loss: 0.0615 - accuracy: 0.9737\n",
      "Epoch 57/100\n",
      "227/227 - 46s - loss: 0.0728 - accuracy: 0.9687\n",
      "Epoch 58/100\n",
      "227/227 - 46s - loss: 0.0867 - accuracy: 0.9604\n",
      "Epoch 59/100\n",
      "227/227 - 46s - loss: 0.0620 - accuracy: 0.9753\n",
      "Epoch 60/100\n",
      "227/227 - 46s - loss: 0.0598 - accuracy: 0.9731\n",
      "Epoch 61/100\n",
      "227/227 - 46s - loss: 0.0738 - accuracy: 0.9680\n",
      "Epoch 62/100\n",
      "227/227 - 46s - loss: 0.1135 - accuracy: 0.9541\n",
      "Epoch 63/100\n",
      "227/227 - 46s - loss: 0.0621 - accuracy: 0.9738\n",
      "Epoch 64/100\n",
      "227/227 - 46s - loss: 0.0521 - accuracy: 0.9767\n",
      "Epoch 65/100\n",
      "227/227 - 46s - loss: 0.1529 - accuracy: 0.9531\n",
      "Epoch 66/100\n",
      "227/227 - 46s - loss: 0.0774 - accuracy: 0.9702\n",
      "Epoch 67/100\n",
      "227/227 - 46s - loss: 0.0498 - accuracy: 0.9763\n",
      "Epoch 68/100\n",
      "227/227 - 46s - loss: 0.0517 - accuracy: 0.9770\n",
      "Epoch 69/100\n",
      "227/227 - 46s - loss: 0.0732 - accuracy: 0.9684\n",
      "Epoch 70/100\n",
      "227/227 - 46s - loss: 0.0489 - accuracy: 0.9799\n",
      "Epoch 71/100\n",
      "227/227 - 46s - loss: 0.0458 - accuracy: 0.9811\n",
      "Epoch 72/100\n",
      "227/227 - 46s - loss: 0.0447 - accuracy: 0.9819\n",
      "Epoch 73/100\n",
      "227/227 - 46s - loss: 0.0638 - accuracy: 0.9745\n",
      "Epoch 74/100\n",
      "227/227 - 46s - loss: 0.1362 - accuracy: 0.9490\n",
      "Epoch 75/100\n",
      "227/227 - 46s - loss: 0.0610 - accuracy: 0.9742\n",
      "Epoch 76/100\n",
      "227/227 - 46s - loss: 0.0435 - accuracy: 0.9810\n",
      "Epoch 77/100\n",
      "227/227 - 46s - loss: 0.0446 - accuracy: 0.9817\n",
      "Epoch 78/100\n",
      "227/227 - 46s - loss: 0.0459 - accuracy: 0.9811\n",
      "Epoch 79/100\n",
      "227/227 - 46s - loss: 0.0443 - accuracy: 0.9800\n",
      "Epoch 80/100\n",
      "227/227 - 46s - loss: 0.0396 - accuracy: 0.9833\n",
      "Epoch 81/100\n",
      "227/227 - 46s - loss: 0.0617 - accuracy: 0.9732\n",
      "Epoch 82/100\n",
      "227/227 - 46s - loss: 0.0850 - accuracy: 0.9662\n",
      "Epoch 83/100\n",
      "227/227 - 46s - loss: 0.0578 - accuracy: 0.9724\n",
      "Epoch 84/100\n",
      "227/227 - 46s - loss: 0.0537 - accuracy: 0.9799\n",
      "Epoch 85/100\n",
      "227/227 - 46s - loss: 0.1108 - accuracy: 0.9534\n",
      "Epoch 86/100\n",
      "227/227 - 46s - loss: 0.0695 - accuracy: 0.9748\n",
      "Epoch 87/100\n",
      "227/227 - 46s - loss: 0.0397 - accuracy: 0.9843\n",
      "Epoch 88/100\n",
      "227/227 - 46s - loss: 0.0519 - accuracy: 0.9786\n",
      "Epoch 89/100\n",
      "227/227 - 46s - loss: 0.0373 - accuracy: 0.9839\n",
      "Epoch 90/100\n",
      "227/227 - 46s - loss: 0.0401 - accuracy: 0.9846\n",
      "Epoch 91/100\n",
      "227/227 - 46s - loss: 0.0395 - accuracy: 0.9840\n",
      "Epoch 92/100\n",
      "227/227 - 46s - loss: 0.0515 - accuracy: 0.9763\n",
      "Epoch 93/100\n",
      "227/227 - 46s - loss: 0.1386 - accuracy: 0.9444\n",
      "Epoch 94/100\n",
      "227/227 - 46s - loss: 0.0562 - accuracy: 0.9764\n",
      "Epoch 95/100\n",
      "227/227 - 46s - loss: 0.0401 - accuracy: 0.9837\n",
      "Epoch 96/100\n",
      "227/227 - 46s - loss: 0.0336 - accuracy: 0.9866\n",
      "Epoch 97/100\n",
      "227/227 - 46s - loss: 0.0318 - accuracy: 0.9865\n",
      "Epoch 98/100\n",
      "227/227 - 46s - loss: 0.0332 - accuracy: 0.9848\n",
      "Epoch 99/100\n",
      "227/227 - 46s - loss: 0.0334 - accuracy: 0.9868\n",
      "Epoch 100/100\n",
      "227/227 - 46s - loss: 0.0820 - accuracy: 0.9643\n",
      "57/57 - 4s\n",
      "Normalized confusion matrix\n",
      "                  precision    recall  f1-score   support\n",
      "\n",
      "  fridge/freezer       0.89      0.95      0.92       384\n",
      "electric furnace       0.73      0.93      0.82       128\n",
      "           light       0.81      0.76      0.79       638\n",
      "       microwave       0.42      0.74      0.54        62\n",
      "         sockets       0.82      0.73      0.77       601\n",
      "\n",
      "        accuracy                           0.80      1813\n",
      "       macro avg       0.74      0.82      0.77      1813\n",
      "    weighted avg       0.81      0.80      0.80      1813\n",
      "\n"
     ]
    },
    {
     "name": "stderr",
     "output_type": "stream",
     "text": [
      "2022-02-15 12:52:44.674657: W tensorflow/python/util/util.cc:348] Sets are not currently considered sequences, but this may change in the future, so consider avoiding using them.\n"
     ]
    },
    {
     "name": "stdout",
     "output_type": "stream",
     "text": [
      "INFO:tensorflow:Assets written to: /workspace/notebooks/models/VGG/redd_12/assets\n"
     ]
    },
    {
     "data": {
      "image/png": "[encoded data removed]",
      "text/plain": [
       "<Figure size 720x720 with 2 Axes>"
      ]
     },
     "metadata": {
      "needs_background": "light"
     },
     "output_type": "display_data"
    }
   ],
   "source": [
    "# %%capture cap --no-stderr\n",
    "\n",
    "\n",
    "if environ['train_type'] == \"BB\":\n",
    "\n",
    "    #define generator\n",
    "    train_gen = HDF5ImageGenerator(\n",
    "        src= path_data,\n",
    "        X_key=\"data/train/gaf\",\n",
    "        y_key=\"labels/train/gaf\",\n",
    "        classes_key=\"appliances/classes\",\n",
    "        labels_encoding=\"hot\",\n",
    "        shuffle=True,\n",
    "        batch_size=int(environ['batch_size']),\n",
    "        num_classes=num_of_classes,\n",
    "        mode=\"train\",\n",
    "        )\n",
    "    \n",
    "    model = select_model(environ['learn_type'])\n",
    "    \n",
    "    txt_log.write(\"fitting BB model: \\n\")\n",
    "    \n",
    "    model.fit(\n",
    "        train_gen,\n",
    "        verbose=2,\n",
    "        epochs=int(environ['epochs']),\n",
    "        class_weight=d_class_weights,\n",
    "        callbacks = [save_op_callback],\n",
    "    )\n",
    "    \n",
    "    txt_log.write(\"finished fitting BB model: \\n\")\n",
    "\n",
    "    evaluate_model(model,x_test,y_test,appliances)\n",
    "    \n",
    "    if environ['save_model']==\"True\":\n",
    "\n",
    "        path_model_save = path+\"/models/\"+environ['learn_type']+\"/\"+dataset.split(\"_\")[0]+\"_\"+dataset.split(\"_R\")[1][0:2]\n",
    "        model.save(path_model_save)\n",
    "        txt_log.write(\"model saved to:\"+\"/models/\"+environ['learn_type']+\"/\"+dataset.split(\"_\")[0]+\"_\"+dataset.split(\"_R\")[1][0:2]+\" \\n\")\n",
    "        \n",
    "        \n",
    "# with open(path_save+\"_out_log.txt\" as f:\n",
    "#     f.write(cap.stdout)\n"
   ]
  },
  {
   "cell_type": "code",
   "execution_count": 13,
   "metadata": {
    "collapsed": true,
    "execution": {
     "iopub.execute_input": "2022-02-15T12:52:48.096281Z",
     "iopub.status.busy": "2022-02-15T12:52:48.094982Z",
     "iopub.status.idle": "2022-02-15T12:52:48.097665Z",
     "shell.execute_reply": "2022-02-15T12:52:48.098708Z"
    }
   },
   "outputs": [],
   "source": [
    "#model = keras.models.load_model(path_model1)\n",
    "# model_used = model"
   ]
  },
  {
   "cell_type": "code",
   "execution_count": 14,
   "metadata": {
    "collapsed": true,
    "execution": {
     "iopub.execute_input": "2022-02-15T12:52:48.105536Z",
     "iopub.status.busy": "2022-02-15T12:52:48.104352Z",
     "iopub.status.idle": "2022-02-15T12:52:48.107896Z",
     "shell.execute_reply": "2022-02-15T12:52:48.106920Z"
    },
    "jupyter": {
     "outputs_hidden": true
    },
    "tags": []
   },
   "outputs": [],
   "source": [
    "# evaluate_model(model,x_test,y_test,appliances)"
   ]
  },
  {
   "cell_type": "code",
   "execution_count": 15,
   "metadata": {
    "collapsed": true,
    "execution": {
     "iopub.execute_input": "2022-02-15T12:52:48.130662Z",
     "iopub.status.busy": "2022-02-15T12:52:48.112493Z",
     "iopub.status.idle": "2022-02-15T12:52:48.134608Z",
     "shell.execute_reply": "2022-02-15T12:52:48.133542Z"
    }
   },
   "outputs": [],
   "source": [
    "# datasets =[\n",
    "#     \"ukdale_gen_GASF_13m_100S5X12A54480_R82_80-20\"\n",
    "# ]\n",
    "\n",
    "if environ['train_type'] == \"TL\": \n",
    "    models = environ['tl_datasets'].replace(\" \",\"\").split(\",\")\n",
    "    #model = [\"base\"]\n",
    "    \n",
    "    for model in models:\n",
    "    \n",
    "        file_name = dataset\n",
    "        \n",
    "        datasetTL = model\n",
    "        \n",
    "        seed = dataset.split(\"_R\")[1][0:2]\n",
    "        \n",
    "        print(\"using dataset data\",dataset.split(\"_\")[0],\"training on model\",model,\"seed\",environ['seed'])\n",
    "        txt_log.write(\"starting \"+dataset.split(\"_\")[0]+\" training on model \"+model+\" seed \"+environ['seed']+\"\\n\")\n",
    "\n",
    "\n",
    "        tf.keras.backend.clear_session()\n",
    "\n",
    "\n",
    "        #read the file\n",
    "        path = str(pathlib.Path().resolve())\n",
    "        path_data = f\"{path}\"\"/data/\"f\"{file_name}\"\"/\"f\"{file_name}\"\".hdf5\"\n",
    "        file = h5py.File(path_data,\"r+\")\n",
    "\n",
    "\n",
    "        print(\"reading data, printing stats: \")\n",
    "        x_test,y_test,d_class_weights,num_of_classes,appliances = get_data(file)\n",
    "        print(\"loading model\")\n",
    "        \n",
    "        model_seed = 42\n",
    "        model_used = create_tl_model(model,environ['learn_type'],model_seed,path,num_of_classes)\n",
    "                \n",
    "        train_gen = HDF5ImageGenerator(\n",
    "            src= path_data,\n",
    "            X_key=\"data/train/gaf\",\n",
    "            y_key=\"labels/train/gaf\",\n",
    "            classes_key=\"appliances/classes\",\n",
    "            labels_encoding=\"hot\",\n",
    "            shuffle=True,\n",
    "            batch_size=int(environ['batch_size']),\n",
    "            num_classes=num_of_classes,\n",
    "            mode=\"train\",\n",
    "            )\n",
    "\n",
    "        model_used.fit(\n",
    "            train_gen,\n",
    "            verbose=2,\n",
    "            epochs=int(environ['epochs']),\n",
    "            class_weight=d_class_weights,\n",
    "            callbacks = [save_op_callback]\n",
    "            #workers = 6,\n",
    "        )\n",
    "        \n",
    "        txt_log.write(\"finished \"+dataset.split(\"_\")[0]+\" training on model \"+model+\" seed \"+environ['seed']+\"\\n\")\n",
    "\n",
    "\n",
    "        evaluate_model(model_used,x_test,y_test,appliances)\n",
    "        \n",
    "\n",
    "\n",
    "\n",
    "        #del model_used\n",
    "\n"
   ]
  },
  {
   "cell_type": "code",
   "execution_count": 16,
   "metadata": {
    "execution": {
     "iopub.execute_input": "2022-02-15T12:52:48.141851Z",
     "iopub.status.busy": "2022-02-15T12:52:48.140562Z",
     "iopub.status.idle": "2022-02-15T12:52:48.143760Z",
     "shell.execute_reply": "2022-02-15T12:52:48.145028Z"
    }
   },
   "outputs": [],
   "source": [
    "txt_log.close()"
   ]
  },
  {
   "cell_type": "code",
   "execution_count": null,
   "metadata": {},
   "outputs": [],
   "source": []
  }
 ],
 "metadata": {
  "colab": {
   "authorship_tag": "ABX9TyMej4PvP65qsLng7TnQKWA4",
   "name": "LSTM-gen",
   "provenance": []
  },
  "kernelspec": {
   "display_name": "Python 3 (ipykernel)",
   "language": "python",
   "name": "python3"
  },
  "language_info": {
   "codemirror_mode": {
    "name": "ipython",
    "version": 3
   },
   "file_extension": ".py",
   "mimetype": "text/x-python",
   "name": "python",
   "nbconvert_exporter": "python",
   "pygments_lexer": "ipython3",
   "version": "3.8.10"
  }
 },
 "nbformat": 4,
 "nbformat_minor": 4
}
