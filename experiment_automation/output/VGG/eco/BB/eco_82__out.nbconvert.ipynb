{
 "cells": [
  {
   "cell_type": "code",
   "execution_count": 1,
   "metadata": {
    "execution": {
     "iopub.execute_input": "2022-02-16T07:41:29.640928Z",
     "iopub.status.busy": "2022-02-16T07:41:29.639118Z",
     "iopub.status.idle": "2022-02-16T07:41:32.242542Z",
     "shell.execute_reply": "2022-02-16T07:41:32.241214Z"
    },
    "id": "WqUfHWgtJxtu",
    "scrolled": true,
    "tags": []
   },
   "outputs": [
    {
     "name": "stderr",
     "output_type": "stream",
     "text": [
      "2022-02-16 07:41:30.886869: I tensorflow/stream_executor/platform/default/dso_loader.cc:54] Successfully opened dynamic library libcudart.so.11.0\n"
     ]
    },
    {
     "name": "stdout",
     "output_type": "stream",
     "text": [
      "2.5.0\n",
      "Num GPUs Available:  1\n"
     ]
    },
    {
     "name": "stderr",
     "output_type": "stream",
     "text": [
      "2022-02-16 07:41:32.163766: I tensorflow/stream_executor/platform/default/dso_loader.cc:54] Successfully opened dynamic library libcuda.so.1\n",
      "2022-02-16 07:41:32.216183: I tensorflow/core/common_runtime/gpu/gpu_device.cc:1734] Found device 0 with properties: \n",
      "pciBusID: 0000:21:00.0 name: NVIDIA GeForce RTX 2080 Ti computeCapability: 7.5\n",
      "coreClock: 1.545GHz coreCount: 68 deviceMemorySize: 10.76GiB deviceMemoryBandwidth: 573.69GiB/s\n",
      "2022-02-16 07:41:32.216236: I tensorflow/stream_executor/platform/default/dso_loader.cc:54] Successfully opened dynamic library libcudart.so.11.0\n",
      "2022-02-16 07:41:32.224862: I tensorflow/stream_executor/platform/default/dso_loader.cc:54] Successfully opened dynamic library libcublas.so.11\n",
      "2022-02-16 07:41:32.224930: I tensorflow/stream_executor/platform/default/dso_loader.cc:54] Successfully opened dynamic library libcublasLt.so.11\n",
      "2022-02-16 07:41:32.227494: I tensorflow/stream_executor/platform/default/dso_loader.cc:54] Successfully opened dynamic library libcufft.so.10\n",
      "2022-02-16 07:41:32.228401: I tensorflow/stream_executor/platform/default/dso_loader.cc:54] Successfully opened dynamic library libcurand.so.10\n",
      "2022-02-16 07:41:32.231114: I tensorflow/stream_executor/platform/default/dso_loader.cc:54] Successfully opened dynamic library libcutensor.so.1\n",
      "2022-02-16 07:41:32.231721: I tensorflow/stream_executor/platform/default/dso_loader.cc:54] Successfully opened dynamic library libcusolver.so.11\n",
      "2022-02-16 07:41:32.233183: I tensorflow/stream_executor/platform/default/dso_loader.cc:54] Successfully opened dynamic library libcusparse.so.11\n",
      "2022-02-16 07:41:32.233521: I tensorflow/stream_executor/platform/default/dso_loader.cc:54] Successfully opened dynamic library libcudnn.so.8\n",
      "2022-02-16 07:41:32.233899: I tensorflow/core/common_runtime/gpu/gpu_device.cc:1872] Adding visible gpu devices: 0\n"
     ]
    }
   ],
   "source": [
    "import h5py\n",
    "import numpy as np\n",
    "\n",
    "from sklearn.model_selection import train_test_split\n",
    "from sklearn.metrics import classification_report, confusion_matrix\n",
    "import matplotlib.pyplot as plt\n",
    "import itertools \n",
    "import pyts\n",
    "from pyts.approximation import PiecewiseAggregateApproximation\n",
    "\n",
    "from sklearn.utils import class_weight\n",
    "\n",
    "import pathlib\n",
    "import tensorflow as tf\n",
    "from tensorflow import keras\n",
    "from tensorflow.keras import layers, optimizers\n",
    "from tensorflow.keras.layers import Convolution2D,Conv2D, Dense,Dropout, Flatten, Activation, MaxPooling2D, Input, Conv1D, GlobalAveragePooling1D, TimeDistributed, GRU, LSTM\n",
    "\n",
    "print(tf.__version__)\n",
    "print(\"Num GPUs Available: \", len(tf.config.list_physical_devices('GPU')))\n",
    "gpus = tf.config.experimental.list_physical_devices('GPU')\n",
    "\n",
    "try:\n",
    "    for gpu in gpus:\n",
    "        tf.config.experimental.set_memory_growth(gpu, True)\n",
    "except RuntimeError as e:\n",
    "    print(e)"
   ]
  },
  {
   "cell_type": "code",
   "execution_count": 2,
   "metadata": {
    "execution": {
     "iopub.execute_input": "2022-02-16T07:41:32.248425Z",
     "iopub.status.busy": "2022-02-16T07:41:32.247215Z",
     "iopub.status.idle": "2022-02-16T07:41:32.252241Z",
     "shell.execute_reply": "2022-02-16T07:41:32.251168Z"
    }
   },
   "outputs": [
    {
     "name": "stdout",
     "output_type": "stream",
     "text": [
      "eco_gen_GASF_60m_300S0X_2_R82_80-20\n"
     ]
    }
   ],
   "source": [
    "from os import environ\n",
    "dataset = environ['dataset']\n",
    "print(dataset)"
   ]
  },
  {
   "cell_type": "code",
   "execution_count": 3,
   "metadata": {
    "execution": {
     "iopub.execute_input": "2022-02-16T07:41:32.258022Z",
     "iopub.status.busy": "2022-02-16T07:41:32.256985Z",
     "iopub.status.idle": "2022-02-16T07:41:32.261958Z",
     "shell.execute_reply": "2022-02-16T07:41:32.261098Z"
    }
   },
   "outputs": [],
   "source": [
    "#my defs \n",
    "from modules.models import  VGG11,LSTM_3D_V56,CNN_V56,LSTM_BI_V56\n",
    "from modules.tools import my_print, plot_confusion_matrix_norm, get_data,get_data_split, evaluate_model, create_tl_model\n",
    "from modules.HDF5ImageGenerator import HDF5ImageGenerator"
   ]
  },
  {
   "cell_type": "code",
   "execution_count": 4,
   "metadata": {
    "execution": {
     "iopub.execute_input": "2022-02-16T07:41:32.269518Z",
     "iopub.status.busy": "2022-02-16T07:41:32.268288Z",
     "iopub.status.idle": "2022-02-16T07:41:32.270793Z",
     "shell.execute_reply": "2022-02-16T07:41:32.271758Z"
    },
    "id": "RT1vwq7-KOtB"
   },
   "outputs": [],
   "source": [
    "#LOAD DATASET\n",
    "#file_name = \"ukdale_gen_GASF_13m_100S5X12A54480\"\n",
    "#file_name = \"refit_gen_GASF_13m_100S5X_15A166006\"\n",
    "file_name = \"refit_gen_GASF_13m_100S5X_15A166006_R42-80-20\"\n",
    "#file_name = \"refit_gen_GASF_13m_100S5X_15A166006_R42_80-20\"\n",
    "file_name = \"refit_gen_GASF_60m_300S0X_15A157030N_R12_80-20-V1\"\n",
    "file_name = environ[\"dataset\"]\n",
    "#read the file\n",
    "path = str(pathlib.Path().resolve())\n",
    "\n",
    "path_data = f\"{path}\"\"/data/\"f\"{file_name}\"\"/\"f\"{file_name}\"\".hdf5\"\n",
    "\n",
    "file = h5py.File(path_data,\"r+\")"
   ]
  },
  {
   "cell_type": "code",
   "execution_count": 5,
   "metadata": {
    "execution": {
     "iopub.execute_input": "2022-02-16T07:41:32.279686Z",
     "iopub.status.busy": "2022-02-16T07:41:32.278404Z",
     "iopub.status.idle": "2022-02-16T07:41:34.996701Z",
     "shell.execute_reply": "2022-02-16T07:41:34.997766Z"
    },
    "scrolled": true
   },
   "outputs": [
    {
     "name": "stdout",
     "output_type": "stream",
     "text": [
      "['HEKA', 'fridge/freezer', 'HTPC', 'audio system', 'broadband router', 'coffee maker', 'computer', 'lamp', 'laptop computer', 'microwave', 'washing machine']\n",
      "{0: 8.877756286266925, 1: 0.15678009523354078, 2: 0.6806762568589648, 3: 2.9301583248212464, 4: 3.202260517686458, 5: 4.176722176722177, 6: 1.1790182126435305, 7: 2.295129512951295, 8: 1.5334602920049447, 9: 8.934786840568425, 10: 10.103015628439357}\n",
      " \n",
      "Tests \n",
      "HEKA test: 117 train: 470\n",
      "fridge/freezer test: 6654 train: 26614\n",
      "HTPC test: 1533 train: 6130\n",
      "audio system test: 356 train: 1424\n",
      "broadband router test: 326 train: 1303\n",
      "coffee maker test: 249 train: 999\n",
      "computer test: 885 train: 3539\n",
      "lamp test: 455 train: 1818\n",
      "laptop computer test: 680 train: 2721\n",
      "microwave test: 117 train: 467\n",
      "washing machine test: 103 train: 413\n"
     ]
    }
   ],
   "source": [
    "x_test,y_test,d_class_weights,num_of_classes,appliances = get_data(file)"
   ]
  },
  {
   "cell_type": "code",
   "execution_count": 6,
   "metadata": {
    "execution": {
     "iopub.execute_input": "2022-02-16T07:41:35.005906Z",
     "iopub.status.busy": "2022-02-16T07:41:35.004428Z",
     "iopub.status.idle": "2022-02-16T07:41:35.008254Z",
     "shell.execute_reply": "2022-02-16T07:41:35.007119Z"
    }
   },
   "outputs": [],
   "source": [
    "def select_model(learn_type):\n",
    "    \n",
    "    if learn_type == \"CNN\":\n",
    "        model = CNN_V56(file[\"data/train/gaf\"][0:10],num_of_classes,lr= 0.00002)\n",
    "\n",
    "    if learn_type == \"LSTM\":\n",
    "        model = LSTM_3D_V56(file[\"data/train/gaf\"][0:10],num_of_classes,lr= 0.00002)\n",
    "\n",
    "    if learn_type == \"BI_LSTM\":\n",
    "        model = LSTM_BI_V56(file[\"data/train/gaf\"][0:10],num_of_classes,lr= 0.00002)\n",
    "        \n",
    "    if learn_type == \"VGG\":\n",
    "        model = VGG11(file[\"data/train/gaf\"][0:10],num_of_classes,lr= 0.00001)\n",
    "\n",
    "    return model\n",
    "              "
   ]
  },
  {
   "cell_type": "code",
   "execution_count": 7,
   "metadata": {
    "execution": {
     "iopub.execute_input": "2022-02-16T07:41:35.015487Z",
     "iopub.status.busy": "2022-02-16T07:41:35.014112Z",
     "iopub.status.idle": "2022-02-16T07:41:35.017877Z",
     "shell.execute_reply": "2022-02-16T07:41:35.016799Z"
    }
   },
   "outputs": [],
   "source": [
    "path_save = path+'/experiment_automation/output/'+environ['learn_type']+'/'+dataset.split(\"_\")[0]+\"/\"+environ['train_type']+\"/\"+dataset.split(\"_\")[0]+\"_\"+environ['seed']+\"_\"+environ['tl_datasets']\n",
    "path_save_nb = path_save+\"_out.ipynb\"\n",
    "path_save_log = path_save+\"_out_log2.txt\""
   ]
  },
  {
   "cell_type": "code",
   "execution_count": 8,
   "metadata": {
    "execution": {
     "iopub.execute_input": "2022-02-16T07:41:35.026393Z",
     "iopub.status.busy": "2022-02-16T07:41:35.025092Z",
     "iopub.status.idle": "2022-02-16T07:41:35.206030Z",
     "shell.execute_reply": "2022-02-16T07:41:35.204940Z"
    }
   },
   "outputs": [],
   "source": [
    "from keras.callbacks import LambdaCallback\n",
    "#path_log= path+'/experiment_automation/output/'+environ['learn_type']+'/'+dataset.split(\"_\")[0]+\"/\"+environ['train_type']+\"/\"+dataset.split(\"_\")[0]+\"_\"+environ['seed']+\"_\"+environ['tl_datasets']+\"_log.txt\"\n",
    "txt_log = open(path_save+\"_log.txt\", mode='wt', buffering=1)\n",
    "txt_log.write(\"file created! \\n\")\n",
    "\n",
    "save_op_callback = LambdaCallback(\n",
    "  on_epoch_end = lambda epoch, logs: txt_log.write(\n",
    "    str({'epoch': epoch, 'loss': logs['loss'],'acc': logs['accuracy']}) + '\\n'),\n",
    "                                                           \n",
    ")"
   ]
  },
  {
   "cell_type": "code",
   "execution_count": 9,
   "metadata": {
    "execution": {
     "iopub.execute_input": "2022-02-16T07:41:35.212093Z",
     "iopub.status.busy": "2022-02-16T07:41:35.210778Z",
     "iopub.status.idle": "2022-02-16T07:41:35.216388Z",
     "shell.execute_reply": "2022-02-16T07:41:35.215197Z"
    }
   },
   "outputs": [
    {
     "name": "stdout",
     "output_type": "stream",
     "text": [
      "/workspace/notebooks/experiment_automation/output/VGG/eco/BB/eco_82__out.ipynb\n"
     ]
    }
   ],
   "source": [
    "print(path_save_nb)"
   ]
  },
  {
   "cell_type": "code",
   "execution_count": 10,
   "metadata": {
    "execution": {
     "iopub.execute_input": "2022-02-16T07:41:35.222092Z",
     "iopub.status.busy": "2022-02-16T07:41:35.220925Z",
     "iopub.status.idle": "2022-02-16T07:41:35.223368Z",
     "shell.execute_reply": "2022-02-16T07:41:35.224489Z"
    }
   },
   "outputs": [],
   "source": [
    "# rm $path_save_log"
   ]
  },
  {
   "cell_type": "code",
   "execution_count": 11,
   "metadata": {
    "execution": {
     "iopub.execute_input": "2022-02-16T07:41:35.230458Z",
     "iopub.status.busy": "2022-02-16T07:41:35.229186Z",
     "iopub.status.idle": "2022-02-16T07:41:35.231817Z",
     "shell.execute_reply": "2022-02-16T07:41:35.232893Z"
    }
   },
   "outputs": [],
   "source": [
    "# %%capture cap \n",
    "\n",
    "# with open(path_save_log,\"wt\") as f:\n",
    "#     f.write(cap.stdout)\n",
    "    \n",
    "# print(\"out capture..\")"
   ]
  },
  {
   "cell_type": "code",
   "execution_count": 12,
   "metadata": {
    "execution": {
     "iopub.execute_input": "2022-02-16T07:41:35.252208Z",
     "iopub.status.busy": "2022-02-16T07:41:35.250843Z",
     "iopub.status.idle": "2022-02-16T15:46:26.841369Z",
     "shell.execute_reply": "2022-02-16T15:46:26.841693Z"
    },
    "id": "vqA9NwOqKrb5",
    "jupyter": {
     "outputs_hidden": true
    },
    "tags": []
   },
   "outputs": [
    {
     "name": "stdout",
     "output_type": "stream",
     "text": [
      "Normal way\n",
      "[0 1 2 3 4 5 6 7 8 9]\n",
      "WARNING:tensorflow:From /usr/local/lib/python3.8/dist-packages/tensorflow/python/ops/array_ops.py:5043: calling gather (from tensorflow.python.ops.array_ops) with validate_indices is deprecated and will be removed in a future version.\n",
      "Instructions for updating:\n",
      "The `validate_indices` argument has no effect. Indices are always validated on CPU and never validated on GPU.\n"
     ]
    },
    {
     "name": "stderr",
     "output_type": "stream",
     "text": [
      "2022-02-16 07:41:35.274075: I tensorflow/core/common_runtime/gpu/gpu_device.cc:1734] Found device 0 with properties: \n",
      "pciBusID: 0000:21:00.0 name: NVIDIA GeForce RTX 2080 Ti computeCapability: 7.5\n",
      "coreClock: 1.545GHz coreCount: 68 deviceMemorySize: 10.76GiB deviceMemoryBandwidth: 573.69GiB/s\n",
      "2022-02-16 07:41:35.275841: I tensorflow/core/common_runtime/gpu/gpu_device.cc:1872] Adding visible gpu devices: 0\n",
      "2022-02-16 07:41:35.275900: I tensorflow/stream_executor/platform/default/dso_loader.cc:54] Successfully opened dynamic library libcudart.so.11.0\n",
      "2022-02-16 07:41:36.116734: I tensorflow/core/common_runtime/gpu/gpu_device.cc:1258] Device interconnect StreamExecutor with strength 1 edge matrix:\n",
      "2022-02-16 07:41:36.116770: I tensorflow/core/common_runtime/gpu/gpu_device.cc:1264]      0 \n",
      "2022-02-16 07:41:36.116777: I tensorflow/core/common_runtime/gpu/gpu_device.cc:1277] 0:   N \n",
      "2022-02-16 07:41:36.117354: I tensorflow/core/common_runtime/gpu/gpu_device.cc:1418] Created TensorFlow device (/job:localhost/replica:0/task:0/device:GPU:0 with 9649 MB memory) -> physical GPU (device: 0, name: NVIDIA GeForce RTX 2080 Ti, pci bus id: 0000:21:00.0, compute capability: 7.5)\n",
      "2022-02-16 07:41:36.117706: I tensorflow/core/common_runtime/process_util.cc:146] Creating new thread pool with default inter op setting: 20. Tune using inter_op_parallelism_threads for best performance.\n",
      "/usr/local/lib/python3.8/dist-packages/tensorflow/python/keras/optimizer_v2/optimizer_v2.py:374: UserWarning: The `lr` argument is deprecated, use `learning_rate` instead.\n",
      "  warnings.warn(\n",
      "2022-02-16 07:41:36.311299: I tensorflow/compiler/mlir/mlir_graph_optimization_pass.cc:176] None of the MLIR Optimization Passes are enabled (registered 2)\n"
     ]
    },
    {
     "name": "stdout",
     "output_type": "stream",
     "text": [
      "Epoch 1/100\n"
     ]
    },
    {
     "name": "stderr",
     "output_type": "stream",
     "text": [
      "2022-02-16 07:41:36.328626: I tensorflow/core/platform/profile_utils/cpu_utils.cc:114] CPU Frequency: 3299990000 Hz\n",
      "2022-02-16 07:41:36.961855: I tensorflow/stream_executor/platform/default/dso_loader.cc:54] Successfully opened dynamic library libcudnn.so.8\n",
      "2022-02-16 07:41:37.666062: I tensorflow/stream_executor/cuda/cuda_dnn.cc:380] Loaded cuDNN version 8202\n",
      "2022-02-16 07:41:38.568210: I tensorflow/stream_executor/platform/default/dso_loader.cc:54] Successfully opened dynamic library libcublas.so.11\n",
      "2022-02-16 07:41:38.997088: I tensorflow/stream_executor/platform/default/dso_loader.cc:54] Successfully opened dynamic library libcublasLt.so.11\n"
     ]
    },
    {
     "name": "stdout",
     "output_type": "stream",
     "text": [
      "1435/1435 - 297s - loss: 2.0378 - accuracy: 0.2595\n",
      "Epoch 2/100\n",
      "1435/1435 - 292s - loss: 1.3535 - accuracy: 0.5413\n",
      "Epoch 3/100\n",
      "1435/1435 - 291s - loss: 1.0071 - accuracy: 0.6745\n",
      "Epoch 4/100\n",
      "1435/1435 - 290s - loss: 0.8737 - accuracy: 0.7191\n",
      "Epoch 5/100\n",
      "1435/1435 - 291s - loss: 0.7455 - accuracy: 0.7570\n",
      "Epoch 6/100\n",
      "1435/1435 - 290s - loss: 0.6234 - accuracy: 0.8042\n",
      "Epoch 7/100\n",
      "1435/1435 - 290s - loss: 0.5661 - accuracy: 0.8228\n",
      "Epoch 8/100\n",
      "1435/1435 - 291s - loss: 0.5060 - accuracy: 0.8388\n",
      "Epoch 9/100\n",
      "1435/1435 - 292s - loss: 0.4739 - accuracy: 0.8450\n",
      "Epoch 10/100\n",
      "1435/1435 - 289s - loss: 0.4356 - accuracy: 0.8573\n",
      "Epoch 11/100\n",
      "1435/1435 - 291s - loss: 0.4210 - accuracy: 0.8575\n",
      "Epoch 12/100\n",
      "1435/1435 - 290s - loss: 0.3680 - accuracy: 0.8726\n",
      "Epoch 13/100\n",
      "1435/1435 - 290s - loss: 0.3435 - accuracy: 0.8784\n",
      "Epoch 14/100\n",
      "1435/1435 - 291s - loss: 0.3215 - accuracy: 0.8866\n",
      "Epoch 15/100\n",
      "1435/1435 - 292s - loss: 0.3056 - accuracy: 0.8876\n",
      "Epoch 16/100\n",
      "1435/1435 - 293s - loss: 0.3425 - accuracy: 0.8839\n",
      "Epoch 17/100\n",
      "1435/1435 - 292s - loss: 0.2578 - accuracy: 0.9030\n",
      "Epoch 18/100\n",
      "1435/1435 - 291s - loss: 0.2710 - accuracy: 0.8984\n",
      "Epoch 19/100\n",
      "1435/1435 - 291s - loss: 0.2758 - accuracy: 0.8992\n",
      "Epoch 20/100\n",
      "1435/1435 - 290s - loss: 0.2658 - accuracy: 0.9045\n",
      "Epoch 21/100\n",
      "1435/1435 - 291s - loss: 0.2201 - accuracy: 0.9141\n",
      "Epoch 22/100\n",
      "1435/1435 - 292s - loss: 0.2227 - accuracy: 0.9128\n",
      "Epoch 23/100\n",
      "1435/1435 - 290s - loss: 0.2140 - accuracy: 0.9154\n",
      "Epoch 24/100\n",
      "1435/1435 - 290s - loss: 0.2084 - accuracy: 0.9181\n",
      "Epoch 25/100\n",
      "1435/1435 - 290s - loss: 0.1952 - accuracy: 0.9223\n",
      "Epoch 26/100\n",
      "1435/1435 - 290s - loss: 0.2129 - accuracy: 0.9195\n",
      "Epoch 27/100\n",
      "1435/1435 - 290s - loss: 0.1866 - accuracy: 0.9255\n",
      "Epoch 28/100\n",
      "1435/1435 - 292s - loss: 0.2107 - accuracy: 0.9174\n",
      "Epoch 29/100\n",
      "1435/1435 - 293s - loss: 0.1728 - accuracy: 0.9286\n",
      "Epoch 30/100\n",
      "1435/1435 - 294s - loss: 0.2007 - accuracy: 0.9242\n",
      "Epoch 31/100\n",
      "1435/1435 - 292s - loss: 0.1705 - accuracy: 0.9313\n",
      "Epoch 32/100\n",
      "1435/1435 - 292s - loss: 0.1537 - accuracy: 0.9366\n",
      "Epoch 33/100\n",
      "1435/1435 - 291s - loss: 0.1649 - accuracy: 0.9302\n",
      "Epoch 34/100\n",
      "1435/1435 - 291s - loss: 0.1881 - accuracy: 0.9262\n",
      "Epoch 35/100\n",
      "1435/1435 - 291s - loss: 0.1626 - accuracy: 0.9341\n",
      "Epoch 36/100\n",
      "1435/1435 - 291s - loss: 0.1352 - accuracy: 0.9418\n",
      "Epoch 37/100\n",
      "1435/1435 - 291s - loss: 0.1518 - accuracy: 0.9392\n",
      "Epoch 38/100\n",
      "1435/1435 - 291s - loss: 0.1563 - accuracy: 0.9371\n",
      "Epoch 39/100\n",
      "1435/1435 - 291s - loss: 0.1455 - accuracy: 0.9398\n",
      "Epoch 40/100\n",
      "1435/1435 - 291s - loss: 0.1595 - accuracy: 0.9372\n",
      "Epoch 41/100\n",
      "1435/1435 - 291s - loss: 0.1325 - accuracy: 0.9441\n",
      "Epoch 42/100\n",
      "1435/1435 - 290s - loss: 0.1575 - accuracy: 0.9366\n",
      "Epoch 43/100\n",
      "1435/1435 - 291s - loss: 0.1516 - accuracy: 0.9317\n",
      "Epoch 44/100\n",
      "1435/1435 - 291s - loss: 0.1265 - accuracy: 0.9459\n",
      "Epoch 45/100\n",
      "1435/1435 - 290s - loss: 0.1369 - accuracy: 0.9453\n",
      "Epoch 46/100\n",
      "1435/1435 - 290s - loss: 0.1239 - accuracy: 0.9473\n",
      "Epoch 47/100\n",
      "1435/1435 - 292s - loss: 0.1214 - accuracy: 0.9490\n",
      "Epoch 48/100\n",
      "1435/1435 - 293s - loss: 0.1429 - accuracy: 0.9425\n",
      "Epoch 49/100\n",
      "1435/1435 - 293s - loss: 0.1144 - accuracy: 0.9510\n",
      "Epoch 50/100\n",
      "1435/1435 - 290s - loss: 0.1403 - accuracy: 0.9442\n",
      "Epoch 51/100\n",
      "1435/1435 - 290s - loss: 0.1193 - accuracy: 0.9481\n",
      "Epoch 52/100\n",
      "1435/1435 - 292s - loss: 0.1189 - accuracy: 0.9500\n",
      "Epoch 53/100\n",
      "1435/1435 - 291s - loss: 0.1251 - accuracy: 0.9487\n",
      "Epoch 54/100\n",
      "1435/1435 - 291s - loss: 0.1282 - accuracy: 0.9475\n",
      "Epoch 55/100\n",
      "1435/1435 - 292s - loss: 0.1117 - accuracy: 0.9518\n",
      "Epoch 56/100\n",
      "1435/1435 - 291s - loss: 0.1100 - accuracy: 0.9519\n",
      "Epoch 57/100\n",
      "1435/1435 - 290s - loss: 0.1317 - accuracy: 0.9473\n",
      "Epoch 58/100\n",
      "1435/1435 - 290s - loss: 0.1115 - accuracy: 0.9505\n",
      "Epoch 59/100\n",
      "1435/1435 - 290s - loss: 0.1040 - accuracy: 0.9536\n",
      "Epoch 60/100\n",
      "1435/1435 - 291s - loss: 0.1033 - accuracy: 0.9567\n",
      "Epoch 61/100\n",
      "1435/1435 - 291s - loss: 0.1147 - accuracy: 0.9517\n",
      "Epoch 62/100\n",
      "1435/1435 - 292s - loss: 0.1039 - accuracy: 0.9541\n",
      "Epoch 63/100\n",
      "1435/1435 - 290s - loss: 0.1067 - accuracy: 0.9549\n",
      "Epoch 64/100\n",
      "1435/1435 - 291s - loss: 0.1097 - accuracy: 0.9541\n",
      "Epoch 65/100\n",
      "1435/1435 - 289s - loss: 0.0971 - accuracy: 0.9583\n",
      "Epoch 66/100\n",
      "1435/1435 - 289s - loss: 0.1119 - accuracy: 0.9531\n",
      "Epoch 67/100\n",
      "1435/1435 - 289s - loss: 0.1006 - accuracy: 0.9559\n",
      "Epoch 68/100\n",
      "1435/1435 - 290s - loss: 0.0974 - accuracy: 0.9576\n",
      "Epoch 69/100\n",
      "1435/1435 - 290s - loss: 0.1157 - accuracy: 0.9513\n",
      "Epoch 70/100\n",
      "1435/1435 - 290s - loss: 0.0900 - accuracy: 0.9605\n",
      "Epoch 71/100\n",
      "1435/1435 - 290s - loss: 0.0964 - accuracy: 0.9579\n",
      "Epoch 72/100\n",
      "1435/1435 - 290s - loss: 0.1036 - accuracy: 0.9548\n",
      "Epoch 73/100\n",
      "1435/1435 - 290s - loss: 0.0939 - accuracy: 0.9604\n",
      "Epoch 74/100\n",
      "1435/1435 - 290s - loss: 0.1020 - accuracy: 0.9581\n",
      "Epoch 75/100\n",
      "1435/1435 - 290s - loss: 0.0928 - accuracy: 0.9602\n",
      "Epoch 76/100\n",
      "1435/1435 - 291s - loss: 0.1001 - accuracy: 0.9577\n",
      "Epoch 77/100\n",
      "1435/1435 - 289s - loss: 0.0982 - accuracy: 0.9597\n",
      "Epoch 78/100\n",
      "1435/1435 - 290s - loss: 0.0932 - accuracy: 0.9601\n",
      "Epoch 79/100\n",
      "1435/1435 - 290s - loss: 0.0939 - accuracy: 0.9616\n",
      "Epoch 80/100\n",
      "1435/1435 - 290s - loss: 0.0924 - accuracy: 0.9602\n",
      "Epoch 81/100\n",
      "1435/1435 - 289s - loss: 0.0925 - accuracy: 0.9586\n",
      "Epoch 82/100\n",
      "1435/1435 - 290s - loss: 0.0849 - accuracy: 0.9637\n",
      "Epoch 83/100\n",
      "1435/1435 - 291s - loss: 0.0826 - accuracy: 0.9646\n",
      "Epoch 84/100\n",
      "1435/1435 - 290s - loss: 0.0831 - accuracy: 0.9629\n",
      "Epoch 85/100\n",
      "1435/1435 - 290s - loss: 0.0926 - accuracy: 0.9605\n",
      "Epoch 86/100\n",
      "1435/1435 - 290s - loss: 0.0893 - accuracy: 0.9621\n",
      "Epoch 87/100\n",
      "1435/1435 - 290s - loss: 0.0819 - accuracy: 0.9630\n",
      "Epoch 88/100\n",
      "1435/1435 - 290s - loss: 0.0879 - accuracy: 0.9617\n",
      "Epoch 89/100\n",
      "1435/1435 - 290s - loss: 0.0801 - accuracy: 0.9645\n",
      "Epoch 90/100\n",
      "1435/1435 - 290s - loss: 0.1078 - accuracy: 0.9571\n",
      "Epoch 91/100\n",
      "1435/1435 - 290s - loss: 0.0839 - accuracy: 0.9654\n",
      "Epoch 92/100\n",
      "1435/1435 - 288s - loss: 0.0727 - accuracy: 0.9675\n",
      "Epoch 93/100\n",
      "1435/1435 - 288s - loss: 0.0894 - accuracy: 0.9625\n",
      "Epoch 94/100\n",
      "1435/1435 - 289s - loss: 0.0950 - accuracy: 0.9625\n",
      "Epoch 95/100\n",
      "1435/1435 - 289s - loss: 0.0746 - accuracy: 0.9676\n",
      "Epoch 96/100\n",
      "1435/1435 - 290s - loss: 0.0794 - accuracy: 0.9652\n",
      "Epoch 97/100\n",
      "1435/1435 - 290s - loss: 0.0776 - accuracy: 0.9655\n",
      "Epoch 98/100\n",
      "1435/1435 - 291s - loss: 0.0760 - accuracy: 0.9656\n",
      "Epoch 99/100\n",
      "1435/1435 - 290s - loss: 0.0816 - accuracy: 0.9644\n",
      "Epoch 100/100\n",
      "1435/1435 - 290s - loss: 0.0844 - accuracy: 0.9646\n",
      "359/359 - 21s\n",
      "Normalized confusion matrix\n",
      "                  precision    recall  f1-score   support\n",
      "\n",
      "            HEKA       0.91      0.98      0.94       117\n",
      "  fridge/freezer       0.99      0.98      0.98      6654\n",
      "            HTPC       0.87      0.79      0.83      1533\n",
      "    audio system       0.64      0.83      0.72       356\n",
      "broadband router       0.94      0.99      0.97       326\n",
      "    coffee maker       0.93      0.89      0.91       249\n",
      "        computer       0.95      0.95      0.95       885\n",
      "            lamp       0.84      0.87      0.86       455\n",
      " laptop computer       0.77      0.87      0.82       680\n",
      "       microwave       0.67      0.77      0.72       117\n",
      " washing machine       0.84      0.89      0.87       103\n",
      "\n",
      "        accuracy                           0.93     11475\n",
      "       macro avg       0.85      0.89      0.87     11475\n",
      "    weighted avg       0.93      0.93      0.93     11475\n",
      "\n"
     ]
    },
    {
     "name": "stderr",
     "output_type": "stream",
     "text": [
      "2022-02-16 15:46:22.827698: W tensorflow/python/util/util.cc:348] Sets are not currently considered sequences, but this may change in the future, so consider avoiding using them.\n"
     ]
    },
    {
     "name": "stdout",
     "output_type": "stream",
     "text": [
      "INFO:tensorflow:Assets written to: /workspace/notebooks/models/VGG/eco_82/assets\n"
     ]
    },
    {
     "data": {
      "image/png": "[encoded data removed]",
      "text/plain": [
       "<Figure size 720x720 with 2 Axes>"
      ]
     },
     "metadata": {
      "needs_background": "light"
     },
     "output_type": "display_data"
    }
   ],
   "source": [
    "# %%capture cap --no-stderr\n",
    "\n",
    "\n",
    "if environ['train_type'] == \"BB\":\n",
    "\n",
    "    #define generator\n",
    "    train_gen = HDF5ImageGenerator(\n",
    "        src= path_data,\n",
    "        X_key=\"data/train/gaf\",\n",
    "        y_key=\"labels/train/gaf\",\n",
    "        classes_key=\"appliances/classes\",\n",
    "        labels_encoding=\"hot\",\n",
    "        shuffle=True,\n",
    "        batch_size=int(environ['batch_size']),\n",
    "        num_classes=num_of_classes,\n",
    "        mode=\"train\",\n",
    "        )\n",
    "    \n",
    "    model = select_model(environ['learn_type'])\n",
    "    \n",
    "    txt_log.write(\"fitting BB model: \\n\")\n",
    "    \n",
    "    model.fit(\n",
    "        train_gen,\n",
    "        verbose=2,\n",
    "        epochs=int(environ['epochs']),\n",
    "        class_weight=d_class_weights,\n",
    "        callbacks = [save_op_callback],\n",
    "    )\n",
    "    \n",
    "    txt_log.write(\"finished fitting BB model: \\n\")\n",
    "\n",
    "    evaluate_model(model,x_test,y_test,appliances)\n",
    "    \n",
    "    if environ['save_model']==\"True\":\n",
    "\n",
    "        path_model_save = path+\"/models/\"+environ['learn_type']+\"/\"+dataset.split(\"_\")[0]+\"_\"+dataset.split(\"_R\")[1][0:2]\n",
    "        model.save(path_model_save)\n",
    "        txt_log.write(\"model saved to:\"+\"/models/\"+environ['learn_type']+\"/\"+dataset.split(\"_\")[0]+\"_\"+dataset.split(\"_R\")[1][0:2]+\" \\n\")\n",
    "        \n",
    "        \n",
    "# with open(path_save+\"_out_log.txt\" as f:\n",
    "#     f.write(cap.stdout)\n"
   ]
  },
  {
   "cell_type": "code",
   "execution_count": 13,
   "metadata": {
    "collapsed": true,
    "execution": {
     "iopub.execute_input": "2022-02-16T15:46:26.846750Z",
     "iopub.status.busy": "2022-02-16T15:46:26.845338Z",
     "iopub.status.idle": "2022-02-16T15:46:26.849120Z",
     "shell.execute_reply": "2022-02-16T15:46:26.847955Z"
    }
   },
   "outputs": [],
   "source": [
    "#model = keras.models.load_model(path_model1)\n",
    "# model_used = model"
   ]
  },
  {
   "cell_type": "code",
   "execution_count": 14,
   "metadata": {
    "collapsed": true,
    "execution": {
     "iopub.execute_input": "2022-02-16T15:46:26.854372Z",
     "iopub.status.busy": "2022-02-16T15:46:26.853033Z",
     "iopub.status.idle": "2022-02-16T15:46:26.856567Z",
     "shell.execute_reply": "2022-02-16T15:46:26.855555Z"
    },
    "jupyter": {
     "outputs_hidden": true
    },
    "tags": []
   },
   "outputs": [],
   "source": [
    "# evaluate_model(model,x_test,y_test,appliances)"
   ]
  },
  {
   "cell_type": "code",
   "execution_count": 15,
   "metadata": {
    "collapsed": true,
    "execution": {
     "iopub.execute_input": "2022-02-16T15:46:26.873265Z",
     "iopub.status.busy": "2022-02-16T15:46:26.871866Z",
     "iopub.status.idle": "2022-02-16T15:46:26.874654Z",
     "shell.execute_reply": "2022-02-16T15:46:26.875757Z"
    }
   },
   "outputs": [],
   "source": [
    "# datasets =[\n",
    "#     \"ukdale_gen_GASF_13m_100S5X12A54480_R82_80-20\"\n",
    "# ]\n",
    "\n",
    "if environ['train_type'] == \"TL\": \n",
    "    models = environ['tl_datasets'].replace(\" \",\"\").split(\",\")\n",
    "    #model = [\"base\"]\n",
    "    \n",
    "    for model in models:\n",
    "    \n",
    "        file_name = dataset\n",
    "        \n",
    "        datasetTL = model\n",
    "        \n",
    "        seed = dataset.split(\"_R\")[1][0:2]\n",
    "        \n",
    "        print(\"using dataset data\",dataset.split(\"_\")[0],\"training on model\",model,\"seed\",environ['seed'])\n",
    "        txt_log.write(\"starting \"+dataset.split(\"_\")[0]+\" training on model \"+model+\" seed \"+environ['seed']+\"\\n\")\n",
    "\n",
    "\n",
    "        tf.keras.backend.clear_session()\n",
    "\n",
    "\n",
    "        #read the file\n",
    "        path = str(pathlib.Path().resolve())\n",
    "        path_data = f\"{path}\"\"/data/\"f\"{file_name}\"\"/\"f\"{file_name}\"\".hdf5\"\n",
    "        file = h5py.File(path_data,\"r+\")\n",
    "\n",
    "\n",
    "        print(\"reading data, printing stats: \")\n",
    "        x_test,y_test,d_class_weights,num_of_classes,appliances = get_data(file)\n",
    "        print(\"loading model\")\n",
    "        \n",
    "        model_seed = 42\n",
    "        model_used = create_tl_model(model,environ['learn_type'],model_seed,path,num_of_classes)\n",
    "                \n",
    "        train_gen = HDF5ImageGenerator(\n",
    "            src= path_data,\n",
    "            X_key=\"data/train/gaf\",\n",
    "            y_key=\"labels/train/gaf\",\n",
    "            classes_key=\"appliances/classes\",\n",
    "            labels_encoding=\"hot\",\n",
    "            shuffle=True,\n",
    "            batch_size=int(environ['batch_size']),\n",
    "            num_classes=num_of_classes,\n",
    "            mode=\"train\",\n",
    "            )\n",
    "\n",
    "        model_used.fit(\n",
    "            train_gen,\n",
    "            verbose=2,\n",
    "            epochs=int(environ['epochs']),\n",
    "            class_weight=d_class_weights,\n",
    "            callbacks = [save_op_callback]\n",
    "            #workers = 6,\n",
    "        )\n",
    "        \n",
    "        txt_log.write(\"finished \"+dataset.split(\"_\")[0]+\" training on model \"+model+\" seed \"+environ['seed']+\"\\n\")\n",
    "\n",
    "\n",
    "        evaluate_model(model_used,x_test,y_test,appliances)\n",
    "        \n",
    "\n",
    "\n",
    "\n",
    "        #del model_used\n",
    "\n"
   ]
  },
  {
   "cell_type": "code",
   "execution_count": 16,
   "metadata": {
    "execution": {
     "iopub.execute_input": "2022-02-16T15:46:26.881691Z",
     "iopub.status.busy": "2022-02-16T15:46:26.880388Z",
     "iopub.status.idle": "2022-02-16T15:46:26.883070Z",
     "shell.execute_reply": "2022-02-16T15:46:26.884142Z"
    }
   },
   "outputs": [],
   "source": [
    "txt_log.close()"
   ]
  },
  {
   "cell_type": "code",
   "execution_count": null,
   "metadata": {},
   "outputs": [],
   "source": []
  }
 ],
 "metadata": {
  "colab": {
   "authorship_tag": "ABX9TyMej4PvP65qsLng7TnQKWA4",
   "name": "LSTM-gen",
   "provenance": []
  },
  "kernelspec": {
   "display_name": "Python 3 (ipykernel)",
   "language": "python",
   "name": "python3"
  },
  "language_info": {
   "codemirror_mode": {
    "name": "ipython",
    "version": 3
   },
   "file_extension": ".py",
   "mimetype": "text/x-python",
   "name": "python",
   "nbconvert_exporter": "python",
   "pygments_lexer": "ipython3",
   "version": "3.8.10"
  }
 },
 "nbformat": 4,
 "nbformat_minor": 4
}
