{
 "cells": [
  {
   "cell_type": "code",
   "execution_count": 1,
   "metadata": {
    "execution": {
     "iopub.execute_input": "2022-02-15T23:34:35.722479Z",
     "iopub.status.busy": "2022-02-15T23:34:35.721045Z",
     "iopub.status.idle": "2022-02-15T23:34:38.419134Z",
     "shell.execute_reply": "2022-02-15T23:34:38.417842Z"
    },
    "id": "WqUfHWgtJxtu",
    "scrolled": true,
    "tags": []
   },
   "outputs": [
    {
     "name": "stderr",
     "output_type": "stream",
     "text": [
      "2022-02-15 23:34:37.018049: I tensorflow/stream_executor/platform/default/dso_loader.cc:54] Successfully opened dynamic library libcudart.so.11.0\n"
     ]
    },
    {
     "name": "stdout",
     "output_type": "stream",
     "text": [
      "2.5.0\n",
      "Num GPUs Available:  1\n"
     ]
    },
    {
     "name": "stderr",
     "output_type": "stream",
     "text": [
      "2022-02-15 23:34:38.338260: I tensorflow/stream_executor/platform/default/dso_loader.cc:54] Successfully opened dynamic library libcuda.so.1\n",
      "2022-02-15 23:34:38.379412: I tensorflow/core/common_runtime/gpu/gpu_device.cc:1734] Found device 0 with properties: \n",
      "pciBusID: 0000:21:00.0 name: NVIDIA GeForce RTX 2080 Ti computeCapability: 7.5\n",
      "coreClock: 1.545GHz coreCount: 68 deviceMemorySize: 10.76GiB deviceMemoryBandwidth: 573.69GiB/s\n",
      "2022-02-15 23:34:38.379455: I tensorflow/stream_executor/platform/default/dso_loader.cc:54] Successfully opened dynamic library libcudart.so.11.0\n",
      "2022-02-15 23:34:38.391577: I tensorflow/stream_executor/platform/default/dso_loader.cc:54] Successfully opened dynamic library libcublas.so.11\n",
      "2022-02-15 23:34:38.391636: I tensorflow/stream_executor/platform/default/dso_loader.cc:54] Successfully opened dynamic library libcublasLt.so.11\n",
      "2022-02-15 23:34:38.396144: I tensorflow/stream_executor/platform/default/dso_loader.cc:54] Successfully opened dynamic library libcufft.so.10\n",
      "2022-02-15 23:34:38.397475: I tensorflow/stream_executor/platform/default/dso_loader.cc:54] Successfully opened dynamic library libcurand.so.10\n",
      "2022-02-15 23:34:38.403264: I tensorflow/stream_executor/platform/default/dso_loader.cc:54] Successfully opened dynamic library libcutensor.so.1\n",
      "2022-02-15 23:34:38.404231: I tensorflow/stream_executor/platform/default/dso_loader.cc:54] Successfully opened dynamic library libcusolver.so.11\n",
      "2022-02-15 23:34:38.408137: I tensorflow/stream_executor/platform/default/dso_loader.cc:54] Successfully opened dynamic library libcusparse.so.11\n",
      "2022-02-15 23:34:38.408454: I tensorflow/stream_executor/platform/default/dso_loader.cc:54] Successfully opened dynamic library libcudnn.so.8\n",
      "2022-02-15 23:34:38.408849: I tensorflow/core/common_runtime/gpu/gpu_device.cc:1872] Adding visible gpu devices: 0\n"
     ]
    }
   ],
   "source": [
    "import h5py\n",
    "import numpy as np\n",
    "\n",
    "from sklearn.model_selection import train_test_split\n",
    "from sklearn.metrics import classification_report, confusion_matrix\n",
    "import matplotlib.pyplot as plt\n",
    "import itertools \n",
    "import pyts\n",
    "from pyts.approximation import PiecewiseAggregateApproximation\n",
    "\n",
    "from sklearn.utils import class_weight\n",
    "\n",
    "import pathlib\n",
    "import tensorflow as tf\n",
    "from tensorflow import keras\n",
    "from tensorflow.keras import layers, optimizers\n",
    "from tensorflow.keras.layers import Convolution2D,Conv2D, Dense,Dropout, Flatten, Activation, MaxPooling2D, Input, Conv1D, GlobalAveragePooling1D, TimeDistributed, GRU, LSTM\n",
    "\n",
    "print(tf.__version__)\n",
    "print(\"Num GPUs Available: \", len(tf.config.list_physical_devices('GPU')))\n",
    "gpus = tf.config.experimental.list_physical_devices('GPU')\n",
    "\n",
    "try:\n",
    "    for gpu in gpus:\n",
    "        tf.config.experimental.set_memory_growth(gpu, True)\n",
    "except RuntimeError as e:\n",
    "    print(e)"
   ]
  },
  {
   "cell_type": "code",
   "execution_count": 2,
   "metadata": {
    "execution": {
     "iopub.execute_input": "2022-02-15T23:34:38.426039Z",
     "iopub.status.busy": "2022-02-15T23:34:38.424765Z",
     "iopub.status.idle": "2022-02-15T23:34:38.429135Z",
     "shell.execute_reply": "2022-02-15T23:34:38.430185Z"
    }
   },
   "outputs": [
    {
     "name": "stdout",
     "output_type": "stream",
     "text": [
      "eco_gen_GASF_60m_300S0X_2_R42_80-20\n"
     ]
    }
   ],
   "source": [
    "from os import environ\n",
    "dataset = environ['dataset']\n",
    "print(dataset)"
   ]
  },
  {
   "cell_type": "code",
   "execution_count": 3,
   "metadata": {
    "execution": {
     "iopub.execute_input": "2022-02-15T23:34:38.437908Z",
     "iopub.status.busy": "2022-02-15T23:34:38.436733Z",
     "iopub.status.idle": "2022-02-15T23:34:38.442123Z",
     "shell.execute_reply": "2022-02-15T23:34:38.441077Z"
    }
   },
   "outputs": [],
   "source": [
    "#my defs \n",
    "from modules.models import  VGG11,LSTM_3D_V56,CNN_V56,LSTM_BI_V56\n",
    "from modules.tools import my_print, plot_confusion_matrix_norm, get_data,get_data_split, evaluate_model, create_tl_model\n",
    "from modules.HDF5ImageGenerator import HDF5ImageGenerator"
   ]
  },
  {
   "cell_type": "code",
   "execution_count": 4,
   "metadata": {
    "execution": {
     "iopub.execute_input": "2022-02-15T23:34:38.451154Z",
     "iopub.status.busy": "2022-02-15T23:34:38.449939Z",
     "iopub.status.idle": "2022-02-15T23:34:38.452533Z",
     "shell.execute_reply": "2022-02-15T23:34:38.453499Z"
    },
    "id": "RT1vwq7-KOtB"
   },
   "outputs": [],
   "source": [
    "#LOAD DATASET\n",
    "#file_name = \"ukdale_gen_GASF_13m_100S5X12A54480\"\n",
    "#file_name = \"refit_gen_GASF_13m_100S5X_15A166006\"\n",
    "file_name = \"refit_gen_GASF_13m_100S5X_15A166006_R42-80-20\"\n",
    "#file_name = \"refit_gen_GASF_13m_100S5X_15A166006_R42_80-20\"\n",
    "file_name = \"refit_gen_GASF_60m_300S0X_15A157030N_R12_80-20-V1\"\n",
    "file_name = environ[\"dataset\"]\n",
    "#read the file\n",
    "path = str(pathlib.Path().resolve())\n",
    "\n",
    "path_data = f\"{path}\"\"/data/\"f\"{file_name}\"\"/\"f\"{file_name}\"\".hdf5\"\n",
    "\n",
    "file = h5py.File(path_data,\"r+\")"
   ]
  },
  {
   "cell_type": "code",
   "execution_count": 5,
   "metadata": {
    "execution": {
     "iopub.execute_input": "2022-02-15T23:34:38.460872Z",
     "iopub.status.busy": "2022-02-15T23:34:38.459664Z",
     "iopub.status.idle": "2022-02-15T23:34:41.355178Z",
     "shell.execute_reply": "2022-02-15T23:34:41.356169Z"
    },
    "scrolled": true
   },
   "outputs": [
    {
     "name": "stdout",
     "output_type": "stream",
     "text": [
      "['HEKA', 'fridge/freezer', 'HTPC', 'audio system', 'broadband router', 'coffee maker', 'computer', 'lamp', 'laptop computer', 'microwave', 'washing machine']\n",
      "{0: 8.877756286266925, 1: 0.15678009523354078, 2: 0.6806762568589648, 3: 2.9301583248212464, 4: 3.202260517686458, 5: 4.176722176722177, 6: 1.1790182126435305, 7: 2.295129512951295, 8: 1.5334602920049447, 9: 8.934786840568425, 10: 10.103015628439357}\n",
      " \n",
      "Tests \n",
      "HEKA test: 117 train: 470\n",
      "fridge/freezer test: 6654 train: 26614\n",
      "HTPC test: 1533 train: 6130\n",
      "audio system test: 356 train: 1424\n",
      "broadband router test: 326 train: 1303\n",
      "coffee maker test: 249 train: 999\n",
      "computer test: 885 train: 3539\n",
      "lamp test: 455 train: 1818\n",
      "laptop computer test: 680 train: 2721\n",
      "microwave test: 117 train: 467\n",
      "washing machine test: 103 train: 413\n"
     ]
    }
   ],
   "source": [
    "x_test,y_test,d_class_weights,num_of_classes,appliances = get_data(file)"
   ]
  },
  {
   "cell_type": "code",
   "execution_count": 6,
   "metadata": {
    "execution": {
     "iopub.execute_input": "2022-02-15T23:34:41.364663Z",
     "iopub.status.busy": "2022-02-15T23:34:41.363442Z",
     "iopub.status.idle": "2022-02-15T23:34:41.365931Z",
     "shell.execute_reply": "2022-02-15T23:34:41.366888Z"
    }
   },
   "outputs": [],
   "source": [
    "def select_model(learn_type):\n",
    "    \n",
    "    if learn_type == \"CNN\":\n",
    "        model = CNN_V56(file[\"data/train/gaf\"][0:10],num_of_classes,lr= 0.00002)\n",
    "\n",
    "    if learn_type == \"LSTM\":\n",
    "        model = LSTM_3D_V56(file[\"data/train/gaf\"][0:10],num_of_classes,lr= 0.00002)\n",
    "\n",
    "    if learn_type == \"BI_LSTM\":\n",
    "        model = LSTM_BI_V56(file[\"data/train/gaf\"][0:10],num_of_classes,lr= 0.00002)\n",
    "        \n",
    "    if learn_type == \"VGG\":\n",
    "        model = VGG11(file[\"data/train/gaf\"][0:10],num_of_classes,lr= 0.00001)\n",
    "\n",
    "    return model\n",
    "              "
   ]
  },
  {
   "cell_type": "code",
   "execution_count": 7,
   "metadata": {
    "execution": {
     "iopub.execute_input": "2022-02-15T23:34:41.374130Z",
     "iopub.status.busy": "2022-02-15T23:34:41.372936Z",
     "iopub.status.idle": "2022-02-15T23:34:41.375385Z",
     "shell.execute_reply": "2022-02-15T23:34:41.376356Z"
    }
   },
   "outputs": [],
   "source": [
    "path_save = path+'/experiment_automation/output/'+environ['learn_type']+'/'+dataset.split(\"_\")[0]+\"/\"+environ['train_type']+\"/\"+dataset.split(\"_\")[0]+\"_\"+environ['seed']+\"_\"+environ['tl_datasets']\n",
    "path_save_nb = path_save+\"_out.ipynb\"\n",
    "path_save_log = path_save+\"_out_log2.txt\""
   ]
  },
  {
   "cell_type": "code",
   "execution_count": 8,
   "metadata": {
    "execution": {
     "iopub.execute_input": "2022-02-15T23:34:41.384977Z",
     "iopub.status.busy": "2022-02-15T23:34:41.383756Z",
     "iopub.status.idle": "2022-02-15T23:34:41.595362Z",
     "shell.execute_reply": "2022-02-15T23:34:41.593788Z"
    }
   },
   "outputs": [],
   "source": [
    "from keras.callbacks import LambdaCallback\n",
    "#path_log= path+'/experiment_automation/output/'+environ['learn_type']+'/'+dataset.split(\"_\")[0]+\"/\"+environ['train_type']+\"/\"+dataset.split(\"_\")[0]+\"_\"+environ['seed']+\"_\"+environ['tl_datasets']+\"_log.txt\"\n",
    "txt_log = open(path_save+\"_log.txt\", mode='wt', buffering=1)\n",
    "txt_log.write(\"file created! \\n\")\n",
    "\n",
    "save_op_callback = LambdaCallback(\n",
    "  on_epoch_end = lambda epoch, logs: txt_log.write(\n",
    "    str({'epoch': epoch, 'loss': logs['loss'],'acc': logs['accuracy']}) + '\\n'),\n",
    "                                                           \n",
    ")"
   ]
  },
  {
   "cell_type": "code",
   "execution_count": 9,
   "metadata": {
    "execution": {
     "iopub.execute_input": "2022-02-15T23:34:41.601142Z",
     "iopub.status.busy": "2022-02-15T23:34:41.599818Z",
     "iopub.status.idle": "2022-02-15T23:34:41.605342Z",
     "shell.execute_reply": "2022-02-15T23:34:41.604188Z"
    }
   },
   "outputs": [
    {
     "name": "stdout",
     "output_type": "stream",
     "text": [
      "/workspace/notebooks/experiment_automation/output/VGG/eco/BB/eco_42__out.ipynb\n"
     ]
    }
   ],
   "source": [
    "print(path_save_nb)"
   ]
  },
  {
   "cell_type": "code",
   "execution_count": 10,
   "metadata": {
    "execution": {
     "iopub.execute_input": "2022-02-15T23:34:41.610475Z",
     "iopub.status.busy": "2022-02-15T23:34:41.609401Z",
     "iopub.status.idle": "2022-02-15T23:34:41.611648Z",
     "shell.execute_reply": "2022-02-15T23:34:41.612758Z"
    }
   },
   "outputs": [],
   "source": [
    "# rm $path_save_log"
   ]
  },
  {
   "cell_type": "code",
   "execution_count": 11,
   "metadata": {
    "execution": {
     "iopub.execute_input": "2022-02-15T23:34:41.618221Z",
     "iopub.status.busy": "2022-02-15T23:34:41.617136Z",
     "iopub.status.idle": "2022-02-15T23:34:41.619382Z",
     "shell.execute_reply": "2022-02-15T23:34:41.620280Z"
    }
   },
   "outputs": [],
   "source": [
    "# %%capture cap \n",
    "\n",
    "# with open(path_save_log,\"wt\") as f:\n",
    "#     f.write(cap.stdout)\n",
    "    \n",
    "# print(\"out capture..\")"
   ]
  },
  {
   "cell_type": "code",
   "execution_count": 12,
   "metadata": {
    "execution": {
     "iopub.execute_input": "2022-02-15T23:34:41.637027Z",
     "iopub.status.busy": "2022-02-15T23:34:41.635677Z",
     "iopub.status.idle": "2022-02-16T07:40:49.440199Z",
     "shell.execute_reply": "2022-02-16T07:40:49.440546Z"
    },
    "id": "vqA9NwOqKrb5",
    "jupyter": {
     "outputs_hidden": true
    },
    "tags": []
   },
   "outputs": [
    {
     "name": "stdout",
     "output_type": "stream",
     "text": [
      "Normal way\n",
      "[0 1 2 3 4 5 6 7 8 9]\n",
      "WARNING:tensorflow:From /usr/local/lib/python3.8/dist-packages/tensorflow/python/ops/array_ops.py:5043: calling gather (from tensorflow.python.ops.array_ops) with validate_indices is deprecated and will be removed in a future version.\n",
      "Instructions for updating:\n",
      "The `validate_indices` argument has no effect. Indices are always validated on CPU and never validated on GPU.\n"
     ]
    },
    {
     "name": "stderr",
     "output_type": "stream",
     "text": [
      "2022-02-15 23:34:41.662201: I tensorflow/core/common_runtime/gpu/gpu_device.cc:1734] Found device 0 with properties: \n",
      "pciBusID: 0000:21:00.0 name: NVIDIA GeForce RTX 2080 Ti computeCapability: 7.5\n",
      "coreClock: 1.545GHz coreCount: 68 deviceMemorySize: 10.76GiB deviceMemoryBandwidth: 573.69GiB/s\n",
      "2022-02-15 23:34:41.663914: I tensorflow/core/common_runtime/gpu/gpu_device.cc:1872] Adding visible gpu devices: 0\n",
      "2022-02-15 23:34:41.663977: I tensorflow/stream_executor/platform/default/dso_loader.cc:54] Successfully opened dynamic library libcudart.so.11.0\n",
      "2022-02-15 23:34:42.511965: I tensorflow/core/common_runtime/gpu/gpu_device.cc:1258] Device interconnect StreamExecutor with strength 1 edge matrix:\n",
      "2022-02-15 23:34:42.512001: I tensorflow/core/common_runtime/gpu/gpu_device.cc:1264]      0 \n",
      "2022-02-15 23:34:42.512007: I tensorflow/core/common_runtime/gpu/gpu_device.cc:1277] 0:   N \n",
      "2022-02-15 23:34:42.512615: I tensorflow/core/common_runtime/gpu/gpu_device.cc:1418] Created TensorFlow device (/job:localhost/replica:0/task:0/device:GPU:0 with 9649 MB memory) -> physical GPU (device: 0, name: NVIDIA GeForce RTX 2080 Ti, pci bus id: 0000:21:00.0, compute capability: 7.5)\n",
      "2022-02-15 23:34:42.512992: I tensorflow/core/common_runtime/process_util.cc:146] Creating new thread pool with default inter op setting: 20. Tune using inter_op_parallelism_threads for best performance.\n",
      "/usr/local/lib/python3.8/dist-packages/tensorflow/python/keras/optimizer_v2/optimizer_v2.py:374: UserWarning: The `lr` argument is deprecated, use `learning_rate` instead.\n",
      "  warnings.warn(\n",
      "2022-02-15 23:34:42.687524: I tensorflow/compiler/mlir/mlir_graph_optimization_pass.cc:176] None of the MLIR Optimization Passes are enabled (registered 2)\n",
      "2022-02-15 23:34:42.704485: I tensorflow/core/platform/profile_utils/cpu_utils.cc:114] CPU Frequency: 3299990000 Hz\n"
     ]
    },
    {
     "name": "stdout",
     "output_type": "stream",
     "text": [
      "Epoch 1/100\n"
     ]
    },
    {
     "name": "stderr",
     "output_type": "stream",
     "text": [
      "2022-02-15 23:34:43.353997: I tensorflow/stream_executor/platform/default/dso_loader.cc:54] Successfully opened dynamic library libcudnn.so.8\n",
      "2022-02-15 23:34:44.077748: I tensorflow/stream_executor/cuda/cuda_dnn.cc:380] Loaded cuDNN version 8202\n",
      "2022-02-15 23:34:44.968196: I tensorflow/stream_executor/platform/default/dso_loader.cc:54] Successfully opened dynamic library libcublas.so.11\n",
      "2022-02-15 23:34:45.405119: I tensorflow/stream_executor/platform/default/dso_loader.cc:54] Successfully opened dynamic library libcublasLt.so.11\n"
     ]
    },
    {
     "name": "stdout",
     "output_type": "stream",
     "text": [
      "1435/1435 - 297s - loss: 2.0038 - accuracy: 0.2328\n",
      "Epoch 2/100\n",
      "1435/1435 - 293s - loss: 1.3311 - accuracy: 0.5419\n",
      "Epoch 3/100\n",
      "1435/1435 - 294s - loss: 0.9699 - accuracy: 0.7094\n",
      "Epoch 4/100\n",
      "1435/1435 - 292s - loss: 0.8219 - accuracy: 0.7442\n",
      "Epoch 5/100\n",
      "1435/1435 - 291s - loss: 0.6987 - accuracy: 0.7902\n",
      "Epoch 6/100\n",
      "1435/1435 - 292s - loss: 0.6635 - accuracy: 0.8011\n",
      "Epoch 7/100\n",
      "1435/1435 - 292s - loss: 0.5583 - accuracy: 0.8233\n",
      "Epoch 8/100\n",
      "1435/1435 - 291s - loss: 0.5472 - accuracy: 0.8307\n",
      "Epoch 9/100\n",
      "1435/1435 - 291s - loss: 0.4834 - accuracy: 0.8467\n",
      "Epoch 10/100\n",
      "1435/1435 - 292s - loss: 0.4410 - accuracy: 0.8572\n",
      "Epoch 11/100\n",
      "1435/1435 - 292s - loss: 0.4059 - accuracy: 0.8658\n",
      "Epoch 12/100\n",
      "1435/1435 - 290s - loss: 0.3638 - accuracy: 0.8735\n",
      "Epoch 13/100\n",
      "1435/1435 - 291s - loss: 0.3472 - accuracy: 0.8767\n",
      "Epoch 14/100\n",
      "1435/1435 - 290s - loss: 0.3354 - accuracy: 0.8830\n",
      "Epoch 15/100\n",
      "1435/1435 - 291s - loss: 0.3035 - accuracy: 0.8906\n",
      "Epoch 16/100\n",
      "1435/1435 - 293s - loss: 0.2991 - accuracy: 0.8911\n",
      "Epoch 17/100\n",
      "1435/1435 - 292s - loss: 0.2757 - accuracy: 0.8959\n",
      "Epoch 18/100\n",
      "1435/1435 - 289s - loss: 0.2655 - accuracy: 0.8998\n",
      "Epoch 19/100\n",
      "1435/1435 - 291s - loss: 0.2482 - accuracy: 0.9042\n",
      "Epoch 20/100\n",
      "1435/1435 - 291s - loss: 0.2520 - accuracy: 0.9055\n",
      "Epoch 21/100\n",
      "1435/1435 - 291s - loss: 0.2526 - accuracy: 0.9072\n",
      "Epoch 22/100\n",
      "1435/1435 - 291s - loss: 0.2230 - accuracy: 0.9126\n",
      "Epoch 23/100\n",
      "1435/1435 - 291s - loss: 0.2395 - accuracy: 0.9056\n",
      "Epoch 24/100\n",
      "1435/1435 - 290s - loss: 0.2005 - accuracy: 0.9206\n",
      "Epoch 25/100\n",
      "1435/1435 - 290s - loss: 0.1980 - accuracy: 0.9201\n",
      "Epoch 26/100\n",
      "1435/1435 - 292s - loss: 0.2120 - accuracy: 0.9174\n",
      "Epoch 27/100\n",
      "1435/1435 - 294s - loss: 0.1995 - accuracy: 0.9238\n",
      "Epoch 28/100\n",
      "1435/1435 - 293s - loss: 0.1729 - accuracy: 0.9272\n",
      "Epoch 29/100\n",
      "1435/1435 - 290s - loss: 0.1752 - accuracy: 0.9234\n",
      "Epoch 30/100\n",
      "1435/1435 - 291s - loss: 0.2069 - accuracy: 0.9216\n",
      "Epoch 31/100\n",
      "1435/1435 - 292s - loss: 0.1834 - accuracy: 0.9308\n",
      "Epoch 32/100\n",
      "1435/1435 - 291s - loss: 0.1581 - accuracy: 0.9340\n",
      "Epoch 33/100\n",
      "1435/1435 - 292s - loss: 0.1687 - accuracy: 0.9326\n",
      "Epoch 34/100\n",
      "1435/1435 - 291s - loss: 0.1605 - accuracy: 0.9344\n",
      "Epoch 35/100\n",
      "1435/1435 - 291s - loss: 0.1648 - accuracy: 0.9336\n",
      "Epoch 36/100\n",
      "1435/1435 - 291s - loss: 0.2100 - accuracy: 0.9217\n",
      "Epoch 37/100\n",
      "1435/1435 - 293s - loss: 0.1399 - accuracy: 0.9418\n",
      "Epoch 38/100\n",
      "1435/1435 - 293s - loss: 0.1389 - accuracy: 0.9405\n",
      "Epoch 39/100\n",
      "1435/1435 - 292s - loss: 0.1599 - accuracy: 0.9373\n",
      "Epoch 40/100\n",
      "1435/1435 - 291s - loss: 0.1495 - accuracy: 0.9378\n",
      "Epoch 41/100\n",
      "1435/1435 - 291s - loss: 0.1307 - accuracy: 0.9427\n",
      "Epoch 42/100\n",
      "1435/1435 - 291s - loss: 0.1569 - accuracy: 0.9347\n",
      "Epoch 43/100\n",
      "1435/1435 - 291s - loss: 0.1320 - accuracy: 0.9451\n",
      "Epoch 44/100\n",
      "1435/1435 - 290s - loss: 0.1317 - accuracy: 0.9447\n",
      "Epoch 45/100\n",
      "1435/1435 - 291s - loss: 0.1302 - accuracy: 0.9443\n",
      "Epoch 46/100\n",
      "1435/1435 - 292s - loss: 0.1242 - accuracy: 0.9466\n",
      "Epoch 47/100\n",
      "1435/1435 - 293s - loss: 0.1288 - accuracy: 0.9461\n",
      "Epoch 48/100\n",
      "1435/1435 - 294s - loss: 0.1239 - accuracy: 0.9477\n",
      "Epoch 49/100\n",
      "1435/1435 - 293s - loss: 0.1222 - accuracy: 0.9489\n",
      "Epoch 50/100\n",
      "1435/1435 - 291s - loss: 0.1271 - accuracy: 0.9481\n",
      "Epoch 51/100\n",
      "1435/1435 - 291s - loss: 0.1325 - accuracy: 0.9456\n",
      "Epoch 52/100\n",
      "1435/1435 - 290s - loss: 0.1139 - accuracy: 0.9509\n",
      "Epoch 53/100\n",
      "1435/1435 - 291s - loss: 0.1134 - accuracy: 0.9515\n",
      "Epoch 54/100\n",
      "1435/1435 - 292s - loss: 0.1075 - accuracy: 0.9531\n",
      "Epoch 55/100\n",
      "1435/1435 - 293s - loss: 0.1226 - accuracy: 0.9488\n",
      "Epoch 56/100\n",
      "1435/1435 - 292s - loss: 0.1026 - accuracy: 0.9552\n",
      "Epoch 57/100\n",
      "1435/1435 - 291s - loss: 0.1042 - accuracy: 0.9537\n",
      "Epoch 58/100\n",
      "1435/1435 - 290s - loss: 0.1472 - accuracy: 0.9420\n",
      "Epoch 59/100\n",
      "1435/1435 - 290s - loss: 0.0988 - accuracy: 0.9557\n",
      "Epoch 60/100\n",
      "1435/1435 - 290s - loss: 0.1122 - accuracy: 0.9523\n",
      "Epoch 61/100\n",
      "1435/1435 - 291s - loss: 0.0995 - accuracy: 0.9567\n",
      "Epoch 62/100\n",
      "1435/1435 - 290s - loss: 0.0991 - accuracy: 0.9543\n",
      "Epoch 63/100\n",
      "1435/1435 - 291s - loss: 0.1049 - accuracy: 0.9550\n",
      "Epoch 64/100\n",
      "1435/1435 - 292s - loss: 0.1125 - accuracy: 0.9526\n",
      "Epoch 65/100\n",
      "1435/1435 - 291s - loss: 0.0912 - accuracy: 0.9591\n",
      "Epoch 66/100\n",
      "1435/1435 - 290s - loss: 0.0925 - accuracy: 0.9589\n",
      "Epoch 67/100\n",
      "1435/1435 - 290s - loss: 0.1077 - accuracy: 0.9534\n",
      "Epoch 68/100\n",
      "1435/1435 - 291s - loss: 0.0971 - accuracy: 0.9582\n",
      "Epoch 69/100\n",
      "1435/1435 - 293s - loss: 0.0945 - accuracy: 0.9586\n",
      "Epoch 70/100\n",
      "1435/1435 - 291s - loss: 0.1128 - accuracy: 0.9541\n",
      "Epoch 71/100\n",
      "1435/1435 - 290s - loss: 0.0971 - accuracy: 0.9563\n",
      "Epoch 72/100\n",
      "1435/1435 - 291s - loss: 0.0812 - accuracy: 0.9628\n",
      "Epoch 73/100\n",
      "1435/1435 - 290s - loss: 0.0909 - accuracy: 0.9591\n",
      "Epoch 74/100\n",
      "1435/1435 - 291s - loss: 0.0916 - accuracy: 0.9591\n",
      "Epoch 75/100\n",
      "1435/1435 - 293s - loss: 0.0901 - accuracy: 0.9599\n",
      "Epoch 76/100\n",
      "1435/1435 - 293s - loss: 0.1002 - accuracy: 0.9573\n",
      "Epoch 77/100\n",
      "1435/1435 - 292s - loss: 0.0931 - accuracy: 0.9587\n",
      "Epoch 78/100\n",
      "1435/1435 - 290s - loss: 0.0890 - accuracy: 0.9611\n",
      "Epoch 79/100\n",
      "1435/1435 - 290s - loss: 0.0833 - accuracy: 0.9639\n",
      "Epoch 80/100\n",
      "1435/1435 - 291s - loss: 0.0932 - accuracy: 0.9603\n",
      "Epoch 81/100\n",
      "1435/1435 - 290s - loss: 0.1381 - accuracy: 0.9567\n",
      "Epoch 82/100\n",
      "1435/1435 - 291s - loss: 0.0742 - accuracy: 0.9647\n",
      "Epoch 83/100\n",
      "1435/1435 - 292s - loss: 0.0734 - accuracy: 0.9670\n",
      "Epoch 84/100\n",
      "1435/1435 - 292s - loss: 0.0805 - accuracy: 0.9637\n",
      "Epoch 85/100\n",
      "1435/1435 - 292s - loss: 0.0988 - accuracy: 0.9574\n",
      "Epoch 86/100\n",
      "1435/1435 - 293s - loss: 0.0809 - accuracy: 0.9647\n",
      "Epoch 87/100\n",
      "1435/1435 - 292s - loss: 0.0932 - accuracy: 0.9621\n",
      "Epoch 88/100\n",
      "1435/1435 - 291s - loss: 0.0942 - accuracy: 0.9608\n",
      "Epoch 89/100\n",
      "1435/1435 - 290s - loss: 0.0798 - accuracy: 0.9652\n",
      "Epoch 90/100\n",
      "1435/1435 - 291s - loss: 0.0740 - accuracy: 0.9668\n",
      "Epoch 91/100\n",
      "1435/1435 - 291s - loss: 0.0867 - accuracy: 0.9633\n",
      "Epoch 92/100\n",
      "1435/1435 - 291s - loss: 0.0757 - accuracy: 0.9653\n",
      "Epoch 93/100\n",
      "1435/1435 - 291s - loss: 0.0865 - accuracy: 0.9642\n",
      "Epoch 94/100\n",
      "1435/1435 - 291s - loss: 0.0870 - accuracy: 0.9636\n",
      "Epoch 95/100\n",
      "1435/1435 - 291s - loss: 0.0687 - accuracy: 0.9681\n",
      "Epoch 96/100\n",
      "1435/1435 - 291s - loss: 0.0736 - accuracy: 0.9668\n",
      "Epoch 97/100\n",
      "1435/1435 - 290s - loss: 0.0919 - accuracy: 0.9567\n",
      "Epoch 98/100\n",
      "1435/1435 - 290s - loss: 0.0718 - accuracy: 0.9668\n",
      "Epoch 99/100\n",
      "1435/1435 - 290s - loss: 0.0862 - accuracy: 0.9634\n",
      "Epoch 100/100\n",
      "1435/1435 - 290s - loss: 0.0744 - accuracy: 0.9663\n",
      "359/359 - 21s\n",
      "Normalized confusion matrix\n",
      "                  precision    recall  f1-score   support\n",
      "\n",
      "            HEKA       0.94      0.96      0.95       117\n",
      "  fridge/freezer       0.99      0.98      0.98      6654\n",
      "            HTPC       0.91      0.81      0.86      1533\n",
      "    audio system       0.67      0.85      0.75       356\n",
      "broadband router       0.99      1.00      0.99       326\n",
      "    coffee maker       0.93      0.93      0.93       249\n",
      "        computer       0.95      0.94      0.95       885\n",
      "            lamp       0.86      0.85      0.86       455\n",
      " laptop computer       0.78      0.89      0.83       680\n",
      "       microwave       0.62      0.85      0.72       117\n",
      " washing machine       0.79      0.85      0.82       103\n",
      "\n",
      "        accuracy                           0.94     11475\n",
      "       macro avg       0.86      0.90      0.88     11475\n",
      "    weighted avg       0.94      0.94      0.94     11475\n",
      "\n"
     ]
    },
    {
     "name": "stderr",
     "output_type": "stream",
     "text": [
      "2022-02-16 07:40:45.488670: W tensorflow/python/util/util.cc:348] Sets are not currently considered sequences, but this may change in the future, so consider avoiding using them.\n"
     ]
    },
    {
     "name": "stdout",
     "output_type": "stream",
     "text": [
      "INFO:tensorflow:Assets written to: /workspace/notebooks/models/VGG/eco_42/assets\n"
     ]
    },
    {
     "data": {
      "image/png": "[encoded data removed]",
      "text/plain": [
       "<Figure size 720x720 with 2 Axes>"
      ]
     },
     "metadata": {
      "needs_background": "light"
     },
     "output_type": "display_data"
    }
   ],
   "source": [
    "# %%capture cap --no-stderr\n",
    "\n",
    "\n",
    "if environ['train_type'] == \"BB\":\n",
    "\n",
    "    #define generator\n",
    "    train_gen = HDF5ImageGenerator(\n",
    "        src= path_data,\n",
    "        X_key=\"data/train/gaf\",\n",
    "        y_key=\"labels/train/gaf\",\n",
    "        classes_key=\"appliances/classes\",\n",
    "        labels_encoding=\"hot\",\n",
    "        shuffle=True,\n",
    "        batch_size=int(environ['batch_size']),\n",
    "        num_classes=num_of_classes,\n",
    "        mode=\"train\",\n",
    "        )\n",
    "    \n",
    "    model = select_model(environ['learn_type'])\n",
    "    \n",
    "    txt_log.write(\"fitting BB model: \\n\")\n",
    "    \n",
    "    model.fit(\n",
    "        train_gen,\n",
    "        verbose=2,\n",
    "        epochs=int(environ['epochs']),\n",
    "        class_weight=d_class_weights,\n",
    "        callbacks = [save_op_callback],\n",
    "    )\n",
    "    \n",
    "    txt_log.write(\"finished fitting BB model: \\n\")\n",
    "\n",
    "    evaluate_model(model,x_test,y_test,appliances)\n",
    "    \n",
    "    if environ['save_model']==\"True\":\n",
    "\n",
    "        path_model_save = path+\"/models/\"+environ['learn_type']+\"/\"+dataset.split(\"_\")[0]+\"_\"+dataset.split(\"_R\")[1][0:2]\n",
    "        model.save(path_model_save)\n",
    "        txt_log.write(\"model saved to:\"+\"/models/\"+environ['learn_type']+\"/\"+dataset.split(\"_\")[0]+\"_\"+dataset.split(\"_R\")[1][0:2]+\" \\n\")\n",
    "        \n",
    "        \n",
    "# with open(path_save+\"_out_log.txt\" as f:\n",
    "#     f.write(cap.stdout)\n"
   ]
  },
  {
   "cell_type": "code",
   "execution_count": 13,
   "metadata": {
    "collapsed": true,
    "execution": {
     "iopub.execute_input": "2022-02-16T07:40:49.445796Z",
     "iopub.status.busy": "2022-02-16T07:40:49.445359Z",
     "iopub.status.idle": "2022-02-16T07:40:49.448825Z",
     "shell.execute_reply": "2022-02-16T07:40:49.448458Z"
    }
   },
   "outputs": [],
   "source": [
    "#model = keras.models.load_model(path_model1)\n",
    "# model_used = model"
   ]
  },
  {
   "cell_type": "code",
   "execution_count": 14,
   "metadata": {
    "collapsed": true,
    "execution": {
     "iopub.execute_input": "2022-02-16T07:40:49.453916Z",
     "iopub.status.busy": "2022-02-16T07:40:49.453345Z",
     "iopub.status.idle": "2022-02-16T07:40:49.456712Z",
     "shell.execute_reply": "2022-02-16T07:40:49.456232Z"
    },
    "jupyter": {
     "outputs_hidden": true
    },
    "tags": []
   },
   "outputs": [],
   "source": [
    "# evaluate_model(model,x_test,y_test,appliances)"
   ]
  },
  {
   "cell_type": "code",
   "execution_count": 15,
   "metadata": {
    "collapsed": true,
    "execution": {
     "iopub.execute_input": "2022-02-16T07:40:49.478070Z",
     "iopub.status.busy": "2022-02-16T07:40:49.460214Z",
     "iopub.status.idle": "2022-02-16T07:40:49.480530Z",
     "shell.execute_reply": "2022-02-16T07:40:49.481146Z"
    }
   },
   "outputs": [],
   "source": [
    "# datasets =[\n",
    "#     \"ukdale_gen_GASF_13m_100S5X12A54480_R82_80-20\"\n",
    "# ]\n",
    "\n",
    "if environ['train_type'] == \"TL\": \n",
    "    models = environ['tl_datasets'].replace(\" \",\"\").split(\",\")\n",
    "    #model = [\"base\"]\n",
    "    \n",
    "    for model in models:\n",
    "    \n",
    "        file_name = dataset\n",
    "        \n",
    "        datasetTL = model\n",
    "        \n",
    "        seed = dataset.split(\"_R\")[1][0:2]\n",
    "        \n",
    "        print(\"using dataset data\",dataset.split(\"_\")[0],\"training on model\",model,\"seed\",environ['seed'])\n",
    "        txt_log.write(\"starting \"+dataset.split(\"_\")[0]+\" training on model \"+model+\" seed \"+environ['seed']+\"\\n\")\n",
    "\n",
    "\n",
    "        tf.keras.backend.clear_session()\n",
    "\n",
    "\n",
    "        #read the file\n",
    "        path = str(pathlib.Path().resolve())\n",
    "        path_data = f\"{path}\"\"/data/\"f\"{file_name}\"\"/\"f\"{file_name}\"\".hdf5\"\n",
    "        file = h5py.File(path_data,\"r+\")\n",
    "\n",
    "\n",
    "        print(\"reading data, printing stats: \")\n",
    "        x_test,y_test,d_class_weights,num_of_classes,appliances = get_data(file)\n",
    "        print(\"loading model\")\n",
    "        \n",
    "        model_seed = 42\n",
    "        model_used = create_tl_model(model,environ['learn_type'],model_seed,path,num_of_classes)\n",
    "                \n",
    "        train_gen = HDF5ImageGenerator(\n",
    "            src= path_data,\n",
    "            X_key=\"data/train/gaf\",\n",
    "            y_key=\"labels/train/gaf\",\n",
    "            classes_key=\"appliances/classes\",\n",
    "            labels_encoding=\"hot\",\n",
    "            shuffle=True,\n",
    "            batch_size=int(environ['batch_size']),\n",
    "            num_classes=num_of_classes,\n",
    "            mode=\"train\",\n",
    "            )\n",
    "\n",
    "        model_used.fit(\n",
    "            train_gen,\n",
    "            verbose=2,\n",
    "            epochs=int(environ['epochs']),\n",
    "            class_weight=d_class_weights,\n",
    "            callbacks = [save_op_callback]\n",
    "            #workers = 6,\n",
    "        )\n",
    "        \n",
    "        txt_log.write(\"finished \"+dataset.split(\"_\")[0]+\" training on model \"+model+\" seed \"+environ['seed']+\"\\n\")\n",
    "\n",
    "\n",
    "        evaluate_model(model_used,x_test,y_test,appliances)\n",
    "        \n",
    "\n",
    "\n",
    "\n",
    "        #del model_used\n",
    "\n"
   ]
  },
  {
   "cell_type": "code",
   "execution_count": 16,
   "metadata": {
    "execution": {
     "iopub.execute_input": "2022-02-16T07:40:49.486554Z",
     "iopub.status.busy": "2022-02-16T07:40:49.485540Z",
     "iopub.status.idle": "2022-02-16T07:40:49.488868Z",
     "shell.execute_reply": "2022-02-16T07:40:49.487963Z"
    }
   },
   "outputs": [],
   "source": [
    "txt_log.close()"
   ]
  },
  {
   "cell_type": "code",
   "execution_count": null,
   "metadata": {},
   "outputs": [],
   "source": []
  }
 ],
 "metadata": {
  "colab": {
   "authorship_tag": "ABX9TyMej4PvP65qsLng7TnQKWA4",
   "name": "LSTM-gen",
   "provenance": []
  },
  "kernelspec": {
   "display_name": "Python 3 (ipykernel)",
   "language": "python",
   "name": "python3"
  },
  "language_info": {
   "codemirror_mode": {
    "name": "ipython",
    "version": 3
   },
   "file_extension": ".py",
   "mimetype": "text/x-python",
   "name": "python",
   "nbconvert_exporter": "python",
   "pygments_lexer": "ipython3",
   "version": "3.8.10"
  }
 },
 "nbformat": 4,
 "nbformat_minor": 4
}
