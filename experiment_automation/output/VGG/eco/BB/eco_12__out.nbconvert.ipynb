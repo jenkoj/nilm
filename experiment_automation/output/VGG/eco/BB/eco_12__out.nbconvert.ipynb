{
 "cells": [
  {
   "cell_type": "code",
   "execution_count": 1,
   "metadata": {
    "execution": {
     "iopub.execute_input": "2022-02-15T15:28:34.450936Z",
     "iopub.status.busy": "2022-02-15T15:28:34.449364Z",
     "iopub.status.idle": "2022-02-15T15:28:36.895195Z",
     "shell.execute_reply": "2022-02-15T15:28:36.895545Z"
    },
    "id": "WqUfHWgtJxtu",
    "scrolled": true,
    "tags": []
   },
   "outputs": [
    {
     "name": "stderr",
     "output_type": "stream",
     "text": [
      "2022-02-15 15:28:35.669300: I tensorflow/stream_executor/platform/default/dso_loader.cc:54] Successfully opened dynamic library libcudart.so.11.0\n"
     ]
    },
    {
     "name": "stdout",
     "output_type": "stream",
     "text": [
      "2.5.0\n",
      "Num GPUs Available:  1\n"
     ]
    },
    {
     "name": "stderr",
     "output_type": "stream",
     "text": [
      "2022-02-15 15:28:36.827325: I tensorflow/stream_executor/platform/default/dso_loader.cc:54] Successfully opened dynamic library libcuda.so.1\n",
      "2022-02-15 15:28:36.879613: I tensorflow/core/common_runtime/gpu/gpu_device.cc:1734] Found device 0 with properties: \n",
      "pciBusID: 0000:21:00.0 name: NVIDIA GeForce RTX 2080 Ti computeCapability: 7.5\n",
      "coreClock: 1.545GHz coreCount: 68 deviceMemorySize: 10.76GiB deviceMemoryBandwidth: 573.69GiB/s\n",
      "2022-02-15 15:28:36.879663: I tensorflow/stream_executor/platform/default/dso_loader.cc:54] Successfully opened dynamic library libcudart.so.11.0\n",
      "2022-02-15 15:28:36.883439: I tensorflow/stream_executor/platform/default/dso_loader.cc:54] Successfully opened dynamic library libcublas.so.11\n",
      "2022-02-15 15:28:36.883493: I tensorflow/stream_executor/platform/default/dso_loader.cc:54] Successfully opened dynamic library libcublasLt.so.11\n",
      "2022-02-15 15:28:36.885085: I tensorflow/stream_executor/platform/default/dso_loader.cc:54] Successfully opened dynamic library libcufft.so.10\n",
      "2022-02-15 15:28:36.885393: I tensorflow/stream_executor/platform/default/dso_loader.cc:54] Successfully opened dynamic library libcurand.so.10\n",
      "2022-02-15 15:28:36.886078: I tensorflow/stream_executor/platform/default/dso_loader.cc:54] Successfully opened dynamic library libcutensor.so.1\n",
      "2022-02-15 15:28:36.886552: I tensorflow/stream_executor/platform/default/dso_loader.cc:54] Successfully opened dynamic library libcusolver.so.11\n",
      "2022-02-15 15:28:36.887262: I tensorflow/stream_executor/platform/default/dso_loader.cc:54] Successfully opened dynamic library libcusparse.so.11\n",
      "2022-02-15 15:28:36.887428: I tensorflow/stream_executor/platform/default/dso_loader.cc:54] Successfully opened dynamic library libcudnn.so.8\n",
      "2022-02-15 15:28:36.888104: I tensorflow/core/common_runtime/gpu/gpu_device.cc:1872] Adding visible gpu devices: 0\n"
     ]
    }
   ],
   "source": [
    "import h5py\n",
    "import numpy as np\n",
    "\n",
    "from sklearn.model_selection import train_test_split\n",
    "from sklearn.metrics import classification_report, confusion_matrix\n",
    "import matplotlib.pyplot as plt\n",
    "import itertools \n",
    "import pyts\n",
    "from pyts.approximation import PiecewiseAggregateApproximation\n",
    "\n",
    "from sklearn.utils import class_weight\n",
    "\n",
    "import pathlib\n",
    "import tensorflow as tf\n",
    "from tensorflow import keras\n",
    "from tensorflow.keras import layers, optimizers\n",
    "from tensorflow.keras.layers import Convolution2D,Conv2D, Dense,Dropout, Flatten, Activation, MaxPooling2D, Input, Conv1D, GlobalAveragePooling1D, TimeDistributed, GRU, LSTM\n",
    "\n",
    "print(tf.__version__)\n",
    "print(\"Num GPUs Available: \", len(tf.config.list_physical_devices('GPU')))\n",
    "gpus = tf.config.experimental.list_physical_devices('GPU')\n",
    "\n",
    "try:\n",
    "    for gpu in gpus:\n",
    "        tf.config.experimental.set_memory_growth(gpu, True)\n",
    "except RuntimeError as e:\n",
    "    print(e)"
   ]
  },
  {
   "cell_type": "code",
   "execution_count": 2,
   "metadata": {
    "execution": {
     "iopub.execute_input": "2022-02-15T15:28:36.902025Z",
     "iopub.status.busy": "2022-02-15T15:28:36.901491Z",
     "iopub.status.idle": "2022-02-15T15:28:36.905425Z",
     "shell.execute_reply": "2022-02-15T15:28:36.905840Z"
    }
   },
   "outputs": [
    {
     "name": "stdout",
     "output_type": "stream",
     "text": [
      "eco_gen_GASF_60m_300S0X_2_R12_80-20\n"
     ]
    }
   ],
   "source": [
    "from os import environ\n",
    "dataset = environ['dataset']\n",
    "print(dataset)"
   ]
  },
  {
   "cell_type": "code",
   "execution_count": 3,
   "metadata": {
    "execution": {
     "iopub.execute_input": "2022-02-15T15:28:36.913406Z",
     "iopub.status.busy": "2022-02-15T15:28:36.912692Z",
     "iopub.status.idle": "2022-02-15T15:28:36.917966Z",
     "shell.execute_reply": "2022-02-15T15:28:36.917368Z"
    }
   },
   "outputs": [],
   "source": [
    "#my defs \n",
    "from modules.models import  VGG11,LSTM_3D_V56,CNN_V56,LSTM_BI_V56\n",
    "from modules.tools import my_print, plot_confusion_matrix_norm, get_data,get_data_split, evaluate_model, create_tl_model\n",
    "from modules.HDF5ImageGenerator import HDF5ImageGenerator"
   ]
  },
  {
   "cell_type": "code",
   "execution_count": 4,
   "metadata": {
    "execution": {
     "iopub.execute_input": "2022-02-15T15:28:36.925470Z",
     "iopub.status.busy": "2022-02-15T15:28:36.924483Z",
     "iopub.status.idle": "2022-02-15T15:28:36.927006Z",
     "shell.execute_reply": "2022-02-15T15:28:36.927798Z"
    },
    "id": "RT1vwq7-KOtB"
   },
   "outputs": [],
   "source": [
    "#LOAD DATASET\n",
    "#file_name = \"ukdale_gen_GASF_13m_100S5X12A54480\"\n",
    "#file_name = \"refit_gen_GASF_13m_100S5X_15A166006\"\n",
    "file_name = \"refit_gen_GASF_13m_100S5X_15A166006_R42-80-20\"\n",
    "#file_name = \"refit_gen_GASF_13m_100S5X_15A166006_R42_80-20\"\n",
    "file_name = \"refit_gen_GASF_60m_300S0X_15A157030N_R12_80-20-V1\"\n",
    "file_name = environ[\"dataset\"]\n",
    "#read the file\n",
    "path = str(pathlib.Path().resolve())\n",
    "\n",
    "path_data = f\"{path}\"\"/data/\"f\"{file_name}\"\"/\"f\"{file_name}\"\".hdf5\"\n",
    "\n",
    "file = h5py.File(path_data,\"r+\")"
   ]
  },
  {
   "cell_type": "code",
   "execution_count": 5,
   "metadata": {
    "execution": {
     "iopub.execute_input": "2022-02-15T15:28:36.936016Z",
     "iopub.status.busy": "2022-02-15T15:28:36.934822Z",
     "iopub.status.idle": "2022-02-15T15:28:41.572405Z",
     "shell.execute_reply": "2022-02-15T15:28:41.573482Z"
    },
    "scrolled": true
   },
   "outputs": [
    {
     "name": "stdout",
     "output_type": "stream",
     "text": [
      "['HEKA', 'fridge/freezer', 'HTPC', 'audio system', 'broadband router', 'coffee maker', 'computer', 'lamp', 'laptop computer', 'microwave', 'washing machine']\n",
      "{0: 8.877756286266925, 1: 0.15678009523354078, 2: 0.6806762568589648, 3: 2.9301583248212464, 4: 3.202260517686458, 5: 4.176722176722177, 6: 1.1790182126435305, 7: 2.295129512951295, 8: 1.5334602920049447, 9: 8.934786840568425, 10: 10.103015628439357}\n",
      " \n",
      "Tests \n",
      "HEKA test: 117 train: 470\n",
      "fridge/freezer test: 6654 train: 26614\n",
      "HTPC test: 1533 train: 6130\n",
      "audio system test: 356 train: 1424\n",
      "broadband router test: 326 train: 1303\n",
      "coffee maker test: 249 train: 999\n",
      "computer test: 885 train: 3539\n",
      "lamp test: 455 train: 1818\n",
      "laptop computer test: 680 train: 2721\n",
      "microwave test: 117 train: 467\n",
      "washing machine test: 103 train: 413\n"
     ]
    }
   ],
   "source": [
    "x_test,y_test,d_class_weights,num_of_classes,appliances = get_data(file)"
   ]
  },
  {
   "cell_type": "code",
   "execution_count": 6,
   "metadata": {
    "execution": {
     "iopub.execute_input": "2022-02-15T15:28:41.582089Z",
     "iopub.status.busy": "2022-02-15T15:28:41.580776Z",
     "iopub.status.idle": "2022-02-15T15:28:41.583463Z",
     "shell.execute_reply": "2022-02-15T15:28:41.584550Z"
    }
   },
   "outputs": [],
   "source": [
    "def select_model(learn_type):\n",
    "    \n",
    "    if learn_type == \"CNN\":\n",
    "        model = CNN_V56(file[\"data/train/gaf\"][0:10],num_of_classes,lr= 0.00002)\n",
    "\n",
    "    if learn_type == \"LSTM\":\n",
    "        model = LSTM_3D_V56(file[\"data/train/gaf\"][0:10],num_of_classes,lr= 0.00002)\n",
    "\n",
    "    if learn_type == \"BI_LSTM\":\n",
    "        model = LSTM_BI_V56(file[\"data/train/gaf\"][0:10],num_of_classes,lr= 0.00002)\n",
    "        \n",
    "    if learn_type == \"VGG\":\n",
    "        model = VGG11(file[\"data/train/gaf\"][0:10],num_of_classes,lr= 0.00001)\n",
    "\n",
    "    return model\n",
    "              "
   ]
  },
  {
   "cell_type": "code",
   "execution_count": 7,
   "metadata": {
    "execution": {
     "iopub.execute_input": "2022-02-15T15:28:41.592080Z",
     "iopub.status.busy": "2022-02-15T15:28:41.590778Z",
     "iopub.status.idle": "2022-02-15T15:28:41.593462Z",
     "shell.execute_reply": "2022-02-15T15:28:41.594502Z"
    }
   },
   "outputs": [],
   "source": [
    "path_save = path+'/experiment_automation/output/'+environ['learn_type']+'/'+dataset.split(\"_\")[0]+\"/\"+environ['train_type']+\"/\"+dataset.split(\"_\")[0]+\"_\"+environ['seed']+\"_\"+environ['tl_datasets']\n",
    "path_save_nb = path_save+\"_out.ipynb\"\n",
    "path_save_log = path_save+\"_out_log2.txt\""
   ]
  },
  {
   "cell_type": "code",
   "execution_count": 8,
   "metadata": {
    "execution": {
     "iopub.execute_input": "2022-02-15T15:28:41.603493Z",
     "iopub.status.busy": "2022-02-15T15:28:41.602198Z",
     "iopub.status.idle": "2022-02-15T15:28:41.736722Z",
     "shell.execute_reply": "2022-02-15T15:28:41.737755Z"
    }
   },
   "outputs": [],
   "source": [
    "from keras.callbacks import LambdaCallback\n",
    "#path_log= path+'/experiment_automation/output/'+environ['learn_type']+'/'+dataset.split(\"_\")[0]+\"/\"+environ['train_type']+\"/\"+dataset.split(\"_\")[0]+\"_\"+environ['seed']+\"_\"+environ['tl_datasets']+\"_log.txt\"\n",
    "txt_log = open(path_save+\"_log.txt\", mode='wt', buffering=1)\n",
    "txt_log.write(\"file created! \\n\")\n",
    "\n",
    "save_op_callback = LambdaCallback(\n",
    "  on_epoch_end = lambda epoch, logs: txt_log.write(\n",
    "    str({'epoch': epoch, 'loss': logs['loss'],'acc': logs['accuracy']}) + '\\n'),\n",
    "                                                           \n",
    ")"
   ]
  },
  {
   "cell_type": "code",
   "execution_count": 9,
   "metadata": {
    "execution": {
     "iopub.execute_input": "2022-02-15T15:28:41.744663Z",
     "iopub.status.busy": "2022-02-15T15:28:41.743373Z",
     "iopub.status.idle": "2022-02-15T15:28:41.747657Z",
     "shell.execute_reply": "2022-02-15T15:28:41.748735Z"
    }
   },
   "outputs": [
    {
     "name": "stdout",
     "output_type": "stream",
     "text": [
      "/workspace/notebooks/experiment_automation/output/VGG/eco/BB/eco_12__out.ipynb\n"
     ]
    }
   ],
   "source": [
    "print(path_save_nb)"
   ]
  },
  {
   "cell_type": "code",
   "execution_count": 10,
   "metadata": {
    "execution": {
     "iopub.execute_input": "2022-02-15T15:28:41.755754Z",
     "iopub.status.busy": "2022-02-15T15:28:41.754493Z",
     "iopub.status.idle": "2022-02-15T15:28:41.757391Z",
     "shell.execute_reply": "2022-02-15T15:28:41.758420Z"
    }
   },
   "outputs": [],
   "source": [
    "# rm $path_save_log"
   ]
  },
  {
   "cell_type": "code",
   "execution_count": 11,
   "metadata": {
    "execution": {
     "iopub.execute_input": "2022-02-15T15:28:41.765470Z",
     "iopub.status.busy": "2022-02-15T15:28:41.764199Z",
     "iopub.status.idle": "2022-02-15T15:28:41.766950Z",
     "shell.execute_reply": "2022-02-15T15:28:41.767989Z"
    }
   },
   "outputs": [],
   "source": [
    "# %%capture cap \n",
    "\n",
    "# with open(path_save_log,\"wt\") as f:\n",
    "#     f.write(cap.stdout)\n",
    "    \n",
    "# print(\"out capture..\")"
   ]
  },
  {
   "cell_type": "code",
   "execution_count": 12,
   "metadata": {
    "execution": {
     "iopub.execute_input": "2022-02-15T15:28:41.789142Z",
     "iopub.status.busy": "2022-02-15T15:28:41.787868Z",
     "iopub.status.idle": "2022-02-15T23:33:55.583183Z",
     "shell.execute_reply": "2022-02-15T23:33:55.584207Z"
    },
    "id": "vqA9NwOqKrb5",
    "jupyter": {
     "outputs_hidden": true
    },
    "tags": []
   },
   "outputs": [
    {
     "name": "stdout",
     "output_type": "stream",
     "text": [
      "Normal way\n",
      "[0 1 2 3 4 5 6 7 8 9]\n",
      "WARNING:tensorflow:From /usr/local/lib/python3.8/dist-packages/tensorflow/python/ops/array_ops.py:5043: calling gather (from tensorflow.python.ops.array_ops) with validate_indices is deprecated and will be removed in a future version.\n",
      "Instructions for updating:\n",
      "The `validate_indices` argument has no effect. Indices are always validated on CPU and never validated on GPU.\n"
     ]
    },
    {
     "name": "stderr",
     "output_type": "stream",
     "text": [
      "2022-02-15 15:28:41.813520: I tensorflow/core/common_runtime/gpu/gpu_device.cc:1734] Found device 0 with properties: \n",
      "pciBusID: 0000:21:00.0 name: NVIDIA GeForce RTX 2080 Ti computeCapability: 7.5\n",
      "coreClock: 1.545GHz coreCount: 68 deviceMemorySize: 10.76GiB deviceMemoryBandwidth: 573.69GiB/s\n",
      "2022-02-15 15:28:41.814012: I tensorflow/core/common_runtime/gpu/gpu_device.cc:1872] Adding visible gpu devices: 0\n",
      "2022-02-15 15:28:41.814373: I tensorflow/stream_executor/platform/default/dso_loader.cc:54] Successfully opened dynamic library libcudart.so.11.0\n",
      "2022-02-15 15:28:42.652065: I tensorflow/core/common_runtime/gpu/gpu_device.cc:1258] Device interconnect StreamExecutor with strength 1 edge matrix:\n",
      "2022-02-15 15:28:42.652124: I tensorflow/core/common_runtime/gpu/gpu_device.cc:1264]      0 \n",
      "2022-02-15 15:28:42.652175: I tensorflow/core/common_runtime/gpu/gpu_device.cc:1277] 0:   N \n",
      "2022-02-15 15:28:42.653043: I tensorflow/core/common_runtime/gpu/gpu_device.cc:1418] Created TensorFlow device (/job:localhost/replica:0/task:0/device:GPU:0 with 9649 MB memory) -> physical GPU (device: 0, name: NVIDIA GeForce RTX 2080 Ti, pci bus id: 0000:21:00.0, compute capability: 7.5)\n",
      "2022-02-15 15:28:42.654378: I tensorflow/core/common_runtime/process_util.cc:146] Creating new thread pool with default inter op setting: 20. Tune using inter_op_parallelism_threads for best performance.\n",
      "/usr/local/lib/python3.8/dist-packages/tensorflow/python/keras/optimizer_v2/optimizer_v2.py:374: UserWarning: The `lr` argument is deprecated, use `learning_rate` instead.\n",
      "  warnings.warn(\n",
      "2022-02-15 15:28:42.848388: I tensorflow/compiler/mlir/mlir_graph_optimization_pass.cc:176] None of the MLIR Optimization Passes are enabled (registered 2)\n"
     ]
    },
    {
     "name": "stdout",
     "output_type": "stream",
     "text": [
      "Epoch 1/100\n"
     ]
    },
    {
     "name": "stderr",
     "output_type": "stream",
     "text": [
      "2022-02-15 15:28:42.868548: I tensorflow/core/platform/profile_utils/cpu_utils.cc:114] CPU Frequency: 3299990000 Hz\n",
      "2022-02-15 15:28:43.509845: I tensorflow/stream_executor/platform/default/dso_loader.cc:54] Successfully opened dynamic library libcudnn.so.8\n",
      "2022-02-15 15:28:44.205978: I tensorflow/stream_executor/cuda/cuda_dnn.cc:380] Loaded cuDNN version 8202\n",
      "2022-02-15 15:28:45.075291: I tensorflow/stream_executor/platform/default/dso_loader.cc:54] Successfully opened dynamic library libcublas.so.11\n",
      "2022-02-15 15:28:45.493699: I tensorflow/stream_executor/platform/default/dso_loader.cc:54] Successfully opened dynamic library libcublasLt.so.11\n"
     ]
    },
    {
     "name": "stdout",
     "output_type": "stream",
     "text": [
      "1435/1435 - 297s - loss: 2.0563 - accuracy: 0.2445\n",
      "Epoch 2/100\n",
      "1435/1435 - 291s - loss: 1.3873 - accuracy: 0.5122\n",
      "Epoch 3/100\n",
      "1435/1435 - 291s - loss: 1.0253 - accuracy: 0.6834\n",
      "Epoch 4/100\n",
      "1435/1435 - 291s - loss: 0.8409 - accuracy: 0.7402\n",
      "Epoch 5/100\n",
      "1435/1435 - 288s - loss: 0.7185 - accuracy: 0.7759\n",
      "Epoch 6/100\n",
      "1435/1435 - 290s - loss: 0.6644 - accuracy: 0.7924\n",
      "Epoch 7/100\n",
      "1435/1435 - 290s - loss: 0.5954 - accuracy: 0.8177\n",
      "Epoch 8/100\n",
      "1435/1435 - 288s - loss: 0.5256 - accuracy: 0.8321\n",
      "Epoch 9/100\n",
      "1435/1435 - 290s - loss: 0.4763 - accuracy: 0.8438\n",
      "Epoch 10/100\n",
      "1435/1435 - 290s - loss: 0.4289 - accuracy: 0.8589\n",
      "Epoch 11/100\n",
      "1435/1435 - 290s - loss: 0.4003 - accuracy: 0.8668\n",
      "Epoch 12/100\n",
      "1435/1435 - 289s - loss: 0.3932 - accuracy: 0.8642\n",
      "Epoch 13/100\n",
      "1435/1435 - 289s - loss: 0.3422 - accuracy: 0.8765\n",
      "Epoch 14/100\n",
      "1435/1435 - 289s - loss: 0.3320 - accuracy: 0.8829\n",
      "Epoch 15/100\n",
      "1435/1435 - 290s - loss: 0.2975 - accuracy: 0.8945\n",
      "Epoch 16/100\n",
      "1435/1435 - 290s - loss: 0.3091 - accuracy: 0.8896\n",
      "Epoch 17/100\n",
      "1435/1435 - 290s - loss: 0.2786 - accuracy: 0.8938\n",
      "Epoch 18/100\n",
      "1435/1435 - 291s - loss: 0.2587 - accuracy: 0.9018\n",
      "Epoch 19/100\n",
      "1435/1435 - 291s - loss: 0.2754 - accuracy: 0.8985\n",
      "Epoch 20/100\n",
      "1435/1435 - 292s - loss: 0.2499 - accuracy: 0.9005\n",
      "Epoch 21/100\n",
      "1435/1435 - 292s - loss: 0.2770 - accuracy: 0.9000\n",
      "Epoch 22/100\n",
      "1435/1435 - 291s - loss: 0.2587 - accuracy: 0.9086\n",
      "Epoch 23/100\n",
      "1435/1435 - 290s - loss: 0.2080 - accuracy: 0.9159\n",
      "Epoch 24/100\n",
      "1435/1435 - 291s - loss: 0.2147 - accuracy: 0.9171\n",
      "Epoch 25/100\n",
      "1435/1435 - 289s - loss: 0.2162 - accuracy: 0.9177\n",
      "Epoch 26/100\n",
      "1435/1435 - 290s - loss: 0.1974 - accuracy: 0.9208\n",
      "Epoch 27/100\n",
      "1435/1435 - 290s - loss: 0.1836 - accuracy: 0.9252\n",
      "Epoch 28/100\n",
      "1435/1435 - 290s - loss: 0.2011 - accuracy: 0.9218\n",
      "Epoch 29/100\n",
      "1435/1435 - 291s - loss: 0.1928 - accuracy: 0.9265\n",
      "Epoch 30/100\n",
      "1435/1435 - 291s - loss: 0.1875 - accuracy: 0.9255\n",
      "Epoch 31/100\n",
      "1435/1435 - 292s - loss: 0.1747 - accuracy: 0.9303\n",
      "Epoch 32/100\n",
      "1435/1435 - 292s - loss: 0.1665 - accuracy: 0.9322\n",
      "Epoch 33/100\n",
      "1435/1435 - 290s - loss: 0.1731 - accuracy: 0.9295\n",
      "Epoch 34/100\n",
      "1435/1435 - 291s - loss: 0.1636 - accuracy: 0.9343\n",
      "Epoch 35/100\n",
      "1435/1435 - 289s - loss: 0.1548 - accuracy: 0.9349\n",
      "Epoch 36/100\n",
      "1435/1435 - 290s - loss: 0.1633 - accuracy: 0.9321\n",
      "Epoch 37/100\n",
      "1435/1435 - 290s - loss: 0.1406 - accuracy: 0.9398\n",
      "Epoch 38/100\n",
      "1435/1435 - 290s - loss: 0.1632 - accuracy: 0.9352\n",
      "Epoch 39/100\n",
      "1435/1435 - 291s - loss: 0.1733 - accuracy: 0.9297\n",
      "Epoch 40/100\n",
      "1435/1435 - 292s - loss: 0.1348 - accuracy: 0.9439\n",
      "Epoch 41/100\n",
      "1435/1435 - 290s - loss: 0.1621 - accuracy: 0.9362\n",
      "Epoch 42/100\n",
      "1435/1435 - 291s - loss: 0.1417 - accuracy: 0.9408\n",
      "Epoch 43/100\n",
      "1435/1435 - 289s - loss: 0.1367 - accuracy: 0.9434\n",
      "Epoch 44/100\n",
      "1435/1435 - 289s - loss: 0.1327 - accuracy: 0.9459\n",
      "Epoch 45/100\n",
      "1435/1435 - 290s - loss: 0.1689 - accuracy: 0.9358\n",
      "Epoch 46/100\n",
      "1435/1435 - 291s - loss: 0.1201 - accuracy: 0.9475\n",
      "Epoch 47/100\n",
      "1435/1435 - 291s - loss: 0.1348 - accuracy: 0.9444\n",
      "Epoch 48/100\n",
      "1435/1435 - 291s - loss: 0.1296 - accuracy: 0.9467\n",
      "Epoch 49/100\n",
      "1435/1435 - 292s - loss: 0.1210 - accuracy: 0.9494\n",
      "Epoch 50/100\n",
      "1435/1435 - 293s - loss: 0.1494 - accuracy: 0.9384\n",
      "Epoch 51/100\n",
      "1435/1435 - 293s - loss: 0.1097 - accuracy: 0.9513\n",
      "Epoch 52/100\n",
      "1435/1435 - 290s - loss: 0.1252 - accuracy: 0.9489\n",
      "Epoch 53/100\n",
      "1435/1435 - 291s - loss: 0.1090 - accuracy: 0.9513\n",
      "Epoch 54/100\n",
      "1435/1435 - 289s - loss: 0.1146 - accuracy: 0.9515\n",
      "Epoch 55/100\n",
      "1435/1435 - 290s - loss: 0.1175 - accuracy: 0.9495\n",
      "Epoch 56/100\n",
      "1435/1435 - 291s - loss: 0.1149 - accuracy: 0.9513\n",
      "Epoch 57/100\n",
      "1435/1435 - 290s - loss: 0.1065 - accuracy: 0.9533\n",
      "Epoch 58/100\n",
      "1435/1435 - 291s - loss: 0.1091 - accuracy: 0.9524\n",
      "Epoch 59/100\n",
      "1435/1435 - 293s - loss: 0.1126 - accuracy: 0.9519\n",
      "Epoch 60/100\n",
      "1435/1435 - 292s - loss: 0.1075 - accuracy: 0.9539\n",
      "Epoch 61/100\n",
      "1435/1435 - 290s - loss: 0.1080 - accuracy: 0.9520\n",
      "Epoch 62/100\n",
      "1435/1435 - 290s - loss: 0.1026 - accuracy: 0.9554\n",
      "Epoch 63/100\n",
      "1435/1435 - 290s - loss: 0.1557 - accuracy: 0.9468\n",
      "Epoch 64/100\n",
      "1435/1435 - 290s - loss: 0.0940 - accuracy: 0.9583\n",
      "Epoch 65/100\n",
      "1435/1435 - 290s - loss: 0.1007 - accuracy: 0.9556\n",
      "Epoch 66/100\n",
      "1435/1435 - 290s - loss: 0.0964 - accuracy: 0.9590\n",
      "Epoch 67/100\n",
      "1435/1435 - 292s - loss: 0.1040 - accuracy: 0.9559\n",
      "Epoch 68/100\n",
      "1435/1435 - 293s - loss: 0.1073 - accuracy: 0.9563\n",
      "Epoch 69/100\n",
      "1435/1435 - 294s - loss: 0.0963 - accuracy: 0.9576\n",
      "Epoch 70/100\n",
      "1435/1435 - 292s - loss: 0.1022 - accuracy: 0.9559\n",
      "Epoch 71/100\n",
      "1435/1435 - 292s - loss: 0.0958 - accuracy: 0.9579\n",
      "Epoch 72/100\n",
      "1435/1435 - 291s - loss: 0.0932 - accuracy: 0.9596\n",
      "Epoch 73/100\n",
      "1435/1435 - 292s - loss: 0.1015 - accuracy: 0.9573\n",
      "Epoch 74/100\n",
      "1435/1435 - 293s - loss: 0.0982 - accuracy: 0.9579\n",
      "Epoch 75/100\n",
      "1435/1435 - 293s - loss: 0.0985 - accuracy: 0.9589\n",
      "Epoch 76/100\n",
      "1435/1435 - 290s - loss: 0.1191 - accuracy: 0.9540\n",
      "Epoch 77/100\n",
      "1435/1435 - 290s - loss: 0.0997 - accuracy: 0.9600\n",
      "Epoch 78/100\n",
      "1435/1435 - 289s - loss: 0.0835 - accuracy: 0.9627\n",
      "Epoch 79/100\n",
      "1435/1435 - 290s - loss: 0.0895 - accuracy: 0.9608\n",
      "Epoch 80/100\n",
      "1435/1435 - 290s - loss: 0.0866 - accuracy: 0.9621\n",
      "Epoch 81/100\n",
      "1435/1435 - 290s - loss: 0.0936 - accuracy: 0.9590\n",
      "Epoch 82/100\n",
      "1435/1435 - 292s - loss: 0.0848 - accuracy: 0.9625\n",
      "Epoch 83/100\n",
      "1435/1435 - 293s - loss: 0.0923 - accuracy: 0.9604\n",
      "Epoch 84/100\n",
      "1435/1435 - 294s - loss: 0.0868 - accuracy: 0.9633\n",
      "Epoch 85/100\n",
      "1435/1435 - 291s - loss: 0.0894 - accuracy: 0.9613\n",
      "Epoch 86/100\n",
      "1435/1435 - 291s - loss: 0.0885 - accuracy: 0.9623\n",
      "Epoch 87/100\n",
      "1435/1435 - 289s - loss: 0.0769 - accuracy: 0.9652\n",
      "Epoch 88/100\n",
      "1435/1435 - 290s - loss: 0.0898 - accuracy: 0.9614\n",
      "Epoch 89/100\n",
      "1435/1435 - 290s - loss: 0.0797 - accuracy: 0.9642\n",
      "Epoch 90/100\n",
      "1435/1435 - 290s - loss: 0.0846 - accuracy: 0.9628\n",
      "Epoch 91/100\n",
      "1435/1435 - 290s - loss: 0.0869 - accuracy: 0.9631\n",
      "Epoch 92/100\n",
      "1435/1435 - 291s - loss: 0.0865 - accuracy: 0.9650\n",
      "Epoch 93/100\n",
      "1435/1435 - 292s - loss: 0.0773 - accuracy: 0.9667\n",
      "Epoch 94/100\n",
      "1435/1435 - 293s - loss: 0.0764 - accuracy: 0.9666\n",
      "Epoch 95/100\n",
      "1435/1435 - 291s - loss: 0.0819 - accuracy: 0.9651\n",
      "Epoch 96/100\n",
      "1435/1435 - 291s - loss: 0.0848 - accuracy: 0.9640\n",
      "Epoch 97/100\n",
      "1435/1435 - 293s - loss: 0.0732 - accuracy: 0.9678\n",
      "Epoch 98/100\n",
      "1435/1435 - 293s - loss: 0.0825 - accuracy: 0.9636\n",
      "Epoch 99/100\n",
      "1435/1435 - 292s - loss: 0.0682 - accuracy: 0.9694\n",
      "Epoch 100/100\n",
      "1435/1435 - 292s - loss: 0.0777 - accuracy: 0.9670\n",
      "359/359 - 21s\n",
      "Normalized confusion matrix\n",
      "                  precision    recall  f1-score   support\n",
      "\n",
      "            HEKA       0.93      0.97      0.95       117\n",
      "  fridge/freezer       0.99      0.98      0.99      6654\n",
      "            HTPC       0.89      0.83      0.86      1533\n",
      "    audio system       0.72      0.76      0.74       356\n",
      "broadband router       1.00      1.00      1.00       326\n",
      "    coffee maker       0.92      0.92      0.92       249\n",
      "        computer       0.93      0.95      0.94       885\n",
      "            lamp       0.80      0.88      0.83       455\n",
      " laptop computer       0.82      0.88      0.85       680\n",
      "       microwave       0.69      0.85      0.76       117\n",
      " washing machine       0.80      0.83      0.81       103\n",
      "\n",
      "        accuracy                           0.94     11475\n",
      "       macro avg       0.86      0.89      0.88     11475\n",
      "    weighted avg       0.94      0.94      0.94     11475\n",
      "\n"
     ]
    },
    {
     "name": "stderr",
     "output_type": "stream",
     "text": [
      "2022-02-15 23:33:51.565457: W tensorflow/python/util/util.cc:348] Sets are not currently considered sequences, but this may change in the future, so consider avoiding using them.\n"
     ]
    },
    {
     "name": "stdout",
     "output_type": "stream",
     "text": [
      "INFO:tensorflow:Assets written to: /workspace/notebooks/models/VGG/eco_12/assets\n"
     ]
    },
    {
     "data": {
      "image/png": "[encoded data removed]",
      "text/plain": [
       "<Figure size 720x720 with 2 Axes>"
      ]
     },
     "metadata": {
      "needs_background": "light"
     },
     "output_type": "display_data"
    }
   ],
   "source": [
    "# %%capture cap --no-stderr\n",
    "\n",
    "\n",
    "if environ['train_type'] == \"BB\":\n",
    "\n",
    "    #define generator\n",
    "    train_gen = HDF5ImageGenerator(\n",
    "        src= path_data,\n",
    "        X_key=\"data/train/gaf\",\n",
    "        y_key=\"labels/train/gaf\",\n",
    "        classes_key=\"appliances/classes\",\n",
    "        labels_encoding=\"hot\",\n",
    "        shuffle=True,\n",
    "        batch_size=int(environ['batch_size']),\n",
    "        num_classes=num_of_classes,\n",
    "        mode=\"train\",\n",
    "        )\n",
    "    \n",
    "    model = select_model(environ['learn_type'])\n",
    "    \n",
    "    txt_log.write(\"fitting BB model: \\n\")\n",
    "    \n",
    "    model.fit(\n",
    "        train_gen,\n",
    "        verbose=2,\n",
    "        epochs=int(environ['epochs']),\n",
    "        class_weight=d_class_weights,\n",
    "        callbacks = [save_op_callback],\n",
    "    )\n",
    "    \n",
    "    txt_log.write(\"finished fitting BB model: \\n\")\n",
    "\n",
    "    evaluate_model(model,x_test,y_test,appliances)\n",
    "    \n",
    "    if environ['save_model']==\"True\":\n",
    "\n",
    "        path_model_save = path+\"/models/\"+environ['learn_type']+\"/\"+dataset.split(\"_\")[0]+\"_\"+dataset.split(\"_R\")[1][0:2]\n",
    "        model.save(path_model_save)\n",
    "        txt_log.write(\"model saved to:\"+\"/models/\"+environ['learn_type']+\"/\"+dataset.split(\"_\")[0]+\"_\"+dataset.split(\"_R\")[1][0:2]+\" \\n\")\n",
    "        \n",
    "        \n",
    "# with open(path_save+\"_out_log.txt\" as f:\n",
    "#     f.write(cap.stdout)\n"
   ]
  },
  {
   "cell_type": "code",
   "execution_count": 13,
   "metadata": {
    "collapsed": true,
    "execution": {
     "iopub.execute_input": "2022-02-15T23:33:55.590093Z",
     "iopub.status.busy": "2022-02-15T23:33:55.588918Z",
     "iopub.status.idle": "2022-02-15T23:33:55.591351Z",
     "shell.execute_reply": "2022-02-15T23:33:55.592336Z"
    }
   },
   "outputs": [],
   "source": [
    "#model = keras.models.load_model(path_model1)\n",
    "# model_used = model"
   ]
  },
  {
   "cell_type": "code",
   "execution_count": 14,
   "metadata": {
    "collapsed": true,
    "execution": {
     "iopub.execute_input": "2022-02-15T23:33:55.597493Z",
     "iopub.status.busy": "2022-02-15T23:33:55.596388Z",
     "iopub.status.idle": "2022-02-15T23:33:55.598870Z",
     "shell.execute_reply": "2022-02-15T23:33:55.599776Z"
    },
    "jupyter": {
     "outputs_hidden": true
    },
    "tags": []
   },
   "outputs": [],
   "source": [
    "# evaluate_model(model,x_test,y_test,appliances)"
   ]
  },
  {
   "cell_type": "code",
   "execution_count": 15,
   "metadata": {
    "collapsed": true,
    "execution": {
     "iopub.execute_input": "2022-02-15T23:33:55.618800Z",
     "iopub.status.busy": "2022-02-15T23:33:55.617506Z",
     "iopub.status.idle": "2022-02-15T23:33:55.620082Z",
     "shell.execute_reply": "2022-02-15T23:33:55.621075Z"
    }
   },
   "outputs": [],
   "source": [
    "# datasets =[\n",
    "#     \"ukdale_gen_GASF_13m_100S5X12A54480_R82_80-20\"\n",
    "# ]\n",
    "\n",
    "if environ['train_type'] == \"TL\": \n",
    "    models = environ['tl_datasets'].replace(\" \",\"\").split(\",\")\n",
    "    #model = [\"base\"]\n",
    "    \n",
    "    for model in models:\n",
    "    \n",
    "        file_name = dataset\n",
    "        \n",
    "        datasetTL = model\n",
    "        \n",
    "        seed = dataset.split(\"_R\")[1][0:2]\n",
    "        \n",
    "        print(\"using dataset data\",dataset.split(\"_\")[0],\"training on model\",model,\"seed\",environ['seed'])\n",
    "        txt_log.write(\"starting \"+dataset.split(\"_\")[0]+\" training on model \"+model+\" seed \"+environ['seed']+\"\\n\")\n",
    "\n",
    "\n",
    "        tf.keras.backend.clear_session()\n",
    "\n",
    "\n",
    "        #read the file\n",
    "        path = str(pathlib.Path().resolve())\n",
    "        path_data = f\"{path}\"\"/data/\"f\"{file_name}\"\"/\"f\"{file_name}\"\".hdf5\"\n",
    "        file = h5py.File(path_data,\"r+\")\n",
    "\n",
    "\n",
    "        print(\"reading data, printing stats: \")\n",
    "        x_test,y_test,d_class_weights,num_of_classes,appliances = get_data(file)\n",
    "        print(\"loading model\")\n",
    "        \n",
    "        model_seed = 42\n",
    "        model_used = create_tl_model(model,environ['learn_type'],model_seed,path,num_of_classes)\n",
    "                \n",
    "        train_gen = HDF5ImageGenerator(\n",
    "            src= path_data,\n",
    "            X_key=\"data/train/gaf\",\n",
    "            y_key=\"labels/train/gaf\",\n",
    "            classes_key=\"appliances/classes\",\n",
    "            labels_encoding=\"hot\",\n",
    "            shuffle=True,\n",
    "            batch_size=int(environ['batch_size']),\n",
    "            num_classes=num_of_classes,\n",
    "            mode=\"train\",\n",
    "            )\n",
    "\n",
    "        model_used.fit(\n",
    "            train_gen,\n",
    "            verbose=2,\n",
    "            epochs=int(environ['epochs']),\n",
    "            class_weight=d_class_weights,\n",
    "            callbacks = [save_op_callback]\n",
    "            #workers = 6,\n",
    "        )\n",
    "        \n",
    "        txt_log.write(\"finished \"+dataset.split(\"_\")[0]+\" training on model \"+model+\" seed \"+environ['seed']+\"\\n\")\n",
    "\n",
    "\n",
    "        evaluate_model(model_used,x_test,y_test,appliances)\n",
    "        \n",
    "\n",
    "\n",
    "\n",
    "        #del model_used\n",
    "\n"
   ]
  },
  {
   "cell_type": "code",
   "execution_count": 16,
   "metadata": {
    "execution": {
     "iopub.execute_input": "2022-02-15T23:33:55.626856Z",
     "iopub.status.busy": "2022-02-15T23:33:55.625684Z",
     "iopub.status.idle": "2022-02-15T23:33:55.628150Z",
     "shell.execute_reply": "2022-02-15T23:33:55.629124Z"
    }
   },
   "outputs": [],
   "source": [
    "txt_log.close()"
   ]
  },
  {
   "cell_type": "code",
   "execution_count": null,
   "metadata": {},
   "outputs": [],
   "source": []
  }
 ],
 "metadata": {
  "colab": {
   "authorship_tag": "ABX9TyMej4PvP65qsLng7TnQKWA4",
   "name": "LSTM-gen",
   "provenance": []
  },
  "kernelspec": {
   "display_name": "Python 3 (ipykernel)",
   "language": "python",
   "name": "python3"
  },
  "language_info": {
   "codemirror_mode": {
    "name": "ipython",
    "version": 3
   },
   "file_extension": ".py",
   "mimetype": "text/x-python",
   "name": "python",
   "nbconvert_exporter": "python",
   "pygments_lexer": "ipython3",
   "version": "3.8.10"
  }
 },
 "nbformat": 4,
 "nbformat_minor": 4
}
