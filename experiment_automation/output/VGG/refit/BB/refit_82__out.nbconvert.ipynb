{
 "cells": [
  {
   "cell_type": "code",
   "execution_count": 1,
   "metadata": {
    "execution": {
     "iopub.execute_input": "2022-02-17T23:45:13.201140Z",
     "iopub.status.busy": "2022-02-17T23:45:13.188517Z",
     "iopub.status.idle": "2022-02-17T23:45:17.937770Z",
     "shell.execute_reply": "2022-02-17T23:45:17.937333Z"
    },
    "id": "WqUfHWgtJxtu",
    "scrolled": true,
    "tags": []
   },
   "outputs": [
    {
     "name": "stderr",
     "output_type": "stream",
     "text": [
      "2022-02-17 23:45:16.528597: I tensorflow/stream_executor/platform/default/dso_loader.cc:54] Successfully opened dynamic library libcudart.so.11.0\n"
     ]
    },
    {
     "name": "stdout",
     "output_type": "stream",
     "text": [
      "2.5.0\n",
      "Num GPUs Available:  1\n"
     ]
    },
    {
     "name": "stderr",
     "output_type": "stream",
     "text": [
      "2022-02-17 23:45:17.855531: I tensorflow/stream_executor/platform/default/dso_loader.cc:54] Successfully opened dynamic library libcuda.so.1\n",
      "2022-02-17 23:45:17.901711: I tensorflow/core/common_runtime/gpu/gpu_device.cc:1734] Found device 0 with properties: \n",
      "pciBusID: 0000:21:00.0 name: NVIDIA GeForce RTX 2080 Ti computeCapability: 7.5\n",
      "coreClock: 1.545GHz coreCount: 68 deviceMemorySize: 10.76GiB deviceMemoryBandwidth: 573.69GiB/s\n",
      "2022-02-17 23:45:17.901756: I tensorflow/stream_executor/platform/default/dso_loader.cc:54] Successfully opened dynamic library libcudart.so.11.0\n",
      "2022-02-17 23:45:17.915559: I tensorflow/stream_executor/platform/default/dso_loader.cc:54] Successfully opened dynamic library libcublas.so.11\n",
      "2022-02-17 23:45:17.915617: I tensorflow/stream_executor/platform/default/dso_loader.cc:54] Successfully opened dynamic library libcublasLt.so.11\n",
      "2022-02-17 23:45:17.920408: I tensorflow/stream_executor/platform/default/dso_loader.cc:54] Successfully opened dynamic library libcufft.so.10\n",
      "2022-02-17 23:45:17.922340: I tensorflow/stream_executor/platform/default/dso_loader.cc:54] Successfully opened dynamic library libcurand.so.10\n",
      "2022-02-17 23:45:17.926475: I tensorflow/stream_executor/platform/default/dso_loader.cc:54] Successfully opened dynamic library libcutensor.so.1\n",
      "2022-02-17 23:45:17.927698: I tensorflow/stream_executor/platform/default/dso_loader.cc:54] Successfully opened dynamic library libcusolver.so.11\n",
      "2022-02-17 23:45:17.929397: I tensorflow/stream_executor/platform/default/dso_loader.cc:54] Successfully opened dynamic library libcusparse.so.11\n",
      "2022-02-17 23:45:17.929675: I tensorflow/stream_executor/platform/default/dso_loader.cc:54] Successfully opened dynamic library libcudnn.so.8\n",
      "2022-02-17 23:45:17.930048: I tensorflow/core/common_runtime/gpu/gpu_device.cc:1872] Adding visible gpu devices: 0\n"
     ]
    }
   ],
   "source": [
    "import h5py\n",
    "import numpy as np\n",
    "\n",
    "from sklearn.model_selection import train_test_split\n",
    "from sklearn.metrics import classification_report, confusion_matrix\n",
    "import matplotlib.pyplot as plt\n",
    "import itertools \n",
    "import pyts\n",
    "from pyts.approximation import PiecewiseAggregateApproximation\n",
    "\n",
    "from sklearn.utils import class_weight\n",
    "\n",
    "import pathlib\n",
    "import tensorflow as tf\n",
    "from tensorflow import keras\n",
    "from tensorflow.keras import layers, optimizers\n",
    "from tensorflow.keras.layers import Convolution2D,Conv2D, Dense,Dropout, Flatten, Activation, MaxPooling2D, Input, Conv1D, GlobalAveragePooling1D, TimeDistributed, GRU, LSTM\n",
    "\n",
    "print(tf.__version__)\n",
    "print(\"Num GPUs Available: \", len(tf.config.list_physical_devices('GPU')))\n",
    "gpus = tf.config.experimental.list_physical_devices('GPU')\n",
    "\n",
    "try:\n",
    "    for gpu in gpus:\n",
    "        tf.config.experimental.set_memory_growth(gpu, True)\n",
    "except RuntimeError as e:\n",
    "    print(e)"
   ]
  },
  {
   "cell_type": "code",
   "execution_count": 2,
   "metadata": {
    "execution": {
     "iopub.execute_input": "2022-02-17T23:45:17.941738Z",
     "iopub.status.busy": "2022-02-17T23:45:17.941325Z",
     "iopub.status.idle": "2022-02-17T23:45:17.945552Z",
     "shell.execute_reply": "2022-02-17T23:45:17.945219Z"
    }
   },
   "outputs": [
    {
     "name": "stdout",
     "output_type": "stream",
     "text": [
      "refit_gen_GASF_60m_300S0X_15A157030N_R82_80-20-V1\n"
     ]
    }
   ],
   "source": [
    "from os import environ\n",
    "dataset = environ['dataset']\n",
    "print(dataset)"
   ]
  },
  {
   "cell_type": "code",
   "execution_count": 3,
   "metadata": {
    "execution": {
     "iopub.execute_input": "2022-02-17T23:45:17.952075Z",
     "iopub.status.busy": "2022-02-17T23:45:17.951700Z",
     "iopub.status.idle": "2022-02-17T23:45:17.956726Z",
     "shell.execute_reply": "2022-02-17T23:45:17.956289Z"
    }
   },
   "outputs": [],
   "source": [
    "#my defs \n",
    "from modules.models import  VGG11,LSTM_3D_V56,CNN_V56,LSTM_BI_V56\n",
    "from modules.tools import my_print, plot_confusion_matrix_norm, get_data,get_data_split, evaluate_model, create_tl_model\n",
    "from modules.HDF5ImageGenerator import HDF5ImageGenerator"
   ]
  },
  {
   "cell_type": "code",
   "execution_count": 4,
   "metadata": {
    "execution": {
     "iopub.execute_input": "2022-02-17T23:45:17.962462Z",
     "iopub.status.busy": "2022-02-17T23:45:17.961735Z",
     "iopub.status.idle": "2022-02-17T23:45:17.963967Z",
     "shell.execute_reply": "2022-02-17T23:45:17.963352Z"
    },
    "id": "RT1vwq7-KOtB"
   },
   "outputs": [],
   "source": [
    "#LOAD DATASET\n",
    "#file_name = \"ukdale_gen_GASF_13m_100S5X12A54480\"\n",
    "#file_name = \"refit_gen_GASF_13m_100S5X_15A166006\"\n",
    "file_name = \"refit_gen_GASF_13m_100S5X_15A166006_R42-80-20\"\n",
    "#file_name = \"refit_gen_GASF_13m_100S5X_15A166006_R42_80-20\"\n",
    "file_name = \"refit_gen_GASF_60m_300S0X_15A157030N_R12_80-20-V1\"\n",
    "file_name = environ[\"dataset\"]\n",
    "#read the file\n",
    "path = str(pathlib.Path().resolve())\n",
    "\n",
    "path_data = f\"{path}\"\"/data/\"f\"{file_name}\"\"/\"f\"{file_name}\"\".hdf5\"\n",
    "\n",
    "file = h5py.File(path_data,\"r+\")"
   ]
  },
  {
   "cell_type": "code",
   "execution_count": 5,
   "metadata": {
    "execution": {
     "iopub.execute_input": "2022-02-17T23:45:17.968720Z",
     "iopub.status.busy": "2022-02-17T23:45:17.968005Z",
     "iopub.status.idle": "2022-02-17T23:45:24.244079Z",
     "shell.execute_reply": "2022-02-17T23:45:24.245174Z"
    },
    "scrolled": true
   },
   "outputs": [
    {
     "name": "stdout",
     "output_type": "stream",
     "text": [
      "['HEKA', 'fridge/freezer', 'audio system', 'breadmaker', 'broadband router', 'computer', 'dehumidifier', 'dish washer', 'electric space heater', 'food processor', 'pond pump', 'television', 'tumble dryer', 'washer dryer', 'washing machine']\n",
      "{0: 0.2602198297365584, 1: 0.40103670634920635, 2: 2.4953395061728396, 3: 8.651578384162654, 4: 8.369461697722567, 5: 0.8347426565484487, 6: 8.421770833333333, 7: 0.863218022635063, 8: 4.254091028676664, 9: 8.10516290726817, 10: 8.421770833333333, 11: 0.4771541548630784, 12: 1.9194919278252611, 13: 4.587177304964539, 14: 0.4462973696558196}\n",
      " \n",
      "Tests \n",
      "HEKA test: 5178 train: 20713\n",
      "fridge/freezer test: 3360 train: 13440\n",
      "audio system test: 540 train: 2160\n",
      "breadmaker test: 156 train: 623\n",
      "broadband router test: 161 train: 644\n",
      "computer test: 1614 train: 6457\n",
      "dehumidifier test: 160 train: 640\n",
      "dish washer test: 1561 train: 6244\n",
      "electric space heater test: 317 train: 1267\n",
      "food processor test: 166 train: 665\n",
      "pond pump test: 160 train: 640\n",
      "television test: 2824 train: 11296\n",
      "tumble dryer test: 702 train: 2808\n",
      "washer dryer test: 294 train: 1175\n",
      "washing machine test: 3020 train: 12077\n"
     ]
    }
   ],
   "source": [
    "x_test,y_test,d_class_weights,num_of_classes,appliances = get_data(file)"
   ]
  },
  {
   "cell_type": "code",
   "execution_count": 6,
   "metadata": {
    "execution": {
     "iopub.execute_input": "2022-02-17T23:45:24.254322Z",
     "iopub.status.busy": "2022-02-17T23:45:24.252834Z",
     "iopub.status.idle": "2022-02-17T23:45:24.256662Z",
     "shell.execute_reply": "2022-02-17T23:45:24.255516Z"
    }
   },
   "outputs": [],
   "source": [
    "def select_model(learn_type):\n",
    "    \n",
    "    if learn_type == \"CNN\":\n",
    "        model = CNN_V56(file[\"data/train/gaf\"][0:10],num_of_classes,lr= 0.00002)\n",
    "\n",
    "    if learn_type == \"LSTM\":\n",
    "        model = LSTM_3D_V56(file[\"data/train/gaf\"][0:10],num_of_classes,lr= 0.00002)\n",
    "\n",
    "    if learn_type == \"BI_LSTM\":\n",
    "        model = LSTM_BI_V56(file[\"data/train/gaf\"][0:10],num_of_classes,lr= 0.00002)\n",
    "        \n",
    "    if learn_type == \"VGG\":\n",
    "        model = VGG11(file[\"data/train/gaf\"][0:10],num_of_classes,lr= 0.00001)\n",
    "\n",
    "    return model\n",
    "              "
   ]
  },
  {
   "cell_type": "code",
   "execution_count": 7,
   "metadata": {
    "execution": {
     "iopub.execute_input": "2022-02-17T23:45:24.264121Z",
     "iopub.status.busy": "2022-02-17T23:45:24.262753Z",
     "iopub.status.idle": "2022-02-17T23:45:24.265501Z",
     "shell.execute_reply": "2022-02-17T23:45:24.266542Z"
    }
   },
   "outputs": [],
   "source": [
    "path_save = path+'/experiment_automation/output/'+environ['learn_type']+'/'+dataset.split(\"_\")[0]+\"/\"+environ['train_type']+\"/\"+dataset.split(\"_\")[0]+\"_\"+environ['seed']+\"_\"+environ['tl_datasets']\n",
    "path_save_nb = path_save+\"_out.ipynb\"\n",
    "path_save_log = path_save+\"_out_log2.txt\""
   ]
  },
  {
   "cell_type": "code",
   "execution_count": 8,
   "metadata": {
    "execution": {
     "iopub.execute_input": "2022-02-17T23:45:24.275273Z",
     "iopub.status.busy": "2022-02-17T23:45:24.273994Z",
     "iopub.status.idle": "2022-02-17T23:45:24.403264Z",
     "shell.execute_reply": "2022-02-17T23:45:24.402109Z"
    }
   },
   "outputs": [],
   "source": [
    "from keras.callbacks import LambdaCallback\n",
    "#path_log= path+'/experiment_automation/output/'+environ['learn_type']+'/'+dataset.split(\"_\")[0]+\"/\"+environ['train_type']+\"/\"+dataset.split(\"_\")[0]+\"_\"+environ['seed']+\"_\"+environ['tl_datasets']+\"_log.txt\"\n",
    "txt_log = open(path_save+\"_log.txt\", mode='wt', buffering=1)\n",
    "txt_log.write(\"file created! \\n\")\n",
    "\n",
    "save_op_callback = LambdaCallback(\n",
    "  on_epoch_end = lambda epoch, logs: txt_log.write(\n",
    "    str({'epoch': epoch, 'loss': logs['loss'],'acc': logs['accuracy']}) + '\\n'),\n",
    "                                                           \n",
    ")"
   ]
  },
  {
   "cell_type": "code",
   "execution_count": 9,
   "metadata": {
    "execution": {
     "iopub.execute_input": "2022-02-17T23:45:24.409140Z",
     "iopub.status.busy": "2022-02-17T23:45:24.407797Z",
     "iopub.status.idle": "2022-02-17T23:45:24.412855Z",
     "shell.execute_reply": "2022-02-17T23:45:24.412319Z"
    }
   },
   "outputs": [
    {
     "name": "stdout",
     "output_type": "stream",
     "text": [
      "/workspace/notebooks/experiment_automation/output/VGG/refit/BB/refit_82__out.ipynb\n"
     ]
    }
   ],
   "source": [
    "print(path_save_nb)"
   ]
  },
  {
   "cell_type": "code",
   "execution_count": 10,
   "metadata": {
    "execution": {
     "iopub.execute_input": "2022-02-17T23:45:24.416645Z",
     "iopub.status.busy": "2022-02-17T23:45:24.415964Z",
     "iopub.status.idle": "2022-02-17T23:45:24.419558Z",
     "shell.execute_reply": "2022-02-17T23:45:24.418942Z"
    }
   },
   "outputs": [],
   "source": [
    "# rm $path_save_log"
   ]
  },
  {
   "cell_type": "code",
   "execution_count": 11,
   "metadata": {
    "execution": {
     "iopub.execute_input": "2022-02-17T23:45:24.425363Z",
     "iopub.status.busy": "2022-02-17T23:45:24.424666Z",
     "iopub.status.idle": "2022-02-17T23:45:24.428007Z",
     "shell.execute_reply": "2022-02-17T23:45:24.428782Z"
    }
   },
   "outputs": [],
   "source": [
    "# %%capture cap \n",
    "\n",
    "# with open(path_save_log,\"wt\") as f:\n",
    "#     f.write(cap.stdout)\n",
    "    \n",
    "# print(\"out capture..\")"
   ]
  },
  {
   "cell_type": "code",
   "execution_count": 12,
   "metadata": {
    "execution": {
     "iopub.execute_input": "2022-02-17T23:45:24.447020Z",
     "iopub.status.busy": "2022-02-17T23:45:24.445688Z",
     "iopub.status.idle": "2022-02-18T14:01:02.747828Z",
     "shell.execute_reply": "2022-02-18T14:01:02.748886Z"
    },
    "id": "vqA9NwOqKrb5",
    "jupyter": {
     "outputs_hidden": true
    },
    "tags": []
   },
   "outputs": [
    {
     "name": "stdout",
     "output_type": "stream",
     "text": [
      "Normal way\n",
      "[0 1 2 3 4 5 6 7 8 9]\n",
      "WARNING:tensorflow:From /usr/local/lib/python3.8/dist-packages/tensorflow/python/ops/array_ops.py:5043: calling gather (from tensorflow.python.ops.array_ops) with validate_indices is deprecated and will be removed in a future version.\n",
      "Instructions for updating:\n",
      "The `validate_indices` argument has no effect. Indices are always validated on CPU and never validated on GPU.\n"
     ]
    },
    {
     "name": "stderr",
     "output_type": "stream",
     "text": [
      "2022-02-17 23:45:24.471719: I tensorflow/core/common_runtime/gpu/gpu_device.cc:1734] Found device 0 with properties: \n",
      "pciBusID: 0000:21:00.0 name: NVIDIA GeForce RTX 2080 Ti computeCapability: 7.5\n",
      "coreClock: 1.545GHz coreCount: 68 deviceMemorySize: 10.76GiB deviceMemoryBandwidth: 573.69GiB/s\n",
      "2022-02-17 23:45:24.473409: I tensorflow/core/common_runtime/gpu/gpu_device.cc:1872] Adding visible gpu devices: 0\n",
      "2022-02-17 23:45:24.473757: I tensorflow/stream_executor/platform/default/dso_loader.cc:54] Successfully opened dynamic library libcudart.so.11.0\n",
      "2022-02-17 23:45:25.354455: I tensorflow/core/common_runtime/gpu/gpu_device.cc:1258] Device interconnect StreamExecutor with strength 1 edge matrix:\n",
      "2022-02-17 23:45:25.354492: I tensorflow/core/common_runtime/gpu/gpu_device.cc:1264]      0 \n",
      "2022-02-17 23:45:25.354502: I tensorflow/core/common_runtime/gpu/gpu_device.cc:1277] 0:   N \n",
      "2022-02-17 23:45:25.355073: I tensorflow/core/common_runtime/gpu/gpu_device.cc:1418] Created TensorFlow device (/job:localhost/replica:0/task:0/device:GPU:0 with 9649 MB memory) -> physical GPU (device: 0, name: NVIDIA GeForce RTX 2080 Ti, pci bus id: 0000:21:00.0, compute capability: 7.5)\n",
      "2022-02-17 23:45:25.355876: I tensorflow/core/common_runtime/process_util.cc:146] Creating new thread pool with default inter op setting: 20. Tune using inter_op_parallelism_threads for best performance.\n",
      "/usr/local/lib/python3.8/dist-packages/tensorflow/python/keras/optimizer_v2/optimizer_v2.py:374: UserWarning: The `lr` argument is deprecated, use `learning_rate` instead.\n",
      "  warnings.warn(\n",
      "2022-02-17 23:45:25.548665: I tensorflow/compiler/mlir/mlir_graph_optimization_pass.cc:176] None of the MLIR Optimization Passes are enabled (registered 2)\n"
     ]
    },
    {
     "name": "stdout",
     "output_type": "stream",
     "text": [
      "Epoch 1/100\n"
     ]
    },
    {
     "name": "stderr",
     "output_type": "stream",
     "text": [
      "2022-02-17 23:45:25.568638: I tensorflow/core/platform/profile_utils/cpu_utils.cc:114] CPU Frequency: 3299990000 Hz\n",
      "2022-02-17 23:45:26.210942: I tensorflow/stream_executor/platform/default/dso_loader.cc:54] Successfully opened dynamic library libcudnn.so.8\n",
      "2022-02-17 23:45:26.957847: I tensorflow/stream_executor/cuda/cuda_dnn.cc:380] Loaded cuDNN version 8202\n",
      "2022-02-17 23:45:27.848948: I tensorflow/stream_executor/platform/default/dso_loader.cc:54] Successfully opened dynamic library libcublas.so.11\n",
      "2022-02-17 23:45:28.606261: I tensorflow/stream_executor/platform/default/dso_loader.cc:54] Successfully opened dynamic library libcublasLt.so.11\n"
     ]
    },
    {
     "name": "stdout",
     "output_type": "stream",
     "text": [
      "2527/2527 - 520s - loss: 2.3337 - accuracy: 0.3001\n",
      "Epoch 2/100\n",
      "2527/2527 - 517s - loss: 1.7224 - accuracy: 0.5114\n",
      "Epoch 3/100\n",
      "2527/2527 - 517s - loss: 1.3396 - accuracy: 0.5688\n",
      "Epoch 4/100\n",
      "2527/2527 - 516s - loss: 1.1460 - accuracy: 0.6081\n",
      "Epoch 5/100\n",
      "2527/2527 - 513s - loss: 0.9950 - accuracy: 0.6453\n",
      "Epoch 6/100\n",
      "2527/2527 - 513s - loss: 0.8910 - accuracy: 0.6702\n",
      "Epoch 7/100\n",
      "2527/2527 - 512s - loss: 0.8066 - accuracy: 0.6912\n",
      "Epoch 8/100\n",
      "2527/2527 - 513s - loss: 0.7313 - accuracy: 0.7115\n",
      "Epoch 9/100\n",
      "2527/2527 - 513s - loss: 0.6553 - accuracy: 0.7329\n",
      "Epoch 10/100\n",
      "2527/2527 - 512s - loss: 0.6034 - accuracy: 0.7471\n",
      "Epoch 11/100\n",
      "2527/2527 - 512s - loss: 0.5501 - accuracy: 0.7639\n",
      "Epoch 12/100\n",
      "2527/2527 - 513s - loss: 0.5091 - accuracy: 0.7774\n",
      "Epoch 13/100\n",
      "2527/2527 - 516s - loss: 0.4766 - accuracy: 0.7894\n",
      "Epoch 14/100\n",
      "2527/2527 - 514s - loss: 0.4240 - accuracy: 0.8056\n",
      "Epoch 15/100\n",
      "2527/2527 - 513s - loss: 0.4119 - accuracy: 0.8157\n",
      "Epoch 16/100\n",
      "2527/2527 - 513s - loss: 0.3734 - accuracy: 0.8289\n",
      "Epoch 17/100\n",
      "2527/2527 - 516s - loss: 0.3386 - accuracy: 0.8406\n",
      "Epoch 18/100\n",
      "2527/2527 - 517s - loss: 0.3424 - accuracy: 0.8415\n",
      "Epoch 19/100\n",
      "2527/2527 - 517s - loss: 0.2980 - accuracy: 0.8572\n",
      "Epoch 20/100\n",
      "2527/2527 - 514s - loss: 0.2792 - accuracy: 0.8642\n",
      "Epoch 21/100\n",
      "2527/2527 - 512s - loss: 0.2616 - accuracy: 0.8723\n",
      "Epoch 22/100\n",
      "2527/2527 - 513s - loss: 0.2402 - accuracy: 0.8803\n",
      "Epoch 23/100\n",
      "2527/2527 - 512s - loss: 0.2247 - accuracy: 0.8891\n",
      "Epoch 24/100\n",
      "2527/2527 - 514s - loss: 0.2016 - accuracy: 0.8980\n",
      "Epoch 25/100\n",
      "2527/2527 - 517s - loss: 0.1936 - accuracy: 0.9014\n",
      "Epoch 26/100\n",
      "2527/2527 - 515s - loss: 0.1780 - accuracy: 0.9076\n",
      "Epoch 27/100\n",
      "2527/2527 - 513s - loss: 0.1692 - accuracy: 0.9129\n",
      "Epoch 28/100\n",
      "2527/2527 - 512s - loss: 0.1579 - accuracy: 0.9174\n",
      "Epoch 29/100\n",
      "2527/2527 - 512s - loss: 0.1564 - accuracy: 0.9205\n",
      "Epoch 30/100\n",
      "2527/2527 - 512s - loss: 0.1461 - accuracy: 0.9242\n",
      "Epoch 31/100\n",
      "2527/2527 - 513s - loss: 0.1423 - accuracy: 0.9266\n",
      "Epoch 32/100\n",
      "2527/2527 - 512s - loss: 0.1433 - accuracy: 0.9283\n",
      "Epoch 33/100\n",
      "2527/2527 - 514s - loss: 0.1163 - accuracy: 0.9387\n",
      "Epoch 34/100\n",
      "2527/2527 - 516s - loss: 0.1248 - accuracy: 0.9373\n",
      "Epoch 35/100\n",
      "2527/2527 - 517s - loss: 0.1105 - accuracy: 0.9416\n",
      "Epoch 36/100\n",
      "2527/2527 - 516s - loss: 0.1009 - accuracy: 0.9456\n",
      "Epoch 37/100\n",
      "2527/2527 - 513s - loss: 0.1290 - accuracy: 0.9360\n",
      "Epoch 38/100\n",
      "2527/2527 - 512s - loss: 0.0854 - accuracy: 0.9521\n",
      "Epoch 39/100\n",
      "2527/2527 - 514s - loss: 0.1196 - accuracy: 0.9400\n",
      "Epoch 40/100\n",
      "2527/2527 - 514s - loss: 0.0990 - accuracy: 0.9500\n",
      "Epoch 41/100\n",
      "2527/2527 - 513s - loss: 0.0982 - accuracy: 0.9492\n",
      "Epoch 42/100\n",
      "2527/2527 - 512s - loss: 0.0772 - accuracy: 0.9580\n",
      "Epoch 43/100\n",
      "2527/2527 - 514s - loss: 0.0949 - accuracy: 0.9518\n",
      "Epoch 44/100\n",
      "2527/2527 - 512s - loss: 0.0775 - accuracy: 0.9592\n",
      "Epoch 45/100\n",
      "2527/2527 - 512s - loss: 0.0832 - accuracy: 0.9572\n",
      "Epoch 46/100\n",
      "2527/2527 - 512s - loss: 0.0888 - accuracy: 0.9563\n",
      "Epoch 47/100\n",
      "2527/2527 - 516s - loss: 0.0777 - accuracy: 0.9597\n",
      "Epoch 48/100\n",
      "2527/2527 - 512s - loss: 0.0694 - accuracy: 0.9640\n",
      "Epoch 49/100\n",
      "2527/2527 - 513s - loss: 0.0695 - accuracy: 0.9623\n",
      "Epoch 50/100\n",
      "2527/2527 - 513s - loss: 0.0695 - accuracy: 0.9630\n",
      "Epoch 51/100\n",
      "2527/2527 - 514s - loss: 0.0801 - accuracy: 0.9593\n",
      "Epoch 52/100\n",
      "2527/2527 - 511s - loss: 0.0741 - accuracy: 0.9635\n",
      "Epoch 53/100\n",
      "2527/2527 - 511s - loss: 0.0625 - accuracy: 0.9668\n",
      "Epoch 54/100\n",
      "2527/2527 - 510s - loss: 0.0680 - accuracy: 0.9651\n",
      "Epoch 55/100\n",
      "2527/2527 - 512s - loss: 0.0679 - accuracy: 0.9642\n",
      "Epoch 56/100\n",
      "2527/2527 - 510s - loss: 0.0613 - accuracy: 0.9661\n",
      "Epoch 57/100\n",
      "2527/2527 - 512s - loss: 0.0616 - accuracy: 0.9677\n",
      "Epoch 58/100\n",
      "2527/2527 - 511s - loss: 0.0594 - accuracy: 0.9691\n",
      "Epoch 59/100\n",
      "2527/2527 - 511s - loss: 0.0592 - accuracy: 0.9677\n",
      "Epoch 60/100\n",
      "2527/2527 - 510s - loss: 0.0590 - accuracy: 0.9688\n",
      "Epoch 61/100\n",
      "2527/2527 - 512s - loss: 0.0636 - accuracy: 0.9682\n",
      "Epoch 62/100\n",
      "2527/2527 - 510s - loss: 0.0539 - accuracy: 0.9703\n",
      "Epoch 63/100\n",
      "2527/2527 - 512s - loss: 0.0617 - accuracy: 0.9689\n",
      "Epoch 64/100\n",
      "2527/2527 - 511s - loss: 0.0554 - accuracy: 0.9709\n",
      "Epoch 65/100\n",
      "2527/2527 - 510s - loss: 0.0492 - accuracy: 0.9731\n",
      "Epoch 66/100\n",
      "2527/2527 - 512s - loss: 0.0567 - accuracy: 0.9707\n",
      "Epoch 67/100\n",
      "2527/2527 - 510s - loss: 0.0506 - accuracy: 0.9736\n",
      "Epoch 68/100\n",
      "2527/2527 - 512s - loss: 0.0470 - accuracy: 0.9745\n",
      "Epoch 69/100\n",
      "2527/2527 - 511s - loss: 0.0503 - accuracy: 0.9727\n",
      "Epoch 70/100\n",
      "2527/2527 - 511s - loss: 0.0608 - accuracy: 0.9701\n",
      "Epoch 71/100\n",
      "2527/2527 - 510s - loss: 0.0505 - accuracy: 0.9737\n",
      "Epoch 72/100\n",
      "2527/2527 - 511s - loss: 0.0506 - accuracy: 0.9728\n",
      "Epoch 73/100\n",
      "2527/2527 - 512s - loss: 0.0518 - accuracy: 0.9738\n",
      "Epoch 74/100\n",
      "2527/2527 - 513s - loss: 0.0601 - accuracy: 0.9725\n",
      "Epoch 75/100\n",
      "2527/2527 - 513s - loss: 0.0509 - accuracy: 0.9760\n",
      "Epoch 76/100\n",
      "2527/2527 - 512s - loss: 0.0470 - accuracy: 0.9747\n",
      "Epoch 77/100\n",
      "2527/2527 - 511s - loss: 0.0432 - accuracy: 0.9759\n",
      "Epoch 78/100\n",
      "2527/2527 - 512s - loss: 0.0406 - accuracy: 0.9777\n",
      "Epoch 79/100\n",
      "2527/2527 - 511s - loss: 0.0508 - accuracy: 0.9731\n",
      "Epoch 80/100\n",
      "2527/2527 - 512s - loss: 0.0448 - accuracy: 0.9775\n",
      "Epoch 81/100\n",
      "2527/2527 - 512s - loss: 0.0405 - accuracy: 0.9779\n",
      "Epoch 82/100\n",
      "2527/2527 - 511s - loss: 0.0536 - accuracy: 0.9741\n",
      "Epoch 83/100\n",
      "2527/2527 - 514s - loss: 0.0405 - accuracy: 0.9789\n",
      "Epoch 84/100\n",
      "2527/2527 - 511s - loss: 0.0512 - accuracy: 0.9757\n",
      "Epoch 85/100\n",
      "2527/2527 - 511s - loss: 0.0490 - accuracy: 0.9752\n",
      "Epoch 86/100\n",
      "2527/2527 - 512s - loss: 0.0391 - accuracy: 0.9776\n",
      "Epoch 87/100\n",
      "2527/2527 - 513s - loss: 0.0443 - accuracy: 0.9765\n",
      "Epoch 88/100\n",
      "2527/2527 - 513s - loss: 0.0450 - accuracy: 0.9754\n",
      "Epoch 89/100\n",
      "2527/2527 - 511s - loss: 0.0449 - accuracy: 0.9765\n",
      "Epoch 90/100\n",
      "2527/2527 - 512s - loss: 0.0417 - accuracy: 0.9782\n",
      "Epoch 91/100\n",
      "2527/2527 - 513s - loss: 0.0406 - accuracy: 0.9785\n",
      "Epoch 92/100\n",
      "2527/2527 - 511s - loss: 0.0395 - accuracy: 0.9779\n",
      "Epoch 93/100\n",
      "2527/2527 - 511s - loss: 0.0334 - accuracy: 0.9804\n",
      "Epoch 94/100\n",
      "2527/2527 - 513s - loss: 0.0511 - accuracy: 0.9741\n",
      "Epoch 95/100\n",
      "2527/2527 - 513s - loss: 0.0468 - accuracy: 0.9760\n",
      "Epoch 96/100\n",
      "2527/2527 - 511s - loss: 0.0349 - accuracy: 0.9799\n",
      "Epoch 97/100\n",
      "2527/2527 - 511s - loss: 0.0381 - accuracy: 0.9801\n",
      "Epoch 98/100\n",
      "2527/2527 - 511s - loss: 0.0381 - accuracy: 0.9797\n",
      "Epoch 99/100\n",
      "2527/2527 - 511s - loss: 0.0406 - accuracy: 0.9788\n",
      "Epoch 100/100\n",
      "2527/2527 - 512s - loss: 0.0385 - accuracy: 0.9791\n",
      "632/632 - 37s\n",
      "Normalized confusion matrix\n",
      "                       precision    recall  f1-score   support\n",
      "\n",
      "                 HEKA       0.89      0.88      0.88      5178\n",
      "       fridge/freezer       0.89      0.93      0.91      3360\n",
      "         audio system       0.41      0.44      0.42       540\n",
      "           breadmaker       0.76      0.74      0.75       156\n",
      "     broadband router       0.42      0.47      0.45       161\n",
      "             computer       0.64      0.61      0.62      1614\n",
      "         dehumidifier       0.76      0.72      0.74       160\n",
      "          dish washer       0.86      0.86      0.86      1561\n",
      "electric space heater       0.59      0.58      0.58       317\n",
      "       food processor       0.74      0.66      0.70       166\n",
      "            pond pump       0.76      0.81      0.79       160\n",
      "           television       0.76      0.74      0.75      2824\n",
      "         tumble dryer       0.73      0.68      0.70       702\n",
      "         washer dryer       0.33      0.33      0.33       294\n",
      "      washing machine       0.81      0.83      0.82      3020\n",
      "\n",
      "             accuracy                           0.80     20213\n",
      "            macro avg       0.69      0.69      0.69     20213\n",
      "         weighted avg       0.80      0.80      0.80     20213\n",
      "\n"
     ]
    },
    {
     "name": "stderr",
     "output_type": "stream",
     "text": [
      "2022-02-18 14:00:57.815803: W tensorflow/python/util/util.cc:348] Sets are not currently considered sequences, but this may change in the future, so consider avoiding using them.\n"
     ]
    },
    {
     "name": "stdout",
     "output_type": "stream",
     "text": [
      "INFO:tensorflow:Assets written to: /workspace/notebooks/models/VGG/refit_82/assets\n"
     ]
    },
    {
     "data": {
      "image/png": "[encoded data removed]",
      "text/plain": [
       "<Figure size 720x720 with 2 Axes>"
      ]
     },
     "metadata": {
      "needs_background": "light"
     },
     "output_type": "display_data"
    }
   ],
   "source": [
    "# %%capture cap --no-stderr\n",
    "\n",
    "\n",
    "if environ['train_type'] == \"BB\":\n",
    "\n",
    "    #define generator\n",
    "    train_gen = HDF5ImageGenerator(\n",
    "        src= path_data,\n",
    "        X_key=\"data/train/gaf\",\n",
    "        y_key=\"labels/train/gaf\",\n",
    "        classes_key=\"appliances/classes\",\n",
    "        labels_encoding=\"hot\",\n",
    "        shuffle=True,\n",
    "        batch_size=int(environ['batch_size']),\n",
    "        num_classes=num_of_classes,\n",
    "        mode=\"train\",\n",
    "        )\n",
    "    \n",
    "    model = select_model(environ['learn_type'])\n",
    "    \n",
    "    txt_log.write(\"fitting BB model: \\n\")\n",
    "    \n",
    "    model.fit(\n",
    "        train_gen,\n",
    "        verbose=2,\n",
    "        epochs=int(environ['epochs']),\n",
    "        class_weight=d_class_weights,\n",
    "        callbacks = [save_op_callback],\n",
    "    )\n",
    "    \n",
    "    txt_log.write(\"finished fitting BB model: \\n\")\n",
    "\n",
    "    evaluate_model(model,x_test,y_test,appliances)\n",
    "    \n",
    "    if environ['save_model']==\"True\":\n",
    "\n",
    "        path_model_save = path+\"/models/\"+environ['learn_type']+\"/\"+dataset.split(\"_\")[0]+\"_\"+dataset.split(\"_R\")[1][0:2]\n",
    "        model.save(path_model_save)\n",
    "        txt_log.write(\"model saved to:\"+\"/models/\"+environ['learn_type']+\"/\"+dataset.split(\"_\")[0]+\"_\"+dataset.split(\"_R\")[1][0:2]+\" \\n\")\n",
    "        \n",
    "        \n",
    "# with open(path_save+\"_out_log.txt\" as f:\n",
    "#     f.write(cap.stdout)\n"
   ]
  },
  {
   "cell_type": "code",
   "execution_count": 13,
   "metadata": {
    "collapsed": true,
    "execution": {
     "iopub.execute_input": "2022-02-18T14:01:02.753952Z",
     "iopub.status.busy": "2022-02-18T14:01:02.753568Z",
     "iopub.status.idle": "2022-02-18T14:01:02.754920Z",
     "shell.execute_reply": "2022-02-18T14:01:02.755237Z"
    }
   },
   "outputs": [],
   "source": [
    "#model = keras.models.load_model(path_model1)\n",
    "# model_used = model"
   ]
  },
  {
   "cell_type": "code",
   "execution_count": 14,
   "metadata": {
    "collapsed": true,
    "execution": {
     "iopub.execute_input": "2022-02-18T14:01:02.759631Z",
     "iopub.status.busy": "2022-02-18T14:01:02.758454Z",
     "iopub.status.idle": "2022-02-18T14:01:02.760913Z",
     "shell.execute_reply": "2022-02-18T14:01:02.761824Z"
    },
    "jupyter": {
     "outputs_hidden": true
    },
    "tags": []
   },
   "outputs": [],
   "source": [
    "# evaluate_model(model,x_test,y_test,appliances)"
   ]
  },
  {
   "cell_type": "code",
   "execution_count": 15,
   "metadata": {
    "collapsed": true,
    "execution": {
     "iopub.execute_input": "2022-02-18T14:01:02.774362Z",
     "iopub.status.busy": "2022-02-18T14:01:02.773090Z",
     "iopub.status.idle": "2022-02-18T14:01:02.775646Z",
     "shell.execute_reply": "2022-02-18T14:01:02.776640Z"
    }
   },
   "outputs": [],
   "source": [
    "# datasets =[\n",
    "#     \"ukdale_gen_GASF_13m_100S5X12A54480_R82_80-20\"\n",
    "# ]\n",
    "\n",
    "if environ['train_type'] == \"TL\": \n",
    "    models = environ['tl_datasets'].replace(\" \",\"\").split(\",\")\n",
    "    #model = [\"base\"]\n",
    "    \n",
    "    for model in models:\n",
    "    \n",
    "        file_name = dataset\n",
    "        \n",
    "        datasetTL = model\n",
    "        \n",
    "        seed = dataset.split(\"_R\")[1][0:2]\n",
    "        \n",
    "        print(\"using dataset data\",dataset.split(\"_\")[0],\"training on model\",model,\"seed\",environ['seed'])\n",
    "        txt_log.write(\"starting \"+dataset.split(\"_\")[0]+\" training on model \"+model+\" seed \"+environ['seed']+\"\\n\")\n",
    "\n",
    "\n",
    "        tf.keras.backend.clear_session()\n",
    "\n",
    "\n",
    "        #read the file\n",
    "        path = str(pathlib.Path().resolve())\n",
    "        path_data = f\"{path}\"\"/data/\"f\"{file_name}\"\"/\"f\"{file_name}\"\".hdf5\"\n",
    "        file = h5py.File(path_data,\"r+\")\n",
    "\n",
    "\n",
    "        print(\"reading data, printing stats: \")\n",
    "        x_test,y_test,d_class_weights,num_of_classes,appliances = get_data(file)\n",
    "        print(\"loading model\")\n",
    "        \n",
    "        model_seed = 42\n",
    "        model_used = create_tl_model(model,environ['learn_type'],model_seed,path,num_of_classes)\n",
    "                \n",
    "        train_gen = HDF5ImageGenerator(\n",
    "            src= path_data,\n",
    "            X_key=\"data/train/gaf\",\n",
    "            y_key=\"labels/train/gaf\",\n",
    "            classes_key=\"appliances/classes\",\n",
    "            labels_encoding=\"hot\",\n",
    "            shuffle=True,\n",
    "            batch_size=int(environ['batch_size']),\n",
    "            num_classes=num_of_classes,\n",
    "            mode=\"train\",\n",
    "            )\n",
    "\n",
    "        model_used.fit(\n",
    "            train_gen,\n",
    "            verbose=2,\n",
    "            epochs=int(environ['epochs']),\n",
    "            class_weight=d_class_weights,\n",
    "            callbacks = [save_op_callback]\n",
    "            #workers = 6,\n",
    "        )\n",
    "        \n",
    "        txt_log.write(\"finished \"+dataset.split(\"_\")[0]+\" training on model \"+model+\" seed \"+environ['seed']+\"\\n\")\n",
    "\n",
    "\n",
    "        evaluate_model(model_used,x_test,y_test,appliances)\n",
    "        \n",
    "\n",
    "\n",
    "\n",
    "        #del model_used\n",
    "\n"
   ]
  },
  {
   "cell_type": "code",
   "execution_count": 16,
   "metadata": {
    "execution": {
     "iopub.execute_input": "2022-02-18T14:01:02.781718Z",
     "iopub.status.busy": "2022-02-18T14:01:02.780411Z",
     "iopub.status.idle": "2022-02-18T14:01:02.783814Z",
     "shell.execute_reply": "2022-02-18T14:01:02.782828Z"
    }
   },
   "outputs": [],
   "source": [
    "txt_log.close()"
   ]
  },
  {
   "cell_type": "code",
   "execution_count": null,
   "metadata": {},
   "outputs": [],
   "source": []
  }
 ],
 "metadata": {
  "colab": {
   "authorship_tag": "ABX9TyMej4PvP65qsLng7TnQKWA4",
   "name": "LSTM-gen",
   "provenance": []
  },
  "kernelspec": {
   "display_name": "Python 3 (ipykernel)",
   "language": "python",
   "name": "python3"
  },
  "language_info": {
   "codemirror_mode": {
    "name": "ipython",
    "version": 3
   },
   "file_extension": ".py",
   "mimetype": "text/x-python",
   "name": "python",
   "nbconvert_exporter": "python",
   "pygments_lexer": "ipython3",
   "version": "3.8.10"
  }
 },
 "nbformat": 4,
 "nbformat_minor": 4
}
