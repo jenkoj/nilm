{
 "cells": [
  {
   "cell_type": "code",
   "execution_count": 1,
   "metadata": {
    "execution": {
     "iopub.execute_input": "2022-02-18T14:02:28.905118Z",
     "iopub.status.busy": "2022-02-18T14:02:28.903665Z",
     "iopub.status.idle": "2022-02-18T14:02:31.872268Z",
     "shell.execute_reply": "2022-02-18T14:02:31.871009Z"
    },
    "id": "WqUfHWgtJxtu",
    "scrolled": true,
    "tags": []
   },
   "outputs": [
    {
     "name": "stderr",
     "output_type": "stream",
     "text": [
      "2022-02-18 14:02:30.350441: I tensorflow/stream_executor/platform/default/dso_loader.cc:54] Successfully opened dynamic library libcudart.so.11.0\n"
     ]
    },
    {
     "name": "stdout",
     "output_type": "stream",
     "text": [
      "2.5.0\n",
      "Num GPUs Available:  1\n"
     ]
    },
    {
     "name": "stderr",
     "output_type": "stream",
     "text": [
      "2022-02-18 14:02:31.763995: I tensorflow/stream_executor/platform/default/dso_loader.cc:54] Successfully opened dynamic library libcuda.so.1\n",
      "2022-02-18 14:02:31.811175: I tensorflow/core/common_runtime/gpu/gpu_device.cc:1734] Found device 0 with properties: \n",
      "pciBusID: 0000:21:00.0 name: NVIDIA GeForce RTX 2080 Ti computeCapability: 7.5\n",
      "coreClock: 1.545GHz coreCount: 68 deviceMemorySize: 10.76GiB deviceMemoryBandwidth: 573.69GiB/s\n",
      "2022-02-18 14:02:31.811223: I tensorflow/stream_executor/platform/default/dso_loader.cc:54] Successfully opened dynamic library libcudart.so.11.0\n",
      "2022-02-18 14:02:31.826425: I tensorflow/stream_executor/platform/default/dso_loader.cc:54] Successfully opened dynamic library libcublas.so.11\n",
      "2022-02-18 14:02:31.826487: I tensorflow/stream_executor/platform/default/dso_loader.cc:54] Successfully opened dynamic library libcublasLt.so.11\n",
      "2022-02-18 14:02:31.833954: I tensorflow/stream_executor/platform/default/dso_loader.cc:54] Successfully opened dynamic library libcufft.so.10\n",
      "2022-02-18 14:02:31.835778: I tensorflow/stream_executor/platform/default/dso_loader.cc:54] Successfully opened dynamic library libcurand.so.10\n",
      "2022-02-18 14:02:31.853977: I tensorflow/stream_executor/platform/default/dso_loader.cc:54] Successfully opened dynamic library libcutensor.so.1\n",
      "2022-02-18 14:02:31.856575: I tensorflow/stream_executor/platform/default/dso_loader.cc:54] Successfully opened dynamic library libcusolver.so.11\n",
      "2022-02-18 14:02:31.860844: I tensorflow/stream_executor/platform/default/dso_loader.cc:54] Successfully opened dynamic library libcusparse.so.11\n",
      "2022-02-18 14:02:31.861533: I tensorflow/stream_executor/platform/default/dso_loader.cc:54] Successfully opened dynamic library libcudnn.so.8\n",
      "2022-02-18 14:02:31.862441: I tensorflow/core/common_runtime/gpu/gpu_device.cc:1872] Adding visible gpu devices: 0\n"
     ]
    }
   ],
   "source": [
    "import h5py\n",
    "import numpy as np\n",
    "\n",
    "from sklearn.model_selection import train_test_split\n",
    "from sklearn.metrics import classification_report, confusion_matrix\n",
    "import matplotlib.pyplot as plt\n",
    "import itertools \n",
    "import pyts\n",
    "from pyts.approximation import PiecewiseAggregateApproximation\n",
    "\n",
    "from sklearn.utils import class_weight\n",
    "\n",
    "import pathlib\n",
    "import tensorflow as tf\n",
    "from tensorflow import keras\n",
    "from tensorflow.keras import layers, optimizers\n",
    "from tensorflow.keras.layers import Convolution2D,Conv2D, Dense,Dropout, Flatten, Activation, MaxPooling2D, Input, Conv1D, GlobalAveragePooling1D, TimeDistributed, GRU, LSTM\n",
    "\n",
    "print(tf.__version__)\n",
    "print(\"Num GPUs Available: \", len(tf.config.list_physical_devices('GPU')))\n",
    "gpus = tf.config.experimental.list_physical_devices('GPU')\n",
    "\n",
    "try:\n",
    "    for gpu in gpus:\n",
    "        tf.config.experimental.set_memory_growth(gpu, True)\n",
    "except RuntimeError as e:\n",
    "    print(e)"
   ]
  },
  {
   "cell_type": "code",
   "execution_count": 2,
   "metadata": {
    "execution": {
     "iopub.execute_input": "2022-02-18T14:02:31.877943Z",
     "iopub.status.busy": "2022-02-18T14:02:31.876931Z",
     "iopub.status.idle": "2022-02-18T14:02:31.880328Z",
     "shell.execute_reply": "2022-02-18T14:02:31.881170Z"
    }
   },
   "outputs": [
    {
     "name": "stdout",
     "output_type": "stream",
     "text": [
      "refit_gen_GASF_60m_300S0X_15A157030N_R12_80-20-V1\n"
     ]
    }
   ],
   "source": [
    "from os import environ\n",
    "dataset = environ['dataset']\n",
    "print(dataset)"
   ]
  },
  {
   "cell_type": "code",
   "execution_count": 3,
   "metadata": {
    "execution": {
     "iopub.execute_input": "2022-02-18T14:02:31.887677Z",
     "iopub.status.busy": "2022-02-18T14:02:31.886655Z",
     "iopub.status.idle": "2022-02-18T14:02:31.891255Z",
     "shell.execute_reply": "2022-02-18T14:02:31.890393Z"
    }
   },
   "outputs": [],
   "source": [
    "#my defs \n",
    "from modules.models import  VGG11,LSTM_3D_V56,CNN_V56,LSTM_BI_V56\n",
    "from modules.tools import my_print, plot_confusion_matrix_norm, get_data,get_data_split, evaluate_model, create_tl_model\n",
    "from modules.HDF5ImageGenerator import HDF5ImageGenerator"
   ]
  },
  {
   "cell_type": "code",
   "execution_count": 4,
   "metadata": {
    "execution": {
     "iopub.execute_input": "2022-02-18T14:02:31.900795Z",
     "iopub.status.busy": "2022-02-18T14:02:31.898171Z",
     "iopub.status.idle": "2022-02-18T14:02:31.903430Z",
     "shell.execute_reply": "2022-02-18T14:02:31.902400Z"
    },
    "id": "RT1vwq7-KOtB"
   },
   "outputs": [],
   "source": [
    "#LOAD DATASET\n",
    "#file_name = \"ukdale_gen_GASF_13m_100S5X12A54480\"\n",
    "#file_name = \"refit_gen_GASF_13m_100S5X_15A166006\"\n",
    "file_name = \"refit_gen_GASF_13m_100S5X_15A166006_R42-80-20\"\n",
    "#file_name = \"refit_gen_GASF_13m_100S5X_15A166006_R42_80-20\"\n",
    "file_name = \"refit_gen_GASF_60m_300S0X_15A157030N_R12_80-20-V1\"\n",
    "file_name = environ[\"dataset\"]\n",
    "#read the file\n",
    "path = str(pathlib.Path().resolve())\n",
    "\n",
    "path_data = f\"{path}\"\"/data/\"f\"{file_name}\"\"/\"f\"{file_name}\"\".hdf5\"\n",
    "\n",
    "file = h5py.File(path_data,\"r+\")"
   ]
  },
  {
   "cell_type": "code",
   "execution_count": 5,
   "metadata": {
    "execution": {
     "iopub.execute_input": "2022-02-18T14:02:31.909335Z",
     "iopub.status.busy": "2022-02-18T14:02:31.908150Z",
     "iopub.status.idle": "2022-02-18T14:02:42.042388Z",
     "shell.execute_reply": "2022-02-18T14:02:42.043452Z"
    },
    "scrolled": true
   },
   "outputs": [
    {
     "name": "stdout",
     "output_type": "stream",
     "text": [
      "['HEKA', 'fridge/freezer', 'audio system', 'breadmaker', 'broadband router', 'computer', 'dehumidifier', 'dish washer', 'electric space heater', 'food processor', 'pond pump', 'television', 'tumble dryer', 'washer dryer', 'washing machine']\n",
      "{0: 0.2602198297365584, 1: 0.40103670634920635, 2: 2.4953395061728396, 3: 8.651578384162654, 4: 8.369461697722567, 5: 0.8347426565484487, 6: 8.421770833333333, 7: 0.863218022635063, 8: 4.254091028676664, 9: 8.10516290726817, 10: 8.421770833333333, 11: 0.4771541548630784, 12: 1.9194919278252611, 13: 4.587177304964539, 14: 0.4462973696558196}\n",
      " \n",
      "Tests \n",
      "HEKA test: 5178 train: 20713\n",
      "fridge/freezer test: 3360 train: 13440\n",
      "audio system test: 540 train: 2160\n",
      "breadmaker test: 156 train: 623\n",
      "broadband router test: 161 train: 644\n",
      "computer test: 1614 train: 6457\n",
      "dehumidifier test: 160 train: 640\n",
      "dish washer test: 1561 train: 6244\n",
      "electric space heater test: 317 train: 1267\n",
      "food processor test: 166 train: 665\n",
      "pond pump test: 160 train: 640\n",
      "television test: 2824 train: 11296\n",
      "tumble dryer test: 702 train: 2808\n",
      "washer dryer test: 294 train: 1175\n",
      "washing machine test: 3020 train: 12077\n"
     ]
    }
   ],
   "source": [
    "x_test,y_test,d_class_weights,num_of_classes,appliances = get_data(file)"
   ]
  },
  {
   "cell_type": "code",
   "execution_count": 6,
   "metadata": {
    "execution": {
     "iopub.execute_input": "2022-02-18T14:02:42.053248Z",
     "iopub.status.busy": "2022-02-18T14:02:42.051927Z",
     "iopub.status.idle": "2022-02-18T14:02:42.058766Z",
     "shell.execute_reply": "2022-02-18T14:02:42.059817Z"
    }
   },
   "outputs": [],
   "source": [
    "def select_model(learn_type):\n",
    "    \n",
    "    if learn_type == \"CNN\":\n",
    "        model = CNN_V56(file[\"data/train/gaf\"][0:10],num_of_classes,lr= 0.00002)\n",
    "\n",
    "    if learn_type == \"LSTM\":\n",
    "        model = LSTM_3D_V56(file[\"data/train/gaf\"][0:10],num_of_classes,lr= 0.00002)\n",
    "\n",
    "    if learn_type == \"BI_LSTM\":\n",
    "        model = LSTM_BI_V56(file[\"data/train/gaf\"][0:10],num_of_classes,lr= 0.00002)\n",
    "        \n",
    "    if learn_type == \"VGG\":\n",
    "        model = VGG11(file[\"data/train/gaf\"][0:10],num_of_classes,lr= 0.00001)\n",
    "\n",
    "    return model\n",
    "              "
   ]
  },
  {
   "cell_type": "code",
   "execution_count": 7,
   "metadata": {
    "execution": {
     "iopub.execute_input": "2022-02-18T14:02:42.067503Z",
     "iopub.status.busy": "2022-02-18T14:02:42.066229Z",
     "iopub.status.idle": "2022-02-18T14:02:42.069146Z",
     "shell.execute_reply": "2022-02-18T14:02:42.070188Z"
    }
   },
   "outputs": [],
   "source": [
    "path_save = path+'/experiment_automation/output/'+environ['learn_type']+'/'+dataset.split(\"_\")[0]+\"/\"+environ['train_type']+\"/\"+dataset.split(\"_\")[0]+\"_\"+environ['seed']+\"_\"+environ['tl_datasets']\n",
    "path_save_nb = path_save+\"_out.ipynb\"\n",
    "path_save_log = path_save+\"_out_log2.txt\""
   ]
  },
  {
   "cell_type": "code",
   "execution_count": 8,
   "metadata": {
    "execution": {
     "iopub.execute_input": "2022-02-18T14:02:42.079497Z",
     "iopub.status.busy": "2022-02-18T14:02:42.078202Z",
     "iopub.status.idle": "2022-02-18T14:02:42.215836Z",
     "shell.execute_reply": "2022-02-18T14:02:42.215421Z"
    }
   },
   "outputs": [],
   "source": [
    "from keras.callbacks import LambdaCallback\n",
    "#path_log= path+'/experiment_automation/output/'+environ['learn_type']+'/'+dataset.split(\"_\")[0]+\"/\"+environ['train_type']+\"/\"+dataset.split(\"_\")[0]+\"_\"+environ['seed']+\"_\"+environ['tl_datasets']+\"_log.txt\"\n",
    "txt_log = open(path_save+\"_log.txt\", mode='wt', buffering=1)\n",
    "txt_log.write(\"file created! \\n\")\n",
    "\n",
    "save_op_callback = LambdaCallback(\n",
    "  on_epoch_end = lambda epoch, logs: txt_log.write(\n",
    "    str({'epoch': epoch, 'loss': logs['loss'],'acc': logs['accuracy']}) + '\\n'),\n",
    "                                                           \n",
    ")"
   ]
  },
  {
   "cell_type": "code",
   "execution_count": 9,
   "metadata": {
    "execution": {
     "iopub.execute_input": "2022-02-18T14:02:42.222299Z",
     "iopub.status.busy": "2022-02-18T14:02:42.219168Z",
     "iopub.status.idle": "2022-02-18T14:02:42.225396Z",
     "shell.execute_reply": "2022-02-18T14:02:42.226474Z"
    }
   },
   "outputs": [
    {
     "name": "stdout",
     "output_type": "stream",
     "text": [
      "/workspace/notebooks/experiment_automation/output/VGG/refit/BB/refit_12__out.ipynb\n"
     ]
    }
   ],
   "source": [
    "print(path_save_nb)"
   ]
  },
  {
   "cell_type": "code",
   "execution_count": 10,
   "metadata": {
    "execution": {
     "iopub.execute_input": "2022-02-18T14:02:42.232034Z",
     "iopub.status.busy": "2022-02-18T14:02:42.230613Z",
     "iopub.status.idle": "2022-02-18T14:02:42.234096Z",
     "shell.execute_reply": "2022-02-18T14:02:42.234543Z"
    }
   },
   "outputs": [],
   "source": [
    "# rm $path_save_log"
   ]
  },
  {
   "cell_type": "code",
   "execution_count": 11,
   "metadata": {
    "execution": {
     "iopub.execute_input": "2022-02-18T14:02:42.241423Z",
     "iopub.status.busy": "2022-02-18T14:02:42.240058Z",
     "iopub.status.idle": "2022-02-18T14:02:42.243995Z",
     "shell.execute_reply": "2022-02-18T14:02:42.242905Z"
    }
   },
   "outputs": [],
   "source": [
    "# %%capture cap \n",
    "\n",
    "# with open(path_save_log,\"wt\") as f:\n",
    "#     f.write(cap.stdout)\n",
    "    \n",
    "# print(\"out capture..\")"
   ]
  },
  {
   "cell_type": "code",
   "execution_count": 12,
   "metadata": {
    "execution": {
     "iopub.execute_input": "2022-02-18T14:02:42.264363Z",
     "iopub.status.busy": "2022-02-18T14:02:42.262900Z",
     "iopub.status.idle": "2022-02-19T04:20:12.918402Z",
     "shell.execute_reply": "2022-02-19T04:20:12.918770Z"
    },
    "id": "vqA9NwOqKrb5",
    "jupyter": {
     "outputs_hidden": true
    },
    "tags": []
   },
   "outputs": [
    {
     "name": "stdout",
     "output_type": "stream",
     "text": [
      "Normal way\n",
      "[0 1 2 3 4 5 6 7 8 9]\n",
      "WARNING:tensorflow:From /usr/local/lib/python3.8/dist-packages/tensorflow/python/ops/array_ops.py:5043: calling gather (from tensorflow.python.ops.array_ops) with validate_indices is deprecated and will be removed in a future version.\n",
      "Instructions for updating:\n",
      "The `validate_indices` argument has no effect. Indices are always validated on CPU and never validated on GPU.\n"
     ]
    },
    {
     "name": "stderr",
     "output_type": "stream",
     "text": [
      "2022-02-18 14:02:42.291353: I tensorflow/core/common_runtime/gpu/gpu_device.cc:1734] Found device 0 with properties: \n",
      "pciBusID: 0000:21:00.0 name: NVIDIA GeForce RTX 2080 Ti computeCapability: 7.5\n",
      "coreClock: 1.545GHz coreCount: 68 deviceMemorySize: 10.76GiB deviceMemoryBandwidth: 573.69GiB/s\n",
      "2022-02-18 14:02:42.292648: I tensorflow/core/common_runtime/gpu/gpu_device.cc:1872] Adding visible gpu devices: 0\n",
      "2022-02-18 14:02:42.292953: I tensorflow/stream_executor/platform/default/dso_loader.cc:54] Successfully opened dynamic library libcudart.so.11.0\n",
      "2022-02-18 14:02:43.160586: I tensorflow/core/common_runtime/gpu/gpu_device.cc:1258] Device interconnect StreamExecutor with strength 1 edge matrix:\n",
      "2022-02-18 14:02:43.160631: I tensorflow/core/common_runtime/gpu/gpu_device.cc:1264]      0 \n",
      "2022-02-18 14:02:43.160638: I tensorflow/core/common_runtime/gpu/gpu_device.cc:1277] 0:   N \n",
      "2022-02-18 14:02:43.161223: I tensorflow/core/common_runtime/gpu/gpu_device.cc:1418] Created TensorFlow device (/job:localhost/replica:0/task:0/device:GPU:0 with 9649 MB memory) -> physical GPU (device: 0, name: NVIDIA GeForce RTX 2080 Ti, pci bus id: 0000:21:00.0, compute capability: 7.5)\n",
      "2022-02-18 14:02:43.161875: I tensorflow/core/common_runtime/process_util.cc:146] Creating new thread pool with default inter op setting: 20. Tune using inter_op_parallelism_threads for best performance.\n",
      "/usr/local/lib/python3.8/dist-packages/tensorflow/python/keras/optimizer_v2/optimizer_v2.py:374: UserWarning: The `lr` argument is deprecated, use `learning_rate` instead.\n",
      "  warnings.warn(\n",
      "2022-02-18 14:02:43.340840: I tensorflow/compiler/mlir/mlir_graph_optimization_pass.cc:176] None of the MLIR Optimization Passes are enabled (registered 2)\n",
      "2022-02-18 14:02:43.360700: I tensorflow/core/platform/profile_utils/cpu_utils.cc:114] CPU Frequency: 3299990000 Hz\n"
     ]
    },
    {
     "name": "stdout",
     "output_type": "stream",
     "text": [
      "Epoch 1/100\n"
     ]
    },
    {
     "name": "stderr",
     "output_type": "stream",
     "text": [
      "2022-02-18 14:02:44.031837: I tensorflow/stream_executor/platform/default/dso_loader.cc:54] Successfully opened dynamic library libcudnn.so.8\n",
      "2022-02-18 14:02:44.779127: I tensorflow/stream_executor/cuda/cuda_dnn.cc:380] Loaded cuDNN version 8202\n",
      "2022-02-18 14:02:45.697226: I tensorflow/stream_executor/platform/default/dso_loader.cc:54] Successfully opened dynamic library libcublas.so.11\n",
      "2022-02-18 14:02:46.485119: I tensorflow/stream_executor/platform/default/dso_loader.cc:54] Successfully opened dynamic library libcublasLt.so.11\n"
     ]
    },
    {
     "name": "stdout",
     "output_type": "stream",
     "text": [
      "2527/2527 - 517s - loss: 2.3341 - accuracy: 0.3106\n",
      "Epoch 2/100\n",
      "2527/2527 - 514s - loss: 1.6718 - accuracy: 0.5154\n",
      "Epoch 3/100\n",
      "2527/2527 - 514s - loss: 1.2949 - accuracy: 0.5721\n",
      "Epoch 4/100\n",
      "2527/2527 - 515s - loss: 1.1186 - accuracy: 0.6176\n",
      "Epoch 5/100\n",
      "2527/2527 - 515s - loss: 0.9917 - accuracy: 0.6477\n",
      "Epoch 6/100\n",
      "2527/2527 - 513s - loss: 0.8701 - accuracy: 0.6768\n",
      "Epoch 7/100\n",
      "2527/2527 - 513s - loss: 0.7960 - accuracy: 0.6956\n",
      "Epoch 8/100\n",
      "2527/2527 - 516s - loss: 0.7073 - accuracy: 0.7210\n",
      "Epoch 9/100\n",
      "2527/2527 - 515s - loss: 0.6567 - accuracy: 0.7330\n",
      "Epoch 10/100\n",
      "2527/2527 - 514s - loss: 0.5983 - accuracy: 0.7501\n",
      "Epoch 11/100\n",
      "2527/2527 - 512s - loss: 0.5513 - accuracy: 0.7656\n",
      "Epoch 12/100\n",
      "2527/2527 - 513s - loss: 0.4919 - accuracy: 0.7831\n",
      "Epoch 13/100\n",
      "2527/2527 - 514s - loss: 0.4688 - accuracy: 0.7918\n",
      "Epoch 14/100\n",
      "2527/2527 - 512s - loss: 0.4298 - accuracy: 0.8063\n",
      "Epoch 15/100\n",
      "2527/2527 - 514s - loss: 0.3865 - accuracy: 0.8193\n",
      "Epoch 16/100\n",
      "2527/2527 - 516s - loss: 0.3782 - accuracy: 0.8264\n",
      "Epoch 17/100\n",
      "2527/2527 - 514s - loss: 0.3347 - accuracy: 0.8421\n",
      "Epoch 18/100\n",
      "2527/2527 - 513s - loss: 0.3026 - accuracy: 0.8542\n",
      "Epoch 19/100\n",
      "2527/2527 - 512s - loss: 0.2819 - accuracy: 0.8626\n",
      "Epoch 20/100\n",
      "2527/2527 - 512s - loss: 0.2630 - accuracy: 0.8704\n",
      "Epoch 21/100\n",
      "2527/2527 - 513s - loss: 0.2378 - accuracy: 0.8815\n",
      "Epoch 22/100\n",
      "2527/2527 - 515s - loss: 0.2261 - accuracy: 0.8865\n",
      "Epoch 23/100\n",
      "2527/2527 - 513s - loss: 0.2294 - accuracy: 0.8900\n",
      "Epoch 24/100\n",
      "2527/2527 - 514s - loss: 0.2027 - accuracy: 0.8989\n",
      "Epoch 25/100\n",
      "2527/2527 - 516s - loss: 0.1852 - accuracy: 0.9079\n",
      "Epoch 26/100\n",
      "2527/2527 - 514s - loss: 0.1761 - accuracy: 0.9101\n",
      "Epoch 27/100\n",
      "2527/2527 - 513s - loss: 0.1588 - accuracy: 0.9178\n",
      "Epoch 28/100\n",
      "2527/2527 - 514s - loss: 0.1541 - accuracy: 0.9205\n",
      "Epoch 29/100\n",
      "2527/2527 - 513s - loss: 0.1481 - accuracy: 0.9251\n",
      "Epoch 30/100\n",
      "2527/2527 - 515s - loss: 0.1457 - accuracy: 0.9253\n",
      "Epoch 31/100\n",
      "2527/2527 - 517s - loss: 0.1281 - accuracy: 0.9339\n",
      "Epoch 32/100\n",
      "2527/2527 - 514s - loss: 0.1338 - accuracy: 0.9314\n",
      "Epoch 33/100\n",
      "2527/2527 - 513s - loss: 0.1128 - accuracy: 0.9409\n",
      "Epoch 34/100\n",
      "2527/2527 - 513s - loss: 0.1250 - accuracy: 0.9389\n",
      "Epoch 35/100\n",
      "2527/2527 - 513s - loss: 0.1145 - accuracy: 0.9413\n",
      "Epoch 36/100\n",
      "2527/2527 - 515s - loss: 0.1021 - accuracy: 0.9460\n",
      "Epoch 37/100\n",
      "2527/2527 - 516s - loss: 0.0948 - accuracy: 0.9496\n",
      "Epoch 38/100\n",
      "2527/2527 - 513s - loss: 0.0987 - accuracy: 0.9479\n",
      "Epoch 39/100\n",
      "2527/2527 - 513s - loss: 0.0925 - accuracy: 0.9519\n",
      "Epoch 40/100\n",
      "2527/2527 - 513s - loss: 0.0923 - accuracy: 0.9528\n",
      "Epoch 41/100\n",
      "2527/2527 - 513s - loss: 0.0878 - accuracy: 0.9558\n",
      "Epoch 42/100\n",
      "2527/2527 - 515s - loss: 0.0947 - accuracy: 0.9521\n",
      "Epoch 43/100\n",
      "2527/2527 - 516s - loss: 0.0765 - accuracy: 0.9610\n",
      "Epoch 44/100\n",
      "2527/2527 - 513s - loss: 0.0817 - accuracy: 0.9579\n",
      "Epoch 45/100\n",
      "2527/2527 - 513s - loss: 0.0697 - accuracy: 0.9619\n",
      "Epoch 46/100\n",
      "2527/2527 - 513s - loss: 0.0747 - accuracy: 0.9598\n",
      "Epoch 47/100\n",
      "2527/2527 - 513s - loss: 0.0736 - accuracy: 0.9618\n",
      "Epoch 48/100\n",
      "2527/2527 - 515s - loss: 0.0775 - accuracy: 0.9602\n",
      "Epoch 49/100\n",
      "2527/2527 - 516s - loss: 0.0661 - accuracy: 0.9654\n",
      "Epoch 50/100\n",
      "2527/2527 - 514s - loss: 0.0692 - accuracy: 0.9641\n",
      "Epoch 51/100\n",
      "2527/2527 - 513s - loss: 0.0688 - accuracy: 0.9652\n",
      "Epoch 52/100\n",
      "2527/2527 - 513s - loss: 0.0617 - accuracy: 0.9667\n",
      "Epoch 53/100\n",
      "2527/2527 - 513s - loss: 0.0644 - accuracy: 0.9665\n",
      "Epoch 54/100\n",
      "2527/2527 - 515s - loss: 0.0594 - accuracy: 0.9683\n",
      "Epoch 55/100\n",
      "2527/2527 - 513s - loss: 0.0642 - accuracy: 0.9679\n",
      "Epoch 56/100\n",
      "2527/2527 - 511s - loss: 0.0699 - accuracy: 0.9653\n",
      "Epoch 57/100\n",
      "2527/2527 - 511s - loss: 0.0495 - accuracy: 0.9743\n",
      "Epoch 58/100\n",
      "2527/2527 - 514s - loss: 0.0578 - accuracy: 0.9693\n",
      "Epoch 59/100\n",
      "2527/2527 - 513s - loss: 0.0599 - accuracy: 0.9690\n",
      "Epoch 60/100\n",
      "2527/2527 - 513s - loss: 0.0543 - accuracy: 0.9707\n",
      "Epoch 61/100\n",
      "2527/2527 - 512s - loss: 0.0625 - accuracy: 0.9688\n",
      "Epoch 62/100\n",
      "2527/2527 - 514s - loss: 0.0503 - accuracy: 0.9749\n",
      "Epoch 63/100\n",
      "2527/2527 - 516s - loss: 0.0626 - accuracy: 0.9690\n",
      "Epoch 64/100\n",
      "2527/2527 - 517s - loss: 0.0591 - accuracy: 0.9708\n",
      "Epoch 65/100\n",
      "2527/2527 - 514s - loss: 0.0486 - accuracy: 0.9740\n",
      "Epoch 66/100\n",
      "2527/2527 - 512s - loss: 0.0555 - accuracy: 0.9719\n",
      "Epoch 67/100\n",
      "2527/2527 - 512s - loss: 0.0525 - accuracy: 0.9722\n",
      "Epoch 68/100\n",
      "2527/2527 - 514s - loss: 0.0538 - accuracy: 0.9725\n",
      "Epoch 69/100\n",
      "2527/2527 - 516s - loss: 0.0522 - accuracy: 0.9735\n",
      "Epoch 70/100\n",
      "2527/2527 - 517s - loss: 0.0522 - accuracy: 0.9749\n",
      "Epoch 71/100\n",
      "2527/2527 - 516s - loss: 0.0410 - accuracy: 0.9771\n",
      "Epoch 72/100\n",
      "2527/2527 - 513s - loss: 0.0514 - accuracy: 0.9738\n",
      "Epoch 73/100\n",
      "2527/2527 - 515s - loss: 0.0506 - accuracy: 0.9740\n",
      "Epoch 74/100\n",
      "2527/2527 - 515s - loss: 0.0413 - accuracy: 0.9782\n",
      "Epoch 75/100\n",
      "2527/2527 - 513s - loss: 0.0494 - accuracy: 0.9748\n",
      "Epoch 76/100\n",
      "2527/2527 - 512s - loss: 0.0425 - accuracy: 0.9772\n",
      "Epoch 77/100\n",
      "2527/2527 - 512s - loss: 0.0477 - accuracy: 0.9747\n",
      "Epoch 78/100\n",
      "2527/2527 - 513s - loss: 0.0580 - accuracy: 0.9724\n",
      "Epoch 79/100\n",
      "2527/2527 - 515s - loss: 0.0449 - accuracy: 0.9765\n",
      "Epoch 80/100\n",
      "2527/2527 - 516s - loss: 0.0388 - accuracy: 0.9792\n",
      "Epoch 81/100\n",
      "2527/2527 - 513s - loss: 0.0424 - accuracy: 0.9777\n",
      "Epoch 82/100\n",
      "2527/2527 - 512s - loss: 0.0503 - accuracy: 0.9750\n",
      "Epoch 83/100\n",
      "2527/2527 - 514s - loss: 0.0375 - accuracy: 0.9795\n",
      "Epoch 84/100\n",
      "2527/2527 - 516s - loss: 0.0406 - accuracy: 0.9782\n",
      "Epoch 85/100\n",
      "2527/2527 - 513s - loss: 0.0532 - accuracy: 0.9734\n",
      "Epoch 86/100\n",
      "2527/2527 - 511s - loss: 0.0378 - accuracy: 0.9805\n",
      "Epoch 87/100\n",
      "2527/2527 - 512s - loss: 0.0451 - accuracy: 0.9768\n",
      "Epoch 88/100\n",
      "2527/2527 - 514s - loss: 0.0340 - accuracy: 0.9812\n",
      "Epoch 89/100\n",
      "2527/2527 - 514s - loss: 0.0499 - accuracy: 0.9762\n",
      "Epoch 90/100\n",
      "2527/2527 - 512s - loss: 0.0336 - accuracy: 0.9806\n",
      "Epoch 91/100\n",
      "2527/2527 - 512s - loss: 0.0356 - accuracy: 0.9801\n",
      "Epoch 92/100\n",
      "2527/2527 - 512s - loss: 0.0474 - accuracy: 0.9762\n",
      "Epoch 93/100\n",
      "2527/2527 - 513s - loss: 0.0391 - accuracy: 0.9797\n",
      "Epoch 94/100\n",
      "2527/2527 - 516s - loss: 0.0383 - accuracy: 0.9800\n",
      "Epoch 95/100\n",
      "2527/2527 - 518s - loss: 0.0388 - accuracy: 0.9796\n",
      "Epoch 96/100\n",
      "2527/2527 - 517s - loss: 0.0401 - accuracy: 0.9794\n",
      "Epoch 97/100\n",
      "2527/2527 - 513s - loss: 0.0342 - accuracy: 0.9808\n",
      "Epoch 98/100\n",
      "2527/2527 - 513s - loss: 0.0404 - accuracy: 0.9795\n",
      "Epoch 99/100\n",
      "2527/2527 - 514s - loss: 0.0329 - accuracy: 0.9816\n",
      "Epoch 100/100\n",
      "2527/2527 - 517s - loss: 0.0422 - accuracy: 0.9777\n",
      "632/632 - 36s\n",
      "Normalized confusion matrix\n",
      "                       precision    recall  f1-score   support\n",
      "\n",
      "                 HEKA       0.89      0.84      0.86      5178\n",
      "       fridge/freezer       0.92      0.92      0.92      3360\n",
      "         audio system       0.33      0.43      0.37       540\n",
      "           breadmaker       0.51      0.69      0.59       156\n",
      "     broadband router       0.50      0.47      0.49       161\n",
      "             computer       0.67      0.56      0.61      1614\n",
      "         dehumidifier       0.77      0.68      0.72       160\n",
      "          dish washer       0.86      0.85      0.85      1561\n",
      "electric space heater       0.64      0.58      0.61       317\n",
      "       food processor       0.73      0.67      0.70       166\n",
      "            pond pump       0.72      0.79      0.76       160\n",
      "           television       0.73      0.78      0.75      2824\n",
      "         tumble dryer       0.70      0.69      0.70       702\n",
      "         washer dryer       0.27      0.39      0.32       294\n",
      "      washing machine       0.81      0.84      0.83      3020\n",
      "\n",
      "             accuracy                           0.79     20213\n",
      "            macro avg       0.67      0.68      0.67     20213\n",
      "         weighted avg       0.80      0.79      0.79     20213\n",
      "\n"
     ]
    },
    {
     "name": "stderr",
     "output_type": "stream",
     "text": [
      "2022-02-19 04:20:09.025952: W tensorflow/python/util/util.cc:348] Sets are not currently considered sequences, but this may change in the future, so consider avoiding using them.\n"
     ]
    },
    {
     "name": "stdout",
     "output_type": "stream",
     "text": [
      "INFO:tensorflow:Assets written to: /workspace/notebooks/models/VGG/refit_12/assets\n"
     ]
    },
    {
     "data": {
      "image/png": "[encoded data removed]",
      "text/plain": [
       "<Figure size 720x720 with 2 Axes>"
      ]
     },
     "metadata": {
      "needs_background": "light"
     },
     "output_type": "display_data"
    }
   ],
   "source": [
    "# %%capture cap --no-stderr\n",
    "\n",
    "\n",
    "if environ['train_type'] == \"BB\":\n",
    "\n",
    "    #define generator\n",
    "    train_gen = HDF5ImageGenerator(\n",
    "        src= path_data,\n",
    "        X_key=\"data/train/gaf\",\n",
    "        y_key=\"labels/train/gaf\",\n",
    "        classes_key=\"appliances/classes\",\n",
    "        labels_encoding=\"hot\",\n",
    "        shuffle=True,\n",
    "        batch_size=int(environ['batch_size']),\n",
    "        num_classes=num_of_classes,\n",
    "        mode=\"train\",\n",
    "        )\n",
    "    \n",
    "    model = select_model(environ['learn_type'])\n",
    "    \n",
    "    txt_log.write(\"fitting BB model: \\n\")\n",
    "    \n",
    "    model.fit(\n",
    "        train_gen,\n",
    "        verbose=2,\n",
    "        epochs=int(environ['epochs']),\n",
    "        class_weight=d_class_weights,\n",
    "        callbacks = [save_op_callback],\n",
    "    )\n",
    "    \n",
    "    txt_log.write(\"finished fitting BB model: \\n\")\n",
    "\n",
    "    evaluate_model(model,x_test,y_test,appliances)\n",
    "    \n",
    "    if environ['save_model']==\"True\":\n",
    "\n",
    "        path_model_save = path+\"/models/\"+environ['learn_type']+\"/\"+dataset.split(\"_\")[0]+\"_\"+dataset.split(\"_R\")[1][0:2]\n",
    "        model.save(path_model_save)\n",
    "        txt_log.write(\"model saved to:\"+\"/models/\"+environ['learn_type']+\"/\"+dataset.split(\"_\")[0]+\"_\"+dataset.split(\"_R\")[1][0:2]+\" \\n\")\n",
    "        \n",
    "        \n",
    "# with open(path_save+\"_out_log.txt\" as f:\n",
    "#     f.write(cap.stdout)\n"
   ]
  },
  {
   "cell_type": "code",
   "execution_count": 13,
   "metadata": {
    "collapsed": true,
    "execution": {
     "iopub.execute_input": "2022-02-19T04:20:12.922950Z",
     "iopub.status.busy": "2022-02-19T04:20:12.922549Z",
     "iopub.status.idle": "2022-02-19T04:20:12.924234Z",
     "shell.execute_reply": "2022-02-19T04:20:12.924553Z"
    }
   },
   "outputs": [],
   "source": [
    "#model = keras.models.load_model(path_model1)\n",
    "# model_used = model"
   ]
  },
  {
   "cell_type": "code",
   "execution_count": 14,
   "metadata": {
    "collapsed": true,
    "execution": {
     "iopub.execute_input": "2022-02-19T04:20:12.929369Z",
     "iopub.status.busy": "2022-02-19T04:20:12.928968Z",
     "iopub.status.idle": "2022-02-19T04:20:12.931867Z",
     "shell.execute_reply": "2022-02-19T04:20:12.932185Z"
    },
    "jupyter": {
     "outputs_hidden": true
    },
    "tags": []
   },
   "outputs": [],
   "source": [
    "# evaluate_model(model,x_test,y_test,appliances)"
   ]
  },
  {
   "cell_type": "code",
   "execution_count": 15,
   "metadata": {
    "collapsed": true,
    "execution": {
     "iopub.execute_input": "2022-02-19T04:20:12.952391Z",
     "iopub.status.busy": "2022-02-19T04:20:12.935271Z",
     "iopub.status.idle": "2022-02-19T04:20:12.954972Z",
     "shell.execute_reply": "2022-02-19T04:20:12.955281Z"
    }
   },
   "outputs": [],
   "source": [
    "# datasets =[\n",
    "#     \"ukdale_gen_GASF_13m_100S5X12A54480_R82_80-20\"\n",
    "# ]\n",
    "\n",
    "if environ['train_type'] == \"TL\": \n",
    "    models = environ['tl_datasets'].replace(\" \",\"\").split(\",\")\n",
    "    #model = [\"base\"]\n",
    "    \n",
    "    for model in models:\n",
    "    \n",
    "        file_name = dataset\n",
    "        \n",
    "        datasetTL = model\n",
    "        \n",
    "        seed = dataset.split(\"_R\")[1][0:2]\n",
    "        \n",
    "        print(\"using dataset data\",dataset.split(\"_\")[0],\"training on model\",model,\"seed\",environ['seed'])\n",
    "        txt_log.write(\"starting \"+dataset.split(\"_\")[0]+\" training on model \"+model+\" seed \"+environ['seed']+\"\\n\")\n",
    "\n",
    "\n",
    "        tf.keras.backend.clear_session()\n",
    "\n",
    "\n",
    "        #read the file\n",
    "        path = str(pathlib.Path().resolve())\n",
    "        path_data = f\"{path}\"\"/data/\"f\"{file_name}\"\"/\"f\"{file_name}\"\".hdf5\"\n",
    "        file = h5py.File(path_data,\"r+\")\n",
    "\n",
    "\n",
    "        print(\"reading data, printing stats: \")\n",
    "        x_test,y_test,d_class_weights,num_of_classes,appliances = get_data(file)\n",
    "        print(\"loading model\")\n",
    "        \n",
    "        model_seed = 42\n",
    "        model_used = create_tl_model(model,environ['learn_type'],model_seed,path,num_of_classes)\n",
    "                \n",
    "        train_gen = HDF5ImageGenerator(\n",
    "            src= path_data,\n",
    "            X_key=\"data/train/gaf\",\n",
    "            y_key=\"labels/train/gaf\",\n",
    "            classes_key=\"appliances/classes\",\n",
    "            labels_encoding=\"hot\",\n",
    "            shuffle=True,\n",
    "            batch_size=int(environ['batch_size']),\n",
    "            num_classes=num_of_classes,\n",
    "            mode=\"train\",\n",
    "            )\n",
    "\n",
    "        model_used.fit(\n",
    "            train_gen,\n",
    "            verbose=2,\n",
    "            epochs=int(environ['epochs']),\n",
    "            class_weight=d_class_weights,\n",
    "            callbacks = [save_op_callback]\n",
    "            #workers = 6,\n",
    "        )\n",
    "        \n",
    "        txt_log.write(\"finished \"+dataset.split(\"_\")[0]+\" training on model \"+model+\" seed \"+environ['seed']+\"\\n\")\n",
    "\n",
    "\n",
    "        evaluate_model(model_used,x_test,y_test,appliances)\n",
    "        \n",
    "\n",
    "\n",
    "\n",
    "        #del model_used\n",
    "\n"
   ]
  },
  {
   "cell_type": "code",
   "execution_count": 16,
   "metadata": {
    "execution": {
     "iopub.execute_input": "2022-02-19T04:20:12.960053Z",
     "iopub.status.busy": "2022-02-19T04:20:12.958299Z",
     "iopub.status.idle": "2022-02-19T04:20:12.962400Z",
     "shell.execute_reply": "2022-02-19T04:20:12.962696Z"
    }
   },
   "outputs": [],
   "source": [
    "txt_log.close()"
   ]
  },
  {
   "cell_type": "code",
   "execution_count": null,
   "metadata": {},
   "outputs": [],
   "source": []
  }
 ],
 "metadata": {
  "colab": {
   "authorship_tag": "ABX9TyMej4PvP65qsLng7TnQKWA4",
   "name": "LSTM-gen",
   "provenance": []
  },
  "kernelspec": {
   "display_name": "Python 3 (ipykernel)",
   "language": "python",
   "name": "python3"
  },
  "language_info": {
   "codemirror_mode": {
    "name": "ipython",
    "version": 3
   },
   "file_extension": ".py",
   "mimetype": "text/x-python",
   "name": "python",
   "nbconvert_exporter": "python",
   "pygments_lexer": "ipython3",
   "version": "3.8.10"
  }
 },
 "nbformat": 4,
 "nbformat_minor": 4
}
