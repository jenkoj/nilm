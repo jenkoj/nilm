{
 "cells": [
  {
   "cell_type": "code",
   "execution_count": 1,
   "metadata": {
    "execution": {
     "iopub.execute_input": "2022-02-19T04:21:39.380809Z",
     "iopub.status.busy": "2022-02-19T04:21:39.379387Z",
     "iopub.status.idle": "2022-02-19T04:21:42.352688Z",
     "shell.execute_reply": "2022-02-19T04:21:42.353707Z"
    },
    "id": "WqUfHWgtJxtu",
    "scrolled": true,
    "tags": []
   },
   "outputs": [
    {
     "name": "stderr",
     "output_type": "stream",
     "text": [
      "2022-02-19 04:21:40.801730: I tensorflow/stream_executor/platform/default/dso_loader.cc:54] Successfully opened dynamic library libcudart.so.11.0\n"
     ]
    },
    {
     "name": "stdout",
     "output_type": "stream",
     "text": [
      "2.5.0\n",
      "Num GPUs Available:  1\n"
     ]
    },
    {
     "name": "stderr",
     "output_type": "stream",
     "text": [
      "2022-02-19 04:21:42.228686: I tensorflow/stream_executor/platform/default/dso_loader.cc:54] Successfully opened dynamic library libcuda.so.1\n",
      "2022-02-19 04:21:42.287324: I tensorflow/core/common_runtime/gpu/gpu_device.cc:1734] Found device 0 with properties: \n",
      "pciBusID: 0000:21:00.0 name: NVIDIA GeForce RTX 2080 Ti computeCapability: 7.5\n",
      "coreClock: 1.545GHz coreCount: 68 deviceMemorySize: 10.76GiB deviceMemoryBandwidth: 573.69GiB/s\n",
      "2022-02-19 04:21:42.287382: I tensorflow/stream_executor/platform/default/dso_loader.cc:54] Successfully opened dynamic library libcudart.so.11.0\n",
      "2022-02-19 04:21:42.304996: I tensorflow/stream_executor/platform/default/dso_loader.cc:54] Successfully opened dynamic library libcublas.so.11\n",
      "2022-02-19 04:21:42.305078: I tensorflow/stream_executor/platform/default/dso_loader.cc:54] Successfully opened dynamic library libcublasLt.so.11\n",
      "2022-02-19 04:21:42.312602: I tensorflow/stream_executor/platform/default/dso_loader.cc:54] Successfully opened dynamic library libcufft.so.10\n",
      "2022-02-19 04:21:42.314857: I tensorflow/stream_executor/platform/default/dso_loader.cc:54] Successfully opened dynamic library libcurand.so.10\n",
      "2022-02-19 04:21:42.334372: I tensorflow/stream_executor/platform/default/dso_loader.cc:54] Successfully opened dynamic library libcutensor.so.1\n",
      "2022-02-19 04:21:42.336458: I tensorflow/stream_executor/platform/default/dso_loader.cc:54] Successfully opened dynamic library libcusolver.so.11\n",
      "2022-02-19 04:21:42.343776: I tensorflow/stream_executor/platform/default/dso_loader.cc:54] Successfully opened dynamic library libcusparse.so.11\n",
      "2022-02-19 04:21:42.344301: I tensorflow/stream_executor/platform/default/dso_loader.cc:54] Successfully opened dynamic library libcudnn.so.8\n",
      "2022-02-19 04:21:42.344839: I tensorflow/core/common_runtime/gpu/gpu_device.cc:1872] Adding visible gpu devices: 0\n"
     ]
    }
   ],
   "source": [
    "import h5py\n",
    "import numpy as np\n",
    "\n",
    "from sklearn.model_selection import train_test_split\n",
    "from sklearn.metrics import classification_report, confusion_matrix\n",
    "import matplotlib.pyplot as plt\n",
    "import itertools \n",
    "import pyts\n",
    "from pyts.approximation import PiecewiseAggregateApproximation\n",
    "\n",
    "from sklearn.utils import class_weight\n",
    "\n",
    "import pathlib\n",
    "import tensorflow as tf\n",
    "from tensorflow import keras\n",
    "from tensorflow.keras import layers, optimizers\n",
    "from tensorflow.keras.layers import Convolution2D,Conv2D, Dense,Dropout, Flatten, Activation, MaxPooling2D, Input, Conv1D, GlobalAveragePooling1D, TimeDistributed, GRU, LSTM\n",
    "\n",
    "print(tf.__version__)\n",
    "print(\"Num GPUs Available: \", len(tf.config.list_physical_devices('GPU')))\n",
    "gpus = tf.config.experimental.list_physical_devices('GPU')\n",
    "\n",
    "try:\n",
    "    for gpu in gpus:\n",
    "        tf.config.experimental.set_memory_growth(gpu, True)\n",
    "except RuntimeError as e:\n",
    "    print(e)"
   ]
  },
  {
   "cell_type": "code",
   "execution_count": 2,
   "metadata": {
    "execution": {
     "iopub.execute_input": "2022-02-19T04:21:42.362089Z",
     "iopub.status.busy": "2022-02-19T04:21:42.360889Z",
     "iopub.status.idle": "2022-02-19T04:21:42.364896Z",
     "shell.execute_reply": "2022-02-19T04:21:42.365890Z"
    }
   },
   "outputs": [
    {
     "name": "stdout",
     "output_type": "stream",
     "text": [
      "refit_gen_GASF_60m_300S0X_15A157030N_R42_80-20-V1\n"
     ]
    }
   ],
   "source": [
    "from os import environ\n",
    "dataset = environ['dataset']\n",
    "print(dataset)"
   ]
  },
  {
   "cell_type": "code",
   "execution_count": 3,
   "metadata": {
    "execution": {
     "iopub.execute_input": "2022-02-19T04:21:42.374218Z",
     "iopub.status.busy": "2022-02-19T04:21:42.373012Z",
     "iopub.status.idle": "2022-02-19T04:21:42.378631Z",
     "shell.execute_reply": "2022-02-19T04:21:42.377621Z"
    }
   },
   "outputs": [],
   "source": [
    "#my defs \n",
    "from modules.models import  VGG11,LSTM_3D_V56,CNN_V56,LSTM_BI_V56\n",
    "from modules.tools import my_print, plot_confusion_matrix_norm, get_data,get_data_split, evaluate_model, create_tl_model\n",
    "from modules.HDF5ImageGenerator import HDF5ImageGenerator"
   ]
  },
  {
   "cell_type": "code",
   "execution_count": 4,
   "metadata": {
    "execution": {
     "iopub.execute_input": "2022-02-19T04:21:42.389399Z",
     "iopub.status.busy": "2022-02-19T04:21:42.388163Z",
     "iopub.status.idle": "2022-02-19T04:21:42.390678Z",
     "shell.execute_reply": "2022-02-19T04:21:42.391646Z"
    },
    "id": "RT1vwq7-KOtB"
   },
   "outputs": [],
   "source": [
    "#LOAD DATASET\n",
    "#file_name = \"ukdale_gen_GASF_13m_100S5X12A54480\"\n",
    "#file_name = \"refit_gen_GASF_13m_100S5X_15A166006\"\n",
    "file_name = \"refit_gen_GASF_13m_100S5X_15A166006_R42-80-20\"\n",
    "#file_name = \"refit_gen_GASF_13m_100S5X_15A166006_R42_80-20\"\n",
    "file_name = \"refit_gen_GASF_60m_300S0X_15A157030N_R12_80-20-V1\"\n",
    "file_name = environ[\"dataset\"]\n",
    "#read the file\n",
    "path = str(pathlib.Path().resolve())\n",
    "\n",
    "path_data = f\"{path}\"\"/data/\"f\"{file_name}\"\"/\"f\"{file_name}\"\".hdf5\"\n",
    "\n",
    "file = h5py.File(path_data,\"r+\")"
   ]
  },
  {
   "cell_type": "code",
   "execution_count": 5,
   "metadata": {
    "execution": {
     "iopub.execute_input": "2022-02-19T04:21:42.399743Z",
     "iopub.status.busy": "2022-02-19T04:21:42.398550Z",
     "iopub.status.idle": "2022-02-19T04:21:52.451785Z",
     "shell.execute_reply": "2022-02-19T04:21:52.452888Z"
    },
    "scrolled": true
   },
   "outputs": [
    {
     "name": "stdout",
     "output_type": "stream",
     "text": [
      "['HEKA', 'fridge/freezer', 'audio system', 'breadmaker', 'broadband router', 'computer', 'dehumidifier', 'dish washer', 'electric space heater', 'food processor', 'pond pump', 'television', 'tumble dryer', 'washer dryer', 'washing machine']\n",
      "{0: 0.2602198297365584, 1: 0.40103670634920635, 2: 2.4953395061728396, 3: 8.651578384162654, 4: 8.369461697722567, 5: 0.8347426565484487, 6: 8.421770833333333, 7: 0.863218022635063, 8: 4.254091028676664, 9: 8.10516290726817, 10: 8.421770833333333, 11: 0.4771541548630784, 12: 1.9194919278252611, 13: 4.587177304964539, 14: 0.4462973696558196}\n",
      " \n",
      "Tests \n",
      "HEKA test: 5178 train: 20713\n",
      "fridge/freezer test: 3360 train: 13440\n",
      "audio system test: 540 train: 2160\n",
      "breadmaker test: 156 train: 623\n",
      "broadband router test: 161 train: 644\n",
      "computer test: 1614 train: 6457\n",
      "dehumidifier test: 160 train: 640\n",
      "dish washer test: 1561 train: 6244\n",
      "electric space heater test: 317 train: 1267\n",
      "food processor test: 166 train: 665\n",
      "pond pump test: 160 train: 640\n",
      "television test: 2824 train: 11296\n",
      "tumble dryer test: 702 train: 2808\n",
      "washer dryer test: 294 train: 1175\n",
      "washing machine test: 3020 train: 12077\n"
     ]
    }
   ],
   "source": [
    "x_test,y_test,d_class_weights,num_of_classes,appliances = get_data(file)"
   ]
  },
  {
   "cell_type": "code",
   "execution_count": 6,
   "metadata": {
    "execution": {
     "iopub.execute_input": "2022-02-19T04:21:52.467684Z",
     "iopub.status.busy": "2022-02-19T04:21:52.466351Z",
     "iopub.status.idle": "2022-02-19T04:21:52.469538Z",
     "shell.execute_reply": "2022-02-19T04:21:52.470588Z"
    }
   },
   "outputs": [],
   "source": [
    "def select_model(learn_type):\n",
    "    \n",
    "    if learn_type == \"CNN\":\n",
    "        model = CNN_V56(file[\"data/train/gaf\"][0:10],num_of_classes,lr= 0.00002)\n",
    "\n",
    "    if learn_type == \"LSTM\":\n",
    "        model = LSTM_3D_V56(file[\"data/train/gaf\"][0:10],num_of_classes,lr= 0.00002)\n",
    "\n",
    "    if learn_type == \"BI_LSTM\":\n",
    "        model = LSTM_BI_V56(file[\"data/train/gaf\"][0:10],num_of_classes,lr= 0.00002)\n",
    "        \n",
    "    if learn_type == \"VGG\":\n",
    "        model = VGG11(file[\"data/train/gaf\"][0:10],num_of_classes,lr= 0.00001)\n",
    "\n",
    "    return model\n",
    "              "
   ]
  },
  {
   "cell_type": "code",
   "execution_count": 7,
   "metadata": {
    "execution": {
     "iopub.execute_input": "2022-02-19T04:21:52.480913Z",
     "iopub.status.busy": "2022-02-19T04:21:52.479345Z",
     "iopub.status.idle": "2022-02-19T04:21:52.482490Z",
     "shell.execute_reply": "2022-02-19T04:21:52.483549Z"
    }
   },
   "outputs": [],
   "source": [
    "path_save = path+'/experiment_automation/output/'+environ['learn_type']+'/'+dataset.split(\"_\")[0]+\"/\"+environ['train_type']+\"/\"+dataset.split(\"_\")[0]+\"_\"+environ['seed']+\"_\"+environ['tl_datasets']\n",
    "path_save_nb = path_save+\"_out.ipynb\"\n",
    "path_save_log = path_save+\"_out_log2.txt\""
   ]
  },
  {
   "cell_type": "code",
   "execution_count": 8,
   "metadata": {
    "execution": {
     "iopub.execute_input": "2022-02-19T04:21:52.494522Z",
     "iopub.status.busy": "2022-02-19T04:21:52.493196Z",
     "iopub.status.idle": "2022-02-19T04:21:52.648054Z",
     "shell.execute_reply": "2022-02-19T04:21:52.646921Z"
    }
   },
   "outputs": [],
   "source": [
    "from keras.callbacks import LambdaCallback\n",
    "#path_log= path+'/experiment_automation/output/'+environ['learn_type']+'/'+dataset.split(\"_\")[0]+\"/\"+environ['train_type']+\"/\"+dataset.split(\"_\")[0]+\"_\"+environ['seed']+\"_\"+environ['tl_datasets']+\"_log.txt\"\n",
    "txt_log = open(path_save+\"_log.txt\", mode='wt', buffering=1)\n",
    "txt_log.write(\"file created! \\n\")\n",
    "\n",
    "save_op_callback = LambdaCallback(\n",
    "  on_epoch_end = lambda epoch, logs: txt_log.write(\n",
    "    str({'epoch': epoch, 'loss': logs['loss'],'acc': logs['accuracy']}) + '\\n'),\n",
    "                                                           \n",
    ")"
   ]
  },
  {
   "cell_type": "code",
   "execution_count": 9,
   "metadata": {
    "execution": {
     "iopub.execute_input": "2022-02-19T04:21:52.656044Z",
     "iopub.status.busy": "2022-02-19T04:21:52.654769Z",
     "iopub.status.idle": "2022-02-19T04:21:52.659076Z",
     "shell.execute_reply": "2022-02-19T04:21:52.660185Z"
    }
   },
   "outputs": [
    {
     "name": "stdout",
     "output_type": "stream",
     "text": [
      "/workspace/notebooks/experiment_automation/output/VGG/refit/BB/refit_42__out.ipynb\n"
     ]
    }
   ],
   "source": [
    "print(path_save_nb)"
   ]
  },
  {
   "cell_type": "code",
   "execution_count": 10,
   "metadata": {
    "execution": {
     "iopub.execute_input": "2022-02-19T04:21:52.666132Z",
     "iopub.status.busy": "2022-02-19T04:21:52.664688Z",
     "iopub.status.idle": "2022-02-19T04:21:52.669188Z",
     "shell.execute_reply": "2022-02-19T04:21:52.670155Z"
    }
   },
   "outputs": [],
   "source": [
    "# rm $path_save_log"
   ]
  },
  {
   "cell_type": "code",
   "execution_count": 11,
   "metadata": {
    "execution": {
     "iopub.execute_input": "2022-02-19T04:21:52.677175Z",
     "iopub.status.busy": "2022-02-19T04:21:52.675961Z",
     "iopub.status.idle": "2022-02-19T04:21:52.680157Z",
     "shell.execute_reply": "2022-02-19T04:21:52.679084Z"
    }
   },
   "outputs": [],
   "source": [
    "# %%capture cap \n",
    "\n",
    "# with open(path_save_log,\"wt\") as f:\n",
    "#     f.write(cap.stdout)\n",
    "    \n",
    "# print(\"out capture..\")"
   ]
  },
  {
   "cell_type": "code",
   "execution_count": 12,
   "metadata": {
    "execution": {
     "iopub.execute_input": "2022-02-19T04:21:52.699375Z",
     "iopub.status.busy": "2022-02-19T04:21:52.698136Z",
     "iopub.status.idle": "2022-02-19T18:39:36.483471Z",
     "shell.execute_reply": "2022-02-19T18:39:36.484122Z"
    },
    "id": "vqA9NwOqKrb5",
    "jupyter": {
     "outputs_hidden": true
    },
    "tags": []
   },
   "outputs": [
    {
     "name": "stdout",
     "output_type": "stream",
     "text": [
      "Normal way\n",
      "[0 1 2 3 4 5 6 7 8 9]\n",
      "WARNING:tensorflow:From /usr/local/lib/python3.8/dist-packages/tensorflow/python/ops/array_ops.py:5043: calling gather (from tensorflow.python.ops.array_ops) with validate_indices is deprecated and will be removed in a future version.\n",
      "Instructions for updating:\n",
      "The `validate_indices` argument has no effect. Indices are always validated on CPU and never validated on GPU.\n"
     ]
    },
    {
     "name": "stderr",
     "output_type": "stream",
     "text": [
      "2022-02-19 04:21:52.725335: I tensorflow/core/common_runtime/gpu/gpu_device.cc:1734] Found device 0 with properties: \n",
      "pciBusID: 0000:21:00.0 name: NVIDIA GeForce RTX 2080 Ti computeCapability: 7.5\n",
      "coreClock: 1.545GHz coreCount: 68 deviceMemorySize: 10.76GiB deviceMemoryBandwidth: 573.69GiB/s\n",
      "2022-02-19 04:21:52.727050: I tensorflow/core/common_runtime/gpu/gpu_device.cc:1872] Adding visible gpu devices: 0\n",
      "2022-02-19 04:21:52.727357: I tensorflow/stream_executor/platform/default/dso_loader.cc:54] Successfully opened dynamic library libcudart.so.11.0\n",
      "2022-02-19 04:21:53.591685: I tensorflow/core/common_runtime/gpu/gpu_device.cc:1258] Device interconnect StreamExecutor with strength 1 edge matrix:\n",
      "2022-02-19 04:21:53.591721: I tensorflow/core/common_runtime/gpu/gpu_device.cc:1264]      0 \n",
      "2022-02-19 04:21:53.591754: I tensorflow/core/common_runtime/gpu/gpu_device.cc:1277] 0:   N \n",
      "2022-02-19 04:21:53.592431: I tensorflow/core/common_runtime/gpu/gpu_device.cc:1418] Created TensorFlow device (/job:localhost/replica:0/task:0/device:GPU:0 with 9649 MB memory) -> physical GPU (device: 0, name: NVIDIA GeForce RTX 2080 Ti, pci bus id: 0000:21:00.0, compute capability: 7.5)\n",
      "2022-02-19 04:21:53.593324: I tensorflow/core/common_runtime/process_util.cc:146] Creating new thread pool with default inter op setting: 20. Tune using inter_op_parallelism_threads for best performance.\n",
      "/usr/local/lib/python3.8/dist-packages/tensorflow/python/keras/optimizer_v2/optimizer_v2.py:374: UserWarning: The `lr` argument is deprecated, use `learning_rate` instead.\n",
      "  warnings.warn(\n",
      "2022-02-19 04:21:53.779862: I tensorflow/compiler/mlir/mlir_graph_optimization_pass.cc:176] None of the MLIR Optimization Passes are enabled (registered 2)\n"
     ]
    },
    {
     "name": "stdout",
     "output_type": "stream",
     "text": [
      "Epoch 1/100\n"
     ]
    },
    {
     "name": "stderr",
     "output_type": "stream",
     "text": [
      "2022-02-19 04:21:53.800697: I tensorflow/core/platform/profile_utils/cpu_utils.cc:114] CPU Frequency: 3299990000 Hz\n",
      "2022-02-19 04:21:54.475203: I tensorflow/stream_executor/platform/default/dso_loader.cc:54] Successfully opened dynamic library libcudnn.so.8\n",
      "2022-02-19 04:21:55.234881: I tensorflow/stream_executor/cuda/cuda_dnn.cc:380] Loaded cuDNN version 8202\n",
      "2022-02-19 04:21:56.144770: I tensorflow/stream_executor/platform/default/dso_loader.cc:54] Successfully opened dynamic library libcublas.so.11\n",
      "2022-02-19 04:21:56.937691: I tensorflow/stream_executor/platform/default/dso_loader.cc:54] Successfully opened dynamic library libcublasLt.so.11\n"
     ]
    },
    {
     "name": "stdout",
     "output_type": "stream",
     "text": [
      "2527/2527 - 519s - loss: 2.3235 - accuracy: 0.3137\n",
      "Epoch 2/100\n",
      "2527/2527 - 515s - loss: 1.6630 - accuracy: 0.5156\n",
      "Epoch 3/100\n",
      "2527/2527 - 514s - loss: 1.2875 - accuracy: 0.5770\n",
      "Epoch 4/100\n",
      "2527/2527 - 517s - loss: 1.1261 - accuracy: 0.6166\n",
      "Epoch 5/100\n",
      "2527/2527 - 515s - loss: 0.9895 - accuracy: 0.6470\n",
      "Epoch 6/100\n",
      "2527/2527 - 513s - loss: 0.9005 - accuracy: 0.6680\n",
      "Epoch 7/100\n",
      "2527/2527 - 513s - loss: 0.7952 - accuracy: 0.6973\n",
      "Epoch 8/100\n",
      "2527/2527 - 513s - loss: 0.7414 - accuracy: 0.7091\n",
      "Epoch 9/100\n",
      "2527/2527 - 514s - loss: 0.6583 - accuracy: 0.7317\n",
      "Epoch 10/100\n",
      "2527/2527 - 513s - loss: 0.6046 - accuracy: 0.7478\n",
      "Epoch 11/100\n",
      "2527/2527 - 513s - loss: 0.5531 - accuracy: 0.7629\n",
      "Epoch 12/100\n",
      "2527/2527 - 513s - loss: 0.5247 - accuracy: 0.7731\n",
      "Epoch 13/100\n",
      "2527/2527 - 513s - loss: 0.4704 - accuracy: 0.7911\n",
      "Epoch 14/100\n",
      "2527/2527 - 516s - loss: 0.4392 - accuracy: 0.8017\n",
      "Epoch 15/100\n",
      "2527/2527 - 514s - loss: 0.4042 - accuracy: 0.8171\n",
      "Epoch 16/100\n",
      "2527/2527 - 514s - loss: 0.3716 - accuracy: 0.8276\n",
      "Epoch 17/100\n",
      "2527/2527 - 513s - loss: 0.3525 - accuracy: 0.8364\n",
      "Epoch 18/100\n",
      "2527/2527 - 515s - loss: 0.3060 - accuracy: 0.8520\n",
      "Epoch 19/100\n",
      "2527/2527 - 517s - loss: 0.2934 - accuracy: 0.8575\n",
      "Epoch 20/100\n",
      "2527/2527 - 518s - loss: 0.2740 - accuracy: 0.8684\n",
      "Epoch 21/100\n",
      "2527/2527 - 515s - loss: 0.2558 - accuracy: 0.8748\n",
      "Epoch 22/100\n",
      "2527/2527 - 514s - loss: 0.2361 - accuracy: 0.8833\n",
      "Epoch 23/100\n",
      "2527/2527 - 513s - loss: 0.2251 - accuracy: 0.8895\n",
      "Epoch 24/100\n",
      "2527/2527 - 513s - loss: 0.2287 - accuracy: 0.8866\n",
      "Epoch 25/100\n",
      "2527/2527 - 513s - loss: 0.1971 - accuracy: 0.9011\n",
      "Epoch 26/100\n",
      "2527/2527 - 513s - loss: 0.1872 - accuracy: 0.9077\n",
      "Epoch 27/100\n",
      "2527/2527 - 515s - loss: 0.1778 - accuracy: 0.9109\n",
      "Epoch 28/100\n",
      "2527/2527 - 517s - loss: 0.1597 - accuracy: 0.9176\n",
      "Epoch 29/100\n",
      "2527/2527 - 515s - loss: 0.1620 - accuracy: 0.9204\n",
      "Epoch 30/100\n",
      "2527/2527 - 513s - loss: 0.1585 - accuracy: 0.9215\n",
      "Epoch 31/100\n",
      "2527/2527 - 516s - loss: 0.1320 - accuracy: 0.9322\n",
      "Epoch 32/100\n",
      "2527/2527 - 517s - loss: 0.1401 - accuracy: 0.9304\n",
      "Epoch 33/100\n",
      "2527/2527 - 514s - loss: 0.1201 - accuracy: 0.9372\n",
      "Epoch 34/100\n",
      "2527/2527 - 514s - loss: 0.1281 - accuracy: 0.9336\n",
      "Epoch 35/100\n",
      "2527/2527 - 517s - loss: 0.1194 - accuracy: 0.9411\n",
      "Epoch 36/100\n",
      "2527/2527 - 515s - loss: 0.1118 - accuracy: 0.9427\n",
      "Epoch 37/100\n",
      "2527/2527 - 513s - loss: 0.0999 - accuracy: 0.9486\n",
      "Epoch 38/100\n",
      "2527/2527 - 515s - loss: 0.1242 - accuracy: 0.9399\n",
      "Epoch 39/100\n",
      "2527/2527 - 513s - loss: 0.1022 - accuracy: 0.9508\n",
      "Epoch 40/100\n",
      "2527/2527 - 513s - loss: 0.0904 - accuracy: 0.9538\n",
      "Epoch 41/100\n",
      "2527/2527 - 515s - loss: 0.0873 - accuracy: 0.9545\n",
      "Epoch 42/100\n",
      "2527/2527 - 513s - loss: 0.0881 - accuracy: 0.9524\n",
      "Epoch 43/100\n",
      "2527/2527 - 512s - loss: 0.0904 - accuracy: 0.9535\n",
      "Epoch 44/100\n",
      "2527/2527 - 513s - loss: 0.0810 - accuracy: 0.9577\n",
      "Epoch 45/100\n",
      "2527/2527 - 513s - loss: 0.0784 - accuracy: 0.9579\n",
      "Epoch 46/100\n",
      "2527/2527 - 512s - loss: 0.0853 - accuracy: 0.9556\n",
      "Epoch 47/100\n",
      "2527/2527 - 514s - loss: 0.0781 - accuracy: 0.9601\n",
      "Epoch 48/100\n",
      "2527/2527 - 513s - loss: 0.0771 - accuracy: 0.9619\n",
      "Epoch 49/100\n",
      "2527/2527 - 515s - loss: 0.0731 - accuracy: 0.9630\n",
      "Epoch 50/100\n",
      "2527/2527 - 517s - loss: 0.0930 - accuracy: 0.9566\n",
      "Epoch 51/100\n",
      "2527/2527 - 517s - loss: 0.0745 - accuracy: 0.9616\n",
      "Epoch 52/100\n",
      "2527/2527 - 516s - loss: 0.0551 - accuracy: 0.9699\n",
      "Epoch 53/100\n",
      "2527/2527 - 513s - loss: 0.0740 - accuracy: 0.9626\n",
      "Epoch 54/100\n",
      "2527/2527 - 512s - loss: 0.0750 - accuracy: 0.9638\n",
      "Epoch 55/100\n",
      "2527/2527 - 516s - loss: 0.0757 - accuracy: 0.9645\n",
      "Epoch 56/100\n",
      "2527/2527 - 513s - loss: 0.0620 - accuracy: 0.9673\n",
      "Epoch 57/100\n",
      "2527/2527 - 513s - loss: 0.0549 - accuracy: 0.9709\n",
      "Epoch 58/100\n",
      "2527/2527 - 514s - loss: 0.0677 - accuracy: 0.9649\n",
      "Epoch 59/100\n",
      "2527/2527 - 514s - loss: 0.0644 - accuracy: 0.9667\n",
      "Epoch 60/100\n",
      "2527/2527 - 513s - loss: 0.0656 - accuracy: 0.9683\n",
      "Epoch 61/100\n",
      "2527/2527 - 514s - loss: 0.0447 - accuracy: 0.9752\n",
      "Epoch 62/100\n",
      "2527/2527 - 512s - loss: 0.0724 - accuracy: 0.9653\n",
      "Epoch 63/100\n",
      "2527/2527 - 512s - loss: 0.0545 - accuracy: 0.9717\n",
      "Epoch 64/100\n",
      "2527/2527 - 513s - loss: 0.0493 - accuracy: 0.9736\n",
      "Epoch 65/100\n",
      "2527/2527 - 516s - loss: 0.0581 - accuracy: 0.9700\n",
      "Epoch 66/100\n",
      "2527/2527 - 514s - loss: 0.0521 - accuracy: 0.9730\n",
      "Epoch 67/100\n",
      "2527/2527 - 512s - loss: 0.0555 - accuracy: 0.9708\n",
      "Epoch 68/100\n",
      "2527/2527 - 513s - loss: 0.0608 - accuracy: 0.9701\n",
      "Epoch 69/100\n",
      "2527/2527 - 513s - loss: 0.0746 - accuracy: 0.9655\n",
      "Epoch 70/100\n",
      "2527/2527 - 516s - loss: 0.0483 - accuracy: 0.9747\n",
      "Epoch 71/100\n",
      "2527/2527 - 513s - loss: 0.0429 - accuracy: 0.9772\n",
      "Epoch 72/100\n",
      "2527/2527 - 512s - loss: 0.0539 - accuracy: 0.9733\n",
      "Epoch 73/100\n",
      "2527/2527 - 512s - loss: 0.0616 - accuracy: 0.9703\n",
      "Epoch 74/100\n",
      "2527/2527 - 513s - loss: 0.0486 - accuracy: 0.9751\n",
      "Epoch 75/100\n",
      "2527/2527 - 513s - loss: 0.0516 - accuracy: 0.9737\n",
      "Epoch 76/100\n",
      "2527/2527 - 513s - loss: 0.0465 - accuracy: 0.9761\n",
      "Epoch 77/100\n",
      "2527/2527 - 513s - loss: 0.0479 - accuracy: 0.9751\n",
      "Epoch 78/100\n",
      "2527/2527 - 513s - loss: 0.0587 - accuracy: 0.9727\n",
      "Epoch 79/100\n",
      "2527/2527 - 513s - loss: 0.0401 - accuracy: 0.9783\n",
      "Epoch 80/100\n",
      "2527/2527 - 515s - loss: 0.0475 - accuracy: 0.9762\n",
      "Epoch 81/100\n",
      "2527/2527 - 517s - loss: 0.0458 - accuracy: 0.9767\n",
      "Epoch 82/100\n",
      "2527/2527 - 513s - loss: 0.0489 - accuracy: 0.9744\n",
      "Epoch 83/100\n",
      "2527/2527 - 513s - loss: 0.0404 - accuracy: 0.9772\n",
      "Epoch 84/100\n",
      "2527/2527 - 515s - loss: 0.0399 - accuracy: 0.9773\n",
      "Epoch 85/100\n",
      "2527/2527 - 513s - loss: 0.0426 - accuracy: 0.9771\n",
      "Epoch 86/100\n",
      "2527/2527 - 511s - loss: 0.0404 - accuracy: 0.9773\n",
      "Epoch 87/100\n",
      "2527/2527 - 512s - loss: 0.0448 - accuracy: 0.9775\n",
      "Epoch 88/100\n",
      "2527/2527 - 514s - loss: 0.0448 - accuracy: 0.9771\n",
      "Epoch 89/100\n",
      "2527/2527 - 515s - loss: 0.0386 - accuracy: 0.9797\n",
      "Epoch 90/100\n",
      "2527/2527 - 513s - loss: 0.0394 - accuracy: 0.9783\n",
      "Epoch 91/100\n",
      "2527/2527 - 513s - loss: 0.0402 - accuracy: 0.9785\n",
      "Epoch 92/100\n",
      "2527/2527 - 514s - loss: 0.0428 - accuracy: 0.9766\n",
      "Epoch 93/100\n",
      "2527/2527 - 514s - loss: 0.0391 - accuracy: 0.9784\n",
      "Epoch 94/100\n",
      "2527/2527 - 515s - loss: 0.0355 - accuracy: 0.9799\n",
      "Epoch 95/100\n",
      "2527/2527 - 513s - loss: 0.0397 - accuracy: 0.9779\n",
      "Epoch 96/100\n",
      "2527/2527 - 515s - loss: 0.0428 - accuracy: 0.9783\n",
      "Epoch 97/100\n",
      "2527/2527 - 514s - loss: 0.0396 - accuracy: 0.9792\n",
      "Epoch 98/100\n",
      "2527/2527 - 512s - loss: 0.0378 - accuracy: 0.9805\n",
      "Epoch 99/100\n",
      "2527/2527 - 512s - loss: 0.0423 - accuracy: 0.9780\n",
      "Epoch 100/100\n",
      "2527/2527 - 514s - loss: 0.0387 - accuracy: 0.9799\n",
      "632/632 - 36s\n",
      "Normalized confusion matrix\n",
      "                       precision    recall  f1-score   support\n",
      "\n",
      "                 HEKA       0.89      0.87      0.88      5178\n",
      "       fridge/freezer       0.91      0.92      0.91      3360\n",
      "         audio system       0.39      0.42      0.40       540\n",
      "           breadmaker       0.60      0.72      0.65       156\n",
      "     broadband router       0.32      0.40      0.36       161\n",
      "             computer       0.62      0.58      0.60      1614\n",
      "         dehumidifier       0.68      0.68      0.68       160\n",
      "          dish washer       0.86      0.86      0.86      1561\n",
      "electric space heater       0.59      0.65      0.62       317\n",
      "       food processor       0.63      0.63      0.63       166\n",
      "            pond pump       0.69      0.87      0.77       160\n",
      "           television       0.75      0.75      0.75      2824\n",
      "         tumble dryer       0.62      0.73      0.67       702\n",
      "         washer dryer       0.31      0.29      0.30       294\n",
      "      washing machine       0.86      0.80      0.83      3020\n",
      "\n",
      "             accuracy                           0.79     20213\n",
      "            macro avg       0.65      0.68      0.66     20213\n",
      "         weighted avg       0.79      0.79      0.79     20213\n",
      "\n"
     ]
    },
    {
     "name": "stderr",
     "output_type": "stream",
     "text": [
      "2022-02-19 18:39:32.348325: W tensorflow/python/util/util.cc:348] Sets are not currently considered sequences, but this may change in the future, so consider avoiding using them.\n"
     ]
    },
    {
     "name": "stdout",
     "output_type": "stream",
     "text": [
      "INFO:tensorflow:Assets written to: /workspace/notebooks/models/VGG/refit_42/assets\n"
     ]
    },
    {
     "data": {
      "image/png": "[encoded data removed]",
      "text/plain": [
       "<Figure size 720x720 with 2 Axes>"
      ]
     },
     "metadata": {
      "needs_background": "light"
     },
     "output_type": "display_data"
    }
   ],
   "source": [
    "# %%capture cap --no-stderr\n",
    "\n",
    "\n",
    "if environ['train_type'] == \"BB\":\n",
    "\n",
    "    #define generator\n",
    "    train_gen = HDF5ImageGenerator(\n",
    "        src= path_data,\n",
    "        X_key=\"data/train/gaf\",\n",
    "        y_key=\"labels/train/gaf\",\n",
    "        classes_key=\"appliances/classes\",\n",
    "        labels_encoding=\"hot\",\n",
    "        shuffle=True,\n",
    "        batch_size=int(environ['batch_size']),\n",
    "        num_classes=num_of_classes,\n",
    "        mode=\"train\",\n",
    "        )\n",
    "    \n",
    "    model = select_model(environ['learn_type'])\n",
    "    \n",
    "    txt_log.write(\"fitting BB model: \\n\")\n",
    "    \n",
    "    model.fit(\n",
    "        train_gen,\n",
    "        verbose=2,\n",
    "        epochs=int(environ['epochs']),\n",
    "        class_weight=d_class_weights,\n",
    "        callbacks = [save_op_callback],\n",
    "    )\n",
    "    \n",
    "    txt_log.write(\"finished fitting BB model: \\n\")\n",
    "\n",
    "    evaluate_model(model,x_test,y_test,appliances)\n",
    "    \n",
    "    if environ['save_model']==\"True\":\n",
    "\n",
    "        path_model_save = path+\"/models/\"+environ['learn_type']+\"/\"+dataset.split(\"_\")[0]+\"_\"+dataset.split(\"_R\")[1][0:2]\n",
    "        model.save(path_model_save)\n",
    "        txt_log.write(\"model saved to:\"+\"/models/\"+environ['learn_type']+\"/\"+dataset.split(\"_\")[0]+\"_\"+dataset.split(\"_R\")[1][0:2]+\" \\n\")\n",
    "        \n",
    "        \n",
    "# with open(path_save+\"_out_log.txt\" as f:\n",
    "#     f.write(cap.stdout)\n"
   ]
  },
  {
   "cell_type": "code",
   "execution_count": 13,
   "metadata": {
    "collapsed": true,
    "execution": {
     "iopub.execute_input": "2022-02-19T18:39:36.488334Z",
     "iopub.status.busy": "2022-02-19T18:39:36.487901Z",
     "iopub.status.idle": "2022-02-19T18:39:36.489386Z",
     "shell.execute_reply": "2022-02-19T18:39:36.489724Z"
    }
   },
   "outputs": [],
   "source": [
    "#model = keras.models.load_model(path_model1)\n",
    "# model_used = model"
   ]
  },
  {
   "cell_type": "code",
   "execution_count": 14,
   "metadata": {
    "collapsed": true,
    "execution": {
     "iopub.execute_input": "2022-02-19T18:39:36.492916Z",
     "iopub.status.busy": "2022-02-19T18:39:36.492500Z",
     "iopub.status.idle": "2022-02-19T18:39:36.494045Z",
     "shell.execute_reply": "2022-02-19T18:39:36.494387Z"
    },
    "jupyter": {
     "outputs_hidden": true
    },
    "tags": []
   },
   "outputs": [],
   "source": [
    "# evaluate_model(model,x_test,y_test,appliances)"
   ]
  },
  {
   "cell_type": "code",
   "execution_count": 15,
   "metadata": {
    "collapsed": true,
    "execution": {
     "iopub.execute_input": "2022-02-19T18:39:36.509386Z",
     "iopub.status.busy": "2022-02-19T18:39:36.508778Z",
     "iopub.status.idle": "2022-02-19T18:39:36.511258Z",
     "shell.execute_reply": "2022-02-19T18:39:36.510796Z"
    }
   },
   "outputs": [],
   "source": [
    "# datasets =[\n",
    "#     \"ukdale_gen_GASF_13m_100S5X12A54480_R82_80-20\"\n",
    "# ]\n",
    "\n",
    "if environ['train_type'] == \"TL\": \n",
    "    models = environ['tl_datasets'].replace(\" \",\"\").split(\",\")\n",
    "    #model = [\"base\"]\n",
    "    \n",
    "    for model in models:\n",
    "    \n",
    "        file_name = dataset\n",
    "        \n",
    "        datasetTL = model\n",
    "        \n",
    "        seed = dataset.split(\"_R\")[1][0:2]\n",
    "        \n",
    "        print(\"using dataset data\",dataset.split(\"_\")[0],\"training on model\",model,\"seed\",environ['seed'])\n",
    "        txt_log.write(\"starting \"+dataset.split(\"_\")[0]+\" training on model \"+model+\" seed \"+environ['seed']+\"\\n\")\n",
    "\n",
    "\n",
    "        tf.keras.backend.clear_session()\n",
    "\n",
    "\n",
    "        #read the file\n",
    "        path = str(pathlib.Path().resolve())\n",
    "        path_data = f\"{path}\"\"/data/\"f\"{file_name}\"\"/\"f\"{file_name}\"\".hdf5\"\n",
    "        file = h5py.File(path_data,\"r+\")\n",
    "\n",
    "\n",
    "        print(\"reading data, printing stats: \")\n",
    "        x_test,y_test,d_class_weights,num_of_classes,appliances = get_data(file)\n",
    "        print(\"loading model\")\n",
    "        \n",
    "        model_seed = 42\n",
    "        model_used = create_tl_model(model,environ['learn_type'],model_seed,path,num_of_classes)\n",
    "                \n",
    "        train_gen = HDF5ImageGenerator(\n",
    "            src= path_data,\n",
    "            X_key=\"data/train/gaf\",\n",
    "            y_key=\"labels/train/gaf\",\n",
    "            classes_key=\"appliances/classes\",\n",
    "            labels_encoding=\"hot\",\n",
    "            shuffle=True,\n",
    "            batch_size=int(environ['batch_size']),\n",
    "            num_classes=num_of_classes,\n",
    "            mode=\"train\",\n",
    "            )\n",
    "\n",
    "        model_used.fit(\n",
    "            train_gen,\n",
    "            verbose=2,\n",
    "            epochs=int(environ['epochs']),\n",
    "            class_weight=d_class_weights,\n",
    "            callbacks = [save_op_callback]\n",
    "            #workers = 6,\n",
    "        )\n",
    "        \n",
    "        txt_log.write(\"finished \"+dataset.split(\"_\")[0]+\" training on model \"+model+\" seed \"+environ['seed']+\"\\n\")\n",
    "\n",
    "\n",
    "        evaluate_model(model_used,x_test,y_test,appliances)\n",
    "        \n",
    "\n",
    "\n",
    "\n",
    "        #del model_used\n",
    "\n"
   ]
  },
  {
   "cell_type": "code",
   "execution_count": 16,
   "metadata": {
    "execution": {
     "iopub.execute_input": "2022-02-19T18:39:36.515033Z",
     "iopub.status.busy": "2022-02-19T18:39:36.514475Z",
     "iopub.status.idle": "2022-02-19T18:39:36.516865Z",
     "shell.execute_reply": "2022-02-19T18:39:36.517806Z"
    }
   },
   "outputs": [],
   "source": [
    "txt_log.close()"
   ]
  },
  {
   "cell_type": "code",
   "execution_count": null,
   "metadata": {},
   "outputs": [],
   "source": []
  }
 ],
 "metadata": {
  "colab": {
   "authorship_tag": "ABX9TyMej4PvP65qsLng7TnQKWA4",
   "name": "LSTM-gen",
   "provenance": []
  },
  "kernelspec": {
   "display_name": "Python 3 (ipykernel)",
   "language": "python",
   "name": "python3"
  },
  "language_info": {
   "codemirror_mode": {
    "name": "ipython",
    "version": 3
   },
   "file_extension": ".py",
   "mimetype": "text/x-python",
   "name": "python",
   "nbconvert_exporter": "python",
   "pygments_lexer": "ipython3",
   "version": "3.8.10"
  }
 },
 "nbformat": 4,
 "nbformat_minor": 4
}
