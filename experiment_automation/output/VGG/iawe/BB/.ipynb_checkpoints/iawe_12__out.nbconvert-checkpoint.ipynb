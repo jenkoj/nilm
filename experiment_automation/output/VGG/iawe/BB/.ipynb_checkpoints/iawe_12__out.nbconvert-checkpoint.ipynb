{
 "cells": [
  {
   "cell_type": "code",
   "execution_count": 1,
   "metadata": {
    "execution": {
     "iopub.execute_input": "2022-02-15T10:36:33.782695Z",
     "iopub.status.busy": "2022-02-15T10:36:33.764224Z",
     "iopub.status.idle": "2022-02-15T10:36:35.478989Z",
     "shell.execute_reply": "2022-02-15T10:36:35.479979Z"
    },
    "id": "WqUfHWgtJxtu",
    "scrolled": true,
    "tags": []
   },
   "outputs": [
    {
     "name": "stderr",
     "output_type": "stream",
     "text": [
      "2022-02-15 10:36:34.609660: I tensorflow/stream_executor/platform/default/dso_loader.cc:54] Successfully opened dynamic library libcudart.so.11.0\n"
     ]
    },
    {
     "name": "stdout",
     "output_type": "stream",
     "text": [
      "2.5.0\n",
      "Num GPUs Available:  1\n"
     ]
    },
    {
     "name": "stderr",
     "output_type": "stream",
     "text": [
      "2022-02-15 10:36:35.414308: I tensorflow/stream_executor/platform/default/dso_loader.cc:54] Successfully opened dynamic library libcuda.so.1\n",
      "2022-02-15 10:36:35.463861: I tensorflow/core/common_runtime/gpu/gpu_device.cc:1734] Found device 0 with properties: \n",
      "pciBusID: 0000:21:00.0 name: NVIDIA GeForce RTX 2080 Ti computeCapability: 7.5\n",
      "coreClock: 1.545GHz coreCount: 68 deviceMemorySize: 10.76GiB deviceMemoryBandwidth: 573.69GiB/s\n",
      "2022-02-15 10:36:35.463908: I tensorflow/stream_executor/platform/default/dso_loader.cc:54] Successfully opened dynamic library libcudart.so.11.0\n",
      "2022-02-15 10:36:35.467322: I tensorflow/stream_executor/platform/default/dso_loader.cc:54] Successfully opened dynamic library libcublas.so.11\n",
      "2022-02-15 10:36:35.467376: I tensorflow/stream_executor/platform/default/dso_loader.cc:54] Successfully opened dynamic library libcublasLt.so.11\n",
      "2022-02-15 10:36:35.468903: I tensorflow/stream_executor/platform/default/dso_loader.cc:54] Successfully opened dynamic library libcufft.so.10\n",
      "2022-02-15 10:36:35.469184: I tensorflow/stream_executor/platform/default/dso_loader.cc:54] Successfully opened dynamic library libcurand.so.10\n",
      "2022-02-15 10:36:35.469865: I tensorflow/stream_executor/platform/default/dso_loader.cc:54] Successfully opened dynamic library libcutensor.so.1\n",
      "2022-02-15 10:36:35.470288: I tensorflow/stream_executor/platform/default/dso_loader.cc:54] Successfully opened dynamic library libcusolver.so.11\n",
      "2022-02-15 10:36:35.470975: I tensorflow/stream_executor/platform/default/dso_loader.cc:54] Successfully opened dynamic library libcusparse.so.11\n",
      "2022-02-15 10:36:35.471115: I tensorflow/stream_executor/platform/default/dso_loader.cc:54] Successfully opened dynamic library libcudnn.so.8\n",
      "2022-02-15 10:36:35.471473: I tensorflow/core/common_runtime/gpu/gpu_device.cc:1872] Adding visible gpu devices: 0\n"
     ]
    }
   ],
   "source": [
    "import h5py\n",
    "import numpy as np\n",
    "\n",
    "from sklearn.model_selection import train_test_split\n",
    "from sklearn.metrics import classification_report, confusion_matrix\n",
    "import matplotlib.pyplot as plt\n",
    "import itertools \n",
    "import pyts\n",
    "from pyts.approximation import PiecewiseAggregateApproximation\n",
    "\n",
    "from sklearn.utils import class_weight\n",
    "\n",
    "import pathlib\n",
    "import tensorflow as tf\n",
    "from tensorflow import keras\n",
    "from tensorflow.keras import layers, optimizers\n",
    "from tensorflow.keras.layers import Convolution2D,Conv2D, Dense,Dropout, Flatten, Activation, MaxPooling2D, Input, Conv1D, GlobalAveragePooling1D, TimeDistributed, GRU, LSTM\n",
    "\n",
    "print(tf.__version__)\n",
    "print(\"Num GPUs Available: \", len(tf.config.list_physical_devices('GPU')))\n",
    "gpus = tf.config.experimental.list_physical_devices('GPU')\n",
    "\n",
    "try:\n",
    "    for gpu in gpus:\n",
    "        tf.config.experimental.set_memory_growth(gpu, True)\n",
    "except RuntimeError as e:\n",
    "    print(e)"
   ]
  },
  {
   "cell_type": "code",
   "execution_count": 2,
   "metadata": {
    "execution": {
     "iopub.execute_input": "2022-02-15T10:36:35.486971Z",
     "iopub.status.busy": "2022-02-15T10:36:35.484436Z",
     "iopub.status.idle": "2022-02-15T10:36:35.489706Z",
     "shell.execute_reply": "2022-02-15T10:36:35.490552Z"
    }
   },
   "outputs": [
    {
     "name": "stdout",
     "output_type": "stream",
     "text": [
      "iawe_gen_GASF_60m_300S0X_R12_80-20\n"
     ]
    }
   ],
   "source": [
    "from os import environ\n",
    "dataset = environ['dataset']\n",
    "print(dataset)"
   ]
  },
  {
   "cell_type": "code",
   "execution_count": 3,
   "metadata": {
    "execution": {
     "iopub.execute_input": "2022-02-15T10:36:35.497039Z",
     "iopub.status.busy": "2022-02-15T10:36:35.495901Z",
     "iopub.status.idle": "2022-02-15T10:36:35.500125Z",
     "shell.execute_reply": "2022-02-15T10:36:35.501004Z"
    }
   },
   "outputs": [],
   "source": [
    "#my defs \n",
    "from modules.models import  VGG11,LSTM_3D_V56,CNN_V56,LSTM_BI_V56\n",
    "from modules.tools import my_print, plot_confusion_matrix_norm, get_data,get_data_split, evaluate_model, create_tl_model\n",
    "from modules.HDF5ImageGenerator import HDF5ImageGenerator"
   ]
  },
  {
   "cell_type": "code",
   "execution_count": 4,
   "metadata": {
    "execution": {
     "iopub.execute_input": "2022-02-15T10:36:35.509896Z",
     "iopub.status.busy": "2022-02-15T10:36:35.508670Z",
     "iopub.status.idle": "2022-02-15T10:36:35.511793Z",
     "shell.execute_reply": "2022-02-15T10:36:35.512820Z"
    },
    "id": "RT1vwq7-KOtB"
   },
   "outputs": [],
   "source": [
    "#LOAD DATASET\n",
    "#file_name = \"ukdale_gen_GASF_13m_100S5X12A54480\"\n",
    "#file_name = \"refit_gen_GASF_13m_100S5X_15A166006\"\n",
    "file_name = \"refit_gen_GASF_13m_100S5X_15A166006_R42-80-20\"\n",
    "#file_name = \"refit_gen_GASF_13m_100S5X_15A166006_R42_80-20\"\n",
    "file_name = \"refit_gen_GASF_60m_300S0X_15A157030N_R12_80-20-V1\"\n",
    "file_name = environ[\"dataset\"]\n",
    "#read the file\n",
    "path = str(pathlib.Path().resolve())\n",
    "\n",
    "path_data = f\"{path}\"\"/data/\"f\"{file_name}\"\"/\"f\"{file_name}\"\".hdf5\"\n",
    "\n",
    "file = h5py.File(path_data,\"r+\")"
   ]
  },
  {
   "cell_type": "code",
   "execution_count": 5,
   "metadata": {
    "execution": {
     "iopub.execute_input": "2022-02-15T10:36:35.521246Z",
     "iopub.status.busy": "2022-02-15T10:36:35.519938Z",
     "iopub.status.idle": "2022-02-15T10:36:35.652804Z",
     "shell.execute_reply": "2022-02-15T10:36:35.653155Z"
    },
    "scrolled": true
   },
   "outputs": [
    {
     "name": "stdout",
     "output_type": "stream",
     "text": [
      "['air conditioner', 'computer', 'fridge', 'television']\n",
      "{0: 4.76595744680851, 1: 0.8265682656826568, 2: 0.43118383060635224, 3: 3.8290598290598292}\n",
      " \n",
      "Tests \n",
      "air conditioner test: 23 train: 94\n",
      "computer test: 136 train: 542\n",
      "fridge test: 260 train: 1039\n",
      "television test: 30 train: 117\n"
     ]
    }
   ],
   "source": [
    "x_test,y_test,d_class_weights,num_of_classes,appliances = get_data(file)"
   ]
  },
  {
   "cell_type": "code",
   "execution_count": 6,
   "metadata": {
    "execution": {
     "iopub.execute_input": "2022-02-15T10:36:35.658781Z",
     "iopub.status.busy": "2022-02-15T10:36:35.658359Z",
     "iopub.status.idle": "2022-02-15T10:36:35.662127Z",
     "shell.execute_reply": "2022-02-15T10:36:35.662452Z"
    }
   },
   "outputs": [],
   "source": [
    "def select_model(learn_type):\n",
    "    \n",
    "    if learn_type == \"CNN\":\n",
    "        model = CNN_V56(file[\"data/train/gaf\"][0:10],num_of_classes,lr= 0.00002)\n",
    "\n",
    "    if learn_type == \"LSTM\":\n",
    "        model = LSTM_3D_V56(file[\"data/train/gaf\"][0:10],num_of_classes,lr= 0.00002)\n",
    "\n",
    "    if learn_type == \"BI_LSTM\":\n",
    "        model = LSTM_BI_V56(file[\"data/train/gaf\"][0:10],num_of_classes,lr= 0.00002)\n",
    "        \n",
    "    if learn_type == \"VGG\":\n",
    "        model = VGG11(file[\"data/train/gaf\"][0:10],num_of_classes,lr= 0.00001)\n",
    "\n",
    "    return model\n",
    "              "
   ]
  },
  {
   "cell_type": "code",
   "execution_count": 7,
   "metadata": {
    "execution": {
     "iopub.execute_input": "2022-02-15T10:36:35.670693Z",
     "iopub.status.busy": "2022-02-15T10:36:35.670163Z",
     "iopub.status.idle": "2022-02-15T10:36:35.673139Z",
     "shell.execute_reply": "2022-02-15T10:36:35.673550Z"
    }
   },
   "outputs": [],
   "source": [
    "path_save = path+'/experiment_automation/output/'+environ['learn_type']+'/'+dataset.split(\"_\")[0]+\"/\"+environ['train_type']+\"/\"+dataset.split(\"_\")[0]+\"_\"+environ['seed']+\"_\"+environ['tl_datasets']\n",
    "path_save_nb = path_save+\"_out.ipynb\"\n",
    "path_save_log = path_save+\"_out_log2.txt\""
   ]
  },
  {
   "cell_type": "code",
   "execution_count": 8,
   "metadata": {
    "execution": {
     "iopub.execute_input": "2022-02-15T10:36:35.682878Z",
     "iopub.status.busy": "2022-02-15T10:36:35.682169Z",
     "iopub.status.idle": "2022-02-15T10:36:35.773436Z",
     "shell.execute_reply": "2022-02-15T10:36:35.772358Z"
    }
   },
   "outputs": [],
   "source": [
    "from keras.callbacks import LambdaCallback\n",
    "#path_log= path+'/experiment_automation/output/'+environ['learn_type']+'/'+dataset.split(\"_\")[0]+\"/\"+environ['train_type']+\"/\"+dataset.split(\"_\")[0]+\"_\"+environ['seed']+\"_\"+environ['tl_datasets']+\"_log.txt\"\n",
    "txt_log = open(path_save+\"_log.txt\", mode='wt', buffering=1)\n",
    "txt_log.write(\"file created! \\n\")\n",
    "\n",
    "save_op_callback = LambdaCallback(\n",
    "  on_epoch_end = lambda epoch, logs: txt_log.write(\n",
    "    str({'epoch': epoch, 'loss': logs['loss'],'acc': logs['accuracy']}) + '\\n'),\n",
    "                                                           \n",
    ")"
   ]
  },
  {
   "cell_type": "code",
   "execution_count": 9,
   "metadata": {
    "execution": {
     "iopub.execute_input": "2022-02-15T10:36:35.779042Z",
     "iopub.status.busy": "2022-02-15T10:36:35.777841Z",
     "iopub.status.idle": "2022-02-15T10:36:35.782942Z",
     "shell.execute_reply": "2022-02-15T10:36:35.781878Z"
    }
   },
   "outputs": [
    {
     "name": "stdout",
     "output_type": "stream",
     "text": [
      "/workspace/notebooks/experiment_automation/output/VGG/iawe/BB/iawe_12__out.ipynb\n"
     ]
    }
   ],
   "source": [
    "print(path_save_nb)"
   ]
  },
  {
   "cell_type": "code",
   "execution_count": 10,
   "metadata": {
    "execution": {
     "iopub.execute_input": "2022-02-15T10:36:35.788040Z",
     "iopub.status.busy": "2022-02-15T10:36:35.787031Z",
     "iopub.status.idle": "2022-02-15T10:36:35.789162Z",
     "shell.execute_reply": "2022-02-15T10:36:35.789993Z"
    }
   },
   "outputs": [],
   "source": [
    "# rm $path_save_log"
   ]
  },
  {
   "cell_type": "code",
   "execution_count": 11,
   "metadata": {
    "execution": {
     "iopub.execute_input": "2022-02-15T10:36:35.795206Z",
     "iopub.status.busy": "2022-02-15T10:36:35.794187Z",
     "iopub.status.idle": "2022-02-15T10:36:35.796310Z",
     "shell.execute_reply": "2022-02-15T10:36:35.797135Z"
    }
   },
   "outputs": [],
   "source": [
    "# %%capture cap \n",
    "\n",
    "# with open(path_save_log,\"wt\") as f:\n",
    "#     f.write(cap.stdout)\n",
    "    \n",
    "# print(\"out capture..\")"
   ]
  },
  {
   "cell_type": "code",
   "execution_count": 12,
   "metadata": {
    "execution": {
     "iopub.execute_input": "2022-02-15T10:36:35.812501Z",
     "iopub.status.busy": "2022-02-15T10:36:35.811254Z",
     "iopub.status.idle": "2022-02-15T10:55:57.032491Z",
     "shell.execute_reply": "2022-02-15T10:55:57.033473Z"
    },
    "id": "vqA9NwOqKrb5",
    "jupyter": {
     "outputs_hidden": true
    },
    "tags": []
   },
   "outputs": [
    {
     "name": "stdout",
     "output_type": "stream",
     "text": [
      "Normal way\n",
      "[0 1 2 3 4 5 6 7 8 9]\n",
      "WARNING:tensorflow:From /usr/local/lib/python3.8/dist-packages/tensorflow/python/ops/array_ops.py:5043: calling gather (from tensorflow.python.ops.array_ops) with validate_indices is deprecated and will be removed in a future version.\n",
      "Instructions for updating:\n",
      "The `validate_indices` argument has no effect. Indices are always validated on CPU and never validated on GPU.\n"
     ]
    },
    {
     "name": "stderr",
     "output_type": "stream",
     "text": [
      "2022-02-15 10:36:35.832404: I tensorflow/core/common_runtime/gpu/gpu_device.cc:1734] Found device 0 with properties: \n",
      "pciBusID: 0000:21:00.0 name: NVIDIA GeForce RTX 2080 Ti computeCapability: 7.5\n",
      "coreClock: 1.545GHz coreCount: 68 deviceMemorySize: 10.76GiB deviceMemoryBandwidth: 573.69GiB/s\n",
      "2022-02-15 10:36:35.832739: I tensorflow/core/common_runtime/gpu/gpu_device.cc:1872] Adding visible gpu devices: 0\n",
      "2022-02-15 10:36:35.832797: I tensorflow/stream_executor/platform/default/dso_loader.cc:54] Successfully opened dynamic library libcudart.so.11.0\n",
      "2022-02-15 10:36:36.202040: I tensorflow/core/common_runtime/gpu/gpu_device.cc:1258] Device interconnect StreamExecutor with strength 1 edge matrix:\n",
      "2022-02-15 10:36:36.202077: I tensorflow/core/common_runtime/gpu/gpu_device.cc:1264]      0 \n",
      "2022-02-15 10:36:36.202084: I tensorflow/core/common_runtime/gpu/gpu_device.cc:1277] 0:   N \n",
      "2022-02-15 10:36:36.202666: I tensorflow/core/common_runtime/gpu/gpu_device.cc:1418] Created TensorFlow device (/job:localhost/replica:0/task:0/device:GPU:0 with 9649 MB memory) -> physical GPU (device: 0, name: NVIDIA GeForce RTX 2080 Ti, pci bus id: 0000:21:00.0, compute capability: 7.5)\n",
      "2022-02-15 10:36:36.202995: I tensorflow/core/common_runtime/process_util.cc:146] Creating new thread pool with default inter op setting: 20. Tune using inter_op_parallelism_threads for best performance.\n",
      "/usr/local/lib/python3.8/dist-packages/tensorflow/python/keras/optimizer_v2/optimizer_v2.py:374: UserWarning: The `lr` argument is deprecated, use `learning_rate` instead.\n",
      "  warnings.warn(\n",
      "2022-02-15 10:36:36.368762: I tensorflow/compiler/mlir/mlir_graph_optimization_pass.cc:176] None of the MLIR Optimization Passes are enabled (registered 2)\n",
      "2022-02-15 10:36:36.369411: I tensorflow/core/platform/profile_utils/cpu_utils.cc:114] CPU Frequency: 3299990000 Hz\n"
     ]
    },
    {
     "name": "stdout",
     "output_type": "stream",
     "text": [
      "Epoch 1/100\n"
     ]
    },
    {
     "name": "stderr",
     "output_type": "stream",
     "text": [
      "2022-02-15 10:36:36.979696: I tensorflow/stream_executor/platform/default/dso_loader.cc:54] Successfully opened dynamic library libcudnn.so.8\n",
      "2022-02-15 10:36:37.481969: I tensorflow/stream_executor/cuda/cuda_dnn.cc:380] Loaded cuDNN version 8202\n",
      "2022-02-15 10:36:38.015999: I tensorflow/stream_executor/platform/default/dso_loader.cc:54] Successfully opened dynamic library libcublas.so.11\n",
      "2022-02-15 10:36:38.431433: I tensorflow/stream_executor/platform/default/dso_loader.cc:54] Successfully opened dynamic library libcublasLt.so.11\n"
     ]
    },
    {
     "name": "stdout",
     "output_type": "stream",
     "text": [
      "56/56 - 16s - loss: 1.9994 - accuracy: 0.1088\n",
      "Epoch 2/100\n",
      "56/56 - 11s - loss: 1.3366 - accuracy: 0.2388\n",
      "Epoch 3/100\n",
      "56/56 - 12s - loss: 1.5770 - accuracy: 0.1574\n",
      "Epoch 4/100\n",
      "56/56 - 12s - loss: 1.3013 - accuracy: 0.3136\n",
      "Epoch 5/100\n",
      "56/56 - 12s - loss: 1.0738 - accuracy: 0.2182\n",
      "Epoch 6/100\n",
      "56/56 - 11s - loss: 1.3316 - accuracy: 0.2383\n",
      "Epoch 7/100\n",
      "56/56 - 12s - loss: 1.1394 - accuracy: 0.4062\n",
      "Epoch 8/100\n",
      "56/56 - 12s - loss: 1.0637 - accuracy: 0.3365\n",
      "Epoch 9/100\n",
      "56/56 - 12s - loss: 0.9933 - accuracy: 0.5508\n",
      "Epoch 10/100\n",
      "56/56 - 12s - loss: 1.0227 - accuracy: 0.4766\n",
      "Epoch 11/100\n",
      "56/56 - 12s - loss: 0.9454 - accuracy: 0.4749\n",
      "Epoch 12/100\n",
      "56/56 - 12s - loss: 0.9374 - accuracy: 0.5073\n",
      "Epoch 13/100\n",
      "56/56 - 11s - loss: 0.9574 - accuracy: 0.3744\n",
      "Epoch 14/100\n",
      "56/56 - 12s - loss: 0.9894 - accuracy: 0.3878\n",
      "Epoch 15/100\n",
      "56/56 - 12s - loss: 0.6999 - accuracy: 0.7338\n",
      "Epoch 16/100\n",
      "56/56 - 11s - loss: 0.7752 - accuracy: 0.6847\n",
      "Epoch 17/100\n",
      "56/56 - 12s - loss: 0.8306 - accuracy: 0.5865\n",
      "Epoch 18/100\n",
      "56/56 - 11s - loss: 0.6513 - accuracy: 0.6992\n",
      "Epoch 19/100\n",
      "56/56 - 12s - loss: 0.5889 - accuracy: 0.7673\n",
      "Epoch 20/100\n",
      "56/56 - 12s - loss: 0.8114 - accuracy: 0.5480\n",
      "Epoch 21/100\n",
      "56/56 - 11s - loss: 0.6991 - accuracy: 0.6685\n",
      "Epoch 22/100\n",
      "56/56 - 12s - loss: 0.9169 - accuracy: 0.5379\n",
      "Epoch 23/100\n",
      "56/56 - 11s - loss: 0.8079 - accuracy: 0.6975\n",
      "Epoch 24/100\n",
      "56/56 - 11s - loss: 0.5330 - accuracy: 0.7506\n",
      "Epoch 25/100\n",
      "56/56 - 12s - loss: 0.4558 - accuracy: 0.8103\n",
      "Epoch 26/100\n",
      "56/56 - 11s - loss: 0.3767 - accuracy: 0.8599\n",
      "Epoch 27/100\n",
      "56/56 - 11s - loss: 0.3435 - accuracy: 0.8471\n",
      "Epoch 28/100\n",
      "56/56 - 11s - loss: 0.4312 - accuracy: 0.8365\n",
      "Epoch 29/100\n",
      "56/56 - 12s - loss: 0.6241 - accuracy: 0.6842\n",
      "Epoch 30/100\n",
      "56/56 - 11s - loss: 0.4124 - accuracy: 0.8108\n",
      "Epoch 31/100\n",
      "56/56 - 11s - loss: 0.3425 - accuracy: 0.8772\n",
      "Epoch 32/100\n",
      "56/56 - 12s - loss: 0.3479 - accuracy: 0.8393\n",
      "Epoch 33/100\n",
      "56/56 - 11s - loss: 0.2080 - accuracy: 0.9213\n",
      "Epoch 34/100\n",
      "56/56 - 11s - loss: 0.1967 - accuracy: 0.9219\n",
      "Epoch 35/100\n",
      "56/56 - 11s - loss: 0.1584 - accuracy: 0.9336\n",
      "Epoch 36/100\n",
      "56/56 - 11s - loss: 0.1607 - accuracy: 0.9275\n",
      "Epoch 37/100\n",
      "56/56 - 11s - loss: 0.1655 - accuracy: 0.9252\n",
      "Epoch 38/100\n",
      "56/56 - 11s - loss: 0.1726 - accuracy: 0.9319\n",
      "Epoch 39/100\n",
      "56/56 - 12s - loss: 0.2195 - accuracy: 0.8834\n",
      "Epoch 40/100\n",
      "56/56 - 11s - loss: 0.3006 - accuracy: 0.8711\n",
      "Epoch 41/100\n",
      "56/56 - 11s - loss: 0.1797 - accuracy: 0.9414\n",
      "Epoch 42/100\n",
      "56/56 - 11s - loss: 0.1120 - accuracy: 0.9498\n",
      "Epoch 43/100\n",
      "56/56 - 11s - loss: 0.0937 - accuracy: 0.9604\n",
      "Epoch 44/100\n",
      "56/56 - 12s - loss: 0.0789 - accuracy: 0.9626\n",
      "Epoch 45/100\n",
      "56/56 - 11s - loss: 0.0694 - accuracy: 0.9688\n",
      "Epoch 46/100\n",
      "56/56 - 11s - loss: 0.0627 - accuracy: 0.9732\n",
      "Epoch 47/100\n",
      "56/56 - 11s - loss: 0.0532 - accuracy: 0.9754\n",
      "Epoch 48/100\n",
      "56/56 - 11s - loss: 0.0834 - accuracy: 0.9621\n",
      "Epoch 49/100\n",
      "56/56 - 11s - loss: 0.0535 - accuracy: 0.9766\n",
      "Epoch 50/100\n",
      "56/56 - 11s - loss: 0.0442 - accuracy: 0.9816\n",
      "Epoch 51/100\n",
      "56/56 - 11s - loss: 0.0397 - accuracy: 0.9833\n",
      "Epoch 52/100\n",
      "56/56 - 11s - loss: 0.0336 - accuracy: 0.9844\n",
      "Epoch 53/100\n",
      "56/56 - 11s - loss: 0.0328 - accuracy: 0.9849\n",
      "Epoch 54/100\n",
      "56/56 - 11s - loss: 0.0305 - accuracy: 0.9866\n",
      "Epoch 55/100\n",
      "56/56 - 11s - loss: 0.4229 - accuracy: 0.8783\n",
      "Epoch 56/100\n",
      "56/56 - 11s - loss: 0.2802 - accuracy: 0.8823\n",
      "Epoch 57/100\n",
      "56/56 - 11s - loss: 0.3584 - accuracy: 0.8019\n",
      "Epoch 58/100\n",
      "56/56 - 11s - loss: 0.5413 - accuracy: 0.7360\n",
      "Epoch 59/100\n",
      "56/56 - 11s - loss: 0.1847 - accuracy: 0.9124\n",
      "Epoch 60/100\n",
      "56/56 - 11s - loss: 0.0830 - accuracy: 0.9621\n",
      "Epoch 61/100\n",
      "56/56 - 11s - loss: 0.3279 - accuracy: 0.7796\n",
      "Epoch 62/100\n",
      "56/56 - 11s - loss: 0.0930 - accuracy: 0.9615\n",
      "Epoch 63/100\n",
      "56/56 - 11s - loss: 0.0616 - accuracy: 0.9754\n",
      "Epoch 64/100\n",
      "56/56 - 11s - loss: 0.0507 - accuracy: 0.9732\n",
      "Epoch 65/100\n",
      "56/56 - 11s - loss: 0.0428 - accuracy: 0.9799\n",
      "Epoch 66/100\n",
      "56/56 - 11s - loss: 0.0390 - accuracy: 0.9810\n",
      "Epoch 67/100\n",
      "56/56 - 11s - loss: 0.0317 - accuracy: 0.9855\n",
      "Epoch 68/100\n",
      "56/56 - 11s - loss: 0.0268 - accuracy: 0.9894\n",
      "Epoch 69/100\n",
      "56/56 - 11s - loss: 0.0293 - accuracy: 0.9877\n",
      "Epoch 70/100\n",
      "56/56 - 11s - loss: 0.0274 - accuracy: 0.9877\n",
      "Epoch 71/100\n",
      "56/56 - 11s - loss: 0.0216 - accuracy: 0.9894\n",
      "Epoch 72/100\n",
      "56/56 - 11s - loss: 0.0211 - accuracy: 0.9916\n",
      "Epoch 73/100\n",
      "56/56 - 11s - loss: 0.0185 - accuracy: 0.9922\n",
      "Epoch 74/100\n",
      "56/56 - 11s - loss: 0.0153 - accuracy: 0.9933\n",
      "Epoch 75/100\n",
      "56/56 - 11s - loss: 0.0156 - accuracy: 0.9927\n",
      "Epoch 76/100\n",
      "56/56 - 11s - loss: 0.0151 - accuracy: 0.9927\n",
      "Epoch 77/100\n",
      "56/56 - 11s - loss: 0.0123 - accuracy: 0.9939\n",
      "Epoch 78/100\n",
      "56/56 - 11s - loss: 0.0128 - accuracy: 0.9944\n",
      "Epoch 79/100\n",
      "56/56 - 11s - loss: 0.0106 - accuracy: 0.9955\n",
      "Epoch 80/100\n",
      "56/56 - 11s - loss: 0.0106 - accuracy: 0.9967\n",
      "Epoch 81/100\n",
      "56/56 - 11s - loss: 0.0101 - accuracy: 0.9955\n",
      "Epoch 82/100\n",
      "56/56 - 11s - loss: 0.0087 - accuracy: 0.9955\n",
      "Epoch 83/100\n",
      "56/56 - 11s - loss: 0.0091 - accuracy: 0.9944\n",
      "Epoch 84/100\n",
      "56/56 - 11s - loss: 0.0065 - accuracy: 0.9972\n",
      "Epoch 85/100\n",
      "56/56 - 11s - loss: 0.0065 - accuracy: 0.9983\n",
      "Epoch 86/100\n",
      "56/56 - 11s - loss: 0.0081 - accuracy: 0.9983\n",
      "Epoch 87/100\n",
      "56/56 - 11s - loss: 0.0069 - accuracy: 0.9967\n",
      "Epoch 88/100\n",
      "56/56 - 11s - loss: 0.0050 - accuracy: 0.9989\n",
      "Epoch 89/100\n",
      "56/56 - 11s - loss: 0.0045 - accuracy: 0.9983\n",
      "Epoch 90/100\n",
      "56/56 - 11s - loss: 0.0047 - accuracy: 0.9972\n",
      "Epoch 91/100\n",
      "56/56 - 11s - loss: 0.0038 - accuracy: 0.9989\n",
      "Epoch 92/100\n",
      "56/56 - 11s - loss: 0.0048 - accuracy: 0.9972\n",
      "Epoch 93/100\n",
      "56/56 - 11s - loss: 0.0038 - accuracy: 0.9983\n",
      "Epoch 94/100\n",
      "56/56 - 11s - loss: 0.0032 - accuracy: 0.9994\n",
      "Epoch 95/100\n",
      "56/56 - 11s - loss: 0.0044 - accuracy: 0.9983\n",
      "Epoch 96/100\n",
      "56/56 - 11s - loss: 0.0024 - accuracy: 0.9989\n",
      "Epoch 97/100\n",
      "56/56 - 11s - loss: 0.1711 - accuracy: 0.9336\n",
      "Epoch 98/100\n",
      "56/56 - 11s - loss: 0.0609 - accuracy: 0.9704\n",
      "Epoch 99/100\n",
      "56/56 - 11s - loss: 0.0178 - accuracy: 0.9950\n",
      "Epoch 100/100\n",
      "56/56 - 11s - loss: 0.0116 - accuracy: 0.9961\n",
      "15/15 - 1s\n",
      "Normalized confusion matrix\n",
      "                 precision    recall  f1-score   support\n",
      "\n",
      "air conditioner       1.00      0.87      0.93        23\n",
      "       computer       0.95      0.97      0.96       136\n",
      "         fridge       0.98      0.95      0.96       260\n",
      "     television       0.76      0.93      0.84        30\n",
      "\n",
      "       accuracy                           0.95       449\n",
      "      macro avg       0.92      0.93      0.92       449\n",
      "   weighted avg       0.95      0.95      0.95       449\n",
      "\n"
     ]
    },
    {
     "name": "stderr",
     "output_type": "stream",
     "text": [
      "2022-02-15 10:55:52.628343: W tensorflow/python/util/util.cc:348] Sets are not currently considered sequences, but this may change in the future, so consider avoiding using them.\n"
     ]
    },
    {
     "name": "stdout",
     "output_type": "stream",
     "text": [
      "INFO:tensorflow:Assets written to: /workspace/notebooks/models/VGG/iawe_12/assets\n"
     ]
    },
    {
     "data": {
      "image/png": "[encoded data removed]",
      "text/plain": [
       "<Figure size 720x720 with 2 Axes>"
      ]
     },
     "metadata": {
      "needs_background": "light"
     },
     "output_type": "display_data"
    }
   ],
   "source": [
    "# %%capture cap --no-stderr\n",
    "\n",
    "\n",
    "if environ['train_type'] == \"BB\":\n",
    "\n",
    "    #define generator\n",
    "    train_gen = HDF5ImageGenerator(\n",
    "        src= path_data,\n",
    "        X_key=\"data/train/gaf\",\n",
    "        y_key=\"labels/train/gaf\",\n",
    "        classes_key=\"appliances/classes\",\n",
    "        labels_encoding=\"hot\",\n",
    "        shuffle=True,\n",
    "        batch_size=int(environ['batch_size']),\n",
    "        num_classes=num_of_classes,\n",
    "        mode=\"train\",\n",
    "        )\n",
    "    \n",
    "    model = select_model(environ['learn_type'])\n",
    "    \n",
    "    txt_log.write(\"fitting BB model: \\n\")\n",
    "    \n",
    "    model.fit(\n",
    "        train_gen,\n",
    "        verbose=2,\n",
    "        epochs=int(environ['epochs']),\n",
    "        class_weight=d_class_weights,\n",
    "        callbacks = [save_op_callback],\n",
    "    )\n",
    "    \n",
    "    txt_log.write(\"finished fitting BB model: \\n\")\n",
    "\n",
    "    evaluate_model(model,x_test,y_test,appliances)\n",
    "    \n",
    "    if environ['save_model']==\"True\":\n",
    "\n",
    "        path_model_save = path+\"/models/\"+environ['learn_type']+\"/\"+dataset.split(\"_\")[0]+\"_\"+dataset.split(\"_R\")[1][0:2]\n",
    "        model.save(path_model_save)\n",
    "        txt_log.write(\"model saved to:\"+\"/models/\"+environ['learn_type']+\"/\"+dataset.split(\"_\")[0]+\"_\"+dataset.split(\"_R\")[1][0:2]+\" \\n\")\n",
    "        \n",
    "        \n",
    "# with open(path_save+\"_out_log.txt\" as f:\n",
    "#     f.write(cap.stdout)\n"
   ]
  },
  {
   "cell_type": "code",
   "execution_count": 13,
   "metadata": {
    "collapsed": true,
    "execution": {
     "iopub.execute_input": "2022-02-15T10:55:57.039040Z",
     "iopub.status.busy": "2022-02-15T10:55:57.037733Z",
     "iopub.status.idle": "2022-02-15T10:55:57.040455Z",
     "shell.execute_reply": "2022-02-15T10:55:57.041534Z"
    }
   },
   "outputs": [],
   "source": [
    "#model = keras.models.load_model(path_model1)\n",
    "# model_used = model"
   ]
  },
  {
   "cell_type": "code",
   "execution_count": 14,
   "metadata": {
    "collapsed": true,
    "execution": {
     "iopub.execute_input": "2022-02-15T10:55:57.047377Z",
     "iopub.status.busy": "2022-02-15T10:55:57.045988Z",
     "iopub.status.idle": "2022-02-15T10:55:57.049815Z",
     "shell.execute_reply": "2022-02-15T10:55:57.048715Z"
    },
    "jupyter": {
     "outputs_hidden": true
    },
    "tags": []
   },
   "outputs": [],
   "source": [
    "# evaluate_model(model,x_test,y_test,appliances)"
   ]
  },
  {
   "cell_type": "code",
   "execution_count": 15,
   "metadata": {
    "collapsed": true,
    "execution": {
     "iopub.execute_input": "2022-02-15T10:55:57.067517Z",
     "iopub.status.busy": "2022-02-15T10:55:57.066162Z",
     "iopub.status.idle": "2022-02-15T10:55:57.068917Z",
     "shell.execute_reply": "2022-02-15T10:55:57.069963Z"
    }
   },
   "outputs": [],
   "source": [
    "# datasets =[\n",
    "#     \"ukdale_gen_GASF_13m_100S5X12A54480_R82_80-20\"\n",
    "# ]\n",
    "\n",
    "if environ['train_type'] == \"TL\": \n",
    "    models = environ['tl_datasets'].replace(\" \",\"\").split(\",\")\n",
    "    #model = [\"base\"]\n",
    "    \n",
    "    for model in models:\n",
    "    \n",
    "        file_name = dataset\n",
    "        \n",
    "        datasetTL = model\n",
    "        \n",
    "        seed = dataset.split(\"_R\")[1][0:2]\n",
    "        \n",
    "        print(\"using dataset data\",dataset.split(\"_\")[0],\"training on model\",model,\"seed\",environ['seed'])\n",
    "        txt_log.write(\"starting \"+dataset.split(\"_\")[0]+\" training on model \"+model+\" seed \"+environ['seed']+\"\\n\")\n",
    "\n",
    "\n",
    "        tf.keras.backend.clear_session()\n",
    "\n",
    "\n",
    "        #read the file\n",
    "        path = str(pathlib.Path().resolve())\n",
    "        path_data = f\"{path}\"\"/data/\"f\"{file_name}\"\"/\"f\"{file_name}\"\".hdf5\"\n",
    "        file = h5py.File(path_data,\"r+\")\n",
    "\n",
    "\n",
    "        print(\"reading data, printing stats: \")\n",
    "        x_test,y_test,d_class_weights,num_of_classes,appliances = get_data(file)\n",
    "        print(\"loading model\")\n",
    "        \n",
    "        model_seed = 42\n",
    "        model_used = create_tl_model(model,environ['learn_type'],model_seed,path,num_of_classes)\n",
    "                \n",
    "        train_gen = HDF5ImageGenerator(\n",
    "            src= path_data,\n",
    "            X_key=\"data/train/gaf\",\n",
    "            y_key=\"labels/train/gaf\",\n",
    "            classes_key=\"appliances/classes\",\n",
    "            labels_encoding=\"hot\",\n",
    "            shuffle=True,\n",
    "            batch_size=int(environ['batch_size']),\n",
    "            num_classes=num_of_classes,\n",
    "            mode=\"train\",\n",
    "            )\n",
    "\n",
    "        model_used.fit(\n",
    "            train_gen,\n",
    "            verbose=2,\n",
    "            epochs=int(environ['epochs']),\n",
    "            class_weight=d_class_weights,\n",
    "            callbacks = [save_op_callback]\n",
    "            #workers = 6,\n",
    "        )\n",
    "        \n",
    "        txt_log.write(\"finished \"+dataset.split(\"_\")[0]+\" training on model \"+model+\" seed \"+environ['seed']+\"\\n\")\n",
    "\n",
    "\n",
    "        evaluate_model(model_used,x_test,y_test,appliances)\n",
    "        \n",
    "\n",
    "\n",
    "\n",
    "        #del model_used\n",
    "\n"
   ]
  },
  {
   "cell_type": "code",
   "execution_count": 16,
   "metadata": {
    "execution": {
     "iopub.execute_input": "2022-02-15T10:55:57.075930Z",
     "iopub.status.busy": "2022-02-15T10:55:57.074669Z",
     "iopub.status.idle": "2022-02-15T10:55:57.077472Z",
     "shell.execute_reply": "2022-02-15T10:55:57.078486Z"
    }
   },
   "outputs": [],
   "source": [
    "txt_log.close()"
   ]
  },
  {
   "cell_type": "code",
   "execution_count": null,
   "metadata": {},
   "outputs": [],
   "source": []
  }
 ],
 "metadata": {
  "colab": {
   "authorship_tag": "ABX9TyMej4PvP65qsLng7TnQKWA4",
   "name": "LSTM-gen",
   "provenance": []
  },
  "kernelspec": {
   "display_name": "Python 3",
   "language": "python",
   "name": "python3"
  },
  "language_info": {
   "codemirror_mode": {
    "name": "ipython",
    "version": 3
   },
   "file_extension": ".py",
   "mimetype": "text/x-python",
   "name": "python",
   "nbconvert_exporter": "python",
   "pygments_lexer": "ipython3",
   "version": "3.7.8"
  }
 },
 "nbformat": 4,
 "nbformat_minor": 4
}
