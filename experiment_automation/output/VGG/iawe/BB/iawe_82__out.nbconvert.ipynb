{
 "cells": [
  {
   "cell_type": "code",
   "execution_count": 1,
   "metadata": {
    "execution": {
     "iopub.execute_input": "2022-02-15T11:15:42.830894Z",
     "iopub.status.busy": "2022-02-15T11:15:42.829492Z",
     "iopub.status.idle": "2022-02-15T11:15:44.531384Z",
     "shell.execute_reply": "2022-02-15T11:15:44.531736Z"
    },
    "id": "WqUfHWgtJxtu",
    "scrolled": true,
    "tags": []
   },
   "outputs": [
    {
     "name": "stderr",
     "output_type": "stream",
     "text": [
      "2022-02-15 11:15:43.650866: I tensorflow/stream_executor/platform/default/dso_loader.cc:54] Successfully opened dynamic library libcudart.so.11.0\n"
     ]
    },
    {
     "name": "stdout",
     "output_type": "stream",
     "text": [
      "2.5.0\n",
      "Num GPUs Available:  1\n"
     ]
    },
    {
     "name": "stderr",
     "output_type": "stream",
     "text": [
      "2022-02-15 11:15:44.466695: I tensorflow/stream_executor/platform/default/dso_loader.cc:54] Successfully opened dynamic library libcuda.so.1\n",
      "2022-02-15 11:15:44.515990: I tensorflow/core/common_runtime/gpu/gpu_device.cc:1734] Found device 0 with properties: \n",
      "pciBusID: 0000:21:00.0 name: NVIDIA GeForce RTX 2080 Ti computeCapability: 7.5\n",
      "coreClock: 1.545GHz coreCount: 68 deviceMemorySize: 10.76GiB deviceMemoryBandwidth: 573.69GiB/s\n",
      "2022-02-15 11:15:44.516036: I tensorflow/stream_executor/platform/default/dso_loader.cc:54] Successfully opened dynamic library libcudart.so.11.0\n",
      "2022-02-15 11:15:44.519488: I tensorflow/stream_executor/platform/default/dso_loader.cc:54] Successfully opened dynamic library libcublas.so.11\n",
      "2022-02-15 11:15:44.519545: I tensorflow/stream_executor/platform/default/dso_loader.cc:54] Successfully opened dynamic library libcublasLt.so.11\n",
      "2022-02-15 11:15:44.521101: I tensorflow/stream_executor/platform/default/dso_loader.cc:54] Successfully opened dynamic library libcufft.so.10\n",
      "2022-02-15 11:15:44.521405: I tensorflow/stream_executor/platform/default/dso_loader.cc:54] Successfully opened dynamic library libcurand.so.10\n",
      "2022-02-15 11:15:44.522059: I tensorflow/stream_executor/platform/default/dso_loader.cc:54] Successfully opened dynamic library libcutensor.so.1\n",
      "2022-02-15 11:15:44.522554: I tensorflow/stream_executor/platform/default/dso_loader.cc:54] Successfully opened dynamic library libcusolver.so.11\n",
      "2022-02-15 11:15:44.523331: I tensorflow/stream_executor/platform/default/dso_loader.cc:54] Successfully opened dynamic library libcusparse.so.11\n",
      "2022-02-15 11:15:44.523462: I tensorflow/stream_executor/platform/default/dso_loader.cc:54] Successfully opened dynamic library libcudnn.so.8\n",
      "2022-02-15 11:15:44.523834: I tensorflow/core/common_runtime/gpu/gpu_device.cc:1872] Adding visible gpu devices: 0\n"
     ]
    }
   ],
   "source": [
    "import h5py\n",
    "import numpy as np\n",
    "\n",
    "from sklearn.model_selection import train_test_split\n",
    "from sklearn.metrics import classification_report, confusion_matrix\n",
    "import matplotlib.pyplot as plt\n",
    "import itertools \n",
    "import pyts\n",
    "from pyts.approximation import PiecewiseAggregateApproximation\n",
    "\n",
    "from sklearn.utils import class_weight\n",
    "\n",
    "import pathlib\n",
    "import tensorflow as tf\n",
    "from tensorflow import keras\n",
    "from tensorflow.keras import layers, optimizers\n",
    "from tensorflow.keras.layers import Convolution2D,Conv2D, Dense,Dropout, Flatten, Activation, MaxPooling2D, Input, Conv1D, GlobalAveragePooling1D, TimeDistributed, GRU, LSTM\n",
    "\n",
    "print(tf.__version__)\n",
    "print(\"Num GPUs Available: \", len(tf.config.list_physical_devices('GPU')))\n",
    "gpus = tf.config.experimental.list_physical_devices('GPU')\n",
    "\n",
    "try:\n",
    "    for gpu in gpus:\n",
    "        tf.config.experimental.set_memory_growth(gpu, True)\n",
    "except RuntimeError as e:\n",
    "    print(e)"
   ]
  },
  {
   "cell_type": "code",
   "execution_count": 2,
   "metadata": {
    "execution": {
     "iopub.execute_input": "2022-02-15T11:15:44.538370Z",
     "iopub.status.busy": "2022-02-15T11:15:44.537839Z",
     "iopub.status.idle": "2022-02-15T11:15:44.541504Z",
     "shell.execute_reply": "2022-02-15T11:15:44.541942Z"
    }
   },
   "outputs": [
    {
     "name": "stdout",
     "output_type": "stream",
     "text": [
      "iawe_gen_GASF_60m_300S0X_R82_80-20\n"
     ]
    }
   ],
   "source": [
    "from os import environ\n",
    "dataset = environ['dataset']\n",
    "print(dataset)"
   ]
  },
  {
   "cell_type": "code",
   "execution_count": 3,
   "metadata": {
    "execution": {
     "iopub.execute_input": "2022-02-15T11:15:44.549819Z",
     "iopub.status.busy": "2022-02-15T11:15:44.549095Z",
     "iopub.status.idle": "2022-02-15T11:15:44.554759Z",
     "shell.execute_reply": "2022-02-15T11:15:44.555319Z"
    }
   },
   "outputs": [],
   "source": [
    "#my defs \n",
    "from modules.models import  VGG11,LSTM_3D_V56,CNN_V56,LSTM_BI_V56\n",
    "from modules.tools import my_print, plot_confusion_matrix_norm, get_data,get_data_split, evaluate_model, create_tl_model\n",
    "from modules.HDF5ImageGenerator import HDF5ImageGenerator"
   ]
  },
  {
   "cell_type": "code",
   "execution_count": 4,
   "metadata": {
    "execution": {
     "iopub.execute_input": "2022-02-15T11:15:44.564927Z",
     "iopub.status.busy": "2022-02-15T11:15:44.558950Z",
     "iopub.status.idle": "2022-02-15T11:15:44.568489Z",
     "shell.execute_reply": "2022-02-15T11:15:44.569427Z"
    },
    "id": "RT1vwq7-KOtB"
   },
   "outputs": [],
   "source": [
    "#LOAD DATASET\n",
    "#file_name = \"ukdale_gen_GASF_13m_100S5X12A54480\"\n",
    "#file_name = \"refit_gen_GASF_13m_100S5X_15A166006\"\n",
    "file_name = \"refit_gen_GASF_13m_100S5X_15A166006_R42-80-20\"\n",
    "#file_name = \"refit_gen_GASF_13m_100S5X_15A166006_R42_80-20\"\n",
    "file_name = \"refit_gen_GASF_60m_300S0X_15A157030N_R12_80-20-V1\"\n",
    "file_name = environ[\"dataset\"]\n",
    "#read the file\n",
    "path = str(pathlib.Path().resolve())\n",
    "\n",
    "path_data = f\"{path}\"\"/data/\"f\"{file_name}\"\"/\"f\"{file_name}\"\".hdf5\"\n",
    "\n",
    "file = h5py.File(path_data,\"r+\")"
   ]
  },
  {
   "cell_type": "code",
   "execution_count": 5,
   "metadata": {
    "execution": {
     "iopub.execute_input": "2022-02-15T11:15:44.577170Z",
     "iopub.status.busy": "2022-02-15T11:15:44.575958Z",
     "iopub.status.idle": "2022-02-15T11:15:44.700341Z",
     "shell.execute_reply": "2022-02-15T11:15:44.701434Z"
    },
    "scrolled": true
   },
   "outputs": [
    {
     "name": "stdout",
     "output_type": "stream",
     "text": [
      "['air conditioner', 'computer', 'fridge', 'television']\n",
      "{0: 4.76595744680851, 1: 0.8265682656826568, 2: 0.43118383060635224, 3: 3.8290598290598292}\n",
      " \n",
      "Tests \n",
      "air conditioner test: 23 train: 94\n",
      "computer test: 136 train: 542\n",
      "fridge test: 260 train: 1039\n",
      "television test: 30 train: 117\n"
     ]
    }
   ],
   "source": [
    "x_test,y_test,d_class_weights,num_of_classes,appliances = get_data(file)"
   ]
  },
  {
   "cell_type": "code",
   "execution_count": 6,
   "metadata": {
    "execution": {
     "iopub.execute_input": "2022-02-15T11:15:44.709255Z",
     "iopub.status.busy": "2022-02-15T11:15:44.707816Z",
     "iopub.status.idle": "2022-02-15T11:15:44.711623Z",
     "shell.execute_reply": "2022-02-15T11:15:44.710546Z"
    }
   },
   "outputs": [],
   "source": [
    "def select_model(learn_type):\n",
    "    \n",
    "    if learn_type == \"CNN\":\n",
    "        model = CNN_V56(file[\"data/train/gaf\"][0:10],num_of_classes,lr= 0.00002)\n",
    "\n",
    "    if learn_type == \"LSTM\":\n",
    "        model = LSTM_3D_V56(file[\"data/train/gaf\"][0:10],num_of_classes,lr= 0.00002)\n",
    "\n",
    "    if learn_type == \"BI_LSTM\":\n",
    "        model = LSTM_BI_V56(file[\"data/train/gaf\"][0:10],num_of_classes,lr= 0.00002)\n",
    "        \n",
    "    if learn_type == \"VGG\":\n",
    "        model = VGG11(file[\"data/train/gaf\"][0:10],num_of_classes,lr= 0.00001)\n",
    "\n",
    "    return model\n",
    "              "
   ]
  },
  {
   "cell_type": "code",
   "execution_count": 7,
   "metadata": {
    "execution": {
     "iopub.execute_input": "2022-02-15T11:15:44.718456Z",
     "iopub.status.busy": "2022-02-15T11:15:44.717180Z",
     "iopub.status.idle": "2022-02-15T11:15:44.719826Z",
     "shell.execute_reply": "2022-02-15T11:15:44.721030Z"
    }
   },
   "outputs": [],
   "source": [
    "path_save = path+'/experiment_automation/output/'+environ['learn_type']+'/'+dataset.split(\"_\")[0]+\"/\"+environ['train_type']+\"/\"+dataset.split(\"_\")[0]+\"_\"+environ['seed']+\"_\"+environ['tl_datasets']\n",
    "path_save_nb = path_save+\"_out.ipynb\"\n",
    "path_save_log = path_save+\"_out_log2.txt\""
   ]
  },
  {
   "cell_type": "code",
   "execution_count": 8,
   "metadata": {
    "execution": {
     "iopub.execute_input": "2022-02-15T11:15:44.729498Z",
     "iopub.status.busy": "2022-02-15T11:15:44.728204Z",
     "iopub.status.idle": "2022-02-15T11:15:44.816753Z",
     "shell.execute_reply": "2022-02-15T11:15:44.815626Z"
    }
   },
   "outputs": [],
   "source": [
    "from keras.callbacks import LambdaCallback\n",
    "#path_log= path+'/experiment_automation/output/'+environ['learn_type']+'/'+dataset.split(\"_\")[0]+\"/\"+environ['train_type']+\"/\"+dataset.split(\"_\")[0]+\"_\"+environ['seed']+\"_\"+environ['tl_datasets']+\"_log.txt\"\n",
    "txt_log = open(path_save+\"_log.txt\", mode='wt', buffering=1)\n",
    "txt_log.write(\"file created! \\n\")\n",
    "\n",
    "save_op_callback = LambdaCallback(\n",
    "  on_epoch_end = lambda epoch, logs: txt_log.write(\n",
    "    str({'epoch': epoch, 'loss': logs['loss'],'acc': logs['accuracy']}) + '\\n'),\n",
    "                                                           \n",
    ")"
   ]
  },
  {
   "cell_type": "code",
   "execution_count": 9,
   "metadata": {
    "execution": {
     "iopub.execute_input": "2022-02-15T11:15:44.822705Z",
     "iopub.status.busy": "2022-02-15T11:15:44.821435Z",
     "iopub.status.idle": "2022-02-15T11:15:44.826796Z",
     "shell.execute_reply": "2022-02-15T11:15:44.825682Z"
    }
   },
   "outputs": [
    {
     "name": "stdout",
     "output_type": "stream",
     "text": [
      "/workspace/notebooks/experiment_automation/output/VGG/iawe/BB/iawe_82__out.ipynb\n"
     ]
    }
   ],
   "source": [
    "print(path_save_nb)"
   ]
  },
  {
   "cell_type": "code",
   "execution_count": 10,
   "metadata": {
    "execution": {
     "iopub.execute_input": "2022-02-15T11:15:44.831960Z",
     "iopub.status.busy": "2022-02-15T11:15:44.830874Z",
     "iopub.status.idle": "2022-02-15T11:15:44.833160Z",
     "shell.execute_reply": "2022-02-15T11:15:44.834061Z"
    }
   },
   "outputs": [],
   "source": [
    "# rm $path_save_log"
   ]
  },
  {
   "cell_type": "code",
   "execution_count": 11,
   "metadata": {
    "execution": {
     "iopub.execute_input": "2022-02-15T11:15:44.839382Z",
     "iopub.status.busy": "2022-02-15T11:15:44.838323Z",
     "iopub.status.idle": "2022-02-15T11:15:44.840489Z",
     "shell.execute_reply": "2022-02-15T11:15:44.841343Z"
    }
   },
   "outputs": [],
   "source": [
    "# %%capture cap \n",
    "\n",
    "# with open(path_save_log,\"wt\") as f:\n",
    "#     f.write(cap.stdout)\n",
    "    \n",
    "# print(\"out capture..\")"
   ]
  },
  {
   "cell_type": "code",
   "execution_count": 12,
   "metadata": {
    "execution": {
     "iopub.execute_input": "2022-02-15T11:15:44.857365Z",
     "iopub.status.busy": "2022-02-15T11:15:44.856011Z",
     "iopub.status.idle": "2022-02-15T11:35:10.285509Z",
     "shell.execute_reply": "2022-02-15T11:35:10.285848Z"
    },
    "id": "vqA9NwOqKrb5",
    "jupyter": {
     "outputs_hidden": true
    },
    "tags": []
   },
   "outputs": [
    {
     "name": "stdout",
     "output_type": "stream",
     "text": [
      "Normal way\n",
      "[0 1 2 3 4 5 6 7 8 9]\n",
      "WARNING:tensorflow:From /usr/local/lib/python3.8/dist-packages/tensorflow/python/ops/array_ops.py:5043: calling gather (from tensorflow.python.ops.array_ops) with validate_indices is deprecated and will be removed in a future version.\n",
      "Instructions for updating:\n",
      "The `validate_indices` argument has no effect. Indices are always validated on CPU and never validated on GPU.\n"
     ]
    },
    {
     "name": "stderr",
     "output_type": "stream",
     "text": [
      "2022-02-15 11:15:44.877141: I tensorflow/core/common_runtime/gpu/gpu_device.cc:1734] Found device 0 with properties: \n",
      "pciBusID: 0000:21:00.0 name: NVIDIA GeForce RTX 2080 Ti computeCapability: 7.5\n",
      "coreClock: 1.545GHz coreCount: 68 deviceMemorySize: 10.76GiB deviceMemoryBandwidth: 573.69GiB/s\n",
      "2022-02-15 11:15:44.877478: I tensorflow/core/common_runtime/gpu/gpu_device.cc:1872] Adding visible gpu devices: 0\n",
      "2022-02-15 11:15:44.877528: I tensorflow/stream_executor/platform/default/dso_loader.cc:54] Successfully opened dynamic library libcudart.so.11.0\n",
      "2022-02-15 11:15:45.242881: I tensorflow/core/common_runtime/gpu/gpu_device.cc:1258] Device interconnect StreamExecutor with strength 1 edge matrix:\n",
      "2022-02-15 11:15:45.242917: I tensorflow/core/common_runtime/gpu/gpu_device.cc:1264]      0 \n",
      "2022-02-15 11:15:45.242924: I tensorflow/core/common_runtime/gpu/gpu_device.cc:1277] 0:   N \n",
      "2022-02-15 11:15:45.243480: I tensorflow/core/common_runtime/gpu/gpu_device.cc:1418] Created TensorFlow device (/job:localhost/replica:0/task:0/device:GPU:0 with 9649 MB memory) -> physical GPU (device: 0, name: NVIDIA GeForce RTX 2080 Ti, pci bus id: 0000:21:00.0, compute capability: 7.5)\n",
      "2022-02-15 11:15:45.243803: I tensorflow/core/common_runtime/process_util.cc:146] Creating new thread pool with default inter op setting: 20. Tune using inter_op_parallelism_threads for best performance.\n",
      "/usr/local/lib/python3.8/dist-packages/tensorflow/python/keras/optimizer_v2/optimizer_v2.py:374: UserWarning: The `lr` argument is deprecated, use `learning_rate` instead.\n",
      "  warnings.warn(\n",
      "2022-02-15 11:15:45.410345: I tensorflow/compiler/mlir/mlir_graph_optimization_pass.cc:176] None of the MLIR Optimization Passes are enabled (registered 2)\n",
      "2022-02-15 11:15:45.410951: I tensorflow/core/platform/profile_utils/cpu_utils.cc:114] CPU Frequency: 3299990000 Hz\n"
     ]
    },
    {
     "name": "stdout",
     "output_type": "stream",
     "text": [
      "Epoch 1/100\n"
     ]
    },
    {
     "name": "stderr",
     "output_type": "stream",
     "text": [
      "2022-02-15 11:15:46.023974: I tensorflow/stream_executor/platform/default/dso_loader.cc:54] Successfully opened dynamic library libcudnn.so.8\n",
      "2022-02-15 11:15:46.525246: I tensorflow/stream_executor/cuda/cuda_dnn.cc:380] Loaded cuDNN version 8202\n",
      "2022-02-15 11:15:47.035575: I tensorflow/stream_executor/platform/default/dso_loader.cc:54] Successfully opened dynamic library libcublas.so.11\n",
      "2022-02-15 11:15:47.451732: I tensorflow/stream_executor/platform/default/dso_loader.cc:54] Successfully opened dynamic library libcublasLt.so.11\n"
     ]
    },
    {
     "name": "stdout",
     "output_type": "stream",
     "text": [
      "56/56 - 16s - loss: 2.1299 - accuracy: 0.1217\n",
      "Epoch 2/100\n",
      "56/56 - 11s - loss: 1.6340 - accuracy: 0.1311\n",
      "Epoch 3/100\n",
      "56/56 - 11s - loss: 1.4899 - accuracy: 0.1384\n",
      "Epoch 4/100\n",
      "56/56 - 11s - loss: 1.4037 - accuracy: 0.1239\n",
      "Epoch 5/100\n",
      "56/56 - 12s - loss: 1.1003 - accuracy: 0.2059\n",
      "Epoch 6/100\n",
      "56/56 - 12s - loss: 1.1653 - accuracy: 0.2327\n",
      "Epoch 7/100\n",
      "56/56 - 12s - loss: 1.1312 - accuracy: 0.3348\n",
      "Epoch 8/100\n",
      "56/56 - 12s - loss: 1.3438 - accuracy: 0.1423\n",
      "Epoch 9/100\n",
      "56/56 - 12s - loss: 1.0831 - accuracy: 0.2874\n",
      "Epoch 10/100\n",
      "56/56 - 12s - loss: 0.9987 - accuracy: 0.4766\n",
      "Epoch 11/100\n",
      "56/56 - 12s - loss: 0.9794 - accuracy: 0.4615\n",
      "Epoch 12/100\n",
      "56/56 - 12s - loss: 1.0231 - accuracy: 0.4911\n",
      "Epoch 13/100\n",
      "56/56 - 12s - loss: 0.9487 - accuracy: 0.5910\n",
      "Epoch 14/100\n",
      "56/56 - 12s - loss: 0.8485 - accuracy: 0.5954\n",
      "Epoch 15/100\n",
      "56/56 - 12s - loss: 1.4109 - accuracy: 0.2796\n",
      "Epoch 16/100\n",
      "56/56 - 12s - loss: 1.0765 - accuracy: 0.3198\n",
      "Epoch 17/100\n",
      "56/56 - 12s - loss: 0.9986 - accuracy: 0.4766\n",
      "Epoch 18/100\n",
      "56/56 - 12s - loss: 0.8870 - accuracy: 0.6110\n",
      "Epoch 19/100\n",
      "56/56 - 11s - loss: 1.0051 - accuracy: 0.5798\n",
      "Epoch 20/100\n",
      "56/56 - 12s - loss: 0.7759 - accuracy: 0.7026\n",
      "Epoch 21/100\n",
      "56/56 - 11s - loss: 0.6016 - accuracy: 0.7400\n",
      "Epoch 22/100\n",
      "56/56 - 11s - loss: 0.4859 - accuracy: 0.8142\n",
      "Epoch 23/100\n",
      "56/56 - 11s - loss: 0.8692 - accuracy: 0.6501\n",
      "Epoch 24/100\n",
      "56/56 - 12s - loss: 0.7613 - accuracy: 0.6077\n",
      "Epoch 25/100\n",
      "56/56 - 12s - loss: 0.7820 - accuracy: 0.5530\n",
      "Epoch 26/100\n",
      "56/56 - 11s - loss: 0.5616 - accuracy: 0.7377\n",
      "Epoch 27/100\n",
      "56/56 - 11s - loss: 0.4881 - accuracy: 0.7667\n",
      "Epoch 28/100\n",
      "56/56 - 12s - loss: 0.4159 - accuracy: 0.8795\n",
      "Epoch 29/100\n",
      "56/56 - 11s - loss: 0.3413 - accuracy: 0.8901\n",
      "Epoch 30/100\n",
      "56/56 - 11s - loss: 0.3247 - accuracy: 0.8890\n",
      "Epoch 31/100\n",
      "56/56 - 12s - loss: 0.3848 - accuracy: 0.7863\n",
      "Epoch 32/100\n",
      "56/56 - 11s - loss: 0.6047 - accuracy: 0.6987\n",
      "Epoch 33/100\n",
      "56/56 - 11s - loss: 0.3257 - accuracy: 0.8968\n",
      "Epoch 34/100\n",
      "56/56 - 12s - loss: 0.2344 - accuracy: 0.9185\n",
      "Epoch 35/100\n",
      "56/56 - 11s - loss: 0.2903 - accuracy: 0.8605\n",
      "Epoch 36/100\n",
      "56/56 - 12s - loss: 0.3615 - accuracy: 0.8845\n",
      "Epoch 37/100\n",
      "56/56 - 12s - loss: 0.2766 - accuracy: 0.9135\n",
      "Epoch 38/100\n",
      "56/56 - 12s - loss: 0.3944 - accuracy: 0.8013\n",
      "Epoch 39/100\n",
      "56/56 - 12s - loss: 0.2570 - accuracy: 0.9152\n",
      "Epoch 40/100\n",
      "56/56 - 12s - loss: 0.2252 - accuracy: 0.9035\n",
      "Epoch 41/100\n",
      "56/56 - 12s - loss: 0.2121 - accuracy: 0.9308\n",
      "Epoch 42/100\n",
      "56/56 - 11s - loss: 0.1746 - accuracy: 0.9174\n",
      "Epoch 43/100\n",
      "56/56 - 11s - loss: 0.1202 - accuracy: 0.9487\n",
      "Epoch 44/100\n",
      "56/56 - 12s - loss: 0.1012 - accuracy: 0.9548\n",
      "Epoch 45/100\n",
      "56/56 - 11s - loss: 0.1799 - accuracy: 0.9369\n",
      "Epoch 46/100\n",
      "56/56 - 11s - loss: 0.0973 - accuracy: 0.9615\n",
      "Epoch 47/100\n",
      "56/56 - 12s - loss: 0.1812 - accuracy: 0.8962\n",
      "Epoch 48/100\n",
      "56/56 - 11s - loss: 0.0999 - accuracy: 0.9604\n",
      "Epoch 49/100\n",
      "56/56 - 12s - loss: 0.0748 - accuracy: 0.9693\n",
      "Epoch 50/100\n",
      "56/56 - 11s - loss: 0.0651 - accuracy: 0.9721\n",
      "Epoch 51/100\n",
      "56/56 - 11s - loss: 0.0561 - accuracy: 0.9766\n",
      "Epoch 52/100\n",
      "56/56 - 12s - loss: 0.0530 - accuracy: 0.9782\n",
      "Epoch 53/100\n",
      "56/56 - 11s - loss: 0.0510 - accuracy: 0.9766\n",
      "Epoch 54/100\n",
      "56/56 - 11s - loss: 0.0386 - accuracy: 0.9827\n",
      "Epoch 55/100\n",
      "56/56 - 12s - loss: 0.0364 - accuracy: 0.9844\n",
      "Epoch 56/100\n",
      "56/56 - 12s - loss: 0.0378 - accuracy: 0.9821\n",
      "Epoch 57/100\n",
      "56/56 - 12s - loss: 0.0320 - accuracy: 0.9860\n",
      "Epoch 58/100\n",
      "56/56 - 11s - loss: 0.0287 - accuracy: 0.9866\n",
      "Epoch 59/100\n",
      "56/56 - 12s - loss: 0.0242 - accuracy: 0.9916\n",
      "Epoch 60/100\n",
      "56/56 - 12s - loss: 0.0260 - accuracy: 0.9900\n",
      "Epoch 61/100\n",
      "56/56 - 11s - loss: 0.0248 - accuracy: 0.9872\n",
      "Epoch 62/100\n",
      "56/56 - 12s - loss: 0.0650 - accuracy: 0.9704\n",
      "Epoch 63/100\n",
      "56/56 - 11s - loss: 0.1007 - accuracy: 0.9581\n",
      "Epoch 64/100\n",
      "56/56 - 11s - loss: 0.0324 - accuracy: 0.9872\n",
      "Epoch 65/100\n",
      "56/56 - 12s - loss: 0.0225 - accuracy: 0.9900\n",
      "Epoch 66/100\n",
      "56/56 - 11s - loss: 0.0181 - accuracy: 0.9939\n",
      "Epoch 67/100\n",
      "56/56 - 12s - loss: 0.0835 - accuracy: 0.9531\n",
      "Epoch 68/100\n",
      "56/56 - 11s - loss: 0.0322 - accuracy: 0.9849\n",
      "Epoch 69/100\n",
      "56/56 - 12s - loss: 0.0230 - accuracy: 0.9911\n",
      "Epoch 70/100\n",
      "56/56 - 11s - loss: 0.0185 - accuracy: 0.9916\n",
      "Epoch 71/100\n",
      "56/56 - 11s - loss: 0.0140 - accuracy: 0.9944\n",
      "Epoch 72/100\n",
      "56/56 - 12s - loss: 0.0122 - accuracy: 0.9955\n",
      "Epoch 73/100\n",
      "56/56 - 11s - loss: 0.0105 - accuracy: 0.9961\n",
      "Epoch 74/100\n",
      "56/56 - 12s - loss: 0.0127 - accuracy: 0.9955\n",
      "Epoch 75/100\n",
      "56/56 - 11s - loss: 0.0088 - accuracy: 0.9967\n",
      "Epoch 76/100\n",
      "56/56 - 11s - loss: 0.0095 - accuracy: 0.9961\n",
      "Epoch 77/100\n",
      "56/56 - 12s - loss: 0.0095 - accuracy: 0.9961\n",
      "Epoch 78/100\n",
      "56/56 - 12s - loss: 0.0151 - accuracy: 0.9922\n",
      "Epoch 79/100\n",
      "56/56 - 12s - loss: 0.0201 - accuracy: 0.9922\n",
      "Epoch 80/100\n",
      "56/56 - 11s - loss: 0.0111 - accuracy: 0.9950\n",
      "Epoch 81/100\n",
      "56/56 - 12s - loss: 0.0087 - accuracy: 0.9950\n",
      "Epoch 82/100\n",
      "56/56 - 12s - loss: 0.0058 - accuracy: 0.9961\n",
      "Epoch 83/100\n",
      "56/56 - 11s - loss: 0.0054 - accuracy: 0.9983\n",
      "Epoch 84/100\n",
      "56/56 - 12s - loss: 0.0056 - accuracy: 0.9983\n",
      "Epoch 85/100\n",
      "56/56 - 12s - loss: 0.0043 - accuracy: 0.9978\n",
      "Epoch 86/100\n",
      "56/56 - 12s - loss: 0.0056 - accuracy: 0.9989\n",
      "Epoch 87/100\n",
      "56/56 - 11s - loss: 0.0042 - accuracy: 0.9989\n",
      "Epoch 88/100\n",
      "56/56 - 12s - loss: 0.0036 - accuracy: 0.9989\n",
      "Epoch 89/100\n",
      "56/56 - 11s - loss: 0.0033 - accuracy: 0.9983\n",
      "Epoch 90/100\n",
      "56/56 - 12s - loss: 0.0032 - accuracy: 0.9989\n",
      "Epoch 91/100\n",
      "56/56 - 12s - loss: 0.0172 - accuracy: 0.9933\n",
      "Epoch 92/100\n",
      "56/56 - 12s - loss: 0.0144 - accuracy: 0.9955\n",
      "Epoch 93/100\n",
      "56/56 - 11s - loss: 0.0054 - accuracy: 0.9983\n",
      "Epoch 94/100\n",
      "56/56 - 12s - loss: 0.0039 - accuracy: 0.9983\n",
      "Epoch 95/100\n",
      "56/56 - 11s - loss: 0.0035 - accuracy: 0.9983\n",
      "Epoch 96/100\n",
      "56/56 - 12s - loss: 0.0026 - accuracy: 0.9989\n",
      "Epoch 97/100\n",
      "56/56 - 12s - loss: 0.0044 - accuracy: 0.9972\n",
      "Epoch 98/100\n",
      "56/56 - 12s - loss: 0.0049 - accuracy: 0.9983\n",
      "Epoch 99/100\n",
      "56/56 - 12s - loss: 0.0027 - accuracy: 0.9994\n",
      "Epoch 100/100\n",
      "56/56 - 12s - loss: 0.0022 - accuracy: 0.9989\n",
      "15/15 - 1s\n",
      "Normalized confusion matrix\n",
      "                 precision    recall  f1-score   support\n",
      "\n",
      "air conditioner       1.00      0.83      0.90        23\n",
      "       computer       0.95      0.93      0.94       136\n",
      "         fridge       0.94      0.97      0.95       260\n",
      "     television       0.81      0.83      0.82        30\n",
      "\n",
      "       accuracy                           0.94       449\n",
      "      macro avg       0.93      0.89      0.91       449\n",
      "   weighted avg       0.94      0.94      0.94       449\n",
      "\n"
     ]
    },
    {
     "name": "stderr",
     "output_type": "stream",
     "text": [
      "2022-02-15 11:35:06.871413: W tensorflow/python/util/util.cc:348] Sets are not currently considered sequences, but this may change in the future, so consider avoiding using them.\n"
     ]
    },
    {
     "name": "stdout",
     "output_type": "stream",
     "text": [
      "INFO:tensorflow:Assets written to: /workspace/notebooks/models/VGG/iawe_82/assets\n"
     ]
    },
    {
     "data": {
      "image/png": "[encoded data removed]",
      "text/plain": [
       "<Figure size 720x720 with 2 Axes>"
      ]
     },
     "metadata": {
      "needs_background": "light"
     },
     "output_type": "display_data"
    }
   ],
   "source": [
    "# %%capture cap --no-stderr\n",
    "\n",
    "\n",
    "if environ['train_type'] == \"BB\":\n",
    "\n",
    "    #define generator\n",
    "    train_gen = HDF5ImageGenerator(\n",
    "        src= path_data,\n",
    "        X_key=\"data/train/gaf\",\n",
    "        y_key=\"labels/train/gaf\",\n",
    "        classes_key=\"appliances/classes\",\n",
    "        labels_encoding=\"hot\",\n",
    "        shuffle=True,\n",
    "        batch_size=int(environ['batch_size']),\n",
    "        num_classes=num_of_classes,\n",
    "        mode=\"train\",\n",
    "        )\n",
    "    \n",
    "    model = select_model(environ['learn_type'])\n",
    "    \n",
    "    txt_log.write(\"fitting BB model: \\n\")\n",
    "    \n",
    "    model.fit(\n",
    "        train_gen,\n",
    "        verbose=2,\n",
    "        epochs=int(environ['epochs']),\n",
    "        class_weight=d_class_weights,\n",
    "        callbacks = [save_op_callback],\n",
    "    )\n",
    "    \n",
    "    txt_log.write(\"finished fitting BB model: \\n\")\n",
    "\n",
    "    evaluate_model(model,x_test,y_test,appliances)\n",
    "    \n",
    "    if environ['save_model']==\"True\":\n",
    "\n",
    "        path_model_save = path+\"/models/\"+environ['learn_type']+\"/\"+dataset.split(\"_\")[0]+\"_\"+dataset.split(\"_R\")[1][0:2]\n",
    "        model.save(path_model_save)\n",
    "        txt_log.write(\"model saved to:\"+\"/models/\"+environ['learn_type']+\"/\"+dataset.split(\"_\")[0]+\"_\"+dataset.split(\"_R\")[1][0:2]+\" \\n\")\n",
    "        \n",
    "        \n",
    "# with open(path_save+\"_out_log.txt\" as f:\n",
    "#     f.write(cap.stdout)\n"
   ]
  },
  {
   "cell_type": "code",
   "execution_count": 13,
   "metadata": {
    "collapsed": true,
    "execution": {
     "iopub.execute_input": "2022-02-15T11:35:10.291113Z",
     "iopub.status.busy": "2022-02-15T11:35:10.290708Z",
     "iopub.status.idle": "2022-02-15T11:35:10.294278Z",
     "shell.execute_reply": "2022-02-15T11:35:10.293833Z"
    }
   },
   "outputs": [],
   "source": [
    "#model = keras.models.load_model(path_model1)\n",
    "# model_used = model"
   ]
  },
  {
   "cell_type": "code",
   "execution_count": 14,
   "metadata": {
    "collapsed": true,
    "execution": {
     "iopub.execute_input": "2022-02-15T11:35:10.299451Z",
     "iopub.status.busy": "2022-02-15T11:35:10.298930Z",
     "iopub.status.idle": "2022-02-15T11:35:10.301902Z",
     "shell.execute_reply": "2022-02-15T11:35:10.302319Z"
    },
    "jupyter": {
     "outputs_hidden": true
    },
    "tags": []
   },
   "outputs": [],
   "source": [
    "# evaluate_model(model,x_test,y_test,appliances)"
   ]
  },
  {
   "cell_type": "code",
   "execution_count": 15,
   "metadata": {
    "collapsed": true,
    "execution": {
     "iopub.execute_input": "2022-02-15T11:35:10.323306Z",
     "iopub.status.busy": "2022-02-15T11:35:10.305854Z",
     "iopub.status.idle": "2022-02-15T11:35:10.325833Z",
     "shell.execute_reply": "2022-02-15T11:35:10.326888Z"
    }
   },
   "outputs": [],
   "source": [
    "# datasets =[\n",
    "#     \"ukdale_gen_GASF_13m_100S5X12A54480_R82_80-20\"\n",
    "# ]\n",
    "\n",
    "if environ['train_type'] == \"TL\": \n",
    "    models = environ['tl_datasets'].replace(\" \",\"\").split(\",\")\n",
    "    #model = [\"base\"]\n",
    "    \n",
    "    for model in models:\n",
    "    \n",
    "        file_name = dataset\n",
    "        \n",
    "        datasetTL = model\n",
    "        \n",
    "        seed = dataset.split(\"_R\")[1][0:2]\n",
    "        \n",
    "        print(\"using dataset data\",dataset.split(\"_\")[0],\"training on model\",model,\"seed\",environ['seed'])\n",
    "        txt_log.write(\"starting \"+dataset.split(\"_\")[0]+\" training on model \"+model+\" seed \"+environ['seed']+\"\\n\")\n",
    "\n",
    "\n",
    "        tf.keras.backend.clear_session()\n",
    "\n",
    "\n",
    "        #read the file\n",
    "        path = str(pathlib.Path().resolve())\n",
    "        path_data = f\"{path}\"\"/data/\"f\"{file_name}\"\"/\"f\"{file_name}\"\".hdf5\"\n",
    "        file = h5py.File(path_data,\"r+\")\n",
    "\n",
    "\n",
    "        print(\"reading data, printing stats: \")\n",
    "        x_test,y_test,d_class_weights,num_of_classes,appliances = get_data(file)\n",
    "        print(\"loading model\")\n",
    "        \n",
    "        model_seed = 42\n",
    "        model_used = create_tl_model(model,environ['learn_type'],model_seed,path,num_of_classes)\n",
    "                \n",
    "        train_gen = HDF5ImageGenerator(\n",
    "            src= path_data,\n",
    "            X_key=\"data/train/gaf\",\n",
    "            y_key=\"labels/train/gaf\",\n",
    "            classes_key=\"appliances/classes\",\n",
    "            labels_encoding=\"hot\",\n",
    "            shuffle=True,\n",
    "            batch_size=int(environ['batch_size']),\n",
    "            num_classes=num_of_classes,\n",
    "            mode=\"train\",\n",
    "            )\n",
    "\n",
    "        model_used.fit(\n",
    "            train_gen,\n",
    "            verbose=2,\n",
    "            epochs=int(environ['epochs']),\n",
    "            class_weight=d_class_weights,\n",
    "            callbacks = [save_op_callback]\n",
    "            #workers = 6,\n",
    "        )\n",
    "        \n",
    "        txt_log.write(\"finished \"+dataset.split(\"_\")[0]+\" training on model \"+model+\" seed \"+environ['seed']+\"\\n\")\n",
    "\n",
    "\n",
    "        evaluate_model(model_used,x_test,y_test,appliances)\n",
    "        \n",
    "\n",
    "\n",
    "\n",
    "        #del model_used\n",
    "\n"
   ]
  },
  {
   "cell_type": "code",
   "execution_count": 16,
   "metadata": {
    "execution": {
     "iopub.execute_input": "2022-02-15T11:35:10.332600Z",
     "iopub.status.busy": "2022-02-15T11:35:10.331486Z",
     "iopub.status.idle": "2022-02-15T11:35:10.333909Z",
     "shell.execute_reply": "2022-02-15T11:35:10.334627Z"
    }
   },
   "outputs": [],
   "source": [
    "txt_log.close()"
   ]
  },
  {
   "cell_type": "code",
   "execution_count": null,
   "metadata": {},
   "outputs": [],
   "source": []
  }
 ],
 "metadata": {
  "colab": {
   "authorship_tag": "ABX9TyMej4PvP65qsLng7TnQKWA4",
   "name": "LSTM-gen",
   "provenance": []
  },
  "kernelspec": {
   "display_name": "Python 3 (ipykernel)",
   "language": "python",
   "name": "python3"
  },
  "language_info": {
   "codemirror_mode": {
    "name": "ipython",
    "version": 3
   },
   "file_extension": ".py",
   "mimetype": "text/x-python",
   "name": "python",
   "nbconvert_exporter": "python",
   "pygments_lexer": "ipython3",
   "version": "3.8.10"
  }
 },
 "nbformat": 4,
 "nbformat_minor": 4
}
