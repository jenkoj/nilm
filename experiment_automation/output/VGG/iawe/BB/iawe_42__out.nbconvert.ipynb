{
 "cells": [
  {
   "cell_type": "code",
   "execution_count": 1,
   "metadata": {
    "execution": {
     "iopub.execute_input": "2022-02-15T10:56:06.169328Z",
     "iopub.status.busy": "2022-02-15T10:56:06.167483Z",
     "iopub.status.idle": "2022-02-15T10:56:07.844291Z",
     "shell.execute_reply": "2022-02-15T10:56:07.844638Z"
    },
    "id": "WqUfHWgtJxtu",
    "scrolled": true,
    "tags": []
   },
   "outputs": [
    {
     "name": "stderr",
     "output_type": "stream",
     "text": [
      "2022-02-15 10:56:06.993530: I tensorflow/stream_executor/platform/default/dso_loader.cc:54] Successfully opened dynamic library libcudart.so.11.0\n"
     ]
    },
    {
     "name": "stdout",
     "output_type": "stream",
     "text": [
      "2.5.0\n",
      "Num GPUs Available:  1\n"
     ]
    },
    {
     "name": "stderr",
     "output_type": "stream",
     "text": [
      "2022-02-15 10:56:07.790932: I tensorflow/stream_executor/platform/default/dso_loader.cc:54] Successfully opened dynamic library libcuda.so.1\n",
      "2022-02-15 10:56:07.830552: I tensorflow/core/common_runtime/gpu/gpu_device.cc:1734] Found device 0 with properties: \n",
      "pciBusID: 0000:21:00.0 name: NVIDIA GeForce RTX 2080 Ti computeCapability: 7.5\n",
      "coreClock: 1.545GHz coreCount: 68 deviceMemorySize: 10.76GiB deviceMemoryBandwidth: 573.69GiB/s\n",
      "2022-02-15 10:56:07.830590: I tensorflow/stream_executor/platform/default/dso_loader.cc:54] Successfully opened dynamic library libcudart.so.11.0\n",
      "2022-02-15 10:56:07.834026: I tensorflow/stream_executor/platform/default/dso_loader.cc:54] Successfully opened dynamic library libcublas.so.11\n",
      "2022-02-15 10:56:07.834077: I tensorflow/stream_executor/platform/default/dso_loader.cc:54] Successfully opened dynamic library libcublasLt.so.11\n",
      "2022-02-15 10:56:07.835495: I tensorflow/stream_executor/platform/default/dso_loader.cc:54] Successfully opened dynamic library libcufft.so.10\n",
      "2022-02-15 10:56:07.835745: I tensorflow/stream_executor/platform/default/dso_loader.cc:54] Successfully opened dynamic library libcurand.so.10\n",
      "2022-02-15 10:56:07.836432: I tensorflow/stream_executor/platform/default/dso_loader.cc:54] Successfully opened dynamic library libcutensor.so.1\n",
      "2022-02-15 10:56:07.836939: I tensorflow/stream_executor/platform/default/dso_loader.cc:54] Successfully opened dynamic library libcusolver.so.11\n",
      "2022-02-15 10:56:07.837723: I tensorflow/stream_executor/platform/default/dso_loader.cc:54] Successfully opened dynamic library libcusparse.so.11\n",
      "2022-02-15 10:56:07.837848: I tensorflow/stream_executor/platform/default/dso_loader.cc:54] Successfully opened dynamic library libcudnn.so.8\n",
      "2022-02-15 10:56:07.838193: I tensorflow/core/common_runtime/gpu/gpu_device.cc:1872] Adding visible gpu devices: 0\n"
     ]
    }
   ],
   "source": [
    "import h5py\n",
    "import numpy as np\n",
    "\n",
    "from sklearn.model_selection import train_test_split\n",
    "from sklearn.metrics import classification_report, confusion_matrix\n",
    "import matplotlib.pyplot as plt\n",
    "import itertools \n",
    "import pyts\n",
    "from pyts.approximation import PiecewiseAggregateApproximation\n",
    "\n",
    "from sklearn.utils import class_weight\n",
    "\n",
    "import pathlib\n",
    "import tensorflow as tf\n",
    "from tensorflow import keras\n",
    "from tensorflow.keras import layers, optimizers\n",
    "from tensorflow.keras.layers import Convolution2D,Conv2D, Dense,Dropout, Flatten, Activation, MaxPooling2D, Input, Conv1D, GlobalAveragePooling1D, TimeDistributed, GRU, LSTM\n",
    "\n",
    "print(tf.__version__)\n",
    "print(\"Num GPUs Available: \", len(tf.config.list_physical_devices('GPU')))\n",
    "gpus = tf.config.experimental.list_physical_devices('GPU')\n",
    "\n",
    "try:\n",
    "    for gpu in gpus:\n",
    "        tf.config.experimental.set_memory_growth(gpu, True)\n",
    "except RuntimeError as e:\n",
    "    print(e)"
   ]
  },
  {
   "cell_type": "code",
   "execution_count": 2,
   "metadata": {
    "execution": {
     "iopub.execute_input": "2022-02-15T10:56:07.850735Z",
     "iopub.status.busy": "2022-02-15T10:56:07.850195Z",
     "iopub.status.idle": "2022-02-15T10:56:07.853894Z",
     "shell.execute_reply": "2022-02-15T10:56:07.854310Z"
    }
   },
   "outputs": [
    {
     "name": "stdout",
     "output_type": "stream",
     "text": [
      "iawe_gen_GASF_60m_300S0X_R42_80-20\n"
     ]
    }
   ],
   "source": [
    "from os import environ\n",
    "dataset = environ['dataset']\n",
    "print(dataset)"
   ]
  },
  {
   "cell_type": "code",
   "execution_count": 3,
   "metadata": {
    "execution": {
     "iopub.execute_input": "2022-02-15T10:56:07.862017Z",
     "iopub.status.busy": "2022-02-15T10:56:07.861307Z",
     "iopub.status.idle": "2022-02-15T10:56:07.867014Z",
     "shell.execute_reply": "2022-02-15T10:56:07.867574Z"
    }
   },
   "outputs": [],
   "source": [
    "#my defs \n",
    "from modules.models import  VGG11,LSTM_3D_V56,CNN_V56,LSTM_BI_V56\n",
    "from modules.tools import my_print, plot_confusion_matrix_norm, get_data,get_data_split, evaluate_model, create_tl_model\n",
    "from modules.HDF5ImageGenerator import HDF5ImageGenerator"
   ]
  },
  {
   "cell_type": "code",
   "execution_count": 4,
   "metadata": {
    "execution": {
     "iopub.execute_input": "2022-02-15T10:56:07.878765Z",
     "iopub.status.busy": "2022-02-15T10:56:07.877756Z",
     "iopub.status.idle": "2022-02-15T10:56:07.881308Z",
     "shell.execute_reply": "2022-02-15T10:56:07.882246Z"
    },
    "id": "RT1vwq7-KOtB"
   },
   "outputs": [],
   "source": [
    "#LOAD DATASET\n",
    "#file_name = \"ukdale_gen_GASF_13m_100S5X12A54480\"\n",
    "#file_name = \"refit_gen_GASF_13m_100S5X_15A166006\"\n",
    "file_name = \"refit_gen_GASF_13m_100S5X_15A166006_R42-80-20\"\n",
    "#file_name = \"refit_gen_GASF_13m_100S5X_15A166006_R42_80-20\"\n",
    "file_name = \"refit_gen_GASF_60m_300S0X_15A157030N_R12_80-20-V1\"\n",
    "file_name = environ[\"dataset\"]\n",
    "#read the file\n",
    "path = str(pathlib.Path().resolve())\n",
    "\n",
    "path_data = f\"{path}\"\"/data/\"f\"{file_name}\"\"/\"f\"{file_name}\"\".hdf5\"\n",
    "\n",
    "file = h5py.File(path_data,\"r+\")"
   ]
  },
  {
   "cell_type": "code",
   "execution_count": 5,
   "metadata": {
    "execution": {
     "iopub.execute_input": "2022-02-15T10:56:07.891053Z",
     "iopub.status.busy": "2022-02-15T10:56:07.889857Z",
     "iopub.status.idle": "2022-02-15T10:56:08.004486Z",
     "shell.execute_reply": "2022-02-15T10:56:08.004882Z"
    },
    "scrolled": true
   },
   "outputs": [
    {
     "name": "stdout",
     "output_type": "stream",
     "text": [
      "['air conditioner', 'computer', 'fridge', 'television']\n",
      "{0: 4.76595744680851, 1: 0.8265682656826568, 2: 0.43118383060635224, 3: 3.8290598290598292}\n",
      " \n",
      "Tests \n",
      "air conditioner test: 23 train: 94\n",
      "computer test: 136 train: 542\n",
      "fridge test: 260 train: 1039\n",
      "television test: 30 train: 117\n"
     ]
    }
   ],
   "source": [
    "x_test,y_test,d_class_weights,num_of_classes,appliances = get_data(file)"
   ]
  },
  {
   "cell_type": "code",
   "execution_count": 6,
   "metadata": {
    "execution": {
     "iopub.execute_input": "2022-02-15T10:56:08.012535Z",
     "iopub.status.busy": "2022-02-15T10:56:08.011212Z",
     "iopub.status.idle": "2022-02-15T10:56:08.013908Z",
     "shell.execute_reply": "2022-02-15T10:56:08.014951Z"
    }
   },
   "outputs": [],
   "source": [
    "def select_model(learn_type):\n",
    "    \n",
    "    if learn_type == \"CNN\":\n",
    "        model = CNN_V56(file[\"data/train/gaf\"][0:10],num_of_classes,lr= 0.00002)\n",
    "\n",
    "    if learn_type == \"LSTM\":\n",
    "        model = LSTM_3D_V56(file[\"data/train/gaf\"][0:10],num_of_classes,lr= 0.00002)\n",
    "\n",
    "    if learn_type == \"BI_LSTM\":\n",
    "        model = LSTM_BI_V56(file[\"data/train/gaf\"][0:10],num_of_classes,lr= 0.00002)\n",
    "        \n",
    "    if learn_type == \"VGG\":\n",
    "        model = VGG11(file[\"data/train/gaf\"][0:10],num_of_classes,lr= 0.00001)\n",
    "\n",
    "    return model\n",
    "              "
   ]
  },
  {
   "cell_type": "code",
   "execution_count": 7,
   "metadata": {
    "execution": {
     "iopub.execute_input": "2022-02-15T10:56:08.021346Z",
     "iopub.status.busy": "2022-02-15T10:56:08.020038Z",
     "iopub.status.idle": "2022-02-15T10:56:08.022630Z",
     "shell.execute_reply": "2022-02-15T10:56:08.023602Z"
    }
   },
   "outputs": [],
   "source": [
    "path_save = path+'/experiment_automation/output/'+environ['learn_type']+'/'+dataset.split(\"_\")[0]+\"/\"+environ['train_type']+\"/\"+dataset.split(\"_\")[0]+\"_\"+environ['seed']+\"_\"+environ['tl_datasets']\n",
    "path_save_nb = path_save+\"_out.ipynb\"\n",
    "path_save_log = path_save+\"_out_log2.txt\""
   ]
  },
  {
   "cell_type": "code",
   "execution_count": 8,
   "metadata": {
    "execution": {
     "iopub.execute_input": "2022-02-15T10:56:08.030778Z",
     "iopub.status.busy": "2022-02-15T10:56:08.029550Z",
     "iopub.status.idle": "2022-02-15T10:56:08.113996Z",
     "shell.execute_reply": "2022-02-15T10:56:08.112967Z"
    }
   },
   "outputs": [],
   "source": [
    "from keras.callbacks import LambdaCallback\n",
    "#path_log= path+'/experiment_automation/output/'+environ['learn_type']+'/'+dataset.split(\"_\")[0]+\"/\"+environ['train_type']+\"/\"+dataset.split(\"_\")[0]+\"_\"+environ['seed']+\"_\"+environ['tl_datasets']+\"_log.txt\"\n",
    "txt_log = open(path_save+\"_log.txt\", mode='wt', buffering=1)\n",
    "txt_log.write(\"file created! \\n\")\n",
    "\n",
    "save_op_callback = LambdaCallback(\n",
    "  on_epoch_end = lambda epoch, logs: txt_log.write(\n",
    "    str({'epoch': epoch, 'loss': logs['loss'],'acc': logs['accuracy']}) + '\\n'),\n",
    "                                                           \n",
    ")"
   ]
  },
  {
   "cell_type": "code",
   "execution_count": 9,
   "metadata": {
    "execution": {
     "iopub.execute_input": "2022-02-15T10:56:08.119601Z",
     "iopub.status.busy": "2022-02-15T10:56:08.118428Z",
     "iopub.status.idle": "2022-02-15T10:56:08.123293Z",
     "shell.execute_reply": "2022-02-15T10:56:08.122332Z"
    }
   },
   "outputs": [
    {
     "name": "stdout",
     "output_type": "stream",
     "text": [
      "/workspace/notebooks/experiment_automation/output/VGG/iawe/BB/iawe_42__out.ipynb\n"
     ]
    }
   ],
   "source": [
    "print(path_save_nb)"
   ]
  },
  {
   "cell_type": "code",
   "execution_count": 10,
   "metadata": {
    "execution": {
     "iopub.execute_input": "2022-02-15T10:56:08.128475Z",
     "iopub.status.busy": "2022-02-15T10:56:08.127364Z",
     "iopub.status.idle": "2022-02-15T10:56:08.129655Z",
     "shell.execute_reply": "2022-02-15T10:56:08.130554Z"
    }
   },
   "outputs": [],
   "source": [
    "# rm $path_save_log"
   ]
  },
  {
   "cell_type": "code",
   "execution_count": 11,
   "metadata": {
    "execution": {
     "iopub.execute_input": "2022-02-15T10:56:08.135558Z",
     "iopub.status.busy": "2022-02-15T10:56:08.134654Z",
     "iopub.status.idle": "2022-02-15T10:56:08.137649Z",
     "shell.execute_reply": "2022-02-15T10:56:08.136859Z"
    }
   },
   "outputs": [],
   "source": [
    "# %%capture cap \n",
    "\n",
    "# with open(path_save_log,\"wt\") as f:\n",
    "#     f.write(cap.stdout)\n",
    "    \n",
    "# print(\"out capture..\")"
   ]
  },
  {
   "cell_type": "code",
   "execution_count": 12,
   "metadata": {
    "execution": {
     "iopub.execute_input": "2022-02-15T10:56:08.153203Z",
     "iopub.status.busy": "2022-02-15T10:56:08.151936Z",
     "iopub.status.idle": "2022-02-15T11:15:33.190961Z",
     "shell.execute_reply": "2022-02-15T11:15:33.191944Z"
    },
    "id": "vqA9NwOqKrb5",
    "jupyter": {
     "outputs_hidden": true
    },
    "tags": []
   },
   "outputs": [
    {
     "name": "stdout",
     "output_type": "stream",
     "text": [
      "Normal way\n",
      "[0 1 2 3 4 5 6 7 8 9]\n",
      "WARNING:tensorflow:From /usr/local/lib/python3.8/dist-packages/tensorflow/python/ops/array_ops.py:5043: calling gather (from tensorflow.python.ops.array_ops) with validate_indices is deprecated and will be removed in a future version.\n",
      "Instructions for updating:\n",
      "The `validate_indices` argument has no effect. Indices are always validated on CPU and never validated on GPU.\n"
     ]
    },
    {
     "name": "stderr",
     "output_type": "stream",
     "text": [
      "2022-02-15 10:56:08.171762: I tensorflow/core/common_runtime/gpu/gpu_device.cc:1734] Found device 0 with properties: \n",
      "pciBusID: 0000:21:00.0 name: NVIDIA GeForce RTX 2080 Ti computeCapability: 7.5\n",
      "coreClock: 1.545GHz coreCount: 68 deviceMemorySize: 10.76GiB deviceMemoryBandwidth: 573.69GiB/s\n",
      "2022-02-15 10:56:08.172111: I tensorflow/core/common_runtime/gpu/gpu_device.cc:1872] Adding visible gpu devices: 0\n",
      "2022-02-15 10:56:08.172163: I tensorflow/stream_executor/platform/default/dso_loader.cc:54] Successfully opened dynamic library libcudart.so.11.0\n",
      "2022-02-15 10:56:08.529659: I tensorflow/core/common_runtime/gpu/gpu_device.cc:1258] Device interconnect StreamExecutor with strength 1 edge matrix:\n",
      "2022-02-15 10:56:08.529694: I tensorflow/core/common_runtime/gpu/gpu_device.cc:1264]      0 \n",
      "2022-02-15 10:56:08.529701: I tensorflow/core/common_runtime/gpu/gpu_device.cc:1277] 0:   N \n",
      "2022-02-15 10:56:08.530273: I tensorflow/core/common_runtime/gpu/gpu_device.cc:1418] Created TensorFlow device (/job:localhost/replica:0/task:0/device:GPU:0 with 9649 MB memory) -> physical GPU (device: 0, name: NVIDIA GeForce RTX 2080 Ti, pci bus id: 0000:21:00.0, compute capability: 7.5)\n",
      "2022-02-15 10:56:08.530598: I tensorflow/core/common_runtime/process_util.cc:146] Creating new thread pool with default inter op setting: 20. Tune using inter_op_parallelism_threads for best performance.\n",
      "/usr/local/lib/python3.8/dist-packages/tensorflow/python/keras/optimizer_v2/optimizer_v2.py:374: UserWarning: The `lr` argument is deprecated, use `learning_rate` instead.\n",
      "  warnings.warn(\n",
      "2022-02-15 10:56:08.712151: I tensorflow/compiler/mlir/mlir_graph_optimization_pass.cc:176] None of the MLIR Optimization Passes are enabled (registered 2)\n",
      "2022-02-15 10:56:08.712772: I tensorflow/core/platform/profile_utils/cpu_utils.cc:114] CPU Frequency: 3299990000 Hz\n"
     ]
    },
    {
     "name": "stdout",
     "output_type": "stream",
     "text": [
      "Epoch 1/100\n"
     ]
    },
    {
     "name": "stderr",
     "output_type": "stream",
     "text": [
      "2022-02-15 10:56:09.319079: I tensorflow/stream_executor/platform/default/dso_loader.cc:54] Successfully opened dynamic library libcudnn.so.8\n",
      "2022-02-15 10:56:09.828322: I tensorflow/stream_executor/cuda/cuda_dnn.cc:380] Loaded cuDNN version 8202\n",
      "2022-02-15 10:56:10.365863: I tensorflow/stream_executor/platform/default/dso_loader.cc:54] Successfully opened dynamic library libcublas.so.11\n",
      "2022-02-15 10:56:10.780918: I tensorflow/stream_executor/platform/default/dso_loader.cc:54] Successfully opened dynamic library libcublasLt.so.11\n"
     ]
    },
    {
     "name": "stdout",
     "output_type": "stream",
     "text": [
      "56/56 - 16s - loss: 2.5442 - accuracy: 0.1362\n",
      "Epoch 2/100\n",
      "56/56 - 11s - loss: 1.3703 - accuracy: 0.0910\n",
      "Epoch 3/100\n",
      "56/56 - 11s - loss: 1.2542 - accuracy: 0.1211\n",
      "Epoch 4/100\n",
      "56/56 - 12s - loss: 1.2020 - accuracy: 0.1585\n",
      "Epoch 5/100\n",
      "56/56 - 12s - loss: 1.0806 - accuracy: 0.2567\n",
      "Epoch 6/100\n",
      "56/56 - 12s - loss: 1.0615 - accuracy: 0.3571\n",
      "Epoch 7/100\n",
      "56/56 - 12s - loss: 1.1724 - accuracy: 0.2985\n",
      "Epoch 8/100\n",
      "56/56 - 12s - loss: 1.1444 - accuracy: 0.3069\n",
      "Epoch 9/100\n",
      "56/56 - 12s - loss: 1.1017 - accuracy: 0.4252\n",
      "Epoch 10/100\n",
      "56/56 - 12s - loss: 1.1924 - accuracy: 0.2729\n",
      "Epoch 11/100\n",
      "56/56 - 12s - loss: 1.1440 - accuracy: 0.2773\n",
      "Epoch 12/100\n",
      "56/56 - 12s - loss: 0.9683 - accuracy: 0.6016\n",
      "Epoch 13/100\n",
      "56/56 - 12s - loss: 1.0903 - accuracy: 0.4911\n",
      "Epoch 14/100\n",
      "56/56 - 12s - loss: 1.2908 - accuracy: 0.2600\n",
      "Epoch 15/100\n",
      "56/56 - 12s - loss: 1.1516 - accuracy: 0.2740\n",
      "Epoch 16/100\n",
      "56/56 - 12s - loss: 1.0101 - accuracy: 0.3934\n",
      "Epoch 17/100\n",
      "56/56 - 12s - loss: 0.9168 - accuracy: 0.6323\n",
      "Epoch 18/100\n",
      "56/56 - 11s - loss: 0.9358 - accuracy: 0.5078\n",
      "Epoch 19/100\n",
      "56/56 - 12s - loss: 0.9953 - accuracy: 0.3627\n",
      "Epoch 20/100\n",
      "56/56 - 11s - loss: 0.8807 - accuracy: 0.4894\n",
      "Epoch 21/100\n",
      "56/56 - 12s - loss: 0.7810 - accuracy: 0.7305\n",
      "Epoch 22/100\n",
      "56/56 - 11s - loss: 0.5422 - accuracy: 0.8605\n",
      "Epoch 23/100\n",
      "56/56 - 12s - loss: 0.6090 - accuracy: 0.7439\n",
      "Epoch 24/100\n",
      "56/56 - 11s - loss: 0.7179 - accuracy: 0.6161\n",
      "Epoch 25/100\n",
      "56/56 - 12s - loss: 0.4905 - accuracy: 0.7506\n",
      "Epoch 26/100\n",
      "56/56 - 11s - loss: 0.5171 - accuracy: 0.8248\n",
      "Epoch 27/100\n",
      "56/56 - 12s - loss: 0.4690 - accuracy: 0.7946\n",
      "Epoch 28/100\n",
      "56/56 - 11s - loss: 0.3061 - accuracy: 0.8929\n",
      "Epoch 29/100\n",
      "56/56 - 12s - loss: 0.3210 - accuracy: 0.8811\n",
      "Epoch 30/100\n",
      "56/56 - 11s - loss: 0.2106 - accuracy: 0.9102\n",
      "Epoch 31/100\n",
      "56/56 - 12s - loss: 0.2787 - accuracy: 0.8304\n",
      "Epoch 32/100\n",
      "56/56 - 12s - loss: 0.4557 - accuracy: 0.8331\n",
      "Epoch 33/100\n",
      "56/56 - 11s - loss: 0.4904 - accuracy: 0.7874\n",
      "Epoch 34/100\n",
      "56/56 - 12s - loss: 0.3038 - accuracy: 0.8878\n",
      "Epoch 35/100\n",
      "56/56 - 11s - loss: 0.5054 - accuracy: 0.8147\n",
      "Epoch 36/100\n",
      "56/56 - 12s - loss: 0.3086 - accuracy: 0.8131\n",
      "Epoch 37/100\n",
      "56/56 - 11s - loss: 0.3221 - accuracy: 0.8220\n",
      "Epoch 38/100\n",
      "56/56 - 11s - loss: 0.2953 - accuracy: 0.8884\n",
      "Epoch 39/100\n",
      "56/56 - 12s - loss: 0.1945 - accuracy: 0.9258\n",
      "Epoch 40/100\n",
      "56/56 - 11s - loss: 0.1377 - accuracy: 0.9369\n",
      "Epoch 41/100\n",
      "56/56 - 11s - loss: 0.1273 - accuracy: 0.9475\n",
      "Epoch 42/100\n",
      "56/56 - 12s - loss: 0.1052 - accuracy: 0.9570\n",
      "Epoch 43/100\n",
      "56/56 - 11s - loss: 0.0970 - accuracy: 0.9537\n",
      "Epoch 44/100\n",
      "56/56 - 11s - loss: 0.0803 - accuracy: 0.9704\n",
      "Epoch 45/100\n",
      "56/56 - 12s - loss: 0.0714 - accuracy: 0.9693\n",
      "Epoch 46/100\n",
      "56/56 - 11s - loss: 0.0638 - accuracy: 0.9754\n",
      "Epoch 47/100\n",
      "56/56 - 11s - loss: 0.0522 - accuracy: 0.9794\n",
      "Epoch 48/100\n",
      "56/56 - 12s - loss: 0.0759 - accuracy: 0.9542\n",
      "Epoch 49/100\n",
      "56/56 - 11s - loss: 0.1873 - accuracy: 0.8945\n",
      "Epoch 50/100\n",
      "56/56 - 11s - loss: 0.0829 - accuracy: 0.9676\n",
      "Epoch 51/100\n",
      "56/56 - 12s - loss: 0.0589 - accuracy: 0.9771\n",
      "Epoch 52/100\n",
      "56/56 - 11s - loss: 0.0429 - accuracy: 0.9827\n",
      "Epoch 53/100\n",
      "56/56 - 11s - loss: 0.0375 - accuracy: 0.9816\n",
      "Epoch 54/100\n",
      "56/56 - 12s - loss: 0.0303 - accuracy: 0.9894\n",
      "Epoch 55/100\n",
      "56/56 - 11s - loss: 0.0288 - accuracy: 0.9888\n",
      "Epoch 56/100\n",
      "56/56 - 11s - loss: 0.0220 - accuracy: 0.9922\n",
      "Epoch 57/100\n",
      "56/56 - 12s - loss: 0.0195 - accuracy: 0.9933\n",
      "Epoch 58/100\n",
      "56/56 - 12s - loss: 0.5093 - accuracy: 0.8119\n",
      "Epoch 59/100\n",
      "56/56 - 11s - loss: 0.7400 - accuracy: 0.6205\n",
      "Epoch 60/100\n",
      "56/56 - 12s - loss: 0.3710 - accuracy: 0.8404\n",
      "Epoch 61/100\n",
      "56/56 - 11s - loss: 0.5230 - accuracy: 0.6864\n",
      "Epoch 62/100\n",
      "56/56 - 11s - loss: 0.3205 - accuracy: 0.8421\n",
      "Epoch 63/100\n",
      "56/56 - 11s - loss: 0.1305 - accuracy: 0.9263\n",
      "Epoch 64/100\n",
      "56/56 - 12s - loss: 0.0734 - accuracy: 0.9654\n",
      "Epoch 65/100\n",
      "56/56 - 12s - loss: 0.0563 - accuracy: 0.9738\n",
      "Epoch 66/100\n",
      "56/56 - 11s - loss: 0.0416 - accuracy: 0.9821\n",
      "Epoch 67/100\n",
      "56/56 - 12s - loss: 0.0353 - accuracy: 0.9827\n",
      "Epoch 68/100\n",
      "56/56 - 11s - loss: 0.3134 - accuracy: 0.7651\n",
      "Epoch 69/100\n",
      "56/56 - 11s - loss: 0.4080 - accuracy: 0.8650\n",
      "Epoch 70/100\n",
      "56/56 - 11s - loss: 0.0997 - accuracy: 0.9520\n",
      "Epoch 71/100\n",
      "56/56 - 12s - loss: 0.0691 - accuracy: 0.9621\n",
      "Epoch 72/100\n",
      "56/56 - 11s - loss: 0.0515 - accuracy: 0.9777\n",
      "Epoch 73/100\n",
      "56/56 - 11s - loss: 0.0392 - accuracy: 0.9821\n",
      "Epoch 74/100\n",
      "56/56 - 11s - loss: 0.0310 - accuracy: 0.9838\n",
      "Epoch 75/100\n",
      "56/56 - 12s - loss: 0.0275 - accuracy: 0.9883\n",
      "Epoch 76/100\n",
      "56/56 - 12s - loss: 0.0223 - accuracy: 0.9900\n",
      "Epoch 77/100\n",
      "56/56 - 11s - loss: 0.0234 - accuracy: 0.9883\n",
      "Epoch 78/100\n",
      "56/56 - 11s - loss: 0.0189 - accuracy: 0.9911\n",
      "Epoch 79/100\n",
      "56/56 - 12s - loss: 0.0189 - accuracy: 0.9911\n",
      "Epoch 80/100\n",
      "56/56 - 11s - loss: 0.0171 - accuracy: 0.9911\n",
      "Epoch 81/100\n",
      "56/56 - 11s - loss: 0.0147 - accuracy: 0.9911\n",
      "Epoch 82/100\n",
      "56/56 - 11s - loss: 0.0117 - accuracy: 0.9950\n",
      "Epoch 83/100\n",
      "56/56 - 11s - loss: 0.0097 - accuracy: 0.9961\n",
      "Epoch 84/100\n",
      "56/56 - 12s - loss: 0.0094 - accuracy: 0.9955\n",
      "Epoch 85/100\n",
      "56/56 - 12s - loss: 0.0092 - accuracy: 0.9955\n",
      "Epoch 86/100\n",
      "56/56 - 11s - loss: 0.0093 - accuracy: 0.9967\n",
      "Epoch 87/100\n",
      "56/56 - 11s - loss: 0.0070 - accuracy: 0.9967\n",
      "Epoch 88/100\n",
      "56/56 - 11s - loss: 0.0068 - accuracy: 0.9967\n",
      "Epoch 89/100\n",
      "56/56 - 11s - loss: 0.0095 - accuracy: 0.9967\n",
      "Epoch 90/100\n",
      "56/56 - 11s - loss: 0.0056 - accuracy: 0.9972\n",
      "Epoch 91/100\n",
      "56/56 - 11s - loss: 0.0076 - accuracy: 0.9950\n",
      "Epoch 92/100\n",
      "56/56 - 11s - loss: 0.0072 - accuracy: 0.9967\n",
      "Epoch 93/100\n",
      "56/56 - 11s - loss: 0.0080 - accuracy: 0.9955\n",
      "Epoch 94/100\n",
      "56/56 - 11s - loss: 0.0046 - accuracy: 0.9978\n",
      "Epoch 95/100\n",
      "56/56 - 11s - loss: 0.0072 - accuracy: 0.9950\n",
      "Epoch 96/100\n",
      "56/56 - 11s - loss: 0.0075 - accuracy: 0.9972\n",
      "Epoch 97/100\n",
      "56/56 - 11s - loss: 0.0067 - accuracy: 0.9961\n",
      "Epoch 98/100\n",
      "56/56 - 11s - loss: 0.0040 - accuracy: 0.9967\n",
      "Epoch 99/100\n",
      "56/56 - 11s - loss: 0.0035 - accuracy: 0.9989\n",
      "Epoch 100/100\n",
      "56/56 - 11s - loss: 0.0102 - accuracy: 0.9944\n",
      "15/15 - 1s\n",
      "Normalized confusion matrix\n",
      "                 precision    recall  f1-score   support\n",
      "\n",
      "air conditioner       1.00      0.91      0.95        23\n",
      "       computer       0.94      0.97      0.96       136\n",
      "         fridge       0.97      0.95      0.96       260\n",
      "     television       0.76      0.87      0.81        30\n",
      "\n",
      "       accuracy                           0.95       449\n",
      "      macro avg       0.92      0.92      0.92       449\n",
      "   weighted avg       0.95      0.95      0.95       449\n",
      "\n"
     ]
    },
    {
     "name": "stderr",
     "output_type": "stream",
     "text": [
      "2022-02-15 11:15:28.751096: W tensorflow/python/util/util.cc:348] Sets are not currently considered sequences, but this may change in the future, so consider avoiding using them.\n"
     ]
    },
    {
     "name": "stdout",
     "output_type": "stream",
     "text": [
      "INFO:tensorflow:Assets written to: /workspace/notebooks/models/VGG/iawe_42/assets\n"
     ]
    },
    {
     "data": {
      "image/png": "[encoded data removed]",
      "text/plain": [
       "<Figure size 720x720 with 2 Axes>"
      ]
     },
     "metadata": {
      "needs_background": "light"
     },
     "output_type": "display_data"
    }
   ],
   "source": [
    "# %%capture cap --no-stderr\n",
    "\n",
    "\n",
    "if environ['train_type'] == \"BB\":\n",
    "\n",
    "    #define generator\n",
    "    train_gen = HDF5ImageGenerator(\n",
    "        src= path_data,\n",
    "        X_key=\"data/train/gaf\",\n",
    "        y_key=\"labels/train/gaf\",\n",
    "        classes_key=\"appliances/classes\",\n",
    "        labels_encoding=\"hot\",\n",
    "        shuffle=True,\n",
    "        batch_size=int(environ['batch_size']),\n",
    "        num_classes=num_of_classes,\n",
    "        mode=\"train\",\n",
    "        )\n",
    "    \n",
    "    model = select_model(environ['learn_type'])\n",
    "    \n",
    "    txt_log.write(\"fitting BB model: \\n\")\n",
    "    \n",
    "    model.fit(\n",
    "        train_gen,\n",
    "        verbose=2,\n",
    "        epochs=int(environ['epochs']),\n",
    "        class_weight=d_class_weights,\n",
    "        callbacks = [save_op_callback],\n",
    "    )\n",
    "    \n",
    "    txt_log.write(\"finished fitting BB model: \\n\")\n",
    "\n",
    "    evaluate_model(model,x_test,y_test,appliances)\n",
    "    \n",
    "    if environ['save_model']==\"True\":\n",
    "\n",
    "        path_model_save = path+\"/models/\"+environ['learn_type']+\"/\"+dataset.split(\"_\")[0]+\"_\"+dataset.split(\"_R\")[1][0:2]\n",
    "        model.save(path_model_save)\n",
    "        txt_log.write(\"model saved to:\"+\"/models/\"+environ['learn_type']+\"/\"+dataset.split(\"_\")[0]+\"_\"+dataset.split(\"_R\")[1][0:2]+\" \\n\")\n",
    "        \n",
    "        \n",
    "# with open(path_save+\"_out_log.txt\" as f:\n",
    "#     f.write(cap.stdout)\n"
   ]
  },
  {
   "cell_type": "code",
   "execution_count": 13,
   "metadata": {
    "collapsed": true,
    "execution": {
     "iopub.execute_input": "2022-02-15T11:15:33.197416Z",
     "iopub.status.busy": "2022-02-15T11:15:33.196239Z",
     "iopub.status.idle": "2022-02-15T11:15:33.198675Z",
     "shell.execute_reply": "2022-02-15T11:15:33.199647Z"
    }
   },
   "outputs": [],
   "source": [
    "#model = keras.models.load_model(path_model1)\n",
    "# model_used = model"
   ]
  },
  {
   "cell_type": "code",
   "execution_count": 14,
   "metadata": {
    "collapsed": true,
    "execution": {
     "iopub.execute_input": "2022-02-15T11:15:33.205007Z",
     "iopub.status.busy": "2022-02-15T11:15:33.203816Z",
     "iopub.status.idle": "2022-02-15T11:15:33.206295Z",
     "shell.execute_reply": "2022-02-15T11:15:33.207270Z"
    },
    "jupyter": {
     "outputs_hidden": true
    },
    "tags": []
   },
   "outputs": [],
   "source": [
    "# evaluate_model(model,x_test,y_test,appliances)"
   ]
  },
  {
   "cell_type": "code",
   "execution_count": 15,
   "metadata": {
    "collapsed": true,
    "execution": {
     "iopub.execute_input": "2022-02-15T11:15:33.225581Z",
     "iopub.status.busy": "2022-02-15T11:15:33.224304Z",
     "iopub.status.idle": "2022-02-15T11:15:33.226882Z",
     "shell.execute_reply": "2022-02-15T11:15:33.227855Z"
    }
   },
   "outputs": [],
   "source": [
    "# datasets =[\n",
    "#     \"ukdale_gen_GASF_13m_100S5X12A54480_R82_80-20\"\n",
    "# ]\n",
    "\n",
    "if environ['train_type'] == \"TL\": \n",
    "    models = environ['tl_datasets'].replace(\" \",\"\").split(\",\")\n",
    "    #model = [\"base\"]\n",
    "    \n",
    "    for model in models:\n",
    "    \n",
    "        file_name = dataset\n",
    "        \n",
    "        datasetTL = model\n",
    "        \n",
    "        seed = dataset.split(\"_R\")[1][0:2]\n",
    "        \n",
    "        print(\"using dataset data\",dataset.split(\"_\")[0],\"training on model\",model,\"seed\",environ['seed'])\n",
    "        txt_log.write(\"starting \"+dataset.split(\"_\")[0]+\" training on model \"+model+\" seed \"+environ['seed']+\"\\n\")\n",
    "\n",
    "\n",
    "        tf.keras.backend.clear_session()\n",
    "\n",
    "\n",
    "        #read the file\n",
    "        path = str(pathlib.Path().resolve())\n",
    "        path_data = f\"{path}\"\"/data/\"f\"{file_name}\"\"/\"f\"{file_name}\"\".hdf5\"\n",
    "        file = h5py.File(path_data,\"r+\")\n",
    "\n",
    "\n",
    "        print(\"reading data, printing stats: \")\n",
    "        x_test,y_test,d_class_weights,num_of_classes,appliances = get_data(file)\n",
    "        print(\"loading model\")\n",
    "        \n",
    "        model_seed = 42\n",
    "        model_used = create_tl_model(model,environ['learn_type'],model_seed,path,num_of_classes)\n",
    "                \n",
    "        train_gen = HDF5ImageGenerator(\n",
    "            src= path_data,\n",
    "            X_key=\"data/train/gaf\",\n",
    "            y_key=\"labels/train/gaf\",\n",
    "            classes_key=\"appliances/classes\",\n",
    "            labels_encoding=\"hot\",\n",
    "            shuffle=True,\n",
    "            batch_size=int(environ['batch_size']),\n",
    "            num_classes=num_of_classes,\n",
    "            mode=\"train\",\n",
    "            )\n",
    "\n",
    "        model_used.fit(\n",
    "            train_gen,\n",
    "            verbose=2,\n",
    "            epochs=int(environ['epochs']),\n",
    "            class_weight=d_class_weights,\n",
    "            callbacks = [save_op_callback]\n",
    "            #workers = 6,\n",
    "        )\n",
    "        \n",
    "        txt_log.write(\"finished \"+dataset.split(\"_\")[0]+\" training on model \"+model+\" seed \"+environ['seed']+\"\\n\")\n",
    "\n",
    "\n",
    "        evaluate_model(model_used,x_test,y_test,appliances)\n",
    "        \n",
    "\n",
    "\n",
    "\n",
    "        #del model_used\n",
    "\n"
   ]
  },
  {
   "cell_type": "code",
   "execution_count": 16,
   "metadata": {
    "execution": {
     "iopub.execute_input": "2022-02-15T11:15:33.233703Z",
     "iopub.status.busy": "2022-02-15T11:15:33.232527Z",
     "iopub.status.idle": "2022-02-15T11:15:33.234940Z",
     "shell.execute_reply": "2022-02-15T11:15:33.235861Z"
    }
   },
   "outputs": [],
   "source": [
    "txt_log.close()"
   ]
  },
  {
   "cell_type": "code",
   "execution_count": null,
   "metadata": {},
   "outputs": [],
   "source": []
  }
 ],
 "metadata": {
  "colab": {
   "authorship_tag": "ABX9TyMej4PvP65qsLng7TnQKWA4",
   "name": "LSTM-gen",
   "provenance": []
  },
  "kernelspec": {
   "display_name": "Python 3 (ipykernel)",
   "language": "python",
   "name": "python3"
  },
  "language_info": {
   "codemirror_mode": {
    "name": "ipython",
    "version": 3
   },
   "file_extension": ".py",
   "mimetype": "text/x-python",
   "name": "python",
   "nbconvert_exporter": "python",
   "pygments_lexer": "ipython3",
   "version": "3.8.10"
  }
 },
 "nbformat": 4,
 "nbformat_minor": 4
}
