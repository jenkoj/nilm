{
 "cells": [
  {
   "cell_type": "code",
   "execution_count": 1,
   "metadata": {
    "execution": {
     "iopub.execute_input": "2022-02-17T02:26:16.794442Z",
     "iopub.status.busy": "2022-02-17T02:26:16.793005Z",
     "iopub.status.idle": "2022-02-17T02:26:20.482584Z",
     "shell.execute_reply": "2022-02-17T02:26:20.481262Z"
    },
    "id": "WqUfHWgtJxtu",
    "scrolled": true,
    "tags": []
   },
   "outputs": [
    {
     "name": "stderr",
     "output_type": "stream",
     "text": [
      "2022-02-17 02:26:18.179964: I tensorflow/stream_executor/platform/default/dso_loader.cc:54] Successfully opened dynamic library libcudart.so.11.0\n"
     ]
    },
    {
     "name": "stdout",
     "output_type": "stream",
     "text": [
      "2.5.0\n",
      "Num GPUs Available:  1\n"
     ]
    },
    {
     "name": "stderr",
     "output_type": "stream",
     "text": [
      "2022-02-17 02:26:20.376022: I tensorflow/stream_executor/platform/default/dso_loader.cc:54] Successfully opened dynamic library libcuda.so.1\n",
      "2022-02-17 02:26:20.424037: I tensorflow/core/common_runtime/gpu/gpu_device.cc:1734] Found device 0 with properties: \n",
      "pciBusID: 0000:21:00.0 name: NVIDIA GeForce RTX 2080 Ti computeCapability: 7.5\n",
      "coreClock: 1.545GHz coreCount: 68 deviceMemorySize: 10.76GiB deviceMemoryBandwidth: 573.69GiB/s\n",
      "2022-02-17 02:26:20.424084: I tensorflow/stream_executor/platform/default/dso_loader.cc:54] Successfully opened dynamic library libcudart.so.11.0\n",
      "2022-02-17 02:26:20.438345: I tensorflow/stream_executor/platform/default/dso_loader.cc:54] Successfully opened dynamic library libcublas.so.11\n",
      "2022-02-17 02:26:20.438403: I tensorflow/stream_executor/platform/default/dso_loader.cc:54] Successfully opened dynamic library libcublasLt.so.11\n",
      "2022-02-17 02:26:20.445148: I tensorflow/stream_executor/platform/default/dso_loader.cc:54] Successfully opened dynamic library libcufft.so.10\n",
      "2022-02-17 02:26:20.447080: I tensorflow/stream_executor/platform/default/dso_loader.cc:54] Successfully opened dynamic library libcurand.so.10\n",
      "2022-02-17 02:26:20.464161: I tensorflow/stream_executor/platform/default/dso_loader.cc:54] Successfully opened dynamic library libcutensor.so.1\n",
      "2022-02-17 02:26:20.466711: I tensorflow/stream_executor/platform/default/dso_loader.cc:54] Successfully opened dynamic library libcusolver.so.11\n",
      "2022-02-17 02:26:20.471215: I tensorflow/stream_executor/platform/default/dso_loader.cc:54] Successfully opened dynamic library libcusparse.so.11\n",
      "2022-02-17 02:26:20.471938: I tensorflow/stream_executor/platform/default/dso_loader.cc:54] Successfully opened dynamic library libcudnn.so.8\n",
      "2022-02-17 02:26:20.472537: I tensorflow/core/common_runtime/gpu/gpu_device.cc:1872] Adding visible gpu devices: 0\n"
     ]
    }
   ],
   "source": [
    "import h5py\n",
    "import numpy as np\n",
    "\n",
    "from sklearn.model_selection import train_test_split\n",
    "from sklearn.metrics import classification_report, confusion_matrix\n",
    "import matplotlib.pyplot as plt\n",
    "import itertools \n",
    "import pyts\n",
    "from pyts.approximation import PiecewiseAggregateApproximation\n",
    "\n",
    "from sklearn.utils import class_weight\n",
    "\n",
    "import pathlib\n",
    "import tensorflow as tf\n",
    "from tensorflow import keras\n",
    "from tensorflow.keras import layers, optimizers\n",
    "from tensorflow.keras.layers import Convolution2D,Conv2D, Dense,Dropout, Flatten, Activation, MaxPooling2D, Input, Conv1D, GlobalAveragePooling1D, TimeDistributed, GRU, LSTM\n",
    "\n",
    "print(tf.__version__)\n",
    "print(\"Num GPUs Available: \", len(tf.config.list_physical_devices('GPU')))\n",
    "gpus = tf.config.experimental.list_physical_devices('GPU')\n",
    "\n",
    "try:\n",
    "    for gpu in gpus:\n",
    "        tf.config.experimental.set_memory_growth(gpu, True)\n",
    "except RuntimeError as e:\n",
    "    print(e)"
   ]
  },
  {
   "cell_type": "code",
   "execution_count": 2,
   "metadata": {
    "execution": {
     "iopub.execute_input": "2022-02-17T02:26:20.488971Z",
     "iopub.status.busy": "2022-02-17T02:26:20.487627Z",
     "iopub.status.idle": "2022-02-17T02:26:20.492779Z",
     "shell.execute_reply": "2022-02-17T02:26:20.491958Z"
    }
   },
   "outputs": [
    {
     "name": "stdout",
     "output_type": "stream",
     "text": [
      "ukdale_gen_GASF_60m_300S0X_R82_80-20\n"
     ]
    }
   ],
   "source": [
    "from os import environ\n",
    "dataset = environ['dataset']\n",
    "print(dataset)"
   ]
  },
  {
   "cell_type": "code",
   "execution_count": 3,
   "metadata": {
    "execution": {
     "iopub.execute_input": "2022-02-17T02:26:20.500642Z",
     "iopub.status.busy": "2022-02-17T02:26:20.499769Z",
     "iopub.status.idle": "2022-02-17T02:26:20.504885Z",
     "shell.execute_reply": "2022-02-17T02:26:20.504167Z"
    }
   },
   "outputs": [],
   "source": [
    "#my defs \n",
    "from modules.models import  VGG11,LSTM_3D_V56,CNN_V56,LSTM_BI_V56\n",
    "from modules.tools import my_print, plot_confusion_matrix_norm, get_data,get_data_split, evaluate_model, create_tl_model\n",
    "from modules.HDF5ImageGenerator import HDF5ImageGenerator"
   ]
  },
  {
   "cell_type": "code",
   "execution_count": 4,
   "metadata": {
    "execution": {
     "iopub.execute_input": "2022-02-17T02:26:20.516151Z",
     "iopub.status.busy": "2022-02-17T02:26:20.514908Z",
     "iopub.status.idle": "2022-02-17T02:26:20.517441Z",
     "shell.execute_reply": "2022-02-17T02:26:20.518416Z"
    },
    "id": "RT1vwq7-KOtB"
   },
   "outputs": [],
   "source": [
    "#LOAD DATASET\n",
    "#file_name = \"ukdale_gen_GASF_13m_100S5X12A54480\"\n",
    "#file_name = \"refit_gen_GASF_13m_100S5X_15A166006\"\n",
    "file_name = \"refit_gen_GASF_13m_100S5X_15A166006_R42-80-20\"\n",
    "#file_name = \"refit_gen_GASF_13m_100S5X_15A166006_R42_80-20\"\n",
    "file_name = \"refit_gen_GASF_60m_300S0X_15A157030N_R12_80-20-V1\"\n",
    "file_name = environ[\"dataset\"]\n",
    "#read the file\n",
    "path = str(pathlib.Path().resolve())\n",
    "\n",
    "path_data = f\"{path}\"\"/data/\"f\"{file_name}\"\"/\"f\"{file_name}\"\".hdf5\"\n",
    "\n",
    "file = h5py.File(path_data,\"r+\")"
   ]
  },
  {
   "cell_type": "code",
   "execution_count": 5,
   "metadata": {
    "execution": {
     "iopub.execute_input": "2022-02-17T02:26:20.525868Z",
     "iopub.status.busy": "2022-02-17T02:26:20.524678Z",
     "iopub.status.idle": "2022-02-17T02:26:27.816156Z",
     "shell.execute_reply": "2022-02-17T02:26:27.817241Z"
    },
    "scrolled": true
   },
   "outputs": [
    {
     "name": "stdout",
     "output_type": "stream",
     "text": [
      "['HEKA', 'fridge/freezer', 'HTPC', 'boiler', 'computer monitor', 'desktop computer', 'laptop computer', 'light', 'microwave', 'server computer', 'television', 'washer dryer']\n",
      "{0: 0.7055908662900189, 1: 0.49534787638406874, 2: 1.3009331597222222, 3: 0.9557266755946687, 4: 1.19482978553775, 5: 1.6470766018243763, 6: 0.9269963505907095, 7: 1.3009331597222222, 8: 0.9261370658756644, 9: 3.0130176919983915, 10: 0.7942103868574457, 11: 1.2711407972858355}\n",
      " \n",
      "Tests \n",
      "HEKA test: 1770 train: 7080\n",
      "fridge/freezer test: 2522 train: 10085\n",
      "HTPC test: 960 train: 3840\n",
      "boiler test: 1307 train: 5227\n",
      "computer monitor test: 1045 train: 4181\n",
      "desktop computer test: 758 train: 3033\n",
      "laptop computer test: 1347 train: 5389\n",
      "light test: 960 train: 3840\n",
      "microwave test: 1348 train: 5394\n",
      "server computer test: 415 train: 1658\n",
      "television test: 1572 train: 6290\n",
      "washer dryer test: 983 train: 3930\n"
     ]
    }
   ],
   "source": [
    "x_test,y_test,d_class_weights,num_of_classes,appliances = get_data(file)"
   ]
  },
  {
   "cell_type": "code",
   "execution_count": 6,
   "metadata": {
    "execution": {
     "iopub.execute_input": "2022-02-17T02:26:27.825493Z",
     "iopub.status.busy": "2022-02-17T02:26:27.824015Z",
     "iopub.status.idle": "2022-02-17T02:26:27.827809Z",
     "shell.execute_reply": "2022-02-17T02:26:27.826697Z"
    }
   },
   "outputs": [],
   "source": [
    "def select_model(learn_type):\n",
    "    \n",
    "    if learn_type == \"CNN\":\n",
    "        model = CNN_V56(file[\"data/train/gaf\"][0:10],num_of_classes,lr= 0.00002)\n",
    "\n",
    "    if learn_type == \"LSTM\":\n",
    "        model = LSTM_3D_V56(file[\"data/train/gaf\"][0:10],num_of_classes,lr= 0.00002)\n",
    "\n",
    "    if learn_type == \"BI_LSTM\":\n",
    "        model = LSTM_BI_V56(file[\"data/train/gaf\"][0:10],num_of_classes,lr= 0.00002)\n",
    "        \n",
    "    if learn_type == \"VGG\":\n",
    "        model = VGG11(file[\"data/train/gaf\"][0:10],num_of_classes,lr= 0.00001)\n",
    "\n",
    "    return model\n",
    "              "
   ]
  },
  {
   "cell_type": "code",
   "execution_count": 7,
   "metadata": {
    "execution": {
     "iopub.execute_input": "2022-02-17T02:26:27.837311Z",
     "iopub.status.busy": "2022-02-17T02:26:27.836586Z",
     "iopub.status.idle": "2022-02-17T02:26:27.840236Z",
     "shell.execute_reply": "2022-02-17T02:26:27.839605Z"
    }
   },
   "outputs": [],
   "source": [
    "path_save = path+'/experiment_automation/output/'+environ['learn_type']+'/'+dataset.split(\"_\")[0]+\"/\"+environ['train_type']+\"/\"+dataset.split(\"_\")[0]+\"_\"+environ['seed']+\"_\"+environ['tl_datasets']\n",
    "path_save_nb = path_save+\"_out.ipynb\"\n",
    "path_save_log = path_save+\"_out_log2.txt\""
   ]
  },
  {
   "cell_type": "code",
   "execution_count": 8,
   "metadata": {
    "execution": {
     "iopub.execute_input": "2022-02-17T02:26:27.849748Z",
     "iopub.status.busy": "2022-02-17T02:26:27.848769Z",
     "iopub.status.idle": "2022-02-17T02:26:28.033991Z",
     "shell.execute_reply": "2022-02-17T02:26:28.035009Z"
    }
   },
   "outputs": [],
   "source": [
    "from keras.callbacks import LambdaCallback\n",
    "#path_log= path+'/experiment_automation/output/'+environ['learn_type']+'/'+dataset.split(\"_\")[0]+\"/\"+environ['train_type']+\"/\"+dataset.split(\"_\")[0]+\"_\"+environ['seed']+\"_\"+environ['tl_datasets']+\"_log.txt\"\n",
    "txt_log = open(path_save+\"_log.txt\", mode='wt', buffering=1)\n",
    "txt_log.write(\"file created! \\n\")\n",
    "\n",
    "save_op_callback = LambdaCallback(\n",
    "  on_epoch_end = lambda epoch, logs: txt_log.write(\n",
    "    str({'epoch': epoch, 'loss': logs['loss'],'acc': logs['accuracy']}) + '\\n'),\n",
    "                                                           \n",
    ")"
   ]
  },
  {
   "cell_type": "code",
   "execution_count": 9,
   "metadata": {
    "execution": {
     "iopub.execute_input": "2022-02-17T02:26:28.041041Z",
     "iopub.status.busy": "2022-02-17T02:26:28.039793Z",
     "iopub.status.idle": "2022-02-17T02:26:28.045121Z",
     "shell.execute_reply": "2022-02-17T02:26:28.044051Z"
    }
   },
   "outputs": [
    {
     "name": "stdout",
     "output_type": "stream",
     "text": [
      "/workspace/notebooks/experiment_automation/output/VGG/ukdale/BB/ukdale_82__out.ipynb\n"
     ]
    }
   ],
   "source": [
    "print(path_save_nb)"
   ]
  },
  {
   "cell_type": "code",
   "execution_count": 10,
   "metadata": {
    "execution": {
     "iopub.execute_input": "2022-02-17T02:26:28.050224Z",
     "iopub.status.busy": "2022-02-17T02:26:28.049213Z",
     "iopub.status.idle": "2022-02-17T02:26:28.051293Z",
     "shell.execute_reply": "2022-02-17T02:26:28.052271Z"
    }
   },
   "outputs": [],
   "source": [
    "# rm $path_save_log"
   ]
  },
  {
   "cell_type": "code",
   "execution_count": 11,
   "metadata": {
    "execution": {
     "iopub.execute_input": "2022-02-17T02:26:28.057546Z",
     "iopub.status.busy": "2022-02-17T02:26:28.056442Z",
     "iopub.status.idle": "2022-02-17T02:26:28.058897Z",
     "shell.execute_reply": "2022-02-17T02:26:28.059795Z"
    }
   },
   "outputs": [],
   "source": [
    "# %%capture cap \n",
    "\n",
    "# with open(path_save_log,\"wt\") as f:\n",
    "#     f.write(cap.stdout)\n",
    "    \n",
    "# print(\"out capture..\")"
   ]
  },
  {
   "cell_type": "code",
   "execution_count": 12,
   "metadata": {
    "execution": {
     "iopub.execute_input": "2022-02-17T02:26:28.075664Z",
     "iopub.status.busy": "2022-02-17T02:26:28.068577Z",
     "iopub.status.idle": "2022-02-17T13:04:30.865418Z",
     "shell.execute_reply": "2022-02-17T13:04:30.866457Z"
    },
    "id": "vqA9NwOqKrb5",
    "jupyter": {
     "outputs_hidden": true
    },
    "tags": []
   },
   "outputs": [
    {
     "name": "stdout",
     "output_type": "stream",
     "text": [
      "Normal way\n",
      "[0 1 2 3 4 5 6 7 8 9]\n",
      "WARNING:tensorflow:From /usr/local/lib/python3.8/dist-packages/tensorflow/python/ops/array_ops.py:5043: calling gather (from tensorflow.python.ops.array_ops) with validate_indices is deprecated and will be removed in a future version.\n",
      "Instructions for updating:\n",
      "The `validate_indices` argument has no effect. Indices are always validated on CPU and never validated on GPU.\n"
     ]
    },
    {
     "name": "stderr",
     "output_type": "stream",
     "text": [
      "2022-02-17 02:26:28.100333: I tensorflow/core/common_runtime/gpu/gpu_device.cc:1734] Found device 0 with properties: \n",
      "pciBusID: 0000:21:00.0 name: NVIDIA GeForce RTX 2080 Ti computeCapability: 7.5\n",
      "coreClock: 1.545GHz coreCount: 68 deviceMemorySize: 10.76GiB deviceMemoryBandwidth: 573.69GiB/s\n",
      "2022-02-17 02:26:28.100701: I tensorflow/core/common_runtime/gpu/gpu_device.cc:1872] Adding visible gpu devices: 0\n",
      "2022-02-17 02:26:28.101044: I tensorflow/stream_executor/platform/default/dso_loader.cc:54] Successfully opened dynamic library libcudart.so.11.0\n",
      "2022-02-17 02:26:28.962610: I tensorflow/core/common_runtime/gpu/gpu_device.cc:1258] Device interconnect StreamExecutor with strength 1 edge matrix:\n",
      "2022-02-17 02:26:28.962644: I tensorflow/core/common_runtime/gpu/gpu_device.cc:1264]      0 \n",
      "2022-02-17 02:26:28.962670: I tensorflow/core/common_runtime/gpu/gpu_device.cc:1277] 0:   N \n",
      "2022-02-17 02:26:28.963237: I tensorflow/core/common_runtime/gpu/gpu_device.cc:1418] Created TensorFlow device (/job:localhost/replica:0/task:0/device:GPU:0 with 9649 MB memory) -> physical GPU (device: 0, name: NVIDIA GeForce RTX 2080 Ti, pci bus id: 0000:21:00.0, compute capability: 7.5)\n",
      "2022-02-17 02:26:28.964399: I tensorflow/core/common_runtime/process_util.cc:146] Creating new thread pool with default inter op setting: 20. Tune using inter_op_parallelism_threads for best performance.\n",
      "/usr/local/lib/python3.8/dist-packages/tensorflow/python/keras/optimizer_v2/optimizer_v2.py:374: UserWarning: The `lr` argument is deprecated, use `learning_rate` instead.\n",
      "  warnings.warn(\n",
      "2022-02-17 02:26:29.162170: I tensorflow/compiler/mlir/mlir_graph_optimization_pass.cc:176] None of the MLIR Optimization Passes are enabled (registered 2)\n"
     ]
    },
    {
     "name": "stdout",
     "output_type": "stream",
     "text": [
      "Epoch 1/100\n"
     ]
    },
    {
     "name": "stderr",
     "output_type": "stream",
     "text": [
      "2022-02-17 02:26:29.180648: I tensorflow/core/platform/profile_utils/cpu_utils.cc:114] CPU Frequency: 3299990000 Hz\n",
      "2022-02-17 02:26:29.858667: I tensorflow/stream_executor/platform/default/dso_loader.cc:54] Successfully opened dynamic library libcudnn.so.8\n",
      "2022-02-17 02:26:30.622966: I tensorflow/stream_executor/cuda/cuda_dnn.cc:380] Loaded cuDNN version 8202\n",
      "2022-02-17 02:26:31.551537: I tensorflow/stream_executor/platform/default/dso_loader.cc:54] Successfully opened dynamic library libcublas.so.11\n",
      "2022-02-17 02:26:32.309044: I tensorflow/stream_executor/platform/default/dso_loader.cc:54] Successfully opened dynamic library libcublasLt.so.11\n"
     ]
    },
    {
     "name": "stdout",
     "output_type": "stream",
     "text": [
      "1874/1874 - 387s - loss: 1.7742 - accuracy: 0.4363\n",
      "Epoch 2/100\n",
      "1874/1874 - 382s - loss: 1.0587 - accuracy: 0.6853\n",
      "Epoch 3/100\n",
      "1874/1874 - 383s - loss: 0.7244 - accuracy: 0.7791\n",
      "Epoch 4/100\n",
      "1874/1874 - 384s - loss: 0.5879 - accuracy: 0.8155\n",
      "Epoch 5/100\n",
      "1874/1874 - 384s - loss: 0.4987 - accuracy: 0.8401\n",
      "Epoch 6/100\n",
      "1874/1874 - 382s - loss: 0.4281 - accuracy: 0.8628\n",
      "Epoch 7/100\n",
      "1874/1874 - 382s - loss: 0.3706 - accuracy: 0.8794\n",
      "Epoch 8/100\n",
      "1874/1874 - 383s - loss: 0.3253 - accuracy: 0.8919\n",
      "Epoch 9/100\n",
      "1874/1874 - 384s - loss: 0.2844 - accuracy: 0.9065\n",
      "Epoch 10/100\n",
      "1874/1874 - 382s - loss: 0.2498 - accuracy: 0.9157\n",
      "Epoch 11/100\n",
      "1874/1874 - 381s - loss: 0.2305 - accuracy: 0.9236\n",
      "Epoch 12/100\n",
      "1874/1874 - 382s - loss: 0.1997 - accuracy: 0.9343\n",
      "Epoch 13/100\n",
      "1874/1874 - 382s - loss: 0.1688 - accuracy: 0.9431\n",
      "Epoch 14/100\n",
      "1874/1874 - 383s - loss: 0.1601 - accuracy: 0.9467\n",
      "Epoch 15/100\n",
      "1874/1874 - 384s - loss: 0.1414 - accuracy: 0.9521\n",
      "Epoch 16/100\n",
      "1874/1874 - 384s - loss: 0.1207 - accuracy: 0.9597\n",
      "Epoch 17/100\n",
      "1874/1874 - 383s - loss: 0.1090 - accuracy: 0.9631\n",
      "Epoch 18/100\n",
      "1874/1874 - 383s - loss: 0.1055 - accuracy: 0.9638\n",
      "Epoch 19/100\n",
      "1874/1874 - 382s - loss: 0.0938 - accuracy: 0.9683\n",
      "Epoch 20/100\n",
      "1874/1874 - 382s - loss: 0.0847 - accuracy: 0.9715\n",
      "Epoch 21/100\n",
      "1874/1874 - 383s - loss: 0.0797 - accuracy: 0.9725\n",
      "Epoch 22/100\n",
      "1874/1874 - 384s - loss: 0.0777 - accuracy: 0.9737\n",
      "Epoch 23/100\n",
      "1874/1874 - 384s - loss: 0.0684 - accuracy: 0.9763\n",
      "Epoch 24/100\n",
      "1874/1874 - 384s - loss: 0.0619 - accuracy: 0.9784\n",
      "Epoch 25/100\n",
      "1874/1874 - 383s - loss: 0.0680 - accuracy: 0.9773\n",
      "Epoch 26/100\n",
      "1874/1874 - 383s - loss: 0.0556 - accuracy: 0.9810\n",
      "Epoch 27/100\n",
      "1874/1874 - 384s - loss: 0.0525 - accuracy: 0.9815\n",
      "Epoch 28/100\n",
      "1874/1874 - 384s - loss: 0.0532 - accuracy: 0.9820\n",
      "Epoch 29/100\n",
      "1874/1874 - 384s - loss: 0.0545 - accuracy: 0.9820\n",
      "Epoch 30/100\n",
      "1874/1874 - 383s - loss: 0.0457 - accuracy: 0.9845\n",
      "Epoch 31/100\n",
      "1874/1874 - 382s - loss: 0.0461 - accuracy: 0.9841\n",
      "Epoch 32/100\n",
      "1874/1874 - 382s - loss: 0.0443 - accuracy: 0.9852\n",
      "Epoch 33/100\n",
      "1874/1874 - 383s - loss: 0.0436 - accuracy: 0.9849\n",
      "Epoch 34/100\n",
      "1874/1874 - 383s - loss: 0.0402 - accuracy: 0.9859\n",
      "Epoch 35/100\n",
      "1874/1874 - 382s - loss: 0.0388 - accuracy: 0.9865\n",
      "Epoch 36/100\n",
      "1874/1874 - 382s - loss: 0.0374 - accuracy: 0.9876\n",
      "Epoch 37/100\n",
      "1874/1874 - 382s - loss: 0.0380 - accuracy: 0.9873\n",
      "Epoch 38/100\n",
      "1874/1874 - 382s - loss: 0.0372 - accuracy: 0.9880\n",
      "Epoch 39/100\n",
      "1874/1874 - 382s - loss: 0.0327 - accuracy: 0.9883\n",
      "Epoch 40/100\n",
      "1874/1874 - 384s - loss: 0.0360 - accuracy: 0.9881\n",
      "Epoch 41/100\n",
      "1874/1874 - 382s - loss: 0.0301 - accuracy: 0.9895\n",
      "Epoch 42/100\n",
      "1874/1874 - 381s - loss: 0.0309 - accuracy: 0.9896\n",
      "Epoch 43/100\n",
      "1874/1874 - 382s - loss: 0.0316 - accuracy: 0.9892\n",
      "Epoch 44/100\n",
      "1874/1874 - 381s - loss: 0.0252 - accuracy: 0.9915\n",
      "Epoch 45/100\n",
      "1874/1874 - 382s - loss: 0.0338 - accuracy: 0.9886\n",
      "Epoch 46/100\n",
      "1874/1874 - 381s - loss: 0.0310 - accuracy: 0.9904\n",
      "Epoch 47/100\n",
      "1874/1874 - 383s - loss: 0.0273 - accuracy: 0.9911\n",
      "Epoch 48/100\n",
      "1874/1874 - 384s - loss: 0.0247 - accuracy: 0.9911\n",
      "Epoch 49/100\n",
      "1874/1874 - 381s - loss: 0.0271 - accuracy: 0.9908\n",
      "Epoch 50/100\n",
      "1874/1874 - 381s - loss: 0.0248 - accuracy: 0.9915\n",
      "Epoch 51/100\n",
      "1874/1874 - 382s - loss: 0.0262 - accuracy: 0.9912\n",
      "Epoch 52/100\n",
      "1874/1874 - 381s - loss: 0.0224 - accuracy: 0.9925\n",
      "Epoch 53/100\n",
      "1874/1874 - 382s - loss: 0.0236 - accuracy: 0.9917\n",
      "Epoch 54/100\n",
      "1874/1874 - 382s - loss: 0.0238 - accuracy: 0.9917\n",
      "Epoch 55/100\n",
      "1874/1874 - 382s - loss: 0.0202 - accuracy: 0.9934\n",
      "Epoch 56/100\n",
      "1874/1874 - 381s - loss: 0.0212 - accuracy: 0.9929\n",
      "Epoch 57/100\n",
      "1874/1874 - 382s - loss: 0.0245 - accuracy: 0.9915\n",
      "Epoch 58/100\n",
      "1874/1874 - 383s - loss: 0.0187 - accuracy: 0.9936\n",
      "Epoch 59/100\n",
      "1874/1874 - 383s - loss: 0.0234 - accuracy: 0.9920\n",
      "Epoch 60/100\n",
      "1874/1874 - 382s - loss: 0.0176 - accuracy: 0.9939\n",
      "Epoch 61/100\n",
      "1874/1874 - 381s - loss: 0.0187 - accuracy: 0.9935\n",
      "Epoch 62/100\n",
      "1874/1874 - 382s - loss: 0.0207 - accuracy: 0.9934\n",
      "Epoch 63/100\n",
      "1874/1874 - 382s - loss: 0.0171 - accuracy: 0.9941\n",
      "Epoch 64/100\n",
      "1874/1874 - 382s - loss: 0.0211 - accuracy: 0.9929\n",
      "Epoch 65/100\n",
      "1874/1874 - 383s - loss: 0.0179 - accuracy: 0.9934\n",
      "Epoch 66/100\n",
      "1874/1874 - 383s - loss: 0.0171 - accuracy: 0.9942\n",
      "Epoch 67/100\n",
      "1874/1874 - 382s - loss: 0.0187 - accuracy: 0.9934\n",
      "Epoch 68/100\n",
      "1874/1874 - 383s - loss: 0.0184 - accuracy: 0.9939\n",
      "Epoch 69/100\n",
      "1874/1874 - 382s - loss: 0.0148 - accuracy: 0.9946\n",
      "Epoch 70/100\n",
      "1874/1874 - 383s - loss: 0.0171 - accuracy: 0.9944\n",
      "Epoch 71/100\n",
      "1874/1874 - 383s - loss: 0.0222 - accuracy: 0.9921\n",
      "Epoch 72/100\n",
      "1874/1874 - 383s - loss: 0.0131 - accuracy: 0.9952\n",
      "Epoch 73/100\n",
      "1874/1874 - 382s - loss: 0.0176 - accuracy: 0.9940\n",
      "Epoch 74/100\n",
      "1874/1874 - 382s - loss: 0.0158 - accuracy: 0.9944\n",
      "Epoch 75/100\n",
      "1874/1874 - 381s - loss: 0.0155 - accuracy: 0.9943\n",
      "Epoch 76/100\n",
      "1874/1874 - 382s - loss: 0.0144 - accuracy: 0.9951\n",
      "Epoch 77/100\n",
      "1874/1874 - 383s - loss: 0.0154 - accuracy: 0.9948\n",
      "Epoch 78/100\n",
      "1874/1874 - 382s - loss: 0.0143 - accuracy: 0.9948\n",
      "Epoch 79/100\n",
      "1874/1874 - 381s - loss: 0.0152 - accuracy: 0.9949\n",
      "Epoch 80/100\n",
      "1874/1874 - 381s - loss: 0.0166 - accuracy: 0.9942\n",
      "Epoch 81/100\n",
      "1874/1874 - 382s - loss: 0.0136 - accuracy: 0.9952\n",
      "Epoch 82/100\n",
      "1874/1874 - 383s - loss: 0.0138 - accuracy: 0.9950\n",
      "Epoch 83/100\n",
      "1874/1874 - 382s - loss: 0.0143 - accuracy: 0.9951\n",
      "Epoch 84/100\n",
      "1874/1874 - 382s - loss: 0.0123 - accuracy: 0.9954\n",
      "Epoch 85/100\n",
      "1874/1874 - 384s - loss: 0.0169 - accuracy: 0.9946\n",
      "Epoch 86/100\n",
      "1874/1874 - 381s - loss: 0.0110 - accuracy: 0.9960\n",
      "Epoch 87/100\n",
      "1874/1874 - 382s - loss: 0.0160 - accuracy: 0.9945\n",
      "Epoch 88/100\n",
      "1874/1874 - 382s - loss: 0.0130 - accuracy: 0.9956\n",
      "Epoch 89/100\n",
      "1874/1874 - 382s - loss: 0.0131 - accuracy: 0.9956\n",
      "Epoch 90/100\n",
      "1874/1874 - 382s - loss: 0.0129 - accuracy: 0.9956\n",
      "Epoch 91/100\n",
      "1874/1874 - 382s - loss: 0.0107 - accuracy: 0.9960\n",
      "Epoch 92/100\n",
      "1874/1874 - 383s - loss: 0.0142 - accuracy: 0.9953\n",
      "Epoch 93/100\n",
      "1874/1874 - 383s - loss: 0.0135 - accuracy: 0.9955\n",
      "Epoch 94/100\n",
      "1874/1874 - 383s - loss: 0.0121 - accuracy: 0.9956\n",
      "Epoch 95/100\n",
      "1874/1874 - 382s - loss: 0.0124 - accuracy: 0.9959\n",
      "Epoch 96/100\n",
      "1874/1874 - 382s - loss: 0.0124 - accuracy: 0.9961\n",
      "Epoch 97/100\n",
      "1874/1874 - 381s - loss: 0.0095 - accuracy: 0.9963\n",
      "Epoch 98/100\n",
      "1874/1874 - 382s - loss: 0.0127 - accuracy: 0.9955\n",
      "Epoch 99/100\n",
      "1874/1874 - 381s - loss: 0.0106 - accuracy: 0.9961\n",
      "Epoch 100/100\n",
      "1874/1874 - 381s - loss: 0.0157 - accuracy: 0.9947\n",
      "469/469 - 27s\n",
      "Normalized confusion matrix\n",
      "                  precision    recall  f1-score   support\n",
      "\n",
      "            HEKA       0.86      0.95      0.90      1770\n",
      "  fridge/freezer       0.96      0.96      0.96      2522\n",
      "            HTPC       0.76      0.79      0.77       960\n",
      "          boiler       0.89      0.92      0.90      1307\n",
      "computer monitor       0.67      0.76      0.71      1045\n",
      "desktop computer       0.83      0.68      0.75       758\n",
      " laptop computer       0.91      0.91      0.91      1347\n",
      "           light       0.94      0.76      0.84       960\n",
      "       microwave       0.88      0.88      0.88      1348\n",
      " server computer       0.96      0.95      0.96       415\n",
      "      television       0.82      0.79      0.80      1572\n",
      "    washer dryer       0.92      0.91      0.92       983\n",
      "\n",
      "        accuracy                           0.87     14987\n",
      "       macro avg       0.87      0.85      0.86     14987\n",
      "    weighted avg       0.87      0.87      0.87     14987\n",
      "\n"
     ]
    },
    {
     "name": "stderr",
     "output_type": "stream",
     "text": [
      "2022-02-17 13:04:26.665987: W tensorflow/python/util/util.cc:348] Sets are not currently considered sequences, but this may change in the future, so consider avoiding using them.\n"
     ]
    },
    {
     "name": "stdout",
     "output_type": "stream",
     "text": [
      "INFO:tensorflow:Assets written to: /workspace/notebooks/models/VGG/ukdale_82/assets\n"
     ]
    },
    {
     "data": {
      "image/png": "[encoded data removed]",
      "text/plain": [
       "<Figure size 720x720 with 2 Axes>"
      ]
     },
     "metadata": {
      "needs_background": "light"
     },
     "output_type": "display_data"
    }
   ],
   "source": [
    "# %%capture cap --no-stderr\n",
    "\n",
    "\n",
    "if environ['train_type'] == \"BB\":\n",
    "\n",
    "    #define generator\n",
    "    train_gen = HDF5ImageGenerator(\n",
    "        src= path_data,\n",
    "        X_key=\"data/train/gaf\",\n",
    "        y_key=\"labels/train/gaf\",\n",
    "        classes_key=\"appliances/classes\",\n",
    "        labels_encoding=\"hot\",\n",
    "        shuffle=True,\n",
    "        batch_size=int(environ['batch_size']),\n",
    "        num_classes=num_of_classes,\n",
    "        mode=\"train\",\n",
    "        )\n",
    "    \n",
    "    model = select_model(environ['learn_type'])\n",
    "    \n",
    "    txt_log.write(\"fitting BB model: \\n\")\n",
    "    \n",
    "    model.fit(\n",
    "        train_gen,\n",
    "        verbose=2,\n",
    "        epochs=int(environ['epochs']),\n",
    "        class_weight=d_class_weights,\n",
    "        callbacks = [save_op_callback],\n",
    "    )\n",
    "    \n",
    "    txt_log.write(\"finished fitting BB model: \\n\")\n",
    "\n",
    "    evaluate_model(model,x_test,y_test,appliances)\n",
    "    \n",
    "    if environ['save_model']==\"True\":\n",
    "\n",
    "        path_model_save = path+\"/models/\"+environ['learn_type']+\"/\"+dataset.split(\"_\")[0]+\"_\"+dataset.split(\"_R\")[1][0:2]\n",
    "        model.save(path_model_save)\n",
    "        txt_log.write(\"model saved to:\"+\"/models/\"+environ['learn_type']+\"/\"+dataset.split(\"_\")[0]+\"_\"+dataset.split(\"_R\")[1][0:2]+\" \\n\")\n",
    "        \n",
    "        \n",
    "# with open(path_save+\"_out_log.txt\" as f:\n",
    "#     f.write(cap.stdout)\n"
   ]
  },
  {
   "cell_type": "code",
   "execution_count": 13,
   "metadata": {
    "collapsed": true,
    "execution": {
     "iopub.execute_input": "2022-02-17T13:04:30.871406Z",
     "iopub.status.busy": "2022-02-17T13:04:30.870215Z",
     "iopub.status.idle": "2022-02-17T13:04:30.872699Z",
     "shell.execute_reply": "2022-02-17T13:04:30.873530Z"
    }
   },
   "outputs": [],
   "source": [
    "#model = keras.models.load_model(path_model1)\n",
    "# model_used = model"
   ]
  },
  {
   "cell_type": "code",
   "execution_count": 14,
   "metadata": {
    "collapsed": true,
    "execution": {
     "iopub.execute_input": "2022-02-17T13:04:30.878077Z",
     "iopub.status.busy": "2022-02-17T13:04:30.877119Z",
     "iopub.status.idle": "2022-02-17T13:04:30.879111Z",
     "shell.execute_reply": "2022-02-17T13:04:30.879904Z"
    },
    "jupyter": {
     "outputs_hidden": true
    },
    "tags": []
   },
   "outputs": [],
   "source": [
    "# evaluate_model(model,x_test,y_test,appliances)"
   ]
  },
  {
   "cell_type": "code",
   "execution_count": 15,
   "metadata": {
    "collapsed": true,
    "execution": {
     "iopub.execute_input": "2022-02-17T13:04:30.897560Z",
     "iopub.status.busy": "2022-02-17T13:04:30.896279Z",
     "iopub.status.idle": "2022-02-17T13:04:30.898840Z",
     "shell.execute_reply": "2022-02-17T13:04:30.899817Z"
    }
   },
   "outputs": [],
   "source": [
    "# datasets =[\n",
    "#     \"ukdale_gen_GASF_13m_100S5X12A54480_R82_80-20\"\n",
    "# ]\n",
    "\n",
    "if environ['train_type'] == \"TL\": \n",
    "    models = environ['tl_datasets'].replace(\" \",\"\").split(\",\")\n",
    "    #model = [\"base\"]\n",
    "    \n",
    "    for model in models:\n",
    "    \n",
    "        file_name = dataset\n",
    "        \n",
    "        datasetTL = model\n",
    "        \n",
    "        seed = dataset.split(\"_R\")[1][0:2]\n",
    "        \n",
    "        print(\"using dataset data\",dataset.split(\"_\")[0],\"training on model\",model,\"seed\",environ['seed'])\n",
    "        txt_log.write(\"starting \"+dataset.split(\"_\")[0]+\" training on model \"+model+\" seed \"+environ['seed']+\"\\n\")\n",
    "\n",
    "\n",
    "        tf.keras.backend.clear_session()\n",
    "\n",
    "\n",
    "        #read the file\n",
    "        path = str(pathlib.Path().resolve())\n",
    "        path_data = f\"{path}\"\"/data/\"f\"{file_name}\"\"/\"f\"{file_name}\"\".hdf5\"\n",
    "        file = h5py.File(path_data,\"r+\")\n",
    "\n",
    "\n",
    "        print(\"reading data, printing stats: \")\n",
    "        x_test,y_test,d_class_weights,num_of_classes,appliances = get_data(file)\n",
    "        print(\"loading model\")\n",
    "        \n",
    "        model_seed = 42\n",
    "        model_used = create_tl_model(model,environ['learn_type'],model_seed,path,num_of_classes)\n",
    "                \n",
    "        train_gen = HDF5ImageGenerator(\n",
    "            src= path_data,\n",
    "            X_key=\"data/train/gaf\",\n",
    "            y_key=\"labels/train/gaf\",\n",
    "            classes_key=\"appliances/classes\",\n",
    "            labels_encoding=\"hot\",\n",
    "            shuffle=True,\n",
    "            batch_size=int(environ['batch_size']),\n",
    "            num_classes=num_of_classes,\n",
    "            mode=\"train\",\n",
    "            )\n",
    "\n",
    "        model_used.fit(\n",
    "            train_gen,\n",
    "            verbose=2,\n",
    "            epochs=int(environ['epochs']),\n",
    "            class_weight=d_class_weights,\n",
    "            callbacks = [save_op_callback]\n",
    "            #workers = 6,\n",
    "        )\n",
    "        \n",
    "        txt_log.write(\"finished \"+dataset.split(\"_\")[0]+\" training on model \"+model+\" seed \"+environ['seed']+\"\\n\")\n",
    "\n",
    "\n",
    "        evaluate_model(model_used,x_test,y_test,appliances)\n",
    "        \n",
    "\n",
    "\n",
    "\n",
    "        #del model_used\n",
    "\n"
   ]
  },
  {
   "cell_type": "code",
   "execution_count": 16,
   "metadata": {
    "execution": {
     "iopub.execute_input": "2022-02-17T13:04:30.904991Z",
     "iopub.status.busy": "2022-02-17T13:04:30.903794Z",
     "iopub.status.idle": "2022-02-17T13:04:30.906363Z",
     "shell.execute_reply": "2022-02-17T13:04:30.907332Z"
    }
   },
   "outputs": [],
   "source": [
    "txt_log.close()"
   ]
  },
  {
   "cell_type": "code",
   "execution_count": null,
   "metadata": {},
   "outputs": [],
   "source": []
  }
 ],
 "metadata": {
  "colab": {
   "authorship_tag": "ABX9TyMej4PvP65qsLng7TnQKWA4",
   "name": "LSTM-gen",
   "provenance": []
  },
  "kernelspec": {
   "display_name": "Python 3 (ipykernel)",
   "language": "python",
   "name": "python3"
  },
  "language_info": {
   "codemirror_mode": {
    "name": "ipython",
    "version": 3
   },
   "file_extension": ".py",
   "mimetype": "text/x-python",
   "name": "python",
   "nbconvert_exporter": "python",
   "pygments_lexer": "ipython3",
   "version": "3.8.10"
  }
 },
 "nbformat": 4,
 "nbformat_minor": 4
}
